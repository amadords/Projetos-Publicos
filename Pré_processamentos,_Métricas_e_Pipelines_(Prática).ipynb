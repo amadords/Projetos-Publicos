{
  "nbformat": 4,
  "nbformat_minor": 0,
  "metadata": {
    "kernelspec": {
      "display_name": "Python 3",
      "language": "python",
      "name": "python3"
    },
    "language_info": {
      "codemirror_mode": {
        "name": "ipython",
        "version": 3
      },
      "file_extension": ".py",
      "mimetype": "text/x-python",
      "name": "python",
      "nbconvert_exporter": "python",
      "pygments_lexer": "ipython3",
      "version": "3.7.6"
    },
    "colab": {
      "name": "Pré-processamentos, Métricas e Pipelines (Prática)",
      "provenance": [],
      "collapsed_sections": [
        "C8ykN0JNtTJT",
        "bZbmKOJ4tTKe",
        "kXbMa3I3tTK3",
        "fxbzFMLhtTLV",
        "BgA-FY8etTLk",
        "gxySlOPhtTL4",
        "DAM47hJBtTMc",
        "Kd5XZG1BtTMs",
        "P63TZHMHtTNL",
        "F64AmfujtTNP",
        "LIRYiNH8tTNU",
        "uqrDwKGWtTNY",
        "Fqp09uJAtTNf",
        "PGSR3L0qtTOH"
      ],
      "include_colab_link": true
    }
  },
  "cells": [
    {
      "cell_type": "markdown",
      "metadata": {
        "id": "view-in-github",
        "colab_type": "text"
      },
      "source": [
        "<a href=\"https://colab.research.google.com/github/amadords/Projetos-Publicos/blob/master/Pr%C3%A9_processamentos%2C_M%C3%A9tricas_e_Pipelines_(Pr%C3%A1tica).ipynb\" target=\"_parent\"><img src=\"https://colab.research.google.com/assets/colab-badge.svg\" alt=\"Open In Colab\"/></a>"
      ]
    },
    {
      "cell_type": "markdown",
      "metadata": {
        "id": "IXqUFVM5tTID"
      },
      "source": [
        "# Pré-Processamento de dados\n",
        "---\n",
        "\n",
        "\n",
        "[![LinkedIn](https://img.shields.io/badge/LinkedIn-DanielSousaAmador-purple.svg)](https://www.linkedin.com/in/daniel-sousa-amador)\n",
        "[![GitHub](https://img.shields.io/badge/GitHub-amadords-yellow.svg)](https://github.com/amadords)\n",
        "[![Medium](https://img.shields.io/badge/Medium-DanielSousaAmador-darkblue.svg)](https://daniel-s-amador.medium.com/)\n",
        "\n",
        "\n",
        "\n",
        "\n",
        "Quem trabalha como **Cientista de Dados**, 70% a 80% do seu tempo de analise é com essa parte menos glamurosa.\n",
        "\n",
        "\n",
        "Esta parte do trabalho envolve **preparação**, **manipulação**, **limpeza**, **organização** e **estruturação** dos dados e serve para diversos fins, desde transformar os dados para utilizar um modelo que só aceita dados normalizados, como transformar dados categóricos (palavras e frases) em numéricos para utilizar modelos que usam cálculos matemáticos e de distância. \n",
        "\n",
        "Logo, é de se imaginar que esta etapa antecede a realização de análises e predições. \n",
        "\n",
        "Essa fase é de tamanha importância que influenciará diretamente a qualidade final do seu modelo.\n",
        "\n",
        "![manipulação](https://image.freepik.com/fotos-gratis/processando-fireclay_1098-13070.jpg)\n",
        "\n",
        "Vamos tratar um a um dentro do seu escopo e ao final vamos falar de **Pipelines**! Essa parte muito importante de um trabalho de **Machine Learning** vai, com certeza, automatizar essa parte do seu trabalho!\n",
        "\n",
        "## Checklist\n",
        "\n",
        "1. Detecção e remoção de valores anômalos\n",
        "2. Discretização ou Binarização\n",
        "3. Normalização\n",
        "4. Padronização com MinMaxScaler\n",
        "5. Padronização com StandardScaler\n",
        "6. Aplicando a padronização a dados reais\n",
        "7. Métricas de Desempenho\n",
        "8. One Hot Enconding, Label Encoder e Get Dummies\n",
        "9. Pipelines"
      ]
    },
    {
      "cell_type": "markdown",
      "metadata": {
        "id": "lnSZXNd8tTIF"
      },
      "source": [
        "# 1. Detecção e remoção de valores anômalos\n",
        "\n",
        "**O que são valores anômalos**? \n",
        "\n",
        "Valores em sua base de dados que fogem do comum.\n",
        "* Exemplo: Considere um restaurante que vende durante todo o mês **dois mil reais diários** no máximo, por dia concorda que se, em um dia exclusivo, por exemplo, numa promoção, vendeu **quatro mil reais**, isso é **anômalo**?!\n",
        "* Esse valor **anômalo** serve para análise de dados, por exemplo, para tentar entender o motivo de um dado anômalo ter aparecido e, se possível, replicá-lo, mas em um modelo de Machine Learning isso atrapalhará, normalmente."
      ]
    },
    {
      "cell_type": "markdown",
      "metadata": {
        "id": "_mHhTv1HtTIH"
      },
      "source": [
        "**Criando dados**"
      ]
    },
    {
      "cell_type": "code",
      "metadata": {
        "id": "FDw5WIN0tTII",
        "outputId": "00edf5b8-a53c-402e-f99e-48c1153eaeea"
      },
      "source": [
        "import numpy\n",
        "\n",
        "dados = [10, 386, 479, 627, 20, 523, 482, 483, 542, 699, 535, 617, 577, 471, 615, 583, 441, 562, 563, 527, \n",
        "       453, 530, 433, 541, 585, 704, 443, 569, 430, 637, 331, 511, 552, 496, 484, 566, 554, 472, 335, \n",
        "       440, 579, 341, 545, 615, 548, 604, 439, 556, 442, 461, 624, 611, 444, 578, 405, 487, 490, 496, 398, \n",
        "       512, 422, 455, 449, 432, 607, 679, 434, 597, 639, 565, 415, 486, 668, 414, 665, 763, 557, 304, 404, 454, \n",
        "       689, 610, 483, 441, 657, 590, 492, 476, 437, 483, 529, 363, 711, 543,30, 1300, 1350, 1400]\n",
        "\n",
        "dados = numpy.array(dados)\n",
        "print(dados)"
      ],
      "execution_count": null,
      "outputs": [
        {
          "output_type": "stream",
          "text": [
            "[  10  386  479  627   20  523  482  483  542  699  535  617  577  471\n",
            "  615  583  441  562  563  527  453  530  433  541  585  704  443  569\n",
            "  430  637  331  511  552  496  484  566  554  472  335  440  579  341\n",
            "  545  615  548  604  439  556  442  461  624  611  444  578  405  487\n",
            "  490  496  398  512  422  455  449  432  607  679  434  597  639  565\n",
            "  415  486  668  414  665  763  557  304  404  454  689  610  483  441\n",
            "  657  590  492  476  437  483  529  363  711  543   30 1300 1350 1400]\n"
          ],
          "name": "stdout"
        }
      ]
    },
    {
      "cell_type": "code",
      "metadata": {
        "id": "bHNgPfVptTIT",
        "outputId": "f0c974dd-7a22-46db-fd91-49ae13cbcb70"
      },
      "source": [
        "type(dados)"
      ],
      "execution_count": null,
      "outputs": [
        {
          "output_type": "execute_result",
          "data": {
            "text/plain": [
              "numpy.ndarray"
            ]
          },
          "metadata": {
            "tags": []
          },
          "execution_count": 2
        }
      ]
    },
    {
      "cell_type": "markdown",
      "metadata": {
        "id": "pdN4L8uCtTIZ"
      },
      "source": [
        "**Veja no gráfico abaixo:**\n",
        "\n",
        "Os pontos acima e abaixo do **boxplot** são dados anômalos"
      ]
    },
    {
      "cell_type": "code",
      "metadata": {
        "id": "woZwZtQYtTIa",
        "outputId": "d78b8b87-1051-4682-d815-930acf59dc40"
      },
      "source": [
        "import seaborn as sns\n",
        "import matplotlib.pyplot as plt\n",
        "sns.set(style='whitegrid',palette='dark',color_codes=True)\n",
        "plt.figure(figsize=(10,8))\n",
        "sns.boxplot(data=dados);"
      ],
      "execution_count": null,
      "outputs": [
        {
          "output_type": "display_data",
          "data": {
            "image/png": "[encoded data removed]",
            "text/plain": [
              "<Figure size 720x576 with 1 Axes>"
            ]
          },
          "metadata": {
            "tags": []
          }
        }
      ]
    },
    {
      "cell_type": "markdown",
      "metadata": {
        "id": "Lrds3HC9tTIf"
      },
      "source": [
        "**Vamos ver:**\n",
        "* A **Média** dos dados: 530.36\n",
        "* O **Desvio Padrão** dos dados: 192.51\n",
        "    * Isso significa que, em média, os dados variam entre 338.09 e 723,11."
      ]
    },
    {
      "cell_type": "code",
      "metadata": {
        "id": "pcmhK7wItTIg",
        "outputId": "5fe66995-4a8d-4d87-f819-b7b678516980"
      },
      "source": [
        "# média\n",
        "dados.mean()"
      ],
      "execution_count": null,
      "outputs": [
        {
          "output_type": "execute_result",
          "data": {
            "text/plain": [
              "530.3673469387755"
            ]
          },
          "metadata": {
            "tags": []
          },
          "execution_count": 4
        }
      ]
    },
    {
      "cell_type": "code",
      "metadata": {
        "id": "swZAdVYKtTIl",
        "outputId": "a19eaf67-92b3-45a2-c577-b603079b0bee"
      },
      "source": [
        "# desvio padrão\n",
        "dados.std()"
      ],
      "execution_count": null,
      "outputs": [
        {
          "output_type": "execute_result",
          "data": {
            "text/plain": [
              "192.51166875607043"
            ]
          },
          "metadata": {
            "tags": []
          },
          "execution_count": 5
        }
      ]
    },
    {
      "cell_type": "markdown",
      "metadata": {
        "id": "sDKBkMEctTIr"
      },
      "source": [
        "**Atribuindo a média e o desvio padrão a variáveis**"
      ]
    },
    {
      "cell_type": "code",
      "metadata": {
        "id": "AZo_Q5-mtTIs"
      },
      "source": [
        "mean = numpy.mean(dados, axis=0) # ou dados.mean()\n",
        "sd = numpy.std(dados, axis=0) # ou dados.std()"
      ],
      "execution_count": null,
      "outputs": []
    },
    {
      "cell_type": "markdown",
      "metadata": {
        "id": "ra8ZWrV4tTIw"
      },
      "source": [
        "**Vamos estabelecer dois limites:**\n",
        "* **Inferior**: Média menos 2 vezes o desvio padrão\n",
        "* **Superior**: Média mais 2 vezes o desvio padrão"
      ]
    },
    {
      "cell_type": "code",
      "metadata": {
        "id": "YTmTpcustTIx",
        "outputId": "0e25b96f-6003-49e2-b8e5-2383a01a75a0"
      },
      "source": [
        "# fronteira de valores abaixo da média em duas vezes o desvio padrão\n",
        "mean - 2 * sd"
      ],
      "execution_count": null,
      "outputs": [
        {
          "output_type": "execute_result",
          "data": {
            "text/plain": [
              "145.34400942663467"
            ]
          },
          "metadata": {
            "tags": []
          },
          "execution_count": 7
        }
      ]
    },
    {
      "cell_type": "code",
      "metadata": {
        "id": "iU_LiUSbtTI1",
        "outputId": "4ac6820b-0cef-437e-c888-cc179bc51e92"
      },
      "source": [
        "# fronteira de valores aacima da média em duas vezes o desvio padrão\n",
        "mean + 2 * sd"
      ],
      "execution_count": null,
      "outputs": [
        {
          "output_type": "execute_result",
          "data": {
            "text/plain": [
              "915.3906844509164"
            ]
          },
          "metadata": {
            "tags": []
          },
          "execution_count": 8
        }
      ]
    },
    {
      "cell_type": "markdown",
      "metadata": {
        "id": "G4jgkS2ztTI6"
      },
      "source": [
        "**Criando função para retornar os dados anômalos**"
      ]
    },
    {
      "cell_type": "code",
      "metadata": {
        "id": "ATr2pvl7tTI7",
        "outputId": "1e9c6ce7-cdc9-4229-d56b-9eca570859ed"
      },
      "source": [
        "# listando os valores abaixo da média em duas vezes o desvio padrão (inferior)\n",
        "for x in dados:\n",
        "        if (x < mean - 2 * sd):\n",
        "            print(x)"
      ],
      "execution_count": null,
      "outputs": [
        {
          "output_type": "stream",
          "text": [
            "10\n",
            "20\n",
            "30\n"
          ],
          "name": "stdout"
        }
      ]
    },
    {
      "cell_type": "code",
      "metadata": {
        "id": "O3NId7HYtTI_",
        "outputId": "ff6b836f-4f50-47d9-cae9-ec52aa10f8ab"
      },
      "source": [
        "# listando os valores acima da média em duas vezes o desvio padrão (superior)\n",
        "for x in dados:\n",
        "        if (x > mean + 2 * sd):\n",
        "            print(x)"
      ],
      "execution_count": null,
      "outputs": [
        {
          "output_type": "stream",
          "text": [
            "1300\n",
            "1350\n",
            "1400\n"
          ],
          "name": "stdout"
        }
      ]
    },
    {
      "cell_type": "markdown",
      "metadata": {
        "id": "0DpnVBl3tTJE"
      },
      "source": [
        "**Removendo os valores**"
      ]
    },
    {
      "cell_type": "code",
      "metadata": {
        "id": "iDHelFs5tTJE",
        "outputId": "2922a7e2-0543-44c1-8709-06124499087a"
      },
      "source": [
        "# removendo os valores muito abaixo da média (10,20,30)\n",
        "dados = [x for x in dados if (x > mean - 2 * sd)]\n",
        "print(dados)"
      ],
      "execution_count": null,
      "outputs": [
        {
          "output_type": "stream",
          "text": [
            "[386, 479, 627, 523, 482, 483, 542, 699, 535, 617, 577, 471, 615, 583, 441, 562, 563, 527, 453, 530, 433, 541, 585, 704, 443, 569, 430, 637, 331, 511, 552, 496, 484, 566, 554, 472, 335, 440, 579, 341, 545, 615, 548, 604, 439, 556, 442, 461, 624, 611, 444, 578, 405, 487, 490, 496, 398, 512, 422, 455, 449, 432, 607, 679, 434, 597, 639, 565, 415, 486, 668, 414, 665, 763, 557, 304, 404, 454, 689, 610, 483, 441, 657, 590, 492, 476, 437, 483, 529, 363, 711, 543, 1300, 1350, 1400]\n"
          ],
          "name": "stdout"
        }
      ]
    },
    {
      "cell_type": "code",
      "metadata": {
        "id": "GCTwcwQ2tTJL",
        "outputId": "62cc7cd2-45ea-43a5-f588-64c7acb2d961"
      },
      "source": [
        "# removendo os valores muito acima da média (1300,1350,1400)\n",
        "dados = [x for x in dados if (x < mean + 2 * sd)]\n",
        "print(dados)\n"
      ],
      "execution_count": null,
      "outputs": [
        {
          "output_type": "stream",
          "text": [
            "[386, 479, 627, 523, 482, 483, 542, 699, 535, 617, 577, 471, 615, 583, 441, 562, 563, 527, 453, 530, 433, 541, 585, 704, 443, 569, 430, 637, 331, 511, 552, 496, 484, 566, 554, 472, 335, 440, 579, 341, 545, 615, 548, 604, 439, 556, 442, 461, 624, 611, 444, 578, 405, 487, 490, 496, 398, 512, 422, 455, 449, 432, 607, 679, 434, 597, 639, 565, 415, 486, 668, 414, 665, 763, 557, 304, 404, 454, 689, 610, 483, 441, 657, 590, 492, 476, 437, 483, 529, 363, 711, 543]\n"
          ],
          "name": "stdout"
        }
      ]
    },
    {
      "cell_type": "markdown",
      "metadata": {
        "id": "s258FDCQtTJO"
      },
      "source": [
        "**Vamos plotar novamente o *Boxplot* e visualizar que foram removidos os valores *anômalos***"
      ]
    },
    {
      "cell_type": "code",
      "metadata": {
        "scrolled": true,
        "id": "Bmb40p-4tTJO",
        "outputId": "f9c61e7f-620d-4753-d17d-6fe50c991b61"
      },
      "source": [
        "sns.boxplot(data=dados);"
      ],
      "execution_count": null,
      "outputs": [
        {
          "output_type": "display_data",
          "data": {
            "image/png": "[encoded data removed]",
            "text/plain": [
              "<Figure size 432x288 with 1 Axes>"
            ]
          },
          "metadata": {
            "tags": []
          }
        }
      ]
    },
    {
      "cell_type": "markdown",
      "metadata": {
        "id": "C8ykN0JNtTJT"
      },
      "source": [
        "# 2. Discretização ou Binarização\n",
        "\n",
        "Ao passo que alguns algoritmos somente trabalham com dados numéricos, outros só trabalham com dados **nominais** e até mesmo algoritmos como as *Árvores de Decisão* consigam trabalhar com dados numéricos, se torna mais custoso trabalhar com eles, o que pode ser facilitado tranformando alguns dados em **intervalos distintos**, ou, seja, definir alguns grupos.\n",
        "\n",
        "No exemplo abaixo temos 6 dados para discretizar.\n",
        "\n",
        "Na função altura = pd.qcut(altura,3,labels=['P','M','G']), ao passar o **valor 3** e nome as **labels** (colunas), estamos dizendo que divida os dados em 3 grupos diferentes e que esses serão os nomes dos grupos.\n"
      ]
    },
    {
      "cell_type": "markdown",
      "metadata": {
        "id": "U1EWdlm2tTJT"
      },
      "source": [
        "**Importando o pandas**\n",
        "\n",
        "O método **qcut** é quem faz a função de discretização baseada em quantis."
      ]
    },
    {
      "cell_type": "code",
      "metadata": {
        "id": "nhiP_j5ctTJU"
      },
      "source": [
        "import pandas as pd"
      ],
      "execution_count": null,
      "outputs": []
    },
    {
      "cell_type": "markdown",
      "metadata": {
        "id": "SZ_tVS__tTJX"
      },
      "source": [
        "**Dados para discretizar**"
      ]
    },
    {
      "cell_type": "code",
      "metadata": {
        "id": "OAgl9LtwtTJY"
      },
      "source": [
        "altura = [1.50,1.57,1.62,1.70,1.85,1.90]"
      ],
      "execution_count": null,
      "outputs": []
    },
    {
      "cell_type": "markdown",
      "metadata": {
        "id": "ZQv0yaMrtTJb"
      },
      "source": [
        "**Aplicando em 3 bins ou grupos aos dados**"
      ]
    },
    {
      "cell_type": "code",
      "metadata": {
        "id": "1s1JV2-3tTJc"
      },
      "source": [
        "altura = pd.qcut(altura,3,labels=['P','M','G'])"
      ],
      "execution_count": null,
      "outputs": []
    },
    {
      "cell_type": "markdown",
      "metadata": {
        "id": "ahBnFIrWtTJf"
      },
      "source": [
        "**Verificando os dados discretizados**\n",
        "\n",
        "Veja que foi criado um padrão bem fiel"
      ]
    },
    {
      "cell_type": "code",
      "metadata": {
        "id": "vXsWV0q5tTJg",
        "outputId": "7bf57c97-e5ba-4007-ccea-08cb9834f6d2"
      },
      "source": [
        "altura"
      ],
      "execution_count": null,
      "outputs": [
        {
          "output_type": "execute_result",
          "data": {
            "text/plain": [
              "[P, P, M, M, G, G]\n",
              "Categories (3, object): [P < M < G]"
            ]
          },
          "metadata": {
            "tags": []
          },
          "execution_count": 17
        }
      ]
    },
    {
      "cell_type": "markdown",
      "metadata": {
        "id": "oWbKB8OztTJj"
      },
      "source": [
        "**Verificando valores**"
      ]
    },
    {
      "cell_type": "code",
      "metadata": {
        "id": "1V7-QHHktTJk",
        "outputId": "a5605759-8e53-4850-999e-17c49c9f5024"
      },
      "source": [
        "altura.value_counts()"
      ],
      "execution_count": null,
      "outputs": [
        {
          "output_type": "execute_result",
          "data": {
            "text/plain": [
              "P    2\n",
              "M    2\n",
              "G    2\n",
              "dtype: int64"
            ]
          },
          "metadata": {
            "tags": []
          },
          "execution_count": 18
        }
      ]
    },
    {
      "cell_type": "markdown",
      "metadata": {
        "id": "v1R2oEZotTJo"
      },
      "source": [
        "**Criando novos valores**\n",
        "\n",
        "Perceba que o alagoritmo não faz uma transformação cega, nos dados abaixo as alturas **1.85** e **1.90** estão no meio dos dados e, mesmo assim foram transformados em **G**, ou seja, grande."
      ]
    },
    {
      "cell_type": "code",
      "metadata": {
        "id": "0CfMHPJ3tTJo"
      },
      "source": [
        "novas_alturas=[1.50,1.57,1.62,1.70,1.85,1.90,1.40,1.70,1.30,2.00,2.10]"
      ],
      "execution_count": null,
      "outputs": []
    },
    {
      "cell_type": "markdown",
      "metadata": {
        "id": "y0Uq6gp8tTJq"
      },
      "source": [
        "**Passando a mesma quantidade de bins**"
      ]
    },
    {
      "cell_type": "code",
      "metadata": {
        "id": "WgXDljVhtTJr"
      },
      "source": [
        "novas_alturas_disc1=pd.qcut(novas_alturas,3,labels=['P','M','G'])"
      ],
      "execution_count": null,
      "outputs": []
    },
    {
      "cell_type": "markdown",
      "metadata": {
        "id": "e0Rw_A10tTJu"
      },
      "source": [
        "**Visualizando as novas discretizações**"
      ]
    },
    {
      "cell_type": "code",
      "metadata": {
        "id": "Y7T8mgaRtTJv",
        "outputId": "eeff0557-21e3-48b6-c5c0-1a32f771370b"
      },
      "source": [
        "novas_alturas_disc1"
      ],
      "execution_count": null,
      "outputs": [
        {
          "output_type": "execute_result",
          "data": {
            "text/plain": [
              "[P, P, M, M, G, ..., P, M, P, G, G]\n",
              "Length: 11\n",
              "Categories (3, object): [P < M < G]"
            ]
          },
          "metadata": {
            "tags": []
          },
          "execution_count": 21
        }
      ]
    },
    {
      "cell_type": "markdown",
      "metadata": {
        "id": "b84j5CV6tTJy"
      },
      "source": [
        "**Contando os valores**"
      ]
    },
    {
      "cell_type": "code",
      "metadata": {
        "id": "FO5igiqstTJz",
        "outputId": "825e0be1-76a8-4e98-c586-1bab85b77a30"
      },
      "source": [
        "novas_alturas_disc1.value_counts()"
      ],
      "execution_count": null,
      "outputs": [
        {
          "output_type": "execute_result",
          "data": {
            "text/plain": [
              "P    4\n",
              "M    3\n",
              "G    4\n",
              "dtype: int64"
            ]
          },
          "metadata": {
            "tags": []
          },
          "execution_count": 22
        }
      ]
    },
    {
      "cell_type": "markdown",
      "metadata": {
        "id": "C5co5AwrtTJ3"
      },
      "source": [
        "**Agora vamos discretizar os mesmos dados, mas passando 4 bins**"
      ]
    },
    {
      "cell_type": "code",
      "metadata": {
        "id": "ZQMBaqnmtTJ5"
      },
      "source": [
        "novas_alturas_disc2=pd.qcut(novas_alturas,4,labels=['P','M','G','GG'])"
      ],
      "execution_count": null,
      "outputs": []
    },
    {
      "cell_type": "markdown",
      "metadata": {
        "id": "nf4Zc0bctTJ8"
      },
      "source": [
        "**Perceba!**\n",
        "\n",
        "As alturas finais **2.00** e **2.10.** agora já são consideradas **GG**, não mais **G**."
      ]
    },
    {
      "cell_type": "code",
      "metadata": {
        "id": "k1ERYlt-tTJ8",
        "outputId": "c5063205-8db6-474e-eb69-657516df6521"
      },
      "source": [
        "novas_alturas_disc2"
      ],
      "execution_count": null,
      "outputs": [
        {
          "output_type": "execute_result",
          "data": {
            "text/plain": [
              "[P, M, M, M, G, ..., P, M, P, GG, GG]\n",
              "Length: 11\n",
              "Categories (4, object): [P < M < G < GG]"
            ]
          },
          "metadata": {
            "tags": []
          },
          "execution_count": 24
        }
      ]
    },
    {
      "cell_type": "markdown",
      "metadata": {
        "id": "bvjBdduftTKA"
      },
      "source": [
        "**Contagem os resultados**\n",
        "\n",
        "Veja que temos 3 valores **GG** e 1 valor **G**, ou seja, a partir de **1.90** foi considerado **GG**."
      ]
    },
    {
      "cell_type": "code",
      "metadata": {
        "id": "xyb9MsmVtTKA",
        "outputId": "c6ec2b2c-d4a5-4e40-c7cf-6df88a713fe8"
      },
      "source": [
        "novas_alturas_disc2.value_counts()"
      ],
      "execution_count": null,
      "outputs": [
        {
          "output_type": "execute_result",
          "data": {
            "text/plain": [
              "P     3\n",
              "M     4\n",
              "G     1\n",
              "GG    3\n",
              "dtype: int64"
            ]
          },
          "metadata": {
            "tags": []
          },
          "execution_count": 25
        }
      ]
    },
    {
      "cell_type": "markdown",
      "metadata": {
        "id": "gLSLhYv8tTKD"
      },
      "source": [
        "**Visualizando tipo dos dados**"
      ]
    },
    {
      "cell_type": "code",
      "metadata": {
        "id": "qiaskqlVtTKE",
        "outputId": "c7b79d27-7d7b-44ce-ee4f-72787f8d888f"
      },
      "source": [
        "type(novas_alturas_disc2)"
      ],
      "execution_count": null,
      "outputs": [
        {
          "output_type": "execute_result",
          "data": {
            "text/plain": [
              "pandas.core.arrays.categorical.Categorical"
            ]
          },
          "metadata": {
            "tags": []
          },
          "execution_count": 26
        }
      ]
    },
    {
      "cell_type": "markdown",
      "metadata": {
        "id": "U6gJpZcXtTKH"
      },
      "source": [
        "**Abaixo:**\n",
        "* Vamos criar um **Pandas DataFrame** vazio\n",
        "* Atribuindo os **valores numéricos** como a coluna **num**\n",
        "* Atribuindo os **valores discretizados** como a coluna **disc**\n",
        "* Visualizando os valores lado a lado"
      ]
    },
    {
      "cell_type": "code",
      "metadata": {
        "id": "CglFh1J1tTKH"
      },
      "source": [
        "# pandas DataFrame vazio\n",
        "df=pd.DataFrame()"
      ],
      "execution_count": null,
      "outputs": []
    },
    {
      "cell_type": "code",
      "metadata": {
        "id": "24NkQWfMtTKK"
      },
      "source": [
        "# valores numéricos como a coluna num\n",
        "df['num']=novas_alturas"
      ],
      "execution_count": null,
      "outputs": []
    },
    {
      "cell_type": "code",
      "metadata": {
        "id": "mMIb7-SotTKL"
      },
      "source": [
        "# valores discretizados como a coluna disc\n",
        "df['disc']=novas_alturas_disc2"
      ],
      "execution_count": null,
      "outputs": []
    },
    {
      "cell_type": "code",
      "metadata": {
        "id": "rvMrgHDhtTKO",
        "outputId": "187695c3-c9a4-49e2-b329-2eea002a4ded"
      },
      "source": [
        "# visualização dos valores lado a lado\n",
        "df"
      ],
      "execution_count": null,
      "outputs": [
        {
          "output_type": "execute_result",
          "data": {
            "text/html": [
              "<div>\n",
              "<style scoped>\n",
              "    .dataframe tbody tr th:only-of-type {\n",
              "        vertical-align: middle;\n",
              "    }\n",
              "\n",
              "    .dataframe tbody tr th {\n",
              "        vertical-align: top;\n",
              "    }\n",
              "\n",
              "    .dataframe thead th {\n",
              "        text-align: right;\n",
              "    }\n",
              "</style>\n",
              "<table border=\"1\" class=\"dataframe\">\n",
              "  <thead>\n",
              "    <tr style=\"text-align: right;\">\n",
              "      <th></th>\n",
              "      <th>num</th>\n",
              "      <th>disc</th>\n",
              "    </tr>\n",
              "  </thead>\n",
              "  <tbody>\n",
              "    <tr>\n",
              "      <th>0</th>\n",
              "      <td>1.50</td>\n",
              "      <td>P</td>\n",
              "    </tr>\n",
              "    <tr>\n",
              "      <th>1</th>\n",
              "      <td>1.57</td>\n",
              "      <td>M</td>\n",
              "    </tr>\n",
              "    <tr>\n",
              "      <th>2</th>\n",
              "      <td>1.62</td>\n",
              "      <td>M</td>\n",
              "    </tr>\n",
              "    <tr>\n",
              "      <th>3</th>\n",
              "      <td>1.70</td>\n",
              "      <td>M</td>\n",
              "    </tr>\n",
              "    <tr>\n",
              "      <th>4</th>\n",
              "      <td>1.85</td>\n",
              "      <td>G</td>\n",
              "    </tr>\n",
              "    <tr>\n",
              "      <th>5</th>\n",
              "      <td>1.90</td>\n",
              "      <td>GG</td>\n",
              "    </tr>\n",
              "    <tr>\n",
              "      <th>6</th>\n",
              "      <td>1.40</td>\n",
              "      <td>P</td>\n",
              "    </tr>\n",
              "    <tr>\n",
              "      <th>7</th>\n",
              "      <td>1.70</td>\n",
              "      <td>M</td>\n",
              "    </tr>\n",
              "    <tr>\n",
              "      <th>8</th>\n",
              "      <td>1.30</td>\n",
              "      <td>P</td>\n",
              "    </tr>\n",
              "    <tr>\n",
              "      <th>9</th>\n",
              "      <td>2.00</td>\n",
              "      <td>GG</td>\n",
              "    </tr>\n",
              "    <tr>\n",
              "      <th>10</th>\n",
              "      <td>2.10</td>\n",
              "      <td>GG</td>\n",
              "    </tr>\n",
              "  </tbody>\n",
              "</table>\n",
              "</div>"
            ],
            "text/plain": [
              "     num disc\n",
              "0   1.50    P\n",
              "1   1.57    M\n",
              "2   1.62    M\n",
              "3   1.70    M\n",
              "4   1.85    G\n",
              "5   1.90   GG\n",
              "6   1.40    P\n",
              "7   1.70    M\n",
              "8   1.30    P\n",
              "9   2.00   GG\n",
              "10  2.10   GG"
            ]
          },
          "metadata": {
            "tags": []
          },
          "execution_count": 30
        }
      ]
    },
    {
      "cell_type": "markdown",
      "metadata": {
        "id": "uPnQhAyMtTKS"
      },
      "source": [
        "**Para finalizar vamos fazer com 5 bins**"
      ]
    },
    {
      "cell_type": "code",
      "metadata": {
        "id": "7F5yr6x6tTKS"
      },
      "source": [
        "novas_alturas_disc3=pd.qcut(novas_alturas,5,labels=['PP','P','M','G','GG'])"
      ],
      "execution_count": null,
      "outputs": []
    },
    {
      "cell_type": "markdown",
      "metadata": {
        "id": "wga9UfTltTKV"
      },
      "source": [
        "**Visualizando os valores**"
      ]
    },
    {
      "cell_type": "code",
      "metadata": {
        "id": "SAXvIRAjtTKV",
        "outputId": "f3cea054-7ae6-477e-a2ad-3e7e22ebded3"
      },
      "source": [
        "novas_alturas_disc3"
      ],
      "execution_count": null,
      "outputs": [
        {
          "output_type": "execute_result",
          "data": {
            "text/plain": [
              "[PP, P, P, M, G, ..., PP, M, PP, GG, GG]\n",
              "Length: 11\n",
              "Categories (5, object): [PP < P < M < G < GG]"
            ]
          },
          "metadata": {
            "tags": []
          },
          "execution_count": 32
        }
      ]
    },
    {
      "cell_type": "markdown",
      "metadata": {
        "id": "iGz82EKftTKY"
      },
      "source": [
        "**Contando os valores**"
      ]
    },
    {
      "cell_type": "code",
      "metadata": {
        "id": "zLBWChvhtTKY",
        "outputId": "fead7acf-5ebe-4de3-e814-2859230d5b87"
      },
      "source": [
        "novas_alturas_disc3.value_counts()"
      ],
      "execution_count": null,
      "outputs": [
        {
          "output_type": "execute_result",
          "data": {
            "text/plain": [
              "PP    3\n",
              "P     2\n",
              "M     2\n",
              "G     2\n",
              "GG    2\n",
              "dtype: int64"
            ]
          },
          "metadata": {
            "tags": []
          },
          "execution_count": 33
        }
      ]
    },
    {
      "cell_type": "markdown",
      "metadata": {
        "id": "JEt7SyAztTKb"
      },
      "source": [
        "**Visualizando em formato DataFrame**\n",
        "\n",
        "Veja que os valores abaixo de **1.50** foram classificados com **PP**"
      ]
    },
    {
      "cell_type": "code",
      "metadata": {
        "id": "ARRCv9ePtTKb",
        "outputId": "17cbcdf6-08a5-4c64-bae7-77ba4e67fa13"
      },
      "source": [
        "df2=pd.DataFrame()\n",
        "df2['num']=novas_alturas\n",
        "df2['disc']=novas_alturas_disc3\n",
        "df2"
      ],
      "execution_count": null,
      "outputs": [
        {
          "output_type": "execute_result",
          "data": {
            "text/html": [
              "<div>\n",
              "<style scoped>\n",
              "    .dataframe tbody tr th:only-of-type {\n",
              "        vertical-align: middle;\n",
              "    }\n",
              "\n",
              "    .dataframe tbody tr th {\n",
              "        vertical-align: top;\n",
              "    }\n",
              "\n",
              "    .dataframe thead th {\n",
              "        text-align: right;\n",
              "    }\n",
              "</style>\n",
              "<table border=\"1\" class=\"dataframe\">\n",
              "  <thead>\n",
              "    <tr style=\"text-align: right;\">\n",
              "      <th></th>\n",
              "      <th>num</th>\n",
              "      <th>disc</th>\n",
              "    </tr>\n",
              "  </thead>\n",
              "  <tbody>\n",
              "    <tr>\n",
              "      <th>0</th>\n",
              "      <td>1.50</td>\n",
              "      <td>PP</td>\n",
              "    </tr>\n",
              "    <tr>\n",
              "      <th>1</th>\n",
              "      <td>1.57</td>\n",
              "      <td>P</td>\n",
              "    </tr>\n",
              "    <tr>\n",
              "      <th>2</th>\n",
              "      <td>1.62</td>\n",
              "      <td>P</td>\n",
              "    </tr>\n",
              "    <tr>\n",
              "      <th>3</th>\n",
              "      <td>1.70</td>\n",
              "      <td>M</td>\n",
              "    </tr>\n",
              "    <tr>\n",
              "      <th>4</th>\n",
              "      <td>1.85</td>\n",
              "      <td>G</td>\n",
              "    </tr>\n",
              "    <tr>\n",
              "      <th>5</th>\n",
              "      <td>1.90</td>\n",
              "      <td>G</td>\n",
              "    </tr>\n",
              "    <tr>\n",
              "      <th>6</th>\n",
              "      <td>1.40</td>\n",
              "      <td>PP</td>\n",
              "    </tr>\n",
              "    <tr>\n",
              "      <th>7</th>\n",
              "      <td>1.70</td>\n",
              "      <td>M</td>\n",
              "    </tr>\n",
              "    <tr>\n",
              "      <th>8</th>\n",
              "      <td>1.30</td>\n",
              "      <td>PP</td>\n",
              "    </tr>\n",
              "    <tr>\n",
              "      <th>9</th>\n",
              "      <td>2.00</td>\n",
              "      <td>GG</td>\n",
              "    </tr>\n",
              "    <tr>\n",
              "      <th>10</th>\n",
              "      <td>2.10</td>\n",
              "      <td>GG</td>\n",
              "    </tr>\n",
              "  </tbody>\n",
              "</table>\n",
              "</div>"
            ],
            "text/plain": [
              "     num disc\n",
              "0   1.50   PP\n",
              "1   1.57    P\n",
              "2   1.62    P\n",
              "3   1.70    M\n",
              "4   1.85    G\n",
              "5   1.90    G\n",
              "6   1.40   PP\n",
              "7   1.70    M\n",
              "8   1.30   PP\n",
              "9   2.00   GG\n",
              "10  2.10   GG"
            ]
          },
          "metadata": {
            "tags": []
          },
          "execution_count": 34
        }
      ]
    },
    {
      "cell_type": "markdown",
      "metadata": {
        "id": "bZbmKOJ4tTKe"
      },
      "source": [
        "## Que tal discretizar uma base de dados real?"
      ]
    },
    {
      "cell_type": "markdown",
      "metadata": {
        "id": "AyH3Cez0tTKe"
      },
      "source": [
        "**Carregando base de dados**"
      ]
    },
    {
      "cell_type": "code",
      "metadata": {
        "id": "73ustgdQtTKe"
      },
      "source": [
        "bd=pd.read_csv('/home/amador/dados/kc_house_data.csv')"
      ],
      "execution_count": null,
      "outputs": []
    },
    {
      "cell_type": "code",
      "metadata": {
        "id": "GM3tXKzLtTKg",
        "outputId": "2fe8c124-fb0c-4f55-aa1d-265e057b0877"
      },
      "source": [
        "bd"
      ],
      "execution_count": null,
      "outputs": [
        {
          "output_type": "execute_result",
          "data": {
            "text/html": [
              "<div>\n",
              "<style scoped>\n",
              "    .dataframe tbody tr th:only-of-type {\n",
              "        vertical-align: middle;\n",
              "    }\n",
              "\n",
              "    .dataframe tbody tr th {\n",
              "        vertical-align: top;\n",
              "    }\n",
              "\n",
              "    .dataframe thead th {\n",
              "        text-align: right;\n",
              "    }\n",
              "</style>\n",
              "<table border=\"1\" class=\"dataframe\">\n",
              "  <thead>\n",
              "    <tr style=\"text-align: right;\">\n",
              "      <th></th>\n",
              "      <th>id</th>\n",
              "      <th>date</th>\n",
              "      <th>price</th>\n",
              "      <th>bedrooms</th>\n",
              "      <th>bathrooms</th>\n",
              "      <th>sqft_living</th>\n",
              "      <th>sqft_lot</th>\n",
              "      <th>floors</th>\n",
              "      <th>waterfront</th>\n",
              "      <th>view</th>\n",
              "      <th>...</th>\n",
              "      <th>grade</th>\n",
              "      <th>sqft_above</th>\n",
              "      <th>sqft_basement</th>\n",
              "      <th>yr_built</th>\n",
              "      <th>yr_renovated</th>\n",
              "      <th>zipcode</th>\n",
              "      <th>lat</th>\n",
              "      <th>long</th>\n",
              "      <th>sqft_living15</th>\n",
              "      <th>sqft_lot15</th>\n",
              "    </tr>\n",
              "  </thead>\n",
              "  <tbody>\n",
              "    <tr>\n",
              "      <th>0</th>\n",
              "      <td>7129300520</td>\n",
              "      <td>20141013T000000</td>\n",
              "      <td>221900.0</td>\n",
              "      <td>3.0</td>\n",
              "      <td>1.00</td>\n",
              "      <td>1180</td>\n",
              "      <td>5650</td>\n",
              "      <td>1.0</td>\n",
              "      <td>0</td>\n",
              "      <td>0</td>\n",
              "      <td>...</td>\n",
              "      <td>7</td>\n",
              "      <td>1180</td>\n",
              "      <td>0</td>\n",
              "      <td>1955</td>\n",
              "      <td>0</td>\n",
              "      <td>98178</td>\n",
              "      <td>47.5112</td>\n",
              "      <td>-122.257</td>\n",
              "      <td>1340</td>\n",
              "      <td>5650</td>\n",
              "    </tr>\n",
              "    <tr>\n",
              "      <th>1</th>\n",
              "      <td>6414100192</td>\n",
              "      <td>20141209T000000</td>\n",
              "      <td>538000.0</td>\n",
              "      <td>3.0</td>\n",
              "      <td>2.25</td>\n",
              "      <td>2570</td>\n",
              "      <td>7242</td>\n",
              "      <td>2.0</td>\n",
              "      <td>0</td>\n",
              "      <td>0</td>\n",
              "      <td>...</td>\n",
              "      <td>7</td>\n",
              "      <td>2170</td>\n",
              "      <td>400</td>\n",
              "      <td>1951</td>\n",
              "      <td>1991</td>\n",
              "      <td>98125</td>\n",
              "      <td>47.7210</td>\n",
              "      <td>-122.319</td>\n",
              "      <td>1690</td>\n",
              "      <td>7639</td>\n",
              "    </tr>\n",
              "    <tr>\n",
              "      <th>2</th>\n",
              "      <td>5631500400</td>\n",
              "      <td>20150225T000000</td>\n",
              "      <td>180000.0</td>\n",
              "      <td>2.0</td>\n",
              "      <td>1.00</td>\n",
              "      <td>770</td>\n",
              "      <td>10000</td>\n",
              "      <td>1.0</td>\n",
              "      <td>0</td>\n",
              "      <td>0</td>\n",
              "      <td>...</td>\n",
              "      <td>6</td>\n",
              "      <td>770</td>\n",
              "      <td>0</td>\n",
              "      <td>1933</td>\n",
              "      <td>0</td>\n",
              "      <td>98028</td>\n",
              "      <td>47.7379</td>\n",
              "      <td>-122.233</td>\n",
              "      <td>2720</td>\n",
              "      <td>8062</td>\n",
              "    </tr>\n",
              "    <tr>\n",
              "      <th>3</th>\n",
              "      <td>2487200875</td>\n",
              "      <td>20141209T000000</td>\n",
              "      <td>604000.0</td>\n",
              "      <td>4.0</td>\n",
              "      <td>3.00</td>\n",
              "      <td>1960</td>\n",
              "      <td>5000</td>\n",
              "      <td>1.0</td>\n",
              "      <td>0</td>\n",
              "      <td>0</td>\n",
              "      <td>...</td>\n",
              "      <td>7</td>\n",
              "      <td>1050</td>\n",
              "      <td>910</td>\n",
              "      <td>1965</td>\n",
              "      <td>0</td>\n",
              "      <td>98136</td>\n",
              "      <td>47.5208</td>\n",
              "      <td>-122.393</td>\n",
              "      <td>1360</td>\n",
              "      <td>5000</td>\n",
              "    </tr>\n",
              "    <tr>\n",
              "      <th>4</th>\n",
              "      <td>1954400510</td>\n",
              "      <td>20150218T000000</td>\n",
              "      <td>510000.0</td>\n",
              "      <td>3.0</td>\n",
              "      <td>2.00</td>\n",
              "      <td>1680</td>\n",
              "      <td>8080</td>\n",
              "      <td>1.0</td>\n",
              "      <td>0</td>\n",
              "      <td>0</td>\n",
              "      <td>...</td>\n",
              "      <td>8</td>\n",
              "      <td>1680</td>\n",
              "      <td>0</td>\n",
              "      <td>1987</td>\n",
              "      <td>0</td>\n",
              "      <td>98074</td>\n",
              "      <td>47.6168</td>\n",
              "      <td>-122.045</td>\n",
              "      <td>1800</td>\n",
              "      <td>7503</td>\n",
              "    </tr>\n",
              "    <tr>\n",
              "      <th>...</th>\n",
              "      <td>...</td>\n",
              "      <td>...</td>\n",
              "      <td>...</td>\n",
              "      <td>...</td>\n",
              "      <td>...</td>\n",
              "      <td>...</td>\n",
              "      <td>...</td>\n",
              "      <td>...</td>\n",
              "      <td>...</td>\n",
              "      <td>...</td>\n",
              "      <td>...</td>\n",
              "      <td>...</td>\n",
              "      <td>...</td>\n",
              "      <td>...</td>\n",
              "      <td>...</td>\n",
              "      <td>...</td>\n",
              "      <td>...</td>\n",
              "      <td>...</td>\n",
              "      <td>...</td>\n",
              "      <td>...</td>\n",
              "      <td>...</td>\n",
              "    </tr>\n",
              "    <tr>\n",
              "      <th>21608</th>\n",
              "      <td>263000018</td>\n",
              "      <td>20140521T000000</td>\n",
              "      <td>360000.0</td>\n",
              "      <td>3.0</td>\n",
              "      <td>2.50</td>\n",
              "      <td>1530</td>\n",
              "      <td>1131</td>\n",
              "      <td>3.0</td>\n",
              "      <td>0</td>\n",
              "      <td>0</td>\n",
              "      <td>...</td>\n",
              "      <td>8</td>\n",
              "      <td>1530</td>\n",
              "      <td>0</td>\n",
              "      <td>2009</td>\n",
              "      <td>0</td>\n",
              "      <td>98103</td>\n",
              "      <td>47.6993</td>\n",
              "      <td>-122.346</td>\n",
              "      <td>1530</td>\n",
              "      <td>1509</td>\n",
              "    </tr>\n",
              "    <tr>\n",
              "      <th>21609</th>\n",
              "      <td>6600060120</td>\n",
              "      <td>20150223T000000</td>\n",
              "      <td>400000.0</td>\n",
              "      <td>4.0</td>\n",
              "      <td>2.50</td>\n",
              "      <td>2310</td>\n",
              "      <td>5813</td>\n",
              "      <td>2.0</td>\n",
              "      <td>0</td>\n",
              "      <td>0</td>\n",
              "      <td>...</td>\n",
              "      <td>8</td>\n",
              "      <td>2310</td>\n",
              "      <td>0</td>\n",
              "      <td>2014</td>\n",
              "      <td>0</td>\n",
              "      <td>98146</td>\n",
              "      <td>47.5107</td>\n",
              "      <td>-122.362</td>\n",
              "      <td>1830</td>\n",
              "      <td>7200</td>\n",
              "    </tr>\n",
              "    <tr>\n",
              "      <th>21610</th>\n",
              "      <td>1523300141</td>\n",
              "      <td>20140623T000000</td>\n",
              "      <td>402101.0</td>\n",
              "      <td>2.0</td>\n",
              "      <td>0.75</td>\n",
              "      <td>1020</td>\n",
              "      <td>1350</td>\n",
              "      <td>2.0</td>\n",
              "      <td>0</td>\n",
              "      <td>0</td>\n",
              "      <td>...</td>\n",
              "      <td>7</td>\n",
              "      <td>1020</td>\n",
              "      <td>0</td>\n",
              "      <td>2009</td>\n",
              "      <td>0</td>\n",
              "      <td>98144</td>\n",
              "      <td>47.5944</td>\n",
              "      <td>-122.299</td>\n",
              "      <td>1020</td>\n",
              "      <td>2007</td>\n",
              "    </tr>\n",
              "    <tr>\n",
              "      <th>21611</th>\n",
              "      <td>291310100</td>\n",
              "      <td>20150116T000000</td>\n",
              "      <td>400000.0</td>\n",
              "      <td>3.0</td>\n",
              "      <td>2.50</td>\n",
              "      <td>1600</td>\n",
              "      <td>2388</td>\n",
              "      <td>2.0</td>\n",
              "      <td>0</td>\n",
              "      <td>0</td>\n",
              "      <td>...</td>\n",
              "      <td>8</td>\n",
              "      <td>1600</td>\n",
              "      <td>0</td>\n",
              "      <td>2004</td>\n",
              "      <td>0</td>\n",
              "      <td>98027</td>\n",
              "      <td>47.5345</td>\n",
              "      <td>-122.069</td>\n",
              "      <td>1410</td>\n",
              "      <td>1287</td>\n",
              "    </tr>\n",
              "    <tr>\n",
              "      <th>21612</th>\n",
              "      <td>1523300157</td>\n",
              "      <td>20141015T000000</td>\n",
              "      <td>325000.0</td>\n",
              "      <td>2.0</td>\n",
              "      <td>0.75</td>\n",
              "      <td>1020</td>\n",
              "      <td>1076</td>\n",
              "      <td>2.0</td>\n",
              "      <td>0</td>\n",
              "      <td>0</td>\n",
              "      <td>...</td>\n",
              "      <td>7</td>\n",
              "      <td>1020</td>\n",
              "      <td>0</td>\n",
              "      <td>2008</td>\n",
              "      <td>0</td>\n",
              "      <td>98144</td>\n",
              "      <td>47.5941</td>\n",
              "      <td>-122.299</td>\n",
              "      <td>1020</td>\n",
              "      <td>1357</td>\n",
              "    </tr>\n",
              "  </tbody>\n",
              "</table>\n",
              "<p>21613 rows × 21 columns</p>\n",
              "</div>"
            ],
            "text/plain": [
              "               id             date     price  bedrooms  bathrooms  \\\n",
              "0      7129300520  20141013T000000  221900.0       3.0       1.00   \n",
              "1      6414100192  20141209T000000  538000.0       3.0       2.25   \n",
              "2      5631500400  20150225T000000  180000.0       2.0       1.00   \n",
              "3      2487200875  20141209T000000  604000.0       4.0       3.00   \n",
              "4      1954400510  20150218T000000  510000.0       3.0       2.00   \n",
              "...           ...              ...       ...       ...        ...   \n",
              "21608   263000018  20140521T000000  360000.0       3.0       2.50   \n",
              "21609  6600060120  20150223T000000  400000.0       4.0       2.50   \n",
              "21610  1523300141  20140623T000000  402101.0       2.0       0.75   \n",
              "21611   291310100  20150116T000000  400000.0       3.0       2.50   \n",
              "21612  1523300157  20141015T000000  325000.0       2.0       0.75   \n",
              "\n",
              "       sqft_living  sqft_lot  floors  waterfront  view  ...  grade  \\\n",
              "0             1180      5650     1.0           0     0  ...      7   \n",
              "1             2570      7242     2.0           0     0  ...      7   \n",
              "2              770     10000     1.0           0     0  ...      6   \n",
              "3             1960      5000     1.0           0     0  ...      7   \n",
              "4             1680      8080     1.0           0     0  ...      8   \n",
              "...            ...       ...     ...         ...   ...  ...    ...   \n",
              "21608         1530      1131     3.0           0     0  ...      8   \n",
              "21609         2310      5813     2.0           0     0  ...      8   \n",
              "21610         1020      1350     2.0           0     0  ...      7   \n",
              "21611         1600      2388     2.0           0     0  ...      8   \n",
              "21612         1020      1076     2.0           0     0  ...      7   \n",
              "\n",
              "       sqft_above  sqft_basement  yr_built  yr_renovated  zipcode      lat  \\\n",
              "0            1180              0      1955             0    98178  47.5112   \n",
              "1            2170            400      1951          1991    98125  47.7210   \n",
              "2             770              0      1933             0    98028  47.7379   \n",
              "3            1050            910      1965             0    98136  47.5208   \n",
              "4            1680              0      1987             0    98074  47.6168   \n",
              "...           ...            ...       ...           ...      ...      ...   \n",
              "21608        1530              0      2009             0    98103  47.6993   \n",
              "21609        2310              0      2014             0    98146  47.5107   \n",
              "21610        1020              0      2009             0    98144  47.5944   \n",
              "21611        1600              0      2004             0    98027  47.5345   \n",
              "21612        1020              0      2008             0    98144  47.5941   \n",
              "\n",
              "          long  sqft_living15  sqft_lot15  \n",
              "0     -122.257           1340        5650  \n",
              "1     -122.319           1690        7639  \n",
              "2     -122.233           2720        8062  \n",
              "3     -122.393           1360        5000  \n",
              "4     -122.045           1800        7503  \n",
              "...        ...            ...         ...  \n",
              "21608 -122.346           1530        1509  \n",
              "21609 -122.362           1830        7200  \n",
              "21610 -122.299           1020        2007  \n",
              "21611 -122.069           1410        1287  \n",
              "21612 -122.299           1020        1357  \n",
              "\n",
              "[21613 rows x 21 columns]"
            ]
          },
          "metadata": {
            "tags": []
          },
          "execution_count": 36
        }
      ]
    },
    {
      "cell_type": "markdown",
      "metadata": {
        "id": "06ah23THtTKi"
      },
      "source": [
        "**Contando o número de pisos**"
      ]
    },
    {
      "cell_type": "code",
      "metadata": {
        "id": "gIaOE5iitTKj",
        "outputId": "99dfd538-985c-4585-c4b3-7e0047ee8868"
      },
      "source": [
        "bd['floors'].value_counts()"
      ],
      "execution_count": null,
      "outputs": [
        {
          "output_type": "execute_result",
          "data": {
            "text/plain": [
              "1.0    10679\n",
              "2.0     8241\n",
              "1.5     1910\n",
              "3.0      613\n",
              "2.5      161\n",
              "3.5        8\n",
              "Name: floors, dtype: int64"
            ]
          },
          "metadata": {
            "tags": []
          },
          "execution_count": 37
        }
      ]
    },
    {
      "cell_type": "markdown",
      "metadata": {
        "id": "rZhYl4T9tTKl"
      },
      "source": [
        "**Discretizando a coluna *floors***\n",
        "\n",
        "Embora sejam 6 categorias, estão sendo usados 5 bins, logo ficarão com resultados diferentes"
      ]
    },
    {
      "cell_type": "code",
      "metadata": {
        "id": "lP9UIoyZtTKm"
      },
      "source": [
        "bd['floors_labels'] = pd.cut(\n",
        "    bd['floors'],\n",
        "    5,\n",
        "    labels=['Muito-Pequeno','Pequeno','Medio','Grande','Muito-Grande']\n",
        ")"
      ],
      "execution_count": null,
      "outputs": []
    },
    {
      "cell_type": "markdown",
      "metadata": {
        "id": "ljiTqyhxtTKx"
      },
      "source": [
        "**Contando os valores**\n",
        "\n",
        "Veja que os com valores *1.0* e *1.5* foram classificados como *Muito-Pequeno*."
      ]
    },
    {
      "cell_type": "code",
      "metadata": {
        "id": "7S8KlcM_tTKx",
        "outputId": "1615d50a-b969-48a3-b5be-9eb8d234ec0d"
      },
      "source": [
        "bd['floors_labels'].value_counts()"
      ],
      "execution_count": null,
      "outputs": [
        {
          "output_type": "execute_result",
          "data": {
            "text/plain": [
              "Muito-Pequeno    12589\n",
              "Pequeno           8241\n",
              "Grande             613\n",
              "Medio              161\n",
              "Muito-Grande         8\n",
              "Name: floors_labels, dtype: int64"
            ]
          },
          "metadata": {
            "tags": []
          },
          "execution_count": 39
        }
      ]
    },
    {
      "cell_type": "markdown",
      "metadata": {
        "id": "qcJDf4WktTK0"
      },
      "source": [
        "**Valores únicos**"
      ]
    },
    {
      "cell_type": "code",
      "metadata": {
        "id": "NVOu4kMptTK1",
        "outputId": "4687bfc7-b335-48a8-e467-ab47a561da4f"
      },
      "source": [
        "bd['floors_labels'].unique()"
      ],
      "execution_count": null,
      "outputs": [
        {
          "output_type": "execute_result",
          "data": {
            "text/plain": [
              "[Muito-Pequeno, Pequeno, NaN, Grande, Medio, Muito-Grande]\n",
              "Categories (5, object): [Muito-Pequeno < Pequeno < Medio < Grande < Muito-Grande]"
            ]
          },
          "metadata": {
            "tags": []
          },
          "execution_count": 40
        }
      ]
    },
    {
      "cell_type": "markdown",
      "metadata": {
        "id": "kXbMa3I3tTK3"
      },
      "source": [
        "# 3. Normalização\n",
        "\n",
        "Deixa os valores mais próximos da normal, ou seja, assume que os valores estejam cada vez mais próximos da média\n",
        "\n",
        "Altera a distribuição dos dados\n",
        "\n",
        "É **importante** falar que há várias formas de se normalizar, por exemplo, no caso abaixo pode-se tirar a média de `Idade` e a de `Renda` e dividir o dado de cada *feature* pela média respectiva.\n",
        "\n",
        "Por que se faz necessário?\n",
        "* Imagine que será feita uma modelagem onde vai ser utilizada uma regressão linear.\n",
        "* Se você tem duas variáveis: `Idade` e `Renda`\n",
        "    * A **Idade** terá valores como, 1, 10, 15, 70 e 100\n",
        "    * **Renda** tem valores muito maiores como **1.000**, **5.000**, **50.000** \n",
        "* Com essa discrepância, os valores de renda influenciarão muito no final do modelo, então a **normalização** deixará todos os dados na mesma faixa de valores.\n",
        "* O **Normalizer** da **sklearn.preprocessing** faz a **reescala por linha** e não por coluna, diferente dos outros que veremos mais à frente, logo no exemplo acima, ele utilizará os atributos **Idade** e **Renda** em conjunto para a reescala.\n",
        "\n",
        "Se a distribuição *não é Gaussiana* (normal) ou o *desvio padrão é muito pequeno*, pense em normalizar os dados.\n",
        "\n",
        "O padrão utilizado pela **sklearn.preprocessing** é a **norma euclidiana** que também é chamada de **norma L2** ou **norma quadrada**, mas pode ser utilizada também as **L1** e **Max**.\n",
        "\n",
        "Retirado direto do [Kaggle](https://www.kaggle.com/residentmario/l1-norms-versus-l2-norms), vamos falar rapidamente sobre as qualidades da L1 e L2:\n",
        "\n",
        "* **L1 é mais robusta que a L2**:\n",
        "    * Robustez é a resistência a outliers em um conjunto de dados.\n",
        "    * Por razões bastante óbvias, a norma L2 enquadra os valores, portanto aumenta exponencialmente o custo dos valores extremos; a norma L1 leva apenas o valor absoluto, portanto os considera linearmente.\n",
        "* **L2 é mais estável que a L1**:\n",
        "    *  É a resistência a ajustes horizontais. Sendo o oposto perpendicular à robustez.\n",
        "* **L1 tem mais soluções que L2**: \n",
        "    * L2 é a distância euclidiana, sempre há uma resposta certa para obter entre dois pontos mais rapidamente, já L1 é como estar em um carro, há várias formas de chegar ao mesmo lugar.  "
      ]
    },
    {
      "cell_type": "markdown",
      "metadata": {
        "id": "QoDjf3rltTK4"
      },
      "source": [
        "**Importando bibliotecas**"
      ]
    },
    {
      "cell_type": "code",
      "metadata": {
        "id": "3Q3LtjP0tTK4"
      },
      "source": [
        "from sklearn.preprocessing import Normalizer\n",
        "import numpy as np\n",
        "import seaborn as sns\n",
        "import matplotlib.pyplot as plt"
      ],
      "execution_count": null,
      "outputs": []
    },
    {
      "cell_type": "markdown",
      "metadata": {
        "id": "AXOvDUF7tTK6"
      },
      "source": [
        "**Dados de exemplo**"
      ]
    },
    {
      "cell_type": "code",
      "metadata": {
        "id": "4RI9R1cstTK7",
        "outputId": "f7ffe882-11be-4cbd-eae4-a58045df9504"
      },
      "source": [
        "data = [\n",
        "    [-1, 2],\n",
        "    [0.5, 6],\n",
        "    [0, 10],\n",
        "    [1, 18]\n",
        "]\n",
        "print (data)"
      ],
      "execution_count": null,
      "outputs": [
        {
          "output_type": "stream",
          "text": [
            "[[-1, 2], [0.5, 6], [0, 10], [1, 18]]\n"
          ],
          "name": "stdout"
        }
      ]
    },
    {
      "cell_type": "markdown",
      "metadata": {
        "id": "JbHCw7zLtTK-"
      },
      "source": [
        "**Veja qual a média dos dados atualmente**"
      ]
    },
    {
      "cell_type": "code",
      "metadata": {
        "id": "ofOUQBeftTK-",
        "outputId": "20b9244a-3fd4-4624-dcc3-8c2d7ced00b5"
      },
      "source": [
        "np.mean(data)"
      ],
      "execution_count": null,
      "outputs": [
        {
          "output_type": "execute_result",
          "data": {
            "text/plain": [
              "4.5625"
            ]
          },
          "metadata": {
            "tags": []
          },
          "execution_count": 43
        }
      ]
    },
    {
      "cell_type": "markdown",
      "metadata": {
        "id": "TmTMggTgtTLB"
      },
      "source": [
        "**Veja a distribuição atual**\n",
        "\n",
        "Veja que os dados têm uma distribuição **assimétrica à direita** ou **positiva**, ou seja, se você dividir os dados ao meio, ambos os lados não estarão iguais e **concentração dos dados** está no lado **direito**.\n",
        "\n",
        "Importante saber que nessa distribuição:\n",
        "\n",
        "$Média>Mediana>Moda$\n",
        "\n",
        "Numa **distribuição normal** os valores acima **são todos os iguais** e numa **assimétrica à esquerda** exatamente ao contrário.\n",
        "\n"
      ]
    },
    {
      "cell_type": "code",
      "metadata": {
        "id": "iINS06x0tTLB",
        "outputId": "5432b238-44a5-4ae7-bd28-7ba516c2b90f"
      },
      "source": [
        "sns.distplot(np.array(data).reshape(-1))\n",
        "plt.show()"
      ],
      "execution_count": null,
      "outputs": [
        {
          "output_type": "display_data",
          "data": {
            "image/png": "[encoded data removed]",
            "text/plain": [
              "<Figure size 432x288 with 1 Axes>"
            ]
          },
          "metadata": {
            "tags": []
          }
        }
      ]
    },
    {
      "cell_type": "code",
      "metadata": {
        "id": "xAm978-_tTLF",
        "outputId": "f12f4795-63fe-41bb-89f4-63e21cdbd221"
      },
      "source": [
        "sns.distplot(data);"
      ],
      "execution_count": null,
      "outputs": [
        {
          "output_type": "display_data",
          "data": {
            "image/png": "[encoded data removed]",
            "text/plain": [
              "<Figure size 432x288 with 1 Axes>"
            ]
          },
          "metadata": {
            "tags": []
          }
        }
      ]
    },
    {
      "cell_type": "markdown",
      "metadata": {
        "id": "ISPljU6mtTLH"
      },
      "source": [
        "**Criação do objeto Normalizador**"
      ]
    },
    {
      "cell_type": "code",
      "metadata": {
        "id": "m6J5xJOhtTLH"
      },
      "source": [
        "normalizer = Normalizer().fit(data)"
      ],
      "execution_count": null,
      "outputs": []
    },
    {
      "cell_type": "markdown",
      "metadata": {
        "id": "P_a2i9LItTLK"
      },
      "source": [
        "**Normalizando os dados**\n",
        "\n",
        "O objeto irá tentar manter os valores entre **-1** e **1**\n",
        "\n",
        "Lembre do que foi dito acima! A **distribuição foi alterada**!"
      ]
    },
    {
      "cell_type": "code",
      "metadata": {
        "id": "1H3N7RBGtTLL",
        "outputId": "068f598c-56d1-4617-d543-82458c467a87"
      },
      "source": [
        "data2 = normalizer.transform(data)\n",
        "print(data2)"
      ],
      "execution_count": null,
      "outputs": [
        {
          "output_type": "stream",
          "text": [
            "[[-0.4472136   0.89442719]\n",
            " [ 0.08304548  0.99654576]\n",
            " [ 0.          1.        ]\n",
            " [ 0.05547002  0.99846035]]\n"
          ],
          "name": "stdout"
        }
      ]
    },
    {
      "cell_type": "markdown",
      "metadata": {
        "id": "NlBAITnKtTLN"
      },
      "source": [
        "**Alterando dados para apenas uma dimensão**"
      ]
    },
    {
      "cell_type": "code",
      "metadata": {
        "id": "b4ByL5BitTLN",
        "outputId": "06b3789d-4ea0-452b-9dce-5e453a5c8a5b"
      },
      "source": [
        "data2 = data2.reshape(-1)\n",
        "print(data2)"
      ],
      "execution_count": null,
      "outputs": [
        {
          "output_type": "stream",
          "text": [
            "[-0.4472136   0.89442719  0.08304548  0.99654576  0.          1.\n",
            "  0.05547002  0.99846035]\n"
          ],
          "name": "stdout"
        }
      ]
    },
    {
      "cell_type": "markdown",
      "metadata": {
        "id": "bT6i-zRHtTLQ"
      },
      "source": [
        "**Veja**!\n",
        "A média que antes era de **4.5625**, agora é **0.4476**"
      ]
    },
    {
      "cell_type": "code",
      "metadata": {
        "id": "TpqFzK2HtTLQ",
        "outputId": "fb0fbbc4-ff69-4931-e2bb-c7c1140f5bce"
      },
      "source": [
        "np.mean(data2).round(4)"
      ],
      "execution_count": null,
      "outputs": [
        {
          "output_type": "execute_result",
          "data": {
            "text/plain": [
              "0.4476"
            ]
          },
          "metadata": {
            "tags": []
          },
          "execution_count": 49
        }
      ]
    },
    {
      "cell_type": "markdown",
      "metadata": {
        "id": "aKwWwV_ctTLT"
      },
      "source": [
        "**A distribuição agora está na normal**\n",
        "\n",
        "É __importante__ que você saiba que não é sempre que será utilizada esse técnica, normalmente é quando valores numéricos estão em escalas diferentes e quando o **modelo** utiliza distâncias entre eles, por exemplo, e/ou quando é necessário que os dados estejam na **distribuição normal**."
      ]
    },
    {
      "cell_type": "code",
      "metadata": {
        "id": "edfqzsoktTLT",
        "outputId": "07e97d6b-8de3-4b76-a81f-6b565455a3c6"
      },
      "source": [
        "sns.distplot(data2);"
      ],
      "execution_count": null,
      "outputs": [
        {
          "output_type": "display_data",
          "data": {
            "image/png": "[encoded data removed]",
            "text/plain": [
              "<Figure size 432x288 with 1 Axes>"
            ]
          },
          "metadata": {
            "tags": []
          }
        }
      ]
    },
    {
      "cell_type": "markdown",
      "metadata": {
        "id": "fxbzFMLhtTLV"
      },
      "source": [
        "# 4.  Padronização com MinMaxScaler\n",
        "\n",
        "A **Padronização** é também chamada de **Standartization** ou **Z-Score**\n",
        "\n",
        "Subtrai os dados pela média e divide pelo desvio padrão, por isso deixa mais próximo da normal.\n",
        "\n",
        "**z=dados-média/desvio padrão**\n",
        "\n",
        "Não altera a distribuição dos dados, apenas os reescala.\n",
        "\n",
        "É muito comum utilizar em algoritmos que trabalham com distância.\n",
        "\n",
        "Os valores ficam entre 0 e 1.\n",
        "\n",
        "\n",
        "Essa técnica coloca os **valores entre 0 e 1**\n",
        "\n",
        "**Não altera a distribuição** dos dados!"
      ]
    },
    {
      "cell_type": "code",
      "metadata": {
        "id": "PBBKeuDotTLW",
        "outputId": "c5d9f2e6-85ff-4583-fbd0-8b6420e2324f"
      },
      "source": [
        "data = np.random.normal(size = 50)\n",
        "print(data)"
      ],
      "execution_count": null,
      "outputs": [
        {
          "output_type": "stream",
          "text": [
            "[ 1.17761699 -2.43240959 -1.03377036 -0.03197756  0.65358513  0.09914483\n",
            " -2.04683284 -1.0364588   0.10880776 -0.19420798  1.65438436  1.65993223\n",
            " -0.62731901 -0.63254841 -0.12098062  0.36992701 -0.70771351 -0.6217631\n",
            "  0.99907463  1.10144814  0.52507224  1.96907865 -0.26430269 -0.43977742\n",
            " -1.93456621  0.15680849  1.13221162 -0.70706985 -1.29683562 -0.12469206\n",
            " -1.00040706 -1.97692106  0.17454895  0.55734898  0.88021021  1.4093558\n",
            " -0.03767111 -0.83239695  0.84304461  1.32711658 -0.76845731 -1.27171067\n",
            "  0.59081251  0.56455827 -0.33242962  2.80871789 -0.83284741 -0.20255503\n",
            " -1.54540998  0.7381973 ]\n"
          ],
          "name": "stdout"
        }
      ]
    },
    {
      "cell_type": "markdown",
      "metadata": {
        "id": "Bm_cx0axtTLX"
      },
      "source": [
        "**Colocando os dados na dimensão 1x1**"
      ]
    },
    {
      "cell_type": "code",
      "metadata": {
        "id": "O2zmy04FtTLX",
        "outputId": "cbcf8188-3ba5-4fbe-b932-a1b6f3e28c47"
      },
      "source": [
        "data = data.reshape(-1,1)\n",
        "data"
      ],
      "execution_count": null,
      "outputs": [
        {
          "output_type": "execute_result",
          "data": {
            "text/plain": [
              "array([[ 1.17761699],\n",
              "       [-2.43240959],\n",
              "       [-1.03377036],\n",
              "       [-0.03197756],\n",
              "       [ 0.65358513],\n",
              "       [ 0.09914483],\n",
              "       [-2.04683284],\n",
              "       [-1.0364588 ],\n",
              "       [ 0.10880776],\n",
              "       [-0.19420798],\n",
              "       [ 1.65438436],\n",
              "       [ 1.65993223],\n",
              "       [-0.62731901],\n",
              "       [-0.63254841],\n",
              "       [-0.12098062],\n",
              "       [ 0.36992701],\n",
              "       [-0.70771351],\n",
              "       [-0.6217631 ],\n",
              "       [ 0.99907463],\n",
              "       [ 1.10144814],\n",
              "       [ 0.52507224],\n",
              "       [ 1.96907865],\n",
              "       [-0.26430269],\n",
              "       [-0.43977742],\n",
              "       [-1.93456621],\n",
              "       [ 0.15680849],\n",
              "       [ 1.13221162],\n",
              "       [-0.70706985],\n",
              "       [-1.29683562],\n",
              "       [-0.12469206],\n",
              "       [-1.00040706],\n",
              "       [-1.97692106],\n",
              "       [ 0.17454895],\n",
              "       [ 0.55734898],\n",
              "       [ 0.88021021],\n",
              "       [ 1.4093558 ],\n",
              "       [-0.03767111],\n",
              "       [-0.83239695],\n",
              "       [ 0.84304461],\n",
              "       [ 1.32711658],\n",
              "       [-0.76845731],\n",
              "       [-1.27171067],\n",
              "       [ 0.59081251],\n",
              "       [ 0.56455827],\n",
              "       [-0.33242962],\n",
              "       [ 2.80871789],\n",
              "       [-0.83284741],\n",
              "       [-0.20255503],\n",
              "       [-1.54540998],\n",
              "       [ 0.7381973 ]])"
            ]
          },
          "metadata": {
            "tags": []
          },
          "execution_count": 52
        }
      ]
    },
    {
      "cell_type": "markdown",
      "metadata": {
        "id": "9UsTL0PytTLZ"
      },
      "source": [
        "**Visualizando os dados atuais**"
      ]
    },
    {
      "cell_type": "code",
      "metadata": {
        "id": "IsdIfv7ftTLZ",
        "outputId": "e1404158-1325-4d96-a375-5a05da2e6a89"
      },
      "source": [
        "sns.distplot(data);"
      ],
      "execution_count": null,
      "outputs": [
        {
          "output_type": "display_data",
          "data": {
            "image/png": "[encoded data removed]",
            "text/plain": [
              "<Figure size 432x288 with 1 Axes>"
            ]
          },
          "metadata": {
            "tags": []
          }
        }
      ]
    },
    {
      "cell_type": "markdown",
      "metadata": {
        "id": "IWWqit6-tTLc"
      },
      "source": [
        "**Criando objeto standartization**"
      ]
    },
    {
      "cell_type": "code",
      "metadata": {
        "id": "kD7q-NbGtTLc"
      },
      "source": [
        "from sklearn.preprocessing import MinMaxScaler\n",
        "scaler = MinMaxScaler().fit(data)"
      ],
      "execution_count": null,
      "outputs": []
    },
    {
      "cell_type": "markdown",
      "metadata": {
        "id": "zYkVgnZ4tTLe"
      },
      "source": [
        "**Transformando os dados**"
      ]
    },
    {
      "cell_type": "code",
      "metadata": {
        "id": "1RSxO_jhtTLe",
        "outputId": "46bdddbe-3b17-4526-d50f-613d596b5578"
      },
      "source": [
        "data_scaled = scaler.transform(data)\n",
        "print(data_scaled)"
      ],
      "execution_count": null,
      "outputs": [
        {
          "output_type": "stream",
          "text": [
            "[[0.68878817]\n",
            " [0.        ]\n",
            " [0.26685846]\n",
            " [0.45799917]\n",
            " [0.5888036 ]\n",
            " [0.48301714]\n",
            " [0.07356752]\n",
            " [0.26634551]\n",
            " [0.48486082]\n",
            " [0.42704583]\n",
            " [0.77975473]\n",
            " [0.78081326]\n",
            " [0.34440883]\n",
            " [0.34341107]\n",
            " [0.44101751]\n",
            " [0.53468202]\n",
            " [0.32906967]\n",
            " [0.34546889]\n",
            " [0.65472253]\n",
            " [0.67425525]\n",
            " [0.56428351]\n",
            " [0.83979797]\n",
            " [0.41367185]\n",
            " [0.38019151]\n",
            " [0.09498784]\n",
            " [0.49401929]\n",
            " [0.68012488]\n",
            " [0.32919248]\n",
            " [0.21666597]\n",
            " [0.44030937]\n",
            " [0.27322414]\n",
            " [0.08690659]\n",
            " [0.49740415]\n",
            " [0.57044187]\n",
            " [0.63204336]\n",
            " [0.73300362]\n",
            " [0.45691285]\n",
            " [0.30528024]\n",
            " [0.62495221]\n",
            " [0.71731248]\n",
            " [0.31747983]\n",
            " [0.22145978]\n",
            " [0.57682667]\n",
            " [0.57181739]\n",
            " [0.40067332]\n",
            " [1.        ]\n",
            " [0.30519429]\n",
            " [0.42545322]\n",
            " [0.16923832]\n",
            " [0.60494749]]\n"
          ],
          "name": "stdout"
        }
      ]
    },
    {
      "cell_type": "markdown",
      "metadata": {
        "id": "sfZtIo_dtTLg"
      },
      "source": [
        "**Reshape dos dados**"
      ]
    },
    {
      "cell_type": "code",
      "metadata": {
        "id": "qBY-G91wtTLg",
        "outputId": "5d954626-0989-4a1a-9408-5558b7210708"
      },
      "source": [
        "data_scaled = data_scaled.reshape(-1,1)\n",
        "data_scaled"
      ],
      "execution_count": null,
      "outputs": [
        {
          "output_type": "execute_result",
          "data": {
            "text/plain": [
              "array([[0.68878817],\n",
              "       [0.        ],\n",
              "       [0.26685846],\n",
              "       [0.45799917],\n",
              "       [0.5888036 ],\n",
              "       [0.48301714],\n",
              "       [0.07356752],\n",
              "       [0.26634551],\n",
              "       [0.48486082],\n",
              "       [0.42704583],\n",
              "       [0.77975473],\n",
              "       [0.78081326],\n",
              "       [0.34440883],\n",
              "       [0.34341107],\n",
              "       [0.44101751],\n",
              "       [0.53468202],\n",
              "       [0.32906967],\n",
              "       [0.34546889],\n",
              "       [0.65472253],\n",
              "       [0.67425525],\n",
              "       [0.56428351],\n",
              "       [0.83979797],\n",
              "       [0.41367185],\n",
              "       [0.38019151],\n",
              "       [0.09498784],\n",
              "       [0.49401929],\n",
              "       [0.68012488],\n",
              "       [0.32919248],\n",
              "       [0.21666597],\n",
              "       [0.44030937],\n",
              "       [0.27322414],\n",
              "       [0.08690659],\n",
              "       [0.49740415],\n",
              "       [0.57044187],\n",
              "       [0.63204336],\n",
              "       [0.73300362],\n",
              "       [0.45691285],\n",
              "       [0.30528024],\n",
              "       [0.62495221],\n",
              "       [0.71731248],\n",
              "       [0.31747983],\n",
              "       [0.22145978],\n",
              "       [0.57682667],\n",
              "       [0.57181739],\n",
              "       [0.40067332],\n",
              "       [1.        ],\n",
              "       [0.30519429],\n",
              "       [0.42545322],\n",
              "       [0.16923832],\n",
              "       [0.60494749]])"
            ]
          },
          "metadata": {
            "tags": []
          },
          "execution_count": 56
        }
      ]
    },
    {
      "cell_type": "markdown",
      "metadata": {
        "id": "KZ18OoxBtTLh"
      },
      "source": [
        "**Visualizando a distribuição dos dados reescalados**\n",
        "\n",
        "Veja que a única coisa que alterou foi a escala dos dados e que ficou entre 0 e 1.\n",
        "\n",
        "A distribuição ainda é a mesma."
      ]
    },
    {
      "cell_type": "code",
      "metadata": {
        "scrolled": true,
        "id": "2O1f64zftTLi",
        "outputId": "66ff815d-5f79-4846-9a05-593798021edb"
      },
      "source": [
        "sns.distplot(data_scaled);"
      ],
      "execution_count": null,
      "outputs": [
        {
          "output_type": "display_data",
          "data": {
            "image/png": "[encoded data removed]",
            "text/plain": [
              "<Figure size 432x288 with 1 Axes>"
            ]
          },
          "metadata": {
            "tags": []
          }
        }
      ]
    },
    {
      "cell_type": "markdown",
      "metadata": {
        "id": "BgA-FY8etTLk"
      },
      "source": [
        "# 5. Padronização com StandardScaler \n",
        "\n",
        "**Igual ao standartization com MinMaxScaler** porém é **mais suave**, não limitando em  0 a 1.\n",
        "\n",
        "Padroniza também sem alterar a forma dos dados.\n",
        "\n",
        "Tenta deixar o mais próximo da normal possivel.\n",
        "\n",
        "Se os dados já estiverem na normal, ao padronizar se terá desvio padrão 0 e média 1."
      ]
    },
    {
      "cell_type": "markdown",
      "metadata": {
        "id": "3kgd9-NxtTLl"
      },
      "source": [
        "**Criando dados**"
      ]
    },
    {
      "cell_type": "code",
      "metadata": {
        "id": "Aen6VgAKtTLl",
        "outputId": "c0a7ff6a-ac28-47c8-d5d1-68f5394a5fb0"
      },
      "source": [
        "data = np.random.normal(size = 50)\n",
        "print(data)"
      ],
      "execution_count": null,
      "outputs": [
        {
          "output_type": "stream",
          "text": [
            "[ 0.06483081  0.89997452  0.24872491 -0.15129613 -0.04337781  1.6922801\n",
            "  0.68062985  0.74777868  0.94248785  0.2712751   0.64261509 -1.24717058\n",
            " -0.4593563  -0.33733619  1.7430821  -2.79105253  0.23396473  0.50548668\n",
            " -0.11931949  1.10585992 -0.49254643 -0.62632603  0.14216526 -0.15804428\n",
            "  0.29582654  0.66144059  0.6297181  -0.15302181 -0.37011219 -0.03080788\n",
            "  0.50157267  0.1868106   1.56229952  0.51772962  0.14006593  1.6433459\n",
            "  0.29451078 -0.11152207 -0.34431978  0.07211554 -0.3759589  -0.97199587\n",
            "  0.68807807  0.7768508  -0.37146897 -1.68347391 -1.10547105 -0.78810235\n",
            "  0.7120094  -1.44096876]\n"
          ],
          "name": "stdout"
        }
      ]
    },
    {
      "cell_type": "markdown",
      "metadata": {
        "id": "CtdhSQSYtTLn"
      },
      "source": [
        "**Visualizando a distribuição atual dos dados**"
      ]
    },
    {
      "cell_type": "code",
      "metadata": {
        "id": "qePz3wlNtTLn",
        "outputId": "49ac35b9-17da-475a-8832-60a9373cc271"
      },
      "source": [
        "sns.distplot(data);"
      ],
      "execution_count": null,
      "outputs": [
        {
          "output_type": "display_data",
          "data": {
            "image/png": "[encoded data removed]",
            "text/plain": [
              "<Figure size 432x288 with 1 Axes>"
            ]
          },
          "metadata": {
            "tags": []
          }
        }
      ]
    },
    {
      "cell_type": "code",
      "metadata": {
        "id": "a223T_NUtTLs",
        "outputId": "e4f7961d-a789-4c3b-e0dc-60ef78ff00e6"
      },
      "source": [
        "data = data.reshape(-1,1)\n",
        "sns.distplot(data);"
      ],
      "execution_count": null,
      "outputs": [
        {
          "output_type": "display_data",
          "data": {
            "image/png": "[encoded data removed]",
            "text/plain": [
              "<Figure size 432x288 with 1 Axes>"
            ]
          },
          "metadata": {
            "tags": []
          }
        }
      ]
    },
    {
      "cell_type": "markdown",
      "metadata": {
        "id": "x7ycA7sPtTLu"
      },
      "source": [
        "**Visualizando dados criados**"
      ]
    },
    {
      "cell_type": "code",
      "metadata": {
        "id": "ct0yf6rWtTLv",
        "outputId": "b58f6f75-138b-422e-8302-35ec5f52b095"
      },
      "source": [
        "print(data)"
      ],
      "execution_count": null,
      "outputs": [
        {
          "output_type": "stream",
          "text": [
            "[[ 0.06483081]\n",
            " [ 0.89997452]\n",
            " [ 0.24872491]\n",
            " [-0.15129613]\n",
            " [-0.04337781]\n",
            " [ 1.6922801 ]\n",
            " [ 0.68062985]\n",
            " [ 0.74777868]\n",
            " [ 0.94248785]\n",
            " [ 0.2712751 ]\n",
            " [ 0.64261509]\n",
            " [-1.24717058]\n",
            " [-0.4593563 ]\n",
            " [-0.33733619]\n",
            " [ 1.7430821 ]\n",
            " [-2.79105253]\n",
            " [ 0.23396473]\n",
            " [ 0.50548668]\n",
            " [-0.11931949]\n",
            " [ 1.10585992]\n",
            " [-0.49254643]\n",
            " [-0.62632603]\n",
            " [ 0.14216526]\n",
            " [-0.15804428]\n",
            " [ 0.29582654]\n",
            " [ 0.66144059]\n",
            " [ 0.6297181 ]\n",
            " [-0.15302181]\n",
            " [-0.37011219]\n",
            " [-0.03080788]\n",
            " [ 0.50157267]\n",
            " [ 0.1868106 ]\n",
            " [ 1.56229952]\n",
            " [ 0.51772962]\n",
            " [ 0.14006593]\n",
            " [ 1.6433459 ]\n",
            " [ 0.29451078]\n",
            " [-0.11152207]\n",
            " [-0.34431978]\n",
            " [ 0.07211554]\n",
            " [-0.3759589 ]\n",
            " [-0.97199587]\n",
            " [ 0.68807807]\n",
            " [ 0.7768508 ]\n",
            " [-0.37146897]\n",
            " [-1.68347391]\n",
            " [-1.10547105]\n",
            " [-0.78810235]\n",
            " [ 0.7120094 ]\n",
            " [-1.44096876]]\n"
          ],
          "name": "stdout"
        }
      ]
    },
    {
      "cell_type": "markdown",
      "metadata": {
        "id": "BfvO66W7tTLv"
      },
      "source": [
        "**Criando objeto standartization**"
      ]
    },
    {
      "cell_type": "code",
      "metadata": {
        "id": "Fk0iYeBBtTLx"
      },
      "source": [
        "from sklearn.preprocessing import StandardScaler\n",
        "scaler = StandardScaler().fit(data)"
      ],
      "execution_count": null,
      "outputs": []
    },
    {
      "cell_type": "markdown",
      "metadata": {
        "id": "vAfeX6oTtTLy"
      },
      "source": [
        "**Reescalando os dados**"
      ]
    },
    {
      "cell_type": "code",
      "metadata": {
        "id": "JqDWejmctTLy",
        "outputId": "e038857d-6a36-4a19-ef7c-7f2d1d379be7"
      },
      "source": [
        "data_scaled = scaler.transform(data)\n",
        "print(data_scaled)"
      ],
      "execution_count": null,
      "outputs": [
        {
          "output_type": "stream",
          "text": [
            "[[-0.02753522]\n",
            " [ 0.93953892]\n",
            " [ 0.18540924]\n",
            " [-0.27780444]\n",
            " [-0.15283791]\n",
            " [ 1.85700763]\n",
            " [ 0.68554364]\n",
            " [ 0.76330019]\n",
            " [ 0.98876822]\n",
            " [ 0.21152177]\n",
            " [ 0.64152357]\n",
            " [-1.54679782]\n",
            " [-0.6345299 ]\n",
            " [-0.49323386]\n",
            " [ 1.915835  ]\n",
            " [-3.33457191]\n",
            " [ 0.16831735]\n",
            " [ 0.48273253]\n",
            " [-0.24077635]\n",
            " [ 1.17794872]\n",
            " [-0.67296318]\n",
            " [-0.82787639]\n",
            " [ 0.06201602]\n",
            " [-0.28561862]\n",
            " [ 0.23995168]\n",
            " [ 0.66332299]\n",
            " [ 0.6265892 ]\n",
            " [-0.27980274]\n",
            " [-0.5311876 ]\n",
            " [-0.13828226]\n",
            " [ 0.47820021]\n",
            " [ 0.11371413]\n",
            " [ 1.7064936 ]\n",
            " [ 0.49690952]\n",
            " [ 0.05958505]\n",
            " [ 1.80034314]\n",
            " [ 0.23842806]\n",
            " [-0.23174714]\n",
            " [-0.50132067]\n",
            " [-0.01909969]\n",
            " [-0.53795794]\n",
            " [-1.22815284]\n",
            " [ 0.69416848]\n",
            " [ 0.79696494]\n",
            " [-0.53275872]\n",
            " [-2.05202543]\n",
            " [-1.38271353]\n",
            " [-1.01520905]\n",
            " [ 0.72188032]\n",
            " [-1.77121094]]\n"
          ],
          "name": "stdout"
        }
      ]
    },
    {
      "cell_type": "markdown",
      "metadata": {
        "id": "svGkkSVctTL1"
      },
      "source": [
        "**Visualizando a nova distribuiçao**\n",
        "\n",
        "Veja que a única coisa que alterou foi a escala dos dados, mas dessa vez não está limitado a 0 e 1.\n",
        "\n",
        "A distribuição ainda é a mesma."
      ]
    },
    {
      "cell_type": "code",
      "metadata": {
        "id": "2f5nmjo8tTL1",
        "outputId": "7413ac84-ffeb-4b7d-da9b-0b4516527bcc"
      },
      "source": [
        "data_scaled = data_scaled.reshape(-1,1)\n",
        "sns.distplot(data_scaled);"
      ],
      "execution_count": null,
      "outputs": [
        {
          "output_type": "display_data",
          "data": {
            "image/png": "[encoded data removed]",
            "text/plain": [
              "<Figure size 432x288 with 1 Axes>"
            ]
          },
          "metadata": {
            "tags": []
          }
        }
      ]
    },
    {
      "cell_type": "code",
      "metadata": {
        "id": "EWXj7v14tTL2",
        "outputId": "5c5d70f7-3fa6-490a-d478-3a5ca5774390"
      },
      "source": [
        "sns.boxplot(data=data);"
      ],
      "execution_count": null,
      "outputs": [
        {
          "output_type": "display_data",
          "data": {
            "image/png": "[encoded data removed]",
            "text/plain": [
              "<Figure size 432x288 with 1 Axes>"
            ]
          },
          "metadata": {
            "tags": []
          }
        }
      ]
    },
    {
      "cell_type": "markdown",
      "metadata": {
        "id": "gxySlOPhtTL4"
      },
      "source": [
        "# 6. Aplicando a padronização a dados reais"
      ]
    },
    {
      "cell_type": "markdown",
      "metadata": {
        "id": "XVHMUE0otTL4"
      },
      "source": [
        "**Carregando a base de dados**"
      ]
    },
    {
      "cell_type": "code",
      "metadata": {
        "id": "038dlB6itTL4"
      },
      "source": [
        "df = pd.read_csv(\"https://archive.ics.uci.edu/ml/machine-learning-databases/wine/wine.data\", sep=\",\")"
      ],
      "execution_count": null,
      "outputs": []
    },
    {
      "cell_type": "code",
      "metadata": {
        "id": "H80cO1oHtTL6",
        "outputId": "6de3258b-421b-41f5-9aa7-c612e73a1395"
      },
      "source": [
        "df.head(3)"
      ],
      "execution_count": null,
      "outputs": [
        {
          "output_type": "execute_result",
          "data": {
            "text/html": [
              "<div>\n",
              "<style scoped>\n",
              "    .dataframe tbody tr th:only-of-type {\n",
              "        vertical-align: middle;\n",
              "    }\n",
              "\n",
              "    .dataframe tbody tr th {\n",
              "        vertical-align: top;\n",
              "    }\n",
              "\n",
              "    .dataframe thead th {\n",
              "        text-align: right;\n",
              "    }\n",
              "</style>\n",
              "<table border=\"1\" class=\"dataframe\">\n",
              "  <thead>\n",
              "    <tr style=\"text-align: right;\">\n",
              "      <th></th>\n",
              "      <th>1</th>\n",
              "      <th>14.23</th>\n",
              "      <th>1.71</th>\n",
              "      <th>2.43</th>\n",
              "      <th>15.6</th>\n",
              "      <th>127</th>\n",
              "      <th>2.8</th>\n",
              "      <th>3.06</th>\n",
              "      <th>.28</th>\n",
              "      <th>2.29</th>\n",
              "      <th>5.64</th>\n",
              "      <th>1.04</th>\n",
              "      <th>3.92</th>\n",
              "      <th>1065</th>\n",
              "    </tr>\n",
              "  </thead>\n",
              "  <tbody>\n",
              "    <tr>\n",
              "      <th>0</th>\n",
              "      <td>1</td>\n",
              "      <td>13.20</td>\n",
              "      <td>1.78</td>\n",
              "      <td>2.14</td>\n",
              "      <td>11.2</td>\n",
              "      <td>100</td>\n",
              "      <td>2.65</td>\n",
              "      <td>2.76</td>\n",
              "      <td>0.26</td>\n",
              "      <td>1.28</td>\n",
              "      <td>4.38</td>\n",
              "      <td>1.05</td>\n",
              "      <td>3.40</td>\n",
              "      <td>1050</td>\n",
              "    </tr>\n",
              "    <tr>\n",
              "      <th>1</th>\n",
              "      <td>1</td>\n",
              "      <td>13.16</td>\n",
              "      <td>2.36</td>\n",
              "      <td>2.67</td>\n",
              "      <td>18.6</td>\n",
              "      <td>101</td>\n",
              "      <td>2.80</td>\n",
              "      <td>3.24</td>\n",
              "      <td>0.30</td>\n",
              "      <td>2.81</td>\n",
              "      <td>5.68</td>\n",
              "      <td>1.03</td>\n",
              "      <td>3.17</td>\n",
              "      <td>1185</td>\n",
              "    </tr>\n",
              "    <tr>\n",
              "      <th>2</th>\n",
              "      <td>1</td>\n",
              "      <td>14.37</td>\n",
              "      <td>1.95</td>\n",
              "      <td>2.50</td>\n",
              "      <td>16.8</td>\n",
              "      <td>113</td>\n",
              "      <td>3.85</td>\n",
              "      <td>3.49</td>\n",
              "      <td>0.24</td>\n",
              "      <td>2.18</td>\n",
              "      <td>7.80</td>\n",
              "      <td>0.86</td>\n",
              "      <td>3.45</td>\n",
              "      <td>1480</td>\n",
              "    </tr>\n",
              "  </tbody>\n",
              "</table>\n",
              "</div>"
            ],
            "text/plain": [
              "   1  14.23  1.71  2.43  15.6  127   2.8  3.06   .28  2.29  5.64  1.04  3.92  \\\n",
              "0  1  13.20  1.78  2.14  11.2  100  2.65  2.76  0.26  1.28  4.38  1.05  3.40   \n",
              "1  1  13.16  2.36  2.67  18.6  101  2.80  3.24  0.30  2.81  5.68  1.03  3.17   \n",
              "2  1  14.37  1.95  2.50  16.8  113  3.85  3.49  0.24  2.18  7.80  0.86  3.45   \n",
              "\n",
              "   1065  \n",
              "0  1050  \n",
              "1  1185  \n",
              "2  1480  "
            ]
          },
          "metadata": {
            "tags": []
          },
          "execution_count": 67
        }
      ]
    },
    {
      "cell_type": "markdown",
      "metadata": {
        "id": "AjygSbUYtTL7"
      },
      "source": [
        "**Visualizando o tamanho dos dados**"
      ]
    },
    {
      "cell_type": "code",
      "metadata": {
        "id": "KxJ9abIRtTL7",
        "outputId": "e6079c20-a0bc-4fa3-ae3d-df54b421de06"
      },
      "source": [
        "df.shape"
      ],
      "execution_count": null,
      "outputs": [
        {
          "output_type": "execute_result",
          "data": {
            "text/plain": [
              "(177, 14)"
            ]
          },
          "metadata": {
            "tags": []
          },
          "execution_count": 68
        }
      ]
    },
    {
      "cell_type": "markdown",
      "metadata": {
        "id": "gv5tTQNItTL-"
      },
      "source": [
        "**Definindo o nome das colunas**"
      ]
    },
    {
      "cell_type": "code",
      "metadata": {
        "id": "Todc1lTxtTL-"
      },
      "source": [
        "df.columns = [ 'Class'\n",
        "              ,'alcohol'\n",
        "             ,'malicAcid'\n",
        "             ,'ash'\n",
        "            ,'ashalcalinity'\n",
        "             ,'magnesium'\n",
        "            ,'totalPhenols'\n",
        "             ,'flavanoids'\n",
        "             ,'nonFlavanoidPhenols'\n",
        "             ,'proanthocyanins'\n",
        "            ,'colorIntensity'\n",
        "             ,'hue'\n",
        "             ,'od280_od315'\n",
        "             ,'proline'\n",
        "             ]"
      ],
      "execution_count": null,
      "outputs": []
    },
    {
      "cell_type": "markdown",
      "metadata": {
        "id": "MYEE8LwCtTL_"
      },
      "source": [
        "**Visualizando os dados com as novas colunas**"
      ]
    },
    {
      "cell_type": "code",
      "metadata": {
        "id": "WoSGtwv8tTMA",
        "outputId": "b7ff73ce-9a9d-4eb3-a732-01d2cf2339b9"
      },
      "source": [
        "df.head()"
      ],
      "execution_count": null,
      "outputs": [
        {
          "output_type": "execute_result",
          "data": {
            "text/html": [
              "<div>\n",
              "<style scoped>\n",
              "    .dataframe tbody tr th:only-of-type {\n",
              "        vertical-align: middle;\n",
              "    }\n",
              "\n",
              "    .dataframe tbody tr th {\n",
              "        vertical-align: top;\n",
              "    }\n",
              "\n",
              "    .dataframe thead th {\n",
              "        text-align: right;\n",
              "    }\n",
              "</style>\n",
              "<table border=\"1\" class=\"dataframe\">\n",
              "  <thead>\n",
              "    <tr style=\"text-align: right;\">\n",
              "      <th></th>\n",
              "      <th>Class</th>\n",
              "      <th>alcohol</th>\n",
              "      <th>malicAcid</th>\n",
              "      <th>ash</th>\n",
              "      <th>ashalcalinity</th>\n",
              "      <th>magnesium</th>\n",
              "      <th>totalPhenols</th>\n",
              "      <th>flavanoids</th>\n",
              "      <th>nonFlavanoidPhenols</th>\n",
              "      <th>proanthocyanins</th>\n",
              "      <th>colorIntensity</th>\n",
              "      <th>hue</th>\n",
              "      <th>od280_od315</th>\n",
              "      <th>proline</th>\n",
              "    </tr>\n",
              "  </thead>\n",
              "  <tbody>\n",
              "    <tr>\n",
              "      <th>0</th>\n",
              "      <td>1</td>\n",
              "      <td>13.20</td>\n",
              "      <td>1.78</td>\n",
              "      <td>2.14</td>\n",
              "      <td>11.2</td>\n",
              "      <td>100</td>\n",
              "      <td>2.65</td>\n",
              "      <td>2.76</td>\n",
              "      <td>0.26</td>\n",
              "      <td>1.28</td>\n",
              "      <td>4.38</td>\n",
              "      <td>1.05</td>\n",
              "      <td>3.40</td>\n",
              "      <td>1050</td>\n",
              "    </tr>\n",
              "    <tr>\n",
              "      <th>1</th>\n",
              "      <td>1</td>\n",
              "      <td>13.16</td>\n",
              "      <td>2.36</td>\n",
              "      <td>2.67</td>\n",
              "      <td>18.6</td>\n",
              "      <td>101</td>\n",
              "      <td>2.80</td>\n",
              "      <td>3.24</td>\n",
              "      <td>0.30</td>\n",
              "      <td>2.81</td>\n",
              "      <td>5.68</td>\n",
              "      <td>1.03</td>\n",
              "      <td>3.17</td>\n",
              "      <td>1185</td>\n",
              "    </tr>\n",
              "    <tr>\n",
              "      <th>2</th>\n",
              "      <td>1</td>\n",
              "      <td>14.37</td>\n",
              "      <td>1.95</td>\n",
              "      <td>2.50</td>\n",
              "      <td>16.8</td>\n",
              "      <td>113</td>\n",
              "      <td>3.85</td>\n",
              "      <td>3.49</td>\n",
              "      <td>0.24</td>\n",
              "      <td>2.18</td>\n",
              "      <td>7.80</td>\n",
              "      <td>0.86</td>\n",
              "      <td>3.45</td>\n",
              "      <td>1480</td>\n",
              "    </tr>\n",
              "    <tr>\n",
              "      <th>3</th>\n",
              "      <td>1</td>\n",
              "      <td>13.24</td>\n",
              "      <td>2.59</td>\n",
              "      <td>2.87</td>\n",
              "      <td>21.0</td>\n",
              "      <td>118</td>\n",
              "      <td>2.80</td>\n",
              "      <td>2.69</td>\n",
              "      <td>0.39</td>\n",
              "      <td>1.82</td>\n",
              "      <td>4.32</td>\n",
              "      <td>1.04</td>\n",
              "      <td>2.93</td>\n",
              "      <td>735</td>\n",
              "    </tr>\n",
              "    <tr>\n",
              "      <th>4</th>\n",
              "      <td>1</td>\n",
              "      <td>14.20</td>\n",
              "      <td>1.76</td>\n",
              "      <td>2.45</td>\n",
              "      <td>15.2</td>\n",
              "      <td>112</td>\n",
              "      <td>3.27</td>\n",
              "      <td>3.39</td>\n",
              "      <td>0.34</td>\n",
              "      <td>1.97</td>\n",
              "      <td>6.75</td>\n",
              "      <td>1.05</td>\n",
              "      <td>2.85</td>\n",
              "      <td>1450</td>\n",
              "    </tr>\n",
              "  </tbody>\n",
              "</table>\n",
              "</div>"
            ],
            "text/plain": [
              "   Class  alcohol  malicAcid   ash  ashalcalinity  magnesium  totalPhenols  \\\n",
              "0      1    13.20       1.78  2.14           11.2        100          2.65   \n",
              "1      1    13.16       2.36  2.67           18.6        101          2.80   \n",
              "2      1    14.37       1.95  2.50           16.8        113          3.85   \n",
              "3      1    13.24       2.59  2.87           21.0        118          2.80   \n",
              "4      1    14.20       1.76  2.45           15.2        112          3.27   \n",
              "\n",
              "   flavanoids  nonFlavanoidPhenols  proanthocyanins  colorIntensity   hue  \\\n",
              "0        2.76                 0.26             1.28            4.38  1.05   \n",
              "1        3.24                 0.30             2.81            5.68  1.03   \n",
              "2        3.49                 0.24             2.18            7.80  0.86   \n",
              "3        2.69                 0.39             1.82            4.32  1.04   \n",
              "4        3.39                 0.34             1.97            6.75  1.05   \n",
              "\n",
              "   od280_od315  proline  \n",
              "0         3.40     1050  \n",
              "1         3.17     1185  \n",
              "2         3.45     1480  \n",
              "3         2.93      735  \n",
              "4         2.85     1450  "
            ]
          },
          "metadata": {
            "tags": []
          },
          "execution_count": 70
        }
      ]
    },
    {
      "cell_type": "markdown",
      "metadata": {
        "id": "8MMH41jztTMC"
      },
      "source": [
        "**Visualizando se os dados estão iguais**"
      ]
    },
    {
      "cell_type": "code",
      "metadata": {
        "id": "gz0bYZJctTMC",
        "outputId": "0e271559-a396-4b0d-d5d7-9fcf3841697f"
      },
      "source": [
        "df.shape"
      ],
      "execution_count": null,
      "outputs": [
        {
          "output_type": "execute_result",
          "data": {
            "text/plain": [
              "(177, 14)"
            ]
          },
          "metadata": {
            "tags": []
          },
          "execution_count": 71
        }
      ]
    },
    {
      "cell_type": "markdown",
      "metadata": {
        "id": "dKY7Q332tTME"
      },
      "source": [
        "**Descrição da base de dados**\n",
        "\n",
        "Veja no minimo e máximo como os valores são discrepantes. Isso irá influenciar no resultado final do modelo."
      ]
    },
    {
      "cell_type": "code",
      "metadata": {
        "id": "hrEQhDTBtTMF",
        "outputId": "e0bfa8af-16d8-44d8-8f86-2ff45882b89a"
      },
      "source": [
        "df.describe()"
      ],
      "execution_count": null,
      "outputs": [
        {
          "output_type": "execute_result",
          "data": {
            "text/html": [
              "<div>\n",
              "<style scoped>\n",
              "    .dataframe tbody tr th:only-of-type {\n",
              "        vertical-align: middle;\n",
              "    }\n",
              "\n",
              "    .dataframe tbody tr th {\n",
              "        vertical-align: top;\n",
              "    }\n",
              "\n",
              "    .dataframe thead th {\n",
              "        text-align: right;\n",
              "    }\n",
              "</style>\n",
              "<table border=\"1\" class=\"dataframe\">\n",
              "  <thead>\n",
              "    <tr style=\"text-align: right;\">\n",
              "      <th></th>\n",
              "      <th>Class</th>\n",
              "      <th>alcohol</th>\n",
              "      <th>malicAcid</th>\n",
              "      <th>ash</th>\n",
              "      <th>ashalcalinity</th>\n",
              "      <th>magnesium</th>\n",
              "      <th>totalPhenols</th>\n",
              "      <th>flavanoids</th>\n",
              "      <th>nonFlavanoidPhenols</th>\n",
              "      <th>proanthocyanins</th>\n",
              "      <th>colorIntensity</th>\n",
              "      <th>hue</th>\n",
              "      <th>od280_od315</th>\n",
              "      <th>proline</th>\n",
              "    </tr>\n",
              "  </thead>\n",
              "  <tbody>\n",
              "    <tr>\n",
              "      <th>count</th>\n",
              "      <td>177.000000</td>\n",
              "      <td>177.000000</td>\n",
              "      <td>177.000000</td>\n",
              "      <td>177.000000</td>\n",
              "      <td>177.000000</td>\n",
              "      <td>177.000000</td>\n",
              "      <td>177.000000</td>\n",
              "      <td>177.000000</td>\n",
              "      <td>177.000000</td>\n",
              "      <td>177.000000</td>\n",
              "      <td>177.000000</td>\n",
              "      <td>177.000000</td>\n",
              "      <td>177.000000</td>\n",
              "      <td>177.000000</td>\n",
              "    </tr>\n",
              "    <tr>\n",
              "      <th>mean</th>\n",
              "      <td>1.943503</td>\n",
              "      <td>12.993672</td>\n",
              "      <td>2.339887</td>\n",
              "      <td>2.366158</td>\n",
              "      <td>19.516949</td>\n",
              "      <td>99.587571</td>\n",
              "      <td>2.292260</td>\n",
              "      <td>2.023446</td>\n",
              "      <td>0.362316</td>\n",
              "      <td>1.586949</td>\n",
              "      <td>5.054802</td>\n",
              "      <td>0.956983</td>\n",
              "      <td>2.604294</td>\n",
              "      <td>745.096045</td>\n",
              "    </tr>\n",
              "    <tr>\n",
              "      <th>std</th>\n",
              "      <td>0.773991</td>\n",
              "      <td>0.808808</td>\n",
              "      <td>1.119314</td>\n",
              "      <td>0.275080</td>\n",
              "      <td>3.336071</td>\n",
              "      <td>14.174018</td>\n",
              "      <td>0.626465</td>\n",
              "      <td>0.998658</td>\n",
              "      <td>0.124653</td>\n",
              "      <td>0.571545</td>\n",
              "      <td>2.324446</td>\n",
              "      <td>0.229135</td>\n",
              "      <td>0.705103</td>\n",
              "      <td>314.884046</td>\n",
              "    </tr>\n",
              "    <tr>\n",
              "      <th>min</th>\n",
              "      <td>1.000000</td>\n",
              "      <td>11.030000</td>\n",
              "      <td>0.740000</td>\n",
              "      <td>1.360000</td>\n",
              "      <td>10.600000</td>\n",
              "      <td>70.000000</td>\n",
              "      <td>0.980000</td>\n",
              "      <td>0.340000</td>\n",
              "      <td>0.130000</td>\n",
              "      <td>0.410000</td>\n",
              "      <td>1.280000</td>\n",
              "      <td>0.480000</td>\n",
              "      <td>1.270000</td>\n",
              "      <td>278.000000</td>\n",
              "    </tr>\n",
              "    <tr>\n",
              "      <th>25%</th>\n",
              "      <td>1.000000</td>\n",
              "      <td>12.360000</td>\n",
              "      <td>1.600000</td>\n",
              "      <td>2.210000</td>\n",
              "      <td>17.200000</td>\n",
              "      <td>88.000000</td>\n",
              "      <td>1.740000</td>\n",
              "      <td>1.200000</td>\n",
              "      <td>0.270000</td>\n",
              "      <td>1.250000</td>\n",
              "      <td>3.210000</td>\n",
              "      <td>0.780000</td>\n",
              "      <td>1.930000</td>\n",
              "      <td>500.000000</td>\n",
              "    </tr>\n",
              "    <tr>\n",
              "      <th>50%</th>\n",
              "      <td>2.000000</td>\n",
              "      <td>13.050000</td>\n",
              "      <td>1.870000</td>\n",
              "      <td>2.360000</td>\n",
              "      <td>19.500000</td>\n",
              "      <td>98.000000</td>\n",
              "      <td>2.350000</td>\n",
              "      <td>2.130000</td>\n",
              "      <td>0.340000</td>\n",
              "      <td>1.550000</td>\n",
              "      <td>4.680000</td>\n",
              "      <td>0.960000</td>\n",
              "      <td>2.780000</td>\n",
              "      <td>672.000000</td>\n",
              "    </tr>\n",
              "    <tr>\n",
              "      <th>75%</th>\n",
              "      <td>3.000000</td>\n",
              "      <td>13.670000</td>\n",
              "      <td>3.100000</td>\n",
              "      <td>2.560000</td>\n",
              "      <td>21.500000</td>\n",
              "      <td>107.000000</td>\n",
              "      <td>2.800000</td>\n",
              "      <td>2.860000</td>\n",
              "      <td>0.440000</td>\n",
              "      <td>1.950000</td>\n",
              "      <td>6.200000</td>\n",
              "      <td>1.120000</td>\n",
              "      <td>3.170000</td>\n",
              "      <td>985.000000</td>\n",
              "    </tr>\n",
              "    <tr>\n",
              "      <th>max</th>\n",
              "      <td>3.000000</td>\n",
              "      <td>14.830000</td>\n",
              "      <td>5.800000</td>\n",
              "      <td>3.230000</td>\n",
              "      <td>30.000000</td>\n",
              "      <td>162.000000</td>\n",
              "      <td>3.880000</td>\n",
              "      <td>5.080000</td>\n",
              "      <td>0.660000</td>\n",
              "      <td>3.580000</td>\n",
              "      <td>13.000000</td>\n",
              "      <td>1.710000</td>\n",
              "      <td>4.000000</td>\n",
              "      <td>1680.000000</td>\n",
              "    </tr>\n",
              "  </tbody>\n",
              "</table>\n",
              "</div>"
            ],
            "text/plain": [
              "            Class     alcohol   malicAcid         ash  ashalcalinity  \\\n",
              "count  177.000000  177.000000  177.000000  177.000000     177.000000   \n",
              "mean     1.943503   12.993672    2.339887    2.366158      19.516949   \n",
              "std      0.773991    0.808808    1.119314    0.275080       3.336071   \n",
              "min      1.000000   11.030000    0.740000    1.360000      10.600000   \n",
              "25%      1.000000   12.360000    1.600000    2.210000      17.200000   \n",
              "50%      2.000000   13.050000    1.870000    2.360000      19.500000   \n",
              "75%      3.000000   13.670000    3.100000    2.560000      21.500000   \n",
              "max      3.000000   14.830000    5.800000    3.230000      30.000000   \n",
              "\n",
              "        magnesium  totalPhenols  flavanoids  nonFlavanoidPhenols  \\\n",
              "count  177.000000    177.000000  177.000000           177.000000   \n",
              "mean    99.587571      2.292260    2.023446             0.362316   \n",
              "std     14.174018      0.626465    0.998658             0.124653   \n",
              "min     70.000000      0.980000    0.340000             0.130000   \n",
              "25%     88.000000      1.740000    1.200000             0.270000   \n",
              "50%     98.000000      2.350000    2.130000             0.340000   \n",
              "75%    107.000000      2.800000    2.860000             0.440000   \n",
              "max    162.000000      3.880000    5.080000             0.660000   \n",
              "\n",
              "       proanthocyanins  colorIntensity         hue  od280_od315      proline  \n",
              "count       177.000000      177.000000  177.000000   177.000000   177.000000  \n",
              "mean          1.586949        5.054802    0.956983     2.604294   745.096045  \n",
              "std           0.571545        2.324446    0.229135     0.705103   314.884046  \n",
              "min           0.410000        1.280000    0.480000     1.270000   278.000000  \n",
              "25%           1.250000        3.210000    0.780000     1.930000   500.000000  \n",
              "50%           1.550000        4.680000    0.960000     2.780000   672.000000  \n",
              "75%           1.950000        6.200000    1.120000     3.170000   985.000000  \n",
              "max           3.580000       13.000000    1.710000     4.000000  1680.000000  "
            ]
          },
          "metadata": {
            "tags": []
          },
          "execution_count": 72
        }
      ]
    },
    {
      "cell_type": "markdown",
      "metadata": {
        "id": "w39OXyb6tTMG"
      },
      "source": [
        "**Verificando os tipos dos dados**"
      ]
    },
    {
      "cell_type": "code",
      "metadata": {
        "id": "N1GsiCVqtTMH",
        "outputId": "2627ed20-e149-4448-a69f-8009b40dd2c3"
      },
      "source": [
        "df.info()"
      ],
      "execution_count": null,
      "outputs": [
        {
          "output_type": "stream",
          "text": [
            "<class 'pandas.core.frame.DataFrame'>\n",
            "RangeIndex: 177 entries, 0 to 176\n",
            "Data columns (total 14 columns):\n",
            " #   Column               Non-Null Count  Dtype  \n",
            "---  ------               --------------  -----  \n",
            " 0   Class                177 non-null    int64  \n",
            " 1   alcohol              177 non-null    float64\n",
            " 2   malicAcid            177 non-null    float64\n",
            " 3   ash                  177 non-null    float64\n",
            " 4   ashalcalinity        177 non-null    float64\n",
            " 5   magnesium            177 non-null    int64  \n",
            " 6   totalPhenols         177 non-null    float64\n",
            " 7   flavanoids           177 non-null    float64\n",
            " 8   nonFlavanoidPhenols  177 non-null    float64\n",
            " 9   proanthocyanins      177 non-null    float64\n",
            " 10  colorIntensity       177 non-null    float64\n",
            " 11  hue                  177 non-null    float64\n",
            " 12  od280_od315          177 non-null    float64\n",
            " 13  proline              177 non-null    int64  \n",
            "dtypes: float64(11), int64(3)\n",
            "memory usage: 19.5 KB\n"
          ],
          "name": "stdout"
        }
      ]
    },
    {
      "cell_type": "markdown",
      "metadata": {
        "id": "N5IIM7M1tTMJ"
      },
      "source": [
        "**Vamos verificar quais os valores da classe**"
      ]
    },
    {
      "cell_type": "code",
      "metadata": {
        "id": "LXrfZcJNtTMJ",
        "outputId": "3e29335b-a64e-497f-e9d3-7c2eb591a912"
      },
      "source": [
        "df['Class'].unique()"
      ],
      "execution_count": null,
      "outputs": [
        {
          "output_type": "execute_result",
          "data": {
            "text/plain": [
              "array([1, 2, 3])"
            ]
          },
          "metadata": {
            "tags": []
          },
          "execution_count": 74
        }
      ]
    },
    {
      "cell_type": "markdown",
      "metadata": {
        "id": "CGSGZ7OctTMK"
      },
      "source": [
        "**Verificando contagem da classe**"
      ]
    },
    {
      "cell_type": "code",
      "metadata": {
        "id": "5sBzlTv9tTMK",
        "outputId": "72f7587f-8671-42e7-e9c2-db97ca39dc4c"
      },
      "source": [
        "df['Class'].value_counts()"
      ],
      "execution_count": null,
      "outputs": [
        {
          "output_type": "execute_result",
          "data": {
            "text/plain": [
              "2    71\n",
              "1    58\n",
              "3    48\n",
              "Name: Class, dtype: int64"
            ]
          },
          "metadata": {
            "tags": []
          },
          "execution_count": 75
        }
      ]
    },
    {
      "cell_type": "markdown",
      "metadata": {
        "id": "CfOVaNbZtTMM"
      },
      "source": [
        "**Separando os dados que iremos padronizar**\n",
        "\n",
        "Por fins didáticos não iremos utilizar toda a base, isso ajudará na visualização"
      ]
    },
    {
      "cell_type": "code",
      "metadata": {
        "id": "5tv_GFQxtTMM"
      },
      "source": [
        "df_sub = df[['proline','alcohol','malicAcid','magnesium','flavanoids']]"
      ],
      "execution_count": null,
      "outputs": []
    },
    {
      "cell_type": "markdown",
      "metadata": {
        "id": "PBwryrPRtTMO"
      },
      "source": [
        "**Visualizando graficamente os dados**\n",
        "\n",
        "Olhe o quanto esses dados estão discrepantes"
      ]
    },
    {
      "cell_type": "code",
      "metadata": {
        "id": "cxLVVaEQtTMO",
        "outputId": "aab4b329-f64a-478d-f0c7-9646b65c2a48"
      },
      "source": [
        "import seaborn as sns\n",
        "ax=sns.boxplot(data=df_sub);"
      ],
      "execution_count": null,
      "outputs": [
        {
          "output_type": "display_data",
          "data": {
            "image/png": "[encoded data removed]",
            "text/plain": [
              "<Figure size 432x288 with 1 Axes>"
            ]
          },
          "metadata": {
            "tags": []
          }
        }
      ]
    },
    {
      "cell_type": "markdown",
      "metadata": {
        "id": "1xoIP9ZvtTMQ"
      },
      "source": [
        "**Visualizando a descrição dos dados selecionados**"
      ]
    },
    {
      "cell_type": "code",
      "metadata": {
        "id": "QgRJOR7ntTMQ",
        "outputId": "8643504a-45fc-4ad1-ad91-c69eafebbb35"
      },
      "source": [
        "df_sub.describe()"
      ],
      "execution_count": null,
      "outputs": [
        {
          "output_type": "execute_result",
          "data": {
            "text/html": [
              "<div>\n",
              "<style scoped>\n",
              "    .dataframe tbody tr th:only-of-type {\n",
              "        vertical-align: middle;\n",
              "    }\n",
              "\n",
              "    .dataframe tbody tr th {\n",
              "        vertical-align: top;\n",
              "    }\n",
              "\n",
              "    .dataframe thead th {\n",
              "        text-align: right;\n",
              "    }\n",
              "</style>\n",
              "<table border=\"1\" class=\"dataframe\">\n",
              "  <thead>\n",
              "    <tr style=\"text-align: right;\">\n",
              "      <th></th>\n",
              "      <th>proline</th>\n",
              "      <th>alcohol</th>\n",
              "      <th>malicAcid</th>\n",
              "      <th>magnesium</th>\n",
              "      <th>flavanoids</th>\n",
              "    </tr>\n",
              "  </thead>\n",
              "  <tbody>\n",
              "    <tr>\n",
              "      <th>count</th>\n",
              "      <td>177.000000</td>\n",
              "      <td>177.000000</td>\n",
              "      <td>177.000000</td>\n",
              "      <td>177.000000</td>\n",
              "      <td>177.000000</td>\n",
              "    </tr>\n",
              "    <tr>\n",
              "      <th>mean</th>\n",
              "      <td>745.096045</td>\n",
              "      <td>12.993672</td>\n",
              "      <td>2.339887</td>\n",
              "      <td>99.587571</td>\n",
              "      <td>2.023446</td>\n",
              "    </tr>\n",
              "    <tr>\n",
              "      <th>std</th>\n",
              "      <td>314.884046</td>\n",
              "      <td>0.808808</td>\n",
              "      <td>1.119314</td>\n",
              "      <td>14.174018</td>\n",
              "      <td>0.998658</td>\n",
              "    </tr>\n",
              "    <tr>\n",
              "      <th>min</th>\n",
              "      <td>278.000000</td>\n",
              "      <td>11.030000</td>\n",
              "      <td>0.740000</td>\n",
              "      <td>70.000000</td>\n",
              "      <td>0.340000</td>\n",
              "    </tr>\n",
              "    <tr>\n",
              "      <th>25%</th>\n",
              "      <td>500.000000</td>\n",
              "      <td>12.360000</td>\n",
              "      <td>1.600000</td>\n",
              "      <td>88.000000</td>\n",
              "      <td>1.200000</td>\n",
              "    </tr>\n",
              "    <tr>\n",
              "      <th>50%</th>\n",
              "      <td>672.000000</td>\n",
              "      <td>13.050000</td>\n",
              "      <td>1.870000</td>\n",
              "      <td>98.000000</td>\n",
              "      <td>2.130000</td>\n",
              "    </tr>\n",
              "    <tr>\n",
              "      <th>75%</th>\n",
              "      <td>985.000000</td>\n",
              "      <td>13.670000</td>\n",
              "      <td>3.100000</td>\n",
              "      <td>107.000000</td>\n",
              "      <td>2.860000</td>\n",
              "    </tr>\n",
              "    <tr>\n",
              "      <th>max</th>\n",
              "      <td>1680.000000</td>\n",
              "      <td>14.830000</td>\n",
              "      <td>5.800000</td>\n",
              "      <td>162.000000</td>\n",
              "      <td>5.080000</td>\n",
              "    </tr>\n",
              "  </tbody>\n",
              "</table>\n",
              "</div>"
            ],
            "text/plain": [
              "           proline     alcohol   malicAcid   magnesium  flavanoids\n",
              "count   177.000000  177.000000  177.000000  177.000000  177.000000\n",
              "mean    745.096045   12.993672    2.339887   99.587571    2.023446\n",
              "std     314.884046    0.808808    1.119314   14.174018    0.998658\n",
              "min     278.000000   11.030000    0.740000   70.000000    0.340000\n",
              "25%     500.000000   12.360000    1.600000   88.000000    1.200000\n",
              "50%     672.000000   13.050000    1.870000   98.000000    2.130000\n",
              "75%     985.000000   13.670000    3.100000  107.000000    2.860000\n",
              "max    1680.000000   14.830000    5.800000  162.000000    5.080000"
            ]
          },
          "metadata": {
            "tags": []
          },
          "execution_count": 78
        }
      ]
    },
    {
      "cell_type": "markdown",
      "metadata": {
        "id": "ujhbYQM7tTMW"
      },
      "source": [
        "**Vamos visualizar a distribuição por feature antes de prosseguir**"
      ]
    },
    {
      "cell_type": "code",
      "metadata": {
        "id": "YBNjQD4ytTMW",
        "outputId": "d8b7f747-2e33-4c7b-e782-ceaba37c58a7"
      },
      "source": [
        "# proline\n",
        "sns.distplot(df_sub.proline, color='g');"
      ],
      "execution_count": null,
      "outputs": [
        {
          "output_type": "display_data",
          "data": {
            "image/png": "[encoded data removed]",
            "text/plain": [
              "<Figure size 432x288 with 1 Axes>"
            ]
          },
          "metadata": {
            "tags": []
          }
        }
      ]
    },
    {
      "cell_type": "code",
      "metadata": {
        "id": "ExJFvWJOtTMX",
        "outputId": "a9ca6619-d997-4c81-f7b1-662674c575f6"
      },
      "source": [
        "# alcohol\n",
        "sns.distplot(df_sub.alcohol);"
      ],
      "execution_count": null,
      "outputs": [
        {
          "output_type": "display_data",
          "data": {
            "image/png": "[encoded data removed]",
            "text/plain": [
              "<Figure size 432x288 with 1 Axes>"
            ]
          },
          "metadata": {
            "tags": []
          }
        }
      ]
    },
    {
      "cell_type": "code",
      "metadata": {
        "id": "Zeidvj3TtTMY",
        "outputId": "b72212bd-7146-4dc2-c11f-e67e34df2f6a"
      },
      "source": [
        "# malicAcid\n",
        "sns.distplot(df_sub.malicAcid, color='y');"
      ],
      "execution_count": null,
      "outputs": [
        {
          "output_type": "display_data",
          "data": {
            "image/png": "[encoded data removed]",
            "text/plain": [
              "<Figure size 432x288 with 1 Axes>"
            ]
          },
          "metadata": {
            "tags": []
          }
        }
      ]
    },
    {
      "cell_type": "code",
      "metadata": {
        "id": "Aka-1XTHtTMZ",
        "outputId": "69b70e58-26e9-49cb-8060-50882317d1ef"
      },
      "source": [
        "# magnesium\n",
        "sns.distplot(df_sub.magnesium, color='g');"
      ],
      "execution_count": null,
      "outputs": [
        {
          "output_type": "display_data",
          "data": {
            "image/png": "[encoded data removed]",
            "text/plain": [
              "<Figure size 432x288 with 1 Axes>"
            ]
          },
          "metadata": {
            "tags": []
          }
        }
      ]
    },
    {
      "cell_type": "code",
      "metadata": {
        "id": "ED8LDpuCtTMb",
        "outputId": "e0da1fee-9c5a-4d03-d507-6085002b33e7"
      },
      "source": [
        "# flavanoids\n",
        "sns.distplot(df_sub.flavanoids, color='r');"
      ],
      "execution_count": null,
      "outputs": [
        {
          "output_type": "display_data",
          "data": {
            "image/png": "[encoded data removed]",
            "text/plain": [
              "<Figure size 432x288 with 1 Axes>"
            ]
          },
          "metadata": {
            "tags": []
          }
        }
      ]
    },
    {
      "cell_type": "markdown",
      "metadata": {
        "id": "DAM47hJBtTMc"
      },
      "source": [
        "### StandardScaler"
      ]
    },
    {
      "cell_type": "markdown",
      "metadata": {
        "id": "9e7JsZZttTMl"
      },
      "source": [
        "**Importando o StandardScaler**"
      ]
    },
    {
      "cell_type": "code",
      "metadata": {
        "id": "Eltbv86ztTMm"
      },
      "source": [
        "from sklearn.preprocessing import StandardScaler"
      ],
      "execution_count": null,
      "outputs": []
    },
    {
      "cell_type": "markdown",
      "metadata": {
        "id": "N_NNTKNQtTMn"
      },
      "source": [
        "**Criando objeto e tranformando os dados**"
      ]
    },
    {
      "cell_type": "code",
      "metadata": {
        "id": "IQNn_IMGtTMn",
        "outputId": "fea0c71c-2bad-4fc2-f56d-94730e6fd555"
      },
      "source": [
        "obj_std = StandardScaler().fit(df)\n",
        "df_std = obj_std.transform(df)\n",
        "print(df_std)"
      ],
      "execution_count": null,
      "outputs": [
        {
          "output_type": "stream",
          "text": [
            "[[-1.22246766  0.2558245  -0.50162433 ...  0.40709978  1.13169801\n",
            "   0.97105248]\n",
            " [-1.22246766  0.20622873  0.01802001 ...  0.3195674   0.80457911\n",
            "   1.40099798]\n",
            " [-1.22246766  1.70650069 -0.34931478 ... -0.4244579   1.20281081\n",
            "   2.34050852]\n",
            " ...\n",
            " [ 1.36887097  0.34261709  1.73822194 ... -1.60614514 -1.48525319\n",
            "   0.28632445]\n",
            " [ 1.36887097  0.21862767  0.22408586 ... -1.56237895 -1.39991783\n",
            "   0.30224836]\n",
            " [ 1.36887097  1.40892609  1.57695301 ... -1.51861275 -1.42836295\n",
            "  -0.58949046]]\n"
          ],
          "name": "stdout"
        }
      ]
    },
    {
      "cell_type": "markdown",
      "metadata": {
        "id": "vuFZMvoetTMo"
      },
      "source": [
        "**Plotando a nova distribuição dos dados**\n",
        "\n",
        "Pronto! Nossos dados estão todos na mesma escala."
      ]
    },
    {
      "cell_type": "code",
      "metadata": {
        "id": "LfpTsJIytTMo",
        "outputId": "9d5534fa-066e-45a0-8f4c-ef66e7a3750f"
      },
      "source": [
        "plt.figure(figsize=(10,6))\n",
        "sns.boxplot(data=df_std);"
      ],
      "execution_count": null,
      "outputs": [
        {
          "output_type": "display_data",
          "data": {
            "image/png": "[encoded data removed]",
            "text/plain": [
              "<Figure size 720x432 with 1 Axes>"
            ]
          },
          "metadata": {
            "tags": []
          }
        }
      ]
    },
    {
      "cell_type": "markdown",
      "metadata": {
        "id": "1H-yCoIutTMq"
      },
      "source": [
        "**Transformando em DataFrame e visualizando a descrição dos dados**"
      ]
    },
    {
      "cell_type": "code",
      "metadata": {
        "id": "bREAoTZhtTMr",
        "outputId": "566233f0-4f6b-43a9-b373-2a356e2379a2"
      },
      "source": [
        "df_std = pd.DataFrame(df_std)\n",
        "df_std.describe()"
      ],
      "execution_count": null,
      "outputs": [
        {
          "output_type": "execute_result",
          "data": {
            "text/html": [
              "<div>\n",
              "<style scoped>\n",
              "    .dataframe tbody tr th:only-of-type {\n",
              "        vertical-align: middle;\n",
              "    }\n",
              "\n",
              "    .dataframe tbody tr th {\n",
              "        vertical-align: top;\n",
              "    }\n",
              "\n",
              "    .dataframe thead th {\n",
              "        text-align: right;\n",
              "    }\n",
              "</style>\n",
              "<table border=\"1\" class=\"dataframe\">\n",
              "  <thead>\n",
              "    <tr style=\"text-align: right;\">\n",
              "      <th></th>\n",
              "      <th>0</th>\n",
              "      <th>1</th>\n",
              "      <th>2</th>\n",
              "      <th>3</th>\n",
              "      <th>4</th>\n",
              "      <th>5</th>\n",
              "      <th>6</th>\n",
              "      <th>7</th>\n",
              "      <th>8</th>\n",
              "      <th>9</th>\n",
              "      <th>10</th>\n",
              "      <th>11</th>\n",
              "      <th>12</th>\n",
              "      <th>13</th>\n",
              "    </tr>\n",
              "  </thead>\n",
              "  <tbody>\n",
              "    <tr>\n",
              "      <th>count</th>\n",
              "      <td>1.770000e+02</td>\n",
              "      <td>1.770000e+02</td>\n",
              "      <td>1.770000e+02</td>\n",
              "      <td>1.770000e+02</td>\n",
              "      <td>1.770000e+02</td>\n",
              "      <td>1.770000e+02</td>\n",
              "      <td>1.770000e+02</td>\n",
              "      <td>1.770000e+02</td>\n",
              "      <td>1.770000e+02</td>\n",
              "      <td>1.770000e+02</td>\n",
              "      <td>1.770000e+02</td>\n",
              "      <td>1.770000e+02</td>\n",
              "      <td>1.770000e+02</td>\n",
              "      <td>1.770000e+02</td>\n",
              "    </tr>\n",
              "    <tr>\n",
              "      <th>mean</th>\n",
              "      <td>1.327250e-15</td>\n",
              "      <td>-2.609338e-16</td>\n",
              "      <td>4.252719e-16</td>\n",
              "      <td>-4.378168e-16</td>\n",
              "      <td>-6.410440e-16</td>\n",
              "      <td>-1.028681e-16</td>\n",
              "      <td>-1.279579e-16</td>\n",
              "      <td>1.505387e-16</td>\n",
              "      <td>-5.595022e-16</td>\n",
              "      <td>5.645202e-17</td>\n",
              "      <td>1.568112e-16</td>\n",
              "      <td>6.310081e-16</td>\n",
              "      <td>6.335171e-16</td>\n",
              "      <td>2.389802e-16</td>\n",
              "    </tr>\n",
              "    <tr>\n",
              "      <th>std</th>\n",
              "      <td>1.002837e+00</td>\n",
              "      <td>1.002837e+00</td>\n",
              "      <td>1.002837e+00</td>\n",
              "      <td>1.002837e+00</td>\n",
              "      <td>1.002837e+00</td>\n",
              "      <td>1.002837e+00</td>\n",
              "      <td>1.002837e+00</td>\n",
              "      <td>1.002837e+00</td>\n",
              "      <td>1.002837e+00</td>\n",
              "      <td>1.002837e+00</td>\n",
              "      <td>1.002837e+00</td>\n",
              "      <td>1.002837e+00</td>\n",
              "      <td>1.002837e+00</td>\n",
              "      <td>1.002837e+00</td>\n",
              "    </tr>\n",
              "    <tr>\n",
              "      <th>min</th>\n",
              "      <td>-1.222468e+00</td>\n",
              "      <td>-2.434746e+00</td>\n",
              "      <td>-1.433400e+00</td>\n",
              "      <td>-3.668064e+00</td>\n",
              "      <td>-2.680472e+00</td>\n",
              "      <td>-2.093373e+00</td>\n",
              "      <td>-2.100648e+00</td>\n",
              "      <td>-1.690491e+00</td>\n",
              "      <td>-1.868993e+00</td>\n",
              "      <td>-2.065084e+00</td>\n",
              "      <td>-1.628565e+00</td>\n",
              "      <td>-2.087573e+00</td>\n",
              "      <td>-1.897707e+00</td>\n",
              "      <td>-1.487599e+00</td>\n",
              "    </tr>\n",
              "    <tr>\n",
              "      <th>25%</th>\n",
              "      <td>-1.222468e+00</td>\n",
              "      <td>-7.856866e-01</td>\n",
              "      <td>-6.628933e-01</td>\n",
              "      <td>-5.692924e-01</td>\n",
              "      <td>-6.964846e-01</td>\n",
              "      <td>-8.198411e-01</td>\n",
              "      <td>-8.840502e-01</td>\n",
              "      <td>-8.268924e-01</td>\n",
              "      <td>-7.426883e-01</td>\n",
              "      <td>-5.912136e-01</td>\n",
              "      <td>-7.959038e-01</td>\n",
              "      <td>-7.745875e-01</td>\n",
              "      <td>-9.590184e-01</td>\n",
              "      <td>-7.805774e-01</td>\n",
              "    </tr>\n",
              "    <tr>\n",
              "      <th>50%</th>\n",
              "      <td>7.320166e-02</td>\n",
              "      <td>6.984037e-02</td>\n",
              "      <td>-4.209899e-01</td>\n",
              "      <td>-2.245039e-02</td>\n",
              "      <td>-5.094986e-03</td>\n",
              "      <td>-1.123234e-01</td>\n",
              "      <td>9.242960e-02</td>\n",
              "      <td>1.069996e-01</td>\n",
              "      <td>-1.795360e-01</td>\n",
              "      <td>-6.483128e-02</td>\n",
              "      <td>-1.617011e-01</td>\n",
              "      <td>1.320404e-02</td>\n",
              "      <td>2.498992e-01</td>\n",
              "      <td>-2.327949e-01</td>\n",
              "    </tr>\n",
              "    <tr>\n",
              "      <th>75%</th>\n",
              "      <td>1.368871e+00</td>\n",
              "      <td>8.385748e-01</td>\n",
              "      <td>6.810145e-01</td>\n",
              "      <td>7.066723e-01</td>\n",
              "      <td>5.961134e-01</td>\n",
              "      <td>5.244425e-01</td>\n",
              "      <td>8.127835e-01</td>\n",
              "      <td>8.400546e-01</td>\n",
              "      <td>6.249672e-01</td>\n",
              "      <td>6.370119e-01</td>\n",
              "      <td>4.940731e-01</td>\n",
              "      <td>7.134631e-01</td>\n",
              "      <td>8.045791e-01</td>\n",
              "      <td>7.640417e-01</td>\n",
              "    </tr>\n",
              "    <tr>\n",
              "      <th>max</th>\n",
              "      <td>1.368871e+00</td>\n",
              "      <td>2.276852e+00</td>\n",
              "      <td>3.100048e+00</td>\n",
              "      <td>3.149233e+00</td>\n",
              "      <td>3.151249e+00</td>\n",
              "      <td>4.415790e+00</td>\n",
              "      <td>2.541633e+00</td>\n",
              "      <td>3.069345e+00</td>\n",
              "      <td>2.394874e+00</td>\n",
              "      <td>3.497023e+00</td>\n",
              "      <td>3.427800e+00</td>\n",
              "      <td>3.295669e+00</td>\n",
              "      <td>1.985052e+00</td>\n",
              "      <td>2.977465e+00</td>\n",
              "    </tr>\n",
              "  </tbody>\n",
              "</table>\n",
              "</div>"
            ],
            "text/plain": [
              "                 0             1             2             3             4   \\\n",
              "count  1.770000e+02  1.770000e+02  1.770000e+02  1.770000e+02  1.770000e+02   \n",
              "mean   1.327250e-15 -2.609338e-16  4.252719e-16 -4.378168e-16 -6.410440e-16   \n",
              "std    1.002837e+00  1.002837e+00  1.002837e+00  1.002837e+00  1.002837e+00   \n",
              "min   -1.222468e+00 -2.434746e+00 -1.433400e+00 -3.668064e+00 -2.680472e+00   \n",
              "25%   -1.222468e+00 -7.856866e-01 -6.628933e-01 -5.692924e-01 -6.964846e-01   \n",
              "50%    7.320166e-02  6.984037e-02 -4.209899e-01 -2.245039e-02 -5.094986e-03   \n",
              "75%    1.368871e+00  8.385748e-01  6.810145e-01  7.066723e-01  5.961134e-01   \n",
              "max    1.368871e+00  2.276852e+00  3.100048e+00  3.149233e+00  3.151249e+00   \n",
              "\n",
              "                 5             6             7             8             9   \\\n",
              "count  1.770000e+02  1.770000e+02  1.770000e+02  1.770000e+02  1.770000e+02   \n",
              "mean  -1.028681e-16 -1.279579e-16  1.505387e-16 -5.595022e-16  5.645202e-17   \n",
              "std    1.002837e+00  1.002837e+00  1.002837e+00  1.002837e+00  1.002837e+00   \n",
              "min   -2.093373e+00 -2.100648e+00 -1.690491e+00 -1.868993e+00 -2.065084e+00   \n",
              "25%   -8.198411e-01 -8.840502e-01 -8.268924e-01 -7.426883e-01 -5.912136e-01   \n",
              "50%   -1.123234e-01  9.242960e-02  1.069996e-01 -1.795360e-01 -6.483128e-02   \n",
              "75%    5.244425e-01  8.127835e-01  8.400546e-01  6.249672e-01  6.370119e-01   \n",
              "max    4.415790e+00  2.541633e+00  3.069345e+00  2.394874e+00  3.497023e+00   \n",
              "\n",
              "                 10            11            12            13  \n",
              "count  1.770000e+02  1.770000e+02  1.770000e+02  1.770000e+02  \n",
              "mean   1.568112e-16  6.310081e-16  6.335171e-16  2.389802e-16  \n",
              "std    1.002837e+00  1.002837e+00  1.002837e+00  1.002837e+00  \n",
              "min   -1.628565e+00 -2.087573e+00 -1.897707e+00 -1.487599e+00  \n",
              "25%   -7.959038e-01 -7.745875e-01 -9.590184e-01 -7.805774e-01  \n",
              "50%   -1.617011e-01  1.320404e-02  2.498992e-01 -2.327949e-01  \n",
              "75%    4.940731e-01  7.134631e-01  8.045791e-01  7.640417e-01  \n",
              "max    3.427800e+00  3.295669e+00  1.985052e+00  2.977465e+00  "
            ]
          },
          "metadata": {
            "tags": []
          },
          "execution_count": 87
        }
      ]
    },
    {
      "cell_type": "markdown",
      "metadata": {
        "id": "Kd5XZG1BtTMs"
      },
      "source": [
        "### MinMaxScaler"
      ]
    },
    {
      "cell_type": "markdown",
      "metadata": {
        "id": "ZsuY2-gGtTMs"
      },
      "source": [
        "**Importando o MinMaxScaler**"
      ]
    },
    {
      "cell_type": "code",
      "metadata": {
        "id": "e_mkFN-_tTMs"
      },
      "source": [
        "from sklearn.preprocessing import MinMaxScaler"
      ],
      "execution_count": null,
      "outputs": []
    },
    {
      "cell_type": "markdown",
      "metadata": {
        "id": "7z7ONIFZtTMt"
      },
      "source": [
        "**Visualizando os dados originais**"
      ]
    },
    {
      "cell_type": "code",
      "metadata": {
        "id": "YAVQOsnntTMt",
        "outputId": "3052fcc1-f230-499c-ba58-eeba5921807f"
      },
      "source": [
        "df.head(3)"
      ],
      "execution_count": null,
      "outputs": [
        {
          "output_type": "execute_result",
          "data": {
            "text/html": [
              "<div>\n",
              "<style scoped>\n",
              "    .dataframe tbody tr th:only-of-type {\n",
              "        vertical-align: middle;\n",
              "    }\n",
              "\n",
              "    .dataframe tbody tr th {\n",
              "        vertical-align: top;\n",
              "    }\n",
              "\n",
              "    .dataframe thead th {\n",
              "        text-align: right;\n",
              "    }\n",
              "</style>\n",
              "<table border=\"1\" class=\"dataframe\">\n",
              "  <thead>\n",
              "    <tr style=\"text-align: right;\">\n",
              "      <th></th>\n",
              "      <th>Class</th>\n",
              "      <th>alcohol</th>\n",
              "      <th>malicAcid</th>\n",
              "      <th>ash</th>\n",
              "      <th>ashalcalinity</th>\n",
              "      <th>magnesium</th>\n",
              "      <th>totalPhenols</th>\n",
              "      <th>flavanoids</th>\n",
              "      <th>nonFlavanoidPhenols</th>\n",
              "      <th>proanthocyanins</th>\n",
              "      <th>colorIntensity</th>\n",
              "      <th>hue</th>\n",
              "      <th>od280_od315</th>\n",
              "      <th>proline</th>\n",
              "    </tr>\n",
              "  </thead>\n",
              "  <tbody>\n",
              "    <tr>\n",
              "      <th>0</th>\n",
              "      <td>1</td>\n",
              "      <td>13.20</td>\n",
              "      <td>1.78</td>\n",
              "      <td>2.14</td>\n",
              "      <td>11.2</td>\n",
              "      <td>100</td>\n",
              "      <td>2.65</td>\n",
              "      <td>2.76</td>\n",
              "      <td>0.26</td>\n",
              "      <td>1.28</td>\n",
              "      <td>4.38</td>\n",
              "      <td>1.05</td>\n",
              "      <td>3.40</td>\n",
              "      <td>1050</td>\n",
              "    </tr>\n",
              "    <tr>\n",
              "      <th>1</th>\n",
              "      <td>1</td>\n",
              "      <td>13.16</td>\n",
              "      <td>2.36</td>\n",
              "      <td>2.67</td>\n",
              "      <td>18.6</td>\n",
              "      <td>101</td>\n",
              "      <td>2.80</td>\n",
              "      <td>3.24</td>\n",
              "      <td>0.30</td>\n",
              "      <td>2.81</td>\n",
              "      <td>5.68</td>\n",
              "      <td>1.03</td>\n",
              "      <td>3.17</td>\n",
              "      <td>1185</td>\n",
              "    </tr>\n",
              "    <tr>\n",
              "      <th>2</th>\n",
              "      <td>1</td>\n",
              "      <td>14.37</td>\n",
              "      <td>1.95</td>\n",
              "      <td>2.50</td>\n",
              "      <td>16.8</td>\n",
              "      <td>113</td>\n",
              "      <td>3.85</td>\n",
              "      <td>3.49</td>\n",
              "      <td>0.24</td>\n",
              "      <td>2.18</td>\n",
              "      <td>7.80</td>\n",
              "      <td>0.86</td>\n",
              "      <td>3.45</td>\n",
              "      <td>1480</td>\n",
              "    </tr>\n",
              "  </tbody>\n",
              "</table>\n",
              "</div>"
            ],
            "text/plain": [
              "   Class  alcohol  malicAcid   ash  ashalcalinity  magnesium  totalPhenols  \\\n",
              "0      1    13.20       1.78  2.14           11.2        100          2.65   \n",
              "1      1    13.16       2.36  2.67           18.6        101          2.80   \n",
              "2      1    14.37       1.95  2.50           16.8        113          3.85   \n",
              "\n",
              "   flavanoids  nonFlavanoidPhenols  proanthocyanins  colorIntensity   hue  \\\n",
              "0        2.76                 0.26             1.28            4.38  1.05   \n",
              "1        3.24                 0.30             2.81            5.68  1.03   \n",
              "2        3.49                 0.24             2.18            7.80  0.86   \n",
              "\n",
              "   od280_od315  proline  \n",
              "0         3.40     1050  \n",
              "1         3.17     1185  \n",
              "2         3.45     1480  "
            ]
          },
          "metadata": {
            "tags": []
          },
          "execution_count": 89
        }
      ]
    },
    {
      "cell_type": "markdown",
      "metadata": {
        "id": "A1eNGmsktTMv"
      },
      "source": [
        "**Criando objeto e tranformando os dados**"
      ]
    },
    {
      "cell_type": "code",
      "metadata": {
        "id": "W3ZkyOZstTMv",
        "outputId": "3dcc9a39-15b3-4adb-a415-c882bd3d9319"
      },
      "source": [
        "obj_norm = MinMaxScaler().fit(df)\n",
        "norm_df = obj_norm.transform(df)\n",
        "print(norm_df)"
      ],
      "execution_count": null,
      "outputs": [
        {
          "output_type": "stream",
          "text": [
            "[[0.         0.57105263 0.2055336  ... 0.46341463 0.78021978 0.55064194]\n",
            " [0.         0.56052632 0.3201581  ... 0.44715447 0.6959707  0.64693295]\n",
            " [0.         0.87894737 0.23913043 ... 0.30894309 0.7985348  0.85734665]\n",
            " ...\n",
            " [1.         0.58947368 0.69960474 ... 0.08943089 0.10622711 0.39728959]\n",
            " [1.         0.56315789 0.36561265 ... 0.09756098 0.12820513 0.40085592]\n",
            " [1.         0.81578947 0.66403162 ... 0.10569106 0.12087912 0.20114123]]\n"
          ],
          "name": "stdout"
        }
      ]
    },
    {
      "cell_type": "markdown",
      "metadata": {
        "id": "MRzVbX8_tTMx"
      },
      "source": [
        "**Plotando a nova distribuição dos dados**\n",
        "\n",
        "Pronto! Nossos dados estão todos na mesma escala e no intervalo de 0 a 1."
      ]
    },
    {
      "cell_type": "code",
      "metadata": {
        "id": "35A2YvG1tTMx",
        "outputId": "0dbad254-40de-461f-b941-3dc125872ef4"
      },
      "source": [
        "plt.figure(figsize=(10,6))\n",
        "sns.boxplot(data=norm_df);"
      ],
      "execution_count": null,
      "outputs": [
        {
          "output_type": "display_data",
          "data": {
            "image/png": "[encoded data removed]",
            "text/plain": [
              "<Figure size 720x432 with 1 Axes>"
            ]
          },
          "metadata": {
            "tags": []
          }
        }
      ]
    },
    {
      "cell_type": "markdown",
      "metadata": {
        "id": "eS-yQnM1tTMy"
      },
      "source": [
        "**Transformando em DataFrame e visualizando a descrição dos dados**"
      ]
    },
    {
      "cell_type": "code",
      "metadata": {
        "id": "oU4gaEHZtTMz",
        "outputId": "0416980e-2939-4601-fbdc-221c750bdbef"
      },
      "source": [
        "norm_df = pd.DataFrame(norm_df)\n",
        "norm_df.describe()"
      ],
      "execution_count": null,
      "outputs": [
        {
          "output_type": "execute_result",
          "data": {
            "text/html": [
              "<div>\n",
              "<style scoped>\n",
              "    .dataframe tbody tr th:only-of-type {\n",
              "        vertical-align: middle;\n",
              "    }\n",
              "\n",
              "    .dataframe tbody tr th {\n",
              "        vertical-align: top;\n",
              "    }\n",
              "\n",
              "    .dataframe thead th {\n",
              "        text-align: right;\n",
              "    }\n",
              "</style>\n",
              "<table border=\"1\" class=\"dataframe\">\n",
              "  <thead>\n",
              "    <tr style=\"text-align: right;\">\n",
              "      <th></th>\n",
              "      <th>0</th>\n",
              "      <th>1</th>\n",
              "      <th>2</th>\n",
              "      <th>3</th>\n",
              "      <th>4</th>\n",
              "      <th>5</th>\n",
              "      <th>6</th>\n",
              "      <th>7</th>\n",
              "      <th>8</th>\n",
              "      <th>9</th>\n",
              "      <th>10</th>\n",
              "      <th>11</th>\n",
              "      <th>12</th>\n",
              "      <th>13</th>\n",
              "    </tr>\n",
              "  </thead>\n",
              "  <tbody>\n",
              "    <tr>\n",
              "      <th>count</th>\n",
              "      <td>177.000000</td>\n",
              "      <td>177.000000</td>\n",
              "      <td>177.000000</td>\n",
              "      <td>177.000000</td>\n",
              "      <td>177.000000</td>\n",
              "      <td>177.000000</td>\n",
              "      <td>177.000000</td>\n",
              "      <td>177.000000</td>\n",
              "      <td>177.000000</td>\n",
              "      <td>177.000000</td>\n",
              "      <td>177.000000</td>\n",
              "      <td>177.000000</td>\n",
              "      <td>177.000000</td>\n",
              "      <td>177.000000</td>\n",
              "    </tr>\n",
              "    <tr>\n",
              "      <th>mean</th>\n",
              "      <td>0.471751</td>\n",
              "      <td>0.516756</td>\n",
              "      <td>0.316183</td>\n",
              "      <td>0.538053</td>\n",
              "      <td>0.459637</td>\n",
              "      <td>0.321604</td>\n",
              "      <td>0.452503</td>\n",
              "      <td>0.355157</td>\n",
              "      <td>0.438333</td>\n",
              "      <td>0.371277</td>\n",
              "      <td>0.322082</td>\n",
              "      <td>0.387791</td>\n",
              "      <td>0.488752</td>\n",
              "      <td>0.333164</td>\n",
              "    </tr>\n",
              "    <tr>\n",
              "      <th>std</th>\n",
              "      <td>0.386996</td>\n",
              "      <td>0.212844</td>\n",
              "      <td>0.221208</td>\n",
              "      <td>0.147102</td>\n",
              "      <td>0.171962</td>\n",
              "      <td>0.154065</td>\n",
              "      <td>0.216022</td>\n",
              "      <td>0.210687</td>\n",
              "      <td>0.235194</td>\n",
              "      <td>0.180298</td>\n",
              "      <td>0.198332</td>\n",
              "      <td>0.186289</td>\n",
              "      <td>0.258279</td>\n",
              "      <td>0.224596</td>\n",
              "    </tr>\n",
              "    <tr>\n",
              "      <th>min</th>\n",
              "      <td>0.000000</td>\n",
              "      <td>0.000000</td>\n",
              "      <td>0.000000</td>\n",
              "      <td>0.000000</td>\n",
              "      <td>0.000000</td>\n",
              "      <td>0.000000</td>\n",
              "      <td>0.000000</td>\n",
              "      <td>0.000000</td>\n",
              "      <td>0.000000</td>\n",
              "      <td>0.000000</td>\n",
              "      <td>0.000000</td>\n",
              "      <td>0.000000</td>\n",
              "      <td>0.000000</td>\n",
              "      <td>0.000000</td>\n",
              "    </tr>\n",
              "    <tr>\n",
              "      <th>25%</th>\n",
              "      <td>0.000000</td>\n",
              "      <td>0.350000</td>\n",
              "      <td>0.169960</td>\n",
              "      <td>0.454545</td>\n",
              "      <td>0.340206</td>\n",
              "      <td>0.195652</td>\n",
              "      <td>0.262069</td>\n",
              "      <td>0.181435</td>\n",
              "      <td>0.264151</td>\n",
              "      <td>0.264984</td>\n",
              "      <td>0.164676</td>\n",
              "      <td>0.243902</td>\n",
              "      <td>0.241758</td>\n",
              "      <td>0.158345</td>\n",
              "    </tr>\n",
              "    <tr>\n",
              "      <th>50%</th>\n",
              "      <td>0.500000</td>\n",
              "      <td>0.531579</td>\n",
              "      <td>0.223320</td>\n",
              "      <td>0.534759</td>\n",
              "      <td>0.458763</td>\n",
              "      <td>0.304348</td>\n",
              "      <td>0.472414</td>\n",
              "      <td>0.377637</td>\n",
              "      <td>0.396226</td>\n",
              "      <td>0.359621</td>\n",
              "      <td>0.290102</td>\n",
              "      <td>0.390244</td>\n",
              "      <td>0.553114</td>\n",
              "      <td>0.281027</td>\n",
              "    </tr>\n",
              "    <tr>\n",
              "      <th>75%</th>\n",
              "      <td>1.000000</td>\n",
              "      <td>0.694737</td>\n",
              "      <td>0.466403</td>\n",
              "      <td>0.641711</td>\n",
              "      <td>0.561856</td>\n",
              "      <td>0.402174</td>\n",
              "      <td>0.627586</td>\n",
              "      <td>0.531646</td>\n",
              "      <td>0.584906</td>\n",
              "      <td>0.485804</td>\n",
              "      <td>0.419795</td>\n",
              "      <td>0.520325</td>\n",
              "      <td>0.695971</td>\n",
              "      <td>0.504280</td>\n",
              "    </tr>\n",
              "    <tr>\n",
              "      <th>max</th>\n",
              "      <td>1.000000</td>\n",
              "      <td>1.000000</td>\n",
              "      <td>1.000000</td>\n",
              "      <td>1.000000</td>\n",
              "      <td>1.000000</td>\n",
              "      <td>1.000000</td>\n",
              "      <td>1.000000</td>\n",
              "      <td>1.000000</td>\n",
              "      <td>1.000000</td>\n",
              "      <td>1.000000</td>\n",
              "      <td>1.000000</td>\n",
              "      <td>1.000000</td>\n",
              "      <td>1.000000</td>\n",
              "      <td>1.000000</td>\n",
              "    </tr>\n",
              "  </tbody>\n",
              "</table>\n",
              "</div>"
            ],
            "text/plain": [
              "               0           1           2           3           4           5   \\\n",
              "count  177.000000  177.000000  177.000000  177.000000  177.000000  177.000000   \n",
              "mean     0.471751    0.516756    0.316183    0.538053    0.459637    0.321604   \n",
              "std      0.386996    0.212844    0.221208    0.147102    0.171962    0.154065   \n",
              "min      0.000000    0.000000    0.000000    0.000000    0.000000    0.000000   \n",
              "25%      0.000000    0.350000    0.169960    0.454545    0.340206    0.195652   \n",
              "50%      0.500000    0.531579    0.223320    0.534759    0.458763    0.304348   \n",
              "75%      1.000000    0.694737    0.466403    0.641711    0.561856    0.402174   \n",
              "max      1.000000    1.000000    1.000000    1.000000    1.000000    1.000000   \n",
              "\n",
              "               6           7           8           9           10          11  \\\n",
              "count  177.000000  177.000000  177.000000  177.000000  177.000000  177.000000   \n",
              "mean     0.452503    0.355157    0.438333    0.371277    0.322082    0.387791   \n",
              "std      0.216022    0.210687    0.235194    0.180298    0.198332    0.186289   \n",
              "min      0.000000    0.000000    0.000000    0.000000    0.000000    0.000000   \n",
              "25%      0.262069    0.181435    0.264151    0.264984    0.164676    0.243902   \n",
              "50%      0.472414    0.377637    0.396226    0.359621    0.290102    0.390244   \n",
              "75%      0.627586    0.531646    0.584906    0.485804    0.419795    0.520325   \n",
              "max      1.000000    1.000000    1.000000    1.000000    1.000000    1.000000   \n",
              "\n",
              "               12          13  \n",
              "count  177.000000  177.000000  \n",
              "mean     0.488752    0.333164  \n",
              "std      0.258279    0.224596  \n",
              "min      0.000000    0.000000  \n",
              "25%      0.241758    0.158345  \n",
              "50%      0.553114    0.281027  \n",
              "75%      0.695971    0.504280  \n",
              "max      1.000000    1.000000  "
            ]
          },
          "metadata": {
            "tags": []
          },
          "execution_count": 92
        }
      ]
    },
    {
      "cell_type": "markdown",
      "metadata": {
        "id": "XWh7b_EHtTM3"
      },
      "source": [
        "# 7. Métricas de Desempenho\n",
        "\n",
        "Já falamos sobre as **métricas** [aqui](https://bit.ly/3nj6EkW), mas... caso queira \"evitar a fadiga\", transcreverei abaixo:\n",
        "\n",
        "As métricas servem para ajudar você a, como o próprio já diz, **avaliar o desempenho** do seu algoritmo.\n",
        "\n",
        "A razão de utilizar diversas métricas é porque algumas delas, a exemplo da acurácia, pode mascarar algum problema na base de dados.\n",
        "\n",
        "### Métricas mais utilizadas\n",
        "\n",
        "Serão utilizadas cinco métricas, a primeira vinda da biblioteca Pandas e as outras métricas da sklearn.metrics:\n",
        "\n",
        "1. **Cross table:**\n",
        "    * Melhor traduzido como *Matriz de Consufão*, traz de uma forma simples o desempenho do classificador, trazendo o quanto o este acertou ou errou por cada classe.\n",
        "    \n",
        "2. **Precision:**\n",
        "    * Precisão é a razão (divisão) entre as observações positivas previstas corretamente e o total de observações positivas previstas.\n",
        "  $$\n",
        "  precisao=\\frac{TP}{TP+FP}\n",
        "  $$\n",
        "    \n",
        "3. **Recall:**\n",
        "    * Também chamada de *Revocação* ou *Sensibilidade*, nos fornece o número de vezes que uma classe foi predita de forma correta, dividida pelo número de classes que contém nos dados.\n",
        "  $$\n",
        "  recall=\\frac{TP}{TP+FN}\n",
        "  $$\n",
        "\n",
        "4. **F1-score:** \n",
        "    * Ou *Medida F1*, utiliza a média harmônica entre a precisão e a revocação.\n",
        "  $$\n",
        "  F1=2*\\frac{precisao*recall}{precisao+recall}\n",
        "  $$\n",
        "    * Sendo uma combinação de duas outras métricas, em tese é mais robusta, dando uma informação mais precisa e importante.\n",
        "    \n",
        "5. **Accuracy:**\n",
        "    * A *acurácia* é uma métrica que permite uma visualização geral do classificador.\n",
        "    * Sua saida é o percentual de classificações corretas pelo classificador.\n",
        "    * Com classes desbalanceadas não se sai muito bem uma vez que acaba \"mascarando\" o problema.\n",
        "    * Accuracy= Número de Predições Corretas/Número total de Predições ou\n",
        "\n",
        "    \n",
        "  $$\n",
        "  accuracy=\\frac{TP+TN}{TP+TN+FP+FN}\n",
        "  $$\n",
        "\n",
        "**Legenda**\n",
        "* TP = True Positive (Verdadeiro Positivo)\n",
        "* TN = True Negativa (Verdadeiro Negativo)\n",
        "* FP = False Positive (Falso Positivo)\n",
        "* FN = False Negative (Falso Negativo)\n",
        "    \n",
        "**Support:**\n",
        "* O suporte é o número puro ou real de dados para a classe. Não é uma métrica propriamente dita, mas ajuda por estar junto às outras métricas como o próprio nome diz, dando suporte. \n",
        "* Com ele é possível, por exemplo ver se as classes estão desbalançeadas ou não, caso tenha fugido da análise, aqui é uma chance de ser ver isso."
      ]
    },
    {
      "cell_type": "markdown",
      "metadata": {
        "id": "qknIN7j9tTM3"
      },
      "source": [
        "Na nossa **base de dados** iremos dividi-la e depois iremos aplicar o algoritmo **KNN** para depois sim **avaliar seu desempenho**."
      ]
    },
    {
      "cell_type": "markdown",
      "metadata": {
        "id": "sqSWu73MtTM3"
      },
      "source": [
        "**Dividindo em features e classe**"
      ]
    },
    {
      "cell_type": "code",
      "metadata": {
        "id": "NMRI5YzItTM3"
      },
      "source": [
        "X = df.drop('Class', axis=1)\n",
        "y = df['Class']"
      ],
      "execution_count": null,
      "outputs": []
    },
    {
      "cell_type": "markdown",
      "metadata": {
        "id": "WSAk28yutTM4"
      },
      "source": [
        "**Dividindo em dados de treino e teste**"
      ]
    },
    {
      "cell_type": "code",
      "metadata": {
        "id": "ujxDCsqZtTM5"
      },
      "source": [
        "from sklearn.model_selection import train_test_split\n",
        "\n",
        "X_train, X_test, y_train, y_test = train_test_split(X, y, test_size=0.2, random_state=1)"
      ],
      "execution_count": null,
      "outputs": []
    },
    {
      "cell_type": "markdown",
      "metadata": {
        "id": "iDmdahkjtTM6"
      },
      "source": [
        "**KNN**"
      ]
    },
    {
      "cell_type": "code",
      "metadata": {
        "id": "ZDTeMUdJtTM6"
      },
      "source": [
        "# importação do KNN\n",
        "from sklearn.neighbors import KNeighborsClassifier\n",
        "# criando o objeto classificador\n",
        "knn = KNeighborsClassifier()"
      ],
      "execution_count": null,
      "outputs": []
    },
    {
      "cell_type": "code",
      "metadata": {
        "id": "EKQk6qkGtTM7",
        "outputId": "58ad52fe-4f69-4403-fe6d-63690f8c2a3f"
      },
      "source": [
        "# treinando os dados\n",
        "knn.fit(X_train, y_train)"
      ],
      "execution_count": null,
      "outputs": [
        {
          "output_type": "execute_result",
          "data": {
            "text/plain": [
              "KNeighborsClassifier()"
            ]
          },
          "metadata": {
            "tags": []
          },
          "execution_count": 96
        }
      ]
    },
    {
      "cell_type": "code",
      "metadata": {
        "id": "PtrwmeustTM9"
      },
      "source": [
        "# atribuindo as classificações à variável 'resultados'\n",
        "y_pred = knn.predict(X_test)\n",
        "#y_pred e resultados são bem utilizados na literatura"
      ],
      "execution_count": null,
      "outputs": []
    },
    {
      "cell_type": "markdown",
      "metadata": {
        "id": "fg342PNwtTM-"
      },
      "source": [
        "**Checando a métrica *Acurácia***"
      ]
    },
    {
      "cell_type": "code",
      "metadata": {
        "id": "NY-Zp2UntTM-",
        "outputId": "e08b34e2-1b3a-4589-d635-8626dfafbc8c"
      },
      "source": [
        "# importando a Acurácia\n",
        "from sklearn.metrics import accuracy_score\n",
        "# checando a acurácia\n",
        "score1 = accuracy_score(y_test, y_pred)\n",
        "score1"
      ],
      "execution_count": null,
      "outputs": [
        {
          "output_type": "execute_result",
          "data": {
            "text/plain": [
              "0.75"
            ]
          },
          "metadata": {
            "tags": []
          },
          "execution_count": 98
        }
      ]
    },
    {
      "cell_type": "markdown",
      "metadata": {
        "id": "jAr5SSv6tTNA"
      },
      "source": [
        "**Voce pode verificar outras métricas [aqui](https://scikit-learn.org/stable/modules/classes.html#module-sklearn.metrics)**"
      ]
    },
    {
      "cell_type": "markdown",
      "metadata": {
        "id": "JhZH6Ld5tTNA"
      },
      "source": [
        "**F1 Score**"
      ]
    },
    {
      "cell_type": "code",
      "metadata": {
        "id": "Ii9uixwUtTNA",
        "outputId": "b5199088-aaa5-4e1e-a4d8-0805c26aaaff"
      },
      "source": [
        "# importando o método\n",
        "from sklearn.metrics import f1_score\n",
        "# metrificando com 'micro'\n",
        "f1=f1_score(y_test, y_pred, average='micro')\n",
        "f1"
      ],
      "execution_count": null,
      "outputs": [
        {
          "output_type": "execute_result",
          "data": {
            "text/plain": [
              "0.75"
            ]
          },
          "metadata": {
            "tags": []
          },
          "execution_count": 99
        }
      ]
    },
    {
      "cell_type": "code",
      "metadata": {
        "id": "qeL1cHmOtTNC",
        "outputId": "03550dac-5262-473f-b444-0e0282b1f20d"
      },
      "source": [
        "# metrificando com 'weighted'\n",
        "f1_score(y_test, y_pred, average='weighted')"
      ],
      "execution_count": null,
      "outputs": [
        {
          "output_type": "execute_result",
          "data": {
            "text/plain": [
              "0.7425983977708116"
            ]
          },
          "metadata": {
            "tags": []
          },
          "execution_count": 100
        }
      ]
    },
    {
      "cell_type": "code",
      "metadata": {
        "id": "KOD3LEiEtTNE",
        "outputId": "2fcf8806-2395-422c-dcc3-cbef349f32b0"
      },
      "source": [
        "# metrificando com 'macro'\n",
        "f1_score(y_test, y_pred, average='macro')"
      ],
      "execution_count": null,
      "outputs": [
        {
          "output_type": "execute_result",
          "data": {
            "text/plain": [
              "0.670062695924765"
            ]
          },
          "metadata": {
            "tags": []
          },
          "execution_count": 101
        }
      ]
    },
    {
      "cell_type": "markdown",
      "metadata": {
        "id": "MI1GySgLtTNF"
      },
      "source": [
        "**Matriz de Confusão**\n",
        "\n",
        "Veja que algoritmo errou pouco na classe 1, piorou na 2 e teve seu pior resultado na classe 3.\n",
        "\n",
        "Nas métricas avaliaremos cada uma."
      ]
    },
    {
      "cell_type": "code",
      "metadata": {
        "id": "CiMQO0n1tTNF",
        "outputId": "2ab6a723-a0a4-4fa3-f101-00406ab19b1f"
      },
      "source": [
        "pd.crosstab(y_test, y_pred,rownames=['Real'],colnames=['Predito'],margins=True)"
      ],
      "execution_count": null,
      "outputs": [
        {
          "output_type": "execute_result",
          "data": {
            "text/html": [
              "<div>\n",
              "<style scoped>\n",
              "    .dataframe tbody tr th:only-of-type {\n",
              "        vertical-align: middle;\n",
              "    }\n",
              "\n",
              "    .dataframe tbody tr th {\n",
              "        vertical-align: top;\n",
              "    }\n",
              "\n",
              "    .dataframe thead th {\n",
              "        text-align: right;\n",
              "    }\n",
              "</style>\n",
              "<table border=\"1\" class=\"dataframe\">\n",
              "  <thead>\n",
              "    <tr style=\"text-align: right;\">\n",
              "      <th>Predito</th>\n",
              "      <th>1</th>\n",
              "      <th>2</th>\n",
              "      <th>3</th>\n",
              "      <th>All</th>\n",
              "    </tr>\n",
              "    <tr>\n",
              "      <th>Real</th>\n",
              "      <th></th>\n",
              "      <th></th>\n",
              "      <th></th>\n",
              "      <th></th>\n",
              "    </tr>\n",
              "  </thead>\n",
              "  <tbody>\n",
              "    <tr>\n",
              "      <th>1</th>\n",
              "      <td>13</td>\n",
              "      <td>0</td>\n",
              "      <td>1</td>\n",
              "      <td>14</td>\n",
              "    </tr>\n",
              "    <tr>\n",
              "      <th>2</th>\n",
              "      <td>2</td>\n",
              "      <td>12</td>\n",
              "      <td>2</td>\n",
              "      <td>16</td>\n",
              "    </tr>\n",
              "    <tr>\n",
              "      <th>3</th>\n",
              "      <td>0</td>\n",
              "      <td>4</td>\n",
              "      <td>2</td>\n",
              "      <td>6</td>\n",
              "    </tr>\n",
              "    <tr>\n",
              "      <th>All</th>\n",
              "      <td>15</td>\n",
              "      <td>16</td>\n",
              "      <td>5</td>\n",
              "      <td>36</td>\n",
              "    </tr>\n",
              "  </tbody>\n",
              "</table>\n",
              "</div>"
            ],
            "text/plain": [
              "Predito   1   2  3  All\n",
              "Real                   \n",
              "1        13   0  1   14\n",
              "2         2  12  2   16\n",
              "3         0   4  2    6\n",
              "All      15  16  5   36"
            ]
          },
          "metadata": {
            "tags": []
          },
          "execution_count": 102
        }
      ]
    },
    {
      "cell_type": "markdown",
      "metadata": {
        "id": "RDi8QDd0tTNH"
      },
      "source": [
        "**Métricas**\n",
        "\n",
        "Como falado inicialmente, o fato de se olhar várias métricas é justamente visualizar **se algo está sendo mascarado**.\n",
        "\n",
        "Os resultados se sairam medianos (em torno de 67 a 75%) porque o algoritmo se saiu muito bem na classe 1 e de forma mediana na classe 2, mas se saiu muito ruim na classe 3, logo o **F1 geral acaba mascarando um pouco isso**, assim como a **Acurácia**."
      ]
    },
    {
      "cell_type": "code",
      "metadata": {
        "id": "BSYUWAKPtTNH",
        "outputId": "cd9d62bd-b080-48e3-d4b0-20273eb2987b"
      },
      "source": [
        "from sklearn import metrics\n",
        "print(metrics.classification_report(y_test,y_pred))"
      ],
      "execution_count": null,
      "outputs": [
        {
          "output_type": "stream",
          "text": [
            "              precision    recall  f1-score   support\n",
            "\n",
            "           1       0.87      0.93      0.90        14\n",
            "           2       0.75      0.75      0.75        16\n",
            "           3       0.40      0.33      0.36         6\n",
            "\n",
            "    accuracy                           0.75        36\n",
            "   macro avg       0.67      0.67      0.67        36\n",
            "weighted avg       0.74      0.75      0.74        36\n",
            "\n"
          ],
          "name": "stdout"
        }
      ]
    },
    {
      "cell_type": "markdown",
      "metadata": {
        "id": "rl2ny8oTtTNI"
      },
      "source": [
        "## Cross Validation\n",
        "\n",
        "Já falamos sobre o Cross Validation [aqui](https://bit.ly/30mKZ1q), mas vou facilitar mais uma vez e trazer para cá.\n",
        "\n",
        "**Cross Validation** ou **Validação Cruzada**:\n",
        "\n",
        "Serve para tentar avaliar a capacidade de um modelo em generalizar os dados e deve sempre ser usado em *modelagens preditivas*!\n",
        "\n",
        "O **cross validation** particiona, ou seja, divide um conjunto de dados em partes (quantidade a ser definida pelo *Cientista de Dados*) menores ou subconjuntos onde, nenhum dado está repetido em nenhum outro subconjunto e o algoritmo utilizará parte dos dados para treinar, parte para testar. \n",
        "\n",
        "Exemplo: Se o **K-fold**, ou seja, a quantidade de particionamento dos dados for igual a 5, o algoritmo fará 5 testes e retornará o resultado para cada um deles.\n",
        "* Teste 1: Treino com subconjuntos 1,2,3 e 4 e teste com o 5.\n",
        "* Teste 2:Treino com subconjuntos 2,3,4 e 5 e teste com o 1.\n",
        "* Teste 3: Treino com subconjuntos 1,3,4 e 5 e teste com o 2.\n",
        "* Teste 4: Treino com subconjuntos 1,2,4 e 5 e teste com o 3.\n",
        "* Teste 5:Treino com subconjuntos 1,2,3 e 5 e teste com o 4.\n",
        "\n",
        "Isso mostra um resultado mais fiel do algoritmo, para evitar mascaração de resultados para melhor ou para pior."
      ]
    },
    {
      "cell_type": "markdown",
      "metadata": {
        "id": "Uj9NWGbYtTNJ"
      },
      "source": [
        "**Aplicando o Cross Validation**\n",
        "\n",
        "Assim como no exemplo acima em que foram feitos **5 testes**, faremos o mesmo no exemplo prático, por isso o parâmetro `cv=5`."
      ]
    },
    {
      "cell_type": "code",
      "metadata": {
        "id": "ux32AZLqtTNJ",
        "outputId": "e715e75a-0a92-4a1e-e3b9-e43482c68f47"
      },
      "source": [
        "from sklearn.model_selection import cross_val_score\n",
        "val_score=cross_val_score(knn,df.drop('Class',axis=1),df['Class'],cv=5)\n",
        "val_score"
      ],
      "execution_count": null,
      "outputs": [
        {
          "output_type": "execute_result",
          "data": {
            "text/plain": [
              "array([0.72222222, 0.63888889, 0.65714286, 0.68571429, 0.71428571])"
            ]
          },
          "metadata": {
            "tags": []
          },
          "execution_count": 104
        }
      ]
    },
    {
      "cell_type": "markdown",
      "metadata": {
        "id": "yoPgH5VYtTNL"
      },
      "source": [
        "**Cada número acima é um teste feito pelo Cross Validation**"
      ]
    },
    {
      "cell_type": "markdown",
      "metadata": {
        "id": "P63TZHMHtTNL"
      },
      "source": [
        "## MSE e RMSE"
      ]
    },
    {
      "cell_type": "markdown",
      "metadata": {
        "id": "f7y_DaLctTNL"
      },
      "source": [
        "**MSE significa o erro médio**\n",
        "\n",
        "Quanto mais próximo de zero, melhor, significa que o erro é menor."
      ]
    },
    {
      "cell_type": "code",
      "metadata": {
        "id": "2d8FlwTytTNL",
        "outputId": "7edda598-ccca-46bf-99c4-7b8d494c7544"
      },
      "source": [
        "from sklearn.metrics import mean_squared_error\n",
        "mse=mean_squared_error(y_test,y_pred)\n",
        "mse"
      ],
      "execution_count": null,
      "outputs": [
        {
          "output_type": "execute_result",
          "data": {
            "text/plain": [
              "0.3333333333333333"
            ]
          },
          "metadata": {
            "tags": []
          },
          "execution_count": 105
        }
      ]
    },
    {
      "cell_type": "markdown",
      "metadata": {
        "id": "udeMIiJWtTNM"
      },
      "source": [
        "**RMSE mede a diferença entre valores reais e preditos**\n",
        "\n",
        "Significa **Root Mean Square Erro**\n",
        "\n",
        "* A diferença é chamada de residuo\n",
        "* Utilizado em regressões\n",
        "* Utiliza unidades independentes\n",
        "* O **RMSE** entrega na mesma unidade que os valores usados"
      ]
    },
    {
      "cell_type": "code",
      "metadata": {
        "id": "b0WCdRm1tTNM",
        "outputId": "2b398e64-fc53-43fd-a4b7-778da726a397"
      },
      "source": [
        "# modo 01 de se obter o RMSE\n",
        "rmse=mean_squared_error(y_test,y_pred)**0.5\n",
        "rmse"
      ],
      "execution_count": null,
      "outputs": [
        {
          "output_type": "execute_result",
          "data": {
            "text/plain": [
              "0.5773502691896257"
            ]
          },
          "metadata": {
            "tags": []
          },
          "execution_count": 106
        }
      ]
    },
    {
      "cell_type": "code",
      "metadata": {
        "id": "ZT63pTVxtTNO",
        "outputId": "00005f21-10b7-4902-cb32-99233bba0acb"
      },
      "source": [
        "# modo 02 de se obter o RMSE\n",
        "from math import sqrt\n",
        "rmse_2 = sqrt(mean_squared_error(y_test,y_pred))\n",
        "rmse_2"
      ],
      "execution_count": null,
      "outputs": [
        {
          "output_type": "execute_result",
          "data": {
            "text/plain": [
              "0.5773502691896257"
            ]
          },
          "metadata": {
            "tags": []
          },
          "execution_count": 107
        }
      ]
    },
    {
      "cell_type": "markdown",
      "metadata": {
        "id": "F64AmfujtTNP"
      },
      "source": [
        "## Método dos Mínimos Quadrados\n",
        "\n",
        "Do ingles **OLS** (do inglês Ordinary Least Squares).\n",
        "\n",
        "Essa função da [statsmodel](https://www.statsmodels.org/dev/examples/notebooks/generated/ols.html) nos permite visualizar alguns dados estatísticos interessantes como **coeficiente**, **erro médio** por features."
      ]
    },
    {
      "cell_type": "code",
      "metadata": {
        "id": "PzfOrGNvtTNP",
        "outputId": "e852396a-8300-496e-8485-4d5d6d083f88"
      },
      "source": [
        "import statsmodels.api as sm\n",
        "model = sm.OLS(y, X).fit()\n",
        "model.summary()"
      ],
      "execution_count": null,
      "outputs": [
        {
          "output_type": "execute_result",
          "data": {
            "text/html": [
              "<table class=\"simpletable\">\n",
              "<caption>OLS Regression Results</caption>\n",
              "<tr>\n",
              "  <th>Dep. Variable:</th>          <td>Class</td>      <th>  R-squared (uncentered):</th>      <td>   0.980</td> \n",
              "</tr>\n",
              "<tr>\n",
              "  <th>Model:</th>                   <td>OLS</td>       <th>  Adj. R-squared (uncentered):</th> <td>   0.978</td> \n",
              "</tr>\n",
              "<tr>\n",
              "  <th>Method:</th>             <td>Least Squares</td>  <th>  F-statistic:       </th>          <td>   603.4</td> \n",
              "</tr>\n",
              "<tr>\n",
              "  <th>Date:</th>             <td>Thu, 06 Aug 2020</td> <th>  Prob (F-statistic):</th>          <td>4.35e-131</td>\n",
              "</tr>\n",
              "<tr>\n",
              "  <th>Time:</th>                 <td>16:39:00</td>     <th>  Log-Likelihood:    </th>          <td> -37.611</td> \n",
              "</tr>\n",
              "<tr>\n",
              "  <th>No. Observations:</th>      <td>   177</td>      <th>  AIC:               </th>          <td>   101.2</td> \n",
              "</tr>\n",
              "<tr>\n",
              "  <th>Df Residuals:</th>          <td>   164</td>      <th>  BIC:               </th>          <td>   142.5</td> \n",
              "</tr>\n",
              "<tr>\n",
              "  <th>Df Model:</th>              <td>    13</td>      <th>                     </th>              <td> </td>    \n",
              "</tr>\n",
              "<tr>\n",
              "  <th>Covariance Type:</th>      <td>nonrobust</td>    <th>                     </th>              <td> </td>    \n",
              "</tr>\n",
              "</table>\n",
              "<table class=\"simpletable\">\n",
              "<tr>\n",
              "           <td></td>              <th>coef</th>     <th>std err</th>      <th>t</th>      <th>P>|t|</th>  <th>[0.025</th>    <th>0.975]</th>  \n",
              "</tr>\n",
              "<tr>\n",
              "  <th>alcohol</th>             <td>    0.1560</td> <td>    0.026</td> <td>    6.071</td> <td> 0.000</td> <td>    0.105</td> <td>    0.207</td>\n",
              "</tr>\n",
              "<tr>\n",
              "  <th>malicAcid</th>           <td>    0.0211</td> <td>    0.027</td> <td>    0.783</td> <td> 0.435</td> <td>   -0.032</td> <td>    0.074</td>\n",
              "</tr>\n",
              "<tr>\n",
              "  <th>ash</th>                 <td>   -0.1279</td> <td>    0.126</td> <td>   -1.016</td> <td> 0.311</td> <td>   -0.376</td> <td>    0.121</td>\n",
              "</tr>\n",
              "<tr>\n",
              "  <th>ashalcalinity</th>       <td>    0.0605</td> <td>    0.010</td> <td>    5.978</td> <td> 0.000</td> <td>    0.041</td> <td>    0.081</td>\n",
              "</tr>\n",
              "<tr>\n",
              "  <th>magnesium</th>           <td>    0.0028</td> <td>    0.002</td> <td>    1.459</td> <td> 0.146</td> <td>   -0.001</td> <td>    0.007</td>\n",
              "</tr>\n",
              "<tr>\n",
              "  <th>totalPhenols</th>        <td>    0.1726</td> <td>    0.078</td> <td>    2.217</td> <td> 0.028</td> <td>    0.019</td> <td>    0.326</td>\n",
              "</tr>\n",
              "<tr>\n",
              "  <th>flavanoids</th>          <td>   -0.4347</td> <td>    0.061</td> <td>   -7.073</td> <td> 0.000</td> <td>   -0.556</td> <td>   -0.313</td>\n",
              "</tr>\n",
              "<tr>\n",
              "  <th>nonFlavanoidPhenols</th> <td>   -0.0061</td> <td>    0.249</td> <td>   -0.024</td> <td> 0.981</td> <td>   -0.497</td> <td>    0.485</td>\n",
              "</tr>\n",
              "<tr>\n",
              "  <th>proanthocyanins</th>     <td>    0.0862</td> <td>    0.057</td> <td>    1.511</td> <td> 0.133</td> <td>   -0.026</td> <td>    0.199</td>\n",
              "</tr>\n",
              "<tr>\n",
              "  <th>colorIntensity</th>      <td>    0.0542</td> <td>    0.017</td> <td>    3.132</td> <td> 0.002</td> <td>    0.020</td> <td>    0.088</td>\n",
              "</tr>\n",
              "<tr>\n",
              "  <th>hue</th>                 <td>    0.1052</td> <td>    0.160</td> <td>    0.658</td> <td> 0.511</td> <td>   -0.210</td> <td>    0.421</td>\n",
              "</tr>\n",
              "<tr>\n",
              "  <th>od280_od315</th>         <td>   -0.2124</td> <td>    0.064</td> <td>   -3.296</td> <td> 0.001</td> <td>   -0.340</td> <td>   -0.085</td>\n",
              "</tr>\n",
              "<tr>\n",
              "  <th>proline</th>             <td>   -0.0010</td> <td>    0.000</td> <td>   -8.862</td> <td> 0.000</td> <td>   -0.001</td> <td>   -0.001</td>\n",
              "</tr>\n",
              "</table>\n",
              "<table class=\"simpletable\">\n",
              "<tr>\n",
              "  <th>Omnibus:</th>       <td> 0.734</td> <th>  Durbin-Watson:     </th> <td>   1.466</td>\n",
              "</tr>\n",
              "<tr>\n",
              "  <th>Prob(Omnibus):</th> <td> 0.693</td> <th>  Jarque-Bera (JB):  </th> <td>   0.586</td>\n",
              "</tr>\n",
              "<tr>\n",
              "  <th>Skew:</th>          <td> 0.140</td> <th>  Prob(JB):          </th> <td>   0.746</td>\n",
              "</tr>\n",
              "<tr>\n",
              "  <th>Kurtosis:</th>      <td> 3.030</td> <th>  Cond. No.          </th> <td>8.94e+03</td>\n",
              "</tr>\n",
              "</table><br/><br/>Warnings:<br/>[1] Standard Errors assume that the covariance matrix of the errors is correctly specified.<br/>[2] The condition number is large, 8.94e+03. This might indicate that there are<br/>strong multicollinearity or other numerical problems."
            ],
            "text/plain": [
              "<class 'statsmodels.iolib.summary.Summary'>\n",
              "\"\"\"\n",
              "                                 OLS Regression Results                                \n",
              "=======================================================================================\n",
              "Dep. Variable:                  Class   R-squared (uncentered):                   0.980\n",
              "Model:                            OLS   Adj. R-squared (uncentered):              0.978\n",
              "Method:                 Least Squares   F-statistic:                              603.4\n",
              "Date:                Thu, 06 Aug 2020   Prob (F-statistic):                   4.35e-131\n",
              "Time:                        16:39:00   Log-Likelihood:                         -37.611\n",
              "No. Observations:                 177   AIC:                                      101.2\n",
              "Df Residuals:                     164   BIC:                                      142.5\n",
              "Df Model:                          13                                                  \n",
              "Covariance Type:            nonrobust                                                  \n",
              "=======================================================================================\n",
              "                          coef    std err          t      P>|t|      [0.025      0.975]\n",
              "---------------------------------------------------------------------------------------\n",
              "alcohol                 0.1560      0.026      6.071      0.000       0.105       0.207\n",
              "malicAcid               0.0211      0.027      0.783      0.435      -0.032       0.074\n",
              "ash                    -0.1279      0.126     -1.016      0.311      -0.376       0.121\n",
              "ashalcalinity           0.0605      0.010      5.978      0.000       0.041       0.081\n",
              "magnesium               0.0028      0.002      1.459      0.146      -0.001       0.007\n",
              "totalPhenols            0.1726      0.078      2.217      0.028       0.019       0.326\n",
              "flavanoids             -0.4347      0.061     -7.073      0.000      -0.556      -0.313\n",
              "nonFlavanoidPhenols    -0.0061      0.249     -0.024      0.981      -0.497       0.485\n",
              "proanthocyanins         0.0862      0.057      1.511      0.133      -0.026       0.199\n",
              "colorIntensity          0.0542      0.017      3.132      0.002       0.020       0.088\n",
              "hue                     0.1052      0.160      0.658      0.511      -0.210       0.421\n",
              "od280_od315            -0.2124      0.064     -3.296      0.001      -0.340      -0.085\n",
              "proline                -0.0010      0.000     -8.862      0.000      -0.001      -0.001\n",
              "==============================================================================\n",
              "Omnibus:                        0.734   Durbin-Watson:                   1.466\n",
              "Prob(Omnibus):                  0.693   Jarque-Bera (JB):                0.586\n",
              "Skew:                           0.140   Prob(JB):                        0.746\n",
              "Kurtosis:                       3.030   Cond. No.                     8.94e+03\n",
              "==============================================================================\n",
              "\n",
              "Warnings:\n",
              "[1] Standard Errors assume that the covariance matrix of the errors is correctly specified.\n",
              "[2] The condition number is large, 8.94e+03. This might indicate that there are\n",
              "strong multicollinearity or other numerical problems.\n",
              "\"\"\""
            ]
          },
          "metadata": {
            "tags": []
          },
          "execution_count": 108
        }
      ]
    },
    {
      "cell_type": "markdown",
      "metadata": {
        "id": "dXPez-TNtTNR"
      },
      "source": [
        "# 8. One Hot Encoder, Label Encoder e Get Dummies\n",
        "\n",
        "Alguns algoritmos somente trabalham com valores numéricos.\n",
        "\n",
        "\n",
        "Basicamente funciona assim:\n",
        "* O **One Label Encoder** transforma os formatos categóricos em numéricos\n",
        "    * Mas será um problema em algoritmos de distância por simplesmente trocar por um número. \n",
        "        * Exemplo: *Daniel*, *Fernanda*, *Leticia*; será transformado em 1, 2, 3. Isso fará com que o algoritmo entenda que o *3* é melhor que o *1*, o que é um problema. Então entra o *One Hot Encoder*.\n",
        "* O **One Hot Encoder** transforma esses números em *matriz presença* com valor binário (1=presente;0=ausente)\n",
        "    * No exemplo dos números acima, o *1*, *2*, *3* agora viram colunas onde *Daniel* antes era *1*, agora na *coluna 1* terá o *1* e nas demais será *0*. *Fernanda* que era *2*, terá o *1* na *coluna 2* e *0* na demais.\n",
        "        Com o exemplo ficará mais fácil de entender.\n",
        "    * O *One Hot Encoder* não aceita valores categóricos, pelo menos na versão utilizada aqui, por isso se transforma com o *Label Encoder* primeiro.\n",
        "* O **Get Dummies** faz todo o trabalho de uma vez só, transformando de categórico para numérico e já com a matriz presença.\n",
        "\n",
        "Agora, claro que você deve estar achando que não faz sentido utilizar outra coisa senão o **Get Dummies**, contudo isso varia em cada problema. \n",
        "\n",
        "Haverão problemas em que se precisará somente do **One Hot Encoder**, às vezes somente do **Label Encoder** e, às vezes sua conjugação. Nesse caso tanto faz utilizar a combinação quanto o **Get Dummies**. \n",
        "\n",
        "Como sempre digo, cabe ao **Cientista de Dados** avaliar quando utilizar cada um."
      ]
    },
    {
      "cell_type": "markdown",
      "metadata": {
        "id": "ZME0BTjmtTNR"
      },
      "source": [
        "**Carregando a base de dados**"
      ]
    },
    {
      "cell_type": "code",
      "metadata": {
        "id": "8bqV_uBCtTNR"
      },
      "source": [
        "dadoscar=pd.read_csv('/home/amador/dados/base_car.csv')"
      ],
      "execution_count": null,
      "outputs": []
    },
    {
      "cell_type": "code",
      "metadata": {
        "id": "_Q8vSBoItTNS",
        "outputId": "422b3f53-dfdb-4b2e-bfbc-089a6a1d4c24"
      },
      "source": [
        "dadoscar"
      ],
      "execution_count": null,
      "outputs": [
        {
          "output_type": "execute_result",
          "data": {
            "text/html": [
              "<div>\n",
              "<style scoped>\n",
              "    .dataframe tbody tr th:only-of-type {\n",
              "        vertical-align: middle;\n",
              "    }\n",
              "\n",
              "    .dataframe tbody tr th {\n",
              "        vertical-align: top;\n",
              "    }\n",
              "\n",
              "    .dataframe thead th {\n",
              "        text-align: right;\n",
              "    }\n",
              "</style>\n",
              "<table border=\"1\" class=\"dataframe\">\n",
              "  <thead>\n",
              "    <tr style=\"text-align: right;\">\n",
              "      <th></th>\n",
              "      <th>Car Model</th>\n",
              "      <th>Mileage</th>\n",
              "      <th>Sell Price($)</th>\n",
              "      <th>Age(yrs)</th>\n",
              "    </tr>\n",
              "  </thead>\n",
              "  <tbody>\n",
              "    <tr>\n",
              "      <th>0</th>\n",
              "      <td>BMW X5</td>\n",
              "      <td>69000</td>\n",
              "      <td>18000</td>\n",
              "      <td>6</td>\n",
              "    </tr>\n",
              "    <tr>\n",
              "      <th>1</th>\n",
              "      <td>BMW X5</td>\n",
              "      <td>35000</td>\n",
              "      <td>34000</td>\n",
              "      <td>3</td>\n",
              "    </tr>\n",
              "    <tr>\n",
              "      <th>2</th>\n",
              "      <td>BMW X5</td>\n",
              "      <td>57000</td>\n",
              "      <td>26100</td>\n",
              "      <td>5</td>\n",
              "    </tr>\n",
              "    <tr>\n",
              "      <th>3</th>\n",
              "      <td>BMW X5</td>\n",
              "      <td>22500</td>\n",
              "      <td>40000</td>\n",
              "      <td>2</td>\n",
              "    </tr>\n",
              "    <tr>\n",
              "      <th>4</th>\n",
              "      <td>BMW X5</td>\n",
              "      <td>46000</td>\n",
              "      <td>31500</td>\n",
              "      <td>4</td>\n",
              "    </tr>\n",
              "    <tr>\n",
              "      <th>5</th>\n",
              "      <td>Audi A5</td>\n",
              "      <td>59000</td>\n",
              "      <td>29400</td>\n",
              "      <td>5</td>\n",
              "    </tr>\n",
              "    <tr>\n",
              "      <th>6</th>\n",
              "      <td>Audi A5</td>\n",
              "      <td>52000</td>\n",
              "      <td>32000</td>\n",
              "      <td>5</td>\n",
              "    </tr>\n",
              "    <tr>\n",
              "      <th>7</th>\n",
              "      <td>Audi A5</td>\n",
              "      <td>72000</td>\n",
              "      <td>19300</td>\n",
              "      <td>6</td>\n",
              "    </tr>\n",
              "    <tr>\n",
              "      <th>8</th>\n",
              "      <td>Audi A5</td>\n",
              "      <td>91000</td>\n",
              "      <td>12000</td>\n",
              "      <td>8</td>\n",
              "    </tr>\n",
              "    <tr>\n",
              "      <th>9</th>\n",
              "      <td>Mercedez Benz C class</td>\n",
              "      <td>67000</td>\n",
              "      <td>22000</td>\n",
              "      <td>6</td>\n",
              "    </tr>\n",
              "    <tr>\n",
              "      <th>10</th>\n",
              "      <td>Mercedez Benz C class</td>\n",
              "      <td>83000</td>\n",
              "      <td>20000</td>\n",
              "      <td>7</td>\n",
              "    </tr>\n",
              "    <tr>\n",
              "      <th>11</th>\n",
              "      <td>Mercedez Benz C class</td>\n",
              "      <td>79000</td>\n",
              "      <td>21000</td>\n",
              "      <td>7</td>\n",
              "    </tr>\n",
              "    <tr>\n",
              "      <th>12</th>\n",
              "      <td>Mercedez Benz C class</td>\n",
              "      <td>59000</td>\n",
              "      <td>33000</td>\n",
              "      <td>5</td>\n",
              "    </tr>\n",
              "  </tbody>\n",
              "</table>\n",
              "</div>"
            ],
            "text/plain": [
              "                Car Model  Mileage  Sell Price($)  Age(yrs)\n",
              "0                  BMW X5    69000          18000         6\n",
              "1                  BMW X5    35000          34000         3\n",
              "2                  BMW X5    57000          26100         5\n",
              "3                  BMW X5    22500          40000         2\n",
              "4                  BMW X5    46000          31500         4\n",
              "5                 Audi A5    59000          29400         5\n",
              "6                 Audi A5    52000          32000         5\n",
              "7                 Audi A5    72000          19300         6\n",
              "8                 Audi A5    91000          12000         8\n",
              "9   Mercedez Benz C class    67000          22000         6\n",
              "10  Mercedez Benz C class    83000          20000         7\n",
              "11  Mercedez Benz C class    79000          21000         7\n",
              "12  Mercedez Benz C class    59000          33000         5"
            ]
          },
          "metadata": {
            "tags": []
          },
          "execution_count": 110
        }
      ]
    },
    {
      "cell_type": "markdown",
      "metadata": {
        "id": "LIRYiNH8tTNU"
      },
      "source": [
        "## Get dummies"
      ]
    },
    {
      "cell_type": "code",
      "metadata": {
        "id": "ofzkFQOdtTNU",
        "outputId": "3fcf399d-a8ba-4c89-cbd7-72b69e925b90"
      },
      "source": [
        "dummies=pd.get_dummies(dadoscar['Car Model'])\n",
        "dummies"
      ],
      "execution_count": null,
      "outputs": [
        {
          "output_type": "execute_result",
          "data": {
            "text/html": [
              "<div>\n",
              "<style scoped>\n",
              "    .dataframe tbody tr th:only-of-type {\n",
              "        vertical-align: middle;\n",
              "    }\n",
              "\n",
              "    .dataframe tbody tr th {\n",
              "        vertical-align: top;\n",
              "    }\n",
              "\n",
              "    .dataframe thead th {\n",
              "        text-align: right;\n",
              "    }\n",
              "</style>\n",
              "<table border=\"1\" class=\"dataframe\">\n",
              "  <thead>\n",
              "    <tr style=\"text-align: right;\">\n",
              "      <th></th>\n",
              "      <th>Audi A5</th>\n",
              "      <th>BMW X5</th>\n",
              "      <th>Mercedez Benz C class</th>\n",
              "    </tr>\n",
              "  </thead>\n",
              "  <tbody>\n",
              "    <tr>\n",
              "      <th>0</th>\n",
              "      <td>0</td>\n",
              "      <td>1</td>\n",
              "      <td>0</td>\n",
              "    </tr>\n",
              "    <tr>\n",
              "      <th>1</th>\n",
              "      <td>0</td>\n",
              "      <td>1</td>\n",
              "      <td>0</td>\n",
              "    </tr>\n",
              "    <tr>\n",
              "      <th>2</th>\n",
              "      <td>0</td>\n",
              "      <td>1</td>\n",
              "      <td>0</td>\n",
              "    </tr>\n",
              "    <tr>\n",
              "      <th>3</th>\n",
              "      <td>0</td>\n",
              "      <td>1</td>\n",
              "      <td>0</td>\n",
              "    </tr>\n",
              "    <tr>\n",
              "      <th>4</th>\n",
              "      <td>0</td>\n",
              "      <td>1</td>\n",
              "      <td>0</td>\n",
              "    </tr>\n",
              "    <tr>\n",
              "      <th>5</th>\n",
              "      <td>1</td>\n",
              "      <td>0</td>\n",
              "      <td>0</td>\n",
              "    </tr>\n",
              "    <tr>\n",
              "      <th>6</th>\n",
              "      <td>1</td>\n",
              "      <td>0</td>\n",
              "      <td>0</td>\n",
              "    </tr>\n",
              "    <tr>\n",
              "      <th>7</th>\n",
              "      <td>1</td>\n",
              "      <td>0</td>\n",
              "      <td>0</td>\n",
              "    </tr>\n",
              "    <tr>\n",
              "      <th>8</th>\n",
              "      <td>1</td>\n",
              "      <td>0</td>\n",
              "      <td>0</td>\n",
              "    </tr>\n",
              "    <tr>\n",
              "      <th>9</th>\n",
              "      <td>0</td>\n",
              "      <td>0</td>\n",
              "      <td>1</td>\n",
              "    </tr>\n",
              "    <tr>\n",
              "      <th>10</th>\n",
              "      <td>0</td>\n",
              "      <td>0</td>\n",
              "      <td>1</td>\n",
              "    </tr>\n",
              "    <tr>\n",
              "      <th>11</th>\n",
              "      <td>0</td>\n",
              "      <td>0</td>\n",
              "      <td>1</td>\n",
              "    </tr>\n",
              "    <tr>\n",
              "      <th>12</th>\n",
              "      <td>0</td>\n",
              "      <td>0</td>\n",
              "      <td>1</td>\n",
              "    </tr>\n",
              "  </tbody>\n",
              "</table>\n",
              "</div>"
            ],
            "text/plain": [
              "    Audi A5  BMW X5  Mercedez Benz C class\n",
              "0         0       1                      0\n",
              "1         0       1                      0\n",
              "2         0       1                      0\n",
              "3         0       1                      0\n",
              "4         0       1                      0\n",
              "5         1       0                      0\n",
              "6         1       0                      0\n",
              "7         1       0                      0\n",
              "8         1       0                      0\n",
              "9         0       0                      1\n",
              "10        0       0                      1\n",
              "11        0       0                      1\n",
              "12        0       0                      1"
            ]
          },
          "metadata": {
            "tags": []
          },
          "execution_count": 111
        }
      ]
    },
    {
      "cell_type": "markdown",
      "metadata": {
        "id": "9Ppfp6FHtTNV"
      },
      "source": [
        "**Rápido assim!**\n",
        "\n",
        "Vamos atribuir ao DataFrame para visualizar\n",
        "\n",
        "A exemplo da **linha 0** que era uma **BMW X5**, somente na coluna com seu nome está presente o *1*, ou seja, está *presente*, nas demais está *ausente*, por isso o *0*."
      ]
    },
    {
      "cell_type": "code",
      "metadata": {
        "id": "WGmwIZwMtTNW",
        "outputId": "f8730f80-05c4-4010-f151-9fcdb167a25c"
      },
      "source": [
        "merged=pd.concat([dadoscar,dummies],axis=1) # pode ser axis=columns\n",
        "merged"
      ],
      "execution_count": null,
      "outputs": [
        {
          "output_type": "execute_result",
          "data": {
            "text/html": [
              "<div>\n",
              "<style scoped>\n",
              "    .dataframe tbody tr th:only-of-type {\n",
              "        vertical-align: middle;\n",
              "    }\n",
              "\n",
              "    .dataframe tbody tr th {\n",
              "        vertical-align: top;\n",
              "    }\n",
              "\n",
              "    .dataframe thead th {\n",
              "        text-align: right;\n",
              "    }\n",
              "</style>\n",
              "<table border=\"1\" class=\"dataframe\">\n",
              "  <thead>\n",
              "    <tr style=\"text-align: right;\">\n",
              "      <th></th>\n",
              "      <th>Car Model</th>\n",
              "      <th>Mileage</th>\n",
              "      <th>Sell Price($)</th>\n",
              "      <th>Age(yrs)</th>\n",
              "      <th>Audi A5</th>\n",
              "      <th>BMW X5</th>\n",
              "      <th>Mercedez Benz C class</th>\n",
              "    </tr>\n",
              "  </thead>\n",
              "  <tbody>\n",
              "    <tr>\n",
              "      <th>0</th>\n",
              "      <td>BMW X5</td>\n",
              "      <td>69000</td>\n",
              "      <td>18000</td>\n",
              "      <td>6</td>\n",
              "      <td>0</td>\n",
              "      <td>1</td>\n",
              "      <td>0</td>\n",
              "    </tr>\n",
              "    <tr>\n",
              "      <th>1</th>\n",
              "      <td>BMW X5</td>\n",
              "      <td>35000</td>\n",
              "      <td>34000</td>\n",
              "      <td>3</td>\n",
              "      <td>0</td>\n",
              "      <td>1</td>\n",
              "      <td>0</td>\n",
              "    </tr>\n",
              "    <tr>\n",
              "      <th>2</th>\n",
              "      <td>BMW X5</td>\n",
              "      <td>57000</td>\n",
              "      <td>26100</td>\n",
              "      <td>5</td>\n",
              "      <td>0</td>\n",
              "      <td>1</td>\n",
              "      <td>0</td>\n",
              "    </tr>\n",
              "    <tr>\n",
              "      <th>3</th>\n",
              "      <td>BMW X5</td>\n",
              "      <td>22500</td>\n",
              "      <td>40000</td>\n",
              "      <td>2</td>\n",
              "      <td>0</td>\n",
              "      <td>1</td>\n",
              "      <td>0</td>\n",
              "    </tr>\n",
              "    <tr>\n",
              "      <th>4</th>\n",
              "      <td>BMW X5</td>\n",
              "      <td>46000</td>\n",
              "      <td>31500</td>\n",
              "      <td>4</td>\n",
              "      <td>0</td>\n",
              "      <td>1</td>\n",
              "      <td>0</td>\n",
              "    </tr>\n",
              "    <tr>\n",
              "      <th>5</th>\n",
              "      <td>Audi A5</td>\n",
              "      <td>59000</td>\n",
              "      <td>29400</td>\n",
              "      <td>5</td>\n",
              "      <td>1</td>\n",
              "      <td>0</td>\n",
              "      <td>0</td>\n",
              "    </tr>\n",
              "    <tr>\n",
              "      <th>6</th>\n",
              "      <td>Audi A5</td>\n",
              "      <td>52000</td>\n",
              "      <td>32000</td>\n",
              "      <td>5</td>\n",
              "      <td>1</td>\n",
              "      <td>0</td>\n",
              "      <td>0</td>\n",
              "    </tr>\n",
              "    <tr>\n",
              "      <th>7</th>\n",
              "      <td>Audi A5</td>\n",
              "      <td>72000</td>\n",
              "      <td>19300</td>\n",
              "      <td>6</td>\n",
              "      <td>1</td>\n",
              "      <td>0</td>\n",
              "      <td>0</td>\n",
              "    </tr>\n",
              "    <tr>\n",
              "      <th>8</th>\n",
              "      <td>Audi A5</td>\n",
              "      <td>91000</td>\n",
              "      <td>12000</td>\n",
              "      <td>8</td>\n",
              "      <td>1</td>\n",
              "      <td>0</td>\n",
              "      <td>0</td>\n",
              "    </tr>\n",
              "    <tr>\n",
              "      <th>9</th>\n",
              "      <td>Mercedez Benz C class</td>\n",
              "      <td>67000</td>\n",
              "      <td>22000</td>\n",
              "      <td>6</td>\n",
              "      <td>0</td>\n",
              "      <td>0</td>\n",
              "      <td>1</td>\n",
              "    </tr>\n",
              "    <tr>\n",
              "      <th>10</th>\n",
              "      <td>Mercedez Benz C class</td>\n",
              "      <td>83000</td>\n",
              "      <td>20000</td>\n",
              "      <td>7</td>\n",
              "      <td>0</td>\n",
              "      <td>0</td>\n",
              "      <td>1</td>\n",
              "    </tr>\n",
              "    <tr>\n",
              "      <th>11</th>\n",
              "      <td>Mercedez Benz C class</td>\n",
              "      <td>79000</td>\n",
              "      <td>21000</td>\n",
              "      <td>7</td>\n",
              "      <td>0</td>\n",
              "      <td>0</td>\n",
              "      <td>1</td>\n",
              "    </tr>\n",
              "    <tr>\n",
              "      <th>12</th>\n",
              "      <td>Mercedez Benz C class</td>\n",
              "      <td>59000</td>\n",
              "      <td>33000</td>\n",
              "      <td>5</td>\n",
              "      <td>0</td>\n",
              "      <td>0</td>\n",
              "      <td>1</td>\n",
              "    </tr>\n",
              "  </tbody>\n",
              "</table>\n",
              "</div>"
            ],
            "text/plain": [
              "                Car Model  Mileage  Sell Price($)  Age(yrs)  Audi A5  BMW X5  \\\n",
              "0                  BMW X5    69000          18000         6        0       1   \n",
              "1                  BMW X5    35000          34000         3        0       1   \n",
              "2                  BMW X5    57000          26100         5        0       1   \n",
              "3                  BMW X5    22500          40000         2        0       1   \n",
              "4                  BMW X5    46000          31500         4        0       1   \n",
              "5                 Audi A5    59000          29400         5        1       0   \n",
              "6                 Audi A5    52000          32000         5        1       0   \n",
              "7                 Audi A5    72000          19300         6        1       0   \n",
              "8                 Audi A5    91000          12000         8        1       0   \n",
              "9   Mercedez Benz C class    67000          22000         6        0       0   \n",
              "10  Mercedez Benz C class    83000          20000         7        0       0   \n",
              "11  Mercedez Benz C class    79000          21000         7        0       0   \n",
              "12  Mercedez Benz C class    59000          33000         5        0       0   \n",
              "\n",
              "    Mercedez Benz C class  \n",
              "0                       0  \n",
              "1                       0  \n",
              "2                       0  \n",
              "3                       0  \n",
              "4                       0  \n",
              "5                       0  \n",
              "6                       0  \n",
              "7                       0  \n",
              "8                       0  \n",
              "9                       1  \n",
              "10                      1  \n",
              "11                      1  \n",
              "12                      1  "
            ]
          },
          "metadata": {
            "tags": []
          },
          "execution_count": 112
        }
      ]
    },
    {
      "cell_type": "markdown",
      "metadata": {
        "id": "CIZctIg1tTNX"
      },
      "source": [
        "**Para finalizar**\n",
        "\n",
        "Vamos construir a coluna final que irá ser utilizada\n",
        "\n",
        "* Observação: Ao fazer o get dummies, se **exclui uma das categorias** para evitar o efeito da multicolinearidade.\n",
        "* Logo se são 3 categorias, tem-se que excluir uma.\n",
        "* **Multicolinearidade** consiste em um problema comum em regressões, no qual as variáveis independentes possuem relações lineares exatas ou aproximadamente exatas.\n",
        "\n",
        "Aqui excluimos a *feature* **Audi A5**, além da coluna original com o nome dos carros."
      ]
    },
    {
      "cell_type": "code",
      "metadata": {
        "id": "Yaz5KWh8tTNX",
        "outputId": "61709304-c0c9-4169-fcbe-14278adb6691"
      },
      "source": [
        "merged_final=merged.drop(['Car Model','Audi A5'],axis='columns')\n",
        "merged_final"
      ],
      "execution_count": null,
      "outputs": [
        {
          "output_type": "execute_result",
          "data": {
            "text/html": [
              "<div>\n",
              "<style scoped>\n",
              "    .dataframe tbody tr th:only-of-type {\n",
              "        vertical-align: middle;\n",
              "    }\n",
              "\n",
              "    .dataframe tbody tr th {\n",
              "        vertical-align: top;\n",
              "    }\n",
              "\n",
              "    .dataframe thead th {\n",
              "        text-align: right;\n",
              "    }\n",
              "</style>\n",
              "<table border=\"1\" class=\"dataframe\">\n",
              "  <thead>\n",
              "    <tr style=\"text-align: right;\">\n",
              "      <th></th>\n",
              "      <th>Mileage</th>\n",
              "      <th>Sell Price($)</th>\n",
              "      <th>Age(yrs)</th>\n",
              "      <th>BMW X5</th>\n",
              "      <th>Mercedez Benz C class</th>\n",
              "    </tr>\n",
              "  </thead>\n",
              "  <tbody>\n",
              "    <tr>\n",
              "      <th>0</th>\n",
              "      <td>69000</td>\n",
              "      <td>18000</td>\n",
              "      <td>6</td>\n",
              "      <td>1</td>\n",
              "      <td>0</td>\n",
              "    </tr>\n",
              "    <tr>\n",
              "      <th>1</th>\n",
              "      <td>35000</td>\n",
              "      <td>34000</td>\n",
              "      <td>3</td>\n",
              "      <td>1</td>\n",
              "      <td>0</td>\n",
              "    </tr>\n",
              "    <tr>\n",
              "      <th>2</th>\n",
              "      <td>57000</td>\n",
              "      <td>26100</td>\n",
              "      <td>5</td>\n",
              "      <td>1</td>\n",
              "      <td>0</td>\n",
              "    </tr>\n",
              "    <tr>\n",
              "      <th>3</th>\n",
              "      <td>22500</td>\n",
              "      <td>40000</td>\n",
              "      <td>2</td>\n",
              "      <td>1</td>\n",
              "      <td>0</td>\n",
              "    </tr>\n",
              "    <tr>\n",
              "      <th>4</th>\n",
              "      <td>46000</td>\n",
              "      <td>31500</td>\n",
              "      <td>4</td>\n",
              "      <td>1</td>\n",
              "      <td>0</td>\n",
              "    </tr>\n",
              "    <tr>\n",
              "      <th>5</th>\n",
              "      <td>59000</td>\n",
              "      <td>29400</td>\n",
              "      <td>5</td>\n",
              "      <td>0</td>\n",
              "      <td>0</td>\n",
              "    </tr>\n",
              "    <tr>\n",
              "      <th>6</th>\n",
              "      <td>52000</td>\n",
              "      <td>32000</td>\n",
              "      <td>5</td>\n",
              "      <td>0</td>\n",
              "      <td>0</td>\n",
              "    </tr>\n",
              "    <tr>\n",
              "      <th>7</th>\n",
              "      <td>72000</td>\n",
              "      <td>19300</td>\n",
              "      <td>6</td>\n",
              "      <td>0</td>\n",
              "      <td>0</td>\n",
              "    </tr>\n",
              "    <tr>\n",
              "      <th>8</th>\n",
              "      <td>91000</td>\n",
              "      <td>12000</td>\n",
              "      <td>8</td>\n",
              "      <td>0</td>\n",
              "      <td>0</td>\n",
              "    </tr>\n",
              "    <tr>\n",
              "      <th>9</th>\n",
              "      <td>67000</td>\n",
              "      <td>22000</td>\n",
              "      <td>6</td>\n",
              "      <td>0</td>\n",
              "      <td>1</td>\n",
              "    </tr>\n",
              "    <tr>\n",
              "      <th>10</th>\n",
              "      <td>83000</td>\n",
              "      <td>20000</td>\n",
              "      <td>7</td>\n",
              "      <td>0</td>\n",
              "      <td>1</td>\n",
              "    </tr>\n",
              "    <tr>\n",
              "      <th>11</th>\n",
              "      <td>79000</td>\n",
              "      <td>21000</td>\n",
              "      <td>7</td>\n",
              "      <td>0</td>\n",
              "      <td>1</td>\n",
              "    </tr>\n",
              "    <tr>\n",
              "      <th>12</th>\n",
              "      <td>59000</td>\n",
              "      <td>33000</td>\n",
              "      <td>5</td>\n",
              "      <td>0</td>\n",
              "      <td>1</td>\n",
              "    </tr>\n",
              "  </tbody>\n",
              "</table>\n",
              "</div>"
            ],
            "text/plain": [
              "    Mileage  Sell Price($)  Age(yrs)  BMW X5  Mercedez Benz C class\n",
              "0     69000          18000         6       1                      0\n",
              "1     35000          34000         3       1                      0\n",
              "2     57000          26100         5       1                      0\n",
              "3     22500          40000         2       1                      0\n",
              "4     46000          31500         4       1                      0\n",
              "5     59000          29400         5       0                      0\n",
              "6     52000          32000         5       0                      0\n",
              "7     72000          19300         6       0                      0\n",
              "8     91000          12000         8       0                      0\n",
              "9     67000          22000         6       0                      1\n",
              "10    83000          20000         7       0                      1\n",
              "11    79000          21000         7       0                      1\n",
              "12    59000          33000         5       0                      1"
            ]
          },
          "metadata": {
            "tags": []
          },
          "execution_count": 113
        }
      ]
    },
    {
      "cell_type": "markdown",
      "metadata": {
        "id": "uqrDwKGWtTNY"
      },
      "source": [
        "## Label Enconder"
      ]
    },
    {
      "cell_type": "markdown",
      "metadata": {
        "id": "yIqDi9ybtTNY"
      },
      "source": [
        "**Relendo a base de dados original**"
      ]
    },
    {
      "cell_type": "code",
      "metadata": {
        "scrolled": true,
        "id": "R-AmVjsOtTNZ",
        "outputId": "b0ca6090-47dc-41b3-d373-483ba22e2887"
      },
      "source": [
        "dadoscar.head(3)"
      ],
      "execution_count": null,
      "outputs": [
        {
          "output_type": "execute_result",
          "data": {
            "text/html": [
              "<div>\n",
              "<style scoped>\n",
              "    .dataframe tbody tr th:only-of-type {\n",
              "        vertical-align: middle;\n",
              "    }\n",
              "\n",
              "    .dataframe tbody tr th {\n",
              "        vertical-align: top;\n",
              "    }\n",
              "\n",
              "    .dataframe thead th {\n",
              "        text-align: right;\n",
              "    }\n",
              "</style>\n",
              "<table border=\"1\" class=\"dataframe\">\n",
              "  <thead>\n",
              "    <tr style=\"text-align: right;\">\n",
              "      <th></th>\n",
              "      <th>Car Model</th>\n",
              "      <th>Mileage</th>\n",
              "      <th>Sell Price($)</th>\n",
              "      <th>Age(yrs)</th>\n",
              "    </tr>\n",
              "  </thead>\n",
              "  <tbody>\n",
              "    <tr>\n",
              "      <th>0</th>\n",
              "      <td>BMW X5</td>\n",
              "      <td>69000</td>\n",
              "      <td>18000</td>\n",
              "      <td>6</td>\n",
              "    </tr>\n",
              "    <tr>\n",
              "      <th>1</th>\n",
              "      <td>BMW X5</td>\n",
              "      <td>35000</td>\n",
              "      <td>34000</td>\n",
              "      <td>3</td>\n",
              "    </tr>\n",
              "    <tr>\n",
              "      <th>2</th>\n",
              "      <td>BMW X5</td>\n",
              "      <td>57000</td>\n",
              "      <td>26100</td>\n",
              "      <td>5</td>\n",
              "    </tr>\n",
              "  </tbody>\n",
              "</table>\n",
              "</div>"
            ],
            "text/plain": [
              "  Car Model  Mileage  Sell Price($)  Age(yrs)\n",
              "0    BMW X5    69000          18000         6\n",
              "1    BMW X5    35000          34000         3\n",
              "2    BMW X5    57000          26100         5"
            ]
          },
          "metadata": {
            "tags": []
          },
          "execution_count": 114
        }
      ]
    },
    {
      "cell_type": "markdown",
      "metadata": {
        "id": "SGj_VDHHtTNb"
      },
      "source": [
        "**Criando o objeto LabelEncoder**"
      ]
    },
    {
      "cell_type": "code",
      "metadata": {
        "id": "PVbVLz6ItTNb"
      },
      "source": [
        "# importando o LabelEncoder\n",
        "from sklearn.preprocessing import LabelEncoder\n",
        "# criando objeto\n",
        "le=LabelEncoder()"
      ],
      "execution_count": null,
      "outputs": []
    },
    {
      "cell_type": "markdown",
      "metadata": {
        "id": "kMXWUyDYtTNc"
      },
      "source": [
        "**Transformando os dados**\n",
        "\n",
        "Veja que agora:\n",
        "* **BMW X5** é *1*\n",
        "* **Audi A5** é *0*\n",
        "* **Mercedez Benz C class** é *2*"
      ]
    },
    {
      "cell_type": "code",
      "metadata": {
        "id": "Y39XuaRDtTNd",
        "outputId": "9704c51f-4796-41d1-a70f-b39500a52d77"
      },
      "source": [
        "# atribuindo os dados originais a uma variável nova para preservar os originais\n",
        "dados_le=dadoscar\n",
        "# atribuindo os dados --> Serão arrays\n",
        "le.fit_transform(dados_le['Car Model'])"
      ],
      "execution_count": null,
      "outputs": [
        {
          "output_type": "execute_result",
          "data": {
            "text/plain": [
              "array([1, 1, 1, 1, 1, 0, 0, 0, 0, 2, 2, 2, 2])"
            ]
          },
          "metadata": {
            "tags": []
          },
          "execution_count": 116
        }
      ]
    },
    {
      "cell_type": "code",
      "metadata": {
        "id": "ZhBKIfRHtTNd",
        "outputId": "644984e7-9684-41d6-d94c-c45b71e504f9"
      },
      "source": [
        "# pode ser feito direto, assim:\n",
        "dados_le=dadoscar\n",
        "dados_le['Car Model']=le.fit_transform(dados_le['Car Model'])\n",
        "dados_le['Car Model']"
      ],
      "execution_count": null,
      "outputs": [
        {
          "output_type": "execute_result",
          "data": {
            "text/plain": [
              "0     1\n",
              "1     1\n",
              "2     1\n",
              "3     1\n",
              "4     1\n",
              "5     0\n",
              "6     0\n",
              "7     0\n",
              "8     0\n",
              "9     2\n",
              "10    2\n",
              "11    2\n",
              "12    2\n",
              "Name: Car Model, dtype: int64"
            ]
          },
          "metadata": {
            "tags": []
          },
          "execution_count": 117
        }
      ]
    },
    {
      "cell_type": "markdown",
      "metadata": {
        "id": "ennT-nyDtTNe"
      },
      "source": [
        "**Visualizando as features já transformadas**"
      ]
    },
    {
      "cell_type": "code",
      "metadata": {
        "id": "o1w6THD3tTNe",
        "outputId": "dbe9a5a2-b9e2-4988-95a7-c7fdf757a2b2"
      },
      "source": [
        "dados_le"
      ],
      "execution_count": null,
      "outputs": [
        {
          "output_type": "execute_result",
          "data": {
            "text/html": [
              "<div>\n",
              "<style scoped>\n",
              "    .dataframe tbody tr th:only-of-type {\n",
              "        vertical-align: middle;\n",
              "    }\n",
              "\n",
              "    .dataframe tbody tr th {\n",
              "        vertical-align: top;\n",
              "    }\n",
              "\n",
              "    .dataframe thead th {\n",
              "        text-align: right;\n",
              "    }\n",
              "</style>\n",
              "<table border=\"1\" class=\"dataframe\">\n",
              "  <thead>\n",
              "    <tr style=\"text-align: right;\">\n",
              "      <th></th>\n",
              "      <th>Car Model</th>\n",
              "      <th>Mileage</th>\n",
              "      <th>Sell Price($)</th>\n",
              "      <th>Age(yrs)</th>\n",
              "    </tr>\n",
              "  </thead>\n",
              "  <tbody>\n",
              "    <tr>\n",
              "      <th>0</th>\n",
              "      <td>1</td>\n",
              "      <td>69000</td>\n",
              "      <td>18000</td>\n",
              "      <td>6</td>\n",
              "    </tr>\n",
              "    <tr>\n",
              "      <th>1</th>\n",
              "      <td>1</td>\n",
              "      <td>35000</td>\n",
              "      <td>34000</td>\n",
              "      <td>3</td>\n",
              "    </tr>\n",
              "    <tr>\n",
              "      <th>2</th>\n",
              "      <td>1</td>\n",
              "      <td>57000</td>\n",
              "      <td>26100</td>\n",
              "      <td>5</td>\n",
              "    </tr>\n",
              "    <tr>\n",
              "      <th>3</th>\n",
              "      <td>1</td>\n",
              "      <td>22500</td>\n",
              "      <td>40000</td>\n",
              "      <td>2</td>\n",
              "    </tr>\n",
              "    <tr>\n",
              "      <th>4</th>\n",
              "      <td>1</td>\n",
              "      <td>46000</td>\n",
              "      <td>31500</td>\n",
              "      <td>4</td>\n",
              "    </tr>\n",
              "    <tr>\n",
              "      <th>5</th>\n",
              "      <td>0</td>\n",
              "      <td>59000</td>\n",
              "      <td>29400</td>\n",
              "      <td>5</td>\n",
              "    </tr>\n",
              "    <tr>\n",
              "      <th>6</th>\n",
              "      <td>0</td>\n",
              "      <td>52000</td>\n",
              "      <td>32000</td>\n",
              "      <td>5</td>\n",
              "    </tr>\n",
              "    <tr>\n",
              "      <th>7</th>\n",
              "      <td>0</td>\n",
              "      <td>72000</td>\n",
              "      <td>19300</td>\n",
              "      <td>6</td>\n",
              "    </tr>\n",
              "    <tr>\n",
              "      <th>8</th>\n",
              "      <td>0</td>\n",
              "      <td>91000</td>\n",
              "      <td>12000</td>\n",
              "      <td>8</td>\n",
              "    </tr>\n",
              "    <tr>\n",
              "      <th>9</th>\n",
              "      <td>2</td>\n",
              "      <td>67000</td>\n",
              "      <td>22000</td>\n",
              "      <td>6</td>\n",
              "    </tr>\n",
              "    <tr>\n",
              "      <th>10</th>\n",
              "      <td>2</td>\n",
              "      <td>83000</td>\n",
              "      <td>20000</td>\n",
              "      <td>7</td>\n",
              "    </tr>\n",
              "    <tr>\n",
              "      <th>11</th>\n",
              "      <td>2</td>\n",
              "      <td>79000</td>\n",
              "      <td>21000</td>\n",
              "      <td>7</td>\n",
              "    </tr>\n",
              "    <tr>\n",
              "      <th>12</th>\n",
              "      <td>2</td>\n",
              "      <td>59000</td>\n",
              "      <td>33000</td>\n",
              "      <td>5</td>\n",
              "    </tr>\n",
              "  </tbody>\n",
              "</table>\n",
              "</div>"
            ],
            "text/plain": [
              "    Car Model  Mileage  Sell Price($)  Age(yrs)\n",
              "0           1    69000          18000         6\n",
              "1           1    35000          34000         3\n",
              "2           1    57000          26100         5\n",
              "3           1    22500          40000         2\n",
              "4           1    46000          31500         4\n",
              "5           0    59000          29400         5\n",
              "6           0    52000          32000         5\n",
              "7           0    72000          19300         6\n",
              "8           0    91000          12000         8\n",
              "9           2    67000          22000         6\n",
              "10          2    83000          20000         7\n",
              "11          2    79000          21000         7\n",
              "12          2    59000          33000         5"
            ]
          },
          "metadata": {
            "tags": []
          },
          "execution_count": 118
        }
      ]
    },
    {
      "cell_type": "markdown",
      "metadata": {
        "id": "Fqp09uJAtTNf"
      },
      "source": [
        "## One Hot Encoder"
      ]
    },
    {
      "cell_type": "markdown",
      "metadata": {
        "id": "b8kkrvhmtTNg"
      },
      "source": [
        "**Transformando em array numpy o dataset**"
      ]
    },
    {
      "cell_type": "code",
      "metadata": {
        "id": "V0j9evDHtTNg",
        "outputId": "de712407-7591-4fec-caba-77f4a7b39c00"
      },
      "source": [
        "dataset_array=dados_le.values\n",
        "type(dataset_array)"
      ],
      "execution_count": null,
      "outputs": [
        {
          "output_type": "execute_result",
          "data": {
            "text/plain": [
              "numpy.ndarray"
            ]
          },
          "metadata": {
            "tags": []
          },
          "execution_count": 119
        }
      ]
    },
    {
      "cell_type": "markdown",
      "metadata": {
        "id": "HsVjvshCtTNh"
      },
      "source": [
        "**Pegando o número de linhas**"
      ]
    },
    {
      "cell_type": "code",
      "metadata": {
        "id": "5ZJ4aEqVtTNi",
        "outputId": "4d1f8e08-afdf-4638-c55e-5cfb8165be38"
      },
      "source": [
        "num_rows = dataset_array.shape[0] # shape[0] significa pegar o shape (ou tamanho) de linhas\n",
        "num_rows"
      ],
      "execution_count": null,
      "outputs": [
        {
          "output_type": "execute_result",
          "data": {
            "text/plain": [
              "13"
            ]
          },
          "metadata": {
            "tags": []
          },
          "execution_count": 120
        }
      ]
    },
    {
      "cell_type": "code",
      "metadata": {
        "id": "B0wL2OiUtTNj",
        "outputId": "5c9936cb-f8a3-4bf3-f0cc-b7eb99a02e99"
      },
      "source": [
        "dataset_array"
      ],
      "execution_count": null,
      "outputs": [
        {
          "output_type": "execute_result",
          "data": {
            "text/plain": [
              "array([[    1, 69000, 18000,     6],\n",
              "       [    1, 35000, 34000,     3],\n",
              "       [    1, 57000, 26100,     5],\n",
              "       [    1, 22500, 40000,     2],\n",
              "       [    1, 46000, 31500,     4],\n",
              "       [    0, 59000, 29400,     5],\n",
              "       [    0, 52000, 32000,     5],\n",
              "       [    0, 72000, 19300,     6],\n",
              "       [    0, 91000, 12000,     8],\n",
              "       [    2, 67000, 22000,     6],\n",
              "       [    2, 83000, 20000,     7],\n",
              "       [    2, 79000, 21000,     7],\n",
              "       [    2, 59000, 33000,     5]])"
            ]
          },
          "metadata": {
            "tags": []
          },
          "execution_count": 121
        }
      ]
    },
    {
      "cell_type": "markdown",
      "metadata": {
        "id": "sABu5tHytTNk"
      },
      "source": [
        "**Visualizando coluna de preços**"
      ]
    },
    {
      "cell_type": "code",
      "metadata": {
        "id": "b52DswovtTNk",
        "outputId": "f0beb756-c166-4866-b1ae-cc093e8af75d"
      },
      "source": [
        "dataset_array[:][:,2]"
      ],
      "execution_count": null,
      "outputs": [
        {
          "output_type": "execute_result",
          "data": {
            "text/plain": [
              "array([18000, 34000, 26100, 40000, 31500, 29400, 32000, 19300, 12000,\n",
              "       22000, 20000, 21000, 33000])"
            ]
          },
          "metadata": {
            "tags": []
          },
          "execution_count": 122
        }
      ]
    },
    {
      "cell_type": "markdown",
      "metadata": {
        "id": "SfAvvkqAtTNm"
      },
      "source": [
        "**Criando o objeto**"
      ]
    },
    {
      "cell_type": "code",
      "metadata": {
        "id": "U8cN1I65tTNm"
      },
      "source": [
        "# importando a biblioteca\n",
        "from sklearn.preprocessing import OneHotEncoder\n",
        "# criando o objeto\n",
        "ohe=OneHotEncoder()"
      ],
      "execution_count": null,
      "outputs": []
    },
    {
      "cell_type": "markdown",
      "metadata": {
        "id": "ZDl0xIa1tTNn"
      },
      "source": [
        "**Pegando os valores da coluna como array e fazendo reshape na dimensão 13x1**"
      ]
    },
    {
      "cell_type": "code",
      "metadata": {
        "id": "Di_95L7ztTNn"
      },
      "source": [
        "# pegando os valores da coluna como array\n",
        "col_array=dados_le['Car Model'].values\n",
        "# fazendo reshape na dimensão 13x1\n",
        "inteiros = col_array.reshape(len(col_array),1)"
      ],
      "execution_count": null,
      "outputs": []
    },
    {
      "cell_type": "code",
      "metadata": {
        "id": "pJJ2e0yotTNp",
        "outputId": "cf193b63-b83a-4de0-f694-3680e0120a61"
      },
      "source": [
        "inteiros.shape"
      ],
      "execution_count": null,
      "outputs": [
        {
          "output_type": "execute_result",
          "data": {
            "text/plain": [
              "(13, 1)"
            ]
          },
          "metadata": {
            "tags": []
          },
          "execution_count": 125
        }
      ]
    },
    {
      "cell_type": "markdown",
      "metadata": {
        "id": "6KpHiN4btTNr"
      },
      "source": [
        "**Imprimindo inteiros para observar a forma dos dados**"
      ]
    },
    {
      "cell_type": "code",
      "metadata": {
        "id": "8iEEEdxdtTNs",
        "outputId": "b48a3ee8-20dd-4857-93e2-9488e461cef4"
      },
      "source": [
        "inteiros"
      ],
      "execution_count": null,
      "outputs": [
        {
          "output_type": "execute_result",
          "data": {
            "text/plain": [
              "array([[1],\n",
              "       [1],\n",
              "       [1],\n",
              "       [1],\n",
              "       [1],\n",
              "       [0],\n",
              "       [0],\n",
              "       [0],\n",
              "       [0],\n",
              "       [2],\n",
              "       [2],\n",
              "       [2],\n",
              "       [2]])"
            ]
          },
          "metadata": {
            "tags": []
          },
          "execution_count": 126
        }
      ]
    },
    {
      "cell_type": "markdown",
      "metadata": {
        "id": "hE6dMZ3xtTNx"
      },
      "source": [
        "**Criando as novas features a partir da matriz de presença**"
      ]
    },
    {
      "cell_type": "code",
      "metadata": {
        "id": "KJw85i2ktTNx"
      },
      "source": [
        "novas_features = ohe.fit_transform(inteiros)"
      ],
      "execution_count": null,
      "outputs": []
    },
    {
      "cell_type": "markdown",
      "metadata": {
        "id": "i6n_oA9qtTNy"
      },
      "source": [
        "**Imprimindo as novas features**"
      ]
    },
    {
      "cell_type": "code",
      "metadata": {
        "id": "-dG-_FPOtTNz",
        "outputId": "9e2b0835-6e00-4480-b2ae-d9e634d24a2c"
      },
      "source": [
        "novas_features"
      ],
      "execution_count": null,
      "outputs": [
        {
          "output_type": "execute_result",
          "data": {
            "text/plain": [
              "<13x3 sparse matrix of type '<class 'numpy.float64'>'\n",
              "\twith 13 stored elements in Compressed Sparse Row format>"
            ]
          },
          "metadata": {
            "tags": []
          },
          "execution_count": 128
        }
      ]
    },
    {
      "cell_type": "markdown",
      "metadata": {
        "id": "caxKrIFQtTN8"
      },
      "source": [
        "**Visualizando o tipo das novas features**"
      ]
    },
    {
      "cell_type": "code",
      "metadata": {
        "id": "7H5194D9tTN9",
        "outputId": "1990ae35-bfd2-40e5-db33-73b59b119ec3"
      },
      "source": [
        "type(novas_features)"
      ],
      "execution_count": null,
      "outputs": [
        {
          "output_type": "execute_result",
          "data": {
            "text/plain": [
              "scipy.sparse.csr.csr_matrix"
            ]
          },
          "metadata": {
            "tags": []
          },
          "execution_count": 129
        }
      ]
    },
    {
      "cell_type": "markdown",
      "metadata": {
        "id": "gmDC-d3atTN9"
      },
      "source": [
        "**Concatenando as novas features ao array em formato array**"
      ]
    },
    {
      "cell_type": "code",
      "metadata": {
        "id": "czvySXkctTN9"
      },
      "source": [
        "dataset_array = np.concatenate([dataset_array, novas_features.toarray()], axis=1)"
      ],
      "execution_count": null,
      "outputs": []
    },
    {
      "cell_type": "markdown",
      "metadata": {
        "id": "rj1LbqHbtTN_"
      },
      "source": [
        "**Visualizando o tamanho do dataset criado**"
      ]
    },
    {
      "cell_type": "code",
      "metadata": {
        "id": "aLSuLWLxtTN_",
        "outputId": "d80fc5a6-29bc-4abd-c230-8a46fb691677"
      },
      "source": [
        "dataset_array.shape"
      ],
      "execution_count": null,
      "outputs": [
        {
          "output_type": "execute_result",
          "data": {
            "text/plain": [
              "(13, 7)"
            ]
          },
          "metadata": {
            "tags": []
          },
          "execution_count": 131
        }
      ]
    },
    {
      "cell_type": "markdown",
      "metadata": {
        "id": "8fwx5HGFtTOA"
      },
      "source": [
        "**Transformando em DataFrame e visualiza as colunas**"
      ]
    },
    {
      "cell_type": "code",
      "metadata": {
        "id": "Bn_VD4HStTOA"
      },
      "source": [
        "dataf = pd.DataFrame(dataset_array)"
      ],
      "execution_count": null,
      "outputs": []
    },
    {
      "cell_type": "markdown",
      "metadata": {
        "id": "n031Vb-4tTOC"
      },
      "source": [
        "**Visualizando o DataFrame final**"
      ]
    },
    {
      "cell_type": "code",
      "metadata": {
        "id": "G1-w7fuKtTOC",
        "outputId": "330e20a0-b9fb-45bc-ca43-14ed69aea04a"
      },
      "source": [
        "dataf.head(13)"
      ],
      "execution_count": null,
      "outputs": [
        {
          "output_type": "execute_result",
          "data": {
            "text/html": [
              "<div>\n",
              "<style scoped>\n",
              "    .dataframe tbody tr th:only-of-type {\n",
              "        vertical-align: middle;\n",
              "    }\n",
              "\n",
              "    .dataframe tbody tr th {\n",
              "        vertical-align: top;\n",
              "    }\n",
              "\n",
              "    .dataframe thead th {\n",
              "        text-align: right;\n",
              "    }\n",
              "</style>\n",
              "<table border=\"1\" class=\"dataframe\">\n",
              "  <thead>\n",
              "    <tr style=\"text-align: right;\">\n",
              "      <th></th>\n",
              "      <th>0</th>\n",
              "      <th>1</th>\n",
              "      <th>2</th>\n",
              "      <th>3</th>\n",
              "      <th>4</th>\n",
              "      <th>5</th>\n",
              "      <th>6</th>\n",
              "    </tr>\n",
              "  </thead>\n",
              "  <tbody>\n",
              "    <tr>\n",
              "      <th>0</th>\n",
              "      <td>1.0</td>\n",
              "      <td>69000.0</td>\n",
              "      <td>18000.0</td>\n",
              "      <td>6.0</td>\n",
              "      <td>0.0</td>\n",
              "      <td>1.0</td>\n",
              "      <td>0.0</td>\n",
              "    </tr>\n",
              "    <tr>\n",
              "      <th>1</th>\n",
              "      <td>1.0</td>\n",
              "      <td>35000.0</td>\n",
              "      <td>34000.0</td>\n",
              "      <td>3.0</td>\n",
              "      <td>0.0</td>\n",
              "      <td>1.0</td>\n",
              "      <td>0.0</td>\n",
              "    </tr>\n",
              "    <tr>\n",
              "      <th>2</th>\n",
              "      <td>1.0</td>\n",
              "      <td>57000.0</td>\n",
              "      <td>26100.0</td>\n",
              "      <td>5.0</td>\n",
              "      <td>0.0</td>\n",
              "      <td>1.0</td>\n",
              "      <td>0.0</td>\n",
              "    </tr>\n",
              "    <tr>\n",
              "      <th>3</th>\n",
              "      <td>1.0</td>\n",
              "      <td>22500.0</td>\n",
              "      <td>40000.0</td>\n",
              "      <td>2.0</td>\n",
              "      <td>0.0</td>\n",
              "      <td>1.0</td>\n",
              "      <td>0.0</td>\n",
              "    </tr>\n",
              "    <tr>\n",
              "      <th>4</th>\n",
              "      <td>1.0</td>\n",
              "      <td>46000.0</td>\n",
              "      <td>31500.0</td>\n",
              "      <td>4.0</td>\n",
              "      <td>0.0</td>\n",
              "      <td>1.0</td>\n",
              "      <td>0.0</td>\n",
              "    </tr>\n",
              "    <tr>\n",
              "      <th>5</th>\n",
              "      <td>0.0</td>\n",
              "      <td>59000.0</td>\n",
              "      <td>29400.0</td>\n",
              "      <td>5.0</td>\n",
              "      <td>1.0</td>\n",
              "      <td>0.0</td>\n",
              "      <td>0.0</td>\n",
              "    </tr>\n",
              "    <tr>\n",
              "      <th>6</th>\n",
              "      <td>0.0</td>\n",
              "      <td>52000.0</td>\n",
              "      <td>32000.0</td>\n",
              "      <td>5.0</td>\n",
              "      <td>1.0</td>\n",
              "      <td>0.0</td>\n",
              "      <td>0.0</td>\n",
              "    </tr>\n",
              "    <tr>\n",
              "      <th>7</th>\n",
              "      <td>0.0</td>\n",
              "      <td>72000.0</td>\n",
              "      <td>19300.0</td>\n",
              "      <td>6.0</td>\n",
              "      <td>1.0</td>\n",
              "      <td>0.0</td>\n",
              "      <td>0.0</td>\n",
              "    </tr>\n",
              "    <tr>\n",
              "      <th>8</th>\n",
              "      <td>0.0</td>\n",
              "      <td>91000.0</td>\n",
              "      <td>12000.0</td>\n",
              "      <td>8.0</td>\n",
              "      <td>1.0</td>\n",
              "      <td>0.0</td>\n",
              "      <td>0.0</td>\n",
              "    </tr>\n",
              "    <tr>\n",
              "      <th>9</th>\n",
              "      <td>2.0</td>\n",
              "      <td>67000.0</td>\n",
              "      <td>22000.0</td>\n",
              "      <td>6.0</td>\n",
              "      <td>0.0</td>\n",
              "      <td>0.0</td>\n",
              "      <td>1.0</td>\n",
              "    </tr>\n",
              "    <tr>\n",
              "      <th>10</th>\n",
              "      <td>2.0</td>\n",
              "      <td>83000.0</td>\n",
              "      <td>20000.0</td>\n",
              "      <td>7.0</td>\n",
              "      <td>0.0</td>\n",
              "      <td>0.0</td>\n",
              "      <td>1.0</td>\n",
              "    </tr>\n",
              "    <tr>\n",
              "      <th>11</th>\n",
              "      <td>2.0</td>\n",
              "      <td>79000.0</td>\n",
              "      <td>21000.0</td>\n",
              "      <td>7.0</td>\n",
              "      <td>0.0</td>\n",
              "      <td>0.0</td>\n",
              "      <td>1.0</td>\n",
              "    </tr>\n",
              "    <tr>\n",
              "      <th>12</th>\n",
              "      <td>2.0</td>\n",
              "      <td>59000.0</td>\n",
              "      <td>33000.0</td>\n",
              "      <td>5.0</td>\n",
              "      <td>0.0</td>\n",
              "      <td>0.0</td>\n",
              "      <td>1.0</td>\n",
              "    </tr>\n",
              "  </tbody>\n",
              "</table>\n",
              "</div>"
            ],
            "text/plain": [
              "      0        1        2    3    4    5    6\n",
              "0   1.0  69000.0  18000.0  6.0  0.0  1.0  0.0\n",
              "1   1.0  35000.0  34000.0  3.0  0.0  1.0  0.0\n",
              "2   1.0  57000.0  26100.0  5.0  0.0  1.0  0.0\n",
              "3   1.0  22500.0  40000.0  2.0  0.0  1.0  0.0\n",
              "4   1.0  46000.0  31500.0  4.0  0.0  1.0  0.0\n",
              "5   0.0  59000.0  29400.0  5.0  1.0  0.0  0.0\n",
              "6   0.0  52000.0  32000.0  5.0  1.0  0.0  0.0\n",
              "7   0.0  72000.0  19300.0  6.0  1.0  0.0  0.0\n",
              "8   0.0  91000.0  12000.0  8.0  1.0  0.0  0.0\n",
              "9   2.0  67000.0  22000.0  6.0  0.0  0.0  1.0\n",
              "10  2.0  83000.0  20000.0  7.0  0.0  0.0  1.0\n",
              "11  2.0  79000.0  21000.0  7.0  0.0  0.0  1.0\n",
              "12  2.0  59000.0  33000.0  5.0  0.0  0.0  1.0"
            ]
          },
          "metadata": {
            "tags": []
          },
          "execution_count": 133
        }
      ]
    },
    {
      "cell_type": "markdown",
      "metadata": {
        "id": "9lOqPphItTOE"
      },
      "source": [
        "**Renomeando as colunas do dataf**"
      ]
    },
    {
      "cell_type": "code",
      "metadata": {
        "id": "E8kBR1gDtTOE"
      },
      "source": [
        "dataf.columns=['Car Model','Mileage','Sell Price($)','Age(yrs)','car1','car2','car3']"
      ],
      "execution_count": null,
      "outputs": []
    },
    {
      "cell_type": "markdown",
      "metadata": {
        "id": "o9H2nzkvtTOF"
      },
      "source": [
        "**Visualizando dataf**"
      ]
    },
    {
      "cell_type": "code",
      "metadata": {
        "id": "vV6MBLTUtTOF",
        "outputId": "501a60ab-e61c-439c-fa55-2bc8b75e1fd5"
      },
      "source": [
        "dataf.head()"
      ],
      "execution_count": null,
      "outputs": [
        {
          "output_type": "execute_result",
          "data": {
            "text/html": [
              "<div>\n",
              "<style scoped>\n",
              "    .dataframe tbody tr th:only-of-type {\n",
              "        vertical-align: middle;\n",
              "    }\n",
              "\n",
              "    .dataframe tbody tr th {\n",
              "        vertical-align: top;\n",
              "    }\n",
              "\n",
              "    .dataframe thead th {\n",
              "        text-align: right;\n",
              "    }\n",
              "</style>\n",
              "<table border=\"1\" class=\"dataframe\">\n",
              "  <thead>\n",
              "    <tr style=\"text-align: right;\">\n",
              "      <th></th>\n",
              "      <th>Car Model</th>\n",
              "      <th>Mileage</th>\n",
              "      <th>Sell Price($)</th>\n",
              "      <th>Age(yrs)</th>\n",
              "      <th>car1</th>\n",
              "      <th>car2</th>\n",
              "      <th>car3</th>\n",
              "    </tr>\n",
              "  </thead>\n",
              "  <tbody>\n",
              "    <tr>\n",
              "      <th>0</th>\n",
              "      <td>1.0</td>\n",
              "      <td>69000.0</td>\n",
              "      <td>18000.0</td>\n",
              "      <td>6.0</td>\n",
              "      <td>0.0</td>\n",
              "      <td>1.0</td>\n",
              "      <td>0.0</td>\n",
              "    </tr>\n",
              "    <tr>\n",
              "      <th>1</th>\n",
              "      <td>1.0</td>\n",
              "      <td>35000.0</td>\n",
              "      <td>34000.0</td>\n",
              "      <td>3.0</td>\n",
              "      <td>0.0</td>\n",
              "      <td>1.0</td>\n",
              "      <td>0.0</td>\n",
              "    </tr>\n",
              "    <tr>\n",
              "      <th>2</th>\n",
              "      <td>1.0</td>\n",
              "      <td>57000.0</td>\n",
              "      <td>26100.0</td>\n",
              "      <td>5.0</td>\n",
              "      <td>0.0</td>\n",
              "      <td>1.0</td>\n",
              "      <td>0.0</td>\n",
              "    </tr>\n",
              "    <tr>\n",
              "      <th>3</th>\n",
              "      <td>1.0</td>\n",
              "      <td>22500.0</td>\n",
              "      <td>40000.0</td>\n",
              "      <td>2.0</td>\n",
              "      <td>0.0</td>\n",
              "      <td>1.0</td>\n",
              "      <td>0.0</td>\n",
              "    </tr>\n",
              "    <tr>\n",
              "      <th>4</th>\n",
              "      <td>1.0</td>\n",
              "      <td>46000.0</td>\n",
              "      <td>31500.0</td>\n",
              "      <td>4.0</td>\n",
              "      <td>0.0</td>\n",
              "      <td>1.0</td>\n",
              "      <td>0.0</td>\n",
              "    </tr>\n",
              "  </tbody>\n",
              "</table>\n",
              "</div>"
            ],
            "text/plain": [
              "   Car Model  Mileage  Sell Price($)  Age(yrs)  car1  car2  car3\n",
              "0        1.0  69000.0        18000.0       6.0   0.0   1.0   0.0\n",
              "1        1.0  35000.0        34000.0       3.0   0.0   1.0   0.0\n",
              "2        1.0  57000.0        26100.0       5.0   0.0   1.0   0.0\n",
              "3        1.0  22500.0        40000.0       2.0   0.0   1.0   0.0\n",
              "4        1.0  46000.0        31500.0       4.0   0.0   1.0   0.0"
            ]
          },
          "metadata": {
            "tags": []
          },
          "execution_count": 135
        }
      ]
    },
    {
      "cell_type": "markdown",
      "metadata": {
        "id": "UHtY0cnrtTOG"
      },
      "source": [
        "**Dropando o car model**"
      ]
    },
    {
      "cell_type": "code",
      "metadata": {
        "id": "5Qo02VPrtTOG",
        "outputId": "2660a687-6896-4434-94ab-329f7505ba58"
      },
      "source": [
        "dataf.drop(['Car Model'],axis=1,inplace=True)\n",
        "dataf"
      ],
      "execution_count": null,
      "outputs": [
        {
          "output_type": "execute_result",
          "data": {
            "text/html": [
              "<div>\n",
              "<style scoped>\n",
              "    .dataframe tbody tr th:only-of-type {\n",
              "        vertical-align: middle;\n",
              "    }\n",
              "\n",
              "    .dataframe tbody tr th {\n",
              "        vertical-align: top;\n",
              "    }\n",
              "\n",
              "    .dataframe thead th {\n",
              "        text-align: right;\n",
              "    }\n",
              "</style>\n",
              "<table border=\"1\" class=\"dataframe\">\n",
              "  <thead>\n",
              "    <tr style=\"text-align: right;\">\n",
              "      <th></th>\n",
              "      <th>Mileage</th>\n",
              "      <th>Sell Price($)</th>\n",
              "      <th>Age(yrs)</th>\n",
              "      <th>car1</th>\n",
              "      <th>car2</th>\n",
              "      <th>car3</th>\n",
              "    </tr>\n",
              "  </thead>\n",
              "  <tbody>\n",
              "    <tr>\n",
              "      <th>0</th>\n",
              "      <td>69000.0</td>\n",
              "      <td>18000.0</td>\n",
              "      <td>6.0</td>\n",
              "      <td>0.0</td>\n",
              "      <td>1.0</td>\n",
              "      <td>0.0</td>\n",
              "    </tr>\n",
              "    <tr>\n",
              "      <th>1</th>\n",
              "      <td>35000.0</td>\n",
              "      <td>34000.0</td>\n",
              "      <td>3.0</td>\n",
              "      <td>0.0</td>\n",
              "      <td>1.0</td>\n",
              "      <td>0.0</td>\n",
              "    </tr>\n",
              "    <tr>\n",
              "      <th>2</th>\n",
              "      <td>57000.0</td>\n",
              "      <td>26100.0</td>\n",
              "      <td>5.0</td>\n",
              "      <td>0.0</td>\n",
              "      <td>1.0</td>\n",
              "      <td>0.0</td>\n",
              "    </tr>\n",
              "    <tr>\n",
              "      <th>3</th>\n",
              "      <td>22500.0</td>\n",
              "      <td>40000.0</td>\n",
              "      <td>2.0</td>\n",
              "      <td>0.0</td>\n",
              "      <td>1.0</td>\n",
              "      <td>0.0</td>\n",
              "    </tr>\n",
              "    <tr>\n",
              "      <th>4</th>\n",
              "      <td>46000.0</td>\n",
              "      <td>31500.0</td>\n",
              "      <td>4.0</td>\n",
              "      <td>0.0</td>\n",
              "      <td>1.0</td>\n",
              "      <td>0.0</td>\n",
              "    </tr>\n",
              "    <tr>\n",
              "      <th>5</th>\n",
              "      <td>59000.0</td>\n",
              "      <td>29400.0</td>\n",
              "      <td>5.0</td>\n",
              "      <td>1.0</td>\n",
              "      <td>0.0</td>\n",
              "      <td>0.0</td>\n",
              "    </tr>\n",
              "    <tr>\n",
              "      <th>6</th>\n",
              "      <td>52000.0</td>\n",
              "      <td>32000.0</td>\n",
              "      <td>5.0</td>\n",
              "      <td>1.0</td>\n",
              "      <td>0.0</td>\n",
              "      <td>0.0</td>\n",
              "    </tr>\n",
              "    <tr>\n",
              "      <th>7</th>\n",
              "      <td>72000.0</td>\n",
              "      <td>19300.0</td>\n",
              "      <td>6.0</td>\n",
              "      <td>1.0</td>\n",
              "      <td>0.0</td>\n",
              "      <td>0.0</td>\n",
              "    </tr>\n",
              "    <tr>\n",
              "      <th>8</th>\n",
              "      <td>91000.0</td>\n",
              "      <td>12000.0</td>\n",
              "      <td>8.0</td>\n",
              "      <td>1.0</td>\n",
              "      <td>0.0</td>\n",
              "      <td>0.0</td>\n",
              "    </tr>\n",
              "    <tr>\n",
              "      <th>9</th>\n",
              "      <td>67000.0</td>\n",
              "      <td>22000.0</td>\n",
              "      <td>6.0</td>\n",
              "      <td>0.0</td>\n",
              "      <td>0.0</td>\n",
              "      <td>1.0</td>\n",
              "    </tr>\n",
              "    <tr>\n",
              "      <th>10</th>\n",
              "      <td>83000.0</td>\n",
              "      <td>20000.0</td>\n",
              "      <td>7.0</td>\n",
              "      <td>0.0</td>\n",
              "      <td>0.0</td>\n",
              "      <td>1.0</td>\n",
              "    </tr>\n",
              "    <tr>\n",
              "      <th>11</th>\n",
              "      <td>79000.0</td>\n",
              "      <td>21000.0</td>\n",
              "      <td>7.0</td>\n",
              "      <td>0.0</td>\n",
              "      <td>0.0</td>\n",
              "      <td>1.0</td>\n",
              "    </tr>\n",
              "    <tr>\n",
              "      <th>12</th>\n",
              "      <td>59000.0</td>\n",
              "      <td>33000.0</td>\n",
              "      <td>5.0</td>\n",
              "      <td>0.0</td>\n",
              "      <td>0.0</td>\n",
              "      <td>1.0</td>\n",
              "    </tr>\n",
              "  </tbody>\n",
              "</table>\n",
              "</div>"
            ],
            "text/plain": [
              "    Mileage  Sell Price($)  Age(yrs)  car1  car2  car3\n",
              "0   69000.0        18000.0       6.0   0.0   1.0   0.0\n",
              "1   35000.0        34000.0       3.0   0.0   1.0   0.0\n",
              "2   57000.0        26100.0       5.0   0.0   1.0   0.0\n",
              "3   22500.0        40000.0       2.0   0.0   1.0   0.0\n",
              "4   46000.0        31500.0       4.0   0.0   1.0   0.0\n",
              "5   59000.0        29400.0       5.0   1.0   0.0   0.0\n",
              "6   52000.0        32000.0       5.0   1.0   0.0   0.0\n",
              "7   72000.0        19300.0       6.0   1.0   0.0   0.0\n",
              "8   91000.0        12000.0       8.0   1.0   0.0   0.0\n",
              "9   67000.0        22000.0       6.0   0.0   0.0   1.0\n",
              "10  83000.0        20000.0       7.0   0.0   0.0   1.0\n",
              "11  79000.0        21000.0       7.0   0.0   0.0   1.0\n",
              "12  59000.0        33000.0       5.0   0.0   0.0   1.0"
            ]
          },
          "metadata": {
            "tags": []
          },
          "execution_count": 136
        }
      ]
    },
    {
      "cell_type": "markdown",
      "metadata": {
        "id": "aZgtcpK4tTOH"
      },
      "source": [
        "**Cansou???**\n",
        "\n",
        "Pois é, o *One Hot Encoder* é um pouco mais trabalhoso, então se for para utilizá-lo após o *Label Encoder*, use o *Get Dummies* diretamente."
      ]
    },
    {
      "cell_type": "markdown",
      "metadata": {
        "id": "PGSR3L0qtTOH"
      },
      "source": [
        "# 9. Pipelines\n",
        "\n",
        "**Por fim!!!**\n",
        "\n",
        "Sei que já me prolonguei muito, mas cada arma no seu Arsenal te dará uma maior chance, correto?!\n",
        "\n",
        "Os **Pipelines** são **automatizações** nos processos de **Machine Learning**, permitindo que processe (transforme) e treine modelos, em vários formatos, bem mais rapidamente.\n",
        "\n",
        "Os **Pipelines** permitem uma melhor **produtividade**, além de **facilitar** na hora de validar o modelo, além de **minimizar** os erros na hora de manipular os dados de `treino` e `teste`.\n",
        "\n",
        "\n",
        "### $$Sigamos!!!$$"
      ]
    },
    {
      "cell_type": "markdown",
      "metadata": {
        "id": "dqilZz9_tTOH"
      },
      "source": [
        "**Importando:**\n",
        "* **Pipeline**\n",
        "* **Pré-processadores** que usaremos (StandardScaler, MinMaxScaler)\n",
        "* **Algoritmos** que usaremos (KNeighborsClassifier e svm)"
      ]
    },
    {
      "cell_type": "code",
      "metadata": {
        "id": "MvFxIYJwtTOI"
      },
      "source": [
        "# importação do pipeline, processadores e algoritmos knn e svm\n",
        "from sklearn.pipeline import Pipeline\n",
        "from sklearn.preprocessing import StandardScaler, MinMaxScaler\n",
        "from sklearn.neighbors import KNeighborsClassifier\n",
        "from sklearn import svm"
      ],
      "execution_count": null,
      "outputs": []
    },
    {
      "cell_type": "markdown",
      "metadata": {
        "id": "ozQwHOS8tTOK"
      },
      "source": [
        "**Visualizando os dados de treino (features)**"
      ]
    },
    {
      "cell_type": "code",
      "metadata": {
        "id": "6F50hcOytTOK",
        "outputId": "266e000f-7d22-4588-d4f2-de247bdbf61c"
      },
      "source": [
        "X_test"
      ],
      "execution_count": null,
      "outputs": [
        {
          "output_type": "execute_result",
          "data": {
            "text/html": [
              "<div>\n",
              "<style scoped>\n",
              "    .dataframe tbody tr th:only-of-type {\n",
              "        vertical-align: middle;\n",
              "    }\n",
              "\n",
              "    .dataframe tbody tr th {\n",
              "        vertical-align: top;\n",
              "    }\n",
              "\n",
              "    .dataframe thead th {\n",
              "        text-align: right;\n",
              "    }\n",
              "</style>\n",
              "<table border=\"1\" class=\"dataframe\">\n",
              "  <thead>\n",
              "    <tr style=\"text-align: right;\">\n",
              "      <th></th>\n",
              "      <th>alcohol</th>\n",
              "      <th>malicAcid</th>\n",
              "      <th>ash</th>\n",
              "      <th>ashalcalinity</th>\n",
              "      <th>magnesium</th>\n",
              "      <th>totalPhenols</th>\n",
              "      <th>flavanoids</th>\n",
              "      <th>nonFlavanoidPhenols</th>\n",
              "      <th>proanthocyanins</th>\n",
              "      <th>colorIntensity</th>\n",
              "      <th>hue</th>\n",
              "      <th>od280_od315</th>\n",
              "      <th>proline</th>\n",
              "    </tr>\n",
              "  </thead>\n",
              "  <tbody>\n",
              "    <tr>\n",
              "      <th>95</th>\n",
              "      <td>11.81</td>\n",
              "      <td>2.12</td>\n",
              "      <td>2.74</td>\n",
              "      <td>21.5</td>\n",
              "      <td>134</td>\n",
              "      <td>1.60</td>\n",
              "      <td>0.99</td>\n",
              "      <td>0.14</td>\n",
              "      <td>1.56</td>\n",
              "      <td>2.50</td>\n",
              "      <td>0.950</td>\n",
              "      <td>2.26</td>\n",
              "      <td>625</td>\n",
              "    </tr>\n",
              "    <tr>\n",
              "      <th>116</th>\n",
              "      <td>12.42</td>\n",
              "      <td>1.61</td>\n",
              "      <td>2.19</td>\n",
              "      <td>22.5</td>\n",
              "      <td>108</td>\n",
              "      <td>2.00</td>\n",
              "      <td>2.09</td>\n",
              "      <td>0.34</td>\n",
              "      <td>1.61</td>\n",
              "      <td>2.06</td>\n",
              "      <td>1.060</td>\n",
              "      <td>2.96</td>\n",
              "      <td>345</td>\n",
              "    </tr>\n",
              "    <tr>\n",
              "      <th>19</th>\n",
              "      <td>14.06</td>\n",
              "      <td>1.63</td>\n",
              "      <td>2.28</td>\n",
              "      <td>16.0</td>\n",
              "      <td>126</td>\n",
              "      <td>3.00</td>\n",
              "      <td>3.17</td>\n",
              "      <td>0.24</td>\n",
              "      <td>2.10</td>\n",
              "      <td>5.65</td>\n",
              "      <td>1.090</td>\n",
              "      <td>3.71</td>\n",
              "      <td>780</td>\n",
              "    </tr>\n",
              "    <tr>\n",
              "      <th>69</th>\n",
              "      <td>12.29</td>\n",
              "      <td>1.61</td>\n",
              "      <td>2.21</td>\n",
              "      <td>20.4</td>\n",
              "      <td>103</td>\n",
              "      <td>1.10</td>\n",
              "      <td>1.02</td>\n",
              "      <td>0.37</td>\n",
              "      <td>1.46</td>\n",
              "      <td>3.05</td>\n",
              "      <td>0.906</td>\n",
              "      <td>1.82</td>\n",
              "      <td>870</td>\n",
              "    </tr>\n",
              "    <tr>\n",
              "      <th>53</th>\n",
              "      <td>13.74</td>\n",
              "      <td>1.67</td>\n",
              "      <td>2.25</td>\n",
              "      <td>16.4</td>\n",
              "      <td>118</td>\n",
              "      <td>2.60</td>\n",
              "      <td>2.90</td>\n",
              "      <td>0.21</td>\n",
              "      <td>1.62</td>\n",
              "      <td>5.85</td>\n",
              "      <td>0.920</td>\n",
              "      <td>3.20</td>\n",
              "      <td>1060</td>\n",
              "    </tr>\n",
              "    <tr>\n",
              "      <th>153</th>\n",
              "      <td>12.58</td>\n",
              "      <td>1.29</td>\n",
              "      <td>2.10</td>\n",
              "      <td>20.0</td>\n",
              "      <td>103</td>\n",
              "      <td>1.48</td>\n",
              "      <td>0.58</td>\n",
              "      <td>0.53</td>\n",
              "      <td>1.40</td>\n",
              "      <td>7.60</td>\n",
              "      <td>0.580</td>\n",
              "      <td>1.55</td>\n",
              "      <td>640</td>\n",
              "    </tr>\n",
              "    <tr>\n",
              "      <th>120</th>\n",
              "      <td>11.56</td>\n",
              "      <td>2.05</td>\n",
              "      <td>3.23</td>\n",
              "      <td>28.5</td>\n",
              "      <td>119</td>\n",
              "      <td>3.18</td>\n",
              "      <td>5.08</td>\n",
              "      <td>0.47</td>\n",
              "      <td>1.87</td>\n",
              "      <td>6.00</td>\n",
              "      <td>0.930</td>\n",
              "      <td>3.69</td>\n",
              "      <td>465</td>\n",
              "    </tr>\n",
              "    <tr>\n",
              "      <th>14</th>\n",
              "      <td>13.63</td>\n",
              "      <td>1.81</td>\n",
              "      <td>2.70</td>\n",
              "      <td>17.2</td>\n",
              "      <td>112</td>\n",
              "      <td>2.85</td>\n",
              "      <td>2.91</td>\n",
              "      <td>0.30</td>\n",
              "      <td>1.46</td>\n",
              "      <td>7.30</td>\n",
              "      <td>1.280</td>\n",
              "      <td>2.88</td>\n",
              "      <td>1310</td>\n",
              "    </tr>\n",
              "    <tr>\n",
              "      <th>102</th>\n",
              "      <td>11.82</td>\n",
              "      <td>1.72</td>\n",
              "      <td>1.88</td>\n",
              "      <td>19.5</td>\n",
              "      <td>86</td>\n",
              "      <td>2.50</td>\n",
              "      <td>1.64</td>\n",
              "      <td>0.37</td>\n",
              "      <td>1.42</td>\n",
              "      <td>2.06</td>\n",
              "      <td>0.940</td>\n",
              "      <td>2.44</td>\n",
              "      <td>415</td>\n",
              "    </tr>\n",
              "    <tr>\n",
              "      <th>106</th>\n",
              "      <td>12.72</td>\n",
              "      <td>1.75</td>\n",
              "      <td>2.28</td>\n",
              "      <td>22.5</td>\n",
              "      <td>84</td>\n",
              "      <td>1.38</td>\n",
              "      <td>1.76</td>\n",
              "      <td>0.48</td>\n",
              "      <td>1.63</td>\n",
              "      <td>3.30</td>\n",
              "      <td>0.880</td>\n",
              "      <td>2.42</td>\n",
              "      <td>488</td>\n",
              "    </tr>\n",
              "    <tr>\n",
              "      <th>11</th>\n",
              "      <td>13.75</td>\n",
              "      <td>1.73</td>\n",
              "      <td>2.41</td>\n",
              "      <td>16.0</td>\n",
              "      <td>89</td>\n",
              "      <td>2.60</td>\n",
              "      <td>2.76</td>\n",
              "      <td>0.29</td>\n",
              "      <td>1.81</td>\n",
              "      <td>5.60</td>\n",
              "      <td>1.150</td>\n",
              "      <td>2.90</td>\n",
              "      <td>1320</td>\n",
              "    </tr>\n",
              "    <tr>\n",
              "      <th>4</th>\n",
              "      <td>14.20</td>\n",
              "      <td>1.76</td>\n",
              "      <td>2.45</td>\n",
              "      <td>15.2</td>\n",
              "      <td>112</td>\n",
              "      <td>3.27</td>\n",
              "      <td>3.39</td>\n",
              "      <td>0.34</td>\n",
              "      <td>1.97</td>\n",
              "      <td>6.75</td>\n",
              "      <td>1.050</td>\n",
              "      <td>2.85</td>\n",
              "      <td>1450</td>\n",
              "    </tr>\n",
              "    <tr>\n",
              "      <th>107</th>\n",
              "      <td>12.22</td>\n",
              "      <td>1.29</td>\n",
              "      <td>1.94</td>\n",
              "      <td>19.0</td>\n",
              "      <td>92</td>\n",
              "      <td>2.36</td>\n",
              "      <td>2.04</td>\n",
              "      <td>0.39</td>\n",
              "      <td>2.08</td>\n",
              "      <td>2.70</td>\n",
              "      <td>0.860</td>\n",
              "      <td>3.02</td>\n",
              "      <td>312</td>\n",
              "    </tr>\n",
              "    <tr>\n",
              "      <th>42</th>\n",
              "      <td>13.24</td>\n",
              "      <td>3.98</td>\n",
              "      <td>2.29</td>\n",
              "      <td>17.5</td>\n",
              "      <td>103</td>\n",
              "      <td>2.64</td>\n",
              "      <td>2.63</td>\n",
              "      <td>0.32</td>\n",
              "      <td>1.66</td>\n",
              "      <td>4.36</td>\n",
              "      <td>0.820</td>\n",
              "      <td>3.00</td>\n",
              "      <td>680</td>\n",
              "    </tr>\n",
              "    <tr>\n",
              "      <th>114</th>\n",
              "      <td>11.03</td>\n",
              "      <td>1.51</td>\n",
              "      <td>2.20</td>\n",
              "      <td>21.5</td>\n",
              "      <td>85</td>\n",
              "      <td>2.46</td>\n",
              "      <td>2.17</td>\n",
              "      <td>0.52</td>\n",
              "      <td>2.01</td>\n",
              "      <td>1.90</td>\n",
              "      <td>1.710</td>\n",
              "      <td>2.87</td>\n",
              "      <td>407</td>\n",
              "    </tr>\n",
              "    <tr>\n",
              "      <th>112</th>\n",
              "      <td>11.41</td>\n",
              "      <td>0.74</td>\n",
              "      <td>2.50</td>\n",
              "      <td>21.0</td>\n",
              "      <td>88</td>\n",
              "      <td>2.48</td>\n",
              "      <td>2.01</td>\n",
              "      <td>0.42</td>\n",
              "      <td>1.44</td>\n",
              "      <td>3.08</td>\n",
              "      <td>1.100</td>\n",
              "      <td>2.31</td>\n",
              "      <td>434</td>\n",
              "    </tr>\n",
              "    <tr>\n",
              "      <th>151</th>\n",
              "      <td>13.11</td>\n",
              "      <td>1.90</td>\n",
              "      <td>2.75</td>\n",
              "      <td>25.5</td>\n",
              "      <td>116</td>\n",
              "      <td>2.20</td>\n",
              "      <td>1.28</td>\n",
              "      <td>0.26</td>\n",
              "      <td>1.56</td>\n",
              "      <td>7.10</td>\n",
              "      <td>0.610</td>\n",
              "      <td>1.33</td>\n",
              "      <td>425</td>\n",
              "    </tr>\n",
              "    <tr>\n",
              "      <th>35</th>\n",
              "      <td>13.28</td>\n",
              "      <td>1.64</td>\n",
              "      <td>2.84</td>\n",
              "      <td>15.5</td>\n",
              "      <td>110</td>\n",
              "      <td>2.60</td>\n",
              "      <td>2.68</td>\n",
              "      <td>0.34</td>\n",
              "      <td>1.36</td>\n",
              "      <td>4.60</td>\n",
              "      <td>1.090</td>\n",
              "      <td>2.78</td>\n",
              "      <td>880</td>\n",
              "    </tr>\n",
              "    <tr>\n",
              "      <th>125</th>\n",
              "      <td>12.43</td>\n",
              "      <td>1.53</td>\n",
              "      <td>2.29</td>\n",
              "      <td>21.5</td>\n",
              "      <td>86</td>\n",
              "      <td>2.74</td>\n",
              "      <td>3.15</td>\n",
              "      <td>0.39</td>\n",
              "      <td>1.77</td>\n",
              "      <td>3.94</td>\n",
              "      <td>0.690</td>\n",
              "      <td>2.84</td>\n",
              "      <td>352</td>\n",
              "    </tr>\n",
              "    <tr>\n",
              "      <th>31</th>\n",
              "      <td>13.68</td>\n",
              "      <td>1.83</td>\n",
              "      <td>2.36</td>\n",
              "      <td>17.2</td>\n",
              "      <td>104</td>\n",
              "      <td>2.42</td>\n",
              "      <td>2.69</td>\n",
              "      <td>0.42</td>\n",
              "      <td>1.97</td>\n",
              "      <td>3.84</td>\n",
              "      <td>1.230</td>\n",
              "      <td>2.87</td>\n",
              "      <td>990</td>\n",
              "    </tr>\n",
              "    <tr>\n",
              "      <th>51</th>\n",
              "      <td>13.82</td>\n",
              "      <td>1.75</td>\n",
              "      <td>2.42</td>\n",
              "      <td>14.0</td>\n",
              "      <td>111</td>\n",
              "      <td>3.88</td>\n",
              "      <td>3.74</td>\n",
              "      <td>0.32</td>\n",
              "      <td>1.87</td>\n",
              "      <td>7.05</td>\n",
              "      <td>1.010</td>\n",
              "      <td>3.26</td>\n",
              "      <td>1190</td>\n",
              "    </tr>\n",
              "    <tr>\n",
              "      <th>75</th>\n",
              "      <td>13.03</td>\n",
              "      <td>0.90</td>\n",
              "      <td>1.71</td>\n",
              "      <td>16.0</td>\n",
              "      <td>86</td>\n",
              "      <td>1.95</td>\n",
              "      <td>2.03</td>\n",
              "      <td>0.24</td>\n",
              "      <td>1.46</td>\n",
              "      <td>4.60</td>\n",
              "      <td>1.190</td>\n",
              "      <td>2.48</td>\n",
              "      <td>392</td>\n",
              "    </tr>\n",
              "    <tr>\n",
              "      <th>171</th>\n",
              "      <td>14.16</td>\n",
              "      <td>2.51</td>\n",
              "      <td>2.48</td>\n",
              "      <td>20.0</td>\n",
              "      <td>91</td>\n",
              "      <td>1.68</td>\n",
              "      <td>0.70</td>\n",
              "      <td>0.44</td>\n",
              "      <td>1.24</td>\n",
              "      <td>9.70</td>\n",
              "      <td>0.620</td>\n",
              "      <td>1.71</td>\n",
              "      <td>660</td>\n",
              "    </tr>\n",
              "    <tr>\n",
              "      <th>73</th>\n",
              "      <td>11.96</td>\n",
              "      <td>1.09</td>\n",
              "      <td>2.30</td>\n",
              "      <td>21.0</td>\n",
              "      <td>101</td>\n",
              "      <td>3.38</td>\n",
              "      <td>2.14</td>\n",
              "      <td>0.13</td>\n",
              "      <td>1.65</td>\n",
              "      <td>3.21</td>\n",
              "      <td>0.990</td>\n",
              "      <td>3.13</td>\n",
              "      <td>886</td>\n",
              "    </tr>\n",
              "    <tr>\n",
              "      <th>40</th>\n",
              "      <td>13.41</td>\n",
              "      <td>3.84</td>\n",
              "      <td>2.12</td>\n",
              "      <td>18.8</td>\n",
              "      <td>90</td>\n",
              "      <td>2.45</td>\n",
              "      <td>2.68</td>\n",
              "      <td>0.27</td>\n",
              "      <td>1.48</td>\n",
              "      <td>4.28</td>\n",
              "      <td>0.910</td>\n",
              "      <td>3.00</td>\n",
              "      <td>1035</td>\n",
              "    </tr>\n",
              "    <tr>\n",
              "      <th>85</th>\n",
              "      <td>12.16</td>\n",
              "      <td>1.61</td>\n",
              "      <td>2.31</td>\n",
              "      <td>22.8</td>\n",
              "      <td>90</td>\n",
              "      <td>1.78</td>\n",
              "      <td>1.69</td>\n",
              "      <td>0.43</td>\n",
              "      <td>1.56</td>\n",
              "      <td>2.45</td>\n",
              "      <td>1.330</td>\n",
              "      <td>2.26</td>\n",
              "      <td>495</td>\n",
              "    </tr>\n",
              "    <tr>\n",
              "      <th>47</th>\n",
              "      <td>14.10</td>\n",
              "      <td>2.02</td>\n",
              "      <td>2.40</td>\n",
              "      <td>18.8</td>\n",
              "      <td>103</td>\n",
              "      <td>2.75</td>\n",
              "      <td>2.92</td>\n",
              "      <td>0.32</td>\n",
              "      <td>2.38</td>\n",
              "      <td>6.20</td>\n",
              "      <td>1.070</td>\n",
              "      <td>2.75</td>\n",
              "      <td>1060</td>\n",
              "    </tr>\n",
              "    <tr>\n",
              "      <th>29</th>\n",
              "      <td>13.73</td>\n",
              "      <td>1.50</td>\n",
              "      <td>2.70</td>\n",
              "      <td>22.5</td>\n",
              "      <td>101</td>\n",
              "      <td>3.00</td>\n",
              "      <td>3.25</td>\n",
              "      <td>0.29</td>\n",
              "      <td>2.38</td>\n",
              "      <td>5.70</td>\n",
              "      <td>1.190</td>\n",
              "      <td>2.71</td>\n",
              "      <td>1285</td>\n",
              "    </tr>\n",
              "    <tr>\n",
              "      <th>16</th>\n",
              "      <td>13.83</td>\n",
              "      <td>1.57</td>\n",
              "      <td>2.62</td>\n",
              "      <td>20.0</td>\n",
              "      <td>115</td>\n",
              "      <td>2.95</td>\n",
              "      <td>3.40</td>\n",
              "      <td>0.40</td>\n",
              "      <td>1.72</td>\n",
              "      <td>6.60</td>\n",
              "      <td>1.130</td>\n",
              "      <td>2.57</td>\n",
              "      <td>1130</td>\n",
              "    </tr>\n",
              "    <tr>\n",
              "      <th>110</th>\n",
              "      <td>12.52</td>\n",
              "      <td>2.43</td>\n",
              "      <td>2.17</td>\n",
              "      <td>21.0</td>\n",
              "      <td>88</td>\n",
              "      <td>2.55</td>\n",
              "      <td>2.27</td>\n",
              "      <td>0.26</td>\n",
              "      <td>1.22</td>\n",
              "      <td>2.00</td>\n",
              "      <td>0.900</td>\n",
              "      <td>2.78</td>\n",
              "      <td>325</td>\n",
              "    </tr>\n",
              "    <tr>\n",
              "      <th>155</th>\n",
              "      <td>13.84</td>\n",
              "      <td>4.12</td>\n",
              "      <td>2.38</td>\n",
              "      <td>19.5</td>\n",
              "      <td>89</td>\n",
              "      <td>1.80</td>\n",
              "      <td>0.83</td>\n",
              "      <td>0.48</td>\n",
              "      <td>1.56</td>\n",
              "      <td>9.01</td>\n",
              "      <td>0.570</td>\n",
              "      <td>1.64</td>\n",
              "      <td>480</td>\n",
              "    </tr>\n",
              "    <tr>\n",
              "      <th>158</th>\n",
              "      <td>13.48</td>\n",
              "      <td>1.67</td>\n",
              "      <td>2.64</td>\n",
              "      <td>22.5</td>\n",
              "      <td>89</td>\n",
              "      <td>2.60</td>\n",
              "      <td>1.10</td>\n",
              "      <td>0.52</td>\n",
              "      <td>2.29</td>\n",
              "      <td>11.75</td>\n",
              "      <td>0.570</td>\n",
              "      <td>1.78</td>\n",
              "      <td>620</td>\n",
              "    </tr>\n",
              "    <tr>\n",
              "      <th>150</th>\n",
              "      <td>12.79</td>\n",
              "      <td>2.67</td>\n",
              "      <td>2.48</td>\n",
              "      <td>22.0</td>\n",
              "      <td>112</td>\n",
              "      <td>1.48</td>\n",
              "      <td>1.36</td>\n",
              "      <td>0.24</td>\n",
              "      <td>1.26</td>\n",
              "      <td>10.80</td>\n",
              "      <td>0.480</td>\n",
              "      <td>1.47</td>\n",
              "      <td>480</td>\n",
              "    </tr>\n",
              "    <tr>\n",
              "      <th>5</th>\n",
              "      <td>14.39</td>\n",
              "      <td>1.87</td>\n",
              "      <td>2.45</td>\n",
              "      <td>14.6</td>\n",
              "      <td>96</td>\n",
              "      <td>2.50</td>\n",
              "      <td>2.52</td>\n",
              "      <td>0.30</td>\n",
              "      <td>1.98</td>\n",
              "      <td>5.25</td>\n",
              "      <td>1.020</td>\n",
              "      <td>3.58</td>\n",
              "      <td>1290</td>\n",
              "    </tr>\n",
              "    <tr>\n",
              "      <th>97</th>\n",
              "      <td>12.37</td>\n",
              "      <td>1.07</td>\n",
              "      <td>2.10</td>\n",
              "      <td>18.5</td>\n",
              "      <td>88</td>\n",
              "      <td>3.52</td>\n",
              "      <td>3.75</td>\n",
              "      <td>0.24</td>\n",
              "      <td>1.95</td>\n",
              "      <td>4.50</td>\n",
              "      <td>1.040</td>\n",
              "      <td>2.77</td>\n",
              "      <td>660</td>\n",
              "    </tr>\n",
              "    <tr>\n",
              "      <th>91</th>\n",
              "      <td>12.69</td>\n",
              "      <td>1.53</td>\n",
              "      <td>2.26</td>\n",
              "      <td>20.7</td>\n",
              "      <td>80</td>\n",
              "      <td>1.38</td>\n",
              "      <td>1.46</td>\n",
              "      <td>0.58</td>\n",
              "      <td>1.62</td>\n",
              "      <td>3.05</td>\n",
              "      <td>0.960</td>\n",
              "      <td>2.06</td>\n",
              "      <td>495</td>\n",
              "    </tr>\n",
              "  </tbody>\n",
              "</table>\n",
              "</div>"
            ],
            "text/plain": [
              "     alcohol  malicAcid   ash  ashalcalinity  magnesium  totalPhenols  \\\n",
              "95     11.81       2.12  2.74           21.5        134          1.60   \n",
              "116    12.42       1.61  2.19           22.5        108          2.00   \n",
              "19     14.06       1.63  2.28           16.0        126          3.00   \n",
              "69     12.29       1.61  2.21           20.4        103          1.10   \n",
              "53     13.74       1.67  2.25           16.4        118          2.60   \n",
              "153    12.58       1.29  2.10           20.0        103          1.48   \n",
              "120    11.56       2.05  3.23           28.5        119          3.18   \n",
              "14     13.63       1.81  2.70           17.2        112          2.85   \n",
              "102    11.82       1.72  1.88           19.5         86          2.50   \n",
              "106    12.72       1.75  2.28           22.5         84          1.38   \n",
              "11     13.75       1.73  2.41           16.0         89          2.60   \n",
              "4      14.20       1.76  2.45           15.2        112          3.27   \n",
              "107    12.22       1.29  1.94           19.0         92          2.36   \n",
              "42     13.24       3.98  2.29           17.5        103          2.64   \n",
              "114    11.03       1.51  2.20           21.5         85          2.46   \n",
              "112    11.41       0.74  2.50           21.0         88          2.48   \n",
              "151    13.11       1.90  2.75           25.5        116          2.20   \n",
              "35     13.28       1.64  2.84           15.5        110          2.60   \n",
              "125    12.43       1.53  2.29           21.5         86          2.74   \n",
              "31     13.68       1.83  2.36           17.2        104          2.42   \n",
              "51     13.82       1.75  2.42           14.0        111          3.88   \n",
              "75     13.03       0.90  1.71           16.0         86          1.95   \n",
              "171    14.16       2.51  2.48           20.0         91          1.68   \n",
              "73     11.96       1.09  2.30           21.0        101          3.38   \n",
              "40     13.41       3.84  2.12           18.8         90          2.45   \n",
              "85     12.16       1.61  2.31           22.8         90          1.78   \n",
              "47     14.10       2.02  2.40           18.8        103          2.75   \n",
              "29     13.73       1.50  2.70           22.5        101          3.00   \n",
              "16     13.83       1.57  2.62           20.0        115          2.95   \n",
              "110    12.52       2.43  2.17           21.0         88          2.55   \n",
              "155    13.84       4.12  2.38           19.5         89          1.80   \n",
              "158    13.48       1.67  2.64           22.5         89          2.60   \n",
              "150    12.79       2.67  2.48           22.0        112          1.48   \n",
              "5      14.39       1.87  2.45           14.6         96          2.50   \n",
              "97     12.37       1.07  2.10           18.5         88          3.52   \n",
              "91     12.69       1.53  2.26           20.7         80          1.38   \n",
              "\n",
              "     flavanoids  nonFlavanoidPhenols  proanthocyanins  colorIntensity    hue  \\\n",
              "95         0.99                 0.14             1.56            2.50  0.950   \n",
              "116        2.09                 0.34             1.61            2.06  1.060   \n",
              "19         3.17                 0.24             2.10            5.65  1.090   \n",
              "69         1.02                 0.37             1.46            3.05  0.906   \n",
              "53         2.90                 0.21             1.62            5.85  0.920   \n",
              "153        0.58                 0.53             1.40            7.60  0.580   \n",
              "120        5.08                 0.47             1.87            6.00  0.930   \n",
              "14         2.91                 0.30             1.46            7.30  1.280   \n",
              "102        1.64                 0.37             1.42            2.06  0.940   \n",
              "106        1.76                 0.48             1.63            3.30  0.880   \n",
              "11         2.76                 0.29             1.81            5.60  1.150   \n",
              "4          3.39                 0.34             1.97            6.75  1.050   \n",
              "107        2.04                 0.39             2.08            2.70  0.860   \n",
              "42         2.63                 0.32             1.66            4.36  0.820   \n",
              "114        2.17                 0.52             2.01            1.90  1.710   \n",
              "112        2.01                 0.42             1.44            3.08  1.100   \n",
              "151        1.28                 0.26             1.56            7.10  0.610   \n",
              "35         2.68                 0.34             1.36            4.60  1.090   \n",
              "125        3.15                 0.39             1.77            3.94  0.690   \n",
              "31         2.69                 0.42             1.97            3.84  1.230   \n",
              "51         3.74                 0.32             1.87            7.05  1.010   \n",
              "75         2.03                 0.24             1.46            4.60  1.190   \n",
              "171        0.70                 0.44             1.24            9.70  0.620   \n",
              "73         2.14                 0.13             1.65            3.21  0.990   \n",
              "40         2.68                 0.27             1.48            4.28  0.910   \n",
              "85         1.69                 0.43             1.56            2.45  1.330   \n",
              "47         2.92                 0.32             2.38            6.20  1.070   \n",
              "29         3.25                 0.29             2.38            5.70  1.190   \n",
              "16         3.40                 0.40             1.72            6.60  1.130   \n",
              "110        2.27                 0.26             1.22            2.00  0.900   \n",
              "155        0.83                 0.48             1.56            9.01  0.570   \n",
              "158        1.10                 0.52             2.29           11.75  0.570   \n",
              "150        1.36                 0.24             1.26           10.80  0.480   \n",
              "5          2.52                 0.30             1.98            5.25  1.020   \n",
              "97         3.75                 0.24             1.95            4.50  1.040   \n",
              "91         1.46                 0.58             1.62            3.05  0.960   \n",
              "\n",
              "     od280_od315  proline  \n",
              "95          2.26      625  \n",
              "116         2.96      345  \n",
              "19          3.71      780  \n",
              "69          1.82      870  \n",
              "53          3.20     1060  \n",
              "153         1.55      640  \n",
              "120         3.69      465  \n",
              "14          2.88     1310  \n",
              "102         2.44      415  \n",
              "106         2.42      488  \n",
              "11          2.90     1320  \n",
              "4           2.85     1450  \n",
              "107         3.02      312  \n",
              "42          3.00      680  \n",
              "114         2.87      407  \n",
              "112         2.31      434  \n",
              "151         1.33      425  \n",
              "35          2.78      880  \n",
              "125         2.84      352  \n",
              "31          2.87      990  \n",
              "51          3.26     1190  \n",
              "75          2.48      392  \n",
              "171         1.71      660  \n",
              "73          3.13      886  \n",
              "40          3.00     1035  \n",
              "85          2.26      495  \n",
              "47          2.75     1060  \n",
              "29          2.71     1285  \n",
              "16          2.57     1130  \n",
              "110         2.78      325  \n",
              "155         1.64      480  \n",
              "158         1.78      620  \n",
              "150         1.47      480  \n",
              "5           3.58     1290  \n",
              "97          2.77      660  \n",
              "91          2.06      495  "
            ]
          },
          "metadata": {
            "tags": []
          },
          "execution_count": 138
        }
      ]
    },
    {
      "cell_type": "markdown",
      "metadata": {
        "id": "ZyE5vWWRtTOL"
      },
      "source": [
        "**Visualizando os dados de treino (classe)**"
      ]
    },
    {
      "cell_type": "code",
      "metadata": {
        "id": "cCRD7cpgtTOL",
        "outputId": "93567abc-7783-4500-bad2-495de06512ef"
      },
      "source": [
        "y_test"
      ],
      "execution_count": null,
      "outputs": [
        {
          "output_type": "execute_result",
          "data": {
            "text/plain": [
              "95     2\n",
              "116    2\n",
              "19     1\n",
              "69     2\n",
              "53     1\n",
              "153    3\n",
              "120    2\n",
              "14     1\n",
              "102    2\n",
              "106    2\n",
              "11     1\n",
              "4      1\n",
              "107    2\n",
              "42     1\n",
              "114    2\n",
              "112    2\n",
              "151    3\n",
              "35     1\n",
              "125    2\n",
              "31     1\n",
              "51     1\n",
              "75     2\n",
              "171    3\n",
              "73     2\n",
              "40     1\n",
              "85     2\n",
              "47     1\n",
              "29     1\n",
              "16     1\n",
              "110    2\n",
              "155    3\n",
              "158    3\n",
              "150    3\n",
              "5      1\n",
              "97     2\n",
              "91     2\n",
              "Name: Class, dtype: int64"
            ]
          },
          "metadata": {
            "tags": []
          },
          "execution_count": 139
        }
      ]
    },
    {
      "cell_type": "markdown",
      "metadata": {
        "id": "4DDDLtOCtTOM"
      },
      "source": [
        "**Criando os Pipelines**\n",
        "\n",
        "Veja como é fácil, cada pipeline está recebendo um **pré-processador** e um **algoritmo**."
      ]
    },
    {
      "cell_type": "code",
      "metadata": {
        "id": "yY39E_wEtTON"
      },
      "source": [
        "# criando pipelines\n",
        "\n",
        "pip_ss = Pipeline([('scaler', StandardScaler()),\n",
        "                    ('KNN', KNeighborsClassifier())\n",
        "                   ])\n",
        "\n",
        "pip_minmax = Pipeline([('minmax', MinMaxScaler()),\n",
        "                       ('KNN', KNeighborsClassifier())\n",
        "                      ])\n",
        "\n",
        "pip_ss_svm = Pipeline([('scaler', StandardScaler()),\n",
        "                       ('SVM', svm.SVC())\n",
        "                      ])\n",
        "pip_minmax_svm = Pipeline([('minmax', MinMaxScaler()),\n",
        "                       ('SVM', svm.SVC())\n",
        "                      ])"
      ],
      "execution_count": null,
      "outputs": []
    },
    {
      "cell_type": "markdown",
      "metadata": {
        "id": "6j__MbJftTOO"
      },
      "source": [
        "**Agora é só executar os pipelines passando os dados de `treino` e `teste`**"
      ]
    },
    {
      "cell_type": "code",
      "metadata": {
        "id": "nn7X1LMntTOO",
        "outputId": "e42f8603-4264-4948-e331-bd2169f934d9"
      },
      "source": [
        "pip_ss.fit(X_train, y_train)\n",
        "pip_minmax.fit(X_train, y_train)\n",
        "pip_ss_svm.fit(X_train, y_train)\n",
        "pip_minmax_svm.fit(X_train, y_train)\n"
      ],
      "execution_count": null,
      "outputs": [
        {
          "output_type": "execute_result",
          "data": {
            "text/plain": [
              "Pipeline(steps=[('minmax', MinMaxScaler()), ('SVM', SVC())])"
            ]
          },
          "metadata": {
            "tags": []
          },
          "execution_count": 141
        }
      ]
    },
    {
      "cell_type": "markdown",
      "metadata": {
        "id": "p-Iwn0gstTOP"
      },
      "source": [
        "**Visualizando os scores**\n",
        "\n",
        "O `score` é um método do próprio *pipeline*"
      ]
    },
    {
      "cell_type": "code",
      "metadata": {
        "id": "R_nD-LbytTOP",
        "outputId": "ce41a8bb-6a34-41d6-f459-f4ab1565fcaa"
      },
      "source": [
        "pip_ss.score(X_test, y_test)"
      ],
      "execution_count": null,
      "outputs": [
        {
          "output_type": "execute_result",
          "data": {
            "text/plain": [
              "0.9722222222222222"
            ]
          },
          "metadata": {
            "tags": []
          },
          "execution_count": 142
        }
      ]
    },
    {
      "cell_type": "code",
      "metadata": {
        "id": "TuWSMDxVtTOR",
        "outputId": "633d4622-cc0b-4491-f539-00a968e7c92a"
      },
      "source": [
        "pip_minmax.score(X_test, y_test)"
      ],
      "execution_count": null,
      "outputs": [
        {
          "output_type": "execute_result",
          "data": {
            "text/plain": [
              "0.9722222222222222"
            ]
          },
          "metadata": {
            "tags": []
          },
          "execution_count": 143
        }
      ]
    },
    {
      "cell_type": "code",
      "metadata": {
        "id": "_ZbfzG8JtTOS",
        "outputId": "1a7eea0d-1ee5-4682-8cd4-30501dbf3d05"
      },
      "source": [
        "pip_ss_svm.score(X_train, y_train)"
      ],
      "execution_count": null,
      "outputs": [
        {
          "output_type": "execute_result",
          "data": {
            "text/plain": [
              "1.0"
            ]
          },
          "metadata": {
            "tags": []
          },
          "execution_count": 144
        }
      ]
    },
    {
      "cell_type": "code",
      "metadata": {
        "id": "_BhOlGxttTOT",
        "outputId": "994e0bc3-8e39-470f-90a6-048b559aaaa6"
      },
      "source": [
        "pip_minmax_svm.score(X_train, y_train)"
      ],
      "execution_count": null,
      "outputs": [
        {
          "output_type": "execute_result",
          "data": {
            "text/plain": [
              "1.0"
            ]
          },
          "metadata": {
            "tags": []
          },
          "execution_count": 145
        }
      ]
    },
    {
      "cell_type": "markdown",
      "metadata": {
        "id": "IVfFGS0FtTOV"
      },
      "source": [
        "**Você encontrará outros métodos do pipeline [aqui](https://scikit-learn.org/stable/modules/generated/sklearn.pipeline.Pipeline.html) caso tenha interesse**"
      ]
    },
    {
      "cell_type": "markdown",
      "metadata": {
        "id": "okgC-qA1tTOV"
      },
      "source": [
        "**Visualizando os dados da variável *df* para finalizar**"
      ]
    },
    {
      "cell_type": "code",
      "metadata": {
        "id": "ELGnHOGatTOW",
        "outputId": "95ef9d1e-aeb0-40cc-b659-94f68f3e898e"
      },
      "source": [
        "df.values"
      ],
      "execution_count": null,
      "outputs": [
        {
          "output_type": "execute_result",
          "data": {
            "text/plain": [
              "array([[1.000e+00, 1.320e+01, 1.780e+00, ..., 1.050e+00, 3.400e+00,\n",
              "        1.050e+03],\n",
              "       [1.000e+00, 1.316e+01, 2.360e+00, ..., 1.030e+00, 3.170e+00,\n",
              "        1.185e+03],\n",
              "       [1.000e+00, 1.437e+01, 1.950e+00, ..., 8.600e-01, 3.450e+00,\n",
              "        1.480e+03],\n",
              "       ...,\n",
              "       [3.000e+00, 1.327e+01, 4.280e+00, ..., 5.900e-01, 1.560e+00,\n",
              "        8.350e+02],\n",
              "       [3.000e+00, 1.317e+01, 2.590e+00, ..., 6.000e-01, 1.620e+00,\n",
              "        8.400e+02],\n",
              "       [3.000e+00, 1.413e+01, 4.100e+00, ..., 6.100e-01, 1.600e+00,\n",
              "        5.600e+02]])"
            ]
          },
          "metadata": {
            "tags": []
          },
          "execution_count": 146
        }
      ]
    },
    {
      "cell_type": "markdown",
      "metadata": {
        "id": "PkkHn_PBtitn"
      },
      "source": [
        "# Obrigado!\n",
        "\n",
        "Obrigado por ter disponibilizado um pouco do seu tempo e atenção aqui. Espero que, de alguma forma, tenha sido útil para seu crescimento. Se houver qualquer dúvida ou sugestão, não hesite em entrar em contato no [LinkedIn](https://www.linkedin.com/in/daniel-sousa-amador) e verificar meus outros projetos no [GitHub](https://github.com/amadords).\n",
        "\n",
        "[![LinkedIn](https://img.shields.io/badge/LinkedIn-DanielSousaAmador-purple.svg)](https://www.linkedin.com/in/daniel-sousa-amador)\n",
        "[![GitHub](https://img.shields.io/badge/GitHub-amadords-yellow.svg)](https://github.com/amadords)\n",
        "[![Medium](https://img.shields.io/badge/Medium-DanielSousaAmador-darkblue.svg)](https://daniel-s-amador.medium.com/)\n",
        "\n",
        "\n",
        "\n",
        "<center><img width=\"90%\" src=\"https://raw.githubusercontent.com/danielamador12/Portfolio/master/github.png\"></center>"
      ]
    }
  ]
}