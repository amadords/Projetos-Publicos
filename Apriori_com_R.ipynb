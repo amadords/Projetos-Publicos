{
  "nbformat": 4,
  "nbformat_minor": 0,
  "metadata": {
    "colab": {
      "name": "Apriori com R",
      "provenance": [],
      "authorship_tag": "ABX9TyOPlm95NkQMNaRhm2x7wzBA",
      "include_colab_link": true
    },
    "kernelspec": {
      "name": "python3",
      "display_name": "Python 3"
    }
  },
  "cells": [
    {
      "cell_type": "markdown",
      "metadata": {
        "id": "view-in-github",
        "colab_type": "text"
      },
      "source": [
        "<a href=\"https://colab.research.google.com/github/amadords/Projetos-Publicos/blob/master/Apriori_com_R.ipynb\" target=\"_parent\"><img src=\"https://colab.research.google.com/assets/colab-badge.svg\" alt=\"Open In Colab\"/></a>"
      ]
    },
    {
      "cell_type": "markdown",
      "metadata": {
        "id": "Akc7zjhsv6hJ"
      },
      "source": [
        "# **Apriori com R**\n",
        "---\n",
        "\n",
        "\n",
        "[![LinkedIn](https://img.shields.io/badge/LinkedIn-DanielSousaAmador-cyan.svg)](https://www.linkedin.com/in/daniel-sousa-amador)\n",
        "[![GitHub](https://img.shields.io/badge/GitHub-amadords-darkblue.svg)](https://github.com/amadords)\n",
        "[![Medium](https://img.shields.io/badge/Medium-DanielSousaAmador-white.svg)](https://daniel-s-amador.medium.com/)\n",
        "\n",
        "![img](https://raw.githubusercontent.com/amadords/images/main/association-rules.png)\n",
        "\n",
        "O presente notebook é apenas um suporte prático para o artigo teórico que pode ser visualizado [aqui]()."
      ]
    },
    {
      "cell_type": "markdown",
      "metadata": {
        "id": "0mMBS405wCyK"
      },
      "source": [
        "**Carregando a biblioteca [rpy2](https://pypi.org/project/rpy2/) para utilizar códigos em R.**"
      ]
    },
    {
      "cell_type": "code",
      "metadata": {
        "colab": {
          "base_uri": "https://localhost:8080/"
        },
        "id": "_C0BiwPIrGEh",
        "outputId": "7239858e-0ffa-4bb6-b1a0-de0f422704e0"
      },
      "source": [
        "%load_ext rpy2.ipython"
      ],
      "execution_count": null,
      "outputs": [
        {
          "output_type": "stream",
          "text": [
            "/usr/local/lib/python3.7/dist-packages/rpy2/robjects/pandas2ri.py:14: FutureWarning: pandas.core.index is deprecated and will be removed in a future version.  The public classes are available in the top-level namespace.\n",
            "  from pandas.core.index import Index as PandasIndex\n",
            "/usr/local/lib/python3.7/dist-packages/rpy2/robjects/pandas2ri.py:34: UserWarning: pandas >= 1.0 is not supported.\n",
            "  warnings.warn('pandas >= 1.0 is not supported.')\n"
          ],
          "name": "stderr"
        }
      ]
    },
    {
      "cell_type": "markdown",
      "metadata": {
        "id": "avMbYK4cwD8u"
      },
      "source": [
        "**Instalando e carregando pacotes R**"
      ]
    },
    {
      "cell_type": "code",
      "metadata": {
        "colab": {
          "base_uri": "https://localhost:8080/"
        },
        "id": "m9BYpNfNtkaP",
        "outputId": "e812286c-e7e0-4879-bed6-3036bcc501c7"
      },
      "source": [
        "%%R\n",
        "\n",
        "install.packages(\"arules\")\n",
        "install.packages(\"arulesViz\")\n",
        "library(\"arules\")\n",
        "library(\"arulesViz\")"
      ],
      "execution_count": null,
      "outputs": [
        {
          "output_type": "stream",
          "text": [
            "R[write to console]: Installing package into ‘/usr/local/lib/R/site-library’\n",
            "(as ‘lib’ is unspecified)\n",
            "\n",
            "R[write to console]: trying URL 'https://cran.rstudio.com/src/contrib/arules_1.6-6.tar.gz'\n",
            "\n",
            "R[write to console]: Content type 'application/x-gzip'\n",
            "R[write to console]:  length 1935344 bytes (1.8 MB)\n",
            "\n",
            "R[write to console]: =\n",
            "R[write to console]: =\n",
            "R[write to console]: =\n",
            "R[write to console]: =\n",
            "R[write to console]: =\n",
            "R[write to console]: =\n",
            "R[write to console]: =\n",
            "R[write to console]: =\n",
            "R[write to console]: =\n",
            "R[write to console]: =\n",
            "R[write to console]: =\n",
            "R[write to console]: =\n",
            "R[write to console]: =\n",
            "R[write to console]: =\n",
            "R[write to console]: =\n",
            "R[write to console]: =\n",
            "R[write to console]: =\n",
            "R[write to console]: =\n",
            "R[write to console]: =\n",
            "R[write to console]: =\n",
            "R[write to console]: =\n",
            "R[write to console]: =\n",
            "R[write to console]: =\n",
            "R[write to console]: =\n",
            "R[write to console]: =\n",
            "R[write to console]: =\n",
            "R[write to console]: =\n",
            "R[write to console]: =\n",
            "R[write to console]: =\n",
            "R[write to console]: =\n",
            "R[write to console]: =\n",
            "R[write to console]: =\n",
            "R[write to console]: =\n",
            "R[write to console]: =\n",
            "R[write to console]: =\n",
            "R[write to console]: =\n",
            "R[write to console]: =\n",
            "R[write to console]: =\n",
            "R[write to console]: =\n",
            "R[write to console]: =\n",
            "R[write to console]: =\n",
            "R[write to console]: =\n",
            "R[write to console]: =\n",
            "R[write to console]: =\n",
            "R[write to console]: =\n",
            "R[write to console]: =\n",
            "R[write to console]: =\n",
            "R[write to console]: =\n",
            "R[write to console]: =\n",
            "R[write to console]: =\n",
            "R[write to console]: \n",
            "\n",
            "R[write to console]: downloaded 1.8 MB\n",
            "\n",
            "\n",
            "R[write to console]: \n",
            "\n",
            "R[write to console]: \n",
            "R[write to console]: The downloaded source packages are in\n",
            "\t‘/tmp/RtmpouO3mK/downloaded_packages’\n",
            "R[write to console]: \n",
            "R[write to console]: \n",
            "\n",
            "R[write to console]: Installing package into ‘/usr/local/lib/R/site-library’\n",
            "(as ‘lib’ is unspecified)\n",
            "\n",
            "R[write to console]: trying URL 'https://cran.rstudio.com/src/contrib/arulesViz_1.3-3.tar.gz'\n",
            "\n",
            "R[write to console]: Content type 'application/x-gzip'\n",
            "R[write to console]:  length 783780 bytes (765 KB)\n",
            "\n",
            "R[write to console]: =\n",
            "R[write to console]: =\n",
            "R[write to console]: =\n",
            "R[write to console]: =\n",
            "R[write to console]: =\n",
            "R[write to console]: =\n",
            "R[write to console]: =\n",
            "R[write to console]: =\n",
            "R[write to console]: =\n",
            "R[write to console]: =\n",
            "R[write to console]: =\n",
            "R[write to console]: =\n",
            "R[write to console]: =\n",
            "R[write to console]: =\n",
            "R[write to console]: =\n",
            "R[write to console]: =\n",
            "R[write to console]: =\n",
            "R[write to console]: =\n",
            "R[write to console]: =\n",
            "R[write to console]: =\n",
            "R[write to console]: =\n",
            "R[write to console]: =\n",
            "R[write to console]: =\n",
            "R[write to console]: =\n",
            "R[write to console]: =\n",
            "R[write to console]: =\n",
            "R[write to console]: =\n",
            "R[write to console]: =\n",
            "R[write to console]: =\n",
            "R[write to console]: =\n",
            "R[write to console]: =\n",
            "R[write to console]: =\n",
            "R[write to console]: =\n",
            "R[write to console]: =\n",
            "R[write to console]: =\n",
            "R[write to console]: =\n",
            "R[write to console]: =\n",
            "R[write to console]: =\n",
            "R[write to console]: =\n",
            "R[write to console]: =\n",
            "R[write to console]: =\n",
            "R[write to console]: =\n",
            "R[write to console]: =\n",
            "R[write to console]: =\n",
            "R[write to console]: =\n",
            "R[write to console]: =\n",
            "R[write to console]: =\n",
            "R[write to console]: =\n",
            "R[write to console]: =\n",
            "R[write to console]: =\n",
            "R[write to console]: \n",
            "\n",
            "R[write to console]: downloaded 765 KB\n",
            "\n",
            "\n",
            "R[write to console]: \n",
            "\n",
            "R[write to console]: \n",
            "R[write to console]: The downloaded source packages are in\n",
            "\t‘/tmp/RtmpouO3mK/downloaded_packages’\n",
            "R[write to console]: \n",
            "R[write to console]: \n",
            "\n",
            "R[write to console]: Loading required package: Matrix\n",
            "\n",
            "R[write to console]: \n",
            "Attaching package: ‘arules’\n",
            "\n",
            "\n",
            "R[write to console]: The following objects are masked from ‘package:base’:\n",
            "\n",
            "    abbreviate, write\n",
            "\n",
            "\n",
            "R[write to console]: Loading required package: grid\n",
            "\n"
          ],
          "name": "stderr"
        }
      ]
    },
    {
      "cell_type": "markdown",
      "metadata": {
        "id": "WtRwefwNwNLx"
      },
      "source": [
        "**Carregando os dados**\n",
        "\n",
        "> Visualizando matriz também e os itens por pedido."
      ]
    },
    {
      "cell_type": "code",
      "metadata": {
        "colab": {
          "base_uri": "https://localhost:8080/",
          "height": 619
        },
        "id": "HK7yHpwUtvfs",
        "outputId": "9c61ae8e-b554-4a8e-9fd0-f5692478726e"
      },
      "source": [
        "%%R\n",
        "\n",
        "PATH <-'https://raw.githubusercontent.com/amadords/data/main/transacoes.txt'\n",
        "transacoes = read.transactions(PATH,format=\"basket\",sep=\",\")\n",
        "transacoes \n",
        "inspect(transacoes)\n",
        "image(transacoes)"
      ],
      "execution_count": null,
      "outputs": [
        {
          "output_type": "stream",
          "text": [
            "    items                  \n",
            "[1] {Cerveja,Pizza,Sorvete}\n",
            "[2] {Pizza,Sorvete}        \n",
            "[3] {Cerveja,Pizza}        \n",
            "[4] {Cerveja,Pizza,Sorvete}\n",
            "[5] {Cerveja,Pizza}        \n",
            "[6] {Pizza}                \n"
          ],
          "name": "stdout"
        },
        {
          "output_type": "display_data",
          "data": {
            "image/png": "[encoded data removed]"
          },
          "metadata": {
            "tags": []
          }
        }
      ]
    },
    {
      "cell_type": "markdown",
      "metadata": {
        "id": "A8dD1srhwQpb"
      },
      "source": [
        "**Visualizando regras**"
      ]
    },
    {
      "cell_type": "code",
      "metadata": {
        "colab": {
          "base_uri": "https://localhost:8080/"
        },
        "id": "X75U1dSruAhb",
        "outputId": "76a5b998-3656-4540-fed6-41ce162b7959"
      },
      "source": [
        "%%R\n",
        "\n",
        "\n",
        "regras = apriori(transacoes, parameter= list(supp=0.5, conf=0.5, minlen=2))\n",
        "regras\n",
        "summary(regras)\n",
        "inspect(regras) "
      ],
      "execution_count": null,
      "outputs": [
        {
          "output_type": "stream",
          "text": [
            "Apriori\n",
            "\n",
            "Parameter specification:\n",
            " confidence minval smax arem  aval originalSupport maxtime support minlen\n",
            "        0.5    0.1    1 none FALSE            TRUE       5     0.5      2\n",
            " maxlen target  ext\n",
            "     10  rules TRUE\n",
            "\n",
            "Algorithmic control:\n",
            " filter tree heap memopt load sort verbose\n",
            "    0.1 TRUE TRUE  FALSE TRUE    2    TRUE\n",
            "\n",
            "Absolute minimum support count: 3 \n",
            "\n",
            "set item appearances ...[0 item(s)] done [0.00s].\n",
            "set transactions ...[3 item(s), 6 transaction(s)] done [0.00s].\n",
            "sorting and recoding items ... [3 item(s)] done [0.00s].\n",
            "creating transaction tree ... done [0.00s].\n",
            "checking subsets of size 1 2 done [0.00s].\n",
            "writing ... [4 rule(s)] done [0.00s].\n",
            "creating S4 object  ... done [0.00s].\n",
            "    lhs          rhs       support   confidence coverage  lift count\n",
            "[1] {Sorvete} => {Pizza}   0.5000000 1.0000000  0.5000000 1    3    \n",
            "[2] {Pizza}   => {Sorvete} 0.5000000 0.5000000  1.0000000 1    3    \n",
            "[3] {Cerveja} => {Pizza}   0.6666667 1.0000000  0.6666667 1    4    \n",
            "[4] {Pizza}   => {Cerveja} 0.6666667 0.6666667  1.0000000 1    4    \n"
          ],
          "name": "stdout"
        }
      ]
    },
    {
      "cell_type": "markdown",
      "metadata": {
        "id": "8eXJqWS3wb2z"
      },
      "source": [
        "**Algumas plotagens**"
      ]
    },
    {
      "cell_type": "code",
      "metadata": {
        "colab": {
          "base_uri": "https://localhost:8080/"
        },
        "id": "aDdRCdKIws1c",
        "outputId": "d0823776-1904-4627-88c3-c7490af1f218"
      },
      "source": [
        "%%R\n",
        "\n",
        "plot(regras, method=\"matrix\", control=list(type=\"items\"))"
      ],
      "execution_count": null,
      "outputs": [
        {
          "output_type": "stream",
          "text": [
            "R[write to console]: Warning:\n",
            "R[write to console]:  Unknown control parameters: type\n",
            "\n"
          ],
          "name": "stderr"
        },
        {
          "output_type": "stream",
          "text": [
            "Available control parameters (with default values):\n",
            "main\t =  Matrix with 4 rules\n",
            "engine\t =  default\n",
            "col\t =  c(\"#EE0000FF\", \"#EE0303FF\", \"#EE0606FF\", \"#EE0909FF\", \"#EE0C0CFF\", \"#EE0F0FFF\", \"#EE1212FF\", \"#EE1515FF\", \"#EE1818FF\", \"#EE1B1BFF\", \"#EE1E1EFF\", \"#EE2222FF\", \"#EE2525FF\", \"#EE2828FF\", \"#EE2B2BFF\", \"#EE2E2EFF\", \"#EE3131FF\", \"#EE3434FF\", \"#EE3737FF\", \"#EE3A3AFF\", \"#EE3D3DFF\", \"#EE4040FF\", \"#EE4444FF\", \"#EE4747FF\", \"#EE4A4AFF\", \"#EE4D4DFF\", \"#EE5050FF\", \"#EE5353FF\", \"#EE5656FF\", \"#EE5959FF\", \"#EE5C5CFF\", \"#EE5F5FFF\", \"#EE6262FF\", \"#EE6666FF\", \"#EE6969FF\", \"#EE6C6CFF\", \"#EE6F6FFF\", \"#EE7272FF\", \"#EE7575FF\",  \"#EE7878FF\", \"#EE7B7BFF\", \"#EE7E7EFF\", \"#EE8181FF\", \"#EE8484FF\", \"#EE8888FF\", \"#EE8B8BFF\", \"#EE8E8EFF\", \"#EE9191FF\", \"#EE9494FF\", \"#EE9797FF\", \"#EE9999FF\", \"#EE9B9BFF\", \"#EE9D9DFF\", \"#EE9F9FFF\", \"#EEA0A0FF\", \"#EEA2A2FF\", \"#EEA4A4FF\", \"#EEA5A5FF\", \"#EEA7A7FF\", \"#EEA9A9FF\", \"#EEABABFF\", \"#EEACACFF\", \"#EEAEAEFF\", \"#EEB0B0FF\", \"#EEB1B1FF\", \"#EEB3B3FF\", \"#EEB5B5FF\", \"#EEB7B7FF\", \"#EEB8B8FF\", \"#EEBABAFF\", \"#EEBCBCFF\", \"#EEBDBDFF\", \"#EEBFBFFF\", \"#EEC1C1FF\", \"#EEC3C3FF\", \"#EEC4C4FF\", \"#EEC6C6FF\", \"#EEC8C8FF\",  \"#EEC9C9FF\", \"#EECBCBFF\", \"#EECDCDFF\", \"#EECFCFFF\", \"#EED0D0FF\", \"#EED2D2FF\", \"#EED4D4FF\", \"#EED5D5FF\", \"#EED7D7FF\", \"#EED9D9FF\", \"#EEDBDBFF\", \"#EEDCDCFF\", \"#EEDEDEFF\", \"#EEE0E0FF\", \"#EEE1E1FF\", \"#EEE3E3FF\", \"#EEE5E5FF\", \"#EEE7E7FF\", \"#EEE8E8FF\", \"#EEEAEAFF\", \"#EEECECFF\", \"#EEEEEEFF\")\n",
            "zlim\t =  NULL\n",
            "axes\t =  TRUE\n",
            "reorder\t =  measure\n",
            "newpage\t =  TRUE\n",
            "plot_options\t =  list()\n",
            "verbose\t =  FALSE\n",
            "Itemsets in Antecedent (LHS)\n",
            "[1] \"{Sorvete}\" \"{Pizza}\"   \"{Cerveja}\"\n",
            "Itemsets in Consequent (RHS)\n",
            "[1] \"{Pizza}\"   \"{Sorvete}\" \"{Cerveja}\"\n"
          ],
          "name": "stdout"
        },
        {
          "output_type": "stream",
          "text": [
            "R[write to console]: Error in valid.viewport(x, y, width, height, just, gp, clip, xscale, yscale,  : \n",
            "  invalid 'yscale' in viewport\n",
            "Calls: <Anonymous> ... matrix_int -> gColorkey -> viewport -> valid.viewport\n",
            "\n"
          ],
          "name": "stderr"
        },
        {
          "output_type": "stream",
          "text": [
            "\n",
            "Error in valid.viewport(x, y, width, height, just, gp, clip, xscale, yscale,  : \n",
            "  invalid 'yscale' in viewport\n",
            "Calls: <Anonymous> ... matrix_int -> gColorkey -> viewport -> valid.viewport\n"
          ],
          "name": "stdout"
        }
      ]
    },
    {
      "cell_type": "code",
      "metadata": {
        "colab": {
          "base_uri": "https://localhost:8080/",
          "height": 899
        },
        "id": "9pb3m2OXuAYk",
        "outputId": "bd7b7c5c-30f6-4142-a311-ed35c90ec77f"
      },
      "source": [
        "%%R\n",
        "\n",
        "\n",
        "plot(regras, method=\"graph\", control=list(type=\"items\"))"
      ],
      "execution_count": null,
      "outputs": [
        {
          "output_type": "stream",
          "text": [
            "R[write to console]: Warning:\n",
            "R[write to console]:  Unknown control parameters: type\n",
            "\n"
          ],
          "name": "stderr"
        },
        {
          "output_type": "stream",
          "text": [
            "Available control parameters (with default values):\n",
            "main\t =  Graph for 4 rules\n",
            "nodeColors\t =  c(\"#66CC6680\", \"#9999CC80\")\n",
            "nodeCol\t =  c(\"#EE0000FF\", \"#EE0303FF\", \"#EE0606FF\", \"#EE0909FF\", \"#EE0C0CFF\", \"#EE0F0FFF\", \"#EE1212FF\", \"#EE1515FF\", \"#EE1818FF\", \"#EE1B1BFF\", \"#EE1E1EFF\", \"#EE2222FF\", \"#EE2525FF\", \"#EE2828FF\", \"#EE2B2BFF\", \"#EE2E2EFF\", \"#EE3131FF\", \"#EE3434FF\", \"#EE3737FF\", \"#EE3A3AFF\", \"#EE3D3DFF\", \"#EE4040FF\", \"#EE4444FF\", \"#EE4747FF\", \"#EE4A4AFF\", \"#EE4D4DFF\", \"#EE5050FF\", \"#EE5353FF\", \"#EE5656FF\", \"#EE5959FF\", \"#EE5C5CFF\", \"#EE5F5FFF\", \"#EE6262FF\", \"#EE6666FF\", \"#EE6969FF\", \"#EE6C6CFF\", \"#EE6F6FFF\", \"#EE7272FF\", \"#EE7575FF\",  \"#EE7878FF\", \"#EE7B7BFF\", \"#EE7E7EFF\", \"#EE8181FF\", \"#EE8484FF\", \"#EE8888FF\", \"#EE8B8BFF\", \"#EE8E8EFF\", \"#EE9191FF\", \"#EE9494FF\", \"#EE9797FF\", \"#EE9999FF\", \"#EE9B9BFF\", \"#EE9D9DFF\", \"#EE9F9FFF\", \"#EEA0A0FF\", \"#EEA2A2FF\", \"#EEA4A4FF\", \"#EEA5A5FF\", \"#EEA7A7FF\", \"#EEA9A9FF\", \"#EEABABFF\", \"#EEACACFF\", \"#EEAEAEFF\", \"#EEB0B0FF\", \"#EEB1B1FF\", \"#EEB3B3FF\", \"#EEB5B5FF\", \"#EEB7B7FF\", \"#EEB8B8FF\", \"#EEBABAFF\", \"#EEBCBCFF\", \"#EEBDBDFF\", \"#EEBFBFFF\", \"#EEC1C1FF\", \"#EEC3C3FF\", \"#EEC4C4FF\", \"#EEC6C6FF\", \"#EEC8C8FF\",  \"#EEC9C9FF\", \"#EECBCBFF\", \"#EECDCDFF\", \"#EECFCFFF\", \"#EED0D0FF\", \"#EED2D2FF\", \"#EED4D4FF\", \"#EED5D5FF\", \"#EED7D7FF\", \"#EED9D9FF\", \"#EEDBDBFF\", \"#EEDCDCFF\", \"#EEDEDEFF\", \"#EEE0E0FF\", \"#EEE1E1FF\", \"#EEE3E3FF\", \"#EEE5E5FF\", \"#EEE7E7FF\", \"#EEE8E8FF\", \"#EEEAEAFF\", \"#EEECECFF\", \"#EEEEEEFF\")\n",
            "edgeCol\t =  c(\"#474747FF\", \"#494949FF\", \"#4B4B4BFF\", \"#4D4D4DFF\", \"#4F4F4FFF\", \"#515151FF\", \"#535353FF\", \"#555555FF\", \"#575757FF\", \"#595959FF\", \"#5B5B5BFF\", \"#5E5E5EFF\", \"#606060FF\", \"#626262FF\", \"#646464FF\", \"#666666FF\", \"#686868FF\", \"#6A6A6AFF\", \"#6C6C6CFF\", \"#6E6E6EFF\", \"#707070FF\", \"#727272FF\", \"#747474FF\", \"#767676FF\", \"#787878FF\", \"#7A7A7AFF\", \"#7C7C7CFF\", \"#7E7E7EFF\", \"#808080FF\", \"#828282FF\", \"#848484FF\", \"#868686FF\", \"#888888FF\", \"#8A8A8AFF\", \"#8C8C8CFF\", \"#8D8D8DFF\", \"#8F8F8FFF\", \"#919191FF\", \"#939393FF\",  \"#959595FF\", \"#979797FF\", \"#999999FF\", \"#9A9A9AFF\", \"#9C9C9CFF\", \"#9E9E9EFF\", \"#A0A0A0FF\", \"#A2A2A2FF\", \"#A3A3A3FF\", \"#A5A5A5FF\", \"#A7A7A7FF\", \"#A9A9A9FF\", \"#AAAAAAFF\", \"#ACACACFF\", \"#AEAEAEFF\", \"#AFAFAFFF\", \"#B1B1B1FF\", \"#B3B3B3FF\", \"#B4B4B4FF\", \"#B6B6B6FF\", \"#B7B7B7FF\", \"#B9B9B9FF\", \"#BBBBBBFF\", \"#BCBCBCFF\", \"#BEBEBEFF\", \"#BFBFBFFF\", \"#C1C1C1FF\", \"#C2C2C2FF\", \"#C3C3C4FF\", \"#C5C5C5FF\", \"#C6C6C6FF\", \"#C8C8C8FF\", \"#C9C9C9FF\", \"#CACACAFF\", \"#CCCCCCFF\", \"#CDCDCDFF\", \"#CECECEFF\", \"#CFCFCFFF\", \"#D1D1D1FF\",  \"#D2D2D2FF\", \"#D3D3D3FF\", \"#D4D4D4FF\", \"#D5D5D5FF\", \"#D6D6D6FF\", \"#D7D7D7FF\", \"#D8D8D8FF\", \"#D9D9D9FF\", \"#DADADAFF\", \"#DBDBDBFF\", \"#DCDCDCFF\", \"#DDDDDDFF\", \"#DEDEDEFF\", \"#DEDEDEFF\", \"#DFDFDFFF\", \"#E0E0E0FF\", \"#E0E0E0FF\", \"#E1E1E1FF\", \"#E1E1E1FF\", \"#E2E2E2FF\", \"#E2E2E2FF\", \"#E2E2E2FF\")\n",
            "alpha\t =  0.5\n",
            "cex\t =  1\n",
            "itemLabels\t =  TRUE\n",
            "labelCol\t =  #000000B3\n",
            "measureLabels\t =  FALSE\n",
            "precision\t =  3\n",
            "layout\t =  NULL\n",
            "layoutParams\t =  list()\n",
            "arrowSize\t =  0.5\n",
            "engine\t =  igraph\n",
            "plot\t =  TRUE\n",
            "plot_options\t =  list()\n",
            "max\t =  100\n",
            "verbose\t =  FALSE\n"
          ],
          "name": "stdout"
        },
        {
          "output_type": "display_data",
          "data": {
            "image/png": "[encoded data removed]"
          },
          "metadata": {
            "tags": []
          }
        }
      ]
    },
    {
      "cell_type": "code",
      "metadata": {
        "colab": {
          "base_uri": "https://localhost:8080/",
          "height": 566
        },
        "id": "AcLgYyCUwtba",
        "outputId": "326f30d3-fdf6-4263-8570-001754d0b836"
      },
      "source": [
        "%%R\n",
        "\n",
        "plot(regras, method=\"matrix3D\")"
      ],
      "execution_count": null,
      "outputs": [
        {
          "output_type": "stream",
          "text": [
            "Itemsets in Antecedent (LHS)\n",
            "[1] \"{Sorvete}\" \"{Pizza}\"   \"{Cerveja}\"\n",
            "Itemsets in Consequent (RHS)\n",
            "[1] \"{Pizza}\"   \"{Sorvete}\" \"{Cerveja}\"\n"
          ],
          "name": "stdout"
        },
        {
          "output_type": "display_data",
          "data": {
            "image/png": "[encoded data removed]"
          },
          "metadata": {
            "tags": []
          }
        }
      ]
    },
    {
      "cell_type": "markdown",
      "metadata": {
        "id": "zlLYL3sKwdv_"
      },
      "source": [
        "**Salvando as regras em um arquivo .csv**"
      ]
    },
    {
      "cell_type": "code",
      "metadata": {
        "id": "GMIhV__ZuALr"
      },
      "source": [
        "%%R\n",
        "\n",
        "\n",
        "write.csv(DATAFRAME(regras),\"regras.csv\")"
      ],
      "execution_count": null,
      "outputs": []
    },
    {
      "cell_type": "markdown",
      "metadata": {
        "id": "L70_WjutxQyB"
      },
      "source": [
        "# Obrigado!\n",
        "\n",
        "Obrigado por ter disponibilizado um pouco do seu tempo e atenção aqui. Espero que, de alguma forma, tenha sido útil para seu crescimento. Se houver qualquer dúvida ou sugestão, não hesite em entrar em contato no [LinkedIn](https://www.linkedin.com/in/daniel-sousa-amador) e verificar meus outros projetos no [GitHub](https://github.com/amadords).\n",
        "\n",
        "\n",
        "[![LinkedIn](https://img.shields.io/badge/LinkedIn-DanielSousaAmador-cyan.svg)](https://www.linkedin.com/in/daniel-sousa-amador)\n",
        "[![GitHub](https://img.shields.io/badge/GitHub-amadords-darkblue.svg)](https://github.com/amadords)\n",
        "[![Medium](https://img.shields.io/badge/Medium-DanielSousaAmador-white.svg)](https://daniel-s-amador.medium.com/)\n",
        "\n",
        "\n",
        "\n",
        "<center><img width=\"90%\" src=\"https://raw.githubusercontent.com/danielamador12/Portfolio/master/github.png\"></center>"
      ]
    }
  ]
}