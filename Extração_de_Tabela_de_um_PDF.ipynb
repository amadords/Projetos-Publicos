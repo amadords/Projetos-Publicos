{
  "nbformat": 4,
  "nbformat_minor": 0,
  "metadata": {
    "colab": {
      "name": "Extração de Tabela de um PDF",
      "provenance": [],
      "collapsed_sections": [],
      "include_colab_link": true
    },
    "kernelspec": {
      "name": "python3",
      "display_name": "Python 3"
    }
  },
  "cells": [
    {
      "cell_type": "markdown",
      "metadata": {
        "id": "view-in-github",
        "colab_type": "text"
      },
      "source": [
        "<a href=\"https://colab.research.google.com/github/ds-amador/Projetos-Publicos/blob/master/Extra%C3%A7%C3%A3o_de_Tabela_de_um_PDF.ipynb\" target=\"_parent\"><img src=\"https://colab.research.google.com/assets/colab-badge.svg\" alt=\"Open In Colab\"/></a>"
      ]
    },
    {
      "cell_type": "markdown",
      "metadata": {
        "id": "2ceQR-gxnssl"
      },
      "source": [
        "# Extração de Tabela de um PDF\n",
        "---\n",
        "\n",
        "\n",
        "[![LinkedIn](https://img.shields.io/badge/LinkedIn-DanielSousaAmador-purple.svg)](https://www.linkedin.com/in/daniel-sousa-amador)\n",
        "[![GitHub](https://img.shields.io/badge/GitHub-ds_amador-darkblue.svg)](https://github.com/ds-amador)\n",
        "[![Medium](https://img.shields.io/badge/Medium-DanielSousaAmador-darkorange.svg)](https://medium.com/@daniel.s.amador)\n",
        "\n",
        "\n",
        "\n",
        "![img](https://im0-tub-com.yandex.net/i?id=8136484eaf3f0bdb8e9d431e50643952&n=13)\n",
        "\n",
        "Algumas dificuldades surgem no ambiente real de trabalho. Nem sempre conseguimos um arquivo ``.csv`` ou ``.xlsx``, mas se houver somente ``.pdf``?\n",
        "\n",
        "Não é tão fácil, como por exemplo um *pd.read_pdf()* ou algo do tipo, mas... Estamos aqui para ajudar a fazer isso!"
      ]
    },
    {
      "cell_type": "markdown",
      "metadata": {
        "id": "52qlF5XspcbV"
      },
      "source": [
        "## Montando o Drive\n",
        "Se estamos no ambiente do [Google Colab]('https://colab.research.google.com/notebooks/intro.ipynb#recent=true'), a primeira coisa que vamos fazer é montar o nosso drive, ou seja, fazer a conexão entre o notebook e o drive do Google Drive."
      ]
    },
    {
      "cell_type": "code",
      "metadata": {
        "id": "2uEqOqyPxbfs",
        "outputId": "3fabdc0a-57ed-4e50-b0c1-8ca3b12027df",
        "colab": {
          "base_uri": "https://localhost:8080/",
          "height": 35
        }
      },
      "source": [
        "from google.colab import drive\n",
        "drive.mount('/content/drive')"
      ],
      "execution_count": null,
      "outputs": [
        {
          "output_type": "stream",
          "text": [
            "Drive already mounted at /content/drive; to attempt to forcibly remount, call drive.mount(\"/content/drive\", force_remount=True).\n"
          ],
          "name": "stdout"
        }
      ]
    },
    {
      "cell_type": "markdown",
      "metadata": {
        "id": "XoizfQDmp70m"
      },
      "source": [
        "## PDFPLUMBER\n",
        "O Pdf Plumber é uma biblioteca que facilita muito o trabalho de **extração de textos** de um PDF.\n",
        "\n",
        "Por não vir diretamente no Colab é necessário instalar.\n",
        "\n",
        "Saiba mais sobre a biblioteca [aqui](https://github.com/jsvine/pdfplumber)."
      ]
    },
    {
      "cell_type": "code",
      "metadata": {
        "id": "wOSPpf425AHj"
      },
      "source": [
        "!pip install pdfplumber -q"
      ],
      "execution_count": null,
      "outputs": []
    },
    {
      "cell_type": "markdown",
      "metadata": {
        "id": "RKO83H0QqrAB"
      },
      "source": [
        "## Importando as bibliotecas necessárias"
      ]
    },
    {
      "cell_type": "code",
      "metadata": {
        "id": "fcPbZ_tC4ZlJ"
      },
      "source": [
        "import pdfplumber\n",
        "from os import chdir, getcwd, listdir\n",
        "import pandas as pd\n",
        "import matplotlib.pyplot as plt\n",
        "from seaborn import catplot\n",
        "from seaborn import boxplot"
      ],
      "execution_count": null,
      "outputs": []
    },
    {
      "cell_type": "markdown",
      "metadata": {
        "id": "64869LCnq0iT"
      },
      "source": [
        "## Iniciando os Trabalhos"
      ]
    },
    {
      "cell_type": "markdown",
      "metadata": {
        "id": "DfyOdTJ-q5mK"
      },
      "source": [
        "**Inicialmente vamos visualizar em qual diretório estamos**"
      ]
    },
    {
      "cell_type": "code",
      "metadata": {
        "id": "5laXV5iX6J10",
        "outputId": "a6f4c6f3-8b28-4491-bbe7-33fbca8c6f24",
        "colab": {
          "base_uri": "https://localhost:8080/",
          "height": 36
        }
      },
      "source": [
        "getcwd()"
      ],
      "execution_count": null,
      "outputs": [
        {
          "output_type": "execute_result",
          "data": {
            "application/vnd.google.colaboratory.intrinsic+json": {
              "type": "string"
            },
            "text/plain": [
              "'/content'"
            ]
          },
          "metadata": {
            "tags": []
          },
          "execution_count": 4
        }
      ]
    },
    {
      "cell_type": "markdown",
      "metadata": {
        "id": "LoivKnv5rA5v"
      },
      "source": [
        "**Vamos mudar para o diretório onde está o nosso arquivo**"
      ]
    },
    {
      "cell_type": "code",
      "metadata": {
        "id": "R57k0BE06RF2"
      },
      "source": [
        "chdir('/content/drive/My Drive')"
      ],
      "execution_count": null,
      "outputs": []
    },
    {
      "cell_type": "markdown",
      "metadata": {
        "id": "u5a_IwfsrOWH"
      },
      "source": [
        "**Conferindo se realmente mudamos de diretório**"
      ]
    },
    {
      "cell_type": "code",
      "metadata": {
        "id": "e6jtwF_G6fQI",
        "outputId": "daf56a66-907f-432a-f372-1aab0c88f864",
        "colab": {
          "base_uri": "https://localhost:8080/",
          "height": 36
        }
      },
      "source": [
        "getcwd()"
      ],
      "execution_count": null,
      "outputs": [
        {
          "output_type": "execute_result",
          "data": {
            "application/vnd.google.colaboratory.intrinsic+json": {
              "type": "string"
            },
            "text/plain": [
              "'/content/drive/My Drive'"
            ]
          },
          "metadata": {
            "tags": []
          },
          "execution_count": 6
        }
      ]
    },
    {
      "cell_type": "markdown",
      "metadata": {
        "id": "3Amr1foDrSzO"
      },
      "source": [
        "**Vamos ver os arquivos que temos no nosso diretório?**\n",
        "\n",
        "Vamos utilizar o 'VALOR POR BAIRRO.pdf'\n",
        "\n",
        "Esse arquivo contém uma tabela com bairros da minha cidade e o valor arrecadado em reais para cada bairro por uma empresa alimentícia em um mês."
      ]
    },
    {
      "cell_type": "code",
      "metadata": {
        "id": "YWSOXLBI6j8k",
        "outputId": "9be86b11-df88-42cc-990b-23c5b335e010",
        "colab": {
          "base_uri": "https://localhost:8080/",
          "height": 201
        }
      },
      "source": [
        "listdir()"
      ],
      "execution_count": null,
      "outputs": [
        {
          "output_type": "execute_result",
          "data": {
            "text/plain": [
              "['Sensíveis',\n",
              " 'Data Science',\n",
              " 'dados',\n",
              " 'Projetos publicados',\n",
              " 'Âme - Controle.xlsx',\n",
              " 'Livros',\n",
              " 'Materiais',\n",
              " 'Z - Exposições',\n",
              " 'Colab Notebooks',\n",
              " 'VALOR POR BAIRRO.pdf']"
            ]
          },
          "metadata": {
            "tags": []
          },
          "execution_count": 7
        }
      ]
    },
    {
      "cell_type": "markdown",
      "metadata": {
        "id": "3NnVvTicrz1h"
      },
      "source": [
        "**Carregando o arquivo PDF**"
      ]
    },
    {
      "cell_type": "code",
      "metadata": {
        "id": "Kr4DJGAV4-Yg"
      },
      "source": [
        "relatorio=pdfplumber.open('VALOR POR BAIRRO.pdf')"
      ],
      "execution_count": null,
      "outputs": []
    },
    {
      "cell_type": "markdown",
      "metadata": {
        "id": "KNl3AJRZr57L"
      },
      "source": [
        "O atributo``.pages`` nos retorna o número de páginas de um pdf, neste caso temos somente uma página."
      ]
    },
    {
      "cell_type": "code",
      "metadata": {
        "id": "ev3HmHkq6ors",
        "outputId": "dd78c2e9-76ff-4368-e92f-066f085b9790",
        "colab": {
          "base_uri": "https://localhost:8080/",
          "height": 35
        }
      },
      "source": [
        "relatorio.pages"
      ],
      "execution_count": null,
      "outputs": [
        {
          "output_type": "execute_result",
          "data": {
            "text/plain": [
              "[<Page:1>]"
            ]
          },
          "metadata": {
            "tags": []
          },
          "execution_count": 9
        }
      ]
    },
    {
      "cell_type": "markdown",
      "metadata": {
        "id": "n5u3Rgk-sEJw"
      },
      "source": [
        "O atributo``.metadata`` nos retorna os metadados do arquivo, ou seja, as informações do arquivo.\n",
        "\n"
      ]
    },
    {
      "cell_type": "code",
      "metadata": {
        "id": "jSEtDBXs6uww",
        "outputId": "59b7897c-302b-4524-fd87-091d7088793f",
        "colab": {
          "base_uri": "https://localhost:8080/",
          "height": 72
        }
      },
      "source": [
        "relatorio.metadata"
      ],
      "execution_count": null,
      "outputs": [
        {
          "output_type": "execute_result",
          "data": {
            "text/plain": [
              "{'CreationDate': \"D:20200727165012-03'00'\",\n",
              " 'Creator': 'Writer',\n",
              " 'Producer': 'LibreOffice 6.4'}"
            ]
          },
          "metadata": {
            "tags": []
          },
          "execution_count": 10
        }
      ]
    },
    {
      "cell_type": "markdown",
      "metadata": {
        "id": "hEBlR4xfsWnZ"
      },
      "source": [
        "**O próximo passo**\n",
        "Agora vamos acessar a primeira página do nosso arquivo e após isso extrair a tabela que se encontra nela.\n",
        "\n",
        "Vamos colocá-lo na variável *rel_extract*."
      ]
    },
    {
      "cell_type": "code",
      "metadata": {
        "id": "fOvZmkQS7Imp"
      },
      "source": [
        "rel_extract=relatorio.pages[0].extract_tables(table_settings={})"
      ],
      "execution_count": null,
      "outputs": []
    },
    {
      "cell_type": "markdown",
      "metadata": {
        "id": "ZRQjGCXIsrmI"
      },
      "source": [
        "**Vamos visualizar os arquivos extraidos**"
      ]
    },
    {
      "cell_type": "code",
      "metadata": {
        "id": "mJRVLEE1-Z-l",
        "outputId": "cdf76d5b-9539-4370-c6f5-40fb167a63b6",
        "colab": {
          "base_uri": "https://localhost:8080/",
          "height": 825
        }
      },
      "source": [
        "rel_extract"
      ],
      "execution_count": null,
      "outputs": [
        {
          "output_type": "execute_result",
          "data": {
            "text/plain": [
              "[[['', 'Bairro', 'Valor(R$)'],\n",
              "  ['0', 'NOVA BETANIA', '4520.25'],\n",
              "  ['1', 'CENTRO', '3248.53'],\n",
              "  ['2', 'SANTO ANTONIO', '3182.50'],\n",
              "  ['3', 'AEROPORTO', '3020.00'],\n",
              "  ['4', 'PAREDOES', '2525.50'],\n",
              "  ['5', 'BOA VISTA', '2164.25'],\n",
              "  ['6', 'ALTO DO SAO MANOEL', '2099.25'],\n",
              "  ['7', 'DOZE ANOS', '1968.25'],\n",
              "  ['8', 'BELO HORIZONTE', '1587.00'],\n",
              "  ['9', 'BARROCAS', '1434.75'],\n",
              "  ['10', 'BOM JARDIM', '1099.50'],\n",
              "  ['11', 'PLANALTO TREZE DE MAIO', '1093.25'],\n",
              "  ['12', 'ALTO DO SUMARE', '968.00'],\n",
              "  ['13', 'DIX SEPT ROSADO', '934.75'],\n",
              "  ['14', 'ALTO DA CONCEICAO', '872.75'],\n",
              "  ['15', 'ABOLICAO 1', '799.25'],\n",
              "  ['16', 'ABOLICAO 4', '778.00'],\n",
              "  ['17', 'LAGOA DO MATO', '577.75'],\n",
              "  ['18', 'RINCAO', '558.00'],\n",
              "  ['19', 'ABOLICAO 3', '548.00'],\n",
              "  ['20', 'BELA VISTA', '513.25'],\n",
              "  ['21', 'VINGT ROSADO', '512.00'],\n",
              "  ['22', 'ABOLICAO', '511.50'],\n",
              "  ['23', 'COSTA E SILVA', '451.00'],\n",
              "  ['24', 'ABOLICAO 2', '345.50'],\n",
              "  ['25', 'SANTA DELMIRA', '302.50'],\n",
              "  ['26', 'REDENCAO', '302.25'],\n",
              "  ['27', 'ILHA DE SANTA LUZIA', '249.25'],\n",
              "  ['28', 'PINTOS', '233.00'],\n",
              "  ['29', 'DOM JAIME CAMARA', '223.25'],\n",
              "  ['30', 'INOCOOP DO ALTO DE SAO MANOEL', '186.00'],\n",
              "  ['31', 'MARCIO MARINHO', '134.50'],\n",
              "  ['32', 'LIBERDADE', '121.50'],\n",
              "  ['33', 'ABOLICAO 5', '88.00'],\n",
              "  ['34', 'LESTE OESTE', '74.00'],\n",
              "  ['35', 'ALAMEDA DOS CAJUEIROS', '71.00'],\n",
              "  ['36', 'NOVA VIDA', '60.00'],\n",
              "  ['37', 'BR', '41.00'],\n",
              "  ['38', 'TRES VINTENS', '37.00'],\n",
              "  ['39', 'MONSENHOR AMERICO', '32.00'],\n",
              "  ['40', 'PEREIROS', '28.00'],\n",
              "  ['41', 'CIDADE NOVA', '27.00'],\n",
              "  ['42', 'POUSADA DOS TERMAS', '27.00']]]"
            ]
          },
          "metadata": {
            "tags": []
          },
          "execution_count": 12
        }
      ]
    },
    {
      "cell_type": "markdown",
      "metadata": {
        "id": "qcsWd7U8tAvj"
      },
      "source": [
        "**O que temos na verdade é uma lista de listas**"
      ]
    },
    {
      "cell_type": "code",
      "metadata": {
        "id": "Z4AFtXMvBuyQ",
        "outputId": "7cb56b39-fb1e-46f1-bc4f-5254448ebc65",
        "colab": {
          "base_uri": "https://localhost:8080/",
          "height": 55
        }
      },
      "source": [
        "print(rel_extract)"
      ],
      "execution_count": null,
      "outputs": [
        {
          "output_type": "stream",
          "text": [
            "[[['', 'Bairro', 'Valor(R$)'], ['0', 'NOVA BETANIA', '4520.25'], ['1', 'CENTRO', '3248.53'], ['2', 'SANTO ANTONIO', '3182.50'], ['3', 'AEROPORTO', '3020.00'], ['4', 'PAREDOES', '2525.50'], ['5', 'BOA VISTA', '2164.25'], ['6', 'ALTO DO SAO MANOEL', '2099.25'], ['7', 'DOZE ANOS', '1968.25'], ['8', 'BELO HORIZONTE', '1587.00'], ['9', 'BARROCAS', '1434.75'], ['10', 'BOM JARDIM', '1099.50'], ['11', 'PLANALTO TREZE DE MAIO', '1093.25'], ['12', 'ALTO DO SUMARE', '968.00'], ['13', 'DIX SEPT ROSADO', '934.75'], ['14', 'ALTO DA CONCEICAO', '872.75'], ['15', 'ABOLICAO 1', '799.25'], ['16', 'ABOLICAO 4', '778.00'], ['17', 'LAGOA DO MATO', '577.75'], ['18', 'RINCAO', '558.00'], ['19', 'ABOLICAO 3', '548.00'], ['20', 'BELA VISTA', '513.25'], ['21', 'VINGT ROSADO', '512.00'], ['22', 'ABOLICAO', '511.50'], ['23', 'COSTA E SILVA', '451.00'], ['24', 'ABOLICAO 2', '345.50'], ['25', 'SANTA DELMIRA', '302.50'], ['26', 'REDENCAO', '302.25'], ['27', 'ILHA DE SANTA LUZIA', '249.25'], ['28', 'PINTOS', '233.00'], ['29', 'DOM JAIME CAMARA', '223.25'], ['30', 'INOCOOP DO ALTO DE SAO MANOEL', '186.00'], ['31', 'MARCIO MARINHO', '134.50'], ['32', 'LIBERDADE', '121.50'], ['33', 'ABOLICAO 5', '88.00'], ['34', 'LESTE OESTE', '74.00'], ['35', 'ALAMEDA DOS CAJUEIROS', '71.00'], ['36', 'NOVA VIDA', '60.00'], ['37', 'BR', '41.00'], ['38', 'TRES VINTENS', '37.00'], ['39', 'MONSENHOR AMERICO', '32.00'], ['40', 'PEREIROS', '28.00'], ['41', 'CIDADE NOVA', '27.00'], ['42', 'POUSADA DOS TERMAS', '27.00']]]\n"
          ],
          "name": "stdout"
        }
      ]
    },
    {
      "cell_type": "markdown",
      "metadata": {
        "id": "vef1NqFntHSW"
      },
      "source": [
        "**Vamos acessar a primeira lista**"
      ]
    },
    {
      "cell_type": "code",
      "metadata": {
        "id": "eupd_xlzBxhC",
        "outputId": "11a3f1cf-6846-4aaf-ec7f-4448803c657c",
        "colab": {
          "base_uri": "https://localhost:8080/",
          "height": 35
        }
      },
      "source": [
        "rel_extract[0][0]"
      ],
      "execution_count": null,
      "outputs": [
        {
          "output_type": "execute_result",
          "data": {
            "text/plain": [
              "['', 'Bairro', 'Valor(R$)']"
            ]
          },
          "metadata": {
            "tags": []
          },
          "execution_count": 14
        }
      ]
    },
    {
      "cell_type": "markdown",
      "metadata": {
        "id": "6iszqBgOtLqO"
      },
      "source": [
        "**Verificando todos os tipos de arquivos**\n",
        "\n",
        "Veja que todos são listas."
      ]
    },
    {
      "cell_type": "code",
      "metadata": {
        "id": "cGM9G9x8HXhB",
        "outputId": "896dacbe-0758-4bf6-bb19-414f550ecc3c",
        "colab": {
          "base_uri": "https://localhost:8080/",
          "height": 35
        }
      },
      "source": [
        "type(rel_extract),type(rel_extract[0]),type(rel_extract[0][0])"
      ],
      "execution_count": null,
      "outputs": [
        {
          "output_type": "execute_result",
          "data": {
            "text/plain": [
              "(list, list, list)"
            ]
          },
          "metadata": {
            "tags": []
          },
          "execution_count": 15
        }
      ]
    },
    {
      "cell_type": "markdown",
      "metadata": {
        "id": "x-Ks2pE8tT2X"
      },
      "source": [
        "Se quiser, por exemplo, extrair o terceiro elemento na primeira lista, é assim que se faz:"
      ]
    },
    {
      "cell_type": "code",
      "metadata": {
        "id": "FJjh1-P7EqIZ",
        "outputId": "06da8f4f-bad1-403d-967d-aedc0677334e",
        "colab": {
          "base_uri": "https://localhost:8080/",
          "height": 36
        }
      },
      "source": [
        "rel_extract[0][0][2]"
      ],
      "execution_count": null,
      "outputs": [
        {
          "output_type": "execute_result",
          "data": {
            "application/vnd.google.colaboratory.intrinsic+json": {
              "type": "string"
            },
            "text/plain": [
              "'Valor(R$)'"
            ]
          },
          "metadata": {
            "tags": []
          },
          "execution_count": 16
        }
      ]
    },
    {
      "cell_type": "markdown",
      "metadata": {
        "id": "Ro0FbTD1te5U"
      },
      "source": [
        "Isso é útil para criarmos o **laço for** abaixo:"
      ]
    },
    {
      "cell_type": "code",
      "metadata": {
        "id": "gpMrohXKCbEV"
      },
      "source": [
        "bairro=[] # criando uma lista vazia\n",
        "for i in range(44): # criando laço com 44 iterações\n",
        "  bairro.append(rel_extract[0][i][1]) # para cada linha no arquivo original, acrescenta-se o nome do bairro à lista vazia bairro\n",
        "# o código abaixo é análogo ao de cima\n",
        "valor=[]\n",
        "for i in range(44):\n",
        "  valor.append(rel_extract[0][i][2])"
      ],
      "execution_count": null,
      "outputs": []
    },
    {
      "cell_type": "markdown",
      "metadata": {
        "id": "MPNUUeqevgOU"
      },
      "source": [
        "No código acima, pegamos cada bairro e cada valor correspondente.\n",
        "\n",
        "Abaixo iremos colocá-los em um DataFrame."
      ]
    },
    {
      "cell_type": "code",
      "metadata": {
        "id": "GmwpflB7Dbzm",
        "outputId": "2c71f9d4-59fd-4cc8-8862-0c77a9fd9f20",
        "colab": {
          "base_uri": "https://localhost:8080/",
          "height": 1000
        }
      },
      "source": [
        "df=pd.DataFrame(valor,bairro)\n",
        "df"
      ],
      "execution_count": null,
      "outputs": [
        {
          "output_type": "execute_result",
          "data": {
            "text/html": [
              "<div>\n",
              "<style scoped>\n",
              "    .dataframe tbody tr th:only-of-type {\n",
              "        vertical-align: middle;\n",
              "    }\n",
              "\n",
              "    .dataframe tbody tr th {\n",
              "        vertical-align: top;\n",
              "    }\n",
              "\n",
              "    .dataframe thead th {\n",
              "        text-align: right;\n",
              "    }\n",
              "</style>\n",
              "<table border=\"1\" class=\"dataframe\">\n",
              "  <thead>\n",
              "    <tr style=\"text-align: right;\">\n",
              "      <th></th>\n",
              "      <th>0</th>\n",
              "    </tr>\n",
              "  </thead>\n",
              "  <tbody>\n",
              "    <tr>\n",
              "      <th>Bairro</th>\n",
              "      <td>Valor(R$)</td>\n",
              "    </tr>\n",
              "    <tr>\n",
              "      <th>NOVA BETANIA</th>\n",
              "      <td>4520.25</td>\n",
              "    </tr>\n",
              "    <tr>\n",
              "      <th>CENTRO</th>\n",
              "      <td>3248.53</td>\n",
              "    </tr>\n",
              "    <tr>\n",
              "      <th>SANTO ANTONIO</th>\n",
              "      <td>3182.50</td>\n",
              "    </tr>\n",
              "    <tr>\n",
              "      <th>AEROPORTO</th>\n",
              "      <td>3020.00</td>\n",
              "    </tr>\n",
              "    <tr>\n",
              "      <th>PAREDOES</th>\n",
              "      <td>2525.50</td>\n",
              "    </tr>\n",
              "    <tr>\n",
              "      <th>BOA VISTA</th>\n",
              "      <td>2164.25</td>\n",
              "    </tr>\n",
              "    <tr>\n",
              "      <th>ALTO DO SAO MANOEL</th>\n",
              "      <td>2099.25</td>\n",
              "    </tr>\n",
              "    <tr>\n",
              "      <th>DOZE ANOS</th>\n",
              "      <td>1968.25</td>\n",
              "    </tr>\n",
              "    <tr>\n",
              "      <th>BELO HORIZONTE</th>\n",
              "      <td>1587.00</td>\n",
              "    </tr>\n",
              "    <tr>\n",
              "      <th>BARROCAS</th>\n",
              "      <td>1434.75</td>\n",
              "    </tr>\n",
              "    <tr>\n",
              "      <th>BOM JARDIM</th>\n",
              "      <td>1099.50</td>\n",
              "    </tr>\n",
              "    <tr>\n",
              "      <th>PLANALTO TREZE DE MAIO</th>\n",
              "      <td>1093.25</td>\n",
              "    </tr>\n",
              "    <tr>\n",
              "      <th>ALTO DO SUMARE</th>\n",
              "      <td>968.00</td>\n",
              "    </tr>\n",
              "    <tr>\n",
              "      <th>DIX SEPT ROSADO</th>\n",
              "      <td>934.75</td>\n",
              "    </tr>\n",
              "    <tr>\n",
              "      <th>ALTO DA CONCEICAO</th>\n",
              "      <td>872.75</td>\n",
              "    </tr>\n",
              "    <tr>\n",
              "      <th>ABOLICAO 1</th>\n",
              "      <td>799.25</td>\n",
              "    </tr>\n",
              "    <tr>\n",
              "      <th>ABOLICAO 4</th>\n",
              "      <td>778.00</td>\n",
              "    </tr>\n",
              "    <tr>\n",
              "      <th>LAGOA DO MATO</th>\n",
              "      <td>577.75</td>\n",
              "    </tr>\n",
              "    <tr>\n",
              "      <th>RINCAO</th>\n",
              "      <td>558.00</td>\n",
              "    </tr>\n",
              "    <tr>\n",
              "      <th>ABOLICAO 3</th>\n",
              "      <td>548.00</td>\n",
              "    </tr>\n",
              "    <tr>\n",
              "      <th>BELA VISTA</th>\n",
              "      <td>513.25</td>\n",
              "    </tr>\n",
              "    <tr>\n",
              "      <th>VINGT ROSADO</th>\n",
              "      <td>512.00</td>\n",
              "    </tr>\n",
              "    <tr>\n",
              "      <th>ABOLICAO</th>\n",
              "      <td>511.50</td>\n",
              "    </tr>\n",
              "    <tr>\n",
              "      <th>COSTA E SILVA</th>\n",
              "      <td>451.00</td>\n",
              "    </tr>\n",
              "    <tr>\n",
              "      <th>ABOLICAO 2</th>\n",
              "      <td>345.50</td>\n",
              "    </tr>\n",
              "    <tr>\n",
              "      <th>SANTA DELMIRA</th>\n",
              "      <td>302.50</td>\n",
              "    </tr>\n",
              "    <tr>\n",
              "      <th>REDENCAO</th>\n",
              "      <td>302.25</td>\n",
              "    </tr>\n",
              "    <tr>\n",
              "      <th>ILHA DE SANTA LUZIA</th>\n",
              "      <td>249.25</td>\n",
              "    </tr>\n",
              "    <tr>\n",
              "      <th>PINTOS</th>\n",
              "      <td>233.00</td>\n",
              "    </tr>\n",
              "    <tr>\n",
              "      <th>DOM JAIME CAMARA</th>\n",
              "      <td>223.25</td>\n",
              "    </tr>\n",
              "    <tr>\n",
              "      <th>INOCOOP DO ALTO DE SAO MANOEL</th>\n",
              "      <td>186.00</td>\n",
              "    </tr>\n",
              "    <tr>\n",
              "      <th>MARCIO MARINHO</th>\n",
              "      <td>134.50</td>\n",
              "    </tr>\n",
              "    <tr>\n",
              "      <th>LIBERDADE</th>\n",
              "      <td>121.50</td>\n",
              "    </tr>\n",
              "    <tr>\n",
              "      <th>ABOLICAO 5</th>\n",
              "      <td>88.00</td>\n",
              "    </tr>\n",
              "    <tr>\n",
              "      <th>LESTE OESTE</th>\n",
              "      <td>74.00</td>\n",
              "    </tr>\n",
              "    <tr>\n",
              "      <th>ALAMEDA DOS CAJUEIROS</th>\n",
              "      <td>71.00</td>\n",
              "    </tr>\n",
              "    <tr>\n",
              "      <th>NOVA VIDA</th>\n",
              "      <td>60.00</td>\n",
              "    </tr>\n",
              "    <tr>\n",
              "      <th>BR</th>\n",
              "      <td>41.00</td>\n",
              "    </tr>\n",
              "    <tr>\n",
              "      <th>TRES VINTENS</th>\n",
              "      <td>37.00</td>\n",
              "    </tr>\n",
              "    <tr>\n",
              "      <th>MONSENHOR AMERICO</th>\n",
              "      <td>32.00</td>\n",
              "    </tr>\n",
              "    <tr>\n",
              "      <th>PEREIROS</th>\n",
              "      <td>28.00</td>\n",
              "    </tr>\n",
              "    <tr>\n",
              "      <th>CIDADE NOVA</th>\n",
              "      <td>27.00</td>\n",
              "    </tr>\n",
              "    <tr>\n",
              "      <th>POUSADA DOS TERMAS</th>\n",
              "      <td>27.00</td>\n",
              "    </tr>\n",
              "  </tbody>\n",
              "</table>\n",
              "</div>"
            ],
            "text/plain": [
              "                                       0\n",
              "Bairro                         Valor(R$)\n",
              "NOVA BETANIA                     4520.25\n",
              "CENTRO                           3248.53\n",
              "SANTO ANTONIO                    3182.50\n",
              "AEROPORTO                        3020.00\n",
              "PAREDOES                         2525.50\n",
              "BOA VISTA                        2164.25\n",
              "ALTO DO SAO MANOEL               2099.25\n",
              "DOZE ANOS                        1968.25\n",
              "BELO HORIZONTE                   1587.00\n",
              "BARROCAS                         1434.75\n",
              "BOM JARDIM                       1099.50\n",
              "PLANALTO TREZE DE MAIO           1093.25\n",
              "ALTO DO SUMARE                    968.00\n",
              "DIX SEPT ROSADO                   934.75\n",
              "ALTO DA CONCEICAO                 872.75\n",
              "ABOLICAO 1                        799.25\n",
              "ABOLICAO 4                        778.00\n",
              "LAGOA DO MATO                     577.75\n",
              "RINCAO                            558.00\n",
              "ABOLICAO 3                        548.00\n",
              "BELA VISTA                        513.25\n",
              "VINGT ROSADO                      512.00\n",
              "ABOLICAO                          511.50\n",
              "COSTA E SILVA                     451.00\n",
              "ABOLICAO 2                        345.50\n",
              "SANTA DELMIRA                     302.50\n",
              "REDENCAO                          302.25\n",
              "ILHA DE SANTA LUZIA               249.25\n",
              "PINTOS                            233.00\n",
              "DOM JAIME CAMARA                  223.25\n",
              "INOCOOP DO ALTO DE SAO MANOEL     186.00\n",
              "MARCIO MARINHO                    134.50\n",
              "LIBERDADE                         121.50\n",
              "ABOLICAO 5                         88.00\n",
              "LESTE OESTE                        74.00\n",
              "ALAMEDA DOS CAJUEIROS              71.00\n",
              "NOVA VIDA                          60.00\n",
              "BR                                 41.00\n",
              "TRES VINTENS                       37.00\n",
              "MONSENHOR AMERICO                  32.00\n",
              "PEREIROS                           28.00\n",
              "CIDADE NOVA                        27.00\n",
              "POUSADA DOS TERMAS                 27.00"
            ]
          },
          "metadata": {
            "tags": []
          },
          "execution_count": 18
        }
      ]
    },
    {
      "cell_type": "markdown",
      "metadata": {
        "id": "t18TfWucv2F8"
      },
      "source": [
        "Perceba que acima o nome dos bairros são os índices e pode ficar assim para ser utilizado, mas não vamos deixar."
      ]
    },
    {
      "cell_type": "code",
      "metadata": {
        "id": "PmqmYv3bLJqC",
        "outputId": "995af9d9-04ac-4d67-f854-b81c7c1a245e",
        "colab": {
          "base_uri": "https://localhost:8080/",
          "height": 1000
        }
      },
      "source": [
        "# resetando indice\n",
        "df.reset_index(inplace=True)\n",
        "df"
      ],
      "execution_count": null,
      "outputs": [
        {
          "output_type": "execute_result",
          "data": {
            "text/html": [
              "<div>\n",
              "<style scoped>\n",
              "    .dataframe tbody tr th:only-of-type {\n",
              "        vertical-align: middle;\n",
              "    }\n",
              "\n",
              "    .dataframe tbody tr th {\n",
              "        vertical-align: top;\n",
              "    }\n",
              "\n",
              "    .dataframe thead th {\n",
              "        text-align: right;\n",
              "    }\n",
              "</style>\n",
              "<table border=\"1\" class=\"dataframe\">\n",
              "  <thead>\n",
              "    <tr style=\"text-align: right;\">\n",
              "      <th></th>\n",
              "      <th>index</th>\n",
              "      <th>0</th>\n",
              "    </tr>\n",
              "  </thead>\n",
              "  <tbody>\n",
              "    <tr>\n",
              "      <th>0</th>\n",
              "      <td>Bairro</td>\n",
              "      <td>Valor(R$)</td>\n",
              "    </tr>\n",
              "    <tr>\n",
              "      <th>1</th>\n",
              "      <td>NOVA BETANIA</td>\n",
              "      <td>4520.25</td>\n",
              "    </tr>\n",
              "    <tr>\n",
              "      <th>2</th>\n",
              "      <td>CENTRO</td>\n",
              "      <td>3248.53</td>\n",
              "    </tr>\n",
              "    <tr>\n",
              "      <th>3</th>\n",
              "      <td>SANTO ANTONIO</td>\n",
              "      <td>3182.50</td>\n",
              "    </tr>\n",
              "    <tr>\n",
              "      <th>4</th>\n",
              "      <td>AEROPORTO</td>\n",
              "      <td>3020.00</td>\n",
              "    </tr>\n",
              "    <tr>\n",
              "      <th>5</th>\n",
              "      <td>PAREDOES</td>\n",
              "      <td>2525.50</td>\n",
              "    </tr>\n",
              "    <tr>\n",
              "      <th>6</th>\n",
              "      <td>BOA VISTA</td>\n",
              "      <td>2164.25</td>\n",
              "    </tr>\n",
              "    <tr>\n",
              "      <th>7</th>\n",
              "      <td>ALTO DO SAO MANOEL</td>\n",
              "      <td>2099.25</td>\n",
              "    </tr>\n",
              "    <tr>\n",
              "      <th>8</th>\n",
              "      <td>DOZE ANOS</td>\n",
              "      <td>1968.25</td>\n",
              "    </tr>\n",
              "    <tr>\n",
              "      <th>9</th>\n",
              "      <td>BELO HORIZONTE</td>\n",
              "      <td>1587.00</td>\n",
              "    </tr>\n",
              "    <tr>\n",
              "      <th>10</th>\n",
              "      <td>BARROCAS</td>\n",
              "      <td>1434.75</td>\n",
              "    </tr>\n",
              "    <tr>\n",
              "      <th>11</th>\n",
              "      <td>BOM JARDIM</td>\n",
              "      <td>1099.50</td>\n",
              "    </tr>\n",
              "    <tr>\n",
              "      <th>12</th>\n",
              "      <td>PLANALTO TREZE DE MAIO</td>\n",
              "      <td>1093.25</td>\n",
              "    </tr>\n",
              "    <tr>\n",
              "      <th>13</th>\n",
              "      <td>ALTO DO SUMARE</td>\n",
              "      <td>968.00</td>\n",
              "    </tr>\n",
              "    <tr>\n",
              "      <th>14</th>\n",
              "      <td>DIX SEPT ROSADO</td>\n",
              "      <td>934.75</td>\n",
              "    </tr>\n",
              "    <tr>\n",
              "      <th>15</th>\n",
              "      <td>ALTO DA CONCEICAO</td>\n",
              "      <td>872.75</td>\n",
              "    </tr>\n",
              "    <tr>\n",
              "      <th>16</th>\n",
              "      <td>ABOLICAO 1</td>\n",
              "      <td>799.25</td>\n",
              "    </tr>\n",
              "    <tr>\n",
              "      <th>17</th>\n",
              "      <td>ABOLICAO 4</td>\n",
              "      <td>778.00</td>\n",
              "    </tr>\n",
              "    <tr>\n",
              "      <th>18</th>\n",
              "      <td>LAGOA DO MATO</td>\n",
              "      <td>577.75</td>\n",
              "    </tr>\n",
              "    <tr>\n",
              "      <th>19</th>\n",
              "      <td>RINCAO</td>\n",
              "      <td>558.00</td>\n",
              "    </tr>\n",
              "    <tr>\n",
              "      <th>20</th>\n",
              "      <td>ABOLICAO 3</td>\n",
              "      <td>548.00</td>\n",
              "    </tr>\n",
              "    <tr>\n",
              "      <th>21</th>\n",
              "      <td>BELA VISTA</td>\n",
              "      <td>513.25</td>\n",
              "    </tr>\n",
              "    <tr>\n",
              "      <th>22</th>\n",
              "      <td>VINGT ROSADO</td>\n",
              "      <td>512.00</td>\n",
              "    </tr>\n",
              "    <tr>\n",
              "      <th>23</th>\n",
              "      <td>ABOLICAO</td>\n",
              "      <td>511.50</td>\n",
              "    </tr>\n",
              "    <tr>\n",
              "      <th>24</th>\n",
              "      <td>COSTA E SILVA</td>\n",
              "      <td>451.00</td>\n",
              "    </tr>\n",
              "    <tr>\n",
              "      <th>25</th>\n",
              "      <td>ABOLICAO 2</td>\n",
              "      <td>345.50</td>\n",
              "    </tr>\n",
              "    <tr>\n",
              "      <th>26</th>\n",
              "      <td>SANTA DELMIRA</td>\n",
              "      <td>302.50</td>\n",
              "    </tr>\n",
              "    <tr>\n",
              "      <th>27</th>\n",
              "      <td>REDENCAO</td>\n",
              "      <td>302.25</td>\n",
              "    </tr>\n",
              "    <tr>\n",
              "      <th>28</th>\n",
              "      <td>ILHA DE SANTA LUZIA</td>\n",
              "      <td>249.25</td>\n",
              "    </tr>\n",
              "    <tr>\n",
              "      <th>29</th>\n",
              "      <td>PINTOS</td>\n",
              "      <td>233.00</td>\n",
              "    </tr>\n",
              "    <tr>\n",
              "      <th>30</th>\n",
              "      <td>DOM JAIME CAMARA</td>\n",
              "      <td>223.25</td>\n",
              "    </tr>\n",
              "    <tr>\n",
              "      <th>31</th>\n",
              "      <td>INOCOOP DO ALTO DE SAO MANOEL</td>\n",
              "      <td>186.00</td>\n",
              "    </tr>\n",
              "    <tr>\n",
              "      <th>32</th>\n",
              "      <td>MARCIO MARINHO</td>\n",
              "      <td>134.50</td>\n",
              "    </tr>\n",
              "    <tr>\n",
              "      <th>33</th>\n",
              "      <td>LIBERDADE</td>\n",
              "      <td>121.50</td>\n",
              "    </tr>\n",
              "    <tr>\n",
              "      <th>34</th>\n",
              "      <td>ABOLICAO 5</td>\n",
              "      <td>88.00</td>\n",
              "    </tr>\n",
              "    <tr>\n",
              "      <th>35</th>\n",
              "      <td>LESTE OESTE</td>\n",
              "      <td>74.00</td>\n",
              "    </tr>\n",
              "    <tr>\n",
              "      <th>36</th>\n",
              "      <td>ALAMEDA DOS CAJUEIROS</td>\n",
              "      <td>71.00</td>\n",
              "    </tr>\n",
              "    <tr>\n",
              "      <th>37</th>\n",
              "      <td>NOVA VIDA</td>\n",
              "      <td>60.00</td>\n",
              "    </tr>\n",
              "    <tr>\n",
              "      <th>38</th>\n",
              "      <td>BR</td>\n",
              "      <td>41.00</td>\n",
              "    </tr>\n",
              "    <tr>\n",
              "      <th>39</th>\n",
              "      <td>TRES VINTENS</td>\n",
              "      <td>37.00</td>\n",
              "    </tr>\n",
              "    <tr>\n",
              "      <th>40</th>\n",
              "      <td>MONSENHOR AMERICO</td>\n",
              "      <td>32.00</td>\n",
              "    </tr>\n",
              "    <tr>\n",
              "      <th>41</th>\n",
              "      <td>PEREIROS</td>\n",
              "      <td>28.00</td>\n",
              "    </tr>\n",
              "    <tr>\n",
              "      <th>42</th>\n",
              "      <td>CIDADE NOVA</td>\n",
              "      <td>27.00</td>\n",
              "    </tr>\n",
              "    <tr>\n",
              "      <th>43</th>\n",
              "      <td>POUSADA DOS TERMAS</td>\n",
              "      <td>27.00</td>\n",
              "    </tr>\n",
              "  </tbody>\n",
              "</table>\n",
              "</div>"
            ],
            "text/plain": [
              "                            index          0\n",
              "0                          Bairro  Valor(R$)\n",
              "1                    NOVA BETANIA    4520.25\n",
              "2                          CENTRO    3248.53\n",
              "3                   SANTO ANTONIO    3182.50\n",
              "4                       AEROPORTO    3020.00\n",
              "5                        PAREDOES    2525.50\n",
              "6                       BOA VISTA    2164.25\n",
              "7              ALTO DO SAO MANOEL    2099.25\n",
              "8                       DOZE ANOS    1968.25\n",
              "9                  BELO HORIZONTE    1587.00\n",
              "10                       BARROCAS    1434.75\n",
              "11                     BOM JARDIM    1099.50\n",
              "12         PLANALTO TREZE DE MAIO    1093.25\n",
              "13                 ALTO DO SUMARE     968.00\n",
              "14                DIX SEPT ROSADO     934.75\n",
              "15              ALTO DA CONCEICAO     872.75\n",
              "16                     ABOLICAO 1     799.25\n",
              "17                     ABOLICAO 4     778.00\n",
              "18                  LAGOA DO MATO     577.75\n",
              "19                         RINCAO     558.00\n",
              "20                     ABOLICAO 3     548.00\n",
              "21                     BELA VISTA     513.25\n",
              "22                   VINGT ROSADO     512.00\n",
              "23                       ABOLICAO     511.50\n",
              "24                  COSTA E SILVA     451.00\n",
              "25                     ABOLICAO 2     345.50\n",
              "26                  SANTA DELMIRA     302.50\n",
              "27                       REDENCAO     302.25\n",
              "28            ILHA DE SANTA LUZIA     249.25\n",
              "29                         PINTOS     233.00\n",
              "30               DOM JAIME CAMARA     223.25\n",
              "31  INOCOOP DO ALTO DE SAO MANOEL     186.00\n",
              "32                 MARCIO MARINHO     134.50\n",
              "33                      LIBERDADE     121.50\n",
              "34                     ABOLICAO 5      88.00\n",
              "35                    LESTE OESTE      74.00\n",
              "36          ALAMEDA DOS CAJUEIROS      71.00\n",
              "37                      NOVA VIDA      60.00\n",
              "38                             BR      41.00\n",
              "39                   TRES VINTENS      37.00\n",
              "40              MONSENHOR AMERICO      32.00\n",
              "41                       PEREIROS      28.00\n",
              "42                    CIDADE NOVA      27.00\n",
              "43             POUSADA DOS TERMAS      27.00"
            ]
          },
          "metadata": {
            "tags": []
          },
          "execution_count": 19
        }
      ]
    },
    {
      "cell_type": "code",
      "metadata": {
        "id": "UkyPxmVuOUhZ",
        "outputId": "033d4562-d828-48b2-e6d5-a1c7013155a1",
        "colab": {
          "base_uri": "https://localhost:8080/",
          "height": 35
        }
      },
      "source": [
        "# visualizando indice\n",
        "df.index"
      ],
      "execution_count": null,
      "outputs": [
        {
          "output_type": "execute_result",
          "data": {
            "text/plain": [
              "RangeIndex(start=0, stop=44, step=1)"
            ]
          },
          "metadata": {
            "tags": []
          },
          "execution_count": 20
        }
      ]
    },
    {
      "cell_type": "code",
      "metadata": {
        "id": "-1z-XCvPNu-8",
        "outputId": "0b361991-4c22-450a-ec6f-528df080e899",
        "colab": {
          "base_uri": "https://localhost:8080/",
          "height": 1000
        }
      },
      "source": [
        "# apagando a primeira linha onde ficaram os antigos indices\n",
        "df.drop(0,axis=0,inplace=True)\n",
        "df"
      ],
      "execution_count": null,
      "outputs": [
        {
          "output_type": "execute_result",
          "data": {
            "text/html": [
              "<div>\n",
              "<style scoped>\n",
              "    .dataframe tbody tr th:only-of-type {\n",
              "        vertical-align: middle;\n",
              "    }\n",
              "\n",
              "    .dataframe tbody tr th {\n",
              "        vertical-align: top;\n",
              "    }\n",
              "\n",
              "    .dataframe thead th {\n",
              "        text-align: right;\n",
              "    }\n",
              "</style>\n",
              "<table border=\"1\" class=\"dataframe\">\n",
              "  <thead>\n",
              "    <tr style=\"text-align: right;\">\n",
              "      <th></th>\n",
              "      <th>index</th>\n",
              "      <th>0</th>\n",
              "    </tr>\n",
              "  </thead>\n",
              "  <tbody>\n",
              "    <tr>\n",
              "      <th>1</th>\n",
              "      <td>NOVA BETANIA</td>\n",
              "      <td>4520.25</td>\n",
              "    </tr>\n",
              "    <tr>\n",
              "      <th>2</th>\n",
              "      <td>CENTRO</td>\n",
              "      <td>3248.53</td>\n",
              "    </tr>\n",
              "    <tr>\n",
              "      <th>3</th>\n",
              "      <td>SANTO ANTONIO</td>\n",
              "      <td>3182.50</td>\n",
              "    </tr>\n",
              "    <tr>\n",
              "      <th>4</th>\n",
              "      <td>AEROPORTO</td>\n",
              "      <td>3020.00</td>\n",
              "    </tr>\n",
              "    <tr>\n",
              "      <th>5</th>\n",
              "      <td>PAREDOES</td>\n",
              "      <td>2525.50</td>\n",
              "    </tr>\n",
              "    <tr>\n",
              "      <th>6</th>\n",
              "      <td>BOA VISTA</td>\n",
              "      <td>2164.25</td>\n",
              "    </tr>\n",
              "    <tr>\n",
              "      <th>7</th>\n",
              "      <td>ALTO DO SAO MANOEL</td>\n",
              "      <td>2099.25</td>\n",
              "    </tr>\n",
              "    <tr>\n",
              "      <th>8</th>\n",
              "      <td>DOZE ANOS</td>\n",
              "      <td>1968.25</td>\n",
              "    </tr>\n",
              "    <tr>\n",
              "      <th>9</th>\n",
              "      <td>BELO HORIZONTE</td>\n",
              "      <td>1587.00</td>\n",
              "    </tr>\n",
              "    <tr>\n",
              "      <th>10</th>\n",
              "      <td>BARROCAS</td>\n",
              "      <td>1434.75</td>\n",
              "    </tr>\n",
              "    <tr>\n",
              "      <th>11</th>\n",
              "      <td>BOM JARDIM</td>\n",
              "      <td>1099.50</td>\n",
              "    </tr>\n",
              "    <tr>\n",
              "      <th>12</th>\n",
              "      <td>PLANALTO TREZE DE MAIO</td>\n",
              "      <td>1093.25</td>\n",
              "    </tr>\n",
              "    <tr>\n",
              "      <th>13</th>\n",
              "      <td>ALTO DO SUMARE</td>\n",
              "      <td>968.00</td>\n",
              "    </tr>\n",
              "    <tr>\n",
              "      <th>14</th>\n",
              "      <td>DIX SEPT ROSADO</td>\n",
              "      <td>934.75</td>\n",
              "    </tr>\n",
              "    <tr>\n",
              "      <th>15</th>\n",
              "      <td>ALTO DA CONCEICAO</td>\n",
              "      <td>872.75</td>\n",
              "    </tr>\n",
              "    <tr>\n",
              "      <th>16</th>\n",
              "      <td>ABOLICAO 1</td>\n",
              "      <td>799.25</td>\n",
              "    </tr>\n",
              "    <tr>\n",
              "      <th>17</th>\n",
              "      <td>ABOLICAO 4</td>\n",
              "      <td>778.00</td>\n",
              "    </tr>\n",
              "    <tr>\n",
              "      <th>18</th>\n",
              "      <td>LAGOA DO MATO</td>\n",
              "      <td>577.75</td>\n",
              "    </tr>\n",
              "    <tr>\n",
              "      <th>19</th>\n",
              "      <td>RINCAO</td>\n",
              "      <td>558.00</td>\n",
              "    </tr>\n",
              "    <tr>\n",
              "      <th>20</th>\n",
              "      <td>ABOLICAO 3</td>\n",
              "      <td>548.00</td>\n",
              "    </tr>\n",
              "    <tr>\n",
              "      <th>21</th>\n",
              "      <td>BELA VISTA</td>\n",
              "      <td>513.25</td>\n",
              "    </tr>\n",
              "    <tr>\n",
              "      <th>22</th>\n",
              "      <td>VINGT ROSADO</td>\n",
              "      <td>512.00</td>\n",
              "    </tr>\n",
              "    <tr>\n",
              "      <th>23</th>\n",
              "      <td>ABOLICAO</td>\n",
              "      <td>511.50</td>\n",
              "    </tr>\n",
              "    <tr>\n",
              "      <th>24</th>\n",
              "      <td>COSTA E SILVA</td>\n",
              "      <td>451.00</td>\n",
              "    </tr>\n",
              "    <tr>\n",
              "      <th>25</th>\n",
              "      <td>ABOLICAO 2</td>\n",
              "      <td>345.50</td>\n",
              "    </tr>\n",
              "    <tr>\n",
              "      <th>26</th>\n",
              "      <td>SANTA DELMIRA</td>\n",
              "      <td>302.50</td>\n",
              "    </tr>\n",
              "    <tr>\n",
              "      <th>27</th>\n",
              "      <td>REDENCAO</td>\n",
              "      <td>302.25</td>\n",
              "    </tr>\n",
              "    <tr>\n",
              "      <th>28</th>\n",
              "      <td>ILHA DE SANTA LUZIA</td>\n",
              "      <td>249.25</td>\n",
              "    </tr>\n",
              "    <tr>\n",
              "      <th>29</th>\n",
              "      <td>PINTOS</td>\n",
              "      <td>233.00</td>\n",
              "    </tr>\n",
              "    <tr>\n",
              "      <th>30</th>\n",
              "      <td>DOM JAIME CAMARA</td>\n",
              "      <td>223.25</td>\n",
              "    </tr>\n",
              "    <tr>\n",
              "      <th>31</th>\n",
              "      <td>INOCOOP DO ALTO DE SAO MANOEL</td>\n",
              "      <td>186.00</td>\n",
              "    </tr>\n",
              "    <tr>\n",
              "      <th>32</th>\n",
              "      <td>MARCIO MARINHO</td>\n",
              "      <td>134.50</td>\n",
              "    </tr>\n",
              "    <tr>\n",
              "      <th>33</th>\n",
              "      <td>LIBERDADE</td>\n",
              "      <td>121.50</td>\n",
              "    </tr>\n",
              "    <tr>\n",
              "      <th>34</th>\n",
              "      <td>ABOLICAO 5</td>\n",
              "      <td>88.00</td>\n",
              "    </tr>\n",
              "    <tr>\n",
              "      <th>35</th>\n",
              "      <td>LESTE OESTE</td>\n",
              "      <td>74.00</td>\n",
              "    </tr>\n",
              "    <tr>\n",
              "      <th>36</th>\n",
              "      <td>ALAMEDA DOS CAJUEIROS</td>\n",
              "      <td>71.00</td>\n",
              "    </tr>\n",
              "    <tr>\n",
              "      <th>37</th>\n",
              "      <td>NOVA VIDA</td>\n",
              "      <td>60.00</td>\n",
              "    </tr>\n",
              "    <tr>\n",
              "      <th>38</th>\n",
              "      <td>BR</td>\n",
              "      <td>41.00</td>\n",
              "    </tr>\n",
              "    <tr>\n",
              "      <th>39</th>\n",
              "      <td>TRES VINTENS</td>\n",
              "      <td>37.00</td>\n",
              "    </tr>\n",
              "    <tr>\n",
              "      <th>40</th>\n",
              "      <td>MONSENHOR AMERICO</td>\n",
              "      <td>32.00</td>\n",
              "    </tr>\n",
              "    <tr>\n",
              "      <th>41</th>\n",
              "      <td>PEREIROS</td>\n",
              "      <td>28.00</td>\n",
              "    </tr>\n",
              "    <tr>\n",
              "      <th>42</th>\n",
              "      <td>CIDADE NOVA</td>\n",
              "      <td>27.00</td>\n",
              "    </tr>\n",
              "    <tr>\n",
              "      <th>43</th>\n",
              "      <td>POUSADA DOS TERMAS</td>\n",
              "      <td>27.00</td>\n",
              "    </tr>\n",
              "  </tbody>\n",
              "</table>\n",
              "</div>"
            ],
            "text/plain": [
              "                            index        0\n",
              "1                    NOVA BETANIA  4520.25\n",
              "2                          CENTRO  3248.53\n",
              "3                   SANTO ANTONIO  3182.50\n",
              "4                       AEROPORTO  3020.00\n",
              "5                        PAREDOES  2525.50\n",
              "6                       BOA VISTA  2164.25\n",
              "7              ALTO DO SAO MANOEL  2099.25\n",
              "8                       DOZE ANOS  1968.25\n",
              "9                  BELO HORIZONTE  1587.00\n",
              "10                       BARROCAS  1434.75\n",
              "11                     BOM JARDIM  1099.50\n",
              "12         PLANALTO TREZE DE MAIO  1093.25\n",
              "13                 ALTO DO SUMARE   968.00\n",
              "14                DIX SEPT ROSADO   934.75\n",
              "15              ALTO DA CONCEICAO   872.75\n",
              "16                     ABOLICAO 1   799.25\n",
              "17                     ABOLICAO 4   778.00\n",
              "18                  LAGOA DO MATO   577.75\n",
              "19                         RINCAO   558.00\n",
              "20                     ABOLICAO 3   548.00\n",
              "21                     BELA VISTA   513.25\n",
              "22                   VINGT ROSADO   512.00\n",
              "23                       ABOLICAO   511.50\n",
              "24                  COSTA E SILVA   451.00\n",
              "25                     ABOLICAO 2   345.50\n",
              "26                  SANTA DELMIRA   302.50\n",
              "27                       REDENCAO   302.25\n",
              "28            ILHA DE SANTA LUZIA   249.25\n",
              "29                         PINTOS   233.00\n",
              "30               DOM JAIME CAMARA   223.25\n",
              "31  INOCOOP DO ALTO DE SAO MANOEL   186.00\n",
              "32                 MARCIO MARINHO   134.50\n",
              "33                      LIBERDADE   121.50\n",
              "34                     ABOLICAO 5    88.00\n",
              "35                    LESTE OESTE    74.00\n",
              "36          ALAMEDA DOS CAJUEIROS    71.00\n",
              "37                      NOVA VIDA    60.00\n",
              "38                             BR    41.00\n",
              "39                   TRES VINTENS    37.00\n",
              "40              MONSENHOR AMERICO    32.00\n",
              "41                       PEREIROS    28.00\n",
              "42                    CIDADE NOVA    27.00\n",
              "43             POUSADA DOS TERMAS    27.00"
            ]
          },
          "metadata": {
            "tags": []
          },
          "execution_count": 21
        }
      ]
    },
    {
      "cell_type": "code",
      "metadata": {
        "id": "kHLZucG7N9JG",
        "outputId": "37997211-9417-4661-9013-ee1a7008b529",
        "colab": {
          "base_uri": "https://localhost:8080/",
          "height": 35
        }
      },
      "source": [
        "# verificando os atuais nomes das colunas\n",
        "df.columns"
      ],
      "execution_count": null,
      "outputs": [
        {
          "output_type": "execute_result",
          "data": {
            "text/plain": [
              "Index(['index', 0], dtype='object')"
            ]
          },
          "metadata": {
            "tags": []
          },
          "execution_count": 22
        }
      ]
    },
    {
      "cell_type": "code",
      "metadata": {
        "id": "dwL0yVchO_gg",
        "outputId": "47826c86-9682-47c5-ed79-6e6261f1fe52",
        "colab": {
          "base_uri": "https://localhost:8080/",
          "height": 1000
        }
      },
      "source": [
        "# alterando os nomes das colunas\n",
        "df.columns=['Bairro','Valor']\n",
        "df"
      ],
      "execution_count": null,
      "outputs": [
        {
          "output_type": "execute_result",
          "data": {
            "text/html": [
              "<div>\n",
              "<style scoped>\n",
              "    .dataframe tbody tr th:only-of-type {\n",
              "        vertical-align: middle;\n",
              "    }\n",
              "\n",
              "    .dataframe tbody tr th {\n",
              "        vertical-align: top;\n",
              "    }\n",
              "\n",
              "    .dataframe thead th {\n",
              "        text-align: right;\n",
              "    }\n",
              "</style>\n",
              "<table border=\"1\" class=\"dataframe\">\n",
              "  <thead>\n",
              "    <tr style=\"text-align: right;\">\n",
              "      <th></th>\n",
              "      <th>Bairro</th>\n",
              "      <th>Valor</th>\n",
              "    </tr>\n",
              "  </thead>\n",
              "  <tbody>\n",
              "    <tr>\n",
              "      <th>1</th>\n",
              "      <td>NOVA BETANIA</td>\n",
              "      <td>4520.25</td>\n",
              "    </tr>\n",
              "    <tr>\n",
              "      <th>2</th>\n",
              "      <td>CENTRO</td>\n",
              "      <td>3248.53</td>\n",
              "    </tr>\n",
              "    <tr>\n",
              "      <th>3</th>\n",
              "      <td>SANTO ANTONIO</td>\n",
              "      <td>3182.50</td>\n",
              "    </tr>\n",
              "    <tr>\n",
              "      <th>4</th>\n",
              "      <td>AEROPORTO</td>\n",
              "      <td>3020.00</td>\n",
              "    </tr>\n",
              "    <tr>\n",
              "      <th>5</th>\n",
              "      <td>PAREDOES</td>\n",
              "      <td>2525.50</td>\n",
              "    </tr>\n",
              "    <tr>\n",
              "      <th>6</th>\n",
              "      <td>BOA VISTA</td>\n",
              "      <td>2164.25</td>\n",
              "    </tr>\n",
              "    <tr>\n",
              "      <th>7</th>\n",
              "      <td>ALTO DO SAO MANOEL</td>\n",
              "      <td>2099.25</td>\n",
              "    </tr>\n",
              "    <tr>\n",
              "      <th>8</th>\n",
              "      <td>DOZE ANOS</td>\n",
              "      <td>1968.25</td>\n",
              "    </tr>\n",
              "    <tr>\n",
              "      <th>9</th>\n",
              "      <td>BELO HORIZONTE</td>\n",
              "      <td>1587.00</td>\n",
              "    </tr>\n",
              "    <tr>\n",
              "      <th>10</th>\n",
              "      <td>BARROCAS</td>\n",
              "      <td>1434.75</td>\n",
              "    </tr>\n",
              "    <tr>\n",
              "      <th>11</th>\n",
              "      <td>BOM JARDIM</td>\n",
              "      <td>1099.50</td>\n",
              "    </tr>\n",
              "    <tr>\n",
              "      <th>12</th>\n",
              "      <td>PLANALTO TREZE DE MAIO</td>\n",
              "      <td>1093.25</td>\n",
              "    </tr>\n",
              "    <tr>\n",
              "      <th>13</th>\n",
              "      <td>ALTO DO SUMARE</td>\n",
              "      <td>968.00</td>\n",
              "    </tr>\n",
              "    <tr>\n",
              "      <th>14</th>\n",
              "      <td>DIX SEPT ROSADO</td>\n",
              "      <td>934.75</td>\n",
              "    </tr>\n",
              "    <tr>\n",
              "      <th>15</th>\n",
              "      <td>ALTO DA CONCEICAO</td>\n",
              "      <td>872.75</td>\n",
              "    </tr>\n",
              "    <tr>\n",
              "      <th>16</th>\n",
              "      <td>ABOLICAO 1</td>\n",
              "      <td>799.25</td>\n",
              "    </tr>\n",
              "    <tr>\n",
              "      <th>17</th>\n",
              "      <td>ABOLICAO 4</td>\n",
              "      <td>778.00</td>\n",
              "    </tr>\n",
              "    <tr>\n",
              "      <th>18</th>\n",
              "      <td>LAGOA DO MATO</td>\n",
              "      <td>577.75</td>\n",
              "    </tr>\n",
              "    <tr>\n",
              "      <th>19</th>\n",
              "      <td>RINCAO</td>\n",
              "      <td>558.00</td>\n",
              "    </tr>\n",
              "    <tr>\n",
              "      <th>20</th>\n",
              "      <td>ABOLICAO 3</td>\n",
              "      <td>548.00</td>\n",
              "    </tr>\n",
              "    <tr>\n",
              "      <th>21</th>\n",
              "      <td>BELA VISTA</td>\n",
              "      <td>513.25</td>\n",
              "    </tr>\n",
              "    <tr>\n",
              "      <th>22</th>\n",
              "      <td>VINGT ROSADO</td>\n",
              "      <td>512.00</td>\n",
              "    </tr>\n",
              "    <tr>\n",
              "      <th>23</th>\n",
              "      <td>ABOLICAO</td>\n",
              "      <td>511.50</td>\n",
              "    </tr>\n",
              "    <tr>\n",
              "      <th>24</th>\n",
              "      <td>COSTA E SILVA</td>\n",
              "      <td>451.00</td>\n",
              "    </tr>\n",
              "    <tr>\n",
              "      <th>25</th>\n",
              "      <td>ABOLICAO 2</td>\n",
              "      <td>345.50</td>\n",
              "    </tr>\n",
              "    <tr>\n",
              "      <th>26</th>\n",
              "      <td>SANTA DELMIRA</td>\n",
              "      <td>302.50</td>\n",
              "    </tr>\n",
              "    <tr>\n",
              "      <th>27</th>\n",
              "      <td>REDENCAO</td>\n",
              "      <td>302.25</td>\n",
              "    </tr>\n",
              "    <tr>\n",
              "      <th>28</th>\n",
              "      <td>ILHA DE SANTA LUZIA</td>\n",
              "      <td>249.25</td>\n",
              "    </tr>\n",
              "    <tr>\n",
              "      <th>29</th>\n",
              "      <td>PINTOS</td>\n",
              "      <td>233.00</td>\n",
              "    </tr>\n",
              "    <tr>\n",
              "      <th>30</th>\n",
              "      <td>DOM JAIME CAMARA</td>\n",
              "      <td>223.25</td>\n",
              "    </tr>\n",
              "    <tr>\n",
              "      <th>31</th>\n",
              "      <td>INOCOOP DO ALTO DE SAO MANOEL</td>\n",
              "      <td>186.00</td>\n",
              "    </tr>\n",
              "    <tr>\n",
              "      <th>32</th>\n",
              "      <td>MARCIO MARINHO</td>\n",
              "      <td>134.50</td>\n",
              "    </tr>\n",
              "    <tr>\n",
              "      <th>33</th>\n",
              "      <td>LIBERDADE</td>\n",
              "      <td>121.50</td>\n",
              "    </tr>\n",
              "    <tr>\n",
              "      <th>34</th>\n",
              "      <td>ABOLICAO 5</td>\n",
              "      <td>88.00</td>\n",
              "    </tr>\n",
              "    <tr>\n",
              "      <th>35</th>\n",
              "      <td>LESTE OESTE</td>\n",
              "      <td>74.00</td>\n",
              "    </tr>\n",
              "    <tr>\n",
              "      <th>36</th>\n",
              "      <td>ALAMEDA DOS CAJUEIROS</td>\n",
              "      <td>71.00</td>\n",
              "    </tr>\n",
              "    <tr>\n",
              "      <th>37</th>\n",
              "      <td>NOVA VIDA</td>\n",
              "      <td>60.00</td>\n",
              "    </tr>\n",
              "    <tr>\n",
              "      <th>38</th>\n",
              "      <td>BR</td>\n",
              "      <td>41.00</td>\n",
              "    </tr>\n",
              "    <tr>\n",
              "      <th>39</th>\n",
              "      <td>TRES VINTENS</td>\n",
              "      <td>37.00</td>\n",
              "    </tr>\n",
              "    <tr>\n",
              "      <th>40</th>\n",
              "      <td>MONSENHOR AMERICO</td>\n",
              "      <td>32.00</td>\n",
              "    </tr>\n",
              "    <tr>\n",
              "      <th>41</th>\n",
              "      <td>PEREIROS</td>\n",
              "      <td>28.00</td>\n",
              "    </tr>\n",
              "    <tr>\n",
              "      <th>42</th>\n",
              "      <td>CIDADE NOVA</td>\n",
              "      <td>27.00</td>\n",
              "    </tr>\n",
              "    <tr>\n",
              "      <th>43</th>\n",
              "      <td>POUSADA DOS TERMAS</td>\n",
              "      <td>27.00</td>\n",
              "    </tr>\n",
              "  </tbody>\n",
              "</table>\n",
              "</div>"
            ],
            "text/plain": [
              "                           Bairro    Valor\n",
              "1                    NOVA BETANIA  4520.25\n",
              "2                          CENTRO  3248.53\n",
              "3                   SANTO ANTONIO  3182.50\n",
              "4                       AEROPORTO  3020.00\n",
              "5                        PAREDOES  2525.50\n",
              "6                       BOA VISTA  2164.25\n",
              "7              ALTO DO SAO MANOEL  2099.25\n",
              "8                       DOZE ANOS  1968.25\n",
              "9                  BELO HORIZONTE  1587.00\n",
              "10                       BARROCAS  1434.75\n",
              "11                     BOM JARDIM  1099.50\n",
              "12         PLANALTO TREZE DE MAIO  1093.25\n",
              "13                 ALTO DO SUMARE   968.00\n",
              "14                DIX SEPT ROSADO   934.75\n",
              "15              ALTO DA CONCEICAO   872.75\n",
              "16                     ABOLICAO 1   799.25\n",
              "17                     ABOLICAO 4   778.00\n",
              "18                  LAGOA DO MATO   577.75\n",
              "19                         RINCAO   558.00\n",
              "20                     ABOLICAO 3   548.00\n",
              "21                     BELA VISTA   513.25\n",
              "22                   VINGT ROSADO   512.00\n",
              "23                       ABOLICAO   511.50\n",
              "24                  COSTA E SILVA   451.00\n",
              "25                     ABOLICAO 2   345.50\n",
              "26                  SANTA DELMIRA   302.50\n",
              "27                       REDENCAO   302.25\n",
              "28            ILHA DE SANTA LUZIA   249.25\n",
              "29                         PINTOS   233.00\n",
              "30               DOM JAIME CAMARA   223.25\n",
              "31  INOCOOP DO ALTO DE SAO MANOEL   186.00\n",
              "32                 MARCIO MARINHO   134.50\n",
              "33                      LIBERDADE   121.50\n",
              "34                     ABOLICAO 5    88.00\n",
              "35                    LESTE OESTE    74.00\n",
              "36          ALAMEDA DOS CAJUEIROS    71.00\n",
              "37                      NOVA VIDA    60.00\n",
              "38                             BR    41.00\n",
              "39                   TRES VINTENS    37.00\n",
              "40              MONSENHOR AMERICO    32.00\n",
              "41                       PEREIROS    28.00\n",
              "42                    CIDADE NOVA    27.00\n",
              "43             POUSADA DOS TERMAS    27.00"
            ]
          },
          "metadata": {
            "tags": []
          },
          "execution_count": 23
        }
      ]
    },
    {
      "cell_type": "code",
      "metadata": {
        "id": "f8E2mnQPPDzn",
        "outputId": "c69f783c-c8a9-43dd-cc71-e8a4978ce45a",
        "colab": {
          "base_uri": "https://localhost:8080/",
          "height": 182
        }
      },
      "source": [
        "# visualizando formato das colunas\n",
        "df.info()"
      ],
      "execution_count": null,
      "outputs": [
        {
          "output_type": "stream",
          "text": [
            "<class 'pandas.core.frame.DataFrame'>\n",
            "Int64Index: 43 entries, 1 to 43\n",
            "Data columns (total 2 columns):\n",
            " #   Column  Non-Null Count  Dtype \n",
            "---  ------  --------------  ----- \n",
            " 0   Bairro  43 non-null     object\n",
            " 1   Valor   43 non-null     object\n",
            "dtypes: object(2)\n",
            "memory usage: 1.0+ KB\n"
          ],
          "name": "stdout"
        }
      ]
    },
    {
      "cell_type": "code",
      "metadata": {
        "id": "oRCc9Gp9PZ4C"
      },
      "source": [
        "# transformando a coluna Valor em float\n",
        "df.Valor=pd.to_numeric(df.Valor)"
      ],
      "execution_count": null,
      "outputs": []
    },
    {
      "cell_type": "code",
      "metadata": {
        "id": "8yaAB7DIPvrS",
        "outputId": "a620bc38-01c5-44d0-8812-c34eb587924f",
        "colab": {
          "base_uri": "https://localhost:8080/",
          "height": 182
        }
      },
      "source": [
        "# verificando novamente\n",
        "df.info()"
      ],
      "execution_count": null,
      "outputs": [
        {
          "output_type": "stream",
          "text": [
            "<class 'pandas.core.frame.DataFrame'>\n",
            "Int64Index: 43 entries, 1 to 43\n",
            "Data columns (total 2 columns):\n",
            " #   Column  Non-Null Count  Dtype  \n",
            "---  ------  --------------  -----  \n",
            " 0   Bairro  43 non-null     object \n",
            " 1   Valor   43 non-null     float64\n",
            "dtypes: float64(1), object(1)\n",
            "memory usage: 1.0+ KB\n"
          ],
          "name": "stdout"
        }
      ]
    },
    {
      "cell_type": "markdown",
      "metadata": {
        "id": "PfvQJN-LwLPM"
      },
      "source": [
        "**Alguns atributos que podemos retirar**\n",
        "\n",
        "São possíveis vários outros além desse."
      ]
    },
    {
      "cell_type": "code",
      "metadata": {
        "id": "gXev2eJGwu-Q",
        "outputId": "23c69fa4-433e-4bd9-d8f4-e7fe66805ecb",
        "colab": {
          "base_uri": "https://localhost:8080/",
          "height": 35
        }
      },
      "source": [
        "# máximo\n",
        "df.Valor.max()"
      ],
      "execution_count": null,
      "outputs": [
        {
          "output_type": "execute_result",
          "data": {
            "text/plain": [
              "4520.25"
            ]
          },
          "metadata": {
            "tags": []
          },
          "execution_count": 27
        }
      ]
    },
    {
      "cell_type": "code",
      "metadata": {
        "id": "MCaoyiRRwuxO",
        "outputId": "865dc256-2d66-4692-c355-042723bbe45e",
        "colab": {
          "base_uri": "https://localhost:8080/",
          "height": 35
        }
      },
      "source": [
        "# mínimo\n",
        "df.Valor.min()"
      ],
      "execution_count": null,
      "outputs": [
        {
          "output_type": "execute_result",
          "data": {
            "text/plain": [
              "27.0"
            ]
          },
          "metadata": {
            "tags": []
          },
          "execution_count": 28
        }
      ]
    },
    {
      "cell_type": "code",
      "metadata": {
        "id": "qJPDGkl1Pxe3",
        "outputId": "62f8b90b-232f-4e86-f328-f3878eab67c6",
        "colab": {
          "base_uri": "https://localhost:8080/",
          "height": 35
        }
      },
      "source": [
        "# soma\n",
        "df.Valor.sum()"
      ],
      "execution_count": null,
      "outputs": [
        {
          "output_type": "execute_result",
          "data": {
            "text/plain": [
              "38550.03"
            ]
          },
          "metadata": {
            "tags": []
          },
          "execution_count": 29
        }
      ]
    },
    {
      "cell_type": "code",
      "metadata": {
        "id": "_Saqd0ikwi5m",
        "outputId": "7b154a0d-ade7-4eec-c701-5b9676e93434",
        "colab": {
          "base_uri": "https://localhost:8080/",
          "height": 35
        }
      },
      "source": [
        "# mediana\n",
        "df.Valor.median()"
      ],
      "execution_count": null,
      "outputs": [
        {
          "output_type": "execute_result",
          "data": {
            "text/plain": [
              "512.0"
            ]
          },
          "metadata": {
            "tags": []
          },
          "execution_count": 30
        }
      ]
    },
    {
      "cell_type": "code",
      "metadata": {
        "id": "b2bBo-52P9X-",
        "outputId": "65c5875c-051e-4d54-8fa7-85aa541e545c",
        "colab": {
          "base_uri": "https://localhost:8080/",
          "height": 35
        }
      },
      "source": [
        "# média\n",
        "df.Valor.mean()"
      ],
      "execution_count": null,
      "outputs": [
        {
          "output_type": "execute_result",
          "data": {
            "text/plain": [
              "896.5123255813953"
            ]
          },
          "metadata": {
            "tags": []
          },
          "execution_count": 31
        }
      ]
    },
    {
      "cell_type": "code",
      "metadata": {
        "id": "AXKOQQyAP_te",
        "outputId": "db1908a8-379d-454b-d7f5-56aeb3d2a443",
        "colab": {
          "base_uri": "https://localhost:8080/",
          "height": 35
        }
      },
      "source": [
        "# desvio padrão\n",
        "df.Valor.std()"
      ],
      "execution_count": null,
      "outputs": [
        {
          "output_type": "execute_result",
          "data": {
            "text/plain": [
              "1072.5429560646915"
            ]
          },
          "metadata": {
            "tags": []
          },
          "execution_count": 32
        }
      ]
    },
    {
      "cell_type": "markdown",
      "metadata": {
        "id": "qmMAgoQqxB6-"
      },
      "source": [
        "## Plotando alguns gráficos\n",
        "de muitos possíveis."
      ]
    },
    {
      "cell_type": "code",
      "metadata": {
        "id": "fROMbVjqQB51",
        "outputId": "ee8b06fc-b268-4cdd-b3cc-fbee8eeb69d2",
        "colab": {
          "base_uri": "https://localhost:8080/",
          "height": 265
        }
      },
      "source": [
        "# histograma\n",
        "df.Valor.hist();"
      ],
      "execution_count": null,
      "outputs": [
        {
          "output_type": "display_data",
          "data": {
            "image/png": "[encoded data removed]",
            "text/plain": [
              "<Figure size 432x288 with 1 Axes>"
            ]
          },
          "metadata": {
            "tags": [],
            "needs_background": "light"
          }
        }
      ]
    },
    {
      "cell_type": "code",
      "metadata": {
        "id": "4VvfMgiVQMTV",
        "outputId": "f418207c-cf6c-47bb-ffd1-cf103dfb7386",
        "colab": {
          "base_uri": "https://localhost:8080/",
          "height": 265
        }
      },
      "source": [
        "# linhas\n",
        "df.Valor.plot();"
      ],
      "execution_count": null,
      "outputs": [
        {
          "output_type": "display_data",
          "data": {
            "image/png": "[encoded data removed]",
            "text/plain": [
              "<Figure size 432x288 with 1 Axes>"
            ]
          },
          "metadata": {
            "tags": [],
            "needs_background": "light"
          }
        }
      ]
    },
    {
      "cell_type": "code",
      "metadata": {
        "id": "995FPUnvsMNE",
        "outputId": "af1df43b-48a7-45b8-922f-924c430ce225",
        "colab": {
          "base_uri": "https://localhost:8080/",
          "height": 17
        }
      },
      "source": [
        "import plotly\n",
        "import plotly.offline as py\n",
        "import plotly.graph_objs as go\n",
        "from plotly.offline import plot, iplot\n",
        "import cufflinks as cf\n",
        "cf.go_offline()\n",
        "plotly.offline.init_notebook_mode(connected=True)\n",
        "import plotly.io as pio\n",
        "pio.renderers.default = 'colab'"
      ],
      "execution_count": null,
      "outputs": [
        {
          "output_type": "display_data",
          "data": {
            "text/html": [
              "        <script type=\"text/javascript\">\n",
              "        window.PlotlyConfig = {MathJaxConfig: 'local'};\n",
              "        if (window.MathJax) {MathJax.Hub.Config({SVG: {font: \"STIX-Web\"}});}\n",
              "        if (typeof require !== 'undefined') {\n",
              "        require.undef(\"plotly\");\n",
              "        requirejs.config({\n",
              "            paths: {\n",
              "                'plotly': ['https://cdn.plot.ly/plotly-latest.min']\n",
              "            }\n",
              "        });\n",
              "        require(['plotly'], function(Plotly) {\n",
              "            window._Plotly = Plotly;\n",
              "        });\n",
              "        }\n",
              "        </script>\n",
              "        "
            ]
          },
          "metadata": {
            "tags": []
          }
        },
        {
          "output_type": "display_data",
          "data": {
            "text/html": [
              "        <script type=\"text/javascript\">\n",
              "        window.PlotlyConfig = {MathJaxConfig: 'local'};\n",
              "        if (window.MathJax) {MathJax.Hub.Config({SVG: {font: \"STIX-Web\"}});}\n",
              "        if (typeof require !== 'undefined') {\n",
              "        require.undef(\"plotly\");\n",
              "        requirejs.config({\n",
              "            paths: {\n",
              "                'plotly': ['https://cdn.plot.ly/plotly-latest.min']\n",
              "            }\n",
              "        });\n",
              "        require(['plotly'], function(Plotly) {\n",
              "            window._Plotly = Plotly;\n",
              "        });\n",
              "        }\n",
              "        </script>\n",
              "        "
            ]
          },
          "metadata": {
            "tags": []
          }
        }
      ]
    },
    {
      "cell_type": "markdown",
      "metadata": {
        "id": "PQ5acQl_v0wo"
      },
      "source": [
        "**Se você está vendo pelo Github, é preferivel abrir pelo Colab para ver o gráfico abaixo.**\n"
      ]
    },
    {
      "cell_type": "code",
      "metadata": {
        "id": "Df9hIAd9sZ7l",
        "outputId": "5f38445a-5f5e-4344-d498-116e30c15302",
        "colab": {
          "base_uri": "https://localhost:8080/",
          "height": 542
        }
      },
      "source": [
        "df.iplot(x='Bairro',y='Valor',kind='barh')"
      ],
      "execution_count": null,
      "outputs": [
        {
          "output_type": "display_data",
          "data": {
            "text/html": [
              "<html>\n",
              "<head><meta charset=\"utf-8\" /></head>\n",
              "<body>\n",
              "    <div>\n",
              "            <script src=\"https://cdnjs.cloudflare.com/ajax/libs/mathjax/2.7.5/MathJax.js?config=TeX-AMS-MML_SVG\"></script><script type=\"text/javascript\">if (window.MathJax) {MathJax.Hub.Config({SVG: {font: \"STIX-Web\"}});}</script>\n",
              "                <script type=\"text/javascript\">window.PlotlyConfig = {MathJaxConfig: 'local'};</script>\n",
              "        <script src=\"https://cdn.plot.ly/plotly-latest.min.js\"></script>    \n",
              "            <div id=\"19ed04e5-7243-4e11-a150-4dede785c0eb\" class=\"plotly-graph-div\" style=\"height:525px; width:100%;\"></div>\n",
              "            <script type=\"text/javascript\">\n",
              "                \n",
              "                    window.PLOTLYENV=window.PLOTLYENV || {};\n",
              "                    window.PLOTLYENV.BASE_URL='https://plot.ly';\n",
              "                    \n",
              "                if (document.getElementById(\"19ed04e5-7243-4e11-a150-4dede785c0eb\")) {\n",
              "                    Plotly.newPlot(\n",
              "                        '19ed04e5-7243-4e11-a150-4dede785c0eb',\n",
              "                        [{\"marker\": {\"color\": \"rgba(255, 153, 51, 0.6)\", \"line\": {\"color\": \"rgba(255, 153, 51, 1.0)\", \"width\": 1}}, \"name\": \"Valor\", \"orientation\": \"h\", \"text\": \"\", \"type\": \"bar\", \"x\": [4520.25, 3248.53, 3182.5, 3020.0, 2525.5, 2164.25, 2099.25, 1968.25, 1587.0, 1434.75, 1099.5, 1093.25, 968.0, 934.75, 872.75, 799.25, 778.0, 577.75, 558.0, 548.0, 513.25, 512.0, 511.5, 451.0, 345.5, 302.5, 302.25, 249.25, 233.0, 223.25, 186.0, 134.5, 121.5, 88.0, 74.0, 71.0, 60.0, 41.0, 37.0, 32.0, 28.0, 27.0, 27.0], \"y\": [\"NOVA BETANIA\", \"CENTRO\", \"SANTO ANTONIO\", \"AEROPORTO\", \"PAREDOES\", \"BOA VISTA\", \"ALTO DO SAO MANOEL\", \"DOZE ANOS\", \"BELO HORIZONTE\", \"BARROCAS\", \"BOM JARDIM\", \"PLANALTO TREZE DE MAIO\", \"ALTO DO SUMARE\", \"DIX SEPT ROSADO\", \"ALTO DA CONCEICAO\", \"ABOLICAO 1\", \"ABOLICAO 4\", \"LAGOA DO MATO\", \"RINCAO\", \"ABOLICAO 3\", \"BELA VISTA\", \"VINGT ROSADO\", \"ABOLICAO\", \"COSTA E SILVA\", \"ABOLICAO 2\", \"SANTA DELMIRA\", \"REDENCAO\", \"ILHA DE SANTA LUZIA\", \"PINTOS\", \"DOM JAIME CAMARA\", \"INOCOOP DO ALTO DE SAO MANOEL\", \"MARCIO MARINHO\", \"LIBERDADE\", \"ABOLICAO 5\", \"LESTE OESTE\", \"ALAMEDA DOS CAJUEIROS\", \"NOVA VIDA\", \"BR\", \"TRES VINTENS\", \"MONSENHOR AMERICO\", \"PEREIROS\", \"CIDADE NOVA\", \"POUSADA DOS TERMAS\"]}],\n",
              "                        {\"legend\": {\"bgcolor\": \"#F5F6F9\", \"font\": {\"color\": \"#4D5663\"}}, \"paper_bgcolor\": \"#F5F6F9\", \"plot_bgcolor\": \"#F5F6F9\", \"template\": {\"data\": {\"bar\": [{\"error_x\": {\"color\": \"#2a3f5f\"}, \"error_y\": {\"color\": \"#2a3f5f\"}, \"marker\": {\"line\": {\"color\": \"#E5ECF6\", \"width\": 0.5}}, \"type\": \"bar\"}], \"barpolar\": [{\"marker\": {\"line\": {\"color\": \"#E5ECF6\", \"width\": 0.5}}, \"type\": \"barpolar\"}], \"carpet\": [{\"aaxis\": {\"endlinecolor\": \"#2a3f5f\", \"gridcolor\": \"white\", \"linecolor\": \"white\", \"minorgridcolor\": \"white\", \"startlinecolor\": \"#2a3f5f\"}, \"baxis\": {\"endlinecolor\": \"#2a3f5f\", \"gridcolor\": \"white\", \"linecolor\": \"white\", \"minorgridcolor\": \"white\", \"startlinecolor\": \"#2a3f5f\"}, \"type\": \"carpet\"}], \"choropleth\": [{\"colorbar\": {\"outlinewidth\": 0, \"ticks\": \"\"}, \"type\": \"choropleth\"}], \"contour\": [{\"colorbar\": {\"outlinewidth\": 0, \"ticks\": \"\"}, \"colorscale\": [[0.0, \"#0d0887\"], [0.1111111111111111, \"#46039f\"], [0.2222222222222222, \"#7201a8\"], [0.3333333333333333, \"#9c179e\"], [0.4444444444444444, \"#bd3786\"], [0.5555555555555556, \"#d8576b\"], [0.6666666666666666, \"#ed7953\"], [0.7777777777777778, \"#fb9f3a\"], [0.8888888888888888, \"#fdca26\"], [1.0, \"#f0f921\"]], \"type\": \"contour\"}], \"contourcarpet\": [{\"colorbar\": {\"outlinewidth\": 0, \"ticks\": \"\"}, \"type\": \"contourcarpet\"}], \"heatmap\": [{\"colorbar\": {\"outlinewidth\": 0, \"ticks\": \"\"}, \"colorscale\": [[0.0, \"#0d0887\"], [0.1111111111111111, \"#46039f\"], [0.2222222222222222, \"#7201a8\"], [0.3333333333333333, \"#9c179e\"], [0.4444444444444444, \"#bd3786\"], [0.5555555555555556, \"#d8576b\"], [0.6666666666666666, \"#ed7953\"], [0.7777777777777778, \"#fb9f3a\"], [0.8888888888888888, \"#fdca26\"], [1.0, \"#f0f921\"]], \"type\": \"heatmap\"}], \"heatmapgl\": [{\"colorbar\": {\"outlinewidth\": 0, \"ticks\": \"\"}, \"colorscale\": [[0.0, \"#0d0887\"], [0.1111111111111111, \"#46039f\"], [0.2222222222222222, \"#7201a8\"], [0.3333333333333333, \"#9c179e\"], [0.4444444444444444, \"#bd3786\"], [0.5555555555555556, \"#d8576b\"], [0.6666666666666666, \"#ed7953\"], [0.7777777777777778, \"#fb9f3a\"], [0.8888888888888888, \"#fdca26\"], [1.0, \"#f0f921\"]], \"type\": \"heatmapgl\"}], \"histogram\": [{\"marker\": {\"colorbar\": {\"outlinewidth\": 0, \"ticks\": \"\"}}, \"type\": \"histogram\"}], \"histogram2d\": [{\"colorbar\": {\"outlinewidth\": 0, \"ticks\": \"\"}, \"colorscale\": [[0.0, \"#0d0887\"], [0.1111111111111111, \"#46039f\"], [0.2222222222222222, \"#7201a8\"], [0.3333333333333333, \"#9c179e\"], [0.4444444444444444, \"#bd3786\"], [0.5555555555555556, \"#d8576b\"], [0.6666666666666666, \"#ed7953\"], [0.7777777777777778, \"#fb9f3a\"], [0.8888888888888888, \"#fdca26\"], [1.0, \"#f0f921\"]], \"type\": \"histogram2d\"}], \"histogram2dcontour\": [{\"colorbar\": {\"outlinewidth\": 0, \"ticks\": \"\"}, \"colorscale\": [[0.0, \"#0d0887\"], [0.1111111111111111, \"#46039f\"], [0.2222222222222222, \"#7201a8\"], [0.3333333333333333, \"#9c179e\"], [0.4444444444444444, \"#bd3786\"], [0.5555555555555556, \"#d8576b\"], [0.6666666666666666, \"#ed7953\"], [0.7777777777777778, \"#fb9f3a\"], [0.8888888888888888, \"#fdca26\"], [1.0, \"#f0f921\"]], \"type\": \"histogram2dcontour\"}], \"mesh3d\": [{\"colorbar\": {\"outlinewidth\": 0, \"ticks\": \"\"}, \"type\": \"mesh3d\"}], \"parcoords\": [{\"line\": {\"colorbar\": {\"outlinewidth\": 0, \"ticks\": \"\"}}, \"type\": \"parcoords\"}], \"pie\": [{\"automargin\": true, \"type\": \"pie\"}], \"scatter\": [{\"marker\": {\"colorbar\": {\"outlinewidth\": 0, \"ticks\": \"\"}}, \"type\": \"scatter\"}], \"scatter3d\": [{\"line\": {\"colorbar\": {\"outlinewidth\": 0, \"ticks\": \"\"}}, \"marker\": {\"colorbar\": {\"outlinewidth\": 0, \"ticks\": \"\"}}, \"type\": \"scatter3d\"}], \"scattercarpet\": [{\"marker\": {\"colorbar\": {\"outlinewidth\": 0, \"ticks\": \"\"}}, \"type\": \"scattercarpet\"}], \"scattergeo\": [{\"marker\": {\"colorbar\": {\"outlinewidth\": 0, \"ticks\": \"\"}}, \"type\": \"scattergeo\"}], \"scattergl\": [{\"marker\": {\"colorbar\": {\"outlinewidth\": 0, \"ticks\": \"\"}}, \"type\": \"scattergl\"}], \"scattermapbox\": [{\"marker\": {\"colorbar\": {\"outlinewidth\": 0, \"ticks\": \"\"}}, \"type\": \"scattermapbox\"}], \"scatterpolar\": [{\"marker\": {\"colorbar\": {\"outlinewidth\": 0, \"ticks\": \"\"}}, \"type\": \"scatterpolar\"}], \"scatterpolargl\": [{\"marker\": {\"colorbar\": {\"outlinewidth\": 0, \"ticks\": \"\"}}, \"type\": \"scatterpolargl\"}], \"scatterternary\": [{\"marker\": {\"colorbar\": {\"outlinewidth\": 0, \"ticks\": \"\"}}, \"type\": \"scatterternary\"}], \"surface\": [{\"colorbar\": {\"outlinewidth\": 0, \"ticks\": \"\"}, \"colorscale\": [[0.0, \"#0d0887\"], [0.1111111111111111, \"#46039f\"], [0.2222222222222222, \"#7201a8\"], [0.3333333333333333, \"#9c179e\"], [0.4444444444444444, \"#bd3786\"], [0.5555555555555556, \"#d8576b\"], [0.6666666666666666, \"#ed7953\"], [0.7777777777777778, \"#fb9f3a\"], [0.8888888888888888, \"#fdca26\"], [1.0, \"#f0f921\"]], \"type\": \"surface\"}], \"table\": [{\"cells\": {\"fill\": {\"color\": \"#EBF0F8\"}, \"line\": {\"color\": \"white\"}}, \"header\": {\"fill\": {\"color\": \"#C8D4E3\"}, \"line\": {\"color\": \"white\"}}, \"type\": \"table\"}]}, \"layout\": {\"annotationdefaults\": {\"arrowcolor\": \"#2a3f5f\", \"arrowhead\": 0, \"arrowwidth\": 1}, \"coloraxis\": {\"colorbar\": {\"outlinewidth\": 0, \"ticks\": \"\"}}, \"colorscale\": {\"diverging\": [[0, \"#8e0152\"], [0.1, \"#c51b7d\"], [0.2, \"#de77ae\"], [0.3, \"#f1b6da\"], [0.4, \"#fde0ef\"], [0.5, \"#f7f7f7\"], [0.6, \"#e6f5d0\"], [0.7, \"#b8e186\"], [0.8, \"#7fbc41\"], [0.9, \"#4d9221\"], [1, \"#276419\"]], \"sequential\": [[0.0, \"#0d0887\"], [0.1111111111111111, \"#46039f\"], [0.2222222222222222, \"#7201a8\"], [0.3333333333333333, \"#9c179e\"], [0.4444444444444444, \"#bd3786\"], [0.5555555555555556, \"#d8576b\"], [0.6666666666666666, \"#ed7953\"], [0.7777777777777778, \"#fb9f3a\"], [0.8888888888888888, \"#fdca26\"], [1.0, \"#f0f921\"]], \"sequentialminus\": [[0.0, \"#0d0887\"], [0.1111111111111111, \"#46039f\"], [0.2222222222222222, \"#7201a8\"], [0.3333333333333333, \"#9c179e\"], [0.4444444444444444, \"#bd3786\"], [0.5555555555555556, \"#d8576b\"], [0.6666666666666666, \"#ed7953\"], [0.7777777777777778, \"#fb9f3a\"], [0.8888888888888888, \"#fdca26\"], [1.0, \"#f0f921\"]]}, \"colorway\": [\"#636efa\", \"#EF553B\", \"#00cc96\", \"#ab63fa\", \"#FFA15A\", \"#19d3f3\", \"#FF6692\", \"#B6E880\", \"#FF97FF\", \"#FECB52\"], \"font\": {\"color\": \"#2a3f5f\"}, \"geo\": {\"bgcolor\": \"white\", \"lakecolor\": \"white\", \"landcolor\": \"#E5ECF6\", \"showlakes\": true, \"showland\": true, \"subunitcolor\": \"white\"}, \"hoverlabel\": {\"align\": \"left\"}, \"hovermode\": \"closest\", \"mapbox\": {\"style\": \"light\"}, \"paper_bgcolor\": \"white\", \"plot_bgcolor\": \"#E5ECF6\", \"polar\": {\"angularaxis\": {\"gridcolor\": \"white\", \"linecolor\": \"white\", \"ticks\": \"\"}, \"bgcolor\": \"#E5ECF6\", \"radialaxis\": {\"gridcolor\": \"white\", \"linecolor\": \"white\", \"ticks\": \"\"}}, \"scene\": {\"xaxis\": {\"backgroundcolor\": \"#E5ECF6\", \"gridcolor\": \"white\", \"gridwidth\": 2, \"linecolor\": \"white\", \"showbackground\": true, \"ticks\": \"\", \"zerolinecolor\": \"white\"}, \"yaxis\": {\"backgroundcolor\": \"#E5ECF6\", \"gridcolor\": \"white\", \"gridwidth\": 2, \"linecolor\": \"white\", \"showbackground\": true, \"ticks\": \"\", \"zerolinecolor\": \"white\"}, \"zaxis\": {\"backgroundcolor\": \"#E5ECF6\", \"gridcolor\": \"white\", \"gridwidth\": 2, \"linecolor\": \"white\", \"showbackground\": true, \"ticks\": \"\", \"zerolinecolor\": \"white\"}}, \"shapedefaults\": {\"line\": {\"color\": \"#2a3f5f\"}}, \"ternary\": {\"aaxis\": {\"gridcolor\": \"white\", \"linecolor\": \"white\", \"ticks\": \"\"}, \"baxis\": {\"gridcolor\": \"white\", \"linecolor\": \"white\", \"ticks\": \"\"}, \"bgcolor\": \"#E5ECF6\", \"caxis\": {\"gridcolor\": \"white\", \"linecolor\": \"white\", \"ticks\": \"\"}}, \"title\": {\"x\": 0.05}, \"xaxis\": {\"automargin\": true, \"gridcolor\": \"white\", \"linecolor\": \"white\", \"ticks\": \"\", \"title\": {\"standoff\": 15}, \"zerolinecolor\": \"white\", \"zerolinewidth\": 2}, \"yaxis\": {\"automargin\": true, \"gridcolor\": \"white\", \"linecolor\": \"white\", \"ticks\": \"\", \"title\": {\"standoff\": 15}, \"zerolinecolor\": \"white\", \"zerolinewidth\": 2}}}, \"title\": {\"font\": {\"color\": \"#4D5663\"}}, \"xaxis\": {\"gridcolor\": \"#E1E5ED\", \"showgrid\": true, \"tickfont\": {\"color\": \"#4D5663\"}, \"title\": {\"font\": {\"color\": \"#4D5663\"}, \"text\": \"\"}, \"zerolinecolor\": \"#E1E5ED\"}, \"yaxis\": {\"gridcolor\": \"#E1E5ED\", \"showgrid\": true, \"tickfont\": {\"color\": \"#4D5663\"}, \"title\": {\"font\": {\"color\": \"#4D5663\"}, \"text\": \"\"}, \"zerolinecolor\": \"#E1E5ED\"}},\n",
              "                        {\"showLink\": true, \"linkText\": \"Export to plot.ly\", \"plotlyServerURL\": \"https://plot.ly\", \"responsive\": true}\n",
              "                    ).then(function(){\n",
              "                            \n",
              "var gd = document.getElementById('19ed04e5-7243-4e11-a150-4dede785c0eb');\n",
              "var x = new MutationObserver(function (mutations, observer) {{\n",
              "        var display = window.getComputedStyle(gd).display;\n",
              "        if (!display || display === 'none') {{\n",
              "            console.log([gd, 'removed!']);\n",
              "            Plotly.purge(gd);\n",
              "            observer.disconnect();\n",
              "        }}\n",
              "}});\n",
              "\n",
              "// Listen for the removal of the full notebook cells\n",
              "var notebookContainer = gd.closest('#notebook-container');\n",
              "if (notebookContainer) {{\n",
              "    x.observe(notebookContainer, {childList: true});\n",
              "}}\n",
              "\n",
              "// Listen for the clearing of the current output cell\n",
              "var outputEl = gd.closest('.output');\n",
              "if (outputEl) {{\n",
              "    x.observe(outputEl, {childList: true});\n",
              "}}\n",
              "\n",
              "                        })\n",
              "                };\n",
              "                \n",
              "            </script>\n",
              "        </div>\n",
              "</body>\n",
              "</html>"
            ]
          },
          "metadata": {
            "tags": []
          }
        }
      ]
    },
    {
      "cell_type": "code",
      "metadata": {
        "id": "nO36_yI0xUcP",
        "outputId": "8b440e2f-9500-40dd-eb85-743cb63c7083",
        "colab": {
          "base_uri": "https://localhost:8080/",
          "height": 352
        }
      },
      "source": [
        "# boxplot\n",
        "boxplot(x=df.Valor,orient='v');"
      ],
      "execution_count": null,
      "outputs": [
        {
          "output_type": "stream",
          "text": [
            "/usr/local/lib/python3.6/dist-packages/seaborn/_core.py:1303: UserWarning:\n",
            "\n",
            "Vertical orientation ignored with only `x` specified.\n",
            "\n"
          ],
          "name": "stderr"
        },
        {
          "output_type": "display_data",
          "data": {
            "image/png": "[encoded data removed]",
            "text/plain": [
              "<Figure size 432x288 with 1 Axes>"
            ]
          },
          "metadata": {
            "tags": [],
            "needs_background": "light"
          }
        }
      ]
    },
    {
      "cell_type": "markdown",
      "metadata": {
        "id": "TwTFQlZFoUvd"
      },
      "source": [
        "# Obrigado!\n",
        "\n",
        "Obrigado por ter disponibilizado um pouco do seu tempo e atenção aqui. Espero que, de alguma forma, tenha sido útil para seu crescimento. Se houver qualquer dúvida ou sugestão, não hesite em entrar em contato no [LinkedIn](https://www.linkedin.com/in/daniel-sousa-amador) e verificar meus outros projetos no [GitHub](https://github.com/ds-amador).\n",
        "\n",
        "[![LinkedIn](https://img.shields.io/badge/LinkedIn-DanielSousaAmador-purple.svg)](https://www.linkedin.com/in/daniel-sousa-amador)\n",
        "[![GitHub](https://img.shields.io/badge/GitHub-ds_amador-darkblue.svg)](https://github.com/ds-amador)\n",
        "[![Medium](https://img.shields.io/badge/Medium-DanielSousaAmador-darkorange.svg)](https://medium.com/@daniel.s.amador)\n",
        "\n",
        "\n",
        "\n",
        "<center><img width=\"90%\" src=\"https://raw.githubusercontent.com/danielamador12/Portfolio/master/github.png\"></center>"
      ]
    }
  ]
}