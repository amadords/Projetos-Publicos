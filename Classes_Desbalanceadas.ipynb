{
  "nbformat": 4,
  "nbformat_minor": 0,
  "metadata": {
    "kernelspec": {
      "display_name": "Python 3",
      "language": "python",
      "name": "python3"
    },
    "language_info": {
      "codemirror_mode": {
        "name": "ipython",
        "version": 3
      },
      "file_extension": ".py",
      "mimetype": "text/x-python",
      "name": "python",
      "nbconvert_exporter": "python",
      "pygments_lexer": "ipython3",
      "version": "3.7.6"
    },
    "colab": {
      "name": "Classes Desbalanceadas",
      "provenance": [],
      "collapsed_sections": [
        "P90PQ8e_cV5d",
        "g_kHz4XJcV5o",
        "0OJna5jacV5u",
        "xXJukuqpcV56",
        "eLdGHNc_cV6S",
        "-8oLpOC2cV6g"
      ],
      "include_colab_link": true
    }
  },
  "cells": [
    {
      "cell_type": "markdown",
      "metadata": {
        "id": "view-in-github",
        "colab_type": "text"
      },
      "source": [
        "<a href=\"https://colab.research.google.com/github/amadords/Projetos-Publicos/blob/master/Classes_Desbalanceadas.ipynb\" target=\"_parent\"><img src=\"https://colab.research.google.com/assets/colab-badge.svg\" alt=\"Open In Colab\"/></a>"
      ]
    },
    {
      "cell_type": "markdown",
      "metadata": {
        "id": "oADqNAqicV4g"
      },
      "source": [
        "# Classes Desbalanceadas\n",
        "---\n",
        "\n",
        "\n",
        "\n",
        "[![LinkedIn](https://img.shields.io/badge/LinkedIn-DanielSousaAmador-cyan.svg)](https://www.linkedin.com/in/daniel-sousa-amador)\n",
        "[![GitHub](https://img.shields.io/badge/GitHub-amadords-darkblue.svg)](https://github.com/amadords)\n",
        "[![Medium](https://img.shields.io/badge/Medium-DanielSousaAmador-white.svg)](https://daniel-s-amador.medium.com/)\n",
        "\n",
        "\n",
        "\n",
        "Em uma base de dados, ter classes desbalanceadas tem um **impacto negativo** quando se trata de um modelo de Machine Learning.\n",
        "\n",
        "\n",
        "![Balança](https://image.freepik.com/vetores-gratis/escalas-design-plano-ilustracao-vetorial_74669-85.jpg)\n",
        "\n",
        "\n",
        "Seja em um problema de **regressão** ou um problema de **classificação**, classes desbalanceadas fazem com que o modelo aprenda melhor sobre a classe majoritária, um problema muito comum chamado de **enviesamento**.\n",
        "\n",
        "**Quando posso considerar que as classes estão desbalanceadas?**\n",
        "* Normalmente com **70% (classe majoritária) e 30% (classe minoritária)** já pode ser considerada, veja que não estou falando de 30% em relação à majoritária, apenas em relação ao total.\n",
        "* No caso tratado aqui, a classe minoritária tem aproximadamente 13.15% se comparada apenas à classe majoritária. Se levado em consideração o total da feature esse valor cai para 8.54%\n",
        "\n",
        "**O que fazer**\n",
        "\n",
        "**Adquirir mais dados** da menor classe é a melhor solução e mais óbvia, contudo nem sempre é possível, principalmente por dois motivos, que com um olhar macro acabam sendo a mesma coisa: \n",
        "* impossibilidade natural na captação de dados, por haver indisponibilidade de acesso ou algo dessa natureza;\n",
        "* Quando é comum ao negócio.\n",
        "    * Nesse caso em específico devemos falar um pouco mais.\n",
        "        * Em um sistema de detecção de fraudes, em média, 90% das transações não são fraudulentas, ao passo que os outros 10% o são, então como captar mais transações com fraude para trazer maior robustez à base de dados?\n",
        "        * Em um modelo onde se busca características de alunos que vão sair ou evadir de uma instituição, como trazer mais dados de alunos que saem da escola, se não é tão frequente a saida quanto a permanência dos alunos?!\n",
        "        \n",
        "Bom, em ambos os problemas, não há possibilidade de reter mais dados para que o problema seja sanado. Como resolver? Veremos as **três técnicas** mais utilizadas e bastante difundidas para a solução desses problemas.\n",
        "\n",
        "* **1. Undersampling:**\n",
        "    * Consiste em **reduzir** de forma aleatória os exemplos da classe majoritária.\n",
        "    * A **desvantagem** desse método é que pode tornar a base de dados fraca, uma vez que ao reduzi-la, pode-se deixar de fora padrões importantes.\n",
        "    * A **vantagem** é, através do método *NearMiss*, fazer a redução tentando manter a separabilidade dos dados, procurando exemplos que não sejam tão diferentes da classe minoritária.\n",
        "    \n",
        "* **2. Oversampling:**\n",
        "    * **Aumenta** os exemplos da classe minoritária.\n",
        "    * Utilizando o *SMOTE*, dados sintéticos serão gerados a partir da classe minoritária, a partir dos seus vizinhos.\n",
        "\n",
        "* **3. Engenharia de Features:**\n",
        "    * Gera novas features (caracteristicas) para os dados, fazendo com que os dados tenham mais robustez e, automaticamente ficando menos suscetível ao enviesamento.\n",
        "    * Sua principal **desvantagem** é o tempo demorado para sua realização, o que pode atrasar um projeto.\n",
        "    \n",
        " > Uma observação importante é que, pela generalidade das primeiras técnicas, elas serão as abordadas aqui, uma vez que a *Engenharia de Features* dependerá de como será feita para casa em particular.\n",
        " \n",
        "## Checklist\n",
        "\n",
        "1. Definição do Problema\n",
        "2. Reconhecimento do Problema e Tratamento dos Dados\n",
        "3. Aplicação do NearMiss (Undersampling)\n",
        "4. Aplicação do SMOTE (Oversampling)\n"
      ]
    },
    {
      "cell_type": "markdown",
      "metadata": {
        "id": "t6Vw6Rh4cV4k"
      },
      "source": [
        "# 1. Definição do Problema\n",
        "Trataremos de uma base de dados bancária onde, nesse caso, a classe minoritária tem aproximadamente 13% do tamanho da majoritária, ou seja, claramente desbalanceada.\n",
        "\n",
        "### Objetivo\n",
        "Utilizar o **NearMiss** e o **SMOTE** para tornar as classes balanceadas e, ao final da aplicação de cada técnica, fazer a avaliação do modelo com a técnica aplicada.\n",
        "\n",
        "Será aplicada a **Regressão Logistica** para ambos os caos. \n",
        "* Regressão Logistica é um modelo simples de Regressão Linear do tipo logistico, que nos retorna respostas binárias (0 e 1) denominados \"fracasso\" e \"sucesso\". Em nosso caso será utilizada para *fraude* e *não fraude*.\n",
        "\n",
        "### Métricas de  Desempenho\n",
        "\n",
        "Serão utilizadas cinco métricas, a primeira vinda da biblioteca Pandas e as outras métricas da sklearn.metrics:\n",
        "\n",
        "1. **Cross table:**\n",
        "    * Melhor traduzido como *Matriz de Consufão*, traz de uma forma simples o desempenho do classificador, trazendo o quanto o este acertou ou errou por cada classe.\n",
        "    \n",
        "2. **Precision:**\n",
        "    * Precisão é a razão (divisão) entre as observações positivas previstas corretamente e o total de observações positivas previstas.\n",
        "  $$\n",
        "  precisao=\\frac{TP}{TP+FP}\n",
        "  $$\n",
        "    \n",
        "3. **Recall:**\n",
        "    * Também chamada de *Revocação* ou *Sensibilidade*, nos fornece o número de vezes que uma classe foi predita de forma correta, dividida pelo número de classes que contém nos dados.\n",
        "  $$\n",
        "  recall=\\frac{TP}{TP+FN}\n",
        "  $$\n",
        "\n",
        "4. **F1-score:** \n",
        "    * Ou *Medida F1*, utiliza a média harmônica entre a precisão e a revocação.\n",
        "  $$\n",
        "  F1=2*\\frac{precisao*recall}{precisao+recall}\n",
        "  $$\n",
        "    * Sendo uma combinação de duas outras métricas, em tese é mais robusta, dando uma informação mais precisa e importante.\n",
        "    \n",
        "5. **Accuracy:**\n",
        "    * A *acurácia* é uma métrica que permite uma visualização geral do classificador.\n",
        "    * Sua saida é o percentual de classificações corretas pelo classificador.\n",
        "    * Com classes desbalanceadas não se sai muito bem uma vez que acaba \"mascarando\" o problema.\n",
        "    * Accuracy= Número de Predições Corretas/Número total de Predições ou\n",
        "\n",
        "    \n",
        "  $$\n",
        "  accuracy=\\frac{TP+TN}{TP+TN+FP+FN}\n",
        "  $$\n",
        "\n",
        "**Legenda**\n",
        "* TP = True Positive (Verdadeiro Positivo)\n",
        "* TN = True Negativa (Verdadeiro Negativo)\n",
        "* FP = False Positive (Falso Positivo)\n",
        "* FN = False Negative (Falso Negativo)\n",
        "    \n",
        "**Support:**\n",
        "* O suporte é o número puro ou real de dados para a classe. Não é uma métrica propriamente dita, mas ajuda por estar junto às outras métricas como o próprio nome diz, dando suporte. \n",
        "* Com ele é possível, por exemplo ver se as classes estão desbalançeadas ou não, caso tenha fugido da análise, aqui é uma chance de ser ver isso."
      ]
    },
    {
      "cell_type": "markdown",
      "metadata": {
        "id": "wtjl0_2pcV4m"
      },
      "source": [
        "**Importações das bibliotecas**"
      ]
    },
    {
      "cell_type": "code",
      "metadata": {
        "id": "NKtM0sm9cV4p"
      },
      "source": [
        "import numpy as np\n",
        "import pandas as pd\n",
        "from sklearn.linear_model import LogisticRegression # Regressão Logistica / Algoritmo classificador muito simples\n",
        "from sklearn.model_selection import train_test_split\n",
        "from sklearn.metrics import accuracy_score, confusion_matrix, classification_report\n",
        "from imblearn.over_sampling import SMOTE\n",
        "from imblearn.under_sampling import NearMiss\n",
        "# a biblioteca que contém o smote e o nearmiss (é uma extensão da SKlearn) é a 'imblearn'\n",
        "import seaborn as sns"
      ],
      "execution_count": null,
      "outputs": []
    },
    {
      "cell_type": "markdown",
      "metadata": {
        "id": "KSYKD5NXcV48"
      },
      "source": [
        "**Carregando Base de dados do Banco**"
      ]
    },
    {
      "cell_type": "code",
      "metadata": {
        "id": "UgONxTkEcV4-",
        "outputId": "fe97d149-4cf9-4ac6-87e2-571b392ab1eb"
      },
      "source": [
        "df = pd.read_csv('/home/amador/dados/bank-full.csv', sep=';')\n",
        "df.head(3)"
      ],
      "execution_count": null,
      "outputs": [
        {
          "output_type": "execute_result",
          "data": {
            "text/html": [
              "<div>\n",
              "<style scoped>\n",
              "    .dataframe tbody tr th:only-of-type {\n",
              "        vertical-align: middle;\n",
              "    }\n",
              "\n",
              "    .dataframe tbody tr th {\n",
              "        vertical-align: top;\n",
              "    }\n",
              "\n",
              "    .dataframe thead th {\n",
              "        text-align: right;\n",
              "    }\n",
              "</style>\n",
              "<table border=\"1\" class=\"dataframe\">\n",
              "  <thead>\n",
              "    <tr style=\"text-align: right;\">\n",
              "      <th></th>\n",
              "      <th>age</th>\n",
              "      <th>job</th>\n",
              "      <th>marital</th>\n",
              "      <th>education</th>\n",
              "      <th>default</th>\n",
              "      <th>balance</th>\n",
              "      <th>housing</th>\n",
              "      <th>loan</th>\n",
              "      <th>contact</th>\n",
              "      <th>day</th>\n",
              "      <th>month</th>\n",
              "      <th>duration</th>\n",
              "      <th>campaign</th>\n",
              "      <th>pdays</th>\n",
              "      <th>previous</th>\n",
              "      <th>poutcome</th>\n",
              "      <th>y</th>\n",
              "    </tr>\n",
              "  </thead>\n",
              "  <tbody>\n",
              "    <tr>\n",
              "      <th>0</th>\n",
              "      <td>58</td>\n",
              "      <td>management</td>\n",
              "      <td>married</td>\n",
              "      <td>tertiary</td>\n",
              "      <td>no</td>\n",
              "      <td>2143</td>\n",
              "      <td>yes</td>\n",
              "      <td>no</td>\n",
              "      <td>unknown</td>\n",
              "      <td>5</td>\n",
              "      <td>may</td>\n",
              "      <td>261</td>\n",
              "      <td>1</td>\n",
              "      <td>-1</td>\n",
              "      <td>0</td>\n",
              "      <td>unknown</td>\n",
              "      <td>no</td>\n",
              "    </tr>\n",
              "    <tr>\n",
              "      <th>1</th>\n",
              "      <td>44</td>\n",
              "      <td>technician</td>\n",
              "      <td>single</td>\n",
              "      <td>secondary</td>\n",
              "      <td>no</td>\n",
              "      <td>29</td>\n",
              "      <td>yes</td>\n",
              "      <td>no</td>\n",
              "      <td>unknown</td>\n",
              "      <td>5</td>\n",
              "      <td>may</td>\n",
              "      <td>151</td>\n",
              "      <td>1</td>\n",
              "      <td>-1</td>\n",
              "      <td>0</td>\n",
              "      <td>unknown</td>\n",
              "      <td>no</td>\n",
              "    </tr>\n",
              "    <tr>\n",
              "      <th>2</th>\n",
              "      <td>33</td>\n",
              "      <td>entrepreneur</td>\n",
              "      <td>married</td>\n",
              "      <td>secondary</td>\n",
              "      <td>no</td>\n",
              "      <td>2</td>\n",
              "      <td>yes</td>\n",
              "      <td>yes</td>\n",
              "      <td>unknown</td>\n",
              "      <td>5</td>\n",
              "      <td>may</td>\n",
              "      <td>76</td>\n",
              "      <td>1</td>\n",
              "      <td>-1</td>\n",
              "      <td>0</td>\n",
              "      <td>unknown</td>\n",
              "      <td>no</td>\n",
              "    </tr>\n",
              "  </tbody>\n",
              "</table>\n",
              "</div>"
            ],
            "text/plain": [
              "   age           job  marital  education default  balance housing loan  \\\n",
              "0   58    management  married   tertiary      no     2143     yes   no   \n",
              "1   44    technician   single  secondary      no       29     yes   no   \n",
              "2   33  entrepreneur  married  secondary      no        2     yes  yes   \n",
              "\n",
              "   contact  day month  duration  campaign  pdays  previous poutcome   y  \n",
              "0  unknown    5   may       261         1     -1         0  unknown  no  \n",
              "1  unknown    5   may       151         1     -1         0  unknown  no  \n",
              "2  unknown    5   may        76         1     -1         0  unknown  no  "
            ]
          },
          "metadata": {
            "tags": []
          },
          "execution_count": 2
        }
      ]
    },
    {
      "cell_type": "markdown",
      "metadata": {
        "id": "bWfMsJPPcV5G"
      },
      "source": [
        "# 2. Reconhecimento do Problema e Tratamento dos Dados"
      ]
    },
    {
      "cell_type": "markdown",
      "metadata": {
        "id": "GeKwf9gBcV5I"
      },
      "source": [
        "**Informações a respeito dos dados**\n",
        "\n",
        "Mas especificamente os tipos de cada coluna."
      ]
    },
    {
      "cell_type": "code",
      "metadata": {
        "scrolled": true,
        "id": "u46NpU0XcV5I",
        "outputId": "7deb4b3b-a702-4e44-8f80-a37adf326d26"
      },
      "source": [
        "df.info()"
      ],
      "execution_count": null,
      "outputs": [
        {
          "output_type": "stream",
          "text": [
            "<class 'pandas.core.frame.DataFrame'>\n",
            "RangeIndex: 45211 entries, 0 to 45210\n",
            "Data columns (total 17 columns):\n",
            " #   Column     Non-Null Count  Dtype \n",
            "---  ------     --------------  ----- \n",
            " 0   age        45211 non-null  int64 \n",
            " 1   job        45211 non-null  object\n",
            " 2   marital    45211 non-null  object\n",
            " 3   education  45211 non-null  object\n",
            " 4   default    45211 non-null  object\n",
            " 5   balance    45211 non-null  int64 \n",
            " 6   housing    45211 non-null  object\n",
            " 7   loan       45211 non-null  object\n",
            " 8   contact    45211 non-null  object\n",
            " 9   day        45211 non-null  int64 \n",
            " 10  month      45211 non-null  object\n",
            " 11  duration   45211 non-null  int64 \n",
            " 12  campaign   45211 non-null  int64 \n",
            " 13  pdays      45211 non-null  int64 \n",
            " 14  previous   45211 non-null  int64 \n",
            " 15  poutcome   45211 non-null  object\n",
            " 16  y          45211 non-null  object\n",
            "dtypes: int64(7), object(10)\n",
            "memory usage: 5.9+ MB\n"
          ],
          "name": "stdout"
        }
      ]
    },
    {
      "cell_type": "markdown",
      "metadata": {
        "id": "6iTmr4MNcV5N"
      },
      "source": [
        "### Transformação dos dados\n",
        "Apenas para permitir uma melhor usabilidade dos dados."
      ]
    },
    {
      "cell_type": "markdown",
      "metadata": {
        "id": "Rcax1JBCcV5O"
      },
      "source": [
        "**Formatando algumas colunas para melhorar a visualização**"
      ]
    },
    {
      "cell_type": "code",
      "metadata": {
        "id": "FXmg0hrPcV5Q"
      },
      "source": [
        "# em especial a coluna alvo que deixará de ser 0 e 1 para ser 'no' e 'yes'\n",
        "df[\"default\"] = df[\"default\"].map({\"no\":0,\"yes\":1})\n",
        "df[\"housing\"] = df[\"housing\"].map({\"no\":0,\"yes\":1})\n",
        "df[\"loan\"] = df[\"loan\"].map({\"no\":0,\"yes\":1})\n",
        "df[\"y\"] = df[\"y\"].map({\"no\":0,\"yes\":1})\n",
        "df.education = df.education.map({\"primary\": 0, \"secondary\":1, \"tertiary\":2})\n",
        "df.poutcome = df.poutcome.map({\"unknown\": 0, \"failure\":1, \"other\":2, \"success\":3})\n",
        "df.contact = df.contact.map({\"cellular\": 0, \"unknown\":1, \"telephone\":2})\n",
        "df.month = pd.to_datetime(df.month, format = \"%b\").dt.month"
      ],
      "execution_count": null,
      "outputs": []
    },
    {
      "cell_type": "markdown",
      "metadata": {
        "id": "7xUBEVk7cV5W"
      },
      "source": [
        "### Visualização se está desbalanceada\n",
        "* 'no' = Não Fraude\n",
        "* 'yes' = Fraude\n",
        "\n",
        "Veja que com um total de apenas **13.25%** (39922/5289) da classe majoritária (no), a minoritária (yes) trará dificuldade para o modelo aprender."
      ]
    },
    {
      "cell_type": "markdown",
      "metadata": {
        "id": "A3d4EMuDcV5X"
      },
      "source": [
        "**Visualização das classes** "
      ]
    },
    {
      "cell_type": "code",
      "metadata": {
        "id": "SARfOr1ncV5Y",
        "outputId": "3e2b01d0-9c6e-4e7a-cbfe-9d6f02a2bd59"
      },
      "source": [
        "df.y.value_counts()"
      ],
      "execution_count": null,
      "outputs": [
        {
          "output_type": "execute_result",
          "data": {
            "text/plain": [
              "0    39922\n",
              "1     5289\n",
              "Name: y, dtype: int64"
            ]
          },
          "metadata": {
            "tags": []
          },
          "execution_count": 5
        }
      ]
    },
    {
      "cell_type": "markdown",
      "metadata": {
        "id": "P90PQ8e_cV5d"
      },
      "source": [
        "### Visualização e tratamento de valores faltantes"
      ]
    },
    {
      "cell_type": "markdown",
      "metadata": {
        "id": "dJ7Oq87CcV5e"
      },
      "source": [
        "**Checando valores faltantes**"
      ]
    },
    {
      "cell_type": "code",
      "metadata": {
        "id": "5ksE0N0gcV5e",
        "outputId": "6a41e62e-0f42-40b7-cafa-48bf8999213a"
      },
      "source": [
        "df.isnull().sum()"
      ],
      "execution_count": null,
      "outputs": [
        {
          "output_type": "execute_result",
          "data": {
            "text/plain": [
              "age             0\n",
              "job             0\n",
              "marital         0\n",
              "education    1857\n",
              "default         0\n",
              "balance         0\n",
              "housing         0\n",
              "loan            0\n",
              "contact         0\n",
              "day             0\n",
              "month           0\n",
              "duration        0\n",
              "campaign        0\n",
              "pdays           0\n",
              "previous        0\n",
              "poutcome        0\n",
              "y               0\n",
              "dtype: int64"
            ]
          },
          "metadata": {
            "tags": []
          },
          "execution_count": 6
        }
      ]
    },
    {
      "cell_type": "markdown",
      "metadata": {
        "id": "60Fnp96QcV5j"
      },
      "source": [
        "**Removendo missing values**"
      ]
    },
    {
      "cell_type": "code",
      "metadata": {
        "id": "GiL6zWfacV5k",
        "outputId": "63b48c88-30fd-4cd0-9da6-b18ad9eba6a7"
      },
      "source": [
        "df.dropna(inplace = True)\n",
        "df.head(3)"
      ],
      "execution_count": null,
      "outputs": [
        {
          "output_type": "execute_result",
          "data": {
            "text/html": [
              "<div>\n",
              "<style scoped>\n",
              "    .dataframe tbody tr th:only-of-type {\n",
              "        vertical-align: middle;\n",
              "    }\n",
              "\n",
              "    .dataframe tbody tr th {\n",
              "        vertical-align: top;\n",
              "    }\n",
              "\n",
              "    .dataframe thead th {\n",
              "        text-align: right;\n",
              "    }\n",
              "</style>\n",
              "<table border=\"1\" class=\"dataframe\">\n",
              "  <thead>\n",
              "    <tr style=\"text-align: right;\">\n",
              "      <th></th>\n",
              "      <th>age</th>\n",
              "      <th>job</th>\n",
              "      <th>marital</th>\n",
              "      <th>education</th>\n",
              "      <th>default</th>\n",
              "      <th>balance</th>\n",
              "      <th>housing</th>\n",
              "      <th>loan</th>\n",
              "      <th>contact</th>\n",
              "      <th>day</th>\n",
              "      <th>month</th>\n",
              "      <th>duration</th>\n",
              "      <th>campaign</th>\n",
              "      <th>pdays</th>\n",
              "      <th>previous</th>\n",
              "      <th>poutcome</th>\n",
              "      <th>y</th>\n",
              "    </tr>\n",
              "  </thead>\n",
              "  <tbody>\n",
              "    <tr>\n",
              "      <th>0</th>\n",
              "      <td>58</td>\n",
              "      <td>management</td>\n",
              "      <td>married</td>\n",
              "      <td>2.0</td>\n",
              "      <td>0</td>\n",
              "      <td>2143</td>\n",
              "      <td>1</td>\n",
              "      <td>0</td>\n",
              "      <td>1</td>\n",
              "      <td>5</td>\n",
              "      <td>5</td>\n",
              "      <td>261</td>\n",
              "      <td>1</td>\n",
              "      <td>-1</td>\n",
              "      <td>0</td>\n",
              "      <td>0</td>\n",
              "      <td>0</td>\n",
              "    </tr>\n",
              "    <tr>\n",
              "      <th>1</th>\n",
              "      <td>44</td>\n",
              "      <td>technician</td>\n",
              "      <td>single</td>\n",
              "      <td>1.0</td>\n",
              "      <td>0</td>\n",
              "      <td>29</td>\n",
              "      <td>1</td>\n",
              "      <td>0</td>\n",
              "      <td>1</td>\n",
              "      <td>5</td>\n",
              "      <td>5</td>\n",
              "      <td>151</td>\n",
              "      <td>1</td>\n",
              "      <td>-1</td>\n",
              "      <td>0</td>\n",
              "      <td>0</td>\n",
              "      <td>0</td>\n",
              "    </tr>\n",
              "    <tr>\n",
              "      <th>2</th>\n",
              "      <td>33</td>\n",
              "      <td>entrepreneur</td>\n",
              "      <td>married</td>\n",
              "      <td>1.0</td>\n",
              "      <td>0</td>\n",
              "      <td>2</td>\n",
              "      <td>1</td>\n",
              "      <td>1</td>\n",
              "      <td>1</td>\n",
              "      <td>5</td>\n",
              "      <td>5</td>\n",
              "      <td>76</td>\n",
              "      <td>1</td>\n",
              "      <td>-1</td>\n",
              "      <td>0</td>\n",
              "      <td>0</td>\n",
              "      <td>0</td>\n",
              "    </tr>\n",
              "  </tbody>\n",
              "</table>\n",
              "</div>"
            ],
            "text/plain": [
              "   age           job  marital  education  default  balance  housing  loan  \\\n",
              "0   58    management  married        2.0        0     2143        1     0   \n",
              "1   44    technician   single        1.0        0       29        1     0   \n",
              "2   33  entrepreneur  married        1.0        0        2        1     1   \n",
              "\n",
              "   contact  day  month  duration  campaign  pdays  previous  poutcome  y  \n",
              "0        1    5      5       261         1     -1         0         0  0  \n",
              "1        1    5      5       151         1     -1         0         0  0  \n",
              "2        1    5      5        76         1     -1         0         0  0  "
            ]
          },
          "metadata": {
            "tags": []
          },
          "execution_count": 7
        }
      ]
    },
    {
      "cell_type": "markdown",
      "metadata": {
        "id": "g_kHz4XJcV5o"
      },
      "source": [
        "### Transformando colunas categóricas em numéricas\n",
        "Em alguns modelos, somente são aceitos valores numéricas, mas não valores categóricos (palavras, letras e frases).\n",
        "\n",
        "Para isso, utilizaremos o métodos **get_dummies** do pandas para isso. O método permite fazer a transformação de forma rápida e intuitiva.\n",
        "\n",
        "Esse métodos cria o que é chamado de **Matriz de Presença**, a saber, a variável job que tem várias classes (retired, self-employed etc), será transformada em uma matriz onde, por exemplo, se a pessoa daquele linha tem o *job* do tipo *retired*, na coluna job_retired ele receberá o valor 1 (um) e nas demais 0, pois não trabalha nas demais profissões. Já alguém que não está na categoria *retired* recebe o valor 0 (zero) nesta e nas demais, com exceção da coluna que reprenta o seu atual trabalho, onde receberá 1 (um).\n"
      ]
    },
    {
      "cell_type": "markdown",
      "metadata": {
        "id": "DWT75GBlcV5p"
      },
      "source": [
        "**Transformando dados**"
      ]
    },
    {
      "cell_type": "code",
      "metadata": {
        "id": "8bP86oY9cV5q",
        "outputId": "1907e2c8-c560-42c1-cd07-941d72d131af"
      },
      "source": [
        "df = pd.get_dummies(df)\n",
        "df.head(3)"
      ],
      "execution_count": null,
      "outputs": [
        {
          "output_type": "execute_result",
          "data": {
            "text/html": [
              "<div>\n",
              "<style scoped>\n",
              "    .dataframe tbody tr th:only-of-type {\n",
              "        vertical-align: middle;\n",
              "    }\n",
              "\n",
              "    .dataframe tbody tr th {\n",
              "        vertical-align: top;\n",
              "    }\n",
              "\n",
              "    .dataframe thead th {\n",
              "        text-align: right;\n",
              "    }\n",
              "</style>\n",
              "<table border=\"1\" class=\"dataframe\">\n",
              "  <thead>\n",
              "    <tr style=\"text-align: right;\">\n",
              "      <th></th>\n",
              "      <th>age</th>\n",
              "      <th>education</th>\n",
              "      <th>default</th>\n",
              "      <th>balance</th>\n",
              "      <th>housing</th>\n",
              "      <th>loan</th>\n",
              "      <th>contact</th>\n",
              "      <th>day</th>\n",
              "      <th>month</th>\n",
              "      <th>duration</th>\n",
              "      <th>...</th>\n",
              "      <th>job_retired</th>\n",
              "      <th>job_self-employed</th>\n",
              "      <th>job_services</th>\n",
              "      <th>job_student</th>\n",
              "      <th>job_technician</th>\n",
              "      <th>job_unemployed</th>\n",
              "      <th>job_unknown</th>\n",
              "      <th>marital_divorced</th>\n",
              "      <th>marital_married</th>\n",
              "      <th>marital_single</th>\n",
              "    </tr>\n",
              "  </thead>\n",
              "  <tbody>\n",
              "    <tr>\n",
              "      <th>0</th>\n",
              "      <td>58</td>\n",
              "      <td>2.0</td>\n",
              "      <td>0</td>\n",
              "      <td>2143</td>\n",
              "      <td>1</td>\n",
              "      <td>0</td>\n",
              "      <td>1</td>\n",
              "      <td>5</td>\n",
              "      <td>5</td>\n",
              "      <td>261</td>\n",
              "      <td>...</td>\n",
              "      <td>0</td>\n",
              "      <td>0</td>\n",
              "      <td>0</td>\n",
              "      <td>0</td>\n",
              "      <td>0</td>\n",
              "      <td>0</td>\n",
              "      <td>0</td>\n",
              "      <td>0</td>\n",
              "      <td>1</td>\n",
              "      <td>0</td>\n",
              "    </tr>\n",
              "    <tr>\n",
              "      <th>1</th>\n",
              "      <td>44</td>\n",
              "      <td>1.0</td>\n",
              "      <td>0</td>\n",
              "      <td>29</td>\n",
              "      <td>1</td>\n",
              "      <td>0</td>\n",
              "      <td>1</td>\n",
              "      <td>5</td>\n",
              "      <td>5</td>\n",
              "      <td>151</td>\n",
              "      <td>...</td>\n",
              "      <td>0</td>\n",
              "      <td>0</td>\n",
              "      <td>0</td>\n",
              "      <td>0</td>\n",
              "      <td>1</td>\n",
              "      <td>0</td>\n",
              "      <td>0</td>\n",
              "      <td>0</td>\n",
              "      <td>0</td>\n",
              "      <td>1</td>\n",
              "    </tr>\n",
              "    <tr>\n",
              "      <th>2</th>\n",
              "      <td>33</td>\n",
              "      <td>1.0</td>\n",
              "      <td>0</td>\n",
              "      <td>2</td>\n",
              "      <td>1</td>\n",
              "      <td>1</td>\n",
              "      <td>1</td>\n",
              "      <td>5</td>\n",
              "      <td>5</td>\n",
              "      <td>76</td>\n",
              "      <td>...</td>\n",
              "      <td>0</td>\n",
              "      <td>0</td>\n",
              "      <td>0</td>\n",
              "      <td>0</td>\n",
              "      <td>0</td>\n",
              "      <td>0</td>\n",
              "      <td>0</td>\n",
              "      <td>0</td>\n",
              "      <td>1</td>\n",
              "      <td>0</td>\n",
              "    </tr>\n",
              "  </tbody>\n",
              "</table>\n",
              "<p>3 rows × 30 columns</p>\n",
              "</div>"
            ],
            "text/plain": [
              "   age  education  default  balance  housing  loan  contact  day  month  \\\n",
              "0   58        2.0        0     2143        1     0        1    5      5   \n",
              "1   44        1.0        0       29        1     0        1    5      5   \n",
              "2   33        1.0        0        2        1     1        1    5      5   \n",
              "\n",
              "   duration  ...  job_retired  job_self-employed  job_services  job_student  \\\n",
              "0       261  ...            0                  0             0            0   \n",
              "1       151  ...            0                  0             0            0   \n",
              "2        76  ...            0                  0             0            0   \n",
              "\n",
              "   job_technician  job_unemployed  job_unknown  marital_divorced  \\\n",
              "0               0               0            0                 0   \n",
              "1               1               0            0                 0   \n",
              "2               0               0            0                 0   \n",
              "\n",
              "   marital_married  marital_single  \n",
              "0                1               0  \n",
              "1                0               1  \n",
              "2                1               0  \n",
              "\n",
              "[3 rows x 30 columns]"
            ]
          },
          "metadata": {
            "tags": []
          },
          "execution_count": 8
        }
      ]
    },
    {
      "cell_type": "markdown",
      "metadata": {
        "id": "0OJna5jacV5u"
      },
      "source": [
        "### Distribuição das classes"
      ]
    },
    {
      "cell_type": "code",
      "metadata": {
        "id": "uwDnojBJcV5u",
        "outputId": "638ea5ad-d243-49ea-a3f1-c1f26a9038ef"
      },
      "source": [
        "# distribuição das classes\n",
        "df.y.value_counts()"
      ],
      "execution_count": null,
      "outputs": [
        {
          "output_type": "execute_result",
          "data": {
            "text/plain": [
              "0    38317\n",
              "1     5037\n",
              "Name: y, dtype: int64"
            ]
          },
          "metadata": {
            "tags": []
          },
          "execution_count": 9
        }
      ]
    },
    {
      "cell_type": "code",
      "metadata": {
        "id": "rptIzg43cV50",
        "outputId": "b110028e-7c76-480f-fa49-3e221338cbd3"
      },
      "source": [
        "import seaborn as sns\n",
        "ax = sns.countplot(x=\"y\", data=df)"
      ],
      "execution_count": null,
      "outputs": [
        {
          "output_type": "display_data",
          "data": {
            "image/png": "[encoded data removed]",
            "text/plain": [
              "<Figure size 432x288 with 1 Axes>"
            ]
          },
          "metadata": {
            "tags": [],
            "needs_background": "light"
          }
        }
      ]
    },
    {
      "cell_type": "markdown",
      "metadata": {
        "id": "xXJukuqpcV56"
      },
      "source": [
        "### Classificação"
      ]
    },
    {
      "cell_type": "markdown",
      "metadata": {
        "id": "em3qBC-xcV56"
      },
      "source": [
        "**Instanciando um classificador**"
      ]
    },
    {
      "cell_type": "code",
      "metadata": {
        "id": "coj3L0vMcV56"
      },
      "source": [
        "lr = LogisticRegression()"
      ],
      "execution_count": null,
      "outputs": []
    },
    {
      "cell_type": "markdown",
      "metadata": {
        "id": "CEtv4oIDcV5-"
      },
      "source": [
        "**Separando features e classes**"
      ]
    },
    {
      "cell_type": "code",
      "metadata": {
        "id": "h8nDk8zwcV5_"
      },
      "source": [
        "X = df.drop(\"y\", axis = 1)\n",
        "y = df.y"
      ],
      "execution_count": null,
      "outputs": []
    },
    {
      "cell_type": "markdown",
      "metadata": {
        "id": "TIqsXv_UcV6D"
      },
      "source": [
        "**Separando dados de treino e teste**"
      ]
    },
    {
      "cell_type": "code",
      "metadata": {
        "id": "dHnyLylGcV6D"
      },
      "source": [
        "X_train, X_test, y_train, y_test = train_test_split(X, y, random_state = 1, stratify=y)"
      ],
      "execution_count": null,
      "outputs": []
    },
    {
      "cell_type": "markdown",
      "metadata": {
        "id": "5HdIpK6PcV6G"
      },
      "source": [
        "**Treinando o algoritmo**"
      ]
    },
    {
      "cell_type": "code",
      "metadata": {
        "id": "aMfc5DC_cV6L",
        "outputId": "0e60a73e-9b04-4aa6-8712-bb6652e73247"
      },
      "source": [
        "lr.fit(X_train, y_train)"
      ],
      "execution_count": null,
      "outputs": [
        {
          "output_type": "stream",
          "text": [
            "/home/amador/anaconda3/lib/python3.7/site-packages/sklearn/linear_model/_logistic.py:764: ConvergenceWarning: lbfgs failed to converge (status=1):\n",
            "STOP: TOTAL NO. of ITERATIONS REACHED LIMIT.\n",
            "\n",
            "Increase the number of iterations (max_iter) or scale the data as shown in:\n",
            "    https://scikit-learn.org/stable/modules/preprocessing.html\n",
            "Please also refer to the documentation for alternative solver options:\n",
            "    https://scikit-learn.org/stable/modules/linear_model.html#logistic-regression\n",
            "  extra_warning_msg=_LOGISTIC_SOLVER_CONVERGENCE_MSG)\n"
          ],
          "name": "stderr"
        },
        {
          "output_type": "execute_result",
          "data": {
            "text/plain": [
              "LogisticRegression()"
            ]
          },
          "metadata": {
            "tags": []
          },
          "execution_count": 14
        }
      ]
    },
    {
      "cell_type": "markdown",
      "metadata": {
        "id": "ohodVDB4cV6O"
      },
      "source": [
        "**Predizendo resultados de teste**"
      ]
    },
    {
      "cell_type": "code",
      "metadata": {
        "id": "_dZ-JaRvcV6P"
      },
      "source": [
        "y_pred = lr.predict(X_test)"
      ],
      "execution_count": null,
      "outputs": []
    },
    {
      "cell_type": "markdown",
      "metadata": {
        "id": "eLdGHNc_cV6S"
      },
      "source": [
        "### Avaliação do Modelo"
      ]
    },
    {
      "cell_type": "markdown",
      "metadata": {
        "id": "luvNDC4icV6T"
      },
      "source": [
        "**Acurácia**"
      ]
    },
    {
      "cell_type": "code",
      "metadata": {
        "id": "PjPUn8FicV6U",
        "outputId": "392d2f13-3474-4bcd-dbad-a5afa45fa406"
      },
      "source": [
        "accuracy_score(y_test, y_pred)"
      ],
      "execution_count": null,
      "outputs": [
        {
          "output_type": "execute_result",
          "data": {
            "text/plain": [
              "0.8931635759756436"
            ]
          },
          "metadata": {
            "tags": []
          },
          "execution_count": 16
        }
      ]
    },
    {
      "cell_type": "markdown",
      "metadata": {
        "id": "uSbz348ccV6Z"
      },
      "source": [
        "**Relatório de classificação**\n",
        "\n",
        "Observação no recall"
      ]
    },
    {
      "cell_type": "code",
      "metadata": {
        "id": "2m0HjzZ8cV6Z",
        "outputId": "19d161e9-3a47-4a89-92a1-88766c84ed14"
      },
      "source": [
        "print (classification_report(y_test, y_pred))"
      ],
      "execution_count": null,
      "outputs": [
        {
          "output_type": "stream",
          "text": [
            "              precision    recall  f1-score   support\n",
            "\n",
            "           0       0.91      0.98      0.94      9580\n",
            "           1       0.61      0.22      0.33      1259\n",
            "\n",
            "    accuracy                           0.89     10839\n",
            "   macro avg       0.76      0.60      0.63     10839\n",
            "weighted avg       0.87      0.89      0.87     10839\n",
            "\n"
          ],
          "name": "stdout"
        }
      ]
    },
    {
      "cell_type": "markdown",
      "metadata": {
        "id": "VGoaQVWMcV6c"
      },
      "source": [
        "**Matriz de confusão**"
      ]
    },
    {
      "cell_type": "code",
      "metadata": {
        "id": "sCtV9No9cV6d",
        "outputId": "9df5112e-9d1d-4d4b-98f7-2b9944ffac8f"
      },
      "source": [
        "print (pd.crosstab(y_test, y_pred, rownames=['Real'], colnames=['Predito'], margins=True))"
      ],
      "execution_count": null,
      "outputs": [
        {
          "output_type": "stream",
          "text": [
            "Predito      0    1    All\n",
            "Real                      \n",
            "0         9399  181   9580\n",
            "1          977  282   1259\n",
            "All      10376  463  10839\n"
          ],
          "name": "stdout"
        }
      ]
    },
    {
      "cell_type": "markdown",
      "metadata": {
        "id": "Rinse074cV6g"
      },
      "source": [
        "Como falado na introdução, a acurácia mascara um pouco as classes desbalanceadas. Veja que seu percentual é bom, 89%., contudo a ver as demais métricas a exemplo do recall, consequentemente do F1, mostra quase 100% de acerto da classe 0 (zero) e apenas uma média de 20% a 30% da classe 1 (um)."
      ]
    },
    {
      "cell_type": "markdown",
      "metadata": {
        "id": "-8oLpOC2cV6g"
      },
      "source": [
        "# 3. Aplicação do NearMiss (Undersampling)"
      ]
    },
    {
      "cell_type": "markdown",
      "metadata": {
        "id": "BkpFAG3ncV6i"
      },
      "source": [
        "**Instanciando o NearMiss**"
      ]
    },
    {
      "cell_type": "code",
      "metadata": {
        "id": "bDowGmFycV6i"
      },
      "source": [
        "from imblearn.under_sampling import NearMiss\n",
        "nr = NearMiss()"
      ],
      "execution_count": null,
      "outputs": []
    },
    {
      "cell_type": "markdown",
      "metadata": {
        "id": "u7nUNdwxcV6l"
      },
      "source": [
        "**aplicando o nearmiss**"
      ]
    },
    {
      "cell_type": "code",
      "metadata": {
        "id": "Qs_99C0-cV6m"
      },
      "source": [
        "X, y = nr.fit_sample(X, y)"
      ],
      "execution_count": null,
      "outputs": []
    },
    {
      "cell_type": "markdown",
      "metadata": {
        "id": "Mpqdp-RHcV6q"
      },
      "source": [
        "**Checando a quantidade por classe**"
      ]
    },
    {
      "cell_type": "code",
      "metadata": {
        "id": "bDfJzPOGcV6q",
        "outputId": "22e12d66-63b5-43a9-cd75-30199855ac5d"
      },
      "source": [
        "y.value_counts()"
      ],
      "execution_count": null,
      "outputs": [
        {
          "output_type": "execute_result",
          "data": {
            "text/plain": [
              "1    5037\n",
              "0    5037\n",
              "Name: y, dtype: int64"
            ]
          },
          "metadata": {
            "tags": []
          },
          "execution_count": 21
        }
      ]
    },
    {
      "cell_type": "markdown",
      "metadata": {
        "id": "vbXOMMTQcV6u"
      },
      "source": [
        "**Checando a quantidade graficamente**"
      ]
    },
    {
      "cell_type": "code",
      "metadata": {
        "id": "1OwwYJcacV6v",
        "outputId": "d760ff69-3252-48ea-8c35-723635a87457"
      },
      "source": [
        "ax = sns.countplot(x=y)"
      ],
      "execution_count": null,
      "outputs": [
        {
          "output_type": "display_data",
          "data": {
            "image/png": "[encoded data removed]",
            "text/plain": [
              "<Figure size 432x288 with 1 Axes>"
            ]
          },
          "metadata": {
            "tags": [],
            "needs_background": "light"
          }
        }
      ]
    },
    {
      "cell_type": "markdown",
      "metadata": {
        "id": "0KlM2h8-cV6y"
      },
      "source": [
        "**Visualização dos tipos de cada coluna**"
      ]
    },
    {
      "cell_type": "code",
      "metadata": {
        "id": "03JE3D5ccV6y",
        "outputId": "b160d756-e269-4c28-866e-ad69eee6d673"
      },
      "source": [
        "X.info()"
      ],
      "execution_count": null,
      "outputs": [
        {
          "output_type": "stream",
          "text": [
            "<class 'pandas.core.frame.DataFrame'>\n",
            "RangeIndex: 10074 entries, 0 to 10073\n",
            "Data columns (total 29 columns):\n",
            " #   Column             Non-Null Count  Dtype  \n",
            "---  ------             --------------  -----  \n",
            " 0   age                10074 non-null  int64  \n",
            " 1   education          10074 non-null  float64\n",
            " 2   default            10074 non-null  int64  \n",
            " 3   balance            10074 non-null  int64  \n",
            " 4   housing            10074 non-null  int64  \n",
            " 5   loan               10074 non-null  int64  \n",
            " 6   contact            10074 non-null  int64  \n",
            " 7   day                10074 non-null  int64  \n",
            " 8   month              10074 non-null  int64  \n",
            " 9   duration           10074 non-null  int64  \n",
            " 10  campaign           10074 non-null  int64  \n",
            " 11  pdays              10074 non-null  int64  \n",
            " 12  previous           10074 non-null  int64  \n",
            " 13  poutcome           10074 non-null  int64  \n",
            " 14  job_admin.         10074 non-null  uint8  \n",
            " 15  job_blue-collar    10074 non-null  uint8  \n",
            " 16  job_entrepreneur   10074 non-null  uint8  \n",
            " 17  job_housemaid      10074 non-null  uint8  \n",
            " 18  job_management     10074 non-null  uint8  \n",
            " 19  job_retired        10074 non-null  uint8  \n",
            " 20  job_self-employed  10074 non-null  uint8  \n",
            " 21  job_services       10074 non-null  uint8  \n",
            " 22  job_student        10074 non-null  uint8  \n",
            " 23  job_technician     10074 non-null  uint8  \n",
            " 24  job_unemployed     10074 non-null  uint8  \n",
            " 25  job_unknown        10074 non-null  uint8  \n",
            " 26  marital_divorced   10074 non-null  uint8  \n",
            " 27  marital_married    10074 non-null  uint8  \n",
            " 28  marital_single     10074 non-null  uint8  \n",
            "dtypes: float64(1), int64(13), uint8(15)\n",
            "memory usage: 1.2 MB\n"
          ],
          "name": "stdout"
        }
      ]
    },
    {
      "cell_type": "markdown",
      "metadata": {
        "id": "SugjksmgcV61"
      },
      "source": [
        "**Dividindo os dados**"
      ]
    },
    {
      "cell_type": "code",
      "metadata": {
        "id": "okTUI4VDcV62"
      },
      "source": [
        "X_train, X_test, y_train, y_test = train_test_split(X, y, random_state = 1, stratify=y)"
      ],
      "execution_count": null,
      "outputs": []
    },
    {
      "cell_type": "markdown",
      "metadata": {
        "id": "ludX3wFUcV64"
      },
      "source": [
        "**Instanciando o classificador e treinando o algoritmo**"
      ]
    },
    {
      "cell_type": "code",
      "metadata": {
        "id": "k1bH9z-RcV64",
        "outputId": "0681e766-d7e8-4e33-e16f-84403b845af2"
      },
      "source": [
        "# instanciando o classificador\n",
        "lr = LogisticRegression()\n",
        "# treinando o algoritmo\n",
        "lr.fit(X_train, y_train)"
      ],
      "execution_count": null,
      "outputs": [
        {
          "output_type": "stream",
          "text": [
            "/home/amador/anaconda3/lib/python3.7/site-packages/sklearn/linear_model/_logistic.py:764: ConvergenceWarning: lbfgs failed to converge (status=1):\n",
            "STOP: TOTAL NO. of ITERATIONS REACHED LIMIT.\n",
            "\n",
            "Increase the number of iterations (max_iter) or scale the data as shown in:\n",
            "    https://scikit-learn.org/stable/modules/preprocessing.html\n",
            "Please also refer to the documentation for alternative solver options:\n",
            "    https://scikit-learn.org/stable/modules/linear_model.html#logistic-regression\n",
            "  extra_warning_msg=_LOGISTIC_SOLVER_CONVERGENCE_MSG)\n"
          ],
          "name": "stderr"
        },
        {
          "output_type": "execute_result",
          "data": {
            "text/plain": [
              "LogisticRegression()"
            ]
          },
          "metadata": {
            "tags": []
          },
          "execution_count": 25
        }
      ]
    },
    {
      "cell_type": "markdown",
      "metadata": {
        "id": "onXK-JAecV67"
      },
      "source": [
        "**Predizendo resultados de teste**"
      ]
    },
    {
      "cell_type": "code",
      "metadata": {
        "id": "2-BlcPdocV68"
      },
      "source": [
        "y_pred = lr.predict(X_test)"
      ],
      "execution_count": null,
      "outputs": []
    },
    {
      "cell_type": "markdown",
      "metadata": {
        "id": "CeChp539cV6-"
      },
      "source": [
        "**Checando a acurácia**"
      ]
    },
    {
      "cell_type": "code",
      "metadata": {
        "id": "bigcDAs6cV6_",
        "outputId": "ba384da2-9eee-4f26-908f-74f4fbd3cf34"
      },
      "source": [
        "accuracy_score(y_test, y_pred)"
      ],
      "execution_count": null,
      "outputs": [
        {
          "output_type": "execute_result",
          "data": {
            "text/plain": [
              "0.8717745136959111"
            ]
          },
          "metadata": {
            "tags": []
          },
          "execution_count": 27
        }
      ]
    },
    {
      "cell_type": "markdown",
      "metadata": {
        "id": "HA06evnqcV7C"
      },
      "source": [
        "**Métricas**\n",
        "\n",
        "Atenção no recall"
      ]
    },
    {
      "cell_type": "code",
      "metadata": {
        "id": "XZoa1_4ocV7D",
        "outputId": "80b2cbfb-3db0-44ea-9344-bdf1b66da0fa"
      },
      "source": [
        "print (classification_report(y_test, y_pred))"
      ],
      "execution_count": null,
      "outputs": [
        {
          "output_type": "stream",
          "text": [
            "              precision    recall  f1-score   support\n",
            "\n",
            "           0       0.85      0.90      0.87      1259\n",
            "           1       0.89      0.85      0.87      1260\n",
            "\n",
            "    accuracy                           0.87      2519\n",
            "   macro avg       0.87      0.87      0.87      2519\n",
            "weighted avg       0.87      0.87      0.87      2519\n",
            "\n"
          ],
          "name": "stdout"
        }
      ]
    },
    {
      "cell_type": "markdown",
      "metadata": {
        "id": "PYF44_WTcV7G"
      },
      "source": [
        "**Matriz de confusão**\n"
      ]
    },
    {
      "cell_type": "code",
      "metadata": {
        "scrolled": true,
        "id": "-OYnIN1ocV7G",
        "outputId": "b9a7d543-13ff-48ab-8d85-bc56c7a1cb5c"
      },
      "source": [
        "print (pd.crosstab(y_test, y_pred, rownames=['Real'], colnames=['Predito'], margins=True))"
      ],
      "execution_count": null,
      "outputs": [
        {
          "output_type": "stream",
          "text": [
            "Predito     0     1   All\n",
            "Real                     \n",
            "0        1128   131  1259\n",
            "1         192  1068  1260\n",
            "All      1320  1199  2519\n"
          ],
          "name": "stdout"
        }
      ]
    },
    {
      "cell_type": "markdown",
      "metadata": {
        "id": "_ZzB-gsJcV7J"
      },
      "source": [
        "Veja que, agora o modelo melhorou! Embora a acurácia tenha caido para 87%, as demais métricas nos mostram que já se aproximaram no acerto das classes 0 (zero) e 1 (um), numa proximidade de 85% a 90%."
      ]
    },
    {
      "cell_type": "markdown",
      "metadata": {
        "id": "xJOiVH4YcV7K"
      },
      "source": [
        "# 4. Aplicação do SMOTE (Oversampling)\n",
        "SMOTE (Synthetic Minority Over-sampling Technique)¶"
      ]
    },
    {
      "cell_type": "markdown",
      "metadata": {
        "id": "5QhDBddvcV7K"
      },
      "source": [
        "**Separando os dados**"
      ]
    },
    {
      "cell_type": "code",
      "metadata": {
        "id": "RdNNUOH1cV7K"
      },
      "source": [
        "X = df.drop(\"y\", axis = 1)\n",
        "y = df.y"
      ],
      "execution_count": null,
      "outputs": []
    },
    {
      "cell_type": "markdown",
      "metadata": {
        "id": "mqj_l-BlcV7M"
      },
      "source": [
        "**Visualizando os dados por classe**\n"
      ]
    },
    {
      "cell_type": "code",
      "metadata": {
        "id": "__-B6Q9acV7M",
        "outputId": "de0ca1a6-c098-4bb2-febe-ef58bc084e51"
      },
      "source": [
        "np.bincount(y)"
      ],
      "execution_count": null,
      "outputs": [
        {
          "output_type": "execute_result",
          "data": {
            "text/plain": [
              "array([38317,  5037])"
            ]
          },
          "metadata": {
            "tags": []
          },
          "execution_count": 31
        }
      ]
    },
    {
      "cell_type": "markdown",
      "metadata": {
        "id": "xSsamyCNcV7P"
      },
      "source": [
        "**Visualizando graficamente**"
      ]
    },
    {
      "cell_type": "code",
      "metadata": {
        "id": "C9yMaDKpcV7P",
        "outputId": "5190bb21-a542-4d16-a588-26caca8cc93d"
      },
      "source": [
        "ax = sns.countplot(x=y)"
      ],
      "execution_count": null,
      "outputs": [
        {
          "output_type": "display_data",
          "data": {
            "image/png": "[encoded data removed]",
            "text/plain": [
              "<Figure size 432x288 with 1 Axes>"
            ]
          },
          "metadata": {
            "tags": [],
            "needs_background": "light"
          }
        }
      ]
    },
    {
      "cell_type": "markdown",
      "metadata": {
        "id": "rCm21H2YcV7S"
      },
      "source": [
        "**Instanciando**\n",
        "\n",
        "Com sampling_strategy=0.5. 0.5 aumenta em 50% da minoritária em relação à classe majoritária.\n",
        "\n",
        "Sem esse parâmetro ele deixa igualitário."
      ]
    },
    {
      "cell_type": "code",
      "metadata": {
        "id": "yyukL891cV7S"
      },
      "source": [
        "smt = SMOTE(sampling_strategy=0.5)"
      ],
      "execution_count": null,
      "outputs": []
    },
    {
      "cell_type": "markdown",
      "metadata": {
        "id": "HVw0redNcV7V"
      },
      "source": [
        "**Aplicando o SMOTE**"
      ]
    },
    {
      "cell_type": "code",
      "metadata": {
        "id": "fL1KPnR1cV7W"
      },
      "source": [
        "X, y = smt.fit_sample(X, y)"
      ],
      "execution_count": null,
      "outputs": []
    },
    {
      "cell_type": "markdown",
      "metadata": {
        "id": "2jfSGekbcV7Y"
      },
      "source": [
        "**Nova distribuição**"
      ]
    },
    {
      "cell_type": "code",
      "metadata": {
        "id": "jXy-yY8KcV7Y",
        "outputId": "d15038ba-b6bb-4fa6-e2e0-4284f40ec093"
      },
      "source": [
        "np.bincount(y)"
      ],
      "execution_count": null,
      "outputs": [
        {
          "output_type": "execute_result",
          "data": {
            "text/plain": [
              "array([38317, 19158])"
            ]
          },
          "metadata": {
            "tags": []
          },
          "execution_count": 35
        }
      ]
    },
    {
      "cell_type": "markdown",
      "metadata": {
        "id": "dDgHT5kwcV7a"
      },
      "source": [
        "**Visualizando graficamente**"
      ]
    },
    {
      "cell_type": "code",
      "metadata": {
        "id": "80y8zvsecV7b",
        "outputId": "36acb4b4-22d7-4754-f958-392551abf886"
      },
      "source": [
        "ax = sns.countplot(x=y)"
      ],
      "execution_count": null,
      "outputs": [
        {
          "output_type": "display_data",
          "data": {
            "image/png": "[encoded data removed]",
            "text/plain": [
              "<Figure size 432x288 with 1 Axes>"
            ]
          },
          "metadata": {
            "tags": [],
            "needs_background": "light"
          }
        }
      ]
    },
    {
      "cell_type": "markdown",
      "metadata": {
        "id": "ryH5C09NcV7d"
      },
      "source": [
        "**Separando os dados**\n"
      ]
    },
    {
      "cell_type": "code",
      "metadata": {
        "id": "GehlKWBWcV7e"
      },
      "source": [
        "X_train, X_test, y_train, y_test = train_test_split(X, y, random_state = 1, stratify=y)"
      ],
      "execution_count": null,
      "outputs": []
    },
    {
      "cell_type": "markdown",
      "metadata": {
        "id": "qAcvsXL3cV7h"
      },
      "source": [
        "**Instanciando**"
      ]
    },
    {
      "cell_type": "code",
      "metadata": {
        "id": "Z_DP5KnycV7h",
        "outputId": "55149ab9-24fe-46fc-91e9-d2a50264071b"
      },
      "source": [
        "# instanciando o classificador\n",
        "lr = LogisticRegression()\n",
        "# treinando o algoritmo\n",
        "lr.fit(X_train, y_train)"
      ],
      "execution_count": null,
      "outputs": [
        {
          "output_type": "stream",
          "text": [
            "/home/amador/anaconda3/lib/python3.7/site-packages/sklearn/linear_model/_logistic.py:764: ConvergenceWarning: lbfgs failed to converge (status=1):\n",
            "STOP: TOTAL NO. of ITERATIONS REACHED LIMIT.\n",
            "\n",
            "Increase the number of iterations (max_iter) or scale the data as shown in:\n",
            "    https://scikit-learn.org/stable/modules/preprocessing.html\n",
            "Please also refer to the documentation for alternative solver options:\n",
            "    https://scikit-learn.org/stable/modules/linear_model.html#logistic-regression\n",
            "  extra_warning_msg=_LOGISTIC_SOLVER_CONVERGENCE_MSG)\n"
          ],
          "name": "stderr"
        },
        {
          "output_type": "execute_result",
          "data": {
            "text/plain": [
              "LogisticRegression()"
            ]
          },
          "metadata": {
            "tags": []
          },
          "execution_count": 38
        }
      ]
    },
    {
      "cell_type": "markdown",
      "metadata": {
        "id": "zU0WvBOVcV7i"
      },
      "source": [
        "**Predizendo com os valores de teste**"
      ]
    },
    {
      "cell_type": "code",
      "metadata": {
        "id": "q40aG41wcV7i"
      },
      "source": [
        "y_pred = lr.predict(X_test)"
      ],
      "execution_count": null,
      "outputs": []
    },
    {
      "cell_type": "markdown",
      "metadata": {
        "id": "xtUmt0h2cV7m"
      },
      "source": [
        "**Checando a acurácia**\n"
      ]
    },
    {
      "cell_type": "code",
      "metadata": {
        "id": "7pKntLThcV7m",
        "outputId": "fe18ad5c-acc7-4d92-b343-ea9a3226c735"
      },
      "source": [
        "accuracy_score(y_test, y_pred)"
      ],
      "execution_count": null,
      "outputs": [
        {
          "output_type": "execute_result",
          "data": {
            "text/plain": [
              "0.822047463289025"
            ]
          },
          "metadata": {
            "tags": []
          },
          "execution_count": 40
        }
      ]
    },
    {
      "cell_type": "markdown",
      "metadata": {
        "id": "gOknM6uHcV7q"
      },
      "source": [
        "**Métricas**\n",
        "\n",
        "Atenção no recall"
      ]
    },
    {
      "cell_type": "code",
      "metadata": {
        "id": "DIvAncrxcV7q",
        "outputId": "23059464-ecb0-45e8-fb76-a470903e83e9"
      },
      "source": [
        "print (classification_report(y_test, y_pred))"
      ],
      "execution_count": null,
      "outputs": [
        {
          "output_type": "stream",
          "text": [
            "              precision    recall  f1-score   support\n",
            "\n",
            "           0       0.84      0.91      0.87      9579\n",
            "           1       0.78      0.66      0.71      4790\n",
            "\n",
            "    accuracy                           0.82     14369\n",
            "   macro avg       0.81      0.78      0.79     14369\n",
            "weighted avg       0.82      0.82      0.82     14369\n",
            "\n"
          ],
          "name": "stdout"
        }
      ]
    },
    {
      "cell_type": "markdown",
      "metadata": {
        "id": "pMg_YbY5cV7t"
      },
      "source": [
        "**Matriz de confusão**"
      ]
    },
    {
      "cell_type": "code",
      "metadata": {
        "scrolled": true,
        "id": "WByXFKUscV7u",
        "outputId": "72759666-fe4d-4cf3-f13f-51527749849f"
      },
      "source": [
        "print (pd.crosstab(y_test, y_pred, rownames=['Real'], colnames=['Predito'], margins=True))"
      ],
      "execution_count": null,
      "outputs": [
        {
          "output_type": "stream",
          "text": [
            "Predito      0     1    All\n",
            "Real                       \n",
            "0         8672   907   9579\n",
            "1         1650  3140   4790\n",
            "All      10322  4047  14369\n"
          ],
          "name": "stdout"
        }
      ]
    },
    {
      "cell_type": "markdown",
      "metadata": {
        "id": "rMXfbKVRcV70"
      },
      "source": [
        "### Considerações Finais\n",
        "* Em relação ao *undersampling*, o *oversampling* se saiu pior. Isso é perceptível a partir da discrepância entre a acertabilidade em relação às classes, mas também pela acurácia que fico em 82% aproximadamente.\n",
        "\n",
        "* É **importante** deixar claro que nem sempre o undersampling funcionará melhor que o oversampling, as métricas servem exatamente pra que isso possa ser avaliado e, é **dever do cientista de dados** fazer essa avaliação.\n",
        "\n",
        "* É importante também fazer teste com *Engenharia de Features* para que se cubra mais possibilidade."
      ]
    },
    {
      "cell_type": "markdown",
      "metadata": {
        "id": "QlGzf-elg4la"
      },
      "source": [
        "# Obrigado!\n",
        "\n",
        "Obrigado por ter disponibilizado um pouco do seu tempo e atenção aqui. Espero que, de alguma forma, tenha sido útil para seu crescimento. Se houver qualquer dúvida ou sugestão, não hesite em entrar em contato no [LinkedIn](https://www.linkedin.com/in/daniel-sousa-amador) e verificar meus outros projetos no [GitHub](https://github.com/amadords).\n",
        "\n",
        "\n",
        "[![LinkedIn](https://img.shields.io/badge/LinkedIn-DanielSousaAmador-cyan.svg)](https://www.linkedin.com/in/daniel-sousa-amador)\n",
        "[![GitHub](https://img.shields.io/badge/GitHub-amadords-darkblue.svg)](https://github.com/amadords)\n",
        "[![Medium](https://img.shields.io/badge/Medium-DanielSousaAmador-white.svg)](https://daniel-s-amador.medium.com/)\n",
        "\n",
        "\n",
        "<center><img width=\"90%\" src=\"https://raw.githubusercontent.com/danielamador12/Portfolio/master/github.png\"></center>"
      ]
    }
  ]
}