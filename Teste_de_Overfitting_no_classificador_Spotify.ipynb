{
  "nbformat": 4,
  "nbformat_minor": 0,
  "metadata": {
    "kernelspec": {
      "display_name": "Python 3",
      "language": "python",
      "name": "python3"
    },
    "language_info": {
      "codemirror_mode": {
        "name": "ipython",
        "version": 3
      },
      "file_extension": ".py",
      "mimetype": "text/x-python",
      "name": "python",
      "nbconvert_exporter": "python",
      "pygments_lexer": "ipython3",
      "version": "3.7.6"
    },
    "colab": {
      "name": "Teste de Overfitting no classificador Spotify",
      "provenance": [],
      "collapsed_sections": [],
      "include_colab_link": true
    }
  },
  "cells": [
    {
      "cell_type": "markdown",
      "metadata": {
        "id": "view-in-github",
        "colab_type": "text"
      },
      "source": [
        "<a href=\"https://colab.research.google.com/github/danielamador12/Projetos-Publicos/blob/master/Teste_de_Overfitting_no_classificador_Spotify.ipynb\" target=\"_parent\"><img src=\"https://colab.research.google.com/assets/colab-badge.svg\" alt=\"Open In Colab\"/></a>"
      ]
    },
    {
      "cell_type": "markdown",
      "metadata": {
        "id": "-U2l6COvuwc5"
      },
      "source": [
        "# Teste de Overfitting no classificador Spotify\n",
        "---\n",
        "[![LinkedIn](https://img.shields.io/badge/LinkedIn-DanielSousaAmador-purple.svg)](https://www.linkedin.com/in/daniel-sousa-amador)\n",
        "[![GitHub](https://img.shields.io/badge/GitHub-danielamador12-darkblue.svg)](https://github.com/danielamador12)\n",
        "[![Medium](https://img.shields.io/badge/Medium-DanielSousaAmador-darkorange.svg)](https://medium.com/@daniel.s.amador)\n",
        "\n",
        "\n",
        "Overfitting é, de uma forma bem direta, um **sobreajuste** do modelo aos dados, ou seja, o modelo de Machine Learning aprende a classificar tanto os modelos de treino que começa a **sofrer para generalizar** os dados de teste. [Aqui](https://github.com/danielamador12/public-projects/blob/master/educacao-comparacao-decisiontree_randomforest.ipynb) você pode ver mais um exemplo de teste de overfitting.\n",
        "\n",
        "O Overfitting é **muito comum** e normalmente a primeira forma de se conseguir avaliar é, testando com os dados de teste e com os próprios dados de treino.\n",
        "\n",
        "Vale saber que overfitting é o exato **contraponto do underfitting**, que é o sobajuste, ou seja, quando o modelo fica fraco e não consegue nem explicar os dados de treino com alguma qualidade.\n",
        "\n",
        "Não é dificil imaginar que é nesse meio termo que está o nosso modelo utilizável.\n",
        "\n",
        "O overfitting é bem **mais comum que o underfitting**, mas vale o conhecimento sobre ambos.\n",
        "\n",
        "Veja a imagem abaixo:\n",
        "\n",
        "![over](https://experience.sap.com/wp-content/uploads/2018/02/illustrtaion-for-blog-06-700x300.jpg)\n",
        "\n",
        "\n",
        "Não é, talvez, a melhor imagem para tratar do assunto, mas creio que dá para você compreender.\n",
        "\n",
        "A figura **Fit** é aquela que consegue entender que há um padrão de dados e os consegue generalizar sem muita complexidade.\n",
        "\n",
        "A **Undeffiting** não consegue separar os dados de nenhuma forma, é quase um algoritmo *lazy* ou *naive*, contudo a  culpa não é do algoritmo, mas da base de dados fraca.\n",
        "\n",
        "**Overfitting** falar por si só, ele é muito complexo, por isso faz alguns \"malabarismos\" para classificar os dados.\n",
        "\n",
        "* Aparentemente, esse modelo é o melhor para se utilizar, não?! Afinal, o que queremos é que um modelo acerte os dados. Mas vamos entender o porquê isso não é útil.\n",
        "* Imagine que você tem dois grupos. Grupo **1.0** e grupo **2.0**; Se chegar um novo dado com um valor **1.0**, ele vai saber classificar como **1.0**, mas se chegar um valor **1.2**, por ele não saber generalizar, não vai saber onde colocar esse dados, por não ter aprendido a generalizar os dados, apenas trabalhar com os dados especificos.\n",
        "\n",
        "## Checklist\n",
        "1. Processos de Machine Learning\n",
        "2. Teste de Overfitting (Você pode ir direto para esse ponto)"
      ]
    },
    {
      "cell_type": "markdown",
      "metadata": {
        "id": "u4u7W3PZuwc6"
      },
      "source": [
        "# 1. Processos de Machine Learning"
      ]
    },
    {
      "cell_type": "markdown",
      "metadata": {
        "id": "w4-jbqcmuwc8"
      },
      "source": [
        "**Importando a biblioteca pandas**"
      ]
    },
    {
      "cell_type": "code",
      "metadata": {
        "id": "cISjdef7uwc-"
      },
      "source": [
        "import pandas as pd"
      ],
      "execution_count": null,
      "outputs": []
    },
    {
      "cell_type": "markdown",
      "metadata": {
        "id": "I5lSLT7GuwdH"
      },
      "source": [
        "**Carregando o dataset Spotify**"
      ]
    },
    {
      "cell_type": "code",
      "metadata": {
        "id": "9NahKykPuwdJ"
      },
      "source": [
        "dataset_spotify= pd.read_csv('/home/amador/dados/data.csv', sep=',')"
      ],
      "execution_count": null,
      "outputs": []
    },
    {
      "cell_type": "markdown",
      "metadata": {
        "id": "fXUTT5NvuwdO"
      },
      "source": [
        "**Separando os dados**"
      ]
    },
    {
      "cell_type": "code",
      "metadata": {
        "id": "_vrZQ6AKuwdP"
      },
      "source": [
        "classes = dataset_spotify['target']\n",
        "dataset_spotify.drop('target', axis=1, inplace=True)"
      ],
      "execution_count": null,
      "outputs": []
    },
    {
      "cell_type": "markdown",
      "metadata": {
        "id": "tHxphkq6uwdT"
      },
      "source": [
        "**Criando função pra remover coluna sempre que necessário**"
      ]
    },
    {
      "cell_type": "code",
      "metadata": {
        "id": "xeDDrCoUuwdV"
      },
      "source": [
        "def remove_features(lista_features):\n",
        "    for i in lista_features:\n",
        "        dataset_spotify.drop(i, axis=1, inplace=True)\n",
        "    return 'OK'"
      ],
      "execution_count": null,
      "outputs": []
    },
    {
      "cell_type": "markdown",
      "metadata": {
        "id": "4dOEu_xhuwdb"
      },
      "source": [
        "**Visualizando os dados**"
      ]
    },
    {
      "cell_type": "code",
      "metadata": {
        "id": "-ZVJWYNluwdb",
        "outputId": "bc240716-f9bd-4891-a2a7-ec704ab6f95a"
      },
      "source": [
        "dataset_spotify.head(3)"
      ],
      "execution_count": null,
      "outputs": [
        {
          "output_type": "execute_result",
          "data": {
            "text/html": [
              "<div>\n",
              "<style scoped>\n",
              "    .dataframe tbody tr th:only-of-type {\n",
              "        vertical-align: middle;\n",
              "    }\n",
              "\n",
              "    .dataframe tbody tr th {\n",
              "        vertical-align: top;\n",
              "    }\n",
              "\n",
              "    .dataframe thead th {\n",
              "        text-align: right;\n",
              "    }\n",
              "</style>\n",
              "<table border=\"1\" class=\"dataframe\">\n",
              "  <thead>\n",
              "    <tr style=\"text-align: right;\">\n",
              "      <th></th>\n",
              "      <th>id</th>\n",
              "      <th>acousticness</th>\n",
              "      <th>danceability</th>\n",
              "      <th>duration_ms</th>\n",
              "      <th>energy</th>\n",
              "      <th>instrumentalness</th>\n",
              "      <th>key</th>\n",
              "      <th>liveness</th>\n",
              "      <th>loudness</th>\n",
              "      <th>mode</th>\n",
              "      <th>speechiness</th>\n",
              "      <th>tempo</th>\n",
              "      <th>time_signature</th>\n",
              "      <th>valence</th>\n",
              "      <th>song_title</th>\n",
              "      <th>artist</th>\n",
              "    </tr>\n",
              "  </thead>\n",
              "  <tbody>\n",
              "    <tr>\n",
              "      <th>0</th>\n",
              "      <td>0</td>\n",
              "      <td>0.0102</td>\n",
              "      <td>0.833</td>\n",
              "      <td>204600</td>\n",
              "      <td>0.434</td>\n",
              "      <td>0.021900</td>\n",
              "      <td>2</td>\n",
              "      <td>0.165</td>\n",
              "      <td>-8.795</td>\n",
              "      <td>1</td>\n",
              "      <td>0.4310</td>\n",
              "      <td>150.062</td>\n",
              "      <td>4.0</td>\n",
              "      <td>0.286</td>\n",
              "      <td>Mask Off</td>\n",
              "      <td>Future</td>\n",
              "    </tr>\n",
              "    <tr>\n",
              "      <th>1</th>\n",
              "      <td>1</td>\n",
              "      <td>0.1990</td>\n",
              "      <td>0.743</td>\n",
              "      <td>326933</td>\n",
              "      <td>0.359</td>\n",
              "      <td>0.006110</td>\n",
              "      <td>1</td>\n",
              "      <td>0.137</td>\n",
              "      <td>-10.401</td>\n",
              "      <td>1</td>\n",
              "      <td>0.0794</td>\n",
              "      <td>160.083</td>\n",
              "      <td>4.0</td>\n",
              "      <td>0.588</td>\n",
              "      <td>Redbone</td>\n",
              "      <td>Childish Gambino</td>\n",
              "    </tr>\n",
              "    <tr>\n",
              "      <th>2</th>\n",
              "      <td>2</td>\n",
              "      <td>0.0344</td>\n",
              "      <td>0.838</td>\n",
              "      <td>185707</td>\n",
              "      <td>0.412</td>\n",
              "      <td>0.000234</td>\n",
              "      <td>2</td>\n",
              "      <td>0.159</td>\n",
              "      <td>-7.148</td>\n",
              "      <td>1</td>\n",
              "      <td>0.2890</td>\n",
              "      <td>75.044</td>\n",
              "      <td>4.0</td>\n",
              "      <td>0.173</td>\n",
              "      <td>Xanny Family</td>\n",
              "      <td>Future</td>\n",
              "    </tr>\n",
              "  </tbody>\n",
              "</table>\n",
              "</div>"
            ],
            "text/plain": [
              "   id  acousticness  danceability  duration_ms  energy  instrumentalness  key  \\\n",
              "0   0        0.0102         0.833       204600   0.434          0.021900    2   \n",
              "1   1        0.1990         0.743       326933   0.359          0.006110    1   \n",
              "2   2        0.0344         0.838       185707   0.412          0.000234    2   \n",
              "\n",
              "   liveness  loudness  mode  speechiness    tempo  time_signature  valence  \\\n",
              "0     0.165    -8.795     1       0.4310  150.062             4.0    0.286   \n",
              "1     0.137   -10.401     1       0.0794  160.083             4.0    0.588   \n",
              "2     0.159    -7.148     1       0.2890   75.044             4.0    0.173   \n",
              "\n",
              "     song_title            artist  \n",
              "0      Mask Off            Future  \n",
              "1       Redbone  Childish Gambino  \n",
              "2  Xanny Family            Future  "
            ]
          },
          "metadata": {
            "tags": []
          },
          "execution_count": 5
        }
      ]
    },
    {
      "cell_type": "markdown",
      "metadata": {
        "id": "L2ZtbpGtuwdi"
      },
      "source": [
        "**Removendo features não-representativas**"
      ]
    },
    {
      "cell_type": "code",
      "metadata": {
        "id": "v3UIKptwuwdj",
        "outputId": "0677294b-d2fc-47b9-90a4-9dee345422b8"
      },
      "source": [
        "remove_features(['id','song_title'])"
      ],
      "execution_count": null,
      "outputs": [
        {
          "output_type": "execute_result",
          "data": {
            "text/plain": [
              "'OK'"
            ]
          },
          "metadata": {
            "tags": []
          },
          "execution_count": 6
        }
      ]
    },
    {
      "cell_type": "markdown",
      "metadata": {
        "id": "KrpoYRT_uwdn"
      },
      "source": [
        "**Aplicando o get_dummies nos dados**"
      ]
    },
    {
      "cell_type": "code",
      "metadata": {
        "id": "1VMezAlquwdo"
      },
      "source": [
        "dataset_spotify=pd.get_dummies(dataset_spotify, columns=['artist'], prefix=['artist'])"
      ],
      "execution_count": null,
      "outputs": []
    },
    {
      "cell_type": "markdown",
      "metadata": {
        "id": "Xogb2IN5uwds"
      },
      "source": [
        "**Visualizando dados já com colunas removidas**"
      ]
    },
    {
      "cell_type": "code",
      "metadata": {
        "id": "LPwWm45wuwdt",
        "outputId": "c87419e6-7790-46bf-93c3-2ed2c0e708d3"
      },
      "source": [
        "dataset_spotify.head()"
      ],
      "execution_count": null,
      "outputs": [
        {
          "output_type": "execute_result",
          "data": {
            "text/html": [
              "<div>\n",
              "<style scoped>\n",
              "    .dataframe tbody tr th:only-of-type {\n",
              "        vertical-align: middle;\n",
              "    }\n",
              "\n",
              "    .dataframe tbody tr th {\n",
              "        vertical-align: top;\n",
              "    }\n",
              "\n",
              "    .dataframe thead th {\n",
              "        text-align: right;\n",
              "    }\n",
              "</style>\n",
              "<table border=\"1\" class=\"dataframe\">\n",
              "  <thead>\n",
              "    <tr style=\"text-align: right;\">\n",
              "      <th></th>\n",
              "      <th>acousticness</th>\n",
              "      <th>danceability</th>\n",
              "      <th>duration_ms</th>\n",
              "      <th>energy</th>\n",
              "      <th>instrumentalness</th>\n",
              "      <th>key</th>\n",
              "      <th>liveness</th>\n",
              "      <th>loudness</th>\n",
              "      <th>mode</th>\n",
              "      <th>speechiness</th>\n",
              "      <th>...</th>\n",
              "      <th>artist_alt-J</th>\n",
              "      <th>artist_deadmau5</th>\n",
              "      <th>artist_for KING &amp; COUNTRY</th>\n",
              "      <th>artist_one sonic society</th>\n",
              "      <th>artist_tUnE-yArDs</th>\n",
              "      <th>artist_tobyMac</th>\n",
              "      <th>artist_권나무 Kwon Tree</th>\n",
              "      <th>artist_도시총각 Dosichonggak</th>\n",
              "      <th>artist_카우칩스 The CowChips</th>\n",
              "      <th>artist_플랫핏 Flat Feet</th>\n",
              "    </tr>\n",
              "  </thead>\n",
              "  <tbody>\n",
              "    <tr>\n",
              "      <th>0</th>\n",
              "      <td>0.0102</td>\n",
              "      <td>0.833</td>\n",
              "      <td>204600</td>\n",
              "      <td>0.434</td>\n",
              "      <td>0.021900</td>\n",
              "      <td>2</td>\n",
              "      <td>0.1650</td>\n",
              "      <td>-8.795</td>\n",
              "      <td>1</td>\n",
              "      <td>0.4310</td>\n",
              "      <td>...</td>\n",
              "      <td>0</td>\n",
              "      <td>0</td>\n",
              "      <td>0</td>\n",
              "      <td>0</td>\n",
              "      <td>0</td>\n",
              "      <td>0</td>\n",
              "      <td>0</td>\n",
              "      <td>0</td>\n",
              "      <td>0</td>\n",
              "      <td>0</td>\n",
              "    </tr>\n",
              "    <tr>\n",
              "      <th>1</th>\n",
              "      <td>0.1990</td>\n",
              "      <td>0.743</td>\n",
              "      <td>326933</td>\n",
              "      <td>0.359</td>\n",
              "      <td>0.006110</td>\n",
              "      <td>1</td>\n",
              "      <td>0.1370</td>\n",
              "      <td>-10.401</td>\n",
              "      <td>1</td>\n",
              "      <td>0.0794</td>\n",
              "      <td>...</td>\n",
              "      <td>0</td>\n",
              "      <td>0</td>\n",
              "      <td>0</td>\n",
              "      <td>0</td>\n",
              "      <td>0</td>\n",
              "      <td>0</td>\n",
              "      <td>0</td>\n",
              "      <td>0</td>\n",
              "      <td>0</td>\n",
              "      <td>0</td>\n",
              "    </tr>\n",
              "    <tr>\n",
              "      <th>2</th>\n",
              "      <td>0.0344</td>\n",
              "      <td>0.838</td>\n",
              "      <td>185707</td>\n",
              "      <td>0.412</td>\n",
              "      <td>0.000234</td>\n",
              "      <td>2</td>\n",
              "      <td>0.1590</td>\n",
              "      <td>-7.148</td>\n",
              "      <td>1</td>\n",
              "      <td>0.2890</td>\n",
              "      <td>...</td>\n",
              "      <td>0</td>\n",
              "      <td>0</td>\n",
              "      <td>0</td>\n",
              "      <td>0</td>\n",
              "      <td>0</td>\n",
              "      <td>0</td>\n",
              "      <td>0</td>\n",
              "      <td>0</td>\n",
              "      <td>0</td>\n",
              "      <td>0</td>\n",
              "    </tr>\n",
              "    <tr>\n",
              "      <th>3</th>\n",
              "      <td>0.6040</td>\n",
              "      <td>0.494</td>\n",
              "      <td>199413</td>\n",
              "      <td>0.338</td>\n",
              "      <td>0.510000</td>\n",
              "      <td>5</td>\n",
              "      <td>0.0922</td>\n",
              "      <td>-15.236</td>\n",
              "      <td>1</td>\n",
              "      <td>0.0261</td>\n",
              "      <td>...</td>\n",
              "      <td>0</td>\n",
              "      <td>0</td>\n",
              "      <td>0</td>\n",
              "      <td>0</td>\n",
              "      <td>0</td>\n",
              "      <td>0</td>\n",
              "      <td>0</td>\n",
              "      <td>0</td>\n",
              "      <td>0</td>\n",
              "      <td>0</td>\n",
              "    </tr>\n",
              "    <tr>\n",
              "      <th>4</th>\n",
              "      <td>0.1800</td>\n",
              "      <td>0.678</td>\n",
              "      <td>392893</td>\n",
              "      <td>0.561</td>\n",
              "      <td>0.512000</td>\n",
              "      <td>5</td>\n",
              "      <td>0.4390</td>\n",
              "      <td>-11.648</td>\n",
              "      <td>0</td>\n",
              "      <td>0.0694</td>\n",
              "      <td>...</td>\n",
              "      <td>0</td>\n",
              "      <td>0</td>\n",
              "      <td>0</td>\n",
              "      <td>0</td>\n",
              "      <td>0</td>\n",
              "      <td>0</td>\n",
              "      <td>0</td>\n",
              "      <td>0</td>\n",
              "      <td>0</td>\n",
              "      <td>0</td>\n",
              "    </tr>\n",
              "  </tbody>\n",
              "</table>\n",
              "<p>5 rows × 1356 columns</p>\n",
              "</div>"
            ],
            "text/plain": [
              "   acousticness  danceability  duration_ms  energy  instrumentalness  key  \\\n",
              "0        0.0102         0.833       204600   0.434          0.021900    2   \n",
              "1        0.1990         0.743       326933   0.359          0.006110    1   \n",
              "2        0.0344         0.838       185707   0.412          0.000234    2   \n",
              "3        0.6040         0.494       199413   0.338          0.510000    5   \n",
              "4        0.1800         0.678       392893   0.561          0.512000    5   \n",
              "\n",
              "   liveness  loudness  mode  speechiness  ...  artist_alt-J  artist_deadmau5  \\\n",
              "0    0.1650    -8.795     1       0.4310  ...             0                0   \n",
              "1    0.1370   -10.401     1       0.0794  ...             0                0   \n",
              "2    0.1590    -7.148     1       0.2890  ...             0                0   \n",
              "3    0.0922   -15.236     1       0.0261  ...             0                0   \n",
              "4    0.4390   -11.648     0       0.0694  ...             0                0   \n",
              "\n",
              "   artist_for KING & COUNTRY  artist_one sonic society  artist_tUnE-yArDs  \\\n",
              "0                          0                         0                  0   \n",
              "1                          0                         0                  0   \n",
              "2                          0                         0                  0   \n",
              "3                          0                         0                  0   \n",
              "4                          0                         0                  0   \n",
              "\n",
              "   artist_tobyMac  artist_권나무 Kwon Tree  artist_도시총각 Dosichonggak  \\\n",
              "0               0                     0                         0   \n",
              "1               0                     0                         0   \n",
              "2               0                     0                         0   \n",
              "3               0                     0                         0   \n",
              "4               0                     0                         0   \n",
              "\n",
              "   artist_카우칩스 The CowChips  artist_플랫핏 Flat Feet  \n",
              "0                         0                     0  \n",
              "1                         0                     0  \n",
              "2                         0                     0  \n",
              "3                         0                     0  \n",
              "4                         0                     0  \n",
              "\n",
              "[5 rows x 1356 columns]"
            ]
          },
          "metadata": {
            "tags": []
          },
          "execution_count": 8
        }
      ]
    },
    {
      "cell_type": "markdown",
      "metadata": {
        "id": "4oF0jz7Huwdx"
      },
      "source": [
        "**Dividindo os dados em treino e teste em 80/20**"
      ]
    },
    {
      "cell_type": "code",
      "metadata": {
        "id": "kXw51EqMuwdy"
      },
      "source": [
        "from sklearn.model_selection import train_test_split\n",
        "X_train,X_test,y_train,y_test=train_test_split(dataset_spotify,classes,test_size=0.2,random_state=123)"
      ],
      "execution_count": null,
      "outputs": []
    },
    {
      "cell_type": "markdown",
      "metadata": {
        "id": "RQMfvd4juwd2"
      },
      "source": [
        "**Visualizando os dados de treino com as features**"
      ]
    },
    {
      "cell_type": "code",
      "metadata": {
        "id": "TKq-wHieuwd3",
        "outputId": "feab6d4e-83c5-4b8e-bc5e-f6b6156cb28e"
      },
      "source": [
        "X_train"
      ],
      "execution_count": null,
      "outputs": [
        {
          "output_type": "execute_result",
          "data": {
            "text/html": [
              "<div>\n",
              "<style scoped>\n",
              "    .dataframe tbody tr th:only-of-type {\n",
              "        vertical-align: middle;\n",
              "    }\n",
              "\n",
              "    .dataframe tbody tr th {\n",
              "        vertical-align: top;\n",
              "    }\n",
              "\n",
              "    .dataframe thead th {\n",
              "        text-align: right;\n",
              "    }\n",
              "</style>\n",
              "<table border=\"1\" class=\"dataframe\">\n",
              "  <thead>\n",
              "    <tr style=\"text-align: right;\">\n",
              "      <th></th>\n",
              "      <th>acousticness</th>\n",
              "      <th>danceability</th>\n",
              "      <th>duration_ms</th>\n",
              "      <th>energy</th>\n",
              "      <th>instrumentalness</th>\n",
              "      <th>key</th>\n",
              "      <th>liveness</th>\n",
              "      <th>loudness</th>\n",
              "      <th>mode</th>\n",
              "      <th>speechiness</th>\n",
              "      <th>...</th>\n",
              "      <th>artist_alt-J</th>\n",
              "      <th>artist_deadmau5</th>\n",
              "      <th>artist_for KING &amp; COUNTRY</th>\n",
              "      <th>artist_one sonic society</th>\n",
              "      <th>artist_tUnE-yArDs</th>\n",
              "      <th>artist_tobyMac</th>\n",
              "      <th>artist_권나무 Kwon Tree</th>\n",
              "      <th>artist_도시총각 Dosichonggak</th>\n",
              "      <th>artist_카우칩스 The CowChips</th>\n",
              "      <th>artist_플랫핏 Flat Feet</th>\n",
              "    </tr>\n",
              "  </thead>\n",
              "  <tbody>\n",
              "    <tr>\n",
              "      <th>1505</th>\n",
              "      <td>0.004770</td>\n",
              "      <td>0.585</td>\n",
              "      <td>214740</td>\n",
              "      <td>0.614</td>\n",
              "      <td>0.000155</td>\n",
              "      <td>10</td>\n",
              "      <td>0.0762</td>\n",
              "      <td>-5.594</td>\n",
              "      <td>0</td>\n",
              "      <td>0.0370</td>\n",
              "      <td>...</td>\n",
              "      <td>0</td>\n",
              "      <td>0</td>\n",
              "      <td>0</td>\n",
              "      <td>0</td>\n",
              "      <td>0</td>\n",
              "      <td>0</td>\n",
              "      <td>0</td>\n",
              "      <td>0</td>\n",
              "      <td>0</td>\n",
              "      <td>0</td>\n",
              "    </tr>\n",
              "    <tr>\n",
              "      <th>813</th>\n",
              "      <td>0.114000</td>\n",
              "      <td>0.665</td>\n",
              "      <td>216728</td>\n",
              "      <td>0.513</td>\n",
              "      <td>0.303000</td>\n",
              "      <td>0</td>\n",
              "      <td>0.1220</td>\n",
              "      <td>-7.314</td>\n",
              "      <td>1</td>\n",
              "      <td>0.3310</td>\n",
              "      <td>...</td>\n",
              "      <td>0</td>\n",
              "      <td>0</td>\n",
              "      <td>0</td>\n",
              "      <td>0</td>\n",
              "      <td>0</td>\n",
              "      <td>0</td>\n",
              "      <td>0</td>\n",
              "      <td>0</td>\n",
              "      <td>0</td>\n",
              "      <td>0</td>\n",
              "    </tr>\n",
              "    <tr>\n",
              "      <th>615</th>\n",
              "      <td>0.030200</td>\n",
              "      <td>0.798</td>\n",
              "      <td>216585</td>\n",
              "      <td>0.481</td>\n",
              "      <td>0.000000</td>\n",
              "      <td>7</td>\n",
              "      <td>0.1280</td>\n",
              "      <td>-10.488</td>\n",
              "      <td>1</td>\n",
              "      <td>0.3140</td>\n",
              "      <td>...</td>\n",
              "      <td>0</td>\n",
              "      <td>0</td>\n",
              "      <td>0</td>\n",
              "      <td>0</td>\n",
              "      <td>0</td>\n",
              "      <td>0</td>\n",
              "      <td>0</td>\n",
              "      <td>0</td>\n",
              "      <td>0</td>\n",
              "      <td>0</td>\n",
              "    </tr>\n",
              "    <tr>\n",
              "      <th>319</th>\n",
              "      <td>0.106000</td>\n",
              "      <td>0.912</td>\n",
              "      <td>194040</td>\n",
              "      <td>0.317</td>\n",
              "      <td>0.000208</td>\n",
              "      <td>6</td>\n",
              "      <td>0.0723</td>\n",
              "      <td>-12.719</td>\n",
              "      <td>0</td>\n",
              "      <td>0.0378</td>\n",
              "      <td>...</td>\n",
              "      <td>0</td>\n",
              "      <td>0</td>\n",
              "      <td>0</td>\n",
              "      <td>0</td>\n",
              "      <td>0</td>\n",
              "      <td>0</td>\n",
              "      <td>0</td>\n",
              "      <td>0</td>\n",
              "      <td>0</td>\n",
              "      <td>0</td>\n",
              "    </tr>\n",
              "    <tr>\n",
              "      <th>320</th>\n",
              "      <td>0.021100</td>\n",
              "      <td>0.697</td>\n",
              "      <td>236456</td>\n",
              "      <td>0.905</td>\n",
              "      <td>0.893000</td>\n",
              "      <td>6</td>\n",
              "      <td>0.1190</td>\n",
              "      <td>-7.787</td>\n",
              "      <td>0</td>\n",
              "      <td>0.0339</td>\n",
              "      <td>...</td>\n",
              "      <td>0</td>\n",
              "      <td>0</td>\n",
              "      <td>0</td>\n",
              "      <td>0</td>\n",
              "      <td>0</td>\n",
              "      <td>0</td>\n",
              "      <td>0</td>\n",
              "      <td>0</td>\n",
              "      <td>0</td>\n",
              "      <td>0</td>\n",
              "    </tr>\n",
              "    <tr>\n",
              "      <th>...</th>\n",
              "      <td>...</td>\n",
              "      <td>...</td>\n",
              "      <td>...</td>\n",
              "      <td>...</td>\n",
              "      <td>...</td>\n",
              "      <td>...</td>\n",
              "      <td>...</td>\n",
              "      <td>...</td>\n",
              "      <td>...</td>\n",
              "      <td>...</td>\n",
              "      <td>...</td>\n",
              "      <td>...</td>\n",
              "      <td>...</td>\n",
              "      <td>...</td>\n",
              "      <td>...</td>\n",
              "      <td>...</td>\n",
              "      <td>...</td>\n",
              "      <td>...</td>\n",
              "      <td>...</td>\n",
              "      <td>...</td>\n",
              "      <td>...</td>\n",
              "    </tr>\n",
              "    <tr>\n",
              "      <th>2012</th>\n",
              "      <td>0.001060</td>\n",
              "      <td>0.584</td>\n",
              "      <td>274404</td>\n",
              "      <td>0.932</td>\n",
              "      <td>0.002690</td>\n",
              "      <td>1</td>\n",
              "      <td>0.1290</td>\n",
              "      <td>-3.501</td>\n",
              "      <td>1</td>\n",
              "      <td>0.3330</td>\n",
              "      <td>...</td>\n",
              "      <td>0</td>\n",
              "      <td>0</td>\n",
              "      <td>0</td>\n",
              "      <td>0</td>\n",
              "      <td>0</td>\n",
              "      <td>0</td>\n",
              "      <td>0</td>\n",
              "      <td>0</td>\n",
              "      <td>0</td>\n",
              "      <td>0</td>\n",
              "    </tr>\n",
              "    <tr>\n",
              "      <th>1346</th>\n",
              "      <td>0.000021</td>\n",
              "      <td>0.535</td>\n",
              "      <td>203500</td>\n",
              "      <td>0.974</td>\n",
              "      <td>0.000149</td>\n",
              "      <td>10</td>\n",
              "      <td>0.2630</td>\n",
              "      <td>-3.566</td>\n",
              "      <td>0</td>\n",
              "      <td>0.1720</td>\n",
              "      <td>...</td>\n",
              "      <td>0</td>\n",
              "      <td>0</td>\n",
              "      <td>0</td>\n",
              "      <td>0</td>\n",
              "      <td>0</td>\n",
              "      <td>0</td>\n",
              "      <td>0</td>\n",
              "      <td>0</td>\n",
              "      <td>0</td>\n",
              "      <td>0</td>\n",
              "    </tr>\n",
              "    <tr>\n",
              "      <th>1406</th>\n",
              "      <td>0.503000</td>\n",
              "      <td>0.410</td>\n",
              "      <td>256333</td>\n",
              "      <td>0.648</td>\n",
              "      <td>0.000000</td>\n",
              "      <td>7</td>\n",
              "      <td>0.2190</td>\n",
              "      <td>-4.469</td>\n",
              "      <td>1</td>\n",
              "      <td>0.0362</td>\n",
              "      <td>...</td>\n",
              "      <td>0</td>\n",
              "      <td>0</td>\n",
              "      <td>0</td>\n",
              "      <td>0</td>\n",
              "      <td>0</td>\n",
              "      <td>0</td>\n",
              "      <td>0</td>\n",
              "      <td>0</td>\n",
              "      <td>0</td>\n",
              "      <td>0</td>\n",
              "    </tr>\n",
              "    <tr>\n",
              "      <th>1389</th>\n",
              "      <td>0.705000</td>\n",
              "      <td>0.894</td>\n",
              "      <td>222307</td>\n",
              "      <td>0.161</td>\n",
              "      <td>0.003300</td>\n",
              "      <td>4</td>\n",
              "      <td>0.3120</td>\n",
              "      <td>-14.311</td>\n",
              "      <td>1</td>\n",
              "      <td>0.0880</td>\n",
              "      <td>...</td>\n",
              "      <td>0</td>\n",
              "      <td>0</td>\n",
              "      <td>0</td>\n",
              "      <td>0</td>\n",
              "      <td>0</td>\n",
              "      <td>0</td>\n",
              "      <td>0</td>\n",
              "      <td>0</td>\n",
              "      <td>0</td>\n",
              "      <td>0</td>\n",
              "    </tr>\n",
              "    <tr>\n",
              "      <th>1534</th>\n",
              "      <td>0.623000</td>\n",
              "      <td>0.470</td>\n",
              "      <td>394920</td>\n",
              "      <td>0.156</td>\n",
              "      <td>0.187000</td>\n",
              "      <td>2</td>\n",
              "      <td>0.1040</td>\n",
              "      <td>-17.036</td>\n",
              "      <td>1</td>\n",
              "      <td>0.0399</td>\n",
              "      <td>...</td>\n",
              "      <td>0</td>\n",
              "      <td>0</td>\n",
              "      <td>0</td>\n",
              "      <td>0</td>\n",
              "      <td>0</td>\n",
              "      <td>0</td>\n",
              "      <td>0</td>\n",
              "      <td>0</td>\n",
              "      <td>0</td>\n",
              "      <td>0</td>\n",
              "    </tr>\n",
              "  </tbody>\n",
              "</table>\n",
              "<p>1613 rows × 1356 columns</p>\n",
              "</div>"
            ],
            "text/plain": [
              "      acousticness  danceability  duration_ms  energy  instrumentalness  key  \\\n",
              "1505      0.004770         0.585       214740   0.614          0.000155   10   \n",
              "813       0.114000         0.665       216728   0.513          0.303000    0   \n",
              "615       0.030200         0.798       216585   0.481          0.000000    7   \n",
              "319       0.106000         0.912       194040   0.317          0.000208    6   \n",
              "320       0.021100         0.697       236456   0.905          0.893000    6   \n",
              "...            ...           ...          ...     ...               ...  ...   \n",
              "2012      0.001060         0.584       274404   0.932          0.002690    1   \n",
              "1346      0.000021         0.535       203500   0.974          0.000149   10   \n",
              "1406      0.503000         0.410       256333   0.648          0.000000    7   \n",
              "1389      0.705000         0.894       222307   0.161          0.003300    4   \n",
              "1534      0.623000         0.470       394920   0.156          0.187000    2   \n",
              "\n",
              "      liveness  loudness  mode  speechiness  ...  artist_alt-J  \\\n",
              "1505    0.0762    -5.594     0       0.0370  ...             0   \n",
              "813     0.1220    -7.314     1       0.3310  ...             0   \n",
              "615     0.1280   -10.488     1       0.3140  ...             0   \n",
              "319     0.0723   -12.719     0       0.0378  ...             0   \n",
              "320     0.1190    -7.787     0       0.0339  ...             0   \n",
              "...        ...       ...   ...          ...  ...           ...   \n",
              "2012    0.1290    -3.501     1       0.3330  ...             0   \n",
              "1346    0.2630    -3.566     0       0.1720  ...             0   \n",
              "1406    0.2190    -4.469     1       0.0362  ...             0   \n",
              "1389    0.3120   -14.311     1       0.0880  ...             0   \n",
              "1534    0.1040   -17.036     1       0.0399  ...             0   \n",
              "\n",
              "      artist_deadmau5  artist_for KING & COUNTRY  artist_one sonic society  \\\n",
              "1505                0                          0                         0   \n",
              "813                 0                          0                         0   \n",
              "615                 0                          0                         0   \n",
              "319                 0                          0                         0   \n",
              "320                 0                          0                         0   \n",
              "...               ...                        ...                       ...   \n",
              "2012                0                          0                         0   \n",
              "1346                0                          0                         0   \n",
              "1406                0                          0                         0   \n",
              "1389                0                          0                         0   \n",
              "1534                0                          0                         0   \n",
              "\n",
              "      artist_tUnE-yArDs  artist_tobyMac  artist_권나무 Kwon Tree  \\\n",
              "1505                  0               0                     0   \n",
              "813                   0               0                     0   \n",
              "615                   0               0                     0   \n",
              "319                   0               0                     0   \n",
              "320                   0               0                     0   \n",
              "...                 ...             ...                   ...   \n",
              "2012                  0               0                     0   \n",
              "1346                  0               0                     0   \n",
              "1406                  0               0                     0   \n",
              "1389                  0               0                     0   \n",
              "1534                  0               0                     0   \n",
              "\n",
              "      artist_도시총각 Dosichonggak  artist_카우칩스 The CowChips  artist_플랫핏 Flat Feet  \n",
              "1505                         0                         0                     0  \n",
              "813                          0                         0                     0  \n",
              "615                          0                         0                     0  \n",
              "319                          0                         0                     0  \n",
              "320                          0                         0                     0  \n",
              "...                        ...                       ...                   ...  \n",
              "2012                         0                         0                     0  \n",
              "1346                         0                         0                     0  \n",
              "1406                         0                         0                     0  \n",
              "1389                         0                         0                     0  \n",
              "1534                         0                         0                     0  \n",
              "\n",
              "[1613 rows x 1356 columns]"
            ]
          },
          "metadata": {
            "tags": []
          },
          "execution_count": 10
        }
      ]
    },
    {
      "cell_type": "markdown",
      "metadata": {
        "id": "XQexCkGWuwd9"
      },
      "source": [
        "**Visualizando os dados de treino com a classe**"
      ]
    },
    {
      "cell_type": "code",
      "metadata": {
        "id": "Ma_J2ZV4uwd-",
        "outputId": "97cef8c7-37b7-4e42-c64c-13f430c169c2"
      },
      "source": [
        "y_train"
      ],
      "execution_count": null,
      "outputs": [
        {
          "output_type": "execute_result",
          "data": {
            "text/plain": [
              "1505    0\n",
              "813     1\n",
              "615     1\n",
              "319     1\n",
              "320     1\n",
              "       ..\n",
              "2012    0\n",
              "1346    0\n",
              "1406    0\n",
              "1389    0\n",
              "1534    0\n",
              "Name: target, Length: 1613, dtype: int64"
            ]
          },
          "metadata": {
            "tags": []
          },
          "execution_count": 11
        }
      ]
    },
    {
      "cell_type": "markdown",
      "metadata": {
        "id": "_czf5YjfuweB"
      },
      "source": [
        "**Visualizando os dados de teste com features**"
      ]
    },
    {
      "cell_type": "code",
      "metadata": {
        "id": "6iYz-kjSuweD",
        "outputId": "0626c9ef-b97a-43f6-e446-13583aaafe07"
      },
      "source": [
        "X_test"
      ],
      "execution_count": null,
      "outputs": [
        {
          "output_type": "execute_result",
          "data": {
            "text/html": [
              "<div>\n",
              "<style scoped>\n",
              "    .dataframe tbody tr th:only-of-type {\n",
              "        vertical-align: middle;\n",
              "    }\n",
              "\n",
              "    .dataframe tbody tr th {\n",
              "        vertical-align: top;\n",
              "    }\n",
              "\n",
              "    .dataframe thead th {\n",
              "        text-align: right;\n",
              "    }\n",
              "</style>\n",
              "<table border=\"1\" class=\"dataframe\">\n",
              "  <thead>\n",
              "    <tr style=\"text-align: right;\">\n",
              "      <th></th>\n",
              "      <th>acousticness</th>\n",
              "      <th>danceability</th>\n",
              "      <th>duration_ms</th>\n",
              "      <th>energy</th>\n",
              "      <th>instrumentalness</th>\n",
              "      <th>key</th>\n",
              "      <th>liveness</th>\n",
              "      <th>loudness</th>\n",
              "      <th>mode</th>\n",
              "      <th>speechiness</th>\n",
              "      <th>...</th>\n",
              "      <th>artist_alt-J</th>\n",
              "      <th>artist_deadmau5</th>\n",
              "      <th>artist_for KING &amp; COUNTRY</th>\n",
              "      <th>artist_one sonic society</th>\n",
              "      <th>artist_tUnE-yArDs</th>\n",
              "      <th>artist_tobyMac</th>\n",
              "      <th>artist_권나무 Kwon Tree</th>\n",
              "      <th>artist_도시총각 Dosichonggak</th>\n",
              "      <th>artist_카우칩스 The CowChips</th>\n",
              "      <th>artist_플랫핏 Flat Feet</th>\n",
              "    </tr>\n",
              "  </thead>\n",
              "  <tbody>\n",
              "    <tr>\n",
              "      <th>1423</th>\n",
              "      <td>0.00184</td>\n",
              "      <td>0.541</td>\n",
              "      <td>225427</td>\n",
              "      <td>0.609</td>\n",
              "      <td>0.000000</td>\n",
              "      <td>1</td>\n",
              "      <td>0.1790</td>\n",
              "      <td>-3.715</td>\n",
              "      <td>1</td>\n",
              "      <td>0.1270</td>\n",
              "      <td>...</td>\n",
              "      <td>0</td>\n",
              "      <td>0</td>\n",
              "      <td>0</td>\n",
              "      <td>0</td>\n",
              "      <td>0</td>\n",
              "      <td>0</td>\n",
              "      <td>0</td>\n",
              "      <td>0</td>\n",
              "      <td>0</td>\n",
              "      <td>0</td>\n",
              "    </tr>\n",
              "    <tr>\n",
              "      <th>356</th>\n",
              "      <td>0.00855</td>\n",
              "      <td>0.293</td>\n",
              "      <td>202160</td>\n",
              "      <td>0.792</td>\n",
              "      <td>0.011100</td>\n",
              "      <td>7</td>\n",
              "      <td>0.1330</td>\n",
              "      <td>-3.747</td>\n",
              "      <td>1</td>\n",
              "      <td>0.0363</td>\n",
              "      <td>...</td>\n",
              "      <td>0</td>\n",
              "      <td>0</td>\n",
              "      <td>0</td>\n",
              "      <td>0</td>\n",
              "      <td>0</td>\n",
              "      <td>0</td>\n",
              "      <td>0</td>\n",
              "      <td>0</td>\n",
              "      <td>0</td>\n",
              "      <td>0</td>\n",
              "    </tr>\n",
              "    <tr>\n",
              "      <th>854</th>\n",
              "      <td>0.93400</td>\n",
              "      <td>0.440</td>\n",
              "      <td>254360</td>\n",
              "      <td>0.433</td>\n",
              "      <td>0.811000</td>\n",
              "      <td>2</td>\n",
              "      <td>0.2730</td>\n",
              "      <td>-17.453</td>\n",
              "      <td>0</td>\n",
              "      <td>0.0412</td>\n",
              "      <td>...</td>\n",
              "      <td>0</td>\n",
              "      <td>0</td>\n",
              "      <td>0</td>\n",
              "      <td>0</td>\n",
              "      <td>0</td>\n",
              "      <td>0</td>\n",
              "      <td>0</td>\n",
              "      <td>0</td>\n",
              "      <td>0</td>\n",
              "      <td>0</td>\n",
              "    </tr>\n",
              "    <tr>\n",
              "      <th>1445</th>\n",
              "      <td>0.09870</td>\n",
              "      <td>0.443</td>\n",
              "      <td>210884</td>\n",
              "      <td>0.727</td>\n",
              "      <td>0.000009</td>\n",
              "      <td>0</td>\n",
              "      <td>0.1180</td>\n",
              "      <td>-5.171</td>\n",
              "      <td>0</td>\n",
              "      <td>0.0984</td>\n",
              "      <td>...</td>\n",
              "      <td>0</td>\n",
              "      <td>0</td>\n",
              "      <td>0</td>\n",
              "      <td>0</td>\n",
              "      <td>0</td>\n",
              "      <td>0</td>\n",
              "      <td>0</td>\n",
              "      <td>0</td>\n",
              "      <td>0</td>\n",
              "      <td>0</td>\n",
              "    </tr>\n",
              "    <tr>\n",
              "      <th>1647</th>\n",
              "      <td>0.00346</td>\n",
              "      <td>0.723</td>\n",
              "      <td>176561</td>\n",
              "      <td>0.809</td>\n",
              "      <td>0.001230</td>\n",
              "      <td>7</td>\n",
              "      <td>0.5650</td>\n",
              "      <td>-3.081</td>\n",
              "      <td>0</td>\n",
              "      <td>0.0625</td>\n",
              "      <td>...</td>\n",
              "      <td>0</td>\n",
              "      <td>0</td>\n",
              "      <td>0</td>\n",
              "      <td>0</td>\n",
              "      <td>0</td>\n",
              "      <td>0</td>\n",
              "      <td>0</td>\n",
              "      <td>0</td>\n",
              "      <td>0</td>\n",
              "      <td>0</td>\n",
              "    </tr>\n",
              "    <tr>\n",
              "      <th>...</th>\n",
              "      <td>...</td>\n",
              "      <td>...</td>\n",
              "      <td>...</td>\n",
              "      <td>...</td>\n",
              "      <td>...</td>\n",
              "      <td>...</td>\n",
              "      <td>...</td>\n",
              "      <td>...</td>\n",
              "      <td>...</td>\n",
              "      <td>...</td>\n",
              "      <td>...</td>\n",
              "      <td>...</td>\n",
              "      <td>...</td>\n",
              "      <td>...</td>\n",
              "      <td>...</td>\n",
              "      <td>...</td>\n",
              "      <td>...</td>\n",
              "      <td>...</td>\n",
              "      <td>...</td>\n",
              "      <td>...</td>\n",
              "      <td>...</td>\n",
              "    </tr>\n",
              "    <tr>\n",
              "      <th>156</th>\n",
              "      <td>0.00212</td>\n",
              "      <td>0.777</td>\n",
              "      <td>500550</td>\n",
              "      <td>0.739</td>\n",
              "      <td>0.868000</td>\n",
              "      <td>9</td>\n",
              "      <td>0.1090</td>\n",
              "      <td>-9.089</td>\n",
              "      <td>1</td>\n",
              "      <td>0.0390</td>\n",
              "      <td>...</td>\n",
              "      <td>0</td>\n",
              "      <td>0</td>\n",
              "      <td>0</td>\n",
              "      <td>0</td>\n",
              "      <td>0</td>\n",
              "      <td>0</td>\n",
              "      <td>0</td>\n",
              "      <td>0</td>\n",
              "      <td>0</td>\n",
              "      <td>0</td>\n",
              "    </tr>\n",
              "    <tr>\n",
              "      <th>883</th>\n",
              "      <td>0.19800</td>\n",
              "      <td>0.890</td>\n",
              "      <td>326318</td>\n",
              "      <td>0.520</td>\n",
              "      <td>0.273000</td>\n",
              "      <td>2</td>\n",
              "      <td>0.0638</td>\n",
              "      <td>-6.927</td>\n",
              "      <td>0</td>\n",
              "      <td>0.1870</td>\n",
              "      <td>...</td>\n",
              "      <td>0</td>\n",
              "      <td>0</td>\n",
              "      <td>0</td>\n",
              "      <td>0</td>\n",
              "      <td>0</td>\n",
              "      <td>0</td>\n",
              "      <td>0</td>\n",
              "      <td>0</td>\n",
              "      <td>0</td>\n",
              "      <td>0</td>\n",
              "    </tr>\n",
              "    <tr>\n",
              "      <th>853</th>\n",
              "      <td>0.27100</td>\n",
              "      <td>0.567</td>\n",
              "      <td>336800</td>\n",
              "      <td>0.851</td>\n",
              "      <td>0.000000</td>\n",
              "      <td>1</td>\n",
              "      <td>0.5690</td>\n",
              "      <td>-5.897</td>\n",
              "      <td>1</td>\n",
              "      <td>0.4840</td>\n",
              "      <td>...</td>\n",
              "      <td>0</td>\n",
              "      <td>0</td>\n",
              "      <td>0</td>\n",
              "      <td>0</td>\n",
              "      <td>0</td>\n",
              "      <td>0</td>\n",
              "      <td>0</td>\n",
              "      <td>0</td>\n",
              "      <td>0</td>\n",
              "      <td>0</td>\n",
              "    </tr>\n",
              "    <tr>\n",
              "      <th>903</th>\n",
              "      <td>0.02450</td>\n",
              "      <td>0.803</td>\n",
              "      <td>316373</td>\n",
              "      <td>0.427</td>\n",
              "      <td>0.405000</td>\n",
              "      <td>8</td>\n",
              "      <td>0.0953</td>\n",
              "      <td>-10.819</td>\n",
              "      <td>1</td>\n",
              "      <td>0.0509</td>\n",
              "      <td>...</td>\n",
              "      <td>0</td>\n",
              "      <td>0</td>\n",
              "      <td>0</td>\n",
              "      <td>0</td>\n",
              "      <td>0</td>\n",
              "      <td>0</td>\n",
              "      <td>0</td>\n",
              "      <td>0</td>\n",
              "      <td>0</td>\n",
              "      <td>0</td>\n",
              "    </tr>\n",
              "    <tr>\n",
              "      <th>890</th>\n",
              "      <td>0.03280</td>\n",
              "      <td>0.598</td>\n",
              "      <td>260400</td>\n",
              "      <td>0.657</td>\n",
              "      <td>0.000027</td>\n",
              "      <td>8</td>\n",
              "      <td>0.1720</td>\n",
              "      <td>-7.466</td>\n",
              "      <td>1</td>\n",
              "      <td>0.0386</td>\n",
              "      <td>...</td>\n",
              "      <td>0</td>\n",
              "      <td>0</td>\n",
              "      <td>0</td>\n",
              "      <td>0</td>\n",
              "      <td>0</td>\n",
              "      <td>0</td>\n",
              "      <td>0</td>\n",
              "      <td>0</td>\n",
              "      <td>0</td>\n",
              "      <td>0</td>\n",
              "    </tr>\n",
              "  </tbody>\n",
              "</table>\n",
              "<p>404 rows × 1356 columns</p>\n",
              "</div>"
            ],
            "text/plain": [
              "      acousticness  danceability  duration_ms  energy  instrumentalness  key  \\\n",
              "1423       0.00184         0.541       225427   0.609          0.000000    1   \n",
              "356        0.00855         0.293       202160   0.792          0.011100    7   \n",
              "854        0.93400         0.440       254360   0.433          0.811000    2   \n",
              "1445       0.09870         0.443       210884   0.727          0.000009    0   \n",
              "1647       0.00346         0.723       176561   0.809          0.001230    7   \n",
              "...            ...           ...          ...     ...               ...  ...   \n",
              "156        0.00212         0.777       500550   0.739          0.868000    9   \n",
              "883        0.19800         0.890       326318   0.520          0.273000    2   \n",
              "853        0.27100         0.567       336800   0.851          0.000000    1   \n",
              "903        0.02450         0.803       316373   0.427          0.405000    8   \n",
              "890        0.03280         0.598       260400   0.657          0.000027    8   \n",
              "\n",
              "      liveness  loudness  mode  speechiness  ...  artist_alt-J  \\\n",
              "1423    0.1790    -3.715     1       0.1270  ...             0   \n",
              "356     0.1330    -3.747     1       0.0363  ...             0   \n",
              "854     0.2730   -17.453     0       0.0412  ...             0   \n",
              "1445    0.1180    -5.171     0       0.0984  ...             0   \n",
              "1647    0.5650    -3.081     0       0.0625  ...             0   \n",
              "...        ...       ...   ...          ...  ...           ...   \n",
              "156     0.1090    -9.089     1       0.0390  ...             0   \n",
              "883     0.0638    -6.927     0       0.1870  ...             0   \n",
              "853     0.5690    -5.897     1       0.4840  ...             0   \n",
              "903     0.0953   -10.819     1       0.0509  ...             0   \n",
              "890     0.1720    -7.466     1       0.0386  ...             0   \n",
              "\n",
              "      artist_deadmau5  artist_for KING & COUNTRY  artist_one sonic society  \\\n",
              "1423                0                          0                         0   \n",
              "356                 0                          0                         0   \n",
              "854                 0                          0                         0   \n",
              "1445                0                          0                         0   \n",
              "1647                0                          0                         0   \n",
              "...               ...                        ...                       ...   \n",
              "156                 0                          0                         0   \n",
              "883                 0                          0                         0   \n",
              "853                 0                          0                         0   \n",
              "903                 0                          0                         0   \n",
              "890                 0                          0                         0   \n",
              "\n",
              "      artist_tUnE-yArDs  artist_tobyMac  artist_권나무 Kwon Tree  \\\n",
              "1423                  0               0                     0   \n",
              "356                   0               0                     0   \n",
              "854                   0               0                     0   \n",
              "1445                  0               0                     0   \n",
              "1647                  0               0                     0   \n",
              "...                 ...             ...                   ...   \n",
              "156                   0               0                     0   \n",
              "883                   0               0                     0   \n",
              "853                   0               0                     0   \n",
              "903                   0               0                     0   \n",
              "890                   0               0                     0   \n",
              "\n",
              "      artist_도시총각 Dosichonggak  artist_카우칩스 The CowChips  artist_플랫핏 Flat Feet  \n",
              "1423                         0                         0                     0  \n",
              "356                          0                         0                     0  \n",
              "854                          0                         0                     0  \n",
              "1445                         0                         0                     0  \n",
              "1647                         0                         0                     0  \n",
              "...                        ...                       ...                   ...  \n",
              "156                          0                         0                     0  \n",
              "883                          0                         0                     0  \n",
              "853                          0                         0                     0  \n",
              "903                          0                         0                     0  \n",
              "890                          0                         0                     0  \n",
              "\n",
              "[404 rows x 1356 columns]"
            ]
          },
          "metadata": {
            "tags": []
          },
          "execution_count": 12
        }
      ]
    },
    {
      "cell_type": "markdown",
      "metadata": {
        "id": "qP7jDlIkuweH"
      },
      "source": [
        "**Visualizando os dados de teste com a classe**"
      ]
    },
    {
      "cell_type": "code",
      "metadata": {
        "id": "yvyimC4xuweH",
        "outputId": "7f2b1e6b-5764-4fc9-84ea-fad49f5cd710"
      },
      "source": [
        "y_test"
      ],
      "execution_count": null,
      "outputs": [
        {
          "output_type": "execute_result",
          "data": {
            "text/plain": [
              "1423    0\n",
              "356     1\n",
              "854     1\n",
              "1445    0\n",
              "1647    0\n",
              "       ..\n",
              "156     1\n",
              "883     1\n",
              "853     1\n",
              "903     1\n",
              "890     1\n",
              "Name: target, Length: 404, dtype: int64"
            ]
          },
          "metadata": {
            "tags": []
          },
          "execution_count": 13
        }
      ]
    },
    {
      "cell_type": "markdown",
      "metadata": {
        "id": "Fw-vx1GjuweM"
      },
      "source": [
        "**Treinando o classificador clf com SVM**"
      ]
    },
    {
      "cell_type": "code",
      "metadata": {
        "id": "sX0HpYRUuweN",
        "outputId": "bc280f90-e6cc-46ba-e4e2-ddb540a6b379"
      },
      "source": [
        "# importação do algoritmo\n",
        "from sklearn import svm\n",
        "# instanciação do algoritmo\n",
        "clf = svm.SVC().fit(dataset_spotify,classes)\n",
        "# treinando o algoritmo\n",
        "clf.fit(X_train,y_train)"
      ],
      "execution_count": null,
      "outputs": [
        {
          "output_type": "execute_result",
          "data": {
            "text/plain": [
              "SVC()"
            ]
          },
          "metadata": {
            "tags": []
          },
          "execution_count": 14
        }
      ]
    },
    {
      "cell_type": "markdown",
      "metadata": {
        "id": "V6RhF24tuweQ"
      },
      "source": [
        "# 2. Teste de Overfitting"
      ]
    },
    {
      "cell_type": "markdown",
      "metadata": {
        "id": "YoGqCU0fuweQ"
      },
      "source": [
        "**Importando bibliotecas**"
      ]
    },
    {
      "cell_type": "code",
      "metadata": {
        "id": "yJs4ciu1uweS"
      },
      "source": [
        "from sklearn.metrics import accuracy_score\n",
        "from sklearn import metrics"
      ],
      "execution_count": null,
      "outputs": []
    },
    {
      "cell_type": "markdown",
      "metadata": {
        "id": "CT_Ca8iRuweW"
      },
      "source": [
        "**Predições de resultados com dados de teste**"
      ]
    },
    {
      "cell_type": "code",
      "metadata": {
        "id": "vLw9yo6VuweW"
      },
      "source": [
        "y_pred=clf.predict(X_test)"
      ],
      "execution_count": null,
      "outputs": []
    },
    {
      "cell_type": "markdown",
      "metadata": {
        "id": "smsFHaLvuweZ"
      },
      "source": [
        "**Imprimindo acurácia com predições e dados de teste**"
      ]
    },
    {
      "cell_type": "code",
      "metadata": {
        "id": "WrCd5SlNuweZ",
        "outputId": "88740cea-f8a4-4486-e9b9-a6d761cd5142"
      },
      "source": [
        "metrics.accuracy_score(y_test,y_pred)"
      ],
      "execution_count": null,
      "outputs": [
        {
          "output_type": "execute_result",
          "data": {
            "text/plain": [
              "0.5668316831683168"
            ]
          },
          "metadata": {
            "tags": []
          },
          "execution_count": 17
        }
      ]
    },
    {
      "cell_type": "markdown",
      "metadata": {
        "id": "FIBCGz-Tuwed"
      },
      "source": [
        "**Predições de resultados com dados de treino**"
      ]
    },
    {
      "cell_type": "code",
      "metadata": {
        "id": "1k2MIvfRuweg"
      },
      "source": [
        "y_pred2=clf.predict(X_train)"
      ],
      "execution_count": null,
      "outputs": []
    },
    {
      "cell_type": "markdown",
      "metadata": {
        "id": "RREfFA9ruwej"
      },
      "source": [
        "**Imprimindo acurácia com predições e dados de treino**"
      ]
    },
    {
      "cell_type": "code",
      "metadata": {
        "id": "1SvgW6Ucuwek",
        "outputId": "ea8cfbc8-1337-4086-c210-4fa24efc4389"
      },
      "source": [
        "metrics.accuracy_score(y_train,y_pred2)"
      ],
      "execution_count": null,
      "outputs": [
        {
          "output_type": "execute_result",
          "data": {
            "text/plain": [
              "0.5523868567885927"
            ]
          },
          "metadata": {
            "tags": []
          },
          "execution_count": 19
        }
      ]
    },
    {
      "cell_type": "markdown",
      "metadata": {
        "id": "4u-ziZ4Cuwen"
      },
      "source": [
        "### Houve Overfitting?\n",
        "\n",
        "Nesse caso, não. Veja que os **resultados foram bem próximos** (56% e 55%). \n",
        "\n",
        "Se, ao alterar os parâmetros, os dados de treino começarem a melhorar o percentual da acurácia e os de teste continuarem estagnados ou não forem subindo na mesma, ou quase na mesma proporção, o modelo estará começando a sofrer overfitting.\n",
        "\n",
        "O **Cientista de Dados** tem que observar e avaliar sempre!"
      ]
    },
    {
      "cell_type": "markdown",
      "metadata": {
        "id": "0o_F58XUu4M0"
      },
      "source": [
        "# Obrigado!\n",
        "\n",
        "Obrigado por ter disponibilizado um pouco do seu tempo e atenção aqui. Espero que, de alguma forma, tenha sido útil para seu crescimento. Se houver qualquer dúvida ou sugestão, não hesite em entrar em contato no [LinkedIn]((https://www.linkedin.com/in/daniel-sousa-amador)) e verificar meus outros projetos no [GitHub](https://github.com/danielamador12/Portfolio/blob/master/README.md).\n",
        "\n",
        "[![LinkedIn](https://img.shields.io/badge/LinkedIn-DanielSousaAmador-purple.svg)](https://www.linkedin.com/in/daniel-sousa-amador)\n",
        "[![GitHub](https://img.shields.io/badge/GitHub-danielamador12-darkblue.svg)](https://github.com/danielamador12)\n",
        "[![Medium](https://img.shields.io/badge/Medium-DanielSousaAmador-darkorange.svg)](https://medium.com/@daniel.s.amador)\n",
        "\n",
        "\n",
        "\n",
        "<center><img width=\"90%\" src=\"https://raw.githubusercontent.com/danielamador12/Portfolio/master/github.png\"></center>"
      ]
    }
  ]
}