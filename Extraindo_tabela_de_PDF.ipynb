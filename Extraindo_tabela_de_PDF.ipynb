{
  "nbformat": 4,
  "nbformat_minor": 0,
  "metadata": {
    "colab": {
      "name": "Extraindo tabela de PDF",
      "provenance": [],
      "collapsed_sections": [],
      "authorship_tag": "ABX9TyNWZbaooXW32jXhgzwzoaxC",
      "include_colab_link": true
    },
    "kernelspec": {
      "name": "python3",
      "display_name": "Python 3"
    }
  },
  "cells": [
    {
      "cell_type": "markdown",
      "metadata": {
        "id": "view-in-github",
        "colab_type": "text"
      },
      "source": [
        "<a href=\"https://colab.research.google.com/github/danielamador12/public-projects/blob/master/Extraindo_tabela_de_PDF.ipynb\" target=\"_parent\"><img src=\"https://colab.research.google.com/assets/colab-badge.svg\" alt=\"Open In Colab\"/></a>"
      ]
    },
    {
      "cell_type": "code",
      "metadata": {
        "id": "2uEqOqyPxbfs",
        "colab_type": "code",
        "colab": {
          "base_uri": "https://localhost:8080/",
          "height": 124
        },
        "outputId": "b0d30fd2-0914-4136-916d-7d9af9c064d2"
      },
      "source": [
        "from google.colab import drive\n",
        "drive.mount('/content/drive')"
      ],
      "execution_count": null,
      "outputs": [
        {
          "output_type": "stream",
          "text": [
            "Go to this URL in a browser: https://accounts.google.com/o/oauth2/auth?client_id=947318989803-6bn6qk8qdgf4n4g3pfee6491hc0brc4i.apps.googleusercontent.com&redirect_uri=urn%3aietf%3awg%3aoauth%3a2.0%3aoob&scope=email%20https%3a%2f%2fwww.googleapis.com%2fauth%2fdocs.test%20https%3a%2f%2fwww.googleapis.com%2fauth%2fdrive%20https%3a%2f%2fwww.googleapis.com%2fauth%2fdrive.photos.readonly%20https%3a%2f%2fwww.googleapis.com%2fauth%2fpeopleapi.readonly&response_type=code\n",
            "\n",
            "Enter your authorization code:\n",
            "··········\n",
            "Mounted at /content/drive\n"
          ],
          "name": "stdout"
        }
      ]
    },
    {
      "cell_type": "code",
      "metadata": {
        "id": "wOSPpf425AHj",
        "colab_type": "code",
        "colab": {
          "base_uri": "https://localhost:8080/",
          "height": 402
        },
        "outputId": "37e8ebfc-3fd7-4173-ecee-9c355c60a81a"
      },
      "source": [
        "!pip install pdfplumber"
      ],
      "execution_count": null,
      "outputs": [
        {
          "output_type": "stream",
          "text": [
            "Collecting pdfplumber\n",
            "  Downloading https://files.pythonhosted.org/packages/2c/06/eb883f00ea3d78a2f860c593645498c39120f763d30b099cc98c4392b312/pdfplumber-0.5.23.tar.gz\n",
            "Collecting pdfminer.six==20200517\n",
            "\u001b[?25l  Downloading https://files.pythonhosted.org/packages/b0/c0/ef1c8758bbd86edb10b5443700aac97d0ba27a9ca2e7696db8cd1fdbd5a8/pdfminer.six-20200517-py3-none-any.whl (5.6MB)\n",
            "\u001b[K     |████████████████████████████████| 5.6MB 5.3MB/s \n",
            "\u001b[?25hRequirement already satisfied: Pillow>=7.0.0 in /usr/local/lib/python3.6/dist-packages (from pdfplumber) (7.0.0)\n",
            "Collecting Wand\n",
            "\u001b[?25l  Downloading https://files.pythonhosted.org/packages/82/e4/d00cdc270cad06a2dd2d3095ffe0f6541d69104db504c4e94de805e3c6e0/Wand-0.6.2-py2.py3-none-any.whl (130kB)\n",
            "\u001b[K     |████████████████████████████████| 133kB 40.5MB/s \n",
            "\u001b[?25hRequirement already satisfied: sortedcontainers in /usr/local/lib/python3.6/dist-packages (from pdfminer.six==20200517->pdfplumber) (2.2.2)\n",
            "Requirement already satisfied: chardet; python_version > \"3.0\" in /usr/local/lib/python3.6/dist-packages (from pdfminer.six==20200517->pdfplumber) (3.0.4)\n",
            "Collecting pycryptodome\n",
            "\u001b[?25l  Downloading https://files.pythonhosted.org/packages/17/55/17fa0b55849dc135f7bc400993a9206bf06d1b5d9520b0bc8d47c57aaef5/pycryptodome-3.9.8-cp36-cp36m-manylinux1_x86_64.whl (13.7MB)\n",
            "\u001b[K     |████████████████████████████████| 13.7MB 302kB/s \n",
            "\u001b[?25hBuilding wheels for collected packages: pdfplumber\n",
            "  Building wheel for pdfplumber (setup.py) ... \u001b[?25l\u001b[?25hdone\n",
            "  Created wheel for pdfplumber: filename=pdfplumber-0.5.23-cp36-none-any.whl size=29176 sha256=3864efcb2e545758e6d56a60d0a50be64e0d50af367bfc167e355dbda045c74e\n",
            "  Stored in directory: /root/.cache/pip/wheels/f6/4d/ae/abb7b92fbed5d09a835c259f26d2a3223ea929a0ad6d322097\n",
            "Successfully built pdfplumber\n",
            "Installing collected packages: pycryptodome, pdfminer.six, Wand, pdfplumber\n",
            "Successfully installed Wand-0.6.2 pdfminer.six-20200517 pdfplumber-0.5.23 pycryptodome-3.9.8\n"
          ],
          "name": "stdout"
        }
      ]
    },
    {
      "cell_type": "code",
      "metadata": {
        "id": "fcPbZ_tC4ZlJ",
        "colab_type": "code",
        "colab": {}
      },
      "source": [
        "import pdfplumber\n",
        "from os import chdir, getcwd, listdir\n",
        "import pandas as pd\n",
        "from seaborn import catplot"
      ],
      "execution_count": 215,
      "outputs": []
    },
    {
      "cell_type": "code",
      "metadata": {
        "id": "5laXV5iX6J10",
        "colab_type": "code",
        "colab": {
          "base_uri": "https://localhost:8080/",
          "height": 36
        },
        "outputId": "d29c8cbe-311f-4815-9c97-3e17d60eeec7"
      },
      "source": [
        "getcwd()"
      ],
      "execution_count": null,
      "outputs": [
        {
          "output_type": "execute_result",
          "data": {
            "application/vnd.google.colaboratory.intrinsic+json": {
              "type": "string"
            },
            "text/plain": [
              "'/content'"
            ]
          },
          "metadata": {
            "tags": []
          },
          "execution_count": 12
        }
      ]
    },
    {
      "cell_type": "code",
      "metadata": {
        "id": "R57k0BE06RF2",
        "colab_type": "code",
        "colab": {}
      },
      "source": [
        "chdir('/content/drive/My Drive/Colab Notebooks/Sigmoidal/Python do Zero/Módulo 02 - Manipulando Arquivos')"
      ],
      "execution_count": null,
      "outputs": []
    },
    {
      "cell_type": "code",
      "metadata": {
        "id": "e6jtwF_G6fQI",
        "colab_type": "code",
        "colab": {
          "base_uri": "https://localhost:8080/",
          "height": 36
        },
        "outputId": "2f47fef4-1813-4227-b370-605055a108ea"
      },
      "source": [
        "getcwd()"
      ],
      "execution_count": null,
      "outputs": [
        {
          "output_type": "execute_result",
          "data": {
            "application/vnd.google.colaboratory.intrinsic+json": {
              "type": "string"
            },
            "text/plain": [
              "'/content/drive/My Drive/Colab Notebooks/Sigmoidal/Python do Zero/Módulo 02 - Manipulando Arquivos'"
            ]
          },
          "metadata": {
            "tags": []
          },
          "execution_count": 14
        }
      ]
    },
    {
      "cell_type": "code",
      "metadata": {
        "id": "YWSOXLBI6j8k",
        "colab_type": "code",
        "colab": {
          "base_uri": "https://localhost:8080/",
          "height": 225
        },
        "outputId": "46737660-03ae-43f3-8394-d0289a93e6a5"
      },
      "source": [
        "listdir()"
      ],
      "execution_count": null,
      "outputs": [
        {
          "output_type": "execute_result",
          "data": {
            "text/plain": [
              "['VALOR POR BAIRRO.pdf',\n",
              " 'modelo_de_relatorio.pdf',\n",
              " 'Google_Drive_e_Snippets_do_Colab.ipynb',\n",
              " 'relatorios',\n",
              " 'Sigmoidal - Inglês.pdf',\n",
              " 'Biblioteca OS',\n",
              " 'Booleanos e Operadores Lógicos',\n",
              " 'Manipulando Arquivos PDF',\n",
              " 'Strings',\n",
              " 'Relatórios da Empresa',\n",
              " 'pdf_fotos.pdf',\n",
              " 'Trabalhando com PDF.ipynb']"
            ]
          },
          "metadata": {
            "tags": []
          },
          "execution_count": 15
        }
      ]
    },
    {
      "cell_type": "code",
      "metadata": {
        "id": "Kr4DJGAV4-Yg",
        "colab_type": "code",
        "colab": {}
      },
      "source": [
        "relatorio=pdfplumber.open('VALOR POR BAIRRO.pdf')"
      ],
      "execution_count": null,
      "outputs": []
    },
    {
      "cell_type": "code",
      "metadata": {
        "id": "ev3HmHkq6ors",
        "colab_type": "code",
        "colab": {
          "base_uri": "https://localhost:8080/",
          "height": 34
        },
        "outputId": "17cdc9a5-7da4-4ec1-b3ae-3bf5cceab6dd"
      },
      "source": [
        "relatorio.pages"
      ],
      "execution_count": null,
      "outputs": [
        {
          "output_type": "execute_result",
          "data": {
            "text/plain": [
              "[<Page:1>]"
            ]
          },
          "metadata": {
            "tags": []
          },
          "execution_count": 52
        }
      ]
    },
    {
      "cell_type": "code",
      "metadata": {
        "id": "jSEtDBXs6uww",
        "colab_type": "code",
        "colab": {
          "base_uri": "https://localhost:8080/",
          "height": 69
        },
        "outputId": "4a914a9e-7a6b-463c-dd70-be92a3833401"
      },
      "source": [
        "relatorio.metadata"
      ],
      "execution_count": null,
      "outputs": [
        {
          "output_type": "execute_result",
          "data": {
            "text/plain": [
              "{'CreationDate': \"D:20200727165012-03'00'\",\n",
              " 'Creator': 'Writer',\n",
              " 'Producer': 'LibreOffice 6.4'}"
            ]
          },
          "metadata": {
            "tags": []
          },
          "execution_count": 53
        }
      ]
    },
    {
      "cell_type": "code",
      "metadata": {
        "id": "81HJEru4-pAW",
        "colab_type": "code",
        "colab": {}
      },
      "source": [
        "# instalar pacote pelo terminal\n",
        "# apt-get install libmagickwand-dev"
      ],
      "execution_count": null,
      "outputs": []
    },
    {
      "cell_type": "code",
      "metadata": {
        "id": "fOvZmkQS7Imp",
        "colab_type": "code",
        "colab": {}
      },
      "source": [
        "# extraindo tabela\n",
        "rel_extract=relatorio.pages[0].extract_tables(table_settings={})"
      ],
      "execution_count": null,
      "outputs": []
    },
    {
      "cell_type": "code",
      "metadata": {
        "id": "mJRVLEE1-Z-l",
        "colab_type": "code",
        "colab": {
          "base_uri": "https://localhost:8080/",
          "height": 781
        },
        "outputId": "dfb6bbeb-5518-4144-bc6d-cc3084ddf211"
      },
      "source": [
        "rel_extract."
      ],
      "execution_count": null,
      "outputs": [
        {
          "output_type": "execute_result",
          "data": {
            "text/plain": [
              "[[['', 'Bairro', 'Valor(R$)'],\n",
              "  ['0', 'NOVA BETANIA', '4520.25'],\n",
              "  ['1', 'CENTRO', '3248.53'],\n",
              "  ['2', 'SANTO ANTONIO', '3182.50'],\n",
              "  ['3', 'AEROPORTO', '3020.00'],\n",
              "  ['4', 'PAREDOES', '2525.50'],\n",
              "  ['5', 'BOA VISTA', '2164.25'],\n",
              "  ['6', 'ALTO DO SAO MANOEL', '2099.25'],\n",
              "  ['7', 'DOZE ANOS', '1968.25'],\n",
              "  ['8', 'BELO HORIZONTE', '1587.00'],\n",
              "  ['9', 'BARROCAS', '1434.75'],\n",
              "  ['10', 'BOM JARDIM', '1099.50'],\n",
              "  ['11', 'PLANALTO TREZE DE MAIO', '1093.25'],\n",
              "  ['12', 'ALTO DO SUMARE', '968.00'],\n",
              "  ['13', 'DIX SEPT ROSADO', '934.75'],\n",
              "  ['14', 'ALTO DA CONCEICAO', '872.75'],\n",
              "  ['15', 'ABOLICAO 1', '799.25'],\n",
              "  ['16', 'ABOLICAO 4', '778.00'],\n",
              "  ['17', 'LAGOA DO MATO', '577.75'],\n",
              "  ['18', 'RINCAO', '558.00'],\n",
              "  ['19', 'ABOLICAO 3', '548.00'],\n",
              "  ['20', 'BELA VISTA', '513.25'],\n",
              "  ['21', 'VINGT ROSADO', '512.00'],\n",
              "  ['22', 'ABOLICAO', '511.50'],\n",
              "  ['23', 'COSTA E SILVA', '451.00'],\n",
              "  ['24', 'ABOLICAO 2', '345.50'],\n",
              "  ['25', 'SANTA DELMIRA', '302.50'],\n",
              "  ['26', 'REDENCAO', '302.25'],\n",
              "  ['27', 'ILHA DE SANTA LUZIA', '249.25'],\n",
              "  ['28', 'PINTOS', '233.00'],\n",
              "  ['29', 'DOM JAIME CAMARA', '223.25'],\n",
              "  ['30', 'INOCOOP DO ALTO DE SAO MANOEL', '186.00'],\n",
              "  ['31', 'MARCIO MARINHO', '134.50'],\n",
              "  ['32', 'LIBERDADE', '121.50'],\n",
              "  ['33', 'ABOLICAO 5', '88.00'],\n",
              "  ['34', 'LESTE OESTE', '74.00'],\n",
              "  ['35', 'ALAMEDA DOS CAJUEIROS', '71.00'],\n",
              "  ['36', 'NOVA VIDA', '60.00'],\n",
              "  ['37', 'BR', '41.00'],\n",
              "  ['38', 'TRES VINTENS', '37.00'],\n",
              "  ['39', 'MONSENHOR AMERICO', '32.00'],\n",
              "  ['40', 'PEREIROS', '28.00'],\n",
              "  ['41', 'CIDADE NOVA', '27.00'],\n",
              "  ['42', 'POUSADA DOS TERMAS', '27.00']]]"
            ]
          },
          "metadata": {
            "tags": []
          },
          "execution_count": 57
        }
      ]
    },
    {
      "cell_type": "code",
      "metadata": {
        "id": "Z4AFtXMvBuyQ",
        "colab_type": "code",
        "colab": {
          "base_uri": "https://localhost:8080/",
          "height": 54
        },
        "outputId": "0ce690b5-6ced-4883-9cff-99e5f16a5b64"
      },
      "source": [
        "print(rel_extract)"
      ],
      "execution_count": null,
      "outputs": [
        {
          "output_type": "stream",
          "text": [
            "[[['', 'Bairro', 'Valor(R$)'], ['0', 'NOVA BETANIA', '4520.25'], ['1', 'CENTRO', '3248.53'], ['2', 'SANTO ANTONIO', '3182.50'], ['3', 'AEROPORTO', '3020.00'], ['4', 'PAREDOES', '2525.50'], ['5', 'BOA VISTA', '2164.25'], ['6', 'ALTO DO SAO MANOEL', '2099.25'], ['7', 'DOZE ANOS', '1968.25'], ['8', 'BELO HORIZONTE', '1587.00'], ['9', 'BARROCAS', '1434.75'], ['10', 'BOM JARDIM', '1099.50'], ['11', 'PLANALTO TREZE DE MAIO', '1093.25'], ['12', 'ALTO DO SUMARE', '968.00'], ['13', 'DIX SEPT ROSADO', '934.75'], ['14', 'ALTO DA CONCEICAO', '872.75'], ['15', 'ABOLICAO 1', '799.25'], ['16', 'ABOLICAO 4', '778.00'], ['17', 'LAGOA DO MATO', '577.75'], ['18', 'RINCAO', '558.00'], ['19', 'ABOLICAO 3', '548.00'], ['20', 'BELA VISTA', '513.25'], ['21', 'VINGT ROSADO', '512.00'], ['22', 'ABOLICAO', '511.50'], ['23', 'COSTA E SILVA', '451.00'], ['24', 'ABOLICAO 2', '345.50'], ['25', 'SANTA DELMIRA', '302.50'], ['26', 'REDENCAO', '302.25'], ['27', 'ILHA DE SANTA LUZIA', '249.25'], ['28', 'PINTOS', '233.00'], ['29', 'DOM JAIME CAMARA', '223.25'], ['30', 'INOCOOP DO ALTO DE SAO MANOEL', '186.00'], ['31', 'MARCIO MARINHO', '134.50'], ['32', 'LIBERDADE', '121.50'], ['33', 'ABOLICAO 5', '88.00'], ['34', 'LESTE OESTE', '74.00'], ['35', 'ALAMEDA DOS CAJUEIROS', '71.00'], ['36', 'NOVA VIDA', '60.00'], ['37', 'BR', '41.00'], ['38', 'TRES VINTENS', '37.00'], ['39', 'MONSENHOR AMERICO', '32.00'], ['40', 'PEREIROS', '28.00'], ['41', 'CIDADE NOVA', '27.00'], ['42', 'POUSADA DOS TERMAS', '27.00']]]\n"
          ],
          "name": "stdout"
        }
      ]
    },
    {
      "cell_type": "code",
      "metadata": {
        "id": "eupd_xlzBxhC",
        "colab_type": "code",
        "colab": {
          "base_uri": "https://localhost:8080/",
          "height": 34
        },
        "outputId": "32b66583-55f4-48e9-ca0e-13270b01f3de"
      },
      "source": [
        "rel_extract[0][0]"
      ],
      "execution_count": null,
      "outputs": [
        {
          "output_type": "execute_result",
          "data": {
            "text/plain": [
              "['', 'Bairro', 'Valor(R$)']"
            ]
          },
          "metadata": {
            "tags": []
          },
          "execution_count": 90
        }
      ]
    },
    {
      "cell_type": "code",
      "metadata": {
        "id": "cGM9G9x8HXhB",
        "colab_type": "code",
        "colab": {
          "base_uri": "https://localhost:8080/",
          "height": 34
        },
        "outputId": "6f6a0a4a-4f85-45f8-ab7e-09a275f9f866"
      },
      "source": [
        "type(rel_extract),type(rel_extract[0]),type(rel_extract[0][0])"
      ],
      "execution_count": null,
      "outputs": [
        {
          "output_type": "execute_result",
          "data": {
            "text/plain": [
              "(list, list, list)"
            ]
          },
          "metadata": {
            "tags": []
          },
          "execution_count": 112
        }
      ]
    },
    {
      "cell_type": "code",
      "metadata": {
        "id": "FJjh1-P7EqIZ",
        "colab_type": "code",
        "colab": {
          "base_uri": "https://localhost:8080/",
          "height": 36
        },
        "outputId": "c40157df-f95f-49be-a38d-280ff8ffc008"
      },
      "source": [
        "rel_extract[0][0][2]"
      ],
      "execution_count": null,
      "outputs": [
        {
          "output_type": "execute_result",
          "data": {
            "application/vnd.google.colaboratory.intrinsic+json": {
              "type": "string"
            },
            "text/plain": [
              "'Valor(R$)'"
            ]
          },
          "metadata": {
            "tags": []
          },
          "execution_count": 118
        }
      ]
    },
    {
      "cell_type": "code",
      "metadata": {
        "id": "gpMrohXKCbEV",
        "colab_type": "code",
        "colab": {}
      },
      "source": [
        "bairro=[]\n",
        "for i in range(44):\n",
        "  rel_extract[0][i]\n",
        "  bairro.append(rel_extract[0][i][1])\n",
        "valor=[]\n",
        "for i in range(44):\n",
        "  rel_extract[0][i]\n",
        "  valor.append(rel_extract[0][i][2])\n"
      ],
      "execution_count": null,
      "outputs": []
    },
    {
      "cell_type": "code",
      "metadata": {
        "id": "GmwpflB7Dbzm",
        "colab_type": "code",
        "colab": {
          "base_uri": "https://localhost:8080/",
          "height": 1000
        },
        "outputId": "26045466-bba8-4adf-bd27-da3c6952777e"
      },
      "source": [
        "df=DataFrame(valor,bairro)\n",
        "df"
      ],
      "execution_count": null,
      "outputs": [
        {
          "output_type": "execute_result",
          "data": {
            "text/html": [
              "<div>\n",
              "<style scoped>\n",
              "    .dataframe tbody tr th:only-of-type {\n",
              "        vertical-align: middle;\n",
              "    }\n",
              "\n",
              "    .dataframe tbody tr th {\n",
              "        vertical-align: top;\n",
              "    }\n",
              "\n",
              "    .dataframe thead th {\n",
              "        text-align: right;\n",
              "    }\n",
              "</style>\n",
              "<table border=\"1\" class=\"dataframe\">\n",
              "  <thead>\n",
              "    <tr style=\"text-align: right;\">\n",
              "      <th></th>\n",
              "      <th>0</th>\n",
              "    </tr>\n",
              "  </thead>\n",
              "  <tbody>\n",
              "    <tr>\n",
              "      <th>Bairro</th>\n",
              "      <td>Valor(R$)</td>\n",
              "    </tr>\n",
              "    <tr>\n",
              "      <th>NOVA BETANIA</th>\n",
              "      <td>4520.25</td>\n",
              "    </tr>\n",
              "    <tr>\n",
              "      <th>CENTRO</th>\n",
              "      <td>3248.53</td>\n",
              "    </tr>\n",
              "    <tr>\n",
              "      <th>SANTO ANTONIO</th>\n",
              "      <td>3182.50</td>\n",
              "    </tr>\n",
              "    <tr>\n",
              "      <th>AEROPORTO</th>\n",
              "      <td>3020.00</td>\n",
              "    </tr>\n",
              "    <tr>\n",
              "      <th>PAREDOES</th>\n",
              "      <td>2525.50</td>\n",
              "    </tr>\n",
              "    <tr>\n",
              "      <th>BOA VISTA</th>\n",
              "      <td>2164.25</td>\n",
              "    </tr>\n",
              "    <tr>\n",
              "      <th>ALTO DO SAO MANOEL</th>\n",
              "      <td>2099.25</td>\n",
              "    </tr>\n",
              "    <tr>\n",
              "      <th>DOZE ANOS</th>\n",
              "      <td>1968.25</td>\n",
              "    </tr>\n",
              "    <tr>\n",
              "      <th>BELO HORIZONTE</th>\n",
              "      <td>1587.00</td>\n",
              "    </tr>\n",
              "    <tr>\n",
              "      <th>BARROCAS</th>\n",
              "      <td>1434.75</td>\n",
              "    </tr>\n",
              "    <tr>\n",
              "      <th>BOM JARDIM</th>\n",
              "      <td>1099.50</td>\n",
              "    </tr>\n",
              "    <tr>\n",
              "      <th>PLANALTO TREZE DE MAIO</th>\n",
              "      <td>1093.25</td>\n",
              "    </tr>\n",
              "    <tr>\n",
              "      <th>ALTO DO SUMARE</th>\n",
              "      <td>968.00</td>\n",
              "    </tr>\n",
              "    <tr>\n",
              "      <th>DIX SEPT ROSADO</th>\n",
              "      <td>934.75</td>\n",
              "    </tr>\n",
              "    <tr>\n",
              "      <th>ALTO DA CONCEICAO</th>\n",
              "      <td>872.75</td>\n",
              "    </tr>\n",
              "    <tr>\n",
              "      <th>ABOLICAO 1</th>\n",
              "      <td>799.25</td>\n",
              "    </tr>\n",
              "    <tr>\n",
              "      <th>ABOLICAO 4</th>\n",
              "      <td>778.00</td>\n",
              "    </tr>\n",
              "    <tr>\n",
              "      <th>LAGOA DO MATO</th>\n",
              "      <td>577.75</td>\n",
              "    </tr>\n",
              "    <tr>\n",
              "      <th>RINCAO</th>\n",
              "      <td>558.00</td>\n",
              "    </tr>\n",
              "    <tr>\n",
              "      <th>ABOLICAO 3</th>\n",
              "      <td>548.00</td>\n",
              "    </tr>\n",
              "    <tr>\n",
              "      <th>BELA VISTA</th>\n",
              "      <td>513.25</td>\n",
              "    </tr>\n",
              "    <tr>\n",
              "      <th>VINGT ROSADO</th>\n",
              "      <td>512.00</td>\n",
              "    </tr>\n",
              "    <tr>\n",
              "      <th>ABOLICAO</th>\n",
              "      <td>511.50</td>\n",
              "    </tr>\n",
              "    <tr>\n",
              "      <th>COSTA E SILVA</th>\n",
              "      <td>451.00</td>\n",
              "    </tr>\n",
              "    <tr>\n",
              "      <th>ABOLICAO 2</th>\n",
              "      <td>345.50</td>\n",
              "    </tr>\n",
              "    <tr>\n",
              "      <th>SANTA DELMIRA</th>\n",
              "      <td>302.50</td>\n",
              "    </tr>\n",
              "    <tr>\n",
              "      <th>REDENCAO</th>\n",
              "      <td>302.25</td>\n",
              "    </tr>\n",
              "    <tr>\n",
              "      <th>ILHA DE SANTA LUZIA</th>\n",
              "      <td>249.25</td>\n",
              "    </tr>\n",
              "    <tr>\n",
              "      <th>PINTOS</th>\n",
              "      <td>233.00</td>\n",
              "    </tr>\n",
              "    <tr>\n",
              "      <th>DOM JAIME CAMARA</th>\n",
              "      <td>223.25</td>\n",
              "    </tr>\n",
              "    <tr>\n",
              "      <th>INOCOOP DO ALTO DE SAO MANOEL</th>\n",
              "      <td>186.00</td>\n",
              "    </tr>\n",
              "    <tr>\n",
              "      <th>MARCIO MARINHO</th>\n",
              "      <td>134.50</td>\n",
              "    </tr>\n",
              "    <tr>\n",
              "      <th>LIBERDADE</th>\n",
              "      <td>121.50</td>\n",
              "    </tr>\n",
              "    <tr>\n",
              "      <th>ABOLICAO 5</th>\n",
              "      <td>88.00</td>\n",
              "    </tr>\n",
              "    <tr>\n",
              "      <th>LESTE OESTE</th>\n",
              "      <td>74.00</td>\n",
              "    </tr>\n",
              "    <tr>\n",
              "      <th>ALAMEDA DOS CAJUEIROS</th>\n",
              "      <td>71.00</td>\n",
              "    </tr>\n",
              "    <tr>\n",
              "      <th>NOVA VIDA</th>\n",
              "      <td>60.00</td>\n",
              "    </tr>\n",
              "    <tr>\n",
              "      <th>BR</th>\n",
              "      <td>41.00</td>\n",
              "    </tr>\n",
              "    <tr>\n",
              "      <th>TRES VINTENS</th>\n",
              "      <td>37.00</td>\n",
              "    </tr>\n",
              "    <tr>\n",
              "      <th>MONSENHOR AMERICO</th>\n",
              "      <td>32.00</td>\n",
              "    </tr>\n",
              "    <tr>\n",
              "      <th>PEREIROS</th>\n",
              "      <td>28.00</td>\n",
              "    </tr>\n",
              "    <tr>\n",
              "      <th>CIDADE NOVA</th>\n",
              "      <td>27.00</td>\n",
              "    </tr>\n",
              "    <tr>\n",
              "      <th>POUSADA DOS TERMAS</th>\n",
              "      <td>27.00</td>\n",
              "    </tr>\n",
              "  </tbody>\n",
              "</table>\n",
              "</div>"
            ],
            "text/plain": [
              "                                       0\n",
              "Bairro                         Valor(R$)\n",
              "NOVA BETANIA                     4520.25\n",
              "CENTRO                           3248.53\n",
              "SANTO ANTONIO                    3182.50\n",
              "AEROPORTO                        3020.00\n",
              "PAREDOES                         2525.50\n",
              "BOA VISTA                        2164.25\n",
              "ALTO DO SAO MANOEL               2099.25\n",
              "DOZE ANOS                        1968.25\n",
              "BELO HORIZONTE                   1587.00\n",
              "BARROCAS                         1434.75\n",
              "BOM JARDIM                       1099.50\n",
              "PLANALTO TREZE DE MAIO           1093.25\n",
              "ALTO DO SUMARE                    968.00\n",
              "DIX SEPT ROSADO                   934.75\n",
              "ALTO DA CONCEICAO                 872.75\n",
              "ABOLICAO 1                        799.25\n",
              "ABOLICAO 4                        778.00\n",
              "LAGOA DO MATO                     577.75\n",
              "RINCAO                            558.00\n",
              "ABOLICAO 3                        548.00\n",
              "BELA VISTA                        513.25\n",
              "VINGT ROSADO                      512.00\n",
              "ABOLICAO                          511.50\n",
              "COSTA E SILVA                     451.00\n",
              "ABOLICAO 2                        345.50\n",
              "SANTA DELMIRA                     302.50\n",
              "REDENCAO                          302.25\n",
              "ILHA DE SANTA LUZIA               249.25\n",
              "PINTOS                            233.00\n",
              "DOM JAIME CAMARA                  223.25\n",
              "INOCOOP DO ALTO DE SAO MANOEL     186.00\n",
              "MARCIO MARINHO                    134.50\n",
              "LIBERDADE                         121.50\n",
              "ABOLICAO 5                         88.00\n",
              "LESTE OESTE                        74.00\n",
              "ALAMEDA DOS CAJUEIROS              71.00\n",
              "NOVA VIDA                          60.00\n",
              "BR                                 41.00\n",
              "TRES VINTENS                       37.00\n",
              "MONSENHOR AMERICO                  32.00\n",
              "PEREIROS                           28.00\n",
              "CIDADE NOVA                        27.00\n",
              "POUSADA DOS TERMAS                 27.00"
            ]
          },
          "metadata": {
            "tags": []
          },
          "execution_count": 181
        }
      ]
    },
    {
      "cell_type": "code",
      "metadata": {
        "id": "PmqmYv3bLJqC",
        "colab_type": "code",
        "colab": {
          "base_uri": "https://localhost:8080/",
          "height": 1000
        },
        "outputId": "afd84b3a-8ba3-45ca-badb-9bf10760938f"
      },
      "source": [
        "df.reset_index(inplace=True)\n",
        "df"
      ],
      "execution_count": null,
      "outputs": [
        {
          "output_type": "execute_result",
          "data": {
            "text/html": [
              "<div>\n",
              "<style scoped>\n",
              "    .dataframe tbody tr th:only-of-type {\n",
              "        vertical-align: middle;\n",
              "    }\n",
              "\n",
              "    .dataframe tbody tr th {\n",
              "        vertical-align: top;\n",
              "    }\n",
              "\n",
              "    .dataframe thead th {\n",
              "        text-align: right;\n",
              "    }\n",
              "</style>\n",
              "<table border=\"1\" class=\"dataframe\">\n",
              "  <thead>\n",
              "    <tr style=\"text-align: right;\">\n",
              "      <th></th>\n",
              "      <th>index</th>\n",
              "      <th>0</th>\n",
              "    </tr>\n",
              "  </thead>\n",
              "  <tbody>\n",
              "    <tr>\n",
              "      <th>0</th>\n",
              "      <td>Bairro</td>\n",
              "      <td>Valor(R$)</td>\n",
              "    </tr>\n",
              "    <tr>\n",
              "      <th>1</th>\n",
              "      <td>NOVA BETANIA</td>\n",
              "      <td>4520.25</td>\n",
              "    </tr>\n",
              "    <tr>\n",
              "      <th>2</th>\n",
              "      <td>CENTRO</td>\n",
              "      <td>3248.53</td>\n",
              "    </tr>\n",
              "    <tr>\n",
              "      <th>3</th>\n",
              "      <td>SANTO ANTONIO</td>\n",
              "      <td>3182.50</td>\n",
              "    </tr>\n",
              "    <tr>\n",
              "      <th>4</th>\n",
              "      <td>AEROPORTO</td>\n",
              "      <td>3020.00</td>\n",
              "    </tr>\n",
              "    <tr>\n",
              "      <th>5</th>\n",
              "      <td>PAREDOES</td>\n",
              "      <td>2525.50</td>\n",
              "    </tr>\n",
              "    <tr>\n",
              "      <th>6</th>\n",
              "      <td>BOA VISTA</td>\n",
              "      <td>2164.25</td>\n",
              "    </tr>\n",
              "    <tr>\n",
              "      <th>7</th>\n",
              "      <td>ALTO DO SAO MANOEL</td>\n",
              "      <td>2099.25</td>\n",
              "    </tr>\n",
              "    <tr>\n",
              "      <th>8</th>\n",
              "      <td>DOZE ANOS</td>\n",
              "      <td>1968.25</td>\n",
              "    </tr>\n",
              "    <tr>\n",
              "      <th>9</th>\n",
              "      <td>BELO HORIZONTE</td>\n",
              "      <td>1587.00</td>\n",
              "    </tr>\n",
              "    <tr>\n",
              "      <th>10</th>\n",
              "      <td>BARROCAS</td>\n",
              "      <td>1434.75</td>\n",
              "    </tr>\n",
              "    <tr>\n",
              "      <th>11</th>\n",
              "      <td>BOM JARDIM</td>\n",
              "      <td>1099.50</td>\n",
              "    </tr>\n",
              "    <tr>\n",
              "      <th>12</th>\n",
              "      <td>PLANALTO TREZE DE MAIO</td>\n",
              "      <td>1093.25</td>\n",
              "    </tr>\n",
              "    <tr>\n",
              "      <th>13</th>\n",
              "      <td>ALTO DO SUMARE</td>\n",
              "      <td>968.00</td>\n",
              "    </tr>\n",
              "    <tr>\n",
              "      <th>14</th>\n",
              "      <td>DIX SEPT ROSADO</td>\n",
              "      <td>934.75</td>\n",
              "    </tr>\n",
              "    <tr>\n",
              "      <th>15</th>\n",
              "      <td>ALTO DA CONCEICAO</td>\n",
              "      <td>872.75</td>\n",
              "    </tr>\n",
              "    <tr>\n",
              "      <th>16</th>\n",
              "      <td>ABOLICAO 1</td>\n",
              "      <td>799.25</td>\n",
              "    </tr>\n",
              "    <tr>\n",
              "      <th>17</th>\n",
              "      <td>ABOLICAO 4</td>\n",
              "      <td>778.00</td>\n",
              "    </tr>\n",
              "    <tr>\n",
              "      <th>18</th>\n",
              "      <td>LAGOA DO MATO</td>\n",
              "      <td>577.75</td>\n",
              "    </tr>\n",
              "    <tr>\n",
              "      <th>19</th>\n",
              "      <td>RINCAO</td>\n",
              "      <td>558.00</td>\n",
              "    </tr>\n",
              "    <tr>\n",
              "      <th>20</th>\n",
              "      <td>ABOLICAO 3</td>\n",
              "      <td>548.00</td>\n",
              "    </tr>\n",
              "    <tr>\n",
              "      <th>21</th>\n",
              "      <td>BELA VISTA</td>\n",
              "      <td>513.25</td>\n",
              "    </tr>\n",
              "    <tr>\n",
              "      <th>22</th>\n",
              "      <td>VINGT ROSADO</td>\n",
              "      <td>512.00</td>\n",
              "    </tr>\n",
              "    <tr>\n",
              "      <th>23</th>\n",
              "      <td>ABOLICAO</td>\n",
              "      <td>511.50</td>\n",
              "    </tr>\n",
              "    <tr>\n",
              "      <th>24</th>\n",
              "      <td>COSTA E SILVA</td>\n",
              "      <td>451.00</td>\n",
              "    </tr>\n",
              "    <tr>\n",
              "      <th>25</th>\n",
              "      <td>ABOLICAO 2</td>\n",
              "      <td>345.50</td>\n",
              "    </tr>\n",
              "    <tr>\n",
              "      <th>26</th>\n",
              "      <td>SANTA DELMIRA</td>\n",
              "      <td>302.50</td>\n",
              "    </tr>\n",
              "    <tr>\n",
              "      <th>27</th>\n",
              "      <td>REDENCAO</td>\n",
              "      <td>302.25</td>\n",
              "    </tr>\n",
              "    <tr>\n",
              "      <th>28</th>\n",
              "      <td>ILHA DE SANTA LUZIA</td>\n",
              "      <td>249.25</td>\n",
              "    </tr>\n",
              "    <tr>\n",
              "      <th>29</th>\n",
              "      <td>PINTOS</td>\n",
              "      <td>233.00</td>\n",
              "    </tr>\n",
              "    <tr>\n",
              "      <th>30</th>\n",
              "      <td>DOM JAIME CAMARA</td>\n",
              "      <td>223.25</td>\n",
              "    </tr>\n",
              "    <tr>\n",
              "      <th>31</th>\n",
              "      <td>INOCOOP DO ALTO DE SAO MANOEL</td>\n",
              "      <td>186.00</td>\n",
              "    </tr>\n",
              "    <tr>\n",
              "      <th>32</th>\n",
              "      <td>MARCIO MARINHO</td>\n",
              "      <td>134.50</td>\n",
              "    </tr>\n",
              "    <tr>\n",
              "      <th>33</th>\n",
              "      <td>LIBERDADE</td>\n",
              "      <td>121.50</td>\n",
              "    </tr>\n",
              "    <tr>\n",
              "      <th>34</th>\n",
              "      <td>ABOLICAO 5</td>\n",
              "      <td>88.00</td>\n",
              "    </tr>\n",
              "    <tr>\n",
              "      <th>35</th>\n",
              "      <td>LESTE OESTE</td>\n",
              "      <td>74.00</td>\n",
              "    </tr>\n",
              "    <tr>\n",
              "      <th>36</th>\n",
              "      <td>ALAMEDA DOS CAJUEIROS</td>\n",
              "      <td>71.00</td>\n",
              "    </tr>\n",
              "    <tr>\n",
              "      <th>37</th>\n",
              "      <td>NOVA VIDA</td>\n",
              "      <td>60.00</td>\n",
              "    </tr>\n",
              "    <tr>\n",
              "      <th>38</th>\n",
              "      <td>BR</td>\n",
              "      <td>41.00</td>\n",
              "    </tr>\n",
              "    <tr>\n",
              "      <th>39</th>\n",
              "      <td>TRES VINTENS</td>\n",
              "      <td>37.00</td>\n",
              "    </tr>\n",
              "    <tr>\n",
              "      <th>40</th>\n",
              "      <td>MONSENHOR AMERICO</td>\n",
              "      <td>32.00</td>\n",
              "    </tr>\n",
              "    <tr>\n",
              "      <th>41</th>\n",
              "      <td>PEREIROS</td>\n",
              "      <td>28.00</td>\n",
              "    </tr>\n",
              "    <tr>\n",
              "      <th>42</th>\n",
              "      <td>CIDADE NOVA</td>\n",
              "      <td>27.00</td>\n",
              "    </tr>\n",
              "    <tr>\n",
              "      <th>43</th>\n",
              "      <td>POUSADA DOS TERMAS</td>\n",
              "      <td>27.00</td>\n",
              "    </tr>\n",
              "  </tbody>\n",
              "</table>\n",
              "</div>"
            ],
            "text/plain": [
              "                            index          0\n",
              "0                          Bairro  Valor(R$)\n",
              "1                    NOVA BETANIA    4520.25\n",
              "2                          CENTRO    3248.53\n",
              "3                   SANTO ANTONIO    3182.50\n",
              "4                       AEROPORTO    3020.00\n",
              "5                        PAREDOES    2525.50\n",
              "6                       BOA VISTA    2164.25\n",
              "7              ALTO DO SAO MANOEL    2099.25\n",
              "8                       DOZE ANOS    1968.25\n",
              "9                  BELO HORIZONTE    1587.00\n",
              "10                       BARROCAS    1434.75\n",
              "11                     BOM JARDIM    1099.50\n",
              "12         PLANALTO TREZE DE MAIO    1093.25\n",
              "13                 ALTO DO SUMARE     968.00\n",
              "14                DIX SEPT ROSADO     934.75\n",
              "15              ALTO DA CONCEICAO     872.75\n",
              "16                     ABOLICAO 1     799.25\n",
              "17                     ABOLICAO 4     778.00\n",
              "18                  LAGOA DO MATO     577.75\n",
              "19                         RINCAO     558.00\n",
              "20                     ABOLICAO 3     548.00\n",
              "21                     BELA VISTA     513.25\n",
              "22                   VINGT ROSADO     512.00\n",
              "23                       ABOLICAO     511.50\n",
              "24                  COSTA E SILVA     451.00\n",
              "25                     ABOLICAO 2     345.50\n",
              "26                  SANTA DELMIRA     302.50\n",
              "27                       REDENCAO     302.25\n",
              "28            ILHA DE SANTA LUZIA     249.25\n",
              "29                         PINTOS     233.00\n",
              "30               DOM JAIME CAMARA     223.25\n",
              "31  INOCOOP DO ALTO DE SAO MANOEL     186.00\n",
              "32                 MARCIO MARINHO     134.50\n",
              "33                      LIBERDADE     121.50\n",
              "34                     ABOLICAO 5      88.00\n",
              "35                    LESTE OESTE      74.00\n",
              "36          ALAMEDA DOS CAJUEIROS      71.00\n",
              "37                      NOVA VIDA      60.00\n",
              "38                             BR      41.00\n",
              "39                   TRES VINTENS      37.00\n",
              "40              MONSENHOR AMERICO      32.00\n",
              "41                       PEREIROS      28.00\n",
              "42                    CIDADE NOVA      27.00\n",
              "43             POUSADA DOS TERMAS      27.00"
            ]
          },
          "metadata": {
            "tags": []
          },
          "execution_count": 182
        }
      ]
    },
    {
      "cell_type": "code",
      "metadata": {
        "id": "UkyPxmVuOUhZ",
        "colab_type": "code",
        "colab": {
          "base_uri": "https://localhost:8080/",
          "height": 34
        },
        "outputId": "f5107b71-ea71-480d-9665-c2b4ca83dbf9"
      },
      "source": [
        "df.index"
      ],
      "execution_count": null,
      "outputs": [
        {
          "output_type": "execute_result",
          "data": {
            "text/plain": [
              "RangeIndex(start=0, stop=44, step=1)"
            ]
          },
          "metadata": {
            "tags": []
          },
          "execution_count": 183
        }
      ]
    },
    {
      "cell_type": "code",
      "metadata": {
        "id": "-1z-XCvPNu-8",
        "colab_type": "code",
        "colab": {
          "base_uri": "https://localhost:8080/",
          "height": 1000
        },
        "outputId": "2977c65f-6ac4-4185-aa45-6540acc02c18"
      },
      "source": [
        "df.drop(0,axis=0,inplace=True)\n",
        "df"
      ],
      "execution_count": null,
      "outputs": [
        {
          "output_type": "execute_result",
          "data": {
            "text/html": [
              "<div>\n",
              "<style scoped>\n",
              "    .dataframe tbody tr th:only-of-type {\n",
              "        vertical-align: middle;\n",
              "    }\n",
              "\n",
              "    .dataframe tbody tr th {\n",
              "        vertical-align: top;\n",
              "    }\n",
              "\n",
              "    .dataframe thead th {\n",
              "        text-align: right;\n",
              "    }\n",
              "</style>\n",
              "<table border=\"1\" class=\"dataframe\">\n",
              "  <thead>\n",
              "    <tr style=\"text-align: right;\">\n",
              "      <th></th>\n",
              "      <th>index</th>\n",
              "      <th>0</th>\n",
              "    </tr>\n",
              "  </thead>\n",
              "  <tbody>\n",
              "    <tr>\n",
              "      <th>1</th>\n",
              "      <td>NOVA BETANIA</td>\n",
              "      <td>4520.25</td>\n",
              "    </tr>\n",
              "    <tr>\n",
              "      <th>2</th>\n",
              "      <td>CENTRO</td>\n",
              "      <td>3248.53</td>\n",
              "    </tr>\n",
              "    <tr>\n",
              "      <th>3</th>\n",
              "      <td>SANTO ANTONIO</td>\n",
              "      <td>3182.50</td>\n",
              "    </tr>\n",
              "    <tr>\n",
              "      <th>4</th>\n",
              "      <td>AEROPORTO</td>\n",
              "      <td>3020.00</td>\n",
              "    </tr>\n",
              "    <tr>\n",
              "      <th>5</th>\n",
              "      <td>PAREDOES</td>\n",
              "      <td>2525.50</td>\n",
              "    </tr>\n",
              "    <tr>\n",
              "      <th>6</th>\n",
              "      <td>BOA VISTA</td>\n",
              "      <td>2164.25</td>\n",
              "    </tr>\n",
              "    <tr>\n",
              "      <th>7</th>\n",
              "      <td>ALTO DO SAO MANOEL</td>\n",
              "      <td>2099.25</td>\n",
              "    </tr>\n",
              "    <tr>\n",
              "      <th>8</th>\n",
              "      <td>DOZE ANOS</td>\n",
              "      <td>1968.25</td>\n",
              "    </tr>\n",
              "    <tr>\n",
              "      <th>9</th>\n",
              "      <td>BELO HORIZONTE</td>\n",
              "      <td>1587.00</td>\n",
              "    </tr>\n",
              "    <tr>\n",
              "      <th>10</th>\n",
              "      <td>BARROCAS</td>\n",
              "      <td>1434.75</td>\n",
              "    </tr>\n",
              "    <tr>\n",
              "      <th>11</th>\n",
              "      <td>BOM JARDIM</td>\n",
              "      <td>1099.50</td>\n",
              "    </tr>\n",
              "    <tr>\n",
              "      <th>12</th>\n",
              "      <td>PLANALTO TREZE DE MAIO</td>\n",
              "      <td>1093.25</td>\n",
              "    </tr>\n",
              "    <tr>\n",
              "      <th>13</th>\n",
              "      <td>ALTO DO SUMARE</td>\n",
              "      <td>968.00</td>\n",
              "    </tr>\n",
              "    <tr>\n",
              "      <th>14</th>\n",
              "      <td>DIX SEPT ROSADO</td>\n",
              "      <td>934.75</td>\n",
              "    </tr>\n",
              "    <tr>\n",
              "      <th>15</th>\n",
              "      <td>ALTO DA CONCEICAO</td>\n",
              "      <td>872.75</td>\n",
              "    </tr>\n",
              "    <tr>\n",
              "      <th>16</th>\n",
              "      <td>ABOLICAO 1</td>\n",
              "      <td>799.25</td>\n",
              "    </tr>\n",
              "    <tr>\n",
              "      <th>17</th>\n",
              "      <td>ABOLICAO 4</td>\n",
              "      <td>778.00</td>\n",
              "    </tr>\n",
              "    <tr>\n",
              "      <th>18</th>\n",
              "      <td>LAGOA DO MATO</td>\n",
              "      <td>577.75</td>\n",
              "    </tr>\n",
              "    <tr>\n",
              "      <th>19</th>\n",
              "      <td>RINCAO</td>\n",
              "      <td>558.00</td>\n",
              "    </tr>\n",
              "    <tr>\n",
              "      <th>20</th>\n",
              "      <td>ABOLICAO 3</td>\n",
              "      <td>548.00</td>\n",
              "    </tr>\n",
              "    <tr>\n",
              "      <th>21</th>\n",
              "      <td>BELA VISTA</td>\n",
              "      <td>513.25</td>\n",
              "    </tr>\n",
              "    <tr>\n",
              "      <th>22</th>\n",
              "      <td>VINGT ROSADO</td>\n",
              "      <td>512.00</td>\n",
              "    </tr>\n",
              "    <tr>\n",
              "      <th>23</th>\n",
              "      <td>ABOLICAO</td>\n",
              "      <td>511.50</td>\n",
              "    </tr>\n",
              "    <tr>\n",
              "      <th>24</th>\n",
              "      <td>COSTA E SILVA</td>\n",
              "      <td>451.00</td>\n",
              "    </tr>\n",
              "    <tr>\n",
              "      <th>25</th>\n",
              "      <td>ABOLICAO 2</td>\n",
              "      <td>345.50</td>\n",
              "    </tr>\n",
              "    <tr>\n",
              "      <th>26</th>\n",
              "      <td>SANTA DELMIRA</td>\n",
              "      <td>302.50</td>\n",
              "    </tr>\n",
              "    <tr>\n",
              "      <th>27</th>\n",
              "      <td>REDENCAO</td>\n",
              "      <td>302.25</td>\n",
              "    </tr>\n",
              "    <tr>\n",
              "      <th>28</th>\n",
              "      <td>ILHA DE SANTA LUZIA</td>\n",
              "      <td>249.25</td>\n",
              "    </tr>\n",
              "    <tr>\n",
              "      <th>29</th>\n",
              "      <td>PINTOS</td>\n",
              "      <td>233.00</td>\n",
              "    </tr>\n",
              "    <tr>\n",
              "      <th>30</th>\n",
              "      <td>DOM JAIME CAMARA</td>\n",
              "      <td>223.25</td>\n",
              "    </tr>\n",
              "    <tr>\n",
              "      <th>31</th>\n",
              "      <td>INOCOOP DO ALTO DE SAO MANOEL</td>\n",
              "      <td>186.00</td>\n",
              "    </tr>\n",
              "    <tr>\n",
              "      <th>32</th>\n",
              "      <td>MARCIO MARINHO</td>\n",
              "      <td>134.50</td>\n",
              "    </tr>\n",
              "    <tr>\n",
              "      <th>33</th>\n",
              "      <td>LIBERDADE</td>\n",
              "      <td>121.50</td>\n",
              "    </tr>\n",
              "    <tr>\n",
              "      <th>34</th>\n",
              "      <td>ABOLICAO 5</td>\n",
              "      <td>88.00</td>\n",
              "    </tr>\n",
              "    <tr>\n",
              "      <th>35</th>\n",
              "      <td>LESTE OESTE</td>\n",
              "      <td>74.00</td>\n",
              "    </tr>\n",
              "    <tr>\n",
              "      <th>36</th>\n",
              "      <td>ALAMEDA DOS CAJUEIROS</td>\n",
              "      <td>71.00</td>\n",
              "    </tr>\n",
              "    <tr>\n",
              "      <th>37</th>\n",
              "      <td>NOVA VIDA</td>\n",
              "      <td>60.00</td>\n",
              "    </tr>\n",
              "    <tr>\n",
              "      <th>38</th>\n",
              "      <td>BR</td>\n",
              "      <td>41.00</td>\n",
              "    </tr>\n",
              "    <tr>\n",
              "      <th>39</th>\n",
              "      <td>TRES VINTENS</td>\n",
              "      <td>37.00</td>\n",
              "    </tr>\n",
              "    <tr>\n",
              "      <th>40</th>\n",
              "      <td>MONSENHOR AMERICO</td>\n",
              "      <td>32.00</td>\n",
              "    </tr>\n",
              "    <tr>\n",
              "      <th>41</th>\n",
              "      <td>PEREIROS</td>\n",
              "      <td>28.00</td>\n",
              "    </tr>\n",
              "    <tr>\n",
              "      <th>42</th>\n",
              "      <td>CIDADE NOVA</td>\n",
              "      <td>27.00</td>\n",
              "    </tr>\n",
              "    <tr>\n",
              "      <th>43</th>\n",
              "      <td>POUSADA DOS TERMAS</td>\n",
              "      <td>27.00</td>\n",
              "    </tr>\n",
              "  </tbody>\n",
              "</table>\n",
              "</div>"
            ],
            "text/plain": [
              "                            index        0\n",
              "1                    NOVA BETANIA  4520.25\n",
              "2                          CENTRO  3248.53\n",
              "3                   SANTO ANTONIO  3182.50\n",
              "4                       AEROPORTO  3020.00\n",
              "5                        PAREDOES  2525.50\n",
              "6                       BOA VISTA  2164.25\n",
              "7              ALTO DO SAO MANOEL  2099.25\n",
              "8                       DOZE ANOS  1968.25\n",
              "9                  BELO HORIZONTE  1587.00\n",
              "10                       BARROCAS  1434.75\n",
              "11                     BOM JARDIM  1099.50\n",
              "12         PLANALTO TREZE DE MAIO  1093.25\n",
              "13                 ALTO DO SUMARE   968.00\n",
              "14                DIX SEPT ROSADO   934.75\n",
              "15              ALTO DA CONCEICAO   872.75\n",
              "16                     ABOLICAO 1   799.25\n",
              "17                     ABOLICAO 4   778.00\n",
              "18                  LAGOA DO MATO   577.75\n",
              "19                         RINCAO   558.00\n",
              "20                     ABOLICAO 3   548.00\n",
              "21                     BELA VISTA   513.25\n",
              "22                   VINGT ROSADO   512.00\n",
              "23                       ABOLICAO   511.50\n",
              "24                  COSTA E SILVA   451.00\n",
              "25                     ABOLICAO 2   345.50\n",
              "26                  SANTA DELMIRA   302.50\n",
              "27                       REDENCAO   302.25\n",
              "28            ILHA DE SANTA LUZIA   249.25\n",
              "29                         PINTOS   233.00\n",
              "30               DOM JAIME CAMARA   223.25\n",
              "31  INOCOOP DO ALTO DE SAO MANOEL   186.00\n",
              "32                 MARCIO MARINHO   134.50\n",
              "33                      LIBERDADE   121.50\n",
              "34                     ABOLICAO 5    88.00\n",
              "35                    LESTE OESTE    74.00\n",
              "36          ALAMEDA DOS CAJUEIROS    71.00\n",
              "37                      NOVA VIDA    60.00\n",
              "38                             BR    41.00\n",
              "39                   TRES VINTENS    37.00\n",
              "40              MONSENHOR AMERICO    32.00\n",
              "41                       PEREIROS    28.00\n",
              "42                    CIDADE NOVA    27.00\n",
              "43             POUSADA DOS TERMAS    27.00"
            ]
          },
          "metadata": {
            "tags": []
          },
          "execution_count": 184
        }
      ]
    },
    {
      "cell_type": "code",
      "metadata": {
        "id": "kHLZucG7N9JG",
        "colab_type": "code",
        "colab": {
          "base_uri": "https://localhost:8080/",
          "height": 34
        },
        "outputId": "60b5e7cf-8983-475b-ea57-9f943452d935"
      },
      "source": [
        "df.columns"
      ],
      "execution_count": null,
      "outputs": [
        {
          "output_type": "execute_result",
          "data": {
            "text/plain": [
              "Index(['index', 0], dtype='object')"
            ]
          },
          "metadata": {
            "tags": []
          },
          "execution_count": 185
        }
      ]
    },
    {
      "cell_type": "code",
      "metadata": {
        "id": "dwL0yVchO_gg",
        "colab_type": "code",
        "colab": {
          "base_uri": "https://localhost:8080/",
          "height": 1000
        },
        "outputId": "6ee013fc-257b-4024-cd83-b576e8cf5a59"
      },
      "source": [
        "df.columns=['Bairro','Valor']\n",
        "df"
      ],
      "execution_count": null,
      "outputs": [
        {
          "output_type": "execute_result",
          "data": {
            "text/html": [
              "<div>\n",
              "<style scoped>\n",
              "    .dataframe tbody tr th:only-of-type {\n",
              "        vertical-align: middle;\n",
              "    }\n",
              "\n",
              "    .dataframe tbody tr th {\n",
              "        vertical-align: top;\n",
              "    }\n",
              "\n",
              "    .dataframe thead th {\n",
              "        text-align: right;\n",
              "    }\n",
              "</style>\n",
              "<table border=\"1\" class=\"dataframe\">\n",
              "  <thead>\n",
              "    <tr style=\"text-align: right;\">\n",
              "      <th></th>\n",
              "      <th>Bairro</th>\n",
              "      <th>Valor</th>\n",
              "    </tr>\n",
              "  </thead>\n",
              "  <tbody>\n",
              "    <tr>\n",
              "      <th>1</th>\n",
              "      <td>NOVA BETANIA</td>\n",
              "      <td>4520.25</td>\n",
              "    </tr>\n",
              "    <tr>\n",
              "      <th>2</th>\n",
              "      <td>CENTRO</td>\n",
              "      <td>3248.53</td>\n",
              "    </tr>\n",
              "    <tr>\n",
              "      <th>3</th>\n",
              "      <td>SANTO ANTONIO</td>\n",
              "      <td>3182.50</td>\n",
              "    </tr>\n",
              "    <tr>\n",
              "      <th>4</th>\n",
              "      <td>AEROPORTO</td>\n",
              "      <td>3020.00</td>\n",
              "    </tr>\n",
              "    <tr>\n",
              "      <th>5</th>\n",
              "      <td>PAREDOES</td>\n",
              "      <td>2525.50</td>\n",
              "    </tr>\n",
              "    <tr>\n",
              "      <th>6</th>\n",
              "      <td>BOA VISTA</td>\n",
              "      <td>2164.25</td>\n",
              "    </tr>\n",
              "    <tr>\n",
              "      <th>7</th>\n",
              "      <td>ALTO DO SAO MANOEL</td>\n",
              "      <td>2099.25</td>\n",
              "    </tr>\n",
              "    <tr>\n",
              "      <th>8</th>\n",
              "      <td>DOZE ANOS</td>\n",
              "      <td>1968.25</td>\n",
              "    </tr>\n",
              "    <tr>\n",
              "      <th>9</th>\n",
              "      <td>BELO HORIZONTE</td>\n",
              "      <td>1587.00</td>\n",
              "    </tr>\n",
              "    <tr>\n",
              "      <th>10</th>\n",
              "      <td>BARROCAS</td>\n",
              "      <td>1434.75</td>\n",
              "    </tr>\n",
              "    <tr>\n",
              "      <th>11</th>\n",
              "      <td>BOM JARDIM</td>\n",
              "      <td>1099.50</td>\n",
              "    </tr>\n",
              "    <tr>\n",
              "      <th>12</th>\n",
              "      <td>PLANALTO TREZE DE MAIO</td>\n",
              "      <td>1093.25</td>\n",
              "    </tr>\n",
              "    <tr>\n",
              "      <th>13</th>\n",
              "      <td>ALTO DO SUMARE</td>\n",
              "      <td>968.00</td>\n",
              "    </tr>\n",
              "    <tr>\n",
              "      <th>14</th>\n",
              "      <td>DIX SEPT ROSADO</td>\n",
              "      <td>934.75</td>\n",
              "    </tr>\n",
              "    <tr>\n",
              "      <th>15</th>\n",
              "      <td>ALTO DA CONCEICAO</td>\n",
              "      <td>872.75</td>\n",
              "    </tr>\n",
              "    <tr>\n",
              "      <th>16</th>\n",
              "      <td>ABOLICAO 1</td>\n",
              "      <td>799.25</td>\n",
              "    </tr>\n",
              "    <tr>\n",
              "      <th>17</th>\n",
              "      <td>ABOLICAO 4</td>\n",
              "      <td>778.00</td>\n",
              "    </tr>\n",
              "    <tr>\n",
              "      <th>18</th>\n",
              "      <td>LAGOA DO MATO</td>\n",
              "      <td>577.75</td>\n",
              "    </tr>\n",
              "    <tr>\n",
              "      <th>19</th>\n",
              "      <td>RINCAO</td>\n",
              "      <td>558.00</td>\n",
              "    </tr>\n",
              "    <tr>\n",
              "      <th>20</th>\n",
              "      <td>ABOLICAO 3</td>\n",
              "      <td>548.00</td>\n",
              "    </tr>\n",
              "    <tr>\n",
              "      <th>21</th>\n",
              "      <td>BELA VISTA</td>\n",
              "      <td>513.25</td>\n",
              "    </tr>\n",
              "    <tr>\n",
              "      <th>22</th>\n",
              "      <td>VINGT ROSADO</td>\n",
              "      <td>512.00</td>\n",
              "    </tr>\n",
              "    <tr>\n",
              "      <th>23</th>\n",
              "      <td>ABOLICAO</td>\n",
              "      <td>511.50</td>\n",
              "    </tr>\n",
              "    <tr>\n",
              "      <th>24</th>\n",
              "      <td>COSTA E SILVA</td>\n",
              "      <td>451.00</td>\n",
              "    </tr>\n",
              "    <tr>\n",
              "      <th>25</th>\n",
              "      <td>ABOLICAO 2</td>\n",
              "      <td>345.50</td>\n",
              "    </tr>\n",
              "    <tr>\n",
              "      <th>26</th>\n",
              "      <td>SANTA DELMIRA</td>\n",
              "      <td>302.50</td>\n",
              "    </tr>\n",
              "    <tr>\n",
              "      <th>27</th>\n",
              "      <td>REDENCAO</td>\n",
              "      <td>302.25</td>\n",
              "    </tr>\n",
              "    <tr>\n",
              "      <th>28</th>\n",
              "      <td>ILHA DE SANTA LUZIA</td>\n",
              "      <td>249.25</td>\n",
              "    </tr>\n",
              "    <tr>\n",
              "      <th>29</th>\n",
              "      <td>PINTOS</td>\n",
              "      <td>233.00</td>\n",
              "    </tr>\n",
              "    <tr>\n",
              "      <th>30</th>\n",
              "      <td>DOM JAIME CAMARA</td>\n",
              "      <td>223.25</td>\n",
              "    </tr>\n",
              "    <tr>\n",
              "      <th>31</th>\n",
              "      <td>INOCOOP DO ALTO DE SAO MANOEL</td>\n",
              "      <td>186.00</td>\n",
              "    </tr>\n",
              "    <tr>\n",
              "      <th>32</th>\n",
              "      <td>MARCIO MARINHO</td>\n",
              "      <td>134.50</td>\n",
              "    </tr>\n",
              "    <tr>\n",
              "      <th>33</th>\n",
              "      <td>LIBERDADE</td>\n",
              "      <td>121.50</td>\n",
              "    </tr>\n",
              "    <tr>\n",
              "      <th>34</th>\n",
              "      <td>ABOLICAO 5</td>\n",
              "      <td>88.00</td>\n",
              "    </tr>\n",
              "    <tr>\n",
              "      <th>35</th>\n",
              "      <td>LESTE OESTE</td>\n",
              "      <td>74.00</td>\n",
              "    </tr>\n",
              "    <tr>\n",
              "      <th>36</th>\n",
              "      <td>ALAMEDA DOS CAJUEIROS</td>\n",
              "      <td>71.00</td>\n",
              "    </tr>\n",
              "    <tr>\n",
              "      <th>37</th>\n",
              "      <td>NOVA VIDA</td>\n",
              "      <td>60.00</td>\n",
              "    </tr>\n",
              "    <tr>\n",
              "      <th>38</th>\n",
              "      <td>BR</td>\n",
              "      <td>41.00</td>\n",
              "    </tr>\n",
              "    <tr>\n",
              "      <th>39</th>\n",
              "      <td>TRES VINTENS</td>\n",
              "      <td>37.00</td>\n",
              "    </tr>\n",
              "    <tr>\n",
              "      <th>40</th>\n",
              "      <td>MONSENHOR AMERICO</td>\n",
              "      <td>32.00</td>\n",
              "    </tr>\n",
              "    <tr>\n",
              "      <th>41</th>\n",
              "      <td>PEREIROS</td>\n",
              "      <td>28.00</td>\n",
              "    </tr>\n",
              "    <tr>\n",
              "      <th>42</th>\n",
              "      <td>CIDADE NOVA</td>\n",
              "      <td>27.00</td>\n",
              "    </tr>\n",
              "    <tr>\n",
              "      <th>43</th>\n",
              "      <td>POUSADA DOS TERMAS</td>\n",
              "      <td>27.00</td>\n",
              "    </tr>\n",
              "  </tbody>\n",
              "</table>\n",
              "</div>"
            ],
            "text/plain": [
              "                           Bairro    Valor\n",
              "1                    NOVA BETANIA  4520.25\n",
              "2                          CENTRO  3248.53\n",
              "3                   SANTO ANTONIO  3182.50\n",
              "4                       AEROPORTO  3020.00\n",
              "5                        PAREDOES  2525.50\n",
              "6                       BOA VISTA  2164.25\n",
              "7              ALTO DO SAO MANOEL  2099.25\n",
              "8                       DOZE ANOS  1968.25\n",
              "9                  BELO HORIZONTE  1587.00\n",
              "10                       BARROCAS  1434.75\n",
              "11                     BOM JARDIM  1099.50\n",
              "12         PLANALTO TREZE DE MAIO  1093.25\n",
              "13                 ALTO DO SUMARE   968.00\n",
              "14                DIX SEPT ROSADO   934.75\n",
              "15              ALTO DA CONCEICAO   872.75\n",
              "16                     ABOLICAO 1   799.25\n",
              "17                     ABOLICAO 4   778.00\n",
              "18                  LAGOA DO MATO   577.75\n",
              "19                         RINCAO   558.00\n",
              "20                     ABOLICAO 3   548.00\n",
              "21                     BELA VISTA   513.25\n",
              "22                   VINGT ROSADO   512.00\n",
              "23                       ABOLICAO   511.50\n",
              "24                  COSTA E SILVA   451.00\n",
              "25                     ABOLICAO 2   345.50\n",
              "26                  SANTA DELMIRA   302.50\n",
              "27                       REDENCAO   302.25\n",
              "28            ILHA DE SANTA LUZIA   249.25\n",
              "29                         PINTOS   233.00\n",
              "30               DOM JAIME CAMARA   223.25\n",
              "31  INOCOOP DO ALTO DE SAO MANOEL   186.00\n",
              "32                 MARCIO MARINHO   134.50\n",
              "33                      LIBERDADE   121.50\n",
              "34                     ABOLICAO 5    88.00\n",
              "35                    LESTE OESTE    74.00\n",
              "36          ALAMEDA DOS CAJUEIROS    71.00\n",
              "37                      NOVA VIDA    60.00\n",
              "38                             BR    41.00\n",
              "39                   TRES VINTENS    37.00\n",
              "40              MONSENHOR AMERICO    32.00\n",
              "41                       PEREIROS    28.00\n",
              "42                    CIDADE NOVA    27.00\n",
              "43             POUSADA DOS TERMAS    27.00"
            ]
          },
          "metadata": {
            "tags": []
          },
          "execution_count": 189
        }
      ]
    },
    {
      "cell_type": "code",
      "metadata": {
        "id": "f8E2mnQPPDzn",
        "colab_type": "code",
        "colab": {
          "base_uri": "https://localhost:8080/",
          "height": 173
        },
        "outputId": "cf9336c3-c8ef-4ff8-e2b3-8ecc638e4a56"
      },
      "source": [
        "df.info()"
      ],
      "execution_count": null,
      "outputs": [
        {
          "output_type": "stream",
          "text": [
            "<class 'pandas.core.frame.DataFrame'>\n",
            "Int64Index: 43 entries, 1 to 43\n",
            "Data columns (total 2 columns):\n",
            " #   Column  Non-Null Count  Dtype \n",
            "---  ------  --------------  ----- \n",
            " 0   Bairro  43 non-null     object\n",
            " 1   Valor   43 non-null     object\n",
            "dtypes: object(2)\n",
            "memory usage: 1.0+ KB\n"
          ],
          "name": "stdout"
        }
      ]
    },
    {
      "cell_type": "code",
      "metadata": {
        "id": "oRCc9Gp9PZ4C",
        "colab_type": "code",
        "colab": {}
      },
      "source": [
        "df.Valor=pd.to_numeric(df.Valor)"
      ],
      "execution_count": null,
      "outputs": []
    },
    {
      "cell_type": "code",
      "metadata": {
        "id": "8yaAB7DIPvrS",
        "colab_type": "code",
        "colab": {
          "base_uri": "https://localhost:8080/",
          "height": 173
        },
        "outputId": "4b26f60a-1718-4b42-c601-cf5664e2e14d"
      },
      "source": [
        "df.info()"
      ],
      "execution_count": null,
      "outputs": [
        {
          "output_type": "stream",
          "text": [
            "<class 'pandas.core.frame.DataFrame'>\n",
            "Int64Index: 43 entries, 1 to 43\n",
            "Data columns (total 2 columns):\n",
            " #   Column  Non-Null Count  Dtype  \n",
            "---  ------  --------------  -----  \n",
            " 0   Bairro  43 non-null     object \n",
            " 1   Valor   43 non-null     float64\n",
            "dtypes: float64(1), object(1)\n",
            "memory usage: 1.0+ KB\n"
          ],
          "name": "stdout"
        }
      ]
    },
    {
      "cell_type": "code",
      "metadata": {
        "id": "qJPDGkl1Pxe3",
        "colab_type": "code",
        "colab": {
          "base_uri": "https://localhost:8080/",
          "height": 34
        },
        "outputId": "e719acf7-9d43-4f34-892a-e74770c4f349"
      },
      "source": [
        "df.Valor.sum()"
      ],
      "execution_count": null,
      "outputs": [
        {
          "output_type": "execute_result",
          "data": {
            "text/plain": [
              "38550.03"
            ]
          },
          "metadata": {
            "tags": []
          },
          "execution_count": 196
        }
      ]
    },
    {
      "cell_type": "code",
      "metadata": {
        "id": "b2bBo-52P9X-",
        "colab_type": "code",
        "colab": {
          "base_uri": "https://localhost:8080/",
          "height": 34
        },
        "outputId": "36665f10-21e2-44a3-bd1b-6050fe0f38f9"
      },
      "source": [
        "df.Valor.mean()"
      ],
      "execution_count": null,
      "outputs": [
        {
          "output_type": "execute_result",
          "data": {
            "text/plain": [
              "896.5123255813953"
            ]
          },
          "metadata": {
            "tags": []
          },
          "execution_count": 197
        }
      ]
    },
    {
      "cell_type": "code",
      "metadata": {
        "id": "AXKOQQyAP_te",
        "colab_type": "code",
        "colab": {
          "base_uri": "https://localhost:8080/",
          "height": 34
        },
        "outputId": "f86546c3-a6d0-4d51-e25d-3672e71529cb"
      },
      "source": [
        "df.Valor.std()"
      ],
      "execution_count": null,
      "outputs": [
        {
          "output_type": "execute_result",
          "data": {
            "text/plain": [
              "1072.5429560646915"
            ]
          },
          "metadata": {
            "tags": []
          },
          "execution_count": 199
        }
      ]
    },
    {
      "cell_type": "code",
      "metadata": {
        "id": "fROMbVjqQB51",
        "colab_type": "code",
        "colab": {
          "base_uri": "https://localhost:8080/",
          "height": 265
        },
        "outputId": "ac990abf-35ef-4f30-9858-b1f641b9b10f"
      },
      "source": [
        "df.Valor.hist();"
      ],
      "execution_count": null,
      "outputs": [
        {
          "output_type": "display_data",
          "data": {
            "image/png": "[encoded data removed]",
            "text/plain": [
              "<Figure size 432x288 with 1 Axes>"
            ]
          },
          "metadata": {
            "tags": [],
            "needs_background": "light"
          }
        }
      ]
    },
    {
      "cell_type": "code",
      "metadata": {
        "id": "4VvfMgiVQMTV",
        "colab_type": "code",
        "colab": {
          "base_uri": "https://localhost:8080/",
          "height": 265
        },
        "outputId": "4f9016b4-cfc0-4047-b0eb-71df5bb0b918"
      },
      "source": [
        "df.Valor.plot();"
      ],
      "execution_count": null,
      "outputs": [
        {
          "output_type": "display_data",
          "data": {
            "image/png": "[encoded data removed]",
            "text/plain": [
              "<Figure size 432x288 with 1 Axes>"
            ]
          },
          "metadata": {
            "tags": [],
            "needs_background": "light"
          }
        }
      ]
    },
    {
      "cell_type": "code",
      "metadata": {
        "id": "akmxpkyiQQIw",
        "colab_type": "code",
        "colab": {
          "base_uri": "https://localhost:8080/",
          "height": 388
        },
        "outputId": "54968560-07b6-4b67-ce08-af40455ae55c"
      },
      "source": [
        "catplot(x='Valor', y='Bairro', kind=\"bar\", data=df)\n",
        ";"
      ],
      "execution_count": 222,
      "outputs": [
        {
          "output_type": "execute_result",
          "data": {
            "application/vnd.google.colaboratory.intrinsic+json": {
              "type": "string"
            },
            "text/plain": [
              "''"
            ]
          },
          "metadata": {
            "tags": []
          },
          "execution_count": 222
        },
        {
          "output_type": "display_data",
          "data": {
            "image/png": "[encoded data removed]",
            "text/plain": [
              "<Figure size 360x360 with 1 Axes>"
            ]
          },
          "metadata": {
            "tags": [],
            "needs_background": "light"
          }
        }
      ]
    }
  ]
}