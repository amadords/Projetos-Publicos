{
  "nbformat": 4,
  "nbformat_minor": 0,
  "metadata": {
    "kernelspec": {
      "display_name": "Python 3",
      "language": "python",
      "name": "python3"
    },
    "language_info": {
      "codemirror_mode": {
        "name": "ipython",
        "version": 3
      },
      "file_extension": ".py",
      "mimetype": "text/x-python",
      "name": "python",
      "nbconvert_exporter": "python",
      "pygments_lexer": "ipython3",
      "version": "3.7.6"
    },
    "colab": {
      "name": "Prevendo Valor de Automóvel",
      "provenance": [],
      "collapsed_sections": [],
      "include_colab_link": true
    }
  },
  "cells": [
    {
      "cell_type": "markdown",
      "metadata": {
        "id": "view-in-github",
        "colab_type": "text"
      },
      "source": [
        "<a href=\"https://colab.research.google.com/github/amadords/Projetos-Publicos/blob/master/Prevendo_Valor_de_Autom%C3%B3vel.ipynb\" target=\"_parent\"><img src=\"https://colab.research.google.com/assets/colab-badge.svg\" alt=\"Open In Colab\"/></a>"
      ]
    },
    {
      "cell_type": "markdown",
      "metadata": {
        "id": "iHioVE3fsdEl"
      },
      "source": [
        "# **Prevendo valor de automóvel**\n",
        "---\n",
        "\n",
        "\n",
        "[![LinkedIn](https://img.shields.io/badge/LinkedIn-DanielSousaAmador-cyan.svg)](https://www.linkedin.com/in/daniel-sousa-amador)\n",
        "[![GitHub](https://img.shields.io/badge/GitHub-amadords-darkblue.svg)](https://github.com/amadords)\n",
        "[![Medium](https://img.shields.io/badge/Medium-DanielSousaAmador-white.svg)](https://daniel-s-amador.medium.com/)\n",
        "\n",
        "\n",
        "\n",
        "Ao falarmos sobre [pré-processadores](https://bit.ly/2Siq0YU) utilizei essa mesma base de dados que usaremos aqui, contudo lá o intuito era somente mostrar a aplicação do **Label Encoder**, **One Hot Encoder** e **Get Dummies**. Lá não chegamos a predizer valores, então vamos direto ao ponto aqui!\n",
        "\n",
        "![carro](https://image.freepik.com/fotos-gratis/modelo-de-carro-calculadora-e-moedas-na-mesa-branca_1387-493.jpg)"
      ]
    },
    {
      "cell_type": "markdown",
      "metadata": {
        "id": "qObd29rHsdEn"
      },
      "source": [
        "# 1. Definição do Problema\n",
        "\n",
        "Nosso objetivo aqui é **predizer o valor** de alguns tipos de carro. \n",
        "Serão utilizados apenas **três carros**: \n",
        "* **BMW X5**\n",
        "* **Audi A5**\n",
        "* **Mercedez Benz C class**\n",
        "\n",
        "Só temos as seguintes **features**:\n",
        "\n",
        "* `Car Model`: O modelo do carro\n",
        "* `Mileage`: A quantidade em *milhas* que ele já andou\n",
        "* `Age(yrs)`: A idade do carro\n",
        "* `Sell Price($)`: Valor que ele vale. Essa é nossa classe, ou seja, nosso **alvo**\n",
        "\n",
        "Esse projeto tem o intuito de ser **simples**, por isso utilizaremos apenas **3 modelos de carro**, além disso, é um problema muito simples, um algoritmo simples resolve, por isso será utilizado a **Regressão Linear**."
      ]
    },
    {
      "cell_type": "markdown",
      "metadata": {
        "id": "rLChsDvrsdEo"
      },
      "source": [
        "# 2. Carregando e visualizando os dados"
      ]
    },
    {
      "cell_type": "markdown",
      "metadata": {
        "id": "pjLrVicosdEq"
      },
      "source": [
        "**Importações**"
      ]
    },
    {
      "cell_type": "code",
      "metadata": {
        "id": "uo_bAc1OsdEs"
      },
      "source": [
        "import pandas as pd\n",
        "import numpy as np\n",
        "from sklearn.preprocessing import LabelEncoder\n",
        "from sklearn.preprocessing import OneHotEncoder"
      ],
      "execution_count": null,
      "outputs": []
    },
    {
      "cell_type": "markdown",
      "metadata": {
        "id": "qmFyA6IAsdE0"
      },
      "source": [
        "**Carregamento e leitura dos dados**"
      ]
    },
    {
      "cell_type": "code",
      "metadata": {
        "id": "C-sKLnX8sdE1"
      },
      "source": [
        "car='https://raw.githubusercontent.com/amadords/data/main/base_car.csv'\n",
        "df=pd.read_csv(car)"
      ],
      "execution_count": null,
      "outputs": []
    },
    {
      "cell_type": "markdown",
      "metadata": {
        "id": "Q05UM3LTsdE7"
      },
      "source": [
        "**Colunas atuais**"
      ]
    },
    {
      "cell_type": "code",
      "metadata": {
        "id": "ZuZr-WT1sdE8",
        "colab": {
          "base_uri": "https://localhost:8080/"
        },
        "outputId": "876d7897-e353-414c-fe6a-5f5f64cff2b9"
      },
      "source": [
        "df.columns"
      ],
      "execution_count": null,
      "outputs": [
        {
          "output_type": "execute_result",
          "data": {
            "text/plain": [
              "Index(['Car Model', 'Mileage', 'Sell Price($)', 'Age(yrs)'], dtype='object')"
            ]
          },
          "metadata": {
            "tags": []
          },
          "execution_count": 3
        }
      ]
    },
    {
      "cell_type": "markdown",
      "metadata": {
        "id": "EVSrDfQ0sdFD"
      },
      "source": [
        "**Alterando o nome das colunas**"
      ]
    },
    {
      "cell_type": "code",
      "metadata": {
        "id": "5riRdSD8sdFD"
      },
      "source": [
        "df.columns=['modelo','mileage','price','age_yrs']"
      ],
      "execution_count": null,
      "outputs": []
    },
    {
      "cell_type": "markdown",
      "metadata": {
        "id": "gXkAjk2fsdFI"
      },
      "source": [
        "# 3. Aplicação do Get Dummies"
      ]
    },
    {
      "cell_type": "code",
      "metadata": {
        "id": "goKNQ0i4sdFJ",
        "colab": {
          "base_uri": "https://localhost:8080/",
          "height": 457
        },
        "outputId": "f24f1b18-0709-4f8f-cc3e-3b2b04fa1596"
      },
      "source": [
        "dummies=pd.get_dummies(df.modelo,prefix='car') #prefixo é opcional\n",
        "dummies"
      ],
      "execution_count": null,
      "outputs": [
        {
          "output_type": "execute_result",
          "data": {
            "text/html": [
              "<div>\n",
              "<style scoped>\n",
              "    .dataframe tbody tr th:only-of-type {\n",
              "        vertical-align: middle;\n",
              "    }\n",
              "\n",
              "    .dataframe tbody tr th {\n",
              "        vertical-align: top;\n",
              "    }\n",
              "\n",
              "    .dataframe thead th {\n",
              "        text-align: right;\n",
              "    }\n",
              "</style>\n",
              "<table border=\"1\" class=\"dataframe\">\n",
              "  <thead>\n",
              "    <tr style=\"text-align: right;\">\n",
              "      <th></th>\n",
              "      <th>car_Audi A5</th>\n",
              "      <th>car_BMW X5</th>\n",
              "      <th>car_Mercedez Benz C class</th>\n",
              "    </tr>\n",
              "  </thead>\n",
              "  <tbody>\n",
              "    <tr>\n",
              "      <th>0</th>\n",
              "      <td>0</td>\n",
              "      <td>1</td>\n",
              "      <td>0</td>\n",
              "    </tr>\n",
              "    <tr>\n",
              "      <th>1</th>\n",
              "      <td>0</td>\n",
              "      <td>1</td>\n",
              "      <td>0</td>\n",
              "    </tr>\n",
              "    <tr>\n",
              "      <th>2</th>\n",
              "      <td>0</td>\n",
              "      <td>1</td>\n",
              "      <td>0</td>\n",
              "    </tr>\n",
              "    <tr>\n",
              "      <th>3</th>\n",
              "      <td>0</td>\n",
              "      <td>1</td>\n",
              "      <td>0</td>\n",
              "    </tr>\n",
              "    <tr>\n",
              "      <th>4</th>\n",
              "      <td>0</td>\n",
              "      <td>1</td>\n",
              "      <td>0</td>\n",
              "    </tr>\n",
              "    <tr>\n",
              "      <th>5</th>\n",
              "      <td>1</td>\n",
              "      <td>0</td>\n",
              "      <td>0</td>\n",
              "    </tr>\n",
              "    <tr>\n",
              "      <th>6</th>\n",
              "      <td>1</td>\n",
              "      <td>0</td>\n",
              "      <td>0</td>\n",
              "    </tr>\n",
              "    <tr>\n",
              "      <th>7</th>\n",
              "      <td>1</td>\n",
              "      <td>0</td>\n",
              "      <td>0</td>\n",
              "    </tr>\n",
              "    <tr>\n",
              "      <th>8</th>\n",
              "      <td>1</td>\n",
              "      <td>0</td>\n",
              "      <td>0</td>\n",
              "    </tr>\n",
              "    <tr>\n",
              "      <th>9</th>\n",
              "      <td>0</td>\n",
              "      <td>0</td>\n",
              "      <td>1</td>\n",
              "    </tr>\n",
              "    <tr>\n",
              "      <th>10</th>\n",
              "      <td>0</td>\n",
              "      <td>0</td>\n",
              "      <td>1</td>\n",
              "    </tr>\n",
              "    <tr>\n",
              "      <th>11</th>\n",
              "      <td>0</td>\n",
              "      <td>0</td>\n",
              "      <td>1</td>\n",
              "    </tr>\n",
              "    <tr>\n",
              "      <th>12</th>\n",
              "      <td>0</td>\n",
              "      <td>0</td>\n",
              "      <td>1</td>\n",
              "    </tr>\n",
              "  </tbody>\n",
              "</table>\n",
              "</div>"
            ],
            "text/plain": [
              "    car_Audi A5  car_BMW X5  car_Mercedez Benz C class\n",
              "0             0           1                          0\n",
              "1             0           1                          0\n",
              "2             0           1                          0\n",
              "3             0           1                          0\n",
              "4             0           1                          0\n",
              "5             1           0                          0\n",
              "6             1           0                          0\n",
              "7             1           0                          0\n",
              "8             1           0                          0\n",
              "9             0           0                          1\n",
              "10            0           0                          1\n",
              "11            0           0                          1\n",
              "12            0           0                          1"
            ]
          },
          "metadata": {
            "tags": []
          },
          "execution_count": 5
        }
      ]
    },
    {
      "cell_type": "markdown",
      "metadata": {
        "id": "S-UzCNvnsdFP"
      },
      "source": [
        "**Atribuindo os valores transformados ao DF**"
      ]
    },
    {
      "cell_type": "code",
      "metadata": {
        "id": "CbrNSF6osdFQ",
        "colab": {
          "base_uri": "https://localhost:8080/",
          "height": 457
        },
        "outputId": "9e719708-beaa-46fc-9b1a-f38ccb100af4"
      },
      "source": [
        "merged=pd.concat([df,dummies],axis=1) # pode ser axis=columns\n",
        "merged"
      ],
      "execution_count": null,
      "outputs": [
        {
          "output_type": "execute_result",
          "data": {
            "text/html": [
              "<div>\n",
              "<style scoped>\n",
              "    .dataframe tbody tr th:only-of-type {\n",
              "        vertical-align: middle;\n",
              "    }\n",
              "\n",
              "    .dataframe tbody tr th {\n",
              "        vertical-align: top;\n",
              "    }\n",
              "\n",
              "    .dataframe thead th {\n",
              "        text-align: right;\n",
              "    }\n",
              "</style>\n",
              "<table border=\"1\" class=\"dataframe\">\n",
              "  <thead>\n",
              "    <tr style=\"text-align: right;\">\n",
              "      <th></th>\n",
              "      <th>modelo</th>\n",
              "      <th>mileage</th>\n",
              "      <th>price</th>\n",
              "      <th>age_yrs</th>\n",
              "      <th>car_Audi A5</th>\n",
              "      <th>car_BMW X5</th>\n",
              "      <th>car_Mercedez Benz C class</th>\n",
              "    </tr>\n",
              "  </thead>\n",
              "  <tbody>\n",
              "    <tr>\n",
              "      <th>0</th>\n",
              "      <td>BMW X5</td>\n",
              "      <td>69000</td>\n",
              "      <td>18000</td>\n",
              "      <td>6</td>\n",
              "      <td>0</td>\n",
              "      <td>1</td>\n",
              "      <td>0</td>\n",
              "    </tr>\n",
              "    <tr>\n",
              "      <th>1</th>\n",
              "      <td>BMW X5</td>\n",
              "      <td>35000</td>\n",
              "      <td>34000</td>\n",
              "      <td>3</td>\n",
              "      <td>0</td>\n",
              "      <td>1</td>\n",
              "      <td>0</td>\n",
              "    </tr>\n",
              "    <tr>\n",
              "      <th>2</th>\n",
              "      <td>BMW X5</td>\n",
              "      <td>57000</td>\n",
              "      <td>26100</td>\n",
              "      <td>5</td>\n",
              "      <td>0</td>\n",
              "      <td>1</td>\n",
              "      <td>0</td>\n",
              "    </tr>\n",
              "    <tr>\n",
              "      <th>3</th>\n",
              "      <td>BMW X5</td>\n",
              "      <td>22500</td>\n",
              "      <td>40000</td>\n",
              "      <td>2</td>\n",
              "      <td>0</td>\n",
              "      <td>1</td>\n",
              "      <td>0</td>\n",
              "    </tr>\n",
              "    <tr>\n",
              "      <th>4</th>\n",
              "      <td>BMW X5</td>\n",
              "      <td>46000</td>\n",
              "      <td>31500</td>\n",
              "      <td>4</td>\n",
              "      <td>0</td>\n",
              "      <td>1</td>\n",
              "      <td>0</td>\n",
              "    </tr>\n",
              "    <tr>\n",
              "      <th>5</th>\n",
              "      <td>Audi A5</td>\n",
              "      <td>59000</td>\n",
              "      <td>29400</td>\n",
              "      <td>5</td>\n",
              "      <td>1</td>\n",
              "      <td>0</td>\n",
              "      <td>0</td>\n",
              "    </tr>\n",
              "    <tr>\n",
              "      <th>6</th>\n",
              "      <td>Audi A5</td>\n",
              "      <td>52000</td>\n",
              "      <td>32000</td>\n",
              "      <td>5</td>\n",
              "      <td>1</td>\n",
              "      <td>0</td>\n",
              "      <td>0</td>\n",
              "    </tr>\n",
              "    <tr>\n",
              "      <th>7</th>\n",
              "      <td>Audi A5</td>\n",
              "      <td>72000</td>\n",
              "      <td>19300</td>\n",
              "      <td>6</td>\n",
              "      <td>1</td>\n",
              "      <td>0</td>\n",
              "      <td>0</td>\n",
              "    </tr>\n",
              "    <tr>\n",
              "      <th>8</th>\n",
              "      <td>Audi A5</td>\n",
              "      <td>91000</td>\n",
              "      <td>12000</td>\n",
              "      <td>8</td>\n",
              "      <td>1</td>\n",
              "      <td>0</td>\n",
              "      <td>0</td>\n",
              "    </tr>\n",
              "    <tr>\n",
              "      <th>9</th>\n",
              "      <td>Mercedez Benz C class</td>\n",
              "      <td>67000</td>\n",
              "      <td>22000</td>\n",
              "      <td>6</td>\n",
              "      <td>0</td>\n",
              "      <td>0</td>\n",
              "      <td>1</td>\n",
              "    </tr>\n",
              "    <tr>\n",
              "      <th>10</th>\n",
              "      <td>Mercedez Benz C class</td>\n",
              "      <td>83000</td>\n",
              "      <td>20000</td>\n",
              "      <td>7</td>\n",
              "      <td>0</td>\n",
              "      <td>0</td>\n",
              "      <td>1</td>\n",
              "    </tr>\n",
              "    <tr>\n",
              "      <th>11</th>\n",
              "      <td>Mercedez Benz C class</td>\n",
              "      <td>79000</td>\n",
              "      <td>21000</td>\n",
              "      <td>7</td>\n",
              "      <td>0</td>\n",
              "      <td>0</td>\n",
              "      <td>1</td>\n",
              "    </tr>\n",
              "    <tr>\n",
              "      <th>12</th>\n",
              "      <td>Mercedez Benz C class</td>\n",
              "      <td>59000</td>\n",
              "      <td>33000</td>\n",
              "      <td>5</td>\n",
              "      <td>0</td>\n",
              "      <td>0</td>\n",
              "      <td>1</td>\n",
              "    </tr>\n",
              "  </tbody>\n",
              "</table>\n",
              "</div>"
            ],
            "text/plain": [
              "                   modelo  mileage  ...  car_BMW X5  car_Mercedez Benz C class\n",
              "0                  BMW X5    69000  ...           1                          0\n",
              "1                  BMW X5    35000  ...           1                          0\n",
              "2                  BMW X5    57000  ...           1                          0\n",
              "3                  BMW X5    22500  ...           1                          0\n",
              "4                  BMW X5    46000  ...           1                          0\n",
              "5                 Audi A5    59000  ...           0                          0\n",
              "6                 Audi A5    52000  ...           0                          0\n",
              "7                 Audi A5    72000  ...           0                          0\n",
              "8                 Audi A5    91000  ...           0                          0\n",
              "9   Mercedez Benz C class    67000  ...           0                          1\n",
              "10  Mercedez Benz C class    83000  ...           0                          1\n",
              "11  Mercedez Benz C class    79000  ...           0                          1\n",
              "12  Mercedez Benz C class    59000  ...           0                          1\n",
              "\n",
              "[13 rows x 7 columns]"
            ]
          },
          "metadata": {
            "tags": []
          },
          "execution_count": 6
        }
      ]
    },
    {
      "cell_type": "markdown",
      "metadata": {
        "id": "54WqYtD-sdFT"
      },
      "source": [
        "Como foi falado no notebook sobre [pré-processadores](https://bit.ly/2Siq0YU), ao fazer o get dummies, se **exclui uma das categorias** para evitar o efeito da **multicolinearidade**. \n",
        "\n",
        "Faremos isso aqui, mas depois usaremos a base completa, pois foi constatado que não houve diferença no resultado final."
      ]
    },
    {
      "cell_type": "code",
      "metadata": {
        "id": "GDfUolcFsdFU",
        "colab": {
          "base_uri": "https://localhost:8080/",
          "height": 457
        },
        "outputId": "768a0c64-47e7-4635-a652-58803ca3967a"
      },
      "source": [
        "get=merged.drop(['modelo','car_Audi A5'],axis='columns')\n",
        "get"
      ],
      "execution_count": null,
      "outputs": [
        {
          "output_type": "execute_result",
          "data": {
            "text/html": [
              "<div>\n",
              "<style scoped>\n",
              "    .dataframe tbody tr th:only-of-type {\n",
              "        vertical-align: middle;\n",
              "    }\n",
              "\n",
              "    .dataframe tbody tr th {\n",
              "        vertical-align: top;\n",
              "    }\n",
              "\n",
              "    .dataframe thead th {\n",
              "        text-align: right;\n",
              "    }\n",
              "</style>\n",
              "<table border=\"1\" class=\"dataframe\">\n",
              "  <thead>\n",
              "    <tr style=\"text-align: right;\">\n",
              "      <th></th>\n",
              "      <th>mileage</th>\n",
              "      <th>price</th>\n",
              "      <th>age_yrs</th>\n",
              "      <th>car_BMW X5</th>\n",
              "      <th>car_Mercedez Benz C class</th>\n",
              "    </tr>\n",
              "  </thead>\n",
              "  <tbody>\n",
              "    <tr>\n",
              "      <th>0</th>\n",
              "      <td>69000</td>\n",
              "      <td>18000</td>\n",
              "      <td>6</td>\n",
              "      <td>1</td>\n",
              "      <td>0</td>\n",
              "    </tr>\n",
              "    <tr>\n",
              "      <th>1</th>\n",
              "      <td>35000</td>\n",
              "      <td>34000</td>\n",
              "      <td>3</td>\n",
              "      <td>1</td>\n",
              "      <td>0</td>\n",
              "    </tr>\n",
              "    <tr>\n",
              "      <th>2</th>\n",
              "      <td>57000</td>\n",
              "      <td>26100</td>\n",
              "      <td>5</td>\n",
              "      <td>1</td>\n",
              "      <td>0</td>\n",
              "    </tr>\n",
              "    <tr>\n",
              "      <th>3</th>\n",
              "      <td>22500</td>\n",
              "      <td>40000</td>\n",
              "      <td>2</td>\n",
              "      <td>1</td>\n",
              "      <td>0</td>\n",
              "    </tr>\n",
              "    <tr>\n",
              "      <th>4</th>\n",
              "      <td>46000</td>\n",
              "      <td>31500</td>\n",
              "      <td>4</td>\n",
              "      <td>1</td>\n",
              "      <td>0</td>\n",
              "    </tr>\n",
              "    <tr>\n",
              "      <th>5</th>\n",
              "      <td>59000</td>\n",
              "      <td>29400</td>\n",
              "      <td>5</td>\n",
              "      <td>0</td>\n",
              "      <td>0</td>\n",
              "    </tr>\n",
              "    <tr>\n",
              "      <th>6</th>\n",
              "      <td>52000</td>\n",
              "      <td>32000</td>\n",
              "      <td>5</td>\n",
              "      <td>0</td>\n",
              "      <td>0</td>\n",
              "    </tr>\n",
              "    <tr>\n",
              "      <th>7</th>\n",
              "      <td>72000</td>\n",
              "      <td>19300</td>\n",
              "      <td>6</td>\n",
              "      <td>0</td>\n",
              "      <td>0</td>\n",
              "    </tr>\n",
              "    <tr>\n",
              "      <th>8</th>\n",
              "      <td>91000</td>\n",
              "      <td>12000</td>\n",
              "      <td>8</td>\n",
              "      <td>0</td>\n",
              "      <td>0</td>\n",
              "    </tr>\n",
              "    <tr>\n",
              "      <th>9</th>\n",
              "      <td>67000</td>\n",
              "      <td>22000</td>\n",
              "      <td>6</td>\n",
              "      <td>0</td>\n",
              "      <td>1</td>\n",
              "    </tr>\n",
              "    <tr>\n",
              "      <th>10</th>\n",
              "      <td>83000</td>\n",
              "      <td>20000</td>\n",
              "      <td>7</td>\n",
              "      <td>0</td>\n",
              "      <td>1</td>\n",
              "    </tr>\n",
              "    <tr>\n",
              "      <th>11</th>\n",
              "      <td>79000</td>\n",
              "      <td>21000</td>\n",
              "      <td>7</td>\n",
              "      <td>0</td>\n",
              "      <td>1</td>\n",
              "    </tr>\n",
              "    <tr>\n",
              "      <th>12</th>\n",
              "      <td>59000</td>\n",
              "      <td>33000</td>\n",
              "      <td>5</td>\n",
              "      <td>0</td>\n",
              "      <td>1</td>\n",
              "    </tr>\n",
              "  </tbody>\n",
              "</table>\n",
              "</div>"
            ],
            "text/plain": [
              "    mileage  price  age_yrs  car_BMW X5  car_Mercedez Benz C class\n",
              "0     69000  18000        6           1                          0\n",
              "1     35000  34000        3           1                          0\n",
              "2     57000  26100        5           1                          0\n",
              "3     22500  40000        2           1                          0\n",
              "4     46000  31500        4           1                          0\n",
              "5     59000  29400        5           0                          0\n",
              "6     52000  32000        5           0                          0\n",
              "7     72000  19300        6           0                          0\n",
              "8     91000  12000        8           0                          0\n",
              "9     67000  22000        6           0                          1\n",
              "10    83000  20000        7           0                          1\n",
              "11    79000  21000        7           0                          1\n",
              "12    59000  33000        5           0                          1"
            ]
          },
          "metadata": {
            "tags": []
          },
          "execution_count": 7
        }
      ]
    },
    {
      "cell_type": "markdown",
      "metadata": {
        "id": "L-FpdsnssdFZ"
      },
      "source": [
        "# 4. Aplicando a Regressão Linear com apenas 2 modelos de carro"
      ]
    },
    {
      "cell_type": "markdown",
      "metadata": {
        "id": "bItT_9nNsdFa"
      },
      "source": [
        "**Criando objeto para regressão linear**"
      ]
    },
    {
      "cell_type": "code",
      "metadata": {
        "id": "J0bbNHnDsdFb"
      },
      "source": [
        "# importando o algoritmo\n",
        "from sklearn.linear_model import LinearRegression\n",
        "# criando o objeto para regressão linear\n",
        "model=LinearRegression()"
      ],
      "execution_count": null,
      "outputs": []
    },
    {
      "cell_type": "markdown",
      "metadata": {
        "id": "DJA9fTujsdFf"
      },
      "source": [
        "**Separando features e classe**"
      ]
    },
    {
      "cell_type": "code",
      "metadata": {
        "id": "5xMH7IWgsdFg",
        "colab": {
          "base_uri": "https://localhost:8080/",
          "height": 457
        },
        "outputId": "1837d600-73b2-4634-ab7b-1aee7dcdebe9"
      },
      "source": [
        "# features\n",
        "X=get.drop('price',axis=1)\n",
        "# classe\n",
        "y=get.price\n",
        "# visualizando as features\n",
        "X"
      ],
      "execution_count": null,
      "outputs": [
        {
          "output_type": "execute_result",
          "data": {
            "text/html": [
              "<div>\n",
              "<style scoped>\n",
              "    .dataframe tbody tr th:only-of-type {\n",
              "        vertical-align: middle;\n",
              "    }\n",
              "\n",
              "    .dataframe tbody tr th {\n",
              "        vertical-align: top;\n",
              "    }\n",
              "\n",
              "    .dataframe thead th {\n",
              "        text-align: right;\n",
              "    }\n",
              "</style>\n",
              "<table border=\"1\" class=\"dataframe\">\n",
              "  <thead>\n",
              "    <tr style=\"text-align: right;\">\n",
              "      <th></th>\n",
              "      <th>mileage</th>\n",
              "      <th>age_yrs</th>\n",
              "      <th>car_BMW X5</th>\n",
              "      <th>car_Mercedez Benz C class</th>\n",
              "    </tr>\n",
              "  </thead>\n",
              "  <tbody>\n",
              "    <tr>\n",
              "      <th>0</th>\n",
              "      <td>69000</td>\n",
              "      <td>6</td>\n",
              "      <td>1</td>\n",
              "      <td>0</td>\n",
              "    </tr>\n",
              "    <tr>\n",
              "      <th>1</th>\n",
              "      <td>35000</td>\n",
              "      <td>3</td>\n",
              "      <td>1</td>\n",
              "      <td>0</td>\n",
              "    </tr>\n",
              "    <tr>\n",
              "      <th>2</th>\n",
              "      <td>57000</td>\n",
              "      <td>5</td>\n",
              "      <td>1</td>\n",
              "      <td>0</td>\n",
              "    </tr>\n",
              "    <tr>\n",
              "      <th>3</th>\n",
              "      <td>22500</td>\n",
              "      <td>2</td>\n",
              "      <td>1</td>\n",
              "      <td>0</td>\n",
              "    </tr>\n",
              "    <tr>\n",
              "      <th>4</th>\n",
              "      <td>46000</td>\n",
              "      <td>4</td>\n",
              "      <td>1</td>\n",
              "      <td>0</td>\n",
              "    </tr>\n",
              "    <tr>\n",
              "      <th>5</th>\n",
              "      <td>59000</td>\n",
              "      <td>5</td>\n",
              "      <td>0</td>\n",
              "      <td>0</td>\n",
              "    </tr>\n",
              "    <tr>\n",
              "      <th>6</th>\n",
              "      <td>52000</td>\n",
              "      <td>5</td>\n",
              "      <td>0</td>\n",
              "      <td>0</td>\n",
              "    </tr>\n",
              "    <tr>\n",
              "      <th>7</th>\n",
              "      <td>72000</td>\n",
              "      <td>6</td>\n",
              "      <td>0</td>\n",
              "      <td>0</td>\n",
              "    </tr>\n",
              "    <tr>\n",
              "      <th>8</th>\n",
              "      <td>91000</td>\n",
              "      <td>8</td>\n",
              "      <td>0</td>\n",
              "      <td>0</td>\n",
              "    </tr>\n",
              "    <tr>\n",
              "      <th>9</th>\n",
              "      <td>67000</td>\n",
              "      <td>6</td>\n",
              "      <td>0</td>\n",
              "      <td>1</td>\n",
              "    </tr>\n",
              "    <tr>\n",
              "      <th>10</th>\n",
              "      <td>83000</td>\n",
              "      <td>7</td>\n",
              "      <td>0</td>\n",
              "      <td>1</td>\n",
              "    </tr>\n",
              "    <tr>\n",
              "      <th>11</th>\n",
              "      <td>79000</td>\n",
              "      <td>7</td>\n",
              "      <td>0</td>\n",
              "      <td>1</td>\n",
              "    </tr>\n",
              "    <tr>\n",
              "      <th>12</th>\n",
              "      <td>59000</td>\n",
              "      <td>5</td>\n",
              "      <td>0</td>\n",
              "      <td>1</td>\n",
              "    </tr>\n",
              "  </tbody>\n",
              "</table>\n",
              "</div>"
            ],
            "text/plain": [
              "    mileage  age_yrs  car_BMW X5  car_Mercedez Benz C class\n",
              "0     69000        6           1                          0\n",
              "1     35000        3           1                          0\n",
              "2     57000        5           1                          0\n",
              "3     22500        2           1                          0\n",
              "4     46000        4           1                          0\n",
              "5     59000        5           0                          0\n",
              "6     52000        5           0                          0\n",
              "7     72000        6           0                          0\n",
              "8     91000        8           0                          0\n",
              "9     67000        6           0                          1\n",
              "10    83000        7           0                          1\n",
              "11    79000        7           0                          1\n",
              "12    59000        5           0                          1"
            ]
          },
          "metadata": {
            "tags": []
          },
          "execution_count": 9
        }
      ]
    },
    {
      "cell_type": "code",
      "metadata": {
        "id": "HN_X2B-QsdFk",
        "colab": {
          "base_uri": "https://localhost:8080/"
        },
        "outputId": "73deb3fd-4589-427d-be3b-5456bbae95e7"
      },
      "source": [
        "# visualizando a classe\n",
        "y"
      ],
      "execution_count": null,
      "outputs": [
        {
          "output_type": "execute_result",
          "data": {
            "text/plain": [
              "0     18000\n",
              "1     34000\n",
              "2     26100\n",
              "3     40000\n",
              "4     31500\n",
              "5     29400\n",
              "6     32000\n",
              "7     19300\n",
              "8     12000\n",
              "9     22000\n",
              "10    20000\n",
              "11    21000\n",
              "12    33000\n",
              "Name: price, dtype: int64"
            ]
          },
          "metadata": {
            "tags": []
          },
          "execution_count": 10
        }
      ]
    },
    {
      "cell_type": "markdown",
      "metadata": {
        "id": "hR6p4mlYsdFp"
      },
      "source": [
        "**Treinando o modelo**"
      ]
    },
    {
      "cell_type": "code",
      "metadata": {
        "id": "7PKf2T7DsdFq",
        "colab": {
          "base_uri": "https://localhost:8080/"
        },
        "outputId": "8b8deff8-93b4-4c55-fe85-01da2e24533f"
      },
      "source": [
        "model.fit(X,y)"
      ],
      "execution_count": null,
      "outputs": [
        {
          "output_type": "execute_result",
          "data": {
            "text/plain": [
              "LinearRegression(copy_X=True, fit_intercept=True, n_jobs=None, normalize=False)"
            ]
          },
          "metadata": {
            "tags": []
          },
          "execution_count": 11
        }
      ]
    },
    {
      "cell_type": "markdown",
      "metadata": {
        "id": "SJQhnK4psdFu"
      },
      "source": [
        "**Predizendo resultados**\n",
        "\n",
        "A ordem é `mileage`, `age_yrs`,\t`car_BMW X5` e `car_Mercedez Benz C class`"
      ]
    },
    {
      "cell_type": "code",
      "metadata": {
        "id": "JoCsp57gsdFu",
        "colab": {
          "base_uri": "https://localhost:8080/"
        },
        "outputId": "b146e240-9ee0-4d35-9a75-62259ef3b4bb"
      },
      "source": [
        "model.predict([[22000,5,0,1],[200,5,0,1],[22000,5,1,0],[200,5,1,0]]).round(2)"
      ],
      "execution_count": null,
      "outputs": [
        {
          "output_type": "execute_result",
          "data": {
            "text/plain": [
              "array([44171.67, 52240.33, 37433.46, 45502.13])"
            ]
          },
          "metadata": {
            "tags": []
          },
          "execution_count": 12
        }
      ]
    },
    {
      "cell_type": "markdown",
      "metadata": {
        "id": "aA7kapkusdFz"
      },
      "source": [
        "O **array** de dados acima são os valores dos carros já preditos, os dois primerios são `BMW X5` e os dois últimos são `Mercedez Benz C class`."
      ]
    },
    {
      "cell_type": "markdown",
      "metadata": {
        "id": "2Ou9BKT6sdFz"
      },
      "source": [
        "A **precisão** do nosso modelo é:"
      ]
    },
    {
      "cell_type": "code",
      "metadata": {
        "id": "6WO6PS4zsdF1",
        "colab": {
          "base_uri": "https://localhost:8080/"
        },
        "outputId": "fa2b72c3-fefc-4e01-a568-7d7ddcab55fa"
      },
      "source": [
        "model.score(X,y)"
      ],
      "execution_count": null,
      "outputs": [
        {
          "output_type": "execute_result",
          "data": {
            "text/plain": [
              "0.9417050937281083"
            ]
          },
          "metadata": {
            "tags": []
          },
          "execution_count": 13
        }
      ]
    },
    {
      "cell_type": "markdown",
      "metadata": {
        "id": "cASK6AvTsdF5"
      },
      "source": [
        "# 5. Aplicando a Regressão Linear com os 3 modelos de carro"
      ]
    },
    {
      "cell_type": "markdown",
      "metadata": {
        "id": "aRN8gToysdF5"
      },
      "source": [
        "**Utilizando o `merged`**\n",
        "Esse DataFrame é o que tem todos os modelos de carro, como falado antes, uma das categorias foi **dropada** para evitar a multicolinearidade, mas para esse exemplo com poucos dados, não há problema."
      ]
    },
    {
      "cell_type": "markdown",
      "metadata": {
        "id": "8y6whOU1sdF5"
      },
      "source": [
        "**Separando colunas**"
      ]
    },
    {
      "cell_type": "code",
      "metadata": {
        "id": "apIzd_I0sdF6",
        "colab": {
          "base_uri": "https://localhost:8080/",
          "height": 457
        },
        "outputId": "f8b56639-b34a-49bd-ae52-bc2afc1e4799"
      },
      "source": [
        "# features\n",
        "X2=merged.drop(['price','modelo'],axis=1)\n",
        "# classe\n",
        "y2=merged.price\n",
        "# visualização das features\n",
        "X2"
      ],
      "execution_count": null,
      "outputs": [
        {
          "output_type": "execute_result",
          "data": {
            "text/html": [
              "<div>\n",
              "<style scoped>\n",
              "    .dataframe tbody tr th:only-of-type {\n",
              "        vertical-align: middle;\n",
              "    }\n",
              "\n",
              "    .dataframe tbody tr th {\n",
              "        vertical-align: top;\n",
              "    }\n",
              "\n",
              "    .dataframe thead th {\n",
              "        text-align: right;\n",
              "    }\n",
              "</style>\n",
              "<table border=\"1\" class=\"dataframe\">\n",
              "  <thead>\n",
              "    <tr style=\"text-align: right;\">\n",
              "      <th></th>\n",
              "      <th>mileage</th>\n",
              "      <th>age_yrs</th>\n",
              "      <th>car_Audi A5</th>\n",
              "      <th>car_BMW X5</th>\n",
              "      <th>car_Mercedez Benz C class</th>\n",
              "    </tr>\n",
              "  </thead>\n",
              "  <tbody>\n",
              "    <tr>\n",
              "      <th>0</th>\n",
              "      <td>69000</td>\n",
              "      <td>6</td>\n",
              "      <td>0</td>\n",
              "      <td>1</td>\n",
              "      <td>0</td>\n",
              "    </tr>\n",
              "    <tr>\n",
              "      <th>1</th>\n",
              "      <td>35000</td>\n",
              "      <td>3</td>\n",
              "      <td>0</td>\n",
              "      <td>1</td>\n",
              "      <td>0</td>\n",
              "    </tr>\n",
              "    <tr>\n",
              "      <th>2</th>\n",
              "      <td>57000</td>\n",
              "      <td>5</td>\n",
              "      <td>0</td>\n",
              "      <td>1</td>\n",
              "      <td>0</td>\n",
              "    </tr>\n",
              "    <tr>\n",
              "      <th>3</th>\n",
              "      <td>22500</td>\n",
              "      <td>2</td>\n",
              "      <td>0</td>\n",
              "      <td>1</td>\n",
              "      <td>0</td>\n",
              "    </tr>\n",
              "    <tr>\n",
              "      <th>4</th>\n",
              "      <td>46000</td>\n",
              "      <td>4</td>\n",
              "      <td>0</td>\n",
              "      <td>1</td>\n",
              "      <td>0</td>\n",
              "    </tr>\n",
              "    <tr>\n",
              "      <th>5</th>\n",
              "      <td>59000</td>\n",
              "      <td>5</td>\n",
              "      <td>1</td>\n",
              "      <td>0</td>\n",
              "      <td>0</td>\n",
              "    </tr>\n",
              "    <tr>\n",
              "      <th>6</th>\n",
              "      <td>52000</td>\n",
              "      <td>5</td>\n",
              "      <td>1</td>\n",
              "      <td>0</td>\n",
              "      <td>0</td>\n",
              "    </tr>\n",
              "    <tr>\n",
              "      <th>7</th>\n",
              "      <td>72000</td>\n",
              "      <td>6</td>\n",
              "      <td>1</td>\n",
              "      <td>0</td>\n",
              "      <td>0</td>\n",
              "    </tr>\n",
              "    <tr>\n",
              "      <th>8</th>\n",
              "      <td>91000</td>\n",
              "      <td>8</td>\n",
              "      <td>1</td>\n",
              "      <td>0</td>\n",
              "      <td>0</td>\n",
              "    </tr>\n",
              "    <tr>\n",
              "      <th>9</th>\n",
              "      <td>67000</td>\n",
              "      <td>6</td>\n",
              "      <td>0</td>\n",
              "      <td>0</td>\n",
              "      <td>1</td>\n",
              "    </tr>\n",
              "    <tr>\n",
              "      <th>10</th>\n",
              "      <td>83000</td>\n",
              "      <td>7</td>\n",
              "      <td>0</td>\n",
              "      <td>0</td>\n",
              "      <td>1</td>\n",
              "    </tr>\n",
              "    <tr>\n",
              "      <th>11</th>\n",
              "      <td>79000</td>\n",
              "      <td>7</td>\n",
              "      <td>0</td>\n",
              "      <td>0</td>\n",
              "      <td>1</td>\n",
              "    </tr>\n",
              "    <tr>\n",
              "      <th>12</th>\n",
              "      <td>59000</td>\n",
              "      <td>5</td>\n",
              "      <td>0</td>\n",
              "      <td>0</td>\n",
              "      <td>1</td>\n",
              "    </tr>\n",
              "  </tbody>\n",
              "</table>\n",
              "</div>"
            ],
            "text/plain": [
              "    mileage  age_yrs  car_Audi A5  car_BMW X5  car_Mercedez Benz C class\n",
              "0     69000        6            0           1                          0\n",
              "1     35000        3            0           1                          0\n",
              "2     57000        5            0           1                          0\n",
              "3     22500        2            0           1                          0\n",
              "4     46000        4            0           1                          0\n",
              "5     59000        5            1           0                          0\n",
              "6     52000        5            1           0                          0\n",
              "7     72000        6            1           0                          0\n",
              "8     91000        8            1           0                          0\n",
              "9     67000        6            0           0                          1\n",
              "10    83000        7            0           0                          1\n",
              "11    79000        7            0           0                          1\n",
              "12    59000        5            0           0                          1"
            ]
          },
          "metadata": {
            "tags": []
          },
          "execution_count": 14
        }
      ]
    },
    {
      "cell_type": "code",
      "metadata": {
        "id": "wJEraiVzsdF_",
        "colab": {
          "base_uri": "https://localhost:8080/"
        },
        "outputId": "4e2f5e7f-3d8d-4283-8f37-e1323f08e39b"
      },
      "source": [
        "# visualização da classe\n",
        "y2"
      ],
      "execution_count": null,
      "outputs": [
        {
          "output_type": "execute_result",
          "data": {
            "text/plain": [
              "0     18000\n",
              "1     34000\n",
              "2     26100\n",
              "3     40000\n",
              "4     31500\n",
              "5     29400\n",
              "6     32000\n",
              "7     19300\n",
              "8     12000\n",
              "9     22000\n",
              "10    20000\n",
              "11    21000\n",
              "12    33000\n",
              "Name: price, dtype: int64"
            ]
          },
          "metadata": {
            "tags": []
          },
          "execution_count": 15
        }
      ]
    },
    {
      "cell_type": "markdown",
      "metadata": {
        "id": "avsC-yxYsdGC"
      },
      "source": [
        "**Criando objeto para regressão linear**"
      ]
    },
    {
      "cell_type": "code",
      "metadata": {
        "id": "wj3iDrRysdGE"
      },
      "source": [
        "# importando o LinearRegression\n",
        "from sklearn.linear_model import LinearRegression\n",
        "# criando objeto para regressão linear\n",
        "model=LinearRegression()"
      ],
      "execution_count": null,
      "outputs": []
    },
    {
      "cell_type": "markdown",
      "metadata": {
        "id": "ndi1077NsdGI"
      },
      "source": [
        "**Treinando o modelo**"
      ]
    },
    {
      "cell_type": "code",
      "metadata": {
        "id": "_UPXjVZzsdGK",
        "colab": {
          "base_uri": "https://localhost:8080/"
        },
        "outputId": "af6562c3-cefc-48df-c464-536d615adde7"
      },
      "source": [
        "model.fit(X2,y2)"
      ],
      "execution_count": null,
      "outputs": [
        {
          "output_type": "execute_result",
          "data": {
            "text/plain": [
              "LinearRegression(copy_X=True, fit_intercept=True, n_jobs=None, normalize=False)"
            ]
          },
          "metadata": {
            "tags": []
          },
          "execution_count": 17
        }
      ]
    },
    {
      "cell_type": "markdown",
      "metadata": {
        "id": "WpZdJlfXsdGM"
      },
      "source": [
        "**Predizendo resultados**\n",
        "\n",
        "Agora nossa ordem é `mileage`, `age_yrs`, `(Audi A5)`, `car_BMW X5` e `car_Mercedez Benz C class`\n",
        "\n",
        "Abaixo temos 2 exemplares de cada carro."
      ]
    },
    {
      "cell_type": "code",
      "metadata": {
        "id": "GKKPiWTQsdGN",
        "colab": {
          "base_uri": "https://localhost:8080/"
        },
        "outputId": "a3ef7e73-ad54-42d4-fcc7-318e183e764a"
      },
      "source": [
        "model.predict([[22000,5,1,0,0],[200,5,1,0,0],[22000,5,0,1,0],[200,5,0,1,0],[22000,5,0,0,1],[200,5,0,0,1]]).round(2)"
      ],
      "execution_count": null,
      "outputs": [
        {
          "output_type": "execute_result",
          "data": {
            "text/plain": [
              "array([41718.13, 49786.79, 37433.46, 45502.13, 44171.67, 52240.33])"
            ]
          },
          "metadata": {
            "tags": []
          },
          "execution_count": 18
        }
      ]
    },
    {
      "cell_type": "markdown",
      "metadata": {
        "id": "QIrNgNmssdGR"
      },
      "source": [
        "A **precisão** do nosso modelo é a mesma:"
      ]
    },
    {
      "cell_type": "code",
      "metadata": {
        "scrolled": true,
        "id": "0B05lya-sdGS",
        "colab": {
          "base_uri": "https://localhost:8080/"
        },
        "outputId": "84ffebf1-8f06-401f-e614-da2ecdc23ae4"
      },
      "source": [
        "model.score(X2,y2)"
      ],
      "execution_count": null,
      "outputs": [
        {
          "output_type": "execute_result",
          "data": {
            "text/plain": [
              "0.9417050937281083"
            ]
          },
          "metadata": {
            "tags": []
          },
          "execution_count": 19
        }
      ]
    },
    {
      "cell_type": "markdown",
      "metadata": {
        "id": "tDmmFKZJsdGV"
      },
      "source": [
        "**Não complique!**\n",
        "\n",
        "Faça um voto a você e aos outros de humildade e não tente colocar **Deep Learning** para atacar um caso onde uma **Regressão Linear** já resolve. Sempre haverá problemas mais complexos para trabalhar com modelos mais complexos."
      ]
    },
    {
      "cell_type": "markdown",
      "metadata": {
        "id": "eOTs1_BTsoTT"
      },
      "source": [
        "# Obrigado!\n",
        "\n",
        "Obrigado por ter disponibilizado um pouco do seu tempo e atenção aqui. Espero que, de alguma forma, tenha sido útil para seu crescimento. Se houver qualquer dúvida ou sugestão, não hesite em entrar em contato no [LinkedIn](https://www.linkedin.com/in/daniel-sousa-amador) e verificar meus outros projetos no [GitHub](https://github.com/amadords).\n",
        "\n",
        "[![LinkedIn](https://img.shields.io/badge/LinkedIn-DanielSousaAmador-cyan.svg)](https://www.linkedin.com/in/daniel-sousa-amador)\n",
        "[![GitHub](https://img.shields.io/badge/GitHub-amadords-darkblue.svg)](https://github.com/amadords)\n",
        "[![Medium](https://img.shields.io/badge/Medium-DanielSousaAmador-white.svg)](https://daniel-s-amador.medium.com/)\n",
        "\n",
        "\n",
        "\n",
        "<center><img width=\"90%\" src=\"https://raw.githubusercontent.com/danielamador12/Portfolio/master/github.png\"></center>"
      ]
    }
  ]
}