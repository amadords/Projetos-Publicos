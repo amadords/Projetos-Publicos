{
  "nbformat": 4,
  "nbformat_minor": 0,
  "metadata": {
    "colab": {
      "name": "Regex (Expressões Regulares)",
      "provenance": [],
      "collapsed_sections": [],
      "authorship_tag": "ABX9TyNgB6UQKHeZHifLP6VEr/Fa",
      "include_colab_link": true
    },
    "kernelspec": {
      "name": "python3",
      "display_name": "Python 3"
    }
  },
  "cells": [
    {
      "cell_type": "markdown",
      "metadata": {
        "id": "view-in-github",
        "colab_type": "text"
      },
      "source": [
        "<a href=\"https://colab.research.google.com/github/amadords/Projetos-Publicos/blob/master/Regex_(Express%C3%B5es_Regulares).ipynb\" target=\"_parent\"><img src=\"https://colab.research.google.com/assets/colab-badge.svg\" alt=\"Open In Colab\"/></a>"
      ]
    },
    {
      "cell_type": "markdown",
      "metadata": {
        "id": "DoKZv3681y51"
      },
      "source": [
        "# Expressão Regular em Python\n",
        "---\n",
        "\n",
        "![img](https://raw.githubusercontent.com/amadords/images/main/regex.png)\n",
        "\n",
        "O presente material é de autoria do [Otávio Miranda](https://www.youtube.com/channel/UCORZcu08VQiRCKpVGHTWwAA), com ministração através da [dessa](https://www.youtube.com/watch?v=wBI0yv2FG6U&list=PLbIBj8vQhvm1VnTa2Np5vDzCxVtyaYLMr) Playlist.\n",
        "\n",
        "Também é possível encontrar os arquivos em **.py** em seu [github](https://github.com/luizomf/regexp-python).\n",
        "\n",
        "Nosso intuito é apenas compilar todas as aulas no ambiente do Colab a fim de permitir que os códigos sejam executados sem instalações em máquinas.\n",
        "\n",
        "É indicado também acompanhar junto às aulas, uma vez que as explicações estarão somente lá."
      ]
    },
    {
      "cell_type": "markdown",
      "metadata": {
        "id": "8NyP1gIa2Ofv"
      },
      "source": [
        "## Aula 01\r\n",
        "\r\n",
        "**Funções**"
      ]
    },
    {
      "cell_type": "code",
      "metadata": {
        "id": "55xKNAwL2dfP"
      },
      "source": [
        "import re"
      ],
      "execution_count": null,
      "outputs": []
    },
    {
      "cell_type": "code",
      "metadata": {
        "id": "ROoejPhP1trm"
      },
      "source": [
        "string = 'Este é um teste de expressões regulares'"
      ],
      "execution_count": null,
      "outputs": []
    },
    {
      "cell_type": "code",
      "metadata": {
        "colab": {
          "base_uri": "https://localhost:8080/",
          "height": 150
        },
        "id": "OhIjIEx22bVK",
        "outputId": "d36dd1d4-8727-4096-97c2-98c83d942d6f"
      },
      "source": [
        "emails = \"\"\"\n",
        "Valid email addresses\n",
        "o-que_vai.te+dar+dor-de.cabeca@gmail-com-traco.com.br\n",
        "simple@example.com\n",
        "very.common@example.com\n",
        "disposable.style.email.with+symbol@example.com\n",
        "other.email-with-hyphen@example.com\n",
        "fully-qualified-domain@example.com\n",
        "user.name+tag+sorting@example.com\n",
        "x@example.com\n",
        "example-indeed@strange-example.com\n",
        "example@s.example\n",
        "a@a.com.br\n",
        "mailhost!username@example.org\n",
        "user%example.com@example.org\n",
        "email@example.com\n",
        "firstname.lastname@example.com\n",
        "email@subdomain.example.com\n",
        "firstname+lastname@example.com\n",
        "email@123.123.123.123\n",
        "\"email\"@example.com\n",
        "1234567890@example.com\n",
        "email@example-one.com\n",
        "_______@example.com\n",
        "email@example.name\n",
        "email@example.museum\n",
        "email@example.co.jp\n",
        "firstname-lastname@example.com\n",
        "Invalid email addresses\n",
        "Abc.example.com\n",
        "<aqui-te-um@email-pra-validar.com.br>\n",
        "A@b@c@example.com\n",
        "a\"b(c)d,e:f;g<h>i[j\\k]l@example.com\n",
        "just\"not\"right@example.com\n",
        "this is\"not\\allowed@example.com\n",
        "this\\ still\\\"not\\\\allowed@example.com\n",
        "plainaddress\n",
        "#@%^%#$@#$@#.com\n",
        "@example.com\n",
        "<email@example.com>\n",
        "email.example.com\n",
        "email@example@example.com\n",
        ".email@example.com\n",
        "email.@example.com\n",
        "email..email@example.com\n",
        "あいうえお@example.com\n",
        "email@example\n",
        "email@-example.com\n",
        "email@example..com\n",
        "Abc..123@example.com\n",
        "”(),:;<>[\\]@example.com\n",
        "just”not”right@example.com\n",
        "this\\ is\"really\"not\\allowed@example.com\n",
        "\"\"\"print(re.search(r'teste', string))"
      ],
      "execution_count": null,
      "outputs": [
        {
          "output_type": "error",
          "ename": "SyntaxError",
          "evalue": "ignored",
          "traceback": [
            "\u001b[0;36m  File \u001b[0;32m\"<ipython-input-3-c9c9f3b30d28>\"\u001b[0;36m, line \u001b[0;32m54\u001b[0m\n\u001b[0;31m    \"\"\"print(re.search(r'teste', string))\u001b[0m\n\u001b[0m                                         \n^\u001b[0m\n\u001b[0;31mSyntaxError\u001b[0m\u001b[0;31m:\u001b[0m invalid syntax\n"
          ]
        }
      ]
    },
    {
      "cell_type": "code",
      "metadata": {
        "colab": {
          "base_uri": "https://localhost:8080/"
        },
        "id": "it2e7VCA2l1K",
        "outputId": "11f34f09-3677-4541-e9db-e79e79b0e25a"
      },
      "source": [
        "print(re.findall(r'teste', string))"
      ],
      "execution_count": null,
      "outputs": [
        {
          "output_type": "stream",
          "text": [
            "['teste']\n"
          ],
          "name": "stdout"
        }
      ]
    },
    {
      "cell_type": "code",
      "metadata": {
        "colab": {
          "base_uri": "https://localhost:8080/"
        },
        "id": "YdydZYvQ2tVb",
        "outputId": "97dc91d7-2bb0-42c0-9e72-20cd95246b50"
      },
      "source": [
        "print(re.sub(r'teste', 'ABCD', string))"
      ],
      "execution_count": null,
      "outputs": [
        {
          "output_type": "stream",
          "text": [
            "Este é um ABCD de expressões regulares\n"
          ],
          "name": "stdout"
        }
      ]
    },
    {
      "cell_type": "code",
      "metadata": {
        "colab": {
          "base_uri": "https://localhost:8080/"
        },
        "id": "HMjgwL5D23Ej",
        "outputId": "9d9c905e-1443-4c13-e6f4-7ec8173f4739"
      },
      "source": [
        "print(re.sub(r'teste', 'ABCD', string, count = 1)) # count = 1 só substitui a primeira"
      ],
      "execution_count": null,
      "outputs": [
        {
          "output_type": "stream",
          "text": [
            "Este é um ABCD de expressões regulares\n"
          ],
          "name": "stdout"
        }
      ]
    },
    {
      "cell_type": "code",
      "metadata": {
        "colab": {
          "base_uri": "https://localhost:8080/"
        },
        "id": "mmbsjRZy3DBj",
        "outputId": "bf2b1a19-4606-4811-f1f2-c040b73a0425"
      },
      "source": [
        "regexp = re.compile(r'teste')\r\n",
        "print(regexp.search(string))\r\n",
        "print(regexp.findall(string))\r\n",
        "print(regexp.sub('DEF', string))"
      ],
      "execution_count": null,
      "outputs": [
        {
          "output_type": "stream",
          "text": [
            "<_sre.SRE_Match object; span=(10, 15), match='teste'>\n",
            "['teste']\n",
            "Este é um DEF de expressões regulares\n"
          ],
          "name": "stdout"
        }
      ]
    },
    {
      "cell_type": "markdown",
      "metadata": {
        "id": "KXN1T_5s4ByM"
      },
      "source": [
        "## Aula 02\r\n",
        "\r\n",
        "**Meta caracteres:**\r\n",
        "\r\n",
        ". ^ $ * + ? {} [] \\ ] ()\r\n",
        "\r\n",
        "**Usar:** \r\n",
        "\r\n",
        "or ou |\r\n",
        "\r\n",
        "and ou &\r\n"
      ]
    },
    {
      "cell_type": "code",
      "metadata": {
        "id": "UGPZ3siN3wt8"
      },
      "source": [
        "texto = '''\r\n",
        "\r\n",
        "João trouxe flores para sua amada namorada em 10 de Janeiro de 1970,\r\n",
        "Maria era o nome dela.\r\n",
        "\r\n",
        "Foi um ano excelente na vida de João. Teve 5 filhos, todos adultos atualmente.\r\n",
        "Maria, hoje sua esposa faz aquele café com pão de queijo nas tardes de domingo.\r\n",
        "Também né! Sendo a boa mineira que é, nunca esquece seu famoso pão de queijo.\r\n",
        "Não canso de ouvir a Maria:\r\n",
        "\r\n",
        "\"Jooooooooooooooooãooooooo, o café tá prontinho aqui. Veeem veeemm veeemm veem vem'\"!\r\n",
        "\r\n",
        "Jão\r\n",
        "\r\n",
        "'''"
      ],
      "execution_count": null,
      "outputs": []
    },
    {
      "cell_type": "code",
      "metadata": {
        "colab": {
          "base_uri": "https://localhost:8080/",
          "height": 139
        },
        "id": "Sj3C8g9O5dGZ",
        "outputId": "d29f6dba-cec9-4b5f-e5ca-d7fa77b10147"
      },
      "source": [
        "texto"
      ],
      "execution_count": null,
      "outputs": [
        {
          "output_type": "execute_result",
          "data": {
            "application/vnd.google.colaboratory.intrinsic+json": {
              "type": "string"
            },
            "text/plain": [
              "'\\n\\nJoão trouxe flores para sua amada namorada em 10 de Janeiro de 1970,\\nMaria era o nome dela.\\n\\nFoi um ano excelente na vida de João. Teve 5 filhos, todos adultos atualmente.\\nMaria, hoje sua esposa faz aquele café com pão de queijo nas tardes de domingo.\\nTambém né! Sendo a boa mineira que é, nunca esquece seu famoso pão de queijo.\\nNão canso de ouvir a Maria:\\n\\n\"Jooooooooooooooooãooooooo, o café tá prontinho aqui. Veeem veeemm veeemm veem vem\\'\"!\\n\\nJão\\n\\n'"
            ]
          },
          "metadata": {
            "tags": []
          },
          "execution_count": 9
        }
      ]
    },
    {
      "cell_type": "code",
      "metadata": {
        "colab": {
          "base_uri": "https://localhost:8080/"
        },
        "id": "vCHpxk9M6N1I",
        "outputId": "80574a63-8f79-4186-d80e-542dc72b86bf"
      },
      "source": [
        "print(re.findall(r'João | Maria', texto))"
      ],
      "execution_count": null,
      "outputs": [
        {
          "output_type": "stream",
          "text": [
            "['João ', ' Maria']\n"
          ],
          "name": "stdout"
        }
      ]
    },
    {
      "cell_type": "code",
      "metadata": {
        "colab": {
          "base_uri": "https://localhost:8080/"
        },
        "id": "mlpSr2MZ6xAa",
        "outputId": "27e37e45-3c81-4a25-e4b4-39d0cd2da1be"
      },
      "source": [
        "# o ponto é caractere coringa\r\n",
        "\r\n",
        "print(re.findall(r'J.ão | Maria', texto))"
      ],
      "execution_count": null,
      "outputs": [
        {
          "output_type": "stream",
          "text": [
            "['João ', ' Maria']\n"
          ],
          "name": "stdout"
        }
      ]
    },
    {
      "cell_type": "code",
      "metadata": {
        "colab": {
          "base_uri": "https://localhost:8080/"
        },
        "id": "Fr3eUjl17HcV",
        "outputId": "972063f9-30e8-42a7-9f63-00f26ec6151d"
      },
      "source": [
        "print(re.findall(r'ad.......', texto))"
      ],
      "execution_count": null,
      "outputs": [
        {
          "output_type": "stream",
          "text": [
            "['ada namor', 'ada em 10', 'adultos a']\n"
          ],
          "name": "stdout"
        }
      ]
    },
    {
      "cell_type": "code",
      "metadata": {
        "colab": {
          "base_uri": "https://localhost:8080/"
        },
        "id": "DZgUh_rW7N7d",
        "outputId": "42888be5-d34b-414d-e96f-7e4d1255b7b4"
      },
      "source": [
        "print(re.findall(r'[a-z]aria', texto))"
      ],
      "execution_count": null,
      "outputs": [
        {
          "output_type": "stream",
          "text": [
            "[]\n"
          ],
          "name": "stdout"
        }
      ]
    },
    {
      "cell_type": "code",
      "metadata": {
        "colab": {
          "base_uri": "https://localhost:8080/"
        },
        "id": "vj54t01X7kLp",
        "outputId": "b98cef55-2aad-487e-9f2e-4dff20e0f43a"
      },
      "source": [
        "print(re.findall(r'[A-Z]aria', texto))"
      ],
      "execution_count": null,
      "outputs": [
        {
          "output_type": "stream",
          "text": [
            "['Maria', 'Maria', 'Maria']\n"
          ],
          "name": "stdout"
        }
      ]
    },
    {
      "cell_type": "code",
      "metadata": {
        "colab": {
          "base_uri": "https://localhost:8080/"
        },
        "id": "GekDozBL7tzo",
        "outputId": "d480e4b5-8d30-4b17-b341-1c12ab586964"
      },
      "source": [
        "print(re.findall(r'[a-zA-Z0-9]aria', texto))"
      ],
      "execution_count": null,
      "outputs": [
        {
          "output_type": "stream",
          "text": [
            "['Maria', 'Maria', 'Maria']\n"
          ],
          "name": "stdout"
        }
      ]
    },
    {
      "cell_type": "code",
      "metadata": {
        "colab": {
          "base_uri": "https://localhost:8080/"
        },
        "id": "1zUU2IXZ7ytL",
        "outputId": "da384786-fee1-4dab-c659-2aa5be3c1f83"
      },
      "source": [
        "# caracteres como o . e _ dentro do range não precisam ser escapados\r\n",
        "\r\n",
        "print(re.findall(r'[a-zA-Z0-9._]aria', texto))"
      ],
      "execution_count": null,
      "outputs": [
        {
          "output_type": "stream",
          "text": [
            "['Maria', 'Maria', 'Maria']\n"
          ],
          "name": "stdout"
        }
      ]
    },
    {
      "cell_type": "code",
      "metadata": {
        "colab": {
          "base_uri": "https://localhost:8080/"
        },
        "id": "HLmRG16t78am",
        "outputId": "6015434d-e613-4709-804f-0b445161fcab"
      },
      "source": [
        "# ignorando o case\r\n",
        "\r\n",
        "print(re.findall(r'João | Maria', texto, flags = re.I))"
      ],
      "execution_count": null,
      "outputs": [
        {
          "output_type": "stream",
          "text": [
            "['João ', ' Maria']\n"
          ],
          "name": "stdout"
        }
      ]
    },
    {
      "cell_type": "code",
      "metadata": {
        "colab": {
          "base_uri": "https://localhost:8080/"
        },
        "id": "uDxo9rkA8NOX",
        "outputId": "13a18869-04f0-4aa7-a9fc-fcafa56af21e"
      },
      "source": [
        "# o mesmo da célula acima\r\n",
        "\r\n",
        "print(re.findall(r'JOãO | MaRia', texto, flags = re.IGNORECASE))"
      ],
      "execution_count": null,
      "outputs": [
        {
          "output_type": "stream",
          "text": [
            "['João ', ' Maria']\n"
          ],
          "name": "stdout"
        }
      ]
    },
    {
      "cell_type": "markdown",
      "metadata": {
        "id": "GyIu2Fdl80zU"
      },
      "source": [
        "## Aula 03\r\n",
        "\r\n",
        "**Quantificadores**\r\n",
        "\r\n",
        "Os seguintes metacaracteres são quantificadores:\r\n",
        "\r\n",
        "* + ? {} [] \\ ] () \r\n",
        "\r\n",
        "\\* 0 ou n\r\n",
        "\r\n",
        "\\+ 1 ou n\r\n",
        "\r\n",
        "? 0 ou 1\r\n",
        "\r\n",
        "{n}\r\n",
        "\r\n",
        "{min, max} \r\n",
        "  \r\n",
        "  - Ex.: {7,} é de 7 até ilimitado; {,7} é de 0 até 7, {7} é exatamente 7; {2,7} é de 2 a 7.\r\n",
        "\r\n",
        "\r\n",
        "\r\n"
      ]
    },
    {
      "cell_type": "code",
      "metadata": {
        "colab": {
          "base_uri": "https://localhost:8080/"
        },
        "id": "-w50hm3J8TsT",
        "outputId": "bc1dda97-d135-42fd-9a47-e631c5070a15"
      },
      "source": [
        "# pegando o Jooooooooooooooooãooooooo com o quantificador +\r\n",
        "# pode ser aplicado a um grupo ou range também\r\n",
        "\r\n",
        "print(re.findall(r'Jo+ão+', texto, flags = re.I))"
      ],
      "execution_count": null,
      "outputs": [
        {
          "output_type": "stream",
          "text": [
            "['João', 'João', 'Jooooooooooooooooãooooooo']\n"
          ],
          "name": "stdout"
        }
      ]
    },
    {
      "cell_type": "code",
      "metadata": {
        "colab": {
          "base_uri": "https://localhost:8080/"
        },
        "id": "VWR-w4oTFcgH",
        "outputId": "5e33056c-f109-41f3-a6fe-dcd4644a4192"
      },
      "source": [
        "# aplicando a um range ou conjunto\r\n",
        "\r\n",
        "print(re.findall(r'J[a-zA-Z]+ão+', texto, flags = re.I))"
      ],
      "execution_count": null,
      "outputs": [
        {
          "output_type": "stream",
          "text": [
            "['João', 'João', 'Jooooooooooooooooãooooooo']\n"
          ],
          "name": "stdout"
        }
      ]
    },
    {
      "cell_type": "code",
      "metadata": {
        "colab": {
          "base_uri": "https://localhost:8080/"
        },
        "id": "-zdKXLS8BQsH",
        "outputId": "9828016f-debf-4306-9f60-fb4faee50c8c"
      },
      "source": [
        "# substituindo João por Felipe\r\n",
        "print(re.sub(r'Jo+ão+', 'Felipe', texto, flags = re.I))"
      ],
      "execution_count": null,
      "outputs": [
        {
          "output_type": "stream",
          "text": [
            "\n",
            "\n",
            "Felipe trouxe flores para sua amada namorada em 10 de Janeiro de 1970,\n",
            "Maria era o nome dela.\n",
            "\n",
            "Foi um ano excelente na vida de Felipe. Teve 5 filhos, todos adultos atualmente.\n",
            "Maria, hoje sua esposa faz aquele café com pão de queijo nas tardes de domingo.\n",
            "Também né! Sendo a boa mineira que é, nunca esquece seu famoso pão de queijo.\n",
            "Não canso de ouvir a Maria:\n",
            "\n",
            "\"Felipe, o café tá prontinho aqui. Veeem veeemm veeemm veem vem'\"!\n",
            "\n",
            "Jão\n",
            "\n",
            "\n"
          ],
          "name": "stdout"
        }
      ]
    },
    {
      "cell_type": "code",
      "metadata": {
        "colab": {
          "base_uri": "https://localhost:8080/"
        },
        "id": "Ntvt412EB1bS",
        "outputId": "7f002315-cb6c-4026-83e5-cdf5d9536b06"
      },
      "source": [
        "# pegando o Jão com *\r\n",
        "\r\n",
        "print(re.findall(r'Jo*ão', texto, flags = re.I))"
      ],
      "execution_count": null,
      "outputs": [
        {
          "output_type": "stream",
          "text": [
            "['João', 'João', 'Jooooooooooooooooão', 'Jão']\n"
          ],
          "name": "stdout"
        }
      ]
    },
    {
      "cell_type": "code",
      "metadata": {
        "colab": {
          "base_uri": "https://localhost:8080/"
        },
        "id": "pMRU5UrQCTmv",
        "outputId": "86fa3bf5-ae15-488f-9c09-443bb1163ebe"
      },
      "source": [
        "# dizendo que o caractere pode não existir ou existir uma vez com ?\r\n",
        "\r\n",
        "print(re.findall(r'Jo?ão', texto, flags = re.I))"
      ],
      "execution_count": null,
      "outputs": [
        {
          "output_type": "stream",
          "text": [
            "['João', 'João', 'Jão']\n"
          ],
          "name": "stdout"
        }
      ]
    },
    {
      "cell_type": "code",
      "metadata": {
        "colab": {
          "base_uri": "https://localhost:8080/"
        },
        "id": "0bG_-jfRCo5R",
        "outputId": "4e4734f2-ec5e-4801-ac85-f1a8ab036336"
      },
      "source": [
        "# passando minimo e maximo com {}\r\n",
        "# {1,} significa minimo de 1 e máximo ilimitado\r\n",
        "\r\n",
        "print(re.findall(r'Jo{1,}ão{1,}', texto, flags = re.I))\r\n",
        "\r\n",
        "# nesse caso é o mesmo resultado de print(re.findall(r'Jo+ão+', texto, flags = re.I))"
      ],
      "execution_count": null,
      "outputs": [
        {
          "output_type": "stream",
          "text": [
            "['João', 'João', 'Jooooooooooooooooãooooooo']\n"
          ],
          "name": "stdout"
        }
      ]
    },
    {
      "cell_type": "code",
      "metadata": {
        "colab": {
          "base_uri": "https://localhost:8080/"
        },
        "id": "luWTCnWMDTc3",
        "outputId": "9597b8ce-aff9-49af-ca3c-fa3bc6352929"
      },
      "source": [
        "# comprovando ser o mesmo resultado\r\n",
        "\r\n",
        "print(re.findall(r'Jo+ão+', texto, flags = re.I))"
      ],
      "execution_count": null,
      "outputs": [
        {
          "output_type": "stream",
          "text": [
            "['João', 'João', 'Jooooooooooooooooãooooooo']\n"
          ],
          "name": "stdout"
        }
      ]
    },
    {
      "cell_type": "code",
      "metadata": {
        "colab": {
          "base_uri": "https://localhost:8080/"
        },
        "id": "01CIdsJQDhU8",
        "outputId": "5e437c37-098d-4b72-9edb-5e7ee8c30e30"
      },
      "source": [
        "print(re.findall(r've{3}m{1,2}', texto, flags = re.I))"
      ],
      "execution_count": null,
      "outputs": [
        {
          "output_type": "stream",
          "text": [
            "['Veeem', 'veeemm', 'veeemm']\n"
          ],
          "name": "stdout"
        }
      ]
    },
    {
      "cell_type": "code",
      "metadata": {
        "id": "NSR_h77cE2Ii"
      },
      "source": [
        "texto2= 'João ama ser amado'"
      ],
      "execution_count": null,
      "outputs": []
    },
    {
      "cell_type": "code",
      "metadata": {
        "colab": {
          "base_uri": "https://localhost:8080/"
        },
        "id": "Nol4BXa0Ft6n",
        "outputId": "0cab9092-4f9e-4cc3-c358-08e54c50c5ed"
      },
      "source": [
        "print(re.findall(r'ama', texto2, flags=re.I))"
      ],
      "execution_count": null,
      "outputs": [
        {
          "output_type": "stream",
          "text": [
            "['ama', 'ama']\n"
          ],
          "name": "stdout"
        }
      ]
    },
    {
      "cell_type": "code",
      "metadata": {
        "colab": {
          "base_uri": "https://localhost:8080/"
        },
        "id": "7lpkkfZoGC3J",
        "outputId": "7b3c4c3a-70a8-4c44-99b0-d6a3a6a5ec06"
      },
      "source": [
        " # pegando o d ou o\r\n",
        "\r\n",
        " print(re.findall(r'ama[do]', texto2, flags=re.I))"
      ],
      "execution_count": null,
      "outputs": [
        {
          "output_type": "stream",
          "text": [
            "['amad']\n"
          ],
          "name": "stdout"
        }
      ]
    },
    {
      "cell_type": "code",
      "metadata": {
        "colab": {
          "base_uri": "https://localhost:8080/"
        },
        "id": "Wmq4DBGpGXQF",
        "outputId": "bdc7deeb-8257-4cf5-b657-13286ea4c4f2"
      },
      "source": [
        " # pegando o d e o com o {} mostrando que ocorre 2 vezes a verificação\r\n",
        " # checa as duas letras, duas vezes, logo não importe se é [do] ou [od]\r\n",
        "\r\n",
        " print(re.findall(r'ama[do]{2}', texto2, flags=re.I))"
      ],
      "execution_count": null,
      "outputs": [
        {
          "output_type": "stream",
          "text": [
            "['amado']\n"
          ],
          "name": "stdout"
        }
      ]
    },
    {
      "cell_type": "code",
      "metadata": {
        "colab": {
          "base_uri": "https://localhost:8080/"
        },
        "id": "nWFOxI9dGgrj",
        "outputId": "ec750f31-fe25-4cbe-9cc0-0ad250a1f692"
      },
      "source": [
        "# acontece 0 ou n vezes\r\n",
        "\r\n",
        "print(re.findall(r'ama[do]*', texto2, flags=re.I))"
      ],
      "execution_count": null,
      "outputs": [
        {
          "output_type": "stream",
          "text": [
            "['ama', 'amado']\n"
          ],
          "name": "stdout"
        }
      ]
    },
    {
      "cell_type": "code",
      "metadata": {
        "colab": {
          "base_uri": "https://localhost:8080/"
        },
        "id": "QZMZg3cFHGTx",
        "outputId": "330abdef-d43e-49f7-9f6f-3a5bde626e6c"
      },
      "source": [
        " # acontece 0 até 2 vezes\r\n",
        "\r\n",
        "print(re.findall(r'ama[od]{0,2}', texto2, flags=re.I))"
      ],
      "execution_count": null,
      "outputs": [
        {
          "output_type": "stream",
          "text": [
            "['ama', 'amado']\n"
          ],
          "name": "stdout"
        }
      ]
    },
    {
      "cell_type": "markdown",
      "metadata": {
        "id": "KgQ5R1G_HpGk"
      },
      "source": [
        "## Aula 04\r\n",
        "\r\n",
        "**Quantificadores Greedy e No Greedy (ou Lazy)**\r\n",
        "\r\n",
        "Significa, numa tradução literal, guloso e não-guloso.\r\n"
      ]
    },
    {
      "cell_type": "code",
      "metadata": {
        "id": "wk70a9AVHebw"
      },
      "source": [
        "html = '''\r\n",
        "\r\n",
        "<p>Frase 1</p> <p>Eita</p> <p>Qualquer frase</p> <div></div>\r\n",
        "\r\n",
        "'''"
      ],
      "execution_count": null,
      "outputs": []
    },
    {
      "cell_type": "code",
      "metadata": {
        "colab": {
          "base_uri": "https://localhost:8080/"
        },
        "id": "EyZZUUhJKkKn",
        "outputId": "4515d1ad-3868-45f1-da00-b137b9a00fd1"
      },
      "source": [
        " # capturando as tag html\r\n",
        "\r\n",
        "print(re.findall(r'<[pdiv]{1,3}>',html))"
      ],
      "execution_count": null,
      "outputs": [
        {
          "output_type": "stream",
          "text": [
            "['<p>', '<p>', '<p>', '<div>']\n"
          ],
          "name": "stdout"
        }
      ]
    },
    {
      "cell_type": "code",
      "metadata": {
        "id": "qlBaGp5WLz0K",
        "colab": {
          "base_uri": "https://localhost:8080/"
        },
        "outputId": "c98e6542-b8e9-4626-cd1d-d6b7d4714f24"
      },
      "source": [
        " # ponto repetindo de 0 até n vezes vai pegar tudo que tiver pela frente, exceto quebra de linha\r\n",
        " \r\n",
        " print(re.findall(r'<[pdiv]{1,3}>.*',html))"
      ],
      "execution_count": null,
      "outputs": [
        {
          "output_type": "stream",
          "text": [
            "['<p>Frase 1</p> <p>Eita</p> <p>Qualquer frase</p> <div></div>']\n"
          ],
          "name": "stdout"
        }
      ]
    },
    {
      "cell_type": "code",
      "metadata": {
        "colab": {
          "base_uri": "https://localhost:8080/"
        },
        "id": "m_-qFMBuGyYZ",
        "outputId": "c36e1284-7784-4409-9a2d-4461018b092f"
      },
      "source": [
        "# fechando a tag escapano a / com \\\r\n",
        "\r\n",
        "print(re.findall(r'<[pdiv]{1,3}>.*<\\/[dpiv]{1,3}>',html))"
      ],
      "execution_count": null,
      "outputs": [
        {
          "output_type": "stream",
          "text": [
            "['<p>Frase 1</p> <p>Eita</p> <p>Qualquer frase</p> <div></div>']\n"
          ],
          "name": "stdout"
        }
      ]
    },
    {
      "cell_type": "markdown",
      "metadata": {
        "id": "rHDYbe8FHgyO"
      },
      "source": [
        "É uma expressão regular meio ambigua, pois há mais de um ponto onde a expressão pode parar.\r\n",
        "\r\n",
        "Embora e inicie no \\<p> e termine no \\</p>, a expressão continua checando.\r\n",
        "\r\n",
        "Isso é o que chama de comportamento **greedy**, pois sai pegando tudo, pegando o máximo de informação possível.\r\n"
      ]
    },
    {
      "cell_type": "code",
      "metadata": {
        "colab": {
          "base_uri": "https://localhost:8080/"
        },
        "id": "kB68dHk_IkAg",
        "outputId": "9df8275f-1d79-4994-efb2-66dc1aa6d554"
      },
      "source": [
        "# colocando ? para resolver o problema, passando a ser no greedy, ou seja, fecehando a primeir a vez, já retorna o resultado antes de ir pro próximo\r\n",
        "\r\n",
        "print(re.findall(r'<[pdiv]{1,3}>.*?<\\/[dpiv]{1,3}>',html))"
      ],
      "execution_count": null,
      "outputs": [
        {
          "output_type": "stream",
          "text": [
            "['<p>Frase 1</p>', '<p>Eita</p>', '<p>Qualquer frase</p>', '<div></div>']\n"
          ],
          "name": "stdout"
        }
      ]
    },
    {
      "cell_type": "code",
      "metadata": {
        "colab": {
          "base_uri": "https://localhost:8080/"
        },
        "id": "bmMGCUV6JavD",
        "outputId": "1251c3b9-f7a2-4948-e4a3-61827b74b11a"
      },
      "source": [
        "# greedy novamente\r\n",
        "\r\n",
        "print(re.findall(r'<[pdiv]{1,3}>.+<\\/[dpiv]{1,3}>',html))"
      ],
      "execution_count": null,
      "outputs": [
        {
          "output_type": "stream",
          "text": [
            "['<p>Frase 1</p> <p>Eita</p> <p>Qualquer frase</p> <div></div>']\n"
          ],
          "name": "stdout"
        }
      ]
    },
    {
      "cell_type": "code",
      "metadata": {
        "colab": {
          "base_uri": "https://localhost:8080/"
        },
        "id": "ivcD0zWtI_CD",
        "outputId": "534d2590-392a-44a7-8baf-708f46897626"
      },
      "source": [
        "# colocando o + p'ra não ser retornada a div vazia\r\n",
        "\r\n",
        "print(re.findall(r'<[pdiv]{1,3}>.+?<\\/[dpiv]{1,3}>',html))"
      ],
      "execution_count": null,
      "outputs": [
        {
          "output_type": "stream",
          "text": [
            "['<p>Frase 1</p>', '<p>Eita</p>', '<p>Qualquer frase</p>']\n"
          ],
          "name": "stdout"
        }
      ]
    },
    {
      "cell_type": "markdown",
      "metadata": {
        "id": "aMH4fUU5KxGJ"
      },
      "source": [
        "[Original](https://www.youtube.com/watch?v=wBI0yv2FG6U&list=PLbIBj8vQhvm1VnTa2Np5vDzCxVtyaYLMr)"
      ]
    },
    {
      "cell_type": "markdown",
      "metadata": {
        "id": "l2S0oyjDJwjC"
      },
      "source": [
        "## Aula 05\r\n",
        "\r\n",
        "**Grupo e Retrovisores**\r\n"
      ]
    },
    {
      "cell_type": "markdown",
      "metadata": {
        "id": "sDjH9_l8KZeH"
      },
      "source": [
        "\r\n",
        "- Os **grupos** se assemelham com os conjuntos, contudo, nos conjuntos encontra qualquer caractere que está dentro do conjunto ou do range, já nos grupos têm que encontrar especificamente o que tem neles.\r\n",
        "\r\n",
        "- Exemplo de grupo: (abc), Terá que encontrar abc.\r\n",
        "\r\n",
        "- Tal qual os conjuntos, podem ser unidos aos quantificadores.\r\n",
        "\r\n",
        "- Os grupos são salvos na memória, logo podem ser acessados depois como se fosse uma variável.\r\n",
        "  "
      ]
    },
    {
      "cell_type": "code",
      "metadata": {
        "id": "XN7kTKHiMuRn"
      },
      "source": [
        "html = '''\r\n",
        "\r\n",
        "<p>Frase 1</p> <p>Eita</p> <p>Qualquer frase</p> <div>1</div>\r\n",
        "\r\n",
        "'''"
      ],
      "execution_count": null,
      "outputs": []
    },
    {
      "cell_type": "code",
      "metadata": {
        "colab": {
          "base_uri": "https://localhost:8080/"
        },
        "id": "sN8sEU3nJzvu",
        "outputId": "4a349b97-2c31-46b5-deca-e23db5c3a459"
      },
      "source": [
        " print(re.findall(r'<[pdiv]{1,3}>.+?<\\/[dpiv]{1,3}>',html))"
      ],
      "execution_count": null,
      "outputs": [
        {
          "output_type": "stream",
          "text": [
            "['<p>Frase 1</p>', '<p>Eita</p>', '<p>Qualquer frase</p>', '<div>1</div>']\n"
          ],
          "name": "stdout"
        }
      ]
    },
    {
      "cell_type": "code",
      "metadata": {
        "colab": {
          "base_uri": "https://localhost:8080/"
        },
        "id": "ctHdg1LoJ510",
        "outputId": "a788a1ea-5d37-4c5f-b35d-1c05cd5231cc"
      },
      "source": [
        "# criando grupo\r\n",
        "# o grupo está sendo acessado com o \\1\r\n",
        "\r\n",
        "print(re.findall(r'<([pdiv]{1,3})>.+?<\\/\\1>',html))\r\n",
        "\r\n",
        "# o problema é que aqui retorna somente o que está dentro do grupo, no caso somente os p's e a div"
      ],
      "execution_count": null,
      "outputs": [
        {
          "output_type": "stream",
          "text": [
            "['p', 'p', 'p', 'div']\n"
          ],
          "name": "stdout"
        }
      ]
    },
    {
      "cell_type": "markdown",
      "metadata": {
        "id": "ZQ96-JLNOI23"
      },
      "source": [
        "- Os **retrovisores** são o modo de acesso dentro dos grupos.\r\n",
        "    - Exemplos:\r\n",
        "      - () acesso com \\1\r\n",
        "      - () () acesso com \\1 e \\2\r\n",
        "    - Se tenho um grupo dentro de outro\r\n",
        "      - (()) seriam o \\1 e \\2\r\n",
        "      - (())() o último seria o \\3, logo seria \\1(fora), \\2 (dentro) e \\3\r\n",
        "\r\n",
        "  - P'ra saber o número de retrovisor correspondente é só contar a quantidade de abertura de parênteses até ele."
      ]
    },
    {
      "cell_type": "code",
      "metadata": {
        "colab": {
          "base_uri": "https://localhost:8080/"
        },
        "id": "Gk1XeyKRL_5m",
        "outputId": "cd6811d2-10f1-4b03-8fbc-a915bb2ae650"
      },
      "source": [
        "# colocando tudo em um grupo envolvendo tudo p'ra resolver o problema\r\n",
        "\r\n",
        "print(re.findall(r'(<([pdiv]{1,3})>.+?<\\/\\2>)',html))\r\n"
      ],
      "execution_count": null,
      "outputs": [
        {
          "output_type": "stream",
          "text": [
            "[('<p>Frase 1</p>', 'p'), ('<p>Eita</p>', 'p'), ('<p>Qualquer frase</p>', 'p'), ('<div>1</div>', 'div')]\n"
          ],
          "name": "stdout"
        }
      ]
    },
    {
      "cell_type": "code",
      "metadata": {
        "colab": {
          "base_uri": "https://localhost:8080/"
        },
        "id": "awZGkYSYOUtQ",
        "outputId": "d1e486ab-2cb2-4095-bef5-12c92abad308"
      },
      "source": [
        "# acessando cada tag\r\n",
        "\r\n",
        "tags = re.findall(r'(<([pdiv]{1,3})>.+?<\\/\\2>)',html)\r\n",
        "for tag in tags:\r\n",
        "  print(tag)"
      ],
      "execution_count": null,
      "outputs": [
        {
          "output_type": "stream",
          "text": [
            "('<p>Frase 1</p>', 'p')\n",
            "('<p>Eita</p>', 'p')\n",
            "('<p>Qualquer frase</p>', 'p')\n",
            "('<div>1</div>', 'div')\n"
          ],
          "name": "stdout"
        }
      ]
    },
    {
      "cell_type": "code",
      "metadata": {
        "colab": {
          "base_uri": "https://localhost:8080/"
        },
        "id": "qMBCVGlPO2Gj",
        "outputId": "e5ebeaf4-e66c-4df9-c6af-b5c25ee8b8ee"
      },
      "source": [
        "# separando por grupos\r\n",
        "\r\n",
        "for tag in tags:\r\n",
        "  um, dois = tag\r\n",
        "  print(um, dois)"
      ],
      "execution_count": null,
      "outputs": [
        {
          "output_type": "stream",
          "text": [
            "<p>Frase 1</p> p\n",
            "<p>Eita</p> p\n",
            "<p>Qualquer frase</p> p\n",
            "<div>1</div> div\n"
          ],
          "name": "stdout"
        }
      ]
    },
    {
      "cell_type": "code",
      "metadata": {
        "colab": {
          "base_uri": "https://localhost:8080/"
        },
        "id": "MNYodMsFPNL4",
        "outputId": "8ed9abe3-7260-45ab-9e1d-8197d077449c"
      },
      "source": [
        "for tag in tags:\r\n",
        "  um, dois = tag\r\n",
        "  print(um)\r\n",
        "  print(dois)"
      ],
      "execution_count": null,
      "outputs": [
        {
          "output_type": "stream",
          "text": [
            "<p>Frase 1</p>\n",
            "p\n",
            "<p>Eita</p>\n",
            "p\n",
            "<p>Qualquer frase</p>\n",
            "p\n",
            "<div>1</div>\n",
            "div\n"
          ],
          "name": "stdout"
        }
      ]
    },
    {
      "cell_type": "code",
      "metadata": {
        "colab": {
          "base_uri": "https://localhost:8080/"
        },
        "id": "txh6JygYPXiH",
        "outputId": "c13709a6-520f-42f4-c68b-575b15ba7f75"
      },
      "source": [
        "# com pprint p'ra dar um print mais bonito\r\n",
        "from pprint import pprint\r\n",
        "\r\n",
        "pprint(tags)"
      ],
      "execution_count": null,
      "outputs": [
        {
          "output_type": "stream",
          "text": [
            "[('<p>Frase 1</p>', 'p'),\n",
            " ('<p>Eita</p>', 'p'),\n",
            " ('<p>Qualquer frase</p>', 'p'),\n",
            " ('<div>1</div>', 'div')]\n"
          ],
          "name": "stdout"
        }
      ]
    },
    {
      "cell_type": "code",
      "metadata": {
        "colab": {
          "base_uri": "https://localhost:8080/"
        },
        "id": "DEZth6I8PiZ2",
        "outputId": "2cfd6116-f2bf-40f0-9f66-22d428b8a0a4"
      },
      "source": [
        "print(tags)"
      ],
      "execution_count": null,
      "outputs": [
        {
          "output_type": "stream",
          "text": [
            "[('<p>Frase 1</p>', 'p'), ('<p>Eita</p>', 'p'), ('<p>Qualquer frase</p>', 'p'), ('<div>1</div>', 'div')]\n"
          ],
          "name": "stdout"
        }
      ]
    },
    {
      "cell_type": "code",
      "metadata": {
        "colab": {
          "base_uri": "https://localhost:8080/"
        },
        "id": "YtaMD6MVPk7a",
        "outputId": "8a4589da-9de6-4a7f-e2da-a7c1f7da1775"
      },
      "source": [
        "# pegando o texto dentro das tags com o novo grupo (.+?)\r\n",
        "\r\n",
        "tags = re.findall(r'(<([pdiv]{1,3})>(.+?)<\\/\\2>)',html)\r\n",
        "for tag in tags:\r\n",
        "  um, dois, tres = tag\r\n",
        "  print(tres)\r\n"
      ],
      "execution_count": null,
      "outputs": [
        {
          "output_type": "stream",
          "text": [
            "Frase 1\n",
            "Eita\n",
            "Qualquer frase\n",
            "1\n"
          ],
          "name": "stdout"
        }
      ]
    },
    {
      "cell_type": "code",
      "metadata": {
        "colab": {
          "base_uri": "https://localhost:8080/"
        },
        "id": "hvcQ95X3P4oV",
        "outputId": "7139b24a-085c-4c6d-c1b7-6716dad975c0"
      },
      "source": [
        "# eliminando o grupo grande, o grupo 2 volta a ser 1\r\n",
        "# agora temos o nome das tags e o elemento nela\r\n",
        "\r\n",
        "re.findall(r'<([pdiv]{1,3})>(.+?)<\\/\\1>',html)\r\n"
      ],
      "execution_count": null,
      "outputs": [
        {
          "output_type": "execute_result",
          "data": {
            "text/plain": [
              "[('p', 'Frase 1'), ('p', 'Eita'), ('p', 'Qualquer frase'), ('div', '1')]"
            ]
          },
          "metadata": {
            "tags": []
          },
          "execution_count": 50
        }
      ]
    },
    {
      "cell_type": "code",
      "metadata": {
        "colab": {
          "base_uri": "https://localhost:8080/"
        },
        "id": "aaY97He8R9bd",
        "outputId": "869fe3e5-84a0-4490-8c9c-fe7d3e4227c1"
      },
      "source": [
        "# colocando um ?: eu crio um grupo, mas não é atribuido um retrovisor a ele, logo acessar o grupo \\1 como abaixo não faz sentido\r\n",
        "\r\n",
        "re.findall(r'<([pdiv]{1,3})>(?:.+?)<\\/\\1>',html)\r\n"
      ],
      "execution_count": null,
      "outputs": [
        {
          "output_type": "execute_result",
          "data": {
            "text/plain": [
              "['p', 'p', 'p', 'div']"
            ]
          },
          "metadata": {
            "tags": []
          },
          "execution_count": 51
        }
      ]
    },
    {
      "cell_type": "code",
      "metadata": {
        "colab": {
          "base_uri": "https://localhost:8080/"
        },
        "id": "f2qAGb3tS46m",
        "outputId": "92599367-589c-448e-ecb2-2bb20a185971"
      },
      "source": [
        "# exemplo com cpf\r\n",
        "\r\n",
        "cpf = '147.852.963-12'\r\n",
        "\r\n",
        "# criando expressão. Não precisaria ser findall pois só há um cpf\r\n",
        "\r\n",
        "print(re.findall(r'[0-9]{3}\\.[0-9]{3}\\.[0-9]{3}-[0-9]{2}', cpf))"
      ],
      "execution_count": null,
      "outputs": [
        {
          "output_type": "stream",
          "text": [
            "['147.852.963-12']\n"
          ],
          "name": "stdout"
        }
      ]
    },
    {
      "cell_type": "code",
      "metadata": {
        "colab": {
          "base_uri": "https://localhost:8080/"
        },
        "id": "058Sf63sT8hX",
        "outputId": "236846c7-8d9e-435d-ec7d-e39320d09ccf"
      },
      "source": [
        "# validando o formato passando um cpf com outras coisas\r\n",
        "\r\n",
        "cpf2 = 'a 147.852.963-12a'\r\n",
        "\r\n",
        "print(re.findall(r'[0-9]{3}\\.[0-9]{3}\\.[0-9]{3}-[0-9]{2}', cpf2))"
      ],
      "execution_count": null,
      "outputs": [
        {
          "output_type": "stream",
          "text": [
            "['147.852.963-12']\n"
          ],
          "name": "stdout"
        }
      ]
    },
    {
      "cell_type": "code",
      "metadata": {
        "colab": {
          "base_uri": "https://localhost:8080/"
        },
        "id": "5TAx7BfoUWn1",
        "outputId": "84cbcc72-5084-4b5a-d119-35ee66773a6a"
      },
      "source": [
        "# criando grupo p'ra repetir ocorrência e retorna a segunda ocorrência, salvando em memória\r\n",
        "\r\n",
        "print(re.findall(r'([0-9]{3}\\.){2}[0-9]{3}-[0-9]{2}', cpf))"
      ],
      "execution_count": null,
      "outputs": [
        {
          "output_type": "stream",
          "text": [
            "['852.']\n"
          ],
          "name": "stdout"
        }
      ]
    },
    {
      "cell_type": "code",
      "metadata": {
        "colab": {
          "base_uri": "https://localhost:8080/"
        },
        "id": "LB8AdoiZXAUm",
        "outputId": "8cd1788f-7e79-45a9-d566-47a3ae5632f3"
      },
      "source": [
        "# criando grupo p'ra repetir a expressão, vai retornar o cpf inteiro e o grupo selecionado\r\n",
        "\r\n",
        "print(re.findall(r'(([0-9]{3}\\.){2}[0-9]{3}-[0-9]{2})', cpf))"
      ],
      "execution_count": null,
      "outputs": [
        {
          "output_type": "stream",
          "text": [
            "[('147.852.963-12', '852.')]\n"
          ],
          "name": "stdout"
        }
      ]
    },
    {
      "cell_type": "code",
      "metadata": {
        "colab": {
          "base_uri": "https://localhost:8080/"
        },
        "id": "z8DhETM5XR87",
        "outputId": "76a7b2e5-d0ae-4deb-ccdf-263ce3b2512a"
      },
      "source": [
        "# colocando o ?: vamos dizer que não precisa salvar na memória p'ra repetir\r\n",
        "\r\n",
        "print(re.findall(r'((?:[0-9]{3}\\.){2}[0-9]{3}-[0-9]{2})', cpf))"
      ],
      "execution_count": null,
      "outputs": [
        {
          "output_type": "stream",
          "text": [
            "['147.852.963-12']\n"
          ],
          "name": "stdout"
        }
      ]
    },
    {
      "cell_type": "code",
      "metadata": {
        "colab": {
          "base_uri": "https://localhost:8080/"
        },
        "id": "VssehPjyZbQo",
        "outputId": "4b8b7530-edaa-4ca0-9710-d34d779f5d56"
      },
      "source": [
        "# recurso do python p'ra criar um grupo e nomeá-lo\r\n",
        "\r\n",
        "tags = re.findall(r'<(?P<tag>[pdiv]{1,3})>(.+?)<\\/(?P=tag)>', html)\r\n",
        "pprint(tags)"
      ],
      "execution_count": null,
      "outputs": [
        {
          "output_type": "stream",
          "text": [
            "[('p', 'Frase 1'), ('p', 'Eita'), ('p', 'Qualquer frase'), ('div', '1')]\n"
          ],
          "name": "stdout"
        }
      ]
    },
    {
      "cell_type": "code",
      "metadata": {
        "colab": {
          "base_uri": "https://localhost:8080/"
        },
        "id": "0jgbf8yqYJNZ",
        "outputId": "f0fd4e6d-8dfd-4e17-f272-b2dfb301af7f"
      },
      "source": [
        "# o mesmo que acima, porém com grupo padrão (não renomeado)\r\n",
        "tags= re.findall(r'<([pdiv]{1,3})>(.+?)<\\/\\1>', html)\r\n",
        "pprint(tags)"
      ],
      "execution_count": null,
      "outputs": [
        {
          "output_type": "stream",
          "text": [
            "[('p', 'Frase 1'), ('p', 'Eita'), ('p', 'Qualquer frase'), ('div', '1')]\n"
          ],
          "name": "stdout"
        }
      ]
    },
    {
      "cell_type": "code",
      "metadata": {
        "colab": {
          "base_uri": "https://localhost:8080/"
        },
        "id": "hxc0JLt3Ymh0",
        "outputId": "c3c4795f-f22a-476c-fdfd-b98132dbd5c8"
      },
      "source": [
        "# remotando o código html\r\n",
        "# O .+? é um seletor de qualquer coisa não guloso\r\n",
        "# o primeiro grupo é um grande grupo que contém toda a tag html/ é a abertura da tag\r\n",
        "# o grupo 3 é o texto\r\n",
        "# o grupo 4 é o fechamento da tag\r\n",
        "# o r é necessário p'ra escapar a \\ em uma string\r\n",
        "print(re.sub(r'(<(.+?)>)(.+?)(<\\/\\2>)', r'\\1 \\3 \\4', html))"
      ],
      "execution_count": null,
      "outputs": [
        {
          "output_type": "stream",
          "text": [
            "\n",
            "\n",
            "<p> Frase 1 </p> <p> Eita </p> <p> Qualquer frase </p> <div> 1 </div>\n",
            "\n",
            "\n"
          ],
          "name": "stdout"
        }
      ]
    },
    {
      "cell_type": "code",
      "metadata": {
        "colab": {
          "base_uri": "https://localhost:8080/"
        },
        "id": "qDY7TaiocKL-",
        "outputId": "a45eeed4-479c-4fbb-b43e-13a306bf49ea"
      },
      "source": [
        "print(html)"
      ],
      "execution_count": null,
      "outputs": [
        {
          "output_type": "stream",
          "text": [
            "\n",
            "\n",
            "<p>Frase 1</p> <p>Eita</p> <p>Qualquer frase</p> <div>1</div>\n",
            "\n",
            "\n"
          ],
          "name": "stdout"
        }
      ]
    },
    {
      "cell_type": "code",
      "metadata": {
        "colab": {
          "base_uri": "https://localhost:8080/"
        },
        "id": "y22toS-Ia2UA",
        "outputId": "2b7b0aba-4d14-4c40-8c5b-44303c373622"
      },
      "source": [
        " # p'ra evitar ficarem descolados é só passar o r'\\1\\3\\4' unidos\r\n",
        "\r\n",
        "print(re.sub(r'(<(.+?)>)(.+?)(<\\/\\2>)', r'\\1\\3\\4', html))"
      ],
      "execution_count": null,
      "outputs": [
        {
          "output_type": "stream",
          "text": [
            "\n",
            "\n",
            "<p>Frase 1</p> <p>Eita</p> <p>Qualquer frase</p> <div>1</div>\n",
            "\n",
            "\n"
          ],
          "name": "stdout"
        }
      ]
    },
    {
      "cell_type": "code",
      "metadata": {
        "colab": {
          "base_uri": "https://localhost:8080/"
        },
        "id": "C3k428mkcn6w",
        "outputId": "701daede-e501-4a1c-a07d-95569aecf32e"
      },
      "source": [
        "# colocando outros elementos 1\r\n",
        "\r\n",
        "print(re.sub(r'(<(.+?)>)(.+?)(<\\/\\2>)', r'\\1\"\\3\"\\4', html))"
      ],
      "execution_count": null,
      "outputs": [
        {
          "output_type": "stream",
          "text": [
            "\n",
            "\n",
            "<p>\"Frase 1\"</p> <p>\"Eita\"</p> <p>\"Qualquer frase\"</p> <div>\"1\"</div>\n",
            "\n",
            "\n"
          ],
          "name": "stdout"
        }
      ]
    },
    {
      "cell_type": "code",
      "metadata": {
        "colab": {
          "base_uri": "https://localhost:8080/"
        },
        "id": "1X-lLL_1czhs",
        "outputId": "dccf8615-2a12-4507-b90e-3174fda644b3"
      },
      "source": [
        "# colocando outros elementos 2\r\n",
        "\r\n",
        "print(re.sub(r'(<(.+?)>)(.+?)(<\\/\\2>)', r'\\1\"MAIS \\3 COISAS\"\\4', html))"
      ],
      "execution_count": null,
      "outputs": [
        {
          "output_type": "stream",
          "text": [
            "\n",
            "\n",
            "<p>\"MAIS Frase 1 COISAS\"</p> <p>\"MAIS Eita COISAS\"</p> <p>\"MAIS Qualquer frase COISAS\"</p> <div>\"MAIS 1 COISAS\"</div>\n",
            "\n",
            "\n"
          ],
          "name": "stdout"
        }
      ]
    },
    {
      "cell_type": "code",
      "metadata": {
        "colab": {
          "base_uri": "https://localhost:8080/"
        },
        "id": "f1r-kv_KdCnY",
        "outputId": "00bbd1f3-f6c9-4a5d-c625-c1ce578093cd"
      },
      "source": [
        "# remotando as tags sem nada dentro, somente com as aberturas e fechamentos\r\n",
        "\r\n",
        "print(re.sub(r'(<(.+?)>)(.+?)(<\\/\\2>)', r'\\1\\4', html))"
      ],
      "execution_count": null,
      "outputs": [
        {
          "output_type": "stream",
          "text": [
            "\n",
            "\n",
            "<p></p> <p></p> <p></p> <div></div>\n",
            "\n",
            "\n"
          ],
          "name": "stdout"
        }
      ]
    },
    {
      "cell_type": "markdown",
      "metadata": {
        "id": "RgGEgiQ-dasL"
      },
      "source": [
        "## Aula 06\r\n",
        "\r\n",
        "**Metacaracteres ^ e $**\r\n",
        "\r\n",
        "Qualquer dos dois permitirá validar campos, mesmo quando não há algo pertinente.\r\n",
        "\r\n",
        "^: Começa com\r\n",
        "\r\n",
        "\\$: Termina com"
      ]
    },
    {
      "cell_type": "code",
      "metadata": {
        "id": "gS7eDzUydPgl"
      },
      "source": [
        "cpf2 = 'a 147.852.963-12a'"
      ],
      "execution_count": null,
      "outputs": []
    },
    {
      "cell_type": "code",
      "metadata": {
        "colab": {
          "base_uri": "https://localhost:8080/"
        },
        "id": "VCtgEPIgufYr",
        "outputId": "f323b346-99ba-4c64-fde6-2e9480ede5ce"
      },
      "source": [
        "# expressão que retornará exatamente o cpf\r\n",
        "\r\n",
        "print(re.findall(r'((?:[-0-9]{3}\\.){2}[0-9]{3}-[0-9]{2})', cpf2))"
      ],
      "execution_count": null,
      "outputs": [
        {
          "output_type": "stream",
          "text": [
            "['147.852.963-12']\n"
          ],
          "name": "stdout"
        }
      ]
    },
    {
      "cell_type": "code",
      "metadata": {
        "colab": {
          "base_uri": "https://localhost:8080/"
        },
        "id": "LhptcP4bu6Wz",
        "outputId": "61ee889f-fe4d-4337-c47b-82c14a509ed9"
      },
      "source": [
        "# expressão de validação no inicio do campo - Por ter erro não validará o campo\r\n",
        "\r\n",
        "print(re.findall(r'^((?:[-0-9]{3}\\.){2}[0-9]{3}-[0-9]{2})', cpf2))"
      ],
      "execution_count": null,
      "outputs": [
        {
          "output_type": "stream",
          "text": [
            "[]\n"
          ],
          "name": "stdout"
        }
      ]
    },
    {
      "cell_type": "code",
      "metadata": {
        "id": "mOTFHPnvvS2g"
      },
      "source": [
        "cpf3 = '147.852.963-12 qualquer coisa'"
      ],
      "execution_count": null,
      "outputs": []
    },
    {
      "cell_type": "code",
      "metadata": {
        "colab": {
          "base_uri": "https://localhost:8080/"
        },
        "id": "EKJKd9MHvq_g",
        "outputId": "e6a04c49-49d7-40e7-fc61-4ae88f09c0c9"
      },
      "source": [
        "# comprovando que a validação é só no inicio - O erro estando no final, deixa passar\r\n",
        "\r\n",
        "print(re.findall(r'^((?:[-0-9]{3}\\.){2}[0-9]{3}-[0-9]{2})', cpf3))"
      ],
      "execution_count": null,
      "outputs": [
        {
          "output_type": "stream",
          "text": [
            "['147.852.963-12']\n"
          ],
          "name": "stdout"
        }
      ]
    },
    {
      "cell_type": "code",
      "metadata": {
        "colab": {
          "base_uri": "https://localhost:8080/"
        },
        "id": "_EVLdyNZvvvf",
        "outputId": "62167b10-7a5f-4d94-fd3c-202c15c7f8d7"
      },
      "source": [
        "# validando inicio e fim\r\n",
        "\r\n",
        "print(re.findall(r'^((?:[-0-9]{3}\\.){2}[0-9]{3}-[0-9]{2})$', cpf3))"
      ],
      "execution_count": null,
      "outputs": [
        {
          "output_type": "stream",
          "text": [
            "[]\n"
          ],
          "name": "stdout"
        }
      ]
    },
    {
      "cell_type": "markdown",
      "metadata": {
        "id": "JhO3t15RwR44"
      },
      "source": [
        "Utilizando em um conjunto:\r\n",
        "\r\n",
        "[^a-z]: Negação de qualquer coisa entre a a z.\r\n",
        "\r\n",
        "[a-z^]: Se assim seria um ^ literal.\r\n"
      ]
    },
    {
      "cell_type": "code",
      "metadata": {
        "id": "wsmibXfryno8"
      },
      "source": [
        "cpf = '147.582.963-12'"
      ],
      "execution_count": null,
      "outputs": []
    },
    {
      "cell_type": "code",
      "metadata": {
        "colab": {
          "base_uri": "https://localhost:8080/"
        },
        "id": "l7da0uxBv35J",
        "outputId": "bf89a53e-dd5c-445a-fde5-22b2ff94e07a"
      },
      "source": [
        "# negando qualquer coisa que não seja de a a z\r\n",
        "\r\n",
        "print(re.findall(r'[^a-z]+', cpf))"
      ],
      "execution_count": null,
      "outputs": [
        {
          "output_type": "stream",
          "text": [
            "['147.582.963-12']\n"
          ],
          "name": "stdout"
        }
      ]
    },
    {
      "cell_type": "code",
      "metadata": {
        "colab": {
          "base_uri": "https://localhost:8080/"
        },
        "id": "8NNHVQery3bj",
        "outputId": "0bfe1823-7580-44cc-f9fa-6adc3fe43320"
      },
      "source": [
        "# negando qualquer coisa que não seja de 0 a 9\r\n",
        "\r\n",
        "print(re.findall(r'[^0-9]+', cpf))"
      ],
      "execution_count": null,
      "outputs": [
        {
          "output_type": "stream",
          "text": [
            "['.', '.', '-']\n"
          ],
          "name": "stdout"
        }
      ]
    },
    {
      "cell_type": "markdown",
      "metadata": {
        "id": "f-OG7SzK0P_Q"
      },
      "source": [
        "## Aula 07\r\n",
        "\r\n",
        "**Shorthands e Flags**\r\n",
        "\r\n",
        "Em regra, letras minúsculas fazem algo, mais maiúsculas negam.\r\n",
        "\r\n",
        "Ex.: \\w faz, \\W nega.\r\n",
        "\r\n",
        "**Shorthands**\r\n",
        "\r\n",
        "\\w: [a-zA-Z0-9À-ú_]\r\n",
        "\r\n",
        "\\w: [a-zA-Z0-9_] re.A\r\n",
        "\r\n",
        "\\W: [^a-zA-Z0-9À-ú_]\r\n",
        "\r\n",
        "\\W: [^a-zA-Z0-9_] re.A\r\n",
        "\r\n",
        "\\d: [0-9]\r\n",
        "\r\n",
        "\\D: [^0-9]\r\n",
        "\r\n",
        "\\s: [ \\r\\n\\f\\t]  Qualquer tipo de espaço (pelo menos a maioria).\r\n",
        "\r\n",
        "\\b: Borda, ou seja, uma string vazia no começo ou fim de cada palavra.\r\n",
        "\r\n",
        "\\B: Não borda"
      ]
    },
    {
      "cell_type": "code",
      "metadata": {
        "id": "OeeD6LxuzFt9"
      },
      "source": [
        "texto = '''\r\n",
        "\r\n",
        "João trouxe      flores para sua amada namorada em 10 de Janeiro de 1970,\r\n",
        "Maria era o nome dela.\r\n",
        "\r\n",
        "Foi um ano excelente na vida de João. Teve 5 filhos, todos adultos atualmente.\r\n",
        "Maria, hoje sua esposa faz aquele café com pão de queijo nas tardes de domingo.\r\n",
        "Também né! Sendo a boa mineira que é, nunca esquece seu famoso pão de queijo.\r\n",
        "Não canso de ouvir a Maria:\r\n",
        "\r\n",
        "\"Jooooooooooooooooãooooooo, o café tá prontinho aqui. Veeem veeemm veeemm veem vem'\"!\r\n",
        "\r\n",
        "\r\n",
        "'''"
      ],
      "execution_count": null,
      "outputs": []
    },
    {
      "cell_type": "code",
      "metadata": {
        "colab": {
          "base_uri": "https://localhost:8080/"
        },
        "id": "hs8CwSK91oK4",
        "outputId": "01906868-8673-4e93-b066-8dc8c01158a6"
      },
      "source": [
        "# letra por letra\r\n",
        "\r\n",
        "print(re.findall('[a-z]', texto))"
      ],
      "execution_count": null,
      "outputs": [
        {
          "output_type": "stream",
          "text": [
            "['o', 'o', 't', 'r', 'o', 'u', 'x', 'e', 'f', 'l', 'o', 'r', 'e', 's', 'p', 'a', 'r', 'a', 's', 'u', 'a', 'a', 'm', 'a', 'd', 'a', 'n', 'a', 'm', 'o', 'r', 'a', 'd', 'a', 'e', 'm', 'd', 'e', 'a', 'n', 'e', 'i', 'r', 'o', 'd', 'e', 'a', 'r', 'i', 'a', 'e', 'r', 'a', 'o', 'n', 'o', 'm', 'e', 'd', 'e', 'l', 'a', 'o', 'i', 'u', 'm', 'a', 'n', 'o', 'e', 'x', 'c', 'e', 'l', 'e', 'n', 't', 'e', 'n', 'a', 'v', 'i', 'd', 'a', 'd', 'e', 'o', 'o', 'e', 'v', 'e', 'f', 'i', 'l', 'h', 'o', 's', 't', 'o', 'd', 'o', 's', 'a', 'd', 'u', 'l', 't', 'o', 's', 'a', 't', 'u', 'a', 'l', 'm', 'e', 'n', 't', 'e', 'a', 'r', 'i', 'a', 'h', 'o', 'j', 'e', 's', 'u', 'a', 'e', 's', 'p', 'o', 's', 'a', 'f', 'a', 'z', 'a', 'q', 'u', 'e', 'l', 'e', 'c', 'a', 'f', 'c', 'o', 'm', 'p', 'o', 'd', 'e', 'q', 'u', 'e', 'i', 'j', 'o', 'n', 'a', 's', 't', 'a', 'r', 'd', 'e', 's', 'd', 'e', 'd', 'o', 'm', 'i', 'n', 'g', 'o', 'a', 'm', 'b', 'm', 'n', 'e', 'n', 'd', 'o', 'a', 'b', 'o', 'a', 'm', 'i', 'n', 'e', 'i', 'r', 'a', 'q', 'u', 'e', 'n', 'u', 'n', 'c', 'a', 'e', 's', 'q', 'u', 'e', 'c', 'e', 's', 'e', 'u', 'f', 'a', 'm', 'o', 's', 'o', 'p', 'o', 'd', 'e', 'q', 'u', 'e', 'i', 'j', 'o', 'o', 'c', 'a', 'n', 's', 'o', 'd', 'e', 'o', 'u', 'v', 'i', 'r', 'a', 'a', 'r', 'i', 'a', 'o', 'o', 'o', 'o', 'o', 'o', 'o', 'o', 'o', 'o', 'o', 'o', 'o', 'o', 'o', 'o', 'o', 'o', 'o', 'o', 'o', 'o', 'o', 'o', 'c', 'a', 'f', 't', 'p', 'r', 'o', 'n', 't', 'i', 'n', 'h', 'o', 'a', 'q', 'u', 'i', 'e', 'e', 'e', 'm', 'v', 'e', 'e', 'e', 'm', 'm', 'v', 'e', 'e', 'e', 'm', 'm', 'v', 'e', 'e', 'm', 'v', 'e', 'm']\n"
          ],
          "name": "stdout"
        }
      ]
    },
    {
      "cell_type": "code",
      "metadata": {
        "colab": {
          "base_uri": "https://localhost:8080/"
        },
        "id": "ZFX6Wm7311re",
        "outputId": "3a3396ed-b9f9-4547-dbf9-93ed2ebff2a1"
      },
      "source": [
        "# um ou mais letras com quantificador - Palavras com acento ainda não entram, assim como letras maiúsculas\r\n",
        "\r\n",
        "print(re.findall('[a-z]+', texto))"
      ],
      "execution_count": null,
      "outputs": [
        {
          "output_type": "stream",
          "text": [
            "['o', 'o', 'trouxe', 'flores', 'para', 'sua', 'amada', 'namorada', 'em', 'de', 'aneiro', 'de', 'aria', 'era', 'o', 'nome', 'dela', 'oi', 'um', 'ano', 'excelente', 'na', 'vida', 'de', 'o', 'o', 'eve', 'filhos', 'todos', 'adultos', 'atualmente', 'aria', 'hoje', 'sua', 'esposa', 'faz', 'aquele', 'caf', 'com', 'p', 'o', 'de', 'queijo', 'nas', 'tardes', 'de', 'domingo', 'amb', 'm', 'n', 'endo', 'a', 'boa', 'mineira', 'que', 'nunca', 'esquece', 'seu', 'famoso', 'p', 'o', 'de', 'queijo', 'o', 'canso', 'de', 'ouvir', 'a', 'aria', 'oooooooooooooooo', 'ooooooo', 'o', 'caf', 't', 'prontinho', 'aqui', 'eeem', 'veeemm', 'veeemm', 'veem', 'vem']\n"
          ],
          "name": "stdout"
        }
      ]
    },
    {
      "cell_type": "code",
      "metadata": {
        "colab": {
          "base_uri": "https://localhost:8080/"
        },
        "id": "h-DPOofh1_DC",
        "outputId": "9563ad70-8487-4337-b180-423b8a5b91d1"
      },
      "source": [
        "# flag p'ra permitir letra maiúsculas - Veja que a divisão de João, por exemplo, está no ã acentuado\r\n",
        "\r\n",
        "print(re.findall('[a-z]+', texto, flags=re.I))"
      ],
      "execution_count": null,
      "outputs": [
        {
          "output_type": "stream",
          "text": [
            "['Jo', 'o', 'trouxe', 'flores', 'para', 'sua', 'amada', 'namorada', 'em', 'de', 'Janeiro', 'de', 'Maria', 'era', 'o', 'nome', 'dela', 'Foi', 'um', 'ano', 'excelente', 'na', 'vida', 'de', 'Jo', 'o', 'Teve', 'filhos', 'todos', 'adultos', 'atualmente', 'Maria', 'hoje', 'sua', 'esposa', 'faz', 'aquele', 'caf', 'com', 'p', 'o', 'de', 'queijo', 'nas', 'tardes', 'de', 'domingo', 'Tamb', 'm', 'n', 'Sendo', 'a', 'boa', 'mineira', 'que', 'nunca', 'esquece', 'seu', 'famoso', 'p', 'o', 'de', 'queijo', 'N', 'o', 'canso', 'de', 'ouvir', 'a', 'Maria', 'Joooooooooooooooo', 'ooooooo', 'o', 'caf', 't', 'prontinho', 'aqui', 'Veeem', 'veeemm', 'veeemm', 'veem', 'vem']\n"
          ],
          "name": "stdout"
        }
      ]
    },
    {
      "cell_type": "code",
      "metadata": {
        "colab": {
          "base_uri": "https://localhost:8080/"
        },
        "id": "0OMjGxfc2lcF",
        "outputId": "d1be1199-1cd1-4d64-b53a-497d029e24fd"
      },
      "source": [
        "# sem a flag\r\n",
        "\r\n",
        "print(re.findall('[a-zA-Z]+', texto))"
      ],
      "execution_count": null,
      "outputs": [
        {
          "output_type": "stream",
          "text": [
            "['Jo', 'o', 'trouxe', 'flores', 'para', 'sua', 'amada', 'namorada', 'em', 'de', 'Janeiro', 'de', 'Maria', 'era', 'o', 'nome', 'dela', 'Foi', 'um', 'ano', 'excelente', 'na', 'vida', 'de', 'Jo', 'o', 'Teve', 'filhos', 'todos', 'adultos', 'atualmente', 'Maria', 'hoje', 'sua', 'esposa', 'faz', 'aquele', 'caf', 'com', 'p', 'o', 'de', 'queijo', 'nas', 'tardes', 'de', 'domingo', 'Tamb', 'm', 'n', 'Sendo', 'a', 'boa', 'mineira', 'que', 'nunca', 'esquece', 'seu', 'famoso', 'p', 'o', 'de', 'queijo', 'N', 'o', 'canso', 'de', 'ouvir', 'a', 'Maria', 'Joooooooooooooooo', 'ooooooo', 'o', 'caf', 't', 'prontinho', 'aqui', 'Veeem', 'veeemm', 'veeemm', 'veem', 'vem']\n"
          ],
          "name": "stdout"
        }
      ]
    },
    {
      "cell_type": "code",
      "metadata": {
        "colab": {
          "base_uri": "https://localhost:8080/"
        },
        "id": "7HV9cvD85v3g",
        "outputId": "e0e5f4b7-0e99-479d-bb69-e79fdede1b64"
      },
      "source": [
        "# também de 0 a 9\r\n",
        "\r\n",
        "print(re.findall('[a-zA-Z0-9]+', texto))"
      ],
      "execution_count": null,
      "outputs": [
        {
          "output_type": "stream",
          "text": [
            "['Jo', 'o', 'trouxe', 'flores', 'para', 'sua', 'amada', 'namorada', 'em', '10', 'de', 'Janeiro', 'de', '1970', 'Maria', 'era', 'o', 'nome', 'dela', 'Foi', 'um', 'ano', 'excelente', 'na', 'vida', 'de', 'Jo', 'o', 'Teve', '5', 'filhos', 'todos', 'adultos', 'atualmente', 'Maria', 'hoje', 'sua', 'esposa', 'faz', 'aquele', 'caf', 'com', 'p', 'o', 'de', 'queijo', 'nas', 'tardes', 'de', 'domingo', 'Tamb', 'm', 'n', 'Sendo', 'a', 'boa', 'mineira', 'que', 'nunca', 'esquece', 'seu', 'famoso', 'p', 'o', 'de', 'queijo', 'N', 'o', 'canso', 'de', 'ouvir', 'a', 'Maria', 'Joooooooooooooooo', 'ooooooo', 'o', 'caf', 't', 'prontinho', 'aqui', 'Veeem', 'veeemm', 'veeemm', 'veem', 'vem']\n"
          ],
          "name": "stdout"
        }
      ]
    },
    {
      "cell_type": "code",
      "metadata": {
        "colab": {
          "base_uri": "https://localhost:8080/"
        },
        "id": "KJLv5djJ2N-r",
        "outputId": "f7c7aa95-a434-4f2c-f5c3-3ca57462e0e6"
      },
      "source": [
        "# permitindo pegar os acentos\r\n",
        "# em outras linguagens: \r\n",
        "\r\n",
        "print(re.findall('[a-zA-Z0-9À-ú]+', texto))"
      ],
      "execution_count": null,
      "outputs": [
        {
          "output_type": "stream",
          "text": [
            "['João', 'trouxe', 'flores', 'para', 'sua', 'amada', 'namorada', 'em', '10', 'de', 'Janeiro', 'de', '1970', 'Maria', 'era', 'o', 'nome', 'dela', 'Foi', 'um', 'ano', 'excelente', 'na', 'vida', 'de', 'João', 'Teve', '5', 'filhos', 'todos', 'adultos', 'atualmente', 'Maria', 'hoje', 'sua', 'esposa', 'faz', 'aquele', 'café', 'com', 'pão', 'de', 'queijo', 'nas', 'tardes', 'de', 'domingo', 'Também', 'né', 'Sendo', 'a', 'boa', 'mineira', 'que', 'é', 'nunca', 'esquece', 'seu', 'famoso', 'pão', 'de', 'queijo', 'Não', 'canso', 'de', 'ouvir', 'a', 'Maria', 'Jooooooooooooooooãooooooo', 'o', 'café', 'tá', 'prontinho', 'aqui', 'Veeem', 'veeemm', 'veeemm', 'veem', 'vem']\n"
          ],
          "name": "stdout"
        }
      ]
    },
    {
      "cell_type": "code",
      "metadata": {
        "id": "rgVsoiCq-IrZ"
      },
      "source": [
        "texto = '''\r\n",
        "\r\n",
        "João trouxe flores para sua amada namorada em 10 de Janeiro de 1970,\r\n",
        "Maria era o nome dela.\r\n",
        "\r\n",
        "Foi um ano excelente na vida de João. Teve 5 filhos, todos adultos atualmente.\r\n",
        "Maria, hoje sua esposa faz aquele café com pão de queijo nas tardes de domingo. teve_ALGO\r\n",
        "Também né! Sendo a boa mineira que é, nunca esquece seu famoso pão de queijo.\r\n",
        "Não canso de ouvir a Maria:\r\n",
        "\r\n",
        "\"Jooooooooooooooooãooooooo, o café tá prontinho aqui. Veeem veeemm veeemm veem vem'\"!\r\n",
        "\r\n",
        "\r\n",
        "'''"
      ],
      "execution_count": null,
      "outputs": []
    },
    {
      "cell_type": "code",
      "metadata": {
        "colab": {
          "base_uri": "https://localhost:8080/"
        },
        "id": "QmEth9VU6nXX",
        "outputId": "9f98a76c-9b22-40c8-e460-ddfc153752b7"
      },
      "source": [
        "# fazendo a mesma coisa em python com a shorthand \\w, inclui caracteres diferentes de outros idiomas\r\n",
        "# com o \\w+ será igual ao [a-zA-Z0-9À-ú_]+, na verdade seria mais que isso\r\n",
        "\r\n",
        "print(re.findall(r'\\w+', texto))"
      ],
      "execution_count": null,
      "outputs": [
        {
          "output_type": "stream",
          "text": [
            "['João', 'trouxe', 'flores', 'para', 'sua', 'amada', 'namorada', 'em', '10', 'de', 'Janeiro', 'de', '1970', 'Maria', 'era', 'o', 'nome', 'dela', 'Foi', 'um', 'ano', 'excelente', 'na', 'vida', 'de', 'João', 'Teve', '5', 'filhos', 'todos', 'adultos', 'atualmente', 'Maria', 'hoje', 'sua', 'esposa', 'faz', 'aquele', 'café', 'com', 'pão', 'de', 'queijo', 'nas', 'tardes', 'de', 'domingo', 'teve_ALGO', 'Também', 'né', 'Sendo', 'a', 'boa', 'mineira', 'que', 'é', 'nunca', 'esquece', 'seu', 'famoso', 'pão', 'de', 'queijo', 'Não', 'canso', 'de', 'ouvir', 'a', 'Maria', 'Jooooooooooooooooãooooooo', 'o', 'café', 'tá', 'prontinho', 'aqui', 'Veeem', 'veeemm', 'veeemm', 'veem', 'vem']\n"
          ],
          "name": "stdout"
        }
      ]
    },
    {
      "cell_type": "code",
      "metadata": {
        "colab": {
          "base_uri": "https://localhost:8080/"
        },
        "id": "v76KUU8Q7B9L",
        "outputId": "2dada07a-197a-4bee-f6c9-7daca7e5706e"
      },
      "source": [
        "# com a flag re.A ou re.ASCII\r\n",
        "# Assim vai se comportar como outras linguagens de programação com  JS\r\n",
        "# Se comportará como print(re.findall('[a-zA-Z0-9_]+', texto)) mais ou menos , pois não está pegando o full unicode, somente a tabela ASCII\r\n",
        "\r\n",
        "print(re.findall(r'\\w+', texto, flags=re.A))"
      ],
      "execution_count": null,
      "outputs": [
        {
          "output_type": "stream",
          "text": [
            "['Jo', 'o', 'trouxe', 'flores', 'para', 'sua', 'amada', 'namorada', 'em', '10', 'de', 'Janeiro', 'de', '1970', 'Maria', 'era', 'o', 'nome', 'dela', 'Foi', 'um', 'ano', 'excelente', 'na', 'vida', 'de', 'Jo', 'o', 'Teve', '5', 'filhos', 'todos', 'adultos', 'atualmente', 'Maria', 'hoje', 'sua', 'esposa', 'faz', 'aquele', 'caf', 'com', 'p', 'o', 'de', 'queijo', 'nas', 'tardes', 'de', 'domingo', 'teve_ALGO', 'Tamb', 'm', 'n', 'Sendo', 'a', 'boa', 'mineira', 'que', 'nunca', 'esquece', 'seu', 'famoso', 'p', 'o', 'de', 'queijo', 'N', 'o', 'canso', 'de', 'ouvir', 'a', 'Maria', 'Joooooooooooooooo', 'ooooooo', 'o', 'caf', 't', 'prontinho', 'aqui', 'Veeem', 'veeemm', 'veeemm', 'veem', 'vem']\n"
          ],
          "name": "stdout"
        }
      ]
    },
    {
      "cell_type": "code",
      "metadata": {
        "colab": {
          "base_uri": "https://localhost:8080/"
        },
        "id": "LYAd1Oon7e5N",
        "outputId": "34153e73-920d-4c00-8230-0a20e77bfa3f"
      },
      "source": [
        "# A negação do \\w é \\W\r\n",
        "\r\n",
        "print(re.findall(r'\\W+', texto))"
      ],
      "execution_count": null,
      "outputs": [
        {
          "output_type": "stream",
          "text": [
            "['\\n\\n', ' ', ' ', ' ', ' ', ' ', ' ', ' ', ' ', ' ', ' ', ' ', ' ', ',\\n', ' ', ' ', ' ', ' ', '.\\n\\n', ' ', ' ', ' ', ' ', ' ', ' ', ' ', '. ', ' ', ' ', ', ', ' ', ' ', '.\\n', ', ', ' ', ' ', ' ', ' ', ' ', ' ', ' ', ' ', ' ', ' ', ' ', ' ', ' ', '. ', '\\n', ' ', '! ', ' ', ' ', ' ', ' ', ' ', ', ', ' ', ' ', ' ', ' ', ' ', ' ', '.\\n', ' ', ' ', ' ', ' ', ' ', ':\\n\\n\"', ', ', ' ', ' ', ' ', ' ', '. ', ' ', ' ', ' ', ' ', '\\'\"!\\n\\n\\n']\n"
          ],
          "name": "stdout"
        }
      ]
    },
    {
      "cell_type": "code",
      "metadata": {
        "colab": {
          "base_uri": "https://localhost:8080/"
        },
        "id": "b9Kl9ktm-w0F",
        "outputId": "00981399-3ad7-4248-b0ea-b7a885b6c441"
      },
      "source": [
        "# com a flag\r\n",
        "\r\n",
        "print(re.findall(r'\\W+', texto, flags=re.A))"
      ],
      "execution_count": null,
      "outputs": [
        {
          "output_type": "stream",
          "text": [
            "['\\n\\n', 'ã', ' ', ' ', ' ', ' ', ' ', ' ', ' ', ' ', ' ', ' ', ' ', ' ', ',\\n', ' ', ' ', ' ', ' ', '.\\n\\n', ' ', ' ', ' ', ' ', ' ', ' ', ' ', 'ã', '. ', ' ', ' ', ', ', ' ', ' ', '.\\n', ', ', ' ', ' ', ' ', ' ', ' ', 'é ', ' ', 'ã', ' ', ' ', ' ', ' ', ' ', ' ', '. ', '\\n', 'é', ' ', 'é! ', ' ', ' ', ' ', ' ', ' é, ', ' ', ' ', ' ', ' ', 'ã', ' ', ' ', '.\\n', 'ã', ' ', ' ', ' ', ' ', ' ', ':\\n\\n\"', 'ã', ', ', ' ', 'é ', 'á ', ' ', '. ', ' ', ' ', ' ', ' ', '\\'\"!\\n\\n\\n']\n"
          ],
          "name": "stdout"
        }
      ]
    },
    {
      "cell_type": "code",
      "metadata": {
        "colab": {
          "base_uri": "https://localhost:8080/"
        },
        "id": "YRAWWkfU-21C",
        "outputId": "59a387f6-4a2a-4921-c7fe-876e7471e0c5"
      },
      "source": [
        "# somente os números\r\n",
        "\r\n",
        "print(re.findall(r'\\d+', texto, flags=re.I))"
      ],
      "execution_count": null,
      "outputs": [
        {
          "output_type": "stream",
          "text": [
            "['10', '1970', '5']\n"
          ],
          "name": "stdout"
        }
      ]
    },
    {
      "cell_type": "code",
      "metadata": {
        "colab": {
          "base_uri": "https://localhost:8080/"
        },
        "id": "7ZfrLJfQAEJN",
        "outputId": "cc61f8fd-5b45-4889-c2f6-b53be050b026"
      },
      "source": [
        "# negative de só os números\r\n",
        "\r\n",
        "print(re.findall(r'\\D+', texto, flags=re.I))"
      ],
      "execution_count": null,
      "outputs": [
        {
          "output_type": "stream",
          "text": [
            "['\\n\\nJoão trouxe flores para sua amada namorada em ', ' de Janeiro de ', ',\\nMaria era o nome dela.\\n\\nFoi um ano excelente na vida de João. Teve ', ' filhos, todos adultos atualmente.\\nMaria, hoje sua esposa faz aquele café com pão de queijo nas tardes de domingo. teve_ALGO\\nTambém né! Sendo a boa mineira que é, nunca esquece seu famoso pão de queijo.\\nNão canso de ouvir a Maria:\\n\\n\"Jooooooooooooooooãooooooo, o café tá prontinho aqui. Veeem veeemm veeemm veem vem\\'\"!\\n\\n\\n']\n"
          ],
          "name": "stdout"
        }
      ]
    },
    {
      "cell_type": "code",
      "metadata": {
        "colab": {
          "base_uri": "https://localhost:8080/"
        },
        "id": "FXkgjbq3AJhp",
        "outputId": "ae47b0bc-5d9b-4fae-a07d-e5c2b9061278"
      },
      "source": [
        "# espaços\r\n",
        "\r\n",
        "print(re.findall(r'\\s+', texto, flags=re.I))"
      ],
      "execution_count": null,
      "outputs": [
        {
          "output_type": "stream",
          "text": [
            "['\\n\\n', ' ', ' ', ' ', ' ', ' ', ' ', ' ', ' ', ' ', ' ', ' ', ' ', '\\n', ' ', ' ', ' ', ' ', '\\n\\n', ' ', ' ', ' ', ' ', ' ', ' ', ' ', ' ', ' ', ' ', ' ', ' ', ' ', '\\n', ' ', ' ', ' ', ' ', ' ', ' ', ' ', ' ', ' ', ' ', ' ', ' ', ' ', ' ', ' ', '\\n', ' ', ' ', ' ', ' ', ' ', ' ', ' ', ' ', ' ', ' ', ' ', ' ', ' ', ' ', '\\n', ' ', ' ', ' ', ' ', ' ', '\\n\\n', ' ', ' ', ' ', ' ', ' ', ' ', ' ', ' ', ' ', ' ', '\\n\\n\\n']\n"
          ],
          "name": "stdout"
        }
      ]
    },
    {
      "cell_type": "code",
      "metadata": {
        "colab": {
          "base_uri": "https://localhost:8080/"
        },
        "id": "QmZZv4MOAwbP",
        "outputId": "4504edfe-aa01-4d23-9724-ec872f634c1d"
      },
      "source": [
        "# negação dos espaços\r\n",
        "\r\n",
        "print(re.findall(r'\\S+', texto, flags=re.I))"
      ],
      "execution_count": null,
      "outputs": [
        {
          "output_type": "stream",
          "text": [
            "['João', 'trouxe', 'flores', 'para', 'sua', 'amada', 'namorada', 'em', '10', 'de', 'Janeiro', 'de', '1970,', 'Maria', 'era', 'o', 'nome', 'dela.', 'Foi', 'um', 'ano', 'excelente', 'na', 'vida', 'de', 'João.', 'Teve', '5', 'filhos,', 'todos', 'adultos', 'atualmente.', 'Maria,', 'hoje', 'sua', 'esposa', 'faz', 'aquele', 'café', 'com', 'pão', 'de', 'queijo', 'nas', 'tardes', 'de', 'domingo.', 'teve_ALGO', 'Também', 'né!', 'Sendo', 'a', 'boa', 'mineira', 'que', 'é,', 'nunca', 'esquece', 'seu', 'famoso', 'pão', 'de', 'queijo.', 'Não', 'canso', 'de', 'ouvir', 'a', 'Maria:', '\"Jooooooooooooooooãooooooo,', 'o', 'café', 'tá', 'prontinho', 'aqui.', 'Veeem', 'veeemm', 'veeemm', 'veem', 'vem\\'\"!']\n"
          ],
          "name": "stdout"
        }
      ]
    },
    {
      "cell_type": "markdown",
      "metadata": {
        "id": "euuwIO4XCE5u"
      },
      "source": [
        "**Bordas**"
      ]
    },
    {
      "cell_type": "code",
      "metadata": {
        "colab": {
          "base_uri": "https://localhost:8080/"
        },
        "id": "IJEit6KsAzRz",
        "outputId": "ee4b7114-1039-4b7f-f89c-01097d8037c1"
      },
      "source": [
        "# borda para pegar palavras que iniciam com flor e terminam com qualquer coisa\r\n",
        "\r\n",
        "print(re.findall(r'\\bflo\\w+', texto, flags=re.I))"
      ],
      "execution_count": null,
      "outputs": [
        {
          "output_type": "stream",
          "text": [
            "['flores']\n"
          ],
          "name": "stdout"
        }
      ]
    },
    {
      "cell_type": "code",
      "metadata": {
        "colab": {
          "base_uri": "https://localhost:8080/"
        },
        "id": "lcq_W2SIBgD5",
        "outputId": "aeb70fe5-d683-4529-a14b-75bd4d630f08"
      },
      "source": [
        "# borda com aplavras que iniciam com e\r\n",
        "# só pega palavras completas\r\n",
        "\r\n",
        "print(re.findall(r'\\be\\w+', texto, flags=re.I))"
      ],
      "execution_count": null,
      "outputs": [
        {
          "output_type": "stream",
          "text": [
            "['em', 'era', 'excelente', 'esposa', 'esquece']\n"
          ],
          "name": "stdout"
        }
      ]
    },
    {
      "cell_type": "code",
      "metadata": {
        "colab": {
          "base_uri": "https://localhost:8080/"
        },
        "id": "ZE5QFVWWBkYn",
        "outputId": "c862b185-dc0f-474e-bf59-fd885ed4155f"
      },
      "source": [
        "# bordas no final\r\n",
        "# começa com qualquer coisa e termina com e\r\n",
        "\r\n",
        "print(re.findall(r'\\w+e\\b', texto, flags=re.I))"
      ],
      "execution_count": null,
      "outputs": [
        {
          "output_type": "stream",
          "text": [
            "['trouxe', 'de', 'de', 'nome', 'excelente', 'de', 'Teve', 'atualmente', 'hoje', 'aquele', 'de', 'de', 'que', 'esquece', 'de', 'de']\n"
          ],
          "name": "stdout"
        }
      ]
    },
    {
      "cell_type": "code",
      "metadata": {
        "colab": {
          "base_uri": "https://localhost:8080/"
        },
        "id": "WVsw0P9tB0jy",
        "outputId": "b6f2a031-84d9-4530-ab44-fc2da4dff29d"
      },
      "source": [
        "# palavras que tenham exatamente quatro letras\r\n",
        "# se não houvesse borda, pegaria no meio das palavras\r\n",
        "\r\n",
        "print(re.findall(r'\\b\\w{4}\\b', texto, flags=re.I))"
      ],
      "execution_count": null,
      "outputs": [
        {
          "output_type": "stream",
          "text": [
            "['João', 'para', '1970', 'nome', 'dela', 'vida', 'João', 'Teve', 'hoje', 'café', 'café', 'aqui', 'veem']\n"
          ],
          "name": "stdout"
        }
      ]
    },
    {
      "cell_type": "code",
      "metadata": {
        "colab": {
          "base_uri": "https://localhost:8080/"
        },
        "id": "FUb2MigyCACt",
        "outputId": "20446255-0154-427a-9bb5-d6e0a6fc7928"
      },
      "source": [
        "# sem borda, corta as palavras e retorna\r\n",
        "\r\n",
        "print(re.findall(r'\\w{4}', texto, flags=re.I))"
      ],
      "execution_count": null,
      "outputs": [
        {
          "output_type": "stream",
          "text": [
            "['João', 'trou', 'flor', 'para', 'amad', 'namo', 'rada', 'Jane', '1970', 'Mari', 'nome', 'dela', 'exce', 'lent', 'vida', 'João', 'Teve', 'filh', 'todo', 'adul', 'atua', 'lmen', 'Mari', 'hoje', 'espo', 'aque', 'café', 'quei', 'tard', 'domi', 'teve', '_ALG', 'Tamb', 'Send', 'mine', 'nunc', 'esqu', 'famo', 'quei', 'cans', 'ouvi', 'Mari', 'Jooo', 'oooo', 'oooo', 'oooo', 'oãoo', 'oooo', 'café', 'pron', 'tinh', 'aqui', 'Veee', 'veee', 'veee', 'veem']\n"
          ],
          "name": "stdout"
        }
      ]
    },
    {
      "cell_type": "code",
      "metadata": {
        "colab": {
          "base_uri": "https://localhost:8080/"
        },
        "id": "yMfuG3FaCVED",
        "outputId": "f86f1095-a908-4c8d-e924-11f8ca719d0b"
      },
      "source": [
        "# inverso da borda, pegando somente o flo\r\n",
        "\r\n",
        "print(re.findall(r'flo\\B', texto, flags=re.I))"
      ],
      "execution_count": null,
      "outputs": [
        {
          "output_type": "stream",
          "text": [
            "['flo']\n"
          ],
          "name": "stdout"
        }
      ]
    },
    {
      "cell_type": "code",
      "metadata": {
        "colab": {
          "base_uri": "https://localhost:8080/"
        },
        "id": "3GPc79RpCwoB",
        "outputId": "4ec71024-a626-4f7c-d87d-711b69962e23"
      },
      "source": [
        "# com flores\r\n",
        "\r\n",
        "print(re.findall(r'flores\\B', texto, flags=re.I))"
      ],
      "execution_count": null,
      "outputs": [
        {
          "output_type": "stream",
          "text": [
            "[]\n"
          ],
          "name": "stdout"
        }
      ]
    },
    {
      "cell_type": "markdown",
      "metadata": {
        "id": "bNGXbbWKDwuK"
      },
      "source": [
        "**flags**\r\n",
        "\r\n",
        "re.A: ASCII\r\n",
        "\r\n",
        "re.I: Ignorecase\r\n",
        "\r\n",
        "re.M: Multiline - Aplicáveis à ^ e $\r\n",
        "\r\n",
        "re.S: Dotall"
      ]
    },
    {
      "cell_type": "code",
      "metadata": {
        "id": "LxeMFbimC5WF"
      },
      "source": [
        "texto = '''\r\n",
        "\r\n",
        "131.768.460-53\r\n",
        "055.123.060-50\r\n",
        "955.123.060-90\r\n",
        "\r\n",
        "'''"
      ],
      "execution_count": null,
      "outputs": []
    },
    {
      "cell_type": "code",
      "metadata": {
        "colab": {
          "base_uri": "https://localhost:8080/"
        },
        "id": "YzMjbJkeETni",
        "outputId": "27da30c5-fbfc-48ab-810c-94ab115f0d86"
      },
      "source": [
        "print(re.findall(r'\\d{3}\\.\\d{3}\\.\\d{3}\\-\\d{2}', texto))"
      ],
      "execution_count": null,
      "outputs": [
        {
          "output_type": "stream",
          "text": [
            "['131.768.460-53', '055.123.060-50', '955.123.060-90']\n"
          ],
          "name": "stdout"
        }
      ]
    },
    {
      "cell_type": "code",
      "metadata": {
        "id": "ufSybM4CEbH-"
      },
      "source": [
        "texto2 = '''\r\n",
        "\r\n",
        "131.768.460-53 ABC\r\n",
        "055.123.060-50 DEF\r\n",
        "955.123.060-90\r\n",
        "\r\n",
        "'''"
      ],
      "execution_count": null,
      "outputs": []
    },
    {
      "cell_type": "code",
      "metadata": {
        "colab": {
          "base_uri": "https://localhost:8080/"
        },
        "id": "TzOSJ-NZZvvy",
        "outputId": "0f1bca31-fed4-4fa0-b4d7-1caae7748cfb"
      },
      "source": [
        "# tentando usar a expressão do inicial ao final da string\r\n",
        "\r\n",
        "print(re.findall(r'^\\d{3}\\.\\d{3}\\.\\d{3}\\-\\d{2}$', texto2))"
      ],
      "execution_count": null,
      "outputs": [
        {
          "output_type": "stream",
          "text": [
            "[]\n"
          ],
          "name": "stdout"
        }
      ]
    },
    {
      "cell_type": "code",
      "metadata": {
        "colab": {
          "base_uri": "https://localhost:8080/"
        },
        "id": "0mQKxAtVaMr3",
        "outputId": "bb35e2d6-7e46-4865-9567-b335c35d6145"
      },
      "source": [
        "# multiline p'ra fazer linha a linha\r\n",
        "# ^ e $ agora serão inicio e fim da linha\r\n",
        "\r\n",
        "print(re.findall(r'^\\d{3}\\.\\d{3}\\.\\d{3}\\-\\d{2}$', texto2, flags=re.M))"
      ],
      "execution_count": null,
      "outputs": [
        {
          "output_type": "stream",
          "text": [
            "['955.123.060-90']\n"
          ],
          "name": "stdout"
        }
      ]
    },
    {
      "cell_type": "code",
      "metadata": {
        "colab": {
          "base_uri": "https://localhost:8080/"
        },
        "id": "Dxlegh82aSYy",
        "outputId": "cf11daaf-5e38-49f3-affc-43cf5dd194f7"
      },
      "source": [
        "# outro exemplo\r\n",
        "\r\n",
        "texto3 = '''\r\n",
        "\r\n",
        "131.768.460-53 ABC\r\n",
        "055.123.060-50\r\n",
        "955.123.060-90\r\n",
        "\r\n",
        "'''\r\n",
        "\r\n",
        "print(re.findall(r'^\\d{3}\\.\\d{3}\\.\\d{3}\\-\\d{2}$', texto3, flags=re.M))"
      ],
      "execution_count": null,
      "outputs": [
        {
          "output_type": "stream",
          "text": [
            "['055.123.060-50', '955.123.060-90']\n"
          ],
          "name": "stdout"
        }
      ]
    },
    {
      "cell_type": "code",
      "metadata": {
        "colab": {
          "base_uri": "https://localhost:8080/"
        },
        "id": "QAnR0FaTbRxK",
        "outputId": "bbc5718c-5e68-47f6-fe00-8ed173cbae6e"
      },
      "source": [
        "texto4 = 'O João gosta de folia \\nE adora ser amado'\r\n",
        "\r\n",
        "print(texto4)"
      ],
      "execution_count": null,
      "outputs": [
        {
          "output_type": "stream",
          "text": [
            "O João gosta de folia \n",
            "E adora ser amado\n"
          ],
          "name": "stdout"
        }
      ]
    },
    {
      "cell_type": "code",
      "metadata": {
        "colab": {
          "base_uri": "https://localhost:8080/"
        },
        "id": "Ww0ggLw5bgKK",
        "outputId": "f7d5fcf6-c9e8-48a8-8cd5-6462eaa816cb"
      },
      "source": [
        "# dotall\r\n",
        "# pegando do 'O' até o 'o' de amado\r\n",
        "# o .* significa qualquer coisa, mas não reconhece a quebra de linha\r\n",
        "\r\n",
        "print(re.findall(r'^o.*o*$', texto4, flags=re.I))\r\n"
      ],
      "execution_count": null,
      "outputs": [
        {
          "output_type": "stream",
          "text": [
            "[]\n"
          ],
          "name": "stdout"
        }
      ]
    },
    {
      "cell_type": "code",
      "metadata": {
        "colab": {
          "base_uri": "https://localhost:8080/"
        },
        "id": "x3r0HrPqb2pL",
        "outputId": "bd0448aa-b93a-44a5-ac27-9e1e6b94b2e4"
      },
      "source": [
        "# mesma coisa sem a quebra de linha\r\n",
        "\r\n",
        "texto5 = 'O João gosta de folia E adora ser amado'\r\n",
        "\r\n",
        "print(re.findall(r'^o.*o*$', texto5, flags=re.I))\r\n"
      ],
      "execution_count": null,
      "outputs": [
        {
          "output_type": "stream",
          "text": [
            "['O João gosta de folia E adora ser amado']\n"
          ],
          "name": "stdout"
        }
      ]
    },
    {
      "cell_type": "code",
      "metadata": {
        "colab": {
          "base_uri": "https://localhost:8080/"
        },
        "id": "-U8mWiFbclCl",
        "outputId": "ab4e9e68-1833-438e-eac0-6bc638024e4f"
      },
      "source": [
        "# flag re.S (dotall) p'ra pegar a quebra de linha \r\n",
        "\r\n",
        "print(re.findall(r'^o.*o*$', texto4, flags=re.I | re.S))\r\n"
      ],
      "execution_count": null,
      "outputs": [
        {
          "output_type": "stream",
          "text": [
            "['O João gosta de folia \\nE adora ser amado']\n"
          ],
          "name": "stdout"
        }
      ]
    },
    {
      "cell_type": "markdown",
      "metadata": {
        "id": "nU7Dz49wdUkp"
      },
      "source": [
        "### Aula 08\r\n",
        "\r\n",
        "**Local Round**\r\n"
      ]
    },
    {
      "cell_type": "code",
      "metadata": {
        "id": "N8YvuNhVc0Fg"
      },
      "source": [
        "ip = '''\r\n",
        "\r\n",
        "ONLINE 192.168.0.1 GHIJK active\r\n",
        "OFFLINE 192.168.0.2 GHIJK inactive\r\n",
        "OFFLINE 192.168.0.3 GHIJK inactive\r\n",
        "ONLINE 192.168.0.4 GHIJK active\r\n",
        "ONLINE 192.168.0.5 GHIJK active\r\n",
        "OFFLINE 192.168.0.6 GHIJK inactive\r\n",
        "\r\n",
        "'''"
      ],
      "execution_count": null,
      "outputs": []
    },
    {
      "cell_type": "code",
      "metadata": {
        "colab": {
          "base_uri": "https://localhost:8080/"
        },
        "id": "74fdXiMQiRRR",
        "outputId": "4cee678d-2f79-415a-ff74-ddf20719bc0f"
      },
      "source": [
        "# ip's linha a linha\r\n",
        "\r\n",
        "print(re.findall(r'\\w+\\s+(\\d+\\.\\d+\\.\\d+\\.\\d+)\\s+\\w+\\s+\\w+', ip))"
      ],
      "execution_count": null,
      "outputs": [
        {
          "output_type": "stream",
          "text": [
            "['192.168.0.1', '192.168.0.2', '192.168.0.3', '192.168.0.4', '192.168.0.5', '192.168.0.6']\n"
          ],
          "name": "stdout"
        }
      ]
    },
    {
      "cell_type": "code",
      "metadata": {
        "colab": {
          "base_uri": "https://localhost:8080/"
        },
        "id": "S7e6ErQrjcXf",
        "outputId": "7efc4930-68dc-4359-c0ba-bb480f20e023"
      },
      "source": [
        "# colocando o \\w+ em grupo eu pego os active e inactive\r\n",
        "\r\n",
        "pprint(re.findall(r'\\w+\\s+(\\d+\\.\\d+\\.\\d+\\.\\d+)\\s+\\w+\\s+(\\w+)', ip))"
      ],
      "execution_count": null,
      "outputs": [
        {
          "output_type": "stream",
          "text": [
            "[('192.168.0.1', 'active'),\n",
            " ('192.168.0.2', 'inactive'),\n",
            " ('192.168.0.3', 'inactive'),\n",
            " ('192.168.0.4', 'active'),\n",
            " ('192.168.0.5', 'active'),\n",
            " ('192.168.0.6', 'inactive')]\n"
          ],
          "name": "stdout"
        }
      ]
    },
    {
      "cell_type": "code",
      "metadata": {
        "colab": {
          "base_uri": "https://localhost:8080/"
        },
        "id": "SnYD2zk6kKQi",
        "outputId": "dd8e391d-64bd-4687-bac0-b1f2bfc57d85"
      },
      "source": [
        "# positive lookahead\r\n",
        "\r\n",
        "pprint(re.findall(r'\\w+\\s+(\\d+\\.\\d+\\.\\d+\\.\\d+)\\s+\\w+\\s+(?=active)', ip))"
      ],
      "execution_count": null,
      "outputs": [
        {
          "output_type": "stream",
          "text": [
            "['192.168.0.1', '192.168.0.4', '192.168.0.5']\n"
          ],
          "name": "stdout"
        }
      ]
    },
    {
      "cell_type": "code",
      "metadata": {
        "colab": {
          "base_uri": "https://localhost:8080/"
        },
        "id": "eHZzsuc7ker2",
        "outputId": "45819613-e5b5-40dd-e2b6-420937789b09"
      },
      "source": [
        "# negative lookahead\r\n",
        "\r\n",
        "pprint(re.findall(r'\\w+\\s+(\\d+\\.\\d+\\.\\d+\\.\\d+)\\s+\\w+\\s+(?!active)', ip))"
      ],
      "execution_count": null,
      "outputs": [
        {
          "output_type": "stream",
          "text": [
            "['192.168.0.2', '192.168.0.3', '192.168.0.6']\n"
          ],
          "name": "stdout"
        }
      ]
    },
    {
      "cell_type": "code",
      "metadata": {
        "colab": {
          "base_uri": "https://localhost:8080/"
        },
        "id": "scGFCNPwkxJh",
        "outputId": "f28f121a-351d-457d-904a-1c2180e6cc85"
      },
      "source": [
        "# .+ p'ra pegar tudo\r\n",
        "# pegando linha a linha sem a flag dotall, assim se pega linha a linha\r\n",
        "\r\n",
        "pprint(re.findall(r'.+', ip))"
      ],
      "execution_count": null,
      "outputs": [
        {
          "output_type": "stream",
          "text": [
            "['ONLINE 192.168.0.1 GHIJK active',\n",
            " 'OFFLINE 192.168.0.2 GHIJK inactive',\n",
            " 'OFFLINE 192.168.0.3 GHIJK inactive',\n",
            " 'ONLINE 192.168.0.4 GHIJK active',\n",
            " 'ONLINE 192.168.0.5 GHIJK active',\n",
            " 'OFFLINE 192.168.0.6 GHIJK inactive']\n"
          ],
          "name": "stdout"
        }
      ]
    },
    {
      "cell_type": "code",
      "metadata": {
        "colab": {
          "base_uri": "https://localhost:8080/"
        },
        "id": "jQMeXwJ8lXRi",
        "outputId": "33f1535c-789d-4506-f49d-a812b92ccf15"
      },
      "source": [
        "# pegando linhas que têm inactive\r\n",
        "\r\n",
        "pprint(re.findall(r'(?=.*inactive).+', ip))"
      ],
      "execution_count": null,
      "outputs": [
        {
          "output_type": "stream",
          "text": [
            "['OFFLINE 192.168.0.2 GHIJK inactive',\n",
            " 'OFFLINE 192.168.0.3 GHIJK inactive',\n",
            " 'OFFLINE 192.168.0.6 GHIJK inactive']\n"
          ],
          "name": "stdout"
        }
      ]
    },
    {
      "cell_type": "code",
      "metadata": {
        "colab": {
          "base_uri": "https://localhost:8080/"
        },
        "id": "RICjQ18el7TD",
        "outputId": "35e8c9e9-a4ac-4f91-fc6c-493913b90118"
      },
      "source": [
        "# pegando linhas que têm active também irá pegar inactive por contê-la\r\n",
        "\r\n",
        "pprint(re.findall(r'(?=.*active).+', ip))"
      ],
      "execution_count": null,
      "outputs": [
        {
          "output_type": "stream",
          "text": [
            "['ONLINE 192.168.0.1 GHIJK active',\n",
            " 'OFFLINE 192.168.0.2 GHIJK inactive',\n",
            " 'OFFLINE 192.168.0.3 GHIJK inactive',\n",
            " 'ONLINE 192.168.0.4 GHIJK active',\n",
            " 'ONLINE 192.168.0.5 GHIJK active',\n",
            " 'OFFLINE 192.168.0.6 GHIJK inactive']\n"
          ],
          "name": "stdout"
        }
      ]
    },
    {
      "cell_type": "code",
      "metadata": {
        "colab": {
          "base_uri": "https://localhost:8080/"
        },
        "id": "ivldeJ_4niRC",
        "outputId": "f01f5147-c81c-48e0-ffce-373ed8aa6703"
      },
      "source": [
        "# negando o in de inactive\r\n",
        "\r\n",
        "pprint(re.findall(r'(?=.*[^in]active).+', ip))"
      ],
      "execution_count": null,
      "outputs": [
        {
          "output_type": "stream",
          "text": [
            "['ONLINE 192.168.0.1 GHIJK active',\n",
            " 'ONLINE 192.168.0.4 GHIJK active',\n",
            " 'ONLINE 192.168.0.5 GHIJK active']\n"
          ],
          "name": "stdout"
        }
      ]
    },
    {
      "cell_type": "code",
      "metadata": {
        "colab": {
          "base_uri": "https://localhost:8080/"
        },
        "id": "EiewkfiynpYs",
        "outputId": "f10b08ac-6184-4de3-c1b6-1f573d6dbb45"
      },
      "source": [
        "# positive lookbehind - verificando se há algo antes do que estou checando e retornando se tiver, algo\r\n",
        "# se tiver ONLINE retornar o ip\r\n",
        "\r\n",
        "print(re.findall(r'\\w+(?<=ONLINE)\\s+(\\d+\\.\\d+\\.\\d+\\.\\d+)\\s+\\w+\\s+\\w+', ip))"
      ],
      "execution_count": null,
      "outputs": [
        {
          "output_type": "stream",
          "text": [
            "['192.168.0.1', '192.168.0.4', '192.168.0.5']\n"
          ],
          "name": "stdout"
        }
      ]
    },
    {
      "cell_type": "code",
      "metadata": {
        "colab": {
          "base_uri": "https://localhost:8080/"
        },
        "id": "9c2ZXsLqoDdg",
        "outputId": "388e98d9-6bfe-487d-da48-bfaf4845784f"
      },
      "source": [
        "# negative lookbehind\r\n",
        "# se não tiver ONLINE retornar o ip\r\n",
        "\r\n",
        "print(re.findall(r'\\w+(?<!ONLINE)\\s+(\\d+\\.\\d+\\.\\d+\\.\\d+)\\s+\\w+\\s+\\w+', ip))"
      ],
      "execution_count": null,
      "outputs": [
        {
          "output_type": "stream",
          "text": [
            "['192.168.0.2', '192.168.0.3', '192.168.0.6']\n"
          ],
          "name": "stdout"
        }
      ]
    },
    {
      "cell_type": "code",
      "metadata": {
        "colab": {
          "base_uri": "https://localhost:8080/"
        },
        "id": "OKstA4pGo7Su",
        "outputId": "3178d8bb-f740-4c19-9b94-ed87e08cd990"
      },
      "source": [
        "# outro exemplo - retirando o grupo do meio\r\n",
        "\r\n",
        "pprint(re.findall(r'\\w+(?<!ONLINE)\\s+\\d+\\.\\d+\\.\\d+\\.\\d+\\s+\\w+\\s+\\w+', ip))"
      ],
      "execution_count": null,
      "outputs": [
        {
          "output_type": "stream",
          "text": [
            "['OFFLINE 192.168.0.2 GHIJK inactive',\n",
            " 'OFFLINE 192.168.0.3 GHIJK inactive',\n",
            " 'OFFLINE 192.168.0.6 GHIJK inactive']\n"
          ],
          "name": "stdout"
        }
      ]
    },
    {
      "cell_type": "code",
      "metadata": {
        "colab": {
          "base_uri": "https://localhost:8080/"
        },
        "id": "WGqyMCWiqJTd",
        "outputId": "1b1420e2-8d87-4bf2-8f26-60608b0566a3"
      },
      "source": [
        "# outro exemplo - retirando a palavra atrás\r\n",
        "# nesse caso a palavra só serve p'ra checar, mas não é retornada\r\n",
        "\r\n",
        "\r\n",
        "pprint(re.findall(r'(?<!ONLINE)\\s+\\d+\\.\\d+\\.\\d+\\.\\d+\\s+\\w+\\s+\\w+', ip))"
      ],
      "execution_count": null,
      "outputs": [
        {
          "output_type": "stream",
          "text": [
            "[' 192.168.0.2 GHIJK inactive',\n",
            " ' 192.168.0.3 GHIJK inactive',\n",
            " ' 192.168.0.6 GHIJK inactive']\n"
          ],
          "name": "stdout"
        }
      ]
    },
    {
      "cell_type": "markdown",
      "metadata": {
        "id": "FIyd6OvTaata"
      },
      "source": [
        "### Aula 09\n",
        "\n",
        "**Ranges Numéricos**\n"
      ]
    },
    {
      "cell_type": "markdown",
      "metadata": {
        "id": "Xrsy8In1bc2G"
      },
      "source": [
        "Validação de IP e CPF\n",
        "\n",
        "- Um IP vai de 0.0.0.0 até 255.255.255.255\n",
        "  - Cada casa é um número único, logo preciso do range de 0 a 255.\n",
        "\n",
        "- Um CPF segue o padrão XXX.XXX.XXX-XX\n",
        "  - São grupos que podem variar em qualquer parte o seu valor, inclusive começando do 0, contudo o são sempre a mesma sequência XX.XXX.XXX-XX."
      ]
    },
    {
      "cell_type": "markdown",
      "metadata": {
        "id": "7DQfdYaqc-8l"
      },
      "source": [
        "##### CPF"
      ]
    },
    {
      "cell_type": "code",
      "metadata": {
        "id": "0xjqHAx3cmsZ"
      },
      "source": [
        "cpf = '025.258.963-10'"
      ],
      "execution_count": null,
      "outputs": []
    },
    {
      "cell_type": "code",
      "metadata": {
        "id": "frm2AAYyqWhb",
        "colab": {
          "base_uri": "https://localhost:8080/"
        },
        "outputId": "7abcdec7-889f-4f38-94e2-cd40adc1f669"
      },
      "source": [
        "#expressão\n",
        "cpf_reg_exp = re.compile(r'^\\d(3)\\.\\d(3)\\.\\d(3)\\.-\\d(2)$')\n",
        "\n",
        "# validando\n",
        "print(cpf_reg_exp.search(cpf))"
      ],
      "execution_count": null,
      "outputs": [
        {
          "output_type": "stream",
          "text": [
            "None\n"
          ],
          "name": "stdout"
        }
      ]
    },
    {
      "cell_type": "markdown",
      "metadata": {
        "id": "PmMAEdzYdEDt"
      },
      "source": [
        "##### IP\n",
        "\n",
        "Quero de 0.0.0.0 até 255.255.255.255."
      ]
    },
    {
      "cell_type": "code",
      "metadata": {
        "id": "rrYMwCVJddKz"
      },
      "source": [
        "# em verbose para poder comentar dentro da expressão\n",
        "# modo 1\n",
        "\n",
        "ip_reg_exp1 = re.compile(r'''\n",
        "  ^ # inicia a expressão\n",
        "  (?: # informando que o grupo não precisa ser salvo\n",
        "  25[0-5]| # 250-255\n",
        "  2[0-4][0-9]| #200-249, o [0-9] poderia ser substituido por \\d\n",
        "  1[0-9]{2}|# 100-199\n",
        "  [1-9][0-9]| #10-99\n",
        "  [0-9] #0-9\n",
        "  )\n",
        "  \\. # elimina pegar o apenas o 25 do 256 em diante\n",
        "  # dentre as várias opções que temos, uma é executar o bloco acima 4x e retirar o último \\.\n",
        "  # essa é a manenira mais clara e mais precisa\n",
        "   (?:\n",
        "  25[0-5]| # 250-255\n",
        "  2[0-4][0-9]| #200-249\n",
        "  1[0-9]{2}|# 100-199\n",
        "  [1-9][0-9]| #10-99\n",
        "  [0-9] #0-9\n",
        "  )\n",
        "  \\. \n",
        "   (?:\n",
        "  25[0-5]| # 250-255\n",
        "  2[0-4][0-9]| #200-249\n",
        "  1[0-9]{2}|# 100-199\n",
        "  [1-9][0-9]| #10-99\n",
        "  [0-9] #0-9\n",
        "  )\n",
        "  \\. \n",
        "   (?:\n",
        "  25[0-5]| # 250-255\n",
        "  2[0-4][0-9]| #200-249\n",
        "  1[0-9]{2}|# 100-199\n",
        "  [1-9][0-9]| #10-99\n",
        "  [0-9] #0-9\n",
        "  )\n",
        "  $ # termina a expressão\n",
        "''', flags = re.X)\n",
        "\n",
        "\n",
        "# a flag pode ser re.X ou re.VERBOSE\n",
        "\n"
      ],
      "execution_count": null,
      "outputs": []
    },
    {
      "cell_type": "code",
      "metadata": {
        "colab": {
          "base_uri": "https://localhost:8080/"
        },
        "id": "oq1uFuY8dGKc",
        "outputId": "02467eb7-ae8c-453b-ea06-6544b9076d1d"
      },
      "source": [
        "# do 256.256.256.256 em diante é inválido\n",
        "\n",
        "for i in range(301):\n",
        "  ip = f'{i}.{i}.{i}.{i}'\n",
        "  print(ip, ip_reg_exp1.findall(ip))"
      ],
      "execution_count": null,
      "outputs": [
        {
          "output_type": "stream",
          "text": [
            "0.0.0.0 ['0.0.0.0']\n",
            "1.1.1.1 ['1.1.1.1']\n",
            "2.2.2.2 ['2.2.2.2']\n",
            "3.3.3.3 ['3.3.3.3']\n",
            "4.4.4.4 ['4.4.4.4']\n",
            "5.5.5.5 ['5.5.5.5']\n",
            "6.6.6.6 ['6.6.6.6']\n",
            "7.7.7.7 ['7.7.7.7']\n",
            "8.8.8.8 ['8.8.8.8']\n",
            "9.9.9.9 ['9.9.9.9']\n",
            "10.10.10.10 ['10.10.10.10']\n",
            "11.11.11.11 ['11.11.11.11']\n",
            "12.12.12.12 ['12.12.12.12']\n",
            "13.13.13.13 ['13.13.13.13']\n",
            "14.14.14.14 ['14.14.14.14']\n",
            "15.15.15.15 ['15.15.15.15']\n",
            "16.16.16.16 ['16.16.16.16']\n",
            "17.17.17.17 ['17.17.17.17']\n",
            "18.18.18.18 ['18.18.18.18']\n",
            "19.19.19.19 ['19.19.19.19']\n",
            "20.20.20.20 ['20.20.20.20']\n",
            "21.21.21.21 ['21.21.21.21']\n",
            "22.22.22.22 ['22.22.22.22']\n",
            "23.23.23.23 ['23.23.23.23']\n",
            "24.24.24.24 ['24.24.24.24']\n",
            "25.25.25.25 ['25.25.25.25']\n",
            "26.26.26.26 ['26.26.26.26']\n",
            "27.27.27.27 ['27.27.27.27']\n",
            "28.28.28.28 ['28.28.28.28']\n",
            "29.29.29.29 ['29.29.29.29']\n",
            "30.30.30.30 ['30.30.30.30']\n",
            "31.31.31.31 ['31.31.31.31']\n",
            "32.32.32.32 ['32.32.32.32']\n",
            "33.33.33.33 ['33.33.33.33']\n",
            "34.34.34.34 ['34.34.34.34']\n",
            "35.35.35.35 ['35.35.35.35']\n",
            "36.36.36.36 ['36.36.36.36']\n",
            "37.37.37.37 ['37.37.37.37']\n",
            "38.38.38.38 ['38.38.38.38']\n",
            "39.39.39.39 ['39.39.39.39']\n",
            "40.40.40.40 ['40.40.40.40']\n",
            "41.41.41.41 ['41.41.41.41']\n",
            "42.42.42.42 ['42.42.42.42']\n",
            "43.43.43.43 ['43.43.43.43']\n",
            "44.44.44.44 ['44.44.44.44']\n",
            "45.45.45.45 ['45.45.45.45']\n",
            "46.46.46.46 ['46.46.46.46']\n",
            "47.47.47.47 ['47.47.47.47']\n",
            "48.48.48.48 ['48.48.48.48']\n",
            "49.49.49.49 ['49.49.49.49']\n",
            "50.50.50.50 ['50.50.50.50']\n",
            "51.51.51.51 ['51.51.51.51']\n",
            "52.52.52.52 ['52.52.52.52']\n",
            "53.53.53.53 ['53.53.53.53']\n",
            "54.54.54.54 ['54.54.54.54']\n",
            "55.55.55.55 ['55.55.55.55']\n",
            "56.56.56.56 ['56.56.56.56']\n",
            "57.57.57.57 ['57.57.57.57']\n",
            "58.58.58.58 ['58.58.58.58']\n",
            "59.59.59.59 ['59.59.59.59']\n",
            "60.60.60.60 ['60.60.60.60']\n",
            "61.61.61.61 ['61.61.61.61']\n",
            "62.62.62.62 ['62.62.62.62']\n",
            "63.63.63.63 ['63.63.63.63']\n",
            "64.64.64.64 ['64.64.64.64']\n",
            "65.65.65.65 ['65.65.65.65']\n",
            "66.66.66.66 ['66.66.66.66']\n",
            "67.67.67.67 ['67.67.67.67']\n",
            "68.68.68.68 ['68.68.68.68']\n",
            "69.69.69.69 ['69.69.69.69']\n",
            "70.70.70.70 ['70.70.70.70']\n",
            "71.71.71.71 ['71.71.71.71']\n",
            "72.72.72.72 ['72.72.72.72']\n",
            "73.73.73.73 ['73.73.73.73']\n",
            "74.74.74.74 ['74.74.74.74']\n",
            "75.75.75.75 ['75.75.75.75']\n",
            "76.76.76.76 ['76.76.76.76']\n",
            "77.77.77.77 ['77.77.77.77']\n",
            "78.78.78.78 ['78.78.78.78']\n",
            "79.79.79.79 ['79.79.79.79']\n",
            "80.80.80.80 ['80.80.80.80']\n",
            "81.81.81.81 ['81.81.81.81']\n",
            "82.82.82.82 ['82.82.82.82']\n",
            "83.83.83.83 ['83.83.83.83']\n",
            "84.84.84.84 ['84.84.84.84']\n",
            "85.85.85.85 ['85.85.85.85']\n",
            "86.86.86.86 ['86.86.86.86']\n",
            "87.87.87.87 ['87.87.87.87']\n",
            "88.88.88.88 ['88.88.88.88']\n",
            "89.89.89.89 ['89.89.89.89']\n",
            "90.90.90.90 ['90.90.90.90']\n",
            "91.91.91.91 ['91.91.91.91']\n",
            "92.92.92.92 ['92.92.92.92']\n",
            "93.93.93.93 ['93.93.93.93']\n",
            "94.94.94.94 ['94.94.94.94']\n",
            "95.95.95.95 ['95.95.95.95']\n",
            "96.96.96.96 ['96.96.96.96']\n",
            "97.97.97.97 ['97.97.97.97']\n",
            "98.98.98.98 ['98.98.98.98']\n",
            "99.99.99.99 ['99.99.99.99']\n",
            "100.100.100.100 ['100.100.100.100']\n",
            "101.101.101.101 ['101.101.101.101']\n",
            "102.102.102.102 ['102.102.102.102']\n",
            "103.103.103.103 ['103.103.103.103']\n",
            "104.104.104.104 ['104.104.104.104']\n",
            "105.105.105.105 ['105.105.105.105']\n",
            "106.106.106.106 ['106.106.106.106']\n",
            "107.107.107.107 ['107.107.107.107']\n",
            "108.108.108.108 ['108.108.108.108']\n",
            "109.109.109.109 ['109.109.109.109']\n",
            "110.110.110.110 ['110.110.110.110']\n",
            "111.111.111.111 ['111.111.111.111']\n",
            "112.112.112.112 ['112.112.112.112']\n",
            "113.113.113.113 ['113.113.113.113']\n",
            "114.114.114.114 ['114.114.114.114']\n",
            "115.115.115.115 ['115.115.115.115']\n",
            "116.116.116.116 ['116.116.116.116']\n",
            "117.117.117.117 ['117.117.117.117']\n",
            "118.118.118.118 ['118.118.118.118']\n",
            "119.119.119.119 ['119.119.119.119']\n",
            "120.120.120.120 ['120.120.120.120']\n",
            "121.121.121.121 ['121.121.121.121']\n",
            "122.122.122.122 ['122.122.122.122']\n",
            "123.123.123.123 ['123.123.123.123']\n",
            "124.124.124.124 ['124.124.124.124']\n",
            "125.125.125.125 ['125.125.125.125']\n",
            "126.126.126.126 ['126.126.126.126']\n",
            "127.127.127.127 ['127.127.127.127']\n",
            "128.128.128.128 ['128.128.128.128']\n",
            "129.129.129.129 ['129.129.129.129']\n",
            "130.130.130.130 ['130.130.130.130']\n",
            "131.131.131.131 ['131.131.131.131']\n",
            "132.132.132.132 ['132.132.132.132']\n",
            "133.133.133.133 ['133.133.133.133']\n",
            "134.134.134.134 ['134.134.134.134']\n",
            "135.135.135.135 ['135.135.135.135']\n",
            "136.136.136.136 ['136.136.136.136']\n",
            "137.137.137.137 ['137.137.137.137']\n",
            "138.138.138.138 ['138.138.138.138']\n",
            "139.139.139.139 ['139.139.139.139']\n",
            "140.140.140.140 ['140.140.140.140']\n",
            "141.141.141.141 ['141.141.141.141']\n",
            "142.142.142.142 ['142.142.142.142']\n",
            "143.143.143.143 ['143.143.143.143']\n",
            "144.144.144.144 ['144.144.144.144']\n",
            "145.145.145.145 ['145.145.145.145']\n",
            "146.146.146.146 ['146.146.146.146']\n",
            "147.147.147.147 ['147.147.147.147']\n",
            "148.148.148.148 ['148.148.148.148']\n",
            "149.149.149.149 ['149.149.149.149']\n",
            "150.150.150.150 ['150.150.150.150']\n",
            "151.151.151.151 ['151.151.151.151']\n",
            "152.152.152.152 ['152.152.152.152']\n",
            "153.153.153.153 ['153.153.153.153']\n",
            "154.154.154.154 ['154.154.154.154']\n",
            "155.155.155.155 ['155.155.155.155']\n",
            "156.156.156.156 ['156.156.156.156']\n",
            "157.157.157.157 ['157.157.157.157']\n",
            "158.158.158.158 ['158.158.158.158']\n",
            "159.159.159.159 ['159.159.159.159']\n",
            "160.160.160.160 ['160.160.160.160']\n",
            "161.161.161.161 ['161.161.161.161']\n",
            "162.162.162.162 ['162.162.162.162']\n",
            "163.163.163.163 ['163.163.163.163']\n",
            "164.164.164.164 ['164.164.164.164']\n",
            "165.165.165.165 ['165.165.165.165']\n",
            "166.166.166.166 ['166.166.166.166']\n",
            "167.167.167.167 ['167.167.167.167']\n",
            "168.168.168.168 ['168.168.168.168']\n",
            "169.169.169.169 ['169.169.169.169']\n",
            "170.170.170.170 ['170.170.170.170']\n",
            "171.171.171.171 ['171.171.171.171']\n",
            "172.172.172.172 ['172.172.172.172']\n",
            "173.173.173.173 ['173.173.173.173']\n",
            "174.174.174.174 ['174.174.174.174']\n",
            "175.175.175.175 ['175.175.175.175']\n",
            "176.176.176.176 ['176.176.176.176']\n",
            "177.177.177.177 ['177.177.177.177']\n",
            "178.178.178.178 ['178.178.178.178']\n",
            "179.179.179.179 ['179.179.179.179']\n",
            "180.180.180.180 ['180.180.180.180']\n",
            "181.181.181.181 ['181.181.181.181']\n",
            "182.182.182.182 ['182.182.182.182']\n",
            "183.183.183.183 ['183.183.183.183']\n",
            "184.184.184.184 ['184.184.184.184']\n",
            "185.185.185.185 ['185.185.185.185']\n",
            "186.186.186.186 ['186.186.186.186']\n",
            "187.187.187.187 ['187.187.187.187']\n",
            "188.188.188.188 ['188.188.188.188']\n",
            "189.189.189.189 ['189.189.189.189']\n",
            "190.190.190.190 ['190.190.190.190']\n",
            "191.191.191.191 ['191.191.191.191']\n",
            "192.192.192.192 ['192.192.192.192']\n",
            "193.193.193.193 ['193.193.193.193']\n",
            "194.194.194.194 ['194.194.194.194']\n",
            "195.195.195.195 ['195.195.195.195']\n",
            "196.196.196.196 ['196.196.196.196']\n",
            "197.197.197.197 ['197.197.197.197']\n",
            "198.198.198.198 ['198.198.198.198']\n",
            "199.199.199.199 ['199.199.199.199']\n",
            "200.200.200.200 ['200.200.200.200']\n",
            "201.201.201.201 ['201.201.201.201']\n",
            "202.202.202.202 ['202.202.202.202']\n",
            "203.203.203.203 ['203.203.203.203']\n",
            "204.204.204.204 ['204.204.204.204']\n",
            "205.205.205.205 ['205.205.205.205']\n",
            "206.206.206.206 ['206.206.206.206']\n",
            "207.207.207.207 ['207.207.207.207']\n",
            "208.208.208.208 ['208.208.208.208']\n",
            "209.209.209.209 ['209.209.209.209']\n",
            "210.210.210.210 ['210.210.210.210']\n",
            "211.211.211.211 ['211.211.211.211']\n",
            "212.212.212.212 ['212.212.212.212']\n",
            "213.213.213.213 ['213.213.213.213']\n",
            "214.214.214.214 ['214.214.214.214']\n",
            "215.215.215.215 ['215.215.215.215']\n",
            "216.216.216.216 ['216.216.216.216']\n",
            "217.217.217.217 ['217.217.217.217']\n",
            "218.218.218.218 ['218.218.218.218']\n",
            "219.219.219.219 ['219.219.219.219']\n",
            "220.220.220.220 ['220.220.220.220']\n",
            "221.221.221.221 ['221.221.221.221']\n",
            "222.222.222.222 ['222.222.222.222']\n",
            "223.223.223.223 ['223.223.223.223']\n",
            "224.224.224.224 ['224.224.224.224']\n",
            "225.225.225.225 ['225.225.225.225']\n",
            "226.226.226.226 ['226.226.226.226']\n",
            "227.227.227.227 ['227.227.227.227']\n",
            "228.228.228.228 ['228.228.228.228']\n",
            "229.229.229.229 ['229.229.229.229']\n",
            "230.230.230.230 ['230.230.230.230']\n",
            "231.231.231.231 ['231.231.231.231']\n",
            "232.232.232.232 ['232.232.232.232']\n",
            "233.233.233.233 ['233.233.233.233']\n",
            "234.234.234.234 ['234.234.234.234']\n",
            "235.235.235.235 ['235.235.235.235']\n",
            "236.236.236.236 ['236.236.236.236']\n",
            "237.237.237.237 ['237.237.237.237']\n",
            "238.238.238.238 ['238.238.238.238']\n",
            "239.239.239.239 ['239.239.239.239']\n",
            "240.240.240.240 ['240.240.240.240']\n",
            "241.241.241.241 ['241.241.241.241']\n",
            "242.242.242.242 ['242.242.242.242']\n",
            "243.243.243.243 ['243.243.243.243']\n",
            "244.244.244.244 ['244.244.244.244']\n",
            "245.245.245.245 ['245.245.245.245']\n",
            "246.246.246.246 ['246.246.246.246']\n",
            "247.247.247.247 ['247.247.247.247']\n",
            "248.248.248.248 ['248.248.248.248']\n",
            "249.249.249.249 ['249.249.249.249']\n",
            "250.250.250.250 ['250.250.250.250']\n",
            "251.251.251.251 ['251.251.251.251']\n",
            "252.252.252.252 ['252.252.252.252']\n",
            "253.253.253.253 ['253.253.253.253']\n",
            "254.254.254.254 ['254.254.254.254']\n",
            "255.255.255.255 ['255.255.255.255']\n",
            "256.256.256.256 []\n",
            "257.257.257.257 []\n",
            "258.258.258.258 []\n",
            "259.259.259.259 []\n",
            "260.260.260.260 []\n",
            "261.261.261.261 []\n",
            "262.262.262.262 []\n",
            "263.263.263.263 []\n",
            "264.264.264.264 []\n",
            "265.265.265.265 []\n",
            "266.266.266.266 []\n",
            "267.267.267.267 []\n",
            "268.268.268.268 []\n",
            "269.269.269.269 []\n",
            "270.270.270.270 []\n",
            "271.271.271.271 []\n",
            "272.272.272.272 []\n",
            "273.273.273.273 []\n",
            "274.274.274.274 []\n",
            "275.275.275.275 []\n",
            "276.276.276.276 []\n",
            "277.277.277.277 []\n",
            "278.278.278.278 []\n",
            "279.279.279.279 []\n",
            "280.280.280.280 []\n",
            "281.281.281.281 []\n",
            "282.282.282.282 []\n",
            "283.283.283.283 []\n",
            "284.284.284.284 []\n",
            "285.285.285.285 []\n",
            "286.286.286.286 []\n",
            "287.287.287.287 []\n",
            "288.288.288.288 []\n",
            "289.289.289.289 []\n",
            "290.290.290.290 []\n",
            "291.291.291.291 []\n",
            "292.292.292.292 []\n",
            "293.293.293.293 []\n",
            "294.294.294.294 []\n",
            "295.295.295.295 []\n",
            "296.296.296.296 []\n",
            "297.297.297.297 []\n",
            "298.298.298.298 []\n",
            "299.299.299.299 []\n",
            "300.300.300.300 []\n"
          ],
          "name": "stdout"
        }
      ]
    },
    {
      "cell_type": "code",
      "metadata": {
        "id": "ReS239MmeRld"
      },
      "source": [
        "# modo 2\n",
        "\n",
        "ip_reg_exp2 = re.compile(r'''\n",
        "  ^\n",
        "  (?:\n",
        "    (?: \n",
        "    25[0-5]| # 250-255\n",
        "    2[0-4][0-9]| #200-249\n",
        "    1[0-9]{2}|# 100-199\n",
        "    [1-9][0-9]| #10-99\n",
        "    [0-9] #0-9\n",
        "    )\n",
        "    \\. \n",
        "  ){3} # repetindo o grupo acima, incluindo o ponto, 3x\n",
        "    (?:\n",
        "    25[0-5]| # 250-255\n",
        "    2[0-4][0-9]| #200-249\n",
        "    1[0-9]{2}|# 100-199\n",
        "    [1-9][0-9]| #10-99\n",
        "    [0-9] #0-9\n",
        "    ) # grupo sem o ponto final\n",
        "  $\n",
        "  \n",
        "''', flags = re.X)"
      ],
      "execution_count": null,
      "outputs": []
    },
    {
      "cell_type": "code",
      "metadata": {
        "colab": {
          "base_uri": "https://localhost:8080/"
        },
        "id": "_M4G7PQOljpl",
        "outputId": "b4f7fcc5-4aea-4d34-e1e1-f02fe54d1bf8"
      },
      "source": [
        "for i in range(301):\n",
        "  ip = f'{i}.{i}.{i}.{i}'\n",
        "  print(ip, ip_reg_exp2.findall(ip))"
      ],
      "execution_count": null,
      "outputs": [
        {
          "output_type": "stream",
          "text": [
            "0.0.0.0 ['0.0.0.0']\n",
            "1.1.1.1 ['1.1.1.1']\n",
            "2.2.2.2 ['2.2.2.2']\n",
            "3.3.3.3 ['3.3.3.3']\n",
            "4.4.4.4 ['4.4.4.4']\n",
            "5.5.5.5 ['5.5.5.5']\n",
            "6.6.6.6 ['6.6.6.6']\n",
            "7.7.7.7 ['7.7.7.7']\n",
            "8.8.8.8 ['8.8.8.8']\n",
            "9.9.9.9 ['9.9.9.9']\n",
            "10.10.10.10 ['10.10.10.10']\n",
            "11.11.11.11 ['11.11.11.11']\n",
            "12.12.12.12 ['12.12.12.12']\n",
            "13.13.13.13 ['13.13.13.13']\n",
            "14.14.14.14 ['14.14.14.14']\n",
            "15.15.15.15 ['15.15.15.15']\n",
            "16.16.16.16 ['16.16.16.16']\n",
            "17.17.17.17 ['17.17.17.17']\n",
            "18.18.18.18 ['18.18.18.18']\n",
            "19.19.19.19 ['19.19.19.19']\n",
            "20.20.20.20 ['20.20.20.20']\n",
            "21.21.21.21 ['21.21.21.21']\n",
            "22.22.22.22 ['22.22.22.22']\n",
            "23.23.23.23 ['23.23.23.23']\n",
            "24.24.24.24 ['24.24.24.24']\n",
            "25.25.25.25 ['25.25.25.25']\n",
            "26.26.26.26 ['26.26.26.26']\n",
            "27.27.27.27 ['27.27.27.27']\n",
            "28.28.28.28 ['28.28.28.28']\n",
            "29.29.29.29 ['29.29.29.29']\n",
            "30.30.30.30 ['30.30.30.30']\n",
            "31.31.31.31 ['31.31.31.31']\n",
            "32.32.32.32 ['32.32.32.32']\n",
            "33.33.33.33 ['33.33.33.33']\n",
            "34.34.34.34 ['34.34.34.34']\n",
            "35.35.35.35 ['35.35.35.35']\n",
            "36.36.36.36 ['36.36.36.36']\n",
            "37.37.37.37 ['37.37.37.37']\n",
            "38.38.38.38 ['38.38.38.38']\n",
            "39.39.39.39 ['39.39.39.39']\n",
            "40.40.40.40 ['40.40.40.40']\n",
            "41.41.41.41 ['41.41.41.41']\n",
            "42.42.42.42 ['42.42.42.42']\n",
            "43.43.43.43 ['43.43.43.43']\n",
            "44.44.44.44 ['44.44.44.44']\n",
            "45.45.45.45 ['45.45.45.45']\n",
            "46.46.46.46 ['46.46.46.46']\n",
            "47.47.47.47 ['47.47.47.47']\n",
            "48.48.48.48 ['48.48.48.48']\n",
            "49.49.49.49 ['49.49.49.49']\n",
            "50.50.50.50 ['50.50.50.50']\n",
            "51.51.51.51 ['51.51.51.51']\n",
            "52.52.52.52 ['52.52.52.52']\n",
            "53.53.53.53 ['53.53.53.53']\n",
            "54.54.54.54 ['54.54.54.54']\n",
            "55.55.55.55 ['55.55.55.55']\n",
            "56.56.56.56 ['56.56.56.56']\n",
            "57.57.57.57 ['57.57.57.57']\n",
            "58.58.58.58 ['58.58.58.58']\n",
            "59.59.59.59 ['59.59.59.59']\n",
            "60.60.60.60 ['60.60.60.60']\n",
            "61.61.61.61 ['61.61.61.61']\n",
            "62.62.62.62 ['62.62.62.62']\n",
            "63.63.63.63 ['63.63.63.63']\n",
            "64.64.64.64 ['64.64.64.64']\n",
            "65.65.65.65 ['65.65.65.65']\n",
            "66.66.66.66 ['66.66.66.66']\n",
            "67.67.67.67 ['67.67.67.67']\n",
            "68.68.68.68 ['68.68.68.68']\n",
            "69.69.69.69 ['69.69.69.69']\n",
            "70.70.70.70 ['70.70.70.70']\n",
            "71.71.71.71 ['71.71.71.71']\n",
            "72.72.72.72 ['72.72.72.72']\n",
            "73.73.73.73 ['73.73.73.73']\n",
            "74.74.74.74 ['74.74.74.74']\n",
            "75.75.75.75 ['75.75.75.75']\n",
            "76.76.76.76 ['76.76.76.76']\n",
            "77.77.77.77 ['77.77.77.77']\n",
            "78.78.78.78 ['78.78.78.78']\n",
            "79.79.79.79 ['79.79.79.79']\n",
            "80.80.80.80 ['80.80.80.80']\n",
            "81.81.81.81 ['81.81.81.81']\n",
            "82.82.82.82 ['82.82.82.82']\n",
            "83.83.83.83 ['83.83.83.83']\n",
            "84.84.84.84 ['84.84.84.84']\n",
            "85.85.85.85 ['85.85.85.85']\n",
            "86.86.86.86 ['86.86.86.86']\n",
            "87.87.87.87 ['87.87.87.87']\n",
            "88.88.88.88 ['88.88.88.88']\n",
            "89.89.89.89 ['89.89.89.89']\n",
            "90.90.90.90 ['90.90.90.90']\n",
            "91.91.91.91 ['91.91.91.91']\n",
            "92.92.92.92 ['92.92.92.92']\n",
            "93.93.93.93 ['93.93.93.93']\n",
            "94.94.94.94 ['94.94.94.94']\n",
            "95.95.95.95 ['95.95.95.95']\n",
            "96.96.96.96 ['96.96.96.96']\n",
            "97.97.97.97 ['97.97.97.97']\n",
            "98.98.98.98 ['98.98.98.98']\n",
            "99.99.99.99 ['99.99.99.99']\n",
            "100.100.100.100 ['100.100.100.100']\n",
            "101.101.101.101 ['101.101.101.101']\n",
            "102.102.102.102 ['102.102.102.102']\n",
            "103.103.103.103 ['103.103.103.103']\n",
            "104.104.104.104 ['104.104.104.104']\n",
            "105.105.105.105 ['105.105.105.105']\n",
            "106.106.106.106 ['106.106.106.106']\n",
            "107.107.107.107 ['107.107.107.107']\n",
            "108.108.108.108 ['108.108.108.108']\n",
            "109.109.109.109 ['109.109.109.109']\n",
            "110.110.110.110 ['110.110.110.110']\n",
            "111.111.111.111 ['111.111.111.111']\n",
            "112.112.112.112 ['112.112.112.112']\n",
            "113.113.113.113 ['113.113.113.113']\n",
            "114.114.114.114 ['114.114.114.114']\n",
            "115.115.115.115 ['115.115.115.115']\n",
            "116.116.116.116 ['116.116.116.116']\n",
            "117.117.117.117 ['117.117.117.117']\n",
            "118.118.118.118 ['118.118.118.118']\n",
            "119.119.119.119 ['119.119.119.119']\n",
            "120.120.120.120 ['120.120.120.120']\n",
            "121.121.121.121 ['121.121.121.121']\n",
            "122.122.122.122 ['122.122.122.122']\n",
            "123.123.123.123 ['123.123.123.123']\n",
            "124.124.124.124 ['124.124.124.124']\n",
            "125.125.125.125 ['125.125.125.125']\n",
            "126.126.126.126 ['126.126.126.126']\n",
            "127.127.127.127 ['127.127.127.127']\n",
            "128.128.128.128 ['128.128.128.128']\n",
            "129.129.129.129 ['129.129.129.129']\n",
            "130.130.130.130 ['130.130.130.130']\n",
            "131.131.131.131 ['131.131.131.131']\n",
            "132.132.132.132 ['132.132.132.132']\n",
            "133.133.133.133 ['133.133.133.133']\n",
            "134.134.134.134 ['134.134.134.134']\n",
            "135.135.135.135 ['135.135.135.135']\n",
            "136.136.136.136 ['136.136.136.136']\n",
            "137.137.137.137 ['137.137.137.137']\n",
            "138.138.138.138 ['138.138.138.138']\n",
            "139.139.139.139 ['139.139.139.139']\n",
            "140.140.140.140 ['140.140.140.140']\n",
            "141.141.141.141 ['141.141.141.141']\n",
            "142.142.142.142 ['142.142.142.142']\n",
            "143.143.143.143 ['143.143.143.143']\n",
            "144.144.144.144 ['144.144.144.144']\n",
            "145.145.145.145 ['145.145.145.145']\n",
            "146.146.146.146 ['146.146.146.146']\n",
            "147.147.147.147 ['147.147.147.147']\n",
            "148.148.148.148 ['148.148.148.148']\n",
            "149.149.149.149 ['149.149.149.149']\n",
            "150.150.150.150 ['150.150.150.150']\n",
            "151.151.151.151 ['151.151.151.151']\n",
            "152.152.152.152 ['152.152.152.152']\n",
            "153.153.153.153 ['153.153.153.153']\n",
            "154.154.154.154 ['154.154.154.154']\n",
            "155.155.155.155 ['155.155.155.155']\n",
            "156.156.156.156 ['156.156.156.156']\n",
            "157.157.157.157 ['157.157.157.157']\n",
            "158.158.158.158 ['158.158.158.158']\n",
            "159.159.159.159 ['159.159.159.159']\n",
            "160.160.160.160 ['160.160.160.160']\n",
            "161.161.161.161 ['161.161.161.161']\n",
            "162.162.162.162 ['162.162.162.162']\n",
            "163.163.163.163 ['163.163.163.163']\n",
            "164.164.164.164 ['164.164.164.164']\n",
            "165.165.165.165 ['165.165.165.165']\n",
            "166.166.166.166 ['166.166.166.166']\n",
            "167.167.167.167 ['167.167.167.167']\n",
            "168.168.168.168 ['168.168.168.168']\n",
            "169.169.169.169 ['169.169.169.169']\n",
            "170.170.170.170 ['170.170.170.170']\n",
            "171.171.171.171 ['171.171.171.171']\n",
            "172.172.172.172 ['172.172.172.172']\n",
            "173.173.173.173 ['173.173.173.173']\n",
            "174.174.174.174 ['174.174.174.174']\n",
            "175.175.175.175 ['175.175.175.175']\n",
            "176.176.176.176 ['176.176.176.176']\n",
            "177.177.177.177 ['177.177.177.177']\n",
            "178.178.178.178 ['178.178.178.178']\n",
            "179.179.179.179 ['179.179.179.179']\n",
            "180.180.180.180 ['180.180.180.180']\n",
            "181.181.181.181 ['181.181.181.181']\n",
            "182.182.182.182 ['182.182.182.182']\n",
            "183.183.183.183 ['183.183.183.183']\n",
            "184.184.184.184 ['184.184.184.184']\n",
            "185.185.185.185 ['185.185.185.185']\n",
            "186.186.186.186 ['186.186.186.186']\n",
            "187.187.187.187 ['187.187.187.187']\n",
            "188.188.188.188 ['188.188.188.188']\n",
            "189.189.189.189 ['189.189.189.189']\n",
            "190.190.190.190 ['190.190.190.190']\n",
            "191.191.191.191 ['191.191.191.191']\n",
            "192.192.192.192 ['192.192.192.192']\n",
            "193.193.193.193 ['193.193.193.193']\n",
            "194.194.194.194 ['194.194.194.194']\n",
            "195.195.195.195 ['195.195.195.195']\n",
            "196.196.196.196 ['196.196.196.196']\n",
            "197.197.197.197 ['197.197.197.197']\n",
            "198.198.198.198 ['198.198.198.198']\n",
            "199.199.199.199 ['199.199.199.199']\n",
            "200.200.200.200 ['200.200.200.200']\n",
            "201.201.201.201 ['201.201.201.201']\n",
            "202.202.202.202 ['202.202.202.202']\n",
            "203.203.203.203 ['203.203.203.203']\n",
            "204.204.204.204 ['204.204.204.204']\n",
            "205.205.205.205 ['205.205.205.205']\n",
            "206.206.206.206 ['206.206.206.206']\n",
            "207.207.207.207 ['207.207.207.207']\n",
            "208.208.208.208 ['208.208.208.208']\n",
            "209.209.209.209 ['209.209.209.209']\n",
            "210.210.210.210 ['210.210.210.210']\n",
            "211.211.211.211 ['211.211.211.211']\n",
            "212.212.212.212 ['212.212.212.212']\n",
            "213.213.213.213 ['213.213.213.213']\n",
            "214.214.214.214 ['214.214.214.214']\n",
            "215.215.215.215 ['215.215.215.215']\n",
            "216.216.216.216 ['216.216.216.216']\n",
            "217.217.217.217 ['217.217.217.217']\n",
            "218.218.218.218 ['218.218.218.218']\n",
            "219.219.219.219 ['219.219.219.219']\n",
            "220.220.220.220 ['220.220.220.220']\n",
            "221.221.221.221 ['221.221.221.221']\n",
            "222.222.222.222 ['222.222.222.222']\n",
            "223.223.223.223 ['223.223.223.223']\n",
            "224.224.224.224 ['224.224.224.224']\n",
            "225.225.225.225 ['225.225.225.225']\n",
            "226.226.226.226 ['226.226.226.226']\n",
            "227.227.227.227 ['227.227.227.227']\n",
            "228.228.228.228 ['228.228.228.228']\n",
            "229.229.229.229 ['229.229.229.229']\n",
            "230.230.230.230 ['230.230.230.230']\n",
            "231.231.231.231 ['231.231.231.231']\n",
            "232.232.232.232 ['232.232.232.232']\n",
            "233.233.233.233 ['233.233.233.233']\n",
            "234.234.234.234 ['234.234.234.234']\n",
            "235.235.235.235 ['235.235.235.235']\n",
            "236.236.236.236 ['236.236.236.236']\n",
            "237.237.237.237 ['237.237.237.237']\n",
            "238.238.238.238 ['238.238.238.238']\n",
            "239.239.239.239 ['239.239.239.239']\n",
            "240.240.240.240 ['240.240.240.240']\n",
            "241.241.241.241 ['241.241.241.241']\n",
            "242.242.242.242 ['242.242.242.242']\n",
            "243.243.243.243 ['243.243.243.243']\n",
            "244.244.244.244 ['244.244.244.244']\n",
            "245.245.245.245 ['245.245.245.245']\n",
            "246.246.246.246 ['246.246.246.246']\n",
            "247.247.247.247 ['247.247.247.247']\n",
            "248.248.248.248 ['248.248.248.248']\n",
            "249.249.249.249 ['249.249.249.249']\n",
            "250.250.250.250 ['250.250.250.250']\n",
            "251.251.251.251 ['251.251.251.251']\n",
            "252.252.252.252 ['252.252.252.252']\n",
            "253.253.253.253 ['253.253.253.253']\n",
            "254.254.254.254 ['254.254.254.254']\n",
            "255.255.255.255 ['255.255.255.255']\n",
            "256.256.256.256 []\n",
            "257.257.257.257 []\n",
            "258.258.258.258 []\n",
            "259.259.259.259 []\n",
            "260.260.260.260 []\n",
            "261.261.261.261 []\n",
            "262.262.262.262 []\n",
            "263.263.263.263 []\n",
            "264.264.264.264 []\n",
            "265.265.265.265 []\n",
            "266.266.266.266 []\n",
            "267.267.267.267 []\n",
            "268.268.268.268 []\n",
            "269.269.269.269 []\n",
            "270.270.270.270 []\n",
            "271.271.271.271 []\n",
            "272.272.272.272 []\n",
            "273.273.273.273 []\n",
            "274.274.274.274 []\n",
            "275.275.275.275 []\n",
            "276.276.276.276 []\n",
            "277.277.277.277 []\n",
            "278.278.278.278 []\n",
            "279.279.279.279 []\n",
            "280.280.280.280 []\n",
            "281.281.281.281 []\n",
            "282.282.282.282 []\n",
            "283.283.283.283 []\n",
            "284.284.284.284 []\n",
            "285.285.285.285 []\n",
            "286.286.286.286 []\n",
            "287.287.287.287 []\n",
            "288.288.288.288 []\n",
            "289.289.289.289 []\n",
            "290.290.290.290 []\n",
            "291.291.291.291 []\n",
            "292.292.292.292 []\n",
            "293.293.293.293 []\n",
            "294.294.294.294 []\n",
            "295.295.295.295 []\n",
            "296.296.296.296 []\n",
            "297.297.297.297 []\n",
            "298.298.298.298 []\n",
            "299.299.299.299 []\n",
            "300.300.300.300 []\n"
          ],
          "name": "stdout"
        }
      ]
    },
    {
      "cell_type": "code",
      "metadata": {
        "id": "HPjL98Hjmt7m"
      },
      "source": [
        "# modo 3\n",
        "\n",
        "ip_reg_exp3 = re.compile(r'''\n",
        "  ^\n",
        "  (?:\n",
        "    (?: \n",
        "    25[0-5]| # 250-255\n",
        "    2[0-4][0-9]| #200-249\n",
        "    1[0-9]{2}|# 100-199\n",
        "    [1-9][0-9]| #10-99\n",
        "    [0-9] #0-9\n",
        "    )\n",
        "    \\.? # o ponto como opcional \n",
        "  ){4} \n",
        "   \n",
        "  $\n",
        "  \n",
        "''', flags = re.X)"
      ],
      "execution_count": null,
      "outputs": []
    },
    {
      "cell_type": "code",
      "metadata": {
        "colab": {
          "base_uri": "https://localhost:8080/"
        },
        "id": "oMqTjS8TnaQk",
        "outputId": "770487f9-48c4-4c66-e613-0018b774a0d3"
      },
      "source": [
        "for i in range(301):\n",
        "  ip = f'{i}.{i}.{i}.{i}.'\n",
        "  print(ip, ip_reg_exp3.findall(ip))"
      ],
      "execution_count": null,
      "outputs": [
        {
          "output_type": "stream",
          "text": [
            "0.0.0.0. ['0.0.0.0.']\n",
            "1.1.1.1. ['1.1.1.1.']\n",
            "2.2.2.2. ['2.2.2.2.']\n",
            "3.3.3.3. ['3.3.3.3.']\n",
            "4.4.4.4. ['4.4.4.4.']\n",
            "5.5.5.5. ['5.5.5.5.']\n",
            "6.6.6.6. ['6.6.6.6.']\n",
            "7.7.7.7. ['7.7.7.7.']\n",
            "8.8.8.8. ['8.8.8.8.']\n",
            "9.9.9.9. ['9.9.9.9.']\n",
            "10.10.10.10. ['10.10.10.10.']\n",
            "11.11.11.11. ['11.11.11.11.']\n",
            "12.12.12.12. ['12.12.12.12.']\n",
            "13.13.13.13. ['13.13.13.13.']\n",
            "14.14.14.14. ['14.14.14.14.']\n",
            "15.15.15.15. ['15.15.15.15.']\n",
            "16.16.16.16. ['16.16.16.16.']\n",
            "17.17.17.17. ['17.17.17.17.']\n",
            "18.18.18.18. ['18.18.18.18.']\n",
            "19.19.19.19. ['19.19.19.19.']\n",
            "20.20.20.20. ['20.20.20.20.']\n",
            "21.21.21.21. ['21.21.21.21.']\n",
            "22.22.22.22. ['22.22.22.22.']\n",
            "23.23.23.23. ['23.23.23.23.']\n",
            "24.24.24.24. ['24.24.24.24.']\n",
            "25.25.25.25. ['25.25.25.25.']\n",
            "26.26.26.26. ['26.26.26.26.']\n",
            "27.27.27.27. ['27.27.27.27.']\n",
            "28.28.28.28. ['28.28.28.28.']\n",
            "29.29.29.29. ['29.29.29.29.']\n",
            "30.30.30.30. ['30.30.30.30.']\n",
            "31.31.31.31. ['31.31.31.31.']\n",
            "32.32.32.32. ['32.32.32.32.']\n",
            "33.33.33.33. ['33.33.33.33.']\n",
            "34.34.34.34. ['34.34.34.34.']\n",
            "35.35.35.35. ['35.35.35.35.']\n",
            "36.36.36.36. ['36.36.36.36.']\n",
            "37.37.37.37. ['37.37.37.37.']\n",
            "38.38.38.38. ['38.38.38.38.']\n",
            "39.39.39.39. ['39.39.39.39.']\n",
            "40.40.40.40. ['40.40.40.40.']\n",
            "41.41.41.41. ['41.41.41.41.']\n",
            "42.42.42.42. ['42.42.42.42.']\n",
            "43.43.43.43. ['43.43.43.43.']\n",
            "44.44.44.44. ['44.44.44.44.']\n",
            "45.45.45.45. ['45.45.45.45.']\n",
            "46.46.46.46. ['46.46.46.46.']\n",
            "47.47.47.47. ['47.47.47.47.']\n",
            "48.48.48.48. ['48.48.48.48.']\n",
            "49.49.49.49. ['49.49.49.49.']\n",
            "50.50.50.50. ['50.50.50.50.']\n",
            "51.51.51.51. ['51.51.51.51.']\n",
            "52.52.52.52. ['52.52.52.52.']\n",
            "53.53.53.53. ['53.53.53.53.']\n",
            "54.54.54.54. ['54.54.54.54.']\n",
            "55.55.55.55. ['55.55.55.55.']\n",
            "56.56.56.56. ['56.56.56.56.']\n",
            "57.57.57.57. ['57.57.57.57.']\n",
            "58.58.58.58. ['58.58.58.58.']\n",
            "59.59.59.59. ['59.59.59.59.']\n",
            "60.60.60.60. ['60.60.60.60.']\n",
            "61.61.61.61. ['61.61.61.61.']\n",
            "62.62.62.62. ['62.62.62.62.']\n",
            "63.63.63.63. ['63.63.63.63.']\n",
            "64.64.64.64. ['64.64.64.64.']\n",
            "65.65.65.65. ['65.65.65.65.']\n",
            "66.66.66.66. ['66.66.66.66.']\n",
            "67.67.67.67. ['67.67.67.67.']\n",
            "68.68.68.68. ['68.68.68.68.']\n",
            "69.69.69.69. ['69.69.69.69.']\n",
            "70.70.70.70. ['70.70.70.70.']\n",
            "71.71.71.71. ['71.71.71.71.']\n",
            "72.72.72.72. ['72.72.72.72.']\n",
            "73.73.73.73. ['73.73.73.73.']\n",
            "74.74.74.74. ['74.74.74.74.']\n",
            "75.75.75.75. ['75.75.75.75.']\n",
            "76.76.76.76. ['76.76.76.76.']\n",
            "77.77.77.77. ['77.77.77.77.']\n",
            "78.78.78.78. ['78.78.78.78.']\n",
            "79.79.79.79. ['79.79.79.79.']\n",
            "80.80.80.80. ['80.80.80.80.']\n",
            "81.81.81.81. ['81.81.81.81.']\n",
            "82.82.82.82. ['82.82.82.82.']\n",
            "83.83.83.83. ['83.83.83.83.']\n",
            "84.84.84.84. ['84.84.84.84.']\n",
            "85.85.85.85. ['85.85.85.85.']\n",
            "86.86.86.86. ['86.86.86.86.']\n",
            "87.87.87.87. ['87.87.87.87.']\n",
            "88.88.88.88. ['88.88.88.88.']\n",
            "89.89.89.89. ['89.89.89.89.']\n",
            "90.90.90.90. ['90.90.90.90.']\n",
            "91.91.91.91. ['91.91.91.91.']\n",
            "92.92.92.92. ['92.92.92.92.']\n",
            "93.93.93.93. ['93.93.93.93.']\n",
            "94.94.94.94. ['94.94.94.94.']\n",
            "95.95.95.95. ['95.95.95.95.']\n",
            "96.96.96.96. ['96.96.96.96.']\n",
            "97.97.97.97. ['97.97.97.97.']\n",
            "98.98.98.98. ['98.98.98.98.']\n",
            "99.99.99.99. ['99.99.99.99.']\n",
            "100.100.100.100. ['100.100.100.100.']\n",
            "101.101.101.101. ['101.101.101.101.']\n",
            "102.102.102.102. ['102.102.102.102.']\n",
            "103.103.103.103. ['103.103.103.103.']\n",
            "104.104.104.104. ['104.104.104.104.']\n",
            "105.105.105.105. ['105.105.105.105.']\n",
            "106.106.106.106. ['106.106.106.106.']\n",
            "107.107.107.107. ['107.107.107.107.']\n",
            "108.108.108.108. ['108.108.108.108.']\n",
            "109.109.109.109. ['109.109.109.109.']\n",
            "110.110.110.110. ['110.110.110.110.']\n",
            "111.111.111.111. ['111.111.111.111.']\n",
            "112.112.112.112. ['112.112.112.112.']\n",
            "113.113.113.113. ['113.113.113.113.']\n",
            "114.114.114.114. ['114.114.114.114.']\n",
            "115.115.115.115. ['115.115.115.115.']\n",
            "116.116.116.116. ['116.116.116.116.']\n",
            "117.117.117.117. ['117.117.117.117.']\n",
            "118.118.118.118. ['118.118.118.118.']\n",
            "119.119.119.119. ['119.119.119.119.']\n",
            "120.120.120.120. ['120.120.120.120.']\n",
            "121.121.121.121. ['121.121.121.121.']\n",
            "122.122.122.122. ['122.122.122.122.']\n",
            "123.123.123.123. ['123.123.123.123.']\n",
            "124.124.124.124. ['124.124.124.124.']\n",
            "125.125.125.125. ['125.125.125.125.']\n",
            "126.126.126.126. ['126.126.126.126.']\n",
            "127.127.127.127. ['127.127.127.127.']\n",
            "128.128.128.128. ['128.128.128.128.']\n",
            "129.129.129.129. ['129.129.129.129.']\n",
            "130.130.130.130. ['130.130.130.130.']\n",
            "131.131.131.131. ['131.131.131.131.']\n",
            "132.132.132.132. ['132.132.132.132.']\n",
            "133.133.133.133. ['133.133.133.133.']\n",
            "134.134.134.134. ['134.134.134.134.']\n",
            "135.135.135.135. ['135.135.135.135.']\n",
            "136.136.136.136. ['136.136.136.136.']\n",
            "137.137.137.137. ['137.137.137.137.']\n",
            "138.138.138.138. ['138.138.138.138.']\n",
            "139.139.139.139. ['139.139.139.139.']\n",
            "140.140.140.140. ['140.140.140.140.']\n",
            "141.141.141.141. ['141.141.141.141.']\n",
            "142.142.142.142. ['142.142.142.142.']\n",
            "143.143.143.143. ['143.143.143.143.']\n",
            "144.144.144.144. ['144.144.144.144.']\n",
            "145.145.145.145. ['145.145.145.145.']\n",
            "146.146.146.146. ['146.146.146.146.']\n",
            "147.147.147.147. ['147.147.147.147.']\n",
            "148.148.148.148. ['148.148.148.148.']\n",
            "149.149.149.149. ['149.149.149.149.']\n",
            "150.150.150.150. ['150.150.150.150.']\n",
            "151.151.151.151. ['151.151.151.151.']\n",
            "152.152.152.152. ['152.152.152.152.']\n",
            "153.153.153.153. ['153.153.153.153.']\n",
            "154.154.154.154. ['154.154.154.154.']\n",
            "155.155.155.155. ['155.155.155.155.']\n",
            "156.156.156.156. ['156.156.156.156.']\n",
            "157.157.157.157. ['157.157.157.157.']\n",
            "158.158.158.158. ['158.158.158.158.']\n",
            "159.159.159.159. ['159.159.159.159.']\n",
            "160.160.160.160. ['160.160.160.160.']\n",
            "161.161.161.161. ['161.161.161.161.']\n",
            "162.162.162.162. ['162.162.162.162.']\n",
            "163.163.163.163. ['163.163.163.163.']\n",
            "164.164.164.164. ['164.164.164.164.']\n",
            "165.165.165.165. ['165.165.165.165.']\n",
            "166.166.166.166. ['166.166.166.166.']\n",
            "167.167.167.167. ['167.167.167.167.']\n",
            "168.168.168.168. ['168.168.168.168.']\n",
            "169.169.169.169. ['169.169.169.169.']\n",
            "170.170.170.170. ['170.170.170.170.']\n",
            "171.171.171.171. ['171.171.171.171.']\n",
            "172.172.172.172. ['172.172.172.172.']\n",
            "173.173.173.173. ['173.173.173.173.']\n",
            "174.174.174.174. ['174.174.174.174.']\n",
            "175.175.175.175. ['175.175.175.175.']\n",
            "176.176.176.176. ['176.176.176.176.']\n",
            "177.177.177.177. ['177.177.177.177.']\n",
            "178.178.178.178. ['178.178.178.178.']\n",
            "179.179.179.179. ['179.179.179.179.']\n",
            "180.180.180.180. ['180.180.180.180.']\n",
            "181.181.181.181. ['181.181.181.181.']\n",
            "182.182.182.182. ['182.182.182.182.']\n",
            "183.183.183.183. ['183.183.183.183.']\n",
            "184.184.184.184. ['184.184.184.184.']\n",
            "185.185.185.185. ['185.185.185.185.']\n",
            "186.186.186.186. ['186.186.186.186.']\n",
            "187.187.187.187. ['187.187.187.187.']\n",
            "188.188.188.188. ['188.188.188.188.']\n",
            "189.189.189.189. ['189.189.189.189.']\n",
            "190.190.190.190. ['190.190.190.190.']\n",
            "191.191.191.191. ['191.191.191.191.']\n",
            "192.192.192.192. ['192.192.192.192.']\n",
            "193.193.193.193. ['193.193.193.193.']\n",
            "194.194.194.194. ['194.194.194.194.']\n",
            "195.195.195.195. ['195.195.195.195.']\n",
            "196.196.196.196. ['196.196.196.196.']\n",
            "197.197.197.197. ['197.197.197.197.']\n",
            "198.198.198.198. ['198.198.198.198.']\n",
            "199.199.199.199. ['199.199.199.199.']\n",
            "200.200.200.200. ['200.200.200.200.']\n",
            "201.201.201.201. ['201.201.201.201.']\n",
            "202.202.202.202. ['202.202.202.202.']\n",
            "203.203.203.203. ['203.203.203.203.']\n",
            "204.204.204.204. ['204.204.204.204.']\n",
            "205.205.205.205. ['205.205.205.205.']\n",
            "206.206.206.206. ['206.206.206.206.']\n",
            "207.207.207.207. ['207.207.207.207.']\n",
            "208.208.208.208. ['208.208.208.208.']\n",
            "209.209.209.209. ['209.209.209.209.']\n",
            "210.210.210.210. ['210.210.210.210.']\n",
            "211.211.211.211. ['211.211.211.211.']\n",
            "212.212.212.212. ['212.212.212.212.']\n",
            "213.213.213.213. ['213.213.213.213.']\n",
            "214.214.214.214. ['214.214.214.214.']\n",
            "215.215.215.215. ['215.215.215.215.']\n",
            "216.216.216.216. ['216.216.216.216.']\n",
            "217.217.217.217. ['217.217.217.217.']\n",
            "218.218.218.218. ['218.218.218.218.']\n",
            "219.219.219.219. ['219.219.219.219.']\n",
            "220.220.220.220. ['220.220.220.220.']\n",
            "221.221.221.221. ['221.221.221.221.']\n",
            "222.222.222.222. ['222.222.222.222.']\n",
            "223.223.223.223. ['223.223.223.223.']\n",
            "224.224.224.224. ['224.224.224.224.']\n",
            "225.225.225.225. ['225.225.225.225.']\n",
            "226.226.226.226. ['226.226.226.226.']\n",
            "227.227.227.227. ['227.227.227.227.']\n",
            "228.228.228.228. ['228.228.228.228.']\n",
            "229.229.229.229. ['229.229.229.229.']\n",
            "230.230.230.230. ['230.230.230.230.']\n",
            "231.231.231.231. ['231.231.231.231.']\n",
            "232.232.232.232. ['232.232.232.232.']\n",
            "233.233.233.233. ['233.233.233.233.']\n",
            "234.234.234.234. ['234.234.234.234.']\n",
            "235.235.235.235. ['235.235.235.235.']\n",
            "236.236.236.236. ['236.236.236.236.']\n",
            "237.237.237.237. ['237.237.237.237.']\n",
            "238.238.238.238. ['238.238.238.238.']\n",
            "239.239.239.239. ['239.239.239.239.']\n",
            "240.240.240.240. ['240.240.240.240.']\n",
            "241.241.241.241. ['241.241.241.241.']\n",
            "242.242.242.242. ['242.242.242.242.']\n",
            "243.243.243.243. ['243.243.243.243.']\n",
            "244.244.244.244. ['244.244.244.244.']\n",
            "245.245.245.245. ['245.245.245.245.']\n",
            "246.246.246.246. ['246.246.246.246.']\n",
            "247.247.247.247. ['247.247.247.247.']\n",
            "248.248.248.248. ['248.248.248.248.']\n",
            "249.249.249.249. ['249.249.249.249.']\n",
            "250.250.250.250. ['250.250.250.250.']\n",
            "251.251.251.251. ['251.251.251.251.']\n",
            "252.252.252.252. ['252.252.252.252.']\n",
            "253.253.253.253. ['253.253.253.253.']\n",
            "254.254.254.254. ['254.254.254.254.']\n",
            "255.255.255.255. ['255.255.255.255.']\n",
            "256.256.256.256. []\n",
            "257.257.257.257. []\n",
            "258.258.258.258. []\n",
            "259.259.259.259. []\n",
            "260.260.260.260. []\n",
            "261.261.261.261. []\n",
            "262.262.262.262. []\n",
            "263.263.263.263. []\n",
            "264.264.264.264. []\n",
            "265.265.265.265. []\n",
            "266.266.266.266. []\n",
            "267.267.267.267. []\n",
            "268.268.268.268. []\n",
            "269.269.269.269. []\n",
            "270.270.270.270. []\n",
            "271.271.271.271. []\n",
            "272.272.272.272. []\n",
            "273.273.273.273. []\n",
            "274.274.274.274. []\n",
            "275.275.275.275. []\n",
            "276.276.276.276. []\n",
            "277.277.277.277. []\n",
            "278.278.278.278. []\n",
            "279.279.279.279. []\n",
            "280.280.280.280. []\n",
            "281.281.281.281. []\n",
            "282.282.282.282. []\n",
            "283.283.283.283. []\n",
            "284.284.284.284. []\n",
            "285.285.285.285. []\n",
            "286.286.286.286. []\n",
            "287.287.287.287. []\n",
            "288.288.288.288. []\n",
            "289.289.289.289. []\n",
            "290.290.290.290. []\n",
            "291.291.291.291. []\n",
            "292.292.292.292. []\n",
            "293.293.293.293. []\n",
            "294.294.294.294. []\n",
            "295.295.295.295. []\n",
            "296.296.296.296. []\n",
            "297.297.297.297. []\n",
            "298.298.298.298. []\n",
            "299.299.299.299. []\n",
            "300.300.300.300. []\n"
          ],
          "name": "stdout"
        }
      ]
    },
    {
      "cell_type": "code",
      "metadata": {
        "id": "0DH3ues8n-jh"
      },
      "source": [
        "# modo 4\n",
        "# o modo anterior permite colocar o ponto depois do último número, entao com a borda isso será solucionado\n",
        "# por consequência, só irá pegar o ip se perfeitamente formatado\n",
        "ip_reg_exp4 = re.compile(r'''\n",
        "  ^\n",
        "  (?:\n",
        "    (?: \n",
        "    25[0-5]| # 250-255\n",
        "    2[0-4][0-9]| #200-249\n",
        "    1[0-9]{2}|# 100-199\n",
        "    [1-9][0-9]| #10-99\n",
        "    [0-9] #0-9\n",
        "    )\n",
        "    \\.? # o ponto como opcional \n",
        "  ){4}\n",
        "  \\b \n",
        "  $\n",
        "  \n",
        "''', flags = re.X)"
      ],
      "execution_count": null,
      "outputs": []
    },
    {
      "cell_type": "code",
      "metadata": {
        "colab": {
          "base_uri": "https://localhost:8080/"
        },
        "id": "SXWt65lHo00n",
        "outputId": "62b1d915-dac7-4f97-de16-4a3d4fe88f74"
      },
      "source": [
        "# ip com erro\n",
        "\n",
        "for i in range(301):\n",
        "  ip = f'{i}.{i}.{i}.{i}.'\n",
        "  print(ip, ip_reg_exp4.findall(ip))"
      ],
      "execution_count": null,
      "outputs": [
        {
          "output_type": "stream",
          "text": [
            "0.0.0.0. []\n",
            "1.1.1.1. []\n",
            "2.2.2.2. []\n",
            "3.3.3.3. []\n",
            "4.4.4.4. []\n",
            "5.5.5.5. []\n",
            "6.6.6.6. []\n",
            "7.7.7.7. []\n",
            "8.8.8.8. []\n",
            "9.9.9.9. []\n",
            "10.10.10.10. []\n",
            "11.11.11.11. []\n",
            "12.12.12.12. []\n",
            "13.13.13.13. []\n",
            "14.14.14.14. []\n",
            "15.15.15.15. []\n",
            "16.16.16.16. []\n",
            "17.17.17.17. []\n",
            "18.18.18.18. []\n",
            "19.19.19.19. []\n",
            "20.20.20.20. []\n",
            "21.21.21.21. []\n",
            "22.22.22.22. []\n",
            "23.23.23.23. []\n",
            "24.24.24.24. []\n",
            "25.25.25.25. []\n",
            "26.26.26.26. []\n",
            "27.27.27.27. []\n",
            "28.28.28.28. []\n",
            "29.29.29.29. []\n",
            "30.30.30.30. []\n",
            "31.31.31.31. []\n",
            "32.32.32.32. []\n",
            "33.33.33.33. []\n",
            "34.34.34.34. []\n",
            "35.35.35.35. []\n",
            "36.36.36.36. []\n",
            "37.37.37.37. []\n",
            "38.38.38.38. []\n",
            "39.39.39.39. []\n",
            "40.40.40.40. []\n",
            "41.41.41.41. []\n",
            "42.42.42.42. []\n",
            "43.43.43.43. []\n",
            "44.44.44.44. []\n",
            "45.45.45.45. []\n",
            "46.46.46.46. []\n",
            "47.47.47.47. []\n",
            "48.48.48.48. []\n",
            "49.49.49.49. []\n",
            "50.50.50.50. []\n",
            "51.51.51.51. []\n",
            "52.52.52.52. []\n",
            "53.53.53.53. []\n",
            "54.54.54.54. []\n",
            "55.55.55.55. []\n",
            "56.56.56.56. []\n",
            "57.57.57.57. []\n",
            "58.58.58.58. []\n",
            "59.59.59.59. []\n",
            "60.60.60.60. []\n",
            "61.61.61.61. []\n",
            "62.62.62.62. []\n",
            "63.63.63.63. []\n",
            "64.64.64.64. []\n",
            "65.65.65.65. []\n",
            "66.66.66.66. []\n",
            "67.67.67.67. []\n",
            "68.68.68.68. []\n",
            "69.69.69.69. []\n",
            "70.70.70.70. []\n",
            "71.71.71.71. []\n",
            "72.72.72.72. []\n",
            "73.73.73.73. []\n",
            "74.74.74.74. []\n",
            "75.75.75.75. []\n",
            "76.76.76.76. []\n",
            "77.77.77.77. []\n",
            "78.78.78.78. []\n",
            "79.79.79.79. []\n",
            "80.80.80.80. []\n",
            "81.81.81.81. []\n",
            "82.82.82.82. []\n",
            "83.83.83.83. []\n",
            "84.84.84.84. []\n",
            "85.85.85.85. []\n",
            "86.86.86.86. []\n",
            "87.87.87.87. []\n",
            "88.88.88.88. []\n",
            "89.89.89.89. []\n",
            "90.90.90.90. []\n",
            "91.91.91.91. []\n",
            "92.92.92.92. []\n",
            "93.93.93.93. []\n",
            "94.94.94.94. []\n",
            "95.95.95.95. []\n",
            "96.96.96.96. []\n",
            "97.97.97.97. []\n",
            "98.98.98.98. []\n",
            "99.99.99.99. []\n",
            "100.100.100.100. []\n",
            "101.101.101.101. []\n",
            "102.102.102.102. []\n",
            "103.103.103.103. []\n",
            "104.104.104.104. []\n",
            "105.105.105.105. []\n",
            "106.106.106.106. []\n",
            "107.107.107.107. []\n",
            "108.108.108.108. []\n",
            "109.109.109.109. []\n",
            "110.110.110.110. []\n",
            "111.111.111.111. []\n",
            "112.112.112.112. []\n",
            "113.113.113.113. []\n",
            "114.114.114.114. []\n",
            "115.115.115.115. []\n",
            "116.116.116.116. []\n",
            "117.117.117.117. []\n",
            "118.118.118.118. []\n",
            "119.119.119.119. []\n",
            "120.120.120.120. []\n",
            "121.121.121.121. []\n",
            "122.122.122.122. []\n",
            "123.123.123.123. []\n",
            "124.124.124.124. []\n",
            "125.125.125.125. []\n",
            "126.126.126.126. []\n",
            "127.127.127.127. []\n",
            "128.128.128.128. []\n",
            "129.129.129.129. []\n",
            "130.130.130.130. []\n",
            "131.131.131.131. []\n",
            "132.132.132.132. []\n",
            "133.133.133.133. []\n",
            "134.134.134.134. []\n",
            "135.135.135.135. []\n",
            "136.136.136.136. []\n",
            "137.137.137.137. []\n",
            "138.138.138.138. []\n",
            "139.139.139.139. []\n",
            "140.140.140.140. []\n",
            "141.141.141.141. []\n",
            "142.142.142.142. []\n",
            "143.143.143.143. []\n",
            "144.144.144.144. []\n",
            "145.145.145.145. []\n",
            "146.146.146.146. []\n",
            "147.147.147.147. []\n",
            "148.148.148.148. []\n",
            "149.149.149.149. []\n",
            "150.150.150.150. []\n",
            "151.151.151.151. []\n",
            "152.152.152.152. []\n",
            "153.153.153.153. []\n",
            "154.154.154.154. []\n",
            "155.155.155.155. []\n",
            "156.156.156.156. []\n",
            "157.157.157.157. []\n",
            "158.158.158.158. []\n",
            "159.159.159.159. []\n",
            "160.160.160.160. []\n",
            "161.161.161.161. []\n",
            "162.162.162.162. []\n",
            "163.163.163.163. []\n",
            "164.164.164.164. []\n",
            "165.165.165.165. []\n",
            "166.166.166.166. []\n",
            "167.167.167.167. []\n",
            "168.168.168.168. []\n",
            "169.169.169.169. []\n",
            "170.170.170.170. []\n",
            "171.171.171.171. []\n",
            "172.172.172.172. []\n",
            "173.173.173.173. []\n",
            "174.174.174.174. []\n",
            "175.175.175.175. []\n",
            "176.176.176.176. []\n",
            "177.177.177.177. []\n",
            "178.178.178.178. []\n",
            "179.179.179.179. []\n",
            "180.180.180.180. []\n",
            "181.181.181.181. []\n",
            "182.182.182.182. []\n",
            "183.183.183.183. []\n",
            "184.184.184.184. []\n",
            "185.185.185.185. []\n",
            "186.186.186.186. []\n",
            "187.187.187.187. []\n",
            "188.188.188.188. []\n",
            "189.189.189.189. []\n",
            "190.190.190.190. []\n",
            "191.191.191.191. []\n",
            "192.192.192.192. []\n",
            "193.193.193.193. []\n",
            "194.194.194.194. []\n",
            "195.195.195.195. []\n",
            "196.196.196.196. []\n",
            "197.197.197.197. []\n",
            "198.198.198.198. []\n",
            "199.199.199.199. []\n",
            "200.200.200.200. []\n",
            "201.201.201.201. []\n",
            "202.202.202.202. []\n",
            "203.203.203.203. []\n",
            "204.204.204.204. []\n",
            "205.205.205.205. []\n",
            "206.206.206.206. []\n",
            "207.207.207.207. []\n",
            "208.208.208.208. []\n",
            "209.209.209.209. []\n",
            "210.210.210.210. []\n",
            "211.211.211.211. []\n",
            "212.212.212.212. []\n",
            "213.213.213.213. []\n",
            "214.214.214.214. []\n",
            "215.215.215.215. []\n",
            "216.216.216.216. []\n",
            "217.217.217.217. []\n",
            "218.218.218.218. []\n",
            "219.219.219.219. []\n",
            "220.220.220.220. []\n",
            "221.221.221.221. []\n",
            "222.222.222.222. []\n",
            "223.223.223.223. []\n",
            "224.224.224.224. []\n",
            "225.225.225.225. []\n",
            "226.226.226.226. []\n",
            "227.227.227.227. []\n",
            "228.228.228.228. []\n",
            "229.229.229.229. []\n",
            "230.230.230.230. []\n",
            "231.231.231.231. []\n",
            "232.232.232.232. []\n",
            "233.233.233.233. []\n",
            "234.234.234.234. []\n",
            "235.235.235.235. []\n",
            "236.236.236.236. []\n",
            "237.237.237.237. []\n",
            "238.238.238.238. []\n",
            "239.239.239.239. []\n",
            "240.240.240.240. []\n",
            "241.241.241.241. []\n",
            "242.242.242.242. []\n",
            "243.243.243.243. []\n",
            "244.244.244.244. []\n",
            "245.245.245.245. []\n",
            "246.246.246.246. []\n",
            "247.247.247.247. []\n",
            "248.248.248.248. []\n",
            "249.249.249.249. []\n",
            "250.250.250.250. []\n",
            "251.251.251.251. []\n",
            "252.252.252.252. []\n",
            "253.253.253.253. []\n",
            "254.254.254.254. []\n",
            "255.255.255.255. []\n",
            "256.256.256.256. []\n",
            "257.257.257.257. []\n",
            "258.258.258.258. []\n",
            "259.259.259.259. []\n",
            "260.260.260.260. []\n",
            "261.261.261.261. []\n",
            "262.262.262.262. []\n",
            "263.263.263.263. []\n",
            "264.264.264.264. []\n",
            "265.265.265.265. []\n",
            "266.266.266.266. []\n",
            "267.267.267.267. []\n",
            "268.268.268.268. []\n",
            "269.269.269.269. []\n",
            "270.270.270.270. []\n",
            "271.271.271.271. []\n",
            "272.272.272.272. []\n",
            "273.273.273.273. []\n",
            "274.274.274.274. []\n",
            "275.275.275.275. []\n",
            "276.276.276.276. []\n",
            "277.277.277.277. []\n",
            "278.278.278.278. []\n",
            "279.279.279.279. []\n",
            "280.280.280.280. []\n",
            "281.281.281.281. []\n",
            "282.282.282.282. []\n",
            "283.283.283.283. []\n",
            "284.284.284.284. []\n",
            "285.285.285.285. []\n",
            "286.286.286.286. []\n",
            "287.287.287.287. []\n",
            "288.288.288.288. []\n",
            "289.289.289.289. []\n",
            "290.290.290.290. []\n",
            "291.291.291.291. []\n",
            "292.292.292.292. []\n",
            "293.293.293.293. []\n",
            "294.294.294.294. []\n",
            "295.295.295.295. []\n",
            "296.296.296.296. []\n",
            "297.297.297.297. []\n",
            "298.298.298.298. []\n",
            "299.299.299.299. []\n",
            "300.300.300.300. []\n"
          ],
          "name": "stdout"
        }
      ]
    },
    {
      "cell_type": "code",
      "metadata": {
        "colab": {
          "base_uri": "https://localhost:8080/"
        },
        "id": "3DbWVpwXp_uj",
        "outputId": "3321801c-b7bd-465a-86f3-3c838f967664"
      },
      "source": [
        "# ip sem erro\n",
        "\n",
        "for i in range(301):\n",
        "  ip = f'{i}.{i}.{i}.{i}'\n",
        "  print(ip, ip_reg_exp4.findall(ip))"
      ],
      "execution_count": null,
      "outputs": [
        {
          "output_type": "stream",
          "text": [
            "0.0.0.0 ['0.0.0.0']\n",
            "1.1.1.1 ['1.1.1.1']\n",
            "2.2.2.2 ['2.2.2.2']\n",
            "3.3.3.3 ['3.3.3.3']\n",
            "4.4.4.4 ['4.4.4.4']\n",
            "5.5.5.5 ['5.5.5.5']\n",
            "6.6.6.6 ['6.6.6.6']\n",
            "7.7.7.7 ['7.7.7.7']\n",
            "8.8.8.8 ['8.8.8.8']\n",
            "9.9.9.9 ['9.9.9.9']\n",
            "10.10.10.10 ['10.10.10.10']\n",
            "11.11.11.11 ['11.11.11.11']\n",
            "12.12.12.12 ['12.12.12.12']\n",
            "13.13.13.13 ['13.13.13.13']\n",
            "14.14.14.14 ['14.14.14.14']\n",
            "15.15.15.15 ['15.15.15.15']\n",
            "16.16.16.16 ['16.16.16.16']\n",
            "17.17.17.17 ['17.17.17.17']\n",
            "18.18.18.18 ['18.18.18.18']\n",
            "19.19.19.19 ['19.19.19.19']\n",
            "20.20.20.20 ['20.20.20.20']\n",
            "21.21.21.21 ['21.21.21.21']\n",
            "22.22.22.22 ['22.22.22.22']\n",
            "23.23.23.23 ['23.23.23.23']\n",
            "24.24.24.24 ['24.24.24.24']\n",
            "25.25.25.25 ['25.25.25.25']\n",
            "26.26.26.26 ['26.26.26.26']\n",
            "27.27.27.27 ['27.27.27.27']\n",
            "28.28.28.28 ['28.28.28.28']\n",
            "29.29.29.29 ['29.29.29.29']\n",
            "30.30.30.30 ['30.30.30.30']\n",
            "31.31.31.31 ['31.31.31.31']\n",
            "32.32.32.32 ['32.32.32.32']\n",
            "33.33.33.33 ['33.33.33.33']\n",
            "34.34.34.34 ['34.34.34.34']\n",
            "35.35.35.35 ['35.35.35.35']\n",
            "36.36.36.36 ['36.36.36.36']\n",
            "37.37.37.37 ['37.37.37.37']\n",
            "38.38.38.38 ['38.38.38.38']\n",
            "39.39.39.39 ['39.39.39.39']\n",
            "40.40.40.40 ['40.40.40.40']\n",
            "41.41.41.41 ['41.41.41.41']\n",
            "42.42.42.42 ['42.42.42.42']\n",
            "43.43.43.43 ['43.43.43.43']\n",
            "44.44.44.44 ['44.44.44.44']\n",
            "45.45.45.45 ['45.45.45.45']\n",
            "46.46.46.46 ['46.46.46.46']\n",
            "47.47.47.47 ['47.47.47.47']\n",
            "48.48.48.48 ['48.48.48.48']\n",
            "49.49.49.49 ['49.49.49.49']\n",
            "50.50.50.50 ['50.50.50.50']\n",
            "51.51.51.51 ['51.51.51.51']\n",
            "52.52.52.52 ['52.52.52.52']\n",
            "53.53.53.53 ['53.53.53.53']\n",
            "54.54.54.54 ['54.54.54.54']\n",
            "55.55.55.55 ['55.55.55.55']\n",
            "56.56.56.56 ['56.56.56.56']\n",
            "57.57.57.57 ['57.57.57.57']\n",
            "58.58.58.58 ['58.58.58.58']\n",
            "59.59.59.59 ['59.59.59.59']\n",
            "60.60.60.60 ['60.60.60.60']\n",
            "61.61.61.61 ['61.61.61.61']\n",
            "62.62.62.62 ['62.62.62.62']\n",
            "63.63.63.63 ['63.63.63.63']\n",
            "64.64.64.64 ['64.64.64.64']\n",
            "65.65.65.65 ['65.65.65.65']\n",
            "66.66.66.66 ['66.66.66.66']\n",
            "67.67.67.67 ['67.67.67.67']\n",
            "68.68.68.68 ['68.68.68.68']\n",
            "69.69.69.69 ['69.69.69.69']\n",
            "70.70.70.70 ['70.70.70.70']\n",
            "71.71.71.71 ['71.71.71.71']\n",
            "72.72.72.72 ['72.72.72.72']\n",
            "73.73.73.73 ['73.73.73.73']\n",
            "74.74.74.74 ['74.74.74.74']\n",
            "75.75.75.75 ['75.75.75.75']\n",
            "76.76.76.76 ['76.76.76.76']\n",
            "77.77.77.77 ['77.77.77.77']\n",
            "78.78.78.78 ['78.78.78.78']\n",
            "79.79.79.79 ['79.79.79.79']\n",
            "80.80.80.80 ['80.80.80.80']\n",
            "81.81.81.81 ['81.81.81.81']\n",
            "82.82.82.82 ['82.82.82.82']\n",
            "83.83.83.83 ['83.83.83.83']\n",
            "84.84.84.84 ['84.84.84.84']\n",
            "85.85.85.85 ['85.85.85.85']\n",
            "86.86.86.86 ['86.86.86.86']\n",
            "87.87.87.87 ['87.87.87.87']\n",
            "88.88.88.88 ['88.88.88.88']\n",
            "89.89.89.89 ['89.89.89.89']\n",
            "90.90.90.90 ['90.90.90.90']\n",
            "91.91.91.91 ['91.91.91.91']\n",
            "92.92.92.92 ['92.92.92.92']\n",
            "93.93.93.93 ['93.93.93.93']\n",
            "94.94.94.94 ['94.94.94.94']\n",
            "95.95.95.95 ['95.95.95.95']\n",
            "96.96.96.96 ['96.96.96.96']\n",
            "97.97.97.97 ['97.97.97.97']\n",
            "98.98.98.98 ['98.98.98.98']\n",
            "99.99.99.99 ['99.99.99.99']\n",
            "100.100.100.100 ['100.100.100.100']\n",
            "101.101.101.101 ['101.101.101.101']\n",
            "102.102.102.102 ['102.102.102.102']\n",
            "103.103.103.103 ['103.103.103.103']\n",
            "104.104.104.104 ['104.104.104.104']\n",
            "105.105.105.105 ['105.105.105.105']\n",
            "106.106.106.106 ['106.106.106.106']\n",
            "107.107.107.107 ['107.107.107.107']\n",
            "108.108.108.108 ['108.108.108.108']\n",
            "109.109.109.109 ['109.109.109.109']\n",
            "110.110.110.110 ['110.110.110.110']\n",
            "111.111.111.111 ['111.111.111.111']\n",
            "112.112.112.112 ['112.112.112.112']\n",
            "113.113.113.113 ['113.113.113.113']\n",
            "114.114.114.114 ['114.114.114.114']\n",
            "115.115.115.115 ['115.115.115.115']\n",
            "116.116.116.116 ['116.116.116.116']\n",
            "117.117.117.117 ['117.117.117.117']\n",
            "118.118.118.118 ['118.118.118.118']\n",
            "119.119.119.119 ['119.119.119.119']\n",
            "120.120.120.120 ['120.120.120.120']\n",
            "121.121.121.121 ['121.121.121.121']\n",
            "122.122.122.122 ['122.122.122.122']\n",
            "123.123.123.123 ['123.123.123.123']\n",
            "124.124.124.124 ['124.124.124.124']\n",
            "125.125.125.125 ['125.125.125.125']\n",
            "126.126.126.126 ['126.126.126.126']\n",
            "127.127.127.127 ['127.127.127.127']\n",
            "128.128.128.128 ['128.128.128.128']\n",
            "129.129.129.129 ['129.129.129.129']\n",
            "130.130.130.130 ['130.130.130.130']\n",
            "131.131.131.131 ['131.131.131.131']\n",
            "132.132.132.132 ['132.132.132.132']\n",
            "133.133.133.133 ['133.133.133.133']\n",
            "134.134.134.134 ['134.134.134.134']\n",
            "135.135.135.135 ['135.135.135.135']\n",
            "136.136.136.136 ['136.136.136.136']\n",
            "137.137.137.137 ['137.137.137.137']\n",
            "138.138.138.138 ['138.138.138.138']\n",
            "139.139.139.139 ['139.139.139.139']\n",
            "140.140.140.140 ['140.140.140.140']\n",
            "141.141.141.141 ['141.141.141.141']\n",
            "142.142.142.142 ['142.142.142.142']\n",
            "143.143.143.143 ['143.143.143.143']\n",
            "144.144.144.144 ['144.144.144.144']\n",
            "145.145.145.145 ['145.145.145.145']\n",
            "146.146.146.146 ['146.146.146.146']\n",
            "147.147.147.147 ['147.147.147.147']\n",
            "148.148.148.148 ['148.148.148.148']\n",
            "149.149.149.149 ['149.149.149.149']\n",
            "150.150.150.150 ['150.150.150.150']\n",
            "151.151.151.151 ['151.151.151.151']\n",
            "152.152.152.152 ['152.152.152.152']\n",
            "153.153.153.153 ['153.153.153.153']\n",
            "154.154.154.154 ['154.154.154.154']\n",
            "155.155.155.155 ['155.155.155.155']\n",
            "156.156.156.156 ['156.156.156.156']\n",
            "157.157.157.157 ['157.157.157.157']\n",
            "158.158.158.158 ['158.158.158.158']\n",
            "159.159.159.159 ['159.159.159.159']\n",
            "160.160.160.160 ['160.160.160.160']\n",
            "161.161.161.161 ['161.161.161.161']\n",
            "162.162.162.162 ['162.162.162.162']\n",
            "163.163.163.163 ['163.163.163.163']\n",
            "164.164.164.164 ['164.164.164.164']\n",
            "165.165.165.165 ['165.165.165.165']\n",
            "166.166.166.166 ['166.166.166.166']\n",
            "167.167.167.167 ['167.167.167.167']\n",
            "168.168.168.168 ['168.168.168.168']\n",
            "169.169.169.169 ['169.169.169.169']\n",
            "170.170.170.170 ['170.170.170.170']\n",
            "171.171.171.171 ['171.171.171.171']\n",
            "172.172.172.172 ['172.172.172.172']\n",
            "173.173.173.173 ['173.173.173.173']\n",
            "174.174.174.174 ['174.174.174.174']\n",
            "175.175.175.175 ['175.175.175.175']\n",
            "176.176.176.176 ['176.176.176.176']\n",
            "177.177.177.177 ['177.177.177.177']\n",
            "178.178.178.178 ['178.178.178.178']\n",
            "179.179.179.179 ['179.179.179.179']\n",
            "180.180.180.180 ['180.180.180.180']\n",
            "181.181.181.181 ['181.181.181.181']\n",
            "182.182.182.182 ['182.182.182.182']\n",
            "183.183.183.183 ['183.183.183.183']\n",
            "184.184.184.184 ['184.184.184.184']\n",
            "185.185.185.185 ['185.185.185.185']\n",
            "186.186.186.186 ['186.186.186.186']\n",
            "187.187.187.187 ['187.187.187.187']\n",
            "188.188.188.188 ['188.188.188.188']\n",
            "189.189.189.189 ['189.189.189.189']\n",
            "190.190.190.190 ['190.190.190.190']\n",
            "191.191.191.191 ['191.191.191.191']\n",
            "192.192.192.192 ['192.192.192.192']\n",
            "193.193.193.193 ['193.193.193.193']\n",
            "194.194.194.194 ['194.194.194.194']\n",
            "195.195.195.195 ['195.195.195.195']\n",
            "196.196.196.196 ['196.196.196.196']\n",
            "197.197.197.197 ['197.197.197.197']\n",
            "198.198.198.198 ['198.198.198.198']\n",
            "199.199.199.199 ['199.199.199.199']\n",
            "200.200.200.200 ['200.200.200.200']\n",
            "201.201.201.201 ['201.201.201.201']\n",
            "202.202.202.202 ['202.202.202.202']\n",
            "203.203.203.203 ['203.203.203.203']\n",
            "204.204.204.204 ['204.204.204.204']\n",
            "205.205.205.205 ['205.205.205.205']\n",
            "206.206.206.206 ['206.206.206.206']\n",
            "207.207.207.207 ['207.207.207.207']\n",
            "208.208.208.208 ['208.208.208.208']\n",
            "209.209.209.209 ['209.209.209.209']\n",
            "210.210.210.210 ['210.210.210.210']\n",
            "211.211.211.211 ['211.211.211.211']\n",
            "212.212.212.212 ['212.212.212.212']\n",
            "213.213.213.213 ['213.213.213.213']\n",
            "214.214.214.214 ['214.214.214.214']\n",
            "215.215.215.215 ['215.215.215.215']\n",
            "216.216.216.216 ['216.216.216.216']\n",
            "217.217.217.217 ['217.217.217.217']\n",
            "218.218.218.218 ['218.218.218.218']\n",
            "219.219.219.219 ['219.219.219.219']\n",
            "220.220.220.220 ['220.220.220.220']\n",
            "221.221.221.221 ['221.221.221.221']\n",
            "222.222.222.222 ['222.222.222.222']\n",
            "223.223.223.223 ['223.223.223.223']\n",
            "224.224.224.224 ['224.224.224.224']\n",
            "225.225.225.225 ['225.225.225.225']\n",
            "226.226.226.226 ['226.226.226.226']\n",
            "227.227.227.227 ['227.227.227.227']\n",
            "228.228.228.228 ['228.228.228.228']\n",
            "229.229.229.229 ['229.229.229.229']\n",
            "230.230.230.230 ['230.230.230.230']\n",
            "231.231.231.231 ['231.231.231.231']\n",
            "232.232.232.232 ['232.232.232.232']\n",
            "233.233.233.233 ['233.233.233.233']\n",
            "234.234.234.234 ['234.234.234.234']\n",
            "235.235.235.235 ['235.235.235.235']\n",
            "236.236.236.236 ['236.236.236.236']\n",
            "237.237.237.237 ['237.237.237.237']\n",
            "238.238.238.238 ['238.238.238.238']\n",
            "239.239.239.239 ['239.239.239.239']\n",
            "240.240.240.240 ['240.240.240.240']\n",
            "241.241.241.241 ['241.241.241.241']\n",
            "242.242.242.242 ['242.242.242.242']\n",
            "243.243.243.243 ['243.243.243.243']\n",
            "244.244.244.244 ['244.244.244.244']\n",
            "245.245.245.245 ['245.245.245.245']\n",
            "246.246.246.246 ['246.246.246.246']\n",
            "247.247.247.247 ['247.247.247.247']\n",
            "248.248.248.248 ['248.248.248.248']\n",
            "249.249.249.249 ['249.249.249.249']\n",
            "250.250.250.250 ['250.250.250.250']\n",
            "251.251.251.251 ['251.251.251.251']\n",
            "252.252.252.252 ['252.252.252.252']\n",
            "253.253.253.253 ['253.253.253.253']\n",
            "254.254.254.254 ['254.254.254.254']\n",
            "255.255.255.255 ['255.255.255.255']\n",
            "256.256.256.256 []\n",
            "257.257.257.257 []\n",
            "258.258.258.258 []\n",
            "259.259.259.259 []\n",
            "260.260.260.260 []\n",
            "261.261.261.261 []\n",
            "262.262.262.262 []\n",
            "263.263.263.263 []\n",
            "264.264.264.264 []\n",
            "265.265.265.265 []\n",
            "266.266.266.266 []\n",
            "267.267.267.267 []\n",
            "268.268.268.268 []\n",
            "269.269.269.269 []\n",
            "270.270.270.270 []\n",
            "271.271.271.271 []\n",
            "272.272.272.272 []\n",
            "273.273.273.273 []\n",
            "274.274.274.274 []\n",
            "275.275.275.275 []\n",
            "276.276.276.276 []\n",
            "277.277.277.277 []\n",
            "278.278.278.278 []\n",
            "279.279.279.279 []\n",
            "280.280.280.280 []\n",
            "281.281.281.281 []\n",
            "282.282.282.282 []\n",
            "283.283.283.283 []\n",
            "284.284.284.284 []\n",
            "285.285.285.285 []\n",
            "286.286.286.286 []\n",
            "287.287.287.287 []\n",
            "288.288.288.288 []\n",
            "289.289.289.289 []\n",
            "290.290.290.290 []\n",
            "291.291.291.291 []\n",
            "292.292.292.292 []\n",
            "293.293.293.293 []\n",
            "294.294.294.294 []\n",
            "295.295.295.295 []\n",
            "296.296.296.296 []\n",
            "297.297.297.297 []\n",
            "298.298.298.298 []\n",
            "299.299.299.299 []\n",
            "300.300.300.300 []\n"
          ],
          "name": "stdout"
        }
      ]
    },
    {
      "cell_type": "code",
      "metadata": {
        "id": "fuObHKjwo35z"
      },
      "source": [
        "# modo 5, versão compacta\n",
        "\n",
        "# modo 4\n",
        "# o modo anterior permite colocar o ponto depois do último número, entao com a borda isso será solucionado\n",
        "# por consequência, só irá pegar o ip se perfeitamente formatado\n",
        "ip_reg_exp_comp = re.compile(r'^(?:(?:25[0-5]|2[0-4][0-9]|1[0-9]{2}|[1-9][0-9]|[0-9])\\.?){4}\\b$')"
      ],
      "execution_count": null,
      "outputs": []
    },
    {
      "cell_type": "code",
      "metadata": {
        "colab": {
          "base_uri": "https://localhost:8080/"
        },
        "id": "2GSuMEEoqOEV",
        "outputId": "ce90b28b-47e4-4ccf-f5b7-3c0bbc96b09b"
      },
      "source": [
        "for i in range(301):\n",
        "  ip = f'{i}.{i}.{i}.{i}'\n",
        "  print(ip, ip_reg_exp_comp.findall(ip))"
      ],
      "execution_count": null,
      "outputs": [
        {
          "output_type": "stream",
          "text": [
            "0.0.0.0 ['0.0.0.0']\n",
            "1.1.1.1 ['1.1.1.1']\n",
            "2.2.2.2 ['2.2.2.2']\n",
            "3.3.3.3 ['3.3.3.3']\n",
            "4.4.4.4 ['4.4.4.4']\n",
            "5.5.5.5 ['5.5.5.5']\n",
            "6.6.6.6 ['6.6.6.6']\n",
            "7.7.7.7 ['7.7.7.7']\n",
            "8.8.8.8 ['8.8.8.8']\n",
            "9.9.9.9 ['9.9.9.9']\n",
            "10.10.10.10 ['10.10.10.10']\n",
            "11.11.11.11 ['11.11.11.11']\n",
            "12.12.12.12 ['12.12.12.12']\n",
            "13.13.13.13 ['13.13.13.13']\n",
            "14.14.14.14 ['14.14.14.14']\n",
            "15.15.15.15 ['15.15.15.15']\n",
            "16.16.16.16 ['16.16.16.16']\n",
            "17.17.17.17 ['17.17.17.17']\n",
            "18.18.18.18 ['18.18.18.18']\n",
            "19.19.19.19 ['19.19.19.19']\n",
            "20.20.20.20 ['20.20.20.20']\n",
            "21.21.21.21 ['21.21.21.21']\n",
            "22.22.22.22 ['22.22.22.22']\n",
            "23.23.23.23 ['23.23.23.23']\n",
            "24.24.24.24 ['24.24.24.24']\n",
            "25.25.25.25 ['25.25.25.25']\n",
            "26.26.26.26 ['26.26.26.26']\n",
            "27.27.27.27 ['27.27.27.27']\n",
            "28.28.28.28 ['28.28.28.28']\n",
            "29.29.29.29 ['29.29.29.29']\n",
            "30.30.30.30 ['30.30.30.30']\n",
            "31.31.31.31 ['31.31.31.31']\n",
            "32.32.32.32 ['32.32.32.32']\n",
            "33.33.33.33 ['33.33.33.33']\n",
            "34.34.34.34 ['34.34.34.34']\n",
            "35.35.35.35 ['35.35.35.35']\n",
            "36.36.36.36 ['36.36.36.36']\n",
            "37.37.37.37 ['37.37.37.37']\n",
            "38.38.38.38 ['38.38.38.38']\n",
            "39.39.39.39 ['39.39.39.39']\n",
            "40.40.40.40 ['40.40.40.40']\n",
            "41.41.41.41 ['41.41.41.41']\n",
            "42.42.42.42 ['42.42.42.42']\n",
            "43.43.43.43 ['43.43.43.43']\n",
            "44.44.44.44 ['44.44.44.44']\n",
            "45.45.45.45 ['45.45.45.45']\n",
            "46.46.46.46 ['46.46.46.46']\n",
            "47.47.47.47 ['47.47.47.47']\n",
            "48.48.48.48 ['48.48.48.48']\n",
            "49.49.49.49 ['49.49.49.49']\n",
            "50.50.50.50 ['50.50.50.50']\n",
            "51.51.51.51 ['51.51.51.51']\n",
            "52.52.52.52 ['52.52.52.52']\n",
            "53.53.53.53 ['53.53.53.53']\n",
            "54.54.54.54 ['54.54.54.54']\n",
            "55.55.55.55 ['55.55.55.55']\n",
            "56.56.56.56 ['56.56.56.56']\n",
            "57.57.57.57 ['57.57.57.57']\n",
            "58.58.58.58 ['58.58.58.58']\n",
            "59.59.59.59 ['59.59.59.59']\n",
            "60.60.60.60 ['60.60.60.60']\n",
            "61.61.61.61 ['61.61.61.61']\n",
            "62.62.62.62 ['62.62.62.62']\n",
            "63.63.63.63 ['63.63.63.63']\n",
            "64.64.64.64 ['64.64.64.64']\n",
            "65.65.65.65 ['65.65.65.65']\n",
            "66.66.66.66 ['66.66.66.66']\n",
            "67.67.67.67 ['67.67.67.67']\n",
            "68.68.68.68 ['68.68.68.68']\n",
            "69.69.69.69 ['69.69.69.69']\n",
            "70.70.70.70 ['70.70.70.70']\n",
            "71.71.71.71 ['71.71.71.71']\n",
            "72.72.72.72 ['72.72.72.72']\n",
            "73.73.73.73 ['73.73.73.73']\n",
            "74.74.74.74 ['74.74.74.74']\n",
            "75.75.75.75 ['75.75.75.75']\n",
            "76.76.76.76 ['76.76.76.76']\n",
            "77.77.77.77 ['77.77.77.77']\n",
            "78.78.78.78 ['78.78.78.78']\n",
            "79.79.79.79 ['79.79.79.79']\n",
            "80.80.80.80 ['80.80.80.80']\n",
            "81.81.81.81 ['81.81.81.81']\n",
            "82.82.82.82 ['82.82.82.82']\n",
            "83.83.83.83 ['83.83.83.83']\n",
            "84.84.84.84 ['84.84.84.84']\n",
            "85.85.85.85 ['85.85.85.85']\n",
            "86.86.86.86 ['86.86.86.86']\n",
            "87.87.87.87 ['87.87.87.87']\n",
            "88.88.88.88 ['88.88.88.88']\n",
            "89.89.89.89 ['89.89.89.89']\n",
            "90.90.90.90 ['90.90.90.90']\n",
            "91.91.91.91 ['91.91.91.91']\n",
            "92.92.92.92 ['92.92.92.92']\n",
            "93.93.93.93 ['93.93.93.93']\n",
            "94.94.94.94 ['94.94.94.94']\n",
            "95.95.95.95 ['95.95.95.95']\n",
            "96.96.96.96 ['96.96.96.96']\n",
            "97.97.97.97 ['97.97.97.97']\n",
            "98.98.98.98 ['98.98.98.98']\n",
            "99.99.99.99 ['99.99.99.99']\n",
            "100.100.100.100 ['100.100.100.100']\n",
            "101.101.101.101 ['101.101.101.101']\n",
            "102.102.102.102 ['102.102.102.102']\n",
            "103.103.103.103 ['103.103.103.103']\n",
            "104.104.104.104 ['104.104.104.104']\n",
            "105.105.105.105 ['105.105.105.105']\n",
            "106.106.106.106 ['106.106.106.106']\n",
            "107.107.107.107 ['107.107.107.107']\n",
            "108.108.108.108 ['108.108.108.108']\n",
            "109.109.109.109 ['109.109.109.109']\n",
            "110.110.110.110 ['110.110.110.110']\n",
            "111.111.111.111 ['111.111.111.111']\n",
            "112.112.112.112 ['112.112.112.112']\n",
            "113.113.113.113 ['113.113.113.113']\n",
            "114.114.114.114 ['114.114.114.114']\n",
            "115.115.115.115 ['115.115.115.115']\n",
            "116.116.116.116 ['116.116.116.116']\n",
            "117.117.117.117 ['117.117.117.117']\n",
            "118.118.118.118 ['118.118.118.118']\n",
            "119.119.119.119 ['119.119.119.119']\n",
            "120.120.120.120 ['120.120.120.120']\n",
            "121.121.121.121 ['121.121.121.121']\n",
            "122.122.122.122 ['122.122.122.122']\n",
            "123.123.123.123 ['123.123.123.123']\n",
            "124.124.124.124 ['124.124.124.124']\n",
            "125.125.125.125 ['125.125.125.125']\n",
            "126.126.126.126 ['126.126.126.126']\n",
            "127.127.127.127 ['127.127.127.127']\n",
            "128.128.128.128 ['128.128.128.128']\n",
            "129.129.129.129 ['129.129.129.129']\n",
            "130.130.130.130 ['130.130.130.130']\n",
            "131.131.131.131 ['131.131.131.131']\n",
            "132.132.132.132 ['132.132.132.132']\n",
            "133.133.133.133 ['133.133.133.133']\n",
            "134.134.134.134 ['134.134.134.134']\n",
            "135.135.135.135 ['135.135.135.135']\n",
            "136.136.136.136 ['136.136.136.136']\n",
            "137.137.137.137 ['137.137.137.137']\n",
            "138.138.138.138 ['138.138.138.138']\n",
            "139.139.139.139 ['139.139.139.139']\n",
            "140.140.140.140 ['140.140.140.140']\n",
            "141.141.141.141 ['141.141.141.141']\n",
            "142.142.142.142 ['142.142.142.142']\n",
            "143.143.143.143 ['143.143.143.143']\n",
            "144.144.144.144 ['144.144.144.144']\n",
            "145.145.145.145 ['145.145.145.145']\n",
            "146.146.146.146 ['146.146.146.146']\n",
            "147.147.147.147 ['147.147.147.147']\n",
            "148.148.148.148 ['148.148.148.148']\n",
            "149.149.149.149 ['149.149.149.149']\n",
            "150.150.150.150 ['150.150.150.150']\n",
            "151.151.151.151 ['151.151.151.151']\n",
            "152.152.152.152 ['152.152.152.152']\n",
            "153.153.153.153 ['153.153.153.153']\n",
            "154.154.154.154 ['154.154.154.154']\n",
            "155.155.155.155 ['155.155.155.155']\n",
            "156.156.156.156 ['156.156.156.156']\n",
            "157.157.157.157 ['157.157.157.157']\n",
            "158.158.158.158 ['158.158.158.158']\n",
            "159.159.159.159 ['159.159.159.159']\n",
            "160.160.160.160 ['160.160.160.160']\n",
            "161.161.161.161 ['161.161.161.161']\n",
            "162.162.162.162 ['162.162.162.162']\n",
            "163.163.163.163 ['163.163.163.163']\n",
            "164.164.164.164 ['164.164.164.164']\n",
            "165.165.165.165 ['165.165.165.165']\n",
            "166.166.166.166 ['166.166.166.166']\n",
            "167.167.167.167 ['167.167.167.167']\n",
            "168.168.168.168 ['168.168.168.168']\n",
            "169.169.169.169 ['169.169.169.169']\n",
            "170.170.170.170 ['170.170.170.170']\n",
            "171.171.171.171 ['171.171.171.171']\n",
            "172.172.172.172 ['172.172.172.172']\n",
            "173.173.173.173 ['173.173.173.173']\n",
            "174.174.174.174 ['174.174.174.174']\n",
            "175.175.175.175 ['175.175.175.175']\n",
            "176.176.176.176 ['176.176.176.176']\n",
            "177.177.177.177 ['177.177.177.177']\n",
            "178.178.178.178 ['178.178.178.178']\n",
            "179.179.179.179 ['179.179.179.179']\n",
            "180.180.180.180 ['180.180.180.180']\n",
            "181.181.181.181 ['181.181.181.181']\n",
            "182.182.182.182 ['182.182.182.182']\n",
            "183.183.183.183 ['183.183.183.183']\n",
            "184.184.184.184 ['184.184.184.184']\n",
            "185.185.185.185 ['185.185.185.185']\n",
            "186.186.186.186 ['186.186.186.186']\n",
            "187.187.187.187 ['187.187.187.187']\n",
            "188.188.188.188 ['188.188.188.188']\n",
            "189.189.189.189 ['189.189.189.189']\n",
            "190.190.190.190 ['190.190.190.190']\n",
            "191.191.191.191 ['191.191.191.191']\n",
            "192.192.192.192 ['192.192.192.192']\n",
            "193.193.193.193 ['193.193.193.193']\n",
            "194.194.194.194 ['194.194.194.194']\n",
            "195.195.195.195 ['195.195.195.195']\n",
            "196.196.196.196 ['196.196.196.196']\n",
            "197.197.197.197 ['197.197.197.197']\n",
            "198.198.198.198 ['198.198.198.198']\n",
            "199.199.199.199 ['199.199.199.199']\n",
            "200.200.200.200 ['200.200.200.200']\n",
            "201.201.201.201 ['201.201.201.201']\n",
            "202.202.202.202 ['202.202.202.202']\n",
            "203.203.203.203 ['203.203.203.203']\n",
            "204.204.204.204 ['204.204.204.204']\n",
            "205.205.205.205 ['205.205.205.205']\n",
            "206.206.206.206 ['206.206.206.206']\n",
            "207.207.207.207 ['207.207.207.207']\n",
            "208.208.208.208 ['208.208.208.208']\n",
            "209.209.209.209 ['209.209.209.209']\n",
            "210.210.210.210 ['210.210.210.210']\n",
            "211.211.211.211 ['211.211.211.211']\n",
            "212.212.212.212 ['212.212.212.212']\n",
            "213.213.213.213 ['213.213.213.213']\n",
            "214.214.214.214 ['214.214.214.214']\n",
            "215.215.215.215 ['215.215.215.215']\n",
            "216.216.216.216 ['216.216.216.216']\n",
            "217.217.217.217 ['217.217.217.217']\n",
            "218.218.218.218 ['218.218.218.218']\n",
            "219.219.219.219 ['219.219.219.219']\n",
            "220.220.220.220 ['220.220.220.220']\n",
            "221.221.221.221 ['221.221.221.221']\n",
            "222.222.222.222 ['222.222.222.222']\n",
            "223.223.223.223 ['223.223.223.223']\n",
            "224.224.224.224 ['224.224.224.224']\n",
            "225.225.225.225 ['225.225.225.225']\n",
            "226.226.226.226 ['226.226.226.226']\n",
            "227.227.227.227 ['227.227.227.227']\n",
            "228.228.228.228 ['228.228.228.228']\n",
            "229.229.229.229 ['229.229.229.229']\n",
            "230.230.230.230 ['230.230.230.230']\n",
            "231.231.231.231 ['231.231.231.231']\n",
            "232.232.232.232 ['232.232.232.232']\n",
            "233.233.233.233 ['233.233.233.233']\n",
            "234.234.234.234 ['234.234.234.234']\n",
            "235.235.235.235 ['235.235.235.235']\n",
            "236.236.236.236 ['236.236.236.236']\n",
            "237.237.237.237 ['237.237.237.237']\n",
            "238.238.238.238 ['238.238.238.238']\n",
            "239.239.239.239 ['239.239.239.239']\n",
            "240.240.240.240 ['240.240.240.240']\n",
            "241.241.241.241 ['241.241.241.241']\n",
            "242.242.242.242 ['242.242.242.242']\n",
            "243.243.243.243 ['243.243.243.243']\n",
            "244.244.244.244 ['244.244.244.244']\n",
            "245.245.245.245 ['245.245.245.245']\n",
            "246.246.246.246 ['246.246.246.246']\n",
            "247.247.247.247 ['247.247.247.247']\n",
            "248.248.248.248 ['248.248.248.248']\n",
            "249.249.249.249 ['249.249.249.249']\n",
            "250.250.250.250 ['250.250.250.250']\n",
            "251.251.251.251 ['251.251.251.251']\n",
            "252.252.252.252 ['252.252.252.252']\n",
            "253.253.253.253 ['253.253.253.253']\n",
            "254.254.254.254 ['254.254.254.254']\n",
            "255.255.255.255 ['255.255.255.255']\n",
            "256.256.256.256 []\n",
            "257.257.257.257 []\n",
            "258.258.258.258 []\n",
            "259.259.259.259 []\n",
            "260.260.260.260 []\n",
            "261.261.261.261 []\n",
            "262.262.262.262 []\n",
            "263.263.263.263 []\n",
            "264.264.264.264 []\n",
            "265.265.265.265 []\n",
            "266.266.266.266 []\n",
            "267.267.267.267 []\n",
            "268.268.268.268 []\n",
            "269.269.269.269 []\n",
            "270.270.270.270 []\n",
            "271.271.271.271 []\n",
            "272.272.272.272 []\n",
            "273.273.273.273 []\n",
            "274.274.274.274 []\n",
            "275.275.275.275 []\n",
            "276.276.276.276 []\n",
            "277.277.277.277 []\n",
            "278.278.278.278 []\n",
            "279.279.279.279 []\n",
            "280.280.280.280 []\n",
            "281.281.281.281 []\n",
            "282.282.282.282 []\n",
            "283.283.283.283 []\n",
            "284.284.284.284 []\n",
            "285.285.285.285 []\n",
            "286.286.286.286 []\n",
            "287.287.287.287 []\n",
            "288.288.288.288 []\n",
            "289.289.289.289 []\n",
            "290.290.290.290 []\n",
            "291.291.291.291 []\n",
            "292.292.292.292 []\n",
            "293.293.293.293 []\n",
            "294.294.294.294 []\n",
            "295.295.295.295 []\n",
            "296.296.296.296 []\n",
            "297.297.297.297 []\n",
            "298.298.298.298 []\n",
            "299.299.299.299 []\n",
            "300.300.300.300 []\n"
          ],
          "name": "stdout"
        }
      ]
    },
    {
      "cell_type": "markdown",
      "metadata": {
        "id": "tWFYrzXGq3CG"
      },
      "source": [
        "### Aula 10\n",
        "\n",
        "**Melhorando a validação do CPF**\n",
        "\n",
        "- Negando sequência como 000.000.000-00 com negative lookahead.\n",
        "\n",
        "- Utilizando o [regex101](https://regex101.com/).\n",
        "  - Flag global não tem em Python.\n",
        "  - Utilizar as flags multiline, insensitive, single line (dotall) e o ASCII.\n",
        "  - O global pode ficar marcado, pois servirá como finditer. Caso queira o search é só desmarcar.\n",
        "\n",
        "  - Em **TEST STRING** utilizar os números limpos a baixo\n",
        "(Abrir o código fonte para copiar).\n",
        "\n",
        "698.547.520-54\n",
        "060.235.190-16\n",
        "683.134.960-96\n",
        "899.344.730-62\n",
        "103.778.870-21\n",
        "721.478.580-30\n",
        "366.310.090-14\n",
        "794.289.350-26\n",
        "190.259.410-01\n",
        "000.000.000-01\n",
        "900.000.000-00\n",
        "000.000.000-00\n",
        "111.111.111-11\n",
        "222.222.222-22\n",
        "333.333.333-33\n",
        "444.444.444-44\n",
        "555.555.555-55\n",
        "666.666.666-66\n",
        "777.777.777-77\n",
        "888.888.888-88\n",
        "999.999.999-99\n",
        "\n",
        "     EM **REGULAR EXPRESSION** o código ^\\d{3}\\.\\d{3}\\.\\d{3}-\\d{2}$\n",
        "\n",
        " - Se a flag *multi line* não estiver ativada, vai considerar como string do 6 inicial ao 9 final.\n",
        "\n",
        " - Ao criar a expressão, ao lado é explicado o que está sendo executado.\n",
        "\n",
        " - Save Regex nos dará um link para a expressão.\n",
        "  Ex.: https://regex101.com/r/bIJ24u/1\n",
        "\n",
        " - Code Generator nos dará o código Python. \n",
        "\n"
      ]
    },
    {
      "cell_type": "markdown",
      "metadata": {
        "id": "ZgrKbJfUyP0D"
      },
      "source": [
        "**Utilizando o Negative Lookahead** (?!)\n",
        "\n",
        "O Positive (?=) pega todo o contrário.\n",
        "\n",
        "\n",
        "\n",
        "https://regex101.com/r/WvdiIC/1\n"
      ]
    },
    {
      "cell_type": "code",
      "metadata": {
        "id": "z10blQYdqxne"
      },
      "source": [
        "cpf = (     \"698.547.520-54\\n\"\n",
        "            \"060.235.190-16\\n\"\n",
        "            \"683.134.960-96\\n\"\n",
        "            \"899.344.730-62\\n\"\n",
        "            \"103.778.870-21\\n\"\n",
        "            \"721.478.580-30\\n\"\n",
        "            \"366.310.090-14\\n\"\n",
        "            \"794.289.350-26\\n\"\n",
        "            \"190.259.410-01\\n\"\n",
        "            \"000.000.000-01\\n\"\n",
        "            \"900.000.000-00\\n\\n\"\n",
        "            \"000.000.000-00\\n\"\n",
        "            \"111.111.111-11\\n\"\n",
        "            \"222.222.222-22\\n\"\n",
        "            \"333.333.333-33\\n\"\n",
        "            \"444.444.444-44\\n\"\n",
        "            \"555.555.555-55\\n\"\n",
        "            \"666.666.666-66\\n\"\n",
        "            \"777.777.777-77\\n\"\n",
        "            \"888.888.888-88\\n\"\n",
        "            \"999.999.999-99\\n\\n\"\n",
        "            )"
      ],
      "execution_count": null,
      "outputs": []
    },
    {
      "cell_type": "code",
      "metadata": {
        "id": "U7ATRxuWv6Wa"
      },
      "source": [
        "regex = re.compile(\n",
        "    r\"^(?!(\\d)\\1{2}\\.\\1{3}\\.\\1{3}-\\1{2})(\\d{3}\\.\\d{3}\\.\\d{3}-\\d{2})$\",\n",
        "    flags=re.MULTILINE\n",
        ")"
      ],
      "execution_count": null,
      "outputs": []
    },
    {
      "cell_type": "code",
      "metadata": {
        "colab": {
          "base_uri": "https://localhost:8080/"
        },
        "id": "1S40xvFzv9Zp",
        "outputId": "48dcc09f-142e-4684-c372-b2c96bb9a4d1"
      },
      "source": [
        "pprint(regex.findall(cpf))"
      ],
      "execution_count": null,
      "outputs": [
        {
          "output_type": "stream",
          "text": [
            "[('6', '698.547.520-54'),\n",
            " ('0', '060.235.190-16'),\n",
            " ('6', '683.134.960-96'),\n",
            " ('8', '899.344.730-62'),\n",
            " ('1', '103.778.870-21'),\n",
            " ('7', '721.478.580-30'),\n",
            " ('3', '366.310.090-14'),\n",
            " ('7', '794.289.350-26'),\n",
            " ('1', '190.259.410-01'),\n",
            " ('0', '000.000.000-01'),\n",
            " ('9', '900.000.000-00')]\n"
          ],
          "name": "stdout"
        }
      ]
    },
    {
      "cell_type": "markdown",
      "metadata": {
        "id": "rGnNIX5x5P_h"
      },
      "source": [
        "### Aula 11\n",
        "\n",
        "**Número Telefônicos**\n",
        "\n",
        "No regex 101:\n",
        "\n",
        "https://regex101.com/r/zAwNZK/1\n",
        "\n",
        "- Em Substitution pode-se acessar o grupo. Se houver grupo para acessar para substituir.\n",
        "  - Ex.: \\3 para o 3 ou \\1\\2\\3 para reconstruir os números."
      ]
    },
    {
      "cell_type": "code",
      "metadata": {
        "id": "Zpu7dH2Av_rk"
      },
      "source": [
        "texto = '''\n",
        "(21) 9 8852-5214\n",
        "(11)9955-1231\n",
        "(11)            9955-1231\n",
        "(35) 9 9975-4521\n",
        "(31) 3851-2587\n",
        "9 8571-5213\n",
        "1234-5647\n",
        "'''"
      ],
      "execution_count": null,
      "outputs": []
    },
    {
      "cell_type": "code",
      "metadata": {
        "id": "T0NBeFIe6X5m"
      },
      "source": [
        "regexp1 = re.compile(r'^(?:\\(\\d{2}\\)\\s)(?:9\\s)(?:\\d{4}-\\d{4})$', flags=re.M)"
      ],
      "execution_count": null,
      "outputs": []
    },
    {
      "cell_type": "code",
      "metadata": {
        "colab": {
          "base_uri": "https://localhost:8080/"
        },
        "id": "Ktydnnxo6ZiO",
        "outputId": "97e533f2-bf41-4938-d75f-ffbc601dfee1"
      },
      "source": [
        "for telefone in regexp1.findall(texto):\n",
        "    print(telefone)"
      ],
      "execution_count": null,
      "outputs": [
        {
          "output_type": "stream",
          "text": [
            "(21) 9 8852-5214\n",
            "(35) 9 9975-4521\n"
          ],
          "name": "stdout"
        }
      ]
    },
    {
      "cell_type": "code",
      "metadata": {
        "id": "yd3s2jzl6Z0-"
      },
      "source": [
        "regexp2 = re.compile(r'^((?:\\(\\d{2}\\)\\s)(?:9\\s)(?:\\d{4}-\\d{4}))$', flags=re.M)"
      ],
      "execution_count": null,
      "outputs": []
    },
    {
      "cell_type": "code",
      "metadata": {
        "colab": {
          "base_uri": "https://localhost:8080/"
        },
        "id": "R4z2d_tsCKMU",
        "outputId": "cc822978-187d-4a1a-a206-08029dc9679b"
      },
      "source": [
        "for telefone in regexp2.findall(texto):\n",
        "    print(telefone)"
      ],
      "execution_count": null,
      "outputs": [
        {
          "output_type": "stream",
          "text": [
            "(21) 9 8852-5214\n",
            "(35) 9 9975-4521\n"
          ],
          "name": "stdout"
        }
      ]
    },
    {
      "cell_type": "code",
      "metadata": {
        "id": "CIPHWzb_DUZT"
      },
      "source": [
        "regexp3 = re.compile(r'^((\\(\\d{2}\\)\\s)(9\\s)(\\d{4}-\\d{4}))$', flags=re.M)"
      ],
      "execution_count": null,
      "outputs": []
    },
    {
      "cell_type": "code",
      "metadata": {
        "colab": {
          "base_uri": "https://localhost:8080/"
        },
        "id": "kNrK_U-QCLVT",
        "outputId": "92111f0e-7595-45e6-c07a-8a2aaf23c4f6"
      },
      "source": [
        "for telefone in regexp3.findall(texto):\n",
        "  telefone_completo, ddd, _, numero = telefone\n",
        "  print('Telefone Completo: {0}\\n DDD: {1}\\n Número: {2}'.format(telefone_completo, ddd, numero))"
      ],
      "execution_count": null,
      "outputs": [
        {
          "output_type": "stream",
          "text": [
            "Telefone Completo: (21) 9 8852-5214\n",
            " DDD: (21) \n",
            " Número: 8852-5214\n",
            "Telefone Completo: (35) 9 9975-4521\n",
            " DDD: (35) \n",
            " Número: 9975-4521\n"
          ],
          "name": "stdout"
        }
      ]
    },
    {
      "cell_type": "markdown",
      "metadata": {
        "id": "1dd4Z69tGscN"
      },
      "source": [
        "### Aula 12\n",
        "\n",
        "**Validação de senha forte**\n",
        "\n",
        "No Regex101 com positive lookahead:\n",
        "\n",
        "https://regex101.com/r/zjMgOR/1\n",
        "\n"
      ]
    },
    {
      "cell_type": "markdown",
      "metadata": {
        "id": "NTYgkgW8My31"
      },
      "source": [
        "[Tabela Unicode](https://en.wikipedia.org/wiki/List_of_Unicode_characters)"
      ]
    },
    {
      "cell_type": "code",
      "metadata": {
        "colab": {
          "base_uri": "https://localhost:8080/"
        },
        "id": "qarfgZQ3CeMb",
        "outputId": "a8b98797-bc64-4744-b90d-b335967ca5e5"
      },
      "source": [
        "# função para gerar senhas pela tabela unicode\n",
        "\n",
        "from random import randint, choice, shuffle\n",
        "\n",
        "\n",
        "def zero_a_nove():\n",
        "    return chr(randint(48, 57))\n",
        "\n",
        "\n",
        "def a_a_z():\n",
        "    return chr(randint(97, 122))\n",
        "\n",
        "\n",
        "def A_a_Z():\n",
        "    return chr(randint(65, 90))\n",
        "\n",
        "\n",
        "def strange_chars():\n",
        "    rand_range = [\n",
        "        randint(32, 47),  # \\u0020-\\u002F [ -\\/]\n",
        "        randint(58, 64),  # \\u003A-\\u0040 [:-@]\n",
        "        randint(91, 96),  # \\u005B-\\u0060 [[-`]\n",
        "        randint(123, 126),  # \\u007B-\\u007E [{-~]\n",
        "    ]\n",
        "\n",
        "    # [\\u0020-\\u002F\\u003A-\\u0040\\u005B-\\u0060\\u007B-\\u007E]\n",
        "    # [ -\\/:-@[-`{-~]\n",
        "\n",
        "    return chr(choice(rand_range))\n",
        "\n",
        "\n",
        "def create_pass(\n",
        "        length=12,\n",
        "        upper=True,\n",
        "        lower=True,\n",
        "        numbers=True,\n",
        "        chars=True\n",
        "):\n",
        "    password = []\n",
        "\n",
        "    for i in range(length):\n",
        "        if numbers:\n",
        "            password.append(zero_a_nove())\n",
        "        if lower:\n",
        "            password.append(a_a_z())\n",
        "        if upper:\n",
        "            password.append(A_a_Z())\n",
        "        if chars:\n",
        "            password.append(strange_chars())\n",
        "\n",
        "    password = password[:length]\n",
        "    shuffle(password)\n",
        "    return ''.join(password)\n",
        "\n",
        "\n",
        "if __name__ == '__main__':\n",
        "\n",
        "    print('VÁLIDAS')\n",
        "    for i in range(5):\n",
        "        print(create_pass(\n",
        "            length=12,\n",
        "            chars=True,\n",
        "            upper=True,\n",
        "            lower=True,\n",
        "            numbers=True\n",
        "        ))\n",
        "    print()\n",
        "\n",
        "    print('SEM MINÚSCULAS')\n",
        "    for i in range(5):\n",
        "        print(create_pass(\n",
        "            length=12,\n",
        "            chars=True,\n",
        "            upper=True,\n",
        "            lower=False,\n",
        "            numbers=True\n",
        "        ))\n",
        "    print()\n",
        "\n",
        "    print('SEM MINÚSCULAS E NÚMEROS')\n",
        "    for i in range(5):\n",
        "        print(create_pass(\n",
        "            length=12,\n",
        "            chars=True,\n",
        "            upper=True,\n",
        "            lower=False,\n",
        "            numbers=False\n",
        "        ))\n",
        "    print()\n",
        "\n",
        "    print('SEM NÚMEROS CARACTERES E MINÚSCULAS')\n",
        "    for i in range(5):\n",
        "        print(create_pass(\n",
        "            length=12,\n",
        "            chars=False,\n",
        "            upper=True,\n",
        "            lower=False,\n",
        "            numbers=False\n",
        "        ))\n",
        "    print()\n",
        "\n",
        "    print('QUANTIDADE INVÁLIDA (6)')\n",
        "    for i in range(5):\n",
        "        print(create_pass(\n",
        "            length=6,\n",
        "        ))\n",
        "    print()"
      ],
      "execution_count": null,
      "outputs": [
        {
          "output_type": "stream",
          "text": [
            "VÁLIDAS\n",
            "<Y6kF5T7pm==\n",
            ":8|Ab>mqF65V\n",
            "2i8L@KCzn,}9\n",
            "0i:8T\\r;PM4h\n",
            "bn3/cW?4X0O;\n",
            "\n",
            "SEM MINÚSCULAS\n",
            "X=85U57^?KF}\n",
            "B>6{+7KMP?68\n",
            "'DL0~51?:KQ1\n",
            "E7`[>I2}Q75G\n",
            "@{'2VL592CV<\n",
            "\n",
            "SEM MINÚSCULAS E NÚMEROS\n",
            "L=N|.L{ZS,)S\n",
            "}JSS~W&\"][XA\n",
            "JAXZ>#P+^I>`\n",
            "}:\\{#~WJEAQV\n",
            "[UC ?QAG[N^_\n",
            "\n",
            "SEM NÚMEROS CARACTERES E MINÚSCULAS\n",
            "DSSCWQBSCZEB\n",
            "UWHIWVZRQIRQ\n",
            "TTXTJZEPVCFU\n",
            "DWNGDYUUVPAH\n",
            "XJAMHCRHREMR\n",
            "\n",
            "QUANTIDADE INVÁLIDA (6)\n",
            "fn2D\\1\n",
            "K3yi=3\n",
            "T74zv>\n",
            "0nbX!0\n",
            "f0I7'd\n",
            "\n"
          ],
          "name": "stdout"
        }
      ]
    },
    {
      "cell_type": "code",
      "metadata": {
        "colab": {
          "base_uri": "https://localhost:8080/"
        },
        "id": "APKHpBThMWSj",
        "outputId": "15dc1ac9-68a1-4be3-ec33-aafc853c6128"
      },
      "source": [
        "senha_forte_regexp = re.compile(\n",
        "    r'^'\n",
        "    r'(?=.*[a-z])'\n",
        "    r'(?=.*[A-Z])'\n",
        "    r'(?=.*[0-9])'\n",
        "    r'(?=.*[ -\\/:-@[-`{-~])'\n",
        "    r'.{12,}'\n",
        "    r'$',\n",
        "    flags=re.M\n",
        ")\n",
        "\n",
        "# os r'' são apenas para melhorar a visualização\n",
        "\n",
        "string = '''\n",
        "VÁLIDAS\n",
        "v2Ts7<o9T~}Y\n",
        "j25TTbjJ:6{<\n",
        "s`Mu6T;4M1!y\n",
        "Li`hk6:3WX>3\n",
        "d.D09}^dI2Vn\n",
        "SEM MINÚSCULAS\n",
        "I7^Y3RS^ 9]7\n",
        "[P6W\"83L5V{[\n",
        "B7=;K8D6_}W5\n",
        "1B_RT`93R%>1\n",
        "EZU{7;2&D:64\n",
        "SEM MINÚSCULAS E NÚMEROS\n",
        "E}LV`C?X_G:{\n",
        "AJH[@HD*V~=<\n",
        "\\A~AC{_V~MG \n",
        "W<-T}W:QAF'{\n",
        "~YJ}|FILN>~)\n",
        "SEM NÚMEROS CARACTERES E MINÚSCULAS\n",
        "PBDZDPECUDNN\n",
        "EJQWFWFFDEHY\n",
        "XRCNLNRHYOZJ\n",
        "TWIYPLWUDMNN\n",
        "JMDTJSEPKVON\n",
        "QUANTIDADE INVÁLIDA (6)\n",
        "Iu4<1j\n",
        "1x`P6g\n",
        "@9t3Ry\n",
        "qf9_6H\n",
        "0o`9fO\n",
        "'''\n",
        "\n",
        "print(senha_forte_regexp.findall(string))"
      ],
      "execution_count": null,
      "outputs": [
        {
          "output_type": "stream",
          "text": [
            "['v2Ts7<o9T~}Y', 'j25TTbjJ:6{<', 's`Mu6T;4M1!y', 'Li`hk6:3WX>3', 'd.D09}^dI2Vn']\n"
          ],
          "name": "stdout"
        }
      ]
    },
    {
      "cell_type": "markdown",
      "metadata": {
        "id": "f4YGb3N_hzih"
      },
      "source": [
        "### Aula 13\n",
        "\n",
        "**Encotrando números**\n",
        "\n",
        "No Regex101:\n",
        "\n",
        "https://regex101.com/r/Jz7aVx/1\n"
      ]
    },
    {
      "cell_type": "code",
      "metadata": {
        "id": "bHF3V0nYQDn7"
      },
      "source": [
        "string = '''\n",
        "Válidos\n",
        "0.0\n",
        "00.00\n",
        "000.000\n",
        "+0.0\n",
        "-00.00\n",
        "+000.000\n",
        "10\n",
        "50\n",
        "8.5\n",
        "-8.5\n",
        "+10.5005412136\n",
        "1231345458.54654564\n",
        "-133215646589.6543215648978977\n",
        "+1.11123123\n",
        "-0.154987\n",
        "1.121654987\n",
        "10.123\n",
        "10.1\n",
        "-1.1\n",
        "Inválidos\n",
        "10..2\n",
        "++1213\n",
        "--1235050\n",
        ".124546\n",
        "-.1231324\n",
        "10.\n",
        ".1\n",
        ".10\n",
        "10.\n",
        "+10.\n",
        "-10.\n",
        "5a\n",
        "b5\n",
        "'''"
      ],
      "execution_count": null,
      "outputs": []
    },
    {
      "cell_type": "code",
      "metadata": {
        "id": "qS4HU4zCjEr5",
        "colab": {
          "base_uri": "https://localhost:8080/"
        },
        "outputId": "7c18dd0d-2cef-49b2-eca2-810a3d06e29e"
      },
      "source": [
        "def is_float(string):\n",
        "    return bool(re.search(r'^[+-]?\\d+(?:\\.\\d+)?$', string))\n",
        "\n",
        "\n",
        "def is_int(string):\n",
        "    return bool(re.search(r'^[+-]?\\d+$', string))\n",
        "\n",
        "\n",
        "while True:\n",
        "    numero = input('Digite um número: ')\n",
        "\n",
        "    if is_int(numero):\n",
        "        numero = int(numero)\n",
        "        print(f'O número {numero} foi convertido para int')\n",
        "        continue\n",
        "\n",
        "    if is_float(numero):\n",
        "        numero = float(numero)\n",
        "        print(f'O número {numero} foi convertido para float')\n",
        "        continue"
      ],
      "execution_count": null,
      "outputs": [
        {
          "output_type": "stream",
          "text": [
            "O número 5 foi convertido para int\n"
          ],
          "name": "stdout"
        }
      ]
    },
    {
      "cell_type": "markdown",
      "metadata": {
        "id": "NjQPOX4Ooh4j"
      },
      "source": [
        "### Aula 14\n",
        "\n",
        "**Validando e-mails**\n",
        "\n",
        "No Regex101:\n",
        "\n",
        "1)\n",
        "\n",
        "https://regex101.com/r/jZh2Z3/1/\n",
        "\n",
        "\n",
        "    ^\\w+(?:[.\\-+!%]\\w+)*@\\w+(?:[.\\-]\\w+)+$\n",
        "\n",
        "2) Negando coisas\n",
        "\n",
        "https://regex101.com/r/dI8sCB/1\n",
        "\n",
        "$$\n",
        "^[^\\s@<>\\(\\)[\\]\\.]+(?:\\.[^\\s@<>\\(\\)\\[\\]\\.]+)*@\\w+(?:[\\.\\-_]\\w+)*$\n",
        "$$\n",
        "\n",
        "3) Padrão rfc 5322\n",
        "\n",
        "https://regex101.com/r/Io1L9M/1\n",
        "\n",
        "$$\n",
        "^(?:[a-z0-9!#$%&'*+/=?^_`{|}~-]+(?:\\.[a-z0-9!#$%&'*+/=?^_`{|}~-]+)*|\\\"(?:[\\x01-\\x08\\x0b\\x0c\\x0e-\\x1f\\x21\\x23-\\x5b\\x5d-\\x7f]|\\\\[\\x01-\\x09\\x0b\\x0c\\x0e-\\x7f])*\\\")@(?:(?:[a-z0-9](?:[a-z0-9-]*[a-z0-9])?\\.)+[a-z0-9](?:[a-z0-9-]*[a-z0-9])?|\\[(?:(?:25[0-5]|2[0-4][0-9]|[01]?[0-9][0-9]?)\\.){3}(?:25[0-5]|2[0-4][0-9]|[01]?[0-9][0-9]?|[a-z0-9-]*[a-z0-9]:(?:[\\x01-\\x08\\x0b\\x0c\\x0e-\\x1f\\x21-\\x5a\\x53-\\x7f]|\\\\[\\x01-\\x09\\x0b\\x0c\\x0e-\\x7f])+)\\])$\n",
        "$$\n",
        "\n",
        "https://regex101.com/r/fkxI15/1/\n",
        "\n",
        "Original do \n",
        "\n",
        "https://emailregex.com/\n",
        "\n",
        "Formato do e-mail:\n",
        "\n",
        "https://tools.ietf.org/html/rfc5322\n",
        "\n",
        "https://en.wikipedia.org/wiki/Email_address\n",
        "\n"
      ]
    },
    {
      "cell_type": "code",
      "metadata": {
        "id": "kMOIiVIBjh1p"
      },
      "source": [
        "emails = \"\"\"\n",
        "Valid email addresses\n",
        "o-que_vai.te+dar+dor-de.cabeca@gmail-com-traco.com.br\n",
        "simple@example.com\n",
        "very.common@example.com\n",
        "disposable.style.email.with+symbol@example.com\n",
        "other.email-with-hyphen@example.com\n",
        "fully-qualified-domain@example.com\n",
        "user.name+tag+sorting@example.com\n",
        "x@example.com\n",
        "example-indeed@strange-example.com\n",
        "example@s.example\n",
        "a@a.com.br\n",
        "mailhost!username@example.org\n",
        "user%example.com@example.org\n",
        "email@example.com\n",
        "firstname.lastname@example.com\n",
        "email@subdomain.example.com\n",
        "firstname+lastname@example.com\n",
        "email@123.123.123.123\n",
        "\"email\"@example.com\n",
        "1234567890@example.com\n",
        "email@example-one.com\n",
        "_______@example.com\n",
        "email@example.name\n",
        "email@example.museum\n",
        "email@example.co.jp\n",
        "firstname-lastname@example.com\n",
        "Invalid email addresses\n",
        "Abc.example.com\n",
        "<aqui-te-um@email-pra-validar.com.br>\n",
        "A@b@c@example.com\n",
        "a\"b(c)d,e:f;g<h>i[j\\k]l@example.com\n",
        "just\"not\"right@example.com\n",
        "this is\"not\\allowed@example.com\n",
        "this\\ still\\\"not\\\\allowed@example.com\n",
        "plainaddress\n",
        "#@%^%#$@#$@#.com\n",
        "@example.com\n",
        "<email@example.com>\n",
        "email.example.com\n",
        "email@example@example.com\n",
        ".email@example.com\n",
        "email.@example.com\n",
        "email..email@example.com\n",
        "あいうえお@example.com\n",
        "email@example\n",
        "email@-example.com\n",
        "email@example..com\n",
        "Abc..123@example.com\n",
        "”(),:;<>[\\]@example.com\n",
        "just”not”right@example.com\n",
        "this\\ is\"really\"not\\allowed@example.com\n",
        "\"\"\""
      ],
      "execution_count": null,
      "outputs": []
    },
    {
      "cell_type": "markdown",
      "metadata": {
        "id": "FRk6t6o2gtkF"
      },
      "source": [
        "# Obrigado!\n",
        "\n",
        "Obrigado por ter disponibilizado um pouco do seu tempo e atenção aqui. Espero que, de alguma forma, tenha sido útil para seu crescimento. Se houver qualquer dúvida ou sugestão, não hesite em entrar em contato no [LinkedIn](https://www.linkedin.com/in/daniel-sousa-amador) e verificar meus outros projetos no [GitHub](https://github.com/amadords).\n",
        "\n",
        "[![LinkedIn](https://img.shields.io/badge/LinkedIn-DanielSousaAmador-cyan.svg)](https://www.linkedin.com/in/daniel-sousa-amador)\n",
        "[![GitHub](https://img.shields.io/badge/GitHub-amadords-darkblue.svg)](https://github.com/amadords)\n",
        "[![Medium](https://img.shields.io/badge/Medium-DanielSousaAmador-white.svg)](https://daniel-s-amador.medium.com/)\n",
        "\n",
        "\n",
        "\n",
        "<center><img width=\"90%\" src=\"https://raw.githubusercontent.com/danielamador12/Portfolio/master/github.png\"></center>"
      ]
    },
    {
      "cell_type": "code",
      "metadata": {
        "id": "YvM2An7xguTU"
      },
      "source": [
        ""
      ],
      "execution_count": null,
      "outputs": []
    }
  ]
}