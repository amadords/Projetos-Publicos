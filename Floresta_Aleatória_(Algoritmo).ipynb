{
  "nbformat": 4,
  "nbformat_minor": 0,
  "metadata": {
    "kernelspec": {
      "display_name": "Python 3",
      "language": "python",
      "name": "python3"
    },
    "language_info": {
      "codemirror_mode": {
        "name": "ipython",
        "version": 3
      },
      "file_extension": ".py",
      "mimetype": "text/x-python",
      "name": "python",
      "nbconvert_exporter": "python",
      "pygments_lexer": "ipython3",
      "version": "3.7.6"
    },
    "colab": {
      "name": "Floresta Aleatória (Algoritmo)",
      "provenance": [],
      "collapsed_sections": [
        "arUSaZlbncxR",
        "2OKSpYrencxy",
        "irO-tLtencyB",
        "J5l45vb3ncyL",
        "rBQdGRI-ncyU",
        "d9rAMbCUncyk"
      ],
      "include_colab_link": true
    }
  },
  "cells": [
    {
      "cell_type": "markdown",
      "metadata": {
        "id": "view-in-github",
        "colab_type": "text"
      },
      "source": [
        "<a href=\"https://colab.research.google.com/github/amadords/Projetos-Publicos/blob/master/Floresta_Aleat%C3%B3ria_(Algoritmo).ipynb\" target=\"_parent\"><img src=\"https://colab.research.google.com/assets/colab-badge.svg\" alt=\"Open In Colab\"/></a>"
      ]
    },
    {
      "cell_type": "markdown",
      "metadata": {
        "id": "Ythi1Ti4ncwS"
      },
      "source": [
        "# Floresta Aleatória\n",
        "---\n",
        "\n",
        "\n",
        "[![LinkedIn](https://img.shields.io/badge/LinkedIn-DanielSousaAmador-purple.svg)](https://www.linkedin.com/in/daniel-sousa-amador)\n",
        "[![GitHub](https://img.shields.io/badge/GitHub-amadords-yellow.svg)](https://github.com/amadords)\n",
        "[![Medium](https://img.shields.io/badge/Medium-DanielSousaAmador-darkblue.svg)](https://daniel-s-amador.medium.com/)\n",
        "\n",
        "\n",
        "\n",
        "\n",
        "Aqui será tratado do algoritmo de Machine Learning denominado de **Random Forest** ou **Floresta Aleatória**.\n",
        "\n",
        "Esse algoritmo é uma melhoria da [Árvore de Decisão](https://bit.ly/2Guqmcd) que vem para sanar alguns problemas que ela tem, servindo para **classificação** ou **regressão** e tem as seguintes vantagens e desvantagens:\n",
        "\n",
        "**Vantagens**\n",
        "* Maior robustez, uma vez que tem um conjunto e não mais uma única árvore com regras.\n",
        "* Menor propeção a sofrer overfitting se comparado ao algoritmo de *Árvore de Decisão*.\n",
        "* Permite a descoberta do conhecimento, desde a listagem das features mais importantes até examinar cada árvore, extrair regra etc.\n",
        "* Poucos parâmetros para ajuste.\n",
        "\n",
        "**Desvantagens**\n",
        "* Maior poder de processamento.\n",
        "* Pode ser lento o processo de classificação de novas amostras.\n",
        "\n",
        "![random](https://img.freepik.com/fotos-gratis/homem-novo-do-viajante-com-mapa-trouxa-na-floresta-verde-do-outono-no-dia-ensolarado_90380-195.jpg?size=626&ext=jpg)\n",
        "\n",
        "Não temos intenção de esgotar todo o assunto aqui, mas trazer uma breve apresentação sobre esse algoritmo.\n",
        "\n",
        "O **Random Forest** é um algoritmo de aprendizagem supervisionada que utiliza uma *ensemble*, ou seja, *combinação* de árvores de decisão e, na maioria dos casos é treinado pelo método *bagging* (Bootstrap Aggregating), que é um método que gera um conjunto de dados por amostragem, o **bootstrap** (técnica estatística) dos dados originais para que os classificadores sejam treinados de forma independente por diferentes conjuntos de treino.\n",
        "\n",
        "O Random Forest será aplicado com objeto *RandomForestClassifier* da biblioteca *sklearn.ensemble* e seus **Parâmetros** são:\n",
        "\n",
        "   * **n_estimators**: número de árvores que serão criadas na floresta.\n",
        "   * **bootstrap**: se será considerado o bootstrap dataset durante a criação das árvores.\n",
        "   * **max_features**: número total de features que as árvores serão criadas.\n",
        "   * **criterion**: medida de qualidade da divisão.\n",
        "   * **splitter**: estratégia utilizada para dividir o nó de decisão.\n",
        "   * **max_depth**: profundidade máxima da árvore.\n",
        "   * **min_samples_split**: número de amostras mínimas para considerar um nó para divisão.\n",
        "   * **min_samples_leaf**: número de amostras mínimas no nível folha."
      ]
    },
    {
      "cell_type": "markdown",
      "metadata": {
        "id": "lZOEeWWDncwV"
      },
      "source": [
        "## Checklist\n",
        "1. Análise Exploratória e Transformação dos Dados\n",
        "2. Machine Learning\n",
        "3. Validação\n",
        "4. Visualização Gráfica das Features Mais Importantes\n",
        "5. Selecionando Features Mais Importantes\n",
        "6. Machine Learning com Features Selecionadas\n",
        "7.   Validação do Novo Modelo \n",
        "8. Exploração das Àrvores Geradas pelo Random Forest"
      ]
    },
    {
      "cell_type": "markdown",
      "metadata": {
        "id": "BrzjAS95ncwW"
      },
      "source": [
        "# 1. Análise Exploratória e Transformação dos Dados"
      ]
    },
    {
      "cell_type": "markdown",
      "metadata": {
        "id": "uzS454WvncwZ"
      },
      "source": [
        "Nessa base de dados, o **objetivo** é classificar a performance do aluno em sala de aula, se é baixa, média ou alta e visualizar quais fatores mais influenciam para que esse resultado"
      ]
    },
    {
      "cell_type": "markdown",
      "metadata": {
        "id": "c1o-iNvXncwb"
      },
      "source": [
        "**Importação das bibliotecas**"
      ]
    },
    {
      "cell_type": "code",
      "metadata": {
        "id": "PA7d_4iWncwd"
      },
      "source": [
        "from sklearn.tree import export_graphviz\n",
        "from sklearn.ensemble import RandomForestClassifier\n",
        "from sklearn.preprocessing import LabelEncoder\n",
        "import numpy as np\n",
        "import pandas as pd\n",
        "import matplotlib.pyplot as plt\n",
        "import seaborn as sns"
      ],
      "execution_count": null,
      "outputs": []
    },
    {
      "cell_type": "markdown",
      "metadata": {
        "id": "ebJdQT0Jncwn"
      },
      "source": [
        "**Leitura da base de dados**"
      ]
    },
    {
      "cell_type": "code",
      "metadata": {
        "id": "Gn-tGLlvncwo"
      },
      "source": [
        "df_edu = pd.read_csv('/home/amador/dados/xAPI-Edu-Data.csv')"
      ],
      "execution_count": null,
      "outputs": []
    },
    {
      "cell_type": "code",
      "metadata": {
        "id": "k1xLvZgEncwv",
        "outputId": "fca91a67-7500-4c84-da40-b99d52bee101"
      },
      "source": [
        "df_edu.head(3)"
      ],
      "execution_count": null,
      "outputs": [
        {
          "output_type": "execute_result",
          "data": {
            "text/html": [
              "<div>\n",
              "<style scoped>\n",
              "    .dataframe tbody tr th:only-of-type {\n",
              "        vertical-align: middle;\n",
              "    }\n",
              "\n",
              "    .dataframe tbody tr th {\n",
              "        vertical-align: top;\n",
              "    }\n",
              "\n",
              "    .dataframe thead th {\n",
              "        text-align: right;\n",
              "    }\n",
              "</style>\n",
              "<table border=\"1\" class=\"dataframe\">\n",
              "  <thead>\n",
              "    <tr style=\"text-align: right;\">\n",
              "      <th></th>\n",
              "      <th>gender</th>\n",
              "      <th>NationalITy</th>\n",
              "      <th>PlaceofBirth</th>\n",
              "      <th>StageID</th>\n",
              "      <th>GradeID</th>\n",
              "      <th>SectionID</th>\n",
              "      <th>Topic</th>\n",
              "      <th>Semester</th>\n",
              "      <th>Relation</th>\n",
              "      <th>raisedhands</th>\n",
              "      <th>VisITedResources</th>\n",
              "      <th>AnnouncementsView</th>\n",
              "      <th>Discussion</th>\n",
              "      <th>ParentAnsweringSurvey</th>\n",
              "      <th>ParentschoolSatisfaction</th>\n",
              "      <th>StudentAbsenceDays</th>\n",
              "      <th>Class</th>\n",
              "    </tr>\n",
              "  </thead>\n",
              "  <tbody>\n",
              "    <tr>\n",
              "      <th>0</th>\n",
              "      <td>M</td>\n",
              "      <td>KW</td>\n",
              "      <td>KuwaIT</td>\n",
              "      <td>lowerlevel</td>\n",
              "      <td>G-04</td>\n",
              "      <td>A</td>\n",
              "      <td>IT</td>\n",
              "      <td>F</td>\n",
              "      <td>Father</td>\n",
              "      <td>15</td>\n",
              "      <td>16</td>\n",
              "      <td>2</td>\n",
              "      <td>20</td>\n",
              "      <td>Yes</td>\n",
              "      <td>Good</td>\n",
              "      <td>Under-7</td>\n",
              "      <td>M</td>\n",
              "    </tr>\n",
              "    <tr>\n",
              "      <th>1</th>\n",
              "      <td>M</td>\n",
              "      <td>KW</td>\n",
              "      <td>KuwaIT</td>\n",
              "      <td>lowerlevel</td>\n",
              "      <td>G-04</td>\n",
              "      <td>A</td>\n",
              "      <td>IT</td>\n",
              "      <td>F</td>\n",
              "      <td>Father</td>\n",
              "      <td>20</td>\n",
              "      <td>20</td>\n",
              "      <td>3</td>\n",
              "      <td>25</td>\n",
              "      <td>Yes</td>\n",
              "      <td>Good</td>\n",
              "      <td>Under-7</td>\n",
              "      <td>M</td>\n",
              "    </tr>\n",
              "    <tr>\n",
              "      <th>2</th>\n",
              "      <td>M</td>\n",
              "      <td>KW</td>\n",
              "      <td>KuwaIT</td>\n",
              "      <td>lowerlevel</td>\n",
              "      <td>G-04</td>\n",
              "      <td>A</td>\n",
              "      <td>IT</td>\n",
              "      <td>F</td>\n",
              "      <td>Father</td>\n",
              "      <td>10</td>\n",
              "      <td>7</td>\n",
              "      <td>0</td>\n",
              "      <td>30</td>\n",
              "      <td>No</td>\n",
              "      <td>Bad</td>\n",
              "      <td>Above-7</td>\n",
              "      <td>L</td>\n",
              "    </tr>\n",
              "  </tbody>\n",
              "</table>\n",
              "</div>"
            ],
            "text/plain": [
              "  gender NationalITy PlaceofBirth     StageID GradeID SectionID Topic  \\\n",
              "0      M          KW       KuwaIT  lowerlevel    G-04         A    IT   \n",
              "1      M          KW       KuwaIT  lowerlevel    G-04         A    IT   \n",
              "2      M          KW       KuwaIT  lowerlevel    G-04         A    IT   \n",
              "\n",
              "  Semester Relation  raisedhands  VisITedResources  AnnouncementsView  \\\n",
              "0        F   Father           15                16                  2   \n",
              "1        F   Father           20                20                  3   \n",
              "2        F   Father           10                 7                  0   \n",
              "\n",
              "   Discussion ParentAnsweringSurvey ParentschoolSatisfaction  \\\n",
              "0          20                   Yes                     Good   \n",
              "1          25                   Yes                     Good   \n",
              "2          30                    No                      Bad   \n",
              "\n",
              "  StudentAbsenceDays Class  \n",
              "0            Under-7     M  \n",
              "1            Under-7     M  \n",
              "2            Above-7     L  "
            ]
          },
          "metadata": {
            "tags": []
          },
          "execution_count": 3
        }
      ]
    },
    {
      "cell_type": "markdown",
      "metadata": {
        "id": "my36MPVKncw3"
      },
      "source": [
        "**Verificando as distribuições de classes em:** \n",
        "* Média\n",
        "* Alta\n",
        "* Baixa"
      ]
    },
    {
      "cell_type": "code",
      "metadata": {
        "id": "BnC79Hclncw4",
        "outputId": "c85fc1c2-0cdc-4dc9-e64e-b6c5808b6ea4"
      },
      "source": [
        "df_edu['Class'].value_counts()"
      ],
      "execution_count": null,
      "outputs": [
        {
          "output_type": "execute_result",
          "data": {
            "text/plain": [
              "M    211\n",
              "H    142\n",
              "L    127\n",
              "Name: Class, dtype: int64"
            ]
          },
          "metadata": {
            "tags": []
          },
          "execution_count": 4
        }
      ]
    },
    {
      "cell_type": "markdown",
      "metadata": {
        "id": "_o0gjfb6ncw-"
      },
      "source": [
        "**Verificando os registros nulos**"
      ]
    },
    {
      "cell_type": "code",
      "metadata": {
        "id": "rLgO7o94ncw_",
        "outputId": "2f131cc9-e5c2-4fc7-fb31-6bd2dc93839e"
      },
      "source": [
        "df_edu.isnull().sum()"
      ],
      "execution_count": null,
      "outputs": [
        {
          "output_type": "execute_result",
          "data": {
            "text/plain": [
              "gender                      0\n",
              "NationalITy                 0\n",
              "PlaceofBirth                0\n",
              "StageID                     0\n",
              "GradeID                     0\n",
              "SectionID                   0\n",
              "Topic                       0\n",
              "Semester                    0\n",
              "Relation                    0\n",
              "raisedhands                 0\n",
              "VisITedResources            0\n",
              "AnnouncementsView           0\n",
              "Discussion                  0\n",
              "ParentAnsweringSurvey       0\n",
              "ParentschoolSatisfaction    0\n",
              "StudentAbsenceDays          0\n",
              "Class                       0\n",
              "dtype: int64"
            ]
          },
          "metadata": {
            "tags": []
          },
          "execution_count": 5
        }
      ]
    },
    {
      "cell_type": "markdown",
      "metadata": {
        "id": "b5133LuuncxG"
      },
      "source": [
        "### Codificação dos atributos categóricos em numéricos\n",
        "Obs.: Numa base de dados real, também deve ser testado com One Hot Encoding, Label Encoder (separados e combinados) e Get Dummies.\n"
      ]
    },
    {
      "cell_type": "code",
      "metadata": {
        "id": "hnGIC4JNncxG"
      },
      "source": [
        "# codificando atributos numéricos\n",
        "Features = df_edu # instanciando o df\n",
        "# criando uma variável e percorrendo os dtypes, selecionandos o que for object\n",
        "Cat_Colums = Features.dtypes.pipe(lambda Features: Features[Features=='object']).index\n",
        "# para cada coluna categórica\n",
        "for col in Cat_Colums:\n",
        "# aplica o label encoder\n",
        "    label = LabelEncoder()\n",
        "# transforma os dados\n",
        "    Features[col] = label.fit_transform(Features[col])"
      ],
      "execution_count": null,
      "outputs": []
    },
    {
      "cell_type": "markdown",
      "metadata": {
        "id": "DQNwpUIvncxK"
      },
      "source": [
        "**Visualização das features tranformadas**"
      ]
    },
    {
      "cell_type": "code",
      "metadata": {
        "id": "7OaH9M1pncxM",
        "outputId": "4c7db0cc-4160-4e37-8c96-014143486cb5"
      },
      "source": [
        "Features.head()"
      ],
      "execution_count": null,
      "outputs": [
        {
          "output_type": "execute_result",
          "data": {
            "text/html": [
              "<div>\n",
              "<style scoped>\n",
              "    .dataframe tbody tr th:only-of-type {\n",
              "        vertical-align: middle;\n",
              "    }\n",
              "\n",
              "    .dataframe tbody tr th {\n",
              "        vertical-align: top;\n",
              "    }\n",
              "\n",
              "    .dataframe thead th {\n",
              "        text-align: right;\n",
              "    }\n",
              "</style>\n",
              "<table border=\"1\" class=\"dataframe\">\n",
              "  <thead>\n",
              "    <tr style=\"text-align: right;\">\n",
              "      <th></th>\n",
              "      <th>gender</th>\n",
              "      <th>NationalITy</th>\n",
              "      <th>PlaceofBirth</th>\n",
              "      <th>StageID</th>\n",
              "      <th>GradeID</th>\n",
              "      <th>SectionID</th>\n",
              "      <th>Topic</th>\n",
              "      <th>Semester</th>\n",
              "      <th>Relation</th>\n",
              "      <th>raisedhands</th>\n",
              "      <th>VisITedResources</th>\n",
              "      <th>AnnouncementsView</th>\n",
              "      <th>Discussion</th>\n",
              "      <th>ParentAnsweringSurvey</th>\n",
              "      <th>ParentschoolSatisfaction</th>\n",
              "      <th>StudentAbsenceDays</th>\n",
              "      <th>Class</th>\n",
              "    </tr>\n",
              "  </thead>\n",
              "  <tbody>\n",
              "    <tr>\n",
              "      <th>0</th>\n",
              "      <td>1</td>\n",
              "      <td>4</td>\n",
              "      <td>4</td>\n",
              "      <td>2</td>\n",
              "      <td>1</td>\n",
              "      <td>0</td>\n",
              "      <td>7</td>\n",
              "      <td>0</td>\n",
              "      <td>0</td>\n",
              "      <td>15</td>\n",
              "      <td>16</td>\n",
              "      <td>2</td>\n",
              "      <td>20</td>\n",
              "      <td>1</td>\n",
              "      <td>1</td>\n",
              "      <td>1</td>\n",
              "      <td>2</td>\n",
              "    </tr>\n",
              "    <tr>\n",
              "      <th>1</th>\n",
              "      <td>1</td>\n",
              "      <td>4</td>\n",
              "      <td>4</td>\n",
              "      <td>2</td>\n",
              "      <td>1</td>\n",
              "      <td>0</td>\n",
              "      <td>7</td>\n",
              "      <td>0</td>\n",
              "      <td>0</td>\n",
              "      <td>20</td>\n",
              "      <td>20</td>\n",
              "      <td>3</td>\n",
              "      <td>25</td>\n",
              "      <td>1</td>\n",
              "      <td>1</td>\n",
              "      <td>1</td>\n",
              "      <td>2</td>\n",
              "    </tr>\n",
              "    <tr>\n",
              "      <th>2</th>\n",
              "      <td>1</td>\n",
              "      <td>4</td>\n",
              "      <td>4</td>\n",
              "      <td>2</td>\n",
              "      <td>1</td>\n",
              "      <td>0</td>\n",
              "      <td>7</td>\n",
              "      <td>0</td>\n",
              "      <td>0</td>\n",
              "      <td>10</td>\n",
              "      <td>7</td>\n",
              "      <td>0</td>\n",
              "      <td>30</td>\n",
              "      <td>0</td>\n",
              "      <td>0</td>\n",
              "      <td>0</td>\n",
              "      <td>1</td>\n",
              "    </tr>\n",
              "    <tr>\n",
              "      <th>3</th>\n",
              "      <td>1</td>\n",
              "      <td>4</td>\n",
              "      <td>4</td>\n",
              "      <td>2</td>\n",
              "      <td>1</td>\n",
              "      <td>0</td>\n",
              "      <td>7</td>\n",
              "      <td>0</td>\n",
              "      <td>0</td>\n",
              "      <td>30</td>\n",
              "      <td>25</td>\n",
              "      <td>5</td>\n",
              "      <td>35</td>\n",
              "      <td>0</td>\n",
              "      <td>0</td>\n",
              "      <td>0</td>\n",
              "      <td>1</td>\n",
              "    </tr>\n",
              "    <tr>\n",
              "      <th>4</th>\n",
              "      <td>1</td>\n",
              "      <td>4</td>\n",
              "      <td>4</td>\n",
              "      <td>2</td>\n",
              "      <td>1</td>\n",
              "      <td>0</td>\n",
              "      <td>7</td>\n",
              "      <td>0</td>\n",
              "      <td>0</td>\n",
              "      <td>40</td>\n",
              "      <td>50</td>\n",
              "      <td>12</td>\n",
              "      <td>50</td>\n",
              "      <td>0</td>\n",
              "      <td>0</td>\n",
              "      <td>0</td>\n",
              "      <td>2</td>\n",
              "    </tr>\n",
              "  </tbody>\n",
              "</table>\n",
              "</div>"
            ],
            "text/plain": [
              "   gender  NationalITy  PlaceofBirth  StageID  GradeID  SectionID  Topic  \\\n",
              "0       1            4             4        2        1          0      7   \n",
              "1       1            4             4        2        1          0      7   \n",
              "2       1            4             4        2        1          0      7   \n",
              "3       1            4             4        2        1          0      7   \n",
              "4       1            4             4        2        1          0      7   \n",
              "\n",
              "   Semester  Relation  raisedhands  VisITedResources  AnnouncementsView  \\\n",
              "0         0         0           15                16                  2   \n",
              "1         0         0           20                20                  3   \n",
              "2         0         0           10                 7                  0   \n",
              "3         0         0           30                25                  5   \n",
              "4         0         0           40                50                 12   \n",
              "\n",
              "   Discussion  ParentAnsweringSurvey  ParentschoolSatisfaction  \\\n",
              "0          20                      1                         1   \n",
              "1          25                      1                         1   \n",
              "2          30                      0                         0   \n",
              "3          35                      0                         0   \n",
              "4          50                      0                         0   \n",
              "\n",
              "   StudentAbsenceDays  Class  \n",
              "0                   1      2  \n",
              "1                   1      2  \n",
              "2                   0      1  \n",
              "3                   0      1  \n",
              "4                   0      2  "
            ]
          },
          "metadata": {
            "tags": []
          },
          "execution_count": 7
        }
      ]
    },
    {
      "cell_type": "markdown",
      "metadata": {
        "id": "arUSaZlbncxR"
      },
      "source": [
        "# 2. Machine Learning"
      ]
    },
    {
      "cell_type": "markdown",
      "metadata": {
        "id": "Mfw9ENR8ncxS"
      },
      "source": [
        "**Dividindo os dados em treino e teste**"
      ]
    },
    {
      "cell_type": "code",
      "metadata": {
        "id": "EROhZvMBncxT"
      },
      "source": [
        "from sklearn.model_selection import train_test_split\n",
        "X_train, X_test, y_train, y_test = train_test_split(df_edu.drop('Class',1),df_edu['Class'],test_size=0.3,random_state=0)"
      ],
      "execution_count": null,
      "outputs": []
    },
    {
      "cell_type": "markdown",
      "metadata": {
        "id": "5FoEa_aancxX"
      },
      "source": [
        "**Verificando a forma dos dados de X**"
      ]
    },
    {
      "cell_type": "code",
      "metadata": {
        "id": "EST7Lw5RncxZ",
        "outputId": "1da67cf6-c0fd-4af4-d52d-e63f96b9b7b1"
      },
      "source": [
        "X_train.shape,X_test.shape"
      ],
      "execution_count": null,
      "outputs": [
        {
          "output_type": "execute_result",
          "data": {
            "text/plain": [
              "((336, 16), (144, 16))"
            ]
          },
          "metadata": {
            "tags": []
          },
          "execution_count": 9
        }
      ]
    },
    {
      "cell_type": "markdown",
      "metadata": {
        "id": "4vnvb3gIncxd"
      },
      "source": [
        "**Verificando a forma dos dados de y**\n"
      ]
    },
    {
      "cell_type": "code",
      "metadata": {
        "id": "F4_ugtJ9ncxe",
        "outputId": "f6be70ea-0c93-4b4f-c689-8687938dd1b7"
      },
      "source": [
        "y_train.shape,y_test.shape"
      ],
      "execution_count": null,
      "outputs": [
        {
          "output_type": "execute_result",
          "data": {
            "text/plain": [
              "((336,), (144,))"
            ]
          },
          "metadata": {
            "tags": []
          },
          "execution_count": 10
        }
      ]
    },
    {
      "cell_type": "markdown",
      "metadata": {
        "id": "6qXCpUZ1ncxk"
      },
      "source": [
        "**Instanciando o classificador**"
      ]
    },
    {
      "cell_type": "code",
      "metadata": {
        "id": "XtSRagKfncxl"
      },
      "source": [
        "random_clf = RandomForestClassifier()"
      ],
      "execution_count": null,
      "outputs": []
    },
    {
      "cell_type": "markdown",
      "metadata": {
        "id": "3ngYMX-fncxn"
      },
      "source": [
        "**Treinando o random forest**"
      ]
    },
    {
      "cell_type": "code",
      "metadata": {
        "id": "_8sjV6Dlncxo",
        "outputId": "9b39b76f-cdca-43bb-c2e9-b32159b3bded"
      },
      "source": [
        "random_clf.fit(X_train,y_train)"
      ],
      "execution_count": null,
      "outputs": [
        {
          "output_type": "execute_result",
          "data": {
            "text/plain": [
              "RandomForestClassifier()"
            ]
          },
          "metadata": {
            "tags": []
          },
          "execution_count": 12
        }
      ]
    },
    {
      "cell_type": "markdown",
      "metadata": {
        "id": "LiF3H6Hyncxt"
      },
      "source": [
        "**Predizendo**"
      ]
    },
    {
      "cell_type": "code",
      "metadata": {
        "id": "FOJkXs3Yncxu",
        "outputId": "e77c710e-f26c-4345-b10e-8456dbe27f1e"
      },
      "source": [
        "resultado = random_clf.predict(X_test)\n",
        "resultado"
      ],
      "execution_count": null,
      "outputs": [
        {
          "output_type": "execute_result",
          "data": {
            "text/plain": [
              "array([2, 1, 1, 2, 2, 2, 0, 1, 1, 1, 0, 2, 0, 1, 2, 2, 0, 1, 1, 0, 1, 0,\n",
              "       2, 2, 2, 2, 2, 2, 2, 1, 2, 1, 0, 2, 2, 2, 0, 0, 2, 2, 2, 1, 0, 0,\n",
              "       2, 2, 0, 2, 1, 2, 2, 2, 0, 1, 0, 2, 1, 1, 2, 2, 2, 2, 0, 0, 0, 2,\n",
              "       1, 2, 1, 1, 1, 1, 0, 1, 0, 1, 0, 1, 2, 1, 0, 2, 0, 1, 1, 0, 2, 0,\n",
              "       2, 0, 2, 0, 0, 0, 2, 2, 1, 2, 1, 2, 1, 0, 2, 1, 2, 0, 2, 0, 1, 2,\n",
              "       1, 2, 1, 1, 0, 2, 2, 2, 2, 0, 2, 2, 2, 2, 2, 2, 2, 2, 1, 2, 2, 1,\n",
              "       0, 1, 2, 0, 2, 2, 2, 0, 2, 2, 2, 0])"
            ]
          },
          "metadata": {
            "tags": []
          },
          "execution_count": 13
        }
      ]
    },
    {
      "cell_type": "markdown",
      "metadata": {
        "id": "2OKSpYrencxy"
      },
      "source": [
        "# 3. Validação"
      ]
    },
    {
      "cell_type": "markdown",
      "metadata": {
        "id": "10Z2-1OUncxy"
      },
      "source": [
        "**Métricas**"
      ]
    },
    {
      "cell_type": "code",
      "metadata": {
        "id": "b4eUyJxQncx0",
        "outputId": "96d58b92-fdf5-4d96-ba00-fe155d96ff0c"
      },
      "source": [
        "from sklearn import metrics\n",
        "print(metrics.classification_report(y_test,resultado))"
      ],
      "execution_count": null,
      "outputs": [
        {
          "output_type": "stream",
          "text": [
            "              precision    recall  f1-score   support\n",
            "\n",
            "           0       0.73      0.69      0.71        39\n",
            "           1       0.79      0.88      0.83        34\n",
            "           2       0.77      0.75      0.76        71\n",
            "\n",
            "    accuracy                           0.76       144\n",
            "   macro avg       0.76      0.77      0.77       144\n",
            "weighted avg       0.76      0.76      0.76       144\n",
            "\n"
          ],
          "name": "stdout"
        }
      ]
    },
    {
      "cell_type": "markdown",
      "metadata": {
        "id": "hSZ17eMuncx3"
      },
      "source": [
        "**Verificando as features mais importantes para o modelo treinado**"
      ]
    },
    {
      "cell_type": "code",
      "metadata": {
        "id": "Oi_qBUG4ncx4",
        "outputId": "83c00cc2-639e-4787-9c94-2c39d1c4c68f"
      },
      "source": [
        "random_clf.feature_importances_"
      ],
      "execution_count": null,
      "outputs": [
        {
          "output_type": "execute_result",
          "data": {
            "text/plain": [
              "array([0.02458877, 0.03398245, 0.03301798, 0.01654252, 0.03287355,\n",
              "       0.02071443, 0.04254998, 0.01198671, 0.04693724, 0.15151841,\n",
              "       0.18062436, 0.12751816, 0.08050877, 0.03957508, 0.02152531,\n",
              "       0.13553628])"
            ]
          },
          "metadata": {
            "tags": []
          },
          "execution_count": 15
        }
      ]
    },
    {
      "cell_type": "markdown",
      "metadata": {
        "id": "QSCDCbYancx7"
      },
      "source": [
        "**Listando como uma series pandas as features importantes**"
      ]
    },
    {
      "cell_type": "code",
      "metadata": {
        "id": "RjGcmf7uncx9",
        "outputId": "5a73bb1b-15c2-432b-f2dd-e8c512c6efe7"
      },
      "source": [
        "feature_imp = pd.Series(random_clf.feature_importances_,index=X_train.columns).sort_values(ascending=False)\n",
        "feature_imp"
      ],
      "execution_count": null,
      "outputs": [
        {
          "output_type": "execute_result",
          "data": {
            "text/plain": [
              "VisITedResources            0.180624\n",
              "raisedhands                 0.151518\n",
              "StudentAbsenceDays          0.135536\n",
              "AnnouncementsView           0.127518\n",
              "Discussion                  0.080509\n",
              "Relation                    0.046937\n",
              "Topic                       0.042550\n",
              "ParentAnsweringSurvey       0.039575\n",
              "NationalITy                 0.033982\n",
              "PlaceofBirth                0.033018\n",
              "GradeID                     0.032874\n",
              "gender                      0.024589\n",
              "ParentschoolSatisfaction    0.021525\n",
              "SectionID                   0.020714\n",
              "StageID                     0.016543\n",
              "Semester                    0.011987\n",
              "dtype: float64"
            ]
          },
          "metadata": {
            "tags": []
          },
          "execution_count": 16
        }
      ]
    },
    {
      "cell_type": "markdown",
      "metadata": {
        "id": "irO-tLtencyB"
      },
      "source": [
        "# 4. Visualização Gráfica das Features Mais Importantes"
      ]
    },
    {
      "cell_type": "markdown",
      "metadata": {
        "id": "gzrAPaMFncyD"
      },
      "source": [
        "**Criando função para visualizar Features importantes**"
      ]
    },
    {
      "cell_type": "code",
      "metadata": {
        "id": "ifB1cATancyD"
      },
      "source": [
        "def visualiza_features_importantes(features_lista):\n",
        "    %matplotlib inline\n",
        "\n",
        "    plt.figure(figsize=(16,8))\n",
        "    sns.barplot(x=features_lista, y=features_lista.index)\n",
        "\n",
        "    plt.xlabel('Feature Importance Score')\n",
        "    plt.ylabel('Features')\n",
        "    plt.title(\"Visualizing Important Features\")\n",
        "    plt.show()"
      ],
      "execution_count": null,
      "outputs": []
    },
    {
      "cell_type": "markdown",
      "metadata": {
        "id": "fgd2t3K_ncyG"
      },
      "source": [
        "**Visualizando**"
      ]
    },
    {
      "cell_type": "code",
      "metadata": {
        "id": "2tZZvtMFncyH",
        "outputId": "e1efaf79-6c83-40aa-c158-02d994dc07f4"
      },
      "source": [
        "visualiza_features_importantes(feature_imp)"
      ],
      "execution_count": null,
      "outputs": [
        {
          "output_type": "display_data",
          "data": {
            "image/png": "[encoded data removed]",
            "text/plain": [
              "<Figure size 1152x576 with 1 Axes>"
            ]
          },
          "metadata": {
            "tags": [],
            "needs_background": "light"
          }
        }
      ]
    },
    {
      "cell_type": "markdown",
      "metadata": {
        "id": "J5l45vb3ncyL"
      },
      "source": [
        "# 5. Selecionando Features Mais Importantes\n",
        "Teoricamente, utilizando apenas as features mais importantes traz uma maior precisão ao algoritmo."
      ]
    },
    {
      "cell_type": "markdown",
      "metadata": {
        "id": "30mdsONBncyL"
      },
      "source": [
        "**Selecionando as features mais importantes**"
      ]
    },
    {
      "cell_type": "code",
      "metadata": {
        "id": "ZA2QTBixncyL",
        "outputId": "937de4cf-c08a-4a45-fb9a-c4dd660ddb8b"
      },
      "source": [
        "features_selecionadas = []\n",
        "for feature,importancia in feature_imp.iteritems(): # iteritems para iterar sobre cada item da serie\n",
        "    if importancia > 0.03:\n",
        "        print(\"{}:\\t{}\".format(feature, importancia))\n",
        "        features_selecionadas.append(feature)"
      ],
      "execution_count": null,
      "outputs": [
        {
          "output_type": "stream",
          "text": [
            "VisITedResources:\t0.18062435639281876\n",
            "raisedhands:\t0.15151840928633187\n",
            "StudentAbsenceDays:\t0.13553628418007704\n",
            "AnnouncementsView:\t0.12751816201107408\n",
            "Discussion:\t0.08050876506997831\n",
            "Relation:\t0.046937237123219976\n",
            "Topic:\t0.04254998136794417\n",
            "ParentAnsweringSurvey:\t0.039575083783052835\n",
            "NationalITy:\t0.03398244879651821\n",
            "PlaceofBirth:\t0.0330179791845841\n",
            "GradeID:\t0.03287354672959236\n"
          ],
          "name": "stdout"
        }
      ]
    },
    {
      "cell_type": "markdown",
      "metadata": {
        "id": "iWtb9KBHncyQ"
      },
      "source": [
        "**Visualização das features mais importantes**"
      ]
    },
    {
      "cell_type": "code",
      "metadata": {
        "id": "NE0qTc8IncyQ",
        "outputId": "3b812ccc-e4d4-4f6c-e1e7-192582618112"
      },
      "source": [
        "features_selecionadas"
      ],
      "execution_count": null,
      "outputs": [
        {
          "output_type": "execute_result",
          "data": {
            "text/plain": [
              "['VisITedResources',\n",
              " 'raisedhands',\n",
              " 'StudentAbsenceDays',\n",
              " 'AnnouncementsView',\n",
              " 'Discussion',\n",
              " 'Relation',\n",
              " 'Topic',\n",
              " 'ParentAnsweringSurvey',\n",
              " 'NationalITy',\n",
              " 'PlaceofBirth',\n",
              " 'GradeID']"
            ]
          },
          "metadata": {
            "tags": []
          },
          "execution_count": 20
        }
      ]
    },
    {
      "cell_type": "markdown",
      "metadata": {
        "id": "rBQdGRI-ncyU"
      },
      "source": [
        "# 6. Machine Learning com Features Selecionadas"
      ]
    },
    {
      "cell_type": "markdown",
      "metadata": {
        "id": "uYuh8flYncyV"
      },
      "source": [
        "**Separando os dados em treino e teste utilizando apenas as features selecionadas**"
      ]
    },
    {
      "cell_type": "code",
      "metadata": {
        "id": "LfSKWP0TncyW"
      },
      "source": [
        "X_train, X_test, y_train, y_test = train_test_split(\n",
        "    df_edu[features_selecionadas],\n",
        "    df_edu['Class'],\n",
        "    test_size=0.3,\n",
        "    random_state=0\n",
        ")"
      ],
      "execution_count": null,
      "outputs": []
    },
    {
      "cell_type": "markdown",
      "metadata": {
        "id": "pH-03hM2ncyZ"
      },
      "source": [
        "**Novas forma dos dados em X e y**"
      ]
    },
    {
      "cell_type": "code",
      "metadata": {
        "id": "WIuxwOg1ncyZ",
        "outputId": "37f9c168-1ab9-4eb8-fd32-d4ba4693faac"
      },
      "source": [
        "X_train.shape,X_test.shape, y_train.shape,y_test.shape"
      ],
      "execution_count": null,
      "outputs": [
        {
          "output_type": "execute_result",
          "data": {
            "text/plain": [
              "((336, 11), (144, 11), (336,), (144,))"
            ]
          },
          "metadata": {
            "tags": []
          },
          "execution_count": 22
        }
      ]
    },
    {
      "cell_type": "markdown",
      "metadata": {
        "id": "sfipN9s6ncyd"
      },
      "source": [
        "**Instanciando o classificador**"
      ]
    },
    {
      "cell_type": "code",
      "metadata": {
        "id": "RcTum3jTncye",
        "outputId": "65f29b8a-0aee-4b40-a65a-961ddfbd96f1"
      },
      "source": [
        "# instanciando o classificador\n",
        "random_clf = RandomForestClassifier(random_state=0)\n",
        "# Treinando novamente o modelo Random Forest\n",
        "random_clf.fit(X_train,y_train)"
      ],
      "execution_count": null,
      "outputs": [
        {
          "output_type": "execute_result",
          "data": {
            "text/plain": [
              "RandomForestClassifier(random_state=0)"
            ]
          },
          "metadata": {
            "tags": []
          },
          "execution_count": 23
        }
      ]
    },
    {
      "cell_type": "markdown",
      "metadata": {
        "id": "6NJzR75Fncyh"
      },
      "source": [
        "**Executando o algoritmo**"
      ]
    },
    {
      "cell_type": "code",
      "metadata": {
        "scrolled": true,
        "id": "4pHXnjg5ncyi",
        "outputId": "6e9f8d66-526c-42d9-80f7-8f51aac02cb3"
      },
      "source": [
        "resultado = random_clf.predict(X_test)\n",
        "resultado"
      ],
      "execution_count": null,
      "outputs": [
        {
          "output_type": "execute_result",
          "data": {
            "text/plain": [
              "array([2, 1, 1, 2, 2, 2, 0, 1, 1, 1, 0, 2, 0, 1, 2, 0, 0, 1, 1, 0, 1, 0,\n",
              "       2, 2, 2, 0, 0, 2, 2, 1, 2, 1, 0, 2, 2, 2, 0, 0, 2, 2, 2, 1, 0, 0,\n",
              "       2, 2, 0, 2, 1, 2, 2, 2, 0, 1, 0, 2, 1, 1, 2, 2, 2, 2, 0, 0, 0, 2,\n",
              "       1, 0, 1, 1, 1, 1, 0, 1, 0, 1, 2, 1, 2, 1, 0, 2, 2, 1, 1, 0, 2, 0,\n",
              "       2, 0, 2, 0, 0, 0, 2, 2, 1, 0, 1, 0, 1, 2, 2, 1, 2, 0, 1, 0, 1, 2,\n",
              "       1, 1, 1, 1, 0, 2, 1, 2, 2, 0, 2, 2, 2, 2, 2, 2, 2, 2, 1, 2, 0, 1,\n",
              "       0, 1, 2, 0, 2, 2, 2, 0, 2, 2, 2, 0])"
            ]
          },
          "metadata": {
            "tags": []
          },
          "execution_count": 24
        }
      ]
    },
    {
      "cell_type": "markdown",
      "metadata": {
        "id": "d9rAMbCUncyk"
      },
      "source": [
        "# 7. Validação do Novo Modelo"
      ]
    },
    {
      "cell_type": "markdown",
      "metadata": {
        "id": "BsZ_6xVSncyl"
      },
      "source": [
        "**Métricas**"
      ]
    },
    {
      "cell_type": "code",
      "metadata": {
        "id": "HRz6rrQzncym",
        "outputId": "b9d5bed9-3725-4abc-8b26-ca3248148e52"
      },
      "source": [
        "from sklearn import metrics\n",
        "print(metrics.classification_report(y_test,resultado))"
      ],
      "execution_count": null,
      "outputs": [
        {
          "output_type": "stream",
          "text": [
            "              precision    recall  f1-score   support\n",
            "\n",
            "           0       0.71      0.74      0.72        39\n",
            "           1       0.80      0.97      0.88        34\n",
            "           2       0.82      0.72      0.77        71\n",
            "\n",
            "    accuracy                           0.78       144\n",
            "   macro avg       0.78      0.81      0.79       144\n",
            "weighted avg       0.79      0.78      0.78       144\n",
            "\n"
          ],
          "name": "stdout"
        }
      ]
    },
    {
      "cell_type": "markdown",
      "metadata": {
        "id": "HpdirgMtncyp"
      },
      "source": [
        "Perceba que, **nesse caso** os resultados não sofreram alterações muito grande.\n",
        "Nesse caso houve uma piora, embora pequena nos resultados, contudo esse trabalho é necessário e **dever do cientista de dados** não apenas fazer esse trabalho, mas outros também, afinal a *skill* mais negligenciada pelos aspirantes é justamente a análise científica."
      ]
    },
    {
      "cell_type": "markdown",
      "metadata": {
        "id": "MKQVi_CBncyq"
      },
      "source": [
        "# 8. Exploração das Àrvores Geradas pelo Random Forest\n",
        "\n",
        "* Apenas para fins didáticos, por isso a exploração em baixo nível"
      ]
    },
    {
      "cell_type": "code",
      "metadata": {
        "id": "PHLxabaZncyq",
        "outputId": "54b927b6-7d39-44c9-f17d-703ac9550ab7"
      },
      "source": [
        "# random_clf é o próprio clf -> RandomForestClassifier(random_state=0)\n",
        "# aqui estão sendo explorados seus atributos internos\n",
        "print(\"Número de árvores da floresta: {}\".format(len(random_clf.estimators_))) \n",
        "print(\"Árvores floresta gerada:\")\n",
        "for tree in random_clf.estimators_: # cada estimator são os atributos de uma árvore\n",
        "    print(\"\\nNumero de nós: {}\".format(tree.tree_.node_count)) # contagem de nós\n",
        "    print(\"Profundidade da árvore: {}\".format(tree.tree_.max_depth)) # profundidade\n",
        "    print(\"Features importantes: {}\".format(tree.feature_importances_)) # features importantes\n",
        "    print(\"\\nObjeto: {}\".format(tree)) #  árvore de decisão"
      ],
      "execution_count": null,
      "outputs": [
        {
          "output_type": "stream",
          "text": [
            "Número de árvores da floresta: 100\n",
            "Árvores floresta gerada:\n",
            "\n",
            "Numero de nós: 129\n",
            "Profundidade da árvore: 10\n",
            "Features importantes: [0.11895918 0.12259911 0.24943917 0.16860482 0.03363919 0.11104068\n",
            " 0.04108677 0.02272275 0.06214498 0.04186641 0.02789694]\n",
            "\n",
            "Objeto: DecisionTreeClassifier(max_features='auto', random_state=209652396)\n",
            "\n",
            "Numero de nós: 145\n",
            "Profundidade da árvore: 13\n",
            "Features importantes: [0.18743742 0.13851179 0.2063414  0.11401743 0.07692714 0.04593486\n",
            " 0.0450154  0.10337816 0.03712027 0.00555616 0.03975997]\n",
            "\n",
            "Objeto: DecisionTreeClassifier(max_features='auto', random_state=398764591)\n",
            "\n",
            "Numero de nós: 131\n",
            "Profundidade da árvore: 11\n",
            "Features importantes: [0.15991407 0.26500606 0.12876987 0.11377067 0.07194653 0.06034198\n",
            " 0.0310358  0.07299361 0.02018279 0.05667728 0.01936133]\n",
            "\n",
            "Objeto: DecisionTreeClassifier(max_features='auto', random_state=924231285)\n",
            "\n",
            "Numero de nós: 155\n",
            "Profundidade da árvore: 14\n",
            "Features importantes: [0.06936183 0.09971875 0.11486328 0.07542495 0.18796492 0.10942102\n",
            " 0.05028744 0.07466326 0.06785632 0.11771094 0.03272727]\n",
            "\n",
            "Objeto: DecisionTreeClassifier(max_features='auto', random_state=1478610112)\n",
            "\n",
            "Numero de nós: 167\n",
            "Profundidade da árvore: 13\n",
            "Features importantes: [0.37308766 0.15818146 0.08981344 0.09389533 0.11087545 0.02457037\n",
            " 0.03313113 0.01147547 0.02907192 0.02040458 0.05549318]\n",
            "\n",
            "Objeto: DecisionTreeClassifier(max_features='auto', random_state=441365315)\n",
            "\n",
            "Numero de nós: 143\n",
            "Profundidade da árvore: 11\n",
            "Features importantes: [0.16171384 0.12629606 0.10407378 0.15570152 0.13214032 0.11220711\n",
            " 0.07038441 0.04076247 0.05375386 0.02367054 0.01929607]\n",
            "\n",
            "Objeto: DecisionTreeClassifier(max_features='auto', random_state=1537364731)\n",
            "\n",
            "Numero de nós: 121\n",
            "Profundidade da árvore: 13\n",
            "Features importantes: [0.25164372 0.12321233 0.25579747 0.09539188 0.06274939 0.03689447\n",
            " 0.03039656 0.0371996  0.03197796 0.03113552 0.04360111]\n",
            "\n",
            "Objeto: DecisionTreeClassifier(max_features='auto', random_state=192771779)\n",
            "\n",
            "Numero de nós: 139\n",
            "Profundidade da árvore: 11\n",
            "Features importantes: [0.18090041 0.15591562 0.06025908 0.26213036 0.09515204 0.07580797\n",
            " 0.03066801 0.03356954 0.05036185 0.         0.05523513]\n",
            "\n",
            "Objeto: DecisionTreeClassifier(max_features='auto', random_state=1491434855)\n",
            "\n",
            "Numero de nós: 131\n",
            "Profundidade da árvore: 11\n",
            "Features importantes: [0.10023935 0.09044612 0.19167941 0.15744046 0.06477369 0.07565546\n",
            " 0.06150812 0.12904703 0.0550244  0.02403805 0.05014792]\n",
            "\n",
            "Objeto: DecisionTreeClassifier(max_features='auto', random_state=1819583497)\n",
            "\n",
            "Numero de nós: 135\n",
            "Profundidade da árvore: 11\n",
            "Features importantes: [0.30777099 0.15273513 0.09600073 0.14256737 0.08144436 0.05209563\n",
            " 0.04281735 0.04471028 0.03312655 0.02302371 0.02370789]\n",
            "\n",
            "Objeto: DecisionTreeClassifier(max_features='auto', random_state=530702035)\n",
            "\n",
            "Numero de nós: 125\n",
            "Profundidade da árvore: 11\n",
            "Features importantes: [0.13117745 0.40254148 0.0408574  0.09600862 0.05316452 0.02366603\n",
            " 0.08939673 0.04216176 0.02374731 0.07729294 0.01998577]\n",
            "\n",
            "Objeto: DecisionTreeClassifier(max_features='auto', random_state=626610453)\n",
            "\n",
            "Numero de nós: 137\n",
            "Profundidade da árvore: 11\n",
            "Features importantes: [0.11217644 0.13789096 0.23147511 0.13665407 0.09741881 0.08287183\n",
            " 0.04865381 0.02254524 0.05408202 0.0139097  0.06232201]\n",
            "\n",
            "Objeto: DecisionTreeClassifier(max_features='auto', random_state=1650906866)\n",
            "\n",
            "Numero de nós: 151\n",
            "Profundidade da árvore: 12\n",
            "Features importantes: [0.18780856 0.23200463 0.09343315 0.06764165 0.07212    0.16409828\n",
            " 0.03087072 0.02460267 0.07175273 0.01131965 0.04434797]\n",
            "\n",
            "Objeto: DecisionTreeClassifier(max_features='auto', random_state=1879422756)\n",
            "\n",
            "Numero de nós: 151\n",
            "Profundidade da árvore: 12\n",
            "Features importantes: [0.10509156 0.30082423 0.12030624 0.10010036 0.08292763 0.05737597\n",
            " 0.03107798 0.04180791 0.03547393 0.07205402 0.05296017]\n",
            "\n",
            "Objeto: DecisionTreeClassifier(max_features='auto', random_state=1277901399)\n",
            "\n",
            "Numero de nós: 153\n",
            "Profundidade da árvore: 12\n",
            "Features importantes: [0.30390488 0.11266551 0.15578748 0.12149013 0.07184488 0.03078937\n",
            " 0.05116924 0.03422819 0.05124698 0.02906927 0.03780407]\n",
            "\n",
            "Objeto: DecisionTreeClassifier(max_features='auto', random_state=1682652230)\n",
            "\n",
            "Numero de nós: 133\n",
            "Profundidade da árvore: 14\n",
            "Features importantes: [0.13043596 0.1331608  0.25091785 0.07204871 0.04876497 0.10129812\n",
            " 0.07460975 0.0624383  0.02634363 0.04740796 0.05257395]\n",
            "\n",
            "Objeto: DecisionTreeClassifier(max_features='auto', random_state=243580376)\n",
            "\n",
            "Numero de nós: 137\n",
            "Profundidade da árvore: 13\n",
            "Features importantes: [0.1617696  0.09305699 0.10011249 0.18512178 0.08598995 0.12872206\n",
            " 0.04265541 0.04896089 0.06971242 0.05476192 0.02913648]\n",
            "\n",
            "Objeto: DecisionTreeClassifier(max_features='auto', random_state=1991416408)\n",
            "\n",
            "Numero de nós: 129\n",
            "Profundidade da árvore: 12\n",
            "Features importantes: [0.09789331 0.27370559 0.23764605 0.07383488 0.10841895 0.03346982\n",
            " 0.08866788 0.016673   0.01739428 0.03068057 0.02161568]\n",
            "\n",
            "Objeto: DecisionTreeClassifier(max_features='auto', random_state=1171049868)\n",
            "\n",
            "Numero de nós: 149\n",
            "Profundidade da árvore: 10\n",
            "Features importantes: [0.14590574 0.2621626  0.13885175 0.05213073 0.11898226 0.03649972\n",
            " 0.03042916 0.06347507 0.0486406  0.04951229 0.05341008]\n",
            "\n",
            "Objeto: DecisionTreeClassifier(max_features='auto', random_state=1646868794)\n",
            "\n",
            "Numero de nós: 151\n",
            "Profundidade da árvore: 10\n",
            "Features importantes: [0.10573227 0.32771863 0.07434778 0.11496614 0.09951063 0.0284088\n",
            " 0.01464409 0.09192228 0.04690708 0.02748801 0.06835428]\n",
            "\n",
            "Objeto: DecisionTreeClassifier(max_features='auto', random_state=2051556033)\n",
            "\n",
            "Numero de nós: 143\n",
            "Profundidade da árvore: 14\n",
            "Features importantes: [0.29450721 0.10888883 0.03514734 0.06961534 0.1628188  0.12630935\n",
            " 0.04962432 0.01612813 0.06366424 0.01828464 0.0550118 ]\n",
            "\n",
            "Objeto: DecisionTreeClassifier(max_features='auto', random_state=1252949478)\n",
            "\n",
            "Numero de nós: 149\n",
            "Profundidade da árvore: 12\n",
            "Features importantes: [0.11185845 0.16336477 0.07592941 0.24517669 0.06713717 0.07030075\n",
            " 0.07515873 0.04070246 0.03605768 0.05162969 0.06268421]\n",
            "\n",
            "Objeto: DecisionTreeClassifier(max_features='auto', random_state=1340754471)\n",
            "\n",
            "Numero de nós: 143\n",
            "Profundidade da árvore: 13\n",
            "Features importantes: [0.27678384 0.14174322 0.10484871 0.16629852 0.06608231 0.06774503\n",
            " 0.07165965 0.0052533  0.05483265 0.02872857 0.01602421]\n",
            "\n",
            "Objeto: DecisionTreeClassifier(max_features='auto', random_state=124102743)\n",
            "\n",
            "Numero de nós: 155\n",
            "Profundidade da árvore: 12\n",
            "Features importantes: [0.13012236 0.15675129 0.13111279 0.2519392  0.0744454  0.04007166\n",
            " 0.05420351 0.02323314 0.06139347 0.01661513 0.06011205]\n",
            "\n",
            "Objeto: DecisionTreeClassifier(max_features='auto', random_state=2061486254)\n",
            "\n",
            "Numero de nós: 131\n",
            "Profundidade da árvore: 13\n",
            "Features importantes: [0.21639418 0.12352959 0.2125042  0.09270015 0.12619355 0.01265409\n",
            " 0.05121527 0.04545357 0.06907257 0.01928634 0.03099648]\n",
            "\n",
            "Objeto: DecisionTreeClassifier(max_features='auto', random_state=292249176)\n",
            "\n",
            "Numero de nós: 129\n",
            "Profundidade da árvore: 13\n",
            "Features importantes: [0.23611444 0.10341315 0.27838206 0.09425711 0.10946696 0.00827349\n",
            " 0.09176045 0.02212988 0.04757903 0.00235678 0.00626665]\n",
            "\n",
            "Objeto: DecisionTreeClassifier(max_features='auto', random_state=1686997841)\n",
            "\n",
            "Numero de nós: 151\n",
            "Profundidade da árvore: 12\n",
            "Features importantes: [0.12941493 0.13684762 0.1285002  0.1689734  0.11271956 0.11667862\n",
            " 0.07310604 0.04003535 0.01891283 0.03212894 0.04268251]\n",
            "\n",
            "Objeto: DecisionTreeClassifier(max_features='auto', random_state=1827923621)\n",
            "\n",
            "Numero de nós: 141\n",
            "Profundidade da árvore: 13\n",
            "Features importantes: [0.20820171 0.17739341 0.09799211 0.1293218  0.08164242 0.09833484\n",
            " 0.06647222 0.03509351 0.04772368 0.00609292 0.05173138]\n",
            "\n",
            "Objeto: DecisionTreeClassifier(max_features='auto', random_state=1443447321)\n",
            "\n",
            "Numero de nós: 145\n",
            "Profundidade da árvore: 11\n",
            "Features importantes: [0.11233015 0.11926013 0.22991713 0.14160904 0.09521459 0.06213521\n",
            " 0.03269317 0.08170888 0.05137311 0.06343922 0.01031936]\n",
            "\n",
            "Objeto: DecisionTreeClassifier(max_features='auto', random_state=305097549)\n",
            "\n",
            "Numero de nós: 133\n",
            "Profundidade da árvore: 13\n",
            "Features importantes: [0.3320819  0.12733376 0.13356359 0.09472037 0.11285674 0.02422371\n",
            " 0.02845613 0.03733752 0.01699931 0.04818217 0.04424481]\n",
            "\n",
            "Objeto: DecisionTreeClassifier(max_features='auto', random_state=1449105480)\n",
            "\n",
            "Numero de nós: 127\n",
            "Profundidade da árvore: 12\n",
            "Features importantes: [0.12890069 0.18987089 0.1423328  0.28473409 0.06227277 0.00615266\n",
            " 0.04758164 0.01600791 0.03941054 0.03106672 0.0516693 ]\n",
            "\n",
            "Objeto: DecisionTreeClassifier(max_features='auto', random_state=374217481)\n",
            "\n",
            "Numero de nós: 127\n",
            "Profundidade da árvore: 15\n",
            "Features importantes: [0.16287981 0.23089584 0.19868651 0.07957238 0.09798332 0.00840444\n",
            " 0.02108397 0.06591953 0.04900674 0.05165428 0.0339132 ]\n",
            "\n",
            "Objeto: DecisionTreeClassifier(max_features='auto', random_state=636393364)\n",
            "\n",
            "Numero de nós: 139\n",
            "Profundidade da árvore: 13\n",
            "Features importantes: [0.11318714 0.33668995 0.11105869 0.07145137 0.12344946 0.02948934\n",
            " 0.05900156 0.0378619  0.04107784 0.0194832  0.05724954]\n",
            "\n",
            "Objeto: DecisionTreeClassifier(max_features='auto', random_state=86837363)\n",
            "\n",
            "Numero de nós: 137\n",
            "Profundidade da árvore: 10\n",
            "Features importantes: [0.13308131 0.28168601 0.09508512 0.12925386 0.10877481 0.06595481\n",
            " 0.04932185 0.05172783 0.02478313 0.04635958 0.01397167]\n",
            "\n",
            "Objeto: DecisionTreeClassifier(max_features='auto', random_state=1581585360)\n",
            "\n",
            "Numero de nós: 145\n",
            "Profundidade da árvore: 10\n",
            "Features importantes: [0.05660416 0.15831585 0.224876   0.16392159 0.10098843 0.05019439\n",
            " 0.0758394  0.07192731 0.05423137 0.01693304 0.02616846]\n",
            "\n",
            "Objeto: DecisionTreeClassifier(max_features='auto', random_state=1428591347)\n",
            "\n",
            "Numero de nós: 121\n",
            "Profundidade da árvore: 11\n",
            "Features importantes: [0.08170931 0.1072554  0.21049052 0.09657254 0.12157208 0.05612808\n",
            " 0.05919683 0.12059353 0.08131951 0.04241334 0.02274886]\n",
            "\n",
            "Objeto: DecisionTreeClassifier(max_features='auto', random_state=1963466437)\n",
            "\n",
            "Numero de nós: 157\n",
            "Profundidade da árvore: 15\n",
            "Features importantes: [0.17082122 0.15956686 0.22735183 0.08855812 0.06999546 0.05390202\n",
            " 0.0625806  0.07743179 0.01704089 0.05821225 0.01453896]\n",
            "\n",
            "Objeto: DecisionTreeClassifier(max_features='auto', random_state=1194674174)\n",
            "\n",
            "Numero de nós: 121\n",
            "Profundidade da árvore: 12\n",
            "Features importantes: [0.16486156 0.23236685 0.09544766 0.07897898 0.1775004  0.07310085\n",
            " 0.03755662 0.00511988 0.07322369 0.02267292 0.03917059]\n",
            "\n",
            "Objeto: DecisionTreeClassifier(max_features='auto', random_state=602801999)\n",
            "\n",
            "Numero de nós: 157\n",
            "Profundidade da árvore: 11\n",
            "Features importantes: [0.22874668 0.13862726 0.13945071 0.13132053 0.093661   0.08015123\n",
            " 0.02975279 0.04562985 0.01464863 0.04821918 0.04979215]\n",
            "\n",
            "Objeto: DecisionTreeClassifier(max_features='auto', random_state=1589190063)\n",
            "\n",
            "Numero de nós: 117\n",
            "Profundidade da árvore: 9\n",
            "Features importantes: [0.16257038 0.24568677 0.11788746 0.22133147 0.09761068 0.0151486\n",
            " 0.04764456 0.00924321 0.04284155 0.02772964 0.01230569]\n",
            "\n",
            "Objeto: DecisionTreeClassifier(max_features='auto', random_state=1589512640)\n",
            "\n",
            "Numero de nós: 135\n",
            "Profundidade da árvore: 12\n",
            "Features importantes: [0.11452527 0.11320055 0.20102547 0.23821243 0.08481589 0.10848385\n",
            " 0.03410451 0.0119581  0.03592139 0.01435502 0.04339751]\n",
            "\n",
            "Objeto: DecisionTreeClassifier(max_features='auto', random_state=2055650130)\n",
            "\n",
            "Numero de nós: 145\n",
            "Profundidade da árvore: 15\n",
            "Features importantes: [0.27034794 0.16157504 0.09639561 0.13415683 0.09582137 0.03914173\n",
            " 0.0686169  0.02559881 0.05761238 0.00929257 0.04144082]\n",
            "\n",
            "Objeto: DecisionTreeClassifier(max_features='auto', random_state=2034131043)\n",
            "\n",
            "Numero de nós: 117\n",
            "Profundidade da árvore: 11\n",
            "Features importantes: [0.12687142 0.12023666 0.19976072 0.18091117 0.06393447 0.08567927\n",
            " 0.06642445 0.04437623 0.0173323  0.03099325 0.06348007]\n",
            "\n",
            "Objeto: DecisionTreeClassifier(max_features='auto', random_state=1284876248)\n",
            "\n",
            "Numero de nós: 151\n",
            "Profundidade da árvore: 11\n",
            "Features importantes: [0.14118714 0.1550875  0.20070916 0.11630642 0.05314427 0.04353723\n",
            " 0.07014776 0.06925404 0.0247276  0.05770745 0.06819142]\n",
            "\n",
            "Objeto: DecisionTreeClassifier(max_features='auto', random_state=1292401841)\n",
            "\n",
            "Numero de nós: 171\n",
            "Profundidade da árvore: 13\n",
            "Features importantes: [0.23089755 0.21630519 0.15403761 0.06435494 0.08264702 0.03149063\n",
            " 0.07679844 0.01094738 0.05452728 0.02689833 0.05109563]\n",
            "\n",
            "Objeto: DecisionTreeClassifier(max_features='auto', random_state=1982038771)\n",
            "\n",
            "Numero de nós: 149\n",
            "Profundidade da árvore: 11\n",
            "Features importantes: [0.21871587 0.11721666 0.1136345  0.09103079 0.16074121 0.12835146\n",
            " 0.05051474 0.01098368 0.0259365  0.01793256 0.06494203]\n",
            "\n",
            "Objeto: DecisionTreeClassifier(max_features='auto', random_state=87950109)\n",
            "\n",
            "Numero de nós: 131\n",
            "Profundidade da árvore: 18\n",
            "Features importantes: [0.32108452 0.09617478 0.17650097 0.13913128 0.08283571 0.00301619\n",
            " 0.03177344 0.0158637  0.05363802 0.03517741 0.044804  ]\n",
            "\n",
            "Objeto: DecisionTreeClassifier(max_features='auto', random_state=1204863635)\n",
            "\n",
            "Numero de nós: 151\n",
            "Profundidade da árvore: 16\n",
            "Features importantes: [0.12801586 0.28635768 0.1195141  0.11263665 0.03430869 0.0066905\n",
            " 0.03465473 0.08704005 0.10854536 0.02698986 0.05524651]\n",
            "\n",
            "Objeto: DecisionTreeClassifier(max_features='auto', random_state=768281747)\n",
            "\n",
            "Numero de nós: 145\n",
            "Profundidade da árvore: 15\n",
            "Features importantes: [0.2077418  0.20623701 0.19430986 0.10457094 0.05528155 0.02159746\n",
            " 0.04039065 0.08180308 0.01658607 0.02944842 0.04203317]\n",
            "\n",
            "Objeto: DecisionTreeClassifier(max_features='auto', random_state=507984782)\n",
            "\n",
            "Numero de nós: 153\n",
            "Profundidade da árvore: 14\n",
            "Features importantes: [0.2343367  0.19781608 0.08037321 0.10514683 0.14490216 0.03096071\n",
            " 0.0120606  0.04520891 0.03319683 0.0660636  0.04993436]\n",
            "\n",
            "Objeto: DecisionTreeClassifier(max_features='auto', random_state=947610023)\n",
            "\n",
            "Numero de nós: 153\n",
            "Profundidade da árvore: 12\n",
            "Features importantes: [0.34776158 0.18646113 0.04154933 0.06508172 0.13526084 0.03758079\n",
            " 0.05515744 0.00752041 0.02905307 0.03340235 0.06117133]\n",
            "\n",
            "Objeto: DecisionTreeClassifier(max_features='auto', random_state=600956192)\n",
            "\n",
            "Numero de nós: 123\n",
            "Profundidade da árvore: 14\n",
            "Features importantes: [0.12791268 0.17267305 0.1448055  0.15274062 0.142308   0.05789768\n",
            " 0.016728   0.07775735 0.00702576 0.0718803  0.02827105]\n",
            "\n",
            "Objeto: DecisionTreeClassifier(max_features='auto', random_state=352272321)\n",
            "\n",
            "Numero de nós: 141\n",
            "Profundidade da árvore: 11\n",
            "Features importantes: [0.04808616 0.15526579 0.20979785 0.14608406 0.10960544 0.02346126\n",
            " 0.0357141  0.09708717 0.06843946 0.01293448 0.09352423]\n",
            "\n",
            "Objeto: DecisionTreeClassifier(max_features='auto', random_state=615697673)\n",
            "\n",
            "Numero de nós: 153\n",
            "Profundidade da árvore: 16\n",
            "Features importantes: [0.29394645 0.12358764 0.07004052 0.10947571 0.08674393 0.05992395\n",
            " 0.06132194 0.04417463 0.04646158 0.06587873 0.03844493]\n",
            "\n",
            "Objeto: DecisionTreeClassifier(max_features='auto', random_state=160516793)\n",
            "\n",
            "Numero de nós: 141\n",
            "Profundidade da árvore: 11\n",
            "Features importantes: [0.14271535 0.06933656 0.22530288 0.22981979 0.0932509  0.05433297\n",
            " 0.08775624 0.00348689 0.0319788  0.02784257 0.03417704]\n",
            "\n",
            "Objeto: DecisionTreeClassifier(max_features='auto', random_state=1909838463)\n",
            "\n",
            "Numero de nós: 149\n",
            "Profundidade da árvore: 16\n",
            "Features importantes: [0.23303016 0.08832993 0.08123944 0.18399748 0.09044857 0.11413171\n",
            " 0.05675987 0.05173441 0.03933972 0.04457394 0.01641476]\n",
            "\n",
            "Objeto: DecisionTreeClassifier(max_features='auto', random_state=1110745632)\n",
            "\n",
            "Numero de nós: 167\n",
            "Profundidade da árvore: 16\n",
            "Features importantes: [0.10990552 0.22043317 0.19129682 0.12599772 0.1491722  0.03573386\n",
            " 0.01861275 0.01823107 0.01552619 0.07549944 0.03959128]\n",
            "\n",
            "Objeto: DecisionTreeClassifier(max_features='auto', random_state=93837855)\n",
            "\n",
            "Numero de nós: 153\n",
            "Profundidade da árvore: 13\n",
            "Features importantes: [0.26786032 0.18272782 0.0927339  0.11445282 0.07785796 0.03003724\n",
            " 0.02352783 0.00152468 0.04455167 0.08838045 0.07634531]\n",
            "\n",
            "Objeto: DecisionTreeClassifier(max_features='auto', random_state=454869706)\n",
            "\n",
            "Numero de nós: 121\n",
            "Profundidade da árvore: 11\n",
            "Features importantes: [0.06162122 0.1187397  0.24383165 0.12264694 0.07058161 0.06781903\n",
            " 0.08635235 0.05063908 0.02182977 0.12305259 0.03288607]\n",
            "\n",
            "Objeto: DecisionTreeClassifier(max_features='auto', random_state=1780959476)\n",
            "\n",
            "Numero de nós: 161\n",
            "Profundidade da árvore: 11\n",
            "Features importantes: [0.16844284 0.1367704  0.1796278  0.21007133 0.0724161  0.01702897\n",
            " 0.05775628 0.01628075 0.07182262 0.04262502 0.02715789]\n",
            "\n",
            "Objeto: DecisionTreeClassifier(max_features='auto', random_state=2034098327)\n",
            "\n",
            "Numero de nós: 153\n",
            "Profundidade da árvore: 12\n",
            "Features importantes: [0.16211834 0.10653466 0.23417069 0.2349263  0.07591621 0.01203973\n",
            " 0.04154906 0.02352268 0.02251018 0.03689821 0.04981394]\n",
            "\n",
            "Objeto: DecisionTreeClassifier(max_features='auto', random_state=1136257699)\n",
            "\n",
            "Numero de nós: 149\n",
            "Profundidade da árvore: 14\n",
            "Features importantes: [0.17717409 0.09449926 0.10078292 0.21428762 0.05956164 0.12214611\n",
            " 0.06155867 0.04148017 0.02082696 0.02343082 0.08425175]\n",
            "\n",
            "Objeto: DecisionTreeClassifier(max_features='auto', random_state=800291326)\n",
            "\n",
            "Numero de nós: 147\n",
            "Profundidade da árvore: 13\n",
            "Features importantes: [0.24109786 0.08434209 0.19473427 0.074426   0.13002909 0.02737017\n",
            " 0.04051479 0.09899831 0.02442482 0.03341674 0.05064588]\n",
            "\n",
            "Objeto: DecisionTreeClassifier(max_features='auto', random_state=1177824715)\n",
            "\n",
            "Numero de nós: 155\n",
            "Profundidade da árvore: 13\n",
            "Features importantes: [0.28842437 0.14197935 0.09565712 0.0884063  0.14198368 0.00930928\n",
            " 0.01551547 0.09423171 0.05050335 0.0247723  0.04921707]\n",
            "\n",
            "Objeto: DecisionTreeClassifier(max_features='auto', random_state=1017555826)\n",
            "\n",
            "Numero de nós: 135\n",
            "Profundidade da árvore: 11\n",
            "Features importantes: [0.15644093 0.27315538 0.03461911 0.08348625 0.10613805 0.06737818\n",
            " 0.02759216 0.07301577 0.07399326 0.03074459 0.07343633]\n",
            "\n",
            "Objeto: DecisionTreeClassifier(max_features='auto', random_state=1959150775)\n",
            "\n",
            "Numero de nós: 151\n",
            "Profundidade da árvore: 11\n",
            "Features importantes: [0.09692825 0.31694128 0.07968657 0.13903243 0.09816047 0.0479803\n",
            " 0.03992356 0.01307394 0.06911051 0.03307161 0.06609108]\n",
            "\n",
            "Objeto: DecisionTreeClassifier(max_features='auto', random_state=930076700)\n",
            "\n",
            "Numero de nós: 145\n",
            "Profundidade da árvore: 12\n",
            "Features importantes: [0.28769825 0.14528499 0.13087095 0.13829271 0.09597924 0.0437035\n",
            " 0.04447979 0.013232   0.00477077 0.03591899 0.05976881]\n",
            "\n",
            "Objeto: DecisionTreeClassifier(max_features='auto', random_state=293921570)\n",
            "\n",
            "Numero de nós: 153\n",
            "Profundidade da árvore: 12\n",
            "Features importantes: [0.11531062 0.13156295 0.24518102 0.13494009 0.12894948 0.08428124\n",
            " 0.04692754 0.03182495 0.00589507 0.04880622 0.02632083]\n",
            "\n",
            "Objeto: DecisionTreeClassifier(max_features='auto', random_state=580757632)\n",
            "\n",
            "Numero de nós: 155\n",
            "Profundidade da árvore: 12\n",
            "Features importantes: [0.13124047 0.16641994 0.0780876  0.16805627 0.17657699 0.10419221\n",
            " 0.03030575 0.05863614 0.008167   0.05945132 0.01886631]\n",
            "\n",
            "Objeto: DecisionTreeClassifier(max_features='auto', random_state=80701568)\n",
            "\n",
            "Numero de nós: 137\n",
            "Profundidade da árvore: 13\n",
            "Features importantes: [0.11128404 0.13982783 0.15041946 0.26310916 0.13122544 0.07258968\n",
            " 0.05047598 0.01561327 0.01279141 0.0321992  0.02046453]\n",
            "\n",
            "Objeto: DecisionTreeClassifier(max_features='auto', random_state=1392175012)\n",
            "\n",
            "Numero de nós: 141\n",
            "Profundidade da árvore: 12\n",
            "Features importantes: [0.12708745 0.16786065 0.22204183 0.08940862 0.06624758 0.09274437\n",
            " 0.07149755 0.04455881 0.01571957 0.04465465 0.05817892]\n",
            "\n",
            "Objeto: DecisionTreeClassifier(max_features='auto', random_state=505240629)\n",
            "\n",
            "Numero de nós: 135\n",
            "Profundidade da árvore: 11\n",
            "Features importantes: [0.3690089  0.19571296 0.06524425 0.04882259 0.13124356 0.05832778\n",
            " 0.04446437 0.02102899 0.02159376 0.03082857 0.01372427]\n",
            "\n",
            "Objeto: DecisionTreeClassifier(max_features='auto', random_state=642848645)\n",
            "\n",
            "Numero de nós: 151\n",
            "Profundidade da árvore: 11\n",
            "Features importantes: [0.15036099 0.29457105 0.04030378 0.21356159 0.08425541 0.00606126\n",
            " 0.03013227 0.01326819 0.02477408 0.05863404 0.08407731]\n",
            "\n",
            "Objeto: DecisionTreeClassifier(max_features='auto', random_state=481447462)\n",
            "\n",
            "Numero de nós: 153\n",
            "Profundidade da árvore: 10\n",
            "Features importantes: [0.06986603 0.28920936 0.17152606 0.09180556 0.09013654 0.0536601\n",
            " 0.06747815 0.0389043  0.02846098 0.04337749 0.05557542]\n",
            "\n",
            "Objeto: DecisionTreeClassifier(max_features='auto', random_state=954863080)\n",
            "\n",
            "Numero de nós: 133\n",
            "Profundidade da árvore: 13\n",
            "Features importantes: [0.19665142 0.10277709 0.21501489 0.10180418 0.06841521 0.10229536\n",
            " 0.06628626 0.02907817 0.05017332 0.05097038 0.01653372]\n",
            "\n",
            "Objeto: DecisionTreeClassifier(max_features='auto', random_state=502227700)\n",
            "\n",
            "Numero de nós: 143\n",
            "Profundidade da árvore: 12\n",
            "Features importantes: [0.16849699 0.11669848 0.19307926 0.23469185 0.09691946 0.03625161\n",
            " 0.0635721  0.03292804 0.01477805 0.01949893 0.02308523]\n",
            "\n",
            "Objeto: DecisionTreeClassifier(max_features='auto', random_state=1659957521)\n",
            "\n",
            "Numero de nós: 147\n",
            "Profundidade da árvore: 13\n",
            "Features importantes: [0.25814127 0.1096913  0.10530075 0.14350655 0.08759589 0.10694912\n",
            " 0.09476834 0.02109678 0.02161713 0.03041963 0.02091325]\n",
            "\n",
            "Objeto: DecisionTreeClassifier(max_features='auto', random_state=1905883471)\n",
            "\n",
            "Numero de nós: 157\n",
            "Profundidade da árvore: 12\n",
            "Features importantes: [0.22288717 0.16045618 0.05491536 0.20427455 0.1474048  0.02441506\n",
            " 0.03896455 0.04636206 0.01824937 0.04642282 0.03564808]\n",
            "\n",
            "Objeto: DecisionTreeClassifier(max_features='auto', random_state=1729147268)\n",
            "\n",
            "Numero de nós: 161\n",
            "Profundidade da árvore: 15\n",
            "Features importantes: [0.24841654 0.06656647 0.21491223 0.16174173 0.10099445 0.01957874\n",
            " 0.07322189 0.02883017 0.01561228 0.01365077 0.05647473]\n",
            "\n",
            "Objeto: DecisionTreeClassifier(max_features='auto', random_state=780912233)\n",
            "\n",
            "Numero de nós: 145\n",
            "Profundidade da árvore: 12\n",
            "Features importantes: [0.12504398 0.13607114 0.1934459  0.09021799 0.12993654 0.00812963\n",
            " 0.02788682 0.10598247 0.03854371 0.04979936 0.09494246]\n",
            "\n",
            "Objeto: DecisionTreeClassifier(max_features='auto', random_state=1932520490)\n",
            "\n",
            "Numero de nós: 143\n",
            "Profundidade da árvore: 12\n",
            "Features importantes: [0.17297248 0.17518017 0.12475125 0.16067253 0.07445806 0.08582733\n",
            " 0.05698583 0.00964995 0.04290946 0.03896961 0.05762332]\n",
            "\n",
            "Objeto: DecisionTreeClassifier(max_features='auto', random_state=1544074682)\n",
            "\n",
            "Numero de nós: 133\n",
            "Profundidade da árvore: 11\n",
            "Features importantes: [0.26977144 0.1334561  0.06134302 0.09994586 0.12521277 0.07421553\n",
            " 0.08625528 0.05829447 0.00769562 0.02703919 0.05677072]\n",
            "\n",
            "Objeto: DecisionTreeClassifier(max_features='auto', random_state=485603871)\n",
            "\n",
            "Numero de nós: 133\n",
            "Profundidade da árvore: 11\n",
            "Features importantes: [0.14597144 0.24025002 0.06893367 0.25804734 0.12842413 0.0383313\n",
            " 0.03502659 0.01348653 0.04100135 0.01778113 0.0127465 ]\n",
            "\n",
            "Objeto: DecisionTreeClassifier(max_features='auto', random_state=1877037944)\n",
            "\n",
            "Numero de nós: 145\n",
            "Profundidade da árvore: 11\n",
            "Features importantes: [0.27262143 0.15487257 0.07086234 0.1998916  0.10746828 0.005208\n",
            " 0.02425472 0.04634545 0.01811254 0.04839406 0.05196903]\n",
            "\n",
            "Objeto: DecisionTreeClassifier(max_features='auto', random_state=1728073985)\n",
            "\n",
            "Numero de nós: 127\n",
            "Profundidade da árvore: 10\n",
            "Features importantes: [0.32966598 0.11711037 0.09803212 0.07521273 0.05303733 0.03894165\n",
            " 0.05497199 0.10452152 0.05763696 0.01681714 0.05405222]\n",
            "\n",
            "Objeto: DecisionTreeClassifier(max_features='auto', random_state=848819521)\n",
            "\n",
            "Numero de nós: 163\n",
            "Profundidade da árvore: 12\n",
            "Features importantes: [0.1902549  0.09043744 0.09487888 0.23306296 0.04041594 0.05936057\n",
            " 0.0606191  0.04916905 0.05639634 0.05176282 0.07364201]\n",
            "\n",
            "Objeto: DecisionTreeClassifier(max_features='auto', random_state=426405863)\n",
            "\n",
            "Numero de nós: 137\n",
            "Profundidade da árvore: 11\n",
            "Features importantes: [0.16055978 0.26281958 0.1676576  0.05895871 0.13383712 0.02455231\n",
            " 0.04541319 0.0598681  0.01217954 0.02203917 0.05211489]\n",
            "\n",
            "Objeto: DecisionTreeClassifier(max_features='auto', random_state=258666409)\n",
            "\n",
            "Numero de nós: 157\n",
            "Profundidade da árvore: 11\n",
            "Features importantes: [0.08149953 0.30314873 0.06361314 0.15541195 0.0936246  0.10052313\n",
            " 0.07547689 0.02755143 0.03472889 0.02792401 0.0364977 ]\n",
            "\n",
            "Objeto: DecisionTreeClassifier(max_features='auto', random_state=2017814585)\n",
            "\n",
            "Numero de nós: 145\n",
            "Profundidade da árvore: 14\n",
            "Features importantes: [0.2190629  0.16155806 0.02712791 0.25910343 0.10811854 0.0295943\n",
            " 0.03815822 0.03579579 0.02480678 0.03797944 0.05869464]\n",
            "\n",
            "Objeto: DecisionTreeClassifier(max_features='auto', random_state=716257571)\n",
            "\n",
            "Numero de nós: 137\n",
            "Profundidade da árvore: 11\n",
            "Features importantes: [0.08609069 0.11466935 0.20253157 0.15735477 0.14671057 0.05396187\n",
            " 0.04451883 0.11698833 0.01728442 0.04742185 0.01246773]\n",
            "\n",
            "Objeto: DecisionTreeClassifier(max_features='auto', random_state=657731430)\n",
            "\n",
            "Numero de nós: 159\n",
            "Profundidade da árvore: 11\n",
            "Features importantes: [0.13692789 0.21719451 0.10113365 0.20552363 0.07233265 0.03481638\n",
            " 0.03389221 0.04924508 0.07306735 0.03084797 0.04501868]\n",
            "\n",
            "Objeto: DecisionTreeClassifier(max_features='auto', random_state=732884087)\n",
            "\n",
            "Numero de nós: 155\n",
            "Profundidade da árvore: 17\n",
            "Features importantes: [0.12973045 0.1597552  0.17425322 0.25927439 0.125991   0.00568853\n",
            " 0.03684486 0.00940123 0.0256261  0.03766517 0.03576985]\n",
            "\n",
            "Objeto: DecisionTreeClassifier(max_features='auto', random_state=734051083)\n",
            "\n",
            "Numero de nós: 131\n",
            "Profundidade da árvore: 13\n",
            "Features importantes: [0.2590041  0.12526501 0.22551356 0.14066159 0.07344663 0.04462102\n",
            " 0.04998834 0.00051094 0.02083964 0.01616426 0.0439849 ]\n",
            "\n",
            "Objeto: DecisionTreeClassifier(max_features='auto', random_state=903586222)\n",
            "\n",
            "Numero de nós: 131\n",
            "Profundidade da árvore: 11\n",
            "Features importantes: [0.10083354 0.30486424 0.08394116 0.12873362 0.09538662 0.03218498\n",
            " 0.05148582 0.06131617 0.02973717 0.06681291 0.04470377]\n",
            "\n",
            "Objeto: DecisionTreeClassifier(max_features='auto', random_state=1538251858)\n",
            "\n",
            "Numero de nós: 139\n",
            "Profundidade da árvore: 11\n",
            "Features importantes: [0.08056564 0.1721839  0.19576362 0.14198138 0.13878503 0.00918886\n",
            " 0.04649889 0.09624324 0.04388062 0.02388819 0.05102062]\n",
            "\n",
            "Objeto: DecisionTreeClassifier(max_features='auto', random_state=553734235)\n",
            "\n",
            "Numero de nós: 137\n",
            "Profundidade da árvore: 11\n",
            "Features importantes: [0.20835069 0.24109792 0.2212863  0.13469978 0.02657232 0.02623449\n",
            " 0.0249856  0.00461983 0.05226028 0.01739671 0.04249609]\n",
            "\n",
            "Objeto: DecisionTreeClassifier(max_features='auto', random_state=1076688768)\n",
            "\n",
            "Numero de nós: 145\n",
            "Profundidade da árvore: 12\n",
            "Features importantes: [0.19839746 0.1453059  0.23659689 0.10030931 0.05927623 0.06533652\n",
            " 0.05228233 0.0192032  0.03377557 0.02891539 0.06060121]\n",
            "\n",
            "Objeto: DecisionTreeClassifier(max_features='auto', random_state=1354754446)\n",
            "\n",
            "Numero de nós: 145\n",
            "Profundidade da árvore: 19\n",
            "Features importantes: [0.31776598 0.12650187 0.13808829 0.06552549 0.15986037 0.02183038\n",
            " 0.04452848 0.01198245 0.06738561 0.02182559 0.02470548]\n",
            "\n",
            "Objeto: DecisionTreeClassifier(max_features='auto', random_state=463129187)\n",
            "\n",
            "Numero de nós: 133\n",
            "Profundidade da árvore: 12\n",
            "Features importantes: [0.11449446 0.28194197 0.08114446 0.12823556 0.09296375 0.06867008\n",
            " 0.03190115 0.04138035 0.02513209 0.06160818 0.07252795]\n",
            "\n",
            "Objeto: DecisionTreeClassifier(max_features='auto', random_state=1562125877)\n",
            "\n",
            "Numero de nós: 143\n",
            "Profundidade da árvore: 10\n",
            "Features importantes: [0.11426446 0.09983885 0.13706957 0.19412185 0.15986146 0.03354547\n",
            " 0.04986343 0.08820444 0.0004042  0.02316416 0.09966209]\n",
            "\n",
            "Objeto: DecisionTreeClassifier(max_features='auto', random_state=1396067212)\n"
          ],
          "name": "stdout"
        }
      ]
    },
    {
      "cell_type": "markdown",
      "metadata": {
        "id": "KAq_bL7uncys"
      },
      "source": [
        "**Selecionando a Árvore 0**"
      ]
    },
    {
      "cell_type": "code",
      "metadata": {
        "id": "GahN917Bncys"
      },
      "source": [
        "tree0 = random_clf.estimators_[0]"
      ],
      "execution_count": null,
      "outputs": []
    },
    {
      "cell_type": "markdown",
      "metadata": {
        "id": "CJxcqKHyncyx"
      },
      "source": [
        "**Visualizando a Árvore 0**"
      ]
    },
    {
      "cell_type": "code",
      "metadata": {
        "id": "gU1aYIUkncyy",
        "outputId": "5bfaa8d0-fbf7-47ce-a612-9e351e103b22"
      },
      "source": [
        "\n",
        "from sklearn.tree import export_graphviz\n",
        "import graphviz \n",
        "\n",
        "dot_data = export_graphviz(\n",
        "         tree0,\n",
        "         max_depth=2,# a limitação é somente para a visualização\n",
        "         out_file=None,\n",
        "         feature_names=X_train.columns,\n",
        "         class_names=['0','1','2'], \n",
        "         filled=True, rounded=True,\n",
        "         proportion=True,\n",
        "         node_ids=True,\n",
        "         rotate=False,\n",
        "         label='all',\n",
        "         special_characters=True\n",
        "        )  \n",
        "graph = graphviz.Source(dot_data)  \n",
        "graph"
      ],
      "execution_count": null,
      "outputs": [
        {
          "output_type": "execute_result",
          "data": {
            "image/svg+xml": "<?xml version=\"1.0\" encoding=\"UTF-8\" standalone=\"no\"?>\n<!DOCTYPE svg PUBLIC \"-//W3C//DTD SVG 1.1//EN\"\n \"http://www.w3.org/Graphics/SVG/1.1/DTD/svg11.dtd\">\n<!-- Generated by graphviz version 2.43.0 (0)\n -->\n<!-- Title: Tree Pages: 1 -->\n<svg width=\"918pt\" height=\"446pt\"\n viewBox=\"0.00 0.00 917.50 446.00\" xmlns=\"http://www.w3.org/2000/svg\" xmlns:xlink=\"http://www.w3.org/1999/xlink\">\n<g id=\"graph0\" class=\"graph\" transform=\"scale(1 1) rotate(0) translate(4 442)\">\n<title>Tree</title>\n<polygon fill=\"white\" stroke=\"transparent\" points=\"-4,4 -4,-442 913.5,-442 913.5,4 -4,4\"/>\n<!-- 0 -->\n<g id=\"node1\" class=\"node\">\n<title>0</title>\n<path fill=\"#ece0fb\" stroke=\"black\" d=\"M534,-438C534,-438 342,-438 342,-438 336,-438 330,-432 330,-426 330,-426 330,-352 330,-352 330,-346 336,-340 342,-340 342,-340 534,-340 534,-340 540,-340 546,-346 546,-352 546,-352 546,-426 546,-426 546,-432 540,-438 534,-438\"/>\n<text text-anchor=\"start\" x=\"407.5\" y=\"-422.8\" font-family=\"Helvetica,sans-Serif\" font-size=\"14.00\">node #0</text>\n<text text-anchor=\"start\" x=\"341.5\" y=\"-407.8\" font-family=\"Helvetica,sans-Serif\" font-size=\"14.00\">StudentAbsenceDays ≤ 0.5</text>\n<text text-anchor=\"start\" x=\"394\" y=\"-392.8\" font-family=\"Helvetica,sans-Serif\" font-size=\"14.00\">gini = 0.657</text>\n<text text-anchor=\"start\" x=\"371.5\" y=\"-377.8\" font-family=\"Helvetica,sans-Serif\" font-size=\"14.00\">samples = 100.0%</text>\n<text text-anchor=\"start\" x=\"338\" y=\"-362.8\" font-family=\"Helvetica,sans-Serif\" font-size=\"14.00\">value = [0.307, 0.28, 0.414]</text>\n<text text-anchor=\"start\" x=\"405.5\" y=\"-347.8\" font-family=\"Helvetica,sans-Serif\" font-size=\"14.00\">class = 2</text>\n</g>\n<!-- 1 -->\n<g id=\"node2\" class=\"node\">\n<title>1</title>\n<path fill=\"#9af2bf\" stroke=\"black\" d=\"M419.5,-304C419.5,-304 218.5,-304 218.5,-304 212.5,-304 206.5,-298 206.5,-292 206.5,-292 206.5,-218 206.5,-218 206.5,-212 212.5,-206 218.5,-206 218.5,-206 419.5,-206 419.5,-206 425.5,-206 431.5,-212 431.5,-218 431.5,-218 431.5,-292 431.5,-292 431.5,-298 425.5,-304 419.5,-304\"/>\n<text text-anchor=\"start\" x=\"288.5\" y=\"-288.8\" font-family=\"Helvetica,sans-Serif\" font-size=\"14.00\">node #1</text>\n<text text-anchor=\"start\" x=\"259\" y=\"-273.8\" font-family=\"Helvetica,sans-Serif\" font-size=\"14.00\">NationalITy ≤ 3.5</text>\n<text text-anchor=\"start\" x=\"275\" y=\"-258.8\" font-family=\"Helvetica,sans-Serif\" font-size=\"14.00\">gini = 0.454</text>\n<text text-anchor=\"start\" x=\"257\" y=\"-243.8\" font-family=\"Helvetica,sans-Serif\" font-size=\"14.00\">samples = 42.5%</text>\n<text text-anchor=\"start\" x=\"214.5\" y=\"-228.8\" font-family=\"Helvetica,sans-Serif\" font-size=\"14.00\">value = [0.015, 0.667, 0.319]</text>\n<text text-anchor=\"start\" x=\"286.5\" y=\"-213.8\" font-family=\"Helvetica,sans-Serif\" font-size=\"14.00\">class = 1</text>\n</g>\n<!-- 0&#45;&gt;1 -->\n<g id=\"edge1\" class=\"edge\">\n<title>0&#45;&gt;1</title>\n<path fill=\"none\" stroke=\"black\" d=\"M394.7,-339.97C386.42,-330.78 377.68,-321.09 369.2,-311.68\"/>\n<polygon fill=\"black\" stroke=\"black\" points=\"371.76,-309.3 362.47,-304.21 366.56,-313.98 371.76,-309.3\"/>\n<text text-anchor=\"middle\" x=\"361.17\" y=\"-325.48\" font-family=\"Helvetica,sans-Serif\" font-size=\"14.00\">True</text>\n</g>\n<!-- 50 -->\n<g id=\"node9\" class=\"node\">\n<title>50</title>\n<path fill=\"#fef9f6\" stroke=\"black\" d=\"M654,-304C654,-304 462,-304 462,-304 456,-304 450,-298 450,-292 450,-292 450,-218 450,-218 450,-212 456,-206 462,-206 462,-206 654,-206 654,-206 660,-206 666,-212 666,-218 666,-218 666,-292 666,-292 666,-298 660,-304 654,-304\"/>\n<text text-anchor=\"start\" x=\"523\" y=\"-288.8\" font-family=\"Helvetica,sans-Serif\" font-size=\"14.00\">node #50</text>\n<text text-anchor=\"start\" x=\"488.5\" y=\"-273.8\" font-family=\"Helvetica,sans-Serif\" font-size=\"14.00\">raisedhands ≤ 47.5</text>\n<text text-anchor=\"start\" x=\"514\" y=\"-258.8\" font-family=\"Helvetica,sans-Serif\" font-size=\"14.00\">gini = 0.519</text>\n<text text-anchor=\"start\" x=\"496\" y=\"-243.8\" font-family=\"Helvetica,sans-Serif\" font-size=\"14.00\">samples = 57.5%</text>\n<text text-anchor=\"start\" x=\"458\" y=\"-228.8\" font-family=\"Helvetica,sans-Serif\" font-size=\"14.00\">value = [0.502, 0.02, 0.478]</text>\n<text text-anchor=\"start\" x=\"525.5\" y=\"-213.8\" font-family=\"Helvetica,sans-Serif\" font-size=\"14.00\">class = 0</text>\n</g>\n<!-- 0&#45;&gt;50 -->\n<g id=\"edge8\" class=\"edge\">\n<title>0&#45;&gt;50</title>\n<path fill=\"none\" stroke=\"black\" d=\"M481.66,-339.97C490.02,-330.78 498.83,-321.09 507.38,-311.68\"/>\n<polygon fill=\"black\" stroke=\"black\" points=\"510.03,-313.97 514.17,-304.21 504.85,-309.26 510.03,-313.97\"/>\n<text text-anchor=\"middle\" x=\"515.36\" y=\"-325.49\" font-family=\"Helvetica,sans-Serif\" font-size=\"14.00\">False</text>\n</g>\n<!-- 2 -->\n<g id=\"node3\" class=\"node\">\n<title>2</title>\n<path fill=\"#ffffff\" stroke=\"black\" d=\"M176,-170C176,-170 12,-170 12,-170 6,-170 0,-164 0,-158 0,-158 0,-84 0,-84 0,-78 6,-72 12,-72 12,-72 176,-72 176,-72 182,-72 188,-78 188,-84 188,-84 188,-158 188,-158 188,-164 182,-170 176,-170\"/>\n<text text-anchor=\"start\" x=\"63.5\" y=\"-154.8\" font-family=\"Helvetica,sans-Serif\" font-size=\"14.00\">node #2</text>\n<text text-anchor=\"start\" x=\"8\" y=\"-139.8\" font-family=\"Helvetica,sans-Serif\" font-size=\"14.00\">VisITedResources ≤ 37.0</text>\n<text text-anchor=\"start\" x=\"59\" y=\"-124.8\" font-family=\"Helvetica,sans-Serif\" font-size=\"14.00\">gini = 0.5</text>\n<text text-anchor=\"start\" x=\"32\" y=\"-109.8\" font-family=\"Helvetica,sans-Serif\" font-size=\"14.00\">samples = 18.9%</text>\n<text text-anchor=\"start\" x=\"16.5\" y=\"-94.8\" font-family=\"Helvetica,sans-Serif\" font-size=\"14.00\">value = [0.0, 0.5, 0.5]</text>\n<text text-anchor=\"start\" x=\"61.5\" y=\"-79.8\" font-family=\"Helvetica,sans-Serif\" font-size=\"14.00\">class = 1</text>\n</g>\n<!-- 1&#45;&gt;2 -->\n<g id=\"edge2\" class=\"edge\">\n<title>1&#45;&gt;2</title>\n<path fill=\"none\" stroke=\"black\" d=\"M237.13,-205.97C220.23,-196.05 202.32,-185.55 185.11,-175.45\"/>\n<polygon fill=\"black\" stroke=\"black\" points=\"186.58,-172.26 176.18,-170.21 183.04,-178.29 186.58,-172.26\"/>\n</g>\n<!-- 23 -->\n<g id=\"node6\" class=\"node\">\n<title>23</title>\n<path fill=\"#6beca1\" stroke=\"black\" d=\"M419.5,-170C419.5,-170 218.5,-170 218.5,-170 212.5,-170 206.5,-164 206.5,-158 206.5,-158 206.5,-84 206.5,-84 206.5,-78 212.5,-72 218.5,-72 218.5,-72 419.5,-72 419.5,-72 425.5,-72 431.5,-78 431.5,-84 431.5,-84 431.5,-158 431.5,-158 431.5,-164 425.5,-170 419.5,-170\"/>\n<text text-anchor=\"start\" x=\"284\" y=\"-154.8\" font-family=\"Helvetica,sans-Serif\" font-size=\"14.00\">node #23</text>\n<text text-anchor=\"start\" x=\"219.5\" y=\"-139.8\" font-family=\"Helvetica,sans-Serif\" font-size=\"14.00\">AnnouncementsView ≤ 49.0</text>\n<text text-anchor=\"start\" x=\"275\" y=\"-124.8\" font-family=\"Helvetica,sans-Serif\" font-size=\"14.00\">gini = 0.339</text>\n<text text-anchor=\"start\" x=\"257\" y=\"-109.8\" font-family=\"Helvetica,sans-Serif\" font-size=\"14.00\">samples = 23.6%</text>\n<text text-anchor=\"start\" x=\"214.5\" y=\"-94.8\" font-family=\"Helvetica,sans-Serif\" font-size=\"14.00\">value = [0.026, 0.792, 0.182]</text>\n<text text-anchor=\"start\" x=\"286.5\" y=\"-79.8\" font-family=\"Helvetica,sans-Serif\" font-size=\"14.00\">class = 1</text>\n</g>\n<!-- 1&#45;&gt;23 -->\n<g id=\"edge5\" class=\"edge\">\n<title>1&#45;&gt;23</title>\n<path fill=\"none\" stroke=\"black\" d=\"M319,-205.97C319,-197.69 319,-189 319,-180.48\"/>\n<polygon fill=\"black\" stroke=\"black\" points=\"322.5,-180.21 319,-170.21 315.5,-180.21 322.5,-180.21\"/>\n</g>\n<!-- 3 -->\n<g id=\"node4\" class=\"node\">\n<title>3</title>\n<path fill=\"#c0c0c0\" stroke=\"black\" d=\"M73,-36C73,-36 43,-36 43,-36 37,-36 31,-30 31,-24 31,-24 31,-12 31,-12 31,-6 37,0 43,0 43,0 73,0 73,0 79,0 85,-6 85,-12 85,-12 85,-24 85,-24 85,-30 79,-36 73,-36\"/>\n<text text-anchor=\"middle\" x=\"58\" y=\"-14.3\" font-family=\"Helvetica,sans-Serif\" font-size=\"14.00\">(...)</text>\n</g>\n<!-- 2&#45;&gt;3 -->\n<g id=\"edge3\" class=\"edge\">\n<title>2&#45;&gt;3</title>\n<path fill=\"none\" stroke=\"black\" d=\"M76.84,-71.87C73.63,-62.86 70.39,-53.76 67.52,-45.71\"/>\n<polygon fill=\"black\" stroke=\"black\" points=\"70.77,-44.39 64.11,-36.15 64.17,-46.74 70.77,-44.39\"/>\n</g>\n<!-- 14 -->\n<g id=\"node5\" class=\"node\">\n<title>14</title>\n<path fill=\"#c0c0c0\" stroke=\"black\" d=\"M145,-36C145,-36 115,-36 115,-36 109,-36 103,-30 103,-24 103,-24 103,-12 103,-12 103,-6 109,0 115,0 115,0 145,0 145,0 151,0 157,-6 157,-12 157,-12 157,-24 157,-24 157,-30 151,-36 145,-36\"/>\n<text text-anchor=\"middle\" x=\"130\" y=\"-14.3\" font-family=\"Helvetica,sans-Serif\" font-size=\"14.00\">(...)</text>\n</g>\n<!-- 2&#45;&gt;14 -->\n<g id=\"edge4\" class=\"edge\">\n<title>2&#45;&gt;14</title>\n<path fill=\"none\" stroke=\"black\" d=\"M111.16,-71.87C114.37,-62.86 117.61,-53.76 120.48,-45.71\"/>\n<polygon fill=\"black\" stroke=\"black\" points=\"123.83,-46.74 123.89,-36.15 117.23,-44.39 123.83,-46.74\"/>\n</g>\n<!-- 24 -->\n<g id=\"node7\" class=\"node\">\n<title>24</title>\n<path fill=\"#c0c0c0\" stroke=\"black\" d=\"M298,-36C298,-36 268,-36 268,-36 262,-36 256,-30 256,-24 256,-24 256,-12 256,-12 256,-6 262,0 268,0 268,0 298,0 298,0 304,0 310,-6 310,-12 310,-12 310,-24 310,-24 310,-30 304,-36 298,-36\"/>\n<text text-anchor=\"middle\" x=\"283\" y=\"-14.3\" font-family=\"Helvetica,sans-Serif\" font-size=\"14.00\">(...)</text>\n</g>\n<!-- 23&#45;&gt;24 -->\n<g id=\"edge6\" class=\"edge\">\n<title>23&#45;&gt;24</title>\n<path fill=\"none\" stroke=\"black\" d=\"M301.84,-71.87C298.63,-62.86 295.39,-53.76 292.52,-45.71\"/>\n<polygon fill=\"black\" stroke=\"black\" points=\"295.77,-44.39 289.11,-36.15 289.17,-46.74 295.77,-44.39\"/>\n</g>\n<!-- 43 -->\n<g id=\"node8\" class=\"node\">\n<title>43</title>\n<path fill=\"#c0c0c0\" stroke=\"black\" d=\"M370,-36C370,-36 340,-36 340,-36 334,-36 328,-30 328,-24 328,-24 328,-12 328,-12 328,-6 334,0 340,0 340,0 370,0 370,0 376,0 382,-6 382,-12 382,-12 382,-24 382,-24 382,-30 376,-36 370,-36\"/>\n<text text-anchor=\"middle\" x=\"355\" y=\"-14.3\" font-family=\"Helvetica,sans-Serif\" font-size=\"14.00\">(...)</text>\n</g>\n<!-- 23&#45;&gt;43 -->\n<g id=\"edge7\" class=\"edge\">\n<title>23&#45;&gt;43</title>\n<path fill=\"none\" stroke=\"black\" d=\"M336.16,-71.87C339.37,-62.86 342.61,-53.76 345.48,-45.71\"/>\n<polygon fill=\"black\" stroke=\"black\" points=\"348.83,-46.74 348.89,-36.15 342.23,-44.39 348.83,-46.74\"/>\n</g>\n<!-- 51 -->\n<g id=\"node10\" class=\"node\">\n<title>51</title>\n<path fill=\"#a673ed\" stroke=\"black\" d=\"M654,-170C654,-170 462,-170 462,-170 456,-170 450,-164 450,-158 450,-158 450,-84 450,-84 450,-78 456,-72 462,-72 462,-72 654,-72 654,-72 660,-72 666,-78 666,-84 666,-84 666,-158 666,-158 666,-164 660,-170 654,-170\"/>\n<text text-anchor=\"start\" x=\"523\" y=\"-154.8\" font-family=\"Helvetica,sans-Serif\" font-size=\"14.00\">node #51</text>\n<text text-anchor=\"start\" x=\"508\" y=\"-139.8\" font-family=\"Helvetica,sans-Serif\" font-size=\"14.00\">Relation ≤ 0.5</text>\n<text text-anchor=\"start\" x=\"514\" y=\"-124.8\" font-family=\"Helvetica,sans-Serif\" font-size=\"14.00\">gini = 0.381</text>\n<text text-anchor=\"start\" x=\"496\" y=\"-109.8\" font-family=\"Helvetica,sans-Serif\" font-size=\"14.00\">samples = 19.8%</text>\n<text text-anchor=\"start\" x=\"458\" y=\"-94.8\" font-family=\"Helvetica,sans-Serif\" font-size=\"14.00\">value = [0.19, 0.048, 0.762]</text>\n<text text-anchor=\"start\" x=\"525.5\" y=\"-79.8\" font-family=\"Helvetica,sans-Serif\" font-size=\"14.00\">class = 2</text>\n</g>\n<!-- 50&#45;&gt;51 -->\n<g id=\"edge9\" class=\"edge\">\n<title>50&#45;&gt;51</title>\n<path fill=\"none\" stroke=\"black\" d=\"M558,-205.97C558,-197.69 558,-189 558,-180.48\"/>\n<polygon fill=\"black\" stroke=\"black\" points=\"561.5,-180.21 558,-170.21 554.5,-180.21 561.5,-180.21\"/>\n</g>\n<!-- 80 -->\n<g id=\"node13\" class=\"node\">\n<title>80</title>\n<path fill=\"#f3c6a5\" stroke=\"black\" d=\"M897.5,-170C897.5,-170 696.5,-170 696.5,-170 690.5,-170 684.5,-164 684.5,-158 684.5,-158 684.5,-84 684.5,-84 684.5,-78 690.5,-72 696.5,-72 696.5,-72 897.5,-72 897.5,-72 903.5,-72 909.5,-78 909.5,-84 909.5,-84 909.5,-158 909.5,-158 909.5,-164 903.5,-170 897.5,-170\"/>\n<text text-anchor=\"start\" x=\"762\" y=\"-154.8\" font-family=\"Helvetica,sans-Serif\" font-size=\"14.00\">node #80</text>\n<text text-anchor=\"start\" x=\"747\" y=\"-139.8\" font-family=\"Helvetica,sans-Serif\" font-size=\"14.00\">Relation ≤ 0.5</text>\n<text text-anchor=\"start\" x=\"753\" y=\"-124.8\" font-family=\"Helvetica,sans-Serif\" font-size=\"14.00\">gini = 0.463</text>\n<text text-anchor=\"start\" x=\"735\" y=\"-109.8\" font-family=\"Helvetica,sans-Serif\" font-size=\"14.00\">samples = 37.7%</text>\n<text text-anchor=\"start\" x=\"692.5\" y=\"-94.8\" font-family=\"Helvetica,sans-Serif\" font-size=\"14.00\">value = [0.645, 0.007, 0.348]</text>\n<text text-anchor=\"start\" x=\"764.5\" y=\"-79.8\" font-family=\"Helvetica,sans-Serif\" font-size=\"14.00\">class = 0</text>\n</g>\n<!-- 50&#45;&gt;80 -->\n<g id=\"edge12\" class=\"edge\">\n<title>50&#45;&gt;80</title>\n<path fill=\"none\" stroke=\"black\" d=\"M644.96,-205.97C663.08,-195.96 682.29,-185.36 700.72,-175.17\"/>\n<polygon fill=\"black\" stroke=\"black\" points=\"702.64,-178.11 709.7,-170.21 699.26,-171.98 702.64,-178.11\"/>\n</g>\n<!-- 52 -->\n<g id=\"node11\" class=\"node\">\n<title>52</title>\n<path fill=\"#c0c0c0\" stroke=\"black\" d=\"M537,-36C537,-36 507,-36 507,-36 501,-36 495,-30 495,-24 495,-24 495,-12 495,-12 495,-6 501,0 507,0 507,0 537,0 537,0 543,0 549,-6 549,-12 549,-12 549,-24 549,-24 549,-30 543,-36 537,-36\"/>\n<text text-anchor=\"middle\" x=\"522\" y=\"-14.3\" font-family=\"Helvetica,sans-Serif\" font-size=\"14.00\">(...)</text>\n</g>\n<!-- 51&#45;&gt;52 -->\n<g id=\"edge10\" class=\"edge\">\n<title>51&#45;&gt;52</title>\n<path fill=\"none\" stroke=\"black\" d=\"M540.84,-71.87C537.63,-62.86 534.39,-53.76 531.52,-45.71\"/>\n<polygon fill=\"black\" stroke=\"black\" points=\"534.77,-44.39 528.11,-36.15 528.17,-46.74 534.77,-44.39\"/>\n</g>\n<!-- 69 -->\n<g id=\"node12\" class=\"node\">\n<title>69</title>\n<path fill=\"#c0c0c0\" stroke=\"black\" d=\"M609,-36C609,-36 579,-36 579,-36 573,-36 567,-30 567,-24 567,-24 567,-12 567,-12 567,-6 573,0 579,0 579,0 609,0 609,0 615,0 621,-6 621,-12 621,-12 621,-24 621,-24 621,-30 615,-36 609,-36\"/>\n<text text-anchor=\"middle\" x=\"594\" y=\"-14.3\" font-family=\"Helvetica,sans-Serif\" font-size=\"14.00\">(...)</text>\n</g>\n<!-- 51&#45;&gt;69 -->\n<g id=\"edge11\" class=\"edge\">\n<title>51&#45;&gt;69</title>\n<path fill=\"none\" stroke=\"black\" d=\"M575.16,-71.87C578.37,-62.86 581.61,-53.76 584.48,-45.71\"/>\n<polygon fill=\"black\" stroke=\"black\" points=\"587.83,-46.74 587.89,-36.15 581.23,-44.39 587.83,-46.74\"/>\n</g>\n<!-- 81 -->\n<g id=\"node14\" class=\"node\">\n<title>81</title>\n<path fill=\"#c0c0c0\" stroke=\"black\" d=\"M776,-36C776,-36 746,-36 746,-36 740,-36 734,-30 734,-24 734,-24 734,-12 734,-12 734,-6 740,0 746,0 746,0 776,0 776,0 782,0 788,-6 788,-12 788,-12 788,-24 788,-24 788,-30 782,-36 776,-36\"/>\n<text text-anchor=\"middle\" x=\"761\" y=\"-14.3\" font-family=\"Helvetica,sans-Serif\" font-size=\"14.00\">(...)</text>\n</g>\n<!-- 80&#45;&gt;81 -->\n<g id=\"edge13\" class=\"edge\">\n<title>80&#45;&gt;81</title>\n<path fill=\"none\" stroke=\"black\" d=\"M779.84,-71.87C776.63,-62.86 773.39,-53.76 770.52,-45.71\"/>\n<polygon fill=\"black\" stroke=\"black\" points=\"773.77,-44.39 767.11,-36.15 767.17,-46.74 773.77,-44.39\"/>\n</g>\n<!-- 108 -->\n<g id=\"node15\" class=\"node\">\n<title>108</title>\n<path fill=\"#c0c0c0\" stroke=\"black\" d=\"M848,-36C848,-36 818,-36 818,-36 812,-36 806,-30 806,-24 806,-24 806,-12 806,-12 806,-6 812,0 818,0 818,0 848,0 848,0 854,0 860,-6 860,-12 860,-12 860,-24 860,-24 860,-30 854,-36 848,-36\"/>\n<text text-anchor=\"middle\" x=\"833\" y=\"-14.3\" font-family=\"Helvetica,sans-Serif\" font-size=\"14.00\">(...)</text>\n</g>\n<!-- 80&#45;&gt;108 -->\n<g id=\"edge14\" class=\"edge\">\n<title>80&#45;&gt;108</title>\n<path fill=\"none\" stroke=\"black\" d=\"M814.16,-71.87C817.37,-62.86 820.61,-53.76 823.48,-45.71\"/>\n<polygon fill=\"black\" stroke=\"black\" points=\"826.83,-46.74 826.89,-36.15 820.23,-44.39 826.83,-46.74\"/>\n</g>\n</g>\n</svg>\n",
            "text/plain": [
              "<graphviz.files.Source at 0x7f7b16c35550>"
            ]
          },
          "metadata": {
            "tags": []
          },
          "execution_count": 28
        }
      ]
    },
    {
      "cell_type": "markdown",
      "metadata": {
        "id": "TiqivolRncy1"
      },
      "source": [
        "**Selecionando e Visualizando a Árvore 1**"
      ]
    },
    {
      "cell_type": "code",
      "metadata": {
        "id": "ftDaM9tEncy1",
        "outputId": "e6233f1c-4bc2-43f9-ff87-462e73e0c290"
      },
      "source": [
        "tree1 = random_clf.estimators_[1]\n",
        "# visualizando graficamente\n",
        "from sklearn.tree import export_graphviz\n",
        "import graphviz \n",
        "\n",
        "dot_data = export_graphviz(\n",
        "         tree0,\n",
        "         max_depth=2,# a limitação é somente para a visualização\n",
        "         out_file=None,\n",
        "         feature_names=X_train.columns,\n",
        "         class_names=['0','1','2'], \n",
        "         filled=True, rounded=True,\n",
        "         proportion=True,\n",
        "         node_ids=True,\n",
        "         rotate=False,\n",
        "         label='all',\n",
        "         special_characters=True\n",
        "        )  \n",
        "graph = graphviz.Source(dot_data)  \n",
        "graph"
      ],
      "execution_count": null,
      "outputs": [
        {
          "output_type": "execute_result",
          "data": {
            "image/svg+xml": "<?xml version=\"1.0\" encoding=\"UTF-8\" standalone=\"no\"?>\n<!DOCTYPE svg PUBLIC \"-//W3C//DTD SVG 1.1//EN\"\n \"http://www.w3.org/Graphics/SVG/1.1/DTD/svg11.dtd\">\n<!-- Generated by graphviz version 2.43.0 (0)\n -->\n<!-- Title: Tree Pages: 1 -->\n<svg width=\"918pt\" height=\"446pt\"\n viewBox=\"0.00 0.00 917.50 446.00\" xmlns=\"http://www.w3.org/2000/svg\" xmlns:xlink=\"http://www.w3.org/1999/xlink\">\n<g id=\"graph0\" class=\"graph\" transform=\"scale(1 1) rotate(0) translate(4 442)\">\n<title>Tree</title>\n<polygon fill=\"white\" stroke=\"transparent\" points=\"-4,4 -4,-442 913.5,-442 913.5,4 -4,4\"/>\n<!-- 0 -->\n<g id=\"node1\" class=\"node\">\n<title>0</title>\n<path fill=\"#ece0fb\" stroke=\"black\" d=\"M534,-438C534,-438 342,-438 342,-438 336,-438 330,-432 330,-426 330,-426 330,-352 330,-352 330,-346 336,-340 342,-340 342,-340 534,-340 534,-340 540,-340 546,-346 546,-352 546,-352 546,-426 546,-426 546,-432 540,-438 534,-438\"/>\n<text text-anchor=\"start\" x=\"407.5\" y=\"-422.8\" font-family=\"Helvetica,sans-Serif\" font-size=\"14.00\">node #0</text>\n<text text-anchor=\"start\" x=\"341.5\" y=\"-407.8\" font-family=\"Helvetica,sans-Serif\" font-size=\"14.00\">StudentAbsenceDays ≤ 0.5</text>\n<text text-anchor=\"start\" x=\"394\" y=\"-392.8\" font-family=\"Helvetica,sans-Serif\" font-size=\"14.00\">gini = 0.657</text>\n<text text-anchor=\"start\" x=\"371.5\" y=\"-377.8\" font-family=\"Helvetica,sans-Serif\" font-size=\"14.00\">samples = 100.0%</text>\n<text text-anchor=\"start\" x=\"338\" y=\"-362.8\" font-family=\"Helvetica,sans-Serif\" font-size=\"14.00\">value = [0.307, 0.28, 0.414]</text>\n<text text-anchor=\"start\" x=\"405.5\" y=\"-347.8\" font-family=\"Helvetica,sans-Serif\" font-size=\"14.00\">class = 2</text>\n</g>\n<!-- 1 -->\n<g id=\"node2\" class=\"node\">\n<title>1</title>\n<path fill=\"#9af2bf\" stroke=\"black\" d=\"M419.5,-304C419.5,-304 218.5,-304 218.5,-304 212.5,-304 206.5,-298 206.5,-292 206.5,-292 206.5,-218 206.5,-218 206.5,-212 212.5,-206 218.5,-206 218.5,-206 419.5,-206 419.5,-206 425.5,-206 431.5,-212 431.5,-218 431.5,-218 431.5,-292 431.5,-292 431.5,-298 425.5,-304 419.5,-304\"/>\n<text text-anchor=\"start\" x=\"288.5\" y=\"-288.8\" font-family=\"Helvetica,sans-Serif\" font-size=\"14.00\">node #1</text>\n<text text-anchor=\"start\" x=\"259\" y=\"-273.8\" font-family=\"Helvetica,sans-Serif\" font-size=\"14.00\">NationalITy ≤ 3.5</text>\n<text text-anchor=\"start\" x=\"275\" y=\"-258.8\" font-family=\"Helvetica,sans-Serif\" font-size=\"14.00\">gini = 0.454</text>\n<text text-anchor=\"start\" x=\"257\" y=\"-243.8\" font-family=\"Helvetica,sans-Serif\" font-size=\"14.00\">samples = 42.5%</text>\n<text text-anchor=\"start\" x=\"214.5\" y=\"-228.8\" font-family=\"Helvetica,sans-Serif\" font-size=\"14.00\">value = [0.015, 0.667, 0.319]</text>\n<text text-anchor=\"start\" x=\"286.5\" y=\"-213.8\" font-family=\"Helvetica,sans-Serif\" font-size=\"14.00\">class = 1</text>\n</g>\n<!-- 0&#45;&gt;1 -->\n<g id=\"edge1\" class=\"edge\">\n<title>0&#45;&gt;1</title>\n<path fill=\"none\" stroke=\"black\" d=\"M394.7,-339.97C386.42,-330.78 377.68,-321.09 369.2,-311.68\"/>\n<polygon fill=\"black\" stroke=\"black\" points=\"371.76,-309.3 362.47,-304.21 366.56,-313.98 371.76,-309.3\"/>\n<text text-anchor=\"middle\" x=\"361.17\" y=\"-325.48\" font-family=\"Helvetica,sans-Serif\" font-size=\"14.00\">True</text>\n</g>\n<!-- 50 -->\n<g id=\"node9\" class=\"node\">\n<title>50</title>\n<path fill=\"#fef9f6\" stroke=\"black\" d=\"M654,-304C654,-304 462,-304 462,-304 456,-304 450,-298 450,-292 450,-292 450,-218 450,-218 450,-212 456,-206 462,-206 462,-206 654,-206 654,-206 660,-206 666,-212 666,-218 666,-218 666,-292 666,-292 666,-298 660,-304 654,-304\"/>\n<text text-anchor=\"start\" x=\"523\" y=\"-288.8\" font-family=\"Helvetica,sans-Serif\" font-size=\"14.00\">node #50</text>\n<text text-anchor=\"start\" x=\"488.5\" y=\"-273.8\" font-family=\"Helvetica,sans-Serif\" font-size=\"14.00\">raisedhands ≤ 47.5</text>\n<text text-anchor=\"start\" x=\"514\" y=\"-258.8\" font-family=\"Helvetica,sans-Serif\" font-size=\"14.00\">gini = 0.519</text>\n<text text-anchor=\"start\" x=\"496\" y=\"-243.8\" font-family=\"Helvetica,sans-Serif\" font-size=\"14.00\">samples = 57.5%</text>\n<text text-anchor=\"start\" x=\"458\" y=\"-228.8\" font-family=\"Helvetica,sans-Serif\" font-size=\"14.00\">value = [0.502, 0.02, 0.478]</text>\n<text text-anchor=\"start\" x=\"525.5\" y=\"-213.8\" font-family=\"Helvetica,sans-Serif\" font-size=\"14.00\">class = 0</text>\n</g>\n<!-- 0&#45;&gt;50 -->\n<g id=\"edge8\" class=\"edge\">\n<title>0&#45;&gt;50</title>\n<path fill=\"none\" stroke=\"black\" d=\"M481.66,-339.97C490.02,-330.78 498.83,-321.09 507.38,-311.68\"/>\n<polygon fill=\"black\" stroke=\"black\" points=\"510.03,-313.97 514.17,-304.21 504.85,-309.26 510.03,-313.97\"/>\n<text text-anchor=\"middle\" x=\"515.36\" y=\"-325.49\" font-family=\"Helvetica,sans-Serif\" font-size=\"14.00\">False</text>\n</g>\n<!-- 2 -->\n<g id=\"node3\" class=\"node\">\n<title>2</title>\n<path fill=\"#ffffff\" stroke=\"black\" d=\"M176,-170C176,-170 12,-170 12,-170 6,-170 0,-164 0,-158 0,-158 0,-84 0,-84 0,-78 6,-72 12,-72 12,-72 176,-72 176,-72 182,-72 188,-78 188,-84 188,-84 188,-158 188,-158 188,-164 182,-170 176,-170\"/>\n<text text-anchor=\"start\" x=\"63.5\" y=\"-154.8\" font-family=\"Helvetica,sans-Serif\" font-size=\"14.00\">node #2</text>\n<text text-anchor=\"start\" x=\"8\" y=\"-139.8\" font-family=\"Helvetica,sans-Serif\" font-size=\"14.00\">VisITedResources ≤ 37.0</text>\n<text text-anchor=\"start\" x=\"59\" y=\"-124.8\" font-family=\"Helvetica,sans-Serif\" font-size=\"14.00\">gini = 0.5</text>\n<text text-anchor=\"start\" x=\"32\" y=\"-109.8\" font-family=\"Helvetica,sans-Serif\" font-size=\"14.00\">samples = 18.9%</text>\n<text text-anchor=\"start\" x=\"16.5\" y=\"-94.8\" font-family=\"Helvetica,sans-Serif\" font-size=\"14.00\">value = [0.0, 0.5, 0.5]</text>\n<text text-anchor=\"start\" x=\"61.5\" y=\"-79.8\" font-family=\"Helvetica,sans-Serif\" font-size=\"14.00\">class = 1</text>\n</g>\n<!-- 1&#45;&gt;2 -->\n<g id=\"edge2\" class=\"edge\">\n<title>1&#45;&gt;2</title>\n<path fill=\"none\" stroke=\"black\" d=\"M237.13,-205.97C220.23,-196.05 202.32,-185.55 185.11,-175.45\"/>\n<polygon fill=\"black\" stroke=\"black\" points=\"186.58,-172.26 176.18,-170.21 183.04,-178.29 186.58,-172.26\"/>\n</g>\n<!-- 23 -->\n<g id=\"node6\" class=\"node\">\n<title>23</title>\n<path fill=\"#6beca1\" stroke=\"black\" d=\"M419.5,-170C419.5,-170 218.5,-170 218.5,-170 212.5,-170 206.5,-164 206.5,-158 206.5,-158 206.5,-84 206.5,-84 206.5,-78 212.5,-72 218.5,-72 218.5,-72 419.5,-72 419.5,-72 425.5,-72 431.5,-78 431.5,-84 431.5,-84 431.5,-158 431.5,-158 431.5,-164 425.5,-170 419.5,-170\"/>\n<text text-anchor=\"start\" x=\"284\" y=\"-154.8\" font-family=\"Helvetica,sans-Serif\" font-size=\"14.00\">node #23</text>\n<text text-anchor=\"start\" x=\"219.5\" y=\"-139.8\" font-family=\"Helvetica,sans-Serif\" font-size=\"14.00\">AnnouncementsView ≤ 49.0</text>\n<text text-anchor=\"start\" x=\"275\" y=\"-124.8\" font-family=\"Helvetica,sans-Serif\" font-size=\"14.00\">gini = 0.339</text>\n<text text-anchor=\"start\" x=\"257\" y=\"-109.8\" font-family=\"Helvetica,sans-Serif\" font-size=\"14.00\">samples = 23.6%</text>\n<text text-anchor=\"start\" x=\"214.5\" y=\"-94.8\" font-family=\"Helvetica,sans-Serif\" font-size=\"14.00\">value = [0.026, 0.792, 0.182]</text>\n<text text-anchor=\"start\" x=\"286.5\" y=\"-79.8\" font-family=\"Helvetica,sans-Serif\" font-size=\"14.00\">class = 1</text>\n</g>\n<!-- 1&#45;&gt;23 -->\n<g id=\"edge5\" class=\"edge\">\n<title>1&#45;&gt;23</title>\n<path fill=\"none\" stroke=\"black\" d=\"M319,-205.97C319,-197.69 319,-189 319,-180.48\"/>\n<polygon fill=\"black\" stroke=\"black\" points=\"322.5,-180.21 319,-170.21 315.5,-180.21 322.5,-180.21\"/>\n</g>\n<!-- 3 -->\n<g id=\"node4\" class=\"node\">\n<title>3</title>\n<path fill=\"#c0c0c0\" stroke=\"black\" d=\"M73,-36C73,-36 43,-36 43,-36 37,-36 31,-30 31,-24 31,-24 31,-12 31,-12 31,-6 37,0 43,0 43,0 73,0 73,0 79,0 85,-6 85,-12 85,-12 85,-24 85,-24 85,-30 79,-36 73,-36\"/>\n<text text-anchor=\"middle\" x=\"58\" y=\"-14.3\" font-family=\"Helvetica,sans-Serif\" font-size=\"14.00\">(...)</text>\n</g>\n<!-- 2&#45;&gt;3 -->\n<g id=\"edge3\" class=\"edge\">\n<title>2&#45;&gt;3</title>\n<path fill=\"none\" stroke=\"black\" d=\"M76.84,-71.87C73.63,-62.86 70.39,-53.76 67.52,-45.71\"/>\n<polygon fill=\"black\" stroke=\"black\" points=\"70.77,-44.39 64.11,-36.15 64.17,-46.74 70.77,-44.39\"/>\n</g>\n<!-- 14 -->\n<g id=\"node5\" class=\"node\">\n<title>14</title>\n<path fill=\"#c0c0c0\" stroke=\"black\" d=\"M145,-36C145,-36 115,-36 115,-36 109,-36 103,-30 103,-24 103,-24 103,-12 103,-12 103,-6 109,0 115,0 115,0 145,0 145,0 151,0 157,-6 157,-12 157,-12 157,-24 157,-24 157,-30 151,-36 145,-36\"/>\n<text text-anchor=\"middle\" x=\"130\" y=\"-14.3\" font-family=\"Helvetica,sans-Serif\" font-size=\"14.00\">(...)</text>\n</g>\n<!-- 2&#45;&gt;14 -->\n<g id=\"edge4\" class=\"edge\">\n<title>2&#45;&gt;14</title>\n<path fill=\"none\" stroke=\"black\" d=\"M111.16,-71.87C114.37,-62.86 117.61,-53.76 120.48,-45.71\"/>\n<polygon fill=\"black\" stroke=\"black\" points=\"123.83,-46.74 123.89,-36.15 117.23,-44.39 123.83,-46.74\"/>\n</g>\n<!-- 24 -->\n<g id=\"node7\" class=\"node\">\n<title>24</title>\n<path fill=\"#c0c0c0\" stroke=\"black\" d=\"M298,-36C298,-36 268,-36 268,-36 262,-36 256,-30 256,-24 256,-24 256,-12 256,-12 256,-6 262,0 268,0 268,0 298,0 298,0 304,0 310,-6 310,-12 310,-12 310,-24 310,-24 310,-30 304,-36 298,-36\"/>\n<text text-anchor=\"middle\" x=\"283\" y=\"-14.3\" font-family=\"Helvetica,sans-Serif\" font-size=\"14.00\">(...)</text>\n</g>\n<!-- 23&#45;&gt;24 -->\n<g id=\"edge6\" class=\"edge\">\n<title>23&#45;&gt;24</title>\n<path fill=\"none\" stroke=\"black\" d=\"M301.84,-71.87C298.63,-62.86 295.39,-53.76 292.52,-45.71\"/>\n<polygon fill=\"black\" stroke=\"black\" points=\"295.77,-44.39 289.11,-36.15 289.17,-46.74 295.77,-44.39\"/>\n</g>\n<!-- 43 -->\n<g id=\"node8\" class=\"node\">\n<title>43</title>\n<path fill=\"#c0c0c0\" stroke=\"black\" d=\"M370,-36C370,-36 340,-36 340,-36 334,-36 328,-30 328,-24 328,-24 328,-12 328,-12 328,-6 334,0 340,0 340,0 370,0 370,0 376,0 382,-6 382,-12 382,-12 382,-24 382,-24 382,-30 376,-36 370,-36\"/>\n<text text-anchor=\"middle\" x=\"355\" y=\"-14.3\" font-family=\"Helvetica,sans-Serif\" font-size=\"14.00\">(...)</text>\n</g>\n<!-- 23&#45;&gt;43 -->\n<g id=\"edge7\" class=\"edge\">\n<title>23&#45;&gt;43</title>\n<path fill=\"none\" stroke=\"black\" d=\"M336.16,-71.87C339.37,-62.86 342.61,-53.76 345.48,-45.71\"/>\n<polygon fill=\"black\" stroke=\"black\" points=\"348.83,-46.74 348.89,-36.15 342.23,-44.39 348.83,-46.74\"/>\n</g>\n<!-- 51 -->\n<g id=\"node10\" class=\"node\">\n<title>51</title>\n<path fill=\"#a673ed\" stroke=\"black\" d=\"M654,-170C654,-170 462,-170 462,-170 456,-170 450,-164 450,-158 450,-158 450,-84 450,-84 450,-78 456,-72 462,-72 462,-72 654,-72 654,-72 660,-72 666,-78 666,-84 666,-84 666,-158 666,-158 666,-164 660,-170 654,-170\"/>\n<text text-anchor=\"start\" x=\"523\" y=\"-154.8\" font-family=\"Helvetica,sans-Serif\" font-size=\"14.00\">node #51</text>\n<text text-anchor=\"start\" x=\"508\" y=\"-139.8\" font-family=\"Helvetica,sans-Serif\" font-size=\"14.00\">Relation ≤ 0.5</text>\n<text text-anchor=\"start\" x=\"514\" y=\"-124.8\" font-family=\"Helvetica,sans-Serif\" font-size=\"14.00\">gini = 0.381</text>\n<text text-anchor=\"start\" x=\"496\" y=\"-109.8\" font-family=\"Helvetica,sans-Serif\" font-size=\"14.00\">samples = 19.8%</text>\n<text text-anchor=\"start\" x=\"458\" y=\"-94.8\" font-family=\"Helvetica,sans-Serif\" font-size=\"14.00\">value = [0.19, 0.048, 0.762]</text>\n<text text-anchor=\"start\" x=\"525.5\" y=\"-79.8\" font-family=\"Helvetica,sans-Serif\" font-size=\"14.00\">class = 2</text>\n</g>\n<!-- 50&#45;&gt;51 -->\n<g id=\"edge9\" class=\"edge\">\n<title>50&#45;&gt;51</title>\n<path fill=\"none\" stroke=\"black\" d=\"M558,-205.97C558,-197.69 558,-189 558,-180.48\"/>\n<polygon fill=\"black\" stroke=\"black\" points=\"561.5,-180.21 558,-170.21 554.5,-180.21 561.5,-180.21\"/>\n</g>\n<!-- 80 -->\n<g id=\"node13\" class=\"node\">\n<title>80</title>\n<path fill=\"#f3c6a5\" stroke=\"black\" d=\"M897.5,-170C897.5,-170 696.5,-170 696.5,-170 690.5,-170 684.5,-164 684.5,-158 684.5,-158 684.5,-84 684.5,-84 684.5,-78 690.5,-72 696.5,-72 696.5,-72 897.5,-72 897.5,-72 903.5,-72 909.5,-78 909.5,-84 909.5,-84 909.5,-158 909.5,-158 909.5,-164 903.5,-170 897.5,-170\"/>\n<text text-anchor=\"start\" x=\"762\" y=\"-154.8\" font-family=\"Helvetica,sans-Serif\" font-size=\"14.00\">node #80</text>\n<text text-anchor=\"start\" x=\"747\" y=\"-139.8\" font-family=\"Helvetica,sans-Serif\" font-size=\"14.00\">Relation ≤ 0.5</text>\n<text text-anchor=\"start\" x=\"753\" y=\"-124.8\" font-family=\"Helvetica,sans-Serif\" font-size=\"14.00\">gini = 0.463</text>\n<text text-anchor=\"start\" x=\"735\" y=\"-109.8\" font-family=\"Helvetica,sans-Serif\" font-size=\"14.00\">samples = 37.7%</text>\n<text text-anchor=\"start\" x=\"692.5\" y=\"-94.8\" font-family=\"Helvetica,sans-Serif\" font-size=\"14.00\">value = [0.645, 0.007, 0.348]</text>\n<text text-anchor=\"start\" x=\"764.5\" y=\"-79.8\" font-family=\"Helvetica,sans-Serif\" font-size=\"14.00\">class = 0</text>\n</g>\n<!-- 50&#45;&gt;80 -->\n<g id=\"edge12\" class=\"edge\">\n<title>50&#45;&gt;80</title>\n<path fill=\"none\" stroke=\"black\" d=\"M644.96,-205.97C663.08,-195.96 682.29,-185.36 700.72,-175.17\"/>\n<polygon fill=\"black\" stroke=\"black\" points=\"702.64,-178.11 709.7,-170.21 699.26,-171.98 702.64,-178.11\"/>\n</g>\n<!-- 52 -->\n<g id=\"node11\" class=\"node\">\n<title>52</title>\n<path fill=\"#c0c0c0\" stroke=\"black\" d=\"M537,-36C537,-36 507,-36 507,-36 501,-36 495,-30 495,-24 495,-24 495,-12 495,-12 495,-6 501,0 507,0 507,0 537,0 537,0 543,0 549,-6 549,-12 549,-12 549,-24 549,-24 549,-30 543,-36 537,-36\"/>\n<text text-anchor=\"middle\" x=\"522\" y=\"-14.3\" font-family=\"Helvetica,sans-Serif\" font-size=\"14.00\">(...)</text>\n</g>\n<!-- 51&#45;&gt;52 -->\n<g id=\"edge10\" class=\"edge\">\n<title>51&#45;&gt;52</title>\n<path fill=\"none\" stroke=\"black\" d=\"M540.84,-71.87C537.63,-62.86 534.39,-53.76 531.52,-45.71\"/>\n<polygon fill=\"black\" stroke=\"black\" points=\"534.77,-44.39 528.11,-36.15 528.17,-46.74 534.77,-44.39\"/>\n</g>\n<!-- 69 -->\n<g id=\"node12\" class=\"node\">\n<title>69</title>\n<path fill=\"#c0c0c0\" stroke=\"black\" d=\"M609,-36C609,-36 579,-36 579,-36 573,-36 567,-30 567,-24 567,-24 567,-12 567,-12 567,-6 573,0 579,0 579,0 609,0 609,0 615,0 621,-6 621,-12 621,-12 621,-24 621,-24 621,-30 615,-36 609,-36\"/>\n<text text-anchor=\"middle\" x=\"594\" y=\"-14.3\" font-family=\"Helvetica,sans-Serif\" font-size=\"14.00\">(...)</text>\n</g>\n<!-- 51&#45;&gt;69 -->\n<g id=\"edge11\" class=\"edge\">\n<title>51&#45;&gt;69</title>\n<path fill=\"none\" stroke=\"black\" d=\"M575.16,-71.87C578.37,-62.86 581.61,-53.76 584.48,-45.71\"/>\n<polygon fill=\"black\" stroke=\"black\" points=\"587.83,-46.74 587.89,-36.15 581.23,-44.39 587.83,-46.74\"/>\n</g>\n<!-- 81 -->\n<g id=\"node14\" class=\"node\">\n<title>81</title>\n<path fill=\"#c0c0c0\" stroke=\"black\" d=\"M776,-36C776,-36 746,-36 746,-36 740,-36 734,-30 734,-24 734,-24 734,-12 734,-12 734,-6 740,0 746,0 746,0 776,0 776,0 782,0 788,-6 788,-12 788,-12 788,-24 788,-24 788,-30 782,-36 776,-36\"/>\n<text text-anchor=\"middle\" x=\"761\" y=\"-14.3\" font-family=\"Helvetica,sans-Serif\" font-size=\"14.00\">(...)</text>\n</g>\n<!-- 80&#45;&gt;81 -->\n<g id=\"edge13\" class=\"edge\">\n<title>80&#45;&gt;81</title>\n<path fill=\"none\" stroke=\"black\" d=\"M779.84,-71.87C776.63,-62.86 773.39,-53.76 770.52,-45.71\"/>\n<polygon fill=\"black\" stroke=\"black\" points=\"773.77,-44.39 767.11,-36.15 767.17,-46.74 773.77,-44.39\"/>\n</g>\n<!-- 108 -->\n<g id=\"node15\" class=\"node\">\n<title>108</title>\n<path fill=\"#c0c0c0\" stroke=\"black\" d=\"M848,-36C848,-36 818,-36 818,-36 812,-36 806,-30 806,-24 806,-24 806,-12 806,-12 806,-6 812,0 818,0 818,0 848,0 848,0 854,0 860,-6 860,-12 860,-12 860,-24 860,-24 860,-30 854,-36 848,-36\"/>\n<text text-anchor=\"middle\" x=\"833\" y=\"-14.3\" font-family=\"Helvetica,sans-Serif\" font-size=\"14.00\">(...)</text>\n</g>\n<!-- 80&#45;&gt;108 -->\n<g id=\"edge14\" class=\"edge\">\n<title>80&#45;&gt;108</title>\n<path fill=\"none\" stroke=\"black\" d=\"M814.16,-71.87C817.37,-62.86 820.61,-53.76 823.48,-45.71\"/>\n<polygon fill=\"black\" stroke=\"black\" points=\"826.83,-46.74 826.89,-36.15 820.23,-44.39 826.83,-46.74\"/>\n</g>\n</g>\n</svg>\n",
            "text/plain": [
              "<graphviz.files.Source at 0x7f7b164a2f90>"
            ]
          },
          "metadata": {
            "tags": []
          },
          "execution_count": 29
        }
      ]
    },
    {
      "cell_type": "markdown",
      "metadata": {
        "id": "noY7-Vt0ncy5"
      },
      "source": [
        "Para **entender** o que acontece na árvore, vamos pegar a **Árvore 1** como exemplo.\n",
        "\n",
        "O atributo `StudentAbsenceDays` é o que melhor generaliza os dados, por isso está no topo, ou seja, no *nó zero*.\n",
        "\n",
        "Se o atributo acima é *True* vai para o atributo `ParentAnsweringSurvey`, ou seja, para o *nó um*. Se é *False* vai para o atributo `NationalITy` que é o *nó cinquenta e oito*.\n",
        "\n",
        "Quanto mais se desce, mais se aprofunda ou mais se especifica, ou seja, a árvore vai \"perdendo\" a capacidade de generalizar, razão pela qual é *boa prática* utilizar o parâmetro **max_depth** para controlar a profundidade máxima da árvore.\n",
        "\n"
      ]
    },
    {
      "cell_type": "markdown",
      "metadata": {
        "id": "VQ5fHLvpnmza"
      },
      "source": [
        "# Obrigado!\n",
        "\n",
        "Obrigado por ter disponibilizado um pouco do seu tempo e atenção aqui. Espero que, de alguma forma, tenha sido útil para seu crescimento. Se houver qualquer dúvida ou sugestão, não hesite em entrar em contato no [LinkedIn](https://www.linkedin.com/in/daniel-sousa-amador) e verificar meus outros projetos no [GitHub](https://github.com/amadords).\n",
        "\n",
        "[![LinkedIn](https://img.shields.io/badge/LinkedIn-DanielSousaAmador-purple.svg)](https://www.linkedin.com/in/daniel-sousa-amador)\n",
        "[![GitHub](https://img.shields.io/badge/GitHub-amadords-yellow.svg)](https://github.com/amadords)\n",
        "[![Medium](https://img.shields.io/badge/Medium-DanielSousaAmador-darkblue.svg)](https://daniel-s-amador.medium.com/)\n",
        "\n",
        "\n",
        "\n",
        "<center><img width=\"90%\" src=\"https://raw.githubusercontent.com/danielamador12/Portfolio/master/github.png\"></center>"
      ]
    }
  ]
}