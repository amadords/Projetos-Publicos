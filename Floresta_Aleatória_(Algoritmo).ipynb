{
  "nbformat": 4,
  "nbformat_minor": 0,
  "metadata": {
    "kernelspec": {
      "display_name": "Python 3",
      "language": "python",
      "name": "python3"
    },
    "language_info": {
      "codemirror_mode": {
        "name": "ipython",
        "version": 3
      },
      "file_extension": ".py",
      "mimetype": "text/x-python",
      "name": "python",
      "nbconvert_exporter": "python",
      "pygments_lexer": "ipython3",
      "version": "3.7.6"
    },
    "colab": {
      "name": "Floresta Aleatória (Algoritmo)",
      "provenance": [],
      "collapsed_sections": [
        "arUSaZlbncxR",
        "2OKSpYrencxy",
        "irO-tLtencyB",
        "J5l45vb3ncyL",
        "rBQdGRI-ncyU",
        "d9rAMbCUncyk"
      ],
      "include_colab_link": true
    }
  },
  "cells": [
    {
      "cell_type": "markdown",
      "metadata": {
        "id": "view-in-github",
        "colab_type": "text"
      },
      "source": [
        "<a href=\"https://colab.research.google.com/github/amadords/Projetos-Publicos/blob/master/Floresta_Aleat%C3%B3ria_(Algoritmo).ipynb\" target=\"_parent\"><img src=\"https://colab.research.google.com/assets/colab-badge.svg\" alt=\"Open In Colab\"/></a>"
      ]
    },
    {
      "cell_type": "markdown",
      "metadata": {
        "id": "Ythi1Ti4ncwS"
      },
      "source": [
        "# Floresta Aleatória\n",
        "---\n",
        "\n",
        "\n",
        "[![LinkedIn](https://img.shields.io/badge/LinkedIn-DanielSousaAmador-cyan.svg)](https://www.linkedin.com/in/daniel-sousa-amador)\n",
        "[![GitHub](https://img.shields.io/badge/GitHub-amadords-darkblue.svg)](https://github.com/amadords)\n",
        "[![Medium](https://img.shields.io/badge/Medium-DanielSousaAmador-white.svg)](https://daniel-s-amador.medium.com/)\n",
        "\n",
        "\n",
        "\n",
        "Aqui será tratado do algoritmo de Machine Learning denominado de **Random Forest** ou **Floresta Aleatória**.\n",
        "\n",
        "Esse algoritmo é uma melhoria da [Árvore de Decisão](https://bit.ly/2Guqmcd) que vem para sanar alguns problemas que ela tem, servindo para **classificação** ou **regressão** e tem as seguintes vantagens e desvantagens:\n",
        "\n",
        "**Vantagens**\n",
        "* Maior robustez, uma vez que tem um conjunto e não mais uma única árvore com regras.\n",
        "* Menor propeção a sofrer overfitting se comparado ao algoritmo de *Árvore de Decisão*.\n",
        "* Permite a descoberta do conhecimento, desde a listagem das features mais importantes até examinar cada árvore, extrair regra etc.\n",
        "* Poucos parâmetros para ajuste.\n",
        "\n",
        "**Desvantagens**\n",
        "* Maior poder de processamento.\n",
        "* Pode ser lento o processo de classificação de novas amostras.\n",
        "\n",
        "![random](https://img.freepik.com/fotos-gratis/homem-novo-do-viajante-com-mapa-trouxa-na-floresta-verde-do-outono-no-dia-ensolarado_90380-195.jpg?size=626&ext=jpg)\n",
        "\n",
        "Não temos intenção de esgotar todo o assunto aqui, mas trazer uma breve apresentação sobre esse algoritmo.\n",
        "\n",
        "O **Random Forest** é um algoritmo de aprendizagem supervisionada que utiliza uma *ensemble*, ou seja, *combinação* de árvores de decisão e, na maioria dos casos é treinado pelo método *bagging* (Bootstrap Aggregating), que é um método que gera um conjunto de dados por amostragem, o **bootstrap** (técnica estatística) dos dados originais para que os classificadores sejam treinados de forma independente por diferentes conjuntos de treino.\n",
        "\n",
        "O Random Forest será aplicado com objeto *RandomForestClassifier* da biblioteca *sklearn.ensemble* e seus **Parâmetros** são:\n",
        "\n",
        "   * **n_estimators**: número de árvores que serão criadas na floresta.\n",
        "   * **bootstrap**: se será considerado o bootstrap dataset durante a criação das árvores.\n",
        "   * **max_features**: número total de features que as árvores serão criadas.\n",
        "   * **criterion**: medida de qualidade da divisão.\n",
        "   * **splitter**: estratégia utilizada para dividir o nó de decisão.\n",
        "   * **max_depth**: profundidade máxima da árvore.\n",
        "   * **min_samples_split**: número de amostras mínimas para considerar um nó para divisão.\n",
        "   * **min_samples_leaf**: número de amostras mínimas no nível folha."
      ]
    },
    {
      "cell_type": "markdown",
      "metadata": {
        "id": "lZOEeWWDncwV"
      },
      "source": [
        "## Checklist\n",
        "1. Análise Exploratória e Transformação dos Dados\n",
        "2. Machine Learning\n",
        "3. Validação\n",
        "4. Visualização Gráfica das Features Mais Importantes\n",
        "5. Selecionando Features Mais Importantes\n",
        "6. Machine Learning com Features Selecionadas\n",
        "7.   Validação do Novo Modelo \n",
        "8. Exploração das Àrvores Geradas pelo Random Forest"
      ]
    },
    {
      "cell_type": "markdown",
      "metadata": {
        "id": "BrzjAS95ncwW"
      },
      "source": [
        "# 1. Análise Exploratória e Transformação dos Dados"
      ]
    },
    {
      "cell_type": "markdown",
      "metadata": {
        "id": "uzS454WvncwZ"
      },
      "source": [
        "Nessa base de dados, o **objetivo** é classificar a performance do aluno em sala de aula, se é baixa, média ou alta e visualizar quais fatores mais influenciam para que esse resultado"
      ]
    },
    {
      "cell_type": "markdown",
      "metadata": {
        "id": "c1o-iNvXncwb"
      },
      "source": [
        "**Importação das bibliotecas**"
      ]
    },
    {
      "cell_type": "code",
      "metadata": {
        "id": "PA7d_4iWncwd"
      },
      "source": [
        "from sklearn.tree import export_graphviz\n",
        "from sklearn.ensemble import RandomForestClassifier\n",
        "from sklearn.preprocessing import LabelEncoder\n",
        "import numpy as np\n",
        "import pandas as pd\n",
        "import matplotlib.pyplot as plt\n",
        "import seaborn as sns"
      ],
      "execution_count": 1,
      "outputs": []
    },
    {
      "cell_type": "markdown",
      "metadata": {
        "id": "ebJdQT0Jncwn"
      },
      "source": [
        "**Leitura da base de dados**"
      ]
    },
    {
      "cell_type": "code",
      "metadata": {
        "id": "Gn-tGLlvncwo"
      },
      "source": [
        "df_edu = pd.read_csv('https://raw.githubusercontent.com/amadords/data/main/xAPI-Edu-Data.csv')"
      ],
      "execution_count": 2,
      "outputs": []
    },
    {
      "cell_type": "code",
      "metadata": {
        "id": "k1xLvZgEncwv",
        "colab": {
          "base_uri": "https://localhost:8080/",
          "height": 163
        },
        "outputId": "1f5c7c20-14d6-4e3f-9ef4-ce8b03769b57"
      },
      "source": [
        "df_edu.head(3)"
      ],
      "execution_count": 3,
      "outputs": [
        {
          "output_type": "execute_result",
          "data": {
            "text/html": [
              "<div>\n",
              "<style scoped>\n",
              "    .dataframe tbody tr th:only-of-type {\n",
              "        vertical-align: middle;\n",
              "    }\n",
              "\n",
              "    .dataframe tbody tr th {\n",
              "        vertical-align: top;\n",
              "    }\n",
              "\n",
              "    .dataframe thead th {\n",
              "        text-align: right;\n",
              "    }\n",
              "</style>\n",
              "<table border=\"1\" class=\"dataframe\">\n",
              "  <thead>\n",
              "    <tr style=\"text-align: right;\">\n",
              "      <th></th>\n",
              "      <th>gender</th>\n",
              "      <th>NationalITy</th>\n",
              "      <th>PlaceofBirth</th>\n",
              "      <th>StageID</th>\n",
              "      <th>GradeID</th>\n",
              "      <th>SectionID</th>\n",
              "      <th>Topic</th>\n",
              "      <th>Semester</th>\n",
              "      <th>Relation</th>\n",
              "      <th>raisedhands</th>\n",
              "      <th>VisITedResources</th>\n",
              "      <th>AnnouncementsView</th>\n",
              "      <th>Discussion</th>\n",
              "      <th>ParentAnsweringSurvey</th>\n",
              "      <th>ParentschoolSatisfaction</th>\n",
              "      <th>StudentAbsenceDays</th>\n",
              "      <th>Class</th>\n",
              "    </tr>\n",
              "  </thead>\n",
              "  <tbody>\n",
              "    <tr>\n",
              "      <th>0</th>\n",
              "      <td>M</td>\n",
              "      <td>KW</td>\n",
              "      <td>KuwaIT</td>\n",
              "      <td>lowerlevel</td>\n",
              "      <td>G-04</td>\n",
              "      <td>A</td>\n",
              "      <td>IT</td>\n",
              "      <td>F</td>\n",
              "      <td>Father</td>\n",
              "      <td>15</td>\n",
              "      <td>16</td>\n",
              "      <td>2</td>\n",
              "      <td>20</td>\n",
              "      <td>Yes</td>\n",
              "      <td>Good</td>\n",
              "      <td>Under-7</td>\n",
              "      <td>M</td>\n",
              "    </tr>\n",
              "    <tr>\n",
              "      <th>1</th>\n",
              "      <td>M</td>\n",
              "      <td>KW</td>\n",
              "      <td>KuwaIT</td>\n",
              "      <td>lowerlevel</td>\n",
              "      <td>G-04</td>\n",
              "      <td>A</td>\n",
              "      <td>IT</td>\n",
              "      <td>F</td>\n",
              "      <td>Father</td>\n",
              "      <td>20</td>\n",
              "      <td>20</td>\n",
              "      <td>3</td>\n",
              "      <td>25</td>\n",
              "      <td>Yes</td>\n",
              "      <td>Good</td>\n",
              "      <td>Under-7</td>\n",
              "      <td>M</td>\n",
              "    </tr>\n",
              "    <tr>\n",
              "      <th>2</th>\n",
              "      <td>M</td>\n",
              "      <td>KW</td>\n",
              "      <td>KuwaIT</td>\n",
              "      <td>lowerlevel</td>\n",
              "      <td>G-04</td>\n",
              "      <td>A</td>\n",
              "      <td>IT</td>\n",
              "      <td>F</td>\n",
              "      <td>Father</td>\n",
              "      <td>10</td>\n",
              "      <td>7</td>\n",
              "      <td>0</td>\n",
              "      <td>30</td>\n",
              "      <td>No</td>\n",
              "      <td>Bad</td>\n",
              "      <td>Above-7</td>\n",
              "      <td>L</td>\n",
              "    </tr>\n",
              "  </tbody>\n",
              "</table>\n",
              "</div>"
            ],
            "text/plain": [
              "  gender NationalITy  ... StudentAbsenceDays Class\n",
              "0      M          KW  ...            Under-7     M\n",
              "1      M          KW  ...            Under-7     M\n",
              "2      M          KW  ...            Above-7     L\n",
              "\n",
              "[3 rows x 17 columns]"
            ]
          },
          "metadata": {
            "tags": []
          },
          "execution_count": 3
        }
      ]
    },
    {
      "cell_type": "markdown",
      "metadata": {
        "id": "my36MPVKncw3"
      },
      "source": [
        "**Verificando as distribuições de classes em:** \n",
        "* Média\n",
        "* Alta\n",
        "* Baixa"
      ]
    },
    {
      "cell_type": "code",
      "metadata": {
        "id": "BnC79Hclncw4",
        "colab": {
          "base_uri": "https://localhost:8080/"
        },
        "outputId": "93d693bd-0d38-4797-9cab-c89b7bb71c8c"
      },
      "source": [
        "df_edu['Class'].value_counts()"
      ],
      "execution_count": 4,
      "outputs": [
        {
          "output_type": "execute_result",
          "data": {
            "text/plain": [
              "M    211\n",
              "H    142\n",
              "L    127\n",
              "Name: Class, dtype: int64"
            ]
          },
          "metadata": {
            "tags": []
          },
          "execution_count": 4
        }
      ]
    },
    {
      "cell_type": "markdown",
      "metadata": {
        "id": "_o0gjfb6ncw-"
      },
      "source": [
        "**Verificando os registros nulos**"
      ]
    },
    {
      "cell_type": "code",
      "metadata": {
        "id": "rLgO7o94ncw_",
        "colab": {
          "base_uri": "https://localhost:8080/"
        },
        "outputId": "47bc8c06-8c77-4744-9601-c4ab855c762a"
      },
      "source": [
        "df_edu.isnull().sum()"
      ],
      "execution_count": 5,
      "outputs": [
        {
          "output_type": "execute_result",
          "data": {
            "text/plain": [
              "gender                      0\n",
              "NationalITy                 0\n",
              "PlaceofBirth                0\n",
              "StageID                     0\n",
              "GradeID                     0\n",
              "SectionID                   0\n",
              "Topic                       0\n",
              "Semester                    0\n",
              "Relation                    0\n",
              "raisedhands                 0\n",
              "VisITedResources            0\n",
              "AnnouncementsView           0\n",
              "Discussion                  0\n",
              "ParentAnsweringSurvey       0\n",
              "ParentschoolSatisfaction    0\n",
              "StudentAbsenceDays          0\n",
              "Class                       0\n",
              "dtype: int64"
            ]
          },
          "metadata": {
            "tags": []
          },
          "execution_count": 5
        }
      ]
    },
    {
      "cell_type": "markdown",
      "metadata": {
        "id": "b5133LuuncxG"
      },
      "source": [
        "### Codificação dos atributos categóricos em numéricos\n",
        "Obs.: Numa base de dados real, também deve ser testado com One Hot Encoding, Label Encoder (separados e combinados) e Get Dummies.\n"
      ]
    },
    {
      "cell_type": "code",
      "metadata": {
        "id": "hnGIC4JNncxG"
      },
      "source": [
        "# codificando atributos numéricos\n",
        "Features = df_edu # instanciando o df\n",
        "# criando uma variável e percorrendo os dtypes, selecionandos o que for object\n",
        "Cat_Colums = Features.dtypes.pipe(lambda Features: Features[Features=='object']).index\n",
        "# para cada coluna categórica\n",
        "for col in Cat_Colums:\n",
        "# aplica o label encoder\n",
        "    label = LabelEncoder()\n",
        "# transforma os dados\n",
        "    Features[col] = label.fit_transform(Features[col])"
      ],
      "execution_count": 6,
      "outputs": []
    },
    {
      "cell_type": "markdown",
      "metadata": {
        "id": "DQNwpUIvncxK"
      },
      "source": [
        "**Visualização das features tranformadas**"
      ]
    },
    {
      "cell_type": "code",
      "metadata": {
        "id": "7OaH9M1pncxM",
        "colab": {
          "base_uri": "https://localhost:8080/",
          "height": 226
        },
        "outputId": "83a2da4f-348b-4a47-ecc2-b5da07163972"
      },
      "source": [
        "Features.head()"
      ],
      "execution_count": 7,
      "outputs": [
        {
          "output_type": "execute_result",
          "data": {
            "text/html": [
              "<div>\n",
              "<style scoped>\n",
              "    .dataframe tbody tr th:only-of-type {\n",
              "        vertical-align: middle;\n",
              "    }\n",
              "\n",
              "    .dataframe tbody tr th {\n",
              "        vertical-align: top;\n",
              "    }\n",
              "\n",
              "    .dataframe thead th {\n",
              "        text-align: right;\n",
              "    }\n",
              "</style>\n",
              "<table border=\"1\" class=\"dataframe\">\n",
              "  <thead>\n",
              "    <tr style=\"text-align: right;\">\n",
              "      <th></th>\n",
              "      <th>gender</th>\n",
              "      <th>NationalITy</th>\n",
              "      <th>PlaceofBirth</th>\n",
              "      <th>StageID</th>\n",
              "      <th>GradeID</th>\n",
              "      <th>SectionID</th>\n",
              "      <th>Topic</th>\n",
              "      <th>Semester</th>\n",
              "      <th>Relation</th>\n",
              "      <th>raisedhands</th>\n",
              "      <th>VisITedResources</th>\n",
              "      <th>AnnouncementsView</th>\n",
              "      <th>Discussion</th>\n",
              "      <th>ParentAnsweringSurvey</th>\n",
              "      <th>ParentschoolSatisfaction</th>\n",
              "      <th>StudentAbsenceDays</th>\n",
              "      <th>Class</th>\n",
              "    </tr>\n",
              "  </thead>\n",
              "  <tbody>\n",
              "    <tr>\n",
              "      <th>0</th>\n",
              "      <td>1</td>\n",
              "      <td>4</td>\n",
              "      <td>4</td>\n",
              "      <td>2</td>\n",
              "      <td>1</td>\n",
              "      <td>0</td>\n",
              "      <td>7</td>\n",
              "      <td>0</td>\n",
              "      <td>0</td>\n",
              "      <td>15</td>\n",
              "      <td>16</td>\n",
              "      <td>2</td>\n",
              "      <td>20</td>\n",
              "      <td>1</td>\n",
              "      <td>1</td>\n",
              "      <td>1</td>\n",
              "      <td>2</td>\n",
              "    </tr>\n",
              "    <tr>\n",
              "      <th>1</th>\n",
              "      <td>1</td>\n",
              "      <td>4</td>\n",
              "      <td>4</td>\n",
              "      <td>2</td>\n",
              "      <td>1</td>\n",
              "      <td>0</td>\n",
              "      <td>7</td>\n",
              "      <td>0</td>\n",
              "      <td>0</td>\n",
              "      <td>20</td>\n",
              "      <td>20</td>\n",
              "      <td>3</td>\n",
              "      <td>25</td>\n",
              "      <td>1</td>\n",
              "      <td>1</td>\n",
              "      <td>1</td>\n",
              "      <td>2</td>\n",
              "    </tr>\n",
              "    <tr>\n",
              "      <th>2</th>\n",
              "      <td>1</td>\n",
              "      <td>4</td>\n",
              "      <td>4</td>\n",
              "      <td>2</td>\n",
              "      <td>1</td>\n",
              "      <td>0</td>\n",
              "      <td>7</td>\n",
              "      <td>0</td>\n",
              "      <td>0</td>\n",
              "      <td>10</td>\n",
              "      <td>7</td>\n",
              "      <td>0</td>\n",
              "      <td>30</td>\n",
              "      <td>0</td>\n",
              "      <td>0</td>\n",
              "      <td>0</td>\n",
              "      <td>1</td>\n",
              "    </tr>\n",
              "    <tr>\n",
              "      <th>3</th>\n",
              "      <td>1</td>\n",
              "      <td>4</td>\n",
              "      <td>4</td>\n",
              "      <td>2</td>\n",
              "      <td>1</td>\n",
              "      <td>0</td>\n",
              "      <td>7</td>\n",
              "      <td>0</td>\n",
              "      <td>0</td>\n",
              "      <td>30</td>\n",
              "      <td>25</td>\n",
              "      <td>5</td>\n",
              "      <td>35</td>\n",
              "      <td>0</td>\n",
              "      <td>0</td>\n",
              "      <td>0</td>\n",
              "      <td>1</td>\n",
              "    </tr>\n",
              "    <tr>\n",
              "      <th>4</th>\n",
              "      <td>1</td>\n",
              "      <td>4</td>\n",
              "      <td>4</td>\n",
              "      <td>2</td>\n",
              "      <td>1</td>\n",
              "      <td>0</td>\n",
              "      <td>7</td>\n",
              "      <td>0</td>\n",
              "      <td>0</td>\n",
              "      <td>40</td>\n",
              "      <td>50</td>\n",
              "      <td>12</td>\n",
              "      <td>50</td>\n",
              "      <td>0</td>\n",
              "      <td>0</td>\n",
              "      <td>0</td>\n",
              "      <td>2</td>\n",
              "    </tr>\n",
              "  </tbody>\n",
              "</table>\n",
              "</div>"
            ],
            "text/plain": [
              "   gender  NationalITy  ...  StudentAbsenceDays  Class\n",
              "0       1            4  ...                   1      2\n",
              "1       1            4  ...                   1      2\n",
              "2       1            4  ...                   0      1\n",
              "3       1            4  ...                   0      1\n",
              "4       1            4  ...                   0      2\n",
              "\n",
              "[5 rows x 17 columns]"
            ]
          },
          "metadata": {
            "tags": []
          },
          "execution_count": 7
        }
      ]
    },
    {
      "cell_type": "markdown",
      "metadata": {
        "id": "arUSaZlbncxR"
      },
      "source": [
        "# 2. Machine Learning"
      ]
    },
    {
      "cell_type": "markdown",
      "metadata": {
        "id": "Mfw9ENR8ncxS"
      },
      "source": [
        "**Dividindo os dados em treino e teste**"
      ]
    },
    {
      "cell_type": "code",
      "metadata": {
        "id": "EROhZvMBncxT"
      },
      "source": [
        "from sklearn.model_selection import train_test_split\n",
        "X_train, X_test, y_train, y_test = train_test_split(df_edu.drop('Class',1),df_edu['Class'],test_size=0.3,random_state=0)"
      ],
      "execution_count": 8,
      "outputs": []
    },
    {
      "cell_type": "markdown",
      "metadata": {
        "id": "5FoEa_aancxX"
      },
      "source": [
        "**Verificando a forma dos dados de X**"
      ]
    },
    {
      "cell_type": "code",
      "metadata": {
        "id": "EST7Lw5RncxZ",
        "colab": {
          "base_uri": "https://localhost:8080/"
        },
        "outputId": "b12f7230-b29c-4e40-cb10-791a2cd5db69"
      },
      "source": [
        "X_train.shape,X_test.shape"
      ],
      "execution_count": 9,
      "outputs": [
        {
          "output_type": "execute_result",
          "data": {
            "text/plain": [
              "((336, 16), (144, 16))"
            ]
          },
          "metadata": {
            "tags": []
          },
          "execution_count": 9
        }
      ]
    },
    {
      "cell_type": "markdown",
      "metadata": {
        "id": "4vnvb3gIncxd"
      },
      "source": [
        "**Verificando a forma dos dados de y**\n"
      ]
    },
    {
      "cell_type": "code",
      "metadata": {
        "id": "F4_ugtJ9ncxe",
        "colab": {
          "base_uri": "https://localhost:8080/"
        },
        "outputId": "c7cfb859-17dd-478e-fb6e-9e6c27476bcf"
      },
      "source": [
        "y_train.shape,y_test.shape"
      ],
      "execution_count": 10,
      "outputs": [
        {
          "output_type": "execute_result",
          "data": {
            "text/plain": [
              "((336,), (144,))"
            ]
          },
          "metadata": {
            "tags": []
          },
          "execution_count": 10
        }
      ]
    },
    {
      "cell_type": "markdown",
      "metadata": {
        "id": "6qXCpUZ1ncxk"
      },
      "source": [
        "**Instanciando o classificador**"
      ]
    },
    {
      "cell_type": "code",
      "metadata": {
        "id": "XtSRagKfncxl"
      },
      "source": [
        "random_clf = RandomForestClassifier()"
      ],
      "execution_count": 11,
      "outputs": []
    },
    {
      "cell_type": "markdown",
      "metadata": {
        "id": "3ngYMX-fncxn"
      },
      "source": [
        "**Treinando o random forest**"
      ]
    },
    {
      "cell_type": "code",
      "metadata": {
        "id": "_8sjV6Dlncxo",
        "colab": {
          "base_uri": "https://localhost:8080/"
        },
        "outputId": "e512a56a-404a-47c8-ecea-52889ac067f1"
      },
      "source": [
        "random_clf.fit(X_train,y_train)"
      ],
      "execution_count": 12,
      "outputs": [
        {
          "output_type": "execute_result",
          "data": {
            "text/plain": [
              "RandomForestClassifier(bootstrap=True, ccp_alpha=0.0, class_weight=None,\n",
              "                       criterion='gini', max_depth=None, max_features='auto',\n",
              "                       max_leaf_nodes=None, max_samples=None,\n",
              "                       min_impurity_decrease=0.0, min_impurity_split=None,\n",
              "                       min_samples_leaf=1, min_samples_split=2,\n",
              "                       min_weight_fraction_leaf=0.0, n_estimators=100,\n",
              "                       n_jobs=None, oob_score=False, random_state=None,\n",
              "                       verbose=0, warm_start=False)"
            ]
          },
          "metadata": {
            "tags": []
          },
          "execution_count": 12
        }
      ]
    },
    {
      "cell_type": "markdown",
      "metadata": {
        "id": "LiF3H6Hyncxt"
      },
      "source": [
        "**Predizendo**"
      ]
    },
    {
      "cell_type": "code",
      "metadata": {
        "id": "FOJkXs3Yncxu",
        "colab": {
          "base_uri": "https://localhost:8080/"
        },
        "outputId": "a8fd3f56-39f9-4b3d-d9e8-90ac2bc78573"
      },
      "source": [
        "resultado = random_clf.predict(X_test)\n",
        "resultado"
      ],
      "execution_count": 13,
      "outputs": [
        {
          "output_type": "execute_result",
          "data": {
            "text/plain": [
              "array([2, 1, 1, 2, 2, 2, 0, 1, 1, 1, 0, 2, 2, 1, 2, 2, 2, 1, 1, 0, 1, 2,\n",
              "       2, 2, 2, 2, 0, 2, 2, 1, 2, 1, 0, 2, 2, 2, 0, 0, 0, 2, 2, 1, 0, 0,\n",
              "       2, 2, 0, 2, 1, 2, 2, 2, 0, 1, 0, 2, 1, 1, 2, 2, 2, 2, 0, 0, 0, 2,\n",
              "       1, 2, 1, 1, 1, 1, 0, 1, 0, 1, 0, 1, 2, 1, 0, 2, 0, 1, 1, 0, 2, 0,\n",
              "       2, 0, 2, 0, 0, 0, 2, 2, 1, 0, 1, 2, 1, 2, 2, 1, 2, 0, 1, 0, 1, 2,\n",
              "       1, 2, 1, 1, 0, 2, 1, 2, 2, 2, 2, 2, 2, 2, 2, 2, 2, 2, 1, 2, 2, 1,\n",
              "       0, 2, 2, 0, 2, 2, 2, 0, 2, 2, 2, 0])"
            ]
          },
          "metadata": {
            "tags": []
          },
          "execution_count": 13
        }
      ]
    },
    {
      "cell_type": "markdown",
      "metadata": {
        "id": "2OKSpYrencxy"
      },
      "source": [
        "# 3. Validação"
      ]
    },
    {
      "cell_type": "markdown",
      "metadata": {
        "id": "10Z2-1OUncxy"
      },
      "source": [
        "**Métricas**"
      ]
    },
    {
      "cell_type": "code",
      "metadata": {
        "id": "b4eUyJxQncx0",
        "colab": {
          "base_uri": "https://localhost:8080/"
        },
        "outputId": "b1bc2a6e-e715-4d1a-facc-12c26f71f707"
      },
      "source": [
        "from sklearn import metrics\n",
        "print(metrics.classification_report(y_test,resultado))"
      ],
      "execution_count": 14,
      "outputs": [
        {
          "output_type": "stream",
          "text": [
            "              precision    recall  f1-score   support\n",
            "\n",
            "           0       0.74      0.67      0.70        39\n",
            "           1       0.82      0.94      0.88        34\n",
            "           2       0.79      0.77      0.78        71\n",
            "\n",
            "    accuracy                           0.78       144\n",
            "   macro avg       0.78      0.79      0.79       144\n",
            "weighted avg       0.78      0.78      0.78       144\n",
            "\n"
          ],
          "name": "stdout"
        }
      ]
    },
    {
      "cell_type": "markdown",
      "metadata": {
        "id": "hSZ17eMuncx3"
      },
      "source": [
        "**Verificando as features mais importantes para o modelo treinado**"
      ]
    },
    {
      "cell_type": "code",
      "metadata": {
        "id": "Oi_qBUG4ncx4",
        "colab": {
          "base_uri": "https://localhost:8080/"
        },
        "outputId": "95d7d121-1bae-4d88-d02d-00f3946843fa"
      },
      "source": [
        "random_clf.feature_importances_"
      ],
      "execution_count": 15,
      "outputs": [
        {
          "output_type": "execute_result",
          "data": {
            "text/plain": [
              "array([0.02332709, 0.03503879, 0.03537686, 0.01485609, 0.032308  ,\n",
              "       0.01946333, 0.04337904, 0.01049457, 0.04504994, 0.16638832,\n",
              "       0.17569229, 0.12931373, 0.09394096, 0.03510037, 0.01874116,\n",
              "       0.12152948])"
            ]
          },
          "metadata": {
            "tags": []
          },
          "execution_count": 15
        }
      ]
    },
    {
      "cell_type": "markdown",
      "metadata": {
        "id": "QSCDCbYancx7"
      },
      "source": [
        "**Listando como uma series pandas as features importantes**"
      ]
    },
    {
      "cell_type": "code",
      "metadata": {
        "id": "RjGcmf7uncx9",
        "colab": {
          "base_uri": "https://localhost:8080/"
        },
        "outputId": "d3e31582-f088-4fd4-bfff-d8936d7cf72a"
      },
      "source": [
        "feature_imp = pd.Series(random_clf.feature_importances_,index=X_train.columns).sort_values(ascending=False)\n",
        "feature_imp"
      ],
      "execution_count": 16,
      "outputs": [
        {
          "output_type": "execute_result",
          "data": {
            "text/plain": [
              "VisITedResources            0.175692\n",
              "raisedhands                 0.166388\n",
              "AnnouncementsView           0.129314\n",
              "StudentAbsenceDays          0.121529\n",
              "Discussion                  0.093941\n",
              "Relation                    0.045050\n",
              "Topic                       0.043379\n",
              "PlaceofBirth                0.035377\n",
              "ParentAnsweringSurvey       0.035100\n",
              "NationalITy                 0.035039\n",
              "GradeID                     0.032308\n",
              "gender                      0.023327\n",
              "SectionID                   0.019463\n",
              "ParentschoolSatisfaction    0.018741\n",
              "StageID                     0.014856\n",
              "Semester                    0.010495\n",
              "dtype: float64"
            ]
          },
          "metadata": {
            "tags": []
          },
          "execution_count": 16
        }
      ]
    },
    {
      "cell_type": "markdown",
      "metadata": {
        "id": "irO-tLtencyB"
      },
      "source": [
        "# 4. Visualização Gráfica das Features Mais Importantes"
      ]
    },
    {
      "cell_type": "markdown",
      "metadata": {
        "id": "gzrAPaMFncyD"
      },
      "source": [
        "**Criando função para visualizar Features importantes**"
      ]
    },
    {
      "cell_type": "code",
      "metadata": {
        "id": "ifB1cATancyD"
      },
      "source": [
        "def visualiza_features_importantes(features_lista):\n",
        "    %matplotlib inline\n",
        "\n",
        "    plt.figure(figsize=(16,8))\n",
        "    sns.barplot(x=features_lista, y=features_lista.index)\n",
        "\n",
        "    plt.xlabel('Feature Importance Score')\n",
        "    plt.ylabel('Features')\n",
        "    plt.title(\"Visualizing Important Features\")\n",
        "    plt.show()"
      ],
      "execution_count": 17,
      "outputs": []
    },
    {
      "cell_type": "markdown",
      "metadata": {
        "id": "fgd2t3K_ncyG"
      },
      "source": [
        "**Visualizando**"
      ]
    },
    {
      "cell_type": "code",
      "metadata": {
        "id": "2tZZvtMFncyH",
        "colab": {
          "base_uri": "https://localhost:8080/",
          "height": 0
        },
        "outputId": "0285ac6a-ec50-4ec9-ebe5-26a829d89dbb"
      },
      "source": [
        "visualiza_features_importantes(feature_imp)"
      ],
      "execution_count": 18,
      "outputs": [
        {
          "output_type": "display_data",
          "data": {
            "image/png": "[encoded data removed]",
            "text/plain": [
              "<Figure size 1152x576 with 1 Axes>"
            ]
          },
          "metadata": {
            "tags": [],
            "needs_background": "light"
          }
        }
      ]
    },
    {
      "cell_type": "markdown",
      "metadata": {
        "id": "J5l45vb3ncyL"
      },
      "source": [
        "# 5. Selecionando Features Mais Importantes\n",
        "Teoricamente, utilizando apenas as features mais importantes traz uma maior precisão ao algoritmo."
      ]
    },
    {
      "cell_type": "markdown",
      "metadata": {
        "id": "30mdsONBncyL"
      },
      "source": [
        "**Selecionando as features mais importantes**"
      ]
    },
    {
      "cell_type": "code",
      "metadata": {
        "id": "ZA2QTBixncyL",
        "colab": {
          "base_uri": "https://localhost:8080/"
        },
        "outputId": "627da0b0-ee00-4f08-e45d-d7ad86704d98"
      },
      "source": [
        "features_selecionadas = []\n",
        "for feature,importancia in feature_imp.iteritems(): # iteritems para iterar sobre cada item da serie\n",
        "    if importancia > 0.03:\n",
        "        print(\"{}:\\t{}\".format(feature, importancia))\n",
        "        features_selecionadas.append(feature)"
      ],
      "execution_count": 19,
      "outputs": [
        {
          "output_type": "stream",
          "text": [
            "VisITedResources:\t0.1756922871553843\n",
            "raisedhands:\t0.16638832122568054\n",
            "AnnouncementsView:\t0.1293137253615364\n",
            "StudentAbsenceDays:\t0.1215294826625705\n",
            "Discussion:\t0.09394095951134211\n",
            "Relation:\t0.045049941576791507\n",
            "Topic:\t0.043379035000087766\n",
            "PlaceofBirth:\t0.03537685556816527\n",
            "ParentAnsweringSurvey:\t0.035100374179582054\n",
            "NationalITy:\t0.035038787027647296\n",
            "GradeID:\t0.03230799619847214\n"
          ],
          "name": "stdout"
        }
      ]
    },
    {
      "cell_type": "markdown",
      "metadata": {
        "id": "iWtb9KBHncyQ"
      },
      "source": [
        "**Visualização das features mais importantes**"
      ]
    },
    {
      "cell_type": "code",
      "metadata": {
        "id": "NE0qTc8IncyQ",
        "colab": {
          "base_uri": "https://localhost:8080/"
        },
        "outputId": "7ad5ec7b-da3d-447c-99ce-3c392ddee888"
      },
      "source": [
        "features_selecionadas"
      ],
      "execution_count": 20,
      "outputs": [
        {
          "output_type": "execute_result",
          "data": {
            "text/plain": [
              "['VisITedResources',\n",
              " 'raisedhands',\n",
              " 'AnnouncementsView',\n",
              " 'StudentAbsenceDays',\n",
              " 'Discussion',\n",
              " 'Relation',\n",
              " 'Topic',\n",
              " 'PlaceofBirth',\n",
              " 'ParentAnsweringSurvey',\n",
              " 'NationalITy',\n",
              " 'GradeID']"
            ]
          },
          "metadata": {
            "tags": []
          },
          "execution_count": 20
        }
      ]
    },
    {
      "cell_type": "markdown",
      "metadata": {
        "id": "rBQdGRI-ncyU"
      },
      "source": [
        "# 6. Machine Learning com Features Selecionadas"
      ]
    },
    {
      "cell_type": "markdown",
      "metadata": {
        "id": "uYuh8flYncyV"
      },
      "source": [
        "**Separando os dados em treino e teste utilizando apenas as features selecionadas**"
      ]
    },
    {
      "cell_type": "code",
      "metadata": {
        "id": "LfSKWP0TncyW"
      },
      "source": [
        "X_train, X_test, y_train, y_test = train_test_split(\n",
        "    df_edu[features_selecionadas],\n",
        "    df_edu['Class'],\n",
        "    test_size=0.3,\n",
        "    random_state=0\n",
        ")"
      ],
      "execution_count": 21,
      "outputs": []
    },
    {
      "cell_type": "markdown",
      "metadata": {
        "id": "pH-03hM2ncyZ"
      },
      "source": [
        "**Novas forma dos dados em X e y**"
      ]
    },
    {
      "cell_type": "code",
      "metadata": {
        "id": "WIuxwOg1ncyZ",
        "colab": {
          "base_uri": "https://localhost:8080/"
        },
        "outputId": "40d8a3e2-1bdb-44ef-9c44-5c9ba66e731c"
      },
      "source": [
        "X_train.shape,X_test.shape, y_train.shape,y_test.shape"
      ],
      "execution_count": 22,
      "outputs": [
        {
          "output_type": "execute_result",
          "data": {
            "text/plain": [
              "((336, 11), (144, 11), (336,), (144,))"
            ]
          },
          "metadata": {
            "tags": []
          },
          "execution_count": 22
        }
      ]
    },
    {
      "cell_type": "markdown",
      "metadata": {
        "id": "sfipN9s6ncyd"
      },
      "source": [
        "**Instanciando o classificador**"
      ]
    },
    {
      "cell_type": "code",
      "metadata": {
        "id": "RcTum3jTncye",
        "colab": {
          "base_uri": "https://localhost:8080/"
        },
        "outputId": "d44404a8-0632-47ee-cb54-aedf31bc7afc"
      },
      "source": [
        "# instanciando o classificador\n",
        "random_clf = RandomForestClassifier(random_state=0)\n",
        "# Treinando novamente o modelo Random Forest\n",
        "random_clf.fit(X_train,y_train)"
      ],
      "execution_count": 23,
      "outputs": [
        {
          "output_type": "execute_result",
          "data": {
            "text/plain": [
              "RandomForestClassifier(bootstrap=True, ccp_alpha=0.0, class_weight=None,\n",
              "                       criterion='gini', max_depth=None, max_features='auto',\n",
              "                       max_leaf_nodes=None, max_samples=None,\n",
              "                       min_impurity_decrease=0.0, min_impurity_split=None,\n",
              "                       min_samples_leaf=1, min_samples_split=2,\n",
              "                       min_weight_fraction_leaf=0.0, n_estimators=100,\n",
              "                       n_jobs=None, oob_score=False, random_state=0, verbose=0,\n",
              "                       warm_start=False)"
            ]
          },
          "metadata": {
            "tags": []
          },
          "execution_count": 23
        }
      ]
    },
    {
      "cell_type": "markdown",
      "metadata": {
        "id": "6NJzR75Fncyh"
      },
      "source": [
        "**Executando o algoritmo**"
      ]
    },
    {
      "cell_type": "code",
      "metadata": {
        "scrolled": true,
        "id": "4pHXnjg5ncyi",
        "colab": {
          "base_uri": "https://localhost:8080/"
        },
        "outputId": "6b380a22-4218-43d0-bb85-3dad183beae5"
      },
      "source": [
        "resultado = random_clf.predict(X_test)\n",
        "resultado"
      ],
      "execution_count": 24,
      "outputs": [
        {
          "output_type": "execute_result",
          "data": {
            "text/plain": [
              "array([2, 1, 1, 2, 2, 2, 0, 1, 1, 1, 0, 2, 0, 1, 2, 0, 0, 1, 1, 0, 1, 0,\n",
              "       2, 2, 2, 0, 0, 2, 2, 1, 2, 1, 0, 2, 2, 2, 0, 0, 2, 2, 2, 1, 0, 0,\n",
              "       2, 2, 0, 2, 1, 2, 2, 2, 0, 1, 0, 2, 1, 1, 2, 2, 2, 2, 0, 0, 0, 2,\n",
              "       1, 2, 1, 1, 1, 1, 0, 1, 0, 1, 2, 1, 2, 1, 0, 2, 2, 1, 1, 0, 2, 0,\n",
              "       2, 0, 2, 0, 0, 0, 2, 2, 1, 0, 1, 0, 1, 2, 2, 1, 2, 0, 1, 0, 1, 2,\n",
              "       1, 2, 1, 1, 0, 2, 1, 2, 2, 0, 2, 2, 2, 2, 2, 2, 2, 2, 1, 2, 2, 1,\n",
              "       0, 1, 2, 0, 2, 2, 2, 0, 2, 2, 2, 0])"
            ]
          },
          "metadata": {
            "tags": []
          },
          "execution_count": 24
        }
      ]
    },
    {
      "cell_type": "markdown",
      "metadata": {
        "id": "d9rAMbCUncyk"
      },
      "source": [
        "# 7. Validação do Novo Modelo"
      ]
    },
    {
      "cell_type": "markdown",
      "metadata": {
        "id": "BsZ_6xVSncyl"
      },
      "source": [
        "**Métricas**"
      ]
    },
    {
      "cell_type": "code",
      "metadata": {
        "id": "HRz6rrQzncym",
        "colab": {
          "base_uri": "https://localhost:8080/"
        },
        "outputId": "4c80e3f1-8e7a-4b67-c98a-1d4bf927035e"
      },
      "source": [
        "from sklearn import metrics\n",
        "print(metrics.classification_report(y_test,resultado))"
      ],
      "execution_count": 25,
      "outputs": [
        {
          "output_type": "stream",
          "text": [
            "              precision    recall  f1-score   support\n",
            "\n",
            "           0       0.72      0.72      0.72        39\n",
            "           1       0.80      0.94      0.86        34\n",
            "           2       0.80      0.73      0.76        71\n",
            "\n",
            "    accuracy                           0.78       144\n",
            "   macro avg       0.77      0.80      0.78       144\n",
            "weighted avg       0.78      0.78      0.78       144\n",
            "\n"
          ],
          "name": "stdout"
        }
      ]
    },
    {
      "cell_type": "markdown",
      "metadata": {
        "id": "HpdirgMtncyp"
      },
      "source": [
        "Perceba que, **nesse caso** os resultados não sofreram alterações muito grande.\n",
        "Nesse caso houve uma piora, embora pequena nos resultados, contudo esse trabalho é necessário e **dever do cientista de dados** não apenas fazer esse trabalho, mas outros também, afinal a *skill* mais negligenciada pelos aspirantes é justamente a análise científica."
      ]
    },
    {
      "cell_type": "markdown",
      "metadata": {
        "id": "MKQVi_CBncyq"
      },
      "source": [
        "# 8. Exploração das Àrvores Geradas pelo Random Forest\n",
        "\n",
        "* Apenas para fins didáticos, por isso a exploração em baixo nível"
      ]
    },
    {
      "cell_type": "code",
      "metadata": {
        "id": "PHLxabaZncyq",
        "colab": {
          "base_uri": "https://localhost:8080/"
        },
        "outputId": "9982cb2d-b615-472d-9c66-c678540d1854"
      },
      "source": [
        "# random_clf é o próprio clf -> RandomForestClassifier(random_state=0)\n",
        "# aqui estão sendo explorados seus atributos internos\n",
        "print(\"Número de árvores da floresta: {}\".format(len(random_clf.estimators_))) \n",
        "print(\"Árvores floresta gerada:\")\n",
        "for tree in random_clf.estimators_: # cada estimator são os atributos de uma árvore\n",
        "    print(\"\\nNumero de nós: {}\".format(tree.tree_.node_count)) # contagem de nós\n",
        "    print(\"Profundidade da árvore: {}\".format(tree.tree_.max_depth)) # profundidade\n",
        "    print(\"Features importantes: {}\".format(tree.feature_importances_)) # features importantes\n",
        "    print(\"\\nObjeto: {}\".format(tree)) #  árvore de decisão"
      ],
      "execution_count": 26,
      "outputs": [
        {
          "output_type": "stream",
          "text": [
            "Número de árvores da floresta: 100\n",
            "Árvores floresta gerada:\n",
            "\n",
            "Numero de nós: 137\n",
            "Profundidade da árvore: 11\n",
            "Features importantes: [0.29508491 0.12996712 0.07784893 0.12847095 0.04857555 0.06625861\n",
            " 0.02485004 0.06129201 0.06444364 0.04591235 0.05729589]\n",
            "\n",
            "Objeto: DecisionTreeClassifier(ccp_alpha=0.0, class_weight=None, criterion='gini',\n",
            "                       max_depth=None, max_features='auto', max_leaf_nodes=None,\n",
            "                       min_impurity_decrease=0.0, min_impurity_split=None,\n",
            "                       min_samples_leaf=1, min_samples_split=2,\n",
            "                       min_weight_fraction_leaf=0.0, presort='deprecated',\n",
            "                       random_state=209652396, splitter='best')\n",
            "\n",
            "Numero de nós: 173\n",
            "Profundidade da árvore: 13\n",
            "Features importantes: [0.31498216 0.19463482 0.09195005 0.09397771 0.05017543 0.02865592\n",
            " 0.06837503 0.03378123 0.05759289 0.05658805 0.00928672]\n",
            "\n",
            "Objeto: DecisionTreeClassifier(ccp_alpha=0.0, class_weight=None, criterion='gini',\n",
            "                       max_depth=None, max_features='auto', max_leaf_nodes=None,\n",
            "                       min_impurity_decrease=0.0, min_impurity_split=None,\n",
            "                       min_samples_leaf=1, min_samples_split=2,\n",
            "                       min_weight_fraction_leaf=0.0, presort='deprecated',\n",
            "                       random_state=398764591, splitter='best')\n",
            "\n",
            "Numero de nós: 125\n",
            "Profundidade da árvore: 10\n",
            "Features importantes: [0.10848834 0.1311282  0.14615712 0.27011203 0.12358662 0.0087738\n",
            " 0.06551914 0.03175087 0.02757908 0.05582195 0.03108286]\n",
            "\n",
            "Objeto: DecisionTreeClassifier(ccp_alpha=0.0, class_weight=None, criterion='gini',\n",
            "                       max_depth=None, max_features='auto', max_leaf_nodes=None,\n",
            "                       min_impurity_decrease=0.0, min_impurity_split=None,\n",
            "                       min_samples_leaf=1, min_samples_split=2,\n",
            "                       min_weight_fraction_leaf=0.0, presort='deprecated',\n",
            "                       random_state=924231285, splitter='best')\n",
            "\n",
            "Numero de nós: 165\n",
            "Profundidade da árvore: 13\n",
            "Features importantes: [0.04343571 0.10646531 0.13531077 0.14403611 0.13283664 0.10942102\n",
            " 0.0802053  0.07791781 0.08622094 0.03595632 0.04819408]\n",
            "\n",
            "Objeto: DecisionTreeClassifier(ccp_alpha=0.0, class_weight=None, criterion='gini',\n",
            "                       max_depth=None, max_features='auto', max_leaf_nodes=None,\n",
            "                       min_impurity_decrease=0.0, min_impurity_split=None,\n",
            "                       min_samples_leaf=1, min_samples_split=2,\n",
            "                       min_weight_fraction_leaf=0.0, presort='deprecated',\n",
            "                       random_state=1478610112, splitter='best')\n",
            "\n",
            "Numero de nós: 151\n",
            "Profundidade da árvore: 12\n",
            "Features importantes: [0.3320863  0.10443851 0.10499991 0.06324758 0.08558201 0.06910514\n",
            " 0.03203805 0.03897272 0.04716656 0.03954696 0.08281627]\n",
            "\n",
            "Objeto: DecisionTreeClassifier(ccp_alpha=0.0, class_weight=None, criterion='gini',\n",
            "                       max_depth=None, max_features='auto', max_leaf_nodes=None,\n",
            "                       min_impurity_decrease=0.0, min_impurity_split=None,\n",
            "                       min_samples_leaf=1, min_samples_split=2,\n",
            "                       min_weight_fraction_leaf=0.0, presort='deprecated',\n",
            "                       random_state=441365315, splitter='best')\n",
            "\n",
            "Numero de nós: 133\n",
            "Profundidade da árvore: 12\n",
            "Features importantes: [0.10419389 0.24673111 0.04026838 0.10497512 0.15951766 0.11220711\n",
            " 0.06676007 0.02767974 0.02575728 0.03807143 0.07383822]\n",
            "\n",
            "Objeto: DecisionTreeClassifier(ccp_alpha=0.0, class_weight=None, criterion='gini',\n",
            "                       max_depth=None, max_features='auto', max_leaf_nodes=None,\n",
            "                       min_impurity_decrease=0.0, min_impurity_split=None,\n",
            "                       min_samples_leaf=1, min_samples_split=2,\n",
            "                       min_weight_fraction_leaf=0.0, presort='deprecated',\n",
            "                       random_state=1537364731, splitter='best')\n",
            "\n",
            "Numero de nós: 125\n",
            "Profundidade da árvore: 13\n",
            "Features importantes: [0.19839549 0.13012108 0.24663104 0.18320344 0.0432843  0.03339982\n",
            " 0.03987954 0.03969121 0.02180461 0.02828248 0.035307  ]\n",
            "\n",
            "Objeto: DecisionTreeClassifier(ccp_alpha=0.0, class_weight=None, criterion='gini',\n",
            "                       max_depth=None, max_features='auto', max_leaf_nodes=None,\n",
            "                       min_impurity_decrease=0.0, min_impurity_split=None,\n",
            "                       min_samples_leaf=1, min_samples_split=2,\n",
            "                       min_weight_fraction_leaf=0.0, presort='deprecated',\n",
            "                       random_state=192771779, splitter='best')\n",
            "\n",
            "Numero de nós: 137\n",
            "Profundidade da árvore: 12\n",
            "Features importantes: [0.15203094 0.13399325 0.08373612 0.21251829 0.11982014 0.09685595\n",
            " 0.02484702 0.01682809 0.039307   0.08786763 0.03219557]\n",
            "\n",
            "Objeto: DecisionTreeClassifier(ccp_alpha=0.0, class_weight=None, criterion='gini',\n",
            "                       max_depth=None, max_features='auto', max_leaf_nodes=None,\n",
            "                       min_impurity_decrease=0.0, min_impurity_split=None,\n",
            "                       min_samples_leaf=1, min_samples_split=2,\n",
            "                       min_weight_fraction_leaf=0.0, presort='deprecated',\n",
            "                       random_state=1491434855, splitter='best')\n",
            "\n",
            "Numero de nós: 159\n",
            "Profundidade da árvore: 11\n",
            "Features importantes: [0.1172089  0.1658016  0.23104945 0.09451229 0.10667351 0.06441795\n",
            " 0.03095236 0.04750743 0.02852509 0.03434834 0.07900309]\n",
            "\n",
            "Objeto: DecisionTreeClassifier(ccp_alpha=0.0, class_weight=None, criterion='gini',\n",
            "                       max_depth=None, max_features='auto', max_leaf_nodes=None,\n",
            "                       min_impurity_decrease=0.0, min_impurity_split=None,\n",
            "                       min_samples_leaf=1, min_samples_split=2,\n",
            "                       min_weight_fraction_leaf=0.0, presort='deprecated',\n",
            "                       random_state=1819583497, splitter='best')\n",
            "\n",
            "Numero de nós: 147\n",
            "Profundidade da árvore: 11\n",
            "Features importantes: [0.39253687 0.11466243 0.06360511 0.0710092  0.12810956 0.05595222\n",
            " 0.00855311 0.04290637 0.02790672 0.0340503  0.06070813]\n",
            "\n",
            "Objeto: DecisionTreeClassifier(ccp_alpha=0.0, class_weight=None, criterion='gini',\n",
            "                       max_depth=None, max_features='auto', max_leaf_nodes=None,\n",
            "                       min_impurity_decrease=0.0, min_impurity_split=None,\n",
            "                       min_samples_leaf=1, min_samples_split=2,\n",
            "                       min_weight_fraction_leaf=0.0, presort='deprecated',\n",
            "                       random_state=530702035, splitter='best')\n",
            "\n",
            "Numero de nós: 135\n",
            "Profundidade da árvore: 13\n",
            "Features importantes: [0.10535752 0.34096421 0.11873314 0.10930429 0.09475149 0.06914296\n",
            " 0.06727143 0.01058149 0.0256582  0.02439535 0.03383992]\n",
            "\n",
            "Objeto: DecisionTreeClassifier(ccp_alpha=0.0, class_weight=None, criterion='gini',\n",
            "                       max_depth=None, max_features='auto', max_leaf_nodes=None,\n",
            "                       min_impurity_decrease=0.0, min_impurity_split=None,\n",
            "                       min_samples_leaf=1, min_samples_split=2,\n",
            "                       min_weight_fraction_leaf=0.0, presort='deprecated',\n",
            "                       random_state=626610453, splitter='best')\n",
            "\n",
            "Numero de nós: 139\n",
            "Profundidade da árvore: 10\n",
            "Features importantes: [0.3091911  0.16533485 0.07579292 0.04951772 0.14587836 0.0311691\n",
            " 0.05578108 0.02606393 0.03965396 0.04811024 0.05350673]\n",
            "\n",
            "Objeto: DecisionTreeClassifier(ccp_alpha=0.0, class_weight=None, criterion='gini',\n",
            "                       max_depth=None, max_features='auto', max_leaf_nodes=None,\n",
            "                       min_impurity_decrease=0.0, min_impurity_split=None,\n",
            "                       min_samples_leaf=1, min_samples_split=2,\n",
            "                       min_weight_fraction_leaf=0.0, presort='deprecated',\n",
            "                       random_state=1650906866, splitter='best')\n",
            "\n",
            "Numero de nós: 163\n",
            "Profundidade da árvore: 12\n",
            "Features importantes: [0.07577034 0.16723618 0.16181611 0.16963254 0.07951648 0.16409828\n",
            " 0.03963141 0.03613552 0.0490037  0.0167747  0.04038474]\n",
            "\n",
            "Objeto: DecisionTreeClassifier(ccp_alpha=0.0, class_weight=None, criterion='gini',\n",
            "                       max_depth=None, max_features='auto', max_leaf_nodes=None,\n",
            "                       min_impurity_decrease=0.0, min_impurity_split=None,\n",
            "                       min_samples_leaf=1, min_samples_split=2,\n",
            "                       min_weight_fraction_leaf=0.0, presort='deprecated',\n",
            "                       random_state=1879422756, splitter='best')\n",
            "\n",
            "Numero de nós: 159\n",
            "Profundidade da árvore: 12\n",
            "Features importantes: [0.18561685 0.25356373 0.14700239 0.07325525 0.06182457 0.04380702\n",
            " 0.01774158 0.04266546 0.0531284  0.08433235 0.03706239]\n",
            "\n",
            "Objeto: DecisionTreeClassifier(ccp_alpha=0.0, class_weight=None, criterion='gini',\n",
            "                       max_depth=None, max_features='auto', max_leaf_nodes=None,\n",
            "                       min_impurity_decrease=0.0, min_impurity_split=None,\n",
            "                       min_samples_leaf=1, min_samples_split=2,\n",
            "                       min_weight_fraction_leaf=0.0, presort='deprecated',\n",
            "                       random_state=1277901399, splitter='best')\n",
            "\n",
            "Numero de nós: 125\n",
            "Profundidade da árvore: 12\n",
            "Features importantes: [0.30257676 0.11678185 0.11323955 0.14651573 0.0728593  0.06176339\n",
            " 0.0690567  0.05205537 0.01885586 0.03032146 0.01597402]\n",
            "\n",
            "Objeto: DecisionTreeClassifier(ccp_alpha=0.0, class_weight=None, criterion='gini',\n",
            "                       max_depth=None, max_features='auto', max_leaf_nodes=None,\n",
            "                       min_impurity_decrease=0.0, min_impurity_split=None,\n",
            "                       min_samples_leaf=1, min_samples_split=2,\n",
            "                       min_weight_fraction_leaf=0.0, presort='deprecated',\n",
            "                       random_state=1682652230, splitter='best')\n",
            "\n",
            "Numero de nós: 161\n",
            "Profundidade da árvore: 14\n",
            "Features importantes: [0.12911321 0.15005252 0.28670184 0.1626948  0.09076593 0.0113022\n",
            " 0.02472977 0.03874703 0.00598019 0.05842159 0.04149092]\n",
            "\n",
            "Objeto: DecisionTreeClassifier(ccp_alpha=0.0, class_weight=None, criterion='gini',\n",
            "                       max_depth=None, max_features='auto', max_leaf_nodes=None,\n",
            "                       min_impurity_decrease=0.0, min_impurity_split=None,\n",
            "                       min_samples_leaf=1, min_samples_split=2,\n",
            "                       min_weight_fraction_leaf=0.0, presort='deprecated',\n",
            "                       random_state=243580376, splitter='best')\n",
            "\n",
            "Numero de nós: 123\n",
            "Profundidade da árvore: 13\n",
            "Features importantes: [0.13670913 0.11698493 0.12861839 0.16679146 0.06080557 0.12872206\n",
            " 0.0349404  0.05854321 0.10893252 0.03330916 0.02564318]\n",
            "\n",
            "Objeto: DecisionTreeClassifier(ccp_alpha=0.0, class_weight=None, criterion='gini',\n",
            "                       max_depth=None, max_features='auto', max_leaf_nodes=None,\n",
            "                       min_impurity_decrease=0.0, min_impurity_split=None,\n",
            "                       min_samples_leaf=1, min_samples_split=2,\n",
            "                       min_weight_fraction_leaf=0.0, presort='deprecated',\n",
            "                       random_state=1991416408, splitter='best')\n",
            "\n",
            "Numero de nós: 121\n",
            "Profundidade da árvore: 13\n",
            "Features importantes: [0.166384   0.26645359 0.06916086 0.23764605 0.14521363 0.00388189\n",
            " 0.00149529 0.0109321  0.01127587 0.00475929 0.08279743]\n",
            "\n",
            "Objeto: DecisionTreeClassifier(ccp_alpha=0.0, class_weight=None, criterion='gini',\n",
            "                       max_depth=None, max_features='auto', max_leaf_nodes=None,\n",
            "                       min_impurity_decrease=0.0, min_impurity_split=None,\n",
            "                       min_samples_leaf=1, min_samples_split=2,\n",
            "                       min_weight_fraction_leaf=0.0, presort='deprecated',\n",
            "                       random_state=1171049868, splitter='best')\n",
            "\n",
            "Numero de nós: 145\n",
            "Profundidade da árvore: 12\n",
            "Features importantes: [0.07082758 0.37664966 0.05590491 0.18759713 0.1105455  0.00879258\n",
            " 0.04824785 0.02897171 0.0617774  0.01699687 0.0336888 ]\n",
            "\n",
            "Objeto: DecisionTreeClassifier(ccp_alpha=0.0, class_weight=None, criterion='gini',\n",
            "                       max_depth=None, max_features='auto', max_leaf_nodes=None,\n",
            "                       min_impurity_decrease=0.0, min_impurity_split=None,\n",
            "                       min_samples_leaf=1, min_samples_split=2,\n",
            "                       min_weight_fraction_leaf=0.0, presort='deprecated',\n",
            "                       random_state=1646868794, splitter='best')\n",
            "\n",
            "Numero de nós: 151\n",
            "Profundidade da árvore: 10\n",
            "Features importantes: [0.08782165 0.23715003 0.15177023 0.08520744 0.12988658 0.0535314\n",
            " 0.04993552 0.05714697 0.06134691 0.04522053 0.04098274]\n",
            "\n",
            "Objeto: DecisionTreeClassifier(ccp_alpha=0.0, class_weight=None, criterion='gini',\n",
            "                       max_depth=None, max_features='auto', max_leaf_nodes=None,\n",
            "                       min_impurity_decrease=0.0, min_impurity_split=None,\n",
            "                       min_samples_leaf=1, min_samples_split=2,\n",
            "                       min_weight_fraction_leaf=0.0, presort='deprecated',\n",
            "                       random_state=2051556033, splitter='best')\n",
            "\n",
            "Numero de nós: 137\n",
            "Profundidade da árvore: 14\n",
            "Features importantes: [0.27508748 0.09437285 0.12941995 0.04099529 0.16627898 0.12630935\n",
            " 0.03793688 0.04031646 0.03900099 0.04443809 0.00584368]\n",
            "\n",
            "Objeto: DecisionTreeClassifier(ccp_alpha=0.0, class_weight=None, criterion='gini',\n",
            "                       max_depth=None, max_features='auto', max_leaf_nodes=None,\n",
            "                       min_impurity_decrease=0.0, min_impurity_split=None,\n",
            "                       min_samples_leaf=1, min_samples_split=2,\n",
            "                       min_weight_fraction_leaf=0.0, presort='deprecated',\n",
            "                       random_state=1252949478, splitter='best')\n",
            "\n",
            "Numero de nós: 161\n",
            "Profundidade da árvore: 14\n",
            "Features importantes: [0.14466375 0.12963512 0.23148049 0.23205162 0.08742048 0.00506369\n",
            " 0.05050603 0.0165423  0.02704806 0.04190226 0.03368621]\n",
            "\n",
            "Objeto: DecisionTreeClassifier(ccp_alpha=0.0, class_weight=None, criterion='gini',\n",
            "                       max_depth=None, max_features='auto', max_leaf_nodes=None,\n",
            "                       min_impurity_decrease=0.0, min_impurity_split=None,\n",
            "                       min_samples_leaf=1, min_samples_split=2,\n",
            "                       min_weight_fraction_leaf=0.0, presort='deprecated',\n",
            "                       random_state=1340754471, splitter='best')\n",
            "\n",
            "Numero de nós: 153\n",
            "Profundidade da árvore: 13\n",
            "Features importantes: [0.25618201 0.14004229 0.15450982 0.10946325 0.14576248 0.04080011\n",
            " 0.03617964 0.02703257 0.02377298 0.02774577 0.03850908]\n",
            "\n",
            "Objeto: DecisionTreeClassifier(ccp_alpha=0.0, class_weight=None, criterion='gini',\n",
            "                       max_depth=None, max_features='auto', max_leaf_nodes=None,\n",
            "                       min_impurity_decrease=0.0, min_impurity_split=None,\n",
            "                       min_samples_leaf=1, min_samples_split=2,\n",
            "                       min_weight_fraction_leaf=0.0, presort='deprecated',\n",
            "                       random_state=124102743, splitter='best')\n",
            "\n",
            "Numero de nós: 137\n",
            "Profundidade da árvore: 10\n",
            "Features importantes: [0.08204987 0.15328772 0.21695886 0.21945705 0.06466933 0.03917537\n",
            " 0.05537032 0.030101   0.05962301 0.02371656 0.05559091]\n",
            "\n",
            "Objeto: DecisionTreeClassifier(ccp_alpha=0.0, class_weight=None, criterion='gini',\n",
            "                       max_depth=None, max_features='auto', max_leaf_nodes=None,\n",
            "                       min_impurity_decrease=0.0, min_impurity_split=None,\n",
            "                       min_samples_leaf=1, min_samples_split=2,\n",
            "                       min_weight_fraction_leaf=0.0, presort='deprecated',\n",
            "                       random_state=2061486254, splitter='best')\n",
            "\n",
            "Numero de nós: 151\n",
            "Profundidade da árvore: 17\n",
            "Features importantes: [0.08650915 0.3023801  0.0952285  0.0925464  0.09850029 0.02815462\n",
            " 0.05311752 0.06794937 0.05322683 0.03961085 0.08277638]\n",
            "\n",
            "Objeto: DecisionTreeClassifier(ccp_alpha=0.0, class_weight=None, criterion='gini',\n",
            "                       max_depth=None, max_features='auto', max_leaf_nodes=None,\n",
            "                       min_impurity_decrease=0.0, min_impurity_split=None,\n",
            "                       min_samples_leaf=1, min_samples_split=2,\n",
            "                       min_weight_fraction_leaf=0.0, presort='deprecated',\n",
            "                       random_state=292249176, splitter='best')\n",
            "\n",
            "Numero de nós: 135\n",
            "Profundidade da árvore: 15\n",
            "Features importantes: [0.25060533 0.08945865 0.12911756 0.27838206 0.09476992 0.02426859\n",
            " 0.05170967 0.04648759 0.01981501 0.00986499 0.00552062]\n",
            "\n",
            "Objeto: DecisionTreeClassifier(ccp_alpha=0.0, class_weight=None, criterion='gini',\n",
            "                       max_depth=None, max_features='auto', max_leaf_nodes=None,\n",
            "                       min_impurity_decrease=0.0, min_impurity_split=None,\n",
            "                       min_samples_leaf=1, min_samples_split=2,\n",
            "                       min_weight_fraction_leaf=0.0, presort='deprecated',\n",
            "                       random_state=1686997841, splitter='best')\n",
            "\n",
            "Numero de nós: 135\n",
            "Profundidade da árvore: 14\n",
            "Features importantes: [0.11500036 0.0724323  0.17094908 0.17778137 0.08077626 0.11667862\n",
            " 0.10373885 0.05163497 0.04163015 0.03489407 0.03448398]\n",
            "\n",
            "Objeto: DecisionTreeClassifier(ccp_alpha=0.0, class_weight=None, criterion='gini',\n",
            "                       max_depth=None, max_features='auto', max_leaf_nodes=None,\n",
            "                       min_impurity_decrease=0.0, min_impurity_split=None,\n",
            "                       min_samples_leaf=1, min_samples_split=2,\n",
            "                       min_weight_fraction_leaf=0.0, presort='deprecated',\n",
            "                       random_state=1827923621, splitter='best')\n",
            "\n",
            "Numero de nós: 153\n",
            "Profundidade da árvore: 11\n",
            "Features importantes: [0.26013313 0.10648244 0.13068582 0.14013434 0.12768921 0.09833484\n",
            " 0.0288566  0.04808272 0.01706381 0.01573195 0.02680515]\n",
            "\n",
            "Objeto: DecisionTreeClassifier(ccp_alpha=0.0, class_weight=None, criterion='gini',\n",
            "                       max_depth=None, max_features='auto', max_leaf_nodes=None,\n",
            "                       min_impurity_decrease=0.0, min_impurity_split=None,\n",
            "                       min_samples_leaf=1, min_samples_split=2,\n",
            "                       min_weight_fraction_leaf=0.0, presort='deprecated',\n",
            "                       random_state=1443447321, splitter='best')\n",
            "\n",
            "Numero de nós: 151\n",
            "Profundidade da árvore: 12\n",
            "Features importantes: [0.13305809 0.19304315 0.20158709 0.10805761 0.08020856 0.0728239\n",
            " 0.07760939 0.02843841 0.06004707 0.02552785 0.01959887]\n",
            "\n",
            "Objeto: DecisionTreeClassifier(ccp_alpha=0.0, class_weight=None, criterion='gini',\n",
            "                       max_depth=None, max_features='auto', max_leaf_nodes=None,\n",
            "                       min_impurity_decrease=0.0, min_impurity_split=None,\n",
            "                       min_samples_leaf=1, min_samples_split=2,\n",
            "                       min_weight_fraction_leaf=0.0, presort='deprecated',\n",
            "                       random_state=305097549, splitter='best')\n",
            "\n",
            "Numero de nós: 147\n",
            "Profundidade da árvore: 12\n",
            "Features importantes: [0.32930537 0.12021708 0.07297208 0.11661914 0.06469571 0.05552832\n",
            " 0.10686585 0.02871559 0.02733401 0.06132333 0.01642351]\n",
            "\n",
            "Objeto: DecisionTreeClassifier(ccp_alpha=0.0, class_weight=None, criterion='gini',\n",
            "                       max_depth=None, max_features='auto', max_leaf_nodes=None,\n",
            "                       min_impurity_decrease=0.0, min_impurity_split=None,\n",
            "                       min_samples_leaf=1, min_samples_split=2,\n",
            "                       min_weight_fraction_leaf=0.0, presort='deprecated',\n",
            "                       random_state=1449105480, splitter='best')\n",
            "\n",
            "Numero de nós: 139\n",
            "Profundidade da árvore: 12\n",
            "Features importantes: [0.07485537 0.15155745 0.32957191 0.19390275 0.12002747 0.06225375\n",
            " 0.02519455 0.01558872 0.00502467 0.02155629 0.00046705]\n",
            "\n",
            "Objeto: DecisionTreeClassifier(ccp_alpha=0.0, class_weight=None, criterion='gini',\n",
            "                       max_depth=None, max_features='auto', max_leaf_nodes=None,\n",
            "                       min_impurity_decrease=0.0, min_impurity_split=None,\n",
            "                       min_samples_leaf=1, min_samples_split=2,\n",
            "                       min_weight_fraction_leaf=0.0, presort='deprecated',\n",
            "                       random_state=374217481, splitter='best')\n",
            "\n",
            "Numero de nós: 135\n",
            "Profundidade da árvore: 14\n",
            "Features importantes: [0.25807421 0.16276775 0.20094163 0.09075754 0.06550517 0.03880937\n",
            " 0.02490943 0.01714238 0.02873533 0.05374441 0.05861278]\n",
            "\n",
            "Objeto: DecisionTreeClassifier(ccp_alpha=0.0, class_weight=None, criterion='gini',\n",
            "                       max_depth=None, max_features='auto', max_leaf_nodes=None,\n",
            "                       min_impurity_decrease=0.0, min_impurity_split=None,\n",
            "                       min_samples_leaf=1, min_samples_split=2,\n",
            "                       min_weight_fraction_leaf=0.0, presort='deprecated',\n",
            "                       random_state=636393364, splitter='best')\n",
            "\n",
            "Numero de nós: 135\n",
            "Profundidade da árvore: 10\n",
            "Features importantes: [0.12808169 0.26880968 0.11594853 0.15048776 0.19348253 0.03833544\n",
            " 0.04036793 0.02105514 0.0028282  0.02955509 0.01104799]\n",
            "\n",
            "Objeto: DecisionTreeClassifier(ccp_alpha=0.0, class_weight=None, criterion='gini',\n",
            "                       max_depth=None, max_features='auto', max_leaf_nodes=None,\n",
            "                       min_impurity_decrease=0.0, min_impurity_split=None,\n",
            "                       min_samples_leaf=1, min_samples_split=2,\n",
            "                       min_weight_fraction_leaf=0.0, presort='deprecated',\n",
            "                       random_state=86837363, splitter='best')\n",
            "\n",
            "Numero de nós: 153\n",
            "Profundidade da árvore: 12\n",
            "Features importantes: [0.23481103 0.27662497 0.03181275 0.06588035 0.16924044 0.02597107\n",
            " 0.02872566 0.02727541 0.03316648 0.06434511 0.04214673]\n",
            "\n",
            "Objeto: DecisionTreeClassifier(ccp_alpha=0.0, class_weight=None, criterion='gini',\n",
            "                       max_depth=None, max_features='auto', max_leaf_nodes=None,\n",
            "                       min_impurity_decrease=0.0, min_impurity_split=None,\n",
            "                       min_samples_leaf=1, min_samples_split=2,\n",
            "                       min_weight_fraction_leaf=0.0, presort='deprecated',\n",
            "                       random_state=1581585360, splitter='best')\n",
            "\n",
            "Numero de nós: 173\n",
            "Profundidade da árvore: 16\n",
            "Features importantes: [0.1872565  0.11092034 0.22574394 0.15906112 0.08972453 0.02601484\n",
            " 0.02359647 0.04238755 0.02569623 0.05423233 0.05536615]\n",
            "\n",
            "Objeto: DecisionTreeClassifier(ccp_alpha=0.0, class_weight=None, criterion='gini',\n",
            "                       max_depth=None, max_features='auto', max_leaf_nodes=None,\n",
            "                       min_impurity_decrease=0.0, min_impurity_split=None,\n",
            "                       min_samples_leaf=1, min_samples_split=2,\n",
            "                       min_weight_fraction_leaf=0.0, presort='deprecated',\n",
            "                       random_state=1428591347, splitter='best')\n",
            "\n",
            "Numero de nós: 147\n",
            "Profundidade da árvore: 13\n",
            "Features importantes: [0.24745564 0.0710705  0.10126985 0.12945707 0.15908679 0.03120014\n",
            " 0.03956998 0.04946493 0.07533215 0.0465702  0.04952275]\n",
            "\n",
            "Objeto: DecisionTreeClassifier(ccp_alpha=0.0, class_weight=None, criterion='gini',\n",
            "                       max_depth=None, max_features='auto', max_leaf_nodes=None,\n",
            "                       min_impurity_decrease=0.0, min_impurity_split=None,\n",
            "                       min_samples_leaf=1, min_samples_split=2,\n",
            "                       min_weight_fraction_leaf=0.0, presort='deprecated',\n",
            "                       random_state=1963466437, splitter='best')\n",
            "\n",
            "Numero de nós: 141\n",
            "Profundidade da árvore: 14\n",
            "Features importantes: [0.26651415 0.1137444  0.15110926 0.11835387 0.14419241 0.04288871\n",
            " 0.08279698 0.01010019 0.01834803 0.01725473 0.03469727]\n",
            "\n",
            "Objeto: DecisionTreeClassifier(ccp_alpha=0.0, class_weight=None, criterion='gini',\n",
            "                       max_depth=None, max_features='auto', max_leaf_nodes=None,\n",
            "                       min_impurity_decrease=0.0, min_impurity_split=None,\n",
            "                       min_samples_leaf=1, min_samples_split=2,\n",
            "                       min_weight_fraction_leaf=0.0, presort='deprecated',\n",
            "                       random_state=1194674174, splitter='best')\n",
            "\n",
            "Numero de nós: 113\n",
            "Profundidade da árvore: 10\n",
            "Features importantes: [0.14934844 0.10854181 0.2329081  0.07770927 0.07633794 0.07378077\n",
            " 0.02727936 0.05454804 0.08357643 0.05168645 0.06428338]\n",
            "\n",
            "Objeto: DecisionTreeClassifier(ccp_alpha=0.0, class_weight=None, criterion='gini',\n",
            "                       max_depth=None, max_features='auto', max_leaf_nodes=None,\n",
            "                       min_impurity_decrease=0.0, min_impurity_split=None,\n",
            "                       min_samples_leaf=1, min_samples_split=2,\n",
            "                       min_weight_fraction_leaf=0.0, presort='deprecated',\n",
            "                       random_state=602801999, splitter='best')\n",
            "\n",
            "Numero de nós: 153\n",
            "Profundidade da árvore: 10\n",
            "Features importantes: [0.23964887 0.22456518 0.08769411 0.10214345 0.07487519 0.00902015\n",
            " 0.07289655 0.01380738 0.09214519 0.03564969 0.04755424]\n",
            "\n",
            "Objeto: DecisionTreeClassifier(ccp_alpha=0.0, class_weight=None, criterion='gini',\n",
            "                       max_depth=None, max_features='auto', max_leaf_nodes=None,\n",
            "                       min_impurity_decrease=0.0, min_impurity_split=None,\n",
            "                       min_samples_leaf=1, min_samples_split=2,\n",
            "                       min_weight_fraction_leaf=0.0, presort='deprecated',\n",
            "                       random_state=1589190063, splitter='best')\n",
            "\n",
            "Numero de nós: 125\n",
            "Profundidade da árvore: 11\n",
            "Features importantes: [0.19001326 0.15021454 0.15844183 0.21352787 0.08271254 0.00602747\n",
            " 0.04412493 0.03713857 0.01133519 0.07789527 0.02856853]\n",
            "\n",
            "Objeto: DecisionTreeClassifier(ccp_alpha=0.0, class_weight=None, criterion='gini',\n",
            "                       max_depth=None, max_features='auto', max_leaf_nodes=None,\n",
            "                       min_impurity_decrease=0.0, min_impurity_split=None,\n",
            "                       min_samples_leaf=1, min_samples_split=2,\n",
            "                       min_weight_fraction_leaf=0.0, presort='deprecated',\n",
            "                       random_state=1589512640, splitter='best')\n",
            "\n",
            "Numero de nós: 131\n",
            "Profundidade da árvore: 12\n",
            "Features importantes: [0.17094343 0.1423489  0.22489915 0.20127565 0.055844   0.09594747\n",
            " 0.03815602 0.0239274  0.01175889 0.03228707 0.00261201]\n",
            "\n",
            "Objeto: DecisionTreeClassifier(ccp_alpha=0.0, class_weight=None, criterion='gini',\n",
            "                       max_depth=None, max_features='auto', max_leaf_nodes=None,\n",
            "                       min_impurity_decrease=0.0, min_impurity_split=None,\n",
            "                       min_samples_leaf=1, min_samples_split=2,\n",
            "                       min_weight_fraction_leaf=0.0, presort='deprecated',\n",
            "                       random_state=2055650130, splitter='best')\n",
            "\n",
            "Numero de nós: 137\n",
            "Profundidade da árvore: 13\n",
            "Features importantes: [0.12454344 0.07752892 0.13841128 0.2196016  0.10558417 0.03945518\n",
            " 0.05519621 0.03884811 0.09614052 0.01786353 0.08682702]\n",
            "\n",
            "Objeto: DecisionTreeClassifier(ccp_alpha=0.0, class_weight=None, criterion='gini',\n",
            "                       max_depth=None, max_features='auto', max_leaf_nodes=None,\n",
            "                       min_impurity_decrease=0.0, min_impurity_split=None,\n",
            "                       min_samples_leaf=1, min_samples_split=2,\n",
            "                       min_weight_fraction_leaf=0.0, presort='deprecated',\n",
            "                       random_state=2034131043, splitter='best')\n",
            "\n",
            "Numero de nós: 139\n",
            "Profundidade da árvore: 13\n",
            "Features importantes: [0.23582436 0.08492403 0.24319384 0.06641893 0.14943137 0.05272043\n",
            " 0.03865208 0.0570602  0.05718392 0.00607952 0.00851133]\n",
            "\n",
            "Objeto: DecisionTreeClassifier(ccp_alpha=0.0, class_weight=None, criterion='gini',\n",
            "                       max_depth=None, max_features='auto', max_leaf_nodes=None,\n",
            "                       min_impurity_decrease=0.0, min_impurity_split=None,\n",
            "                       min_samples_leaf=1, min_samples_split=2,\n",
            "                       min_weight_fraction_leaf=0.0, presort='deprecated',\n",
            "                       random_state=1284876248, splitter='best')\n",
            "\n",
            "Numero de nós: 161\n",
            "Profundidade da árvore: 12\n",
            "Features importantes: [0.19321245 0.08133479 0.25946215 0.05964315 0.15445756 0.05035589\n",
            " 0.05790241 0.07131048 0.01088617 0.03790507 0.02352989]\n",
            "\n",
            "Objeto: DecisionTreeClassifier(ccp_alpha=0.0, class_weight=None, criterion='gini',\n",
            "                       max_depth=None, max_features='auto', max_leaf_nodes=None,\n",
            "                       min_impurity_decrease=0.0, min_impurity_split=None,\n",
            "                       min_samples_leaf=1, min_samples_split=2,\n",
            "                       min_weight_fraction_leaf=0.0, presort='deprecated',\n",
            "                       random_state=1292401841, splitter='best')\n",
            "\n",
            "Numero de nós: 149\n",
            "Profundidade da árvore: 17\n",
            "Features importantes: [0.28435625 0.19186452 0.14290653 0.05437525 0.13274242 0.01269824\n",
            " 0.04073348 0.02407048 0.0305557  0.03474893 0.0509482 ]\n",
            "\n",
            "Objeto: DecisionTreeClassifier(ccp_alpha=0.0, class_weight=None, criterion='gini',\n",
            "                       max_depth=None, max_features='auto', max_leaf_nodes=None,\n",
            "                       min_impurity_decrease=0.0, min_impurity_split=None,\n",
            "                       min_samples_leaf=1, min_samples_split=2,\n",
            "                       min_weight_fraction_leaf=0.0, presort='deprecated',\n",
            "                       random_state=1982038771, splitter='best')\n",
            "\n",
            "Numero de nós: 139\n",
            "Profundidade da árvore: 14\n",
            "Features importantes: [0.04821791 0.29180613 0.11125458 0.09045625 0.17746458 0.0484435\n",
            " 0.03339946 0.07440769 0.03490407 0.04073717 0.04890867]\n",
            "\n",
            "Objeto: DecisionTreeClassifier(ccp_alpha=0.0, class_weight=None, criterion='gini',\n",
            "                       max_depth=None, max_features='auto', max_leaf_nodes=None,\n",
            "                       min_impurity_decrease=0.0, min_impurity_split=None,\n",
            "                       min_samples_leaf=1, min_samples_split=2,\n",
            "                       min_weight_fraction_leaf=0.0, presort='deprecated',\n",
            "                       random_state=87950109, splitter='best')\n",
            "\n",
            "Numero de nós: 147\n",
            "Profundidade da árvore: 13\n",
            "Features importantes: [0.36123842 0.05591169 0.13766719 0.06109603 0.10865354 0.01451539\n",
            " 0.04030737 0.09312251 0.04565373 0.04028336 0.04155077]\n",
            "\n",
            "Objeto: DecisionTreeClassifier(ccp_alpha=0.0, class_weight=None, criterion='gini',\n",
            "                       max_depth=None, max_features='auto', max_leaf_nodes=None,\n",
            "                       min_impurity_decrease=0.0, min_impurity_split=None,\n",
            "                       min_samples_leaf=1, min_samples_split=2,\n",
            "                       min_weight_fraction_leaf=0.0, presort='deprecated',\n",
            "                       random_state=1204863635, splitter='best')\n",
            "\n",
            "Numero de nós: 153\n",
            "Profundidade da árvore: 15\n",
            "Features importantes: [0.16781298 0.27871461 0.03167442 0.05599886 0.08145333 0.04579197\n",
            " 0.03397228 0.0943001  0.08704005 0.06238337 0.06085803]\n",
            "\n",
            "Objeto: DecisionTreeClassifier(ccp_alpha=0.0, class_weight=None, criterion='gini',\n",
            "                       max_depth=None, max_features='auto', max_leaf_nodes=None,\n",
            "                       min_impurity_decrease=0.0, min_impurity_split=None,\n",
            "                       min_samples_leaf=1, min_samples_split=2,\n",
            "                       min_weight_fraction_leaf=0.0, presort='deprecated',\n",
            "                       random_state=768281747, splitter='best')\n",
            "\n",
            "Numero de nós: 153\n",
            "Profundidade da árvore: 11\n",
            "Features importantes: [0.10047121 0.24894697 0.26910401 0.14531565 0.06209553 0.02809017\n",
            " 0.0238961  0.03890629 0.01806699 0.00768946 0.05741761]\n",
            "\n",
            "Objeto: DecisionTreeClassifier(ccp_alpha=0.0, class_weight=None, criterion='gini',\n",
            "                       max_depth=None, max_features='auto', max_leaf_nodes=None,\n",
            "                       min_impurity_decrease=0.0, min_impurity_split=None,\n",
            "                       min_samples_leaf=1, min_samples_split=2,\n",
            "                       min_weight_fraction_leaf=0.0, presort='deprecated',\n",
            "                       random_state=507984782, splitter='best')\n",
            "\n",
            "Numero de nós: 149\n",
            "Profundidade da árvore: 15\n",
            "Features importantes: [0.30975815 0.08165125 0.08837003 0.15381082 0.15927292 0.00764296\n",
            " 0.03869695 0.08680282 0.00999955 0.02301624 0.0409783 ]\n",
            "\n",
            "Objeto: DecisionTreeClassifier(ccp_alpha=0.0, class_weight=None, criterion='gini',\n",
            "                       max_depth=None, max_features='auto', max_leaf_nodes=None,\n",
            "                       min_impurity_decrease=0.0, min_impurity_split=None,\n",
            "                       min_samples_leaf=1, min_samples_split=2,\n",
            "                       min_weight_fraction_leaf=0.0, presort='deprecated',\n",
            "                       random_state=947610023, splitter='best')\n",
            "\n",
            "Numero de nós: 141\n",
            "Profundidade da árvore: 11\n",
            "Features importantes: [0.3370346  0.16261287 0.17447875 0.07110835 0.11974457 0.0167741\n",
            " 0.04191801 0.03790925 0.01621574 0.01317548 0.00902828]\n",
            "\n",
            "Objeto: DecisionTreeClassifier(ccp_alpha=0.0, class_weight=None, criterion='gini',\n",
            "                       max_depth=None, max_features='auto', max_leaf_nodes=None,\n",
            "                       min_impurity_decrease=0.0, min_impurity_split=None,\n",
            "                       min_samples_leaf=1, min_samples_split=2,\n",
            "                       min_weight_fraction_leaf=0.0, presort='deprecated',\n",
            "                       random_state=600956192, splitter='best')\n",
            "\n",
            "Numero de nós: 137\n",
            "Profundidade da árvore: 14\n",
            "Features importantes: [0.12508876 0.17158796 0.08576548 0.13209171 0.21470358 0.06330025\n",
            " 0.01577934 0.05886245 0.07775735 0.02615863 0.02890449]\n",
            "\n",
            "Objeto: DecisionTreeClassifier(ccp_alpha=0.0, class_weight=None, criterion='gini',\n",
            "                       max_depth=None, max_features='auto', max_leaf_nodes=None,\n",
            "                       min_impurity_decrease=0.0, min_impurity_split=None,\n",
            "                       min_samples_leaf=1, min_samples_split=2,\n",
            "                       min_weight_fraction_leaf=0.0, presort='deprecated',\n",
            "                       random_state=352272321, splitter='best')\n",
            "\n",
            "Numero de nós: 145\n",
            "Profundidade da árvore: 13\n",
            "Features importantes: [0.30236084 0.0808928  0.07104551 0.10100523 0.14116965 0.03614377\n",
            " 0.05633166 0.07585304 0.02257454 0.06116206 0.05146089]\n",
            "\n",
            "Objeto: DecisionTreeClassifier(ccp_alpha=0.0, class_weight=None, criterion='gini',\n",
            "                       max_depth=None, max_features='auto', max_leaf_nodes=None,\n",
            "                       min_impurity_decrease=0.0, min_impurity_split=None,\n",
            "                       min_samples_leaf=1, min_samples_split=2,\n",
            "                       min_weight_fraction_leaf=0.0, presort='deprecated',\n",
            "                       random_state=615697673, splitter='best')\n",
            "\n",
            "Numero de nós: 145\n",
            "Profundidade da árvore: 11\n",
            "Features importantes: [0.27339865 0.10623015 0.16544835 0.12094536 0.06449651 0.02802175\n",
            " 0.04718537 0.01246897 0.06782171 0.05683915 0.05714401]\n",
            "\n",
            "Objeto: DecisionTreeClassifier(ccp_alpha=0.0, class_weight=None, criterion='gini',\n",
            "                       max_depth=None, max_features='auto', max_leaf_nodes=None,\n",
            "                       min_impurity_decrease=0.0, min_impurity_split=None,\n",
            "                       min_samples_leaf=1, min_samples_split=2,\n",
            "                       min_weight_fraction_leaf=0.0, presort='deprecated',\n",
            "                       random_state=160516793, splitter='best')\n",
            "\n",
            "Numero de nós: 167\n",
            "Profundidade da árvore: 12\n",
            "Features importantes: [0.08007698 0.10724599 0.15699087 0.22530288 0.11050722 0.03456218\n",
            " 0.07194638 0.04789405 0.06462994 0.07225451 0.028589  ]\n",
            "\n",
            "Objeto: DecisionTreeClassifier(ccp_alpha=0.0, class_weight=None, criterion='gini',\n",
            "                       max_depth=None, max_features='auto', max_leaf_nodes=None,\n",
            "                       min_impurity_decrease=0.0, min_impurity_split=None,\n",
            "                       min_samples_leaf=1, min_samples_split=2,\n",
            "                       min_weight_fraction_leaf=0.0, presort='deprecated',\n",
            "                       random_state=1909838463, splitter='best')\n",
            "\n",
            "Numero de nós: 145\n",
            "Profundidade da árvore: 13\n",
            "Features importantes: [0.2545259  0.16126698 0.11660022 0.10077157 0.06854146 0.11413171\n",
            " 0.02259959 0.0683384  0.01985466 0.04163902 0.03173048]\n",
            "\n",
            "Objeto: DecisionTreeClassifier(ccp_alpha=0.0, class_weight=None, criterion='gini',\n",
            "                       max_depth=None, max_features='auto', max_leaf_nodes=None,\n",
            "                       min_impurity_decrease=0.0, min_impurity_split=None,\n",
            "                       min_samples_leaf=1, min_samples_split=2,\n",
            "                       min_weight_fraction_leaf=0.0, presort='deprecated',\n",
            "                       random_state=1110745632, splitter='best')\n",
            "\n",
            "Numero de nós: 169\n",
            "Profundidade da árvore: 12\n",
            "Features importantes: [0.07613294 0.21939369 0.18004579 0.19129682 0.11346539 0.03475898\n",
            " 0.05546311 0.03380585 0.04952656 0.01440988 0.031701  ]\n",
            "\n",
            "Objeto: DecisionTreeClassifier(ccp_alpha=0.0, class_weight=None, criterion='gini',\n",
            "                       max_depth=None, max_features='auto', max_leaf_nodes=None,\n",
            "                       min_impurity_decrease=0.0, min_impurity_split=None,\n",
            "                       min_samples_leaf=1, min_samples_split=2,\n",
            "                       min_weight_fraction_leaf=0.0, presort='deprecated',\n",
            "                       random_state=93837855, splitter='best')\n",
            "\n",
            "Numero de nós: 159\n",
            "Profundidade da árvore: 13\n",
            "Features importantes: [0.33639583 0.12765585 0.07581875 0.11613473 0.08883183 0.02444845\n",
            " 0.05066632 0.01992758 0.05035266 0.03740145 0.07236655]\n",
            "\n",
            "Objeto: DecisionTreeClassifier(ccp_alpha=0.0, class_weight=None, criterion='gini',\n",
            "                       max_depth=None, max_features='auto', max_leaf_nodes=None,\n",
            "                       min_impurity_decrease=0.0, min_impurity_split=None,\n",
            "                       min_samples_leaf=1, min_samples_split=2,\n",
            "                       min_weight_fraction_leaf=0.0, presort='deprecated',\n",
            "                       random_state=454869706, splitter='best')\n",
            "\n",
            "Numero de nós: 133\n",
            "Profundidade da árvore: 12\n",
            "Features importantes: [0.19090064 0.08104586 0.22073634 0.21808461 0.13642481 0.06481431\n",
            " 0.0036037  0.00863387 0.01891943 0.03877504 0.0180614 ]\n",
            "\n",
            "Objeto: DecisionTreeClassifier(ccp_alpha=0.0, class_weight=None, criterion='gini',\n",
            "                       max_depth=None, max_features='auto', max_leaf_nodes=None,\n",
            "                       min_impurity_decrease=0.0, min_impurity_split=None,\n",
            "                       min_samples_leaf=1, min_samples_split=2,\n",
            "                       min_weight_fraction_leaf=0.0, presort='deprecated',\n",
            "                       random_state=1780959476, splitter='best')\n",
            "\n",
            "Numero de nós: 129\n",
            "Profundidade da árvore: 15\n",
            "Features importantes: [0.28285562 0.13790217 0.11424434 0.25020605 0.01127265 0.03753672\n",
            " 0.01642128 0.04383661 0.01541107 0.04561449 0.044699  ]\n",
            "\n",
            "Objeto: DecisionTreeClassifier(ccp_alpha=0.0, class_weight=None, criterion='gini',\n",
            "                       max_depth=None, max_features='auto', max_leaf_nodes=None,\n",
            "                       min_impurity_decrease=0.0, min_impurity_split=None,\n",
            "                       min_samples_leaf=1, min_samples_split=2,\n",
            "                       min_weight_fraction_leaf=0.0, presort='deprecated',\n",
            "                       random_state=2034098327, splitter='best')\n",
            "\n",
            "Numero de nós: 141\n",
            "Profundidade da árvore: 10\n",
            "Features importantes: [0.11784054 0.13285264 0.27926596 0.16204543 0.06765148 0.05114518\n",
            " 0.02737361 0.         0.03718859 0.03742375 0.08721281]\n",
            "\n",
            "Objeto: DecisionTreeClassifier(ccp_alpha=0.0, class_weight=None, criterion='gini',\n",
            "                       max_depth=None, max_features='auto', max_leaf_nodes=None,\n",
            "                       min_impurity_decrease=0.0, min_impurity_split=None,\n",
            "                       min_samples_leaf=1, min_samples_split=2,\n",
            "                       min_weight_fraction_leaf=0.0, presort='deprecated',\n",
            "                       random_state=1136257699, splitter='best')\n",
            "\n",
            "Numero de nós: 153\n",
            "Profundidade da árvore: 10\n",
            "Features importantes: [0.17125828 0.22540686 0.03527675 0.16477938 0.06127062 0.12214611\n",
            " 0.05489809 0.04687241 0.05266154 0.04294408 0.02248588]\n",
            "\n",
            "Objeto: DecisionTreeClassifier(ccp_alpha=0.0, class_weight=None, criterion='gini',\n",
            "                       max_depth=None, max_features='auto', max_leaf_nodes=None,\n",
            "                       min_impurity_decrease=0.0, min_impurity_split=None,\n",
            "                       min_samples_leaf=1, min_samples_split=2,\n",
            "                       min_weight_fraction_leaf=0.0, presort='deprecated',\n",
            "                       random_state=800291326, splitter='best')\n",
            "\n",
            "Numero de nós: 145\n",
            "Profundidade da árvore: 12\n",
            "Features importantes: [0.14153588 0.18049523 0.09581755 0.19473427 0.1164724  0.05189809\n",
            " 0.04538639 0.03271666 0.07625724 0.03190492 0.03278139]\n",
            "\n",
            "Objeto: DecisionTreeClassifier(ccp_alpha=0.0, class_weight=None, criterion='gini',\n",
            "                       max_depth=None, max_features='auto', max_leaf_nodes=None,\n",
            "                       min_impurity_decrease=0.0, min_impurity_split=None,\n",
            "                       min_samples_leaf=1, min_samples_split=2,\n",
            "                       min_weight_fraction_leaf=0.0, presort='deprecated',\n",
            "                       random_state=1177824715, splitter='best')\n",
            "\n",
            "Numero de nós: 151\n",
            "Profundidade da árvore: 13\n",
            "Features importantes: [0.29827639 0.08643247 0.07631321 0.10964713 0.11783631 0.05550727\n",
            " 0.06629506 0.04830199 0.04484358 0.04713681 0.04940977]\n",
            "\n",
            "Objeto: DecisionTreeClassifier(ccp_alpha=0.0, class_weight=None, criterion='gini',\n",
            "                       max_depth=None, max_features='auto', max_leaf_nodes=None,\n",
            "                       min_impurity_decrease=0.0, min_impurity_split=None,\n",
            "                       min_samples_leaf=1, min_samples_split=2,\n",
            "                       min_weight_fraction_leaf=0.0, presort='deprecated',\n",
            "                       random_state=1017555826, splitter='best')\n",
            "\n",
            "Numero de nós: 155\n",
            "Profundidade da árvore: 14\n",
            "Features importantes: [0.16371192 0.22569304 0.09799262 0.0930245  0.13354933 0.04264445\n",
            " 0.03063445 0.04103494 0.02848842 0.08041763 0.06280869]\n",
            "\n",
            "Objeto: DecisionTreeClassifier(ccp_alpha=0.0, class_weight=None, criterion='gini',\n",
            "                       max_depth=None, max_features='auto', max_leaf_nodes=None,\n",
            "                       min_impurity_decrease=0.0, min_impurity_split=None,\n",
            "                       min_samples_leaf=1, min_samples_split=2,\n",
            "                       min_weight_fraction_leaf=0.0, presort='deprecated',\n",
            "                       random_state=1959150775, splitter='best')\n",
            "\n",
            "Numero de nós: 149\n",
            "Profundidade da árvore: 15\n",
            "Features importantes: [0.08538723 0.30622908 0.08265655 0.2202483  0.08947414 0.05646845\n",
            " 0.0375578  0.0114168  0.0215804  0.03490019 0.05408106]\n",
            "\n",
            "Objeto: DecisionTreeClassifier(ccp_alpha=0.0, class_weight=None, criterion='gini',\n",
            "                       max_depth=None, max_features='auto', max_leaf_nodes=None,\n",
            "                       min_impurity_decrease=0.0, min_impurity_split=None,\n",
            "                       min_samples_leaf=1, min_samples_split=2,\n",
            "                       min_weight_fraction_leaf=0.0, presort='deprecated',\n",
            "                       random_state=930076700, splitter='best')\n",
            "\n",
            "Numero de nós: 135\n",
            "Profundidade da árvore: 15\n",
            "Features importantes: [0.27663967 0.12287519 0.10493907 0.12355236 0.11532216 0.05283392\n",
            " 0.10349145 0.03128368 0.01360373 0.02365307 0.0318057 ]\n",
            "\n",
            "Objeto: DecisionTreeClassifier(ccp_alpha=0.0, class_weight=None, criterion='gini',\n",
            "                       max_depth=None, max_features='auto', max_leaf_nodes=None,\n",
            "                       min_impurity_decrease=0.0, min_impurity_split=None,\n",
            "                       min_samples_leaf=1, min_samples_split=2,\n",
            "                       min_weight_fraction_leaf=0.0, presort='deprecated',\n",
            "                       random_state=293921570, splitter='best')\n",
            "\n",
            "Numero de nós: 133\n",
            "Profundidade da árvore: 11\n",
            "Features importantes: [0.15013984 0.12903307 0.29274499 0.12742012 0.08888463 0.07137742\n",
            " 0.01125794 0.01644237 0.02508913 0.0702678  0.01734269]\n",
            "\n",
            "Objeto: DecisionTreeClassifier(ccp_alpha=0.0, class_weight=None, criterion='gini',\n",
            "                       max_depth=None, max_features='auto', max_leaf_nodes=None,\n",
            "                       min_impurity_decrease=0.0, min_impurity_split=None,\n",
            "                       min_samples_leaf=1, min_samples_split=2,\n",
            "                       min_weight_fraction_leaf=0.0, presort='deprecated',\n",
            "                       random_state=580757632, splitter='best')\n",
            "\n",
            "Numero de nós: 163\n",
            "Profundidade da árvore: 15\n",
            "Features importantes: [0.19905779 0.15180875 0.12065606 0.14058403 0.10187577 0.10419221\n",
            " 0.04897223 0.00826595 0.02512396 0.06709492 0.03236834]\n",
            "\n",
            "Objeto: DecisionTreeClassifier(ccp_alpha=0.0, class_weight=None, criterion='gini',\n",
            "                       max_depth=None, max_features='auto', max_leaf_nodes=None,\n",
            "                       min_impurity_decrease=0.0, min_impurity_split=None,\n",
            "                       min_samples_leaf=1, min_samples_split=2,\n",
            "                       min_weight_fraction_leaf=0.0, presort='deprecated',\n",
            "                       random_state=80701568, splitter='best')\n",
            "\n",
            "Numero de nós: 137\n",
            "Profundidade da árvore: 12\n",
            "Features importantes: [0.12306982 0.12320476 0.235997   0.2048378  0.0728096  0.07324915\n",
            " 0.02789744 0.03030384 0.00833424 0.02558612 0.07471025]\n",
            "\n",
            "Objeto: DecisionTreeClassifier(ccp_alpha=0.0, class_weight=None, criterion='gini',\n",
            "                       max_depth=None, max_features='auto', max_leaf_nodes=None,\n",
            "                       min_impurity_decrease=0.0, min_impurity_split=None,\n",
            "                       min_samples_leaf=1, min_samples_split=2,\n",
            "                       min_weight_fraction_leaf=0.0, presort='deprecated',\n",
            "                       random_state=1392175012, splitter='best')\n",
            "\n",
            "Numero de nós: 139\n",
            "Profundidade da árvore: 11\n",
            "Features importantes: [0.13049989 0.12280118 0.15870526 0.13553337 0.12167902 0.07423636\n",
            " 0.07034639 0.02987785 0.04650069 0.04937643 0.06044356]\n",
            "\n",
            "Objeto: DecisionTreeClassifier(ccp_alpha=0.0, class_weight=None, criterion='gini',\n",
            "                       max_depth=None, max_features='auto', max_leaf_nodes=None,\n",
            "                       min_impurity_decrease=0.0, min_impurity_split=None,\n",
            "                       min_samples_leaf=1, min_samples_split=2,\n",
            "                       min_weight_fraction_leaf=0.0, presort='deprecated',\n",
            "                       random_state=505240629, splitter='best')\n",
            "\n",
            "Numero de nós: 133\n",
            "Profundidade da árvore: 15\n",
            "Features importantes: [0.37416786 0.09472052 0.10156923 0.01085076 0.15707492 0.05960418\n",
            " 0.07120631 0.02700349 0.00776846 0.05193625 0.04409803]\n",
            "\n",
            "Objeto: DecisionTreeClassifier(ccp_alpha=0.0, class_weight=None, criterion='gini',\n",
            "                       max_depth=None, max_features='auto', max_leaf_nodes=None,\n",
            "                       min_impurity_decrease=0.0, min_impurity_split=None,\n",
            "                       min_samples_leaf=1, min_samples_split=2,\n",
            "                       min_weight_fraction_leaf=0.0, presort='deprecated',\n",
            "                       random_state=642848645, splitter='best')\n",
            "\n",
            "Numero de nós: 149\n",
            "Profundidade da árvore: 13\n",
            "Features importantes: [0.12129745 0.24836283 0.21771828 0.0250893  0.11814894 0.01295987\n",
            " 0.05806208 0.02757077 0.0401967  0.02259989 0.1079939 ]\n",
            "\n",
            "Objeto: DecisionTreeClassifier(ccp_alpha=0.0, class_weight=None, criterion='gini',\n",
            "                       max_depth=None, max_features='auto', max_leaf_nodes=None,\n",
            "                       min_impurity_decrease=0.0, min_impurity_split=None,\n",
            "                       min_samples_leaf=1, min_samples_split=2,\n",
            "                       min_weight_fraction_leaf=0.0, presort='deprecated',\n",
            "                       random_state=481447462, splitter='best')\n",
            "\n",
            "Numero de nós: 135\n",
            "Profundidade da árvore: 9\n",
            "Features importantes: [0.14765731 0.0713573  0.11086872 0.26425876 0.1232521  0.12343199\n",
            " 0.03883488 0.03021637 0.05046905 0.00660043 0.03305308]\n",
            "\n",
            "Objeto: DecisionTreeClassifier(ccp_alpha=0.0, class_weight=None, criterion='gini',\n",
            "                       max_depth=None, max_features='auto', max_leaf_nodes=None,\n",
            "                       min_impurity_decrease=0.0, min_impurity_split=None,\n",
            "                       min_samples_leaf=1, min_samples_split=2,\n",
            "                       min_weight_fraction_leaf=0.0, presort='deprecated',\n",
            "                       random_state=954863080, splitter='best')\n",
            "\n",
            "Numero de nós: 131\n",
            "Profundidade da árvore: 12\n",
            "Features importantes: [0.17577855 0.13298917 0.19088872 0.21501489 0.11486968 0.07040892\n",
            " 0.0306651  0.01626623 0.00680898 0.03441888 0.01189089]\n",
            "\n",
            "Objeto: DecisionTreeClassifier(ccp_alpha=0.0, class_weight=None, criterion='gini',\n",
            "                       max_depth=None, max_features='auto', max_leaf_nodes=None,\n",
            "                       min_impurity_decrease=0.0, min_impurity_split=None,\n",
            "                       min_samples_leaf=1, min_samples_split=2,\n",
            "                       min_weight_fraction_leaf=0.0, presort='deprecated',\n",
            "                       random_state=502227700, splitter='best')\n",
            "\n",
            "Numero de nós: 137\n",
            "Profundidade da árvore: 11\n",
            "Features importantes: [0.11589081 0.14634288 0.19043909 0.21665085 0.08092954 0.0806613\n",
            " 0.02574626 0.00420617 0.08655146 0.03876319 0.01381844]\n",
            "\n",
            "Objeto: DecisionTreeClassifier(ccp_alpha=0.0, class_weight=None, criterion='gini',\n",
            "                       max_depth=None, max_features='auto', max_leaf_nodes=None,\n",
            "                       min_impurity_decrease=0.0, min_impurity_split=None,\n",
            "                       min_samples_leaf=1, min_samples_split=2,\n",
            "                       min_weight_fraction_leaf=0.0, presort='deprecated',\n",
            "                       random_state=1659957521, splitter='best')\n",
            "\n",
            "Numero de nós: 153\n",
            "Profundidade da árvore: 14\n",
            "Features importantes: [0.2656166  0.13593178 0.09327795 0.09958866 0.10384617 0.10694912\n",
            " 0.04371326 0.0537572  0.02822769 0.03337477 0.0357168 ]\n",
            "\n",
            "Objeto: DecisionTreeClassifier(ccp_alpha=0.0, class_weight=None, criterion='gini',\n",
            "                       max_depth=None, max_features='auto', max_leaf_nodes=None,\n",
            "                       min_impurity_decrease=0.0, min_impurity_split=None,\n",
            "                       min_samples_leaf=1, min_samples_split=2,\n",
            "                       min_weight_fraction_leaf=0.0, presort='deprecated',\n",
            "                       random_state=1905883471, splitter='best')\n",
            "\n",
            "Numero de nós: 129\n",
            "Profundidade da árvore: 11\n",
            "Features importantes: [0.16456761 0.05878585 0.18389914 0.22554704 0.08653297 0.09006606\n",
            " 0.03527252 0.04568007 0.0436123  0.01419344 0.051843  ]\n",
            "\n",
            "Objeto: DecisionTreeClassifier(ccp_alpha=0.0, class_weight=None, criterion='gini',\n",
            "                       max_depth=None, max_features='auto', max_leaf_nodes=None,\n",
            "                       min_impurity_decrease=0.0, min_impurity_split=None,\n",
            "                       min_samples_leaf=1, min_samples_split=2,\n",
            "                       min_weight_fraction_leaf=0.0, presort='deprecated',\n",
            "                       random_state=1729147268, splitter='best')\n",
            "\n",
            "Numero de nós: 149\n",
            "Profundidade da árvore: 14\n",
            "Features importantes: [0.30125533 0.14710716 0.11291724 0.10818197 0.10943045 0.01213402\n",
            " 0.03393337 0.03492081 0.04193517 0.08756722 0.01061726]\n",
            "\n",
            "Objeto: DecisionTreeClassifier(ccp_alpha=0.0, class_weight=None, criterion='gini',\n",
            "                       max_depth=None, max_features='auto', max_leaf_nodes=None,\n",
            "                       min_impurity_decrease=0.0, min_impurity_split=None,\n",
            "                       min_samples_leaf=1, min_samples_split=2,\n",
            "                       min_weight_fraction_leaf=0.0, presort='deprecated',\n",
            "                       random_state=780912233, splitter='best')\n",
            "\n",
            "Numero de nós: 153\n",
            "Profundidade da árvore: 13\n",
            "Features importantes: [0.17141581 0.17821836 0.12201672 0.1107755  0.19129711 0.01533754\n",
            " 0.03529826 0.08051475 0.00490602 0.02624276 0.06397718]\n",
            "\n",
            "Objeto: DecisionTreeClassifier(ccp_alpha=0.0, class_weight=None, criterion='gini',\n",
            "                       max_depth=None, max_features='auto', max_leaf_nodes=None,\n",
            "                       min_impurity_decrease=0.0, min_impurity_split=None,\n",
            "                       min_samples_leaf=1, min_samples_split=2,\n",
            "                       min_weight_fraction_leaf=0.0, presort='deprecated',\n",
            "                       random_state=1932520490, splitter='best')\n",
            "\n",
            "Numero de nós: 151\n",
            "Profundidade da árvore: 14\n",
            "Features importantes: [0.20190598 0.08647844 0.13107558 0.15046815 0.10837186 0.08582733\n",
            " 0.08946544 0.01930696 0.0102176  0.07347979 0.04340288]\n",
            "\n",
            "Objeto: DecisionTreeClassifier(ccp_alpha=0.0, class_weight=None, criterion='gini',\n",
            "                       max_depth=None, max_features='auto', max_leaf_nodes=None,\n",
            "                       min_impurity_decrease=0.0, min_impurity_split=None,\n",
            "                       min_samples_leaf=1, min_samples_split=2,\n",
            "                       min_weight_fraction_leaf=0.0, presort='deprecated',\n",
            "                       random_state=1544074682, splitter='best')\n",
            "\n",
            "Numero de nós: 155\n",
            "Profundidade da árvore: 11\n",
            "Features importantes: [0.27642242 0.09756936 0.07861148 0.13402904 0.10777906 0.10015074\n",
            " 0.03489543 0.04642921 0.0738391  0.04255985 0.00771431]\n",
            "\n",
            "Objeto: DecisionTreeClassifier(ccp_alpha=0.0, class_weight=None, criterion='gini',\n",
            "                       max_depth=None, max_features='auto', max_leaf_nodes=None,\n",
            "                       min_impurity_decrease=0.0, min_impurity_split=None,\n",
            "                       min_samples_leaf=1, min_samples_split=2,\n",
            "                       min_weight_fraction_leaf=0.0, presort='deprecated',\n",
            "                       random_state=485603871, splitter='best')\n",
            "\n",
            "Numero de nós: 129\n",
            "Profundidade da árvore: 10\n",
            "Features importantes: [0.10923424 0.10683139 0.25926994 0.22064875 0.12550431 0.03334834\n",
            " 0.03898759 0.01597516 0.03338805 0.02986301 0.02694921]\n",
            "\n",
            "Objeto: DecisionTreeClassifier(ccp_alpha=0.0, class_weight=None, criterion='gini',\n",
            "                       max_depth=None, max_features='auto', max_leaf_nodes=None,\n",
            "                       min_impurity_decrease=0.0, min_impurity_split=None,\n",
            "                       min_samples_leaf=1, min_samples_split=2,\n",
            "                       min_weight_fraction_leaf=0.0, presort='deprecated',\n",
            "                       random_state=1877037944, splitter='best')\n",
            "\n",
            "Numero de nós: 153\n",
            "Profundidade da árvore: 15\n",
            "Features importantes: [0.33036576 0.0990836  0.07152232 0.12767435 0.11042747 0.020671\n",
            " 0.06514337 0.03952028 0.07298981 0.04868755 0.0139145 ]\n",
            "\n",
            "Objeto: DecisionTreeClassifier(ccp_alpha=0.0, class_weight=None, criterion='gini',\n",
            "                       max_depth=None, max_features='auto', max_leaf_nodes=None,\n",
            "                       min_impurity_decrease=0.0, min_impurity_split=None,\n",
            "                       min_samples_leaf=1, min_samples_split=2,\n",
            "                       min_weight_fraction_leaf=0.0, presort='deprecated',\n",
            "                       random_state=1728073985, splitter='best')\n",
            "\n",
            "Numero de nós: 125\n",
            "Profundidade da árvore: 12\n",
            "Features importantes: [0.2804863  0.22369471 0.08268294 0.04267695 0.07242061 0.04691755\n",
            " 0.05501562 0.04424503 0.04635948 0.06318393 0.04231688]\n",
            "\n",
            "Objeto: DecisionTreeClassifier(ccp_alpha=0.0, class_weight=None, criterion='gini',\n",
            "                       max_depth=None, max_features='auto', max_leaf_nodes=None,\n",
            "                       min_impurity_decrease=0.0, min_impurity_split=None,\n",
            "                       min_samples_leaf=1, min_samples_split=2,\n",
            "                       min_weight_fraction_leaf=0.0, presort='deprecated',\n",
            "                       random_state=848819521, splitter='best')\n",
            "\n",
            "Numero de nós: 139\n",
            "Profundidade da árvore: 13\n",
            "Features importantes: [0.33751446 0.06297962 0.10689927 0.19618408 0.08149512 0.03352572\n",
            " 0.05749834 0.02018519 0.01851117 0.04946283 0.0357442 ]\n",
            "\n",
            "Objeto: DecisionTreeClassifier(ccp_alpha=0.0, class_weight=None, criterion='gini',\n",
            "                       max_depth=None, max_features='auto', max_leaf_nodes=None,\n",
            "                       min_impurity_decrease=0.0, min_impurity_split=None,\n",
            "                       min_samples_leaf=1, min_samples_split=2,\n",
            "                       min_weight_fraction_leaf=0.0, presort='deprecated',\n",
            "                       random_state=426405863, splitter='best')\n",
            "\n",
            "Numero de nós: 153\n",
            "Profundidade da árvore: 12\n",
            "Features importantes: [0.1237863  0.20294058 0.09114279 0.14347118 0.13958128 0.11171757\n",
            " 0.04513486 0.04667704 0.01286464 0.0520886  0.03059516]\n",
            "\n",
            "Objeto: DecisionTreeClassifier(ccp_alpha=0.0, class_weight=None, criterion='gini',\n",
            "                       max_depth=None, max_features='auto', max_leaf_nodes=None,\n",
            "                       min_impurity_decrease=0.0, min_impurity_split=None,\n",
            "                       min_samples_leaf=1, min_samples_split=2,\n",
            "                       min_weight_fraction_leaf=0.0, presort='deprecated',\n",
            "                       random_state=258666409, splitter='best')\n",
            "\n",
            "Numero de nós: 151\n",
            "Profundidade da árvore: 12\n",
            "Features importantes: [0.13192427 0.35195107 0.10301553 0.06846025 0.09065408 0.04127569\n",
            " 0.0422905  0.06598641 0.02730941 0.01324365 0.06388914]\n",
            "\n",
            "Objeto: DecisionTreeClassifier(ccp_alpha=0.0, class_weight=None, criterion='gini',\n",
            "                       max_depth=None, max_features='auto', max_leaf_nodes=None,\n",
            "                       min_impurity_decrease=0.0, min_impurity_split=None,\n",
            "                       min_samples_leaf=1, min_samples_split=2,\n",
            "                       min_weight_fraction_leaf=0.0, presort='deprecated',\n",
            "                       random_state=2017814585, splitter='best')\n",
            "\n",
            "Numero de nós: 125\n",
            "Profundidade da árvore: 11\n",
            "Features importantes: [0.26221586 0.14066698 0.05882263 0.2235449  0.09643019 0.04117734\n",
            " 0.0375582  0.03975535 0.01941283 0.04773933 0.03267639]\n",
            "\n",
            "Objeto: DecisionTreeClassifier(ccp_alpha=0.0, class_weight=None, criterion='gini',\n",
            "                       max_depth=None, max_features='auto', max_leaf_nodes=None,\n",
            "                       min_impurity_decrease=0.0, min_impurity_split=None,\n",
            "                       min_samples_leaf=1, min_samples_split=2,\n",
            "                       min_weight_fraction_leaf=0.0, presort='deprecated',\n",
            "                       random_state=716257571, splitter='best')\n",
            "\n",
            "Numero de nós: 137\n",
            "Profundidade da árvore: 12\n",
            "Features importantes: [0.14925478 0.11785464 0.14862113 0.20253157 0.11653123 0.06789198\n",
            " 0.04266087 0.04985882 0.04909006 0.03789434 0.01781059]\n",
            "\n",
            "Objeto: DecisionTreeClassifier(ccp_alpha=0.0, class_weight=None, criterion='gini',\n",
            "                       max_depth=None, max_features='auto', max_leaf_nodes=None,\n",
            "                       min_impurity_decrease=0.0, min_impurity_split=None,\n",
            "                       min_samples_leaf=1, min_samples_split=2,\n",
            "                       min_weight_fraction_leaf=0.0, presort='deprecated',\n",
            "                       random_state=657731430, splitter='best')\n",
            "\n",
            "Numero de nós: 167\n",
            "Profundidade da árvore: 12\n",
            "Features importantes: [0.15136711 0.12172441 0.1996584  0.16733073 0.09936893 0.05208256\n",
            " 0.03963845 0.02276706 0.0808418  0.01866694 0.04655359]\n",
            "\n",
            "Objeto: DecisionTreeClassifier(ccp_alpha=0.0, class_weight=None, criterion='gini',\n",
            "                       max_depth=None, max_features='auto', max_leaf_nodes=None,\n",
            "                       min_impurity_decrease=0.0, min_impurity_split=None,\n",
            "                       min_samples_leaf=1, min_samples_split=2,\n",
            "                       min_weight_fraction_leaf=0.0, presort='deprecated',\n",
            "                       random_state=732884087, splitter='best')\n",
            "\n",
            "Numero de nós: 133\n",
            "Profundidade da árvore: 13\n",
            "Features importantes: [0.04100974 0.20670351 0.17584455 0.2493693  0.08351517 0.05286154\n",
            " 0.03124151 0.05416174 0.05439894 0.00772781 0.04316619]\n",
            "\n",
            "Objeto: DecisionTreeClassifier(ccp_alpha=0.0, class_weight=None, criterion='gini',\n",
            "                       max_depth=None, max_features='auto', max_leaf_nodes=None,\n",
            "                       min_impurity_decrease=0.0, min_impurity_split=None,\n",
            "                       min_samples_leaf=1, min_samples_split=2,\n",
            "                       min_weight_fraction_leaf=0.0, presort='deprecated',\n",
            "                       random_state=734051083, splitter='best')\n",
            "\n",
            "Numero de nós: 143\n",
            "Profundidade da árvore: 12\n",
            "Features importantes: [0.12652604 0.09063325 0.24884765 0.1300433  0.06589822 0.10424905\n",
            " 0.02249203 0.04102453 0.06619302 0.03350721 0.0705857 ]\n",
            "\n",
            "Objeto: DecisionTreeClassifier(ccp_alpha=0.0, class_weight=None, criterion='gini',\n",
            "                       max_depth=None, max_features='auto', max_leaf_nodes=None,\n",
            "                       min_impurity_decrease=0.0, min_impurity_split=None,\n",
            "                       min_samples_leaf=1, min_samples_split=2,\n",
            "                       min_weight_fraction_leaf=0.0, presort='deprecated',\n",
            "                       random_state=903586222, splitter='best')\n",
            "\n",
            "Numero de nós: 129\n",
            "Profundidade da árvore: 13\n",
            "Features importantes: [0.16016903 0.21426546 0.13937327 0.16379653 0.11006087 0.00043738\n",
            " 0.02110903 0.04128064 0.04324943 0.06739641 0.03886196]\n",
            "\n",
            "Objeto: DecisionTreeClassifier(ccp_alpha=0.0, class_weight=None, criterion='gini',\n",
            "                       max_depth=None, max_features='auto', max_leaf_nodes=None,\n",
            "                       min_impurity_decrease=0.0, min_impurity_split=None,\n",
            "                       min_samples_leaf=1, min_samples_split=2,\n",
            "                       min_weight_fraction_leaf=0.0, presort='deprecated',\n",
            "                       random_state=1538251858, splitter='best')\n",
            "\n",
            "Numero de nós: 123\n",
            "Profundidade da árvore: 10\n",
            "Features importantes: [0.10633494 0.20248368 0.13388565 0.19854359 0.09818907 0.07098096\n",
            " 0.03902066 0.01558496 0.07676663 0.05312927 0.0050806 ]\n",
            "\n",
            "Objeto: DecisionTreeClassifier(ccp_alpha=0.0, class_weight=None, criterion='gini',\n",
            "                       max_depth=None, max_features='auto', max_leaf_nodes=None,\n",
            "                       min_impurity_decrease=0.0, min_impurity_split=None,\n",
            "                       min_samples_leaf=1, min_samples_split=2,\n",
            "                       min_weight_fraction_leaf=0.0, presort='deprecated',\n",
            "                       random_state=553734235, splitter='best')\n",
            "\n",
            "Numero de nós: 167\n",
            "Profundidade da árvore: 15\n",
            "Features importantes: [0.18527105 0.1089408  0.22270257 0.11261889 0.06883093 0.05331537\n",
            " 0.06672355 0.02441203 0.06242802 0.07325504 0.02150174]\n",
            "\n",
            "Objeto: DecisionTreeClassifier(ccp_alpha=0.0, class_weight=None, criterion='gini',\n",
            "                       max_depth=None, max_features='auto', max_leaf_nodes=None,\n",
            "                       min_impurity_decrease=0.0, min_impurity_split=None,\n",
            "                       min_samples_leaf=1, min_samples_split=2,\n",
            "                       min_weight_fraction_leaf=0.0, presort='deprecated',\n",
            "                       random_state=1076688768, splitter='best')\n",
            "\n",
            "Numero de nós: 147\n",
            "Profundidade da árvore: 11\n",
            "Features importantes: [0.26298767 0.16366223 0.08848111 0.10444914 0.12982005 0.06142016\n",
            " 0.01768577 0.0586378  0.04181964 0.03405467 0.03698176]\n",
            "\n",
            "Objeto: DecisionTreeClassifier(ccp_alpha=0.0, class_weight=None, criterion='gini',\n",
            "                       max_depth=None, max_features='auto', max_leaf_nodes=None,\n",
            "                       min_impurity_decrease=0.0, min_impurity_split=None,\n",
            "                       min_samples_leaf=1, min_samples_split=2,\n",
            "                       min_weight_fraction_leaf=0.0, presort='deprecated',\n",
            "                       random_state=1354754446, splitter='best')\n",
            "\n",
            "Numero de nós: 165\n",
            "Profundidade da árvore: 15\n",
            "Features importantes: [0.32420593 0.13028271 0.14676143 0.04248283 0.08109627 0.02244268\n",
            " 0.03452403 0.09115232 0.00433706 0.04516567 0.07754908]\n",
            "\n",
            "Objeto: DecisionTreeClassifier(ccp_alpha=0.0, class_weight=None, criterion='gini',\n",
            "                       max_depth=None, max_features='auto', max_leaf_nodes=None,\n",
            "                       min_impurity_decrease=0.0, min_impurity_split=None,\n",
            "                       min_samples_leaf=1, min_samples_split=2,\n",
            "                       min_weight_fraction_leaf=0.0, presort='deprecated',\n",
            "                       random_state=463129187, splitter='best')\n",
            "\n",
            "Numero de nós: 143\n",
            "Profundidade da árvore: 11\n",
            "Features importantes: [0.17952115 0.10861495 0.0552964  0.2103659  0.09285501 0.05591813\n",
            " 0.04474506 0.08177836 0.08191247 0.05565354 0.03333902]\n",
            "\n",
            "Objeto: DecisionTreeClassifier(ccp_alpha=0.0, class_weight=None, criterion='gini',\n",
            "                       max_depth=None, max_features='auto', max_leaf_nodes=None,\n",
            "                       min_impurity_decrease=0.0, min_impurity_split=None,\n",
            "                       min_samples_leaf=1, min_samples_split=2,\n",
            "                       min_weight_fraction_leaf=0.0, presort='deprecated',\n",
            "                       random_state=1562125877, splitter='best')\n",
            "\n",
            "Numero de nós: 125\n",
            "Profundidade da árvore: 14\n",
            "Features importantes: [0.18544464 0.13165772 0.05129907 0.22622168 0.11193489 0.10930471\n",
            " 0.03398026 0.02082921 0.0269172  0.05597606 0.04643457]\n",
            "\n",
            "Objeto: DecisionTreeClassifier(ccp_alpha=0.0, class_weight=None, criterion='gini',\n",
            "                       max_depth=None, max_features='auto', max_leaf_nodes=None,\n",
            "                       min_impurity_decrease=0.0, min_impurity_split=None,\n",
            "                       min_samples_leaf=1, min_samples_split=2,\n",
            "                       min_weight_fraction_leaf=0.0, presort='deprecated',\n",
            "                       random_state=1396067212, splitter='best')\n"
          ],
          "name": "stdout"
        }
      ]
    },
    {
      "cell_type": "markdown",
      "metadata": {
        "id": "KAq_bL7uncys"
      },
      "source": [
        "**Selecionando a Árvore 0**"
      ]
    },
    {
      "cell_type": "code",
      "metadata": {
        "id": "GahN917Bncys"
      },
      "source": [
        "tree0 = random_clf.estimators_[0]"
      ],
      "execution_count": 27,
      "outputs": []
    },
    {
      "cell_type": "markdown",
      "metadata": {
        "id": "CJxcqKHyncyx"
      },
      "source": [
        "**Visualizando a Árvore 0**"
      ]
    },
    {
      "cell_type": "code",
      "metadata": {
        "id": "gU1aYIUkncyy",
        "colab": {
          "base_uri": "https://localhost:8080/",
          "height": 616
        },
        "outputId": "853cb5d4-8059-4646-d348-f978970f9682"
      },
      "source": [
        "\n",
        "from sklearn.tree import export_graphviz\n",
        "import graphviz \n",
        "\n",
        "dot_data = export_graphviz(\n",
        "         tree0,\n",
        "         max_depth=2,# a limitação é somente para a visualização\n",
        "         out_file=None,\n",
        "         feature_names=X_train.columns,\n",
        "         class_names=['0','1','2'], \n",
        "         filled=True, rounded=True,\n",
        "         proportion=True,\n",
        "         node_ids=True,\n",
        "         rotate=False,\n",
        "         label='all',\n",
        "         special_characters=True\n",
        "        )  \n",
        "graph = graphviz.Source(dot_data)  \n",
        "graph"
      ],
      "execution_count": 28,
      "outputs": [
        {
          "output_type": "execute_result",
          "data": {
            "text/plain": [
              "<graphviz.files.Source at 0x7f247b019f60>"
            ],
            "image/svg+xml": "<?xml version=\"1.0\" encoding=\"UTF-8\" standalone=\"no\"?>\n<!DOCTYPE svg PUBLIC \"-//W3C//DTD SVG 1.1//EN\"\n \"http://www.w3.org/Graphics/SVG/1.1/DTD/svg11.dtd\">\n<!-- Generated by graphviz version 2.40.1 (20161225.0304)\n -->\n<!-- Title: Tree Pages: 1 -->\n<svg width=\"848pt\" height=\"446pt\"\n viewBox=\"0.00 0.00 848.00 446.00\" xmlns=\"http://www.w3.org/2000/svg\" xmlns:xlink=\"http://www.w3.org/1999/xlink\">\n<g id=\"graph0\" class=\"graph\" transform=\"scale(1 1) rotate(0) translate(4 442)\">\n<title>Tree</title>\n<polygon fill=\"#ffffff\" stroke=\"transparent\" points=\"-4,4 -4,-442 844,-442 844,4 -4,4\"/>\n<!-- 0 -->\n<g id=\"node1\" class=\"node\">\n<title>0</title>\n<path fill=\"#ece0fb\" stroke=\"#000000\" d=\"M500,-438C500,-438 332,-438 332,-438 326,-438 320,-432 320,-426 320,-426 320,-352 320,-352 320,-346 326,-340 332,-340 332,-340 500,-340 500,-340 506,-340 512,-346 512,-352 512,-352 512,-426 512,-426 512,-432 506,-438 500,-438\"/>\n<text text-anchor=\"start\" x=\"389\" y=\"-422.8\" font-family=\"Helvetica,sans-Serif\" font-size=\"14.00\" fill=\"#000000\">node #0</text>\n<text text-anchor=\"start\" x=\"334.5\" y=\"-407.8\" font-family=\"Helvetica,sans-Serif\" font-size=\"14.00\" fill=\"#000000\">VisITedResources ≤ 40.5</text>\n<text text-anchor=\"start\" x=\"378\" y=\"-392.8\" font-family=\"Helvetica,sans-Serif\" font-size=\"14.00\" fill=\"#000000\">gini = 0.657</text>\n<text text-anchor=\"start\" x=\"355.5\" y=\"-377.8\" font-family=\"Helvetica,sans-Serif\" font-size=\"14.00\" fill=\"#000000\">samples = 100.0%</text>\n<text text-anchor=\"start\" x=\"328\" y=\"-362.8\" font-family=\"Helvetica,sans-Serif\" font-size=\"14.00\" fill=\"#000000\">value = [0.307, 0.28, 0.414]</text>\n<text text-anchor=\"start\" x=\"387\" y=\"-347.8\" font-family=\"Helvetica,sans-Serif\" font-size=\"14.00\" fill=\"#000000\">class = 2</text>\n</g>\n<!-- 1 -->\n<g id=\"node2\" class=\"node\">\n<title>1</title>\n<path fill=\"#94f1bb\" stroke=\"#000000\" d=\"M395,-304C395,-304 219,-304 219,-304 213,-304 207,-298 207,-292 207,-292 207,-218 207,-218 207,-212 213,-206 219,-206 219,-206 395,-206 395,-206 401,-206 407,-212 407,-218 407,-218 407,-292 407,-292 407,-298 401,-304 395,-304\"/>\n<text text-anchor=\"start\" x=\"280\" y=\"-288.8\" font-family=\"Helvetica,sans-Serif\" font-size=\"14.00\" fill=\"#000000\">node #1</text>\n<text text-anchor=\"start\" x=\"245\" y=\"-273.8\" font-family=\"Helvetica,sans-Serif\" font-size=\"14.00\" fill=\"#000000\">raisedhands ≤ 10.5</text>\n<text text-anchor=\"start\" x=\"269\" y=\"-258.8\" font-family=\"Helvetica,sans-Serif\" font-size=\"14.00\" fill=\"#000000\">gini = 0.452</text>\n<text text-anchor=\"start\" x=\"251\" y=\"-243.8\" font-family=\"Helvetica,sans-Serif\" font-size=\"14.00\" fill=\"#000000\">samples = 37.7%</text>\n<text text-anchor=\"start\" x=\"215\" y=\"-228.8\" font-family=\"Helvetica,sans-Serif\" font-size=\"14.00\" fill=\"#000000\">value = [0.025, 0.678, 0.298]</text>\n<text text-anchor=\"start\" x=\"278\" y=\"-213.8\" font-family=\"Helvetica,sans-Serif\" font-size=\"14.00\" fill=\"#000000\">class = 1</text>\n</g>\n<!-- 0&#45;&gt;1 -->\n<g id=\"edge1\" class=\"edge\">\n<title>0&#45;&gt;1</title>\n<path fill=\"none\" stroke=\"#000000\" d=\"M376.0314,-339.8642C368.7004,-330.8519 360.9911,-321.3743 353.4887,-312.1513\"/>\n<polygon fill=\"#000000\" stroke=\"#000000\" points=\"355.9893,-309.6788 346.9638,-304.1298 350.559,-314.0961 355.9893,-309.6788\"/>\n<text text-anchor=\"middle\" x=\"344.4053\" y=\"-325.2986\" font-family=\"Helvetica,sans-Serif\" font-size=\"14.00\" fill=\"#000000\">True</text>\n</g>\n<!-- 56 -->\n<g id=\"node9\" class=\"node\">\n<title>56</title>\n<path fill=\"#fcfafe\" stroke=\"#000000\" d=\"M614,-304C614,-304 438,-304 438,-304 432,-304 426,-298 426,-292 426,-292 426,-218 426,-218 426,-212 432,-206 438,-206 438,-206 614,-206 614,-206 620,-206 626,-212 626,-218 626,-218 626,-292 626,-292 626,-298 620,-304 614,-304\"/>\n<text text-anchor=\"start\" x=\"495\" y=\"-288.8\" font-family=\"Helvetica,sans-Serif\" font-size=\"14.00\" fill=\"#000000\">node #56</text>\n<text text-anchor=\"start\" x=\"469\" y=\"-273.8\" font-family=\"Helvetica,sans-Serif\" font-size=\"14.00\" fill=\"#000000\">PlaceofBirth ≤ 6.5</text>\n<text text-anchor=\"start\" x=\"488\" y=\"-258.8\" font-family=\"Helvetica,sans-Serif\" font-size=\"14.00\" fill=\"#000000\">gini = 0.551</text>\n<text text-anchor=\"start\" x=\"470\" y=\"-243.8\" font-family=\"Helvetica,sans-Serif\" font-size=\"14.00\" fill=\"#000000\">samples = 62.3%</text>\n<text text-anchor=\"start\" x=\"434\" y=\"-228.8\" font-family=\"Helvetica,sans-Serif\" font-size=\"14.00\" fill=\"#000000\">value = [0.465, 0.056, 0.479]</text>\n<text text-anchor=\"start\" x=\"497\" y=\"-213.8\" font-family=\"Helvetica,sans-Serif\" font-size=\"14.00\" fill=\"#000000\">class = 2</text>\n</g>\n<!-- 0&#45;&gt;56 -->\n<g id=\"edge8\" class=\"edge\">\n<title>0&#45;&gt;56</title>\n<path fill=\"none\" stroke=\"#000000\" d=\"M456.3353,-339.8642C463.8083,-330.7609 471.6708,-321.1828 479.3141,-311.8719\"/>\n<polygon fill=\"#000000\" stroke=\"#000000\" points=\"482.0298,-314.0799 485.6695,-304.1298 476.6193,-309.6384 482.0298,-314.0799\"/>\n<text text-anchor=\"middle\" x=\"488.1168\" y=\"-325.3098\" font-family=\"Helvetica,sans-Serif\" font-size=\"14.00\" fill=\"#000000\">False</text>\n</g>\n<!-- 2 -->\n<g id=\"node3\" class=\"node\">\n<title>2</title>\n<path fill=\"#5cea97\" stroke=\"#000000\" d=\"M172,-170C172,-170 12,-170 12,-170 6,-170 0,-164 0,-158 0,-158 0,-84 0,-84 0,-78 6,-72 12,-72 12,-72 172,-72 172,-72 178,-72 184,-78 184,-84 184,-84 184,-158 184,-158 184,-164 178,-170 172,-170\"/>\n<text text-anchor=\"start\" x=\"65\" y=\"-154.8\" font-family=\"Helvetica,sans-Serif\" font-size=\"14.00\" fill=\"#000000\">node #2</text>\n<text text-anchor=\"start\" x=\"46.5\" y=\"-139.8\" font-family=\"Helvetica,sans-Serif\" font-size=\"14.00\" fill=\"#000000\">GradeID ≤ 1.0</text>\n<text text-anchor=\"start\" x=\"54\" y=\"-124.8\" font-family=\"Helvetica,sans-Serif\" font-size=\"14.00\" fill=\"#000000\">gini = 0.254</text>\n<text text-anchor=\"start\" x=\"36\" y=\"-109.8\" font-family=\"Helvetica,sans-Serif\" font-size=\"14.00\" fill=\"#000000\">samples = 18.9%</text>\n<text text-anchor=\"start\" x=\"8\" y=\"-94.8\" font-family=\"Helvetica,sans-Serif\" font-size=\"14.00\" fill=\"#000000\">value = [0.0, 0.851, 0.149]</text>\n<text text-anchor=\"start\" x=\"63\" y=\"-79.8\" font-family=\"Helvetica,sans-Serif\" font-size=\"14.00\" fill=\"#000000\">class = 1</text>\n</g>\n<!-- 1&#45;&gt;2 -->\n<g id=\"edge2\" class=\"edge\">\n<title>1&#45;&gt;2</title>\n<path fill=\"none\" stroke=\"#000000\" d=\"M228.1628,-205.8642C212.3881,-196.0326 195.7251,-185.6473 179.6731,-175.6428\"/>\n<polygon fill=\"#000000\" stroke=\"#000000\" points=\"181.1656,-172.4489 170.8277,-170.1298 177.4631,-178.3895 181.1656,-172.4489\"/>\n</g>\n<!-- 21 -->\n<g id=\"node6\" class=\"node\">\n<title>21</title>\n<path fill=\"#fbf8fe\" stroke=\"#000000\" d=\"M399.5,-170C399.5,-170 214.5,-170 214.5,-170 208.5,-170 202.5,-164 202.5,-158 202.5,-158 202.5,-84 202.5,-84 202.5,-78 208.5,-72 214.5,-72 214.5,-72 399.5,-72 399.5,-72 405.5,-72 411.5,-78 411.5,-84 411.5,-84 411.5,-158 411.5,-158 411.5,-164 405.5,-170 399.5,-170\"/>\n<text text-anchor=\"start\" x=\"276\" y=\"-154.8\" font-family=\"Helvetica,sans-Serif\" font-size=\"14.00\" fill=\"#000000\">node #21</text>\n<text text-anchor=\"start\" x=\"210.5\" y=\"-139.8\" font-family=\"Helvetica,sans-Serif\" font-size=\"14.00\" fill=\"#000000\">ParentAnsweringSurvey ≤ 0.5</text>\n<text text-anchor=\"start\" x=\"269\" y=\"-124.8\" font-family=\"Helvetica,sans-Serif\" font-size=\"14.00\" fill=\"#000000\">gini = 0.551</text>\n<text text-anchor=\"start\" x=\"251\" y=\"-109.8\" font-family=\"Helvetica,sans-Serif\" font-size=\"14.00\" fill=\"#000000\">samples = 18.9%</text>\n<text text-anchor=\"start\" x=\"215\" y=\"-94.8\" font-family=\"Helvetica,sans-Serif\" font-size=\"14.00\" fill=\"#000000\">value = [0.056, 0.463, 0.481]</text>\n<text text-anchor=\"start\" x=\"278\" y=\"-79.8\" font-family=\"Helvetica,sans-Serif\" font-size=\"14.00\" fill=\"#000000\">class = 2</text>\n</g>\n<!-- 1&#45;&gt;21 -->\n<g id=\"edge5\" class=\"edge\">\n<title>1&#45;&gt;21</title>\n<path fill=\"none\" stroke=\"#000000\" d=\"M307,-205.8642C307,-197.5802 307,-188.903 307,-180.3918\"/>\n<polygon fill=\"#000000\" stroke=\"#000000\" points=\"310.5001,-180.1298 307,-170.1298 303.5001,-180.1299 310.5001,-180.1298\"/>\n</g>\n<!-- 3 -->\n<g id=\"node4\" class=\"node\">\n<title>3</title>\n<path fill=\"#c0c0c0\" stroke=\"#000000\" d=\"M71,-36C71,-36 41,-36 41,-36 35,-36 29,-30 29,-24 29,-24 29,-12 29,-12 29,-6 35,0 41,0 41,0 71,0 71,0 77,0 83,-6 83,-12 83,-12 83,-24 83,-24 83,-30 77,-36 71,-36\"/>\n<text text-anchor=\"middle\" x=\"56\" y=\"-14.3\" font-family=\"Helvetica,sans-Serif\" font-size=\"14.00\" fill=\"#000000\">(...)</text>\n</g>\n<!-- 2&#45;&gt;3 -->\n<g id=\"edge3\" class=\"edge\">\n<title>2&#45;&gt;3</title>\n<path fill=\"none\" stroke=\"#000000\" d=\"M74.8435,-71.9133C71.7365,-63.0239 68.596,-54.0385 65.7932,-46.0195\"/>\n<polygon fill=\"#000000\" stroke=\"#000000\" points=\"69.0552,-44.7441 62.4517,-36.4589 62.4471,-47.0538 69.0552,-44.7441\"/>\n</g>\n<!-- 20 -->\n<g id=\"node5\" class=\"node\">\n<title>20</title>\n<path fill=\"#c0c0c0\" stroke=\"#000000\" d=\"M143,-36C143,-36 113,-36 113,-36 107,-36 101,-30 101,-24 101,-24 101,-12 101,-12 101,-6 107,0 113,0 113,0 143,0 143,0 149,0 155,-6 155,-12 155,-12 155,-24 155,-24 155,-30 149,-36 143,-36\"/>\n<text text-anchor=\"middle\" x=\"128\" y=\"-14.3\" font-family=\"Helvetica,sans-Serif\" font-size=\"14.00\" fill=\"#000000\">(...)</text>\n</g>\n<!-- 2&#45;&gt;20 -->\n<g id=\"edge4\" class=\"edge\">\n<title>2&#45;&gt;20</title>\n<path fill=\"none\" stroke=\"#000000\" d=\"M109.1565,-71.9133C112.2635,-63.0239 115.404,-54.0385 118.2068,-46.0195\"/>\n<polygon fill=\"#000000\" stroke=\"#000000\" points=\"121.5529,-47.0538 121.5483,-36.4589 114.9448,-44.7441 121.5529,-47.0538\"/>\n</g>\n<!-- 22 -->\n<g id=\"node7\" class=\"node\">\n<title>22</title>\n<path fill=\"#c0c0c0\" stroke=\"#000000\" d=\"M286,-36C286,-36 256,-36 256,-36 250,-36 244,-30 244,-24 244,-24 244,-12 244,-12 244,-6 250,0 256,0 256,0 286,0 286,0 292,0 298,-6 298,-12 298,-12 298,-24 298,-24 298,-30 292,-36 286,-36\"/>\n<text text-anchor=\"middle\" x=\"271\" y=\"-14.3\" font-family=\"Helvetica,sans-Serif\" font-size=\"14.00\" fill=\"#000000\">(...)</text>\n</g>\n<!-- 21&#45;&gt;22 -->\n<g id=\"edge6\" class=\"edge\">\n<title>21&#45;&gt;22</title>\n<path fill=\"none\" stroke=\"#000000\" d=\"M289.8435,-71.9133C286.7365,-63.0239 283.596,-54.0385 280.7932,-46.0195\"/>\n<polygon fill=\"#000000\" stroke=\"#000000\" points=\"284.0552,-44.7441 277.4517,-36.4589 277.4471,-47.0538 284.0552,-44.7441\"/>\n</g>\n<!-- 43 -->\n<g id=\"node8\" class=\"node\">\n<title>43</title>\n<path fill=\"#c0c0c0\" stroke=\"#000000\" d=\"M358,-36C358,-36 328,-36 328,-36 322,-36 316,-30 316,-24 316,-24 316,-12 316,-12 316,-6 322,0 328,0 328,0 358,0 358,0 364,0 370,-6 370,-12 370,-12 370,-24 370,-24 370,-30 364,-36 358,-36\"/>\n<text text-anchor=\"middle\" x=\"343\" y=\"-14.3\" font-family=\"Helvetica,sans-Serif\" font-size=\"14.00\" fill=\"#000000\">(...)</text>\n</g>\n<!-- 21&#45;&gt;43 -->\n<g id=\"edge7\" class=\"edge\">\n<title>21&#45;&gt;43</title>\n<path fill=\"none\" stroke=\"#000000\" d=\"M324.1565,-71.9133C327.2635,-63.0239 330.404,-54.0385 333.2068,-46.0195\"/>\n<polygon fill=\"#000000\" stroke=\"#000000\" points=\"336.5529,-47.0538 336.5483,-36.4589 329.9448,-44.7441 336.5529,-47.0538\"/>\n</g>\n<!-- 57 -->\n<g id=\"node10\" class=\"node\">\n<title>57</title>\n<path fill=\"#dcc8f8\" stroke=\"#000000\" d=\"M610,-170C610,-170 442,-170 442,-170 436,-170 430,-164 430,-158 430,-158 430,-84 430,-84 430,-78 436,-72 442,-72 442,-72 610,-72 610,-72 616,-72 622,-78 622,-84 622,-84 622,-158 622,-158 622,-164 616,-170 610,-170\"/>\n<text text-anchor=\"start\" x=\"495\" y=\"-154.8\" font-family=\"Helvetica,sans-Serif\" font-size=\"14.00\" fill=\"#000000\">node #57</text>\n<text text-anchor=\"start\" x=\"481.5\" y=\"-139.8\" font-family=\"Helvetica,sans-Serif\" font-size=\"14.00\" fill=\"#000000\">Relation ≤ 0.5</text>\n<text text-anchor=\"start\" x=\"492.5\" y=\"-124.8\" font-family=\"Helvetica,sans-Serif\" font-size=\"14.00\" fill=\"#000000\">gini = 0.53</text>\n<text text-anchor=\"start\" x=\"470\" y=\"-109.8\" font-family=\"Helvetica,sans-Serif\" font-size=\"14.00\" fill=\"#000000\">samples = 49.5%</text>\n<text text-anchor=\"start\" x=\"438\" y=\"-94.8\" font-family=\"Helvetica,sans-Serif\" font-size=\"14.00\" fill=\"#000000\">value = [0.392, 0.048, 0.56]</text>\n<text text-anchor=\"start\" x=\"497\" y=\"-79.8\" font-family=\"Helvetica,sans-Serif\" font-size=\"14.00\" fill=\"#000000\">class = 2</text>\n</g>\n<!-- 56&#45;&gt;57 -->\n<g id=\"edge9\" class=\"edge\">\n<title>56&#45;&gt;57</title>\n<path fill=\"none\" stroke=\"#000000\" d=\"M526,-205.8642C526,-197.5802 526,-188.903 526,-180.3918\"/>\n<polygon fill=\"#000000\" stroke=\"#000000\" points=\"529.5001,-180.1298 526,-170.1298 522.5001,-180.1299 529.5001,-180.1298\"/>\n</g>\n<!-- 122 -->\n<g id=\"node13\" class=\"node\">\n<title>122</title>\n<path fill=\"#eeae80\" stroke=\"#000000\" d=\"M828,-170C828,-170 652,-170 652,-170 646,-170 640,-164 640,-158 640,-158 640,-84 640,-84 640,-78 646,-72 652,-72 652,-72 828,-72 828,-72 834,-72 840,-78 840,-84 840,-84 840,-158 840,-158 840,-164 834,-170 828,-170\"/>\n<text text-anchor=\"start\" x=\"705\" y=\"-154.8\" font-family=\"Helvetica,sans-Serif\" font-size=\"14.00\" fill=\"#000000\">node #122</text>\n<text text-anchor=\"start\" x=\"678\" y=\"-139.8\" font-family=\"Helvetica,sans-Serif\" font-size=\"14.00\" fill=\"#000000\">raisedhands ≤ 23.5</text>\n<text text-anchor=\"start\" x=\"702\" y=\"-124.8\" font-family=\"Helvetica,sans-Serif\" font-size=\"14.00\" fill=\"#000000\">gini = 0.441</text>\n<text text-anchor=\"start\" x=\"684\" y=\"-109.8\" font-family=\"Helvetica,sans-Serif\" font-size=\"14.00\" fill=\"#000000\">samples = 12.7%</text>\n<text text-anchor=\"start\" x=\"648\" y=\"-94.8\" font-family=\"Helvetica,sans-Serif\" font-size=\"14.00\" fill=\"#000000\">value = [0.714, 0.082, 0.204]</text>\n<text text-anchor=\"start\" x=\"711\" y=\"-79.8\" font-family=\"Helvetica,sans-Serif\" font-size=\"14.00\" fill=\"#000000\">class = 0</text>\n</g>\n<!-- 56&#45;&gt;122 -->\n<g id=\"edge12\" class=\"edge\">\n<title>56&#45;&gt;122</title>\n<path fill=\"none\" stroke=\"#000000\" d=\"M604.4705,-205.8642C620.1718,-196.0326 636.7573,-185.6473 652.7347,-175.6428\"/>\n<polygon fill=\"#000000\" stroke=\"#000000\" points=\"654.9209,-178.4034 661.5389,-170.1298 651.2059,-172.4705 654.9209,-178.4034\"/>\n</g>\n<!-- 58 -->\n<g id=\"node11\" class=\"node\">\n<title>58</title>\n<path fill=\"#c0c0c0\" stroke=\"#000000\" d=\"M505,-36C505,-36 475,-36 475,-36 469,-36 463,-30 463,-24 463,-24 463,-12 463,-12 463,-6 469,0 475,0 475,0 505,0 505,0 511,0 517,-6 517,-12 517,-12 517,-24 517,-24 517,-30 511,-36 505,-36\"/>\n<text text-anchor=\"middle\" x=\"490\" y=\"-14.3\" font-family=\"Helvetica,sans-Serif\" font-size=\"14.00\" fill=\"#000000\">(...)</text>\n</g>\n<!-- 57&#45;&gt;58 -->\n<g id=\"edge10\" class=\"edge\">\n<title>57&#45;&gt;58</title>\n<path fill=\"none\" stroke=\"#000000\" d=\"M508.8435,-71.9133C505.7365,-63.0239 502.596,-54.0385 499.7932,-46.0195\"/>\n<polygon fill=\"#000000\" stroke=\"#000000\" points=\"503.0552,-44.7441 496.4517,-36.4589 496.4471,-47.0538 503.0552,-44.7441\"/>\n</g>\n<!-- 89 -->\n<g id=\"node12\" class=\"node\">\n<title>89</title>\n<path fill=\"#c0c0c0\" stroke=\"#000000\" d=\"M577,-36C577,-36 547,-36 547,-36 541,-36 535,-30 535,-24 535,-24 535,-12 535,-12 535,-6 541,0 547,0 547,0 577,0 577,0 583,0 589,-6 589,-12 589,-12 589,-24 589,-24 589,-30 583,-36 577,-36\"/>\n<text text-anchor=\"middle\" x=\"562\" y=\"-14.3\" font-family=\"Helvetica,sans-Serif\" font-size=\"14.00\" fill=\"#000000\">(...)</text>\n</g>\n<!-- 57&#45;&gt;89 -->\n<g id=\"edge11\" class=\"edge\">\n<title>57&#45;&gt;89</title>\n<path fill=\"none\" stroke=\"#000000\" d=\"M543.1565,-71.9133C546.2635,-63.0239 549.404,-54.0385 552.2068,-46.0195\"/>\n<polygon fill=\"#000000\" stroke=\"#000000\" points=\"555.5529,-47.0538 555.5483,-36.4589 548.9448,-44.7441 555.5529,-47.0538\"/>\n</g>\n<!-- 123 -->\n<g id=\"node14\" class=\"node\">\n<title>123</title>\n<path fill=\"#c0c0c0\" stroke=\"#000000\" d=\"M719,-36C719,-36 689,-36 689,-36 683,-36 677,-30 677,-24 677,-24 677,-12 677,-12 677,-6 683,0 689,0 689,0 719,0 719,0 725,0 731,-6 731,-12 731,-12 731,-24 731,-24 731,-30 725,-36 719,-36\"/>\n<text text-anchor=\"middle\" x=\"704\" y=\"-14.3\" font-family=\"Helvetica,sans-Serif\" font-size=\"14.00\" fill=\"#000000\">(...)</text>\n</g>\n<!-- 122&#45;&gt;123 -->\n<g id=\"edge13\" class=\"edge\">\n<title>122&#45;&gt;123</title>\n<path fill=\"none\" stroke=\"#000000\" d=\"M722.8435,-71.9133C719.7365,-63.0239 716.596,-54.0385 713.7932,-46.0195\"/>\n<polygon fill=\"#000000\" stroke=\"#000000\" points=\"717.0552,-44.7441 710.4517,-36.4589 710.4471,-47.0538 717.0552,-44.7441\"/>\n</g>\n<!-- 126 -->\n<g id=\"node15\" class=\"node\">\n<title>126</title>\n<path fill=\"#c0c0c0\" stroke=\"#000000\" d=\"M791,-36C791,-36 761,-36 761,-36 755,-36 749,-30 749,-24 749,-24 749,-12 749,-12 749,-6 755,0 761,0 761,0 791,0 791,0 797,0 803,-6 803,-12 803,-12 803,-24 803,-24 803,-30 797,-36 791,-36\"/>\n<text text-anchor=\"middle\" x=\"776\" y=\"-14.3\" font-family=\"Helvetica,sans-Serif\" font-size=\"14.00\" fill=\"#000000\">(...)</text>\n</g>\n<!-- 122&#45;&gt;126 -->\n<g id=\"edge14\" class=\"edge\">\n<title>122&#45;&gt;126</title>\n<path fill=\"none\" stroke=\"#000000\" d=\"M757.1565,-71.9133C760.2635,-63.0239 763.404,-54.0385 766.2068,-46.0195\"/>\n<polygon fill=\"#000000\" stroke=\"#000000\" points=\"769.5529,-47.0538 769.5483,-36.4589 762.9448,-44.7441 769.5529,-47.0538\"/>\n</g>\n</g>\n</svg>\n"
          },
          "metadata": {
            "tags": []
          },
          "execution_count": 28
        }
      ]
    },
    {
      "cell_type": "markdown",
      "metadata": {
        "id": "TiqivolRncy1"
      },
      "source": [
        "**Selecionando e Visualizando a Árvore 1**"
      ]
    },
    {
      "cell_type": "code",
      "metadata": {
        "id": "ftDaM9tEncy1",
        "colab": {
          "base_uri": "https://localhost:8080/",
          "height": 616
        },
        "outputId": "619f14f6-8187-447b-b0f8-1cc1c4f5cf23"
      },
      "source": [
        "tree1 = random_clf.estimators_[1]\n",
        "# visualizando graficamente\n",
        "from sklearn.tree import export_graphviz\n",
        "import graphviz \n",
        "\n",
        "dot_data = export_graphviz(\n",
        "         tree0,\n",
        "         max_depth=2,# a limitação é somente para a visualização\n",
        "         out_file=None,\n",
        "         feature_names=X_train.columns,\n",
        "         class_names=['0','1','2'], \n",
        "         filled=True, rounded=True,\n",
        "         proportion=True,\n",
        "         node_ids=True,\n",
        "         rotate=False,\n",
        "         label='all',\n",
        "         special_characters=True\n",
        "        )  \n",
        "graph = graphviz.Source(dot_data)  \n",
        "graph"
      ],
      "execution_count": 29,
      "outputs": [
        {
          "output_type": "execute_result",
          "data": {
            "text/plain": [
              "<graphviz.files.Source at 0x7f247afeea58>"
            ],
            "image/svg+xml": "<?xml version=\"1.0\" encoding=\"UTF-8\" standalone=\"no\"?>\n<!DOCTYPE svg PUBLIC \"-//W3C//DTD SVG 1.1//EN\"\n \"http://www.w3.org/Graphics/SVG/1.1/DTD/svg11.dtd\">\n<!-- Generated by graphviz version 2.40.1 (20161225.0304)\n -->\n<!-- Title: Tree Pages: 1 -->\n<svg width=\"848pt\" height=\"446pt\"\n viewBox=\"0.00 0.00 848.00 446.00\" xmlns=\"http://www.w3.org/2000/svg\" xmlns:xlink=\"http://www.w3.org/1999/xlink\">\n<g id=\"graph0\" class=\"graph\" transform=\"scale(1 1) rotate(0) translate(4 442)\">\n<title>Tree</title>\n<polygon fill=\"#ffffff\" stroke=\"transparent\" points=\"-4,4 -4,-442 844,-442 844,4 -4,4\"/>\n<!-- 0 -->\n<g id=\"node1\" class=\"node\">\n<title>0</title>\n<path fill=\"#ece0fb\" stroke=\"#000000\" d=\"M500,-438C500,-438 332,-438 332,-438 326,-438 320,-432 320,-426 320,-426 320,-352 320,-352 320,-346 326,-340 332,-340 332,-340 500,-340 500,-340 506,-340 512,-346 512,-352 512,-352 512,-426 512,-426 512,-432 506,-438 500,-438\"/>\n<text text-anchor=\"start\" x=\"389\" y=\"-422.8\" font-family=\"Helvetica,sans-Serif\" font-size=\"14.00\" fill=\"#000000\">node #0</text>\n<text text-anchor=\"start\" x=\"334.5\" y=\"-407.8\" font-family=\"Helvetica,sans-Serif\" font-size=\"14.00\" fill=\"#000000\">VisITedResources ≤ 40.5</text>\n<text text-anchor=\"start\" x=\"378\" y=\"-392.8\" font-family=\"Helvetica,sans-Serif\" font-size=\"14.00\" fill=\"#000000\">gini = 0.657</text>\n<text text-anchor=\"start\" x=\"355.5\" y=\"-377.8\" font-family=\"Helvetica,sans-Serif\" font-size=\"14.00\" fill=\"#000000\">samples = 100.0%</text>\n<text text-anchor=\"start\" x=\"328\" y=\"-362.8\" font-family=\"Helvetica,sans-Serif\" font-size=\"14.00\" fill=\"#000000\">value = [0.307, 0.28, 0.414]</text>\n<text text-anchor=\"start\" x=\"387\" y=\"-347.8\" font-family=\"Helvetica,sans-Serif\" font-size=\"14.00\" fill=\"#000000\">class = 2</text>\n</g>\n<!-- 1 -->\n<g id=\"node2\" class=\"node\">\n<title>1</title>\n<path fill=\"#94f1bb\" stroke=\"#000000\" d=\"M395,-304C395,-304 219,-304 219,-304 213,-304 207,-298 207,-292 207,-292 207,-218 207,-218 207,-212 213,-206 219,-206 219,-206 395,-206 395,-206 401,-206 407,-212 407,-218 407,-218 407,-292 407,-292 407,-298 401,-304 395,-304\"/>\n<text text-anchor=\"start\" x=\"280\" y=\"-288.8\" font-family=\"Helvetica,sans-Serif\" font-size=\"14.00\" fill=\"#000000\">node #1</text>\n<text text-anchor=\"start\" x=\"245\" y=\"-273.8\" font-family=\"Helvetica,sans-Serif\" font-size=\"14.00\" fill=\"#000000\">raisedhands ≤ 10.5</text>\n<text text-anchor=\"start\" x=\"269\" y=\"-258.8\" font-family=\"Helvetica,sans-Serif\" font-size=\"14.00\" fill=\"#000000\">gini = 0.452</text>\n<text text-anchor=\"start\" x=\"251\" y=\"-243.8\" font-family=\"Helvetica,sans-Serif\" font-size=\"14.00\" fill=\"#000000\">samples = 37.7%</text>\n<text text-anchor=\"start\" x=\"215\" y=\"-228.8\" font-family=\"Helvetica,sans-Serif\" font-size=\"14.00\" fill=\"#000000\">value = [0.025, 0.678, 0.298]</text>\n<text text-anchor=\"start\" x=\"278\" y=\"-213.8\" font-family=\"Helvetica,sans-Serif\" font-size=\"14.00\" fill=\"#000000\">class = 1</text>\n</g>\n<!-- 0&#45;&gt;1 -->\n<g id=\"edge1\" class=\"edge\">\n<title>0&#45;&gt;1</title>\n<path fill=\"none\" stroke=\"#000000\" d=\"M376.0314,-339.8642C368.7004,-330.8519 360.9911,-321.3743 353.4887,-312.1513\"/>\n<polygon fill=\"#000000\" stroke=\"#000000\" points=\"355.9893,-309.6788 346.9638,-304.1298 350.559,-314.0961 355.9893,-309.6788\"/>\n<text text-anchor=\"middle\" x=\"344.4053\" y=\"-325.2986\" font-family=\"Helvetica,sans-Serif\" font-size=\"14.00\" fill=\"#000000\">True</text>\n</g>\n<!-- 56 -->\n<g id=\"node9\" class=\"node\">\n<title>56</title>\n<path fill=\"#fcfafe\" stroke=\"#000000\" d=\"M614,-304C614,-304 438,-304 438,-304 432,-304 426,-298 426,-292 426,-292 426,-218 426,-218 426,-212 432,-206 438,-206 438,-206 614,-206 614,-206 620,-206 626,-212 626,-218 626,-218 626,-292 626,-292 626,-298 620,-304 614,-304\"/>\n<text text-anchor=\"start\" x=\"495\" y=\"-288.8\" font-family=\"Helvetica,sans-Serif\" font-size=\"14.00\" fill=\"#000000\">node #56</text>\n<text text-anchor=\"start\" x=\"469\" y=\"-273.8\" font-family=\"Helvetica,sans-Serif\" font-size=\"14.00\" fill=\"#000000\">PlaceofBirth ≤ 6.5</text>\n<text text-anchor=\"start\" x=\"488\" y=\"-258.8\" font-family=\"Helvetica,sans-Serif\" font-size=\"14.00\" fill=\"#000000\">gini = 0.551</text>\n<text text-anchor=\"start\" x=\"470\" y=\"-243.8\" font-family=\"Helvetica,sans-Serif\" font-size=\"14.00\" fill=\"#000000\">samples = 62.3%</text>\n<text text-anchor=\"start\" x=\"434\" y=\"-228.8\" font-family=\"Helvetica,sans-Serif\" font-size=\"14.00\" fill=\"#000000\">value = [0.465, 0.056, 0.479]</text>\n<text text-anchor=\"start\" x=\"497\" y=\"-213.8\" font-family=\"Helvetica,sans-Serif\" font-size=\"14.00\" fill=\"#000000\">class = 2</text>\n</g>\n<!-- 0&#45;&gt;56 -->\n<g id=\"edge8\" class=\"edge\">\n<title>0&#45;&gt;56</title>\n<path fill=\"none\" stroke=\"#000000\" d=\"M456.3353,-339.8642C463.8083,-330.7609 471.6708,-321.1828 479.3141,-311.8719\"/>\n<polygon fill=\"#000000\" stroke=\"#000000\" points=\"482.0298,-314.0799 485.6695,-304.1298 476.6193,-309.6384 482.0298,-314.0799\"/>\n<text text-anchor=\"middle\" x=\"488.1168\" y=\"-325.3098\" font-family=\"Helvetica,sans-Serif\" font-size=\"14.00\" fill=\"#000000\">False</text>\n</g>\n<!-- 2 -->\n<g id=\"node3\" class=\"node\">\n<title>2</title>\n<path fill=\"#5cea97\" stroke=\"#000000\" d=\"M172,-170C172,-170 12,-170 12,-170 6,-170 0,-164 0,-158 0,-158 0,-84 0,-84 0,-78 6,-72 12,-72 12,-72 172,-72 172,-72 178,-72 184,-78 184,-84 184,-84 184,-158 184,-158 184,-164 178,-170 172,-170\"/>\n<text text-anchor=\"start\" x=\"65\" y=\"-154.8\" font-family=\"Helvetica,sans-Serif\" font-size=\"14.00\" fill=\"#000000\">node #2</text>\n<text text-anchor=\"start\" x=\"46.5\" y=\"-139.8\" font-family=\"Helvetica,sans-Serif\" font-size=\"14.00\" fill=\"#000000\">GradeID ≤ 1.0</text>\n<text text-anchor=\"start\" x=\"54\" y=\"-124.8\" font-family=\"Helvetica,sans-Serif\" font-size=\"14.00\" fill=\"#000000\">gini = 0.254</text>\n<text text-anchor=\"start\" x=\"36\" y=\"-109.8\" font-family=\"Helvetica,sans-Serif\" font-size=\"14.00\" fill=\"#000000\">samples = 18.9%</text>\n<text text-anchor=\"start\" x=\"8\" y=\"-94.8\" font-family=\"Helvetica,sans-Serif\" font-size=\"14.00\" fill=\"#000000\">value = [0.0, 0.851, 0.149]</text>\n<text text-anchor=\"start\" x=\"63\" y=\"-79.8\" font-family=\"Helvetica,sans-Serif\" font-size=\"14.00\" fill=\"#000000\">class = 1</text>\n</g>\n<!-- 1&#45;&gt;2 -->\n<g id=\"edge2\" class=\"edge\">\n<title>1&#45;&gt;2</title>\n<path fill=\"none\" stroke=\"#000000\" d=\"M228.1628,-205.8642C212.3881,-196.0326 195.7251,-185.6473 179.6731,-175.6428\"/>\n<polygon fill=\"#000000\" stroke=\"#000000\" points=\"181.1656,-172.4489 170.8277,-170.1298 177.4631,-178.3895 181.1656,-172.4489\"/>\n</g>\n<!-- 21 -->\n<g id=\"node6\" class=\"node\">\n<title>21</title>\n<path fill=\"#fbf8fe\" stroke=\"#000000\" d=\"M399.5,-170C399.5,-170 214.5,-170 214.5,-170 208.5,-170 202.5,-164 202.5,-158 202.5,-158 202.5,-84 202.5,-84 202.5,-78 208.5,-72 214.5,-72 214.5,-72 399.5,-72 399.5,-72 405.5,-72 411.5,-78 411.5,-84 411.5,-84 411.5,-158 411.5,-158 411.5,-164 405.5,-170 399.5,-170\"/>\n<text text-anchor=\"start\" x=\"276\" y=\"-154.8\" font-family=\"Helvetica,sans-Serif\" font-size=\"14.00\" fill=\"#000000\">node #21</text>\n<text text-anchor=\"start\" x=\"210.5\" y=\"-139.8\" font-family=\"Helvetica,sans-Serif\" font-size=\"14.00\" fill=\"#000000\">ParentAnsweringSurvey ≤ 0.5</text>\n<text text-anchor=\"start\" x=\"269\" y=\"-124.8\" font-family=\"Helvetica,sans-Serif\" font-size=\"14.00\" fill=\"#000000\">gini = 0.551</text>\n<text text-anchor=\"start\" x=\"251\" y=\"-109.8\" font-family=\"Helvetica,sans-Serif\" font-size=\"14.00\" fill=\"#000000\">samples = 18.9%</text>\n<text text-anchor=\"start\" x=\"215\" y=\"-94.8\" font-family=\"Helvetica,sans-Serif\" font-size=\"14.00\" fill=\"#000000\">value = [0.056, 0.463, 0.481]</text>\n<text text-anchor=\"start\" x=\"278\" y=\"-79.8\" font-family=\"Helvetica,sans-Serif\" font-size=\"14.00\" fill=\"#000000\">class = 2</text>\n</g>\n<!-- 1&#45;&gt;21 -->\n<g id=\"edge5\" class=\"edge\">\n<title>1&#45;&gt;21</title>\n<path fill=\"none\" stroke=\"#000000\" d=\"M307,-205.8642C307,-197.5802 307,-188.903 307,-180.3918\"/>\n<polygon fill=\"#000000\" stroke=\"#000000\" points=\"310.5001,-180.1298 307,-170.1298 303.5001,-180.1299 310.5001,-180.1298\"/>\n</g>\n<!-- 3 -->\n<g id=\"node4\" class=\"node\">\n<title>3</title>\n<path fill=\"#c0c0c0\" stroke=\"#000000\" d=\"M71,-36C71,-36 41,-36 41,-36 35,-36 29,-30 29,-24 29,-24 29,-12 29,-12 29,-6 35,0 41,0 41,0 71,0 71,0 77,0 83,-6 83,-12 83,-12 83,-24 83,-24 83,-30 77,-36 71,-36\"/>\n<text text-anchor=\"middle\" x=\"56\" y=\"-14.3\" font-family=\"Helvetica,sans-Serif\" font-size=\"14.00\" fill=\"#000000\">(...)</text>\n</g>\n<!-- 2&#45;&gt;3 -->\n<g id=\"edge3\" class=\"edge\">\n<title>2&#45;&gt;3</title>\n<path fill=\"none\" stroke=\"#000000\" d=\"M74.8435,-71.9133C71.7365,-63.0239 68.596,-54.0385 65.7932,-46.0195\"/>\n<polygon fill=\"#000000\" stroke=\"#000000\" points=\"69.0552,-44.7441 62.4517,-36.4589 62.4471,-47.0538 69.0552,-44.7441\"/>\n</g>\n<!-- 20 -->\n<g id=\"node5\" class=\"node\">\n<title>20</title>\n<path fill=\"#c0c0c0\" stroke=\"#000000\" d=\"M143,-36C143,-36 113,-36 113,-36 107,-36 101,-30 101,-24 101,-24 101,-12 101,-12 101,-6 107,0 113,0 113,0 143,0 143,0 149,0 155,-6 155,-12 155,-12 155,-24 155,-24 155,-30 149,-36 143,-36\"/>\n<text text-anchor=\"middle\" x=\"128\" y=\"-14.3\" font-family=\"Helvetica,sans-Serif\" font-size=\"14.00\" fill=\"#000000\">(...)</text>\n</g>\n<!-- 2&#45;&gt;20 -->\n<g id=\"edge4\" class=\"edge\">\n<title>2&#45;&gt;20</title>\n<path fill=\"none\" stroke=\"#000000\" d=\"M109.1565,-71.9133C112.2635,-63.0239 115.404,-54.0385 118.2068,-46.0195\"/>\n<polygon fill=\"#000000\" stroke=\"#000000\" points=\"121.5529,-47.0538 121.5483,-36.4589 114.9448,-44.7441 121.5529,-47.0538\"/>\n</g>\n<!-- 22 -->\n<g id=\"node7\" class=\"node\">\n<title>22</title>\n<path fill=\"#c0c0c0\" stroke=\"#000000\" d=\"M286,-36C286,-36 256,-36 256,-36 250,-36 244,-30 244,-24 244,-24 244,-12 244,-12 244,-6 250,0 256,0 256,0 286,0 286,0 292,0 298,-6 298,-12 298,-12 298,-24 298,-24 298,-30 292,-36 286,-36\"/>\n<text text-anchor=\"middle\" x=\"271\" y=\"-14.3\" font-family=\"Helvetica,sans-Serif\" font-size=\"14.00\" fill=\"#000000\">(...)</text>\n</g>\n<!-- 21&#45;&gt;22 -->\n<g id=\"edge6\" class=\"edge\">\n<title>21&#45;&gt;22</title>\n<path fill=\"none\" stroke=\"#000000\" d=\"M289.8435,-71.9133C286.7365,-63.0239 283.596,-54.0385 280.7932,-46.0195\"/>\n<polygon fill=\"#000000\" stroke=\"#000000\" points=\"284.0552,-44.7441 277.4517,-36.4589 277.4471,-47.0538 284.0552,-44.7441\"/>\n</g>\n<!-- 43 -->\n<g id=\"node8\" class=\"node\">\n<title>43</title>\n<path fill=\"#c0c0c0\" stroke=\"#000000\" d=\"M358,-36C358,-36 328,-36 328,-36 322,-36 316,-30 316,-24 316,-24 316,-12 316,-12 316,-6 322,0 328,0 328,0 358,0 358,0 364,0 370,-6 370,-12 370,-12 370,-24 370,-24 370,-30 364,-36 358,-36\"/>\n<text text-anchor=\"middle\" x=\"343\" y=\"-14.3\" font-family=\"Helvetica,sans-Serif\" font-size=\"14.00\" fill=\"#000000\">(...)</text>\n</g>\n<!-- 21&#45;&gt;43 -->\n<g id=\"edge7\" class=\"edge\">\n<title>21&#45;&gt;43</title>\n<path fill=\"none\" stroke=\"#000000\" d=\"M324.1565,-71.9133C327.2635,-63.0239 330.404,-54.0385 333.2068,-46.0195\"/>\n<polygon fill=\"#000000\" stroke=\"#000000\" points=\"336.5529,-47.0538 336.5483,-36.4589 329.9448,-44.7441 336.5529,-47.0538\"/>\n</g>\n<!-- 57 -->\n<g id=\"node10\" class=\"node\">\n<title>57</title>\n<path fill=\"#dcc8f8\" stroke=\"#000000\" d=\"M610,-170C610,-170 442,-170 442,-170 436,-170 430,-164 430,-158 430,-158 430,-84 430,-84 430,-78 436,-72 442,-72 442,-72 610,-72 610,-72 616,-72 622,-78 622,-84 622,-84 622,-158 622,-158 622,-164 616,-170 610,-170\"/>\n<text text-anchor=\"start\" x=\"495\" y=\"-154.8\" font-family=\"Helvetica,sans-Serif\" font-size=\"14.00\" fill=\"#000000\">node #57</text>\n<text text-anchor=\"start\" x=\"481.5\" y=\"-139.8\" font-family=\"Helvetica,sans-Serif\" font-size=\"14.00\" fill=\"#000000\">Relation ≤ 0.5</text>\n<text text-anchor=\"start\" x=\"492.5\" y=\"-124.8\" font-family=\"Helvetica,sans-Serif\" font-size=\"14.00\" fill=\"#000000\">gini = 0.53</text>\n<text text-anchor=\"start\" x=\"470\" y=\"-109.8\" font-family=\"Helvetica,sans-Serif\" font-size=\"14.00\" fill=\"#000000\">samples = 49.5%</text>\n<text text-anchor=\"start\" x=\"438\" y=\"-94.8\" font-family=\"Helvetica,sans-Serif\" font-size=\"14.00\" fill=\"#000000\">value = [0.392, 0.048, 0.56]</text>\n<text text-anchor=\"start\" x=\"497\" y=\"-79.8\" font-family=\"Helvetica,sans-Serif\" font-size=\"14.00\" fill=\"#000000\">class = 2</text>\n</g>\n<!-- 56&#45;&gt;57 -->\n<g id=\"edge9\" class=\"edge\">\n<title>56&#45;&gt;57</title>\n<path fill=\"none\" stroke=\"#000000\" d=\"M526,-205.8642C526,-197.5802 526,-188.903 526,-180.3918\"/>\n<polygon fill=\"#000000\" stroke=\"#000000\" points=\"529.5001,-180.1298 526,-170.1298 522.5001,-180.1299 529.5001,-180.1298\"/>\n</g>\n<!-- 122 -->\n<g id=\"node13\" class=\"node\">\n<title>122</title>\n<path fill=\"#eeae80\" stroke=\"#000000\" d=\"M828,-170C828,-170 652,-170 652,-170 646,-170 640,-164 640,-158 640,-158 640,-84 640,-84 640,-78 646,-72 652,-72 652,-72 828,-72 828,-72 834,-72 840,-78 840,-84 840,-84 840,-158 840,-158 840,-164 834,-170 828,-170\"/>\n<text text-anchor=\"start\" x=\"705\" y=\"-154.8\" font-family=\"Helvetica,sans-Serif\" font-size=\"14.00\" fill=\"#000000\">node #122</text>\n<text text-anchor=\"start\" x=\"678\" y=\"-139.8\" font-family=\"Helvetica,sans-Serif\" font-size=\"14.00\" fill=\"#000000\">raisedhands ≤ 23.5</text>\n<text text-anchor=\"start\" x=\"702\" y=\"-124.8\" font-family=\"Helvetica,sans-Serif\" font-size=\"14.00\" fill=\"#000000\">gini = 0.441</text>\n<text text-anchor=\"start\" x=\"684\" y=\"-109.8\" font-family=\"Helvetica,sans-Serif\" font-size=\"14.00\" fill=\"#000000\">samples = 12.7%</text>\n<text text-anchor=\"start\" x=\"648\" y=\"-94.8\" font-family=\"Helvetica,sans-Serif\" font-size=\"14.00\" fill=\"#000000\">value = [0.714, 0.082, 0.204]</text>\n<text text-anchor=\"start\" x=\"711\" y=\"-79.8\" font-family=\"Helvetica,sans-Serif\" font-size=\"14.00\" fill=\"#000000\">class = 0</text>\n</g>\n<!-- 56&#45;&gt;122 -->\n<g id=\"edge12\" class=\"edge\">\n<title>56&#45;&gt;122</title>\n<path fill=\"none\" stroke=\"#000000\" d=\"M604.4705,-205.8642C620.1718,-196.0326 636.7573,-185.6473 652.7347,-175.6428\"/>\n<polygon fill=\"#000000\" stroke=\"#000000\" points=\"654.9209,-178.4034 661.5389,-170.1298 651.2059,-172.4705 654.9209,-178.4034\"/>\n</g>\n<!-- 58 -->\n<g id=\"node11\" class=\"node\">\n<title>58</title>\n<path fill=\"#c0c0c0\" stroke=\"#000000\" d=\"M505,-36C505,-36 475,-36 475,-36 469,-36 463,-30 463,-24 463,-24 463,-12 463,-12 463,-6 469,0 475,0 475,0 505,0 505,0 511,0 517,-6 517,-12 517,-12 517,-24 517,-24 517,-30 511,-36 505,-36\"/>\n<text text-anchor=\"middle\" x=\"490\" y=\"-14.3\" font-family=\"Helvetica,sans-Serif\" font-size=\"14.00\" fill=\"#000000\">(...)</text>\n</g>\n<!-- 57&#45;&gt;58 -->\n<g id=\"edge10\" class=\"edge\">\n<title>57&#45;&gt;58</title>\n<path fill=\"none\" stroke=\"#000000\" d=\"M508.8435,-71.9133C505.7365,-63.0239 502.596,-54.0385 499.7932,-46.0195\"/>\n<polygon fill=\"#000000\" stroke=\"#000000\" points=\"503.0552,-44.7441 496.4517,-36.4589 496.4471,-47.0538 503.0552,-44.7441\"/>\n</g>\n<!-- 89 -->\n<g id=\"node12\" class=\"node\">\n<title>89</title>\n<path fill=\"#c0c0c0\" stroke=\"#000000\" d=\"M577,-36C577,-36 547,-36 547,-36 541,-36 535,-30 535,-24 535,-24 535,-12 535,-12 535,-6 541,0 547,0 547,0 577,0 577,0 583,0 589,-6 589,-12 589,-12 589,-24 589,-24 589,-30 583,-36 577,-36\"/>\n<text text-anchor=\"middle\" x=\"562\" y=\"-14.3\" font-family=\"Helvetica,sans-Serif\" font-size=\"14.00\" fill=\"#000000\">(...)</text>\n</g>\n<!-- 57&#45;&gt;89 -->\n<g id=\"edge11\" class=\"edge\">\n<title>57&#45;&gt;89</title>\n<path fill=\"none\" stroke=\"#000000\" d=\"M543.1565,-71.9133C546.2635,-63.0239 549.404,-54.0385 552.2068,-46.0195\"/>\n<polygon fill=\"#000000\" stroke=\"#000000\" points=\"555.5529,-47.0538 555.5483,-36.4589 548.9448,-44.7441 555.5529,-47.0538\"/>\n</g>\n<!-- 123 -->\n<g id=\"node14\" class=\"node\">\n<title>123</title>\n<path fill=\"#c0c0c0\" stroke=\"#000000\" d=\"M719,-36C719,-36 689,-36 689,-36 683,-36 677,-30 677,-24 677,-24 677,-12 677,-12 677,-6 683,0 689,0 689,0 719,0 719,0 725,0 731,-6 731,-12 731,-12 731,-24 731,-24 731,-30 725,-36 719,-36\"/>\n<text text-anchor=\"middle\" x=\"704\" y=\"-14.3\" font-family=\"Helvetica,sans-Serif\" font-size=\"14.00\" fill=\"#000000\">(...)</text>\n</g>\n<!-- 122&#45;&gt;123 -->\n<g id=\"edge13\" class=\"edge\">\n<title>122&#45;&gt;123</title>\n<path fill=\"none\" stroke=\"#000000\" d=\"M722.8435,-71.9133C719.7365,-63.0239 716.596,-54.0385 713.7932,-46.0195\"/>\n<polygon fill=\"#000000\" stroke=\"#000000\" points=\"717.0552,-44.7441 710.4517,-36.4589 710.4471,-47.0538 717.0552,-44.7441\"/>\n</g>\n<!-- 126 -->\n<g id=\"node15\" class=\"node\">\n<title>126</title>\n<path fill=\"#c0c0c0\" stroke=\"#000000\" d=\"M791,-36C791,-36 761,-36 761,-36 755,-36 749,-30 749,-24 749,-24 749,-12 749,-12 749,-6 755,0 761,0 761,0 791,0 791,0 797,0 803,-6 803,-12 803,-12 803,-24 803,-24 803,-30 797,-36 791,-36\"/>\n<text text-anchor=\"middle\" x=\"776\" y=\"-14.3\" font-family=\"Helvetica,sans-Serif\" font-size=\"14.00\" fill=\"#000000\">(...)</text>\n</g>\n<!-- 122&#45;&gt;126 -->\n<g id=\"edge14\" class=\"edge\">\n<title>122&#45;&gt;126</title>\n<path fill=\"none\" stroke=\"#000000\" d=\"M757.1565,-71.9133C760.2635,-63.0239 763.404,-54.0385 766.2068,-46.0195\"/>\n<polygon fill=\"#000000\" stroke=\"#000000\" points=\"769.5529,-47.0538 769.5483,-36.4589 762.9448,-44.7441 769.5529,-47.0538\"/>\n</g>\n</g>\n</svg>\n"
          },
          "metadata": {
            "tags": []
          },
          "execution_count": 29
        }
      ]
    },
    {
      "cell_type": "markdown",
      "metadata": {
        "id": "noY7-Vt0ncy5"
      },
      "source": [
        "Para **entender** o que acontece na árvore, vamos pegar a **Árvore 1** como exemplo.\n",
        "\n",
        "O atributo `StudentAbsenceDays` é o que melhor generaliza os dados, por isso está no topo, ou seja, no *nó zero*.\n",
        "\n",
        "Se o atributo acima é *True* vai para o atributo `ParentAnsweringSurvey`, ou seja, para o *nó um*. Se é *False* vai para o atributo `NationalITy` que é o *nó cinquenta e oito*.\n",
        "\n",
        "Quanto mais se desce, mais se aprofunda ou mais se especifica, ou seja, a árvore vai \"perdendo\" a capacidade de generalizar, razão pela qual é *boa prática* utilizar o parâmetro **max_depth** para controlar a profundidade máxima da árvore.\n",
        "\n"
      ]
    },
    {
      "cell_type": "markdown",
      "metadata": {
        "id": "VQ5fHLvpnmza"
      },
      "source": [
        "# Obrigado!\n",
        "\n",
        "Obrigado por ter disponibilizado um pouco do seu tempo e atenção aqui. Espero que, de alguma forma, tenha sido útil para seu crescimento. Se houver qualquer dúvida ou sugestão, não hesite em entrar em contato no [LinkedIn](https://www.linkedin.com/in/daniel-sousa-amador) e verificar meus outros projetos no [GitHub](https://github.com/amadords).\n",
        "\n",
        "\n",
        "[![LinkedIn](https://img.shields.io/badge/LinkedIn-DanielSousaAmador-cyan.svg)](https://www.linkedin.com/in/daniel-sousa-amador)\n",
        "[![GitHub](https://img.shields.io/badge/GitHub-amadords-darkblue.svg)](https://github.com/amadords)\n",
        "[![Medium](https://img.shields.io/badge/Medium-DanielSousaAmador-white.svg)](https://daniel-s-amador.medium.com/)\n",
        "\n",
        "\n",
        "<center><img width=\"90%\" src=\"https://raw.githubusercontent.com/danielamador12/Portfolio/master/github.png\"></center>"
      ]
    }
  ]
}