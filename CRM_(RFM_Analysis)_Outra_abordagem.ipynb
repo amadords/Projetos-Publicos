{
  "nbformat": 4,
  "nbformat_minor": 0,
  "metadata": {
    "colab": {
      "name": "CRM (RFM Analysis) - Outra abordagem",
      "provenance": [],
      "collapsed_sections": [],
      "authorship_tag": "ABX9TyO47zkpkLbmLLG4g37p5FBk",
      "include_colab_link": true
    },
    "kernelspec": {
      "name": "python3",
      "display_name": "Python 3"
    },
    "accelerator": "GPU"
  },
  "cells": [
    {
      "cell_type": "markdown",
      "metadata": {
        "id": "view-in-github",
        "colab_type": "text"
      },
      "source": [
        "<a href=\"https://colab.research.google.com/github/amadords/Projetos-Publicos/blob/master/CRM_(RFM_Analysis)_Outra_abordagem.ipynb\" target=\"_parent\"><img src=\"https://colab.research.google.com/assets/colab-badge.svg\" alt=\"Open In Colab\"/></a>"
      ]
    },
    {
      "cell_type": "markdown",
      "metadata": {
        "id": "WKNWtUoTchyJ"
      },
      "source": [
        "# **CRM (RFM Analysis) - Outra abordagem**\n",
        "---\n",
        "\n",
        "\n",
        "\n",
        "[![LinkedIn](https://img.shields.io/badge/LinkedIn-DanielSousaAmador-cyan.svg)](https://www.linkedin.com/in/daniel-sousa-amador)\n",
        "[![GitHub](https://img.shields.io/badge/GitHub-amadords-darkblue.svg)](https://github.com/amadords)\n",
        "[![Medium](https://img.shields.io/badge/Medium-DanielSousaAmador-white.svg)](https://daniel-s-amador.medium.com/)\n",
        "\n",
        "\n",
        "![img](https://image.freepik.com/vetores-gratis/conceito-de-ilustracao-isometrica-de-solucao-de-crm_108061-581.jpg)\n",
        "\n",
        "O presente material serve como material de apoio para o artigo do medium [CRM e Ciência de Dados]().\n",
        "\n",
        "É uma tradução livre do material, em turco, que pode ser visualizado [aqui](https://www.kaggle.com/emreoksuz/crm-analytics-rfm-analysis-cltv)."
      ]
    },
    {
      "cell_type": "markdown",
      "metadata": {
        "id": "93K1wbPbkCTn"
      },
      "source": [
        "### **Dicionário de variáveis**\n",
        "\n",
        "* `Invoice` -  Número da fatura. Número único para cada fatura. Se este código começar com C, indica que a transação foi cancelada.\n",
        "\n",
        "* `StockCode` - Código do produto. Número único para cada produto.\n",
        "\n",
        "* `Description` - Nome do produto\n",
        "\n",
        "* `Quantity` - Número de itens. Indica quantos produtos nas faturas são vendidos.\n",
        "\n",
        "* `InvoiceDate` - Data e hora da fatura.\n",
        "\n",
        "* `Price` -  Preço do item\n",
        "\n",
        "* `CustomerID` - Número de cliente único\n",
        "\n",
        "* `Country` -  Nome do país. O país onde o cliente mora."
      ]
    },
    {
      "cell_type": "markdown",
      "metadata": {
        "id": "7PwPFVjtbHCI"
      },
      "source": [
        "**Instalação das bibliotecas**"
      ]
    },
    {
      "cell_type": "code",
      "metadata": {
        "id": "AweWiIn3dk5w",
        "colab": {
          "base_uri": "https://localhost:8080/"
        },
        "outputId": "38017ba5-238c-401a-ed9b-d79fd16cd999"
      },
      "source": [
        "!pip install xlrd -q\n",
        "!pip install openpyxl -q\n",
        "!pip install lifetimes -q\n",
        "\n",
        "# Estamos importando as bibliotecas necessárias no projeto.import datetime as dt\n",
        "\n",
        "import datetime as dt\n",
        "import pandas as pd\n",
        "from sklearn.preprocessing import MinMaxScaler\n",
        "from lifetimes import BetaGeoFitter\n",
        "from lifetimes import GammaGammaFitter\n",
        "\n",
        "\n",
        "# Para observar todas as colunas e linhas na saída;pd.set_option('display.max_columns', None)\n",
        "pd.set_option('display.max_rows', None)\n",
        "\n",
        "# O código onde colocaremos as colunas lado a lado para evitar que as colunas deslizem para o fundo na saída.pd.set_option('display.expand_frame_repr', False)"
      ],
      "execution_count": null,
      "outputs": [
        {
          "output_type": "stream",
          "text": [
            "\u001b[?25l\r\u001b[K     |▋                               | 10kB 24.0MB/s eta 0:00:01\r\u001b[K     |█▏                              | 20kB 29.9MB/s eta 0:00:01\r\u001b[K     |█▊                              | 30kB 26.9MB/s eta 0:00:01\r\u001b[K     |██▎                             | 40kB 22.8MB/s eta 0:00:01\r\u001b[K     |██▉                             | 51kB 22.8MB/s eta 0:00:01\r\u001b[K     |███▍                            | 61kB 17.1MB/s eta 0:00:01\r\u001b[K     |████                            | 71kB 17.4MB/s eta 0:00:01\r\u001b[K     |████▌                           | 81kB 16.4MB/s eta 0:00:01\r\u001b[K     |█████                           | 92kB 16.2MB/s eta 0:00:01\r\u001b[K     |█████▋                          | 102kB 16.5MB/s eta 0:00:01\r\u001b[K     |██████▏                         | 112kB 16.5MB/s eta 0:00:01\r\u001b[K     |██████▊                         | 122kB 16.5MB/s eta 0:00:01\r\u001b[K     |███████▎                        | 133kB 16.5MB/s eta 0:00:01\r\u001b[K     |███████▉                        | 143kB 16.5MB/s eta 0:00:01\r\u001b[K     |████████▍                       | 153kB 16.5MB/s eta 0:00:01\r\u001b[K     |█████████                       | 163kB 16.5MB/s eta 0:00:01\r\u001b[K     |█████████▌                      | 174kB 16.5MB/s eta 0:00:01\r\u001b[K     |██████████                      | 184kB 16.5MB/s eta 0:00:01\r\u001b[K     |██████████▋                     | 194kB 16.5MB/s eta 0:00:01\r\u001b[K     |███████████▏                    | 204kB 16.5MB/s eta 0:00:01\r\u001b[K     |███████████▉                    | 215kB 16.5MB/s eta 0:00:01\r\u001b[K     |████████████▍                   | 225kB 16.5MB/s eta 0:00:01\r\u001b[K     |█████████████                   | 235kB 16.5MB/s eta 0:00:01\r\u001b[K     |█████████████▌                  | 245kB 16.5MB/s eta 0:00:01\r\u001b[K     |██████████████                  | 256kB 16.5MB/s eta 0:00:01\r\u001b[K     |██████████████▋                 | 266kB 16.5MB/s eta 0:00:01\r\u001b[K     |███████████████▏                | 276kB 16.5MB/s eta 0:00:01\r\u001b[K     |███████████████▊                | 286kB 16.5MB/s eta 0:00:01\r\u001b[K     |████████████████▎               | 296kB 16.5MB/s eta 0:00:01\r\u001b[K     |████████████████▉               | 307kB 16.5MB/s eta 0:00:01\r\u001b[K     |█████████████████▍              | 317kB 16.5MB/s eta 0:00:01\r\u001b[K     |██████████████████              | 327kB 16.5MB/s eta 0:00:01\r\u001b[K     |██████████████████▌             | 337kB 16.5MB/s eta 0:00:01\r\u001b[K     |███████████████████             | 348kB 16.5MB/s eta 0:00:01\r\u001b[K     |███████████████████▋            | 358kB 16.5MB/s eta 0:00:01\r\u001b[K     |████████████████████▏           | 368kB 16.5MB/s eta 0:00:01\r\u001b[K     |████████████████████▊           | 378kB 16.5MB/s eta 0:00:01\r\u001b[K     |█████████████████████▎          | 389kB 16.5MB/s eta 0:00:01\r\u001b[K     |█████████████████████▉          | 399kB 16.5MB/s eta 0:00:01\r\u001b[K     |██████████████████████▍         | 409kB 16.5MB/s eta 0:00:01\r\u001b[K     |███████████████████████         | 419kB 16.5MB/s eta 0:00:01\r\u001b[K     |███████████████████████▋        | 430kB 16.5MB/s eta 0:00:01\r\u001b[K     |████████████████████████▏       | 440kB 16.5MB/s eta 0:00:01\r\u001b[K     |████████████████████████▊       | 450kB 16.5MB/s eta 0:00:01\r\u001b[K     |█████████████████████████▎      | 460kB 16.5MB/s eta 0:00:01\r\u001b[K     |█████████████████████████▉      | 471kB 16.5MB/s eta 0:00:01\r\u001b[K     |██████████████████████████▍     | 481kB 16.5MB/s eta 0:00:01\r\u001b[K     |███████████████████████████     | 491kB 16.5MB/s eta 0:00:01\r\u001b[K     |███████████████████████████▌    | 501kB 16.5MB/s eta 0:00:01\r\u001b[K     |████████████████████████████    | 512kB 16.5MB/s eta 0:00:01\r\u001b[K     |████████████████████████████▋   | 522kB 16.5MB/s eta 0:00:01\r\u001b[K     |█████████████████████████████▏  | 532kB 16.5MB/s eta 0:00:01\r\u001b[K     |█████████████████████████████▊  | 542kB 16.5MB/s eta 0:00:01\r\u001b[K     |██████████████████████████████▎ | 552kB 16.5MB/s eta 0:00:01\r\u001b[K     |██████████████████████████████▉ | 563kB 16.5MB/s eta 0:00:01\r\u001b[K     |███████████████████████████████▍| 573kB 16.5MB/s eta 0:00:01\r\u001b[K     |████████████████████████████████| 583kB 16.5MB/s eta 0:00:01\r\u001b[K     |████████████████████████████████| 593kB 16.5MB/s \n",
            "\u001b[?25h"
          ],
          "name": "stdout"
        }
      ]
    },
    {
      "cell_type": "markdown",
      "metadata": {
        "id": "rnM-gaoVf1ON"
      },
      "source": [
        "# **1 - Data Understanding**"
      ]
    },
    {
      "cell_type": "markdown",
      "metadata": {
        "id": "0XuL-UY1zjOI"
      },
      "source": [
        "**Lendo os dados**"
      ]
    },
    {
      "cell_type": "code",
      "metadata": {
        "id": "x6PVhnigdEf8"
      },
      "source": [
        "PATH = 'https://www.dropbox.com/s/3agu97zwezok8qf/CRM.xlsx?dl=1'\n",
        "\n",
        "df_original = pd.read_excel(PATH, sheet_name = \"Year 2009-2010\")"
      ],
      "execution_count": null,
      "outputs": []
    },
    {
      "cell_type": "markdown",
      "metadata": {
        "id": "flidSNdLz0cP"
      },
      "source": [
        "**Fazendo cópia dos dados**"
      ]
    },
    {
      "cell_type": "code",
      "metadata": {
        "id": "obqwbn7sfr-r"
      },
      "source": [
        "df = df_original.copy()"
      ],
      "execution_count": null,
      "outputs": []
    },
    {
      "cell_type": "markdown",
      "metadata": {
        "id": "9hbKxpjVzWR-"
      },
      "source": [
        "**Examinamos os primeiros 5 valores de observação no conjunto de dados**"
      ]
    },
    {
      "cell_type": "code",
      "metadata": {
        "colab": {
          "base_uri": "https://localhost:8080/",
          "height": 206
        },
        "id": "ktwtPYsngUne",
        "outputId": "aa0845b8-55ec-42b6-98d6-571414caeece"
      },
      "source": [
        "df.head()"
      ],
      "execution_count": null,
      "outputs": [
        {
          "output_type": "execute_result",
          "data": {
            "text/html": [
              "<div>\n",
              "<style scoped>\n",
              "    .dataframe tbody tr th:only-of-type {\n",
              "        vertical-align: middle;\n",
              "    }\n",
              "\n",
              "    .dataframe tbody tr th {\n",
              "        vertical-align: top;\n",
              "    }\n",
              "\n",
              "    .dataframe thead th {\n",
              "        text-align: right;\n",
              "    }\n",
              "</style>\n",
              "<table border=\"1\" class=\"dataframe\">\n",
              "  <thead>\n",
              "    <tr style=\"text-align: right;\">\n",
              "      <th></th>\n",
              "      <th>Invoice</th>\n",
              "      <th>StockCode</th>\n",
              "      <th>Description</th>\n",
              "      <th>Quantity</th>\n",
              "      <th>InvoiceDate</th>\n",
              "      <th>Price</th>\n",
              "      <th>Customer ID</th>\n",
              "      <th>Country</th>\n",
              "    </tr>\n",
              "  </thead>\n",
              "  <tbody>\n",
              "    <tr>\n",
              "      <th>0</th>\n",
              "      <td>489434</td>\n",
              "      <td>85048</td>\n",
              "      <td>15CM CHRISTMAS GLASS BALL 20 LIGHTS</td>\n",
              "      <td>12</td>\n",
              "      <td>2009-12-01 07:45:00</td>\n",
              "      <td>6.95</td>\n",
              "      <td>13085.0</td>\n",
              "      <td>United Kingdom</td>\n",
              "    </tr>\n",
              "    <tr>\n",
              "      <th>1</th>\n",
              "      <td>489434</td>\n",
              "      <td>79323P</td>\n",
              "      <td>PINK CHERRY LIGHTS</td>\n",
              "      <td>12</td>\n",
              "      <td>2009-12-01 07:45:00</td>\n",
              "      <td>6.75</td>\n",
              "      <td>13085.0</td>\n",
              "      <td>United Kingdom</td>\n",
              "    </tr>\n",
              "    <tr>\n",
              "      <th>2</th>\n",
              "      <td>489434</td>\n",
              "      <td>79323W</td>\n",
              "      <td>WHITE CHERRY LIGHTS</td>\n",
              "      <td>12</td>\n",
              "      <td>2009-12-01 07:45:00</td>\n",
              "      <td>6.75</td>\n",
              "      <td>13085.0</td>\n",
              "      <td>United Kingdom</td>\n",
              "    </tr>\n",
              "    <tr>\n",
              "      <th>3</th>\n",
              "      <td>489434</td>\n",
              "      <td>22041</td>\n",
              "      <td>RECORD FRAME 7\" SINGLE SIZE</td>\n",
              "      <td>48</td>\n",
              "      <td>2009-12-01 07:45:00</td>\n",
              "      <td>2.10</td>\n",
              "      <td>13085.0</td>\n",
              "      <td>United Kingdom</td>\n",
              "    </tr>\n",
              "    <tr>\n",
              "      <th>4</th>\n",
              "      <td>489434</td>\n",
              "      <td>21232</td>\n",
              "      <td>STRAWBERRY CERAMIC TRINKET BOX</td>\n",
              "      <td>24</td>\n",
              "      <td>2009-12-01 07:45:00</td>\n",
              "      <td>1.25</td>\n",
              "      <td>13085.0</td>\n",
              "      <td>United Kingdom</td>\n",
              "    </tr>\n",
              "  </tbody>\n",
              "</table>\n",
              "</div>"
            ],
            "text/plain": [
              "  Invoice StockCode  ... Customer ID         Country\n",
              "0  489434     85048  ...     13085.0  United Kingdom\n",
              "1  489434    79323P  ...     13085.0  United Kingdom\n",
              "2  489434    79323W  ...     13085.0  United Kingdom\n",
              "3  489434     22041  ...     13085.0  United Kingdom\n",
              "4  489434     21232  ...     13085.0  United Kingdom\n",
              "\n",
              "[5 rows x 8 columns]"
            ]
          },
          "metadata": {
            "tags": []
          },
          "execution_count": 4
        }
      ]
    },
    {
      "cell_type": "markdown",
      "metadata": {
        "id": "K6MkTshIz6sy"
      },
      "source": [
        "**Quantas linhas e quantas colunas existem nos dados?**"
      ]
    },
    {
      "cell_type": "code",
      "metadata": {
        "colab": {
          "base_uri": "https://localhost:8080/"
        },
        "id": "OnLrY2yWgVGB",
        "outputId": "ad406ba1-bbff-4f5a-b8ef-32643cc5d5a0"
      },
      "source": [
        "df.shape"
      ],
      "execution_count": null,
      "outputs": [
        {
          "output_type": "execute_result",
          "data": {
            "text/plain": [
              "(525461, 8)"
            ]
          },
          "metadata": {
            "tags": []
          },
          "execution_count": 5
        }
      ]
    },
    {
      "cell_type": "markdown",
      "metadata": {
        "id": "BJVuJRW-0AIr"
      },
      "source": [
        "**Quantos produtos exclusivos existem?**"
      ]
    },
    {
      "cell_type": "code",
      "metadata": {
        "colab": {
          "base_uri": "https://localhost:8080/"
        },
        "id": "yefL4fARgg2v",
        "outputId": "5a4fdd24-78ab-43c9-81d6-338ed9e60adf"
      },
      "source": [
        "df[\"Description\"].nunique()"
      ],
      "execution_count": null,
      "outputs": [
        {
          "output_type": "execute_result",
          "data": {
            "text/plain": [
              "4681"
            ]
          },
          "metadata": {
            "tags": []
          },
          "execution_count": 6
        }
      ]
    },
    {
      "cell_type": "markdown",
      "metadata": {
        "id": "1gskybdR0Ekx"
      },
      "source": [
        "**Quantos produtos têm?**"
      ]
    },
    {
      "cell_type": "code",
      "metadata": {
        "colab": {
          "base_uri": "https://localhost:8080/"
        },
        "id": "41-rddLWgi7R",
        "outputId": "8a038298-5066-4b73-c076-cd5fec7567d1"
      },
      "source": [
        "df[\"Description\"].value_counts().head()"
      ],
      "execution_count": null,
      "outputs": [
        {
          "output_type": "execute_result",
          "data": {
            "text/plain": [
              "WHITE HANGING HEART T-LIGHT HOLDER    3549\n",
              "REGENCY CAKESTAND 3 TIER              2212\n",
              "STRAWBERRY CERAMIC TRINKET BOX        1843\n",
              "PACK OF 72 RETRO SPOT CAKE CASES      1466\n",
              "ASSORTED COLOUR BIRD ORNAMENT         1457\n",
              "Name: Description, dtype: int64"
            ]
          },
          "metadata": {
            "tags": []
          },
          "execution_count": 7
        }
      ]
    },
    {
      "cell_type": "markdown",
      "metadata": {
        "id": "BpVyzWJ90RZo"
      },
      "source": [
        "**Quais são os 5 produtos mais pedidos?**\n",
        "\n",
        "> Pegando os nomes dos produtos `Description` no conjunto de dados, obtemos a soma das quantidades do produto `Quantity`.\n",
        "\n",
        "> Classificamos do grande ao pequeno de acordo com a quantidade do produto. Estamos examinando as primeiras 5 observações com a operação `.head()`."
      ]
    },
    {
      "cell_type": "code",
      "metadata": {
        "colab": {
          "base_uri": "https://localhost:8080/",
          "height": 238
        },
        "id": "iI8Mc72jglal",
        "outputId": "bc1befe1-02ac-4edd-ba0b-7414b599b419"
      },
      "source": [
        "df.groupby(\"Description\").agg({\"Quantity\":\"sum\"}).sort_values(\"Quantity\", ascending = False).head()"
      ],
      "execution_count": null,
      "outputs": [
        {
          "output_type": "execute_result",
          "data": {
            "text/html": [
              "<div>\n",
              "<style scoped>\n",
              "    .dataframe tbody tr th:only-of-type {\n",
              "        vertical-align: middle;\n",
              "    }\n",
              "\n",
              "    .dataframe tbody tr th {\n",
              "        vertical-align: top;\n",
              "    }\n",
              "\n",
              "    .dataframe thead th {\n",
              "        text-align: right;\n",
              "    }\n",
              "</style>\n",
              "<table border=\"1\" class=\"dataframe\">\n",
              "  <thead>\n",
              "    <tr style=\"text-align: right;\">\n",
              "      <th></th>\n",
              "      <th>Quantity</th>\n",
              "    </tr>\n",
              "    <tr>\n",
              "      <th>Description</th>\n",
              "      <th></th>\n",
              "    </tr>\n",
              "  </thead>\n",
              "  <tbody>\n",
              "    <tr>\n",
              "      <th>WHITE HANGING HEART T-LIGHT HOLDER</th>\n",
              "      <td>57733</td>\n",
              "    </tr>\n",
              "    <tr>\n",
              "      <th>WORLD WAR 2 GLIDERS ASSTD DESIGNS</th>\n",
              "      <td>54698</td>\n",
              "    </tr>\n",
              "    <tr>\n",
              "      <th>BROCADE RING PURSE</th>\n",
              "      <td>47647</td>\n",
              "    </tr>\n",
              "    <tr>\n",
              "      <th>PACK OF 72 RETRO SPOT CAKE CASES</th>\n",
              "      <td>46106</td>\n",
              "    </tr>\n",
              "    <tr>\n",
              "      <th>ASSORTED COLOUR BIRD ORNAMENT</th>\n",
              "      <td>44925</td>\n",
              "    </tr>\n",
              "  </tbody>\n",
              "</table>\n",
              "</div>"
            ],
            "text/plain": [
              "                                    Quantity\n",
              "Description                                 \n",
              "WHITE HANGING HEART T-LIGHT HOLDER     57733\n",
              "WORLD WAR 2 GLIDERS ASSTD DESIGNS      54698\n",
              "BROCADE RING PURSE                     47647\n",
              "PACK OF 72 RETRO SPOT CAKE CASES       46106\n",
              "ASSORTED COLOUR BIRD ORNAMENT          44925"
            ]
          },
          "metadata": {
            "tags": []
          },
          "execution_count": 8
        }
      ]
    },
    {
      "cell_type": "markdown",
      "metadata": {
        "id": "7GyMdu-b0ry0"
      },
      "source": [
        "**Quais são os 5 produtos mais caros?**\n",
        "\n",
        "> Pegando os nomes dos produtos `Description` no conjunto de dados, obtemos o valor máximo dos preços dos produtos `Price`.\n",
        "\n",
        "> Classificamos do grande ao pequeno de acordo com o preço do produto `Price`. Estamos examinando as primeiras 5 observações com a operação `.head()`."
      ]
    },
    {
      "cell_type": "code",
      "metadata": {
        "colab": {
          "base_uri": "https://localhost:8080/",
          "height": 238
        },
        "id": "mwXf6EdIgoeN",
        "outputId": "f890c2d9-35f0-420c-c294-7506b3f1a56d"
      },
      "source": [
        "df.groupby(\"Description\").agg({\"Price\":\"max\"}).sort_values(\"Price\", ascending = False).head()"
      ],
      "execution_count": null,
      "outputs": [
        {
          "output_type": "execute_result",
          "data": {
            "text/html": [
              "<div>\n",
              "<style scoped>\n",
              "    .dataframe tbody tr th:only-of-type {\n",
              "        vertical-align: middle;\n",
              "    }\n",
              "\n",
              "    .dataframe tbody tr th {\n",
              "        vertical-align: top;\n",
              "    }\n",
              "\n",
              "    .dataframe thead th {\n",
              "        text-align: right;\n",
              "    }\n",
              "</style>\n",
              "<table border=\"1\" class=\"dataframe\">\n",
              "  <thead>\n",
              "    <tr style=\"text-align: right;\">\n",
              "      <th></th>\n",
              "      <th>Price</th>\n",
              "    </tr>\n",
              "    <tr>\n",
              "      <th>Description</th>\n",
              "      <th></th>\n",
              "    </tr>\n",
              "  </thead>\n",
              "  <tbody>\n",
              "    <tr>\n",
              "      <th>Manual</th>\n",
              "      <td>25111.09</td>\n",
              "    </tr>\n",
              "    <tr>\n",
              "      <th>Bank Charges</th>\n",
              "      <td>18910.69</td>\n",
              "    </tr>\n",
              "    <tr>\n",
              "      <th>AMAZON FEE</th>\n",
              "      <td>13541.33</td>\n",
              "    </tr>\n",
              "    <tr>\n",
              "      <th>Adjustment by john on 26/01/2010 17</th>\n",
              "      <td>5117.03</td>\n",
              "    </tr>\n",
              "    <tr>\n",
              "      <th>Discount</th>\n",
              "      <td>1269.51</td>\n",
              "    </tr>\n",
              "  </tbody>\n",
              "</table>\n",
              "</div>"
            ],
            "text/plain": [
              "                                        Price\n",
              "Description                                  \n",
              "Manual                               25111.09\n",
              "Bank Charges                         18910.69\n",
              "AMAZON FEE                           13541.33\n",
              "Adjustment by john on 26/01/2010 17   5117.03\n",
              "Discount                              1269.51"
            ]
          },
          "metadata": {
            "tags": []
          },
          "execution_count": 9
        }
      ]
    },
    {
      "cell_type": "markdown",
      "metadata": {
        "id": "L_-SrMaA1Jx1"
      },
      "source": [
        "**De qual país os clientes com mais compras compram?**"
      ]
    },
    {
      "cell_type": "code",
      "metadata": {
        "colab": {
          "base_uri": "https://localhost:8080/",
          "height": 238
        },
        "id": "J6iNHSAAgsr9",
        "outputId": "ab33b595-e342-4602-9b5e-04a8e9717592"
      },
      "source": [
        "df.groupby(\"Country\").agg({\"Quantity\":\"sum\"}).sort_values(\"Quantity\", ascending=False).head()"
      ],
      "execution_count": null,
      "outputs": [
        {
          "output_type": "execute_result",
          "data": {
            "text/html": [
              "<div>\n",
              "<style scoped>\n",
              "    .dataframe tbody tr th:only-of-type {\n",
              "        vertical-align: middle;\n",
              "    }\n",
              "\n",
              "    .dataframe tbody tr th {\n",
              "        vertical-align: top;\n",
              "    }\n",
              "\n",
              "    .dataframe thead th {\n",
              "        text-align: right;\n",
              "    }\n",
              "</style>\n",
              "<table border=\"1\" class=\"dataframe\">\n",
              "  <thead>\n",
              "    <tr style=\"text-align: right;\">\n",
              "      <th></th>\n",
              "      <th>Quantity</th>\n",
              "    </tr>\n",
              "    <tr>\n",
              "      <th>Country</th>\n",
              "      <th></th>\n",
              "    </tr>\n",
              "  </thead>\n",
              "  <tbody>\n",
              "    <tr>\n",
              "      <th>United Kingdom</th>\n",
              "      <td>4429046</td>\n",
              "    </tr>\n",
              "    <tr>\n",
              "      <th>Denmark</th>\n",
              "      <td>227030</td>\n",
              "    </tr>\n",
              "    <tr>\n",
              "      <th>EIRE</th>\n",
              "      <td>188704</td>\n",
              "    </tr>\n",
              "    <tr>\n",
              "      <th>Netherlands</th>\n",
              "      <td>181823</td>\n",
              "    </tr>\n",
              "    <tr>\n",
              "      <th>Germany</th>\n",
              "      <td>107133</td>\n",
              "    </tr>\n",
              "  </tbody>\n",
              "</table>\n",
              "</div>"
            ],
            "text/plain": [
              "                Quantity\n",
              "Country                 \n",
              "United Kingdom   4429046\n",
              "Denmark           227030\n",
              "EIRE              188704\n",
              "Netherlands       181823\n",
              "Germany           107133"
            ]
          },
          "metadata": {
            "tags": []
          },
          "execution_count": 10
        }
      ]
    },
    {
      "cell_type": "markdown",
      "metadata": {
        "id": "lXctq05vgxjl"
      },
      "source": [
        "# **2 - Data Preperation**"
      ]
    },
    {
      "cell_type": "markdown",
      "metadata": {
        "id": "Aq-rplk61S_5"
      },
      "source": [
        "**Verificando se temos alguma observação faltando.**"
      ]
    },
    {
      "cell_type": "code",
      "metadata": {
        "colab": {
          "base_uri": "https://localhost:8080/"
        },
        "id": "SI0zXb4igupW",
        "outputId": "777470c8-25bc-4d6d-d9f1-93a0a9d5e359"
      },
      "source": [
        "df.isnull().sum()"
      ],
      "execution_count": null,
      "outputs": [
        {
          "output_type": "execute_result",
          "data": {
            "text/plain": [
              "Invoice             0\n",
              "StockCode           0\n",
              "Description      2928\n",
              "Quantity            0\n",
              "InvoiceDate         0\n",
              "Price               0\n",
              "Customer ID    107927\n",
              "Country             0\n",
              "dtype: int64"
            ]
          },
          "metadata": {
            "tags": []
          },
          "execution_count": 11
        }
      ]
    },
    {
      "cell_type": "markdown",
      "metadata": {
        "id": "VzlVvRpl101m"
      },
      "source": [
        "**Também posso operar em observações ausentes, mas há muitas observações em meu conjunto de dados.**\n",
        "\n",
        "> Específico para este projeto, eu excluo diretamente as observações ausentes do conjunto de dados.\n",
        "> `eixo = 0` são as linhas e o `eixo = 1` coluna. Se `inplace = True`, torna este processo permanente sem atribuição.\n",
        "\n",
        "> Com a função `isnull`, eu verifico novamente as observações ausentes. Como pode ser visto, eliminamos as observações que faltavam.\n"
      ]
    },
    {
      "cell_type": "code",
      "metadata": {
        "colab": {
          "base_uri": "https://localhost:8080/"
        },
        "id": "CRDx1bumg3wN",
        "outputId": "3b004de8-2e48-408d-be79-52daf031d2a6"
      },
      "source": [
        "df.dropna (axis = 0, inplace = True)\n",
        "df.isnull().sum()"
      ],
      "execution_count": null,
      "outputs": [
        {
          "output_type": "execute_result",
          "data": {
            "text/plain": [
              "Invoice        0\n",
              "StockCode      0\n",
              "Description    0\n",
              "Quantity       0\n",
              "InvoiceDate    0\n",
              "Price          0\n",
              "Customer ID    0\n",
              "Country        0\n",
              "dtype: int64"
            ]
          },
          "metadata": {
            "tags": []
          },
          "execution_count": 12
        }
      ]
    },
    {
      "cell_type": "markdown",
      "metadata": {
        "id": "Vf26qDfi31_p"
      },
      "source": [
        "**Faturando Os valores que começam com \"C\" na variável `Invoice` representam as faturas que são devolvidas**\n",
        "\n",
        "> Como não faremos uma análise das faturas devolvidas neste estudo,\n",
        "Na variável `Invoice`, selecionamos as observações que contêm C e as atribuímos como df novamente."
      ]
    },
    {
      "cell_type": "code",
      "metadata": {
        "id": "pSfSAMA0g6Hl"
      },
      "source": [
        "df = df[~df[\"Invoice\"].str.contains(\"C\", na=False)]"
      ],
      "execution_count": null,
      "outputs": []
    },
    {
      "cell_type": "markdown",
      "metadata": {
        "id": "vMyRGesE2HjO"
      },
      "source": [
        "\n",
        "**Após essas operações, vamos examinar o número de linhas e colunas**"
      ]
    },
    {
      "cell_type": "code",
      "metadata": {
        "colab": {
          "base_uri": "https://localhost:8080/"
        },
        "id": "KPWC5jlUg8aP",
        "outputId": "cd2342bf-9616-4713-e29d-bc98f431a028"
      },
      "source": [
        "df.shape"
      ],
      "execution_count": null,
      "outputs": [
        {
          "output_type": "execute_result",
          "data": {
            "text/plain": [
              "(407695, 8)"
            ]
          },
          "metadata": {
            "tags": []
          },
          "execution_count": 14
        }
      ]
    },
    {
      "cell_type": "markdown",
      "metadata": {
        "id": "F1PEzigx2Oac"
      },
      "source": [
        "**Nesta seção, é importante examinar as estatísticas descritivas do conjunto de dados.**\n",
        "\n",
        "> Se uma violação for observada, precisamos tomar medidas para corrigi-la.\n",
        "\n",
        "> Quando examinamos as estatísticas da quantidade do produto `Quantity` e o preço do produto abaixo.\n",
        "\n",
        "> Existe uma discrepância séria entre os 99% e os valores máximos de ambas as variáveis."
      ]
    },
    {
      "cell_type": "code",
      "metadata": {
        "colab": {
          "base_uri": "https://localhost:8080/",
          "height": 143
        },
        "id": "6Li1Xm3bg-Fu",
        "outputId": "b9104035-acce-4266-bb32-fc037a5558ad"
      },
      "source": [
        "df.describe([0.05,0.10,0.25,0.50,0.80,0.95,0.99]).T"
      ],
      "execution_count": null,
      "outputs": [
        {
          "output_type": "execute_result",
          "data": {
            "text/html": [
              "<div>\n",
              "<style scoped>\n",
              "    .dataframe tbody tr th:only-of-type {\n",
              "        vertical-align: middle;\n",
              "    }\n",
              "\n",
              "    .dataframe tbody tr th {\n",
              "        vertical-align: top;\n",
              "    }\n",
              "\n",
              "    .dataframe thead th {\n",
              "        text-align: right;\n",
              "    }\n",
              "</style>\n",
              "<table border=\"1\" class=\"dataframe\">\n",
              "  <thead>\n",
              "    <tr style=\"text-align: right;\">\n",
              "      <th></th>\n",
              "      <th>count</th>\n",
              "      <th>mean</th>\n",
              "      <th>std</th>\n",
              "      <th>min</th>\n",
              "      <th>5%</th>\n",
              "      <th>10%</th>\n",
              "      <th>25%</th>\n",
              "      <th>50%</th>\n",
              "      <th>80%</th>\n",
              "      <th>95%</th>\n",
              "      <th>99%</th>\n",
              "      <th>max</th>\n",
              "    </tr>\n",
              "  </thead>\n",
              "  <tbody>\n",
              "    <tr>\n",
              "      <th>Quantity</th>\n",
              "      <td>407695.0</td>\n",
              "      <td>13.586686</td>\n",
              "      <td>96.842229</td>\n",
              "      <td>1.0</td>\n",
              "      <td>1.00</td>\n",
              "      <td>1.00</td>\n",
              "      <td>2.00</td>\n",
              "      <td>5.00</td>\n",
              "      <td>12.00</td>\n",
              "      <td>36.0</td>\n",
              "      <td>144.00</td>\n",
              "      <td>19152.0</td>\n",
              "    </tr>\n",
              "    <tr>\n",
              "      <th>Price</th>\n",
              "      <td>407695.0</td>\n",
              "      <td>3.294188</td>\n",
              "      <td>34.756655</td>\n",
              "      <td>0.0</td>\n",
              "      <td>0.42</td>\n",
              "      <td>0.65</td>\n",
              "      <td>1.25</td>\n",
              "      <td>1.95</td>\n",
              "      <td>4.25</td>\n",
              "      <td>8.5</td>\n",
              "      <td>14.95</td>\n",
              "      <td>10953.5</td>\n",
              "    </tr>\n",
              "    <tr>\n",
              "      <th>Customer ID</th>\n",
              "      <td>407695.0</td>\n",
              "      <td>15368.504107</td>\n",
              "      <td>1679.795700</td>\n",
              "      <td>12346.0</td>\n",
              "      <td>12731.00</td>\n",
              "      <td>13044.00</td>\n",
              "      <td>13997.00</td>\n",
              "      <td>15321.00</td>\n",
              "      <td>17138.00</td>\n",
              "      <td>17913.0</td>\n",
              "      <td>18196.00</td>\n",
              "      <td>18287.0</td>\n",
              "    </tr>\n",
              "  </tbody>\n",
              "</table>\n",
              "</div>"
            ],
            "text/plain": [
              "                count          mean          std  ...      95%       99%      max\n",
              "Quantity     407695.0     13.586686    96.842229  ...     36.0    144.00  19152.0\n",
              "Price        407695.0      3.294188    34.756655  ...      8.5     14.95  10953.5\n",
              "Customer ID  407695.0  15368.504107  1679.795700  ...  17913.0  18196.00  18287.0\n",
              "\n",
              "[3 rows x 12 columns]"
            ]
          },
          "metadata": {
            "tags": []
          },
          "execution_count": 15
        }
      ]
    },
    {
      "cell_type": "markdown",
      "metadata": {
        "id": "h7npbTtc5ZYB"
      },
      "source": [
        "**Continuando a análise, eliminando a discrepância de observação**\n",
        "\n",
        "> Com a função `outlier_thresholds`, determinamos um valor limite para outliers.\n",
        "\n",
        "> Definimos um valor limite como o limite inferior e outro superior. Essas observações atípicas estão fora do limite."
      ]
    },
    {
      "cell_type": "code",
      "metadata": {
        "id": "RaLmX_Nlg_tS"
      },
      "source": [
        "def outlier_thresholds(dataframe, variable):\n",
        "    quartile1 = dataframe[variable].quantile(0.01)\n",
        "    quartile3 = dataframe[variable].quantile(0.99)\n",
        "    interquantile_range = quartile3 - quartile1\n",
        "    up_limit = quartile3 + 1.5 * interquantile_range\n",
        "    low_limit = quartile1 - 1.5 * interquantile_range\n",
        "    return low_limit, up_limit"
      ],
      "execution_count": null,
      "outputs": []
    },
    {
      "cell_type": "markdown",
      "metadata": {
        "id": "0SvTeMwt5q9P"
      },
      "source": [
        "**Na função `replace_with_thresholds`, substituímos os outliers pelos valores de limite que detectamos na função `outlier_thresholds`**\n",
        "\n",
        "> Portanto, os outliers agora mudam com os valores de limite no trimestre que definimos."
      ]
    },
    {
      "cell_type": "code",
      "metadata": {
        "id": "mIb4Bv9KhBvR"
      },
      "source": [
        "def replace_with_thresholds(dataframe, variable):\n",
        "    low_limit, up_limit = outlier_thresholds(dataframe, variable)\n",
        "     # dataframe.loc [(dataframe [variável] <limite_inferior), variável] = limite_inferior\n",
        "    dataframe.loc[(dataframe[variable] > up_limit), variable] = up_limit"
      ],
      "execution_count": null,
      "outputs": []
    },
    {
      "cell_type": "markdown",
      "metadata": {
        "id": "n3gw1M7s57Yr"
      },
      "source": [
        "**Agora podemos eliminar a discrepância tanto na variável de quantidade quanto na variável de preço**\n"
      ]
    },
    {
      "cell_type": "code",
      "metadata": {
        "id": "UoQaeqJ1hDc6"
      },
      "source": [
        "replace_with_thresholds(df, \"Quantity\")\n",
        "replace_with_thresholds(df, \"Price\")"
      ],
      "execution_count": null,
      "outputs": []
    },
    {
      "cell_type": "code",
      "metadata": {
        "colab": {
          "base_uri": "https://localhost:8080/",
          "height": 143
        },
        "id": "RJp4gWQChEvW",
        "outputId": "f978f1dc-775a-4cb5-ab5c-849c7ddb119f"
      },
      "source": [
        "df.describe([0.05,0.10,0.25,0.50,0.80,0.95,0.99]).T"
      ],
      "execution_count": null,
      "outputs": [
        {
          "output_type": "execute_result",
          "data": {
            "text/html": [
              "<div>\n",
              "<style scoped>\n",
              "    .dataframe tbody tr th:only-of-type {\n",
              "        vertical-align: middle;\n",
              "    }\n",
              "\n",
              "    .dataframe tbody tr th {\n",
              "        vertical-align: top;\n",
              "    }\n",
              "\n",
              "    .dataframe thead th {\n",
              "        text-align: right;\n",
              "    }\n",
              "</style>\n",
              "<table border=\"1\" class=\"dataframe\">\n",
              "  <thead>\n",
              "    <tr style=\"text-align: right;\">\n",
              "      <th></th>\n",
              "      <th>count</th>\n",
              "      <th>mean</th>\n",
              "      <th>std</th>\n",
              "      <th>min</th>\n",
              "      <th>5%</th>\n",
              "      <th>10%</th>\n",
              "      <th>25%</th>\n",
              "      <th>50%</th>\n",
              "      <th>80%</th>\n",
              "      <th>95%</th>\n",
              "      <th>99%</th>\n",
              "      <th>max</th>\n",
              "    </tr>\n",
              "  </thead>\n",
              "  <tbody>\n",
              "    <tr>\n",
              "      <th>Quantity</th>\n",
              "      <td>407695.0</td>\n",
              "      <td>11.907043</td>\n",
              "      <td>28.729349</td>\n",
              "      <td>1.0</td>\n",
              "      <td>1.00</td>\n",
              "      <td>1.00</td>\n",
              "      <td>2.00</td>\n",
              "      <td>5.00</td>\n",
              "      <td>12.00</td>\n",
              "      <td>36.0</td>\n",
              "      <td>144.00</td>\n",
              "      <td>358.50</td>\n",
              "    </tr>\n",
              "    <tr>\n",
              "      <th>Price</th>\n",
              "      <td>407695.0</td>\n",
              "      <td>3.005391</td>\n",
              "      <td>3.250550</td>\n",
              "      <td>0.0</td>\n",
              "      <td>0.42</td>\n",
              "      <td>0.65</td>\n",
              "      <td>1.25</td>\n",
              "      <td>1.95</td>\n",
              "      <td>4.25</td>\n",
              "      <td>8.5</td>\n",
              "      <td>14.95</td>\n",
              "      <td>36.94</td>\n",
              "    </tr>\n",
              "    <tr>\n",
              "      <th>Customer ID</th>\n",
              "      <td>407695.0</td>\n",
              "      <td>15368.504107</td>\n",
              "      <td>1679.795700</td>\n",
              "      <td>12346.0</td>\n",
              "      <td>12731.00</td>\n",
              "      <td>13044.00</td>\n",
              "      <td>13997.00</td>\n",
              "      <td>15321.00</td>\n",
              "      <td>17138.00</td>\n",
              "      <td>17913.0</td>\n",
              "      <td>18196.00</td>\n",
              "      <td>18287.00</td>\n",
              "    </tr>\n",
              "  </tbody>\n",
              "</table>\n",
              "</div>"
            ],
            "text/plain": [
              "                count          mean          std  ...      95%       99%       max\n",
              "Quantity     407695.0     11.907043    28.729349  ...     36.0    144.00    358.50\n",
              "Price        407695.0      3.005391     3.250550  ...      8.5     14.95     36.94\n",
              "Customer ID  407695.0  15368.504107  1679.795700  ...  17913.0  18196.00  18287.00\n",
              "\n",
              "[3 rows x 12 columns]"
            ]
          },
          "metadata": {
            "tags": []
          },
          "execution_count": 19
        }
      ]
    },
    {
      "cell_type": "markdown",
      "metadata": {
        "id": "hD2smBS06DRT"
      },
      "source": [
        "**As variáveis ​​Quantidade e Preço mostram o número de produtos e o preço unitário de cada produto**\n",
        "\n",
        "> Avaliaremos o preço total da fatura em nosso estudo.\n",
        "\n",
        "> Para isso, criaremos uma nova variável `TotalPrice` multiplicando as observações nas variáveis `Quantity` e `Price`."
      ]
    },
    {
      "cell_type": "markdown",
      "metadata": {
        "id": "blFVkAGb6bRS"
      },
      "source": [
        "**Depois de todas as etapas de pré-processamento de dados, agora podemos ver as 5 primeiras observações do estado final de nossos dados**\n",
        "\n",
        "> A variável `TotalPrice` também é vista."
      ]
    },
    {
      "cell_type": "code",
      "metadata": {
        "id": "onhCWsk4hF2V"
      },
      "source": [
        "df[\"TotalPrice\"] = df[\"Quantity\"] * df[\"Price\"]"
      ],
      "execution_count": null,
      "outputs": []
    },
    {
      "cell_type": "markdown",
      "metadata": {
        "id": "XmFMH6PM61Nd"
      },
      "source": [
        "**Visualizando a nova tabela**"
      ]
    },
    {
      "cell_type": "code",
      "metadata": {
        "colab": {
          "base_uri": "https://localhost:8080/",
          "height": 206
        },
        "id": "vUCT57DzhHz5",
        "outputId": "960e72f4-8b7d-46bb-8226-4b5e9782cee6"
      },
      "source": [
        "df.head()"
      ],
      "execution_count": null,
      "outputs": [
        {
          "output_type": "execute_result",
          "data": {
            "text/html": [
              "<div>\n",
              "<style scoped>\n",
              "    .dataframe tbody tr th:only-of-type {\n",
              "        vertical-align: middle;\n",
              "    }\n",
              "\n",
              "    .dataframe tbody tr th {\n",
              "        vertical-align: top;\n",
              "    }\n",
              "\n",
              "    .dataframe thead th {\n",
              "        text-align: right;\n",
              "    }\n",
              "</style>\n",
              "<table border=\"1\" class=\"dataframe\">\n",
              "  <thead>\n",
              "    <tr style=\"text-align: right;\">\n",
              "      <th></th>\n",
              "      <th>Invoice</th>\n",
              "      <th>StockCode</th>\n",
              "      <th>Description</th>\n",
              "      <th>Quantity</th>\n",
              "      <th>InvoiceDate</th>\n",
              "      <th>Price</th>\n",
              "      <th>Customer ID</th>\n",
              "      <th>Country</th>\n",
              "      <th>TotalPrice</th>\n",
              "    </tr>\n",
              "  </thead>\n",
              "  <tbody>\n",
              "    <tr>\n",
              "      <th>0</th>\n",
              "      <td>489434</td>\n",
              "      <td>85048</td>\n",
              "      <td>15CM CHRISTMAS GLASS BALL 20 LIGHTS</td>\n",
              "      <td>12.0</td>\n",
              "      <td>2009-12-01 07:45:00</td>\n",
              "      <td>6.95</td>\n",
              "      <td>13085.0</td>\n",
              "      <td>United Kingdom</td>\n",
              "      <td>83.4</td>\n",
              "    </tr>\n",
              "    <tr>\n",
              "      <th>1</th>\n",
              "      <td>489434</td>\n",
              "      <td>79323P</td>\n",
              "      <td>PINK CHERRY LIGHTS</td>\n",
              "      <td>12.0</td>\n",
              "      <td>2009-12-01 07:45:00</td>\n",
              "      <td>6.75</td>\n",
              "      <td>13085.0</td>\n",
              "      <td>United Kingdom</td>\n",
              "      <td>81.0</td>\n",
              "    </tr>\n",
              "    <tr>\n",
              "      <th>2</th>\n",
              "      <td>489434</td>\n",
              "      <td>79323W</td>\n",
              "      <td>WHITE CHERRY LIGHTS</td>\n",
              "      <td>12.0</td>\n",
              "      <td>2009-12-01 07:45:00</td>\n",
              "      <td>6.75</td>\n",
              "      <td>13085.0</td>\n",
              "      <td>United Kingdom</td>\n",
              "      <td>81.0</td>\n",
              "    </tr>\n",
              "    <tr>\n",
              "      <th>3</th>\n",
              "      <td>489434</td>\n",
              "      <td>22041</td>\n",
              "      <td>RECORD FRAME 7\" SINGLE SIZE</td>\n",
              "      <td>48.0</td>\n",
              "      <td>2009-12-01 07:45:00</td>\n",
              "      <td>2.10</td>\n",
              "      <td>13085.0</td>\n",
              "      <td>United Kingdom</td>\n",
              "      <td>100.8</td>\n",
              "    </tr>\n",
              "    <tr>\n",
              "      <th>4</th>\n",
              "      <td>489434</td>\n",
              "      <td>21232</td>\n",
              "      <td>STRAWBERRY CERAMIC TRINKET BOX</td>\n",
              "      <td>24.0</td>\n",
              "      <td>2009-12-01 07:45:00</td>\n",
              "      <td>1.25</td>\n",
              "      <td>13085.0</td>\n",
              "      <td>United Kingdom</td>\n",
              "      <td>30.0</td>\n",
              "    </tr>\n",
              "  </tbody>\n",
              "</table>\n",
              "</div>"
            ],
            "text/plain": [
              "  Invoice StockCode  ...         Country  TotalPrice\n",
              "0  489434     85048  ...  United Kingdom        83.4\n",
              "1  489434    79323P  ...  United Kingdom        81.0\n",
              "2  489434    79323W  ...  United Kingdom        81.0\n",
              "3  489434     22041  ...  United Kingdom       100.8\n",
              "4  489434     21232  ...  United Kingdom        30.0\n",
              "\n",
              "[5 rows x 9 columns]"
            ]
          },
          "metadata": {
            "tags": []
          },
          "execution_count": 21
        }
      ]
    },
    {
      "cell_type": "markdown",
      "metadata": {
        "id": "fB14tLEfhLpj"
      },
      "source": [
        "# **3 - Criação de segmentos RFM**\n",
        "\n",
        "* **RFM** ajuda a determinar estratégias de marketing e vendas baseadas nos clientes, segmentando-os com base em seus hábitos de compra.\n",
        "\n",
        "* Consiste nas iniciais de 3 métricas de comportamento.\n",
        "\n",
        "  - **Tempo para retorno**: Tempo decorrido desde o último contato do cliente com a empresa, ou seja, a última compra do cliente.\n",
        "\n",
        "  (Tempo para retorno = data de hoje - última data de compra)\n",
        "O ponto que precisamos prestar atenção aqui é o valor de Recência. Neste valor, uma pontuação reversa é feita de acordo com as métricas Frequência e Monetária.\n",
        "\n",
        "  Quanto mais próximo for o valor de recência, quanto mais perto da data em que o cliente fez a última compra, mais valioso será para nós. Portanto, quanto menor for o resultado da fórmula de Recência acima, maior será a pontuação na pontuação para nós.\n",
        "\n",
        "  - **Frequência**: Mostra o número total de compras do cliente.\n",
        "\n",
        "  - **Valor Monetário**: É o gasto total realizado pelo cliente em suas compras.\n",
        "\n",
        "Quanto mais altos os valores das métricas Frequência e Valor Monetário, maior será a pontuação do RFM."
      ]
    },
    {
      "cell_type": "markdown",
      "metadata": {
        "id": "2BjwBNt8iIGr"
      },
      "source": [
        "**Calculando a métrica de recência**\n",
        "\n",
        "> Definiremos uma data de referência para Recência e subtrairemos as últimas datas de compra dos clientes dessa data de referência.\n",
        "\n",
        "    (Tempo para retorno = data de hoje - última data de compra)\n",
        "\n",
        "> Como vamos fazer isso?\n",
        "\n",
        "  Em primeiro lugar, definiremos uma data de referência. A razão para isso é determinar a data de hoje na fórmula de recência. A situação que chamamos de data de hoje é na verdade o que queremos saber há quantos dias o cliente fez uma compra pela última vez. Para isso, podemos atingir nosso valor de Recência quando determinamos a data de hoje como 1-2 dias após o dia máximo do conjunto de dados e subtraímos a última data de compra para cada cliente a partir dessa data.\n",
        "\n",
        "  A lógica para determinar os próximos 1-2 dias é evitar que os valores de recência cheguem a \"0\" devido à subtração na fórmula de recência de nossos clientes que fizeram uma compra no último dia do conjunto de dados.\n",
        "  Usaremos a variável da data da `InvoiceDate`, pois o tempo para retorno representa a última compra do cliente.\n",
        "\n",
        "  Tomando groupby com base nos clientes `CustomerID`, pegaremos a função `lambda` da variável `InvoiceDate` e subtrairemos a data de referência que determinamos da última data de compra de cada cliente.\n",
        "\n",
        "    dataframe.groupby('CustomerID').agg(('InvoiceDate': lambda data: (today_date - date.max()).days\n",
        "\n",
        "**Calculando Métrica de Frequência**\n",
        "\n",
        "Como a frequência se refere ao número total de compras do cliente, usaremos a variável de fatura `Invoice`.\n",
        "\n",
        "  Os clientes contarão o valor único de cada número de fatura, considerando groupby com base em `CustomerID`, navegando na variável da função `lambda`  em `Invoice`. Veremos quantas compras diferentes o cliente fez.\n",
        "    \n",
        "    dataframe.groupby('CustomerID').agg(('Invoice': lambda num: num.nunique()})\n",
        "\n",
        "**Calculando a métrica do valor monetário**\n",
        "\n",
        "Como Monetário se refere ao gasto total realizado pelo cliente em suas compras, na linha 20, usaremos a variável `TotalPrice` que criamos multiplicando as variáveis ​​`Quantity` e `Price`.\n",
        "\n",
        "  Os clientes pegarão groupby com base em `CustomerID` e procurarão a variável da função lambda `TotalPrice` e nos darão o total de cada valor de compra do cliente relevante. Veremos o gasto total feito pelo cliente.\n",
        "\n",
        "    dataframe.groupby('CustomerID').agg(( \"TotalPrice\": lambda price: price.sum()})"
      ]
    },
    {
      "cell_type": "markdown",
      "metadata": {
        "id": "38GpNAe_fas2"
      },
      "source": [
        "**Criaremos os scores de Recency (recência - tempo para retorno), Frequency (frequência) e Monetary (valor monetário) com as variáveis ​​do conjunto de dados**\n",
        "\n",
        "> Visualizando os dados atuais."
      ]
    },
    {
      "cell_type": "code",
      "metadata": {
        "colab": {
          "base_uri": "https://localhost:8080/"
        },
        "id": "35XtfXRFhJk1",
        "outputId": "fd28a568-a4f9-4a94-fb68-3eb25f0ca134"
      },
      "source": [
        "df.info()"
      ],
      "execution_count": null,
      "outputs": [
        {
          "output_type": "stream",
          "text": [
            "<class 'pandas.core.frame.DataFrame'>\n",
            "Int64Index: 407695 entries, 0 to 525460\n",
            "Data columns (total 9 columns):\n",
            " #   Column       Non-Null Count   Dtype         \n",
            "---  ------       --------------   -----         \n",
            " 0   Invoice      407695 non-null  object        \n",
            " 1   StockCode    407695 non-null  object        \n",
            " 2   Description  407695 non-null  object        \n",
            " 3   Quantity     407695 non-null  float64       \n",
            " 4   InvoiceDate  407695 non-null  datetime64[ns]\n",
            " 5   Price        407695 non-null  float64       \n",
            " 6   Customer ID  407695 non-null  float64       \n",
            " 7   Country      407695 non-null  object        \n",
            " 8   TotalPrice   407695 non-null  float64       \n",
            "dtypes: datetime64[ns](1), float64(4), object(4)\n",
            "memory usage: 31.1+ MB\n"
          ],
          "name": "stdout"
        }
      ]
    },
    {
      "cell_type": "markdown",
      "metadata": {
        "id": "U6HrIAe9f6wp"
      },
      "source": [
        "**Vamos ver a data máxima no conjunto de dados. Vamos definir uma data de referência de acordo**\n",
        "\n",
        "> Nossa data máxima é 12/09/2011"
      ]
    },
    {
      "cell_type": "code",
      "metadata": {
        "colab": {
          "base_uri": "https://localhost:8080/"
        },
        "id": "wtYqZe66hQgB",
        "outputId": "2f88b3f1-4d33-46f5-ce05-253572e09cd6"
      },
      "source": [
        "df[\"InvoiceDate\"].max()"
      ],
      "execution_count": null,
      "outputs": [
        {
          "output_type": "execute_result",
          "data": {
            "text/plain": [
              "Timestamp('2010-12-09 20:01:00')"
            ]
          },
          "metadata": {
            "tags": []
          },
          "execution_count": 23
        }
      ]
    },
    {
      "cell_type": "markdown",
      "metadata": {
        "id": "D22pZmY9gEg5"
      },
      "source": [
        "**Vamos definir uma data de referência. Eu escolho 2 dias após a data máxima**"
      ]
    },
    {
      "cell_type": "code",
      "metadata": {
        "id": "sZbvsaY-iMXS"
      },
      "source": [
        "today_date = dt.datetime(2011, 12, 11)"
      ],
      "execution_count": null,
      "outputs": []
    },
    {
      "cell_type": "markdown",
      "metadata": {
        "id": "PX-0ZYm3gM_m"
      },
      "source": [
        "**Agora podemos criar nossa Tabela RFM que consistirá em valores de recência, frequência e valor monetário**"
      ]
    },
    {
      "cell_type": "code",
      "metadata": {
        "id": "gEyU-oG0iOBl"
      },
      "source": [
        "rfm = df.groupby('Customer ID').agg({'InvoiceDate': lambda date: (today_date - date.max()).days,\n",
        "                                                'Invoice': lambda num: num.nunique(),\n",
        "                                                \"TotalPrice\": lambda price: price.sum()})"
      ],
      "execution_count": null,
      "outputs": []
    },
    {
      "cell_type": "markdown",
      "metadata": {
        "id": "so4bb5nAgeC0"
      },
      "source": [
        "**5 observações da tabela RFM**\n",
        "\n",
        "> Esta tabela consiste nas variáveis ​​`InvoiceDate`, `Invoice` e `TotalPrice`."
      ]
    },
    {
      "cell_type": "code",
      "metadata": {
        "colab": {
          "base_uri": "https://localhost:8080/",
          "height": 238
        },
        "id": "bDUh0Vo5iPgc",
        "outputId": "50775f6b-34c4-45eb-af87-0eb757c77a38"
      },
      "source": [
        "rfm.head ()"
      ],
      "execution_count": null,
      "outputs": [
        {
          "output_type": "execute_result",
          "data": {
            "text/html": [
              "<div>\n",
              "<style scoped>\n",
              "    .dataframe tbody tr th:only-of-type {\n",
              "        vertical-align: middle;\n",
              "    }\n",
              "\n",
              "    .dataframe tbody tr th {\n",
              "        vertical-align: top;\n",
              "    }\n",
              "\n",
              "    .dataframe thead th {\n",
              "        text-align: right;\n",
              "    }\n",
              "</style>\n",
              "<table border=\"1\" class=\"dataframe\">\n",
              "  <thead>\n",
              "    <tr style=\"text-align: right;\">\n",
              "      <th></th>\n",
              "      <th>InvoiceDate</th>\n",
              "      <th>Invoice</th>\n",
              "      <th>TotalPrice</th>\n",
              "    </tr>\n",
              "    <tr>\n",
              "      <th>Customer ID</th>\n",
              "      <th></th>\n",
              "      <th></th>\n",
              "      <th></th>\n",
              "    </tr>\n",
              "  </thead>\n",
              "  <tbody>\n",
              "    <tr>\n",
              "      <th>12346.0</th>\n",
              "      <td>530</td>\n",
              "      <td>11</td>\n",
              "      <td>372.86</td>\n",
              "    </tr>\n",
              "    <tr>\n",
              "      <th>12347.0</th>\n",
              "      <td>368</td>\n",
              "      <td>2</td>\n",
              "      <td>1323.32</td>\n",
              "    </tr>\n",
              "    <tr>\n",
              "      <th>12348.0</th>\n",
              "      <td>439</td>\n",
              "      <td>1</td>\n",
              "      <td>222.16</td>\n",
              "    </tr>\n",
              "    <tr>\n",
              "      <th>12349.0</th>\n",
              "      <td>408</td>\n",
              "      <td>3</td>\n",
              "      <td>2295.02</td>\n",
              "    </tr>\n",
              "    <tr>\n",
              "      <th>12351.0</th>\n",
              "      <td>376</td>\n",
              "      <td>1</td>\n",
              "      <td>300.93</td>\n",
              "    </tr>\n",
              "  </tbody>\n",
              "</table>\n",
              "</div>"
            ],
            "text/plain": [
              "             InvoiceDate  Invoice  TotalPrice\n",
              "Customer ID                                  \n",
              "12346.0              530       11      372.86\n",
              "12347.0              368        2     1323.32\n",
              "12348.0              439        1      222.16\n",
              "12349.0              408        3     2295.02\n",
              "12351.0              376        1      300.93"
            ]
          },
          "metadata": {
            "tags": []
          },
          "execution_count": 26
        }
      ]
    },
    {
      "cell_type": "markdown",
      "metadata": {
        "id": "Vf8nEYSogrdf"
      },
      "source": [
        "**Nossas variáveis ​​acima agora expressam nossos valores de recência, frequência e monetário**\n",
        "\n",
        "> Então podemos renomear as variáveis. Estou atribuindo novos nomes a *rfm.columns*."
      ]
    },
    {
      "cell_type": "code",
      "metadata": {
        "colab": {
          "base_uri": "https://localhost:8080/",
          "height": 238
        },
        "id": "mUTMd43fiQyQ",
        "outputId": "ae1669fa-eaee-428e-b5fa-8acd7f12a400"
      },
      "source": [
        "rfm.columns = ['recency', 'frequency', \"monetary\"]\n",
        "rfm.head()"
      ],
      "execution_count": null,
      "outputs": [
        {
          "output_type": "execute_result",
          "data": {
            "text/html": [
              "<div>\n",
              "<style scoped>\n",
              "    .dataframe tbody tr th:only-of-type {\n",
              "        vertical-align: middle;\n",
              "    }\n",
              "\n",
              "    .dataframe tbody tr th {\n",
              "        vertical-align: top;\n",
              "    }\n",
              "\n",
              "    .dataframe thead th {\n",
              "        text-align: right;\n",
              "    }\n",
              "</style>\n",
              "<table border=\"1\" class=\"dataframe\">\n",
              "  <thead>\n",
              "    <tr style=\"text-align: right;\">\n",
              "      <th></th>\n",
              "      <th>recency</th>\n",
              "      <th>frequency</th>\n",
              "      <th>monetary</th>\n",
              "    </tr>\n",
              "    <tr>\n",
              "      <th>Customer ID</th>\n",
              "      <th></th>\n",
              "      <th></th>\n",
              "      <th></th>\n",
              "    </tr>\n",
              "  </thead>\n",
              "  <tbody>\n",
              "    <tr>\n",
              "      <th>12346.0</th>\n",
              "      <td>530</td>\n",
              "      <td>11</td>\n",
              "      <td>372.86</td>\n",
              "    </tr>\n",
              "    <tr>\n",
              "      <th>12347.0</th>\n",
              "      <td>368</td>\n",
              "      <td>2</td>\n",
              "      <td>1323.32</td>\n",
              "    </tr>\n",
              "    <tr>\n",
              "      <th>12348.0</th>\n",
              "      <td>439</td>\n",
              "      <td>1</td>\n",
              "      <td>222.16</td>\n",
              "    </tr>\n",
              "    <tr>\n",
              "      <th>12349.0</th>\n",
              "      <td>408</td>\n",
              "      <td>3</td>\n",
              "      <td>2295.02</td>\n",
              "    </tr>\n",
              "    <tr>\n",
              "      <th>12351.0</th>\n",
              "      <td>376</td>\n",
              "      <td>1</td>\n",
              "      <td>300.93</td>\n",
              "    </tr>\n",
              "  </tbody>\n",
              "</table>\n",
              "</div>"
            ],
            "text/plain": [
              "             recency  frequency  monetary\n",
              "Customer ID                              \n",
              "12346.0          530         11    372.86\n",
              "12347.0          368          2   1323.32\n",
              "12348.0          439          1    222.16\n",
              "12349.0          408          3   2295.02\n",
              "12351.0          376          1    300.93"
            ]
          },
          "metadata": {
            "tags": []
          },
          "execution_count": 27
        }
      ]
    },
    {
      "cell_type": "markdown",
      "metadata": {
        "id": "7wfScM3Tg8mq"
      },
      "source": [
        "**Em nossa tabela rfm que criamos**\n",
        "\n",
        "> Olhamos para `monetary` e valores de `frequency` para uma finalidade de controle para ver se há algum valor não maior que \"0\". A razão pela qual faço essa verificação é que os valores de `frequency` e `monetary` não devem ser \"0\".\n",
        "\n",
        "> Como resultado do cheque, o cliente fez 1 compra, mas o valor total deixado pelo cliente é \"0\" unidade. Uma vez que tal situação não será possível, nós a atribuímos como `rfm` para ambas as variáveis ​​maiores que 0."
      ]
    },
    {
      "cell_type": "code",
      "metadata": {
        "colab": {
          "base_uri": "https://localhost:8080/",
          "height": 143
        },
        "id": "mwK52JytiSuZ",
        "outputId": "4acc76de-830c-4b4d-ca9f-3a36efa1e07f"
      },
      "source": [
        "rfm[~((rfm[\"monetary\"]) > 0 & (rfm[\"frequency\"] > 0))]"
      ],
      "execution_count": null,
      "outputs": [
        {
          "output_type": "execute_result",
          "data": {
            "text/html": [
              "<div>\n",
              "<style scoped>\n",
              "    .dataframe tbody tr th:only-of-type {\n",
              "        vertical-align: middle;\n",
              "    }\n",
              "\n",
              "    .dataframe tbody tr th {\n",
              "        vertical-align: top;\n",
              "    }\n",
              "\n",
              "    .dataframe thead th {\n",
              "        text-align: right;\n",
              "    }\n",
              "</style>\n",
              "<table border=\"1\" class=\"dataframe\">\n",
              "  <thead>\n",
              "    <tr style=\"text-align: right;\">\n",
              "      <th></th>\n",
              "      <th>recency</th>\n",
              "      <th>frequency</th>\n",
              "      <th>monetary</th>\n",
              "    </tr>\n",
              "    <tr>\n",
              "      <th>Customer ID</th>\n",
              "      <th></th>\n",
              "      <th></th>\n",
              "      <th></th>\n",
              "    </tr>\n",
              "  </thead>\n",
              "  <tbody>\n",
              "    <tr>\n",
              "      <th>14103.0</th>\n",
              "      <td>666</td>\n",
              "      <td>1</td>\n",
              "      <td>0.0</td>\n",
              "    </tr>\n",
              "    <tr>\n",
              "      <th>14827.0</th>\n",
              "      <td>666</td>\n",
              "      <td>1</td>\n",
              "      <td>0.0</td>\n",
              "    </tr>\n",
              "  </tbody>\n",
              "</table>\n",
              "</div>"
            ],
            "text/plain": [
              "             recency  frequency  monetary\n",
              "Customer ID                              \n",
              "14103.0          666          1       0.0\n",
              "14827.0          666          1       0.0"
            ]
          },
          "metadata": {
            "tags": []
          },
          "execution_count": 28
        }
      ]
    },
    {
      "cell_type": "code",
      "metadata": {
        "id": "h-4B4qzZiU24"
      },
      "source": [
        "rfm = rfm[(rfm['monetary'] > 0)]"
      ],
      "execution_count": null,
      "outputs": []
    },
    {
      "cell_type": "code",
      "metadata": {
        "colab": {
          "base_uri": "https://localhost:8080/",
          "height": 238
        },
        "id": "CYQJ_mXsiWeN",
        "outputId": "69da8329-600f-45c5-ae38-ad047a7221fa"
      },
      "source": [
        "rfm.head()"
      ],
      "execution_count": null,
      "outputs": [
        {
          "output_type": "execute_result",
          "data": {
            "text/html": [
              "<div>\n",
              "<style scoped>\n",
              "    .dataframe tbody tr th:only-of-type {\n",
              "        vertical-align: middle;\n",
              "    }\n",
              "\n",
              "    .dataframe tbody tr th {\n",
              "        vertical-align: top;\n",
              "    }\n",
              "\n",
              "    .dataframe thead th {\n",
              "        text-align: right;\n",
              "    }\n",
              "</style>\n",
              "<table border=\"1\" class=\"dataframe\">\n",
              "  <thead>\n",
              "    <tr style=\"text-align: right;\">\n",
              "      <th></th>\n",
              "      <th>recency</th>\n",
              "      <th>frequency</th>\n",
              "      <th>monetary</th>\n",
              "    </tr>\n",
              "    <tr>\n",
              "      <th>Customer ID</th>\n",
              "      <th></th>\n",
              "      <th></th>\n",
              "      <th></th>\n",
              "    </tr>\n",
              "  </thead>\n",
              "  <tbody>\n",
              "    <tr>\n",
              "      <th>12346.0</th>\n",
              "      <td>530</td>\n",
              "      <td>11</td>\n",
              "      <td>372.86</td>\n",
              "    </tr>\n",
              "    <tr>\n",
              "      <th>12347.0</th>\n",
              "      <td>368</td>\n",
              "      <td>2</td>\n",
              "      <td>1323.32</td>\n",
              "    </tr>\n",
              "    <tr>\n",
              "      <th>12348.0</th>\n",
              "      <td>439</td>\n",
              "      <td>1</td>\n",
              "      <td>222.16</td>\n",
              "    </tr>\n",
              "    <tr>\n",
              "      <th>12349.0</th>\n",
              "      <td>408</td>\n",
              "      <td>3</td>\n",
              "      <td>2295.02</td>\n",
              "    </tr>\n",
              "    <tr>\n",
              "      <th>12351.0</th>\n",
              "      <td>376</td>\n",
              "      <td>1</td>\n",
              "      <td>300.93</td>\n",
              "    </tr>\n",
              "  </tbody>\n",
              "</table>\n",
              "</div>"
            ],
            "text/plain": [
              "             recency  frequency  monetary\n",
              "Customer ID                              \n",
              "12346.0          530         11    372.86\n",
              "12347.0          368          2   1323.32\n",
              "12348.0          439          1    222.16\n",
              "12349.0          408          3   2295.02\n",
              "12351.0          376          1    300.93"
            ]
          },
          "metadata": {
            "tags": []
          },
          "execution_count": 30
        }
      ]
    },
    {
      "cell_type": "markdown",
      "metadata": {
        "id": "CIbYMCCoiapu"
      },
      "source": [
        "**Agora calculamos as métricas RFM**\n",
        "\n",
        "> Relembrando:\n",
        "\n",
        "`Tempo para retorno`: refere-se ao período desde a última data de compra de nossos clientes até a data de referência.\n",
        "\n",
        "`Frequência`: Refere-se ao número total de compras de nossos clientes.\n",
        "\n",
        "`Monetário`: refere-se ao valor total que os clientes gastam como resultado dessas compras.\n",
        "\n",
        "> A exemplo: O cliente com *ID 12348* fez compras há 76 dias e fez 4 compras. O valor total restante como resultado dessas aquisições é de 1.770,78 unidades.\n",
        "\n",
        "> Agora podemos prosseguir para calcular as pontuações RFM.\n",
        "Cálculo de pontuações RFM\n",
        "\n",
        "> Para comparar as métricas RFM mais facilmente, forneceremos valores entre 1 e 5 e converteremos as métricas em pontuações RFM. Além disso, estaremos segmentando clientes com 1 muito ruim e 5 muito bom.\n",
        "\n",
        "> O ponto importante aqui é que usaremos apenas os valores de Recência e Frequência ao definir os segmentos de nossos clientes. Porque o valor monetário não é usado para definir o segmento RFM. As variáveis ​​importantes na definição do segmento Rfm são a data da última compra do nosso cliente e o número de compras efetuadas, sendo dadas pelas variáveis ​​Recência e Frequência, respetivamente.\n",
        "\n",
        "> Então, como criamos pontuações RFM?\n",
        "\n",
        "* Com a função `.qcut()`, classificamos a variável em ordem crescente e a dividimos no valor do quarto que desejamos.\n",
        "\n",
        "* Ao ordenar a variável `recency` de pequeno a grande, daremos 5 pontos ao menor e 1 ponto ao maior, porque o menor número se refere às compras mais próximas, então damos a melhor pontuação ao menor número.\n",
        "        pd.qcut(rfm['recency'], 5, labels = [5, 4, 3, 2, 1])\n",
        "\n",
        "* Na variável `requency`, daremos 5 para aquele com o maior número de compras e 1 para aquele com o menor número de compras.\n",
        "        pd.qcut(rfm('frequency').rank(method = \"first\"), 5, labels = [1, 2, 3, 4, 5])"
      ]
    },
    {
      "cell_type": "markdown",
      "metadata": {
        "id": "y9qPeoMFlmcq"
      },
      "source": [
        "**Calculamos as pontuações RFM conforme indicado acima**\n",
        "\n",
        "> Atribuímos `recency_score` e `frequency_score` como as novas variáveis."
      ]
    },
    {
      "cell_type": "code",
      "metadata": {
        "id": "rb6tK9gTiXsS"
      },
      "source": [
        "rfm[\"recency_score\"] = pd.qcut(rfm['recency'], 5, labels=[5, 4, 3, 2, 1])\n",
        "rfm[\"frequency_score\"] = pd.qcut(rfm[\"frequency\"].rank(method=\"first\"), 5, labels=[1, 2, 3, 4, 5])"
      ],
      "execution_count": null,
      "outputs": []
    },
    {
      "cell_type": "markdown",
      "metadata": {
        "id": "gT1Gk2oWieug"
      },
      "source": [
        "**Agora criamos RFM Metrics e RFM Scores.**\n",
        "\n",
        "> Por exemplo, quando interpretamos a tabela abaixo;\n",
        "\n",
        "O cliente com ID 12347 tem um valor de `recency` de 3, um valor de `frequency` de 7, então o cliente fez a última compra há 3 dias e obteve 5 pontos na pontuação RFM, pois essa é uma métrica importante para mim. Como o número de compras de um mesmo cliente é 7, ele também recebeu 5 pontos como sua pontuação de frequência."
      ]
    },
    {
      "cell_type": "code",
      "metadata": {
        "colab": {
          "base_uri": "https://localhost:8080/",
          "height": 238
        },
        "id": "3wRvxKgOict1",
        "outputId": "717b253e-ddd6-4cc7-c800-b6beccc3f1a2"
      },
      "source": [
        "rfm.head ()"
      ],
      "execution_count": null,
      "outputs": [
        {
          "output_type": "execute_result",
          "data": {
            "text/html": [
              "<div>\n",
              "<style scoped>\n",
              "    .dataframe tbody tr th:only-of-type {\n",
              "        vertical-align: middle;\n",
              "    }\n",
              "\n",
              "    .dataframe tbody tr th {\n",
              "        vertical-align: top;\n",
              "    }\n",
              "\n",
              "    .dataframe thead th {\n",
              "        text-align: right;\n",
              "    }\n",
              "</style>\n",
              "<table border=\"1\" class=\"dataframe\">\n",
              "  <thead>\n",
              "    <tr style=\"text-align: right;\">\n",
              "      <th></th>\n",
              "      <th>recency</th>\n",
              "      <th>frequency</th>\n",
              "      <th>monetary</th>\n",
              "      <th>recency_score</th>\n",
              "      <th>frequency_score</th>\n",
              "    </tr>\n",
              "    <tr>\n",
              "      <th>Customer ID</th>\n",
              "      <th></th>\n",
              "      <th></th>\n",
              "      <th></th>\n",
              "      <th></th>\n",
              "      <th></th>\n",
              "    </tr>\n",
              "  </thead>\n",
              "  <tbody>\n",
              "    <tr>\n",
              "      <th>12346.0</th>\n",
              "      <td>530</td>\n",
              "      <td>11</td>\n",
              "      <td>372.86</td>\n",
              "      <td>2</td>\n",
              "      <td>5</td>\n",
              "    </tr>\n",
              "    <tr>\n",
              "      <th>12347.0</th>\n",
              "      <td>368</td>\n",
              "      <td>2</td>\n",
              "      <td>1323.32</td>\n",
              "      <td>5</td>\n",
              "      <td>2</td>\n",
              "    </tr>\n",
              "    <tr>\n",
              "      <th>12348.0</th>\n",
              "      <td>439</td>\n",
              "      <td>1</td>\n",
              "      <td>222.16</td>\n",
              "      <td>2</td>\n",
              "      <td>1</td>\n",
              "    </tr>\n",
              "    <tr>\n",
              "      <th>12349.0</th>\n",
              "      <td>408</td>\n",
              "      <td>3</td>\n",
              "      <td>2295.02</td>\n",
              "      <td>3</td>\n",
              "      <td>3</td>\n",
              "    </tr>\n",
              "    <tr>\n",
              "      <th>12351.0</th>\n",
              "      <td>376</td>\n",
              "      <td>1</td>\n",
              "      <td>300.93</td>\n",
              "      <td>5</td>\n",
              "      <td>1</td>\n",
              "    </tr>\n",
              "  </tbody>\n",
              "</table>\n",
              "</div>"
            ],
            "text/plain": [
              "             recency  frequency  monetary recency_score frequency_score\n",
              "Customer ID                                                            \n",
              "12346.0          530         11    372.86             2               5\n",
              "12347.0          368          2   1323.32             5               2\n",
              "12348.0          439          1    222.16             2               1\n",
              "12349.0          408          3   2295.02             3               3\n",
              "12351.0          376          1    300.93             5               1"
            ]
          },
          "metadata": {
            "tags": []
          },
          "execution_count": 32
        }
      ]
    },
    {
      "cell_type": "markdown",
      "metadata": {
        "id": "EtPHWMByikTu"
      },
      "source": [
        "**Criação de segmentos RFM**\n",
        "\n",
        "> Depois de criar as pontuações RFM, criaremos os segmentos RFM de acordo com a tabela RFM comumente usada abaixo. Na tabela a seguir, os clientes são divididos em segmentos. Existem 2 métricas nesta tabela como frequência e tempo para retorno. Formamos nossas pontuações nessas 2 métricas. Para 2 métricas, 1 significa muito bom, 5 significa muito ruim.\n",
        "\n",
        "Também segmentaremos nossos clientes com valores de frequência e tempo para retorno de acordo com as pontuações que criamos a partir de seus comportamentos acima, na tabela abaixo.\n",
        "\n",
        "> Vamos primeiro examinar algumas classes da tabela:\n",
        "\n",
        "*  Aqueles na classe `Champions` são nossos clientes mais valiosos. Esta classe tem a última data de compra mais próxima e o maior número de compras.\n",
        "\n",
        "*  Aqueles que estão na classe de `Loyal Customers` são nossos clientes fiéis. O valor de recência daqueles nesta classe consiste em 3 e 4, e o valor de Frequência consiste em 4 e 5 pontuações.\n",
        "\n",
        "*  Aqueles na classe `At Risk` representam a classe arriscada. O valor de recência daqueles nesta classe consiste em 1 e 2, e o valor de frequência consiste em 3 e 4 pontuações. Ou seja, já se passou muito tempo desde a última data de compra, e são clientes cujas compras estavam na média há muito tempo.\n",
        "\n",
        "> Podemos interpretar a tabela desta forma:\n",
        "\n",
        "![img](https://raw.githubusercontent.com/amadords/images/main/rfm1.png)\n",
        "\n",
        "\n",
        "\n",
        "Agora criamos nossas pontuações RFM, vamos segmentar nossos clientes de acordo com a tabela acima. Por exemplo, colocaremos nosso cliente com um valor de `Frequency` de 5 e um valor de `Recency` de 5 na classe `Champions`."
      ]
    },
    {
      "cell_type": "markdown",
      "metadata": {
        "id": "C5WtuPULoUuv"
      },
      "source": [
        "**Primeiro, vamos atribuir uma variável de segmento. Usaremos suas somas para criar a tabela acima**\n",
        "\n",
        "> A razão pela qual foi transformado em `str` é que não faremos adição matematicamente. Vamos apenas justapor os números.\n",
        "\n",
        "> A tabela abaixo mostra a operação que fizemos na variável `rfm_segment`."
      ]
    },
    {
      "cell_type": "code",
      "metadata": {
        "colab": {
          "base_uri": "https://localhost:8080/",
          "height": 238
        },
        "id": "EiTDRH3gigSp",
        "outputId": "900062c4-78d2-40a0-da9f-3cd74018c89e"
      },
      "source": [
        "rfm['rfm_segment'] = rfm['recency_score'].astype(str) + rfm['frequency_score'].astype(str)\n",
        "rfm.head()"
      ],
      "execution_count": null,
      "outputs": [
        {
          "output_type": "execute_result",
          "data": {
            "text/html": [
              "<div>\n",
              "<style scoped>\n",
              "    .dataframe tbody tr th:only-of-type {\n",
              "        vertical-align: middle;\n",
              "    }\n",
              "\n",
              "    .dataframe tbody tr th {\n",
              "        vertical-align: top;\n",
              "    }\n",
              "\n",
              "    .dataframe thead th {\n",
              "        text-align: right;\n",
              "    }\n",
              "</style>\n",
              "<table border=\"1\" class=\"dataframe\">\n",
              "  <thead>\n",
              "    <tr style=\"text-align: right;\">\n",
              "      <th></th>\n",
              "      <th>recency</th>\n",
              "      <th>frequency</th>\n",
              "      <th>monetary</th>\n",
              "      <th>recency_score</th>\n",
              "      <th>frequency_score</th>\n",
              "      <th>rfm_segment</th>\n",
              "    </tr>\n",
              "    <tr>\n",
              "      <th>Customer ID</th>\n",
              "      <th></th>\n",
              "      <th></th>\n",
              "      <th></th>\n",
              "      <th></th>\n",
              "      <th></th>\n",
              "      <th></th>\n",
              "    </tr>\n",
              "  </thead>\n",
              "  <tbody>\n",
              "    <tr>\n",
              "      <th>12346.0</th>\n",
              "      <td>530</td>\n",
              "      <td>11</td>\n",
              "      <td>372.86</td>\n",
              "      <td>2</td>\n",
              "      <td>5</td>\n",
              "      <td>25</td>\n",
              "    </tr>\n",
              "    <tr>\n",
              "      <th>12347.0</th>\n",
              "      <td>368</td>\n",
              "      <td>2</td>\n",
              "      <td>1323.32</td>\n",
              "      <td>5</td>\n",
              "      <td>2</td>\n",
              "      <td>52</td>\n",
              "    </tr>\n",
              "    <tr>\n",
              "      <th>12348.0</th>\n",
              "      <td>439</td>\n",
              "      <td>1</td>\n",
              "      <td>222.16</td>\n",
              "      <td>2</td>\n",
              "      <td>1</td>\n",
              "      <td>21</td>\n",
              "    </tr>\n",
              "    <tr>\n",
              "      <th>12349.0</th>\n",
              "      <td>408</td>\n",
              "      <td>3</td>\n",
              "      <td>2295.02</td>\n",
              "      <td>3</td>\n",
              "      <td>3</td>\n",
              "      <td>33</td>\n",
              "    </tr>\n",
              "    <tr>\n",
              "      <th>12351.0</th>\n",
              "      <td>376</td>\n",
              "      <td>1</td>\n",
              "      <td>300.93</td>\n",
              "      <td>5</td>\n",
              "      <td>1</td>\n",
              "      <td>51</td>\n",
              "    </tr>\n",
              "  </tbody>\n",
              "</table>\n",
              "</div>"
            ],
            "text/plain": [
              "             recency  frequency  ...  frequency_score rfm_segment\n",
              "Customer ID                      ...                             \n",
              "12346.0          530         11  ...                5          25\n",
              "12347.0          368          2  ...                2          52\n",
              "12348.0          439          1  ...                1          21\n",
              "12349.0          408          3  ...                3          33\n",
              "12351.0          376          1  ...                1          51\n",
              "\n",
              "[5 rows x 6 columns]"
            ]
          },
          "metadata": {
            "tags": []
          },
          "execution_count": 33
        }
      ]
    },
    {
      "cell_type": "markdown",
      "metadata": {
        "id": "HYBW9vTAo88n"
      },
      "source": [
        "**Esta tabela nos diz algo**\n",
        "\n",
        "> Vamos ver nossos melhores clientes em comportamento de compra, por exemplo."
      ]
    },
    {
      "cell_type": "code",
      "metadata": {
        "colab": {
          "base_uri": "https://localhost:8080/",
          "height": 238
        },
        "id": "qhzFQ_H-iv1f",
        "outputId": "11ea1c37-b7dd-4b39-b219-4782f4b720c5"
      },
      "source": [
        "rfm[rfm[\"rfm_segment\"] == \"55\"].head()"
      ],
      "execution_count": null,
      "outputs": [
        {
          "output_type": "execute_result",
          "data": {
            "text/html": [
              "<div>\n",
              "<style scoped>\n",
              "    .dataframe tbody tr th:only-of-type {\n",
              "        vertical-align: middle;\n",
              "    }\n",
              "\n",
              "    .dataframe tbody tr th {\n",
              "        vertical-align: top;\n",
              "    }\n",
              "\n",
              "    .dataframe thead th {\n",
              "        text-align: right;\n",
              "    }\n",
              "</style>\n",
              "<table border=\"1\" class=\"dataframe\">\n",
              "  <thead>\n",
              "    <tr style=\"text-align: right;\">\n",
              "      <th></th>\n",
              "      <th>recency</th>\n",
              "      <th>frequency</th>\n",
              "      <th>monetary</th>\n",
              "      <th>recency_score</th>\n",
              "      <th>frequency_score</th>\n",
              "      <th>rfm_segment</th>\n",
              "    </tr>\n",
              "    <tr>\n",
              "      <th>Customer ID</th>\n",
              "      <th></th>\n",
              "      <th></th>\n",
              "      <th></th>\n",
              "      <th></th>\n",
              "      <th></th>\n",
              "      <th></th>\n",
              "    </tr>\n",
              "  </thead>\n",
              "  <tbody>\n",
              "    <tr>\n",
              "      <th>12415.0</th>\n",
              "      <td>376</td>\n",
              "      <td>7</td>\n",
              "      <td>19460.64</td>\n",
              "      <td>5</td>\n",
              "      <td>5</td>\n",
              "      <td>55</td>\n",
              "    </tr>\n",
              "    <tr>\n",
              "      <th>12431.0</th>\n",
              "      <td>374</td>\n",
              "      <td>13</td>\n",
              "      <td>4370.52</td>\n",
              "      <td>5</td>\n",
              "      <td>5</td>\n",
              "      <td>55</td>\n",
              "    </tr>\n",
              "    <tr>\n",
              "      <th>12471.0</th>\n",
              "      <td>375</td>\n",
              "      <td>49</td>\n",
              "      <td>20135.59</td>\n",
              "      <td>5</td>\n",
              "      <td>5</td>\n",
              "      <td>55</td>\n",
              "    </tr>\n",
              "    <tr>\n",
              "      <th>12472.0</th>\n",
              "      <td>370</td>\n",
              "      <td>13</td>\n",
              "      <td>11308.48</td>\n",
              "      <td>5</td>\n",
              "      <td>5</td>\n",
              "      <td>55</td>\n",
              "    </tr>\n",
              "    <tr>\n",
              "      <th>12474.0</th>\n",
              "      <td>379</td>\n",
              "      <td>13</td>\n",
              "      <td>5020.60</td>\n",
              "      <td>5</td>\n",
              "      <td>5</td>\n",
              "      <td>55</td>\n",
              "    </tr>\n",
              "  </tbody>\n",
              "</table>\n",
              "</div>"
            ],
            "text/plain": [
              "             recency  frequency  ...  frequency_score rfm_segment\n",
              "Customer ID                      ...                             \n",
              "12415.0          376          7  ...                5          55\n",
              "12431.0          374         13  ...                5          55\n",
              "12471.0          375         49  ...                5          55\n",
              "12472.0          370         13  ...                5          55\n",
              "12474.0          379         13  ...                5          55\n",
              "\n",
              "[5 rows x 6 columns]"
            ]
          },
          "metadata": {
            "tags": []
          },
          "execution_count": 34
        }
      ]
    },
    {
      "cell_type": "markdown",
      "metadata": {
        "id": "VWfdQ93wpFr6"
      },
      "source": [
        "**Vamos ver o comportamento de compra de nossos piores clientes**"
      ]
    },
    {
      "cell_type": "code",
      "metadata": {
        "colab": {
          "base_uri": "https://localhost:8080/",
          "height": 238
        },
        "id": "bDWMI7W7ix_l",
        "outputId": "41efe096-6b6c-491d-fd5c-fcb7d7dc2940"
      },
      "source": [
        "rfm[rfm[\"rfm_segment\"] == \"11\"].head()"
      ],
      "execution_count": null,
      "outputs": [
        {
          "output_type": "execute_result",
          "data": {
            "text/html": [
              "<div>\n",
              "<style scoped>\n",
              "    .dataframe tbody tr th:only-of-type {\n",
              "        vertical-align: middle;\n",
              "    }\n",
              "\n",
              "    .dataframe tbody tr th {\n",
              "        vertical-align: top;\n",
              "    }\n",
              "\n",
              "    .dataframe thead th {\n",
              "        text-align: right;\n",
              "    }\n",
              "</style>\n",
              "<table border=\"1\" class=\"dataframe\">\n",
              "  <thead>\n",
              "    <tr style=\"text-align: right;\">\n",
              "      <th></th>\n",
              "      <th>recency</th>\n",
              "      <th>frequency</th>\n",
              "      <th>monetary</th>\n",
              "      <th>recency_score</th>\n",
              "      <th>frequency_score</th>\n",
              "      <th>rfm_segment</th>\n",
              "    </tr>\n",
              "    <tr>\n",
              "      <th>Customer ID</th>\n",
              "      <th></th>\n",
              "      <th></th>\n",
              "      <th></th>\n",
              "      <th></th>\n",
              "      <th></th>\n",
              "      <th></th>\n",
              "    </tr>\n",
              "  </thead>\n",
              "  <tbody>\n",
              "    <tr>\n",
              "      <th>12355.0</th>\n",
              "      <td>568</td>\n",
              "      <td>1</td>\n",
              "      <td>488.21</td>\n",
              "      <td>1</td>\n",
              "      <td>1</td>\n",
              "      <td>11</td>\n",
              "    </tr>\n",
              "    <tr>\n",
              "      <th>12362.0</th>\n",
              "      <td>739</td>\n",
              "      <td>1</td>\n",
              "      <td>36.94</td>\n",
              "      <td>1</td>\n",
              "      <td>1</td>\n",
              "      <td>11</td>\n",
              "    </tr>\n",
              "    <tr>\n",
              "      <th>12366.0</th>\n",
              "      <td>634</td>\n",
              "      <td>1</td>\n",
              "      <td>500.24</td>\n",
              "      <td>1</td>\n",
              "      <td>1</td>\n",
              "      <td>11</td>\n",
              "    </tr>\n",
              "    <tr>\n",
              "      <th>12368.0</th>\n",
              "      <td>629</td>\n",
              "      <td>1</td>\n",
              "      <td>917.70</td>\n",
              "      <td>1</td>\n",
              "      <td>1</td>\n",
              "      <td>11</td>\n",
              "    </tr>\n",
              "    <tr>\n",
              "      <th>12378.0</th>\n",
              "      <td>563</td>\n",
              "      <td>1</td>\n",
              "      <td>1401.68</td>\n",
              "      <td>1</td>\n",
              "      <td>1</td>\n",
              "      <td>11</td>\n",
              "    </tr>\n",
              "  </tbody>\n",
              "</table>\n",
              "</div>"
            ],
            "text/plain": [
              "             recency  frequency  ...  frequency_score rfm_segment\n",
              "Customer ID                      ...                             \n",
              "12355.0          568          1  ...                1          11\n",
              "12362.0          739          1  ...                1          11\n",
              "12366.0          634          1  ...                1          11\n",
              "12368.0          629          1  ...                1          11\n",
              "12378.0          563          1  ...                1          11\n",
              "\n",
              "[5 rows x 6 columns]"
            ]
          },
          "metadata": {
            "tags": []
          },
          "execution_count": 35
        }
      ]
    },
    {
      "cell_type": "markdown",
      "metadata": {
        "id": "5MXNsAP5pWTD"
      },
      "source": [
        "**Com a seguinte estrutura de Expressões regulares (Regex)**\n",
        "\n",
        "> Atribuiremos nossos clientes aos segmentos RFM na tabela colorida que examinamos acima de acordo com suas pontuações RFM.\n",
        "\n",
        "> Indicamos abaixo, um por um, em qual segmento nossos clientes estarão de acordo com suas pontuações de `recency` e `frequency`. Por exemplo, clientes com valor de `recency` de 1-2 e valor de `frequency` de 3 ou 4 serão atribuídos ao segmento **At_risk**."
      ]
    },
    {
      "cell_type": "code",
      "metadata": {
        "id": "sNOEfwEjizbe"
      },
      "source": [
        "seg_map = {\n",
        "        r'[1-2][1-2]': 'hibernating',\n",
        "        r'[1-2][3-4]': 'at_risk',\n",
        "        r'[1-2]5': 'cant_loose',\n",
        "        r'3[1-2]': 'about_to_sleep',\n",
        "        r'33': 'need_attention',\n",
        "        r'[3-4][4-5]': 'loyal_customers',\n",
        "        r'41': 'promising',\n",
        "        r'51': 'new_customers',\n",
        "        r'[4-5][2-3]': 'potential_loyalists',\n",
        "        r'5[4-5]': 'champions'\n",
        "    }"
      ],
      "execution_count": null,
      "outputs": []
    },
    {
      "cell_type": "markdown",
      "metadata": {
        "id": "CBswezOSqNGl"
      },
      "source": [
        "**Substituímos essa estrutura Regex por uma variável chamada `rfm_segment` em nossa tabela RFM e a convertemos em dataframe**\n",
        "\n",
        "> Em nossa variável `rfm_segment`, podemos ver em qual classe ou segmento nossos clientes pertecem."
      ]
    },
    {
      "cell_type": "code",
      "metadata": {
        "id": "Dyg_Wm_bi10l"
      },
      "source": [
        "rfm['rfm_segment'] = rfm['rfm_segment'].replace(seg_map, regex=True)"
      ],
      "execution_count": null,
      "outputs": []
    },
    {
      "cell_type": "code",
      "metadata": {
        "colab": {
          "base_uri": "https://localhost:8080/",
          "height": 238
        },
        "id": "p8t7vVlHi3XC",
        "outputId": "08db2fcb-9871-43b4-ac53-9de2ae7e19d6"
      },
      "source": [
        "rfm = rfm[[\"recency\", \"frequency\", \"monetary\", \"rfm_segment\"]]\n",
        "rfm.head()"
      ],
      "execution_count": null,
      "outputs": [
        {
          "output_type": "execute_result",
          "data": {
            "text/html": [
              "<div>\n",
              "<style scoped>\n",
              "    .dataframe tbody tr th:only-of-type {\n",
              "        vertical-align: middle;\n",
              "    }\n",
              "\n",
              "    .dataframe tbody tr th {\n",
              "        vertical-align: top;\n",
              "    }\n",
              "\n",
              "    .dataframe thead th {\n",
              "        text-align: right;\n",
              "    }\n",
              "</style>\n",
              "<table border=\"1\" class=\"dataframe\">\n",
              "  <thead>\n",
              "    <tr style=\"text-align: right;\">\n",
              "      <th></th>\n",
              "      <th>recency</th>\n",
              "      <th>frequency</th>\n",
              "      <th>monetary</th>\n",
              "      <th>rfm_segment</th>\n",
              "    </tr>\n",
              "    <tr>\n",
              "      <th>Customer ID</th>\n",
              "      <th></th>\n",
              "      <th></th>\n",
              "      <th></th>\n",
              "      <th></th>\n",
              "    </tr>\n",
              "  </thead>\n",
              "  <tbody>\n",
              "    <tr>\n",
              "      <th>12346.0</th>\n",
              "      <td>530</td>\n",
              "      <td>11</td>\n",
              "      <td>372.86</td>\n",
              "      <td>cant_loose</td>\n",
              "    </tr>\n",
              "    <tr>\n",
              "      <th>12347.0</th>\n",
              "      <td>368</td>\n",
              "      <td>2</td>\n",
              "      <td>1323.32</td>\n",
              "      <td>potential_loyalists</td>\n",
              "    </tr>\n",
              "    <tr>\n",
              "      <th>12348.0</th>\n",
              "      <td>439</td>\n",
              "      <td>1</td>\n",
              "      <td>222.16</td>\n",
              "      <td>hibernating</td>\n",
              "    </tr>\n",
              "    <tr>\n",
              "      <th>12349.0</th>\n",
              "      <td>408</td>\n",
              "      <td>3</td>\n",
              "      <td>2295.02</td>\n",
              "      <td>need_attention</td>\n",
              "    </tr>\n",
              "    <tr>\n",
              "      <th>12351.0</th>\n",
              "      <td>376</td>\n",
              "      <td>1</td>\n",
              "      <td>300.93</td>\n",
              "      <td>new_customers</td>\n",
              "    </tr>\n",
              "  </tbody>\n",
              "</table>\n",
              "</div>"
            ],
            "text/plain": [
              "             recency  frequency  monetary          rfm_segment\n",
              "Customer ID                                                   \n",
              "12346.0          530         11    372.86           cant_loose\n",
              "12347.0          368          2   1323.32  potential_loyalists\n",
              "12348.0          439          1    222.16          hibernating\n",
              "12349.0          408          3   2295.02       need_attention\n",
              "12351.0          376          1    300.93        new_customers"
            ]
          },
          "metadata": {
            "tags": []
          },
          "execution_count": 38
        }
      ]
    },
    {
      "cell_type": "markdown",
      "metadata": {
        "id": "QWWGeOc5qck2"
      },
      "source": [
        "**Quantos clientes temos nos segmentos?**\n",
        "\n",
        "> Vamos examinar as estatísticas descritivas dos segmentos."
      ]
    },
    {
      "cell_type": "code",
      "metadata": {
        "colab": {
          "base_uri": "https://localhost:8080/",
          "height": 426
        },
        "id": "oqQssVSgi4qL",
        "outputId": "6262433e-6258-4e91-e72a-26ea79999749"
      },
      "source": [
        "rfm[[\"rfm_segment\", \"recency\", \"frequency\", \"monetary\"]].groupby(\"rfm_segment\").agg([\"mean\",\"median\", \"count\"])"
      ],
      "execution_count": null,
      "outputs": [
        {
          "output_type": "execute_result",
          "data": {
            "text/html": [
              "<div>\n",
              "<style scoped>\n",
              "    .dataframe tbody tr th:only-of-type {\n",
              "        vertical-align: middle;\n",
              "    }\n",
              "\n",
              "    .dataframe tbody tr th {\n",
              "        vertical-align: top;\n",
              "    }\n",
              "\n",
              "    .dataframe thead tr th {\n",
              "        text-align: left;\n",
              "    }\n",
              "\n",
              "    .dataframe thead tr:last-of-type th {\n",
              "        text-align: right;\n",
              "    }\n",
              "</style>\n",
              "<table border=\"1\" class=\"dataframe\">\n",
              "  <thead>\n",
              "    <tr>\n",
              "      <th></th>\n",
              "      <th colspan=\"3\" halign=\"left\">recency</th>\n",
              "      <th colspan=\"3\" halign=\"left\">frequency</th>\n",
              "      <th colspan=\"3\" halign=\"left\">monetary</th>\n",
              "    </tr>\n",
              "    <tr>\n",
              "      <th></th>\n",
              "      <th>mean</th>\n",
              "      <th>median</th>\n",
              "      <th>count</th>\n",
              "      <th>mean</th>\n",
              "      <th>median</th>\n",
              "      <th>count</th>\n",
              "      <th>mean</th>\n",
              "      <th>median</th>\n",
              "      <th>count</th>\n",
              "    </tr>\n",
              "    <tr>\n",
              "      <th>rfm_segment</th>\n",
              "      <th></th>\n",
              "      <th></th>\n",
              "      <th></th>\n",
              "      <th></th>\n",
              "      <th></th>\n",
              "      <th></th>\n",
              "      <th></th>\n",
              "      <th></th>\n",
              "      <th></th>\n",
              "    </tr>\n",
              "  </thead>\n",
              "  <tbody>\n",
              "    <tr>\n",
              "      <th>about_to_sleep</th>\n",
              "      <td>418.819242</td>\n",
              "      <td>418.0</td>\n",
              "      <td>343</td>\n",
              "      <td>1.201166</td>\n",
              "      <td>1</td>\n",
              "      <td>343</td>\n",
              "      <td>435.429111</td>\n",
              "      <td>315.980</td>\n",
              "      <td>343</td>\n",
              "    </tr>\n",
              "    <tr>\n",
              "      <th>at_risk</th>\n",
              "      <td>517.158756</td>\n",
              "      <td>496.0</td>\n",
              "      <td>611</td>\n",
              "      <td>3.073650</td>\n",
              "      <td>3</td>\n",
              "      <td>611</td>\n",
              "      <td>1089.292367</td>\n",
              "      <td>754.380</td>\n",
              "      <td>611</td>\n",
              "    </tr>\n",
              "    <tr>\n",
              "      <th>cant_loose</th>\n",
              "      <td>489.116883</td>\n",
              "      <td>474.0</td>\n",
              "      <td>77</td>\n",
              "      <td>9.116883</td>\n",
              "      <td>7</td>\n",
              "      <td>77</td>\n",
              "      <td>3486.987532</td>\n",
              "      <td>2322.590</td>\n",
              "      <td>77</td>\n",
              "    </tr>\n",
              "    <tr>\n",
              "      <th>champions</th>\n",
              "      <td>372.119155</td>\n",
              "      <td>372.0</td>\n",
              "      <td>663</td>\n",
              "      <td>12.553544</td>\n",
              "      <td>8</td>\n",
              "      <td>663</td>\n",
              "      <td>6570.387425</td>\n",
              "      <td>2500.540</td>\n",
              "      <td>663</td>\n",
              "    </tr>\n",
              "    <tr>\n",
              "      <th>hibernating</th>\n",
              "      <td>578.885714</td>\n",
              "      <td>578.0</td>\n",
              "      <td>1015</td>\n",
              "      <td>1.126108</td>\n",
              "      <td>1</td>\n",
              "      <td>1015</td>\n",
              "      <td>363.962832</td>\n",
              "      <td>245.480</td>\n",
              "      <td>1015</td>\n",
              "    </tr>\n",
              "    <tr>\n",
              "      <th>loyal_customers</th>\n",
              "      <td>401.287062</td>\n",
              "      <td>396.0</td>\n",
              "      <td>742</td>\n",
              "      <td>6.830189</td>\n",
              "      <td>5</td>\n",
              "      <td>742</td>\n",
              "      <td>2672.967508</td>\n",
              "      <td>1810.195</td>\n",
              "      <td>742</td>\n",
              "    </tr>\n",
              "    <tr>\n",
              "      <th>need_attention</th>\n",
              "      <td>418.265700</td>\n",
              "      <td>418.0</td>\n",
              "      <td>207</td>\n",
              "      <td>2.449275</td>\n",
              "      <td>2</td>\n",
              "      <td>207</td>\n",
              "      <td>1009.158865</td>\n",
              "      <td>723.950</td>\n",
              "      <td>207</td>\n",
              "    </tr>\n",
              "    <tr>\n",
              "      <th>new_customers</th>\n",
              "      <td>373.580000</td>\n",
              "      <td>373.5</td>\n",
              "      <td>50</td>\n",
              "      <td>1.000000</td>\n",
              "      <td>1</td>\n",
              "      <td>50</td>\n",
              "      <td>385.877800</td>\n",
              "      <td>258.825</td>\n",
              "      <td>50</td>\n",
              "    </tr>\n",
              "    <tr>\n",
              "      <th>potential_loyalists</th>\n",
              "      <td>383.793037</td>\n",
              "      <td>384.0</td>\n",
              "      <td>517</td>\n",
              "      <td>2.017408</td>\n",
              "      <td>2</td>\n",
              "      <td>517</td>\n",
              "      <td>718.512853</td>\n",
              "      <td>522.670</td>\n",
              "      <td>517</td>\n",
              "    </tr>\n",
              "    <tr>\n",
              "      <th>promising</th>\n",
              "      <td>390.747126</td>\n",
              "      <td>390.0</td>\n",
              "      <td>87</td>\n",
              "      <td>1.000000</td>\n",
              "      <td>1</td>\n",
              "      <td>87</td>\n",
              "      <td>362.921954</td>\n",
              "      <td>263.380</td>\n",
              "      <td>87</td>\n",
              "    </tr>\n",
              "  </tbody>\n",
              "</table>\n",
              "</div>"
            ],
            "text/plain": [
              "                        recency               ...     monetary                \n",
              "                           mean median count  ...         mean    median count\n",
              "rfm_segment                                   ...                             \n",
              "about_to_sleep       418.819242  418.0   343  ...   435.429111   315.980   343\n",
              "at_risk              517.158756  496.0   611  ...  1089.292367   754.380   611\n",
              "cant_loose           489.116883  474.0    77  ...  3486.987532  2322.590    77\n",
              "champions            372.119155  372.0   663  ...  6570.387425  2500.540   663\n",
              "hibernating          578.885714  578.0  1015  ...   363.962832   245.480  1015\n",
              "loyal_customers      401.287062  396.0   742  ...  2672.967508  1810.195   742\n",
              "need_attention       418.265700  418.0   207  ...  1009.158865   723.950   207\n",
              "new_customers        373.580000  373.5    50  ...   385.877800   258.825    50\n",
              "potential_loyalists  383.793037  384.0   517  ...   718.512853   522.670   517\n",
              "promising            390.747126  390.0    87  ...   362.921954   263.380    87\n",
              "\n",
              "[10 rows x 9 columns]"
            ]
          },
          "metadata": {
            "tags": []
          },
          "execution_count": 39
        }
      ]
    },
    {
      "cell_type": "markdown",
      "metadata": {
        "id": "tW2YbPC8q5ym"
      },
      "source": [
        "**Apliquei as operações desta linha para fazer a visualização**\n",
        "\n",
        "> As operações nesta linha não contêm um código relacionado ao nosso projeto."
      ]
    },
    {
      "cell_type": "code",
      "metadata": {
        "id": "KCrlkz5Gi6R8"
      },
      "source": [
        "rfm1 = rfm[[\"rfm_segment\", \"recency\", \"frequency\", \"monetary\"]].groupby(\"rfm_segment\").agg([\"mean\",\"median\", \"count\"])\n",
        "rfm1.columns = rfm1.columns.droplevel(0)\n",
        "rfm1.reset_index(inplace=True)\n",
        "rfm1.columns = [\"rfm_segment\",\"nulo\",\"nulo\",\"count\",\"nulo\",\"nulo\",\"nulo\",\"nulo\",\"nulo\",\"nulo\"]\n",
        "rfm1 = rfm1.sort_values(by=\"count\", ascending=False)"
      ],
      "execution_count": null,
      "outputs": []
    },
    {
      "cell_type": "markdown",
      "metadata": {
        "id": "i57W6USSripy"
      },
      "source": [
        "**Gráfico de pizza**"
      ]
    },
    {
      "cell_type": "code",
      "metadata": {
        "colab": {
          "base_uri": "https://localhost:8080/",
          "height": 411
        },
        "id": "KozM8XLPi7-p",
        "outputId": "82d440ca-5af1-4778-d203-491e557fa6d9"
      },
      "source": [
        "import matplotlib.pyplot as plt\n",
        "\n",
        "colors = ['#C2C2C2', '#5BADFF', '#33FF99', '#FFAB4B', \n",
        "          '#C184FF', '#AD6F33','#FFFF5B','#85BBB2',\n",
        "          '#FF8484','#33FFFF']\n",
        "\n",
        "fig1, ax1 = plt.subplots(figsize=(10,7))\n",
        "\n",
        "ax1.pie(rfm1[\"count\"] ,labels=rfm1[\"rfm_segment\"].unique() ,colors=colors, \n",
        "        explode=[0,0.1,0.1,0.1,0,0,0,0,0,0] ,autopct='%1.1f%%');"
      ],
      "execution_count": null,
      "outputs": [
        {
          "output_type": "display_data",
          "data": {
            "image/png": "[encoded data removed]",
            "text/plain": [
              "<Figure size 720x504 with 1 Axes>"
            ]
          },
          "metadata": {
            "tags": []
          }
        }
      ]
    },
    {
      "cell_type": "markdown",
      "metadata": {
        "id": "TtBGfEP9jBID"
      },
      "source": [
        "**Interpretação do resultado da análise RFM e decisões de ação**\n",
        "\n",
        "> Concluímos o processo de análise de RFM criando a segmentação de RFM. Analisando as tabelas de estatísticas descritivas com mais detalhes usando os recursos visuais acima. Como resultado da Análise RFM, se pode ver abaixo as interpretações dessas classes e os planos de ação a serem executados para os clientes nesta classe, selecionando os 3 segmentos diferentes que dividi como fatias de pizza na imagem acima.\n",
        "\n",
        "**Escopo e objetivo**\n",
        "\n",
        "Como resultado da Análise RFM, a distribuição do número de clientes dos segmentos foi tida em consideração na seleção dos 3 segmentos da tabela.\n",
        "No segmento em que o cliente tem mais, podemos agir.\n",
        "Nos dados, o número de clientes particulares entre os anos 2010-2011 é de 4338.\n",
        "\n",
        "19% desses clientes pertencem a `loyal_Customers`, 15% a `Champions`, 14% a segmentos `at_Risk`.\n",
        "\n",
        "Embora o grupo `hibernating` seja o grupo com mais clientes, é o grupo com o valor de compra atual mais antigo com uma média de 217 dias. Embora os clientes se encontrem neste grupo, considerando o valor médio de `recency`, este segmento não é considerado em termos de ação por enquanto.\n",
        "\n",
        "**CLIENTES FIEIS**\n",
        "\n",
        "Existem 819 pessoas neste grupo.\n",
        "Eles compraram, em média, 33 dias atrás.\n",
        "\n",
        "O número médio de compras de clientes deste grupo é de 6. Os clientes neste conjunto de dados fizeram 52% mais compras do que os clientes em todos os segmentos. (Número médio geral de compras 4,27).\n",
        "\n",
        "O gasto médio do grupo é de £ 2.864,00. Nesse conjunto de dados, eles gastaram 39% a mais do que todos os clientes gastaram.\n",
        "\n",
        "> *Recomendações de ação*\n",
        "\n",
        "Ao envolver esse grupo, ele precisa ser incluído no segmento dos Campeões. Existem clientes que estão qualificados para isso.\n",
        "\n",
        "Este grupo pode ser incentivado aumentando o conteúdo especial no grupo dos Campeões.\n",
        "\n",
        "Precisamos estar mais em contato com o valor de Recência desse segmento, ou seja, antecipar os tempos de compra.\n",
        "\n",
        "**CAMPEÕES**\n",
        "\n",
        "Existem 633 pessoas neste grupo.\n",
        "Eles compraram, em média, 6 dias atrás.\n",
        "A média de compras de clientes deste grupo é de 12.\n",
        "O gasto médio do grupo é de £ 6.857,96.\n",
        "\n",
        "> *Recomendações de ação*\n",
        "\n",
        "Podemos recomendar produtos que estão no topo em qualidade e preço para este segmento.\n",
        "\n",
        "Podemos extrair valor da experiência deles enviando produtos que acabaram de ser lançados no mercado e que serão apresentados aos usuários gratuitamente.\n",
        "Descontos em roupas, acessórios e locais de alimentação e bebidas contratados podem ser concedidos com cartões especiais para este segmento. Precisamos fazer com que eles se sintam realmente privilegiados.\n",
        "\n",
        "**EM RISCO**\n",
        "\n",
        "Existem 593 pessoas neste grupo.\n",
        "Eles fizeram compras, em média, 153 dias atrás.\n",
        "O número médio de compras dos clientes deste grupo é de 2,87. Os clientes neste conjunto de dados fizeram 33% menos compras do que os clientes em todos os segmentos. (Número médio geral de compradores é de 4,27)\n",
        "O gasto médio do grupo é de £ 1.084,54. Nesse conjunto de dados, eles gastaram 47% menos do que todos os clientes  gastaram.\n",
        "\n",
        "> *Recomendações de ação*\n",
        "\n",
        "Pode ser contactado por SMS.\n",
        "As chances de os clientes desse grupo mudarem para o grupo de sono são muito altas. Descontos especiais e campanhas podem ser definidos para este grupo."
      ]
    },
    {
      "cell_type": "markdown",
      "metadata": {
        "id": "sp-PW7lcjGuN"
      },
      "source": [
        "# **4 - CLTV calculada**\n",
        "\n",
        "\n",
        "\n",
        "Calcularemos o valor de cada cliente em nossa empresa comparando os ganhos totais de todos os clientes em nossa empresa, o número total de pedidos e o número total de clientes.\n",
        "\n",
        "Em seguida, vamos segmentar nossos clientes de acordo com esse valor de vida.\n",
        "\n",
        "Precisamos de algumas métricas para calcular o valor do cliente. Essas métricas são:\n",
        "\n",
        "![img](https://raw.githubusercontent.com/amadords/images/main/M%C3%A9tricas%20-%20valor%20do%20cliente.png)\n",
        "\n",
        "Ao realizar todas essas etapas, calcularemos o valor do nosso cliente em nossa empresa. Iremos reatribuí-los aos segmentos com base neste valor."
      ]
    },
    {
      "cell_type": "markdown",
      "metadata": {
        "id": "BmQU6AmS5jDz"
      },
      "source": [
        "**Vamos primeiro calcular o valor `avg_order _value` sobre a tabela RFM que criamos**\n",
        "\n",
        "> Descobriremos assim quanto o cliente sai em média a cada transação."
      ]
    },
    {
      "cell_type": "code",
      "metadata": {
        "id": "cVh29sGsi90d"
      },
      "source": [
        "rfm['avg_order_value'] = rfm['monetary'] / rfm['frequency']"
      ],
      "execution_count": null,
      "outputs": []
    },
    {
      "cell_type": "markdown",
      "metadata": {
        "id": "baI7Xpbf5yl9"
      },
      "source": [
        "**Calculamos `purchase_frequency`. Com esse processo, padronizamos de acordo com o geral**\n",
        "\n",
        "> Número total de pedidos / número total de clientes."
      ]
    },
    {
      "cell_type": "code",
      "metadata": {
        "id": "fFr4uznnjeqs"
      },
      "source": [
        "rfm[\"purchase_frequency\"] = rfm['frequency'] / rfm.shape[0]"
      ],
      "execution_count": null,
      "outputs": []
    },
    {
      "cell_type": "markdown",
      "metadata": {
        "id": "bDXAvkpR6G1-"
      },
      "source": [
        "**Margem de lucro**\n",
        "\n",
        "> Presumimos que obtemos 0,5% de lucro do valor total gasto do cliente."
      ]
    },
    {
      "cell_type": "code",
      "metadata": {
        "id": "TuaZJLAjjgaM"
      },
      "source": [
        "rfm['profit_margin'] = rfm['monetary'] * 0.05"
      ],
      "execution_count": null,
      "outputs": []
    },
    {
      "cell_type": "markdown",
      "metadata": {
        "id": "WUtdwjzN6NTl"
      },
      "source": [
        "**`repeat_rate` e `churn_rate`**\n",
        "\n",
        "> Número de clientes que compram pelo menos uma vez no conjunto de dados / número de todos os clientes."
      ]
    },
    {
      "cell_type": "code",
      "metadata": {
        "id": "6-kfyQ9Djh70"
      },
      "source": [
        "repeat_rate = rfm [rfm.frequency> 1].shape [0] / rfm.shape [0]\n",
        "churn_rate = 1 - repeat_rate"
      ],
      "execution_count": null,
      "outputs": []
    },
    {
      "cell_type": "markdown",
      "metadata": {
        "id": "2evcI-sB6gaX"
      },
      "source": [
        "**Valor para o cliente**"
      ]
    },
    {
      "cell_type": "code",
      "metadata": {
        "id": "NqtqxuLljjNl"
      },
      "source": [
        "rfm ['cv'] = (rfm ['avg_order_value'] * rfm [\"purchase_frequency\"])"
      ],
      "execution_count": null,
      "outputs": []
    },
    {
      "cell_type": "markdown",
      "metadata": {
        "id": "TCM6C2nN6kaq"
      },
      "source": [
        "**Lifetime do cliente**"
      ]
    },
    {
      "cell_type": "code",
      "metadata": {
        "id": "AFnH4iuTjkdk"
      },
      "source": [
        "rfm ['cltv'] = (rfm ['cv'] / churn_rate) * rfm ['profit_margin']"
      ],
      "execution_count": null,
      "outputs": []
    },
    {
      "cell_type": "markdown",
      "metadata": {
        "id": "VHwDu_bw6nZJ"
      },
      "source": [
        "**Calculamos agora o valor da vida útil do cliente**\n"
      ]
    },
    {
      "cell_type": "code",
      "metadata": {
        "colab": {
          "base_uri": "https://localhost:8080/",
          "height": 238
        },
        "id": "021BckEbjlpr",
        "outputId": "3eff0ae1-6beb-42c7-c7c7-1dd7f60e7b10"
      },
      "source": [
        "rfm.head()"
      ],
      "execution_count": null,
      "outputs": [
        {
          "output_type": "execute_result",
          "data": {
            "text/html": [
              "<div>\n",
              "<style scoped>\n",
              "    .dataframe tbody tr th:only-of-type {\n",
              "        vertical-align: middle;\n",
              "    }\n",
              "\n",
              "    .dataframe tbody tr th {\n",
              "        vertical-align: top;\n",
              "    }\n",
              "\n",
              "    .dataframe thead th {\n",
              "        text-align: right;\n",
              "    }\n",
              "</style>\n",
              "<table border=\"1\" class=\"dataframe\">\n",
              "  <thead>\n",
              "    <tr style=\"text-align: right;\">\n",
              "      <th></th>\n",
              "      <th>recency</th>\n",
              "      <th>frequency</th>\n",
              "      <th>monetary</th>\n",
              "      <th>rfm_segment</th>\n",
              "      <th>avg_order_value</th>\n",
              "      <th>purchase_frequency</th>\n",
              "      <th>profit_margin</th>\n",
              "      <th>cv</th>\n",
              "      <th>cltv</th>\n",
              "    </tr>\n",
              "    <tr>\n",
              "      <th>Customer ID</th>\n",
              "      <th></th>\n",
              "      <th></th>\n",
              "      <th></th>\n",
              "      <th></th>\n",
              "      <th></th>\n",
              "      <th></th>\n",
              "      <th></th>\n",
              "      <th></th>\n",
              "      <th></th>\n",
              "    </tr>\n",
              "  </thead>\n",
              "  <tbody>\n",
              "    <tr>\n",
              "      <th>12346.0</th>\n",
              "      <td>530</td>\n",
              "      <td>11</td>\n",
              "      <td>372.86</td>\n",
              "      <td>cant_loose</td>\n",
              "      <td>33.896364</td>\n",
              "      <td>0.002551</td>\n",
              "      <td>18.6430</td>\n",
              "      <td>0.086470</td>\n",
              "      <td>4.898681</td>\n",
              "    </tr>\n",
              "    <tr>\n",
              "      <th>12347.0</th>\n",
              "      <td>368</td>\n",
              "      <td>2</td>\n",
              "      <td>1323.32</td>\n",
              "      <td>potential_loyalists</td>\n",
              "      <td>661.660000</td>\n",
              "      <td>0.000464</td>\n",
              "      <td>66.1660</td>\n",
              "      <td>0.306892</td>\n",
              "      <td>61.704574</td>\n",
              "    </tr>\n",
              "    <tr>\n",
              "      <th>12348.0</th>\n",
              "      <td>439</td>\n",
              "      <td>1</td>\n",
              "      <td>222.16</td>\n",
              "      <td>hibernating</td>\n",
              "      <td>222.160000</td>\n",
              "      <td>0.000232</td>\n",
              "      <td>11.1080</td>\n",
              "      <td>0.051521</td>\n",
              "      <td>1.739079</td>\n",
              "    </tr>\n",
              "    <tr>\n",
              "      <th>12349.0</th>\n",
              "      <td>408</td>\n",
              "      <td>3</td>\n",
              "      <td>2295.02</td>\n",
              "      <td>need_attention</td>\n",
              "      <td>765.006667</td>\n",
              "      <td>0.000696</td>\n",
              "      <td>114.7510</td>\n",
              "      <td>0.532240</td>\n",
              "      <td>185.592558</td>\n",
              "    </tr>\n",
              "    <tr>\n",
              "      <th>12351.0</th>\n",
              "      <td>376</td>\n",
              "      <td>1</td>\n",
              "      <td>300.93</td>\n",
              "      <td>new_customers</td>\n",
              "      <td>300.930000</td>\n",
              "      <td>0.000232</td>\n",
              "      <td>15.0465</td>\n",
              "      <td>0.069789</td>\n",
              "      <td>3.190940</td>\n",
              "    </tr>\n",
              "  </tbody>\n",
              "</table>\n",
              "</div>"
            ],
            "text/plain": [
              "             recency  frequency  monetary  ... profit_margin        cv        cltv\n",
              "Customer ID                                ...                                    \n",
              "12346.0          530         11    372.86  ...       18.6430  0.086470    4.898681\n",
              "12347.0          368          2   1323.32  ...       66.1660  0.306892   61.704574\n",
              "12348.0          439          1    222.16  ...       11.1080  0.051521    1.739079\n",
              "12349.0          408          3   2295.02  ...      114.7510  0.532240  185.592558\n",
              "12351.0          376          1    300.93  ...       15.0465  0.069789    3.190940\n",
              "\n",
              "[5 rows x 9 columns]"
            ]
          },
          "metadata": {
            "tags": []
          },
          "execution_count": 48
        }
      ]
    },
    {
      "cell_type": "markdown",
      "metadata": {
        "id": "oIUY90RO6uH6"
      },
      "source": [
        "**MinMaxScaler**\n",
        "\n",
        "> Nós pontuamos entre 1-100 para ler o valor CLTV  de forma mais fácil.\n",
        "\n",
        "> Nós o atribuímos a uma nova variável chamada `cltv_c` e acessamos o valor cltv calculado."
      ]
    },
    {
      "cell_type": "code",
      "metadata": {
        "id": "d5Fakq2ejm0s"
      },
      "source": [
        "scaler = MinMaxScaler (feature_range = (1, 100))\n",
        "scaler.fit (rfm [[\"cltv\"]])\n",
        "rfm [\"cltv_c\"] = scaler.transform (rfm [[\"cltv\"]])"
      ],
      "execution_count": null,
      "outputs": []
    },
    {
      "cell_type": "markdown",
      "metadata": {
        "id": "aTbDXPjb7RrD"
      },
      "source": [
        "**Agora podemos criar um segmento entre meus clientes com base neste valor calculado de vida do cliente**\n",
        "\n",
        "> Com a função `.qcut()`, classificamos em ordem crescente e o agrupamos como segmentoC, B, A."
      ]
    },
    {
      "cell_type": "code",
      "metadata": {
        "id": "I-8ODYMUjoiE"
      },
      "source": [
        "rfm[\"cltv_c_segment\"] = pd.qcut(rfm[\"cltv_c\"], 3, labels=[\"C\", \"B\", \"A\"])"
      ],
      "execution_count": null,
      "outputs": []
    },
    {
      "cell_type": "markdown",
      "metadata": {
        "id": "LUjxpYFt70_Z"
      },
      "source": [
        "**Coletando o valor cltv calculado com a tabela RFM criada primeiro e o segmento que foi criado de acordo com esse valor em um único dataframe**\n"
      ]
    },
    {
      "cell_type": "code",
      "metadata": {
        "id": "mIdST9gzjp5m"
      },
      "source": [
        "rfm_cltv = rfm[[\"recency\", \"frequency\", \"monetary\", \"rfm_segment\",\"cltv_c\", \"cltv_c_segment\"]]"
      ],
      "execution_count": null,
      "outputs": []
    },
    {
      "cell_type": "markdown",
      "metadata": {
        "id": "AU3d_00Y8PVN"
      },
      "source": [
        "**Dividimos nossos clientes em segmentos de acordo com o valor da vida útil do cliente que calculamos**\n"
      ]
    },
    {
      "cell_type": "code",
      "metadata": {
        "colab": {
          "base_uri": "https://localhost:8080/",
          "height": 238
        },
        "id": "j8d_kmYLjrPx",
        "outputId": "fc359a7e-86b0-49a5-aac4-aa6009e2f430"
      },
      "source": [
        "rfm_cltv.sort_values(by=\"cltv_c\", ascending=False).head()"
      ],
      "execution_count": null,
      "outputs": [
        {
          "output_type": "execute_result",
          "data": {
            "text/html": [
              "<div>\n",
              "<style scoped>\n",
              "    .dataframe tbody tr th:only-of-type {\n",
              "        vertical-align: middle;\n",
              "    }\n",
              "\n",
              "    .dataframe tbody tr th {\n",
              "        vertical-align: top;\n",
              "    }\n",
              "\n",
              "    .dataframe thead th {\n",
              "        text-align: right;\n",
              "    }\n",
              "</style>\n",
              "<table border=\"1\" class=\"dataframe\">\n",
              "  <thead>\n",
              "    <tr style=\"text-align: right;\">\n",
              "      <th></th>\n",
              "      <th>recency</th>\n",
              "      <th>frequency</th>\n",
              "      <th>monetary</th>\n",
              "      <th>rfm_segment</th>\n",
              "      <th>cltv_c</th>\n",
              "      <th>cltv_c_segment</th>\n",
              "    </tr>\n",
              "    <tr>\n",
              "      <th>Customer ID</th>\n",
              "      <th></th>\n",
              "      <th></th>\n",
              "      <th></th>\n",
              "      <th></th>\n",
              "      <th></th>\n",
              "      <th></th>\n",
              "    </tr>\n",
              "  </thead>\n",
              "  <tbody>\n",
              "    <tr>\n",
              "      <th>18102.0</th>\n",
              "      <td>366</td>\n",
              "      <td>89</td>\n",
              "      <td>313853.375</td>\n",
              "      <td>champions</td>\n",
              "      <td>100.000000</td>\n",
              "      <td>A</td>\n",
              "    </tr>\n",
              "    <tr>\n",
              "      <th>14646.0</th>\n",
              "      <td>375</td>\n",
              "      <td>78</td>\n",
              "      <td>242483.840</td>\n",
              "      <td>champions</td>\n",
              "      <td>60.094517</td>\n",
              "      <td>A</td>\n",
              "    </tr>\n",
              "    <tr>\n",
              "      <th>14156.0</th>\n",
              "      <td>372</td>\n",
              "      <td>102</td>\n",
              "      <td>182758.230</td>\n",
              "      <td>champions</td>\n",
              "      <td>34.568774</td>\n",
              "      <td>A</td>\n",
              "    </tr>\n",
              "    <tr>\n",
              "      <th>14911.0</th>\n",
              "      <td>366</td>\n",
              "      <td>205</td>\n",
              "      <td>143280.610</td>\n",
              "      <td>champions</td>\n",
              "      <td>21.632717</td>\n",
              "      <td>A</td>\n",
              "    </tr>\n",
              "    <tr>\n",
              "      <th>13694.0</th>\n",
              "      <td>374</td>\n",
              "      <td>94</td>\n",
              "      <td>128302.265</td>\n",
              "      <td>champions</td>\n",
              "      <td>17.544370</td>\n",
              "      <td>A</td>\n",
              "    </tr>\n",
              "  </tbody>\n",
              "</table>\n",
              "</div>"
            ],
            "text/plain": [
              "             recency  frequency  ...      cltv_c cltv_c_segment\n",
              "Customer ID                      ...                           \n",
              "18102.0          366         89  ...  100.000000              A\n",
              "14646.0          375         78  ...   60.094517              A\n",
              "14156.0          372        102  ...   34.568774              A\n",
              "14911.0          366        205  ...   21.632717              A\n",
              "13694.0          374         94  ...   17.544370              A\n",
              "\n",
              "[5 rows x 6 columns]"
            ]
          },
          "metadata": {
            "tags": []
          },
          "execution_count": 52
        }
      ]
    },
    {
      "cell_type": "markdown",
      "metadata": {
        "id": "zX8Rq00tjue9"
      },
      "source": [
        "# **5 - CLTV prevista**\n",
        "\n",
        "> Faremos uma estimativa futura do Valor do Tempo de Vida do Cliente com uma certa projeção de tempo, levando em consideração o comportamento do usuário de todos os nossos clientes.\n",
        "\n",
        "O motivo pelo qual não podemos fazer uma estimativa prospectiva, embora tenhamos a média da última vez que o cliente fez uma compra, a receita restante e a frequência de compra, é não termos a distribuição de comportamentos de todos os clientes para a empresa, além de também não haver estimativa dessa distribuição de probabilidade para os indivíduos.\n",
        " \n",
        "Teremos antecipado resolvendo este problema com os modelos BG-NBD e Gamma-Gamma.\n",
        "\n",
        "Ao realizar a estimativa CLTV, criaremos uma tabela semelhante à tabela RFM e adicionaremos um valor de posse adicional. A estabilidade é definida como o tempo desde o primeiro contato do cliente com a empresa até a data em que estabelecemos uma referência. Pode ser calculado subtraindo a primeira data de compra do cliente da data de referência que determinamos. Além disso, estávamos deduzindo a última data de compra de nossa data de referência ao calcular o valor de Recência. No entanto, ao fazer estimativas CLTV, precisamos subtrair a última data de compra do cliente da primeira data de compra. A razão disso; As fórmulas dos modelos BGNBD e Gama-Gama nos pedem argumentos com essa lógica de cálculo.\n",
        "\n",
        "    \n",
        "    * recency_cltv_p : lambda date: (date.max() - date.min()).days\n",
        "    * Tenure : lambda date: (today_date - date.min()).days\n"
      ]
    },
    {
      "cell_type": "markdown",
      "metadata": {
        "id": "yAubIcAeJeyn"
      },
      "source": [
        "**Vamos começar lembrando a data que selecionamos como Referência**\n"
      ]
    },
    {
      "cell_type": "code",
      "metadata": {
        "colab": {
          "base_uri": "https://localhost:8080/"
        },
        "id": "7_6VOv_jjs7j",
        "outputId": "a919ca9d-a279-435b-93ae-581cf6a4e254"
      },
      "source": [
        "today_date"
      ],
      "execution_count": null,
      "outputs": [
        {
          "output_type": "execute_result",
          "data": {
            "text/plain": [
              "datetime.datetime(2011, 12, 11, 0, 0)"
            ]
          },
          "metadata": {
            "tags": []
          },
          "execution_count": 53
        }
      ]
    },
    {
      "cell_type": "markdown",
      "metadata": {
        "id": "O2yyXNCUJjn5"
      },
      "source": [
        "**Criamos nossa tabela semelhante à tabela RFM**"
      ]
    },
    {
      "cell_type": "code",
      "metadata": {
        "id": "ly93Hk1uj06b"
      },
      "source": [
        "rfm = df.groupby('Customer ID').agg({'InvoiceDate': [lambda date: (date.max() - date.min()).days,\n",
        "                                                                lambda date: (today_date - date.min()).days],\n",
        "                                                'Invoice': lambda num: num.nunique(),\n",
        "                                                'TotalPrice': lambda TotalPrice: TotalPrice.sum()})"
      ],
      "execution_count": null,
      "outputs": []
    },
    {
      "cell_type": "markdown",
      "metadata": {
        "id": "zgF2ReVKJoo-"
      },
      "source": [
        "**Por causa da estrutura do índice hierárquico, nós o eliminamos**"
      ]
    },
    {
      "cell_type": "code",
      "metadata": {
        "id": "p1IxQm_5j2i4",
        "colab": {
          "base_uri": "https://localhost:8080/",
          "height": 238
        },
        "outputId": "01471cd3-1596-4832-b3b1-7ab30c332009"
      },
      "source": [
        "rfm.columns = rfm.columns.droplevel (0)\n",
        "rfm.head()"
      ],
      "execution_count": null,
      "outputs": [
        {
          "output_type": "execute_result",
          "data": {
            "text/html": [
              "<div>\n",
              "<style scoped>\n",
              "    .dataframe tbody tr th:only-of-type {\n",
              "        vertical-align: middle;\n",
              "    }\n",
              "\n",
              "    .dataframe tbody tr th {\n",
              "        vertical-align: top;\n",
              "    }\n",
              "\n",
              "    .dataframe thead th {\n",
              "        text-align: right;\n",
              "    }\n",
              "</style>\n",
              "<table border=\"1\" class=\"dataframe\">\n",
              "  <thead>\n",
              "    <tr style=\"text-align: right;\">\n",
              "      <th></th>\n",
              "      <th>&lt;lambda_0&gt;</th>\n",
              "      <th>&lt;lambda_1&gt;</th>\n",
              "      <th>&lt;lambda&gt;</th>\n",
              "      <th>&lt;lambda&gt;</th>\n",
              "    </tr>\n",
              "    <tr>\n",
              "      <th>Customer ID</th>\n",
              "      <th></th>\n",
              "      <th></th>\n",
              "      <th></th>\n",
              "      <th></th>\n",
              "    </tr>\n",
              "  </thead>\n",
              "  <tbody>\n",
              "    <tr>\n",
              "      <th>12346.0</th>\n",
              "      <td>196</td>\n",
              "      <td>726</td>\n",
              "      <td>11</td>\n",
              "      <td>372.86</td>\n",
              "    </tr>\n",
              "    <tr>\n",
              "      <th>12347.0</th>\n",
              "      <td>37</td>\n",
              "      <td>405</td>\n",
              "      <td>2</td>\n",
              "      <td>1323.32</td>\n",
              "    </tr>\n",
              "    <tr>\n",
              "      <th>12348.0</th>\n",
              "      <td>0</td>\n",
              "      <td>439</td>\n",
              "      <td>1</td>\n",
              "      <td>222.16</td>\n",
              "    </tr>\n",
              "    <tr>\n",
              "      <th>12349.0</th>\n",
              "      <td>181</td>\n",
              "      <td>590</td>\n",
              "      <td>3</td>\n",
              "      <td>2295.02</td>\n",
              "    </tr>\n",
              "    <tr>\n",
              "      <th>12351.0</th>\n",
              "      <td>0</td>\n",
              "      <td>376</td>\n",
              "      <td>1</td>\n",
              "      <td>300.93</td>\n",
              "    </tr>\n",
              "  </tbody>\n",
              "</table>\n",
              "</div>"
            ],
            "text/plain": [
              "             <lambda_0>  <lambda_1>  <lambda>  <lambda>\n",
              "Customer ID                                            \n",
              "12346.0             196         726        11    372.86\n",
              "12347.0              37         405         2   1323.32\n",
              "12348.0               0         439         1    222.16\n",
              "12349.0             181         590         3   2295.02\n",
              "12351.0               0         376         1    300.93"
            ]
          },
          "metadata": {
            "tags": []
          },
          "execution_count": 55
        }
      ]
    },
    {
      "cell_type": "markdown",
      "metadata": {
        "id": "YWPknBqHJucQ"
      },
      "source": [
        "**Renomeamos as colunas porque as variáveis ​​vêm como lambda**"
      ]
    },
    {
      "cell_type": "code",
      "metadata": {
        "id": "o0Fz1txSj43P"
      },
      "source": [
        "rfm.columns = ['recency_cltv_p', 'T', 'frequency', 'monetary']"
      ],
      "execution_count": null,
      "outputs": []
    },
    {
      "cell_type": "markdown",
      "metadata": {
        "id": "fz0FtNnkJyEX"
      },
      "source": [
        "**O modelo gama-gama não quer o valor monetário clássico, mas o valor monetário médio**\n",
        "\n",
        "> Em cada transação `frequency` quanto o cliente deixou em média.\n",
        "\n",
        "> Quanto cada cliente ganhou em cada fatura em média."
      ]
    },
    {
      "cell_type": "code",
      "metadata": {
        "id": "hJnHHxX5j6QM"
      },
      "source": [
        "rfm[\"monetary\"] = rfm[\"monetary\"] / rfm[\"frequency\"]"
      ],
      "execution_count": null,
      "outputs": []
    },
    {
      "cell_type": "markdown",
      "metadata": {
        "id": "wlhfjLvUKEJA"
      },
      "source": [
        "**Valor monetário ajustado para o modelo Gamma-Gamma**\n"
      ]
    },
    {
      "cell_type": "code",
      "metadata": {
        "colab": {
          "base_uri": "https://localhost:8080/",
          "height": 238
        },
        "id": "cem0N9Mhj8iw",
        "outputId": "0689797a-5c76-43e2-88f0-685769b32d3b"
      },
      "source": [
        "rfm.head()"
      ],
      "execution_count": null,
      "outputs": [
        {
          "output_type": "execute_result",
          "data": {
            "text/html": [
              "<div>\n",
              "<style scoped>\n",
              "    .dataframe tbody tr th:only-of-type {\n",
              "        vertical-align: middle;\n",
              "    }\n",
              "\n",
              "    .dataframe tbody tr th {\n",
              "        vertical-align: top;\n",
              "    }\n",
              "\n",
              "    .dataframe thead th {\n",
              "        text-align: right;\n",
              "    }\n",
              "</style>\n",
              "<table border=\"1\" class=\"dataframe\">\n",
              "  <thead>\n",
              "    <tr style=\"text-align: right;\">\n",
              "      <th></th>\n",
              "      <th>recency_cltv_p</th>\n",
              "      <th>T</th>\n",
              "      <th>frequency</th>\n",
              "      <th>monetary</th>\n",
              "    </tr>\n",
              "    <tr>\n",
              "      <th>Customer ID</th>\n",
              "      <th></th>\n",
              "      <th></th>\n",
              "      <th></th>\n",
              "      <th></th>\n",
              "    </tr>\n",
              "  </thead>\n",
              "  <tbody>\n",
              "    <tr>\n",
              "      <th>12346.0</th>\n",
              "      <td>196</td>\n",
              "      <td>726</td>\n",
              "      <td>11</td>\n",
              "      <td>33.896364</td>\n",
              "    </tr>\n",
              "    <tr>\n",
              "      <th>12347.0</th>\n",
              "      <td>37</td>\n",
              "      <td>405</td>\n",
              "      <td>2</td>\n",
              "      <td>661.660000</td>\n",
              "    </tr>\n",
              "    <tr>\n",
              "      <th>12348.0</th>\n",
              "      <td>0</td>\n",
              "      <td>439</td>\n",
              "      <td>1</td>\n",
              "      <td>222.160000</td>\n",
              "    </tr>\n",
              "    <tr>\n",
              "      <th>12349.0</th>\n",
              "      <td>181</td>\n",
              "      <td>590</td>\n",
              "      <td>3</td>\n",
              "      <td>765.006667</td>\n",
              "    </tr>\n",
              "    <tr>\n",
              "      <th>12351.0</th>\n",
              "      <td>0</td>\n",
              "      <td>376</td>\n",
              "      <td>1</td>\n",
              "      <td>300.930000</td>\n",
              "    </tr>\n",
              "  </tbody>\n",
              "</table>\n",
              "</div>"
            ],
            "text/plain": [
              "             recency_cltv_p    T  frequency    monetary\n",
              "Customer ID                                            \n",
              "12346.0                 196  726         11   33.896364\n",
              "12347.0                  37  405          2  661.660000\n",
              "12348.0                   0  439          1  222.160000\n",
              "12349.0                 181  590          3  765.006667\n",
              "12351.0                   0  376          1  300.930000"
            ]
          },
          "metadata": {
            "tags": []
          },
          "execution_count": 58
        }
      ]
    },
    {
      "cell_type": "markdown",
      "metadata": {
        "id": "Y_ox4k1jKHz8"
      },
      "source": [
        "**Alteramos o `monetary` para `monet_avg` para que a alteração que fizemos para o modelo Gamma-Gamma seja observada**\n"
      ]
    },
    {
      "cell_type": "code",
      "metadata": {
        "id": "INePXqgBkJkA"
      },
      "source": [
        "rfm.rename(columns={\"monetary\": \"monetary_avg\"}, inplace=True)"
      ],
      "execution_count": null,
      "outputs": []
    },
    {
      "cell_type": "markdown",
      "metadata": {
        "id": "f2IiWkoGKVqC"
      },
      "source": [
        "**Para o modelo BG-NBD**\n",
        "\n",
        "> calculamos os valores de tempo para retorno semanal (recency_weekly_p) e de posse semanal (T_weekly).\n",
        "\n",
        "> Esses valores fornecem informações sobre quantas semanas atrás ele comprou e quantos clientes semanais ele tinha."
      ]
    },
    {
      "cell_type": "code",
      "metadata": {
        "id": "eCuFyznskOea"
      },
      "source": [
        "rfm [\"recency_weekly_cltv_p\"] = rfm [\"recency_cltv_p\"] / 7 # quantas semanas atrás ele fez compras\n",
        "rfm [\"T_weekly\"] = rfm [\"T\"] / 7 # quantos clientes semanais existem"
      ],
      "execution_count": null,
      "outputs": []
    },
    {
      "cell_type": "markdown",
      "metadata": {
        "id": "8P2vorl5KgTU"
      },
      "source": [
        "**Aceitamos valores `monetários_avg` maiores que \"0\" para controle**"
      ]
    },
    {
      "cell_type": "code",
      "metadata": {
        "id": "hYjf8r12kR72"
      },
      "source": [
        "rfm = rfm[rfm[\"monetary_avg\"] > 0]"
      ],
      "execution_count": null,
      "outputs": []
    },
    {
      "cell_type": "markdown",
      "metadata": {
        "id": "sKEyRO31Kp7Z"
      },
      "source": [
        "**Para uma conta CLTV mais saudável**\n"
      ]
    },
    {
      "cell_type": "code",
      "metadata": {
        "id": "LovI_7wwkTSY"
      },
      "source": [
        "rfm = rfm[(rfm['frequency'] > 1)]"
      ],
      "execution_count": null,
      "outputs": []
    },
    {
      "cell_type": "code",
      "metadata": {
        "colab": {
          "base_uri": "https://localhost:8080/",
          "height": 238
        },
        "id": "OBqGKa8UkYpp",
        "outputId": "36e4fdff-aae3-40c2-9280-8af08bab2357"
      },
      "source": [
        "rfm.head()"
      ],
      "execution_count": null,
      "outputs": [
        {
          "output_type": "execute_result",
          "data": {
            "text/html": [
              "<div>\n",
              "<style scoped>\n",
              "    .dataframe tbody tr th:only-of-type {\n",
              "        vertical-align: middle;\n",
              "    }\n",
              "\n",
              "    .dataframe tbody tr th {\n",
              "        vertical-align: top;\n",
              "    }\n",
              "\n",
              "    .dataframe thead th {\n",
              "        text-align: right;\n",
              "    }\n",
              "</style>\n",
              "<table border=\"1\" class=\"dataframe\">\n",
              "  <thead>\n",
              "    <tr style=\"text-align: right;\">\n",
              "      <th></th>\n",
              "      <th>recency_cltv_p</th>\n",
              "      <th>T</th>\n",
              "      <th>frequency</th>\n",
              "      <th>monetary_avg</th>\n",
              "      <th>recency_weekly_cltv_p</th>\n",
              "      <th>T_weekly</th>\n",
              "    </tr>\n",
              "    <tr>\n",
              "      <th>Customer ID</th>\n",
              "      <th></th>\n",
              "      <th></th>\n",
              "      <th></th>\n",
              "      <th></th>\n",
              "      <th></th>\n",
              "      <th></th>\n",
              "    </tr>\n",
              "  </thead>\n",
              "  <tbody>\n",
              "    <tr>\n",
              "      <th>12346.0</th>\n",
              "      <td>196</td>\n",
              "      <td>726</td>\n",
              "      <td>11</td>\n",
              "      <td>33.896364</td>\n",
              "      <td>28.000000</td>\n",
              "      <td>103.714286</td>\n",
              "    </tr>\n",
              "    <tr>\n",
              "      <th>12347.0</th>\n",
              "      <td>37</td>\n",
              "      <td>405</td>\n",
              "      <td>2</td>\n",
              "      <td>661.660000</td>\n",
              "      <td>5.285714</td>\n",
              "      <td>57.857143</td>\n",
              "    </tr>\n",
              "    <tr>\n",
              "      <th>12349.0</th>\n",
              "      <td>181</td>\n",
              "      <td>590</td>\n",
              "      <td>3</td>\n",
              "      <td>765.006667</td>\n",
              "      <td>25.857143</td>\n",
              "      <td>84.285714</td>\n",
              "    </tr>\n",
              "    <tr>\n",
              "      <th>12352.0</th>\n",
              "      <td>16</td>\n",
              "      <td>393</td>\n",
              "      <td>2</td>\n",
              "      <td>171.900000</td>\n",
              "      <td>2.285714</td>\n",
              "      <td>56.142857</td>\n",
              "    </tr>\n",
              "    <tr>\n",
              "      <th>12356.0</th>\n",
              "      <td>44</td>\n",
              "      <td>425</td>\n",
              "      <td>3</td>\n",
              "      <td>1187.416667</td>\n",
              "      <td>6.285714</td>\n",
              "      <td>60.714286</td>\n",
              "    </tr>\n",
              "  </tbody>\n",
              "</table>\n",
              "</div>"
            ],
            "text/plain": [
              "             recency_cltv_p    T  ...  recency_weekly_cltv_p    T_weekly\n",
              "Customer ID                       ...                                   \n",
              "12346.0                 196  726  ...              28.000000  103.714286\n",
              "12347.0                  37  405  ...               5.285714   57.857143\n",
              "12349.0                 181  590  ...              25.857143   84.285714\n",
              "12352.0                  16  393  ...               2.285714   56.142857\n",
              "12356.0                  44  425  ...               6.285714   60.714286\n",
              "\n",
              "[5 rows x 6 columns]"
            ]
          },
          "metadata": {
            "tags": []
          },
          "execution_count": 63
        }
      ]
    },
    {
      "cell_type": "markdown",
      "metadata": {
        "id": "rbHL8KT8Ku6y"
      },
      "source": [
        "**Os modelos BG-NBD e Gamma-Gamma não querem que o valor da frequência flutue**\n",
        "\n",
        "> Portanto, ainda fazemos o tipo de frequência como `int` para fins de controle."
      ]
    },
    {
      "cell_type": "code",
      "metadata": {
        "id": "RDI83u8akbCe"
      },
      "source": [
        "rfm[\"frequency\"] = rfm[\"frequency\"].astype(int)"
      ],
      "execution_count": null,
      "outputs": []
    },
    {
      "cell_type": "markdown",
      "metadata": {
        "id": "XBJIwvWYLLP7"
      },
      "source": [
        "**Ajustando o modelo BG-NBD, podemos prosseguir para a etapa de estimativa dos números de vendas esperados.**\n",
        "\n",
        "    bgf = BetaGeoFitter(penalizer_coef=0.01)\n"
      ]
    },
    {
      "cell_type": "code",
      "metadata": {
        "colab": {
          "base_uri": "https://localhost:8080/"
        },
        "id": "xLkIqcyZkcsI",
        "outputId": "777f2a5c-6934-442c-b55a-666f1eea0b95"
      },
      "source": [
        "bgf = BetaGeoFitter(penalizer_coef=0.01)\n",
        "    \n",
        "bgf.fit(rfm['frequency'],\n",
        "        rfm['recency_weekly_cltv_p'],\n",
        "        rfm['T_weekly'])"
      ],
      "execution_count": null,
      "outputs": [
        {
          "output_type": "execute_result",
          "data": {
            "text/plain": [
              "<lifetimes.BetaGeoFitter: fitted with 2893 subjects, a: 1.08, alpha: 7.45, b: 2.78, r: 1.79>"
            ]
          },
          "metadata": {
            "tags": []
          },
          "execution_count": 65
        }
      ]
    },
    {
      "cell_type": "markdown",
      "metadata": {
        "id": "1SDRg1NELfuQ"
      },
      "source": [
        "**Código que fornece uma estimativa de vendas esperadas para 1 mês**\n",
        "\n",
        "> Como convertemos o valor `recency_weekly_cltv_p` e `T_weekly` em valor semanal, escrever 4 no modelo nos dá vendas esperadas de 1 mês."
      ]
    },
    {
      "cell_type": "code",
      "metadata": {
        "id": "RxGEPTuUkeow"
      },
      "source": [
        "rfm[\"exp_sales_1_month\"] = bgf.predict(4,\n",
        "                                        rfm['frequency'],\n",
        "                                        rfm['recency_weekly_cltv_p'],\n",
        "                                        rfm['T_weekly'])"
      ],
      "execution_count": null,
      "outputs": []
    },
    {
      "cell_type": "markdown",
      "metadata": {
        "id": "ag2TCFvGLo4K"
      },
      "source": [
        "**Código que fornece uma estimativa de vendas esperadas para 3 meses**"
      ]
    },
    {
      "cell_type": "code",
      "metadata": {
        "id": "mZFTO1WGkgEa"
      },
      "source": [
        "rfm[\"exp_sales_3_month\"] = bgf.predict(12,\n",
        "                                        rfm['frequency'],\n",
        "                                        rfm['recency_weekly_cltv_p'],\n",
        "                                        rfm['T_weekly'])"
      ],
      "execution_count": null,
      "outputs": []
    },
    {
      "cell_type": "markdown",
      "metadata": {
        "id": "cw3mBn80Ltnp"
      },
      "source": [
        "**Vemos a expectativa de vendas dos clientes em 1 e 3 meses para o futuro na tabela**"
      ]
    },
    {
      "cell_type": "code",
      "metadata": {
        "colab": {
          "base_uri": "https://localhost:8080/",
          "height": 238
        },
        "id": "g8FYKC_ikiPe",
        "outputId": "5a76db40-d740-46a6-cf31-a8074b4e5a8a"
      },
      "source": [
        "rfm.head()"
      ],
      "execution_count": null,
      "outputs": [
        {
          "output_type": "execute_result",
          "data": {
            "text/html": [
              "<div>\n",
              "<style scoped>\n",
              "    .dataframe tbody tr th:only-of-type {\n",
              "        vertical-align: middle;\n",
              "    }\n",
              "\n",
              "    .dataframe tbody tr th {\n",
              "        vertical-align: top;\n",
              "    }\n",
              "\n",
              "    .dataframe thead th {\n",
              "        text-align: right;\n",
              "    }\n",
              "</style>\n",
              "<table border=\"1\" class=\"dataframe\">\n",
              "  <thead>\n",
              "    <tr style=\"text-align: right;\">\n",
              "      <th></th>\n",
              "      <th>recency_cltv_p</th>\n",
              "      <th>T</th>\n",
              "      <th>frequency</th>\n",
              "      <th>monetary_avg</th>\n",
              "      <th>recency_weekly_cltv_p</th>\n",
              "      <th>T_weekly</th>\n",
              "      <th>exp_sales_1_month</th>\n",
              "      <th>exp_sales_3_month</th>\n",
              "    </tr>\n",
              "    <tr>\n",
              "      <th>Customer ID</th>\n",
              "      <th></th>\n",
              "      <th></th>\n",
              "      <th></th>\n",
              "      <th></th>\n",
              "      <th></th>\n",
              "      <th></th>\n",
              "      <th></th>\n",
              "      <th></th>\n",
              "    </tr>\n",
              "  </thead>\n",
              "  <tbody>\n",
              "    <tr>\n",
              "      <th>12346.0</th>\n",
              "      <td>196</td>\n",
              "      <td>726</td>\n",
              "      <td>11</td>\n",
              "      <td>33.896364</td>\n",
              "      <td>28.000000</td>\n",
              "      <td>103.714286</td>\n",
              "      <td>0.000002</td>\n",
              "      <td>0.000007</td>\n",
              "    </tr>\n",
              "    <tr>\n",
              "      <th>12347.0</th>\n",
              "      <td>37</td>\n",
              "      <td>405</td>\n",
              "      <td>2</td>\n",
              "      <td>661.660000</td>\n",
              "      <td>5.285714</td>\n",
              "      <td>57.857143</td>\n",
              "      <td>0.001612</td>\n",
              "      <td>0.004602</td>\n",
              "    </tr>\n",
              "    <tr>\n",
              "      <th>12349.0</th>\n",
              "      <td>181</td>\n",
              "      <td>590</td>\n",
              "      <td>3</td>\n",
              "      <td>765.006667</td>\n",
              "      <td>25.857143</td>\n",
              "      <td>84.285714</td>\n",
              "      <td>0.006864</td>\n",
              "      <td>0.019838</td>\n",
              "    </tr>\n",
              "    <tr>\n",
              "      <th>12352.0</th>\n",
              "      <td>16</td>\n",
              "      <td>393</td>\n",
              "      <td>2</td>\n",
              "      <td>171.900000</td>\n",
              "      <td>2.285714</td>\n",
              "      <td>56.142857</td>\n",
              "      <td>0.000665</td>\n",
              "      <td>0.001896</td>\n",
              "    </tr>\n",
              "    <tr>\n",
              "      <th>12356.0</th>\n",
              "      <td>44</td>\n",
              "      <td>425</td>\n",
              "      <td>3</td>\n",
              "      <td>1187.416667</td>\n",
              "      <td>6.285714</td>\n",
              "      <td>60.714286</td>\n",
              "      <td>0.000567</td>\n",
              "      <td>0.001618</td>\n",
              "    </tr>\n",
              "  </tbody>\n",
              "</table>\n",
              "</div>"
            ],
            "text/plain": [
              "             recency_cltv_p    T  ...  exp_sales_1_month  exp_sales_3_month\n",
              "Customer ID                       ...                                      \n",
              "12346.0                 196  726  ...           0.000002           0.000007\n",
              "12347.0                  37  405  ...           0.001612           0.004602\n",
              "12349.0                 181  590  ...           0.006864           0.019838\n",
              "12352.0                  16  393  ...           0.000665           0.001896\n",
              "12356.0                  44  425  ...           0.000567           0.001618\n",
              "\n",
              "[5 rows x 8 columns]"
            ]
          },
          "metadata": {
            "tags": []
          },
          "execution_count": 68
        }
      ]
    },
    {
      "cell_type": "markdown",
      "metadata": {
        "id": "jAaZh1hlL1oC"
      },
      "source": [
        "**Ajustando o modelo Gamma-Gamma, podemos prosseguir para a etapa de estimativa de lucratividade esperada**"
      ]
    },
    {
      "cell_type": "code",
      "metadata": {
        "id": "_ubz0JCikmQK"
      },
      "source": [
        "ggf = GammaGammaFitter(penalizer_coef=0.01)\n",
        "\n",
        "ggf.fit(rfm['frequency'], rfm['monetary_avg'])\n",
        "\n",
        "rfm[\"expected_average_profit\"] = ggf.conditional_expected_average_profit(rfm['frequency'],\n",
        "                                                                         rfm['monetary_avg'])"
      ],
      "execution_count": null,
      "outputs": []
    },
    {
      "cell_type": "markdown",
      "metadata": {
        "id": "g3zJ5gyIL97Y"
      },
      "source": [
        "**Previmos a lucratividade esperada dos clientes com `expacted_average_profit` mostrado na tabela**"
      ]
    },
    {
      "cell_type": "code",
      "metadata": {
        "colab": {
          "base_uri": "https://localhost:8080/",
          "height": 255
        },
        "id": "qZlhuUP1knxS",
        "outputId": "27affe89-e278-40c6-96d6-d23238fd7cf9"
      },
      "source": [
        "rfm.head()"
      ],
      "execution_count": null,
      "outputs": [
        {
          "output_type": "execute_result",
          "data": {
            "text/html": [
              "<div>\n",
              "<style scoped>\n",
              "    .dataframe tbody tr th:only-of-type {\n",
              "        vertical-align: middle;\n",
              "    }\n",
              "\n",
              "    .dataframe tbody tr th {\n",
              "        vertical-align: top;\n",
              "    }\n",
              "\n",
              "    .dataframe thead th {\n",
              "        text-align: right;\n",
              "    }\n",
              "</style>\n",
              "<table border=\"1\" class=\"dataframe\">\n",
              "  <thead>\n",
              "    <tr style=\"text-align: right;\">\n",
              "      <th></th>\n",
              "      <th>recency_cltv_p</th>\n",
              "      <th>T</th>\n",
              "      <th>frequency</th>\n",
              "      <th>monetary_avg</th>\n",
              "      <th>recency_weekly_cltv_p</th>\n",
              "      <th>T_weekly</th>\n",
              "      <th>exp_sales_1_month</th>\n",
              "      <th>exp_sales_3_month</th>\n",
              "      <th>expected_average_profit</th>\n",
              "    </tr>\n",
              "    <tr>\n",
              "      <th>Customer ID</th>\n",
              "      <th></th>\n",
              "      <th></th>\n",
              "      <th></th>\n",
              "      <th></th>\n",
              "      <th></th>\n",
              "      <th></th>\n",
              "      <th></th>\n",
              "      <th></th>\n",
              "      <th></th>\n",
              "    </tr>\n",
              "  </thead>\n",
              "  <tbody>\n",
              "    <tr>\n",
              "      <th>12346.0</th>\n",
              "      <td>196</td>\n",
              "      <td>726</td>\n",
              "      <td>11</td>\n",
              "      <td>33.896364</td>\n",
              "      <td>28.000000</td>\n",
              "      <td>103.714286</td>\n",
              "      <td>0.000002</td>\n",
              "      <td>0.000007</td>\n",
              "      <td>34.785452</td>\n",
              "    </tr>\n",
              "    <tr>\n",
              "      <th>12347.0</th>\n",
              "      <td>37</td>\n",
              "      <td>405</td>\n",
              "      <td>2</td>\n",
              "      <td>661.660000</td>\n",
              "      <td>5.285714</td>\n",
              "      <td>57.857143</td>\n",
              "      <td>0.001612</td>\n",
              "      <td>0.004602</td>\n",
              "      <td>726.753847</td>\n",
              "    </tr>\n",
              "    <tr>\n",
              "      <th>12349.0</th>\n",
              "      <td>181</td>\n",
              "      <td>590</td>\n",
              "      <td>3</td>\n",
              "      <td>765.006667</td>\n",
              "      <td>25.857143</td>\n",
              "      <td>84.285714</td>\n",
              "      <td>0.006864</td>\n",
              "      <td>0.019838</td>\n",
              "      <td>813.429999</td>\n",
              "    </tr>\n",
              "    <tr>\n",
              "      <th>12352.0</th>\n",
              "      <td>16</td>\n",
              "      <td>393</td>\n",
              "      <td>2</td>\n",
              "      <td>171.900000</td>\n",
              "      <td>2.285714</td>\n",
              "      <td>56.142857</td>\n",
              "      <td>0.000665</td>\n",
              "      <td>0.001896</td>\n",
              "      <td>190.322277</td>\n",
              "    </tr>\n",
              "    <tr>\n",
              "      <th>12356.0</th>\n",
              "      <td>44</td>\n",
              "      <td>425</td>\n",
              "      <td>3</td>\n",
              "      <td>1187.416667</td>\n",
              "      <td>6.285714</td>\n",
              "      <td>60.714286</td>\n",
              "      <td>0.000567</td>\n",
              "      <td>0.001618</td>\n",
              "      <td>1261.849455</td>\n",
              "    </tr>\n",
              "  </tbody>\n",
              "</table>\n",
              "</div>"
            ],
            "text/plain": [
              "             recency_cltv_p    T  ...  exp_sales_3_month  expected_average_profit\n",
              "Customer ID                       ...                                            \n",
              "12346.0                 196  726  ...           0.000007                34.785452\n",
              "12347.0                  37  405  ...           0.004602               726.753847\n",
              "12349.0                 181  590  ...           0.019838               813.429999\n",
              "12352.0                  16  393  ...           0.001896               190.322277\n",
              "12356.0                  44  425  ...           0.001618              1261.849455\n",
              "\n",
              "[5 rows x 9 columns]"
            ]
          },
          "metadata": {
            "tags": []
          },
          "execution_count": 70
        }
      ]
    },
    {
      "cell_type": "markdown",
      "metadata": {
        "id": "zkG8sA23MFs7"
      },
      "source": [
        "**Calculamos o valor `CLTV_p` de 6 meses dos clientes**"
      ]
    },
    {
      "cell_type": "code",
      "metadata": {
        "id": "eT97sPNQkpjd"
      },
      "source": [
        "cltv = ggf.customer_lifetime_value(bgf,\n",
        "                                    rfm['frequency'],\n",
        "                                    rfm['recency_weekly_cltv_p'],\n",
        "                                    rfm['T_weekly'],\n",
        "                                    rfm['monetary_avg'],\n",
        "                                    time=6,\n",
        "                                    freq=\"W\",\n",
        "                                    discount_rate=0.01)"
      ],
      "execution_count": null,
      "outputs": []
    },
    {
      "cell_type": "code",
      "metadata": {
        "id": "jgKuHxOZkrLV"
      },
      "source": [
        "rfm[\"cltv_p\"] = cltv"
      ],
      "execution_count": null,
      "outputs": []
    },
    {
      "cell_type": "markdown",
      "metadata": {
        "id": "_RYYhVXRMNKb"
      },
      "source": [
        "**Calculamos a estimativa `cltv_p` para cada cliente**\n",
        "\n",
        "> Vamos torná-lo mais legível marcando-o entre 1-100."
      ]
    },
    {
      "cell_type": "code",
      "metadata": {
        "id": "UUCD-08Lkrz1"
      },
      "source": [
        "scaler = MinMaxScaler (feature_range = (1, 100))\n",
        "scaler.fit (rfm [[\"cltv_p\"]])\n",
        "rfm [\"cltv_p\"] = scaler.transform (rfm [[\"cltv_p\"]])"
      ],
      "execution_count": null,
      "outputs": []
    },
    {
      "cell_type": "markdown",
      "metadata": {
        "id": "XtVR2EgVMadD"
      },
      "source": [
        "**Estamos segmentando os valores `cltv_p` de 1-100**"
      ]
    },
    {
      "cell_type": "code",
      "metadata": {
        "id": "PqoFnhv2krrn"
      },
      "source": [
        "rfm[\"cltv_p_segment\"] = pd.qcut(rfm[\"cltv_p\"], 3, labels=[\"C\", \"B\", \"A\"])"
      ],
      "execution_count": null,
      "outputs": []
    },
    {
      "cell_type": "markdown",
      "metadata": {
        "id": "u-Vj2rCqNbJh"
      },
      "source": [
        "**Também criamos os segmentos de previsão CLTV de 6 meses**"
      ]
    },
    {
      "cell_type": "code",
      "metadata": {
        "colab": {
          "base_uri": "https://localhost:8080/",
          "height": 275
        },
        "id": "-RDyytB5kro-",
        "outputId": "417ae656-3183-4ed8-ecee-72155f813cb9"
      },
      "source": [
        "rfm.head()"
      ],
      "execution_count": null,
      "outputs": [
        {
          "output_type": "execute_result",
          "data": {
            "text/html": [
              "<div>\n",
              "<style scoped>\n",
              "    .dataframe tbody tr th:only-of-type {\n",
              "        vertical-align: middle;\n",
              "    }\n",
              "\n",
              "    .dataframe tbody tr th {\n",
              "        vertical-align: top;\n",
              "    }\n",
              "\n",
              "    .dataframe thead th {\n",
              "        text-align: right;\n",
              "    }\n",
              "</style>\n",
              "<table border=\"1\" class=\"dataframe\">\n",
              "  <thead>\n",
              "    <tr style=\"text-align: right;\">\n",
              "      <th></th>\n",
              "      <th>recency_cltv_p</th>\n",
              "      <th>T</th>\n",
              "      <th>frequency</th>\n",
              "      <th>monetary_avg</th>\n",
              "      <th>recency_weekly_cltv_p</th>\n",
              "      <th>T_weekly</th>\n",
              "      <th>exp_sales_1_month</th>\n",
              "      <th>exp_sales_3_month</th>\n",
              "      <th>expected_average_profit</th>\n",
              "      <th>cltv_p</th>\n",
              "      <th>cltv_p_segment</th>\n",
              "    </tr>\n",
              "    <tr>\n",
              "      <th>Customer ID</th>\n",
              "      <th></th>\n",
              "      <th></th>\n",
              "      <th></th>\n",
              "      <th></th>\n",
              "      <th></th>\n",
              "      <th></th>\n",
              "      <th></th>\n",
              "      <th></th>\n",
              "      <th></th>\n",
              "      <th></th>\n",
              "      <th></th>\n",
              "    </tr>\n",
              "  </thead>\n",
              "  <tbody>\n",
              "    <tr>\n",
              "      <th>12346.0</th>\n",
              "      <td>196</td>\n",
              "      <td>726</td>\n",
              "      <td>11</td>\n",
              "      <td>33.896364</td>\n",
              "      <td>28.000000</td>\n",
              "      <td>103.714286</td>\n",
              "      <td>0.000002</td>\n",
              "      <td>0.000007</td>\n",
              "      <td>34.785452</td>\n",
              "      <td>1.000164</td>\n",
              "      <td>C</td>\n",
              "    </tr>\n",
              "    <tr>\n",
              "      <th>12347.0</th>\n",
              "      <td>37</td>\n",
              "      <td>405</td>\n",
              "      <td>2</td>\n",
              "      <td>661.660000</td>\n",
              "      <td>5.285714</td>\n",
              "      <td>57.857143</td>\n",
              "      <td>0.001612</td>\n",
              "      <td>0.004602</td>\n",
              "      <td>726.753847</td>\n",
              "      <td>3.204974</td>\n",
              "      <td>B</td>\n",
              "    </tr>\n",
              "    <tr>\n",
              "      <th>12349.0</th>\n",
              "      <td>181</td>\n",
              "      <td>590</td>\n",
              "      <td>3</td>\n",
              "      <td>765.006667</td>\n",
              "      <td>25.857143</td>\n",
              "      <td>84.285714</td>\n",
              "      <td>0.006864</td>\n",
              "      <td>0.019838</td>\n",
              "      <td>813.429999</td>\n",
              "      <td>11.827884</td>\n",
              "      <td>A</td>\n",
              "    </tr>\n",
              "    <tr>\n",
              "      <th>12352.0</th>\n",
              "      <td>16</td>\n",
              "      <td>393</td>\n",
              "      <td>2</td>\n",
              "      <td>171.900000</td>\n",
              "      <td>2.285714</td>\n",
              "      <td>56.142857</td>\n",
              "      <td>0.000665</td>\n",
              "      <td>0.001896</td>\n",
              "      <td>190.322277</td>\n",
              "      <td>1.237481</td>\n",
              "      <td>C</td>\n",
              "    </tr>\n",
              "    <tr>\n",
              "      <th>12356.0</th>\n",
              "      <td>44</td>\n",
              "      <td>425</td>\n",
              "      <td>3</td>\n",
              "      <td>1187.416667</td>\n",
              "      <td>6.285714</td>\n",
              "      <td>60.714286</td>\n",
              "      <td>0.000567</td>\n",
              "      <td>0.001618</td>\n",
              "      <td>1261.849455</td>\n",
              "      <td>2.346709</td>\n",
              "      <td>B</td>\n",
              "    </tr>\n",
              "  </tbody>\n",
              "</table>\n",
              "</div>"
            ],
            "text/plain": [
              "             recency_cltv_p    T  ...     cltv_p  cltv_p_segment\n",
              "Customer ID                       ...                           \n",
              "12346.0                 196  726  ...   1.000164               C\n",
              "12347.0                  37  405  ...   3.204974               B\n",
              "12349.0                 181  590  ...  11.827884               A\n",
              "12352.0                  16  393  ...   1.237481               C\n",
              "12356.0                  44  425  ...   2.346709               B\n",
              "\n",
              "[5 rows x 11 columns]"
            ]
          },
          "metadata": {
            "tags": []
          },
          "execution_count": 75
        }
      ]
    },
    {
      "cell_type": "markdown",
      "metadata": {
        "id": "lMycpmmyk5dZ"
      },
      "source": [
        "> Para tomar decisões detalhadas sobre nossos clientes, podemos criar as saídas de `Análise RFM`, `CLTV Calculate` e `CLTV Prediction` como um único `crm_final` e fazer os comentários e decisões de ação necessários."
      ]
    },
    {
      "cell_type": "markdown",
      "metadata": {
        "id": "imLTmSSIOVbc"
      },
      "source": [
        "**Combinamos os resultados para tomar decisões detalhadas sobre nossos clientes**"
      ]
    },
    {
      "cell_type": "code",
      "metadata": {
        "id": "H_j6EnfakwP3"
      },
      "source": [
        "crm_final = rfm_cltv.merge(rfm, on=\"Customer ID\", how=\"left\")"
      ],
      "execution_count": null,
      "outputs": []
    },
    {
      "cell_type": "code",
      "metadata": {
        "colab": {
          "base_uri": "https://localhost:8080/",
          "height": 432
        },
        "id": "Yy2sVPrJkwNh",
        "outputId": "725fe971-fd4e-4981-9048-bcdd9ede1584"
      },
      "source": [
        "crm_final.head(10)"
      ],
      "execution_count": null,
      "outputs": [
        {
          "output_type": "execute_result",
          "data": {
            "text/html": [
              "<div>\n",
              "<style scoped>\n",
              "    .dataframe tbody tr th:only-of-type {\n",
              "        vertical-align: middle;\n",
              "    }\n",
              "\n",
              "    .dataframe tbody tr th {\n",
              "        vertical-align: top;\n",
              "    }\n",
              "\n",
              "    .dataframe thead th {\n",
              "        text-align: right;\n",
              "    }\n",
              "</style>\n",
              "<table border=\"1\" class=\"dataframe\">\n",
              "  <thead>\n",
              "    <tr style=\"text-align: right;\">\n",
              "      <th></th>\n",
              "      <th>recency</th>\n",
              "      <th>frequency_x</th>\n",
              "      <th>monetary</th>\n",
              "      <th>rfm_segment</th>\n",
              "      <th>cltv_c</th>\n",
              "      <th>cltv_c_segment</th>\n",
              "      <th>recency_cltv_p</th>\n",
              "      <th>T</th>\n",
              "      <th>frequency_y</th>\n",
              "      <th>monetary_avg</th>\n",
              "      <th>recency_weekly_cltv_p</th>\n",
              "      <th>T_weekly</th>\n",
              "      <th>exp_sales_1_month</th>\n",
              "      <th>exp_sales_3_month</th>\n",
              "      <th>expected_average_profit</th>\n",
              "      <th>cltv_p</th>\n",
              "      <th>cltv_p_segment</th>\n",
              "    </tr>\n",
              "    <tr>\n",
              "      <th>Customer ID</th>\n",
              "      <th></th>\n",
              "      <th></th>\n",
              "      <th></th>\n",
              "      <th></th>\n",
              "      <th></th>\n",
              "      <th></th>\n",
              "      <th></th>\n",
              "      <th></th>\n",
              "      <th></th>\n",
              "      <th></th>\n",
              "      <th></th>\n",
              "      <th></th>\n",
              "      <th></th>\n",
              "      <th></th>\n",
              "      <th></th>\n",
              "      <th></th>\n",
              "      <th></th>\n",
              "    </tr>\n",
              "  </thead>\n",
              "  <tbody>\n",
              "    <tr>\n",
              "      <th>12346.0</th>\n",
              "      <td>530</td>\n",
              "      <td>11</td>\n",
              "      <td>372.86</td>\n",
              "      <td>cant_loose</td>\n",
              "      <td>1.000140</td>\n",
              "      <td>C</td>\n",
              "      <td>196.0</td>\n",
              "      <td>726.0</td>\n",
              "      <td>11.0</td>\n",
              "      <td>33.896364</td>\n",
              "      <td>28.000000</td>\n",
              "      <td>103.714286</td>\n",
              "      <td>0.000002</td>\n",
              "      <td>0.000007</td>\n",
              "      <td>34.785452</td>\n",
              "      <td>1.000164</td>\n",
              "      <td>C</td>\n",
              "    </tr>\n",
              "    <tr>\n",
              "      <th>12347.0</th>\n",
              "      <td>368</td>\n",
              "      <td>2</td>\n",
              "      <td>1323.32</td>\n",
              "      <td>potential_loyalists</td>\n",
              "      <td>1.001760</td>\n",
              "      <td>A</td>\n",
              "      <td>37.0</td>\n",
              "      <td>405.0</td>\n",
              "      <td>2.0</td>\n",
              "      <td>661.660000</td>\n",
              "      <td>5.285714</td>\n",
              "      <td>57.857143</td>\n",
              "      <td>0.001612</td>\n",
              "      <td>0.004602</td>\n",
              "      <td>726.753847</td>\n",
              "      <td>3.204974</td>\n",
              "      <td>B</td>\n",
              "    </tr>\n",
              "    <tr>\n",
              "      <th>12348.0</th>\n",
              "      <td>439</td>\n",
              "      <td>1</td>\n",
              "      <td>222.16</td>\n",
              "      <td>hibernating</td>\n",
              "      <td>1.000050</td>\n",
              "      <td>C</td>\n",
              "      <td>NaN</td>\n",
              "      <td>NaN</td>\n",
              "      <td>NaN</td>\n",
              "      <td>NaN</td>\n",
              "      <td>NaN</td>\n",
              "      <td>NaN</td>\n",
              "      <td>NaN</td>\n",
              "      <td>NaN</td>\n",
              "      <td>NaN</td>\n",
              "      <td>NaN</td>\n",
              "      <td>NaN</td>\n",
              "    </tr>\n",
              "    <tr>\n",
              "      <th>12349.0</th>\n",
              "      <td>408</td>\n",
              "      <td>3</td>\n",
              "      <td>2295.02</td>\n",
              "      <td>need_attention</td>\n",
              "      <td>1.005294</td>\n",
              "      <td>A</td>\n",
              "      <td>181.0</td>\n",
              "      <td>590.0</td>\n",
              "      <td>3.0</td>\n",
              "      <td>765.006667</td>\n",
              "      <td>25.857143</td>\n",
              "      <td>84.285714</td>\n",
              "      <td>0.006864</td>\n",
              "      <td>0.019838</td>\n",
              "      <td>813.429999</td>\n",
              "      <td>11.827884</td>\n",
              "      <td>A</td>\n",
              "    </tr>\n",
              "    <tr>\n",
              "      <th>12351.0</th>\n",
              "      <td>376</td>\n",
              "      <td>1</td>\n",
              "      <td>300.93</td>\n",
              "      <td>new_customers</td>\n",
              "      <td>1.000091</td>\n",
              "      <td>C</td>\n",
              "      <td>NaN</td>\n",
              "      <td>NaN</td>\n",
              "      <td>NaN</td>\n",
              "      <td>NaN</td>\n",
              "      <td>NaN</td>\n",
              "      <td>NaN</td>\n",
              "      <td>NaN</td>\n",
              "      <td>NaN</td>\n",
              "      <td>NaN</td>\n",
              "      <td>NaN</td>\n",
              "      <td>NaN</td>\n",
              "    </tr>\n",
              "    <tr>\n",
              "      <th>12352.0</th>\n",
              "      <td>376</td>\n",
              "      <td>2</td>\n",
              "      <td>343.80</td>\n",
              "      <td>potential_loyalists</td>\n",
              "      <td>1.000119</td>\n",
              "      <td>C</td>\n",
              "      <td>16.0</td>\n",
              "      <td>393.0</td>\n",
              "      <td>2.0</td>\n",
              "      <td>171.900000</td>\n",
              "      <td>2.285714</td>\n",
              "      <td>56.142857</td>\n",
              "      <td>0.000665</td>\n",
              "      <td>0.001896</td>\n",
              "      <td>190.322277</td>\n",
              "      <td>1.237481</td>\n",
              "      <td>C</td>\n",
              "    </tr>\n",
              "    <tr>\n",
              "      <th>12353.0</th>\n",
              "      <td>409</td>\n",
              "      <td>1</td>\n",
              "      <td>317.76</td>\n",
              "      <td>about_to_sleep</td>\n",
              "      <td>1.000101</td>\n",
              "      <td>C</td>\n",
              "      <td>NaN</td>\n",
              "      <td>NaN</td>\n",
              "      <td>NaN</td>\n",
              "      <td>NaN</td>\n",
              "      <td>NaN</td>\n",
              "      <td>NaN</td>\n",
              "      <td>NaN</td>\n",
              "      <td>NaN</td>\n",
              "      <td>NaN</td>\n",
              "      <td>NaN</td>\n",
              "      <td>NaN</td>\n",
              "    </tr>\n",
              "    <tr>\n",
              "      <th>12355.0</th>\n",
              "      <td>568</td>\n",
              "      <td>1</td>\n",
              "      <td>488.21</td>\n",
              "      <td>hibernating</td>\n",
              "      <td>1.000240</td>\n",
              "      <td>B</td>\n",
              "      <td>NaN</td>\n",
              "      <td>NaN</td>\n",
              "      <td>NaN</td>\n",
              "      <td>NaN</td>\n",
              "      <td>NaN</td>\n",
              "      <td>NaN</td>\n",
              "      <td>NaN</td>\n",
              "      <td>NaN</td>\n",
              "      <td>NaN</td>\n",
              "      <td>NaN</td>\n",
              "      <td>NaN</td>\n",
              "    </tr>\n",
              "    <tr>\n",
              "      <th>12356.0</th>\n",
              "      <td>381</td>\n",
              "      <td>3</td>\n",
              "      <td>3562.25</td>\n",
              "      <td>potential_loyalists</td>\n",
              "      <td>1.012754</td>\n",
              "      <td>A</td>\n",
              "      <td>44.0</td>\n",
              "      <td>425.0</td>\n",
              "      <td>3.0</td>\n",
              "      <td>1187.416667</td>\n",
              "      <td>6.285714</td>\n",
              "      <td>60.714286</td>\n",
              "      <td>0.000567</td>\n",
              "      <td>0.001618</td>\n",
              "      <td>1261.849455</td>\n",
              "      <td>2.346709</td>\n",
              "      <td>B</td>\n",
              "    </tr>\n",
              "    <tr>\n",
              "      <th>12357.0</th>\n",
              "      <td>389</td>\n",
              "      <td>2</td>\n",
              "      <td>11266.93</td>\n",
              "      <td>potential_loyalists</td>\n",
              "      <td>1.127583</td>\n",
              "      <td>A</td>\n",
              "      <td>0.0</td>\n",
              "      <td>389.0</td>\n",
              "      <td>2.0</td>\n",
              "      <td>5633.465000</td>\n",
              "      <td>0.000000</td>\n",
              "      <td>55.571429</td>\n",
              "      <td>0.000253</td>\n",
              "      <td>0.000720</td>\n",
              "      <td>6172.345889</td>\n",
              "      <td>3.923340</td>\n",
              "      <td>B</td>\n",
              "    </tr>\n",
              "  </tbody>\n",
              "</table>\n",
              "</div>"
            ],
            "text/plain": [
              "             recency  frequency_x  ...     cltv_p cltv_p_segment\n",
              "Customer ID                        ...                          \n",
              "12346.0          530           11  ...   1.000164              C\n",
              "12347.0          368            2  ...   3.204974              B\n",
              "12348.0          439            1  ...        NaN            NaN\n",
              "12349.0          408            3  ...  11.827884              A\n",
              "12351.0          376            1  ...        NaN            NaN\n",
              "12352.0          376            2  ...   1.237481              C\n",
              "12353.0          409            1  ...        NaN            NaN\n",
              "12355.0          568            1  ...        NaN            NaN\n",
              "12356.0          381            3  ...   2.346709              B\n",
              "12357.0          389            2  ...   3.923340              B\n",
              "\n",
              "[10 rows x 17 columns]"
            ]
          },
          "metadata": {
            "tags": []
          },
          "execution_count": 77
        }
      ]
    },
    {
      "cell_type": "markdown",
      "metadata": {
        "id": "Cp_QP3SWlAAY"
      },
      "source": [
        "> Os valores em branco na impressão referem-se aos nossos clientes que fizeram 1 compra até agora. Lembre-se de que os excluímos do estudo na conta do `CLTV Prediction`. Calculamos o valor da vida útil do cliente potencial de clientes que fizeram pelo menos mais de uma compra.\n",
        "\n",
        "> Concluímos os tópicos que trataremos em termos de estudos de CRM. Então, o que fizemos em resumo?\n",
        "\n",
        "1- Ao considerar o comportamento de compra de nossos clientes existentes, fomos capazes de segmentar nossos clientes e tomar decisões especiais para eles com a análise RFM.(`RFM_Segmentation`)\n",
        "\n",
        "2- Então descobrimos o seu valor na empresa, comparando o comportamento de todos os clientes da nossa empresa e considerando os hábitos de compra de um único cliente. (`CLTV_Calculate`)\n",
        "\n",
        "3- Por fim, estimamos o valor de nossos clientes nos demais clientes de nossa empresa, utilizando os modelos BGNBD e Gamma-Gamma, levando em consideração o comportamento de compra de nossos clientes de longa data e de novos clientes. (`CLTV_Prediction`)\n",
        "\n",
        "Ao final de todo esse trabalho, avaliei a saída `CRM_final` que criamos para todas as variáveis.\n",
        "\n",
        "> Avaliação de 3 clientes diferentes, calculados para estar no segmento A de acordo com o `CLTV Calculate`. estão em diferentes segmentos em comparação com o `CLTV Prediction`. Nos comentários abaixo, o segmento A refere-se aos melhores clientes, o segmento C refere-se aos piores clientes.\n",
        "\n",
        "Enquanto se avalia que o resultado calculado do cliente na 1ª linha ficará no segmento A, observa-se que o resultado da Predição está no segmento B. Um dos motivos para isso é o valor `recency`, ou seja, a média `monetary` deixada pelo cliente como resultado de 17 compras feitas há 10 dias, é menor que as outras 2 pessoas.\n",
        "\n",
        "O cliente da 2ª linha é observado no segmento C, embora o valor médio estimado da despesa seja superior ao cliente da outra linha 1. A razão para isso é que com o valor de `frequency` sendo 5, a última compra foi há 219 dias e a `recency_cltv_p`, ou seja, a diferença em dias entre a última compra e a primeira compra foi calculada em 153 dias. Por outras palavras, enquanto aguardo no máximo 153 dias entre a primeira compra e, o cliente não o faz há 219 dias. Ele fez compras pela última vez há 219 dias. Agora posso comentar que o cliente me deixou. Por este motivo, o resultado da Predição está no segmento C.\n",
        "\n",
        "O cliente na linha 3 é calculado no segmento A e o segmento de resultado de previsão é calculado como A. Embora o valor de `frequency` desse cliente seja baixo, o resultado da Predição é estimado como segmento A devido ao valor `monetray_avg`, ou seja, porque ele deixará muito dinheiro com suas compras.\n",
        "\n",
        "![img](https://raw.githubusercontent.com/amadords/images/main/analise_clientes.png)"
      ]
    },
    {
      "cell_type": "markdown",
      "metadata": {
        "id": "SwZuBpTcJoBb"
      },
      "source": [
        "# Obrigado!\n",
        "\n",
        "Obrigado por ter disponibilizado um pouco do seu tempo e atenção aqui. Espero que, de alguma forma, tenha sido útil para seu crescimento. Se houver qualquer dúvida ou sugestão, não hesite em entrar em contato no [LinkedIn](https://www.linkedin.com/in/daniel-sousa-amador) e verificar meus outros projetos no [GitHub](https://github.com/amadords).\n",
        "\n",
        "\n",
        "[![LinkedIn](https://img.shields.io/badge/LinkedIn-DanielSousaAmador-cyan.svg)](https://www.linkedin.com/in/daniel-sousa-amador)\n",
        "[![GitHub](https://img.shields.io/badge/GitHub-amadords-darkblue.svg)](https://github.com/amadords)\n",
        "[![Medium](https://img.shields.io/badge/Medium-DanielSousaAmador-white.svg)](https://daniel-s-amador.medium.com/)\n",
        "\n",
        "\n",
        "\n",
        "<center><img width=\"90%\" src=\"https://raw.githubusercontent.com/danielamador12/Portfolio/master/github.png\"></center>"
      ]
    }
  ]
}