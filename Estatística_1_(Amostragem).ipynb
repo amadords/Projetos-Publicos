{
  "nbformat": 4,
  "nbformat_minor": 0,
  "metadata": {
    "colab": {
      "name": "Estatística 1 (Amostragem)",
      "provenance": [],
      "collapsed_sections": [],
      "authorship_tag": "ABX9TyNWVOvPJG04E13aeVX3G974",
      "include_colab_link": true
    },
    "kernelspec": {
      "name": "python3",
      "display_name": "Python 3"
    }
  },
  "cells": [
    {
      "cell_type": "markdown",
      "metadata": {
        "id": "view-in-github",
        "colab_type": "text"
      },
      "source": [
        "<a href=\"https://colab.research.google.com/github/amadords/Projetos-Publicos/blob/master/Estat%C3%ADstica_1_(Amostragem).ipynb\" target=\"_parent\"><img src=\"https://colab.research.google.com/assets/colab-badge.svg\" alt=\"Open In Colab\"/></a>"
      ]
    },
    {
      "cell_type": "markdown",
      "metadata": {
        "id": "9tI505eWCcpp"
      },
      "source": [
        "# Amostragem\n",
        "---\n",
        "\n",
        "\n",
        "[![LinkedIn](https://img.shields.io/badge/LinkedIn-DanielSousaAmador-cyan.svg)](https://www.linkedin.com/in/daniel-sousa-amador)\n",
        "[![GitHub](https://img.shields.io/badge/GitHub-amadords-darkblue.svg)](https://github.com/amadords)\n",
        "[![Medium](https://img.shields.io/badge/Medium-DanielSousaAmador-white.svg)](https://daniel-s-amador.medium.com/)\n",
        "\n",
        "![img](https://image.freepik.com/fotos-gratis/uma-mulher-avalia-a-poluicao-do-solo-com-toxinas_151013-13960.jpg)\n",
        "\n",
        "As grandes áreas da estatística são:\n",
        "1. Estatística descritiva\n",
        "2. Probabilidade\n",
        "3. Inferência estatística.\n",
        "\n",
        "\n",
        "A amostragem é composta de técnicas para selecionar dentro de uma determinada população, um subconjunto que representa bem as características da população e assim, nos permitir chegar a conclusões que reflitam a verdade do grande grupo (população)\n",
        "\n",
        "Isso é útil, uma vez que trabalhar dentro da população pode ser muito custoso computacionalmente, financeiramente, ou até mesmo impossível de ser feito.\n",
        "\n",
        "A amostragem é bastante utilizada em pesquisas e estudos e faz parte da workflow de um Cientista de Dados e de um Estatístico.\n",
        "\n",
        "Ao falar de amostragem, temos basicamente os seguintes conceitos:\n",
        "- **População (N):** Coleção de todos os envolvidos. Exemplos pode ser as pessoas de uma cidade, estado ou país, ou o sangue presente no corpo de um determinado indivíduo.\n",
        "- **Amostra(n):** Subconjunto da população alvo. Exemplo intuitivo é a amostra de sangue retirar para que seja feito um exame.\n",
        "- **Variação:** Amostras diferentes podem apresentar resultados diferentes.\n",
        "- **Margem de erro:** É a estimativa do erro amostral (aleatório em uma pesquisa), que por sua vez é o quanto a amostra pode variar das características da população. \n",
        "  - Exemplo, se em uma pesquisa, 70% da amostra responde que gosta daquele produto. Se a margem de erro é de 5%, significa que, na verdade, entre 65 a 75% realmente gostaram daquele produto.\n",
        "- **Nível de Confiança:** Relacionado à margem de erro, nos dá a probabilidade de, sendo uma pesquisa aplicada em outros grupos de pessoas dentro do mesmo perfil, ter o mesmo resultado. O comum é utilizar a margem de 95%. Isso significa que a cada 100 vezes que o teste é aplicado, 95 vezes daria o mesmo resultado dentro da margem de erro.\n",
        "\n",
        "As principais amostras utilizadas são as seguintes:\n",
        "\n",
        "1. Aleatória Simples\n",
        "2. Estratificada \n",
        "3. Sistemática\n"
      ]
    },
    {
      "cell_type": "markdown",
      "metadata": {
        "id": "Z9Q9D63GNF02"
      },
      "source": [
        "# 1. Amostragem Simples\n",
        "\n",
        "- Aleatoriamente, retira-se de dentro da população um número X de elementos.\n",
        "- É importante que dentro da população alvo, no processo de amostragem, todos tenham a mesma chance de serem selecionados para fazer parte da amostra.\n",
        "\n",
        "- Com reposição/ Sem reposição:\n",
        " - Com reposição, quando uma amostra é retirada, ela retorna para o *bag de seleção* e volta a ter as mesmas chances de serem retiradas que as demais.\n",
        "  - Sem reposição, quando uma amostra é retirada, ela não retorna ao *bag*, logo não pode ser selecionada novamente, aumentando as chances das demais serem selecionadas.\n",
        "\n",
        "Em um teste *antidoping*, por exemplo, é utilizada a amostragem aleatória simples com reposição, uma vez que, se o atleta fez o teste e é sem reposição, ele estaria livre para se dopar, uma vez que não poderia ser selecionado para fazer o teste.\n"
      ]
    },
    {
      "cell_type": "markdown",
      "metadata": {
        "id": "pRZUww6zOX3o"
      },
      "source": [
        "**Importando as bibliotecas necessárias**"
      ]
    },
    {
      "cell_type": "code",
      "metadata": {
        "id": "IXsOfxm0MNp1"
      },
      "source": [
        "import pandas as pd\n",
        "import numpy as np"
      ],
      "execution_count": null,
      "outputs": []
    },
    {
      "cell_type": "markdown",
      "metadata": {
        "id": "HxTtgMxqOa8I"
      },
      "source": [
        "**Carregando a base de dados**"
      ]
    },
    {
      "cell_type": "code",
      "metadata": {
        "id": "F_Gok4GWNM6r",
        "outputId": "248c3ebf-db25-4421-c4b9-ae32c1561f2c",
        "colab": {
          "base_uri": "https://localhost:8080/",
          "height": 424
        }
      },
      "source": [
        "base = pd.read_csv('iris.csv')\n",
        "base"
      ],
      "execution_count": null,
      "outputs": [
        {
          "output_type": "execute_result",
          "data": {
            "text/html": [
              "<div>\n",
              "<style scoped>\n",
              "    .dataframe tbody tr th:only-of-type {\n",
              "        vertical-align: middle;\n",
              "    }\n",
              "\n",
              "    .dataframe tbody tr th {\n",
              "        vertical-align: top;\n",
              "    }\n",
              "\n",
              "    .dataframe thead th {\n",
              "        text-align: right;\n",
              "    }\n",
              "</style>\n",
              "<table border=\"1\" class=\"dataframe\">\n",
              "  <thead>\n",
              "    <tr style=\"text-align: right;\">\n",
              "      <th></th>\n",
              "      <th>sepallength</th>\n",
              "      <th>sepalwidth</th>\n",
              "      <th>petallength</th>\n",
              "      <th>petalwidth</th>\n",
              "      <th>class</th>\n",
              "    </tr>\n",
              "  </thead>\n",
              "  <tbody>\n",
              "    <tr>\n",
              "      <th>0</th>\n",
              "      <td>5.1</td>\n",
              "      <td>3.5</td>\n",
              "      <td>1.4</td>\n",
              "      <td>0.2</td>\n",
              "      <td>Iris-setosa</td>\n",
              "    </tr>\n",
              "    <tr>\n",
              "      <th>1</th>\n",
              "      <td>4.9</td>\n",
              "      <td>3.0</td>\n",
              "      <td>1.4</td>\n",
              "      <td>0.2</td>\n",
              "      <td>Iris-setosa</td>\n",
              "    </tr>\n",
              "    <tr>\n",
              "      <th>2</th>\n",
              "      <td>4.7</td>\n",
              "      <td>3.2</td>\n",
              "      <td>1.3</td>\n",
              "      <td>0.2</td>\n",
              "      <td>Iris-setosa</td>\n",
              "    </tr>\n",
              "    <tr>\n",
              "      <th>3</th>\n",
              "      <td>4.6</td>\n",
              "      <td>3.1</td>\n",
              "      <td>1.5</td>\n",
              "      <td>0.2</td>\n",
              "      <td>Iris-setosa</td>\n",
              "    </tr>\n",
              "    <tr>\n",
              "      <th>4</th>\n",
              "      <td>5.0</td>\n",
              "      <td>3.6</td>\n",
              "      <td>1.4</td>\n",
              "      <td>0.2</td>\n",
              "      <td>Iris-setosa</td>\n",
              "    </tr>\n",
              "    <tr>\n",
              "      <th>...</th>\n",
              "      <td>...</td>\n",
              "      <td>...</td>\n",
              "      <td>...</td>\n",
              "      <td>...</td>\n",
              "      <td>...</td>\n",
              "    </tr>\n",
              "    <tr>\n",
              "      <th>145</th>\n",
              "      <td>6.7</td>\n",
              "      <td>3.0</td>\n",
              "      <td>5.2</td>\n",
              "      <td>2.3</td>\n",
              "      <td>Iris-virginica</td>\n",
              "    </tr>\n",
              "    <tr>\n",
              "      <th>146</th>\n",
              "      <td>6.3</td>\n",
              "      <td>2.5</td>\n",
              "      <td>5.0</td>\n",
              "      <td>1.9</td>\n",
              "      <td>Iris-virginica</td>\n",
              "    </tr>\n",
              "    <tr>\n",
              "      <th>147</th>\n",
              "      <td>6.5</td>\n",
              "      <td>3.0</td>\n",
              "      <td>5.2</td>\n",
              "      <td>2.0</td>\n",
              "      <td>Iris-virginica</td>\n",
              "    </tr>\n",
              "    <tr>\n",
              "      <th>148</th>\n",
              "      <td>6.2</td>\n",
              "      <td>3.4</td>\n",
              "      <td>5.4</td>\n",
              "      <td>2.3</td>\n",
              "      <td>Iris-virginica</td>\n",
              "    </tr>\n",
              "    <tr>\n",
              "      <th>149</th>\n",
              "      <td>5.9</td>\n",
              "      <td>3.0</td>\n",
              "      <td>5.1</td>\n",
              "      <td>1.8</td>\n",
              "      <td>Iris-virginica</td>\n",
              "    </tr>\n",
              "  </tbody>\n",
              "</table>\n",
              "<p>150 rows × 5 columns</p>\n",
              "</div>"
            ],
            "text/plain": [
              "     sepallength  sepalwidth  petallength  petalwidth           class\n",
              "0            5.1         3.5          1.4         0.2     Iris-setosa\n",
              "1            4.9         3.0          1.4         0.2     Iris-setosa\n",
              "2            4.7         3.2          1.3         0.2     Iris-setosa\n",
              "3            4.6         3.1          1.5         0.2     Iris-setosa\n",
              "4            5.0         3.6          1.4         0.2     Iris-setosa\n",
              "..           ...         ...          ...         ...             ...\n",
              "145          6.7         3.0          5.2         2.3  Iris-virginica\n",
              "146          6.3         2.5          5.0         1.9  Iris-virginica\n",
              "147          6.5         3.0          5.2         2.0  Iris-virginica\n",
              "148          6.2         3.4          5.4         2.3  Iris-virginica\n",
              "149          5.9         3.0          5.1         1.8  Iris-virginica\n",
              "\n",
              "[150 rows x 5 columns]"
            ]
          },
          "metadata": {
            "tags": []
          },
          "execution_count": 2
        }
      ]
    },
    {
      "cell_type": "markdown",
      "metadata": {
        "id": "SwgEnKRUOfCG"
      },
      "source": [
        "**Tamanho da base de dados**\n",
        "\n",
        "- 150 linhas \n",
        "- 5 colunas"
      ]
    },
    {
      "cell_type": "code",
      "metadata": {
        "id": "u2mXrm31Ngz-",
        "outputId": "1977372a-04f0-4c69-afba-d54f4907ca46",
        "colab": {
          "base_uri": "https://localhost:8080/",
          "height": 35
        }
      },
      "source": [
        "base.shape"
      ],
      "execution_count": null,
      "outputs": [
        {
          "output_type": "execute_result",
          "data": {
            "text/plain": [
              "(150, 5)"
            ]
          },
          "metadata": {
            "tags": []
          },
          "execution_count": 3
        }
      ]
    },
    {
      "cell_type": "markdown",
      "metadata": {
        "id": "27XIzlD1PE-u"
      },
      "source": [
        "**Fazendo a amostragem**\n",
        "\n",
        "- `np.random.seed(12)`: manterá sempre o mesmo resultado em execução.\n",
        "\n",
        "- `a = [0, 1]`: são os valores que serão usados para separar os dados.\n",
        "\n",
        "- `size = 150`: é o tamanho da base de dados.\n",
        "\n",
        "- `replace = True`: nos dá uma amostragem com reposição.\n",
        "\n",
        "- `p = [0.7, 0.3])`: divida a base em 70 zeros e 30% uns.\n"
      ]
    },
    {
      "cell_type": "code",
      "metadata": {
        "id": "F_M3Xtp-NjIB",
        "outputId": "78b9b662-e5dc-4266-849e-16a65255beed",
        "colab": {
          "base_uri": "https://localhost:8080/",
          "height": 146
        }
      },
      "source": [
        "np.random.seed(12)\n",
        "# 150 amostras, de 0 a 1, com reposição, probabilidades equivalentes\n",
        "amostra = np.random.choice(a = [0, 1], size = 150, replace = True,\n",
        "                           p = [0.7, 0.3])\n",
        "amostra"
      ],
      "execution_count": null,
      "outputs": [
        {
          "output_type": "execute_result",
          "data": {
            "text/plain": [
              "array([0, 1, 0, 0, 0, 1, 1, 0, 1, 0, 0, 0, 1, 1, 0, 0, 0, 0, 1, 0, 1, 0,\n",
              "       0, 0, 0, 0, 0, 1, 0, 1, 1, 0, 0, 1, 0, 1, 1, 1, 0, 0, 0, 1, 0, 1,\n",
              "       0, 0, 0, 0, 0, 0, 0, 1, 0, 0, 0, 0, 0, 0, 0, 0, 0, 1, 0, 0, 0, 0,\n",
              "       0, 0, 1, 0, 0, 0, 0, 1, 0, 1, 0, 0, 0, 0, 0, 1, 1, 0, 0, 1, 0, 0,\n",
              "       0, 0, 1, 0, 1, 1, 0, 0, 1, 1, 0, 0, 0, 0, 0, 0, 0, 0, 1, 1, 0, 0,\n",
              "       0, 0, 1, 0, 0, 0, 0, 0, 1, 0, 0, 0, 1, 0, 0, 1, 0, 0, 0, 0, 0, 0,\n",
              "       0, 0, 0, 0, 0, 0, 0, 0, 1, 1, 1, 0, 0, 0, 0, 0, 0, 1])"
            ]
          },
          "metadata": {
            "tags": []
          },
          "execution_count": 4
        }
      ]
    },
    {
      "cell_type": "markdown",
      "metadata": {
        "id": "TrAnA_TIRTS-"
      },
      "source": [
        "Veja que a amostra terá ao todo, 150 dados."
      ]
    },
    {
      "cell_type": "code",
      "metadata": {
        "id": "j4gbQQEmN4nM",
        "outputId": "8b921487-8815-4a22-93f2-9b3b1f9cb0af",
        "colab": {
          "base_uri": "https://localhost:8080/",
          "height": 35
        }
      },
      "source": [
        "len(amostra)"
      ],
      "execution_count": null,
      "outputs": [
        {
          "output_type": "execute_result",
          "data": {
            "text/plain": [
              "150"
            ]
          },
          "metadata": {
            "tags": []
          },
          "execution_count": 5
        }
      ]
    },
    {
      "cell_type": "markdown",
      "metadata": {
        "id": "nUVH01HoRUSn"
      },
      "source": [
        "A amostra 1 terá 40 dados."
      ]
    },
    {
      "cell_type": "code",
      "metadata": {
        "id": "XTJetcRrN7lI",
        "outputId": "c452b3eb-e3fe-4c72-c408-1c1c00c80584",
        "colab": {
          "base_uri": "https://localhost:8080/",
          "height": 35
        }
      },
      "source": [
        "len(amostra[amostra == 1])"
      ],
      "execution_count": null,
      "outputs": [
        {
          "output_type": "execute_result",
          "data": {
            "text/plain": [
              "40"
            ]
          },
          "metadata": {
            "tags": []
          },
          "execution_count": 6
        }
      ]
    },
    {
      "cell_type": "markdown",
      "metadata": {
        "id": "y-soO2IARYdX"
      },
      "source": [
        "A amostra 0 terá 110 dados."
      ]
    },
    {
      "cell_type": "code",
      "metadata": {
        "id": "B-dYcLLNN-OP",
        "outputId": "3d927d45-29e5-41d3-9f0e-25826d0cf53a",
        "colab": {
          "base_uri": "https://localhost:8080/",
          "height": 35
        }
      },
      "source": [
        "len(amostra[amostra == 0])"
      ],
      "execution_count": null,
      "outputs": [
        {
          "output_type": "execute_result",
          "data": {
            "text/plain": [
              "110"
            ]
          },
          "metadata": {
            "tags": []
          },
          "execution_count": 7
        }
      ]
    },
    {
      "cell_type": "code",
      "metadata": {
        "id": "BWw7tqsANk_i",
        "outputId": "6315ff34-43b7-458f-cacd-97bf6276dbc5",
        "colab": {
          "base_uri": "https://localhost:8080/",
          "height": 35
        }
      },
      "source": [
        "base_final = base.loc[amostra == 0]\n",
        "base_final.shape"
      ],
      "execution_count": null,
      "outputs": [
        {
          "output_type": "execute_result",
          "data": {
            "text/plain": [
              "(110, 5)"
            ]
          },
          "metadata": {
            "tags": []
          },
          "execution_count": 8
        }
      ]
    },
    {
      "cell_type": "markdown",
      "metadata": {
        "id": "X48oEHmqRhpV"
      },
      "source": [
        "**Resultado da amostra 0**"
      ]
    },
    {
      "cell_type": "code",
      "metadata": {
        "id": "WVRYT_v3Q4dI",
        "outputId": "46ff7601-10a8-4c63-9885-b8ce715c83ee",
        "colab": {
          "base_uri": "https://localhost:8080/",
          "height": 424
        }
      },
      "source": [
        "base_final"
      ],
      "execution_count": null,
      "outputs": [
        {
          "output_type": "execute_result",
          "data": {
            "text/html": [
              "<div>\n",
              "<style scoped>\n",
              "    .dataframe tbody tr th:only-of-type {\n",
              "        vertical-align: middle;\n",
              "    }\n",
              "\n",
              "    .dataframe tbody tr th {\n",
              "        vertical-align: top;\n",
              "    }\n",
              "\n",
              "    .dataframe thead th {\n",
              "        text-align: right;\n",
              "    }\n",
              "</style>\n",
              "<table border=\"1\" class=\"dataframe\">\n",
              "  <thead>\n",
              "    <tr style=\"text-align: right;\">\n",
              "      <th></th>\n",
              "      <th>sepallength</th>\n",
              "      <th>sepalwidth</th>\n",
              "      <th>petallength</th>\n",
              "      <th>petalwidth</th>\n",
              "      <th>class</th>\n",
              "    </tr>\n",
              "  </thead>\n",
              "  <tbody>\n",
              "    <tr>\n",
              "      <th>0</th>\n",
              "      <td>5.1</td>\n",
              "      <td>3.5</td>\n",
              "      <td>1.4</td>\n",
              "      <td>0.2</td>\n",
              "      <td>Iris-setosa</td>\n",
              "    </tr>\n",
              "    <tr>\n",
              "      <th>2</th>\n",
              "      <td>4.7</td>\n",
              "      <td>3.2</td>\n",
              "      <td>1.3</td>\n",
              "      <td>0.2</td>\n",
              "      <td>Iris-setosa</td>\n",
              "    </tr>\n",
              "    <tr>\n",
              "      <th>3</th>\n",
              "      <td>4.6</td>\n",
              "      <td>3.1</td>\n",
              "      <td>1.5</td>\n",
              "      <td>0.2</td>\n",
              "      <td>Iris-setosa</td>\n",
              "    </tr>\n",
              "    <tr>\n",
              "      <th>4</th>\n",
              "      <td>5.0</td>\n",
              "      <td>3.6</td>\n",
              "      <td>1.4</td>\n",
              "      <td>0.2</td>\n",
              "      <td>Iris-setosa</td>\n",
              "    </tr>\n",
              "    <tr>\n",
              "      <th>7</th>\n",
              "      <td>5.0</td>\n",
              "      <td>3.4</td>\n",
              "      <td>1.5</td>\n",
              "      <td>0.2</td>\n",
              "      <td>Iris-setosa</td>\n",
              "    </tr>\n",
              "    <tr>\n",
              "      <th>...</th>\n",
              "      <td>...</td>\n",
              "      <td>...</td>\n",
              "      <td>...</td>\n",
              "      <td>...</td>\n",
              "      <td>...</td>\n",
              "    </tr>\n",
              "    <tr>\n",
              "      <th>144</th>\n",
              "      <td>6.7</td>\n",
              "      <td>3.3</td>\n",
              "      <td>5.7</td>\n",
              "      <td>2.5</td>\n",
              "      <td>Iris-virginica</td>\n",
              "    </tr>\n",
              "    <tr>\n",
              "      <th>145</th>\n",
              "      <td>6.7</td>\n",
              "      <td>3.0</td>\n",
              "      <td>5.2</td>\n",
              "      <td>2.3</td>\n",
              "      <td>Iris-virginica</td>\n",
              "    </tr>\n",
              "    <tr>\n",
              "      <th>146</th>\n",
              "      <td>6.3</td>\n",
              "      <td>2.5</td>\n",
              "      <td>5.0</td>\n",
              "      <td>1.9</td>\n",
              "      <td>Iris-virginica</td>\n",
              "    </tr>\n",
              "    <tr>\n",
              "      <th>147</th>\n",
              "      <td>6.5</td>\n",
              "      <td>3.0</td>\n",
              "      <td>5.2</td>\n",
              "      <td>2.0</td>\n",
              "      <td>Iris-virginica</td>\n",
              "    </tr>\n",
              "    <tr>\n",
              "      <th>148</th>\n",
              "      <td>6.2</td>\n",
              "      <td>3.4</td>\n",
              "      <td>5.4</td>\n",
              "      <td>2.3</td>\n",
              "      <td>Iris-virginica</td>\n",
              "    </tr>\n",
              "  </tbody>\n",
              "</table>\n",
              "<p>110 rows × 5 columns</p>\n",
              "</div>"
            ],
            "text/plain": [
              "     sepallength  sepalwidth  petallength  petalwidth           class\n",
              "0            5.1         3.5          1.4         0.2     Iris-setosa\n",
              "2            4.7         3.2          1.3         0.2     Iris-setosa\n",
              "3            4.6         3.1          1.5         0.2     Iris-setosa\n",
              "4            5.0         3.6          1.4         0.2     Iris-setosa\n",
              "7            5.0         3.4          1.5         0.2     Iris-setosa\n",
              "..           ...         ...          ...         ...             ...\n",
              "144          6.7         3.3          5.7         2.5  Iris-virginica\n",
              "145          6.7         3.0          5.2         2.3  Iris-virginica\n",
              "146          6.3         2.5          5.0         1.9  Iris-virginica\n",
              "147          6.5         3.0          5.2         2.0  Iris-virginica\n",
              "148          6.2         3.4          5.4         2.3  Iris-virginica\n",
              "\n",
              "[110 rows x 5 columns]"
            ]
          },
          "metadata": {
            "tags": []
          },
          "execution_count": 9
        }
      ]
    },
    {
      "cell_type": "code",
      "metadata": {
        "id": "XOHTksydNm7J",
        "outputId": "f3688014-2e50-49af-ad98-998a75d09b03",
        "colab": {
          "base_uri": "https://localhost:8080/",
          "height": 35
        }
      },
      "source": [
        "base_final2 = base.loc[amostra == 1]\n",
        "base_final2.shape"
      ],
      "execution_count": null,
      "outputs": [
        {
          "output_type": "execute_result",
          "data": {
            "text/plain": [
              "(40, 5)"
            ]
          },
          "metadata": {
            "tags": []
          },
          "execution_count": 10
        }
      ]
    },
    {
      "cell_type": "markdown",
      "metadata": {
        "id": "BGUneZedRoLZ"
      },
      "source": [
        "**Resultado da amostra 1**"
      ]
    },
    {
      "cell_type": "code",
      "metadata": {
        "id": "B-22xP03RCSV",
        "outputId": "d20d63fe-70b0-40c4-e106-36da5aa4e954",
        "colab": {
          "base_uri": "https://localhost:8080/",
          "height": 1000
        }
      },
      "source": [
        "base_final2"
      ],
      "execution_count": null,
      "outputs": [
        {
          "output_type": "execute_result",
          "data": {
            "text/html": [
              "<div>\n",
              "<style scoped>\n",
              "    .dataframe tbody tr th:only-of-type {\n",
              "        vertical-align: middle;\n",
              "    }\n",
              "\n",
              "    .dataframe tbody tr th {\n",
              "        vertical-align: top;\n",
              "    }\n",
              "\n",
              "    .dataframe thead th {\n",
              "        text-align: right;\n",
              "    }\n",
              "</style>\n",
              "<table border=\"1\" class=\"dataframe\">\n",
              "  <thead>\n",
              "    <tr style=\"text-align: right;\">\n",
              "      <th></th>\n",
              "      <th>sepallength</th>\n",
              "      <th>sepalwidth</th>\n",
              "      <th>petallength</th>\n",
              "      <th>petalwidth</th>\n",
              "      <th>class</th>\n",
              "    </tr>\n",
              "  </thead>\n",
              "  <tbody>\n",
              "    <tr>\n",
              "      <th>1</th>\n",
              "      <td>4.9</td>\n",
              "      <td>3.0</td>\n",
              "      <td>1.4</td>\n",
              "      <td>0.2</td>\n",
              "      <td>Iris-setosa</td>\n",
              "    </tr>\n",
              "    <tr>\n",
              "      <th>5</th>\n",
              "      <td>5.4</td>\n",
              "      <td>3.9</td>\n",
              "      <td>1.7</td>\n",
              "      <td>0.4</td>\n",
              "      <td>Iris-setosa</td>\n",
              "    </tr>\n",
              "    <tr>\n",
              "      <th>6</th>\n",
              "      <td>4.6</td>\n",
              "      <td>3.4</td>\n",
              "      <td>1.4</td>\n",
              "      <td>0.3</td>\n",
              "      <td>Iris-setosa</td>\n",
              "    </tr>\n",
              "    <tr>\n",
              "      <th>8</th>\n",
              "      <td>4.4</td>\n",
              "      <td>2.9</td>\n",
              "      <td>1.4</td>\n",
              "      <td>0.2</td>\n",
              "      <td>Iris-setosa</td>\n",
              "    </tr>\n",
              "    <tr>\n",
              "      <th>12</th>\n",
              "      <td>4.8</td>\n",
              "      <td>3.0</td>\n",
              "      <td>1.4</td>\n",
              "      <td>0.1</td>\n",
              "      <td>Iris-setosa</td>\n",
              "    </tr>\n",
              "    <tr>\n",
              "      <th>13</th>\n",
              "      <td>4.3</td>\n",
              "      <td>3.0</td>\n",
              "      <td>1.1</td>\n",
              "      <td>0.1</td>\n",
              "      <td>Iris-setosa</td>\n",
              "    </tr>\n",
              "    <tr>\n",
              "      <th>18</th>\n",
              "      <td>5.7</td>\n",
              "      <td>3.8</td>\n",
              "      <td>1.7</td>\n",
              "      <td>0.3</td>\n",
              "      <td>Iris-setosa</td>\n",
              "    </tr>\n",
              "    <tr>\n",
              "      <th>20</th>\n",
              "      <td>5.4</td>\n",
              "      <td>3.4</td>\n",
              "      <td>1.7</td>\n",
              "      <td>0.2</td>\n",
              "      <td>Iris-setosa</td>\n",
              "    </tr>\n",
              "    <tr>\n",
              "      <th>27</th>\n",
              "      <td>5.2</td>\n",
              "      <td>3.5</td>\n",
              "      <td>1.5</td>\n",
              "      <td>0.2</td>\n",
              "      <td>Iris-setosa</td>\n",
              "    </tr>\n",
              "    <tr>\n",
              "      <th>29</th>\n",
              "      <td>4.7</td>\n",
              "      <td>3.2</td>\n",
              "      <td>1.6</td>\n",
              "      <td>0.2</td>\n",
              "      <td>Iris-setosa</td>\n",
              "    </tr>\n",
              "    <tr>\n",
              "      <th>30</th>\n",
              "      <td>4.8</td>\n",
              "      <td>3.1</td>\n",
              "      <td>1.6</td>\n",
              "      <td>0.2</td>\n",
              "      <td>Iris-setosa</td>\n",
              "    </tr>\n",
              "    <tr>\n",
              "      <th>33</th>\n",
              "      <td>5.5</td>\n",
              "      <td>4.2</td>\n",
              "      <td>1.4</td>\n",
              "      <td>0.2</td>\n",
              "      <td>Iris-setosa</td>\n",
              "    </tr>\n",
              "    <tr>\n",
              "      <th>35</th>\n",
              "      <td>5.0</td>\n",
              "      <td>3.2</td>\n",
              "      <td>1.2</td>\n",
              "      <td>0.2</td>\n",
              "      <td>Iris-setosa</td>\n",
              "    </tr>\n",
              "    <tr>\n",
              "      <th>36</th>\n",
              "      <td>5.5</td>\n",
              "      <td>3.5</td>\n",
              "      <td>1.3</td>\n",
              "      <td>0.2</td>\n",
              "      <td>Iris-setosa</td>\n",
              "    </tr>\n",
              "    <tr>\n",
              "      <th>37</th>\n",
              "      <td>4.9</td>\n",
              "      <td>3.1</td>\n",
              "      <td>1.5</td>\n",
              "      <td>0.1</td>\n",
              "      <td>Iris-setosa</td>\n",
              "    </tr>\n",
              "    <tr>\n",
              "      <th>41</th>\n",
              "      <td>4.5</td>\n",
              "      <td>2.3</td>\n",
              "      <td>1.3</td>\n",
              "      <td>0.3</td>\n",
              "      <td>Iris-setosa</td>\n",
              "    </tr>\n",
              "    <tr>\n",
              "      <th>43</th>\n",
              "      <td>5.0</td>\n",
              "      <td>3.5</td>\n",
              "      <td>1.6</td>\n",
              "      <td>0.6</td>\n",
              "      <td>Iris-setosa</td>\n",
              "    </tr>\n",
              "    <tr>\n",
              "      <th>51</th>\n",
              "      <td>6.4</td>\n",
              "      <td>3.2</td>\n",
              "      <td>4.5</td>\n",
              "      <td>1.5</td>\n",
              "      <td>Iris-versicolor</td>\n",
              "    </tr>\n",
              "    <tr>\n",
              "      <th>61</th>\n",
              "      <td>5.9</td>\n",
              "      <td>3.0</td>\n",
              "      <td>4.2</td>\n",
              "      <td>1.5</td>\n",
              "      <td>Iris-versicolor</td>\n",
              "    </tr>\n",
              "    <tr>\n",
              "      <th>68</th>\n",
              "      <td>6.2</td>\n",
              "      <td>2.2</td>\n",
              "      <td>4.5</td>\n",
              "      <td>1.5</td>\n",
              "      <td>Iris-versicolor</td>\n",
              "    </tr>\n",
              "    <tr>\n",
              "      <th>73</th>\n",
              "      <td>6.1</td>\n",
              "      <td>2.8</td>\n",
              "      <td>4.7</td>\n",
              "      <td>1.2</td>\n",
              "      <td>Iris-versicolor</td>\n",
              "    </tr>\n",
              "    <tr>\n",
              "      <th>75</th>\n",
              "      <td>6.6</td>\n",
              "      <td>3.0</td>\n",
              "      <td>4.4</td>\n",
              "      <td>1.4</td>\n",
              "      <td>Iris-versicolor</td>\n",
              "    </tr>\n",
              "    <tr>\n",
              "      <th>81</th>\n",
              "      <td>5.5</td>\n",
              "      <td>2.4</td>\n",
              "      <td>3.7</td>\n",
              "      <td>1.0</td>\n",
              "      <td>Iris-versicolor</td>\n",
              "    </tr>\n",
              "    <tr>\n",
              "      <th>82</th>\n",
              "      <td>5.8</td>\n",
              "      <td>2.7</td>\n",
              "      <td>3.9</td>\n",
              "      <td>1.2</td>\n",
              "      <td>Iris-versicolor</td>\n",
              "    </tr>\n",
              "    <tr>\n",
              "      <th>85</th>\n",
              "      <td>6.0</td>\n",
              "      <td>3.4</td>\n",
              "      <td>4.5</td>\n",
              "      <td>1.6</td>\n",
              "      <td>Iris-versicolor</td>\n",
              "    </tr>\n",
              "    <tr>\n",
              "      <th>90</th>\n",
              "      <td>5.5</td>\n",
              "      <td>2.6</td>\n",
              "      <td>4.4</td>\n",
              "      <td>1.2</td>\n",
              "      <td>Iris-versicolor</td>\n",
              "    </tr>\n",
              "    <tr>\n",
              "      <th>92</th>\n",
              "      <td>5.8</td>\n",
              "      <td>2.6</td>\n",
              "      <td>4.0</td>\n",
              "      <td>1.2</td>\n",
              "      <td>Iris-versicolor</td>\n",
              "    </tr>\n",
              "    <tr>\n",
              "      <th>93</th>\n",
              "      <td>5.0</td>\n",
              "      <td>2.3</td>\n",
              "      <td>3.3</td>\n",
              "      <td>1.0</td>\n",
              "      <td>Iris-versicolor</td>\n",
              "    </tr>\n",
              "    <tr>\n",
              "      <th>96</th>\n",
              "      <td>5.7</td>\n",
              "      <td>2.9</td>\n",
              "      <td>4.2</td>\n",
              "      <td>1.3</td>\n",
              "      <td>Iris-versicolor</td>\n",
              "    </tr>\n",
              "    <tr>\n",
              "      <th>97</th>\n",
              "      <td>6.2</td>\n",
              "      <td>2.9</td>\n",
              "      <td>4.3</td>\n",
              "      <td>1.3</td>\n",
              "      <td>Iris-versicolor</td>\n",
              "    </tr>\n",
              "    <tr>\n",
              "      <th>106</th>\n",
              "      <td>4.9</td>\n",
              "      <td>2.5</td>\n",
              "      <td>4.5</td>\n",
              "      <td>1.7</td>\n",
              "      <td>Iris-virginica</td>\n",
              "    </tr>\n",
              "    <tr>\n",
              "      <th>107</th>\n",
              "      <td>7.3</td>\n",
              "      <td>2.9</td>\n",
              "      <td>6.3</td>\n",
              "      <td>1.8</td>\n",
              "      <td>Iris-virginica</td>\n",
              "    </tr>\n",
              "    <tr>\n",
              "      <th>112</th>\n",
              "      <td>6.8</td>\n",
              "      <td>3.0</td>\n",
              "      <td>5.5</td>\n",
              "      <td>2.1</td>\n",
              "      <td>Iris-virginica</td>\n",
              "    </tr>\n",
              "    <tr>\n",
              "      <th>118</th>\n",
              "      <td>7.7</td>\n",
              "      <td>2.6</td>\n",
              "      <td>6.9</td>\n",
              "      <td>2.3</td>\n",
              "      <td>Iris-virginica</td>\n",
              "    </tr>\n",
              "    <tr>\n",
              "      <th>122</th>\n",
              "      <td>7.7</td>\n",
              "      <td>2.8</td>\n",
              "      <td>6.7</td>\n",
              "      <td>2.0</td>\n",
              "      <td>Iris-virginica</td>\n",
              "    </tr>\n",
              "    <tr>\n",
              "      <th>125</th>\n",
              "      <td>7.2</td>\n",
              "      <td>3.2</td>\n",
              "      <td>6.0</td>\n",
              "      <td>1.8</td>\n",
              "      <td>Iris-virginica</td>\n",
              "    </tr>\n",
              "    <tr>\n",
              "      <th>140</th>\n",
              "      <td>6.7</td>\n",
              "      <td>3.1</td>\n",
              "      <td>5.6</td>\n",
              "      <td>2.4</td>\n",
              "      <td>Iris-virginica</td>\n",
              "    </tr>\n",
              "    <tr>\n",
              "      <th>141</th>\n",
              "      <td>6.9</td>\n",
              "      <td>3.1</td>\n",
              "      <td>5.1</td>\n",
              "      <td>2.3</td>\n",
              "      <td>Iris-virginica</td>\n",
              "    </tr>\n",
              "    <tr>\n",
              "      <th>142</th>\n",
              "      <td>5.8</td>\n",
              "      <td>2.7</td>\n",
              "      <td>5.1</td>\n",
              "      <td>1.9</td>\n",
              "      <td>Iris-virginica</td>\n",
              "    </tr>\n",
              "    <tr>\n",
              "      <th>149</th>\n",
              "      <td>5.9</td>\n",
              "      <td>3.0</td>\n",
              "      <td>5.1</td>\n",
              "      <td>1.8</td>\n",
              "      <td>Iris-virginica</td>\n",
              "    </tr>\n",
              "  </tbody>\n",
              "</table>\n",
              "</div>"
            ],
            "text/plain": [
              "     sepallength  sepalwidth  petallength  petalwidth            class\n",
              "1            4.9         3.0          1.4         0.2      Iris-setosa\n",
              "5            5.4         3.9          1.7         0.4      Iris-setosa\n",
              "6            4.6         3.4          1.4         0.3      Iris-setosa\n",
              "8            4.4         2.9          1.4         0.2      Iris-setosa\n",
              "12           4.8         3.0          1.4         0.1      Iris-setosa\n",
              "13           4.3         3.0          1.1         0.1      Iris-setosa\n",
              "18           5.7         3.8          1.7         0.3      Iris-setosa\n",
              "20           5.4         3.4          1.7         0.2      Iris-setosa\n",
              "27           5.2         3.5          1.5         0.2      Iris-setosa\n",
              "29           4.7         3.2          1.6         0.2      Iris-setosa\n",
              "30           4.8         3.1          1.6         0.2      Iris-setosa\n",
              "33           5.5         4.2          1.4         0.2      Iris-setosa\n",
              "35           5.0         3.2          1.2         0.2      Iris-setosa\n",
              "36           5.5         3.5          1.3         0.2      Iris-setosa\n",
              "37           4.9         3.1          1.5         0.1      Iris-setosa\n",
              "41           4.5         2.3          1.3         0.3      Iris-setosa\n",
              "43           5.0         3.5          1.6         0.6      Iris-setosa\n",
              "51           6.4         3.2          4.5         1.5  Iris-versicolor\n",
              "61           5.9         3.0          4.2         1.5  Iris-versicolor\n",
              "68           6.2         2.2          4.5         1.5  Iris-versicolor\n",
              "73           6.1         2.8          4.7         1.2  Iris-versicolor\n",
              "75           6.6         3.0          4.4         1.4  Iris-versicolor\n",
              "81           5.5         2.4          3.7         1.0  Iris-versicolor\n",
              "82           5.8         2.7          3.9         1.2  Iris-versicolor\n",
              "85           6.0         3.4          4.5         1.6  Iris-versicolor\n",
              "90           5.5         2.6          4.4         1.2  Iris-versicolor\n",
              "92           5.8         2.6          4.0         1.2  Iris-versicolor\n",
              "93           5.0         2.3          3.3         1.0  Iris-versicolor\n",
              "96           5.7         2.9          4.2         1.3  Iris-versicolor\n",
              "97           6.2         2.9          4.3         1.3  Iris-versicolor\n",
              "106          4.9         2.5          4.5         1.7   Iris-virginica\n",
              "107          7.3         2.9          6.3         1.8   Iris-virginica\n",
              "112          6.8         3.0          5.5         2.1   Iris-virginica\n",
              "118          7.7         2.6          6.9         2.3   Iris-virginica\n",
              "122          7.7         2.8          6.7         2.0   Iris-virginica\n",
              "125          7.2         3.2          6.0         1.8   Iris-virginica\n",
              "140          6.7         3.1          5.6         2.4   Iris-virginica\n",
              "141          6.9         3.1          5.1         2.3   Iris-virginica\n",
              "142          5.8         2.7          5.1         1.9   Iris-virginica\n",
              "149          5.9         3.0          5.1         1.8   Iris-virginica"
            ]
          },
          "metadata": {
            "tags": []
          },
          "execution_count": 11
        }
      ]
    },
    {
      "cell_type": "markdown",
      "metadata": {
        "id": "Y96yv8TARuJT"
      },
      "source": [
        "Perceba que os valores não estão em ambas as amostras. Os valores que estão em 0 não estão em 1 e os que estão em 1 não estão em 0."
      ]
    },
    {
      "cell_type": "markdown",
      "metadata": {
        "id": "vFWFitY2OIgO"
      },
      "source": [
        "# 2. Amostragem Estratificada\n",
        "\n",
        "Nesse caso, a população é dividida em subgrupos (ou estratos) e é feita uma amostragem simples dentro de cada estrato.\n",
        "\n"
      ]
    },
    {
      "cell_type": "markdown",
      "metadata": {
        "id": "Osz_OL9VR_K6"
      },
      "source": [
        "**Importando as bibliotecas necessárias**"
      ]
    },
    {
      "cell_type": "code",
      "metadata": {
        "id": "ODMIs1jeNodq"
      },
      "source": [
        "import pandas as pd\n",
        "from sklearn.model_selection import train_test_split\n",
        "from math import ceil"
      ],
      "execution_count": null,
      "outputs": []
    },
    {
      "cell_type": "markdown",
      "metadata": {
        "id": "UXkjxd9ZSEwH"
      },
      "source": [
        "**Carregando a base de dados e visualizando a contagem**"
      ]
    },
    {
      "cell_type": "code",
      "metadata": {
        "id": "xyaF7p3ROW60",
        "outputId": "4dd07b1e-eb53-4a6d-98f3-5e3d888ebe1c",
        "colab": {
          "base_uri": "https://localhost:8080/",
          "height": 90
        }
      },
      "source": [
        "iris = pd.read_csv('iris.csv')\n",
        "iris['class'].value_counts()"
      ],
      "execution_count": null,
      "outputs": [
        {
          "output_type": "execute_result",
          "data": {
            "text/plain": [
              "Iris-virginica     50\n",
              "Iris-setosa        50\n",
              "Iris-versicolor    50\n",
              "Name: class, dtype: int64"
            ]
          },
          "metadata": {
            "tags": []
          },
          "execution_count": 13
        }
      ]
    },
    {
      "cell_type": "markdown",
      "metadata": {
        "id": "kQ5DDaCuS1qW"
      },
      "source": [
        "**Realizando a amostragem**\n",
        "\n",
        "- `iris.iloc[:, 0:4]`: busca todas as linhas e colunas de 0 a 3 (4 é exclusivo, não entra). Assim os atributos previsores, ou seja, os dados sobre pétala e sépala da planta. O valor alvo fica de fora.\n",
        "- `iris.iloc[:, 4]`: busca somente a classe, que é a espécie da planta (setosa, virginica ou versicolor)\n",
        "- `test_size`: selecionamos 50% da base de dados, que serão copiados para as variáveis X e Y. Essa função retorna 4 valores,\n",
        "porém, vamos usar somente os 50% da base de dados e por isso colocamos \"_\" para os outros valores. Ou seja, não serão utilizados.\n",
        "- `stratify`: Retorna a amostra baseada na classe."
      ]
    },
    {
      "cell_type": "code",
      "metadata": {
        "id": "DCrRanLVOYbV"
      },
      "source": [
        "X, _, y, _ = train_test_split(iris.iloc[:, 0:4], iris.iloc[:, 4],\n",
        "                              test_size = 0.5, stratify = iris.iloc[:,4])"
      ],
      "execution_count": null,
      "outputs": []
    },
    {
      "cell_type": "code",
      "metadata": {
        "id": "Qk0K3zYQVJ8T",
        "outputId": "2250ba84-ddd3-4fc8-a477-90cf04afb3cc",
        "colab": {
          "base_uri": "https://localhost:8080/",
          "height": 35
        }
      },
      "source": [
        "len(X.value_counts())"
      ],
      "execution_count": null,
      "outputs": [
        {
          "output_type": "execute_result",
          "data": {
            "text/plain": [
              "74"
            ]
          },
          "metadata": {
            "tags": []
          },
          "execution_count": 15
        }
      ]
    },
    {
      "cell_type": "code",
      "metadata": {
        "id": "UNZBY9HBVJ1P",
        "outputId": "7ba23ce7-3b03-42e8-f977-d2b100e56e61",
        "colab": {
          "base_uri": "https://localhost:8080/",
          "height": 90
        }
      },
      "source": [
        "y.value_counts()"
      ],
      "execution_count": null,
      "outputs": [
        {
          "output_type": "execute_result",
          "data": {
            "text/plain": [
              "Iris-virginica     25\n",
              "Iris-setosa        25\n",
              "Iris-versicolor    25\n",
              "Name: class, dtype: int64"
            ]
          },
          "metadata": {
            "tags": []
          },
          "execution_count": 16
        }
      ]
    },
    {
      "cell_type": "markdown",
      "metadata": {
        "id": "MvFferq5VZWj"
      },
      "source": [
        "**Carregando nova base de dados**"
      ]
    },
    {
      "cell_type": "code",
      "metadata": {
        "id": "43iluFbWOaBt",
        "outputId": "41053124-7888-4747-8b5d-9e0882e159c8",
        "colab": {
          "base_uri": "https://localhost:8080/",
          "height": 206
        }
      },
      "source": [
        "infert = pd.read_csv('infert.csv')\n",
        "infert.head()"
      ],
      "execution_count": null,
      "outputs": [
        {
          "output_type": "execute_result",
          "data": {
            "text/html": [
              "<div>\n",
              "<style scoped>\n",
              "    .dataframe tbody tr th:only-of-type {\n",
              "        vertical-align: middle;\n",
              "    }\n",
              "\n",
              "    .dataframe tbody tr th {\n",
              "        vertical-align: top;\n",
              "    }\n",
              "\n",
              "    .dataframe thead th {\n",
              "        text-align: right;\n",
              "    }\n",
              "</style>\n",
              "<table border=\"1\" class=\"dataframe\">\n",
              "  <thead>\n",
              "    <tr style=\"text-align: right;\">\n",
              "      <th></th>\n",
              "      <th>Unnamed: 0</th>\n",
              "      <th>education</th>\n",
              "      <th>age</th>\n",
              "      <th>parity</th>\n",
              "      <th>induced</th>\n",
              "      <th>case</th>\n",
              "      <th>spontaneous</th>\n",
              "      <th>stratum</th>\n",
              "      <th>pooled.stratum</th>\n",
              "    </tr>\n",
              "  </thead>\n",
              "  <tbody>\n",
              "    <tr>\n",
              "      <th>0</th>\n",
              "      <td>1</td>\n",
              "      <td>0-5yrs</td>\n",
              "      <td>26</td>\n",
              "      <td>6</td>\n",
              "      <td>1</td>\n",
              "      <td>1</td>\n",
              "      <td>2</td>\n",
              "      <td>1</td>\n",
              "      <td>3</td>\n",
              "    </tr>\n",
              "    <tr>\n",
              "      <th>1</th>\n",
              "      <td>2</td>\n",
              "      <td>0-5yrs</td>\n",
              "      <td>42</td>\n",
              "      <td>1</td>\n",
              "      <td>1</td>\n",
              "      <td>1</td>\n",
              "      <td>0</td>\n",
              "      <td>2</td>\n",
              "      <td>1</td>\n",
              "    </tr>\n",
              "    <tr>\n",
              "      <th>2</th>\n",
              "      <td>3</td>\n",
              "      <td>0-5yrs</td>\n",
              "      <td>39</td>\n",
              "      <td>6</td>\n",
              "      <td>2</td>\n",
              "      <td>1</td>\n",
              "      <td>0</td>\n",
              "      <td>3</td>\n",
              "      <td>4</td>\n",
              "    </tr>\n",
              "    <tr>\n",
              "      <th>3</th>\n",
              "      <td>4</td>\n",
              "      <td>0-5yrs</td>\n",
              "      <td>34</td>\n",
              "      <td>4</td>\n",
              "      <td>2</td>\n",
              "      <td>1</td>\n",
              "      <td>0</td>\n",
              "      <td>4</td>\n",
              "      <td>2</td>\n",
              "    </tr>\n",
              "    <tr>\n",
              "      <th>4</th>\n",
              "      <td>5</td>\n",
              "      <td>6-11yrs</td>\n",
              "      <td>35</td>\n",
              "      <td>3</td>\n",
              "      <td>1</td>\n",
              "      <td>1</td>\n",
              "      <td>1</td>\n",
              "      <td>5</td>\n",
              "      <td>32</td>\n",
              "    </tr>\n",
              "  </tbody>\n",
              "</table>\n",
              "</div>"
            ],
            "text/plain": [
              "   Unnamed: 0 education  age  ...  spontaneous  stratum  pooled.stratum\n",
              "0           1    0-5yrs   26  ...            2        1               3\n",
              "1           2    0-5yrs   42  ...            0        2               1\n",
              "2           3    0-5yrs   39  ...            0        3               4\n",
              "3           4    0-5yrs   34  ...            0        4               2\n",
              "4           5   6-11yrs   35  ...            1        5              32\n",
              "\n",
              "[5 rows x 9 columns]"
            ]
          },
          "metadata": {
            "tags": []
          },
          "execution_count": 17
        }
      ]
    },
    {
      "cell_type": "markdown",
      "metadata": {
        "id": "CMiGbP7pVhoN"
      },
      "source": [
        "**Contagem de valor da feature `'education'`."
      ]
    },
    {
      "cell_type": "code",
      "metadata": {
        "id": "kz6wE5GYObjW",
        "outputId": "e3c488e3-f1ce-4c24-874b-a8b1ea230ae3",
        "colab": {
          "base_uri": "https://localhost:8080/",
          "height": 90
        }
      },
      "source": [
        "infert['education'].value_counts()"
      ],
      "execution_count": null,
      "outputs": [
        {
          "output_type": "execute_result",
          "data": {
            "text/plain": [
              "6-11yrs    120\n",
              "12+ yrs    116\n",
              "0-5yrs      12\n",
              "Name: education, dtype: int64"
            ]
          },
          "metadata": {
            "tags": []
          },
          "execution_count": 18
        }
      ]
    },
    {
      "cell_type": "markdown",
      "metadata": {
        "id": "4EhIAb8bVrmZ"
      },
      "source": [
        "**Fazendo a amostragem**\n",
        "\n",
        "- Será feita com 40% do tamanho dos dados.\n",
        "- Para isso é passado o `test_size = 0.6`. \n",
        "- Poderia ser passado `train_size = 0.4` que daria o mesmo resultado.\n",
        "\n",
        "\n"
      ]
    },
    {
      "cell_type": "code",
      "metadata": {
        "id": "htFG0A63OeR_",
        "outputId": "4275b463-e46e-4daf-e08a-d17dd7fa0402",
        "colab": {
          "base_uri": "https://localhost:8080/",
          "height": 90
        }
      },
      "source": [
        "X1, _, y1, _ = train_test_split(infert.iloc[:, 2:9], infert.iloc[:, 1],\n",
        "                                test_size = 0.6, stratify = infert.iloc[:, 1])\n",
        "y1.value_counts()"
      ],
      "execution_count": null,
      "outputs": [
        {
          "output_type": "execute_result",
          "data": {
            "text/plain": [
              "6-11yrs    48\n",
              "12+ yrs    46\n",
              "0-5yrs      5\n",
              "Name: education, dtype: int64"
            ]
          },
          "metadata": {
            "tags": []
          },
          "execution_count": 19
        }
      ]
    },
    {
      "cell_type": "markdown",
      "metadata": {
        "id": "HLWwCXDEO3BM"
      },
      "source": [
        "# 3. Amostragem Sistemática\n",
        "\n",
        "O conjunto de dados é ordenado e um intervalo é definido para que as amostras sejam retiradas.\n",
        "\n",
        "Exemplo, se em uma base de dados escolhemos o intervalo = 10 e o conjunto tem 100 dados. Partindo do dado 1 serão retirados o 1, 11, 21, 31, 41, 51, 61, 71, 81 e 91."
      ]
    },
    {
      "cell_type": "markdown",
      "metadata": {
        "id": "hYC49ysQXrDj"
      },
      "source": [
        "**Importando as bibliotecas necessárias**"
      ]
    },
    {
      "cell_type": "code",
      "metadata": {
        "id": "O8_W9_bOO0qn"
      },
      "source": [
        "import numpy as np\n",
        "import pandas as pd\n",
        "from math import ceil"
      ],
      "execution_count": null,
      "outputs": []
    },
    {
      "cell_type": "markdown",
      "metadata": {
        "id": "TH-83F2kXuri"
      },
      "source": [
        "**Definindo o tamanho da população e o número de amostras que queremos**"
      ]
    },
    {
      "cell_type": "code",
      "metadata": {
        "id": "KHqpiJlsO69k"
      },
      "source": [
        "populacao = 150\n",
        "amostra = 15"
      ],
      "execution_count": null,
      "outputs": []
    },
    {
      "cell_type": "markdown",
      "metadata": {
        "id": "0uilMMn8YgLV"
      },
      "source": [
        "**Criando valor randômico para inicializar a amostra**\n",
        "* Inicia em 1\n",
        "* Vai até k + 1\n",
        "\n",
        "`ceil` é uma função para arredondar o número."
      ]
    },
    {
      "cell_type": "code",
      "metadata": {
        "id": "FzMOu1nFPVQ2",
        "outputId": "d304affc-024c-42f8-b0ad-1e18d4d69b21",
        "colab": {
          "base_uri": "https://localhost:8080/",
          "height": 35
        }
      },
      "source": [
        "k = ceil(populacao / amostra)\n",
        "\n",
        "print(k)"
      ],
      "execution_count": null,
      "outputs": [
        {
          "output_type": "stream",
          "text": [
            "10\n"
          ],
          "name": "stdout"
        }
      ]
    },
    {
      "cell_type": "code",
      "metadata": {
        "id": "5Q2XP48JcWly",
        "outputId": "eed4437f-377b-4965-ef28-fc52166a6a0e",
        "colab": {
          "base_uri": "https://localhost:8080/",
          "height": 35
        }
      },
      "source": [
        "r = np.random.randint(low = 1, high = k + 1, size = 1)\n",
        "print(r)"
      ],
      "execution_count": null,
      "outputs": [
        {
          "output_type": "stream",
          "text": [
            "[1]\n"
          ],
          "name": "stdout"
        }
      ]
    },
    {
      "cell_type": "markdown",
      "metadata": {
        "id": "NMdcBjC2ZaE5"
      },
      "source": [
        "**Criando função para fazer a amostragem**\n",
        "\n",
        "* O acumulador inicia em r[0].\n",
        "* Cada número será acrescido à lista criada.\n"
      ]
    },
    {
      "cell_type": "code",
      "metadata": {
        "id": "E3_O847cPJcq",
        "outputId": "9443ec61-d09b-44d5-a9c8-3bcbc703612e",
        "colab": {
          "base_uri": "https://localhost:8080/",
          "height": 35
        }
      },
      "source": [
        "acumulador = r[0]\n",
        "sorteados = []\n",
        "for i in range(amostra):\n",
        "    sorteados.append(acumulador)\n",
        "    acumulador += k\n",
        "print(sorteados)"
      ],
      "execution_count": null,
      "outputs": [
        {
          "output_type": "stream",
          "text": [
            "[1, 11, 21, 31, 41, 51, 61, 71, 81, 91, 101, 111, 121, 131, 141]\n"
          ],
          "name": "stdout"
        }
      ]
    },
    {
      "cell_type": "markdown",
      "metadata": {
        "id": "i36VPXr5aIMK"
      },
      "source": [
        "**Quantidade de sorteados**"
      ]
    },
    {
      "cell_type": "code",
      "metadata": {
        "id": "AsaA5PGPPK-4",
        "outputId": "86b7b20d-2813-4194-987d-8f22c97ca190",
        "colab": {
          "base_uri": "https://localhost:8080/",
          "height": 35
        }
      },
      "source": [
        "len(sorteados)"
      ],
      "execution_count": null,
      "outputs": [
        {
          "output_type": "execute_result",
          "data": {
            "text/plain": [
              "15"
            ]
          },
          "metadata": {
            "tags": []
          },
          "execution_count": 58
        }
      ]
    },
    {
      "cell_type": "markdown",
      "metadata": {
        "id": "PE_gEUzIaMFZ"
      },
      "source": [
        "**Fazendo a amostragem na base de dados**"
      ]
    },
    {
      "cell_type": "code",
      "metadata": {
        "id": "7Z8RLlODQOvp",
        "outputId": "1fe2dac0-8730-4163-f984-9acf9078b490",
        "colab": {
          "base_uri": "https://localhost:8080/",
          "height": 520
        }
      },
      "source": [
        "base = pd.read_csv('iris.csv')\n",
        "base_final = base.loc[sorteados]\n",
        "base_final"
      ],
      "execution_count": null,
      "outputs": [
        {
          "output_type": "execute_result",
          "data": {
            "text/html": [
              "<div>\n",
              "<style scoped>\n",
              "    .dataframe tbody tr th:only-of-type {\n",
              "        vertical-align: middle;\n",
              "    }\n",
              "\n",
              "    .dataframe tbody tr th {\n",
              "        vertical-align: top;\n",
              "    }\n",
              "\n",
              "    .dataframe thead th {\n",
              "        text-align: right;\n",
              "    }\n",
              "</style>\n",
              "<table border=\"1\" class=\"dataframe\">\n",
              "  <thead>\n",
              "    <tr style=\"text-align: right;\">\n",
              "      <th></th>\n",
              "      <th>sepallength</th>\n",
              "      <th>sepalwidth</th>\n",
              "      <th>petallength</th>\n",
              "      <th>petalwidth</th>\n",
              "      <th>class</th>\n",
              "    </tr>\n",
              "  </thead>\n",
              "  <tbody>\n",
              "    <tr>\n",
              "      <th>1</th>\n",
              "      <td>4.9</td>\n",
              "      <td>3.0</td>\n",
              "      <td>1.4</td>\n",
              "      <td>0.2</td>\n",
              "      <td>Iris-setosa</td>\n",
              "    </tr>\n",
              "    <tr>\n",
              "      <th>11</th>\n",
              "      <td>4.8</td>\n",
              "      <td>3.4</td>\n",
              "      <td>1.6</td>\n",
              "      <td>0.2</td>\n",
              "      <td>Iris-setosa</td>\n",
              "    </tr>\n",
              "    <tr>\n",
              "      <th>21</th>\n",
              "      <td>5.1</td>\n",
              "      <td>3.7</td>\n",
              "      <td>1.5</td>\n",
              "      <td>0.4</td>\n",
              "      <td>Iris-setosa</td>\n",
              "    </tr>\n",
              "    <tr>\n",
              "      <th>31</th>\n",
              "      <td>5.4</td>\n",
              "      <td>3.4</td>\n",
              "      <td>1.5</td>\n",
              "      <td>0.4</td>\n",
              "      <td>Iris-setosa</td>\n",
              "    </tr>\n",
              "    <tr>\n",
              "      <th>41</th>\n",
              "      <td>4.5</td>\n",
              "      <td>2.3</td>\n",
              "      <td>1.3</td>\n",
              "      <td>0.3</td>\n",
              "      <td>Iris-setosa</td>\n",
              "    </tr>\n",
              "    <tr>\n",
              "      <th>51</th>\n",
              "      <td>6.4</td>\n",
              "      <td>3.2</td>\n",
              "      <td>4.5</td>\n",
              "      <td>1.5</td>\n",
              "      <td>Iris-versicolor</td>\n",
              "    </tr>\n",
              "    <tr>\n",
              "      <th>61</th>\n",
              "      <td>5.9</td>\n",
              "      <td>3.0</td>\n",
              "      <td>4.2</td>\n",
              "      <td>1.5</td>\n",
              "      <td>Iris-versicolor</td>\n",
              "    </tr>\n",
              "    <tr>\n",
              "      <th>71</th>\n",
              "      <td>6.1</td>\n",
              "      <td>2.8</td>\n",
              "      <td>4.0</td>\n",
              "      <td>1.3</td>\n",
              "      <td>Iris-versicolor</td>\n",
              "    </tr>\n",
              "    <tr>\n",
              "      <th>81</th>\n",
              "      <td>5.5</td>\n",
              "      <td>2.4</td>\n",
              "      <td>3.7</td>\n",
              "      <td>1.0</td>\n",
              "      <td>Iris-versicolor</td>\n",
              "    </tr>\n",
              "    <tr>\n",
              "      <th>91</th>\n",
              "      <td>6.1</td>\n",
              "      <td>3.0</td>\n",
              "      <td>4.6</td>\n",
              "      <td>1.4</td>\n",
              "      <td>Iris-versicolor</td>\n",
              "    </tr>\n",
              "    <tr>\n",
              "      <th>101</th>\n",
              "      <td>5.8</td>\n",
              "      <td>2.7</td>\n",
              "      <td>5.1</td>\n",
              "      <td>1.9</td>\n",
              "      <td>Iris-virginica</td>\n",
              "    </tr>\n",
              "    <tr>\n",
              "      <th>111</th>\n",
              "      <td>6.4</td>\n",
              "      <td>2.7</td>\n",
              "      <td>5.3</td>\n",
              "      <td>1.9</td>\n",
              "      <td>Iris-virginica</td>\n",
              "    </tr>\n",
              "    <tr>\n",
              "      <th>121</th>\n",
              "      <td>5.6</td>\n",
              "      <td>2.8</td>\n",
              "      <td>4.9</td>\n",
              "      <td>2.0</td>\n",
              "      <td>Iris-virginica</td>\n",
              "    </tr>\n",
              "    <tr>\n",
              "      <th>131</th>\n",
              "      <td>7.9</td>\n",
              "      <td>3.8</td>\n",
              "      <td>6.4</td>\n",
              "      <td>2.0</td>\n",
              "      <td>Iris-virginica</td>\n",
              "    </tr>\n",
              "    <tr>\n",
              "      <th>141</th>\n",
              "      <td>6.9</td>\n",
              "      <td>3.1</td>\n",
              "      <td>5.1</td>\n",
              "      <td>2.3</td>\n",
              "      <td>Iris-virginica</td>\n",
              "    </tr>\n",
              "  </tbody>\n",
              "</table>\n",
              "</div>"
            ],
            "text/plain": [
              "     sepallength  sepalwidth  petallength  petalwidth            class\n",
              "1            4.9         3.0          1.4         0.2      Iris-setosa\n",
              "11           4.8         3.4          1.6         0.2      Iris-setosa\n",
              "21           5.1         3.7          1.5         0.4      Iris-setosa\n",
              "31           5.4         3.4          1.5         0.4      Iris-setosa\n",
              "41           4.5         2.3          1.3         0.3      Iris-setosa\n",
              "51           6.4         3.2          4.5         1.5  Iris-versicolor\n",
              "61           5.9         3.0          4.2         1.5  Iris-versicolor\n",
              "71           6.1         2.8          4.0         1.3  Iris-versicolor\n",
              "81           5.5         2.4          3.7         1.0  Iris-versicolor\n",
              "91           6.1         3.0          4.6         1.4  Iris-versicolor\n",
              "101          5.8         2.7          5.1         1.9   Iris-virginica\n",
              "111          6.4         2.7          5.3         1.9   Iris-virginica\n",
              "121          5.6         2.8          4.9         2.0   Iris-virginica\n",
              "131          7.9         3.8          6.4         2.0   Iris-virginica\n",
              "141          6.9         3.1          5.1         2.3   Iris-virginica"
            ]
          },
          "metadata": {
            "tags": []
          },
          "execution_count": 59
        }
      ]
    },
    {
      "cell_type": "markdown",
      "metadata": {
        "id": "dMgT8iwCdzSa"
      },
      "source": [
        "# Obrigado!\n",
        "\n",
        "Obrigado por ter disponibilizado um pouco do seu tempo e atenção aqui. Espero que, de alguma forma, tenha sido útil para seu crescimento. Se houver qualquer dúvida ou sugestão, não hesite em entrar em contato no [LinkedIn](https://www.linkedin.com/in/daniel-sousa-amador) e verificar meus outros projetos no [GitHub](https://github.com/amadords).\n",
        "\n",
        "\n",
        "[![LinkedIn](https://img.shields.io/badge/LinkedIn-DanielSousaAmador-cyan.svg)](https://www.linkedin.com/in/daniel-sousa-amador)\n",
        "[![GitHub](https://img.shields.io/badge/GitHub-amadords-darkblue.svg)](https://github.com/amadords)\n",
        "[![Medium](https://img.shields.io/badge/Medium-DanielSousaAmador-white.svg)](https://daniel-s-amador.medium.com/)\n",
        "\n",
        "<center><img width=\"90%\" src=\"https://raw.githubusercontent.com/danielamador12/Portfolio/master/github.png\"></center>"
      ]
    }
  ]
}