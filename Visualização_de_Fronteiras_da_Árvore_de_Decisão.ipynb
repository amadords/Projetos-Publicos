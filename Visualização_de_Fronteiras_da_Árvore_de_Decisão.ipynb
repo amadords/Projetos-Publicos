{
  "nbformat": 4,
  "nbformat_minor": 0,
  "metadata": {
    "kernelspec": {
      "display_name": "Python 3",
      "language": "python",
      "name": "python3"
    },
    "language_info": {
      "codemirror_mode": {
        "name": "ipython",
        "version": 3
      },
      "file_extension": ".py",
      "mimetype": "text/x-python",
      "name": "python",
      "nbconvert_exporter": "python",
      "pygments_lexer": "ipython3",
      "version": "3.7.6"
    },
    "colab": {
      "name": "Visualização de Fronteiras da Árvore de Decisão",
      "provenance": [],
      "collapsed_sections": [
        "gyhnRHRgnue4",
        "cKG6782HnugE"
      ],
      "include_colab_link": true
    }
  },
  "cells": [
    {
      "cell_type": "markdown",
      "metadata": {
        "id": "view-in-github",
        "colab_type": "text"
      },
      "source": [
        "<a href=\"https://colab.research.google.com/github/danielamador12/Projetos-Publicos/blob/master/Visualiza%C3%A7%C3%A3o_de_Fronteiras_da_%C3%81rvore_de_Decis%C3%A3o.ipynb\" target=\"_parent\"><img src=\"https://colab.research.google.com/assets/colab-badge.svg\" alt=\"Open In Colab\"/></a>"
      ]
    },
    {
      "cell_type": "markdown",
      "metadata": {
        "id": "ESyH607bnud2"
      },
      "source": [
        "# Árvore de Decisão - Fronteiras\n",
        "---\n",
        "[![LinkedIn](https://img.shields.io/badge/LinkedIn-DanielSousaAmador-purple.svg)](https://www.linkedin.com/in/daniel-sousa-amador)\n",
        "[![GitHub](https://img.shields.io/badge/GitHub-danielamador12-darkblue.svg)](https://github.com/danielamador12)\n",
        "[![Medium](https://img.shields.io/badge/Medium-DanielSousaAmador-darkorange.svg)](https://medium.com/@daniel.s.amador)\n",
        "\n",
        "\n",
        "\n",
        "Neste *notebook* **NÃO** trataremos sobre a teoria por trás das **Árvores de Decisão**, uma vez que essa teoria já foi abordada [aqui](https://bit.ly/2Guqmcd).\n",
        "\n",
        "Aqui trataremos sobre **visualização de fronteiras**, ou seja, os *limites da decisão do algoritmo* para cada classe de nossa saída.\n",
        "\n",
        "Vale a pena dizer que as fronteiras são bem visualizadas com dados numéricos, inclusive de forma gráfica e, existem bibliotecas que nos permitem fazer essa visualização.\n",
        "\n",
        "![fronteira](https://www.h2foz.com.br/fl/822x549/36888-5eebad1f94534_puente.jpg?node_id=36888)\n",
        "\n",
        "O dataset aqui utilizado é bastante utilizado por iniciantes no mundo de **Data Science** por sua *facilidade* e *simplicidade* em trabalhar e chegar a um resultado final sem passar por pré-processamentos como transformação de dados o balanceamento de classes. Também usamos esses mesmos dados com outros algoritmos e você pode visualizá-los nos links abaixo:\n",
        "* [KMeans]( https://bit.ly/3cNfDG4)\n",
        "* [KNN](https://bit.ly/34vtr4v)\n",
        "* [SVM](https://bit.ly/3iiWnS4)\n",
        "> Observação: O *dataset* também pode ser utilizados com outros algoritmos como Regressão Linear ou Logística, por exemplo.\n",
        "\n",
        "O *dataset* foi retirado diretamente da *API*  da biblioteca **scikit learn** e pode ser visualizado [aqui](https://scikit-learn.org/stable/modules/generated/sklearn.datasets.load_iris.html).\n",
        "\n",
        "## Sobre o projeto\n",
        "\n",
        "A ideia é utilizar essa base simples para trazer à tona a compreensão de como o algoritmo vai tomando suas decisões. Como entraremos no que eu chamaria de \"**baixo nível**\", ou seja, entramos no escopo que em uma análise não é tão comum entrar, logo meu conselho é que, não tente se ater demais aos códigos, pois focamos aqui na visualização das regras bem como das fronteiras para classificação.\n",
        "\n",
        "\n",
        "## Checklist\n",
        "\n",
        "1. Definição do Problema \n",
        "2. Obtenção dos Dados e Machine Learning\n",
        "3. Validação\n",
        "4. Visualização\n",
        "5. Navegando na estrutura de uma árvore de decisão\n",
        "6. Visualizando fronteiras\n"
      ]
    },
    {
      "cell_type": "markdown",
      "metadata": {
        "id": "-TFpK60Dnud4"
      },
      "source": [
        "# 1. Definição do Problema \n",
        "\n",
        "No \"problema\" temos uma base de dados de flores do ***tipo* Iris**, sendo elas:\n",
        "* Iris setosa\n",
        "* Iris versicolor\n",
        "* Iris virginica\n",
        "\n",
        "E são divididas nas seguintes **características**:\n",
        "* sepal length (cm) - comprimento da Sépala\n",
        "*     sepal width (cm) - largura da Sépala\n",
        "*    petal length (cm) - comprimento da Pétala\n",
        "*     petal width (cm) - altura da Pétala\n",
        "\n",
        "**Pétala** é a parte interna da flor e é aquela parte da flor que chama nossa atenção por ser colorida e frágil. Dentre suas funções, ela serve para atrair os polinizadores.\n",
        "**Sépala** é a parte mais externa da flor e são, normalmente, menores e mais rigidas ou consistentes que as pétalas, servindo para protegê-las e fechando sobre elas com o intuito de proteção quando na antese, ou seja, no momento de maturação de uma flor.\n",
        "\n",
        "Esses detalhes servem apenas para conhecimento do que a gente vai trabalhar, mas para hoje não precisamos aprofundar mais que isso.\n",
        "\n",
        "### A grande questão\n",
        "Será que temos como, apenas com essas quatro características classificar cada tipo de árvore?\n",
        "\n",
        "Sim, é possível, contudo não é esse o nosso foco hoje, por isso passaremos de forma rápida por isso, chegando ao final na parte de **visualização de fronteiras** e como o algoritmo **decidiu** para **classificar**.\n"
      ]
    },
    {
      "cell_type": "markdown",
      "metadata": {
        "id": "joiNekIDnud6"
      },
      "source": [
        "# 2. Obtenção dos Dados e Machine Learning"
      ]
    },
    {
      "cell_type": "markdown",
      "metadata": {
        "id": "TGjjaPLgnud8"
      },
      "source": [
        "**Importação das bibliotecas**"
      ]
    },
    {
      "cell_type": "code",
      "metadata": {
        "id": "Wg2Q3K63nud-"
      },
      "source": [
        "from sklearn.tree import export_graphviz # para exportar gráficos\n",
        "from sklearn.datasets import load_iris\n",
        "from sklearn import tree\n",
        "import numpy as np\n",
        "import pandas as pd\n",
        "from sklearn.tree import DecisionTreeClassifier"
      ],
      "execution_count": null,
      "outputs": []
    },
    {
      "cell_type": "markdown",
      "metadata": {
        "id": "nQGlNWW4nueJ"
      },
      "source": [
        "**Carregando a base de dados**"
      ]
    },
    {
      "cell_type": "code",
      "metadata": {
        "id": "TlIrPzimnueL"
      },
      "source": [
        "iris = load_iris()"
      ],
      "execution_count": null,
      "outputs": []
    },
    {
      "cell_type": "code",
      "metadata": {
        "id": "M8czkR9FnueS",
        "outputId": "f07fcbb6-08d3-4f2e-c573-42fd03d8f18e"
      },
      "source": [
        "# formato series é só pra melhorar a visualização da saida\n",
        "pd.Series(iris.feature_names),pd.Series(iris.target_names)"
      ],
      "execution_count": null,
      "outputs": [
        {
          "output_type": "execute_result",
          "data": {
            "text/plain": [
              "(0    sepal length (cm)\n",
              " 1     sepal width (cm)\n",
              " 2    petal length (cm)\n",
              " 3     petal width (cm)\n",
              " dtype: object,\n",
              " 0        setosa\n",
              " 1    versicolor\n",
              " 2     virginica\n",
              " dtype: object)"
            ]
          },
          "metadata": {
            "tags": []
          },
          "execution_count": 3
        }
      ]
    },
    {
      "cell_type": "code",
      "metadata": {
        "id": "GHAC-lL9nueZ",
        "outputId": "c6a57715-890d-4494-db33-fb9f38dc401d"
      },
      "source": [
        "# dados\n",
        "iris.data"
      ],
      "execution_count": null,
      "outputs": [
        {
          "output_type": "execute_result",
          "data": {
            "text/plain": [
              "array([[5.1, 3.5, 1.4, 0.2],\n",
              "       [4.9, 3. , 1.4, 0.2],\n",
              "       [4.7, 3.2, 1.3, 0.2],\n",
              "       [4.6, 3.1, 1.5, 0.2],\n",
              "       [5. , 3.6, 1.4, 0.2],\n",
              "       [5.4, 3.9, 1.7, 0.4],\n",
              "       [4.6, 3.4, 1.4, 0.3],\n",
              "       [5. , 3.4, 1.5, 0.2],\n",
              "       [4.4, 2.9, 1.4, 0.2],\n",
              "       [4.9, 3.1, 1.5, 0.1],\n",
              "       [5.4, 3.7, 1.5, 0.2],\n",
              "       [4.8, 3.4, 1.6, 0.2],\n",
              "       [4.8, 3. , 1.4, 0.1],\n",
              "       [4.3, 3. , 1.1, 0.1],\n",
              "       [5.8, 4. , 1.2, 0.2],\n",
              "       [5.7, 4.4, 1.5, 0.4],\n",
              "       [5.4, 3.9, 1.3, 0.4],\n",
              "       [5.1, 3.5, 1.4, 0.3],\n",
              "       [5.7, 3.8, 1.7, 0.3],\n",
              "       [5.1, 3.8, 1.5, 0.3],\n",
              "       [5.4, 3.4, 1.7, 0.2],\n",
              "       [5.1, 3.7, 1.5, 0.4],\n",
              "       [4.6, 3.6, 1. , 0.2],\n",
              "       [5.1, 3.3, 1.7, 0.5],\n",
              "       [4.8, 3.4, 1.9, 0.2],\n",
              "       [5. , 3. , 1.6, 0.2],\n",
              "       [5. , 3.4, 1.6, 0.4],\n",
              "       [5.2, 3.5, 1.5, 0.2],\n",
              "       [5.2, 3.4, 1.4, 0.2],\n",
              "       [4.7, 3.2, 1.6, 0.2],\n",
              "       [4.8, 3.1, 1.6, 0.2],\n",
              "       [5.4, 3.4, 1.5, 0.4],\n",
              "       [5.2, 4.1, 1.5, 0.1],\n",
              "       [5.5, 4.2, 1.4, 0.2],\n",
              "       [4.9, 3.1, 1.5, 0.2],\n",
              "       [5. , 3.2, 1.2, 0.2],\n",
              "       [5.5, 3.5, 1.3, 0.2],\n",
              "       [4.9, 3.6, 1.4, 0.1],\n",
              "       [4.4, 3. , 1.3, 0.2],\n",
              "       [5.1, 3.4, 1.5, 0.2],\n",
              "       [5. , 3.5, 1.3, 0.3],\n",
              "       [4.5, 2.3, 1.3, 0.3],\n",
              "       [4.4, 3.2, 1.3, 0.2],\n",
              "       [5. , 3.5, 1.6, 0.6],\n",
              "       [5.1, 3.8, 1.9, 0.4],\n",
              "       [4.8, 3. , 1.4, 0.3],\n",
              "       [5.1, 3.8, 1.6, 0.2],\n",
              "       [4.6, 3.2, 1.4, 0.2],\n",
              "       [5.3, 3.7, 1.5, 0.2],\n",
              "       [5. , 3.3, 1.4, 0.2],\n",
              "       [7. , 3.2, 4.7, 1.4],\n",
              "       [6.4, 3.2, 4.5, 1.5],\n",
              "       [6.9, 3.1, 4.9, 1.5],\n",
              "       [5.5, 2.3, 4. , 1.3],\n",
              "       [6.5, 2.8, 4.6, 1.5],\n",
              "       [5.7, 2.8, 4.5, 1.3],\n",
              "       [6.3, 3.3, 4.7, 1.6],\n",
              "       [4.9, 2.4, 3.3, 1. ],\n",
              "       [6.6, 2.9, 4.6, 1.3],\n",
              "       [5.2, 2.7, 3.9, 1.4],\n",
              "       [5. , 2. , 3.5, 1. ],\n",
              "       [5.9, 3. , 4.2, 1.5],\n",
              "       [6. , 2.2, 4. , 1. ],\n",
              "       [6.1, 2.9, 4.7, 1.4],\n",
              "       [5.6, 2.9, 3.6, 1.3],\n",
              "       [6.7, 3.1, 4.4, 1.4],\n",
              "       [5.6, 3. , 4.5, 1.5],\n",
              "       [5.8, 2.7, 4.1, 1. ],\n",
              "       [6.2, 2.2, 4.5, 1.5],\n",
              "       [5.6, 2.5, 3.9, 1.1],\n",
              "       [5.9, 3.2, 4.8, 1.8],\n",
              "       [6.1, 2.8, 4. , 1.3],\n",
              "       [6.3, 2.5, 4.9, 1.5],\n",
              "       [6.1, 2.8, 4.7, 1.2],\n",
              "       [6.4, 2.9, 4.3, 1.3],\n",
              "       [6.6, 3. , 4.4, 1.4],\n",
              "       [6.8, 2.8, 4.8, 1.4],\n",
              "       [6.7, 3. , 5. , 1.7],\n",
              "       [6. , 2.9, 4.5, 1.5],\n",
              "       [5.7, 2.6, 3.5, 1. ],\n",
              "       [5.5, 2.4, 3.8, 1.1],\n",
              "       [5.5, 2.4, 3.7, 1. ],\n",
              "       [5.8, 2.7, 3.9, 1.2],\n",
              "       [6. , 2.7, 5.1, 1.6],\n",
              "       [5.4, 3. , 4.5, 1.5],\n",
              "       [6. , 3.4, 4.5, 1.6],\n",
              "       [6.7, 3.1, 4.7, 1.5],\n",
              "       [6.3, 2.3, 4.4, 1.3],\n",
              "       [5.6, 3. , 4.1, 1.3],\n",
              "       [5.5, 2.5, 4. , 1.3],\n",
              "       [5.5, 2.6, 4.4, 1.2],\n",
              "       [6.1, 3. , 4.6, 1.4],\n",
              "       [5.8, 2.6, 4. , 1.2],\n",
              "       [5. , 2.3, 3.3, 1. ],\n",
              "       [5.6, 2.7, 4.2, 1.3],\n",
              "       [5.7, 3. , 4.2, 1.2],\n",
              "       [5.7, 2.9, 4.2, 1.3],\n",
              "       [6.2, 2.9, 4.3, 1.3],\n",
              "       [5.1, 2.5, 3. , 1.1],\n",
              "       [5.7, 2.8, 4.1, 1.3],\n",
              "       [6.3, 3.3, 6. , 2.5],\n",
              "       [5.8, 2.7, 5.1, 1.9],\n",
              "       [7.1, 3. , 5.9, 2.1],\n",
              "       [6.3, 2.9, 5.6, 1.8],\n",
              "       [6.5, 3. , 5.8, 2.2],\n",
              "       [7.6, 3. , 6.6, 2.1],\n",
              "       [4.9, 2.5, 4.5, 1.7],\n",
              "       [7.3, 2.9, 6.3, 1.8],\n",
              "       [6.7, 2.5, 5.8, 1.8],\n",
              "       [7.2, 3.6, 6.1, 2.5],\n",
              "       [6.5, 3.2, 5.1, 2. ],\n",
              "       [6.4, 2.7, 5.3, 1.9],\n",
              "       [6.8, 3. , 5.5, 2.1],\n",
              "       [5.7, 2.5, 5. , 2. ],\n",
              "       [5.8, 2.8, 5.1, 2.4],\n",
              "       [6.4, 3.2, 5.3, 2.3],\n",
              "       [6.5, 3. , 5.5, 1.8],\n",
              "       [7.7, 3.8, 6.7, 2.2],\n",
              "       [7.7, 2.6, 6.9, 2.3],\n",
              "       [6. , 2.2, 5. , 1.5],\n",
              "       [6.9, 3.2, 5.7, 2.3],\n",
              "       [5.6, 2.8, 4.9, 2. ],\n",
              "       [7.7, 2.8, 6.7, 2. ],\n",
              "       [6.3, 2.7, 4.9, 1.8],\n",
              "       [6.7, 3.3, 5.7, 2.1],\n",
              "       [7.2, 3.2, 6. , 1.8],\n",
              "       [6.2, 2.8, 4.8, 1.8],\n",
              "       [6.1, 3. , 4.9, 1.8],\n",
              "       [6.4, 2.8, 5.6, 2.1],\n",
              "       [7.2, 3. , 5.8, 1.6],\n",
              "       [7.4, 2.8, 6.1, 1.9],\n",
              "       [7.9, 3.8, 6.4, 2. ],\n",
              "       [6.4, 2.8, 5.6, 2.2],\n",
              "       [6.3, 2.8, 5.1, 1.5],\n",
              "       [6.1, 2.6, 5.6, 1.4],\n",
              "       [7.7, 3. , 6.1, 2.3],\n",
              "       [6.3, 3.4, 5.6, 2.4],\n",
              "       [6.4, 3.1, 5.5, 1.8],\n",
              "       [6. , 3. , 4.8, 1.8],\n",
              "       [6.9, 3.1, 5.4, 2.1],\n",
              "       [6.7, 3.1, 5.6, 2.4],\n",
              "       [6.9, 3.1, 5.1, 2.3],\n",
              "       [5.8, 2.7, 5.1, 1.9],\n",
              "       [6.8, 3.2, 5.9, 2.3],\n",
              "       [6.7, 3.3, 5.7, 2.5],\n",
              "       [6.7, 3. , 5.2, 2.3],\n",
              "       [6.3, 2.5, 5. , 1.9],\n",
              "       [6.5, 3. , 5.2, 2. ],\n",
              "       [6.2, 3.4, 5.4, 2.3],\n",
              "       [5.9, 3. , 5.1, 1.8]])"
            ]
          },
          "metadata": {
            "tags": []
          },
          "execution_count": 4
        }
      ]
    },
    {
      "cell_type": "markdown",
      "metadata": {
        "id": "sDXYifIvnueg"
      },
      "source": [
        "**Divisão dos Dados**\n",
        "\n",
        "Dividindo os dados em treino e teste em 70/30"
      ]
    },
    {
      "cell_type": "code",
      "metadata": {
        "id": "ZVEL-jQ4nuei"
      },
      "source": [
        "from sklearn.model_selection import train_test_split\n",
        "\n",
        "X_train, X_test, y_train, y_test = train_test_split(iris.data,iris.target,test_size=0.3)"
      ],
      "execution_count": null,
      "outputs": []
    },
    {
      "cell_type": "markdown",
      "metadata": {
        "id": "noRTgHJznueq"
      },
      "source": [
        "**Verificando os shapes de X**"
      ]
    },
    {
      "cell_type": "code",
      "metadata": {
        "id": "FE2-ekEEnuer",
        "outputId": "99f833c9-52bb-4ad2-de87-94ab06d89390"
      },
      "source": [
        "X_train.shape,X_test.shape"
      ],
      "execution_count": null,
      "outputs": [
        {
          "output_type": "execute_result",
          "data": {
            "text/plain": [
              "((105, 4), (45, 4))"
            ]
          },
          "metadata": {
            "tags": []
          },
          "execution_count": 6
        }
      ]
    },
    {
      "cell_type": "markdown",
      "metadata": {
        "id": "C6uCUa9mnuew"
      },
      "source": [
        "**Verificando os shapes de y**"
      ]
    },
    {
      "cell_type": "code",
      "metadata": {
        "id": "A4EkHhuPnuey",
        "outputId": "bc926c44-0906-42a1-cfe2-bcb87774d703"
      },
      "source": [
        "y_train.shape,y_test.shape"
      ],
      "execution_count": null,
      "outputs": [
        {
          "output_type": "execute_result",
          "data": {
            "text/plain": [
              "((105,), (45,))"
            ]
          },
          "metadata": {
            "tags": []
          },
          "execution_count": 7
        }
      ]
    },
    {
      "cell_type": "markdown",
      "metadata": {
        "id": "gyhnRHRgnue4"
      },
      "source": [
        "### Machine Learning "
      ]
    },
    {
      "cell_type": "markdown",
      "metadata": {
        "id": "7-qLTggdnue5"
      },
      "source": [
        "**Instanciando o objeto classificador**"
      ]
    },
    {
      "cell_type": "code",
      "metadata": {
        "id": "Kz341CNLnue5"
      },
      "source": [
        "clf = tree.DecisionTreeClassifier()"
      ],
      "execution_count": null,
      "outputs": []
    },
    {
      "cell_type": "markdown",
      "metadata": {
        "id": "n6Xnmal-nue_"
      },
      "source": [
        "**Treinando a árvore e verificando as features mais importantes**"
      ]
    },
    {
      "cell_type": "code",
      "metadata": {
        "id": "SyioM2wenufA",
        "outputId": "e24c8b64-20a7-4c7c-a453-30158f5c76bd"
      },
      "source": [
        "# treinando a árvore\n",
        "clf = clf.fit(X_train,y_train)\n",
        "# verificando features mais importantes para o modelo\n",
        "clf.feature_importances_"
      ],
      "execution_count": null,
      "outputs": [
        {
          "output_type": "execute_result",
          "data": {
            "text/plain": [
              "array([0.01908397, 0.02271901, 0.93638677, 0.02181025])"
            ]
          },
          "metadata": {
            "tags": []
          },
          "execution_count": 9
        }
      ]
    },
    {
      "cell_type": "markdown",
      "metadata": {
        "id": "zefKMWD_nufH"
      },
      "source": [
        "**Função para visualizar para cada classe**"
      ]
    },
    {
      "cell_type": "code",
      "metadata": {
        "id": "fvzr-pNqnufI",
        "outputId": "2042b84e-e9b0-4101-f3e2-a1d574c861f9"
      },
      "source": [
        "for feature,importancia in zip(iris.feature_names,clf.feature_importances_):\n",
        "    print(\"{}:{}\".format(feature, importancia.round(4)))\n",
        "# pode ser sem o round(4)"
      ],
      "execution_count": null,
      "outputs": [
        {
          "output_type": "stream",
          "text": [
            "sepal length (cm):0.0191\n",
            "sepal width (cm):0.0227\n",
            "petal length (cm):0.9364\n",
            "petal width (cm):0.0218\n"
          ],
          "name": "stdout"
        }
      ]
    },
    {
      "cell_type": "markdown",
      "metadata": {
        "id": "NcsuDDG4nufa"
      },
      "source": [
        "**Predizendo o conjunto de teste**"
      ]
    },
    {
      "cell_type": "code",
      "metadata": {
        "id": "WedM2cVXnufc",
        "outputId": "b48d52db-460f-4875-f7fc-7fc5025d467d"
      },
      "source": [
        "resultado=clf.predict(X_test)\n",
        "print(resultado)"
      ],
      "execution_count": null,
      "outputs": [
        {
          "output_type": "stream",
          "text": [
            "[0 1 1 1 1 2 2 0 2 0 2 1 0 1 2 1 1 1 2 1 1 2 2 2 1 2 2 1 0 0 2 0 1 0 2 2 0\n",
            " 0 1 1 0 2 1 2 0]\n"
          ],
          "name": "stdout"
        }
      ]
    },
    {
      "cell_type": "markdown",
      "metadata": {
        "id": "1geRqUXvnufk"
      },
      "source": [
        "**Testando nova amostra**"
      ]
    },
    {
      "cell_type": "code",
      "metadata": {
        "id": "GAqo2a9knufk",
        "outputId": "9aed40da-8954-444e-cba2-0c44cab74aff"
      },
      "source": [
        "test=np.array([[5.1,3.5,1.4,0.2]])\n",
        "clf.predict(test)"
      ],
      "execution_count": null,
      "outputs": [
        {
          "output_type": "execute_result",
          "data": {
            "text/plain": [
              "array([0])"
            ]
          },
          "metadata": {
            "tags": []
          },
          "execution_count": 12
        }
      ]
    },
    {
      "cell_type": "markdown",
      "metadata": {
        "id": "xAT4NuWVnufq"
      },
      "source": [
        "**Verificando a probabilidade por classe**"
      ]
    },
    {
      "cell_type": "code",
      "metadata": {
        "id": "7C87VRFKnufr",
        "outputId": "577407ae-67ec-4b3c-b16e-88bf00eb1d92"
      },
      "source": [
        "print(clf.predict_proba(test))"
      ],
      "execution_count": null,
      "outputs": [
        {
          "output_type": "stream",
          "text": [
            "[[1. 0. 0.]]\n"
          ],
          "name": "stdout"
        }
      ]
    },
    {
      "cell_type": "markdown",
      "metadata": {
        "id": "DhHXGQMhnufv"
      },
      "source": [
        "# 3. Validação"
      ]
    },
    {
      "cell_type": "markdown",
      "metadata": {
        "id": "ziM5qcEnnufx"
      },
      "source": [
        "**Métricas**"
      ]
    },
    {
      "cell_type": "code",
      "metadata": {
        "id": "3xP6_Af4nufx",
        "outputId": "78892aca-e84a-481a-c2f4-ccb96add19de"
      },
      "source": [
        "from sklearn import metrics\n",
        "print(metrics.classification_report(y_test,resultado,target_names=iris.target_names))"
      ],
      "execution_count": null,
      "outputs": [
        {
          "output_type": "stream",
          "text": [
            "              precision    recall  f1-score   support\n",
            "\n",
            "      setosa       1.00      1.00      1.00        12\n",
            "  versicolor       0.94      0.94      0.94        17\n",
            "   virginica       0.94      0.94      0.94        16\n",
            "\n",
            "    accuracy                           0.96        45\n",
            "   macro avg       0.96      0.96      0.96        45\n",
            "weighted avg       0.96      0.96      0.96        45\n",
            "\n"
          ],
          "name": "stdout"
        }
      ]
    },
    {
      "cell_type": "markdown",
      "metadata": {
        "id": "Aa2q4ID8nuf1"
      },
      "source": [
        "Em tese, nosso modelo está muito bom, veja que a acertividade está em quase 100%, contudo para podermos saber se os dados não estão **sobreajustados**, também temos que testar o modelo com os dados de teste, os próprios dados de treino e novas amostras para saber como se sai o algoritmo.\n",
        "\n",
        "Aqui não estamos focando na parte de overfitting ou algo do tipo, mas caso você esteja com curiosidade, pode ver nesse [notebook](https://bit.ly/2Guqmcd) em seu terceiro tópico `3. max_depth em Ação` o modelo enviesado inicialmente, depois deixando de ser *enviesado* para estar dentro dos parâmetros \"usáveis\" e depois indo para um *overfitting*."
      ]
    },
    {
      "cell_type": "markdown",
      "metadata": {
        "id": "Dwved3Vvnuf1"
      },
      "source": [
        "# 4. Visualização\n",
        "Disponibilização do código feita pela própria **Scikit Learn** para visualizar a árvore. Veja como é fácil encontrar as *regras* da árvores de decisão. "
      ]
    },
    {
      "cell_type": "markdown",
      "metadata": {
        "id": "6v_Ikg9Tnuf2"
      },
      "source": [
        "**Importações**"
      ]
    },
    {
      "cell_type": "code",
      "metadata": {
        "id": "G98QF_sgnuf3"
      },
      "source": [
        "import pydot # para visualização da árvore de decisão\n",
        "import graphviz # biblioteca para plotar diagramas (gráficos)\n",
        "from ipywidgets import interactive # para utilização de widgets interativos"
      ],
      "execution_count": null,
      "outputs": []
    },
    {
      "cell_type": "markdown",
      "metadata": {
        "id": "VhSq25vMnuf6"
      },
      "source": [
        "**Visualizando de forma gráfica a árvore gerada**\n",
        "\n",
        "O `tree.export_graphviz` foi importado com *from sklearn.tree* **import** *export_graphviz*."
      ]
    },
    {
      "cell_type": "code",
      "metadata": {
        "id": "smX_QLRJnuf8",
        "outputId": "63750e40-6cbe-4944-fd7f-1b85ab84b2ad"
      },
      "source": [
        "dot_data = tree.export_graphviz( # os parâmetros abaixo\n",
        "         clf, # o modelo em si\n",
        "         out_file=None, # se quer gerar um arquivo externo\n",
        "         feature_names=iris.feature_names, # features da bd\n",
        "         class_names=iris.target_names,  # classes da bd\n",
        "         filled=True, rounded=True, # se quer preencher e arredondar as caixas\n",
        "         proportion=True, \n",
        "         node_ids=True, # para saber o id de cada nó\n",
        "         rotate=False,# se True vai gerar na horizontal\n",
        "         label='all', # quais colunas mostrar\n",
        "         special_characters=True # se houver, imprime\n",
        "        )  \n",
        "graph = graphviz.Source(dot_data) \n",
        "graph"
      ],
      "execution_count": null,
      "outputs": [
        {
          "output_type": "execute_result",
          "data": {
            "image/svg+xml": "<?xml version=\"1.0\" encoding=\"UTF-8\" standalone=\"no\"?>\n<!DOCTYPE svg PUBLIC \"-//W3C//DTD SVG 1.1//EN\"\n \"http://www.w3.org/Graphics/SVG/1.1/DTD/svg11.dtd\">\n<!-- Generated by graphviz version 2.43.0 (0)\n -->\n<!-- Title: Tree Pages: 1 -->\n<svg width=\"686pt\" height=\"895pt\"\n viewBox=\"0.00 0.00 686.00 895.00\" xmlns=\"http://www.w3.org/2000/svg\" xmlns:xlink=\"http://www.w3.org/1999/xlink\">\n<g id=\"graph0\" class=\"graph\" transform=\"scale(1 1) rotate(0) translate(4 891)\">\n<title>Tree</title>\n<polygon fill=\"white\" stroke=\"transparent\" points=\"-4,4 -4,-891 682,-891 682,4 -4,4\"/>\n<!-- 0 -->\n<g id=\"node1\" class=\"node\">\n<title>0</title>\n<path fill=\"#fef8f4\" stroke=\"black\" d=\"M383,-887C383,-887 182,-887 182,-887 176,-887 170,-881 170,-875 170,-875 170,-801 170,-801 170,-795 176,-789 182,-789 182,-789 383,-789 383,-789 389,-789 395,-795 395,-801 395,-801 395,-875 395,-875 395,-881 389,-887 383,-887\"/>\n<text text-anchor=\"start\" x=\"252\" y=\"-871.8\" font-family=\"Helvetica,sans-Serif\" font-size=\"14.00\">node #0</text>\n<text text-anchor=\"start\" x=\"196.5\" y=\"-856.8\" font-family=\"Helvetica,sans-Serif\" font-size=\"14.00\">petal length (cm) ≤ 2.45</text>\n<text text-anchor=\"start\" x=\"238.5\" y=\"-841.8\" font-family=\"Helvetica,sans-Serif\" font-size=\"14.00\">gini = 0.665</text>\n<text text-anchor=\"start\" x=\"216\" y=\"-826.8\" font-family=\"Helvetica,sans-Serif\" font-size=\"14.00\">samples = 100.0%</text>\n<text text-anchor=\"start\" x=\"178\" y=\"-811.8\" font-family=\"Helvetica,sans-Serif\" font-size=\"14.00\">value = [0.362, 0.314, 0.324]</text>\n<text text-anchor=\"start\" x=\"232\" y=\"-796.8\" font-family=\"Helvetica,sans-Serif\" font-size=\"14.00\">class = setosa</text>\n</g>\n<!-- 1 -->\n<g id=\"node2\" class=\"node\">\n<title>1</title>\n<path fill=\"#e58139\" stroke=\"black\" d=\"M253,-745.5C253,-745.5 106,-745.5 106,-745.5 100,-745.5 94,-739.5 94,-733.5 94,-733.5 94,-674.5 94,-674.5 94,-668.5 100,-662.5 106,-662.5 106,-662.5 253,-662.5 253,-662.5 259,-662.5 265,-668.5 265,-674.5 265,-674.5 265,-733.5 265,-733.5 265,-739.5 259,-745.5 253,-745.5\"/>\n<text text-anchor=\"start\" x=\"149\" y=\"-730.3\" font-family=\"Helvetica,sans-Serif\" font-size=\"14.00\">node #1</text>\n<text text-anchor=\"start\" x=\"144.5\" y=\"-715.3\" font-family=\"Helvetica,sans-Serif\" font-size=\"14.00\">gini = 0.0</text>\n<text text-anchor=\"start\" x=\"117.5\" y=\"-700.3\" font-family=\"Helvetica,sans-Serif\" font-size=\"14.00\">samples = 36.2%</text>\n<text text-anchor=\"start\" x=\"102\" y=\"-685.3\" font-family=\"Helvetica,sans-Serif\" font-size=\"14.00\">value = [1.0, 0.0, 0.0]</text>\n<text text-anchor=\"start\" x=\"129\" y=\"-670.3\" font-family=\"Helvetica,sans-Serif\" font-size=\"14.00\">class = setosa</text>\n</g>\n<!-- 0&#45;&gt;1 -->\n<g id=\"edge1\" class=\"edge\">\n<title>0&#45;&gt;1</title>\n<path fill=\"none\" stroke=\"black\" d=\"M245.02,-788.97C236.14,-777.58 226.65,-765.42 217.73,-753.99\"/>\n<polygon fill=\"black\" stroke=\"black\" points=\"220.26,-751.55 211.35,-745.82 214.74,-755.85 220.26,-751.55\"/>\n<text text-anchor=\"middle\" x=\"208.29\" y=\"-766.93\" font-family=\"Helvetica,sans-Serif\" font-size=\"14.00\">True</text>\n</g>\n<!-- 2 -->\n<g id=\"node3\" class=\"node\">\n<title>2</title>\n<path fill=\"#fbf9fe\" stroke=\"black\" d=\"M478,-753C478,-753 295,-753 295,-753 289,-753 283,-747 283,-741 283,-741 283,-667 283,-667 283,-661 289,-655 295,-655 295,-655 478,-655 478,-655 484,-655 490,-661 490,-667 490,-667 490,-741 490,-741 490,-747 484,-753 478,-753\"/>\n<text text-anchor=\"start\" x=\"356\" y=\"-737.8\" font-family=\"Helvetica,sans-Serif\" font-size=\"14.00\">node #2</text>\n<text text-anchor=\"start\" x=\"300.5\" y=\"-722.8\" font-family=\"Helvetica,sans-Serif\" font-size=\"14.00\">petal length (cm) ≤ 4.75</text>\n<text text-anchor=\"start\" x=\"351.5\" y=\"-707.8\" font-family=\"Helvetica,sans-Serif\" font-size=\"14.00\">gini = 0.5</text>\n<text text-anchor=\"start\" x=\"324.5\" y=\"-692.8\" font-family=\"Helvetica,sans-Serif\" font-size=\"14.00\">samples = 63.8%</text>\n<text text-anchor=\"start\" x=\"291\" y=\"-677.8\" font-family=\"Helvetica,sans-Serif\" font-size=\"14.00\">value = [0.0, 0.493, 0.507]</text>\n<text text-anchor=\"start\" x=\"329\" y=\"-662.8\" font-family=\"Helvetica,sans-Serif\" font-size=\"14.00\">class = virginica</text>\n</g>\n<!-- 0&#45;&gt;2 -->\n<g id=\"edge2\" class=\"edge\">\n<title>0&#45;&gt;2</title>\n<path fill=\"none\" stroke=\"black\" d=\"M320.34,-788.97C327.44,-779.96 334.92,-770.47 342.19,-761.24\"/>\n<polygon fill=\"black\" stroke=\"black\" points=\"345.07,-763.23 348.51,-753.21 339.58,-758.9 345.07,-763.23\"/>\n<text text-anchor=\"middle\" x=\"351.46\" y=\"-774.34\" font-family=\"Helvetica,sans-Serif\" font-size=\"14.00\">False</text>\n</g>\n<!-- 3 -->\n<g id=\"node4\" class=\"node\">\n<title>3</title>\n<path fill=\"#39e581\" stroke=\"black\" d=\"M356,-611.5C356,-611.5 209,-611.5 209,-611.5 203,-611.5 197,-605.5 197,-599.5 197,-599.5 197,-540.5 197,-540.5 197,-534.5 203,-528.5 209,-528.5 209,-528.5 356,-528.5 356,-528.5 362,-528.5 368,-534.5 368,-540.5 368,-540.5 368,-599.5 368,-599.5 368,-605.5 362,-611.5 356,-611.5\"/>\n<text text-anchor=\"start\" x=\"252\" y=\"-596.3\" font-family=\"Helvetica,sans-Serif\" font-size=\"14.00\">node #3</text>\n<text text-anchor=\"start\" x=\"247.5\" y=\"-581.3\" font-family=\"Helvetica,sans-Serif\" font-size=\"14.00\">gini = 0.0</text>\n<text text-anchor=\"start\" x=\"220.5\" y=\"-566.3\" font-family=\"Helvetica,sans-Serif\" font-size=\"14.00\">samples = 27.6%</text>\n<text text-anchor=\"start\" x=\"205\" y=\"-551.3\" font-family=\"Helvetica,sans-Serif\" font-size=\"14.00\">value = [0.0, 1.0, 0.0]</text>\n<text text-anchor=\"start\" x=\"220.5\" y=\"-536.3\" font-family=\"Helvetica,sans-Serif\" font-size=\"14.00\">class = versicolor</text>\n</g>\n<!-- 2&#45;&gt;3 -->\n<g id=\"edge3\" class=\"edge\">\n<title>2&#45;&gt;3</title>\n<path fill=\"none\" stroke=\"black\" d=\"M348.66,-654.97C339.69,-643.58 330.1,-631.42 321.1,-619.99\"/>\n<polygon fill=\"black\" stroke=\"black\" points=\"323.6,-617.51 314.66,-611.82 318.1,-621.84 323.6,-617.51\"/>\n</g>\n<!-- 4 -->\n<g id=\"node5\" class=\"node\">\n<title>4</title>\n<path fill=\"#9050e8\" stroke=\"black\" d=\"M581,-619C581,-619 398,-619 398,-619 392,-619 386,-613 386,-607 386,-607 386,-533 386,-533 386,-527 392,-521 398,-521 398,-521 581,-521 581,-521 587,-521 593,-527 593,-533 593,-533 593,-607 593,-607 593,-613 587,-619 581,-619\"/>\n<text text-anchor=\"start\" x=\"459\" y=\"-603.8\" font-family=\"Helvetica,sans-Serif\" font-size=\"14.00\">node #4</text>\n<text text-anchor=\"start\" x=\"403.5\" y=\"-588.8\" font-family=\"Helvetica,sans-Serif\" font-size=\"14.00\">petal length (cm) ≤ 5.05</text>\n<text text-anchor=\"start\" x=\"445.5\" y=\"-573.8\" font-family=\"Helvetica,sans-Serif\" font-size=\"14.00\">gini = 0.188</text>\n<text text-anchor=\"start\" x=\"427.5\" y=\"-558.8\" font-family=\"Helvetica,sans-Serif\" font-size=\"14.00\">samples = 36.2%</text>\n<text text-anchor=\"start\" x=\"394\" y=\"-543.8\" font-family=\"Helvetica,sans-Serif\" font-size=\"14.00\">value = [0.0, 0.105, 0.895]</text>\n<text text-anchor=\"start\" x=\"432\" y=\"-528.8\" font-family=\"Helvetica,sans-Serif\" font-size=\"14.00\">class = virginica</text>\n</g>\n<!-- 2&#45;&gt;4 -->\n<g id=\"edge4\" class=\"edge\">\n<title>2&#45;&gt;4</title>\n<path fill=\"none\" stroke=\"black\" d=\"M423.98,-654.97C431.01,-645.96 438.41,-636.47 445.62,-627.24\"/>\n<polygon fill=\"black\" stroke=\"black\" points=\"448.49,-629.25 451.88,-619.21 442.97,-624.94 448.49,-629.25\"/>\n</g>\n<!-- 5 -->\n<g id=\"node6\" class=\"node\">\n<title>5</title>\n<path fill=\"#e6d7fa\" stroke=\"black\" d=\"M477,-485C477,-485 294,-485 294,-485 288,-485 282,-479 282,-473 282,-473 282,-399 282,-399 282,-393 288,-387 294,-387 294,-387 477,-387 477,-387 483,-387 489,-393 489,-399 489,-399 489,-473 489,-473 489,-479 483,-485 477,-485\"/>\n<text text-anchor=\"start\" x=\"355\" y=\"-469.8\" font-family=\"Helvetica,sans-Serif\" font-size=\"14.00\">node #5</text>\n<text text-anchor=\"start\" x=\"301\" y=\"-454.8\" font-family=\"Helvetica,sans-Serif\" font-size=\"14.00\">sepal width (cm) ≤ 3.05</text>\n<text text-anchor=\"start\" x=\"341.5\" y=\"-439.8\" font-family=\"Helvetica,sans-Serif\" font-size=\"14.00\">gini = 0.494</text>\n<text text-anchor=\"start\" x=\"328\" y=\"-424.8\" font-family=\"Helvetica,sans-Serif\" font-size=\"14.00\">samples = 8.6%</text>\n<text text-anchor=\"start\" x=\"290\" y=\"-409.8\" font-family=\"Helvetica,sans-Serif\" font-size=\"14.00\">value = [0.0, 0.444, 0.556]</text>\n<text text-anchor=\"start\" x=\"328\" y=\"-394.8\" font-family=\"Helvetica,sans-Serif\" font-size=\"14.00\">class = virginica</text>\n</g>\n<!-- 4&#45;&gt;5 -->\n<g id=\"edge5\" class=\"edge\">\n<title>4&#45;&gt;5</title>\n<path fill=\"none\" stroke=\"black\" d=\"M451.66,-520.97C444.56,-511.96 437.08,-502.47 429.81,-493.24\"/>\n<polygon fill=\"black\" stroke=\"black\" points=\"432.42,-490.9 423.49,-485.21 426.93,-495.23 432.42,-490.9\"/>\n</g>\n<!-- 12 -->\n<g id=\"node13\" class=\"node\">\n<title>12</title>\n<path fill=\"#8139e5\" stroke=\"black\" d=\"M666,-477.5C666,-477.5 519,-477.5 519,-477.5 513,-477.5 507,-471.5 507,-465.5 507,-465.5 507,-406.5 507,-406.5 507,-400.5 513,-394.5 519,-394.5 519,-394.5 666,-394.5 666,-394.5 672,-394.5 678,-400.5 678,-406.5 678,-406.5 678,-465.5 678,-465.5 678,-471.5 672,-477.5 666,-477.5\"/>\n<text text-anchor=\"start\" x=\"557.5\" y=\"-462.3\" font-family=\"Helvetica,sans-Serif\" font-size=\"14.00\">node #12</text>\n<text text-anchor=\"start\" x=\"557.5\" y=\"-447.3\" font-family=\"Helvetica,sans-Serif\" font-size=\"14.00\">gini = 0.0</text>\n<text text-anchor=\"start\" x=\"530.5\" y=\"-432.3\" font-family=\"Helvetica,sans-Serif\" font-size=\"14.00\">samples = 27.6%</text>\n<text text-anchor=\"start\" x=\"515\" y=\"-417.3\" font-family=\"Helvetica,sans-Serif\" font-size=\"14.00\">value = [0.0, 0.0, 1.0]</text>\n<text text-anchor=\"start\" x=\"535\" y=\"-402.3\" font-family=\"Helvetica,sans-Serif\" font-size=\"14.00\">class = virginica</text>\n</g>\n<!-- 4&#45;&gt;12 -->\n<g id=\"edge12\" class=\"edge\">\n<title>4&#45;&gt;12</title>\n<path fill=\"none\" stroke=\"black\" d=\"M526.98,-520.97C535.86,-509.58 545.35,-497.42 554.27,-485.99\"/>\n<polygon fill=\"black\" stroke=\"black\" points=\"557.26,-487.85 560.65,-477.82 551.74,-483.55 557.26,-487.85\"/>\n</g>\n<!-- 6 -->\n<g id=\"node7\" class=\"node\">\n<title>6</title>\n<path fill=\"#b388ef\" stroke=\"black\" d=\"M374,-351C374,-351 191,-351 191,-351 185,-351 179,-345 179,-339 179,-339 179,-265 179,-265 179,-259 185,-253 191,-253 191,-253 374,-253 374,-253 380,-253 386,-259 386,-265 386,-265 386,-339 386,-339 386,-345 380,-351 374,-351\"/>\n<text text-anchor=\"start\" x=\"252\" y=\"-335.8\" font-family=\"Helvetica,sans-Serif\" font-size=\"14.00\">node #6</text>\n<text text-anchor=\"start\" x=\"199.5\" y=\"-320.8\" font-family=\"Helvetica,sans-Serif\" font-size=\"14.00\">petal width (cm) ≤ 1.75</text>\n<text text-anchor=\"start\" x=\"238.5\" y=\"-305.8\" font-family=\"Helvetica,sans-Serif\" font-size=\"14.00\">gini = 0.408</text>\n<text text-anchor=\"start\" x=\"225\" y=\"-290.8\" font-family=\"Helvetica,sans-Serif\" font-size=\"14.00\">samples = 6.7%</text>\n<text text-anchor=\"start\" x=\"187\" y=\"-275.8\" font-family=\"Helvetica,sans-Serif\" font-size=\"14.00\">value = [0.0, 0.286, 0.714]</text>\n<text text-anchor=\"start\" x=\"225\" y=\"-260.8\" font-family=\"Helvetica,sans-Serif\" font-size=\"14.00\">class = virginica</text>\n</g>\n<!-- 5&#45;&gt;6 -->\n<g id=\"edge6\" class=\"edge\">\n<title>5&#45;&gt;6</title>\n<path fill=\"none\" stroke=\"black\" d=\"M348.02,-386.97C340.99,-377.96 333.59,-368.47 326.38,-359.24\"/>\n<polygon fill=\"black\" stroke=\"black\" points=\"329.03,-356.94 320.12,-351.21 323.51,-361.25 329.03,-356.94\"/>\n</g>\n<!-- 11 -->\n<g id=\"node12\" class=\"node\">\n<title>11</title>\n<path fill=\"#39e581\" stroke=\"black\" d=\"M563,-343.5C563,-343.5 416,-343.5 416,-343.5 410,-343.5 404,-337.5 404,-331.5 404,-331.5 404,-272.5 404,-272.5 404,-266.5 410,-260.5 416,-260.5 416,-260.5 563,-260.5 563,-260.5 569,-260.5 575,-266.5 575,-272.5 575,-272.5 575,-331.5 575,-331.5 575,-337.5 569,-343.5 563,-343.5\"/>\n<text text-anchor=\"start\" x=\"454.5\" y=\"-328.3\" font-family=\"Helvetica,sans-Serif\" font-size=\"14.00\">node #11</text>\n<text text-anchor=\"start\" x=\"454.5\" y=\"-313.3\" font-family=\"Helvetica,sans-Serif\" font-size=\"14.00\">gini = 0.0</text>\n<text text-anchor=\"start\" x=\"432\" y=\"-298.3\" font-family=\"Helvetica,sans-Serif\" font-size=\"14.00\">samples = 1.9%</text>\n<text text-anchor=\"start\" x=\"412\" y=\"-283.3\" font-family=\"Helvetica,sans-Serif\" font-size=\"14.00\">value = [0.0, 1.0, 0.0]</text>\n<text text-anchor=\"start\" x=\"427.5\" y=\"-268.3\" font-family=\"Helvetica,sans-Serif\" font-size=\"14.00\">class = versicolor</text>\n</g>\n<!-- 5&#45;&gt;11 -->\n<g id=\"edge11\" class=\"edge\">\n<title>5&#45;&gt;11</title>\n<path fill=\"none\" stroke=\"black\" d=\"M423.34,-386.97C432.31,-375.58 441.9,-363.42 450.9,-351.99\"/>\n<polygon fill=\"black\" stroke=\"black\" points=\"453.9,-353.84 457.34,-343.82 448.4,-349.51 453.9,-353.84\"/>\n</g>\n<!-- 7 -->\n<g id=\"node8\" class=\"node\">\n<title>7</title>\n<path fill=\"#9cf2c0\" stroke=\"black\" d=\"M271,-217C271,-217 88,-217 88,-217 82,-217 76,-211 76,-205 76,-205 76,-131 76,-131 76,-125 82,-119 88,-119 88,-119 271,-119 271,-119 277,-119 283,-125 283,-131 283,-131 283,-205 283,-205 283,-211 277,-217 271,-217\"/>\n<text text-anchor=\"start\" x=\"149\" y=\"-201.8\" font-family=\"Helvetica,sans-Serif\" font-size=\"14.00\">node #7</text>\n<text text-anchor=\"start\" x=\"92\" y=\"-186.8\" font-family=\"Helvetica,sans-Serif\" font-size=\"14.00\">sepal length (cm) ≤ 6.15</text>\n<text text-anchor=\"start\" x=\"135.5\" y=\"-171.8\" font-family=\"Helvetica,sans-Serif\" font-size=\"14.00\">gini = 0.444</text>\n<text text-anchor=\"start\" x=\"122\" y=\"-156.8\" font-family=\"Helvetica,sans-Serif\" font-size=\"14.00\">samples = 2.9%</text>\n<text text-anchor=\"start\" x=\"84\" y=\"-141.8\" font-family=\"Helvetica,sans-Serif\" font-size=\"14.00\">value = [0.0, 0.667, 0.333]</text>\n<text text-anchor=\"start\" x=\"117.5\" y=\"-126.8\" font-family=\"Helvetica,sans-Serif\" font-size=\"14.00\">class = versicolor</text>\n</g>\n<!-- 6&#45;&gt;7 -->\n<g id=\"edge7\" class=\"edge\">\n<title>6&#45;&gt;7</title>\n<path fill=\"none\" stroke=\"black\" d=\"M245.02,-252.97C237.99,-243.96 230.59,-234.47 223.38,-225.24\"/>\n<polygon fill=\"black\" stroke=\"black\" points=\"226.03,-222.94 217.12,-217.21 220.51,-227.25 226.03,-222.94\"/>\n</g>\n<!-- 10 -->\n<g id=\"node11\" class=\"node\">\n<title>10</title>\n<path fill=\"#8139e5\" stroke=\"black\" d=\"M460,-209.5C460,-209.5 313,-209.5 313,-209.5 307,-209.5 301,-203.5 301,-197.5 301,-197.5 301,-138.5 301,-138.5 301,-132.5 307,-126.5 313,-126.5 313,-126.5 460,-126.5 460,-126.5 466,-126.5 472,-132.5 472,-138.5 472,-138.5 472,-197.5 472,-197.5 472,-203.5 466,-209.5 460,-209.5\"/>\n<text text-anchor=\"start\" x=\"351.5\" y=\"-194.3\" font-family=\"Helvetica,sans-Serif\" font-size=\"14.00\">node #10</text>\n<text text-anchor=\"start\" x=\"351.5\" y=\"-179.3\" font-family=\"Helvetica,sans-Serif\" font-size=\"14.00\">gini = 0.0</text>\n<text text-anchor=\"start\" x=\"329\" y=\"-164.3\" font-family=\"Helvetica,sans-Serif\" font-size=\"14.00\">samples = 3.8%</text>\n<text text-anchor=\"start\" x=\"309\" y=\"-149.3\" font-family=\"Helvetica,sans-Serif\" font-size=\"14.00\">value = [0.0, 0.0, 1.0]</text>\n<text text-anchor=\"start\" x=\"329\" y=\"-134.3\" font-family=\"Helvetica,sans-Serif\" font-size=\"14.00\">class = virginica</text>\n</g>\n<!-- 6&#45;&gt;10 -->\n<g id=\"edge10\" class=\"edge\">\n<title>6&#45;&gt;10</title>\n<path fill=\"none\" stroke=\"black\" d=\"M320.34,-252.97C329.31,-241.58 338.9,-229.42 347.9,-217.99\"/>\n<polygon fill=\"black\" stroke=\"black\" points=\"350.9,-219.84 354.34,-209.82 345.4,-215.51 350.9,-219.84\"/>\n</g>\n<!-- 8 -->\n<g id=\"node9\" class=\"node\">\n<title>8</title>\n<path fill=\"#8139e5\" stroke=\"black\" d=\"M159,-83C159,-83 12,-83 12,-83 6,-83 0,-77 0,-71 0,-71 0,-12 0,-12 0,-6 6,0 12,0 12,0 159,0 159,0 165,0 171,-6 171,-12 171,-12 171,-71 171,-71 171,-77 165,-83 159,-83\"/>\n<text text-anchor=\"start\" x=\"55\" y=\"-67.8\" font-family=\"Helvetica,sans-Serif\" font-size=\"14.00\">node #8</text>\n<text text-anchor=\"start\" x=\"50.5\" y=\"-52.8\" font-family=\"Helvetica,sans-Serif\" font-size=\"14.00\">gini = 0.0</text>\n<text text-anchor=\"start\" x=\"28\" y=\"-37.8\" font-family=\"Helvetica,sans-Serif\" font-size=\"14.00\">samples = 1.0%</text>\n<text text-anchor=\"start\" x=\"8\" y=\"-22.8\" font-family=\"Helvetica,sans-Serif\" font-size=\"14.00\">value = [0.0, 0.0, 1.0]</text>\n<text text-anchor=\"start\" x=\"28\" y=\"-7.8\" font-family=\"Helvetica,sans-Serif\" font-size=\"14.00\">class = virginica</text>\n</g>\n<!-- 7&#45;&gt;8 -->\n<g id=\"edge8\" class=\"edge\">\n<title>7&#45;&gt;8</title>\n<path fill=\"none\" stroke=\"black\" d=\"M143.16,-118.87C136.35,-109.85 129.24,-100.43 122.42,-91.39\"/>\n<polygon fill=\"black\" stroke=\"black\" points=\"125.07,-89.1 116.25,-83.23 119.49,-93.32 125.07,-89.1\"/>\n</g>\n<!-- 9 -->\n<g id=\"node10\" class=\"node\">\n<title>9</title>\n<path fill=\"#39e581\" stroke=\"black\" d=\"M348,-83C348,-83 201,-83 201,-83 195,-83 189,-77 189,-71 189,-71 189,-12 189,-12 189,-6 195,0 201,0 201,0 348,0 348,0 354,0 360,-6 360,-12 360,-12 360,-71 360,-71 360,-77 354,-83 348,-83\"/>\n<text text-anchor=\"start\" x=\"244\" y=\"-67.8\" font-family=\"Helvetica,sans-Serif\" font-size=\"14.00\">node #9</text>\n<text text-anchor=\"start\" x=\"239.5\" y=\"-52.8\" font-family=\"Helvetica,sans-Serif\" font-size=\"14.00\">gini = 0.0</text>\n<text text-anchor=\"start\" x=\"217\" y=\"-37.8\" font-family=\"Helvetica,sans-Serif\" font-size=\"14.00\">samples = 1.9%</text>\n<text text-anchor=\"start\" x=\"197\" y=\"-22.8\" font-family=\"Helvetica,sans-Serif\" font-size=\"14.00\">value = [0.0, 1.0, 0.0]</text>\n<text text-anchor=\"start\" x=\"212.5\" y=\"-7.8\" font-family=\"Helvetica,sans-Serif\" font-size=\"14.00\">class = versicolor</text>\n</g>\n<!-- 7&#45;&gt;9 -->\n<g id=\"edge9\" class=\"edge\">\n<title>7&#45;&gt;9</title>\n<path fill=\"none\" stroke=\"black\" d=\"M216.23,-118.87C223.11,-109.85 230.3,-100.43 237.19,-91.39\"/>\n<polygon fill=\"black\" stroke=\"black\" points=\"240.14,-93.3 243.42,-83.23 234.57,-89.06 240.14,-93.3\"/>\n</g>\n</g>\n</svg>\n",
            "text/plain": [
              "<graphviz.files.Source at 0x7f6f68bfefd0>"
            ]
          },
          "metadata": {
            "tags": []
          },
          "execution_count": 16
        }
      ]
    },
    {
      "cell_type": "markdown",
      "metadata": {
        "id": "U7uBCMD2nugA"
      },
      "source": [
        "**O código abaixo serve para você salvar a imagem, caso queira.**"
      ]
    },
    {
      "cell_type": "code",
      "metadata": {
        "id": "sJrOJpg-nugB"
      },
      "source": [
        "# salvando em pdf e png\n",
        "\n",
        "# pdf\n",
        "graph = pydot.graph_from_dot_data(dot_data)\n",
        "graph[0].write_pdf(\"iris.pdf\") \n",
        "\n",
        "# png\n",
        "graph = pydot.graph_from_dot_data(dot_data)\n",
        "graph[0].write_png(\"iris.png\")"
      ],
      "execution_count": null,
      "outputs": []
    },
    {
      "cell_type": "markdown",
      "metadata": {
        "id": "cKG6782HnugE"
      },
      "source": [
        "### Renderizando de forma interativa\n",
        "\n",
        "Aqui você poderá, de forma interativa, alterar os parâmetros e ver a árvore sendo gerada com base no que você for alterando."
      ]
    },
    {
      "cell_type": "markdown",
      "metadata": {
        "id": "PJGCvJ8BnugF"
      },
      "source": [
        "**Bibliotecas para renderizar a árvore de forma interativa**"
      ]
    },
    {
      "cell_type": "code",
      "metadata": {
        "id": "a68I8gq2nugF"
      },
      "source": [
        "from ipywidgets import interactive\n",
        "from IPython.display import SVG,display\n",
        "from graphviz import Source"
      ],
      "execution_count": null,
      "outputs": []
    },
    {
      "cell_type": "markdown",
      "metadata": {
        "id": "lyDsMH8znugI"
      },
      "source": [
        "**Função para renderizar**"
      ]
    },
    {
      "cell_type": "code",
      "metadata": {
        "scrolled": true,
        "id": "z5yr2JwMnugJ",
        "outputId": "976917d7-b5a4-43a5-d4e1-54cc5d5e64ec"
      },
      "source": [
        "# load dataset\n",
        "data = load_iris() # carregando o dataset\n",
        "\n",
        "# feature matrix\n",
        "X = data.data # features\n",
        "\n",
        "# target vector\n",
        "y = data.target # classes\n",
        "\n",
        "# feature labels\n",
        "features_label = data.feature_names # nome das features\n",
        "\n",
        "# class label\n",
        "class_label = data.target_names # nome das classes\n",
        "\n",
        "\n",
        "def plot_tree(crit, split, depth, min_split, min_leaf=0.2): # criando função e passando nome das caixas\n",
        "    estimator = tree.DecisionTreeClassifier( # instanciando clf\n",
        "           random_state = 0 \n",
        "          ,criterion = crit # cada valor recebido na função será o valor recebido por cada um\n",
        "          ,splitter = split\n",
        "          ,max_depth = depth\n",
        "          ,min_samples_split=min_split\n",
        "          ,min_samples_leaf=min_leaf # até aqui\n",
        "    )\n",
        "\n",
        "    estimator.fit(X, y) # treinando o clf\n",
        "    graph = Source(tree.export_graphviz(estimator # passando o clf para renderizar para o graphviz\n",
        "      , out_file=None # passando os parâmetros do export\n",
        "      , feature_names=features_label\n",
        "      , class_names=class_label\n",
        "      , filled = True))\n",
        "    display(SVG(graph.pipe(format='svg'))) # fazendo a exibição\n",
        "    return estimator # retornando o estimator\n",
        "\n",
        "inter=interactive(plot_tree # passando para o widgety os valores de cada caixa\n",
        "   , crit = [\"gini\", \"entropy\"] # cada valor aqui aparecerá na função do clf\n",
        "   , split = [\"best\", \"random\"]\n",
        "   , depth=[1,2,3,4,5]\n",
        "   , min_split=(0.1,1) # tupla de inicio e fim\n",
        "   , min_leaf=(0.1,0.5)) # aqui também\n",
        "\n",
        "display(inter) # renderizar"
      ],
      "execution_count": null,
      "outputs": [
        {
          "output_type": "display_data",
          "data": {
            "application/vnd.jupyter.widget-view+json": {
              "model_id": "8a50ffae132a49bfbbe59efbef097c0c",
              "version_major": 2,
              "version_minor": 0
            },
            "text/plain": [
              "interactive(children=(Dropdown(description='crit', options=('gini', 'entropy'), value='gini'), Dropdown(descri…"
            ]
          },
          "metadata": {
            "tags": []
          }
        }
      ]
    },
    {
      "cell_type": "markdown",
      "metadata": {
        "id": "_8ua96_3nugM"
      },
      "source": [
        "Aqui, é legal você baixar esse arquivo **.ipynb** e rodar em sua máquina ou nuvem, como o [**Google Colab**](https://colab.research.google.com/notebooks/intro.ipynb#recent=true) para poder alterar interativamente os parâmetros e ver a árvore sendo criada.\n",
        "\n",
        "Se você estiver visualizando no **GitHub**, você não estará vendo porque a plataforma não consegue renderizar, o que reforça meu conselho para você baixar e rodar o código."
      ]
    },
    {
      "cell_type": "markdown",
      "metadata": {
        "id": "Xr8GBBLTnugN"
      },
      "source": [
        "# 5. Navegando na estrutura de uma árvore de decisão\n",
        "Aqui será criada uma função para extrair as regras das árvores."
      ]
    },
    {
      "cell_type": "markdown",
      "metadata": {
        "id": "UFO5uhmUnugO"
      },
      "source": [
        "**Carregando e dividindo os dados**"
      ]
    },
    {
      "cell_type": "code",
      "metadata": {
        "id": "dk1BtknlnugO"
      },
      "source": [
        "iris = load_iris()\n",
        "X = iris.data\n",
        "y = iris.target\n",
        "X_train, X_test, y_train, y_test = train_test_split(X, y, random_state=0)"
      ],
      "execution_count": null,
      "outputs": []
    },
    {
      "cell_type": "markdown",
      "metadata": {
        "id": "dBdSQrrVnugR"
      },
      "source": [
        "**Instanciando o classificador e treinando**"
      ]
    },
    {
      "cell_type": "code",
      "metadata": {
        "id": "JBbTgbJ4nugT",
        "outputId": "583a7d85-2b0d-4f18-c626-22fc52c27885"
      },
      "source": [
        "# instanciando o classificador\n",
        "estimator = DecisionTreeClassifier(max_leaf_nodes=3, random_state=0)\n",
        "# treinando o modelo\n",
        "estimator.fit(X_train, y_train)"
      ],
      "execution_count": null,
      "outputs": [
        {
          "output_type": "execute_result",
          "data": {
            "text/plain": [
              "DecisionTreeClassifier(max_leaf_nodes=3, random_state=0)"
            ]
          },
          "metadata": {
            "tags": []
          },
          "execution_count": 21
        }
      ]
    },
    {
      "cell_type": "markdown",
      "metadata": {
        "id": "py-se72pnugW"
      },
      "source": [
        "**Visualizando alguns atributos da árvore através do `estimator.tree_`**\n",
        "\n",
        "Tem vários outros!"
      ]
    },
    {
      "cell_type": "code",
      "metadata": {
        "id": "l_aLavGEnugX"
      },
      "source": [
        "n_nodes = estimator.tree_.node_count\n",
        "children_left = estimator.tree_.children_left\n",
        "children_right = estimator.tree_.children_right\n",
        "feature = estimator.tree_.feature\n",
        "threshold = estimator.tree_.threshold"
      ],
      "execution_count": null,
      "outputs": []
    },
    {
      "cell_type": "markdown",
      "metadata": {
        "id": "IHYPbDpTnuga"
      },
      "source": [
        "**Visualizando**"
      ]
    },
    {
      "cell_type": "code",
      "metadata": {
        "id": "O608oJT0nugb",
        "outputId": "552df282-c0b1-4c82-c123-7fa2516c8c47"
      },
      "source": [
        "print(\"Número de nós: {}\".format(n_nodes))\n",
        "print(\"Indices a esquerda: {}\".format(children_left))\n",
        "print(\"Indices a direita: {}\".format(children_right))\n",
        "print(\"Feature: {}\".format(feature))\n",
        "print(\"Limite (threshold: {}\".format(threshold))"
      ],
      "execution_count": null,
      "outputs": [
        {
          "output_type": "stream",
          "text": [
            "Número de nós: 5\n",
            "Indices a esquerda: [ 1 -1  3 -1 -1]\n",
            "Indices a direita: [ 2 -1  4 -1 -1]\n",
            "Feature: [ 3 -2  2 -2 -2]\n",
            "Limite (threshold: [ 0.80000001 -2.          4.95000005 -2.         -2.        ]\n"
          ],
          "name": "stdout"
        }
      ]
    },
    {
      "cell_type": "markdown",
      "metadata": {
        "id": "ITKwgBJKnuge"
      },
      "source": [
        "**No código abaixo**:\n",
        "\n",
        "* Observação: o n_nodes é o estimator.tree_.node_count que é a contagem de nós, assim como o threshold etc.\n",
        "\n",
        "* O próprio site da sklearn tem esse código"
      ]
    },
    {
      "cell_type": "code",
      "metadata": {
        "id": "IzF4GjGDnugf",
        "outputId": "72936a6a-8dac-44ec-d0ef-7ed385ac8fc0"
      },
      "source": [
        "node_depth = np.zeros(shape=n_nodes, dtype=np.int64) # instanciando uma nova estrutura de zeros do tamanho dos nós do tipo float\n",
        "is_leaves = np.zeros(shape=n_nodes, dtype=bool) # instanciando uma nova estrutura de zeros do tamanho dos nós do tipo booleano\n",
        "stack = [(0, -1)]\n",
        "while len(stack) > 0:# laço em todos os nós para verificar se é nó folha ou não\n",
        "    node_id, parent_depth = stack.pop()\n",
        "    node_depth[node_id] = parent_depth + 1\n",
        "\n",
        "    if (children_left[node_id] != children_right[node_id]):\n",
        "        stack.append((children_left[node_id], parent_depth + 1))\n",
        "        stack.append((children_right[node_id], parent_depth + 1))\n",
        "    else:\n",
        "        is_leaves[node_id] = True\n",
        "\n",
        "print(\"\\nA arvore binária tem %s nós e a seguinte estrutura: \\n\"\n",
        "      % n_nodes) # impressão com o valor de profundidade\n",
        "for i in range(n_nodes): # laço percorrendo cada nó\n",
        "    if is_leaves[i]: # verifica se o nó é folha ou não\n",
        "        print(\"%snó=%s (nó folha).\" % (node_depth[i] * \"\\t\", i))\n",
        "    else: # se folha, imprime a classe, se não folha, percorre outro nó para verificação\n",
        "        print(\"%snó=%s (nó teste): vai para o nó %s se o valor do atributo %s <= %s \\n se não, vai para o \"\n",
        "              \"nó %s.\"\n",
        "              % (node_depth[i] * \"\\t\",\n",
        "                 i,\n",
        "                 children_left[i],\n",
        "                 iris.feature_names[feature[i]],\n",
        "                 threshold[i],\n",
        "                 children_right[i],\n",
        "                 ))"
      ],
      "execution_count": null,
      "outputs": [
        {
          "output_type": "stream",
          "text": [
            "\n",
            "A arvore binária tem 5 nós e a seguinte estrutura: \n",
            "\n",
            "nó=0 (nó teste): vai para o nó 1 se o valor do atributo petal width (cm) <= 0.800000011920929 \n",
            " se não, vai para o nó 2.\n",
            "\tnó=1 (nó folha).\n",
            "\tnó=2 (nó teste): vai para o nó 3 se o valor do atributo petal length (cm) <= 4.950000047683716 \n",
            " se não, vai para o nó 4.\n",
            "\t\tnó=3 (nó folha).\n",
            "\t\tnó=4 (nó folha).\n"
          ],
          "name": "stdout"
        }
      ]
    },
    {
      "cell_type": "markdown",
      "metadata": {
        "id": "tiltYnLUnugg"
      },
      "source": [
        "**Extraindo regras da árvore gerada a partir de uma determinada amostra do conjunto de teste `X_test`**\n",
        "\n",
        "O próprio site da sklearn tem esse código.\n"
      ]
    },
    {
      "cell_type": "code",
      "metadata": {
        "id": "e9v8febvnugh"
      },
      "source": [
        "def extrai_regras(sample_id): # atrvés do id da árvore\n",
        "    node_indicator = estimator.decision_path(X_test) # indicadores do caminho de decisão nas features de teste\n",
        "\n",
        "    leave_id = estimator.apply(X_test) # aplicando os dados de teste à árvore e armazena os id's do nivel folha (retorno do apply)\n",
        "\n",
        "    #sample_id = sample\n",
        "    node_index = node_indicator.indices[node_indicator.indptr[sample_id]: # verificação dos indices armazenados\n",
        "                                        node_indicator.indptr[sample_id + 1]]\n",
        "\n",
        "    print('\\nRegras usadas para predizer a amostra %s' % (sample_id)) # imprime qual o valor da amostra\n",
        "\n",
        "    for f,v in zip(iris.feature_names,X_test[sample_id]): # pega o nome das features dos e os id's do teste\n",
        "        print('%s = %s'%(f,v)) # imprime para cada feature e cada valor\n",
        "\n",
        "    print('\\n')      \n",
        "    for node_id in node_index: # se folha, imprime, se nao continua\n",
        "        if leave_id[sample_id] == node_id:\n",
        "            continue\n",
        "\n",
        "        if (X_test[sample_id, feature[node_id]] <= threshold[node_id]):\n",
        "            threshold_sign = \"<=\"\n",
        "        else:\n",
        "            threshold_sign = \">\"\n",
        "\n",
        "        print(\"id do nó de decisão %s : (atributo %s com valor = %s %s %s)\" # imprime a regra gerada\n",
        "              % (node_id, # id do nós de decisão\n",
        "                 iris.feature_names[node_id], # nome da feature\n",
        "                 X_test[sample_id, feature[node_id]],# a partir do dado de teste qual o valor\n",
        "                 threshold_sign, # sinal do threshold\n",
        "                 threshold[node_id])) # valor do threshold\n",
        "    pred =estimator.predict(X_test[sample_id].reshape(1, -1)) # após predizer\n",
        "    print(\"\\tClasse => %s\" %iris.target_names[pred]) # qual classe foi atribuida"
      ],
      "execution_count": null,
      "outputs": []
    },
    {
      "cell_type": "markdown",
      "metadata": {
        "id": "vT3cLNOynugk"
      },
      "source": [
        "**Chamando a função `extrai_regras()`**\n",
        "\n",
        "Aqui, você pode passar quantos **samples** quiser e será visualizada a regra para predizer cada amostra.\n",
        "\n",
        "Temos 38 samples (0 ao 37)"
      ]
    },
    {
      "cell_type": "code",
      "metadata": {
        "id": "A5iBCdmynugk",
        "outputId": "7b4f1157-913e-487d-f1b9-6b41c1ee1160"
      },
      "source": [
        "extrai_regras(1) #nº do sample (sample_id)"
      ],
      "execution_count": null,
      "outputs": [
        {
          "output_type": "stream",
          "text": [
            "\n",
            "Regras usadas para predizer a amostra 1\n",
            "sepal length (cm) = 6.0\n",
            "sepal width (cm) = 2.2\n",
            "petal length (cm) = 4.0\n",
            "petal width (cm) = 1.0\n",
            "\n",
            "\n",
            "id do nó de decisão 0 : (atributo sepal length (cm) com valor = 1.0 > 0.800000011920929)\n",
            "id do nó de decisão 2 : (atributo petal length (cm) com valor = 4.0 <= 4.950000047683716)\n",
            "\tClasse => ['versicolor']\n"
          ],
          "name": "stdout"
        }
      ]
    },
    {
      "cell_type": "code",
      "metadata": {
        "id": "r-IQGY3Cnugm",
        "outputId": "62d02490-3c42-4d63-8d43-9dd869aa1f83"
      },
      "source": [
        "# extraindo da última amostra\n",
        "extrai_regras(37)"
      ],
      "execution_count": null,
      "outputs": [
        {
          "output_type": "stream",
          "text": [
            "\n",
            "Regras usadas para predizer a amostra 37\n",
            "sepal length (cm) = 6.0\n",
            "sepal width (cm) = 2.7\n",
            "petal length (cm) = 5.1\n",
            "petal width (cm) = 1.6\n",
            "\n",
            "\n",
            "id do nó de decisão 0 : (atributo sepal length (cm) com valor = 1.6 > 0.800000011920929)\n",
            "id do nó de decisão 2 : (atributo petal length (cm) com valor = 5.1 > 4.950000047683716)\n",
            "\tClasse => ['virginica']\n"
          ],
          "name": "stdout"
        }
      ]
    },
    {
      "cell_type": "markdown",
      "metadata": {
        "id": "GOFInWh7nugp"
      },
      "source": [
        "# 6. Visualizando fronteiras"
      ]
    },
    {
      "cell_type": "markdown",
      "metadata": {
        "id": "_qhVXqJ9nugq"
      },
      "source": [
        "**Entendendo o parâmetro `min_samples_split`**"
      ]
    },
    {
      "cell_type": "code",
      "metadata": {
        "scrolled": true,
        "id": "RG2XBO83nugr",
        "outputId": "07e89028-b32a-4564-d959-38c2291be3ca"
      },
      "source": [
        "from IPython.display import Image\n",
        "Image(filename ='/home/amador/Pictures/min-samples-split.png', width=500, height=500)\n",
        "# somente os nós que tiverem pelo menos 2 abaixo dele serão utilizados para fazer a divisão da árvore"
      ],
      "execution_count": null,
      "outputs": [
        {
          "output_type": "execute_result",
          "data": {
            "image/png": "[encoded data removed]",
            "text/plain": [
              "<IPython.core.display.Image object>"
            ]
          },
          "metadata": {
            "tags": [],
            "image/png": {
              "height": 500,
              "width": 500
            }
          },
          "execution_count": 28
        }
      ]
    },
    {
      "cell_type": "markdown",
      "metadata": {
        "id": "YC5kfx2Anugu"
      },
      "source": [
        "Como falado [aqui](https://bit.ly/2Guqmcd), o **min_samples_split** serve para alterar o número de amostras mínimas para considerar um nó para divisão.\n",
        "\n",
        "Na figura acima, o **min_samples_split** é igual a **2**, logo no circulo vermelho é igual a **1** e finaliza ali, ou seja, o nó não é considerado para divisão."
      ]
    },
    {
      "cell_type": "markdown",
      "metadata": {
        "id": "7vLbzTiKnugv"
      },
      "source": [
        "**Importações**"
      ]
    },
    {
      "cell_type": "code",
      "metadata": {
        "id": "B3UOOf2anugv"
      },
      "source": [
        "from mlxtend.plotting import plot_decision_regions\n",
        "import matplotlib.pyplot as plt"
      ],
      "execution_count": null,
      "outputs": []
    },
    {
      "cell_type": "markdown",
      "metadata": {
        "id": "XPxIFxwAnugx"
      },
      "source": [
        "**Função para visualizar fronteiras**"
      ]
    },
    {
      "cell_type": "code",
      "metadata": {
        "id": "dw_tLqvXnugy"
      },
      "source": [
        "def visualize_fronteiras(msamples_split): # função que recebe por parâmetro o número de samples_split\n",
        "    X = iris.data[:, [0, 2]] # instanciando X\n",
        "    y = iris.target # instanciando y\n",
        "\n",
        "    clf = DecisionTreeClassifier(min_samples_split=msamples_split) # criando classificador com o parâmetro passado para o min_samples_split\n",
        "    tree = clf.fit(X, y) # treinando o algoritmo\n",
        "\n",
        "    plt.figure(figsize=(8,5)) # criando figura com o matplotlib\n",
        "    plot_decision_regions(X, y, clf=tree, legend=2) # passando os dados de X e y, classificador e a legenda para o plot\n",
        "\n",
        "    plt.xlabel('sepal length [cm]') # legenda x\n",
        "    plt.ylabel('petal length [cm]') # leganda y\n",
        "    plt.title('Decision Tree on Iris') # titulo\n",
        "    plt.show()"
      ],
      "execution_count": null,
      "outputs": []
    },
    {
      "cell_type": "markdown",
      "metadata": {
        "id": "zNotazQknug0"
      },
      "source": [
        "**Nas duas visualizações abaixos temos:**\n",
        "* Com **2 msamples_split** um modelo muito complexo, logo muito ajustado aos dados.\n",
        "* Com **10 msamples_split** um modelo mais simples, sem muito contorno. Aqui percebe-se inclusive alguns erros, isso acontece porque o modelo consegue generalizar os dados sem ser fraco demais ou estar ajustado demais, ou seja, é ideal e, quando chegarem novos modelos, não irá sofrer para classificar."
      ]
    },
    {
      "cell_type": "markdown",
      "metadata": {
        "id": "16D0It79nug0"
      },
      "source": [
        "**Chamando a função `visualize_fronteiras`**"
      ]
    },
    {
      "cell_type": "code",
      "metadata": {
        "id": "oW7cCTC8nug1",
        "outputId": "7e081e3b-bb9a-4eb5-a49a-e61f36b58e4f"
      },
      "source": [
        "visualize_fronteiras(2) # modelo complexo e muito ajustado, cheia de contornos"
      ],
      "execution_count": null,
      "outputs": [
        {
          "output_type": "stream",
          "text": [
            "/home/amador/anaconda3/lib/python3.7/site-packages/mlxtend/plotting/decision_regions.py:249: MatplotlibDeprecationWarning: Passing unsupported keyword arguments to axis() will raise a TypeError in 3.3.\n",
            "  ax.axis(xmin=xx.min(), xmax=xx.max(), y_min=yy.min(), y_max=yy.max())\n"
          ],
          "name": "stderr"
        },
        {
          "output_type": "display_data",
          "data": {
            "image/png": "[encoded data removed]",
            "text/plain": [
              "<Figure size 576x360 with 1 Axes>"
            ]
          },
          "metadata": {
            "tags": [],
            "needs_background": "light"
          }
        }
      ]
    },
    {
      "cell_type": "code",
      "metadata": {
        "id": "ldYwwtHVnug3",
        "outputId": "d912a870-162c-4a6f-af93-efbb14319c58"
      },
      "source": [
        "visualize_fronteiras(10) # modelo menos complexo, menos ajustado. Passa apenas faxas simples, logo em um dado novo conseguirá generalizar melhor"
      ],
      "execution_count": null,
      "outputs": [
        {
          "output_type": "stream",
          "text": [
            "/home/amador/anaconda3/lib/python3.7/site-packages/mlxtend/plotting/decision_regions.py:249: MatplotlibDeprecationWarning: Passing unsupported keyword arguments to axis() will raise a TypeError in 3.3.\n",
            "  ax.axis(xmin=xx.min(), xmax=xx.max(), y_min=yy.min(), y_max=yy.max())\n"
          ],
          "name": "stderr"
        },
        {
          "output_type": "display_data",
          "data": {
            "image/png": "[encoded data removed]",
            "text/plain": [
              "<Figure size 576x360 with 1 Axes>"
            ]
          },
          "metadata": {
            "tags": [],
            "needs_background": "light"
          }
        }
      ]
    },
    {
      "cell_type": "markdown",
      "metadata": {
        "id": "gsgc5NB9n-Cg"
      },
      "source": [
        "# Obrigado!\n",
        "\n",
        "Obrigado por ter disponibilizado um pouco do seu tempo e atenção aqui. Espero que, de alguma forma, tenha sido útil para seu crescimento. Se houver qualquer dúvida ou sugestão, não hesite em entrar em contato no [LinkedIn](https://www.linkedin.com/in/daniel-sousa-amador) e verificar meus outros projetos no [GitHub](https://github.com/danielamador12/Portfolio/blob/master/README.md).\n",
        "\n",
        "[![LinkedIn](https://img.shields.io/badge/LinkedIn-DanielSousaAmador-purple.svg)](https://www.linkedin.com/in/daniel-sousa-amador)\n",
        "[![GitHub](https://img.shields.io/badge/GitHub-danielamador12-darkblue.svg)](https://github.com/danielamador12)\n",
        "[![Medium](https://img.shields.io/badge/Medium-DanielSousaAmador-darkorange.svg)](https://medium.com/@daniel.s.amador)\n",
        "\n",
        "\n",
        "\n",
        "<center><img width=\"90%\" src=\"https://raw.githubusercontent.com/danielamador12/Portfolio/master/github.png\"></center>"
      ]
    }
  ]
}