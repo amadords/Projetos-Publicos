{
  "nbformat": 4,
  "nbformat_minor": 0,
  "metadata": {
    "colab": {
      "name": "Apriori com Python",
      "provenance": [],
      "collapsed_sections": [],
      "authorship_tag": "ABX9TyMgFpcsHiT8MHj/sm2mxXkz",
      "include_colab_link": true
    },
    "kernelspec": {
      "name": "python3",
      "display_name": "Python 3"
    }
  },
  "cells": [
    {
      "cell_type": "markdown",
      "metadata": {
        "id": "view-in-github",
        "colab_type": "text"
      },
      "source": [
        "<a href=\"https://colab.research.google.com/github/amadords/Projetos-Publicos/blob/master/Apriori_com_Python.ipynb\" target=\"_parent\"><img src=\"https://colab.research.google.com/assets/colab-badge.svg\" alt=\"Open In Colab\"/></a>"
      ]
    },
    {
      "cell_type": "markdown",
      "metadata": {
        "id": "jUcmYDe2MoR-"
      },
      "source": [
        "# **Regras de Associação**\n",
        "---\n",
        "\n",
        "\n",
        "[![LinkedIn](https://img.shields.io/badge/LinkedIn-DanielSousaAmador-cyan.svg)](https://www.linkedin.com/in/daniel-sousa-amador)\n",
        "[![GitHub](https://img.shields.io/badge/GitHub-amadords-darkblue.svg)](https://github.com/amadords)\n",
        "[![Medium](https://img.shields.io/badge/Medium-DanielSousaAmador-white.svg)](https://daniel-s-amador.medium.com/)\n",
        "\n",
        "![img](https://raw.githubusercontent.com/amadords/images/main/association-rules.png)\n",
        "\n",
        "As regras de associação são regras que buscam a relação entre itens ou elementos.\n",
        "\n",
        "Uma abordagem teórica inicial está presente no artigo que você pode visualizar [aqui](http://bit.ly/3aXY5rH).\n",
        "\n",
        "O presente notebook serve apenas como suporte para o artigo supramencionado.\n",
        "\n",
        "Utilizaremos duas das principais abordagens de regra de associação?\n",
        "\n",
        "- **Apriori**\n",
        "\n",
        "  Se baseia no princípio de que se um conjunto de itens é frequente, um subconjunto destes itens também será frequente. Ao mesmo passo, se um subconjunto de itens é frequente, o conjunto também será.\n",
        "\n",
        "- **ECLAT**\n",
        "\n",
        "  É uma versão mais eficiente e escalonável do algoritmo Apriori. Enquanto o Apriori funciona no sentido horizontal, imitando a pesquisa em largura de um gráfico, o algoritmo ECLAT funciona de maneira vertical, exatamente como a pesquisa em profundidade de um gráfico. Esta abordagem vertical do algoritmo ECLAT torna-o um algoritmo mais rápido do que o algoritmo Apriori.\n",
        "\n",
        "  O algoritmo utiliza interseções de Conjuntos de Id de Transação, conhecidos por **tidsets** para calcular o valor de suporte de um candidato e evitar a geração de subconjuntos que não existem na árvore de prefixos. Na primeira chamada da função, todos os itens individuais são usados ​​junto com seus tidsets. Em seguida, a função é chamada recursivamente e, em cada chamada recursiva, cada par de item-tidset é verificado e combinado com outros pares item-tidset. Esse processo é continuado até que nenhum par item-tidset candidato possa ser combinado.\n",
        "\n",
        "Fonte: [Geeks For Geeks](https://www.geeksforgeeks.org/ml-eclat-algorithm/).\n",
        "\n",
        "\n",
        "\n",
        "\n",
        "\n"
      ]
    },
    {
      "cell_type": "markdown",
      "metadata": {
        "id": "Gzvf6exMSVAa"
      },
      "source": [
        "**Importando as bibliotecas**"
      ]
    },
    {
      "cell_type": "code",
      "metadata": {
        "id": "TtrpxmMJVI7w"
      },
      "source": [
        "import pandas as pd\n",
        "!pip install apyori -q\n",
        "from apyori import apriori\n",
        "!pip install pyECLAT -q\n",
        "from pyECLAT import ECLAT"
      ],
      "execution_count": null,
      "outputs": []
    },
    {
      "cell_type": "markdown",
      "metadata": {
        "id": "yJcYK-GvSZ-8"
      },
      "source": [
        "**Carregando dados de exemplo**\n",
        "\n",
        "> A base de dados é simplista e contém, em cada linha, uma compra feita por alguém. A exemplo, na linha 0 temos alguém que comprou Cerveja, Pizza e Sorvete. Na linha seguinte alguém que comprou apenas Pizza e Sorvete e daí em diante."
      ]
    },
    {
      "cell_type": "code",
      "metadata": {
        "colab": {
          "base_uri": "https://localhost:8080/",
          "height": 238
        },
        "id": "9UKr6rynVTww",
        "outputId": "286e26bb-c6dc-47bf-e635-eb96ccd77a6c"
      },
      "source": [
        "# carga dos dados\n",
        "PATH = 'https://raw.githubusercontent.com/amadords/data/main/transacoes.txt'\n",
        "dados = pd.read_csv(PATH, header = None)\n",
        "\n",
        "# visualizando os dados\n",
        "dados"
      ],
      "execution_count": null,
      "outputs": [
        {
          "output_type": "execute_result",
          "data": {
            "text/html": [
              "<div>\n",
              "<style scoped>\n",
              "    .dataframe tbody tr th:only-of-type {\n",
              "        vertical-align: middle;\n",
              "    }\n",
              "\n",
              "    .dataframe tbody tr th {\n",
              "        vertical-align: top;\n",
              "    }\n",
              "\n",
              "    .dataframe thead th {\n",
              "        text-align: right;\n",
              "    }\n",
              "</style>\n",
              "<table border=\"1\" class=\"dataframe\">\n",
              "  <thead>\n",
              "    <tr style=\"text-align: right;\">\n",
              "      <th></th>\n",
              "      <th>0</th>\n",
              "      <th>1</th>\n",
              "      <th>2</th>\n",
              "    </tr>\n",
              "  </thead>\n",
              "  <tbody>\n",
              "    <tr>\n",
              "      <th>0</th>\n",
              "      <td>Cerveja</td>\n",
              "      <td>Pizza</td>\n",
              "      <td>Sorvete</td>\n",
              "    </tr>\n",
              "    <tr>\n",
              "      <th>1</th>\n",
              "      <td>Pizza</td>\n",
              "      <td>Sorvete</td>\n",
              "      <td>NaN</td>\n",
              "    </tr>\n",
              "    <tr>\n",
              "      <th>2</th>\n",
              "      <td>Cerveja</td>\n",
              "      <td>Pizza</td>\n",
              "      <td>NaN</td>\n",
              "    </tr>\n",
              "    <tr>\n",
              "      <th>3</th>\n",
              "      <td>Cerveja</td>\n",
              "      <td>Pizza</td>\n",
              "      <td>Sorvete</td>\n",
              "    </tr>\n",
              "    <tr>\n",
              "      <th>4</th>\n",
              "      <td>Cerveja</td>\n",
              "      <td>Pizza</td>\n",
              "      <td>NaN</td>\n",
              "    </tr>\n",
              "    <tr>\n",
              "      <th>5</th>\n",
              "      <td>Pizza</td>\n",
              "      <td>NaN</td>\n",
              "      <td>NaN</td>\n",
              "    </tr>\n",
              "  </tbody>\n",
              "</table>\n",
              "</div>"
            ],
            "text/plain": [
              "         0        1        2\n",
              "0  Cerveja    Pizza  Sorvete\n",
              "1    Pizza  Sorvete      NaN\n",
              "2  Cerveja    Pizza      NaN\n",
              "3  Cerveja    Pizza  Sorvete\n",
              "4  Cerveja    Pizza      NaN\n",
              "5    Pizza      NaN      NaN"
            ]
          },
          "metadata": {
            "tags": []
          },
          "execution_count": 2
        }
      ]
    },
    {
      "cell_type": "markdown",
      "metadata": {
        "id": "sYMqqnG9XDrb"
      },
      "source": [
        "## **Apriori**"
      ]
    },
    {
      "cell_type": "markdown",
      "metadata": {
        "id": "WJrUL5jUTWbh"
      },
      "source": [
        "**Transformando os dados em uma lista**\n",
        "\n",
        "> A biblioteca [Apyori](https://pypi.org/project/apyori/) exige que seja nesse formato.\n",
        "\n",
        "> O range de 0 a 6 é, pelo fato de termos 6 entradas de dados. O 6 é excluído, logo estamos pegando de 0 a 5, na verdade."
      ]
    },
    {
      "cell_type": "code",
      "metadata": {
        "colab": {
          "base_uri": "https://localhost:8080/"
        },
        "id": "FAW-LZaCVpG1",
        "outputId": "d4f3382f-d3c9-4eaa-d0d5-e10005d9ba76"
      },
      "source": [
        "from pprint import pprint\n",
        "\n",
        "# criando a lista\n",
        "transacoes = []\n",
        "for i in range(0,6):\n",
        "    transacoes.append([str(dados.values[i,j]) for j in range(0,3)])\n",
        "pprint(transacoes)\n",
        "\n",
        "# dando espaçamento\n",
        "print('\\n')\n",
        "\n",
        "# visualizando o tipo do dado\n",
        "print(\"Qual o formato do dado criado?\\n\\n\", type(transacoes))"
      ],
      "execution_count": null,
      "outputs": [
        {
          "output_type": "stream",
          "text": [
            "[['Cerveja', 'Pizza', 'Sorvete'],\n",
            " ['Pizza', 'Sorvete', 'nan'],\n",
            " ['Cerveja', 'Pizza', 'nan'],\n",
            " ['Cerveja', 'Pizza', 'Sorvete'],\n",
            " ['Cerveja', 'Pizza', 'nan'],\n",
            " ['Pizza', 'nan', 'nan']]\n",
            "\n",
            "\n",
            "Qual o formato do dado criado?\n",
            "\n",
            " <class 'list'>\n"
          ],
          "name": "stdout"
        }
      ]
    },
    {
      "cell_type": "markdown",
      "metadata": {
        "id": "hP7zzVNBXAlf"
      },
      "source": [
        "**Gerando regras com o Apriori**\n",
        "\n",
        "> Definimos os seguintes parâmetros:\n",
        "- `min_support = 0.5`\n",
        "- `min_confidence = 0.5`\n",
        "- `min_length = 2`"
      ]
    },
    {
      "cell_type": "code",
      "metadata": {
        "id": "uzyA3tIMVsyd"
      },
      "source": [
        "regras = apriori(transacoes, min_support = 0.5, min_confidence = 0.5, min_length = 2)"
      ],
      "execution_count": null,
      "outputs": []
    },
    {
      "cell_type": "markdown",
      "metadata": {
        "id": "okYKuNvnXnpj"
      },
      "source": [
        "**Criando variável para armazenar as regras**"
      ]
    },
    {
      "cell_type": "code",
      "metadata": {
        "colab": {
          "base_uri": "https://localhost:8080/"
        },
        "id": "y1bM2ZQkVuYI",
        "outputId": "1a2fb605-677f-4776-8925-9a34e81f2742"
      },
      "source": [
        "resultados = list(regras)\n",
        "print(resultados[0])\n",
        "print('\\n')\n",
        "resultados"
      ],
      "execution_count": null,
      "outputs": [
        {
          "output_type": "stream",
          "text": [
            "RelationRecord(items=frozenset({'Cerveja'}), support=0.6666666666666666, ordered_statistics=[OrderedStatistic(items_base=frozenset(), items_add=frozenset({'Cerveja'}), confidence=0.6666666666666666, lift=1.0)])\n",
            "\n",
            "\n"
          ],
          "name": "stdout"
        },
        {
          "output_type": "execute_result",
          "data": {
            "text/plain": [
              "[RelationRecord(items=frozenset({'Cerveja'}), support=0.6666666666666666, ordered_statistics=[OrderedStatistic(items_base=frozenset(), items_add=frozenset({'Cerveja'}), confidence=0.6666666666666666, lift=1.0)]),\n",
              " RelationRecord(items=frozenset({'Pizza'}), support=1.0, ordered_statistics=[OrderedStatistic(items_base=frozenset(), items_add=frozenset({'Pizza'}), confidence=1.0, lift=1.0)]),\n",
              " RelationRecord(items=frozenset({'Sorvete'}), support=0.5, ordered_statistics=[OrderedStatistic(items_base=frozenset(), items_add=frozenset({'Sorvete'}), confidence=0.5, lift=1.0)]),\n",
              " RelationRecord(items=frozenset({'nan'}), support=0.6666666666666666, ordered_statistics=[OrderedStatistic(items_base=frozenset(), items_add=frozenset({'nan'}), confidence=0.6666666666666666, lift=1.0)]),\n",
              " RelationRecord(items=frozenset({'Pizza', 'Cerveja'}), support=0.6666666666666666, ordered_statistics=[OrderedStatistic(items_base=frozenset(), items_add=frozenset({'Pizza', 'Cerveja'}), confidence=0.6666666666666666, lift=1.0), OrderedStatistic(items_base=frozenset({'Cerveja'}), items_add=frozenset({'Pizza'}), confidence=1.0, lift=1.0), OrderedStatistic(items_base=frozenset({'Pizza'}), items_add=frozenset({'Cerveja'}), confidence=0.6666666666666666, lift=1.0)]),\n",
              " RelationRecord(items=frozenset({'Pizza', 'Sorvete'}), support=0.5, ordered_statistics=[OrderedStatistic(items_base=frozenset(), items_add=frozenset({'Pizza', 'Sorvete'}), confidence=0.5, lift=1.0), OrderedStatistic(items_base=frozenset({'Pizza'}), items_add=frozenset({'Sorvete'}), confidence=0.5, lift=1.0), OrderedStatistic(items_base=frozenset({'Sorvete'}), items_add=frozenset({'Pizza'}), confidence=1.0, lift=1.0)]),\n",
              " RelationRecord(items=frozenset({'nan', 'Pizza'}), support=0.6666666666666666, ordered_statistics=[OrderedStatistic(items_base=frozenset(), items_add=frozenset({'nan', 'Pizza'}), confidence=0.6666666666666666, lift=1.0), OrderedStatistic(items_base=frozenset({'Pizza'}), items_add=frozenset({'nan'}), confidence=0.6666666666666666, lift=1.0), OrderedStatistic(items_base=frozenset({'nan'}), items_add=frozenset({'Pizza'}), confidence=1.0, lift=1.0)])]"
            ]
          },
          "metadata": {
            "tags": []
          },
          "execution_count": 5
        }
      ]
    },
    {
      "cell_type": "markdown",
      "metadata": {
        "id": "GbeUdP4EX8hZ"
      },
      "source": [
        "**Criação de nova variável** \n",
        "\n",
        "> Percorrendo a variável anterior para melhorar a visualização dos resultados.\n"
      ]
    },
    {
      "cell_type": "code",
      "metadata": {
        "colab": {
          "base_uri": "https://localhost:8080/"
        },
        "id": "cfjdjHFvVv-Z",
        "outputId": "f99e508e-2a27-4fc4-fec7-fa450ad269b7"
      },
      "source": [
        "resultados2 = [list(x) for x in resultados]\n",
        "resultados2"
      ],
      "execution_count": null,
      "outputs": [
        {
          "output_type": "execute_result",
          "data": {
            "text/plain": [
              "[[frozenset({'Cerveja'}),\n",
              "  0.6666666666666666,\n",
              "  [OrderedStatistic(items_base=frozenset(), items_add=frozenset({'Cerveja'}), confidence=0.6666666666666666, lift=1.0)]],\n",
              " [frozenset({'Pizza'}),\n",
              "  1.0,\n",
              "  [OrderedStatistic(items_base=frozenset(), items_add=frozenset({'Pizza'}), confidence=1.0, lift=1.0)]],\n",
              " [frozenset({'Sorvete'}),\n",
              "  0.5,\n",
              "  [OrderedStatistic(items_base=frozenset(), items_add=frozenset({'Sorvete'}), confidence=0.5, lift=1.0)]],\n",
              " [frozenset({'nan'}),\n",
              "  0.6666666666666666,\n",
              "  [OrderedStatistic(items_base=frozenset(), items_add=frozenset({'nan'}), confidence=0.6666666666666666, lift=1.0)]],\n",
              " [frozenset({'Cerveja', 'Pizza'}),\n",
              "  0.6666666666666666,\n",
              "  [OrderedStatistic(items_base=frozenset(), items_add=frozenset({'Pizza', 'Cerveja'}), confidence=0.6666666666666666, lift=1.0),\n",
              "   OrderedStatistic(items_base=frozenset({'Cerveja'}), items_add=frozenset({'Pizza'}), confidence=1.0, lift=1.0),\n",
              "   OrderedStatistic(items_base=frozenset({'Pizza'}), items_add=frozenset({'Cerveja'}), confidence=0.6666666666666666, lift=1.0)]],\n",
              " [frozenset({'Pizza', 'Sorvete'}),\n",
              "  0.5,\n",
              "  [OrderedStatistic(items_base=frozenset(), items_add=frozenset({'Pizza', 'Sorvete'}), confidence=0.5, lift=1.0),\n",
              "   OrderedStatistic(items_base=frozenset({'Pizza'}), items_add=frozenset({'Sorvete'}), confidence=0.5, lift=1.0),\n",
              "   OrderedStatistic(items_base=frozenset({'Sorvete'}), items_add=frozenset({'Pizza'}), confidence=1.0, lift=1.0)]],\n",
              " [frozenset({'Pizza', 'nan'}),\n",
              "  0.6666666666666666,\n",
              "  [OrderedStatistic(items_base=frozenset(), items_add=frozenset({'nan', 'Pizza'}), confidence=0.6666666666666666, lift=1.0),\n",
              "   OrderedStatistic(items_base=frozenset({'Pizza'}), items_add=frozenset({'nan'}), confidence=0.6666666666666666, lift=1.0),\n",
              "   OrderedStatistic(items_base=frozenset({'nan'}), items_add=frozenset({'Pizza'}), confidence=1.0, lift=1.0)]]]"
            ]
          },
          "metadata": {
            "tags": []
          },
          "execution_count": 6
        }
      ]
    },
    {
      "cell_type": "markdown",
      "metadata": {
        "id": "SZfNNKFFYJ3H"
      },
      "source": [
        "**Criação de outra variável**\n",
        "\n",
        "> Dessa vez conseguimos facilitar a visualização das regras."
      ]
    },
    {
      "cell_type": "code",
      "metadata": {
        "colab": {
          "base_uri": "https://localhost:8080/"
        },
        "id": "RDpgQSjwVyGz",
        "outputId": "226b9b37-5e9f-4a98-e510-1267974beaea"
      },
      "source": [
        "resultados3 = []\n",
        "for j in range(0,7):\n",
        "    resultados3.append([list(x) for x in resultados2[j][2]])\n",
        "resultados3"
      ],
      "execution_count": null,
      "outputs": [
        {
          "output_type": "execute_result",
          "data": {
            "text/plain": [
              "[[[frozenset(), frozenset({'Cerveja'}), 0.6666666666666666, 1.0]],\n",
              " [[frozenset(), frozenset({'Pizza'}), 1.0, 1.0]],\n",
              " [[frozenset(), frozenset({'Sorvete'}), 0.5, 1.0]],\n",
              " [[frozenset(), frozenset({'nan'}), 0.6666666666666666, 1.0]],\n",
              " [[frozenset(), frozenset({'Cerveja', 'Pizza'}), 0.6666666666666666, 1.0],\n",
              "  [frozenset({'Cerveja'}), frozenset({'Pizza'}), 1.0, 1.0],\n",
              "  [frozenset({'Pizza'}), frozenset({'Cerveja'}), 0.6666666666666666, 1.0]],\n",
              " [[frozenset(), frozenset({'Pizza', 'Sorvete'}), 0.5, 1.0],\n",
              "  [frozenset({'Pizza'}), frozenset({'Sorvete'}), 0.5, 1.0],\n",
              "  [frozenset({'Sorvete'}), frozenset({'Pizza'}), 1.0, 1.0]],\n",
              " [[frozenset(), frozenset({'Pizza', 'nan'}), 0.6666666666666666, 1.0],\n",
              "  [frozenset({'Pizza'}), frozenset({'nan'}), 0.6666666666666666, 1.0],\n",
              "  [frozenset({'nan'}), frozenset({'Pizza'}), 1.0, 1.0]]]"
            ]
          },
          "metadata": {
            "tags": []
          },
          "execution_count": 7
        }
      ]
    },
    {
      "cell_type": "markdown",
      "metadata": {
        "id": "xtRn3iHeWy7v"
      },
      "source": [
        "## **ECLAT**\n",
        "\n",
        "> Apenas para mostrar uma solução que pode ser muito proveitosa em um futuro, porém ainda não foi implementada por completo."
      ]
    },
    {
      "cell_type": "markdown",
      "metadata": {
        "id": "ZB2Vw0fKdtz1"
      },
      "source": [
        "### **Projeto pyECLAT**"
      ]
    },
    {
      "cell_type": "markdown",
      "metadata": {
        "id": "rKAtUOCyYkOf"
      },
      "source": [
        "**Instanciando o algoritmo**\n",
        "\n",
        "> `verbose = True` permite visualizar a barra de execução."
      ]
    },
    {
      "cell_type": "code",
      "metadata": {
        "colab": {
          "base_uri": "https://localhost:8080/"
        },
        "id": "668jt5MTYVqB",
        "outputId": "81650310-9530-4522-a638-567af71a66db"
      },
      "source": [
        "eclat_instance = ECLAT(data=dados, verbose=True)"
      ],
      "execution_count": null,
      "outputs": [
        {
          "output_type": "stream",
          "text": [
            "100%|██████████| 3/3 [00:00<00:00, 375.63it/s]\n",
            "100%|██████████| 3/3 [00:00<00:00, 14979.66it/s]\n",
            "100%|██████████| 3/3 [00:00<00:00, 1009.54it/s]\n"
          ],
          "name": "stderr"
        }
      ]
    },
    {
      "cell_type": "markdown",
      "metadata": {
        "id": "SatKGZaVY5j-"
      },
      "source": [
        "**Criando uma DataFrame binário**\n",
        "\n",
        "> A visualização ficará igual ao visto no artigo, com 1 para presença e 0 para não presença."
      ]
    },
    {
      "cell_type": "code",
      "metadata": {
        "colab": {
          "base_uri": "https://localhost:8080/",
          "height": 238
        },
        "id": "Lg8Yx1phYbpD",
        "outputId": "e6c1a583-3d1b-41f5-bfb5-642d02af89ed"
      },
      "source": [
        "eclat_instance.df_bin"
      ],
      "execution_count": null,
      "outputs": [
        {
          "output_type": "execute_result",
          "data": {
            "text/html": [
              "<div>\n",
              "<style scoped>\n",
              "    .dataframe tbody tr th:only-of-type {\n",
              "        vertical-align: middle;\n",
              "    }\n",
              "\n",
              "    .dataframe tbody tr th {\n",
              "        vertical-align: top;\n",
              "    }\n",
              "\n",
              "    .dataframe thead th {\n",
              "        text-align: right;\n",
              "    }\n",
              "</style>\n",
              "<table border=\"1\" class=\"dataframe\">\n",
              "  <thead>\n",
              "    <tr style=\"text-align: right;\">\n",
              "      <th></th>\n",
              "      <th>Pizza</th>\n",
              "      <th>Cerveja</th>\n",
              "      <th>Sorvete</th>\n",
              "    </tr>\n",
              "  </thead>\n",
              "  <tbody>\n",
              "    <tr>\n",
              "      <th>0</th>\n",
              "      <td>1</td>\n",
              "      <td>1</td>\n",
              "      <td>1</td>\n",
              "    </tr>\n",
              "    <tr>\n",
              "      <th>1</th>\n",
              "      <td>1</td>\n",
              "      <td>0</td>\n",
              "      <td>1</td>\n",
              "    </tr>\n",
              "    <tr>\n",
              "      <th>2</th>\n",
              "      <td>1</td>\n",
              "      <td>1</td>\n",
              "      <td>0</td>\n",
              "    </tr>\n",
              "    <tr>\n",
              "      <th>3</th>\n",
              "      <td>1</td>\n",
              "      <td>1</td>\n",
              "      <td>1</td>\n",
              "    </tr>\n",
              "    <tr>\n",
              "      <th>4</th>\n",
              "      <td>1</td>\n",
              "      <td>1</td>\n",
              "      <td>0</td>\n",
              "    </tr>\n",
              "    <tr>\n",
              "      <th>5</th>\n",
              "      <td>1</td>\n",
              "      <td>0</td>\n",
              "      <td>0</td>\n",
              "    </tr>\n",
              "  </tbody>\n",
              "</table>\n",
              "</div>"
            ],
            "text/plain": [
              "   Pizza  Cerveja  Sorvete\n",
              "0      1        1        1\n",
              "1      1        0        1\n",
              "2      1        1        0\n",
              "3      1        1        1\n",
              "4      1        1        0\n",
              "5      1        0        0"
            ]
          },
          "metadata": {
            "tags": []
          },
          "execution_count": 9
        }
      ]
    },
    {
      "cell_type": "markdown",
      "metadata": {
        "id": "s4iKwA5EZJBz"
      },
      "source": [
        "**Visualizando os itens presentes na lista**"
      ]
    },
    {
      "cell_type": "code",
      "metadata": {
        "colab": {
          "base_uri": "https://localhost:8080/"
        },
        "id": "r7Nq3G7SY1_4",
        "outputId": "135bab0e-b8f9-4fe6-f836-b739792aecad"
      },
      "source": [
        "eclat_instance.uniq_"
      ],
      "execution_count": null,
      "outputs": [
        {
          "output_type": "execute_result",
          "data": {
            "text/plain": [
              "[nan, 'Pizza', 'Cerveja', 'Sorvete']"
            ]
          },
          "metadata": {
            "tags": []
          },
          "execution_count": 10
        }
      ]
    },
    {
      "cell_type": "markdown",
      "metadata": {
        "id": "SUHY2M5JauMY"
      },
      "source": [
        "**Combinações**"
      ]
    },
    {
      "cell_type": "code",
      "metadata": {
        "colab": {
          "base_uri": "https://localhost:8080/"
        },
        "id": "CBtV7WdkY3rz",
        "outputId": "a4dc8a2f-b7a3-4d1c-9eed-4bd1ea3ed4d6"
      },
      "source": [
        "get_ECLAT_indexes, get_ECLAT_supports = eclat_instance.fit(min_support=0.08,min_combination=1,\n",
        "                                                           max_combination=3,\n",
        "                                                           separator=' & ',\n",
        "                                                           verbose=True)\n"
      ],
      "execution_count": null,
      "outputs": [
        {
          "output_type": "stream",
          "text": [
            "3it [00:00, 88.79it/s]\n",
            "0it [00:00, ?it/s]"
          ],
          "name": "stderr"
        },
        {
          "output_type": "stream",
          "text": [
            "Combination 1 by 1\n",
            "Combination 2 by 2\n"
          ],
          "name": "stdout"
        },
        {
          "output_type": "stream",
          "text": [
            "3it [00:00, 107.16it/s]\n",
            "1it [00:00, 83.98it/s]"
          ],
          "name": "stderr"
        },
        {
          "output_type": "stream",
          "text": [
            "Combination 3 by 3\n"
          ],
          "name": "stdout"
        },
        {
          "output_type": "stream",
          "text": [
            "\n"
          ],
          "name": "stderr"
        }
      ]
    },
    {
      "cell_type": "markdown",
      "metadata": {
        "id": "yIyHDNetZ9w-"
      },
      "source": [
        "**Visualizando algumas ajudas do algoritmo**"
      ]
    },
    {
      "cell_type": "code",
      "metadata": {
        "colab": {
          "base_uri": "https://localhost:8080/"
        },
        "id": "rAToWtgTY5IQ",
        "outputId": "9ba3a579-2acb-44c7-c92f-8421983b9760"
      },
      "source": [
        "help(eclat_instance.fit)"
      ],
      "execution_count": null,
      "outputs": [
        {
          "output_type": "stream",
          "text": [
            "Help on method fit in module pyECLAT.pyECLAT:\n",
            "\n",
            "fit(min_support=0.08, min_combination=1, max_combination=3, separator=' & ', verbose=True) method of pyECLAT.pyECLAT.ECLAT instance\n",
            "    Return a dictionary. The key is the feature and value is support. A high number of \n",
            "    combinations (greater than three) can take a long time to finish. \n",
            "    \n",
            "    \n",
            "    Arguments\n",
            "    ---------------------\n",
            "    min_support\n",
            "        Must be 'None' to return all features and supports or 'Float' to filter features by support\n",
            "    min_combination\n",
            "        Minimal combination of attributes\n",
            "    max_combination\n",
            "        Maximum combination of attributes\n",
            "    separator\n",
            "        Separator for the output dictionary key. Just to organize. default = ' & '\n",
            "    verbose\n",
            "        `True` to enable the loading bar.\n",
            "\n"
          ],
          "name": "stdout"
        }
      ]
    },
    {
      "cell_type": "code",
      "metadata": {
        "colab": {
          "base_uri": "https://localhost:8080/"
        },
        "id": "3EnCzqIhZEzM",
        "outputId": "31437126-f203-4fdd-b74b-1823d84a38e2"
      },
      "source": [
        "help(eclat_instance.fit_all)"
      ],
      "execution_count": null,
      "outputs": [
        {
          "output_type": "stream",
          "text": [
            "Help on method fit_all in module pyECLAT.pyECLAT:\n",
            "\n",
            "fit_all(min_support=0.08, separator=' & ', verbose=False, min_combination=1) method of pyECLAT.pyECLAT.ECLAT instance\n",
            "    Return a dictionary. The key is the feature and value is support.\n",
            "    This algorithm works with all possible permutations (without repetitions)\n",
            "    until the all supports = 0.\n",
            "    \n",
            "    Arguments\n",
            "    ---------------------\n",
            "    min_support\n",
            "        Must be 'None' to return all features and supports or 'Float' to filter features by support\n",
            "    separator\n",
            "        Separator for the output dictionary key. Just to organize. default = ' & '\n",
            "    verbose\n",
            "        `True` to enables the loading bar.\n",
            "\n"
          ],
          "name": "stdout"
        }
      ]
    },
    {
      "cell_type": "code",
      "metadata": {
        "colab": {
          "base_uri": "https://localhost:8080/"
        },
        "id": "uROwKL4SZGqm",
        "outputId": "69b833a3-f4e0-4c03-bc2b-d4ccb4590d09"
      },
      "source": [
        "help(eclat_instance.support)"
      ],
      "execution_count": null,
      "outputs": [
        {
          "output_type": "stream",
          "text": [
            "Help on method support in module pyECLAT.pyECLAT:\n",
            "\n",
            "support(min_support=None) method of pyECLAT.pyECLAT.ECLAT instance\n",
            "    Return a dictionary. The key is the feature and value is support\n",
            "    \n",
            "    Arguments\n",
            "    ---------------------\n",
            "    min_support\n",
            "        Must be 'None' to return all features and supports or 'Float' to filter features by support\n",
            "\n"
          ],
          "name": "stdout"
        }
      ]
    },
    {
      "cell_type": "code",
      "metadata": {
        "colab": {
          "base_uri": "https://localhost:8080/"
        },
        "id": "guHwoXbBa4lM",
        "outputId": "d55737f1-4793-48f2-aedc-9392ddde196b"
      },
      "source": [
        "eclat_instance.support"
      ],
      "execution_count": null,
      "outputs": [
        {
          "output_type": "execute_result",
          "data": {
            "text/plain": [
              "<bound method ECLAT.support of <pyECLAT.pyECLAT.ECLAT object at 0x7fbc31682ad0>>"
            ]
          },
          "metadata": {
            "tags": []
          },
          "execution_count": 15
        }
      ]
    },
    {
      "cell_type": "markdown",
      "metadata": {
        "id": "f-eyjo7fc2I_"
      },
      "source": [
        "> Infelizmente, o método não foi implementado por completo ainda, mas aparentemente será de grande valia e facilidade pelo que se vê.\n",
        "\n",
        "> Há uma forma de implementar o ECLAT em Python de forma manual e código está abaixo.\n",
        "\n",
        "> Espero que seja útil, quando sair uma implementação em alto nível, atualizo o código.\n",
        "\n",
        "> Felizmente, **se você não tem nenhum preconceito em utilizar a linguagem R**, há uma solução muito simples para gerar as regras e podem ser visualizadas aqui]()."
      ]
    },
    {
      "cell_type": "markdown",
      "metadata": {
        "id": "cngUuHegNbd_"
      },
      "source": [
        "# Obrigado!\n",
        "\n",
        "Obrigado por ter disponibilizado um pouco do seu tempo e atenção aqui. Espero que, de alguma forma, tenha sido útil para seu crescimento. Se houver qualquer dúvida ou sugestão, não hesite em entrar em contato no [LinkedIn](https://www.linkedin.com/in/daniel-sousa-amador) e verificar meus outros projetos no [GitHub](https://github.com/amadords).\n",
        "\n",
        "\n",
        "[![LinkedIn](https://img.shields.io/badge/LinkedIn-DanielSousaAmador-cyan.svg)](https://www.linkedin.com/in/daniel-sousa-amador)\n",
        "[![GitHub](https://img.shields.io/badge/GitHub-amadords-darkblue.svg)](https://github.com/amadords)\n",
        "[![Medium](https://img.shields.io/badge/Medium-DanielSousaAmador-white.svg)](https://daniel-s-amador.medium.com/)\n",
        "\n",
        "\n",
        "\n",
        "<center><img width=\"90%\" src=\"https://raw.githubusercontent.com/danielamador12/Portfolio/master/github.png\"></center>"
      ]
    }
  ]
}