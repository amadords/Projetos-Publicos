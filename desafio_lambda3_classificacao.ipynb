{
  "nbformat": 4,
  "nbformat_minor": 0,
  "metadata": {
    "kernelspec": {
      "display_name": "Python 3",
      "language": "python",
      "name": "python3"
    },
    "language_info": {
      "codemirror_mode": {
        "name": "ipython",
        "version": 3
      },
      "file_extension": ".py",
      "mimetype": "text/x-python",
      "name": "python",
      "nbconvert_exporter": "python",
      "pygments_lexer": "ipython3",
      "version": "3.7.6"
    },
    "colab": {
      "name": "desafio_lambda3_classificacao.ipynb",
      "provenance": [],
      "collapsed_sections": [],
      "include_colab_link": true
    }
  },
  "cells": [
    {
      "cell_type": "markdown",
      "metadata": {
        "id": "view-in-github",
        "colab_type": "text"
      },
      "source": [
        "<a href=\"https://colab.research.google.com/github/danielamador12/public-projects/blob/master/desafio_lambda3_classificacao.ipynb\" target=\"_parent\"><img src=\"https://colab.research.google.com/assets/colab-badge.svg\" alt=\"Open In Colab\"/></a>"
      ]
    },
    {
      "cell_type": "markdown",
      "metadata": {
        "id": "RrDGobLtApYT",
        "colab_type": "text"
      },
      "source": [
        "# Desafio - Vaga para Cientista de Dados\n",
        "\n",
        "![img](https://secure.meetupstatic.com/photos/event/b/3/9/0/600_465405968.jpeg)"
      ]
    },
    {
      "cell_type": "markdown",
      "metadata": {
        "id": "_vst8k0XApYV",
        "colab_type": "text"
      },
      "source": [
        "## Conhecendo o desafio\n",
        "\n",
        "**Empresa**: Lambda3 (https://www.lambda3.com.br/)\n",
        "\n",
        "**Complexidade**: Intermediário\n",
        "\n",
        "**Tarefa avaliada**: Machine Learning - Classificação\n",
        "\n",
        "**Requisitos**: \n",
        "- Ferramentas Essenciais.\n",
        "- Conceitos e Aplicações.\n",
        "- Dominando o Python\n",
        "- Python para Análise de Dados.\n",
        "- Machine Learning\n",
        "    - Algoritmos de Classificação\n",
        "    - Técnicas de Validação\n",
        "    - Tunning de Modelos\n",
        "\n",
        "**Objetivo**: Este desafio tem como objetivo avaliar as habilidades do candidato em relação a uma tarefa simples de classificação, conforme descrito pela empresa.\n",
        "\n",
        "**Recursos**: Para este desafio é proposto o dataset Iris e poder ser visualizado [aqui](https://archive.ics.uci.edu/ml/datasets/Iris).\n",
        "\n",
        "Você pode ver o trabalho em cima dessa mesma base de dados com alguns dos algoritmos de Machine Learning aqui utilizados em nosso [portfólio](https://github.com/danielamador12/Portfolio) na parte **Conhecendo Algoritmos**."
      ]
    },
    {
      "cell_type": "markdown",
      "metadata": {
        "id": "nbWNlnYHoQsU",
        "colab_type": "text"
      },
      "source": [
        "<p><span style=\"color:red\">O dataset deve ser o Iris, obrigatoriamente.</span></p>"
      ]
    },
    {
      "cell_type": "markdown",
      "metadata": {
        "id": "0qxlGf3EApYY",
        "colab_type": "text"
      },
      "source": [
        "**Importando as bibliotecas necessárias**"
      ]
    },
    {
      "cell_type": "code",
      "metadata": {
        "id": "YSsa5IHJApYa",
        "colab_type": "code",
        "colab": {}
      },
      "source": [
        "import pandas as pd\n",
        "from sklearn.preprocessing import LabelEncoder\n",
        "from sklearn.model_selection import cross_val_predict\n",
        "from sklearn.metrics import classification_report\n",
        "from sklearn.metrics import accuracy_score\n",
        "from sklearn.datasets import load_iris\n",
        "import matplotlib.pyplot as plt\n",
        "from sklearn.model_selection import GridSearchCV\n",
        "from sklearn.model_selection import train_test_split\n",
        "from sklearn.pipeline import Pipeline\n",
        "from sklearn.preprocessing import StandardScaler, MinMaxScaler\n",
        "from sklearn.neighbors import KNeighborsClassifier\n",
        "from sklearn import svm\n",
        "from sklearn.ensemble import RandomForestClassifier\n",
        "from sklearn.tree import DecisionTreeClassifier\n",
        "from sklearn.cluster import KMeans\n",
        "from sklearn.naive_bayes import MultinomialNB\n",
        "from google.colab import drive"
      ],
      "execution_count": 1,
      "outputs": []
    },
    {
      "cell_type": "markdown",
      "metadata": {
        "id": "9jK74TkNApYp",
        "colab_type": "text"
      },
      "source": [
        "**Importando o dataset Iris**\n",
        "\n",
        "Estamos importando a base de dados diretamente da API da scikit learn, contudo não há diferença se você tive o arquivo em `.csv`.\n",
        "\n",
        "Vamos transformar em `DataFrame`, porém antes vamos visualizar os atributos gerais dos dados advindos da biblioteca."
      ]
    },
    {
      "cell_type": "code",
      "metadata": {
        "id": "lZrEjNwUApYq",
        "colab_type": "code",
        "colab": {}
      },
      "source": [
        "iris = load_iris()"
      ],
      "execution_count": 2,
      "outputs": []
    },
    {
      "cell_type": "markdown",
      "metadata": {
        "id": "ajEcpbjzo7S7",
        "colab_type": "text"
      },
      "source": [
        "**Visualizando os dados**\n",
        "\n",
        "Somente as features, logo, sem a classe.\n"
      ]
    },
    {
      "cell_type": "code",
      "metadata": {
        "id": "2gx0a_3OApYy",
        "colab_type": "code",
        "colab": {
          "base_uri": "https://localhost:8080/",
          "height": 1000
        },
        "outputId": "fbc9cd29-b008-43cd-b724-9127884dbcec"
      },
      "source": [
        "iris.data"
      ],
      "execution_count": 3,
      "outputs": [
        {
          "output_type": "execute_result",
          "data": {
            "text/plain": [
              "array([[5.1, 3.5, 1.4, 0.2],\n",
              "       [4.9, 3. , 1.4, 0.2],\n",
              "       [4.7, 3.2, 1.3, 0.2],\n",
              "       [4.6, 3.1, 1.5, 0.2],\n",
              "       [5. , 3.6, 1.4, 0.2],\n",
              "       [5.4, 3.9, 1.7, 0.4],\n",
              "       [4.6, 3.4, 1.4, 0.3],\n",
              "       [5. , 3.4, 1.5, 0.2],\n",
              "       [4.4, 2.9, 1.4, 0.2],\n",
              "       [4.9, 3.1, 1.5, 0.1],\n",
              "       [5.4, 3.7, 1.5, 0.2],\n",
              "       [4.8, 3.4, 1.6, 0.2],\n",
              "       [4.8, 3. , 1.4, 0.1],\n",
              "       [4.3, 3. , 1.1, 0.1],\n",
              "       [5.8, 4. , 1.2, 0.2],\n",
              "       [5.7, 4.4, 1.5, 0.4],\n",
              "       [5.4, 3.9, 1.3, 0.4],\n",
              "       [5.1, 3.5, 1.4, 0.3],\n",
              "       [5.7, 3.8, 1.7, 0.3],\n",
              "       [5.1, 3.8, 1.5, 0.3],\n",
              "       [5.4, 3.4, 1.7, 0.2],\n",
              "       [5.1, 3.7, 1.5, 0.4],\n",
              "       [4.6, 3.6, 1. , 0.2],\n",
              "       [5.1, 3.3, 1.7, 0.5],\n",
              "       [4.8, 3.4, 1.9, 0.2],\n",
              "       [5. , 3. , 1.6, 0.2],\n",
              "       [5. , 3.4, 1.6, 0.4],\n",
              "       [5.2, 3.5, 1.5, 0.2],\n",
              "       [5.2, 3.4, 1.4, 0.2],\n",
              "       [4.7, 3.2, 1.6, 0.2],\n",
              "       [4.8, 3.1, 1.6, 0.2],\n",
              "       [5.4, 3.4, 1.5, 0.4],\n",
              "       [5.2, 4.1, 1.5, 0.1],\n",
              "       [5.5, 4.2, 1.4, 0.2],\n",
              "       [4.9, 3.1, 1.5, 0.2],\n",
              "       [5. , 3.2, 1.2, 0.2],\n",
              "       [5.5, 3.5, 1.3, 0.2],\n",
              "       [4.9, 3.6, 1.4, 0.1],\n",
              "       [4.4, 3. , 1.3, 0.2],\n",
              "       [5.1, 3.4, 1.5, 0.2],\n",
              "       [5. , 3.5, 1.3, 0.3],\n",
              "       [4.5, 2.3, 1.3, 0.3],\n",
              "       [4.4, 3.2, 1.3, 0.2],\n",
              "       [5. , 3.5, 1.6, 0.6],\n",
              "       [5.1, 3.8, 1.9, 0.4],\n",
              "       [4.8, 3. , 1.4, 0.3],\n",
              "       [5.1, 3.8, 1.6, 0.2],\n",
              "       [4.6, 3.2, 1.4, 0.2],\n",
              "       [5.3, 3.7, 1.5, 0.2],\n",
              "       [5. , 3.3, 1.4, 0.2],\n",
              "       [7. , 3.2, 4.7, 1.4],\n",
              "       [6.4, 3.2, 4.5, 1.5],\n",
              "       [6.9, 3.1, 4.9, 1.5],\n",
              "       [5.5, 2.3, 4. , 1.3],\n",
              "       [6.5, 2.8, 4.6, 1.5],\n",
              "       [5.7, 2.8, 4.5, 1.3],\n",
              "       [6.3, 3.3, 4.7, 1.6],\n",
              "       [4.9, 2.4, 3.3, 1. ],\n",
              "       [6.6, 2.9, 4.6, 1.3],\n",
              "       [5.2, 2.7, 3.9, 1.4],\n",
              "       [5. , 2. , 3.5, 1. ],\n",
              "       [5.9, 3. , 4.2, 1.5],\n",
              "       [6. , 2.2, 4. , 1. ],\n",
              "       [6.1, 2.9, 4.7, 1.4],\n",
              "       [5.6, 2.9, 3.6, 1.3],\n",
              "       [6.7, 3.1, 4.4, 1.4],\n",
              "       [5.6, 3. , 4.5, 1.5],\n",
              "       [5.8, 2.7, 4.1, 1. ],\n",
              "       [6.2, 2.2, 4.5, 1.5],\n",
              "       [5.6, 2.5, 3.9, 1.1],\n",
              "       [5.9, 3.2, 4.8, 1.8],\n",
              "       [6.1, 2.8, 4. , 1.3],\n",
              "       [6.3, 2.5, 4.9, 1.5],\n",
              "       [6.1, 2.8, 4.7, 1.2],\n",
              "       [6.4, 2.9, 4.3, 1.3],\n",
              "       [6.6, 3. , 4.4, 1.4],\n",
              "       [6.8, 2.8, 4.8, 1.4],\n",
              "       [6.7, 3. , 5. , 1.7],\n",
              "       [6. , 2.9, 4.5, 1.5],\n",
              "       [5.7, 2.6, 3.5, 1. ],\n",
              "       [5.5, 2.4, 3.8, 1.1],\n",
              "       [5.5, 2.4, 3.7, 1. ],\n",
              "       [5.8, 2.7, 3.9, 1.2],\n",
              "       [6. , 2.7, 5.1, 1.6],\n",
              "       [5.4, 3. , 4.5, 1.5],\n",
              "       [6. , 3.4, 4.5, 1.6],\n",
              "       [6.7, 3.1, 4.7, 1.5],\n",
              "       [6.3, 2.3, 4.4, 1.3],\n",
              "       [5.6, 3. , 4.1, 1.3],\n",
              "       [5.5, 2.5, 4. , 1.3],\n",
              "       [5.5, 2.6, 4.4, 1.2],\n",
              "       [6.1, 3. , 4.6, 1.4],\n",
              "       [5.8, 2.6, 4. , 1.2],\n",
              "       [5. , 2.3, 3.3, 1. ],\n",
              "       [5.6, 2.7, 4.2, 1.3],\n",
              "       [5.7, 3. , 4.2, 1.2],\n",
              "       [5.7, 2.9, 4.2, 1.3],\n",
              "       [6.2, 2.9, 4.3, 1.3],\n",
              "       [5.1, 2.5, 3. , 1.1],\n",
              "       [5.7, 2.8, 4.1, 1.3],\n",
              "       [6.3, 3.3, 6. , 2.5],\n",
              "       [5.8, 2.7, 5.1, 1.9],\n",
              "       [7.1, 3. , 5.9, 2.1],\n",
              "       [6.3, 2.9, 5.6, 1.8],\n",
              "       [6.5, 3. , 5.8, 2.2],\n",
              "       [7.6, 3. , 6.6, 2.1],\n",
              "       [4.9, 2.5, 4.5, 1.7],\n",
              "       [7.3, 2.9, 6.3, 1.8],\n",
              "       [6.7, 2.5, 5.8, 1.8],\n",
              "       [7.2, 3.6, 6.1, 2.5],\n",
              "       [6.5, 3.2, 5.1, 2. ],\n",
              "       [6.4, 2.7, 5.3, 1.9],\n",
              "       [6.8, 3. , 5.5, 2.1],\n",
              "       [5.7, 2.5, 5. , 2. ],\n",
              "       [5.8, 2.8, 5.1, 2.4],\n",
              "       [6.4, 3.2, 5.3, 2.3],\n",
              "       [6.5, 3. , 5.5, 1.8],\n",
              "       [7.7, 3.8, 6.7, 2.2],\n",
              "       [7.7, 2.6, 6.9, 2.3],\n",
              "       [6. , 2.2, 5. , 1.5],\n",
              "       [6.9, 3.2, 5.7, 2.3],\n",
              "       [5.6, 2.8, 4.9, 2. ],\n",
              "       [7.7, 2.8, 6.7, 2. ],\n",
              "       [6.3, 2.7, 4.9, 1.8],\n",
              "       [6.7, 3.3, 5.7, 2.1],\n",
              "       [7.2, 3.2, 6. , 1.8],\n",
              "       [6.2, 2.8, 4.8, 1.8],\n",
              "       [6.1, 3. , 4.9, 1.8],\n",
              "       [6.4, 2.8, 5.6, 2.1],\n",
              "       [7.2, 3. , 5.8, 1.6],\n",
              "       [7.4, 2.8, 6.1, 1.9],\n",
              "       [7.9, 3.8, 6.4, 2. ],\n",
              "       [6.4, 2.8, 5.6, 2.2],\n",
              "       [6.3, 2.8, 5.1, 1.5],\n",
              "       [6.1, 2.6, 5.6, 1.4],\n",
              "       [7.7, 3. , 6.1, 2.3],\n",
              "       [6.3, 3.4, 5.6, 2.4],\n",
              "       [6.4, 3.1, 5.5, 1.8],\n",
              "       [6. , 3. , 4.8, 1.8],\n",
              "       [6.9, 3.1, 5.4, 2.1],\n",
              "       [6.7, 3.1, 5.6, 2.4],\n",
              "       [6.9, 3.1, 5.1, 2.3],\n",
              "       [5.8, 2.7, 5.1, 1.9],\n",
              "       [6.8, 3.2, 5.9, 2.3],\n",
              "       [6.7, 3.3, 5.7, 2.5],\n",
              "       [6.7, 3. , 5.2, 2.3],\n",
              "       [6.3, 2.5, 5. , 1.9],\n",
              "       [6.5, 3. , 5.2, 2. ],\n",
              "       [6.2, 3.4, 5.4, 2.3],\n",
              "       [5.9, 3. , 5.1, 1.8]])"
            ]
          },
          "metadata": {
            "tags": []
          },
          "execution_count": 3
        }
      ]
    },
    {
      "cell_type": "markdown",
      "metadata": {
        "id": "wJEbMup6qDDy",
        "colab_type": "text"
      },
      "source": [
        "**Visualizando somente os dados da classe**"
      ]
    },
    {
      "cell_type": "code",
      "metadata": {
        "id": "BfhJ_oYUApY5",
        "colab_type": "code",
        "colab": {
          "base_uri": "https://localhost:8080/",
          "height": 139
        },
        "outputId": "65fbde90-bd78-4ab5-c5a6-da73d9bb401e"
      },
      "source": [
        "iris.target"
      ],
      "execution_count": 4,
      "outputs": [
        {
          "output_type": "execute_result",
          "data": {
            "text/plain": [
              "array([0, 0, 0, 0, 0, 0, 0, 0, 0, 0, 0, 0, 0, 0, 0, 0, 0, 0, 0, 0, 0, 0,\n",
              "       0, 0, 0, 0, 0, 0, 0, 0, 0, 0, 0, 0, 0, 0, 0, 0, 0, 0, 0, 0, 0, 0,\n",
              "       0, 0, 0, 0, 0, 0, 1, 1, 1, 1, 1, 1, 1, 1, 1, 1, 1, 1, 1, 1, 1, 1,\n",
              "       1, 1, 1, 1, 1, 1, 1, 1, 1, 1, 1, 1, 1, 1, 1, 1, 1, 1, 1, 1, 1, 1,\n",
              "       1, 1, 1, 1, 1, 1, 1, 1, 1, 1, 1, 1, 2, 2, 2, 2, 2, 2, 2, 2, 2, 2,\n",
              "       2, 2, 2, 2, 2, 2, 2, 2, 2, 2, 2, 2, 2, 2, 2, 2, 2, 2, 2, 2, 2, 2,\n",
              "       2, 2, 2, 2, 2, 2, 2, 2, 2, 2, 2, 2, 2, 2, 2, 2, 2, 2])"
            ]
          },
          "metadata": {
            "tags": []
          },
          "execution_count": 4
        }
      ]
    },
    {
      "cell_type": "markdown",
      "metadata": {
        "id": "GNRaARRlApY_",
        "colab_type": "text"
      },
      "source": [
        "**Verificando os dados e atributos da base de dados.**\n"
      ]
    },
    {
      "cell_type": "markdown",
      "metadata": {
        "id": "G1NIuREqrycE",
        "colab_type": "text"
      },
      "source": [
        "| **0** | **1** | **2** |\n",
        "|:-----:|:-----:|:-----:|\n",
        "|setosa|versicolor|virginica|\n"
      ]
    },
    {
      "cell_type": "code",
      "metadata": {
        "id": "LY1GiqNxApZB",
        "colab_type": "code",
        "colab": {
          "base_uri": "https://localhost:8080/",
          "height": 34
        },
        "outputId": "5eb4a952-c1f3-481b-f1bc-2803c5bb04e4"
      },
      "source": [
        "iris.target_names"
      ],
      "execution_count": 5,
      "outputs": [
        {
          "output_type": "execute_result",
          "data": {
            "text/plain": [
              "array(['setosa', 'versicolor', 'virginica'], dtype='<U10')"
            ]
          },
          "metadata": {
            "tags": []
          },
          "execution_count": 5
        }
      ]
    },
    {
      "cell_type": "markdown",
      "metadata": {
        "id": "g289T78ysH6I",
        "colab_type": "text"
      },
      "source": [
        "**Esses são os nomes das features e essa é a ordem**"
      ]
    },
    {
      "cell_type": "code",
      "metadata": {
        "id": "RdnZH7QwApZH",
        "colab_type": "code",
        "colab": {
          "base_uri": "https://localhost:8080/",
          "height": 86
        },
        "outputId": "fbf6b8e6-b4d0-46b0-b33e-e52df3b1bf01"
      },
      "source": [
        "iris.feature_names"
      ],
      "execution_count": 6,
      "outputs": [
        {
          "output_type": "execute_result",
          "data": {
            "text/plain": [
              "['sepal length (cm)',\n",
              " 'sepal width (cm)',\n",
              " 'petal length (cm)',\n",
              " 'petal width (cm)']"
            ]
          },
          "metadata": {
            "tags": []
          },
          "execution_count": 6
        }
      ]
    },
    {
      "cell_type": "markdown",
      "metadata": {
        "id": "9NENU3kFsM4l",
        "colab_type": "text"
      },
      "source": [
        "**Vamos transformar em DataFrame**\n",
        "\n",
        "Aqui é simples, seja trabalhando em *Python* ou em *R*, DataFrame é o nosso principal local de trabalho e é, sem dúvida, onde sabemos trabalhar melhor, então a transformação dos dados em DataFrame é para podermos utilizar todo esse poder que já temos.\n"
      ]
    },
    {
      "cell_type": "code",
      "metadata": {
        "scrolled": true,
        "id": "rpFC_p_eApZP",
        "colab_type": "code",
        "colab": {
          "base_uri": "https://localhost:8080/",
          "height": 206
        },
        "outputId": "7f52bd3e-6bda-4ad1-d161-f0f7ae7a521f"
      },
      "source": [
        "iris_df=pd.DataFrame(iris.data,columns=iris.feature_names)\n",
        "iris_df['class']=iris.target\n",
        "iris_df\n",
        "iris=iris_df.copy()\n",
        "iris.head()"
      ],
      "execution_count": 7,
      "outputs": [
        {
          "output_type": "execute_result",
          "data": {
            "text/html": [
              "<div>\n",
              "<style scoped>\n",
              "    .dataframe tbody tr th:only-of-type {\n",
              "        vertical-align: middle;\n",
              "    }\n",
              "\n",
              "    .dataframe tbody tr th {\n",
              "        vertical-align: top;\n",
              "    }\n",
              "\n",
              "    .dataframe thead th {\n",
              "        text-align: right;\n",
              "    }\n",
              "</style>\n",
              "<table border=\"1\" class=\"dataframe\">\n",
              "  <thead>\n",
              "    <tr style=\"text-align: right;\">\n",
              "      <th></th>\n",
              "      <th>sepal length (cm)</th>\n",
              "      <th>sepal width (cm)</th>\n",
              "      <th>petal length (cm)</th>\n",
              "      <th>petal width (cm)</th>\n",
              "      <th>class</th>\n",
              "    </tr>\n",
              "  </thead>\n",
              "  <tbody>\n",
              "    <tr>\n",
              "      <th>0</th>\n",
              "      <td>5.1</td>\n",
              "      <td>3.5</td>\n",
              "      <td>1.4</td>\n",
              "      <td>0.2</td>\n",
              "      <td>0</td>\n",
              "    </tr>\n",
              "    <tr>\n",
              "      <th>1</th>\n",
              "      <td>4.9</td>\n",
              "      <td>3.0</td>\n",
              "      <td>1.4</td>\n",
              "      <td>0.2</td>\n",
              "      <td>0</td>\n",
              "    </tr>\n",
              "    <tr>\n",
              "      <th>2</th>\n",
              "      <td>4.7</td>\n",
              "      <td>3.2</td>\n",
              "      <td>1.3</td>\n",
              "      <td>0.2</td>\n",
              "      <td>0</td>\n",
              "    </tr>\n",
              "    <tr>\n",
              "      <th>3</th>\n",
              "      <td>4.6</td>\n",
              "      <td>3.1</td>\n",
              "      <td>1.5</td>\n",
              "      <td>0.2</td>\n",
              "      <td>0</td>\n",
              "    </tr>\n",
              "    <tr>\n",
              "      <th>4</th>\n",
              "      <td>5.0</td>\n",
              "      <td>3.6</td>\n",
              "      <td>1.4</td>\n",
              "      <td>0.2</td>\n",
              "      <td>0</td>\n",
              "    </tr>\n",
              "  </tbody>\n",
              "</table>\n",
              "</div>"
            ],
            "text/plain": [
              "   sepal length (cm)  sepal width (cm)  ...  petal width (cm)  class\n",
              "0                5.1               3.5  ...               0.2      0\n",
              "1                4.9               3.0  ...               0.2      0\n",
              "2                4.7               3.2  ...               0.2      0\n",
              "3                4.6               3.1  ...               0.2      0\n",
              "4                5.0               3.6  ...               0.2      0\n",
              "\n",
              "[5 rows x 5 columns]"
            ]
          },
          "metadata": {
            "tags": []
          },
          "execution_count": 7
        }
      ]
    },
    {
      "cell_type": "markdown",
      "metadata": {
        "id": "ePyoOsZNvtu4",
        "colab_type": "text"
      },
      "source": [
        "**Pronto!**\n",
        "\n",
        "Agora sem dúvida estamos no ambiente ideal para trabalhar. \n",
        "\n",
        "Os dados da base Iris não precisam de pré-processamentos, pois são uma base de dados muito simplista e, ao final, bem fácil de se trabalhar.\n",
        "\n",
        "Vamos chegar a base."
      ]
    },
    {
      "cell_type": "markdown",
      "metadata": {
        "id": "2zdJbfPzv4fQ",
        "colab_type": "text"
      },
      "source": [
        "**Informações sobre as colunas**"
      ]
    },
    {
      "cell_type": "code",
      "metadata": {
        "id": "htVhDjsFApZV",
        "colab_type": "code",
        "colab": {
          "base_uri": "https://localhost:8080/",
          "height": 225
        },
        "outputId": "5a03bcff-fa76-4989-91a7-2bd90d793b2c"
      },
      "source": [
        "iris.info()"
      ],
      "execution_count": 8,
      "outputs": [
        {
          "output_type": "stream",
          "text": [
            "<class 'pandas.core.frame.DataFrame'>\n",
            "RangeIndex: 150 entries, 0 to 149\n",
            "Data columns (total 5 columns):\n",
            " #   Column             Non-Null Count  Dtype  \n",
            "---  ------             --------------  -----  \n",
            " 0   sepal length (cm)  150 non-null    float64\n",
            " 1   sepal width (cm)   150 non-null    float64\n",
            " 2   petal length (cm)  150 non-null    float64\n",
            " 3   petal width (cm)   150 non-null    float64\n",
            " 4   class              150 non-null    int64  \n",
            "dtypes: float64(4), int64(1)\n",
            "memory usage: 6.0 KB\n"
          ],
          "name": "stdout"
        }
      ]
    },
    {
      "cell_type": "markdown",
      "metadata": {
        "id": "bpswDdZHApZa",
        "colab_type": "text"
      },
      "source": [
        "<p><span style=\"color:red\"> Receber as entradas específicas (escolher as variáveis pertinentes).</span></p>\n",
        "<p><span style=\"color:red\"> Justificar a escolha das variáveis.</span></p>\n"
      ]
    },
    {
      "cell_type": "markdown",
      "metadata": {
        "id": "-OxiRfnsApZb",
        "colab_type": "text"
      },
      "source": [
        "**Separando separando os atributos que serão utilizados como features e a classe.**"
      ]
    },
    {
      "cell_type": "code",
      "metadata": {
        "id": "R6V_4EfrApZc",
        "colab_type": "code",
        "colab": {}
      },
      "source": [
        "X = iris.drop(\"class\",axis=1)"
      ],
      "execution_count": 9,
      "outputs": []
    },
    {
      "cell_type": "code",
      "metadata": {
        "id": "jjdNeiPAApZh",
        "colab_type": "code",
        "colab": {}
      },
      "source": [
        "y = iris[\"class\"]"
      ],
      "execution_count": 10,
      "outputs": []
    },
    {
      "cell_type": "markdown",
      "metadata": {
        "id": "iMHGq7T6ApZn",
        "colab_type": "text"
      },
      "source": [
        "**Verificando as formas das variáveis.**"
      ]
    },
    {
      "cell_type": "code",
      "metadata": {
        "id": "GGbW9pepApZp",
        "colab_type": "code",
        "colab": {
          "base_uri": "https://localhost:8080/",
          "height": 34
        },
        "outputId": "f675e9ed-3685-4809-ffd0-2960730c3b0d"
      },
      "source": [
        "X.shape"
      ],
      "execution_count": 11,
      "outputs": [
        {
          "output_type": "execute_result",
          "data": {
            "text/plain": [
              "(150, 4)"
            ]
          },
          "metadata": {
            "tags": []
          },
          "execution_count": 11
        }
      ]
    },
    {
      "cell_type": "code",
      "metadata": {
        "id": "Vl3sN4AEApZt",
        "colab_type": "code",
        "colab": {
          "base_uri": "https://localhost:8080/",
          "height": 34
        },
        "outputId": "8800c496-aae6-43a5-a25d-e971e7cf39bc"
      },
      "source": [
        "y.shape"
      ],
      "execution_count": 12,
      "outputs": [
        {
          "output_type": "execute_result",
          "data": {
            "text/plain": [
              "(150,)"
            ]
          },
          "metadata": {
            "tags": []
          },
          "execution_count": 12
        }
      ]
    },
    {
      "cell_type": "markdown",
      "metadata": {
        "id": "33Hi1BR5xVdf",
        "colab_type": "text"
      },
      "source": [
        "**Plotando a dispersão dos dados**\n",
        "\n",
        "Vamos visualizar a dispersão das *sepalas* e das *petalas*.\n",
        "\n",
        "Veja como as sepalas conseguem nos dá uma melhor noção da separabilidade dos dados do que as petalas."
      ]
    },
    {
      "cell_type": "code",
      "metadata": {
        "scrolled": true,
        "id": "-eV91TOfApZy",
        "colab_type": "code",
        "colab": {
          "base_uri": "https://localhost:8080/",
          "height": 390
        },
        "outputId": "f59a62b6-1917-43fa-ce33-191a40a9df0f"
      },
      "source": [
        "# visualizando\n",
        "%matplotlib inline\n",
        "f,(ax1, ax2) = plt.subplots(1, 2, figsize=(10,6))\n",
        "# sharey controla o compartilhamento de propriedades entre os eixos x ( sharex) ou y ( sharey)\n",
        "# True ou 'all': o eixo x ou y será compartilhado entre todas as subparcelas\n",
        "ax1.set_title('Sepalas')\n",
        "ax1.scatter(X['sepal length (cm)'], X['petal width (cm)'],s=150,c=y)\n",
        "ax2.set_title('Petalas')\n",
        "ax2.scatter(X['sepal width (cm)'], X['sepal length (cm)'],s=150,c=y);\n",
        "plt.show()"
      ],
      "execution_count": 85,
      "outputs": [
        {
          "output_type": "display_data",
          "data": {
            "image/png": "[encoded data removed]",
            "text/plain": [
              "<Figure size 720x432 with 2 Axes>"
            ]
          },
          "metadata": {
            "tags": [],
            "needs_background": "light"
          }
        }
      ]
    },
    {
      "cell_type": "markdown",
      "metadata": {
        "id": "st0yaTzIyHrV",
        "colab_type": "text"
      },
      "source": [
        "**Dividindo os dados em `treino` e `teste`.**\n",
        "\n",
        "O `random_state=12` serve para você replicar essa divisão e ter exatamente a mesma que eu tive nesse notebook.\n",
        "\n",
        "A divisão é aleatória, mas você terá o mesmo nível de aleatoriedade."
      ]
    },
    {
      "cell_type": "code",
      "metadata": {
        "id": "ysWyY2ikApZ4",
        "colab_type": "code",
        "colab": {}
      },
      "source": [
        "X_train, X_test, y_train, y_test = train_test_split(X, y, test_size=0.2, random_state=12)"
      ],
      "execution_count": 82,
      "outputs": []
    },
    {
      "cell_type": "markdown",
      "metadata": {
        "id": "--9qPwuGywPp",
        "colab_type": "text"
      },
      "source": [
        "**Pipelines**\n",
        "\n",
        "Em nosso artigo sobre [pré-processamento de dados](https://github.com/danielamador12/public-projects/blob/master/pr%C3%A1tica_pre-processamento_e_metricas.ipynb) você poderá saber mais sobre esse método que serve para automatizar etapas do processo de Machine Learning."
      ]
    },
    {
      "cell_type": "code",
      "metadata": {
        "id": "hucBF2EtApZ8",
        "colab_type": "code",
        "colab": {}
      },
      "source": [
        "# criando pipelines\n",
        "\n",
        "pip_ss_knn = Pipeline([('scaler', StandardScaler()),\n",
        "                    ('KNN', KNeighborsClassifier())\n",
        "                   ])\n",
        "\n",
        "pip_minmax_knn = Pipeline([('minmax', MinMaxScaler()),\n",
        "                       ('KNN', KNeighborsClassifier())\n",
        "                      ])\n",
        "pip_knn=Pipeline([('KNN', KNeighborsClassifier())\n",
        "                      ])\n",
        "\n",
        "\n",
        "\n",
        "pip_ss_svm = Pipeline([('scaler', StandardScaler()),\n",
        "                       ('SVM', svm.SVC())\n",
        "                      ])\n",
        "pip_minmax_svm = Pipeline([('minmax', MinMaxScaler()),\n",
        "                       ('SVM', svm.SVC())\n",
        "                      ])\n",
        "pip_svm=Pipeline([('SVM', KNeighborsClassifier())\n",
        "                      ])\n",
        "\n",
        "\n",
        "\n",
        "pip_ss_random = Pipeline([('scaler', StandardScaler()),\n",
        "                       ('Random', RandomForestClassifier())\n",
        "                      ])\n",
        "pip_minmax_random = Pipeline([('minmax', MinMaxScaler()),\n",
        "                       ('Random', RandomForestClassifier())\n",
        "                      ])\n",
        "pip_random=Pipeline([('Random', RandomForestClassifier())\n",
        "                      ])\n",
        "\n",
        "\n",
        "\n",
        "pip_ss_tree = Pipeline([('scaler', StandardScaler()),\n",
        "                       ('Tree', DecisionTreeClassifier())\n",
        "                      ])\n",
        "pip_minmax_tree= Pipeline([('minmax', MinMaxScaler()),\n",
        "                       ('Tree', DecisionTreeClassifier())\n",
        "                      ])\n",
        "pip_tree=Pipeline([('Tree', DecisionTreeClassifier())\n",
        "                      ])\n",
        "\n",
        "# não funciona bem com os piplines, mas está aqui para visualizarmos\n",
        "pip_ss_kmeans = Pipeline([('scaler', StandardScaler()),\n",
        "                       ('KMeans', KMeans())\n",
        "                      ])\n",
        "pip_minmax_kmeans= Pipeline([('minmax', MinMaxScaler()),\n",
        "                       ('KMeans', KMeans())\n",
        "                      ])\n",
        "pip_kmeans=Pipeline([('KMeans', KMeans())\n",
        "                      ])\n",
        "\n",
        "\n",
        "# 'pip_ss_nb' não é criado por o NB não aceitar valores negativos\n",
        "pip_minmax_nb= Pipeline([('minmax', MinMaxScaler()),\n",
        "                       ('Naive', MultinomialNB())\n",
        "                      ])\n",
        "pip_nb=Pipeline([('Naive', MultinomialNB())\n",
        "                      ])"
      ],
      "execution_count": 86,
      "outputs": []
    },
    {
      "cell_type": "markdown",
      "metadata": {
        "id": "YBmI0iaWz4YG",
        "colab_type": "text"
      },
      "source": [
        "**Treinando os pipelines**\n",
        "\n",
        "Vamos treinar com nossos dados de treino: `X_train` e `y_train`\n"
      ]
    },
    {
      "cell_type": "code",
      "metadata": {
        "id": "3MlOLEYNApaA",
        "colab_type": "code",
        "colab": {
          "base_uri": "https://localhost:8080/",
          "height": 86
        },
        "outputId": "c7a9b887-98e9-4951-a82b-17d7f4de4cf7"
      },
      "source": [
        "pip_ss_knn.fit(X_train, y_train)\n",
        "\n",
        "pip_minmax_knn.fit(X_train, y_train)\n",
        "\n",
        "pip_knn.fit(X_train, y_train)\n",
        "\n",
        "\n",
        "\n",
        "pip_ss_svm.fit(X_train, y_train)\n",
        "\n",
        "pip_minmax_svm.fit(X_train, y_train)\n",
        "\n",
        "pip_svm.fit(X_train, y_train)\n",
        "\n",
        "\n",
        "pip_ss_random.fit(X_train, y_train)\n",
        "\n",
        "pip_minmax_random.fit(X_train, y_train)\n",
        "\n",
        "pip_random.fit(X_train, y_train)\n",
        "\n",
        "\n",
        "\n",
        "pip_ss_tree.fit(X_train, y_train)\n",
        "\n",
        "pip_minmax_tree.fit(X_train, y_train)\n",
        "\n",
        "pip_tree.fit(X_train, y_train)\n",
        "\n",
        "\n",
        "\n",
        "pip_ss_kmeans.fit(X_train, y_train)\n",
        "\n",
        "pip_minmax_kmeans.fit(X_train, y_train)\n",
        "\n",
        "pip_kmeans.fit(X_train, y_train)\n",
        "\n",
        "\n",
        "\n",
        "pip_minmax_nb.fit(X_train, y_train)\n",
        "\n",
        "pip_nb.fit(X_train, y_train)"
      ],
      "execution_count": 16,
      "outputs": [
        {
          "output_type": "execute_result",
          "data": {
            "text/plain": [
              "Pipeline(memory=None,\n",
              "         steps=[('Naive',\n",
              "                 MultinomialNB(alpha=1.0, class_prior=None, fit_prior=True))],\n",
              "         verbose=False)"
            ]
          },
          "metadata": {
            "tags": []
          },
          "execution_count": 16
        }
      ]
    },
    {
      "cell_type": "markdown",
      "metadata": {
        "id": "g8GMFc9rz82V",
        "colab_type": "text"
      },
      "source": [
        "**Scores dos pipelines**\n",
        "\n",
        "Aqui vamos ver os resultados de cada pipeline.\n",
        "\n",
        "É interessante saber que, quanto maior a distância entre a predição com dados de treino e de teste, maior é o *enviesamento* do algoritmo."
      ]
    },
    {
      "cell_type": "code",
      "metadata": {
        "id": "xFiZ1L8CApaG",
        "colab_type": "code",
        "colab": {
          "base_uri": "https://localhost:8080/",
          "height": 34
        },
        "outputId": "5e02c834-7576-4cf7-ae85-76eace276f87"
      },
      "source": [
        "pip_ss_knn.score(X_test, y_test),pip_ss_knn.score(X_train, y_train)"
      ],
      "execution_count": 17,
      "outputs": [
        {
          "output_type": "execute_result",
          "data": {
            "text/plain": [
              "(0.9666666666666667, 0.9583333333333334)"
            ]
          },
          "metadata": {
            "tags": []
          },
          "execution_count": 17
        }
      ]
    },
    {
      "cell_type": "code",
      "metadata": {
        "id": "FIHpHsCqApaM",
        "colab_type": "code",
        "colab": {
          "base_uri": "https://localhost:8080/",
          "height": 34
        },
        "outputId": "6ceff627-eda5-4e83-d70e-0fa13a6bf499"
      },
      "source": [
        "pip_minmax_knn.score(X_test, y_test),pip_minmax_knn.score(X_train, y_train)"
      ],
      "execution_count": 18,
      "outputs": [
        {
          "output_type": "execute_result",
          "data": {
            "text/plain": [
              "(1.0, 0.95)"
            ]
          },
          "metadata": {
            "tags": []
          },
          "execution_count": 18
        }
      ]
    },
    {
      "cell_type": "code",
      "metadata": {
        "id": "0bRqVscKApaW",
        "colab_type": "code",
        "colab": {
          "base_uri": "https://localhost:8080/",
          "height": 34
        },
        "outputId": "06d72fb3-c078-4812-f9cb-647158084d0e"
      },
      "source": [
        "pip_knn.score(X_test, y_test),pip_knn.score(X_train, y_train)"
      ],
      "execution_count": 19,
      "outputs": [
        {
          "output_type": "execute_result",
          "data": {
            "text/plain": [
              "(0.9666666666666667, 0.975)"
            ]
          },
          "metadata": {
            "tags": []
          },
          "execution_count": 19
        }
      ]
    },
    {
      "cell_type": "code",
      "metadata": {
        "id": "KUBrW2WaApag",
        "colab_type": "code",
        "colab": {
          "base_uri": "https://localhost:8080/",
          "height": 34
        },
        "outputId": "f49ed393-8670-44b9-f4ee-027613d84252"
      },
      "source": [
        "pip_ss_svm.score(X_test, y_test),pip_ss_svm.score(X_train, y_train)"
      ],
      "execution_count": 20,
      "outputs": [
        {
          "output_type": "execute_result",
          "data": {
            "text/plain": [
              "(0.9666666666666667, 0.975)"
            ]
          },
          "metadata": {
            "tags": []
          },
          "execution_count": 20
        }
      ]
    },
    {
      "cell_type": "code",
      "metadata": {
        "id": "X9H_VnpJApaq",
        "colab_type": "code",
        "colab": {
          "base_uri": "https://localhost:8080/",
          "height": 34
        },
        "outputId": "0d67e285-5ce0-4a04-ab72-3c9825b385ce"
      },
      "source": [
        "pip_minmax_svm.score(X_test, y_test),pip_minmax_svm.score(X_train, y_train)"
      ],
      "execution_count": 21,
      "outputs": [
        {
          "output_type": "execute_result",
          "data": {
            "text/plain": [
              "(0.9666666666666667, 0.975)"
            ]
          },
          "metadata": {
            "tags": []
          },
          "execution_count": 21
        }
      ]
    },
    {
      "cell_type": "code",
      "metadata": {
        "id": "Fm60uPU0Apaz",
        "colab_type": "code",
        "colab": {
          "base_uri": "https://localhost:8080/",
          "height": 34
        },
        "outputId": "9d83d736-99e4-4c1f-956a-6baf60af9d5e"
      },
      "source": [
        "pip_svm.score(X_test, y_test),pip_svm.score(X_train, y_train)"
      ],
      "execution_count": 22,
      "outputs": [
        {
          "output_type": "execute_result",
          "data": {
            "text/plain": [
              "(0.9666666666666667, 0.975)"
            ]
          },
          "metadata": {
            "tags": []
          },
          "execution_count": 22
        }
      ]
    },
    {
      "cell_type": "code",
      "metadata": {
        "id": "alo1Ji2jApa8",
        "colab_type": "code",
        "colab": {
          "base_uri": "https://localhost:8080/",
          "height": 34
        },
        "outputId": "3d6ed1cf-2034-4fa0-92d6-ce3a74ef9aaa"
      },
      "source": [
        "pip_ss_random.score(X_test, y_test),pip_ss_random.score(X_train, y_train)"
      ],
      "execution_count": 23,
      "outputs": [
        {
          "output_type": "execute_result",
          "data": {
            "text/plain": [
              "(0.9333333333333333, 1.0)"
            ]
          },
          "metadata": {
            "tags": []
          },
          "execution_count": 23
        }
      ]
    },
    {
      "cell_type": "code",
      "metadata": {
        "id": "Zb1tZ9F7ApbD",
        "colab_type": "code",
        "colab": {
          "base_uri": "https://localhost:8080/",
          "height": 34
        },
        "outputId": "032ef705-f940-45aa-aa01-1ded3d80be7a"
      },
      "source": [
        "pip_minmax_random.score(X_test, y_test),pip_minmax_random.score(X_train, y_train)"
      ],
      "execution_count": 24,
      "outputs": [
        {
          "output_type": "execute_result",
          "data": {
            "text/plain": [
              "(0.9666666666666667, 1.0)"
            ]
          },
          "metadata": {
            "tags": []
          },
          "execution_count": 24
        }
      ]
    },
    {
      "cell_type": "code",
      "metadata": {
        "id": "fYIln0MhApbN",
        "colab_type": "code",
        "colab": {
          "base_uri": "https://localhost:8080/",
          "height": 34
        },
        "outputId": "256a01ca-a1a6-4f7a-bcaf-aa228c79757e"
      },
      "source": [
        "pip_random.score(X_test, y_test),pip_random.score(X_train, y_train)"
      ],
      "execution_count": 25,
      "outputs": [
        {
          "output_type": "execute_result",
          "data": {
            "text/plain": [
              "(0.9666666666666667, 1.0)"
            ]
          },
          "metadata": {
            "tags": []
          },
          "execution_count": 25
        }
      ]
    },
    {
      "cell_type": "code",
      "metadata": {
        "id": "bKFHVIUcApbT",
        "colab_type": "code",
        "colab": {
          "base_uri": "https://localhost:8080/",
          "height": 34
        },
        "outputId": "f95e0ac0-a3d3-46eb-e763-2358cc442cb7"
      },
      "source": [
        "pip_ss_tree.score(X_test, y_test),pip_ss_tree.score(X_train, y_train)"
      ],
      "execution_count": 26,
      "outputs": [
        {
          "output_type": "execute_result",
          "data": {
            "text/plain": [
              "(0.9666666666666667, 1.0)"
            ]
          },
          "metadata": {
            "tags": []
          },
          "execution_count": 26
        }
      ]
    },
    {
      "cell_type": "code",
      "metadata": {
        "id": "tHb6dcW9Apba",
        "colab_type": "code",
        "colab": {
          "base_uri": "https://localhost:8080/",
          "height": 34
        },
        "outputId": "f63fa7de-047d-4720-8c83-6c8398477fdc"
      },
      "source": [
        "pip_minmax_tree.score(X_test, y_test),pip_minmax_tree.score(X_train, y_train)"
      ],
      "execution_count": 27,
      "outputs": [
        {
          "output_type": "execute_result",
          "data": {
            "text/plain": [
              "(0.9666666666666667, 1.0)"
            ]
          },
          "metadata": {
            "tags": []
          },
          "execution_count": 27
        }
      ]
    },
    {
      "cell_type": "code",
      "metadata": {
        "id": "6eJWqdbAApbk",
        "colab_type": "code",
        "colab": {
          "base_uri": "https://localhost:8080/",
          "height": 34
        },
        "outputId": "2c906282-71ef-45a4-90b7-7a7aa0b250f8"
      },
      "source": [
        "pip_tree.score(X_test, y_test),pip_tree.score(X_train, y_train)"
      ],
      "execution_count": 28,
      "outputs": [
        {
          "output_type": "execute_result",
          "data": {
            "text/plain": [
              "(0.9666666666666667, 1.0)"
            ]
          },
          "metadata": {
            "tags": []
          },
          "execution_count": 28
        }
      ]
    },
    {
      "cell_type": "code",
      "metadata": {
        "id": "kO9oQ-z2Apbt",
        "colab_type": "code",
        "colab": {
          "base_uri": "https://localhost:8080/",
          "height": 34
        },
        "outputId": "0c157176-572e-411e-c459-ce20d85ef517"
      },
      "source": [
        "pip_ss_kmeans.score(X_test, y_test),pip_ss_kmeans.score(X_train, y_train)"
      ],
      "execution_count": 29,
      "outputs": [
        {
          "output_type": "execute_result",
          "data": {
            "text/plain": [
              "(-15.314114929960763, -48.03806210033841)"
            ]
          },
          "metadata": {
            "tags": []
          },
          "execution_count": 29
        }
      ]
    },
    {
      "cell_type": "code",
      "metadata": {
        "id": "qvcOFEPCApb0",
        "colab_type": "code",
        "colab": {
          "base_uri": "https://localhost:8080/",
          "height": 34
        },
        "outputId": "e10887be-6a36-4e88-c441-09fb43a1b6b6"
      },
      "source": [
        "pip_minmax_kmeans.score(X_test, y_test),pip_minmax_kmeans.score(X_train, y_train)"
      ],
      "execution_count": 30,
      "outputs": [
        {
          "output_type": "execute_result",
          "data": {
            "text/plain": [
              "(-0.75441541246347, -2.4653407158350746)"
            ]
          },
          "metadata": {
            "tags": []
          },
          "execution_count": 30
        }
      ]
    },
    {
      "cell_type": "code",
      "metadata": {
        "id": "SisXSFeAApb7",
        "colab_type": "code",
        "colab": {
          "base_uri": "https://localhost:8080/",
          "height": 34
        },
        "outputId": "8cb73412-7ad2-4811-a2dc-cc29953942f2"
      },
      "source": [
        "pip_kmeans.score(X_test, y_test),pip_kmeans.score(X_train, y_train)"
      ],
      "execution_count": 31,
      "outputs": [
        {
          "output_type": "execute_result",
          "data": {
            "text/plain": [
              "(-7.231889174644799, -23.404577989090328)"
            ]
          },
          "metadata": {
            "tags": []
          },
          "execution_count": 31
        }
      ]
    },
    {
      "cell_type": "code",
      "metadata": {
        "id": "cOd2nbwbApcA",
        "colab_type": "code",
        "colab": {
          "base_uri": "https://localhost:8080/",
          "height": 34
        },
        "outputId": "ad85d95e-9e83-4f6a-e034-33093098017b"
      },
      "source": [
        "pip_minmax_nb.score(X_test, y_test),pip_minmax_nb.score(X_train, y_train)"
      ],
      "execution_count": 32,
      "outputs": [
        {
          "output_type": "execute_result",
          "data": {
            "text/plain": [
              "(0.8333333333333334, 0.7833333333333333)"
            ]
          },
          "metadata": {
            "tags": []
          },
          "execution_count": 32
        }
      ]
    },
    {
      "cell_type": "code",
      "metadata": {
        "id": "_ov89NdXApcH",
        "colab_type": "code",
        "colab": {
          "base_uri": "https://localhost:8080/",
          "height": 34
        },
        "outputId": "09e59f94-f7f5-462f-be02-d60f415ab90c"
      },
      "source": [
        "pip_nb.score(X_test, y_test),pip_nb.score(X_train, y_train)"
      ],
      "execution_count": 33,
      "outputs": [
        {
          "output_type": "execute_result",
          "data": {
            "text/plain": [
              "(0.9666666666666667, 0.95)"
            ]
          },
          "metadata": {
            "tags": []
          },
          "execution_count": 33
        }
      ]
    },
    {
      "cell_type": "markdown",
      "metadata": {
        "id": "EE554KKUApcN",
        "colab_type": "text"
      },
      "source": [
        "O algoritmo **K Nearest Neighbors (KNN)** foi escolhido por sua simplicidade, rápida execução e por se tratar de uma base de dados pequena com poucos dados e atributos.\n",
        "\n",
        "\n",
        "Pensando na estratégia de resolver o problema proposto da melhor maneira e da forma mais simples possível, o algoritmo escolhido neste cenário apresentou bons resultados, sem a necessidade de tuning e ajustes.\n",
        "\n",
        "\n",
        "Contudo, é dever do Cientista de Dados extrar do algoritmo o seu melhor para retornar o melhor resultado possível, por isso vamos fazer o *tuning* logo abaixo.\n"
      ]
    },
    {
      "cell_type": "markdown",
      "metadata": {
        "id": "mH0ZqIjpApcO",
        "colab_type": "text"
      },
      "source": [
        "**Instanciando o algoritmo KNN.**"
      ]
    },
    {
      "cell_type": "code",
      "metadata": {
        "id": "_mBuaxH2ApcP",
        "colab_type": "code",
        "colab": {}
      },
      "source": [
        "clf_knn = KNeighborsClassifier()"
      ],
      "execution_count": 34,
      "outputs": []
    },
    {
      "cell_type": "markdown",
      "metadata": {
        "id": "4i0ma2DHApcS",
        "colab_type": "text"
      },
      "source": [
        "**Treinando o modelo utilizando a validação utilizando Cross Validation e armazenando os resultados.**"
      ]
    },
    {
      "cell_type": "code",
      "metadata": {
        "id": "Bs2u6_f5ApcU",
        "colab_type": "code",
        "colab": {}
      },
      "source": [
        "resultados_knn = cross_val_predict(clf_knn, X, y, cv=5)"
      ],
      "execution_count": 35,
      "outputs": []
    },
    {
      "cell_type": "markdown",
      "metadata": {
        "id": "-3UtYlqVApcZ",
        "colab_type": "text"
      },
      "source": [
        "**Verificando os resultados através de métricas.**\n",
        "\n",
        "Se tivesse sido alterado o nome poderia ser retornado com:\n",
        "\n",
        "`nomes_classes = label.inverse_transform([0,1,2])`"
      ]
    },
    {
      "cell_type": "code",
      "metadata": {
        "id": "O1lyGolaApca",
        "colab_type": "code",
        "colab": {}
      },
      "source": [
        "nome_classes = iris['class'].map({0: 'Setosa', 1:'Versicolor',2: 'Virginica'})"
      ],
      "execution_count": 36,
      "outputs": []
    },
    {
      "cell_type": "code",
      "metadata": {
        "id": "IzAUcrCJApce",
        "colab_type": "code",
        "colab": {
          "base_uri": "https://localhost:8080/",
          "height": 191
        },
        "outputId": "afdf2667-d2ce-49b0-ebd8-80fa330fbaab"
      },
      "source": [
        "print(classification_report(y,resultados_knn,target_names=nome_classes.unique()))"
      ],
      "execution_count": 37,
      "outputs": [
        {
          "output_type": "stream",
          "text": [
            "              precision    recall  f1-score   support\n",
            "\n",
            "      Setosa       1.00      1.00      1.00        50\n",
            "  Versicolor       0.98      0.94      0.96        50\n",
            "   Virginica       0.94      0.98      0.96        50\n",
            "\n",
            "    accuracy                           0.97       150\n",
            "   macro avg       0.97      0.97      0.97       150\n",
            "weighted avg       0.97      0.97      0.97       150\n",
            "\n"
          ],
          "name": "stdout"
        }
      ]
    },
    {
      "cell_type": "markdown",
      "metadata": {
        "id": "NthcyTGdApcj",
        "colab_type": "text"
      },
      "source": [
        "**Tuning**"
      ]
    },
    {
      "cell_type": "code",
      "metadata": {
        "id": "oBmzyukxApck",
        "colab_type": "code",
        "colab": {}
      },
      "source": [
        "# n_neighbors - número de vizinhos\n",
        "lista_k=[1,2,3,4,5,6,7,8,9,10]\n",
        "# p - parâmetro para minkowski (l1,l2,l_p)\n",
        "lista_p=[1,2,3]"
      ],
      "execution_count": 38,
      "outputs": []
    },
    {
      "cell_type": "code",
      "metadata": {
        "id": "d74Uv7enApco",
        "colab_type": "code",
        "colab": {}
      },
      "source": [
        "parametros_grid_knn = dict(n_neighbors=lista_k,p=lista_p)"
      ],
      "execution_count": 39,
      "outputs": []
    },
    {
      "cell_type": "code",
      "metadata": {
        "id": "8AEs9mtzApcs",
        "colab_type": "code",
        "colab": {
          "base_uri": "https://localhost:8080/",
          "height": 34
        },
        "outputId": "cc04e90f-6f2b-4d6f-9e2e-273c58347f79"
      },
      "source": [
        "parametros_grid_knn"
      ],
      "execution_count": 40,
      "outputs": [
        {
          "output_type": "execute_result",
          "data": {
            "text/plain": [
              "{'n_neighbors': [1, 2, 3, 4, 5, 6, 7, 8, 9, 10], 'p': [1, 2, 3]}"
            ]
          },
          "metadata": {
            "tags": []
          },
          "execution_count": 40
        }
      ]
    },
    {
      "cell_type": "code",
      "metadata": {
        "id": "-eVQjjDOApcy",
        "colab_type": "code",
        "colab": {}
      },
      "source": [
        "grid_knn=GridSearchCV(clf_knn , parametros_grid_knn, cv=10, scoring='accuracy')"
      ],
      "execution_count": 41,
      "outputs": []
    },
    {
      "cell_type": "code",
      "metadata": {
        "scrolled": true,
        "id": "Hw9vhfO8Apc3",
        "colab_type": "code",
        "colab": {
          "base_uri": "https://localhost:8080/",
          "height": 208
        },
        "outputId": "ac2cc3c2-d005-4261-bf26-0db269b8b446"
      },
      "source": [
        "grid_knn.fit(X,y)"
      ],
      "execution_count": 42,
      "outputs": [
        {
          "output_type": "execute_result",
          "data": {
            "text/plain": [
              "GridSearchCV(cv=10, error_score=nan,\n",
              "             estimator=KNeighborsClassifier(algorithm='auto', leaf_size=30,\n",
              "                                            metric='minkowski',\n",
              "                                            metric_params=None, n_jobs=None,\n",
              "                                            n_neighbors=5, p=2,\n",
              "                                            weights='uniform'),\n",
              "             iid='deprecated', n_jobs=None,\n",
              "             param_grid={'n_neighbors': [1, 2, 3, 4, 5, 6, 7, 8, 9, 10],\n",
              "                         'p': [1, 2, 3]},\n",
              "             pre_dispatch='2*n_jobs', refit=True, return_train_score=False,\n",
              "             scoring='accuracy', verbose=0)"
            ]
          },
          "metadata": {
            "tags": []
          },
          "execution_count": 42
        }
      ]
    },
    {
      "cell_type": "code",
      "metadata": {
        "id": "1srUnz_SApc9",
        "colab_type": "code",
        "colab": {
          "base_uri": "https://localhost:8080/",
          "height": 1000
        },
        "outputId": "9f332173-79b9-471f-b917-6cf1dea033b3"
      },
      "source": [
        "grid_knn.cv_results_"
      ],
      "execution_count": 43,
      "outputs": [
        {
          "output_type": "execute_result",
          "data": {
            "text/plain": [
              "{'mean_fit_time': array([0.00239227, 0.00187676, 0.00196335, 0.00190806, 0.00211592,\n",
              "        0.00232654, 0.00195887, 0.00186372, 0.00187323, 0.00185416,\n",
              "        0.00188968, 0.00189164, 0.00194707, 0.00195055, 0.00196238,\n",
              "        0.00192721, 0.00192676, 0.00194542, 0.0018867 , 0.00202138,\n",
              "        0.00200717, 0.00196879, 0.002004  , 0.00192745, 0.00190313,\n",
              "        0.00198128, 0.00202806, 0.00231438, 0.00203869, 0.00197995]),\n",
              " 'mean_score_time': array([0.00249653, 0.00197053, 0.00214288, 0.00196452, 0.0021523 ,\n",
              "        0.00245848, 0.00197263, 0.00192082, 0.00216143, 0.00191205,\n",
              "        0.00192606, 0.0022059 , 0.0019485 , 0.00201807, 0.0023339 ,\n",
              "        0.00191922, 0.00200336, 0.00227797, 0.0019594 , 0.00201595,\n",
              "        0.00237982, 0.00198941, 0.00198185, 0.00227714, 0.00194061,\n",
              "        0.00206451, 0.00240326, 0.00239558, 0.00213189, 0.00231674]),\n",
              " 'mean_test_score': array([0.96      , 0.96      , 0.96      , 0.94      , 0.95333333,\n",
              "        0.96      , 0.96      , 0.96666667, 0.96666667, 0.95333333,\n",
              "        0.96666667, 0.96666667, 0.96666667, 0.96666667, 0.96666667,\n",
              "        0.94      , 0.96666667, 0.98      , 0.95333333, 0.96666667,\n",
              "        0.97333333, 0.95333333, 0.96666667, 0.98      , 0.97333333,\n",
              "        0.97333333, 0.98      , 0.96      , 0.96666667, 0.98      ]),\n",
              " 'param_n_neighbors': masked_array(data=[1, 1, 1, 2, 2, 2, 3, 3, 3, 4, 4, 4, 5, 5, 5, 6, 6, 6,\n",
              "                    7, 7, 7, 8, 8, 8, 9, 9, 9, 10, 10, 10],\n",
              "              mask=[False, False, False, False, False, False, False, False,\n",
              "                    False, False, False, False, False, False, False, False,\n",
              "                    False, False, False, False, False, False, False, False,\n",
              "                    False, False, False, False, False, False],\n",
              "        fill_value='?',\n",
              "             dtype=object),\n",
              " 'param_p': masked_array(data=[1, 2, 3, 1, 2, 3, 1, 2, 3, 1, 2, 3, 1, 2, 3, 1, 2, 3,\n",
              "                    1, 2, 3, 1, 2, 3, 1, 2, 3, 1, 2, 3],\n",
              "              mask=[False, False, False, False, False, False, False, False,\n",
              "                    False, False, False, False, False, False, False, False,\n",
              "                    False, False, False, False, False, False, False, False,\n",
              "                    False, False, False, False, False, False],\n",
              "        fill_value='?',\n",
              "             dtype=object),\n",
              " 'params': [{'n_neighbors': 1, 'p': 1},\n",
              "  {'n_neighbors': 1, 'p': 2},\n",
              "  {'n_neighbors': 1, 'p': 3},\n",
              "  {'n_neighbors': 2, 'p': 1},\n",
              "  {'n_neighbors': 2, 'p': 2},\n",
              "  {'n_neighbors': 2, 'p': 3},\n",
              "  {'n_neighbors': 3, 'p': 1},\n",
              "  {'n_neighbors': 3, 'p': 2},\n",
              "  {'n_neighbors': 3, 'p': 3},\n",
              "  {'n_neighbors': 4, 'p': 1},\n",
              "  {'n_neighbors': 4, 'p': 2},\n",
              "  {'n_neighbors': 4, 'p': 3},\n",
              "  {'n_neighbors': 5, 'p': 1},\n",
              "  {'n_neighbors': 5, 'p': 2},\n",
              "  {'n_neighbors': 5, 'p': 3},\n",
              "  {'n_neighbors': 6, 'p': 1},\n",
              "  {'n_neighbors': 6, 'p': 2},\n",
              "  {'n_neighbors': 6, 'p': 3},\n",
              "  {'n_neighbors': 7, 'p': 1},\n",
              "  {'n_neighbors': 7, 'p': 2},\n",
              "  {'n_neighbors': 7, 'p': 3},\n",
              "  {'n_neighbors': 8, 'p': 1},\n",
              "  {'n_neighbors': 8, 'p': 2},\n",
              "  {'n_neighbors': 8, 'p': 3},\n",
              "  {'n_neighbors': 9, 'p': 1},\n",
              "  {'n_neighbors': 9, 'p': 2},\n",
              "  {'n_neighbors': 9, 'p': 3},\n",
              "  {'n_neighbors': 10, 'p': 1},\n",
              "  {'n_neighbors': 10, 'p': 2},\n",
              "  {'n_neighbors': 10, 'p': 3}],\n",
              " 'rank_test_score': array([19, 19, 19, 29, 25, 19, 19, 15, 15, 25, 15, 15,  8,  8,  8, 29,  8,\n",
              "         1, 25,  8,  5, 25,  8,  1,  5,  5,  1, 19,  8,  1], dtype=int32),\n",
              " 'split0_test_score': array([1., 1., 1., 1., 1., 1., 1., 1., 1., 1., 1., 1., 1., 1., 1., 1., 1.,\n",
              "        1., 1., 1., 1., 1., 1., 1., 1., 1., 1., 1., 1., 1.]),\n",
              " 'split1_test_score': array([0.93333333, 0.93333333, 0.93333333, 0.93333333, 0.93333333,\n",
              "        0.93333333, 0.93333333, 0.93333333, 0.93333333, 0.93333333,\n",
              "        0.93333333, 0.93333333, 0.93333333, 0.93333333, 0.93333333,\n",
              "        0.93333333, 0.93333333, 0.93333333, 0.93333333, 0.93333333,\n",
              "        0.93333333, 0.93333333, 0.93333333, 0.93333333, 0.93333333,\n",
              "        0.93333333, 0.93333333, 0.93333333, 0.93333333, 0.93333333]),\n",
              " 'split2_test_score': array([1., 1., 1., 1., 1., 1., 1., 1., 1., 1., 1., 1., 1., 1., 1., 1., 1.,\n",
              "        1., 1., 1., 1., 1., 1., 1., 1., 1., 1., 1., 1., 1.]),\n",
              " 'split3_test_score': array([0.93333333, 0.93333333, 0.93333333, 0.93333333, 0.93333333,\n",
              "        0.93333333, 0.93333333, 0.93333333, 0.93333333, 0.93333333,\n",
              "        0.93333333, 0.93333333, 1.        , 1.        , 1.        ,\n",
              "        0.93333333, 1.        , 1.        , 1.        , 1.        ,\n",
              "        1.        , 0.93333333, 1.        , 1.        , 1.        ,\n",
              "        1.        , 1.        , 0.93333333, 1.        , 1.        ]),\n",
              " 'split4_test_score': array([0.86666667, 0.86666667, 0.86666667, 0.86666667, 0.86666667,\n",
              "        0.93333333, 0.86666667, 0.86666667, 0.86666667, 0.86666667,\n",
              "        0.86666667, 0.86666667, 0.86666667, 0.86666667, 0.86666667,\n",
              "        0.86666667, 0.86666667, 0.93333333, 0.86666667, 0.86666667,\n",
              "        0.93333333, 1.        , 1.        , 1.        , 1.        ,\n",
              "        1.        , 1.        , 1.        , 1.        , 1.        ]),\n",
              " 'split5_test_score': array([1.        , 1.        , 1.        , 1.        , 1.        ,\n",
              "        1.        , 1.        , 1.        , 1.        , 1.        ,\n",
              "        1.        , 1.        , 0.93333333, 0.93333333, 0.93333333,\n",
              "        0.86666667, 0.93333333, 1.        , 0.86666667, 0.93333333,\n",
              "        0.93333333, 0.86666667, 0.86666667, 1.        , 0.93333333,\n",
              "        0.93333333, 0.93333333, 0.86666667, 0.86666667, 0.93333333]),\n",
              " 'split6_test_score': array([0.86666667, 0.86666667, 0.86666667, 0.8       , 0.86666667,\n",
              "        0.86666667, 0.86666667, 0.93333333, 0.93333333, 0.8       ,\n",
              "        0.93333333, 0.93333333, 0.93333333, 0.93333333, 0.93333333,\n",
              "        0.86666667, 0.93333333, 0.93333333, 0.93333333, 0.93333333,\n",
              "        0.93333333, 0.86666667, 0.93333333, 0.93333333, 0.93333333,\n",
              "        0.93333333, 0.93333333, 0.93333333, 0.93333333, 0.93333333]),\n",
              " 'split7_test_score': array([1.        , 1.        , 1.        , 0.93333333, 0.93333333,\n",
              "        0.93333333, 1.        , 1.        , 1.        , 1.        ,\n",
              "        1.        , 1.        , 1.        , 1.        , 1.        ,\n",
              "        0.93333333, 1.        , 1.        , 0.93333333, 1.        ,\n",
              "        1.        , 0.93333333, 0.93333333, 0.93333333, 0.93333333,\n",
              "        0.93333333, 1.        , 0.93333333, 0.93333333, 1.        ]),\n",
              " 'split8_test_score': array([1., 1., 1., 1., 1., 1., 1., 1., 1., 1., 1., 1., 1., 1., 1., 1., 1.,\n",
              "        1., 1., 1., 1., 1., 1., 1., 1., 1., 1., 1., 1., 1.]),\n",
              " 'split9_test_score': array([1.        , 1.        , 1.        , 0.93333333, 1.        ,\n",
              "        1.        , 1.        , 1.        , 1.        , 1.        ,\n",
              "        1.        , 1.        , 1.        , 1.        , 1.        ,\n",
              "        1.        , 1.        , 1.        , 1.        , 1.        ,\n",
              "        1.        , 1.        , 1.        , 1.        , 1.        ,\n",
              "        1.        , 1.        , 1.        , 1.        , 1.        ]),\n",
              " 'std_fit_time': array([1.15029238e-03, 1.12528773e-04, 1.00041382e-04, 5.16315787e-05,\n",
              "        2.07396314e-04, 5.30624025e-04, 1.13543902e-04, 4.38219575e-05,\n",
              "        5.08932311e-05, 5.82959949e-05, 5.02136301e-05, 6.48367436e-05,\n",
              "        2.03495815e-04, 1.38203656e-04, 9.55776520e-05, 1.18825870e-04,\n",
              "        1.12182476e-04, 4.45006921e-05, 5.68652252e-05, 1.84209022e-04,\n",
              "        9.39408564e-05, 7.50259781e-05, 9.54919955e-05, 2.99949240e-05,\n",
              "        4.97622527e-05, 7.70044362e-05, 8.82629347e-05, 4.99480707e-04,\n",
              "        1.53022588e-04, 8.42014799e-05]),\n",
              " 'std_score_time': array([1.28906150e-03, 2.22663067e-04, 7.38447003e-05, 1.21683798e-04,\n",
              "        4.80084782e-04, 3.70758249e-04, 1.69666869e-04, 1.07188987e-04,\n",
              "        7.02040540e-05, 7.46287514e-05, 6.94637553e-05, 9.62428091e-05,\n",
              "        6.97244689e-05, 1.29371826e-04, 2.21598532e-04, 2.89554039e-05,\n",
              "        1.30674918e-04, 8.83885716e-05, 7.68439059e-05, 2.04143957e-04,\n",
              "        1.10317596e-04, 3.41526272e-05, 8.52817125e-05, 8.88249847e-05,\n",
              "        5.73098210e-05, 1.19334289e-04, 9.68246588e-05, 5.93986909e-04,\n",
              "        1.77576994e-04, 7.79183469e-05]),\n",
              " 'std_test_score': array([0.05333333, 0.05333333, 0.05333333, 0.06289321, 0.05206833,\n",
              "        0.04422166, 0.05333333, 0.04472136, 0.04472136, 0.06699917,\n",
              "        0.04472136, 0.04472136, 0.04472136, 0.04472136, 0.04472136,\n",
              "        0.05537749, 0.04472136, 0.0305505 , 0.05206833, 0.04472136,\n",
              "        0.03265986, 0.05206833, 0.04472136, 0.0305505 , 0.03265986,\n",
              "        0.03265986, 0.0305505 , 0.04422166, 0.04472136, 0.0305505 ])}"
            ]
          },
          "metadata": {
            "tags": []
          },
          "execution_count": 43
        }
      ]
    },
    {
      "cell_type": "code",
      "metadata": {
        "id": "B3MiTIVGApdD",
        "colab_type": "code",
        "colab": {
          "base_uri": "https://localhost:8080/",
          "height": 34
        },
        "outputId": "572d4294-1861-4df7-8695-956e9f959e4c"
      },
      "source": [
        "grid_knn.best_params_"
      ],
      "execution_count": 44,
      "outputs": [
        {
          "output_type": "execute_result",
          "data": {
            "text/plain": [
              "{'n_neighbors': 6, 'p': 3}"
            ]
          },
          "metadata": {
            "tags": []
          },
          "execution_count": 44
        }
      ]
    },
    {
      "cell_type": "code",
      "metadata": {
        "id": "wDmuc4wYApdJ",
        "colab_type": "code",
        "colab": {
          "base_uri": "https://localhost:8080/",
          "height": 34
        },
        "outputId": "f6d8f749-595c-4674-c912-f44bcaefc664"
      },
      "source": [
        "grid_knn.best_score_"
      ],
      "execution_count": 45,
      "outputs": [
        {
          "output_type": "execute_result",
          "data": {
            "text/plain": [
              "0.9800000000000001"
            ]
          },
          "metadata": {
            "tags": []
          },
          "execution_count": 45
        }
      ]
    },
    {
      "cell_type": "markdown",
      "metadata": {
        "id": "nxUuy3GrApdP",
        "colab_type": "text"
      },
      "source": [
        "**Standard Scaler**"
      ]
    },
    {
      "cell_type": "code",
      "metadata": {
        "id": "r2aNkWzhApdQ",
        "colab_type": "code",
        "colab": {}
      },
      "source": [
        "scaler = StandardScaler()"
      ],
      "execution_count": 46,
      "outputs": []
    },
    {
      "cell_type": "code",
      "metadata": {
        "id": "NBGUFVy-ApdZ",
        "colab_type": "code",
        "colab": {
          "base_uri": "https://localhost:8080/",
          "height": 34
        },
        "outputId": "97f33b38-9190-415a-f638-f4a866b2011c"
      },
      "source": [
        "scaler.fit(X)"
      ],
      "execution_count": 47,
      "outputs": [
        {
          "output_type": "execute_result",
          "data": {
            "text/plain": [
              "StandardScaler(copy=True, with_mean=True, with_std=True)"
            ]
          },
          "metadata": {
            "tags": []
          },
          "execution_count": 47
        }
      ]
    },
    {
      "cell_type": "code",
      "metadata": {
        "id": "C8KGsGJsApdw",
        "colab_type": "code",
        "colab": {
          "base_uri": "https://localhost:8080/",
          "height": 1000
        },
        "outputId": "17cf11fa-8647-4e51-a66b-7acd3cc4e1a5"
      },
      "source": [
        "scaled=scaler.transform(X)\n",
        "scaled"
      ],
      "execution_count": 48,
      "outputs": [
        {
          "output_type": "execute_result",
          "data": {
            "text/plain": [
              "array([[-9.00681170e-01,  1.01900435e+00, -1.34022653e+00,\n",
              "        -1.31544430e+00],\n",
              "       [-1.14301691e+00, -1.31979479e-01, -1.34022653e+00,\n",
              "        -1.31544430e+00],\n",
              "       [-1.38535265e+00,  3.28414053e-01, -1.39706395e+00,\n",
              "        -1.31544430e+00],\n",
              "       [-1.50652052e+00,  9.82172869e-02, -1.28338910e+00,\n",
              "        -1.31544430e+00],\n",
              "       [-1.02184904e+00,  1.24920112e+00, -1.34022653e+00,\n",
              "        -1.31544430e+00],\n",
              "       [-5.37177559e-01,  1.93979142e+00, -1.16971425e+00,\n",
              "        -1.05217993e+00],\n",
              "       [-1.50652052e+00,  7.88807586e-01, -1.34022653e+00,\n",
              "        -1.18381211e+00],\n",
              "       [-1.02184904e+00,  7.88807586e-01, -1.28338910e+00,\n",
              "        -1.31544430e+00],\n",
              "       [-1.74885626e+00, -3.62176246e-01, -1.34022653e+00,\n",
              "        -1.31544430e+00],\n",
              "       [-1.14301691e+00,  9.82172869e-02, -1.28338910e+00,\n",
              "        -1.44707648e+00],\n",
              "       [-5.37177559e-01,  1.47939788e+00, -1.28338910e+00,\n",
              "        -1.31544430e+00],\n",
              "       [-1.26418478e+00,  7.88807586e-01, -1.22655167e+00,\n",
              "        -1.31544430e+00],\n",
              "       [-1.26418478e+00, -1.31979479e-01, -1.34022653e+00,\n",
              "        -1.44707648e+00],\n",
              "       [-1.87002413e+00, -1.31979479e-01, -1.51073881e+00,\n",
              "        -1.44707648e+00],\n",
              "       [-5.25060772e-02,  2.16998818e+00, -1.45390138e+00,\n",
              "        -1.31544430e+00],\n",
              "       [-1.73673948e-01,  3.09077525e+00, -1.28338910e+00,\n",
              "        -1.05217993e+00],\n",
              "       [-5.37177559e-01,  1.93979142e+00, -1.39706395e+00,\n",
              "        -1.05217993e+00],\n",
              "       [-9.00681170e-01,  1.01900435e+00, -1.34022653e+00,\n",
              "        -1.18381211e+00],\n",
              "       [-1.73673948e-01,  1.70959465e+00, -1.16971425e+00,\n",
              "        -1.18381211e+00],\n",
              "       [-9.00681170e-01,  1.70959465e+00, -1.28338910e+00,\n",
              "        -1.18381211e+00],\n",
              "       [-5.37177559e-01,  7.88807586e-01, -1.16971425e+00,\n",
              "        -1.31544430e+00],\n",
              "       [-9.00681170e-01,  1.47939788e+00, -1.28338910e+00,\n",
              "        -1.05217993e+00],\n",
              "       [-1.50652052e+00,  1.24920112e+00, -1.56757623e+00,\n",
              "        -1.31544430e+00],\n",
              "       [-9.00681170e-01,  5.58610819e-01, -1.16971425e+00,\n",
              "        -9.20547742e-01],\n",
              "       [-1.26418478e+00,  7.88807586e-01, -1.05603939e+00,\n",
              "        -1.31544430e+00],\n",
              "       [-1.02184904e+00, -1.31979479e-01, -1.22655167e+00,\n",
              "        -1.31544430e+00],\n",
              "       [-1.02184904e+00,  7.88807586e-01, -1.22655167e+00,\n",
              "        -1.05217993e+00],\n",
              "       [-7.79513300e-01,  1.01900435e+00, -1.28338910e+00,\n",
              "        -1.31544430e+00],\n",
              "       [-7.79513300e-01,  7.88807586e-01, -1.34022653e+00,\n",
              "        -1.31544430e+00],\n",
              "       [-1.38535265e+00,  3.28414053e-01, -1.22655167e+00,\n",
              "        -1.31544430e+00],\n",
              "       [-1.26418478e+00,  9.82172869e-02, -1.22655167e+00,\n",
              "        -1.31544430e+00],\n",
              "       [-5.37177559e-01,  7.88807586e-01, -1.28338910e+00,\n",
              "        -1.05217993e+00],\n",
              "       [-7.79513300e-01,  2.40018495e+00, -1.28338910e+00,\n",
              "        -1.44707648e+00],\n",
              "       [-4.16009689e-01,  2.63038172e+00, -1.34022653e+00,\n",
              "        -1.31544430e+00],\n",
              "       [-1.14301691e+00,  9.82172869e-02, -1.28338910e+00,\n",
              "        -1.31544430e+00],\n",
              "       [-1.02184904e+00,  3.28414053e-01, -1.45390138e+00,\n",
              "        -1.31544430e+00],\n",
              "       [-4.16009689e-01,  1.01900435e+00, -1.39706395e+00,\n",
              "        -1.31544430e+00],\n",
              "       [-1.14301691e+00,  1.24920112e+00, -1.34022653e+00,\n",
              "        -1.44707648e+00],\n",
              "       [-1.74885626e+00, -1.31979479e-01, -1.39706395e+00,\n",
              "        -1.31544430e+00],\n",
              "       [-9.00681170e-01,  7.88807586e-01, -1.28338910e+00,\n",
              "        -1.31544430e+00],\n",
              "       [-1.02184904e+00,  1.01900435e+00, -1.39706395e+00,\n",
              "        -1.18381211e+00],\n",
              "       [-1.62768839e+00, -1.74335684e+00, -1.39706395e+00,\n",
              "        -1.18381211e+00],\n",
              "       [-1.74885626e+00,  3.28414053e-01, -1.39706395e+00,\n",
              "        -1.31544430e+00],\n",
              "       [-1.02184904e+00,  1.01900435e+00, -1.22655167e+00,\n",
              "        -7.88915558e-01],\n",
              "       [-9.00681170e-01,  1.70959465e+00, -1.05603939e+00,\n",
              "        -1.05217993e+00],\n",
              "       [-1.26418478e+00, -1.31979479e-01, -1.34022653e+00,\n",
              "        -1.18381211e+00],\n",
              "       [-9.00681170e-01,  1.70959465e+00, -1.22655167e+00,\n",
              "        -1.31544430e+00],\n",
              "       [-1.50652052e+00,  3.28414053e-01, -1.34022653e+00,\n",
              "        -1.31544430e+00],\n",
              "       [-6.58345429e-01,  1.47939788e+00, -1.28338910e+00,\n",
              "        -1.31544430e+00],\n",
              "       [-1.02184904e+00,  5.58610819e-01, -1.34022653e+00,\n",
              "        -1.31544430e+00],\n",
              "       [ 1.40150837e+00,  3.28414053e-01,  5.35408562e-01,\n",
              "         2.64141916e-01],\n",
              "       [ 6.74501145e-01,  3.28414053e-01,  4.21733708e-01,\n",
              "         3.95774101e-01],\n",
              "       [ 1.28034050e+00,  9.82172869e-02,  6.49083415e-01,\n",
              "         3.95774101e-01],\n",
              "       [-4.16009689e-01, -1.74335684e+00,  1.37546573e-01,\n",
              "         1.32509732e-01],\n",
              "       [ 7.95669016e-01, -5.92373012e-01,  4.78571135e-01,\n",
              "         3.95774101e-01],\n",
              "       [-1.73673948e-01, -5.92373012e-01,  4.21733708e-01,\n",
              "         1.32509732e-01],\n",
              "       [ 5.53333275e-01,  5.58610819e-01,  5.35408562e-01,\n",
              "         5.27406285e-01],\n",
              "       [-1.14301691e+00, -1.51316008e+00, -2.60315415e-01,\n",
              "        -2.62386821e-01],\n",
              "       [ 9.16836886e-01, -3.62176246e-01,  4.78571135e-01,\n",
              "         1.32509732e-01],\n",
              "       [-7.79513300e-01, -8.22569778e-01,  8.07091462e-02,\n",
              "         2.64141916e-01],\n",
              "       [-1.02184904e+00, -2.43394714e+00, -1.46640561e-01,\n",
              "        -2.62386821e-01],\n",
              "       [ 6.86617933e-02, -1.31979479e-01,  2.51221427e-01,\n",
              "         3.95774101e-01],\n",
              "       [ 1.89829664e-01, -1.97355361e+00,  1.37546573e-01,\n",
              "        -2.62386821e-01],\n",
              "       [ 3.10997534e-01, -3.62176246e-01,  5.35408562e-01,\n",
              "         2.64141916e-01],\n",
              "       [-2.94841818e-01, -3.62176246e-01, -8.98031345e-02,\n",
              "         1.32509732e-01],\n",
              "       [ 1.03800476e+00,  9.82172869e-02,  3.64896281e-01,\n",
              "         2.64141916e-01],\n",
              "       [-2.94841818e-01, -1.31979479e-01,  4.21733708e-01,\n",
              "         3.95774101e-01],\n",
              "       [-5.25060772e-02, -8.22569778e-01,  1.94384000e-01,\n",
              "        -2.62386821e-01],\n",
              "       [ 4.32165405e-01, -1.97355361e+00,  4.21733708e-01,\n",
              "         3.95774101e-01],\n",
              "       [-2.94841818e-01, -1.28296331e+00,  8.07091462e-02,\n",
              "        -1.30754636e-01],\n",
              "       [ 6.86617933e-02,  3.28414053e-01,  5.92245988e-01,\n",
              "         7.90670654e-01],\n",
              "       [ 3.10997534e-01, -5.92373012e-01,  1.37546573e-01,\n",
              "         1.32509732e-01],\n",
              "       [ 5.53333275e-01, -1.28296331e+00,  6.49083415e-01,\n",
              "         3.95774101e-01],\n",
              "       [ 3.10997534e-01, -5.92373012e-01,  5.35408562e-01,\n",
              "         8.77547895e-04],\n",
              "       [ 6.74501145e-01, -3.62176246e-01,  3.08058854e-01,\n",
              "         1.32509732e-01],\n",
              "       [ 9.16836886e-01, -1.31979479e-01,  3.64896281e-01,\n",
              "         2.64141916e-01],\n",
              "       [ 1.15917263e+00, -5.92373012e-01,  5.92245988e-01,\n",
              "         2.64141916e-01],\n",
              "       [ 1.03800476e+00, -1.31979479e-01,  7.05920842e-01,\n",
              "         6.59038469e-01],\n",
              "       [ 1.89829664e-01, -3.62176246e-01,  4.21733708e-01,\n",
              "         3.95774101e-01],\n",
              "       [-1.73673948e-01, -1.05276654e+00, -1.46640561e-01,\n",
              "        -2.62386821e-01],\n",
              "       [-4.16009689e-01, -1.51316008e+00,  2.38717193e-02,\n",
              "        -1.30754636e-01],\n",
              "       [-4.16009689e-01, -1.51316008e+00, -3.29657076e-02,\n",
              "        -2.62386821e-01],\n",
              "       [-5.25060772e-02, -8.22569778e-01,  8.07091462e-02,\n",
              "         8.77547895e-04],\n",
              "       [ 1.89829664e-01, -8.22569778e-01,  7.62758269e-01,\n",
              "         5.27406285e-01],\n",
              "       [-5.37177559e-01, -1.31979479e-01,  4.21733708e-01,\n",
              "         3.95774101e-01],\n",
              "       [ 1.89829664e-01,  7.88807586e-01,  4.21733708e-01,\n",
              "         5.27406285e-01],\n",
              "       [ 1.03800476e+00,  9.82172869e-02,  5.35408562e-01,\n",
              "         3.95774101e-01],\n",
              "       [ 5.53333275e-01, -1.74335684e+00,  3.64896281e-01,\n",
              "         1.32509732e-01],\n",
              "       [-2.94841818e-01, -1.31979479e-01,  1.94384000e-01,\n",
              "         1.32509732e-01],\n",
              "       [-4.16009689e-01, -1.28296331e+00,  1.37546573e-01,\n",
              "         1.32509732e-01],\n",
              "       [-4.16009689e-01, -1.05276654e+00,  3.64896281e-01,\n",
              "         8.77547895e-04],\n",
              "       [ 3.10997534e-01, -1.31979479e-01,  4.78571135e-01,\n",
              "         2.64141916e-01],\n",
              "       [-5.25060772e-02, -1.05276654e+00,  1.37546573e-01,\n",
              "         8.77547895e-04],\n",
              "       [-1.02184904e+00, -1.74335684e+00, -2.60315415e-01,\n",
              "        -2.62386821e-01],\n",
              "       [-2.94841818e-01, -8.22569778e-01,  2.51221427e-01,\n",
              "         1.32509732e-01],\n",
              "       [-1.73673948e-01, -1.31979479e-01,  2.51221427e-01,\n",
              "         8.77547895e-04],\n",
              "       [-1.73673948e-01, -3.62176246e-01,  2.51221427e-01,\n",
              "         1.32509732e-01],\n",
              "       [ 4.32165405e-01, -3.62176246e-01,  3.08058854e-01,\n",
              "         1.32509732e-01],\n",
              "       [-9.00681170e-01, -1.28296331e+00, -4.30827696e-01,\n",
              "        -1.30754636e-01],\n",
              "       [-1.73673948e-01, -5.92373012e-01,  1.94384000e-01,\n",
              "         1.32509732e-01],\n",
              "       [ 5.53333275e-01,  5.58610819e-01,  1.27429511e+00,\n",
              "         1.71209594e+00],\n",
              "       [-5.25060772e-02, -8.22569778e-01,  7.62758269e-01,\n",
              "         9.22302838e-01],\n",
              "       [ 1.52267624e+00, -1.31979479e-01,  1.21745768e+00,\n",
              "         1.18556721e+00],\n",
              "       [ 5.53333275e-01, -3.62176246e-01,  1.04694540e+00,\n",
              "         7.90670654e-01],\n",
              "       [ 7.95669016e-01, -1.31979479e-01,  1.16062026e+00,\n",
              "         1.31719939e+00],\n",
              "       [ 2.12851559e+00, -1.31979479e-01,  1.61531967e+00,\n",
              "         1.18556721e+00],\n",
              "       [-1.14301691e+00, -1.28296331e+00,  4.21733708e-01,\n",
              "         6.59038469e-01],\n",
              "       [ 1.76501198e+00, -3.62176246e-01,  1.44480739e+00,\n",
              "         7.90670654e-01],\n",
              "       [ 1.03800476e+00, -1.28296331e+00,  1.16062026e+00,\n",
              "         7.90670654e-01],\n",
              "       [ 1.64384411e+00,  1.24920112e+00,  1.33113254e+00,\n",
              "         1.71209594e+00],\n",
              "       [ 7.95669016e-01,  3.28414053e-01,  7.62758269e-01,\n",
              "         1.05393502e+00],\n",
              "       [ 6.74501145e-01, -8.22569778e-01,  8.76433123e-01,\n",
              "         9.22302838e-01],\n",
              "       [ 1.15917263e+00, -1.31979479e-01,  9.90107977e-01,\n",
              "         1.18556721e+00],\n",
              "       [-1.73673948e-01, -1.28296331e+00,  7.05920842e-01,\n",
              "         1.05393502e+00],\n",
              "       [-5.25060772e-02, -5.92373012e-01,  7.62758269e-01,\n",
              "         1.58046376e+00],\n",
              "       [ 6.74501145e-01,  3.28414053e-01,  8.76433123e-01,\n",
              "         1.44883158e+00],\n",
              "       [ 7.95669016e-01, -1.31979479e-01,  9.90107977e-01,\n",
              "         7.90670654e-01],\n",
              "       [ 2.24968346e+00,  1.70959465e+00,  1.67215710e+00,\n",
              "         1.31719939e+00],\n",
              "       [ 2.24968346e+00, -1.05276654e+00,  1.78583195e+00,\n",
              "         1.44883158e+00],\n",
              "       [ 1.89829664e-01, -1.97355361e+00,  7.05920842e-01,\n",
              "         3.95774101e-01],\n",
              "       [ 1.28034050e+00,  3.28414053e-01,  1.10378283e+00,\n",
              "         1.44883158e+00],\n",
              "       [-2.94841818e-01, -5.92373012e-01,  6.49083415e-01,\n",
              "         1.05393502e+00],\n",
              "       [ 2.24968346e+00, -5.92373012e-01,  1.67215710e+00,\n",
              "         1.05393502e+00],\n",
              "       [ 5.53333275e-01, -8.22569778e-01,  6.49083415e-01,\n",
              "         7.90670654e-01],\n",
              "       [ 1.03800476e+00,  5.58610819e-01,  1.10378283e+00,\n",
              "         1.18556721e+00],\n",
              "       [ 1.64384411e+00,  3.28414053e-01,  1.27429511e+00,\n",
              "         7.90670654e-01],\n",
              "       [ 4.32165405e-01, -5.92373012e-01,  5.92245988e-01,\n",
              "         7.90670654e-01],\n",
              "       [ 3.10997534e-01, -1.31979479e-01,  6.49083415e-01,\n",
              "         7.90670654e-01],\n",
              "       [ 6.74501145e-01, -5.92373012e-01,  1.04694540e+00,\n",
              "         1.18556721e+00],\n",
              "       [ 1.64384411e+00, -1.31979479e-01,  1.16062026e+00,\n",
              "         5.27406285e-01],\n",
              "       [ 1.88617985e+00, -5.92373012e-01,  1.33113254e+00,\n",
              "         9.22302838e-01],\n",
              "       [ 2.49201920e+00,  1.70959465e+00,  1.50164482e+00,\n",
              "         1.05393502e+00],\n",
              "       [ 6.74501145e-01, -5.92373012e-01,  1.04694540e+00,\n",
              "         1.31719939e+00],\n",
              "       [ 5.53333275e-01, -5.92373012e-01,  7.62758269e-01,\n",
              "         3.95774101e-01],\n",
              "       [ 3.10997534e-01, -1.05276654e+00,  1.04694540e+00,\n",
              "         2.64141916e-01],\n",
              "       [ 2.24968346e+00, -1.31979479e-01,  1.33113254e+00,\n",
              "         1.44883158e+00],\n",
              "       [ 5.53333275e-01,  7.88807586e-01,  1.04694540e+00,\n",
              "         1.58046376e+00],\n",
              "       [ 6.74501145e-01,  9.82172869e-02,  9.90107977e-01,\n",
              "         7.90670654e-01],\n",
              "       [ 1.89829664e-01, -1.31979479e-01,  5.92245988e-01,\n",
              "         7.90670654e-01],\n",
              "       [ 1.28034050e+00,  9.82172869e-02,  9.33270550e-01,\n",
              "         1.18556721e+00],\n",
              "       [ 1.03800476e+00,  9.82172869e-02,  1.04694540e+00,\n",
              "         1.58046376e+00],\n",
              "       [ 1.28034050e+00,  9.82172869e-02,  7.62758269e-01,\n",
              "         1.44883158e+00],\n",
              "       [-5.25060772e-02, -8.22569778e-01,  7.62758269e-01,\n",
              "         9.22302838e-01],\n",
              "       [ 1.15917263e+00,  3.28414053e-01,  1.21745768e+00,\n",
              "         1.44883158e+00],\n",
              "       [ 1.03800476e+00,  5.58610819e-01,  1.10378283e+00,\n",
              "         1.71209594e+00],\n",
              "       [ 1.03800476e+00, -1.31979479e-01,  8.19595696e-01,\n",
              "         1.44883158e+00],\n",
              "       [ 5.53333275e-01, -1.28296331e+00,  7.05920842e-01,\n",
              "         9.22302838e-01],\n",
              "       [ 7.95669016e-01, -1.31979479e-01,  8.19595696e-01,\n",
              "         1.05393502e+00],\n",
              "       [ 4.32165405e-01,  7.88807586e-01,  9.33270550e-01,\n",
              "         1.44883158e+00],\n",
              "       [ 6.86617933e-02, -1.31979479e-01,  7.62758269e-01,\n",
              "         7.90670654e-01]])"
            ]
          },
          "metadata": {
            "tags": []
          },
          "execution_count": 48
        }
      ]
    },
    {
      "cell_type": "code",
      "metadata": {
        "id": "3KGg4sJ1Apdz",
        "colab_type": "code",
        "colab": {}
      },
      "source": [
        "clf_knn2 = KNeighborsClassifier()"
      ],
      "execution_count": 49,
      "outputs": []
    },
    {
      "cell_type": "code",
      "metadata": {
        "id": "BQd_7fUbApd3",
        "colab_type": "code",
        "colab": {}
      },
      "source": [
        "resultados_knn = cross_val_predict(clf_knn2, scaled, y, cv=5)"
      ],
      "execution_count": 50,
      "outputs": []
    },
    {
      "cell_type": "code",
      "metadata": {
        "id": "bFjkkmlHApd6",
        "colab_type": "code",
        "colab": {}
      },
      "source": [
        "nome_classes = iris['class'].map({0: 'Setosa', 1:'Versicolor',2: 'Virginica'})"
      ],
      "execution_count": 51,
      "outputs": []
    },
    {
      "cell_type": "code",
      "metadata": {
        "scrolled": false,
        "id": "05SJXiKZApd_",
        "colab_type": "code",
        "colab": {
          "base_uri": "https://localhost:8080/",
          "height": 191
        },
        "outputId": "0f6350cf-41df-4b2f-b3d7-78397967ad03"
      },
      "source": [
        "print(classification_report(y,resultados_knn,target_names=nome_classes.unique()))"
      ],
      "execution_count": 52,
      "outputs": [
        {
          "output_type": "stream",
          "text": [
            "              precision    recall  f1-score   support\n",
            "\n",
            "      Setosa       1.00      1.00      1.00        50\n",
            "  Versicolor       0.94      0.94      0.94        50\n",
            "   Virginica       0.94      0.94      0.94        50\n",
            "\n",
            "    accuracy                           0.96       150\n",
            "   macro avg       0.96      0.96      0.96       150\n",
            "weighted avg       0.96      0.96      0.96       150\n",
            "\n"
          ],
          "name": "stdout"
        }
      ]
    },
    {
      "cell_type": "markdown",
      "metadata": {
        "id": "Chk_foNRApeD",
        "colab_type": "text"
      },
      "source": [
        "**Tuning com dados escalados**"
      ]
    },
    {
      "cell_type": "code",
      "metadata": {
        "id": "WifzMXIWApeE",
        "colab_type": "code",
        "colab": {
          "base_uri": "https://localhost:8080/",
          "height": 34
        },
        "outputId": "68043c7c-8774-4381-cee0-691e8fcdff8f"
      },
      "source": [
        "parametros_grid_knn"
      ],
      "execution_count": 53,
      "outputs": [
        {
          "output_type": "execute_result",
          "data": {
            "text/plain": [
              "{'n_neighbors': [1, 2, 3, 4, 5, 6, 7, 8, 9, 10], 'p': [1, 2, 3]}"
            ]
          },
          "metadata": {
            "tags": []
          },
          "execution_count": 53
        }
      ]
    },
    {
      "cell_type": "code",
      "metadata": {
        "id": "T5cZ-cFmApeH",
        "colab_type": "code",
        "colab": {}
      },
      "source": [
        "grid_knn2=GridSearchCV(clf_knn2 , parametros_grid_knn, cv=10, scoring='accuracy')"
      ],
      "execution_count": 54,
      "outputs": []
    },
    {
      "cell_type": "code",
      "metadata": {
        "id": "zB32EJRUApeJ",
        "colab_type": "code",
        "colab": {
          "base_uri": "https://localhost:8080/",
          "height": 208
        },
        "outputId": "8971dad2-c58c-46e3-ba9a-2c7bd7ac33b3"
      },
      "source": [
        "grid_knn2.fit(scaled,y)"
      ],
      "execution_count": 55,
      "outputs": [
        {
          "output_type": "execute_result",
          "data": {
            "text/plain": [
              "GridSearchCV(cv=10, error_score=nan,\n",
              "             estimator=KNeighborsClassifier(algorithm='auto', leaf_size=30,\n",
              "                                            metric='minkowski',\n",
              "                                            metric_params=None, n_jobs=None,\n",
              "                                            n_neighbors=5, p=2,\n",
              "                                            weights='uniform'),\n",
              "             iid='deprecated', n_jobs=None,\n",
              "             param_grid={'n_neighbors': [1, 2, 3, 4, 5, 6, 7, 8, 9, 10],\n",
              "                         'p': [1, 2, 3]},\n",
              "             pre_dispatch='2*n_jobs', refit=True, return_train_score=False,\n",
              "             scoring='accuracy', verbose=0)"
            ]
          },
          "metadata": {
            "tags": []
          },
          "execution_count": 55
        }
      ]
    },
    {
      "cell_type": "code",
      "metadata": {
        "id": "uDn9NZMtApeL",
        "colab_type": "code",
        "colab": {
          "base_uri": "https://localhost:8080/",
          "height": 1000
        },
        "outputId": "9e54f1c2-6444-44ff-f296-f0ea33e7bc46"
      },
      "source": [
        "grid_knn2.cv_results_"
      ],
      "execution_count": 56,
      "outputs": [
        {
          "output_type": "execute_result",
          "data": {
            "text/plain": [
              "{'mean_fit_time': array([0.00151668, 0.00111289, 0.00108099, 0.00090568, 0.00099568,\n",
              "        0.0009203 , 0.00094521, 0.0016392 , 0.00091903, 0.00086122,\n",
              "        0.00087013, 0.00084026, 0.000841  , 0.00082977, 0.00098646,\n",
              "        0.000826  , 0.00085485, 0.00088015, 0.00085218, 0.00086703,\n",
              "        0.00087748, 0.00080581, 0.00083883, 0.00104716, 0.00098343,\n",
              "        0.00085611, 0.00081537, 0.00078642, 0.00087819, 0.00086546]),\n",
              " 'mean_score_time': array([0.00251629, 0.00172276, 0.00181701, 0.00142524, 0.00165606,\n",
              "        0.00166125, 0.00150163, 0.00232687, 0.0017431 , 0.00139482,\n",
              "        0.00142658, 0.00162964, 0.00143166, 0.00140681, 0.00172167,\n",
              "        0.001336  , 0.00137086, 0.00169933, 0.00141137, 0.00139544,\n",
              "        0.00173004, 0.00132258, 0.00157275, 0.00201814, 0.00141475,\n",
              "        0.00139768, 0.00167599, 0.00130544, 0.00742221, 0.0017899 ]),\n",
              " 'mean_test_score': array([0.93333333, 0.95333333, 0.94666667, 0.93333333, 0.95333333,\n",
              "        0.94666667, 0.95333333, 0.95333333, 0.94666667, 0.94      ,\n",
              "        0.94666667, 0.93333333, 0.94666667, 0.95333333, 0.94      ,\n",
              "        0.94666667, 0.96666667, 0.95333333, 0.95333333, 0.95333333,\n",
              "        0.96      , 0.95333333, 0.96666667, 0.96666667, 0.94      ,\n",
              "        0.95333333, 0.96      , 0.94      , 0.96      , 0.96      ]),\n",
              " 'param_n_neighbors': masked_array(data=[1, 1, 1, 2, 2, 2, 3, 3, 3, 4, 4, 4, 5, 5, 5, 6, 6, 6,\n",
              "                    7, 7, 7, 8, 8, 8, 9, 9, 9, 10, 10, 10],\n",
              "              mask=[False, False, False, False, False, False, False, False,\n",
              "                    False, False, False, False, False, False, False, False,\n",
              "                    False, False, False, False, False, False, False, False,\n",
              "                    False, False, False, False, False, False],\n",
              "        fill_value='?',\n",
              "             dtype=object),\n",
              " 'param_p': masked_array(data=[1, 2, 3, 1, 2, 3, 1, 2, 3, 1, 2, 3, 1, 2, 3, 1, 2, 3,\n",
              "                    1, 2, 3, 1, 2, 3, 1, 2, 3, 1, 2, 3],\n",
              "              mask=[False, False, False, False, False, False, False, False,\n",
              "                    False, False, False, False, False, False, False, False,\n",
              "                    False, False, False, False, False, False, False, False,\n",
              "                    False, False, False, False, False, False],\n",
              "        fill_value='?',\n",
              "             dtype=object),\n",
              " 'params': [{'n_neighbors': 1, 'p': 1},\n",
              "  {'n_neighbors': 1, 'p': 2},\n",
              "  {'n_neighbors': 1, 'p': 3},\n",
              "  {'n_neighbors': 2, 'p': 1},\n",
              "  {'n_neighbors': 2, 'p': 2},\n",
              "  {'n_neighbors': 2, 'p': 3},\n",
              "  {'n_neighbors': 3, 'p': 1},\n",
              "  {'n_neighbors': 3, 'p': 2},\n",
              "  {'n_neighbors': 3, 'p': 3},\n",
              "  {'n_neighbors': 4, 'p': 1},\n",
              "  {'n_neighbors': 4, 'p': 2},\n",
              "  {'n_neighbors': 4, 'p': 3},\n",
              "  {'n_neighbors': 5, 'p': 1},\n",
              "  {'n_neighbors': 5, 'p': 2},\n",
              "  {'n_neighbors': 5, 'p': 3},\n",
              "  {'n_neighbors': 6, 'p': 1},\n",
              "  {'n_neighbors': 6, 'p': 2},\n",
              "  {'n_neighbors': 6, 'p': 3},\n",
              "  {'n_neighbors': 7, 'p': 1},\n",
              "  {'n_neighbors': 7, 'p': 2},\n",
              "  {'n_neighbors': 7, 'p': 3},\n",
              "  {'n_neighbors': 8, 'p': 1},\n",
              "  {'n_neighbors': 8, 'p': 2},\n",
              "  {'n_neighbors': 8, 'p': 3},\n",
              "  {'n_neighbors': 9, 'p': 1},\n",
              "  {'n_neighbors': 9, 'p': 2},\n",
              "  {'n_neighbors': 9, 'p': 3},\n",
              "  {'n_neighbors': 10, 'p': 1},\n",
              "  {'n_neighbors': 10, 'p': 2},\n",
              "  {'n_neighbors': 10, 'p': 3}],\n",
              " 'rank_test_score': array([28,  8, 18, 28,  8, 18,  8,  8, 18, 24, 18, 28, 18,  8, 24, 18,  2,\n",
              "         8,  8,  8,  4,  8,  1,  2, 24,  8,  4, 24,  4,  4], dtype=int32),\n",
              " 'split0_test_score': array([0.93333333, 1.        , 1.        , 0.93333333, 1.        ,\n",
              "        1.        , 1.        , 1.        , 1.        , 1.        ,\n",
              "        1.        , 1.        , 1.        , 1.        , 1.        ,\n",
              "        1.        , 1.        , 1.        , 1.        , 1.        ,\n",
              "        1.        , 1.        , 1.        , 1.        , 1.        ,\n",
              "        1.        , 1.        , 1.        , 1.        , 1.        ]),\n",
              " 'split1_test_score': array([0.93333333, 0.93333333, 0.93333333, 0.93333333, 0.93333333,\n",
              "        0.93333333, 0.93333333, 0.93333333, 0.93333333, 0.93333333,\n",
              "        0.93333333, 0.93333333, 0.93333333, 0.93333333, 0.93333333,\n",
              "        0.93333333, 0.93333333, 0.93333333, 0.93333333, 0.93333333,\n",
              "        0.93333333, 0.93333333, 0.93333333, 0.93333333, 0.93333333,\n",
              "        0.93333333, 0.93333333, 0.93333333, 0.93333333, 0.93333333]),\n",
              " 'split2_test_score': array([1., 1., 1., 1., 1., 1., 1., 1., 1., 1., 1., 1., 1., 1., 1., 1., 1.,\n",
              "        1., 1., 1., 1., 1., 1., 1., 1., 1., 1., 1., 1., 1.]),\n",
              " 'split3_test_score': array([0.93333333, 0.93333333, 0.93333333, 0.93333333, 0.93333333,\n",
              "        0.93333333, 0.93333333, 0.93333333, 0.93333333, 0.93333333,\n",
              "        0.93333333, 0.93333333, 0.93333333, 0.93333333, 0.93333333,\n",
              "        0.93333333, 0.93333333, 0.93333333, 0.93333333, 0.93333333,\n",
              "        0.93333333, 0.93333333, 0.93333333, 0.93333333, 0.93333333,\n",
              "        0.93333333, 0.93333333, 0.93333333, 0.93333333, 0.93333333]),\n",
              " 'split4_test_score': array([0.86666667, 0.86666667, 0.86666667, 0.86666667, 0.86666667,\n",
              "        0.93333333, 0.86666667, 0.86666667, 0.86666667, 0.86666667,\n",
              "        0.93333333, 0.93333333, 0.86666667, 0.86666667, 0.86666667,\n",
              "        0.93333333, 1.        , 0.93333333, 0.93333333, 0.93333333,\n",
              "        0.93333333, 1.        , 1.        , 0.93333333, 0.86666667,\n",
              "        0.93333333, 0.93333333, 0.86666667, 0.93333333, 0.93333333]),\n",
              " 'split5_test_score': array([0.93333333, 1.        , 1.        , 1.        , 1.        ,\n",
              "        0.93333333, 0.93333333, 1.        , 1.        , 0.93333333,\n",
              "        1.        , 1.        , 0.93333333, 0.93333333, 0.93333333,\n",
              "        0.93333333, 1.        , 1.        , 0.93333333, 0.93333333,\n",
              "        1.        , 0.93333333, 1.        , 1.        , 0.93333333,\n",
              "        1.        , 0.93333333, 0.93333333, 1.        , 1.        ]),\n",
              " 'split6_test_score': array([0.8       , 0.8       , 0.8       , 0.8       , 0.8       ,\n",
              "        0.8       , 0.86666667, 0.8       , 0.8       , 0.8       ,\n",
              "        0.8       , 0.8       , 0.8       , 0.86666667, 0.86666667,\n",
              "        0.8       , 0.86666667, 0.86666667, 0.86666667, 0.86666667,\n",
              "        0.86666667, 0.8       , 0.93333333, 0.93333333, 0.8       ,\n",
              "        0.86666667, 0.93333333, 0.8       , 0.93333333, 0.93333333]),\n",
              " 'split7_test_score': array([1.        , 1.        , 1.        , 1.        , 1.        ,\n",
              "        1.        , 1.        , 1.        , 1.        , 1.        ,\n",
              "        0.93333333, 0.93333333, 1.        , 1.        , 0.93333333,\n",
              "        0.93333333, 0.93333333, 0.93333333, 0.93333333, 0.93333333,\n",
              "        0.93333333, 0.93333333, 0.93333333, 0.93333333, 0.93333333,\n",
              "        0.93333333, 0.93333333, 0.93333333, 0.93333333, 0.93333333]),\n",
              " 'split8_test_score': array([1.        , 1.        , 0.93333333, 0.93333333, 1.        ,\n",
              "        0.93333333, 1.        , 1.        , 0.93333333, 1.        ,\n",
              "        1.        , 0.93333333, 1.        , 1.        , 0.93333333,\n",
              "        1.        , 1.        , 1.        , 1.        , 1.        ,\n",
              "        1.        , 1.        , 1.        , 1.        , 1.        ,\n",
              "        1.        , 1.        , 1.        , 1.        , 1.        ]),\n",
              " 'split9_test_score': array([0.93333333, 1.        , 1.        , 0.93333333, 1.        ,\n",
              "        1.        , 1.        , 1.        , 1.        , 0.93333333,\n",
              "        0.93333333, 0.86666667, 1.        , 1.        , 1.        ,\n",
              "        1.        , 1.        , 0.93333333, 1.        , 1.        ,\n",
              "        1.        , 1.        , 0.93333333, 1.        , 1.        ,\n",
              "        0.93333333, 1.        , 1.        , 0.93333333, 0.93333333]),\n",
              " 'std_fit_time': array([7.96489285e-04, 2.43203424e-04, 2.48838078e-04, 4.11162569e-05,\n",
              "        1.70581947e-04, 6.12283792e-05, 7.56159286e-05, 5.75485826e-04,\n",
              "        4.61939366e-05, 3.57586222e-05, 5.60033215e-05, 2.28290116e-05,\n",
              "        4.28823768e-05, 3.15423455e-05, 2.20205528e-04, 4.02672323e-05,\n",
              "        1.51362650e-04, 4.48036914e-05, 2.10341540e-05, 1.07383908e-04,\n",
              "        5.28017441e-05, 3.57695891e-05, 3.69003956e-05, 2.12291374e-04,\n",
              "        3.64003239e-04, 1.20484814e-04, 2.03915356e-05, 2.18095668e-05,\n",
              "        1.29399417e-04, 3.56132241e-05]),\n",
              " 'std_score_time': array([1.59629588e-03, 4.07832842e-04, 1.70374038e-04, 6.20373618e-05,\n",
              "        4.62073217e-04, 6.33413868e-05, 1.13124129e-04, 8.00934385e-04,\n",
              "        1.40692032e-04, 4.13279265e-05, 1.25636785e-04, 4.75631381e-05,\n",
              "        1.63367598e-04, 1.18743904e-04, 6.32402573e-05, 3.21951960e-05,\n",
              "        1.20705645e-04, 2.97190935e-05, 4.48807444e-05, 9.63221948e-05,\n",
              "        8.09364920e-05, 3.72888563e-05, 4.81009057e-04, 3.30742019e-04,\n",
              "        5.94628985e-05, 1.66804053e-04, 6.36750994e-05, 3.26816480e-05,\n",
              "        1.82027973e-02, 1.58274823e-04]),\n",
              " 'std_test_score': array([0.05962848, 0.06699917, 0.06531973, 0.05962848, 0.06699917,\n",
              "        0.05811865, 0.05206833, 0.06699917, 0.06531973, 0.06289321,\n",
              "        0.05811865, 0.05962848, 0.06531973, 0.05206833, 0.04666667,\n",
              "        0.05811865, 0.04472136, 0.04268749, 0.04268749, 0.04268749,\n",
              "        0.04422166, 0.06      , 0.03333333, 0.03333333, 0.06289321,\n",
              "        0.04268749, 0.03265986, 0.06289321, 0.03265986, 0.03265986])}"
            ]
          },
          "metadata": {
            "tags": []
          },
          "execution_count": 56
        }
      ]
    },
    {
      "cell_type": "code",
      "metadata": {
        "id": "qjTZwdLaApeO",
        "colab_type": "code",
        "colab": {
          "base_uri": "https://localhost:8080/",
          "height": 34
        },
        "outputId": "45cb5a07-2f97-4444-9826-100f7aa23a20"
      },
      "source": [
        "grid_knn2.best_params_"
      ],
      "execution_count": 57,
      "outputs": [
        {
          "output_type": "execute_result",
          "data": {
            "text/plain": [
              "{'n_neighbors': 8, 'p': 2}"
            ]
          },
          "metadata": {
            "tags": []
          },
          "execution_count": 57
        }
      ]
    },
    {
      "cell_type": "code",
      "metadata": {
        "id": "fHQ8xg6sApeS",
        "colab_type": "code",
        "colab": {
          "base_uri": "https://localhost:8080/",
          "height": 34
        },
        "outputId": "26d27361-e2ae-43e4-fe8f-bfd2f8e3deaf"
      },
      "source": [
        "grid_knn2.best_score_"
      ],
      "execution_count": 58,
      "outputs": [
        {
          "output_type": "execute_result",
          "data": {
            "text/plain": [
              "0.9666666666666668"
            ]
          },
          "metadata": {
            "tags": []
          },
          "execution_count": 58
        }
      ]
    },
    {
      "cell_type": "markdown",
      "metadata": {
        "id": "bU1FjEWbApeU",
        "colab_type": "text"
      },
      "source": [
        "**Naive Bayes**"
      ]
    },
    {
      "cell_type": "code",
      "metadata": {
        "id": "UJIoj3xFApeV",
        "colab_type": "code",
        "colab": {}
      },
      "source": [
        "naive=MultinomialNB()"
      ],
      "execution_count": 59,
      "outputs": []
    },
    {
      "cell_type": "code",
      "metadata": {
        "id": "BClUuVyTApeX",
        "colab_type": "code",
        "colab": {}
      },
      "source": [
        "resultados_naive = cross_val_predict(naive,X, y, cv=5)"
      ],
      "execution_count": 60,
      "outputs": []
    },
    {
      "cell_type": "code",
      "metadata": {
        "id": "qmQsfs0kApea",
        "colab_type": "code",
        "colab": {}
      },
      "source": [
        "nome_classes = iris['class'].map({0: 'Setosa', 1:'Versicolor',2: 'Virginica'})"
      ],
      "execution_count": 61,
      "outputs": []
    },
    {
      "cell_type": "code",
      "metadata": {
        "scrolled": true,
        "id": "9e3mbKFQApec",
        "colab_type": "code",
        "colab": {
          "base_uri": "https://localhost:8080/",
          "height": 191
        },
        "outputId": "13b3cda4-064e-4774-d2a6-4c6f6007ed13"
      },
      "source": [
        "print(classification_report(y,resultados_naive,target_names=nome_classes.unique()))"
      ],
      "execution_count": 62,
      "outputs": [
        {
          "output_type": "stream",
          "text": [
            "              precision    recall  f1-score   support\n",
            "\n",
            "      Setosa       1.00      1.00      1.00        50\n",
            "  Versicolor       0.94      0.92      0.93        50\n",
            "   Virginica       0.92      0.94      0.93        50\n",
            "\n",
            "    accuracy                           0.95       150\n",
            "   macro avg       0.95      0.95      0.95       150\n",
            "weighted avg       0.95      0.95      0.95       150\n",
            "\n"
          ],
          "name": "stdout"
        }
      ]
    },
    {
      "cell_type": "code",
      "metadata": {
        "id": "sYSuOkw9Apee",
        "colab_type": "code",
        "colab": {}
      },
      "source": [
        "# alpha\n",
        "lista_alpha=list(range(1,11))"
      ],
      "execution_count": 63,
      "outputs": []
    },
    {
      "cell_type": "code",
      "metadata": {
        "id": "c29ygHweApei",
        "colab_type": "code",
        "colab": {}
      },
      "source": [
        "parametros_grid_naive = dict(alpha=lista_alpha)"
      ],
      "execution_count": 64,
      "outputs": []
    },
    {
      "cell_type": "code",
      "metadata": {
        "id": "JDNLcxEuApel",
        "colab_type": "code",
        "colab": {
          "base_uri": "https://localhost:8080/",
          "height": 34
        },
        "outputId": "f7900bd4-14aa-452d-c91f-59e9e1eb7150"
      },
      "source": [
        "parametros_grid_naive"
      ],
      "execution_count": 65,
      "outputs": [
        {
          "output_type": "execute_result",
          "data": {
            "text/plain": [
              "{'alpha': [1, 2, 3, 4, 5, 6, 7, 8, 9, 10]}"
            ]
          },
          "metadata": {
            "tags": []
          },
          "execution_count": 65
        }
      ]
    },
    {
      "cell_type": "code",
      "metadata": {
        "id": "VYXHzU0OApeo",
        "colab_type": "code",
        "colab": {}
      },
      "source": [
        "grid_naive=GridSearchCV(naive, parametros_grid_naive, cv=10, scoring='accuracy')"
      ],
      "execution_count": 66,
      "outputs": []
    },
    {
      "cell_type": "code",
      "metadata": {
        "id": "KGP-7eQlApew",
        "colab_type": "code",
        "colab": {
          "base_uri": "https://localhost:8080/",
          "height": 139
        },
        "outputId": "6e3634d0-ed96-4f75-a71f-dd40b56fa8c3"
      },
      "source": [
        "grid_naive.fit(X,y)"
      ],
      "execution_count": 67,
      "outputs": [
        {
          "output_type": "execute_result",
          "data": {
            "text/plain": [
              "GridSearchCV(cv=10, error_score=nan,\n",
              "             estimator=MultinomialNB(alpha=1.0, class_prior=None,\n",
              "                                     fit_prior=True),\n",
              "             iid='deprecated', n_jobs=None,\n",
              "             param_grid={'alpha': [1, 2, 3, 4, 5, 6, 7, 8, 9, 10]},\n",
              "             pre_dispatch='2*n_jobs', refit=True, return_train_score=False,\n",
              "             scoring='accuracy', verbose=0)"
            ]
          },
          "metadata": {
            "tags": []
          },
          "execution_count": 67
        }
      ]
    },
    {
      "cell_type": "code",
      "metadata": {
        "id": "NnDFg39lApe0",
        "colab_type": "code",
        "colab": {
          "base_uri": "https://localhost:8080/",
          "height": 764
        },
        "outputId": "5689d343-fff1-4050-e580-2e31aa6598f1"
      },
      "source": [
        "grid_naive.cv_results_"
      ],
      "execution_count": 68,
      "outputs": [
        {
          "output_type": "execute_result",
          "data": {
            "text/plain": [
              "{'mean_fit_time': array([0.00427458, 0.002321  , 0.00294306, 0.00347135, 0.00228207,\n",
              "        0.00215311, 0.00213084, 0.00216169, 0.00217805, 0.00213921]),\n",
              " 'mean_score_time': array([0.00165763, 0.00091784, 0.00132694, 0.00127592, 0.00093606,\n",
              "        0.00091147, 0.00091453, 0.00090554, 0.00090775, 0.00091612]),\n",
              " 'mean_test_score': array([0.95333333, 0.95333333, 0.95333333, 0.96      , 0.96      ,\n",
              "        0.96666667, 0.96      , 0.96666667, 0.96666667, 0.96666667]),\n",
              " 'param_alpha': masked_array(data=[1, 2, 3, 4, 5, 6, 7, 8, 9, 10],\n",
              "              mask=[False, False, False, False, False, False, False, False,\n",
              "                    False, False],\n",
              "        fill_value='?',\n",
              "             dtype=object),\n",
              " 'params': [{'alpha': 1},\n",
              "  {'alpha': 2},\n",
              "  {'alpha': 3},\n",
              "  {'alpha': 4},\n",
              "  {'alpha': 5},\n",
              "  {'alpha': 6},\n",
              "  {'alpha': 7},\n",
              "  {'alpha': 8},\n",
              "  {'alpha': 9},\n",
              "  {'alpha': 10}],\n",
              " 'rank_test_score': array([8, 8, 8, 5, 5, 1, 7, 1, 1, 1], dtype=int32),\n",
              " 'split0_test_score': array([1., 1., 1., 1., 1., 1., 1., 1., 1., 1.]),\n",
              " 'split1_test_score': array([1., 1., 1., 1., 1., 1., 1., 1., 1., 1.]),\n",
              " 'split2_test_score': array([1., 1., 1., 1., 1., 1., 1., 1., 1., 1.]),\n",
              " 'split3_test_score': array([0.93333333, 0.93333333, 0.93333333, 0.93333333, 0.93333333,\n",
              "        1.        , 1.        , 1.        , 1.        , 1.        ]),\n",
              " 'split4_test_score': array([0.86666667, 0.86666667, 0.86666667, 0.93333333, 0.93333333,\n",
              "        0.93333333, 0.93333333, 1.        , 1.        , 1.        ]),\n",
              " 'split5_test_score': array([0.93333333, 0.93333333, 0.93333333, 0.93333333, 0.93333333,\n",
              "        0.93333333, 0.86666667, 0.86666667, 0.86666667, 0.86666667]),\n",
              " 'split6_test_score': array([0.8, 0.8, 0.8, 0.8, 0.8, 0.8, 0.8, 0.8, 0.8, 0.8]),\n",
              " 'split7_test_score': array([1., 1., 1., 1., 1., 1., 1., 1., 1., 1.]),\n",
              " 'split8_test_score': array([1., 1., 1., 1., 1., 1., 1., 1., 1., 1.]),\n",
              " 'split9_test_score': array([1., 1., 1., 1., 1., 1., 1., 1., 1., 1.]),\n",
              " 'std_fit_time': array([6.49419093e-04, 2.30279618e-04, 1.15241141e-03, 1.67865488e-03,\n",
              "        2.81797892e-04, 1.22263260e-04, 1.11963111e-04, 1.30631661e-04,\n",
              "        1.88723997e-04, 5.97290886e-05]),\n",
              " 'std_score_time': array([2.47307150e-04, 2.65026783e-05, 6.36143038e-04, 4.25213573e-04,\n",
              "        3.21901196e-05, 2.69916789e-05, 8.19868629e-05, 3.05922626e-05,\n",
              "        3.75993280e-05, 5.19033742e-05]),\n",
              " 'std_test_score': array([0.06699917, 0.06699917, 0.06699917, 0.06110101, 0.06110101,\n",
              "        0.06146363, 0.06798693, 0.06831301, 0.06831301, 0.06831301])}"
            ]
          },
          "metadata": {
            "tags": []
          },
          "execution_count": 68
        }
      ]
    },
    {
      "cell_type": "code",
      "metadata": {
        "id": "AqD7c_69Ape3",
        "colab_type": "code",
        "colab": {
          "base_uri": "https://localhost:8080/",
          "height": 34
        },
        "outputId": "2c8cc82e-0020-4444-a1fc-295e5aa5e005"
      },
      "source": [
        "grid_naive.best_params_"
      ],
      "execution_count": 69,
      "outputs": [
        {
          "output_type": "execute_result",
          "data": {
            "text/plain": [
              "{'alpha': 6}"
            ]
          },
          "metadata": {
            "tags": []
          },
          "execution_count": 69
        }
      ]
    },
    {
      "cell_type": "code",
      "metadata": {
        "id": "hE6OZGDWApe6",
        "colab_type": "code",
        "colab": {
          "base_uri": "https://localhost:8080/",
          "height": 34
        },
        "outputId": "5253aa12-014e-4a1f-beb5-f661d0214d90"
      },
      "source": [
        "grid_naive.best_score_"
      ],
      "execution_count": 70,
      "outputs": [
        {
          "output_type": "execute_result",
          "data": {
            "text/plain": [
              "0.9666666666666668"
            ]
          },
          "metadata": {
            "tags": []
          },
          "execution_count": 70
        }
      ]
    },
    {
      "cell_type": "markdown",
      "metadata": {
        "id": "N6gac-3pApe9",
        "colab_type": "text"
      },
      "source": [
        "**KNN com {'n_neighbors': 6, 'p': 3}**"
      ]
    },
    {
      "cell_type": "code",
      "metadata": {
        "id": "y63s3pHjApe-",
        "colab_type": "code",
        "colab": {
          "base_uri": "https://localhost:8080/",
          "height": 287
        },
        "outputId": "280c9b4e-0e43-4c80-e630-245ca1bce8e9"
      },
      "source": [
        "display(X_train.head(3)),display(X_test.head(3))"
      ],
      "execution_count": 71,
      "outputs": [
        {
          "output_type": "display_data",
          "data": {
            "text/html": [
              "<div>\n",
              "<style scoped>\n",
              "    .dataframe tbody tr th:only-of-type {\n",
              "        vertical-align: middle;\n",
              "    }\n",
              "\n",
              "    .dataframe tbody tr th {\n",
              "        vertical-align: top;\n",
              "    }\n",
              "\n",
              "    .dataframe thead th {\n",
              "        text-align: right;\n",
              "    }\n",
              "</style>\n",
              "<table border=\"1\" class=\"dataframe\">\n",
              "  <thead>\n",
              "    <tr style=\"text-align: right;\">\n",
              "      <th></th>\n",
              "      <th>sepal length (cm)</th>\n",
              "      <th>sepal width (cm)</th>\n",
              "      <th>petal length (cm)</th>\n",
              "      <th>petal width (cm)</th>\n",
              "    </tr>\n",
              "  </thead>\n",
              "  <tbody>\n",
              "    <tr>\n",
              "      <th>17</th>\n",
              "      <td>5.1</td>\n",
              "      <td>3.5</td>\n",
              "      <td>1.4</td>\n",
              "      <td>0.3</td>\n",
              "    </tr>\n",
              "    <tr>\n",
              "      <th>81</th>\n",
              "      <td>5.5</td>\n",
              "      <td>2.4</td>\n",
              "      <td>3.7</td>\n",
              "      <td>1.0</td>\n",
              "    </tr>\n",
              "    <tr>\n",
              "      <th>103</th>\n",
              "      <td>6.3</td>\n",
              "      <td>2.9</td>\n",
              "      <td>5.6</td>\n",
              "      <td>1.8</td>\n",
              "    </tr>\n",
              "  </tbody>\n",
              "</table>\n",
              "</div>"
            ],
            "text/plain": [
              "     sepal length (cm)  sepal width (cm)  petal length (cm)  petal width (cm)\n",
              "17                 5.1               3.5                1.4               0.3\n",
              "81                 5.5               2.4                3.7               1.0\n",
              "103                6.3               2.9                5.6               1.8"
            ]
          },
          "metadata": {
            "tags": []
          }
        },
        {
          "output_type": "display_data",
          "data": {
            "text/html": [
              "<div>\n",
              "<style scoped>\n",
              "    .dataframe tbody tr th:only-of-type {\n",
              "        vertical-align: middle;\n",
              "    }\n",
              "\n",
              "    .dataframe tbody tr th {\n",
              "        vertical-align: top;\n",
              "    }\n",
              "\n",
              "    .dataframe thead th {\n",
              "        text-align: right;\n",
              "    }\n",
              "</style>\n",
              "<table border=\"1\" class=\"dataframe\">\n",
              "  <thead>\n",
              "    <tr style=\"text-align: right;\">\n",
              "      <th></th>\n",
              "      <th>sepal length (cm)</th>\n",
              "      <th>sepal width (cm)</th>\n",
              "      <th>petal length (cm)</th>\n",
              "      <th>petal width (cm)</th>\n",
              "    </tr>\n",
              "  </thead>\n",
              "  <tbody>\n",
              "    <tr>\n",
              "      <th>40</th>\n",
              "      <td>5.0</td>\n",
              "      <td>3.5</td>\n",
              "      <td>1.3</td>\n",
              "      <td>0.3</td>\n",
              "    </tr>\n",
              "    <tr>\n",
              "      <th>146</th>\n",
              "      <td>6.3</td>\n",
              "      <td>2.5</td>\n",
              "      <td>5.0</td>\n",
              "      <td>1.9</td>\n",
              "    </tr>\n",
              "    <tr>\n",
              "      <th>38</th>\n",
              "      <td>4.4</td>\n",
              "      <td>3.0</td>\n",
              "      <td>1.3</td>\n",
              "      <td>0.2</td>\n",
              "    </tr>\n",
              "  </tbody>\n",
              "</table>\n",
              "</div>"
            ],
            "text/plain": [
              "     sepal length (cm)  sepal width (cm)  petal length (cm)  petal width (cm)\n",
              "40                 5.0               3.5                1.3               0.3\n",
              "146                6.3               2.5                5.0               1.9\n",
              "38                 4.4               3.0                1.3               0.2"
            ]
          },
          "metadata": {
            "tags": []
          }
        },
        {
          "output_type": "execute_result",
          "data": {
            "text/plain": [
              "(None, None)"
            ]
          },
          "metadata": {
            "tags": []
          },
          "execution_count": 71
        }
      ]
    },
    {
      "cell_type": "code",
      "metadata": {
        "id": "g79D5Sb2ApfC",
        "colab_type": "code",
        "colab": {
          "base_uri": "https://localhost:8080/",
          "height": 173
        },
        "outputId": "00ed317f-33bc-40e4-de80-727766553ef5"
      },
      "source": [
        "display(y_train.head(3)),display(y_test.head(3))"
      ],
      "execution_count": 72,
      "outputs": [
        {
          "output_type": "display_data",
          "data": {
            "text/plain": [
              "17     0\n",
              "81     1\n",
              "103    2\n",
              "Name: class, dtype: int64"
            ]
          },
          "metadata": {
            "tags": []
          }
        },
        {
          "output_type": "display_data",
          "data": {
            "text/plain": [
              "40     0\n",
              "146    2\n",
              "38     0\n",
              "Name: class, dtype: int64"
            ]
          },
          "metadata": {
            "tags": []
          }
        },
        {
          "output_type": "execute_result",
          "data": {
            "text/plain": [
              "(None, None)"
            ]
          },
          "metadata": {
            "tags": []
          },
          "execution_count": 72
        }
      ]
    },
    {
      "cell_type": "code",
      "metadata": {
        "id": "vR9ODtv9ApfE",
        "colab_type": "code",
        "colab": {}
      },
      "source": [
        "knn_final=KNeighborsClassifier(n_neighbors=6, p=3)"
      ],
      "execution_count": 73,
      "outputs": []
    },
    {
      "cell_type": "code",
      "metadata": {
        "id": "FgELtDBkApfH",
        "colab_type": "code",
        "colab": {
          "base_uri": "https://localhost:8080/",
          "height": 69
        },
        "outputId": "fc16aeb3-2f20-4e14-faba-0b34e07082c6"
      },
      "source": [
        "knn_final.fit(X_train,y_train)"
      ],
      "execution_count": 74,
      "outputs": [
        {
          "output_type": "execute_result",
          "data": {
            "text/plain": [
              "KNeighborsClassifier(algorithm='auto', leaf_size=30, metric='minkowski',\n",
              "                     metric_params=None, n_jobs=None, n_neighbors=6, p=3,\n",
              "                     weights='uniform')"
            ]
          },
          "metadata": {
            "tags": []
          },
          "execution_count": 74
        }
      ]
    },
    {
      "cell_type": "code",
      "metadata": {
        "id": "pLp1bH3xApfK",
        "colab_type": "code",
        "colab": {}
      },
      "source": [
        "y_pred=knn_final.predict(X_test)"
      ],
      "execution_count": 75,
      "outputs": []
    },
    {
      "cell_type": "code",
      "metadata": {
        "id": "xFfnD4wcApfO",
        "colab_type": "code",
        "colab": {
          "base_uri": "https://localhost:8080/",
          "height": 34
        },
        "outputId": "aaade052-3751-4600-86cc-94cae06e5e91"
      },
      "source": [
        "# acuracia\n",
        "accuracy_score(y_test,y_pred)"
      ],
      "execution_count": 76,
      "outputs": [
        {
          "output_type": "execute_result",
          "data": {
            "text/plain": [
              "1.0"
            ]
          },
          "metadata": {
            "tags": []
          },
          "execution_count": 76
        }
      ]
    },
    {
      "cell_type": "code",
      "metadata": {
        "id": "rzoMTWMXApfR",
        "colab_type": "code",
        "colab": {
          "base_uri": "https://localhost:8080/",
          "height": 191
        },
        "outputId": "6022ac86-69e8-43ad-a115-a13cb5caf7a1"
      },
      "source": [
        "# relatorio\n",
        "print (classification_report(y_test, y_pred))"
      ],
      "execution_count": 77,
      "outputs": [
        {
          "output_type": "stream",
          "text": [
            "              precision    recall  f1-score   support\n",
            "\n",
            "           0       1.00      1.00      1.00        12\n",
            "           1       1.00      1.00      1.00         9\n",
            "           2       1.00      1.00      1.00         9\n",
            "\n",
            "    accuracy                           1.00        30\n",
            "   macro avg       1.00      1.00      1.00        30\n",
            "weighted avg       1.00      1.00      1.00        30\n",
            "\n"
          ],
          "name": "stdout"
        }
      ]
    },
    {
      "cell_type": "code",
      "metadata": {
        "id": "6o_pBF0WApfV",
        "colab_type": "code",
        "colab": {}
      },
      "source": [
        "y_pred2=knn_final.predict(X_train)"
      ],
      "execution_count": 78,
      "outputs": []
    },
    {
      "cell_type": "code",
      "metadata": {
        "id": "o-2xdIDTApfZ",
        "colab_type": "code",
        "colab": {
          "base_uri": "https://localhost:8080/",
          "height": 34
        },
        "outputId": "4ab0ebae-b61b-4a9b-b958-bce94416d9f1"
      },
      "source": [
        "# acuracia\n",
        "accuracy_score(y_train,y_pred2)"
      ],
      "execution_count": 79,
      "outputs": [
        {
          "output_type": "execute_result",
          "data": {
            "text/plain": [
              "0.9833333333333333"
            ]
          },
          "metadata": {
            "tags": []
          },
          "execution_count": 79
        }
      ]
    },
    {
      "cell_type": "code",
      "metadata": {
        "id": "c4YN6cKvApfd",
        "colab_type": "code",
        "colab": {
          "base_uri": "https://localhost:8080/",
          "height": 191
        },
        "outputId": "1fec6159-4c05-415a-c34f-97436f912dcb"
      },
      "source": [
        "# relatorio\n",
        "print (classification_report(y_train, y_pred2))"
      ],
      "execution_count": 80,
      "outputs": [
        {
          "output_type": "stream",
          "text": [
            "              precision    recall  f1-score   support\n",
            "\n",
            "           0       1.00      1.00      1.00        38\n",
            "           1       0.98      0.98      0.98        41\n",
            "           2       0.98      0.98      0.98        41\n",
            "\n",
            "    accuracy                           0.98       120\n",
            "   macro avg       0.98      0.98      0.98       120\n",
            "weighted avg       0.98      0.98      0.98       120\n",
            "\n"
          ],
          "name": "stdout"
        }
      ]
    }
  ]
}