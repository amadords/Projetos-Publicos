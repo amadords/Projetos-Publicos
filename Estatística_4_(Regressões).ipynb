{
  "nbformat": 4,
  "nbformat_minor": 0,
  "metadata": {
    "colab": {
      "name": "Estatística 4 (Regressões)",
      "provenance": [],
      "collapsed_sections": [],
      "authorship_tag": "ABX9TyP/q9SzjixlTNsuZtxDyzUo",
      "include_colab_link": true
    },
    "kernelspec": {
      "name": "python3",
      "display_name": "Python 3"
    }
  },
  "cells": [
    {
      "cell_type": "markdown",
      "metadata": {
        "id": "view-in-github",
        "colab_type": "text"
      },
      "source": [
        "<a href=\"https://colab.research.google.com/github/amadords/Projetos-Publicos/blob/master/Estat%C3%ADstica_4_(Regress%C3%B5es).ipynb\" target=\"_parent\"><img src=\"https://colab.research.google.com/assets/colab-badge.svg\" alt=\"Open In Colab\"/></a>"
      ]
    },
    {
      "cell_type": "markdown",
      "metadata": {
        "id": "y_1gWLiJ7ItH"
      },
      "source": [
        "# **Regressões**\n",
        "---\n",
        "\n",
        "[![LinkedIn](https://img.shields.io/badge/LinkedIn-DanielSousaAmador-cyan.svg)](https://www.linkedin.com/in/daniel-sousa-amador)\n",
        "[![GitHub](https://img.shields.io/badge/GitHub-amadords-darkblue.svg)](https://github.com/amadords)\n",
        "[![Medium](https://img.shields.io/badge/Medium-DanielSousaAmador-white.svg)](https://daniel-s-amador.medium.com/)\n",
        "\n",
        "\n",
        "![img](https://i.stack.imgur.com/hmP4t.png)\n",
        "\n",
        "Sem dúvida, a previsão é o ponto mais forte da relação Estatística - Ciência de Dados, como preconiza Peter e Andrew Bruce. Especialmente quando se quer prever uma variável alvo baseada em atributos previsores.\n",
        "\n",
        "Nesse ponto chegamos às **Regressões**, que são uma forma básica, mas poderosa de fazer algumas previsões."
      ]
    },
    {
      "cell_type": "markdown",
      "metadata": {
        "id": "3LWUhhopXuYn"
      },
      "source": [
        "# Regressão Linear\n",
        "\n",
        "- Previsão com variáveis numéricas.\n",
        "- Simples:\n",
        "  - Quando uma variável explica outra variável. \n",
        "    - Y ~ X\n",
        "  - Quando duas ou mais variáveis independentes explicam uma variável dependente (variável que quero prever ou explicar).\n",
        "\n",
        "## Cálculos\n",
        "\n",
        "- Para se calcular um necessita do outro, nessa ordem:\n",
        "  - Correlação $\\rhd$  Inclinação $\\rhd$  Interceptação $\\rhd$ Previsão\n",
        "\n",
        "- Na correlação usa-se o cálculo da **variância**.\n",
        "\n",
        "<br/>\n",
        "\n",
        "\n",
        "### Correlação de Pearson (+ comum)\n",
        "\n",
        "$\n",
        "p = \\frac{\\sum_{i=1}^n(x_i - \\bar x)(y_i - \\bar y)}{\\sqrt{\\sum_{i=1}^n(x_i - \\bar x)^2}* \\sqrt{\\sum_{i=1}^n(y_i - \\bar y)^2}}\n",
        "$\n",
        "\n",
        "<br/>\n",
        "\n",
        "$\n",
        "p = \\frac{cov(X,Y)}{\\sqrt{var(x)*var(y)}}\n",
        "$\n",
        "\n",
        "     * cov: Covariância (variância conjunto)\n",
        "     * var: Variância\n",
        "\n",
        "- Exemplo: \n",
        "\n",
        "|Idade|Custo|\n",
        "|-||\n",
        "|18|871|\n",
        "|23|1132|\n",
        "|28|1242|\n",
        "|33|1356|\n",
        "|38|1488|\n",
        "|43|1638|\n",
        "|48|2130|\n",
        "|53|2454|\n",
        "|58|3066|\n",
        "|63|4090|\n",
        "\n",
        "<br/>\n",
        "\n",
        "$\n",
        "p = \\frac {11869.71}{\\sqrt(255.5371)*(564932.6942)}\n",
        "$\n",
        "\n",
        "<br/>\n",
        "\n",
        "$\n",
        "p = \\frac {11869.71}{12015.04529}\n",
        "$\n",
        "\n",
        "<br/>\n",
        "\n",
        "$\n",
        "p = 0.9879\n",
        "$\n",
        "\n",
        "### Inclinação\n",
        "\n",
        "$\n",
        "m = r(\\frac {S_y}{S_x})\n",
        "$\n",
        "\n",
        "<br/>\n",
        "\n",
        "    * r: Correlaçao\n",
        "    * s: desvio padrão\n",
        "\n",
        "<br/>\n",
        "\n",
        "$\n",
        "m = 0.9879(\\frac {751.6200}{15.9855})\n",
        "$\n",
        "\n",
        "<br/>\n",
        "\n",
        "$\n",
        "m = 46.45\n",
        "$\n",
        "\n",
        "<br/>\n",
        "\n",
        "### Interceptação\n",
        "\n",
        "$\n",
        "b = \\bar y - m \\bar x\n",
        "$\n",
        "\n",
        "<br/>\n",
        "\n",
        "    * y barra: Média de y\n",
        "    * x barra: Média de x\n",
        "    * m: Inclinação\n",
        "\n",
        "<br/>\n",
        "\n",
        "$\n",
        "b = 2104.182 - 46.45 * 42.09\n",
        "$\n",
        "\n",
        "<br/>\n",
        "\n",
        "\n",
        "$\n",
        "b = 149.0577\n",
        "$\n",
        "\n",
        "<br/>\n",
        "\n",
        "### Previsão\n",
        "\n",
        "$\n",
        "p = b + (m * v)\n",
        "$\n",
        "\n",
        "    * b: Interceptação\n",
        "    * m: Inclinação\n",
        "    * v: Variável independente\n",
        "Exemplo com 54 anos:\n",
        "\n",
        "<br/>\n",
        "\n",
        "$\n",
        "p = 149.0577 + (46.45 * 54)\n",
        "$\n",
        "\n",
        "<br/>\n",
        "\n",
        "$\n",
        "p = 2657.355\n",
        "$\n",
        "\n",
        "<br/>\n",
        "\n",
        "\n",
        "### Fórmulas das Medidas de Dispersão\n",
        "\n",
        "- Variância Amostral\n",
        "\n",
        "$$\n",
        "\\sigma^2 = \\frac {\\sum_{i=1}^n(x_i - \\bar x)^2}{n-1}\n",
        "$$\n",
        "  \n",
        "\n",
        "- Variância Populacional\n",
        "\n",
        "$$\n",
        "\\sigma^2 = \\frac {\\sum_{i=1}^n(x_i - \\bar x)^2}{n}\n",
        "$$\n",
        "\n",
        "<br/>\n",
        "\n",
        "- Desvio Padrão Amostral\n",
        "\n",
        "$$\n",
        "\\sqrt s^2 = s\n",
        "$$\n",
        "\n",
        "<br/>\n",
        "\n",
        "- Desvio Padrão Populacional\n",
        "\n",
        "\n",
        "$$\n",
        "\\sqrt \\sigma^2 = \\sigma\n",
        "$$\n",
        "\n",
        "\n",
        "<br/>\n",
        "\n",
        "- Coeficiente de Variação Amostral\n",
        "\n",
        "$$\n",
        "CV_x = \\frac {S}{\\bar x}\n",
        "$$\n",
        "\n",
        "\n",
        "\n",
        "<br/>\n",
        "\n",
        "- Covariância\n",
        "\n",
        "$$\n",
        "Cov (x, y) = \\frac {\\sum(X_i-\\bar X)*(Y_i - \\bar Y)}{n}\n",
        "$$\n",
        "\n",
        "<br/>\n",
        "$$\n",
        "Cov (x, y) = \\bar {XY} - \\bar X* \\bar Y\n",
        "$$\n",
        "\n",
        "<br/>\n",
        "<br/>\n",
        "\n",
        "\n",
        "### Importante saber\n",
        "\n",
        "- Variância \n",
        "  - É uma medida de dispersão absoluta.\n",
        "  - Ao somar ou subtrair uma constante a todas as observações do conjunto, permanecerá inalterada.\n",
        "  - Ao multiplicar ou dividir as observações por uma constante, a variância será a constante ao quadrado.\n",
        "- Desvio Padrão\n",
        "  - É uma medida de dispersão absoluta.\n",
        "  - Ao somar ou subtrair uma constante a todas as observações do conjunto, permanecerá inalterada.\n",
        "  -  Ao multiplicar ou dividir as observações por uma constante, ficará multiplicada ou dividida pela mesma constante.\n",
        "- Coeficiente de Variação\n",
        "  - Considerada uma medida de dispersão relativa. \n",
        "  - É a melhor de todas as medidas de dispersão por considerar o desvio padrão e a média da distribuição.\n",
        "  - É adimensional\n",
        "  - Ao se somar ou subtrair uma constante a todo o conjunto, o denominador ficará somado ou subtraido pelo valor da constante.\n",
        "  - Ao efetuar uma multiplicação ou divisão por uma constante em todas as observações, a mesma ficará inalterada.\n",
        "\n",
        "\n",
        "<br/>\n",
        "<br/>\n",
        "\n",
        "\n",
        "## Correlação não é causa\n",
        "\n",
        "- O site [Spurious Correlations](https://www.tylervigen.com/spurious-correlations) traz correlações espúrias, ou seja, correlações que parecem ter alguma causalidade, mas que na verdade são frutos do acaso.\n",
        "\n",
        "- O exemplo mais famoso disso e que foi bastante divulgado nas grandes mídias foi a relação entre Nicholas Cage fazer filmes e mortes serem evitadas ou a outra que envolve o ator que mostra que quando ele faz filmes mais pessoas se afogam.\n",
        "\n",
        "- É fácil de visualizar que, embora haja uma correlação, não há sentido por exemplo tirar o ator dos filmes para que menos pessoas se afoguem, ou no outro caso, para salvar mais vidas.\n",
        "\n",
        "- Com isso posto, fica evidente que correlações devem ser investigadas e não tomadas como motivo de causa por si só.\n"
      ]
    },
    {
      "cell_type": "markdown",
      "metadata": {
        "id": "s44w7BaCXzyF"
      },
      "source": [
        "## Regressão Linear Simples\n",
        "\n",
        "- Exemplo: \n",
        "\n",
        "|Idade|Custo|\n",
        "|-||\n",
        "|18|871|\n",
        "|23|1132|\n",
        "|28|1242|\n",
        "|33|1356|\n",
        "|38|1488|\n",
        "|43|1638|\n",
        "|48|2130|\n",
        "|53|2454|\n",
        "|58|3066|\n",
        "|63|4090|\n",
        "\n",
        "- Perguntas:\n",
        "  - Existe uma relação matmática entre as duas variáveis?\n",
        "  - Se existe, como podemos medir?\n",
        "  - Poderiamos usar essa relação para fazer previsões?\n",
        "\n",
        "- o gráfico de dispersão é o gráfico padrão para usar em regressão linear.\n",
        "  - Ajuda facilmente a visualizar se relação.\n",
        "  - Tradicionalmente coloca-se a variável explanatória no eixo X e no Y a variável dependente.\n",
        "\n",
        "- Se há linearidade, dá para gerar uma linha de regressão (linha de melhor ajuste) que irá possibilitar fazer previsões de valores desconhecidos.\n",
        "  - Por usar a linha de melhor ajuste (espécie de média), conseguimos precisar de uma forma melhor até os valores até mesmo de dados que já temos, uma vez que o modelo retorna uma espécie de média, é mais provável ele acertar do que se pegassemos alguém exatamente igual. \n",
        "  - Exemplo: Nos dados uma pessoa de 23 anos custa 1132. No modelo não será esse valor.\n",
        "\n",
        "## Correlação (R)\n",
        "\n",
        "- É o modo pelo qual conseguimos medir a força da relação entre duas variáveis.\n",
        "- Mostra a força e a direção entre as variáveis.\n",
        "- Pode ser um valor entre -1 e 1.\n",
        "- A correlação A ~ B = B ~ A.\n",
        "- Valores de correlação (força e direção:\n",
        "  -  1 = Perfeita positiva \n",
        "  - Entre 0.7 e 1 = Forte\n",
        "  - Entre 0.5 e 0.7 = Moderada\n",
        "  - Entre 0.25 e 0.5 = Fraca\n",
        "  - Entre 0 e 0.25 = Inexistente\n",
        "\n",
        "  <br />\n",
        "\n",
        "  -  -1 = Perfeita positiva \n",
        "  - Entre -0.7 e -1 = Forte\n",
        "  - Entre -0.5 e -0.7 = Moderada\n",
        "  - Entre -0.25 e -0.5 = Fraca\n",
        "  - Entre 0 e -0.25 = Inexistente\n",
        "\n",
        "- Em um gráfico, quando os dados estão em linearidade têm alguma relação, quanto mais esparsos, menos relação.\n",
        "\n",
        "- Ao trabalhar com Regressão Linear é importantes observar o **Coeficiente de Determinação ($R^2$)**:\n",
        "  - Mostra o quanto o modelo consegue explicar os valores.\n",
        "  - Quanto maior, mais explicativo ele é.\n",
        "  - O restante da variabilidade está em variáveis não incluidas no modelo.\n",
        "  - Varia entre zero até 1 (sempre positivo)\n",
        "  - Calcula-se com o quadrado do Coeficiente de Correlação (R).\n",
        "\n",
        "Exemplo:\n",
        "\n",
        "Duas variáveis tiveram o como resultado a correlação 0.7344.\n",
        "- A correlação indica que é positiva forte.\n",
        "- $R^2$ = 0.53\n",
        "  - 53% da variável dependente consegue ser explicada pela variável pela variável (ou pelas variáveis) presentes no modelo.\n",
        "\n",
        "## Previsão\n",
        "\n",
        "O mais importante é o processo de modelagem dos modelos.\n",
        "\n",
        "- Como a linha de melhor ajuste é construída:\n",
        "  - **Ponto de encontro da linha no Eixo Y** (intersecção), ou seja, onde X=0.\n",
        "  - **Inclinação:** A cada unidade que aumenta a variável independente (X), a variável resposta (y) sobre o valor de inclinação.\n",
        "\n",
        "- Exemplo matemático (básico):\n",
        "  - Intersecção: - 558.94\n",
        "  - Inclinação: 61.86\n",
        "  - Previsão:\n",
        "    - 33 anos: 1356\n",
        "    - 34 anos: 1356 + 61.86 = 1417.86\n",
        "\n",
        "- Como as previsões são realmente feitas:\n",
        "  - **Previsão = Intersecção + (Inclinação * Valor a prever)**\n",
        "  - Quanto vai custar um cliente com 56 anos de idade?\n",
        "  - X = -558.94 + (61.86 * 56) = **2905.22**\n",
        "\n",
        "- Como é um bom modelo?\n",
        "  - Aquele que generaliza melhor os dados.\n",
        "\n",
        "## Resíduos\n",
        "\n",
        "- Por o modelo fazer um ajuste nos dados, não utilizar seus valores para criar a linha, apenas para calcular e criá-la. Desse modo é possível que alguns números dos dados reais estejam dentro da linha de modelo, mas também pode acontecer de não estarem, que é o comum.\n",
        "\n",
        "- A diferença entre a linha e os dados reais são chamados de resíduos e podem ser calculados através da medição dessas diferenças (dos pontos do eixo y até a linha de regressão).\n",
        "  - Se todos os pontos dos dados reais estiverem sobre a linha o valor da soma residual será igual a zero e a correlação será 1, se positiva e -1, se negativa.\n",
        "\n",
        "- Se a variável estiver acima da linha de regressão o resíduo terá valor positivo e se estiver abaixo, negativo.\n",
        "\n",
        "- Os valores ajustados são os valores em cima da linha de regressão criados pós cálculo.\n",
        "\n",
        "## Outliers e Extrapolação\n",
        "\n",
        "### 1. Outlier\n",
        "\n",
        "|Idade|Custo|\n",
        "|-||\n",
        "|18|871|\n",
        "|23|1132|\n",
        "|**24**|**5435**|\n",
        "|28|1242|\n",
        "|33|1356|\n",
        "|38|1488|\n",
        "|43|1638|\n",
        "|48|2130|\n",
        "|53|2454|\n",
        "|58|3066|\n",
        "|63|4090|\n",
        "\n",
        "- O paciente de 24 anos foge da linearidade da regressão e faz com que a correlação que era forte passe para 0.34, ou seja, fraca.\n",
        "- Avaliar o caso para saber se o caso deve fazer parte do modelo.\n",
        "\n",
        "### 2. Extrapolação\n",
        "\n",
        "|Idade|Custo|\n",
        "|-||\n",
        "|18|871|\n",
        "|23|1132|\n",
        "|28|1242|\n",
        "|33|1356|\n",
        "|38|1488|\n",
        "|43|1638|\n",
        "|48|2130|\n",
        "|53|2454|\n",
        "|58|3066|\n",
        "|63|4090|\n",
        "\n",
        "- Como posso prever o valor de uma paciente de 15 anos? e de um de 70 anos?\n",
        "- Um cliente de 15 realmente tem um custo menor que um de 18? E ode 70 anos tem um custo maior do que um de 63?\n",
        "- O modelo irá prever essa extrapolação, mas nem sempre fará sentido. Exemplo: Custo para alguém com uma idade de 200 anos.\n",
        "\n",
        "## Condições para uso de Regressão Linear e Fazer Previsões\n",
        "\n",
        "- Correlação:\n",
        "  - Moderada ou Forte.\n",
        "- Coeficiente de Determinação ($R^2$):\n",
        "  - \\> 0.7: Ótimo\n",
        "  - Entre 0 e 0.3: Ruim\n",
        "  - Entre 0.3 e 0.7 fica à critério.\n",
        "- Residuais padronizados\n",
        "  - Aqueles que estão próximos a uma distribuição normal. Podem ser avaliados com:\n",
        "    - Histograma\n",
        "    - Diagrama de Normalidade\n",
        "    - Teste de Shapiro-Wilk\n",
        "\n",
        "\n",
        "\n",
        "\n",
        "\n",
        "\n"
      ]
    },
    {
      "cell_type": "markdown",
      "metadata": {
        "id": "MTSkKNWW-LLl"
      },
      "source": [
        "**Importando as bibliotecas** \n",
        "\n",
        "- `sklearn` para criar o modelo de regressão.\n",
        "- `yellowbrick` para visualização de residuais.\n"
      ]
    },
    {
      "cell_type": "code",
      "metadata": {
        "id": "k594XsjXXAN2",
        "colab": {
          "base_uri": "https://localhost:8080/"
        },
        "outputId": "465c0ab9-4293-4836-c822-461e2f9d3e5b"
      },
      "source": [
        "import pandas as pd\n",
        "import numpy as np\n",
        "import matplotlib.pyplot as plt\n",
        "from sklearn.linear_model import LinearRegression\n",
        "from yellowbrick.regressor import ResidualsPlot "
      ],
      "execution_count": null,
      "outputs": [
        {
          "output_type": "stream",
          "text": [
            "/usr/local/lib/python3.6/dist-packages/sklearn/utils/deprecation.py:144: FutureWarning: The sklearn.metrics.classification module is  deprecated in version 0.22 and will be removed in version 0.24. The corresponding classes / functions should instead be imported from sklearn.metrics. Anything that cannot be imported from sklearn.metrics is now part of the private API.\n",
            "  warnings.warn(message, FutureWarning)\n"
          ],
          "name": "stderr"
        }
      ]
    },
    {
      "cell_type": "markdown",
      "metadata": {
        "id": "rr4Iw7Cr-i2i"
      },
      "source": [
        "**Carregando base de dados**"
      ]
    },
    {
      "cell_type": "code",
      "metadata": {
        "id": "v7z2LIOGXV-1",
        "colab": {
          "base_uri": "https://localhost:8080/"
        },
        "outputId": "4f4506c2-b003-49cc-8671-6104e4318dc6"
      },
      "source": [
        "base = pd.read_csv('https://raw.githubusercontent.com/amadords/data/main/cars.csv')\n",
        "base.shape"
      ],
      "execution_count": null,
      "outputs": [
        {
          "output_type": "execute_result",
          "data": {
            "text/plain": [
              "(50, 3)"
            ]
          },
          "metadata": {
            "tags": []
          },
          "execution_count": 2
        }
      ]
    },
    {
      "cell_type": "code",
      "metadata": {
        "id": "JQOC_za_X9Id",
        "colab": {
          "base_uri": "https://localhost:8080/",
          "height": 206
        },
        "outputId": "d846d90d-1011-4e90-db26-74b0873c7a1d"
      },
      "source": [
        "base.head()"
      ],
      "execution_count": null,
      "outputs": [
        {
          "output_type": "execute_result",
          "data": {
            "text/html": [
              "<div>\n",
              "<style scoped>\n",
              "    .dataframe tbody tr th:only-of-type {\n",
              "        vertical-align: middle;\n",
              "    }\n",
              "\n",
              "    .dataframe tbody tr th {\n",
              "        vertical-align: top;\n",
              "    }\n",
              "\n",
              "    .dataframe thead th {\n",
              "        text-align: right;\n",
              "    }\n",
              "</style>\n",
              "<table border=\"1\" class=\"dataframe\">\n",
              "  <thead>\n",
              "    <tr style=\"text-align: right;\">\n",
              "      <th></th>\n",
              "      <th>Unnamed: 0</th>\n",
              "      <th>speed</th>\n",
              "      <th>dist</th>\n",
              "    </tr>\n",
              "  </thead>\n",
              "  <tbody>\n",
              "    <tr>\n",
              "      <th>0</th>\n",
              "      <td>1</td>\n",
              "      <td>4</td>\n",
              "      <td>2</td>\n",
              "    </tr>\n",
              "    <tr>\n",
              "      <th>1</th>\n",
              "      <td>2</td>\n",
              "      <td>4</td>\n",
              "      <td>10</td>\n",
              "    </tr>\n",
              "    <tr>\n",
              "      <th>2</th>\n",
              "      <td>3</td>\n",
              "      <td>7</td>\n",
              "      <td>4</td>\n",
              "    </tr>\n",
              "    <tr>\n",
              "      <th>3</th>\n",
              "      <td>4</td>\n",
              "      <td>7</td>\n",
              "      <td>22</td>\n",
              "    </tr>\n",
              "    <tr>\n",
              "      <th>4</th>\n",
              "      <td>5</td>\n",
              "      <td>8</td>\n",
              "      <td>16</td>\n",
              "    </tr>\n",
              "  </tbody>\n",
              "</table>\n",
              "</div>"
            ],
            "text/plain": [
              "   Unnamed: 0  speed  dist\n",
              "0           1      4     2\n",
              "1           2      4    10\n",
              "2           3      7     4\n",
              "3           4      7    22\n",
              "4           5      8    16"
            ]
          },
          "metadata": {
            "tags": []
          },
          "execution_count": 3
        }
      ]
    },
    {
      "cell_type": "markdown",
      "metadata": {
        "id": "tXhJF-r8-pHL"
      },
      "source": [
        "**Dropando a coluna *'Unnamed: 0'***"
      ]
    },
    {
      "cell_type": "code",
      "metadata": {
        "id": "rvyQPvmLYDmC",
        "colab": {
          "base_uri": "https://localhost:8080/",
          "height": 206
        },
        "outputId": "c9d440a8-ffbd-4044-8bde-e60e3668d8c1"
      },
      "source": [
        "base = base.drop(['Unnamed: 0'], axis = 1)\n",
        "base.head()"
      ],
      "execution_count": null,
      "outputs": [
        {
          "output_type": "execute_result",
          "data": {
            "text/html": [
              "<div>\n",
              "<style scoped>\n",
              "    .dataframe tbody tr th:only-of-type {\n",
              "        vertical-align: middle;\n",
              "    }\n",
              "\n",
              "    .dataframe tbody tr th {\n",
              "        vertical-align: top;\n",
              "    }\n",
              "\n",
              "    .dataframe thead th {\n",
              "        text-align: right;\n",
              "    }\n",
              "</style>\n",
              "<table border=\"1\" class=\"dataframe\">\n",
              "  <thead>\n",
              "    <tr style=\"text-align: right;\">\n",
              "      <th></th>\n",
              "      <th>speed</th>\n",
              "      <th>dist</th>\n",
              "    </tr>\n",
              "  </thead>\n",
              "  <tbody>\n",
              "    <tr>\n",
              "      <th>0</th>\n",
              "      <td>4</td>\n",
              "      <td>2</td>\n",
              "    </tr>\n",
              "    <tr>\n",
              "      <th>1</th>\n",
              "      <td>4</td>\n",
              "      <td>10</td>\n",
              "    </tr>\n",
              "    <tr>\n",
              "      <th>2</th>\n",
              "      <td>7</td>\n",
              "      <td>4</td>\n",
              "    </tr>\n",
              "    <tr>\n",
              "      <th>3</th>\n",
              "      <td>7</td>\n",
              "      <td>22</td>\n",
              "    </tr>\n",
              "    <tr>\n",
              "      <th>4</th>\n",
              "      <td>8</td>\n",
              "      <td>16</td>\n",
              "    </tr>\n",
              "  </tbody>\n",
              "</table>\n",
              "</div>"
            ],
            "text/plain": [
              "   speed  dist\n",
              "0      4     2\n",
              "1      4    10\n",
              "2      7     4\n",
              "3      7    22\n",
              "4      8    16"
            ]
          },
          "metadata": {
            "tags": []
          },
          "execution_count": 4
        }
      ]
    },
    {
      "cell_type": "markdown",
      "metadata": {
        "id": "NGs8ai5U-xM1"
      },
      "source": [
        "**Definição das variáveis X e Y**\n",
        "- X = distância é a variável independente \n",
        "- Y = velocidade é a variável dependente"
      ]
    },
    {
      "cell_type": "code",
      "metadata": {
        "id": "sIX3Js9xYHWy",
        "colab": {
          "base_uri": "https://localhost:8080/"
        },
        "outputId": "ce0bbe85-2a85-4b5f-b0e8-318ec5fd6d58"
      },
      "source": [
        "X = base.iloc[:, 1].values\n",
        "y = base.iloc[:, 0].values\n",
        "X"
      ],
      "execution_count": null,
      "outputs": [
        {
          "output_type": "execute_result",
          "data": {
            "text/plain": [
              "array([  2,  10,   4,  22,  16,  10,  18,  26,  34,  17,  28,  14,  20,\n",
              "        24,  28,  26,  34,  34,  46,  26,  36,  60,  80,  20,  26,  54,\n",
              "        32,  40,  32,  40,  50,  42,  56,  76,  84,  36,  46,  68,  32,\n",
              "        48,  52,  56,  64,  66,  54,  70,  92,  93, 120,  85])"
            ]
          },
          "metadata": {
            "tags": []
          },
          "execution_count": 5
        }
      ]
    },
    {
      "cell_type": "markdown",
      "metadata": {
        "id": "vJ-rpbyY_BMJ"
      },
      "source": [
        "**Cálculo da correlação entre X e Y**"
      ]
    },
    {
      "cell_type": "code",
      "metadata": {
        "id": "AXfBnLbKYKuz",
        "colab": {
          "base_uri": "https://localhost:8080/"
        },
        "outputId": "ec0510cd-8e30-44ed-cb50-45b41e2b8378"
      },
      "source": [
        "correlacao = np.corrcoef(X, y)\n",
        "correlacao"
      ],
      "execution_count": null,
      "outputs": [
        {
          "output_type": "execute_result",
          "data": {
            "text/plain": [
              "array([[1.       , 0.8068949],\n",
              "       [0.8068949, 1.       ]])"
            ]
          },
          "metadata": {
            "tags": []
          },
          "execution_count": 6
        }
      ]
    },
    {
      "cell_type": "markdown",
      "metadata": {
        "id": "dVgvH0M5_HSx"
      },
      "source": [
        "1. Colocando em formato de matriz com uma coluna a mais\n",
        "2. Criando o modelo.\n",
        "3. Treinando o modelo. (fit indica que o treinamento deve ser executado)\n",
        "\n"
      ]
    },
    {
      "cell_type": "code",
      "metadata": {
        "id": "ir8O1gv6YOX7",
        "colab": {
          "base_uri": "https://localhost:8080/"
        },
        "outputId": "17db5f80-fbe4-435a-b756-40e8e417d185"
      },
      "source": [
        "X = X.reshape(-1, 1)  # 1\n",
        "modelo = LinearRegression() # 2\n",
        "modelo.fit(X, y) # 3"
      ],
      "execution_count": null,
      "outputs": [
        {
          "output_type": "execute_result",
          "data": {
            "text/plain": [
              "LinearRegression(copy_X=True, fit_intercept=True, n_jobs=None, normalize=False)"
            ]
          },
          "metadata": {
            "tags": []
          },
          "execution_count": 7
        }
      ]
    },
    {
      "cell_type": "markdown",
      "metadata": {
        "id": "we42IN1-_hC-"
      },
      "source": [
        "**Visualizando os coeficientes**"
      ]
    },
    {
      "cell_type": "code",
      "metadata": {
        "id": "S7Bcc8rIYP9j",
        "colab": {
          "base_uri": "https://localhost:8080/"
        },
        "outputId": "8e5ff9eb-5b2f-4615-9955-2a8df4ee5ed9"
      },
      "source": [
        "modelo.intercept_"
      ],
      "execution_count": null,
      "outputs": [
        {
          "output_type": "execute_result",
          "data": {
            "text/plain": [
              "8.283905641787172"
            ]
          },
          "metadata": {
            "tags": []
          },
          "execution_count": 8
        }
      ]
    },
    {
      "cell_type": "markdown",
      "metadata": {
        "id": "0Q6RVpAo_kLx"
      },
      "source": [
        "**Visualizando a inclinação**"
      ]
    },
    {
      "cell_type": "code",
      "metadata": {
        "id": "gnVGEjO_YRtQ",
        "colab": {
          "base_uri": "https://localhost:8080/"
        },
        "outputId": "b83c3ebf-e6d4-433b-87b2-3f13e71bb3be"
      },
      "source": [
        "modelo.coef_"
      ],
      "execution_count": null,
      "outputs": [
        {
          "output_type": "execute_result",
          "data": {
            "text/plain": [
              "array([0.16556757])"
            ]
          },
          "metadata": {
            "tags": []
          },
          "execution_count": 9
        }
      ]
    },
    {
      "cell_type": "markdown",
      "metadata": {
        "id": "kNrFeagr_qT5"
      },
      "source": [
        "**Geração do gráfico com os pontos reais e as previsões**\n"
      ]
    },
    {
      "cell_type": "code",
      "metadata": {
        "id": "czxI4pZhYTE7",
        "colab": {
          "base_uri": "https://localhost:8080/",
          "height": 282
        },
        "outputId": "dad7b192-82ff-434d-992c-7699722cb7d3"
      },
      "source": [
        "plt.scatter(X, y)\n",
        "plt.plot(X, modelo.predict(X), color = 'red')"
      ],
      "execution_count": null,
      "outputs": [
        {
          "output_type": "execute_result",
          "data": {
            "text/plain": [
              "[<matplotlib.lines.Line2D at 0x7f8337d25358>]"
            ]
          },
          "metadata": {
            "tags": []
          },
          "execution_count": 10
        },
        {
          "output_type": "display_data",
          "data": {
            "image/png": "[encoded data removed]",
            "text/plain": [
              "<Figure size 432x288 with 1 Axes>"
            ]
          },
          "metadata": {
            "tags": [],
            "needs_background": "light"
          }
        }
      ]
    },
    {
      "cell_type": "markdown",
      "metadata": {
        "id": "J-lb-0zD_wdz"
      },
      "source": [
        "**Previsão da \"distância 22 pés\" usando a fórmula manual**\n",
        "\n",
        "*interceptação * inclinação * valor de distância*\n",
        "\n",
        "Qual a velocidade levou 22 pés para parar?\n",
        "\n"
      ]
    },
    {
      "cell_type": "code",
      "metadata": {
        "id": "iXGqkfljYUqJ",
        "colab": {
          "base_uri": "https://localhost:8080/"
        },
        "outputId": "b503512b-8dea-4797-d835-d0a923f1f6a6"
      },
      "source": [
        "modelo.intercept_ + modelo.coef_ * 22"
      ],
      "execution_count": null,
      "outputs": [
        {
          "output_type": "execute_result",
          "data": {
            "text/plain": [
              "array([11.92639228])"
            ]
          },
          "metadata": {
            "tags": []
          },
          "execution_count": 11
        }
      ]
    },
    {
      "cell_type": "markdown",
      "metadata": {
        "id": "rO6gLxxSAL1v"
      },
      "source": [
        "**Utilizando a função do *Sklearn***"
      ]
    },
    {
      "cell_type": "code",
      "metadata": {
        "id": "tAP-o1UkYWfi",
        "colab": {
          "base_uri": "https://localhost:8080/"
        },
        "outputId": "0c8b79fc-c45a-4516-e736-9b829eabcb56"
      },
      "source": [
        "modelo.predict([[22]])"
      ],
      "execution_count": null,
      "outputs": [
        {
          "output_type": "execute_result",
          "data": {
            "text/plain": [
              "array([11.92639228])"
            ]
          },
          "metadata": {
            "tags": []
          },
          "execution_count": 12
        }
      ]
    },
    {
      "cell_type": "markdown",
      "metadata": {
        "id": "_Hqr4J_jAQus"
      },
      "source": [
        "**Gráfico para visualizar os residuais**"
      ]
    },
    {
      "cell_type": "code",
      "metadata": {
        "id": "TADkdP-sYXo6",
        "colab": {
          "base_uri": "https://localhost:8080/",
          "height": 294
        },
        "outputId": "8c5d1d07-aed6-4c8e-aea8-ec6edacd55a7"
      },
      "source": [
        "visualizador = ResidualsPlot(modelo)\n",
        "visualizador.fit(X, y)\n",
        "visualizador.poof()"
      ],
      "execution_count": null,
      "outputs": [
        {
          "output_type": "display_data",
          "data": {
            "image/png": "[encoded data removed]",
            "text/plain": [
              "<Figure size 432x288 with 2 Axes>"
            ]
          },
          "metadata": {
            "tags": [],
            "needs_background": "light"
          }
        }
      ]
    },
    {
      "cell_type": "markdown",
      "metadata": {
        "id": "PSADewUBYsoh"
      },
      "source": [
        "## Regressão Linear Múltipla\n",
        "\n",
        "- Duas ou mais variáveis explanatórias para prever uma variável dependente.\n",
        "- Y ~ $X_1 + X_2 + X_n$\n",
        "- Ter mais variáveis não significa ter um modelo melhor, isso é uma impressão falsa. Às vezes um modelo mais simples com menos variáveis se sairá melhor.\n",
        "- Deve-se ter cuidado além dos elementos como correlação e coeficiente de determinação, com os seguintes pontos:\n",
        "  - Análise individual de cada variável independente com y.\n",
        "  - Gerar gráficos de dispersão individuais\n",
        "  - Buscar redundâncias (mesmos efeitos de X sobre y).\n",
        "    - Mais de uma variável que explique y da mesma forma.\n",
        "    -  Para encontrá-las, basta procurar variáveis independentes que estão altamente correlacionadas.\n",
        "## $R^2$ merece alguns cuidados\n",
        "- Ao colocar mais variáveis no modelo, $R^2$ tende a aumentar, ainda que não aumente a precisão do modelo.\n",
        "  - Então utilizamos o $R^2$ ajustado. \n",
        "    - Ele ajusta a variação do modelo de acordo com o númeo de variáveis independentes que é incluida no modelo.\n",
        "- $R^2$ ajustado sempre será menor que $R^2$.\n",
        "\n",
        "## Colinearidade e Parcimônia\n",
        "\n",
        "- Colinearidade: Duas variáveis independentes que são correlacionadas.\n",
        "  - Incluir variáveis independentes colineares pode prejudicar o modelo, criando previsões não confiáveis.\n",
        "- Parcimônia: Não colocar variáveis que não melhorem o modelo em nada. \n",
        "  - Isso cria modelos parcimoniosos.\n",
        "\n",
        "## Requisitos básicos\n",
        "- Linearidade entre a variável dependente e as variáveis independentes\n",
        "- Pouca ou nehuma colinearidade entre as variáveis independentes.\n",
        "- Resíduos:\n",
        "  - Próximos à distribuição normal.\n",
        "  - Variância constante em relação a linha de melhor ajuste.\n",
        "  - Independentes (sem padrão).\n",
        "\n",
        "- Para avaliar as correlações é interessante usar um **Correlograma**.\n",
        "\n"
      ]
    },
    {
      "cell_type": "markdown",
      "metadata": {
        "id": "dbdJP_bQAubc"
      },
      "source": [
        "**Importando as bibliotecas**"
      ]
    },
    {
      "cell_type": "code",
      "metadata": {
        "id": "JHkAZr0qYZBL",
        "colab": {
          "base_uri": "https://localhost:8080/"
        },
        "outputId": "4c5c906c-33af-40c7-9557-d3bd38b7d455"
      },
      "source": [
        "import pandas as pd\n",
        "import numpy as np\n",
        "import matplotlib.pyplot as plt\n",
        "from sklearn.linear_model import LinearRegression\n",
        "import statsmodels.formula.api as sm"
      ],
      "execution_count": null,
      "outputs": [
        {
          "output_type": "stream",
          "text": [
            "/usr/local/lib/python3.6/dist-packages/statsmodels/tools/_testing.py:19: FutureWarning: pandas.util.testing is deprecated. Use the functions in the public API at pandas.testing instead.\n",
            "  import pandas.util.testing as tm\n"
          ],
          "name": "stderr"
        }
      ]
    },
    {
      "cell_type": "markdown",
      "metadata": {
        "id": "vfcqIAsUAxzO"
      },
      "source": [
        "**Carregando a base de dados**"
      ]
    },
    {
      "cell_type": "code",
      "metadata": {
        "id": "QeUO5MlqYwn9",
        "colab": {
          "base_uri": "https://localhost:8080/"
        },
        "outputId": "66f4e776-8482-4785-f64c-8c4d1ec73f60"
      },
      "source": [
        "base = pd.read_csv('https://raw.githubusercontent.com/amadords/data/main/mt_cars.csv')\n",
        "base.shape"
      ],
      "execution_count": null,
      "outputs": [
        {
          "output_type": "execute_result",
          "data": {
            "text/plain": [
              "(32, 12)"
            ]
          },
          "metadata": {
            "tags": []
          },
          "execution_count": 15
        }
      ]
    },
    {
      "cell_type": "code",
      "metadata": {
        "id": "lYi57HRyYyKP",
        "colab": {
          "base_uri": "https://localhost:8080/",
          "height": 206
        },
        "outputId": "2914fdcf-5013-4f5b-aa80-ca4e2f8b3902"
      },
      "source": [
        "base.head()"
      ],
      "execution_count": null,
      "outputs": [
        {
          "output_type": "execute_result",
          "data": {
            "text/html": [
              "<div>\n",
              "<style scoped>\n",
              "    .dataframe tbody tr th:only-of-type {\n",
              "        vertical-align: middle;\n",
              "    }\n",
              "\n",
              "    .dataframe tbody tr th {\n",
              "        vertical-align: top;\n",
              "    }\n",
              "\n",
              "    .dataframe thead th {\n",
              "        text-align: right;\n",
              "    }\n",
              "</style>\n",
              "<table border=\"1\" class=\"dataframe\">\n",
              "  <thead>\n",
              "    <tr style=\"text-align: right;\">\n",
              "      <th></th>\n",
              "      <th>Unnamed: 0</th>\n",
              "      <th>mpg</th>\n",
              "      <th>cyl</th>\n",
              "      <th>disp</th>\n",
              "      <th>hp</th>\n",
              "      <th>drat</th>\n",
              "      <th>wt</th>\n",
              "      <th>qsec</th>\n",
              "      <th>vs</th>\n",
              "      <th>am</th>\n",
              "      <th>gear</th>\n",
              "      <th>carb</th>\n",
              "    </tr>\n",
              "  </thead>\n",
              "  <tbody>\n",
              "    <tr>\n",
              "      <th>0</th>\n",
              "      <td>Mazda RX4</td>\n",
              "      <td>21.0</td>\n",
              "      <td>6</td>\n",
              "      <td>160.0</td>\n",
              "      <td>110</td>\n",
              "      <td>3.90</td>\n",
              "      <td>2.620</td>\n",
              "      <td>16.46</td>\n",
              "      <td>0</td>\n",
              "      <td>1</td>\n",
              "      <td>4</td>\n",
              "      <td>4</td>\n",
              "    </tr>\n",
              "    <tr>\n",
              "      <th>1</th>\n",
              "      <td>Mazda RX4 Wag</td>\n",
              "      <td>21.0</td>\n",
              "      <td>6</td>\n",
              "      <td>160.0</td>\n",
              "      <td>110</td>\n",
              "      <td>3.90</td>\n",
              "      <td>2.875</td>\n",
              "      <td>17.02</td>\n",
              "      <td>0</td>\n",
              "      <td>1</td>\n",
              "      <td>4</td>\n",
              "      <td>4</td>\n",
              "    </tr>\n",
              "    <tr>\n",
              "      <th>2</th>\n",
              "      <td>Datsun 710</td>\n",
              "      <td>22.8</td>\n",
              "      <td>4</td>\n",
              "      <td>108.0</td>\n",
              "      <td>93</td>\n",
              "      <td>3.85</td>\n",
              "      <td>2.320</td>\n",
              "      <td>18.61</td>\n",
              "      <td>1</td>\n",
              "      <td>1</td>\n",
              "      <td>4</td>\n",
              "      <td>1</td>\n",
              "    </tr>\n",
              "    <tr>\n",
              "      <th>3</th>\n",
              "      <td>Hornet 4 Drive</td>\n",
              "      <td>21.4</td>\n",
              "      <td>6</td>\n",
              "      <td>258.0</td>\n",
              "      <td>110</td>\n",
              "      <td>3.08</td>\n",
              "      <td>3.215</td>\n",
              "      <td>19.44</td>\n",
              "      <td>1</td>\n",
              "      <td>0</td>\n",
              "      <td>3</td>\n",
              "      <td>1</td>\n",
              "    </tr>\n",
              "    <tr>\n",
              "      <th>4</th>\n",
              "      <td>Hornet Sportabout</td>\n",
              "      <td>18.7</td>\n",
              "      <td>8</td>\n",
              "      <td>360.0</td>\n",
              "      <td>175</td>\n",
              "      <td>3.15</td>\n",
              "      <td>3.440</td>\n",
              "      <td>17.02</td>\n",
              "      <td>0</td>\n",
              "      <td>0</td>\n",
              "      <td>3</td>\n",
              "      <td>2</td>\n",
              "    </tr>\n",
              "  </tbody>\n",
              "</table>\n",
              "</div>"
            ],
            "text/plain": [
              "          Unnamed: 0   mpg  cyl   disp   hp  ...   qsec  vs  am  gear  carb\n",
              "0          Mazda RX4  21.0    6  160.0  110  ...  16.46   0   1     4     4\n",
              "1      Mazda RX4 Wag  21.0    6  160.0  110  ...  17.02   0   1     4     4\n",
              "2         Datsun 710  22.8    4  108.0   93  ...  18.61   1   1     4     1\n",
              "3     Hornet 4 Drive  21.4    6  258.0  110  ...  19.44   1   0     3     1\n",
              "4  Hornet Sportabout  18.7    8  360.0  175  ...  17.02   0   0     3     2\n",
              "\n",
              "[5 rows x 12 columns]"
            ]
          },
          "metadata": {
            "tags": []
          },
          "execution_count": 16
        }
      ]
    },
    {
      "cell_type": "markdown",
      "metadata": {
        "id": "ZN3OwCwKA9_o"
      },
      "source": [
        "****"
      ]
    },
    {
      "cell_type": "markdown",
      "metadata": {
        "id": "GQFdQ5v6BDUb"
      },
      "source": [
        "**Dropando a coluna *'Unnamed: 0'***"
      ]
    },
    {
      "cell_type": "code",
      "metadata": {
        "id": "NE5xKPvnY0Ss"
      },
      "source": [
        "base = base.drop(['Unnamed: 0'], axis = 1)"
      ],
      "execution_count": null,
      "outputs": []
    },
    {
      "cell_type": "markdown",
      "metadata": {
        "id": "XNlEi4S_BF7d"
      },
      "source": [
        "1. Criação de X e Y: variável independente e variável dependente\n",
        "2. Cálculo da correlação entre X e Y"
      ]
    },
    {
      "cell_type": "code",
      "metadata": {
        "id": "_azbpQO2Y1-n",
        "colab": {
          "base_uri": "https://localhost:8080/"
        },
        "outputId": "097b6576-205c-44a5-a0b9-c2e200eee7aa"
      },
      "source": [
        "X = base.iloc[:, 2].values #coluna disp\n",
        "y = base.iloc[:, 0].values #coluna mpg\n",
        "correlacao = np.corrcoef(X, y)\n",
        "correlacao"
      ],
      "execution_count": null,
      "outputs": [
        {
          "output_type": "execute_result",
          "data": {
            "text/plain": [
              "array([[ 1.        , -0.84755138],\n",
              "       [-0.84755138,  1.        ]])"
            ]
          },
          "metadata": {
            "tags": []
          },
          "execution_count": 18
        }
      ]
    },
    {
      "cell_type": "markdown",
      "metadata": {
        "id": "TiJCUT1QBZxo"
      },
      "source": [
        "**Mudança do formato de X para o formato de matriz** \n",
        "\n",
        "Necessário para versões mais recentes do sklearn.\n"
      ]
    },
    {
      "cell_type": "code",
      "metadata": {
        "id": "mrBt_HzBY3IN"
      },
      "source": [
        "X = X.reshape(-1, 1)"
      ],
      "execution_count": null,
      "outputs": []
    },
    {
      "cell_type": "markdown",
      "metadata": {
        "id": "Xl_F9DVoBiQw"
      },
      "source": [
        "**Criação do modelo, treinamento, visualização dos coeficientes e do score do modelo**"
      ]
    },
    {
      "cell_type": "code",
      "metadata": {
        "id": "RJywil5EY40G",
        "colab": {
          "base_uri": "https://localhost:8080/"
        },
        "outputId": "ac8e87a0-7537-4c80-adc6-ec936a514ae5"
      },
      "source": [
        "modelo = LinearRegression()\n",
        "modelo.fit(X, y)"
      ],
      "execution_count": null,
      "outputs": [
        {
          "output_type": "execute_result",
          "data": {
            "text/plain": [
              "LinearRegression(copy_X=True, fit_intercept=True, n_jobs=None, normalize=False)"
            ]
          },
          "metadata": {
            "tags": []
          },
          "execution_count": 20
        }
      ]
    },
    {
      "cell_type": "markdown",
      "metadata": {
        "id": "eZW7dv_4BpZe"
      },
      "source": [
        "**Interceptação**"
      ]
    },
    {
      "cell_type": "code",
      "metadata": {
        "id": "ua9Zj2T3Y6FB",
        "colab": {
          "base_uri": "https://localhost:8080/"
        },
        "outputId": "c99712d4-79f9-459c-b2df-41f54206e330"
      },
      "source": [
        "modelo.intercept_"
      ],
      "execution_count": null,
      "outputs": [
        {
          "output_type": "execute_result",
          "data": {
            "text/plain": [
              "29.599854756163946"
            ]
          },
          "metadata": {
            "tags": []
          },
          "execution_count": 21
        }
      ]
    },
    {
      "cell_type": "markdown",
      "metadata": {
        "id": "644GdgpIBsV8"
      },
      "source": [
        "**Inclinação**"
      ]
    },
    {
      "cell_type": "code",
      "metadata": {
        "id": "ab4ob7K1Y7Xz",
        "colab": {
          "base_uri": "https://localhost:8080/"
        },
        "outputId": "b19e15ab-4257-464b-9c0c-a339defb0847"
      },
      "source": [
        "modelo.coef_"
      ],
      "execution_count": null,
      "outputs": [
        {
          "output_type": "execute_result",
          "data": {
            "text/plain": [
              "array([-0.04121512])"
            ]
          },
          "metadata": {
            "tags": []
          },
          "execution_count": 22
        }
      ]
    },
    {
      "cell_type": "markdown",
      "metadata": {
        "id": "7CIAJo_KBwFO"
      },
      "source": [
        "**R² Score**"
      ]
    },
    {
      "cell_type": "code",
      "metadata": {
        "id": "NSNVI2JxY8dy",
        "colab": {
          "base_uri": "https://localhost:8080/"
        },
        "outputId": "d218ba7e-61aa-486d-a2c4-ccdae12a1506"
      },
      "source": [
        "modelo.score(X, y)"
      ],
      "execution_count": null,
      "outputs": [
        {
          "output_type": "execute_result",
          "data": {
            "text/plain": [
              "0.7183433404897299"
            ]
          },
          "metadata": {
            "tags": []
          },
          "execution_count": 23
        }
      ]
    },
    {
      "cell_type": "markdown",
      "metadata": {
        "id": "fHpNxE4xB2oM"
      },
      "source": [
        "**Gerando previsões**"
      ]
    },
    {
      "cell_type": "code",
      "metadata": {
        "id": "0_x0BgSDY96J",
        "colab": {
          "base_uri": "https://localhost:8080/"
        },
        "outputId": "25858892-e8e0-48f4-ba23-daf2bf44abf7"
      },
      "source": [
        "previsoes = modelo.predict(X)\n",
        "previsoes"
      ],
      "execution_count": null,
      "outputs": [
        {
          "output_type": "execute_result",
          "data": {
            "text/plain": [
              "array([23.00543556, 23.00543556, 25.1486218 , 18.96635381, 14.76241157,\n",
              "       20.32645276, 14.76241157, 23.55359666, 23.79676587, 22.69220065,\n",
              "       22.69220065, 18.23272467, 18.23272467, 18.23272467, 10.14631813,\n",
              "       10.64089957, 11.46520197, 26.35622482, 26.47987017, 26.66945973,\n",
              "       24.64991885, 16.49344661, 17.07045829, 15.17456277, 13.11380677,\n",
              "       26.34386028, 24.64167582, 25.68029685, 15.13334765, 23.62366236,\n",
              "       17.19410365, 24.61282524])"
            ]
          },
          "metadata": {
            "tags": []
          },
          "execution_count": 24
        }
      ]
    },
    {
      "cell_type": "markdown",
      "metadata": {
        "id": "FzUO9S9tB6eR"
      },
      "source": [
        "**Criando o modelo com a *Statsmodel***\n",
        "\n",
        "Dá para ver o R² e o R² ajustado."
      ]
    },
    {
      "cell_type": "code",
      "metadata": {
        "id": "8bR1lTqeY_-o",
        "colab": {
          "base_uri": "https://localhost:8080/",
          "height": 452
        },
        "outputId": "194a8e6b-b143-4c49-c4d4-7ede7ad0f903"
      },
      "source": [
        "modelo_ajustado = sm.ols(formula = 'mpg ~ disp', data = base)\n",
        "modelo_treinado = modelo_ajustado.fit()\n",
        "modelo_treinado.summary()"
      ],
      "execution_count": null,
      "outputs": [
        {
          "output_type": "execute_result",
          "data": {
            "text/html": [
              "<table class=\"simpletable\">\n",
              "<caption>OLS Regression Results</caption>\n",
              "<tr>\n",
              "  <th>Dep. Variable:</th>           <td>mpg</td>       <th>  R-squared:         </th> <td>   0.718</td>\n",
              "</tr>\n",
              "<tr>\n",
              "  <th>Model:</th>                   <td>OLS</td>       <th>  Adj. R-squared:    </th> <td>   0.709</td>\n",
              "</tr>\n",
              "<tr>\n",
              "  <th>Method:</th>             <td>Least Squares</td>  <th>  F-statistic:       </th> <td>   76.51</td>\n",
              "</tr>\n",
              "<tr>\n",
              "  <th>Date:</th>             <td>Wed, 03 Feb 2021</td> <th>  Prob (F-statistic):</th> <td>9.38e-10</td>\n",
              "</tr>\n",
              "<tr>\n",
              "  <th>Time:</th>                 <td>18:11:40</td>     <th>  Log-Likelihood:    </th> <td> -82.105</td>\n",
              "</tr>\n",
              "<tr>\n",
              "  <th>No. Observations:</th>      <td>    32</td>      <th>  AIC:               </th> <td>   168.2</td>\n",
              "</tr>\n",
              "<tr>\n",
              "  <th>Df Residuals:</th>          <td>    30</td>      <th>  BIC:               </th> <td>   171.1</td>\n",
              "</tr>\n",
              "<tr>\n",
              "  <th>Df Model:</th>              <td>     1</td>      <th>                     </th>     <td> </td>   \n",
              "</tr>\n",
              "<tr>\n",
              "  <th>Covariance Type:</th>      <td>nonrobust</td>    <th>                     </th>     <td> </td>   \n",
              "</tr>\n",
              "</table>\n",
              "<table class=\"simpletable\">\n",
              "<tr>\n",
              "      <td></td>         <th>coef</th>     <th>std err</th>      <th>t</th>      <th>P>|t|</th>  <th>[0.025</th>    <th>0.975]</th>  \n",
              "</tr>\n",
              "<tr>\n",
              "  <th>Intercept</th> <td>   29.5999</td> <td>    1.230</td> <td>   24.070</td> <td> 0.000</td> <td>   27.088</td> <td>   32.111</td>\n",
              "</tr>\n",
              "<tr>\n",
              "  <th>disp</th>      <td>   -0.0412</td> <td>    0.005</td> <td>   -8.747</td> <td> 0.000</td> <td>   -0.051</td> <td>   -0.032</td>\n",
              "</tr>\n",
              "</table>\n",
              "<table class=\"simpletable\">\n",
              "<tr>\n",
              "  <th>Omnibus:</th>       <td> 3.368</td> <th>  Durbin-Watson:     </th> <td>   1.250</td>\n",
              "</tr>\n",
              "<tr>\n",
              "  <th>Prob(Omnibus):</th> <td> 0.186</td> <th>  Jarque-Bera (JB):  </th> <td>   3.049</td>\n",
              "</tr>\n",
              "<tr>\n",
              "  <th>Skew:</th>          <td> 0.719</td> <th>  Prob(JB):          </th> <td>   0.218</td>\n",
              "</tr>\n",
              "<tr>\n",
              "  <th>Kurtosis:</th>      <td> 2.532</td> <th>  Cond. No.          </th> <td>    558.</td>\n",
              "</tr>\n",
              "</table><br/><br/>Warnings:<br/>[1] Standard Errors assume that the covariance matrix of the errors is correctly specified."
            ],
            "text/plain": [
              "<class 'statsmodels.iolib.summary.Summary'>\n",
              "\"\"\"\n",
              "                            OLS Regression Results                            \n",
              "==============================================================================\n",
              "Dep. Variable:                    mpg   R-squared:                       0.718\n",
              "Model:                            OLS   Adj. R-squared:                  0.709\n",
              "Method:                 Least Squares   F-statistic:                     76.51\n",
              "Date:                Wed, 03 Feb 2021   Prob (F-statistic):           9.38e-10\n",
              "Time:                        18:11:40   Log-Likelihood:                -82.105\n",
              "No. Observations:                  32   AIC:                             168.2\n",
              "Df Residuals:                      30   BIC:                             171.1\n",
              "Df Model:                           1                                         \n",
              "Covariance Type:            nonrobust                                         \n",
              "==============================================================================\n",
              "                 coef    std err          t      P>|t|      [0.025      0.975]\n",
              "------------------------------------------------------------------------------\n",
              "Intercept     29.5999      1.230     24.070      0.000      27.088      32.111\n",
              "disp          -0.0412      0.005     -8.747      0.000      -0.051      -0.032\n",
              "==============================================================================\n",
              "Omnibus:                        3.368   Durbin-Watson:                   1.250\n",
              "Prob(Omnibus):                  0.186   Jarque-Bera (JB):                3.049\n",
              "Skew:                           0.719   Prob(JB):                        0.218\n",
              "Kurtosis:                       2.532   Cond. No.                         558.\n",
              "==============================================================================\n",
              "\n",
              "Warnings:\n",
              "[1] Standard Errors assume that the covariance matrix of the errors is correctly specified.\n",
              "\"\"\""
            ]
          },
          "metadata": {
            "tags": []
          },
          "execution_count": 25
        }
      ]
    },
    {
      "cell_type": "markdown",
      "metadata": {
        "id": "S6T3MMLACQKy"
      },
      "source": [
        "**Visualizando resultados**"
      ]
    },
    {
      "cell_type": "code",
      "metadata": {
        "id": "Tcg7tnsfZBYv",
        "colab": {
          "base_uri": "https://localhost:8080/",
          "height": 269
        },
        "outputId": "3b5ade96-0833-4d03-dc0a-10b81a0d4429"
      },
      "source": [
        "plt.scatter(X, y)\n",
        "plt.plot(X, previsoes, color = 'red');"
      ],
      "execution_count": null,
      "outputs": [
        {
          "output_type": "display_data",
          "data": {
            "image/png": "[encoded data removed]",
            "text/plain": [
              "<Figure size 432x288 with 1 Axes>"
            ]
          },
          "metadata": {
            "tags": [],
            "needs_background": "light"
          }
        }
      ]
    },
    {
      "cell_type": "markdown",
      "metadata": {
        "id": "uwKoN8pdCT6X"
      },
      "source": [
        "**Previsão para somente um valor**"
      ]
    },
    {
      "cell_type": "code",
      "metadata": {
        "id": "IMqXFE_FZDGX",
        "colab": {
          "base_uri": "https://localhost:8080/"
        },
        "outputId": "f344180c-8d1e-44cf-fcda-a333445bc613"
      },
      "source": [
        "modelo.predict([[200]])"
      ],
      "execution_count": null,
      "outputs": [
        {
          "output_type": "execute_result",
          "data": {
            "text/plain": [
              "array([21.35683076])"
            ]
          },
          "metadata": {
            "tags": []
          },
          "execution_count": 27
        }
      ]
    },
    {
      "cell_type": "markdown",
      "metadata": {
        "id": "Yt0uyjQxCYDr"
      },
      "source": [
        "**Criação de novas variáveis X1 e Y1 e novo modelo para comparação com o anterior**\n",
        "\n",
        "Serão utilizadas 3 variáveis dependentes para prever mpg: cyl,\tdisp, e\thp.\n"
      ]
    },
    {
      "cell_type": "code",
      "metadata": {
        "id": "cxqDRRWvZSKV",
        "colab": {
          "base_uri": "https://localhost:8080/"
        },
        "outputId": "31efc8d9-3bd7-428c-d685-2bf796f98bb1"
      },
      "source": [
        "X1 = base.iloc[:, 1:4].values\n",
        "X1"
      ],
      "execution_count": null,
      "outputs": [
        {
          "output_type": "execute_result",
          "data": {
            "text/plain": [
              "array([[  6. , 160. , 110. ],\n",
              "       [  6. , 160. , 110. ],\n",
              "       [  4. , 108. ,  93. ],\n",
              "       [  6. , 258. , 110. ],\n",
              "       [  8. , 360. , 175. ],\n",
              "       [  6. , 225. , 105. ],\n",
              "       [  8. , 360. , 245. ],\n",
              "       [  4. , 146.7,  62. ],\n",
              "       [  4. , 140.8,  95. ],\n",
              "       [  6. , 167.6, 123. ],\n",
              "       [  6. , 167.6, 123. ],\n",
              "       [  8. , 275.8, 180. ],\n",
              "       [  8. , 275.8, 180. ],\n",
              "       [  8. , 275.8, 180. ],\n",
              "       [  8. , 472. , 205. ],\n",
              "       [  8. , 460. , 215. ],\n",
              "       [  8. , 440. , 230. ],\n",
              "       [  4. ,  78.7,  66. ],\n",
              "       [  4. ,  75.7,  52. ],\n",
              "       [  4. ,  71.1,  65. ],\n",
              "       [  4. , 120.1,  97. ],\n",
              "       [  8. , 318. , 150. ],\n",
              "       [  8. , 304. , 150. ],\n",
              "       [  8. , 350. , 245. ],\n",
              "       [  8. , 400. , 175. ],\n",
              "       [  4. ,  79. ,  66. ],\n",
              "       [  4. , 120.3,  91. ],\n",
              "       [  4. ,  95.1, 113. ],\n",
              "       [  8. , 351. , 264. ],\n",
              "       [  6. , 145. , 175. ],\n",
              "       [  8. , 301. , 335. ],\n",
              "       [  4. , 121. , 109. ]])"
            ]
          },
          "metadata": {
            "tags": []
          },
          "execution_count": 28
        }
      ]
    },
    {
      "cell_type": "markdown",
      "metadata": {
        "id": "skrT6HiqCqbK"
      },
      "source": [
        "**Treinando modelo e visualizando o R²**"
      ]
    },
    {
      "cell_type": "code",
      "metadata": {
        "id": "tUPy-e92ZGEY",
        "colab": {
          "base_uri": "https://localhost:8080/"
        },
        "outputId": "063122d5-a0c1-4604-c3be-7b39ff85076f"
      },
      "source": [
        "y1 = base.iloc[:, 0].values\n",
        "modelo2 = LinearRegression()\n",
        "modelo2.fit(X1, y1)\n",
        "modelo2.score(X1, y1)"
      ],
      "execution_count": null,
      "outputs": [
        {
          "output_type": "execute_result",
          "data": {
            "text/plain": [
              "0.7678877440928638"
            ]
          },
          "metadata": {
            "tags": []
          },
          "execution_count": 29
        }
      ]
    },
    {
      "cell_type": "markdown",
      "metadata": {
        "id": "n5XAsP9WCvOa"
      },
      "source": [
        "**Criação do modelo ajustado com mais atributos (regressão linear múltipla)**"
      ]
    },
    {
      "cell_type": "code",
      "metadata": {
        "id": "B0hxEX97ZJSi",
        "colab": {
          "base_uri": "https://localhost:8080/",
          "height": 529
        },
        "outputId": "bfa55bf3-7a31-4cff-8e67-d3d7254217be"
      },
      "source": [
        "modelo_ajustado2 = sm.ols(formula = 'mpg ~ cyl + disp + hp', data = base)\n",
        "modelo_treinado2 = modelo_ajustado2.fit()\n",
        "modelo_treinado2.summary()"
      ],
      "execution_count": null,
      "outputs": [
        {
          "output_type": "execute_result",
          "data": {
            "text/html": [
              "<table class=\"simpletable\">\n",
              "<caption>OLS Regression Results</caption>\n",
              "<tr>\n",
              "  <th>Dep. Variable:</th>           <td>mpg</td>       <th>  R-squared:         </th> <td>   0.768</td>\n",
              "</tr>\n",
              "<tr>\n",
              "  <th>Model:</th>                   <td>OLS</td>       <th>  Adj. R-squared:    </th> <td>   0.743</td>\n",
              "</tr>\n",
              "<tr>\n",
              "  <th>Method:</th>             <td>Least Squares</td>  <th>  F-statistic:       </th> <td>   30.88</td>\n",
              "</tr>\n",
              "<tr>\n",
              "  <th>Date:</th>             <td>Wed, 03 Feb 2021</td> <th>  Prob (F-statistic):</th> <td>5.05e-09</td>\n",
              "</tr>\n",
              "<tr>\n",
              "  <th>Time:</th>                 <td>18:11:40</td>     <th>  Log-Likelihood:    </th> <td> -79.009</td>\n",
              "</tr>\n",
              "<tr>\n",
              "  <th>No. Observations:</th>      <td>    32</td>      <th>  AIC:               </th> <td>   166.0</td>\n",
              "</tr>\n",
              "<tr>\n",
              "  <th>Df Residuals:</th>          <td>    28</td>      <th>  BIC:               </th> <td>   171.9</td>\n",
              "</tr>\n",
              "<tr>\n",
              "  <th>Df Model:</th>              <td>     3</td>      <th>                     </th>     <td> </td>   \n",
              "</tr>\n",
              "<tr>\n",
              "  <th>Covariance Type:</th>      <td>nonrobust</td>    <th>                     </th>     <td> </td>   \n",
              "</tr>\n",
              "</table>\n",
              "<table class=\"simpletable\">\n",
              "<tr>\n",
              "      <td></td>         <th>coef</th>     <th>std err</th>      <th>t</th>      <th>P>|t|</th>  <th>[0.025</th>    <th>0.975]</th>  \n",
              "</tr>\n",
              "<tr>\n",
              "  <th>Intercept</th> <td>   34.1849</td> <td>    2.591</td> <td>   13.195</td> <td> 0.000</td> <td>   28.878</td> <td>   39.492</td>\n",
              "</tr>\n",
              "<tr>\n",
              "  <th>cyl</th>       <td>   -1.2274</td> <td>    0.797</td> <td>   -1.540</td> <td> 0.135</td> <td>   -2.861</td> <td>    0.406</td>\n",
              "</tr>\n",
              "<tr>\n",
              "  <th>disp</th>      <td>   -0.0188</td> <td>    0.010</td> <td>   -1.811</td> <td> 0.081</td> <td>   -0.040</td> <td>    0.002</td>\n",
              "</tr>\n",
              "<tr>\n",
              "  <th>hp</th>        <td>   -0.0147</td> <td>    0.015</td> <td>   -1.002</td> <td> 0.325</td> <td>   -0.045</td> <td>    0.015</td>\n",
              "</tr>\n",
              "</table>\n",
              "<table class=\"simpletable\">\n",
              "<tr>\n",
              "  <th>Omnibus:</th>       <td> 2.942</td> <th>  Durbin-Watson:     </th> <td>   1.606</td>\n",
              "</tr>\n",
              "<tr>\n",
              "  <th>Prob(Omnibus):</th> <td> 0.230</td> <th>  Jarque-Bera (JB):  </th> <td>   2.558</td>\n",
              "</tr>\n",
              "<tr>\n",
              "  <th>Skew:</th>          <td> 0.675</td> <th>  Prob(JB):          </th> <td>   0.278</td>\n",
              "</tr>\n",
              "<tr>\n",
              "  <th>Kurtosis:</th>      <td> 2.692</td> <th>  Cond. No.          </th> <td>1.51e+03</td>\n",
              "</tr>\n",
              "</table><br/><br/>Warnings:<br/>[1] Standard Errors assume that the covariance matrix of the errors is correctly specified.<br/>[2] The condition number is large, 1.51e+03. This might indicate that there are<br/>strong multicollinearity or other numerical problems."
            ],
            "text/plain": [
              "<class 'statsmodels.iolib.summary.Summary'>\n",
              "\"\"\"\n",
              "                            OLS Regression Results                            \n",
              "==============================================================================\n",
              "Dep. Variable:                    mpg   R-squared:                       0.768\n",
              "Model:                            OLS   Adj. R-squared:                  0.743\n",
              "Method:                 Least Squares   F-statistic:                     30.88\n",
              "Date:                Wed, 03 Feb 2021   Prob (F-statistic):           5.05e-09\n",
              "Time:                        18:11:40   Log-Likelihood:                -79.009\n",
              "No. Observations:                  32   AIC:                             166.0\n",
              "Df Residuals:                      28   BIC:                             171.9\n",
              "Df Model:                           3                                         \n",
              "Covariance Type:            nonrobust                                         \n",
              "==============================================================================\n",
              "                 coef    std err          t      P>|t|      [0.025      0.975]\n",
              "------------------------------------------------------------------------------\n",
              "Intercept     34.1849      2.591     13.195      0.000      28.878      39.492\n",
              "cyl           -1.2274      0.797     -1.540      0.135      -2.861       0.406\n",
              "disp          -0.0188      0.010     -1.811      0.081      -0.040       0.002\n",
              "hp            -0.0147      0.015     -1.002      0.325      -0.045       0.015\n",
              "==============================================================================\n",
              "Omnibus:                        2.942   Durbin-Watson:                   1.606\n",
              "Prob(Omnibus):                  0.230   Jarque-Bera (JB):                2.558\n",
              "Skew:                           0.675   Prob(JB):                        0.278\n",
              "Kurtosis:                       2.692   Cond. No.                     1.51e+03\n",
              "==============================================================================\n",
              "\n",
              "Warnings:\n",
              "[1] Standard Errors assume that the covariance matrix of the errors is correctly specified.\n",
              "[2] The condition number is large, 1.51e+03. This might indicate that there are\n",
              "strong multicollinearity or other numerical problems.\n",
              "\"\"\""
            ]
          },
          "metadata": {
            "tags": []
          },
          "execution_count": 30
        }
      ]
    },
    {
      "cell_type": "markdown",
      "metadata": {
        "id": "DJID8YsIC1fj"
      },
      "source": [
        "**Previsão de um novo registro**"
      ]
    },
    {
      "cell_type": "code",
      "metadata": {
        "id": "Hh2I_aDFZLby",
        "colab": {
          "base_uri": "https://localhost:8080/"
        },
        "outputId": "458a6f1f-6112-4e40-ad72-c1b3a9c06ae0"
      },
      "source": [
        "novo = np.array([4, 200, 100])\n",
        "novo = novo.reshape(1, -1)\n",
        "modelo2.predict(novo)"
      ],
      "execution_count": null,
      "outputs": [
        {
          "output_type": "execute_result",
          "data": {
            "text/plain": [
              "array([24.03968887])"
            ]
          },
          "metadata": {
            "tags": []
          },
          "execution_count": 31
        }
      ]
    },
    {
      "cell_type": "markdown",
      "metadata": {
        "id": "tSr3ff_XZhPQ"
      },
      "source": [
        "## Para finalizar\n",
        "\n",
        "Um último exemplo."
      ]
    },
    {
      "cell_type": "markdown",
      "metadata": {
        "id": "_Z_5DvJwDE3-"
      },
      "source": [
        "**Importando as bibliotecas**"
      ]
    },
    {
      "cell_type": "code",
      "metadata": {
        "id": "okwcC9s0ZZ58"
      },
      "source": [
        "import pandas as pd\n",
        "import numpy as np\n",
        "import matplotlib.pyplot as plt\n",
        "from sklearn.linear_model import LinearRegression"
      ],
      "execution_count": null,
      "outputs": []
    },
    {
      "cell_type": "markdown",
      "metadata": {
        "id": "L4fXrnI2DJZS"
      },
      "source": [
        "**Carregando a base de dados**"
      ]
    },
    {
      "cell_type": "code",
      "metadata": {
        "id": "4x_KRwU4Zks1",
        "colab": {
          "base_uri": "https://localhost:8080/"
        },
        "outputId": "8ccdef92-f45e-47da-b419-b5298a5c9721"
      },
      "source": [
        "base = pd.read_csv('https://raw.githubusercontent.com/amadords/data/main/slr12.csv', sep=';')\n",
        "base.shape"
      ],
      "execution_count": null,
      "outputs": [
        {
          "output_type": "execute_result",
          "data": {
            "text/plain": [
              "(36, 2)"
            ]
          },
          "metadata": {
            "tags": []
          },
          "execution_count": 33
        }
      ]
    },
    {
      "cell_type": "code",
      "metadata": {
        "id": "BOxd2enDZlyd",
        "colab": {
          "base_uri": "https://localhost:8080/",
          "height": 206
        },
        "outputId": "b0ff12ce-3035-4649-8471-c45b9f9ef16b"
      },
      "source": [
        "base.head()"
      ],
      "execution_count": null,
      "outputs": [
        {
          "output_type": "execute_result",
          "data": {
            "text/html": [
              "<div>\n",
              "<style scoped>\n",
              "    .dataframe tbody tr th:only-of-type {\n",
              "        vertical-align: middle;\n",
              "    }\n",
              "\n",
              "    .dataframe tbody tr th {\n",
              "        vertical-align: top;\n",
              "    }\n",
              "\n",
              "    .dataframe thead th {\n",
              "        text-align: right;\n",
              "    }\n",
              "</style>\n",
              "<table border=\"1\" class=\"dataframe\">\n",
              "  <thead>\n",
              "    <tr style=\"text-align: right;\">\n",
              "      <th></th>\n",
              "      <th>FrqAnual</th>\n",
              "      <th>CusInic</th>\n",
              "    </tr>\n",
              "  </thead>\n",
              "  <tbody>\n",
              "    <tr>\n",
              "      <th>0</th>\n",
              "      <td>1000</td>\n",
              "      <td>1050</td>\n",
              "    </tr>\n",
              "    <tr>\n",
              "      <th>1</th>\n",
              "      <td>1125</td>\n",
              "      <td>1150</td>\n",
              "    </tr>\n",
              "    <tr>\n",
              "      <th>2</th>\n",
              "      <td>1087</td>\n",
              "      <td>1213</td>\n",
              "    </tr>\n",
              "    <tr>\n",
              "      <th>3</th>\n",
              "      <td>1070</td>\n",
              "      <td>1275</td>\n",
              "    </tr>\n",
              "    <tr>\n",
              "      <th>4</th>\n",
              "      <td>1100</td>\n",
              "      <td>1300</td>\n",
              "    </tr>\n",
              "  </tbody>\n",
              "</table>\n",
              "</div>"
            ],
            "text/plain": [
              "   FrqAnual  CusInic\n",
              "0      1000     1050\n",
              "1      1125     1150\n",
              "2      1087     1213\n",
              "3      1070     1275\n",
              "4      1100     1300"
            ]
          },
          "metadata": {
            "tags": []
          },
          "execution_count": 34
        }
      ]
    },
    {
      "cell_type": "markdown",
      "metadata": {
        "id": "gTOjHajjDOGT"
      },
      "source": [
        "**Definição das variáveis X e Y** \n",
        "\n",
        "- X FrqAnual é a variável independente.\n",
        "- Y CusInic é a variável dependente.\n"
      ]
    },
    {
      "cell_type": "code",
      "metadata": {
        "id": "AlEWTCoxZngR",
        "colab": {
          "base_uri": "https://localhost:8080/"
        },
        "outputId": "3a9dcf51-c2c6-4c02-b47c-2fe29733c8c7"
      },
      "source": [
        "X = base.iloc[:, 0].values\n",
        "y = base.iloc[:, 1].values\n",
        "X"
      ],
      "execution_count": null,
      "outputs": [
        {
          "output_type": "execute_result",
          "data": {
            "text/plain": [
              "array([1000, 1125, 1087, 1070, 1100, 1150, 1250, 1150, 1100, 1350, 1275,\n",
              "       1375, 1175, 1200, 1175, 1300, 1260, 1330, 1325, 1200, 1225, 1090,\n",
              "       1075, 1080, 1080, 1180, 1225, 1175, 1250, 1250,  750, 1125,  700,\n",
              "        900,  900,  850])"
            ]
          },
          "metadata": {
            "tags": []
          },
          "execution_count": 35
        }
      ]
    },
    {
      "cell_type": "markdown",
      "metadata": {
        "id": "w0zOps0YDYex"
      },
      "source": [
        "**Calculando as correções**"
      ]
    },
    {
      "cell_type": "code",
      "metadata": {
        "id": "2BucdKTUZrBF",
        "colab": {
          "base_uri": "https://localhost:8080/"
        },
        "outputId": "1111e883-d07d-42e2-f7f4-98f88e94a902"
      },
      "source": [
        "correlacao = np.corrcoef(X, y)\n",
        "correlacao"
      ],
      "execution_count": null,
      "outputs": [
        {
          "output_type": "execute_result",
          "data": {
            "text/plain": [
              "array([[1.        , 0.47700725],\n",
              "       [0.47700725, 1.        ]])"
            ]
          },
          "metadata": {
            "tags": []
          },
          "execution_count": 36
        }
      ]
    },
    {
      "cell_type": "markdown",
      "metadata": {
        "id": "QKiLvFFqDerA"
      },
      "source": [
        "1. Colocando em formato matriz.\n",
        "2. Criando o modelo.\n",
        "3. Treinando o modelo."
      ]
    },
    {
      "cell_type": "code",
      "metadata": {
        "id": "HJQNTIXLZsdi",
        "colab": {
          "base_uri": "https://localhost:8080/"
        },
        "outputId": "1697a151-1fcc-4c94-d2bc-a2b58ec2dc1f"
      },
      "source": [
        "X = X.reshape(-1, 1) \n",
        "modelo = LinearRegression()\n",
        "modelo.fit(X, y)"
      ],
      "execution_count": null,
      "outputs": [
        {
          "output_type": "execute_result",
          "data": {
            "text/plain": [
              "LinearRegression(copy_X=True, fit_intercept=True, n_jobs=None, normalize=False)"
            ]
          },
          "metadata": {
            "tags": []
          },
          "execution_count": 37
        }
      ]
    },
    {
      "cell_type": "markdown",
      "metadata": {
        "id": "fQ3BRX-fDnTB"
      },
      "source": [
        "**Gerando o gráfico com os pontos reais e as previsões**"
      ]
    },
    {
      "cell_type": "code",
      "metadata": {
        "id": "X7gYNpfeZt9A",
        "colab": {
          "base_uri": "https://localhost:8080/",
          "height": 265
        },
        "outputId": "04ced03c-a378-40fb-d49a-5aa49cae3de1"
      },
      "source": [
        "plt.scatter(X, y)\n",
        "plt.plot(X, modelo.predict(X), color = 'red');"
      ],
      "execution_count": null,
      "outputs": [
        {
          "output_type": "display_data",
          "data": {
            "image/png": "[encoded data removed]",
            "text/plain": [
              "<Figure size 432x288 with 1 Axes>"
            ]
          },
          "metadata": {
            "tags": [],
            "needs_background": "light"
          }
        }
      ]
    },
    {
      "cell_type": "markdown",
      "metadata": {
        "id": "ZX4QMuDWDtvL"
      },
      "source": [
        "**Valor anual quando com 1.300**"
      ]
    },
    {
      "cell_type": "code",
      "metadata": {
        "id": "6h8oHasgZwGy",
        "colab": {
          "base_uri": "https://localhost:8080/"
        },
        "outputId": "b520e9b5-d1af-4a05-8708-44ea88fad146"
      },
      "source": [
        "valr =  1300\n",
        "modelo.predict([[valr]])"
      ],
      "execution_count": null,
      "outputs": [
        {
          "output_type": "execute_result",
          "data": {
            "text/plain": [
              "array([1352.70953897])"
            ]
          },
          "metadata": {
            "tags": []
          },
          "execution_count": 39
        }
      ]
    },
    {
      "cell_type": "markdown",
      "metadata": {
        "id": "wlevUcMdZyl3"
      },
      "source": [
        "# Regressão Logística\n",
        "\n",
        "- Não retorna um valor contínuo, mas sim um valor lógico ou binário (sim ou não ou 0 ou 1 ou Verdadeiro ou Falso)\n",
        "\n",
        "- A função Sigmode vai separar os dados em Sim e Não.\n",
        "![img](https://upload.wikimedia.org/wikipedia/commons/thumb/8/88/Logistic-curve.svg/1200px-Logistic-curve.svg.png)\n",
        "  - Veja que até certo ponto ele é 0, quando passa do meio passa a ser 1.\n",
        "  - Se fosse em um sistema \"sim-não\", seria não até 0.5 e sim após isso, fazendo uma transição entre os estados.\n",
        "    - Explicação genérica.\n",
        "\n",
        "- A função sigmoide faz essa divisão de forma suavizada.\n",
        "\n",
        "- A **Regressão Logística** é similar à Regressão Linear, porém a variável de resposta é binária: Sucesso ou Fracasso.\n",
        "  - 1: Sucesso.\n",
        "  - 0: Fracasso.\n",
        "-Ambas podem ser apresentadas via probabilidades\n",
        "\n",
        "- Também pode ser **Simples** ou **Múltipla**.\n",
        "\n",
        "### Fórmulas\n",
        "\n",
        "- Regressão Linear\n",
        "  \n",
        "$$\n",
        "y = b_0 + b_1 * x\n",
        "$$\n",
        "\n",
        "<br/>\n",
        "\n",
        "- Função Sigmoide\n",
        "  \n",
        "$$\n",
        "f(x) = \\frac {1}{1 + e^{-x}}\n",
        "$$\n",
        "\n",
        "*Também utilizada como função de ativação em Machine Learning*\n",
        "\n",
        "<br/>\n",
        "\n",
        "- Regressão Logística\n",
        "\n",
        "$$\n",
        "In (\\frac{p}{1 - p}) = b_0 + b_1 * x\n",
        "$$\n",
        "\n",
        "onde:\n",
        "  - *p*: Probabilidade de ocorrer o evento.\n",
        "  - *(1-p)*: Probabilidade de não ocorrer o evento.\n",
        "  - *$\\frac{p}{1-p}$*: A razão de probabilidades.\n",
        "  - *X_n*: As variáveis independentes.\n",
        "  - *b_n*: Os coeficientes estimados.\n"
      ]
    },
    {
      "cell_type": "markdown",
      "metadata": {
        "id": "mnVBZdvTEC61"
      },
      "source": [
        "**Importando as bibliotecas**"
      ]
    },
    {
      "cell_type": "code",
      "metadata": {
        "id": "2PrS-9ljZxv-"
      },
      "source": [
        "import pandas as pd\n",
        "import matplotlib.pyplot as plt\n",
        "import numpy as np\n",
        "from sklearn.linear_model import LogisticRegression"
      ],
      "execution_count": null,
      "outputs": []
    },
    {
      "cell_type": "markdown",
      "metadata": {
        "id": "o5QgRKwnEHHP"
      },
      "source": [
        "1. Carregamento da base de dados.\n",
        "2. Visualização de gráfico com os pontos.\n",
        "3. Visualização de estatísticas."
      ]
    },
    {
      "cell_type": "code",
      "metadata": {
        "id": "FVMCXCWcZ2QI",
        "colab": {
          "base_uri": "https://localhost:8080/",
          "height": 548
        },
        "outputId": "76f94a15-3682-47ce-e1f4-956d9853df49"
      },
      "source": [
        "base = pd.read_csv('https://raw.githubusercontent.com/amadords/data/main/Eleicao.csv', sep = ';')\n",
        "plt.scatter(base.DESPESAS, base.SITUACAO)\n",
        "base.describe()"
      ],
      "execution_count": null,
      "outputs": [
        {
          "output_type": "execute_result",
          "data": {
            "text/html": [
              "<div>\n",
              "<style scoped>\n",
              "    .dataframe tbody tr th:only-of-type {\n",
              "        vertical-align: middle;\n",
              "    }\n",
              "\n",
              "    .dataframe tbody tr th {\n",
              "        vertical-align: top;\n",
              "    }\n",
              "\n",
              "    .dataframe thead th {\n",
              "        text-align: right;\n",
              "    }\n",
              "</style>\n",
              "<table border=\"1\" class=\"dataframe\">\n",
              "  <thead>\n",
              "    <tr style=\"text-align: right;\">\n",
              "      <th></th>\n",
              "      <th>SITUACAO</th>\n",
              "      <th>DESPESAS</th>\n",
              "    </tr>\n",
              "  </thead>\n",
              "  <tbody>\n",
              "    <tr>\n",
              "      <th>count</th>\n",
              "      <td>47.000000</td>\n",
              "      <td>47.000000</td>\n",
              "    </tr>\n",
              "    <tr>\n",
              "      <th>mean</th>\n",
              "      <td>0.510638</td>\n",
              "      <td>1085.744681</td>\n",
              "    </tr>\n",
              "    <tr>\n",
              "      <th>std</th>\n",
              "      <td>0.505291</td>\n",
              "      <td>870.968338</td>\n",
              "    </tr>\n",
              "    <tr>\n",
              "      <th>min</th>\n",
              "      <td>0.000000</td>\n",
              "      <td>10.000000</td>\n",
              "    </tr>\n",
              "    <tr>\n",
              "      <th>25%</th>\n",
              "      <td>0.000000</td>\n",
              "      <td>300.000000</td>\n",
              "    </tr>\n",
              "    <tr>\n",
              "      <th>50%</th>\n",
              "      <td>1.000000</td>\n",
              "      <td>800.000000</td>\n",
              "    </tr>\n",
              "    <tr>\n",
              "      <th>75%</th>\n",
              "      <td>1.000000</td>\n",
              "      <td>1700.000000</td>\n",
              "    </tr>\n",
              "    <tr>\n",
              "      <th>max</th>\n",
              "      <td>1.000000</td>\n",
              "      <td>3300.000000</td>\n",
              "    </tr>\n",
              "  </tbody>\n",
              "</table>\n",
              "</div>"
            ],
            "text/plain": [
              "        SITUACAO     DESPESAS\n",
              "count  47.000000    47.000000\n",
              "mean    0.510638  1085.744681\n",
              "std     0.505291   870.968338\n",
              "min     0.000000    10.000000\n",
              "25%     0.000000   300.000000\n",
              "50%     1.000000   800.000000\n",
              "75%     1.000000  1700.000000\n",
              "max     1.000000  3300.000000"
            ]
          },
          "metadata": {
            "tags": []
          },
          "execution_count": 41
        },
        {
          "output_type": "display_data",
          "data": {
            "image/png": "[encoded data removed]",
            "text/plain": [
              "<Figure size 432x288 with 1 Axes>"
            ]
          },
          "metadata": {
            "tags": [],
            "needs_background": "light"
          }
        }
      ]
    },
    {
      "cell_type": "markdown",
      "metadata": {
        "id": "z7NjQev1EUVp"
      },
      "source": [
        "**Visualização do coeficiente de correlação entre o atributo \"despesas\" e \"situação\"**"
      ]
    },
    {
      "cell_type": "code",
      "metadata": {
        "id": "PbDS0epAZ3aR",
        "colab": {
          "base_uri": "https://localhost:8080/"
        },
        "outputId": "b2d88d7d-84d9-4364-ff86-1ac88847458e"
      },
      "source": [
        "np.corrcoef(base.DESPESAS, base.SITUACAO)"
      ],
      "execution_count": null,
      "outputs": [
        {
          "output_type": "execute_result",
          "data": {
            "text/plain": [
              "array([[1.        , 0.81218717],\n",
              "       [0.81218717, 1.        ]])"
            ]
          },
          "metadata": {
            "tags": []
          },
          "execution_count": 42
        }
      ]
    },
    {
      "cell_type": "markdown",
      "metadata": {
        "id": "xG5N2UYuEc8b"
      },
      "source": [
        "1. Criando as variávies X e y (variável independente e variável dependente).\n",
        "2. Transformando X para o formato de matriz adicionando um novo eixo (newaxis)."
      ]
    },
    {
      "cell_type": "code",
      "metadata": {
        "id": "p2eLgSx2Z4ui"
      },
      "source": [
        "X = base.iloc[:, 2].values\n",
        "X = X[:, np.newaxis]\n",
        "y = base.iloc[:, 1].values"
      ],
      "execution_count": null,
      "outputs": []
    },
    {
      "cell_type": "markdown",
      "metadata": {
        "id": "Qtgq59auEjNU"
      },
      "source": [
        "1. Criando o modelo.\n",
        "2. Treinando o modelo.\n",
        "3. Visualizando os coeficientes."
      ]
    },
    {
      "cell_type": "code",
      "metadata": {
        "id": "sSWLBSa4Z5up",
        "colab": {
          "base_uri": "https://localhost:8080/"
        },
        "outputId": "85926483-4dc7-4a50-b367-d339443486e6"
      },
      "source": [
        "modelo = LogisticRegression()\n",
        "modelo.fit(X, y)\n",
        "modelo.coef_"
      ],
      "execution_count": null,
      "outputs": [
        {
          "output_type": "execute_result",
          "data": {
            "text/plain": [
              "array([[0.00498364]])"
            ]
          },
          "metadata": {
            "tags": []
          },
          "execution_count": 44
        }
      ]
    },
    {
      "cell_type": "code",
      "metadata": {
        "id": "vIuKqZ8sZ67M",
        "colab": {
          "base_uri": "https://localhost:8080/"
        },
        "outputId": "0dfa0629-7913-4b84-cfc2-820903191f3d"
      },
      "source": [
        "modelo.intercept_"
      ],
      "execution_count": null,
      "outputs": [
        {
          "output_type": "execute_result",
          "data": {
            "text/plain": [
              "array([-4.60287217])"
            ]
          },
          "metadata": {
            "tags": []
          },
          "execution_count": 45
        }
      ]
    },
    {
      "cell_type": "code",
      "metadata": {
        "id": "mK4uYim0Z78t",
        "colab": {
          "base_uri": "https://localhost:8080/",
          "height": 265
        },
        "outputId": "d8b3faa2-0aba-4c33-cdae-b1d6a206eec4"
      },
      "source": [
        "plt.scatter(X, y)\n",
        "# Geração de novos dados para gerar a função sigmoide\n",
        "X_teste = np.linspace(10, 3000, 100)\n",
        "# Implementação da função sigmoide\n",
        "def model(x):\n",
        "    return 1 / (1 + np.exp(-x))\n",
        "# Geração de previsões (variável r) e visualização dos resultados\n",
        "r = model(X_teste * modelo.coef_ + modelo.intercept_).ravel()\n",
        "plt.plot(X_teste, r, color = 'red');"
      ],
      "execution_count": null,
      "outputs": [
        {
          "output_type": "display_data",
          "data": {
            "image/png": "[encoded data removed]",
            "text/plain": [
              "<Figure size 432x288 with 1 Axes>"
            ]
          },
          "metadata": {
            "tags": [],
            "needs_background": "light"
          }
        }
      ]
    },
    {
      "cell_type": "markdown",
      "metadata": {
        "id": "E9Bu1BRlFExc"
      },
      "source": [
        "**Carregando uma nova base de dados**\n",
        "\n",
        "Fazendo os demais processos."
      ]
    },
    {
      "cell_type": "code",
      "metadata": {
        "id": "1cCCgSgeZ9NQ"
      },
      "source": [
        "base_previsoes = pd.read_csv('https://raw.githubusercontent.com/amadords/data/main/NovosCandidatos.csv', sep = ';')\n",
        "# Mudança dos dados para formato de matriz\n",
        "despesas = base_previsoes.iloc[:, 1].values\n",
        "despesas = despesas.reshape(-1, 1)\n",
        "# Previsões e geração de nova base de dados com os valores originais e as previsões\n",
        "previsoes_teste = modelo.predict(despesas)\n",
        "base_previsoes = np.column_stack((base_previsoes, previsoes_teste))"
      ],
      "execution_count": null,
      "outputs": []
    },
    {
      "cell_type": "code",
      "metadata": {
        "id": "ZZVmkTYYZ_7C",
        "colab": {
          "base_uri": "https://localhost:8080/"
        },
        "outputId": "e99eb279-a477-4b1a-f73a-3a366d2f4698"
      },
      "source": [
        "base_previsoes"
      ],
      "execution_count": null,
      "outputs": [
        {
          "output_type": "execute_result",
          "data": {
            "text/plain": [
              "array([['A', 0, 0],\n",
              "       ['B', 10, 0],\n",
              "       ['C', 200, 0],\n",
              "       ['D', 500, 0],\n",
              "       ['E', 900, 0],\n",
              "       ['F', 1500, 1],\n",
              "       ['G', 3000, 1]], dtype=object)"
            ]
          },
          "metadata": {
            "tags": []
          },
          "execution_count": 48
        }
      ]
    },
    {
      "cell_type": "markdown",
      "metadata": {
        "id": "64PZHHPj7bYK"
      },
      "source": [
        "# Obrigado!\n",
        "\n",
        "Obrigado por ter disponibilizado um pouco do seu tempo e atenção aqui. Espero que, de alguma forma, tenha sido útil para seu crescimento. Se houver qualquer dúvida ou sugestão, não hesite em entrar em contato no [LinkedIn](https://www.linkedin.com/in/daniel-sousa-amador) e verificar meus outros projetos no [GitHub](https://github.com/amadords).\n",
        "\n",
        "\n",
        "[![LinkedIn](https://img.shields.io/badge/LinkedIn-DanielSousaAmador-cyan.svg)](https://www.linkedin.com/in/daniel-sousa-amador)\n",
        "[![GitHub](https://img.shields.io/badge/GitHub-amadords-darkblue.svg)](https://github.com/amadords)\n",
        "[![Medium](https://img.shields.io/badge/Medium-DanielSousaAmador-white.svg)](https://daniel-s-amador.medium.com/)\n",
        "\n",
        "\n",
        "<center><img width=\"90%\" src=\"https://raw.githubusercontent.com/danielamador12/Portfolio/master/github.png\"></center>"
      ]
    },
    {
      "cell_type": "markdown",
      "metadata": {
        "id": "F0O14UtiJe9Y"
      },
      "source": [
        "Material baseado nas aulas do [Professor Fernando Amaral](https://datascientist.com.br/) e no livro [Estatística Prática para Cientista de Dados](https://www.altabooks.com.br/produto/estatistica-pratica-para-cientistas-de-dados//)."
      ]
    }
  ]
}