{
  "nbformat": 4,
  "nbformat_minor": 0,
  "metadata": {
    "colab": {
      "name": "Estatística 2  (Estatística Descritiva)",
      "provenance": [],
      "collapsed_sections": [],
      "authorship_tag": "ABX9TyPQq7KtuakxFNXjdxS62G0H",
      "include_colab_link": true
    },
    "kernelspec": {
      "name": "python3",
      "display_name": "Python 3"
    }
  },
  "cells": [
    {
      "cell_type": "markdown",
      "metadata": {
        "id": "view-in-github",
        "colab_type": "text"
      },
      "source": [
        "<a href=\"https://colab.research.google.com/github/amadords/Projetos-Publicos/blob/master/Estat%C3%ADstica_2_(Estat%C3%ADstica_Descritiva).ipynb\" target=\"_parent\"><img src=\"https://colab.research.google.com/assets/colab-badge.svg\" alt=\"Open In Colab\"/></a>"
      ]
    },
    {
      "cell_type": "markdown",
      "metadata": {
        "id": "rZWs3xdUR8Uw"
      },
      "source": [
        "# **Estatística Descritiva**\n",
        "---\n",
        "\n",
        "\n",
        "[![LinkedIn](https://img.shields.io/badge/LinkedIn-DanielSousaAmador-cyan.svg)](https://www.linkedin.com/in/daniel-sousa-amador)\n",
        "[![GitHub](https://img.shields.io/badge/GitHub-amadords-darkblue.svg)](https://github.com/amadords)\n",
        "[![Medium](https://img.shields.io/badge/Medium-DanielSousaAmador-white.svg)](https://daniel-s-amador.medium.com/)\n",
        "\n",
        "\n",
        "![img](https://image.freepik.com/vetores-gratis/ilustracao-do-grafico-de-analise-de-dados_53876-18130.jpg)\n",
        "\n",
        "\n",
        "Como já mencionado no [Estatística 1 (Amostragem)](https://bit.ly/3dtw22J), a Estatística Descritiva é uma das grandes áreas da Estatística Clássica e é, sem dúvida, uma das mais importantes na Ciência de Dados.\n",
        "\n",
        "Seu objetivo é, intuitivamente. descrever os dados e trazer *insights* úteis em análises.\n",
        "\n",
        "Trataremos de temas gerais fundamentais como médias, medidas separatrizes e medidas de assimetria.\n",
        "\n",
        "## Checklist\n",
        "\n",
        "- 1. Médias\n",
        "- 2. Medidas Separatrizes\n",
        "- 3. Exemplo usando uma Base de Dados Real\n",
        "- 4. Medidas de Assimetria"
      ]
    },
    {
      "cell_type": "code",
      "metadata": {
        "id": "TLHKn99wSAom"
      },
      "source": [
        "# Importação das bibliotecas: scipy para gerar estatísticas mais detalhadas\n",
        "import numpy as np\n",
        "import matplotlib.pyplot as plt\n",
        "from scipy import stats\n",
        "from scipy.stats.mstats import gmean,hmean\n",
        "from scipy import stats\n",
        "from cycler import cycler"
      ],
      "execution_count": null,
      "outputs": []
    },
    {
      "cell_type": "markdown",
      "metadata": {
        "id": "IrXNUi9t93di"
      },
      "source": [
        "## Iniciando pelos conceitos gerais"
      ]
    },
    {
      "cell_type": "markdown",
      "metadata": {
        "id": "oeLip_TI98wO"
      },
      "source": [
        "**Criando alguns dados**"
      ]
    },
    {
      "cell_type": "code",
      "metadata": {
        "id": "KTbf9prjSCD1"
      },
      "source": [
        "idades = [40, 50, 18, 25, 10, 12, 34, 25, 27, 3, 90]"
      ],
      "execution_count": null,
      "outputs": []
    },
    {
      "cell_type": "markdown",
      "metadata": {
        "id": "Z-kY6fXq-B6V"
      },
      "source": [
        "**Mediana**"
      ]
    },
    {
      "cell_type": "code",
      "metadata": {
        "id": "e87cpCeuSDaU",
        "colab": {
          "base_uri": "https://localhost:8080/"
        },
        "outputId": "2b6abcae-5d50-4db8-f0a4-eeba30c7ea0f"
      },
      "source": [
        "np.median(idades)"
      ],
      "execution_count": null,
      "outputs": [
        {
          "output_type": "execute_result",
          "data": {
            "text/plain": [
              "25.0"
            ]
          },
          "metadata": {
            "tags": []
          },
          "execution_count": 3
        }
      ]
    },
    {
      "cell_type": "markdown",
      "metadata": {
        "id": "U67a59Xz-FGT"
      },
      "source": [
        "**Quartis**"
      ]
    },
    {
      "cell_type": "code",
      "metadata": {
        "id": "RSCGCG60SFAx",
        "colab": {
          "base_uri": "https://localhost:8080/"
        },
        "outputId": "02a0f96e-b083-492e-8bcc-a7b3d75689cc"
      },
      "source": [
        "quartis = np.quantile(idades, [0, 0.25, 0.5, 0.75, 1])\n",
        "quartis"
      ],
      "execution_count": null,
      "outputs": [
        {
          "output_type": "execute_result",
          "data": {
            "text/plain": [
              "array([ 3., 15., 25., 37., 90.])"
            ]
          },
          "metadata": {
            "tags": []
          },
          "execution_count": 4
        }
      ]
    },
    {
      "cell_type": "markdown",
      "metadata": {
        "id": "utqpisgM-Jpr"
      },
      "source": [
        "**Desvio Padrão**\n",
        "\n",
        "ddof = Graus Delta de Liberdade. Por padrão no Numpy, temos n, para termos n-1 é necessário passar esse parâmetro."
      ]
    },
    {
      "cell_type": "code",
      "metadata": {
        "id": "kaxrhMqDSGYn",
        "colab": {
          "base_uri": "https://localhost:8080/"
        },
        "outputId": "08acdeec-fd77-4ad9-a2f8-9c74996a0f2a"
      },
      "source": [
        "np.std(idades, ddof = 1)"
      ],
      "execution_count": null,
      "outputs": [
        {
          "output_type": "execute_result",
          "data": {
            "text/plain": [
              "24.021959650589405"
            ]
          },
          "metadata": {
            "tags": []
          },
          "execution_count": 5
        }
      ]
    },
    {
      "cell_type": "markdown",
      "metadata": {
        "id": "5R7Qo41_-TLg"
      },
      "source": [
        "**Estatísticas mais detalhadas usando a biblioteca scipy**"
      ]
    },
    {
      "cell_type": "code",
      "metadata": {
        "id": "VyO50XPfSHtO",
        "colab": {
          "base_uri": "https://localhost:8080/"
        },
        "outputId": "077b6fb8-0073-49e3-9c2c-85bfe988c521"
      },
      "source": [
        "stats.describe(idades)"
      ],
      "execution_count": null,
      "outputs": [
        {
          "output_type": "execute_result",
          "data": {
            "text/plain": [
              "DescribeResult(nobs=11, minmax=(3, 90), mean=30.363636363636363, variance=577.0545454545455, skewness=1.386471893337156, kurtosis=1.5182414824307422)"
            ]
          },
          "metadata": {
            "tags": []
          },
          "execution_count": 6
        }
      ]
    },
    {
      "cell_type": "markdown",
      "metadata": {
        "id": "ArHlZ76V-ZeB"
      },
      "source": [
        "# 1. Médias"
      ]
    },
    {
      "cell_type": "markdown",
      "metadata": {
        "id": "bb0IavnYjX2v"
      },
      "source": [
        "## Média Aritmética (MA)\n",
        "\n",
        "É a soma de todos os elementos do conjunto, divididos pelo número de elementos que compõe o conjunto.\n",
        "\n",
        "![alt text](https://wikimedia.org/api/rest_v1/media/math/render/svg/c938ca170f8c4a5d2dddecabc5ae1d5eb5f35a2b)"
      ]
    },
    {
      "cell_type": "code",
      "metadata": {
        "id": "Fr7xrEemgGDA",
        "colab": {
          "base_uri": "https://localhost:8080/"
        },
        "outputId": "07c55d0a-b545-4cc7-c82f-bb381e168ee6"
      },
      "source": [
        "np.mean(idades)"
      ],
      "execution_count": null,
      "outputs": [
        {
          "output_type": "execute_result",
          "data": {
            "text/plain": [
              "30.363636363636363"
            ]
          },
          "metadata": {
            "tags": []
          },
          "execution_count": 7
        }
      ]
    },
    {
      "cell_type": "markdown",
      "metadata": {
        "id": "LmK752qAELzO"
      },
      "source": [
        "## Média Geométrica (MP)\n",
        "\n",
        "Igual a média aritmética, porém utilizando pesos."
      ]
    },
    {
      "cell_type": "code",
      "metadata": {
        "id": "ZMkWYUSLD3C3",
        "colab": {
          "base_uri": "https://localhost:8080/"
        },
        "outputId": "f413d602-e6a8-4597-97ea-36178baedd77"
      },
      "source": [
        "np.average(idades, weights=[.25,.75,.25,.75,.20,.70,.25,.75,.20,.70,.80])"
      ],
      "execution_count": null,
      "outputs": [
        {
          "output_type": "execute_result",
          "data": {
            "text/plain": [
              "33.55357142857143"
            ]
          },
          "metadata": {
            "tags": []
          },
          "execution_count": 8
        }
      ]
    },
    {
      "cell_type": "markdown",
      "metadata": {
        "id": "OLZrQ6-VjKAz"
      },
      "source": [
        "## Média Geométrica (MG)\n",
        "\n",
        "É a raíz n-ésima do produto de todos os elementos que compõe o conjunto.\n",
        "\n",
        "![alt text](https://wikimedia.org/api/rest_v1/media/math/render/svg/82fb3d898a5de7ae016b07855c335ce570350410)"
      ]
    },
    {
      "cell_type": "code",
      "metadata": {
        "id": "YITL-f5RjJwp",
        "colab": {
          "base_uri": "https://localhost:8080/"
        },
        "outputId": "2ddc1e29-8691-439e-d628-e033bec61122"
      },
      "source": [
        "gmean(idades)"
      ],
      "execution_count": null,
      "outputs": [
        {
          "output_type": "execute_result",
          "data": {
            "text/plain": [
              "22.273020149608072"
            ]
          },
          "metadata": {
            "tags": []
          },
          "execution_count": 9
        }
      ]
    },
    {
      "cell_type": "markdown",
      "metadata": {
        "id": "Ynjr1ks-kBlA"
      },
      "source": [
        "## Média Harmônica (MH)\n",
        "\n",
        "É o número de elementos, divididos pela soma dos inversos dos elementos que compõem o conjunto.\n",
        "\n",
        "![alt text](https://wikimedia.org/api/rest_v1/media/math/render/svg/5335415727099e38ba27a1775613020dc4b584de)"
      ]
    },
    {
      "cell_type": "code",
      "metadata": {
        "id": "zz3HU0K3jzQw",
        "colab": {
          "base_uri": "https://localhost:8080/"
        },
        "outputId": "f41f9132-7297-4150-98ab-51c5fdef9149"
      },
      "source": [
        "hmean(idades)"
      ],
      "execution_count": null,
      "outputs": [
        {
          "output_type": "execute_result",
          "data": {
            "text/plain": [
              "14.197539543057998"
            ]
          },
          "metadata": {
            "tags": []
          },
          "execution_count": 10
        }
      ]
    },
    {
      "cell_type": "markdown",
      "metadata": {
        "id": "4VfBqrYzpgGS"
      },
      "source": [
        "**Quando usar cada uma das médias?**"
      ]
    },
    {
      "cell_type": "markdown",
      "metadata": {
        "id": "W6HP8JEHAFbn"
      },
      "source": [
        "**Criando funções para exibir resultados**"
      ]
    },
    {
      "cell_type": "code",
      "metadata": {
        "id": "enAZw_dDpHdO"
      },
      "source": [
        "# função para plotar linhas\n",
        "\n",
        "def plot_lines(dados, valor_central):\n",
        "  if valor_central in dados:\n",
        "    posicao_central = dados.index(valor_central)+1\n",
        "  else:\n",
        "    dados.append(valor_central)\n",
        "    dados.sort()\n",
        "    posicao_central = dados.index(valor_central)+1\n",
        "  \n",
        "  posicoes = np.arange(1,len(dados)+1,1)\n",
        "  plt.figure(figsize=(8,6))\n",
        "  plt.plot(posicoes,dados,'o-', color='red',ms=15)\n",
        "  plt.plot(posicao_central, valor_central, 'o-',color='blue',ms=15)\n",
        "  plt.show()"
      ],
      "execution_count": null,
      "outputs": []
    },
    {
      "cell_type": "code",
      "metadata": {
        "id": "b-KvyV21pjec"
      },
      "source": [
        "# função para plotar médias\n",
        "\n",
        "def plot_line_means(dados, mean, gmean,hmean):\n",
        "  posicoes_centrais=[]\n",
        "  y=[]\n",
        "  x = dados\n",
        "  \n",
        "  for m in [mean,gmean,hmean]:\n",
        "    x.append(m)\n",
        "  \n",
        "  x.sort()\n",
        "  for m in [mean,gmean,hmean]:\n",
        "    if m in x:\n",
        "      posicoes_centrais.append(x.index(m)+1)\n",
        "  \n",
        "  print(\"Dados: {}\".format(x))\n",
        "  print(\"Media aritmética: {}, Média Geométrica: {}, Média Harmonica: {}\".format(mean,gmean,hmean))\n",
        "  \n",
        "  y = np.arange(1,len(x)+1,1)\n",
        "  \n",
        "  plt.figure(figsize=(8,6))\n",
        "  plt.rc('axes', prop_cycle=(cycler('color', ['r', 'g', 'b'])))\n",
        "  plt.plot(y,x,'o-', color='black',ms=15)\n",
        "  medias = ['MA','MG','MH'] \n",
        "  i=0\n",
        "  for posicao_central,valor_central in zip(posicoes_centrais,[mean,gmean,hmean]):\n",
        "    plt.plot(posicao_central, valor_central, 'o-',ms=15)\n",
        "    plt.text(x=posicao_central+0.2, y=valor_central+0.2, s=medias[i], alpha=0.7, color='#334f8d')\n",
        "    i+=1\n",
        "\n",
        "  plt.show()"
      ],
      "execution_count": null,
      "outputs": []
    },
    {
      "cell_type": "code",
      "metadata": {
        "id": "sfwsGvaupkga"
      },
      "source": [
        "# função para plotar linhas horizontais\n",
        "\n",
        "def plot_lines_horizontal(dados,valor_central):\n",
        "  plt.figure(figsize=(10,6))\n",
        "  y = 0\n",
        "  plt.hlines(y, min(dados), max(dados))\n",
        "  for n in dados:\n",
        "    if n == valor_central:\n",
        "      plt.plot(n,y, 'o', ms = 15, color='blue')\n",
        "      continue  \n",
        "    plt.plot(n,y, 'o', ms = 15, color = 'red')"
      ],
      "execution_count": null,
      "outputs": []
    },
    {
      "cell_type": "markdown",
      "metadata": {
        "id": "ogFKTO4RppWR"
      },
      "source": [
        "## Considere os cenários\n",
        "\n",
        "Exemplo de dados gerados a partir de uma **operação de adição**, a soma do valor 3 em cada elemento do vetor (relacionamento linear)"
      ]
    },
    {
      "cell_type": "code",
      "metadata": {
        "id": "nrmD1HTtpl7A"
      },
      "source": [
        "dados_linear = [1, 4, 7, 10, 13, 16, 19]"
      ],
      "execution_count": null,
      "outputs": []
    },
    {
      "cell_type": "markdown",
      "metadata": {
        "id": "GMdoJt9Op0NF"
      },
      "source": [
        "Calculando a **média aritmética**"
      ]
    },
    {
      "cell_type": "code",
      "metadata": {
        "id": "8kdjAAPEpxxJ"
      },
      "source": [
        "media = int(np.mean(dados_linear))"
      ],
      "execution_count": null,
      "outputs": []
    },
    {
      "cell_type": "code",
      "metadata": {
        "id": "CobvV73Rp2K8",
        "colab": {
          "base_uri": "https://localhost:8080/"
        },
        "outputId": "6237b5a1-6b7b-454c-b8f9-215e69184db3"
      },
      "source": [
        "print(\"Valor da média aritmética dos dados: {}\".format(media))"
      ],
      "execution_count": null,
      "outputs": [
        {
          "output_type": "stream",
          "text": [
            "Valor da média aritmética dos dados: 10\n"
          ],
          "name": "stdout"
        }
      ]
    },
    {
      "cell_type": "markdown",
      "metadata": {
        "id": "rr1MrB9mp6Cy"
      },
      "source": [
        "**Plotando os dados e seu valor central**"
      ]
    },
    {
      "cell_type": "code",
      "metadata": {
        "id": "T9sN4E8Cp38R",
        "colab": {
          "base_uri": "https://localhost:8080/",
          "height": 374
        },
        "outputId": "976e1192-13c5-4895-d2cd-b46c4e5202cd"
      },
      "source": [
        "plot_lines(dados_linear,media)"
      ],
      "execution_count": null,
      "outputs": [
        {
          "output_type": "display_data",
          "data": {
            "image/png": "[encoded data removed]",
            "text/plain": [
              "<Figure size 576x432 with 1 Axes>"
            ]
          },
          "metadata": {
            "tags": [],
            "needs_background": "light"
          }
        }
      ]
    },
    {
      "cell_type": "code",
      "metadata": {
        "id": "e7vTQDAcp8c7",
        "colab": {
          "base_uri": "https://localhost:8080/",
          "height": 374
        },
        "outputId": "a4ddf705-ae4a-4fc0-8255-b09cfa03254b"
      },
      "source": [
        "plot_lines_horizontal(dados_linear,media)"
      ],
      "execution_count": null,
      "outputs": [
        {
          "output_type": "display_data",
          "data": {
            "image/png": "[encoded data removed]",
            "text/plain": [
              "<Figure size 720x432 with 1 Axes>"
            ]
          },
          "metadata": {
            "tags": [],
            "needs_background": "light"
          }
        }
      ]
    },
    {
      "cell_type": "markdown",
      "metadata": {
        "id": "D7N1YIzZqItd"
      },
      "source": [
        "Exemplo de dados gerados a partir de uma **operação de multiplicação**, a multiplicação de cada elemento pelo valor de 3 (relacionamento exponencial)"
      ]
    },
    {
      "cell_type": "code",
      "metadata": {
        "id": "iv04AlTbqGRW"
      },
      "source": [
        "dados_exponencial = [1, 3, 9, 27, 81, 243, 729]"
      ],
      "execution_count": null,
      "outputs": []
    },
    {
      "cell_type": "markdown",
      "metadata": {
        "id": "daYKINO5qNdE"
      },
      "source": [
        "Calculando a **média aritmética**"
      ]
    },
    {
      "cell_type": "markdown",
      "metadata": {
        "id": "SjFU6uEYqQQ_"
      },
      "source": [
        "(1 + 3 + 9 + 27 + 81 + 243 + 729) ÷ 7 = **156.1**"
      ]
    },
    {
      "cell_type": "code",
      "metadata": {
        "id": "lR8Jja0-qL2C"
      },
      "source": [
        "media = int(np.mean(dados_exponencial))"
      ],
      "execution_count": null,
      "outputs": []
    },
    {
      "cell_type": "code",
      "metadata": {
        "id": "v2mZrOyEqSTF",
        "colab": {
          "base_uri": "https://localhost:8080/"
        },
        "outputId": "e8f6034e-0d87-493f-90f5-e91c2fab8232"
      },
      "source": [
        "print(\"Valor da média aritmética dos dados: {}\".format(media))"
      ],
      "execution_count": null,
      "outputs": [
        {
          "output_type": "stream",
          "text": [
            "Valor da média aritmética dos dados: 156\n"
          ],
          "name": "stdout"
        }
      ]
    },
    {
      "cell_type": "code",
      "metadata": {
        "id": "SQ-vj_M_qcyD",
        "colab": {
          "base_uri": "https://localhost:8080/",
          "height": 374
        },
        "outputId": "1f35e6d1-4642-431f-d97d-2c3bce1d1a4b"
      },
      "source": [
        "plot_lines(dados_exponencial,media)"
      ],
      "execution_count": null,
      "outputs": [
        {
          "output_type": "display_data",
          "data": {
            "image/png": "[encoded data removed]",
            "text/plain": [
              "<Figure size 576x432 with 1 Axes>"
            ]
          },
          "metadata": {
            "tags": [],
            "needs_background": "light"
          }
        }
      ]
    },
    {
      "cell_type": "code",
      "metadata": {
        "id": "F9G3Jb1Pqd0I",
        "colab": {
          "base_uri": "https://localhost:8080/",
          "height": 374
        },
        "outputId": "06143edc-6b4e-4e7e-ec65-bd25566a2e0e"
      },
      "source": [
        "plot_lines_horizontal(dados_exponencial,media)"
      ],
      "execution_count": null,
      "outputs": [
        {
          "output_type": "display_data",
          "data": {
            "image/png": "[encoded data removed]",
            "text/plain": [
              "<Figure size 720x432 with 1 Axes>"
            ]
          },
          "metadata": {
            "tags": [],
            "needs_background": "light"
          }
        }
      ]
    },
    {
      "cell_type": "markdown",
      "metadata": {
        "id": "qmKkswtDqjZu"
      },
      "source": [
        "Considerando agora a aplicação da média geométrica."
      ]
    },
    {
      "cell_type": "markdown",
      "metadata": {
        "id": "SyNRIFUDqmfw"
      },
      "source": [
        "Especificando os mesmos dados com um **relacionamento exponencial**."
      ]
    },
    {
      "cell_type": "code",
      "metadata": {
        "id": "K8kgIioIqfJN"
      },
      "source": [
        "dados_exponencial = [1, 3, 9, 27, 81, 243, 729]"
      ],
      "execution_count": null,
      "outputs": []
    },
    {
      "cell_type": "markdown",
      "metadata": {
        "id": "x7g7Z6y0qpnd"
      },
      "source": [
        "Calculando a **média geométrica**\n",
        "\n",
        "(1 * 3 * 9 * 27 * 81 * 243 * 729) = 10,460,353,203\n",
        "\n",
        "Raiz sétima (7) de **10,460,353,203** = 27"
      ]
    },
    {
      "cell_type": "code",
      "metadata": {
        "id": "WIqQWlrhqoIe"
      },
      "source": [
        "media_geo = int(gmean(dados_exponencial))"
      ],
      "execution_count": null,
      "outputs": []
    },
    {
      "cell_type": "code",
      "metadata": {
        "id": "sevVwFyVqufk",
        "colab": {
          "base_uri": "https://localhost:8080/"
        },
        "outputId": "3104ef60-d460-4830-bd42-d426f0597889"
      },
      "source": [
        "print(\"Valor da média geométrica dos dados: {}\".format(media_geo))"
      ],
      "execution_count": null,
      "outputs": [
        {
          "output_type": "stream",
          "text": [
            "Valor da média geométrica dos dados: 27\n"
          ],
          "name": "stdout"
        }
      ]
    },
    {
      "cell_type": "markdown",
      "metadata": {
        "id": "Rv-Y0FBsqxUk"
      },
      "source": [
        "**Plotando os dados e seu valor central**"
      ]
    },
    {
      "cell_type": "code",
      "metadata": {
        "id": "365pW6YCqvvV",
        "colab": {
          "base_uri": "https://localhost:8080/",
          "height": 374
        },
        "outputId": "ebbf4c3f-a699-4434-de71-09669f8d6aa2"
      },
      "source": [
        "plot_lines(dados_exponencial,media_geo)"
      ],
      "execution_count": null,
      "outputs": [
        {
          "output_type": "display_data",
          "data": {
            "image/png": "[encoded data removed]",
            "text/plain": [
              "<Figure size 576x432 with 1 Axes>"
            ]
          },
          "metadata": {
            "tags": [],
            "needs_background": "light"
          }
        }
      ]
    },
    {
      "cell_type": "code",
      "metadata": {
        "id": "qHKXG7RRqy0n",
        "colab": {
          "base_uri": "https://localhost:8080/",
          "height": 374
        },
        "outputId": "68bf7745-68d5-453f-fc1c-548e7b4fd970"
      },
      "source": [
        "plot_lines_horizontal(dados_exponencial,media_geo)"
      ],
      "execution_count": null,
      "outputs": [
        {
          "output_type": "display_data",
          "data": {
            "image/png": "[encoded data removed]",
            "text/plain": [
              "<Figure size 720x432 with 1 Axes>"
            ]
          },
          "metadata": {
            "tags": [],
            "needs_background": "light"
          }
        }
      ]
    },
    {
      "cell_type": "markdown",
      "metadata": {
        "id": "KFBqVlJTq26L"
      },
      "source": [
        "### Considerações importantes\n",
        "\n",
        "*   A **média aritmética** produz um resultado interessante quando temos um **relacionamento aditivo** entre os números da amostra.\n",
        "*   Este relacionamento é chamado linear pois, ao exibir graficamente os valores tendem a seguir uma linha ascendente ou descendente.\n",
        "*   Já a **média geométrica** é mais apropriada quando temos uma amostra com um **relacionamento multiplicativo** ou exponencial.\n",
        "\n",
        "\n",
        "*   A diferença entre as médias é que enquanto a média aritmética faz a **soma** de todos os elementos e depois a **divisão**, a média geométrica atua com a **multiplicação** entre os elementos e depois reescala através da **raiz** os valores para a mesma unidade da amostra.\n",
        "\n",
        "\n",
        "\n",
        "\n",
        "\n",
        "\n"
      ]
    },
    {
      "cell_type": "markdown",
      "metadata": {
        "id": "SPx4bQkuq5ro"
      },
      "source": [
        "## Comparando as médidas em um cenário real.\n",
        "\n",
        "![img](https://upload.wikimedia.org/wikipedia/commons/thumb/2/2c/Hard_Rock_Cafe_Logo.svg/1200px-Hard_Rock_Cafe_Logo.svg.png)\n",
        "\n",
        "**Verificando os valores de avaliações de dois cafés:**\n",
        "\n",
        "* Hard Rock Café Gramado\n",
        "* Hard Rock Café Curitiba"
      ]
    },
    {
      "cell_type": "markdown",
      "metadata": {
        "id": "1FUCaQziq8bm"
      },
      "source": [
        "**Hard Rock Café Gramado**\n",
        "*   Avaliações no TripAdvisor: 3,5\n",
        "*   Índice de Satisfação dos Clientes: 89%\n",
        "\n",
        "**Hard Rock Café Curitiba**\n",
        "*   Avaliações no TripAdvisor: 4,5\n",
        "*   Índice de Satisfação dos Clientes: 75%\n"
      ]
    },
    {
      "cell_type": "markdown",
      "metadata": {
        "id": "io1gT05Tq-2I"
      },
      "source": [
        "Aplicação de verificar o estabelecimento com a melhor avaliação em diferentes escalas."
      ]
    },
    {
      "cell_type": "markdown",
      "metadata": {
        "id": "Tyij-jKmq_5y"
      },
      "source": [
        "Calculando a **média aritmética**"
      ]
    },
    {
      "cell_type": "code",
      "metadata": {
        "id": "GW1u5xA-rDZQ"
      },
      "source": [
        "aval_gramado,aval_curitiba = 3.5, 4.5\n",
        "indice_gramado,indice_curitiba = 89, 75"
      ],
      "execution_count": null,
      "outputs": []
    },
    {
      "cell_type": "code",
      "metadata": {
        "id": "MUm3PHaqq0dR",
        "colab": {
          "base_uri": "https://localhost:8080/"
        },
        "outputId": "659453ab-215b-434d-ef19-5d1562e1bc90"
      },
      "source": [
        "print(\"Média para Gramado: {}\".format(np.mean([aval_gramado,indice_gramado])))\n",
        "print(\"Média para Curitiba: {}\".format(np.mean([aval_curitiba,indice_curitiba])))"
      ],
      "execution_count": null,
      "outputs": [
        {
          "output_type": "stream",
          "text": [
            "Média para Gramado: 46.25\n",
            "Média para Curitiba: 39.75\n"
          ],
          "name": "stdout"
        }
      ]
    },
    {
      "cell_type": "markdown",
      "metadata": {
        "id": "oskU4E4dCWSv"
      },
      "source": [
        "**Reescalando** os dados"
      ]
    },
    {
      "cell_type": "markdown",
      "metadata": {
        "id": "wpKAuJWfrGXV"
      },
      "source": [
        "**Conclusão**\n",
        "\n",
        "Considerando a média aritmética o Hard Rock Café de Gramado é o estabelecimento melhor avaliado."
      ]
    },
    {
      "cell_type": "markdown",
      "metadata": {
        "id": "HmIspL2WrPWQ"
      },
      "source": [
        "Calculando a **média aritmética**\n",
        "\n",
        "Reescalando os dados"
      ]
    },
    {
      "cell_type": "code",
      "metadata": {
        "id": "4cO1lOdYC0BO",
        "colab": {
          "base_uri": "https://localhost:8080/"
        },
        "outputId": "ad205fe9-c8c5-40c3-c4e9-6a1699baa7e5"
      },
      "source": [
        "print(\"Valores reescalados: {},{}\".format(aval_gramado*20,aval_curitiba*20))"
      ],
      "execution_count": null,
      "outputs": [
        {
          "output_type": "stream",
          "text": [
            "Valores reescalados: 70.0,90.0\n"
          ],
          "name": "stdout"
        }
      ]
    },
    {
      "cell_type": "code",
      "metadata": {
        "id": "C4SYRnFzrNgn",
        "colab": {
          "base_uri": "https://localhost:8080/"
        },
        "outputId": "eed05fe9-ebb2-4add-f9e6-4b25eb42817d"
      },
      "source": [
        "print(\"Média para Gramado: {}\".format(np.mean([aval_gramado*20,indice_gramado])))\n",
        "print(\"Média para Curitiba: {}\".format(np.mean([aval_curitiba*20,indice_curitiba])))"
      ],
      "execution_count": null,
      "outputs": [
        {
          "output_type": "stream",
          "text": [
            "Média para Gramado: 79.5\n",
            "Média para Curitiba: 82.5\n"
          ],
          "name": "stdout"
        }
      ]
    },
    {
      "cell_type": "markdown",
      "metadata": {
        "id": "1aVG8mAirTKt"
      },
      "source": [
        "Considerando o mesmo cenário agora utilizando a **média geométrica**."
      ]
    },
    {
      "cell_type": "code",
      "metadata": {
        "id": "pk0vNChjrT3X",
        "colab": {
          "base_uri": "https://localhost:8080/"
        },
        "outputId": "2ebeed8f-0b54-450c-a3b6-3c59944cd96c"
      },
      "source": [
        "print(\"Média Geométrica para Gramado: {}\".format(gmean([aval_gramado,indice_gramado])))\n",
        "print(\"Média Geométrica para Curitiba: {}\".format(gmean([aval_curitiba,indice_curitiba])))"
      ],
      "execution_count": null,
      "outputs": [
        {
          "output_type": "stream",
          "text": [
            "Média Geométrica para Gramado: 17.64936259472279\n",
            "Média Geométrica para Curitiba: 18.371173070873837\n"
          ],
          "name": "stdout"
        }
      ]
    },
    {
      "cell_type": "markdown",
      "metadata": {
        "id": "WhlQGW1jrdYQ"
      },
      "source": [
        "## Considerações\n",
        "*   Os valores alterados para a mesma escala nos deram **resultados diferentes** mais próximos da realidade.\n",
        "*   Utilizando a média geométrica já nos entrega o resultado \"correto\" pois considera o **relacionamento multiplicativo** entre os dados da amostra.\n",
        "*   É importante notar que aplicando a média geométrica para os dados em **diferentes escalas** não irá retornar os valores na mesma unidade da amostra.\n",
        "\n",
        "\n"
      ]
    },
    {
      "cell_type": "markdown",
      "metadata": {
        "id": "iBQE17R-rg0J"
      },
      "source": [
        "### Média harmônica.\n",
        "\n",
        "![img](https://image.freepik.com/fotos-gratis/mao-do-homem-reabastecimento-de-carro-no-posto-de-gasolina_23-2147841949.jpg)\n",
        "\n",
        "\n",
        "Percurso Total da Viagem 10km\n",
        "*   CAMINHO DE IDA = 30km/h\n",
        "*   CAMINHO DE VOLTA = 10km/h\n",
        "\n",
        "**Qual a velocidade média da viagem?**\n",
        "\n",
        "\n",
        "Usando a **média aritmética**"
      ]
    },
    {
      "cell_type": "code",
      "metadata": {
        "id": "oUicFVcCrcFg",
        "colab": {
          "base_uri": "https://localhost:8080/"
        },
        "outputId": "6c317031-e51b-421c-9d84-e161205a50c1"
      },
      "source": [
        "np.mean([30,10])"
      ],
      "execution_count": null,
      "outputs": [
        {
          "output_type": "execute_result",
          "data": {
            "text/plain": [
              "20.0"
            ]
          },
          "metadata": {
            "tags": []
          },
          "execution_count": 34
        }
      ]
    },
    {
      "cell_type": "markdown",
      "metadata": {
        "id": "CF8DPUY8rsUQ"
      },
      "source": [
        "**VIAGEM DE IDA - 5km à 30km/h**\n",
        "*   30 km por 60 minutos = 1 km a cada 2 minutos = 1/2 km por minuto.\n",
        "*   5km a 1/2 km por minuto = 10 minutos.\n"
      ]
    },
    {
      "cell_type": "markdown",
      "metadata": {
        "id": "xE5dOuGzruvS"
      },
      "source": [
        "**VIAGEM DE VOLTA - 5km à 10km/h**\n",
        "*   10 km por 60 minutos = 1 km a cada 6 minutos = 1/6 km por minuto.\n",
        "*   5 km a 1/6 km por minuto = 30 minutos."
      ]
    },
    {
      "cell_type": "markdown",
      "metadata": {
        "id": "bPPmTrl5rxUs"
      },
      "source": [
        "Tempo total da viagem = 40 minutos"
      ]
    },
    {
      "cell_type": "markdown",
      "metadata": {
        "id": "JTKJX9HzrzyV"
      },
      "source": [
        "Proporção da viagem de ida em relação ao tempo total da viagem."
      ]
    },
    {
      "cell_type": "code",
      "metadata": {
        "id": "I_RZPAnxrquu",
        "colab": {
          "base_uri": "https://localhost:8080/"
        },
        "outputId": "e24e38d6-29c7-45dd-a4dc-deebe5f2640e"
      },
      "source": [
        "print(\"Proporção de tempo da viagem de ida em relação ao tempo total da viagem: {}%\".format((10/40)*100))"
      ],
      "execution_count": null,
      "outputs": [
        {
          "output_type": "stream",
          "text": [
            "Proporção de tempo da viagem de ida em relação ao tempo total da viagem: 25.0%\n"
          ],
          "name": "stdout"
        }
      ]
    },
    {
      "cell_type": "code",
      "metadata": {
        "id": "m_JQ0JTlr1za",
        "colab": {
          "base_uri": "https://localhost:8080/"
        },
        "outputId": "b5bfcbb9-2331-4ed9-d3e4-cea0ac88286a"
      },
      "source": [
        "print(\"Proporção de tempo da viagem de volta em relação ao tempo total da viagem: {}%\".format((30/40)*100))"
      ],
      "execution_count": null,
      "outputs": [
        {
          "output_type": "stream",
          "text": [
            "Proporção de tempo da viagem de volta em relação ao tempo total da viagem: 75.0%\n"
          ],
          "name": "stdout"
        }
      ]
    },
    {
      "cell_type": "markdown",
      "metadata": {
        "id": "ESp2zLarr44a"
      },
      "source": [
        "Calculando a **Média Aritmética Ponderada**"
      ]
    },
    {
      "cell_type": "code",
      "metadata": {
        "id": "8__N1y1Tr7bA",
        "colab": {
          "base_uri": "https://localhost:8080/"
        },
        "outputId": "1b4497fe-5d5d-4316-a072-57abdea8e13b"
      },
      "source": [
        "np.average([30,10], weights =[.25,.75])"
      ],
      "execution_count": null,
      "outputs": [
        {
          "output_type": "execute_result",
          "data": {
            "text/plain": [
              "15.0"
            ]
          },
          "metadata": {
            "tags": []
          },
          "execution_count": 37
        }
      ]
    },
    {
      "cell_type": "markdown",
      "metadata": {
        "id": "zD6ZlrGLEfKo"
      },
      "source": [
        "Calculando a **Média Harmônica**"
      ]
    },
    {
      "cell_type": "code",
      "metadata": {
        "id": "M7o6_6cTr27I",
        "colab": {
          "base_uri": "https://localhost:8080/"
        },
        "outputId": "782323b8-a33d-463c-ed2d-11f49fedee0e"
      },
      "source": [
        "hmean([30,10])"
      ],
      "execution_count": null,
      "outputs": [
        {
          "output_type": "execute_result",
          "data": {
            "text/plain": [
              "15.0"
            ]
          },
          "metadata": {
            "tags": []
          },
          "execution_count": 38
        }
      ]
    },
    {
      "cell_type": "markdown",
      "metadata": {
        "id": "aSYSETHbHQrI"
      },
      "source": [
        "É perceptível que a Média Harmônica nos retornará o valor correto para esse tipo de caso."
      ]
    },
    {
      "cell_type": "markdown",
      "metadata": {
        "id": "vPfBgmqcr-j-"
      },
      "source": [
        "### As médias seguem um relacionamento ordinal: \n",
        "\n",
        "**média harmônica < média geométrica < a média aritmética**."
      ]
    },
    {
      "cell_type": "markdown",
      "metadata": {
        "id": "fUUobktdFUkI"
      },
      "source": [
        "**Dados de Teste**"
      ]
    },
    {
      "cell_type": "code",
      "metadata": {
        "id": "sufoW84yr9AS"
      },
      "source": [
        "dados = [1, 4, 7, 10, 13, 16, 19]"
      ],
      "execution_count": null,
      "outputs": []
    },
    {
      "cell_type": "markdown",
      "metadata": {
        "id": "RdiN1Pv9FXl8"
      },
      "source": [
        "**Criando as variáveis**"
      ]
    },
    {
      "cell_type": "code",
      "metadata": {
        "id": "ezxbNdOYsDz3"
      },
      "source": [
        "media_aritmetica,media_geometrica,media_harmonica = round(np.mean(dados),2),round(gmean(dados),2),round(hmean(dados),2)"
      ],
      "execution_count": null,
      "outputs": []
    },
    {
      "cell_type": "markdown",
      "metadata": {
        "id": "s3zYgDgoFaQh"
      },
      "source": [
        "**Visualizando as médias**"
      ]
    },
    {
      "cell_type": "code",
      "metadata": {
        "id": "FTNtCAtgsEyZ",
        "colab": {
          "base_uri": "https://localhost:8080/"
        },
        "outputId": "7ced59dc-0a83-47fb-bdbe-8f2992545c59"
      },
      "source": [
        "media_aritmetica,media_geometrica,media_harmonica"
      ],
      "execution_count": null,
      "outputs": [
        {
          "output_type": "execute_result",
          "data": {
            "text/plain": [
              "(10.0, 7.3, 4.15)"
            ]
          },
          "metadata": {
            "tags": []
          },
          "execution_count": 41
        }
      ]
    },
    {
      "cell_type": "markdown",
      "metadata": {
        "id": "Sn6K1QnnsHDx"
      },
      "source": [
        "**Visualizando graficamente**"
      ]
    },
    {
      "cell_type": "code",
      "metadata": {
        "id": "fTy774UXsFum",
        "colab": {
          "base_uri": "https://localhost:8080/",
          "height": 409
        },
        "outputId": "c6b286fd-b38a-4d55-8684-2fdcce48db50"
      },
      "source": [
        "plot_line_means(dados,media_aritmetica,media_geometrica,media_harmonica)"
      ],
      "execution_count": null,
      "outputs": [
        {
          "output_type": "stream",
          "text": [
            "Dados: [1, 4, 4.15, 7, 7.3, 10, 10.0, 13, 16, 19]\n",
            "Media aritmética: 10.0, Média Geométrica: 7.3, Média Harmonica: 4.15\n"
          ],
          "name": "stdout"
        },
        {
          "output_type": "display_data",
          "data": {
            "image/png": "[encoded data removed]",
            "text/plain": [
              "<Figure size 576x432 with 1 Axes>"
            ]
          },
          "metadata": {
            "tags": [],
            "needs_background": "light"
          }
        }
      ]
    },
    {
      "cell_type": "markdown",
      "metadata": {
        "id": "NgqOiUxEsK2u"
      },
      "source": [
        "## Considerando os dados com o relacionamento multiplicativo"
      ]
    },
    {
      "cell_type": "markdown",
      "metadata": {
        "id": "oQq6xUI7Fzzf"
      },
      "source": [
        "**Criando os dados**"
      ]
    },
    {
      "cell_type": "code",
      "metadata": {
        "id": "AQZLJqGEsIuG"
      },
      "source": [
        "dados = [1, 3, 9, 27, 81, 243, 729]"
      ],
      "execution_count": null,
      "outputs": []
    },
    {
      "cell_type": "markdown",
      "metadata": {
        "id": "GiMpOaDYF3tu"
      },
      "source": [
        "**Criando as variáveis**"
      ]
    },
    {
      "cell_type": "code",
      "metadata": {
        "id": "VpVtpx8hsM1L"
      },
      "source": [
        "media_aritmetica,media_geometrica,media_harmonica = round(np.mean(dados),2),round(gmean(dados),2),round(hmean(dados),2)"
      ],
      "execution_count": null,
      "outputs": []
    },
    {
      "cell_type": "markdown",
      "metadata": {
        "id": "OfMVj2OfF8q3"
      },
      "source": [
        "**Visualizando as médias**"
      ]
    },
    {
      "cell_type": "code",
      "metadata": {
        "id": "YnaiXDP9sN71",
        "colab": {
          "base_uri": "https://localhost:8080/"
        },
        "outputId": "bc838dcd-12b5-4d1c-f257-5fbab023de16"
      },
      "source": [
        "media_aritmetica,media_geometrica,media_harmonica"
      ],
      "execution_count": null,
      "outputs": [
        {
          "output_type": "execute_result",
          "data": {
            "text/plain": [
              "(156.14, 27.0, 4.67)"
            ]
          },
          "metadata": {
            "tags": []
          },
          "execution_count": 45
        }
      ]
    },
    {
      "cell_type": "markdown",
      "metadata": {
        "id": "IulvQZZ-sQhJ"
      },
      "source": [
        "**Visualizando graficamente**"
      ]
    },
    {
      "cell_type": "code",
      "metadata": {
        "id": "d0Fhgo9SsPH4",
        "colab": {
          "base_uri": "https://localhost:8080/",
          "height": 409
        },
        "outputId": "5b7a95bc-9dc8-4dd6-da11-02076b0cf56f"
      },
      "source": [
        "plot_line_means(dados,media_aritmetica,media_geometrica,media_harmonica)"
      ],
      "execution_count": null,
      "outputs": [
        {
          "output_type": "stream",
          "text": [
            "Dados: [1, 3, 4.67, 9, 27, 27.0, 81, 156.14, 243, 729]\n",
            "Media aritmética: 156.14, Média Geométrica: 27.0, Média Harmonica: 4.67\n"
          ],
          "name": "stdout"
        },
        {
          "output_type": "display_data",
          "data": {
            "image/png": "[encoded data removed]",
            "text/plain": [
              "<Figure size 576x432 with 1 Axes>"
            ]
          },
          "metadata": {
            "tags": [],
            "needs_background": "light"
          }
        }
      ]
    },
    {
      "cell_type": "markdown",
      "metadata": {
        "id": "hUyKJbtfsWb3"
      },
      "source": [
        "## Moda\n",
        "\n",
        "Valores mais frequentes da distribuição."
      ]
    },
    {
      "cell_type": "markdown",
      "metadata": {
        "id": "yFBp7FAtHrmb"
      },
      "source": [
        "**Moda simples**"
      ]
    },
    {
      "cell_type": "code",
      "metadata": {
        "id": "kHXCjrOXsS7K"
      },
      "source": [
        "dados = [4,5,4,6,5,8,4]"
      ],
      "execution_count": null,
      "outputs": []
    },
    {
      "cell_type": "code",
      "metadata": {
        "id": "umO53MDDsVNj",
        "colab": {
          "base_uri": "https://localhost:8080/"
        },
        "outputId": "02691400-0282-4b6a-b4f8-5d81e3dd9f37"
      },
      "source": [
        "stats.mode(dados)"
      ],
      "execution_count": null,
      "outputs": [
        {
          "output_type": "execute_result",
          "data": {
            "text/plain": [
              "ModeResult(mode=array([4]), count=array([3]))"
            ]
          },
          "metadata": {
            "tags": []
          },
          "execution_count": 48
        }
      ]
    },
    {
      "cell_type": "markdown",
      "metadata": {
        "id": "3m34Z3t-HhT9"
      },
      "source": [
        "**Dados Bimodais**"
      ]
    },
    {
      "cell_type": "code",
      "metadata": {
        "id": "imhtJNSCsax8"
      },
      "source": [
        "dados_bimodal = [4,5,4,6,5,8,4,4,5,5]"
      ],
      "execution_count": null,
      "outputs": []
    },
    {
      "cell_type": "code",
      "metadata": {
        "id": "ZdSW1rn1sc1o"
      },
      "source": [
        "from collections import Counter"
      ],
      "execution_count": null,
      "outputs": []
    },
    {
      "cell_type": "code",
      "metadata": {
        "id": "5R0lhRhKseE-"
      },
      "source": [
        "def calcula_moda(dados):\n",
        "  number_counts = Counter(dados)\n",
        "  print(number_counts)\n",
        "  modes = [val for val,count in number_counts.items() if count == max(number_counts.values())]\n",
        "  return modes"
      ],
      "execution_count": null,
      "outputs": []
    },
    {
      "cell_type": "code",
      "metadata": {
        "id": "zhDVaHqKsfFW",
        "colab": {
          "base_uri": "https://localhost:8080/"
        },
        "outputId": "ace12498-f860-462d-897e-9b17963337d0"
      },
      "source": [
        "calcula_moda(dados_bimodal)"
      ],
      "execution_count": null,
      "outputs": [
        {
          "output_type": "stream",
          "text": [
            "Counter({4: 4, 5: 4, 6: 1, 8: 1})\n"
          ],
          "name": "stdout"
        },
        {
          "output_type": "execute_result",
          "data": {
            "text/plain": [
              "[4, 5]"
            ]
          },
          "metadata": {
            "tags": []
          },
          "execution_count": 52
        }
      ]
    },
    {
      "cell_type": "markdown",
      "metadata": {
        "id": "dzK_iLA6Hlzw"
      },
      "source": [
        "**Dados Amodais**"
      ]
    },
    {
      "cell_type": "code",
      "metadata": {
        "id": "hSsVMXu5sga0"
      },
      "source": [
        "dados_amodal = [1,2,3,4,5]"
      ],
      "execution_count": null,
      "outputs": []
    },
    {
      "cell_type": "code",
      "metadata": {
        "id": "E4ezXWLJsisV",
        "colab": {
          "base_uri": "https://localhost:8080/"
        },
        "outputId": "a33fd200-978d-49ad-cc38-058751c63a78"
      },
      "source": [
        "calcula_moda(dados_amodal)"
      ],
      "execution_count": null,
      "outputs": [
        {
          "output_type": "stream",
          "text": [
            "Counter({1: 1, 2: 1, 3: 1, 4: 1, 5: 1})\n"
          ],
          "name": "stdout"
        },
        {
          "output_type": "execute_result",
          "data": {
            "text/plain": [
              "[1, 2, 3, 4, 5]"
            ]
          },
          "metadata": {
            "tags": []
          },
          "execution_count": 54
        }
      ]
    },
    {
      "cell_type": "markdown",
      "metadata": {
        "id": "zGyX2rVmH2TM"
      },
      "source": [
        "**Dados Multimodais**"
      ]
    },
    {
      "cell_type": "code",
      "metadata": {
        "id": "Ps9or1DIH6Bv"
      },
      "source": [
        "dados_multimodal = [10, 11, 10, 1, 10, 10, 1, 2, 4, 4, 5, 19, 5, 5, 26, 5, 12, 12 , 8, 12, 8, 12, 7, 7, 7, 25, 31, 25, 25, 25, 31]"
      ],
      "execution_count": null,
      "outputs": []
    },
    {
      "cell_type": "code",
      "metadata": {
        "id": "vGJBUTcCIXWA",
        "colab": {
          "base_uri": "https://localhost:8080/"
        },
        "outputId": "854dfec5-23d7-482b-9a5c-b9ffe96b50dd"
      },
      "source": [
        "calcula_moda(dados_multimodal)"
      ],
      "execution_count": null,
      "outputs": [
        {
          "output_type": "stream",
          "text": [
            "Counter({10: 4, 5: 4, 12: 4, 25: 4, 7: 3, 1: 2, 4: 2, 8: 2, 31: 2, 11: 1, 2: 1, 19: 1, 26: 1})\n"
          ],
          "name": "stdout"
        },
        {
          "output_type": "execute_result",
          "data": {
            "text/plain": [
              "[10, 5, 12, 25]"
            ]
          },
          "metadata": {
            "tags": []
          },
          "execution_count": 56
        }
      ]
    },
    {
      "cell_type": "markdown",
      "metadata": {
        "id": "aHjZtS1tslen"
      },
      "source": [
        "## Mediana\n",
        "\n",
        "É o valor da variável que divide os dados ordenados em duas partes de igual frequência.**"
      ]
    },
    {
      "cell_type": "code",
      "metadata": {
        "id": "Z0JZ5pewsj8F"
      },
      "source": [
        "dados_mediana_impar = [7,1,5,2,3,1,6]"
      ],
      "execution_count": null,
      "outputs": []
    },
    {
      "cell_type": "code",
      "metadata": {
        "id": "QNWqBgI3snZu",
        "colab": {
          "base_uri": "https://localhost:8080/"
        },
        "outputId": "5398e4ff-5a83-4b50-eaf4-44cec87721ec"
      },
      "source": [
        "np.sort(dados_mediana_impar)"
      ],
      "execution_count": null,
      "outputs": [
        {
          "output_type": "execute_result",
          "data": {
            "text/plain": [
              "array([1, 1, 2, 3, 5, 6, 7])"
            ]
          },
          "metadata": {
            "tags": []
          },
          "execution_count": 58
        }
      ]
    },
    {
      "cell_type": "code",
      "metadata": {
        "id": "GpmFZ6ursotK",
        "colab": {
          "base_uri": "https://localhost:8080/"
        },
        "outputId": "ac225f65-89ce-43be-cb15-d69022e0aec7"
      },
      "source": [
        "# a função automaticamente ordena, o np.sort foi somente para visualizar\n",
        "np.median(dados_mediana_impar)"
      ],
      "execution_count": null,
      "outputs": [
        {
          "output_type": "execute_result",
          "data": {
            "text/plain": [
              "3.0"
            ]
          },
          "metadata": {
            "tags": []
          },
          "execution_count": 59
        }
      ]
    },
    {
      "cell_type": "code",
      "metadata": {
        "id": "uVAhf_vbsqCz"
      },
      "source": [
        "dados_mediana_par = [1,2,1,1,4,5,3,6]"
      ],
      "execution_count": null,
      "outputs": []
    },
    {
      "cell_type": "code",
      "metadata": {
        "id": "72KFmr2TsraB",
        "colab": {
          "base_uri": "https://localhost:8080/"
        },
        "outputId": "792a16e4-6cb8-4086-fc91-4b3710811e99"
      },
      "source": [
        "np.sort(dados_mediana_par)"
      ],
      "execution_count": null,
      "outputs": [
        {
          "output_type": "execute_result",
          "data": {
            "text/plain": [
              "array([1, 1, 1, 2, 3, 4, 5, 6])"
            ]
          },
          "metadata": {
            "tags": []
          },
          "execution_count": 61
        }
      ]
    },
    {
      "cell_type": "code",
      "metadata": {
        "id": "-DBEhTu-stqk",
        "colab": {
          "base_uri": "https://localhost:8080/"
        },
        "outputId": "6b056944-5548-4f62-bf40-3cf022306bd9"
      },
      "source": [
        "np.median(dados_mediana_par)"
      ],
      "execution_count": null,
      "outputs": [
        {
          "output_type": "execute_result",
          "data": {
            "text/plain": [
              "2.5"
            ]
          },
          "metadata": {
            "tags": []
          },
          "execution_count": 62
        }
      ]
    },
    {
      "cell_type": "markdown",
      "metadata": {
        "id": "yRxRp9Ljsw43"
      },
      "source": [
        "# 2. Medidas Separatrizes"
      ]
    },
    {
      "cell_type": "code",
      "metadata": {
        "id": "6jLoClmpsvl_"
      },
      "source": [
        "notas = [13,25,69,72,33,41,28,17,65]"
      ],
      "execution_count": null,
      "outputs": []
    },
    {
      "cell_type": "code",
      "metadata": {
        "id": "nZShwEois3qQ",
        "colab": {
          "base_uri": "https://localhost:8080/"
        },
        "outputId": "c596ddb7-18ae-4f86-e930-e2f102853fcd"
      },
      "source": [
        "np.sort(notas)"
      ],
      "execution_count": null,
      "outputs": [
        {
          "output_type": "execute_result",
          "data": {
            "text/plain": [
              "array([13, 17, 25, 28, 33, 41, 65, 69, 72])"
            ]
          },
          "metadata": {
            "tags": []
          },
          "execution_count": 64
        }
      ]
    },
    {
      "cell_type": "markdown",
      "metadata": {
        "id": "mGiCYi5es6KX"
      },
      "source": [
        "**Q1 - Primeiro Quartil**"
      ]
    },
    {
      "cell_type": "code",
      "metadata": {
        "id": "3FcZOOdWs4c2",
        "colab": {
          "base_uri": "https://localhost:8080/"
        },
        "outputId": "eb8e2a89-2fd7-458a-fb94-8c447c169fb8"
      },
      "source": [
        "np.quantile(notas,.25)"
      ],
      "execution_count": null,
      "outputs": [
        {
          "output_type": "execute_result",
          "data": {
            "text/plain": [
              "25.0"
            ]
          },
          "metadata": {
            "tags": []
          },
          "execution_count": 65
        }
      ]
    },
    {
      "cell_type": "markdown",
      "metadata": {
        "id": "KGgtj6Igs_wR"
      },
      "source": [
        "**Q2 - Segundo Quartil**\n",
        "\n",
        "Mesmo valor da mediana"
      ]
    },
    {
      "cell_type": "code",
      "metadata": {
        "id": "BtA_nQRBtHR_",
        "colab": {
          "base_uri": "https://localhost:8080/"
        },
        "outputId": "4cca3277-c4ab-496a-d955-38a234cb019e"
      },
      "source": [
        "np.quantile(notas,.50)"
      ],
      "execution_count": null,
      "outputs": [
        {
          "output_type": "execute_result",
          "data": {
            "text/plain": [
              "33.0"
            ]
          },
          "metadata": {
            "tags": []
          },
          "execution_count": 66
        }
      ]
    },
    {
      "cell_type": "markdown",
      "metadata": {
        "id": "ciOr7KYRs_lW"
      },
      "source": [
        "**Q3 - Terceiro Quartil**"
      ]
    },
    {
      "cell_type": "code",
      "metadata": {
        "id": "e_rQtbE5tIWC",
        "colab": {
          "base_uri": "https://localhost:8080/"
        },
        "outputId": "7f832448-2efb-48ba-bd32-0c0552c6d2d4"
      },
      "source": [
        "np.quantile(notas,.75)"
      ],
      "execution_count": null,
      "outputs": [
        {
          "output_type": "execute_result",
          "data": {
            "text/plain": [
              "65.0"
            ]
          },
          "metadata": {
            "tags": []
          },
          "execution_count": 67
        }
      ]
    },
    {
      "cell_type": "markdown",
      "metadata": {
        "id": "6Sh_BLa7s_TZ"
      },
      "source": [
        "**P25 - Percentil 25 = Q1**"
      ]
    },
    {
      "cell_type": "code",
      "metadata": {
        "id": "-xV3rq1bs8V8",
        "colab": {
          "base_uri": "https://localhost:8080/"
        },
        "outputId": "e33c7d90-e59c-4a17-a964-7767be1b0e28"
      },
      "source": [
        "np.percentile(notas,25)"
      ],
      "execution_count": null,
      "outputs": [
        {
          "output_type": "execute_result",
          "data": {
            "text/plain": [
              "25.0"
            ]
          },
          "metadata": {
            "tags": []
          },
          "execution_count": 68
        }
      ]
    },
    {
      "cell_type": "markdown",
      "metadata": {
        "id": "QAEODoGrtXkR"
      },
      "source": [
        "**P50 - Percentil 50 = Q2**\n"
      ]
    },
    {
      "cell_type": "code",
      "metadata": {
        "id": "r4K6aeQEtU0a",
        "colab": {
          "base_uri": "https://localhost:8080/"
        },
        "outputId": "30ca511c-a5dd-4d97-e050-6f9043f298c4"
      },
      "source": [
        "np.percentile(notas,50)"
      ],
      "execution_count": null,
      "outputs": [
        {
          "output_type": "execute_result",
          "data": {
            "text/plain": [
              "33.0"
            ]
          },
          "metadata": {
            "tags": []
          },
          "execution_count": 69
        }
      ]
    },
    {
      "cell_type": "markdown",
      "metadata": {
        "id": "WhhWO9WGtasm"
      },
      "source": [
        "**P75 - Percentil 75 = Q3**"
      ]
    },
    {
      "cell_type": "code",
      "metadata": {
        "id": "TtnSV0fQtZI5",
        "colab": {
          "base_uri": "https://localhost:8080/"
        },
        "outputId": "a31d90fa-eb54-46cc-b7c9-97b08a865390"
      },
      "source": [
        "np.percentile(notas,75)"
      ],
      "execution_count": null,
      "outputs": [
        {
          "output_type": "execute_result",
          "data": {
            "text/plain": [
              "65.0"
            ]
          },
          "metadata": {
            "tags": []
          },
          "execution_count": 70
        }
      ]
    },
    {
      "cell_type": "markdown",
      "metadata": {
        "id": "GFjHrgQctfgt"
      },
      "source": [
        "## 3. Medidas de Variação e Dispersão"
      ]
    },
    {
      "cell_type": "markdown",
      "metadata": {
        "id": "kR5zYbEwtnU-"
      },
      "source": [
        "**Média**"
      ]
    },
    {
      "cell_type": "code",
      "metadata": {
        "id": "8cRUC-k-tcl-"
      },
      "source": [
        "dados_dispersao = [10,20,30,40,50,60,70,80,90,100]"
      ],
      "execution_count": null,
      "outputs": []
    },
    {
      "cell_type": "code",
      "metadata": {
        "id": "vVvdAfnGti5P",
        "colab": {
          "base_uri": "https://localhost:8080/"
        },
        "outputId": "9cf5406b-7778-4a7d-b158-58eb9e7ae3af"
      },
      "source": [
        "np.mean(dados_dispersao)"
      ],
      "execution_count": null,
      "outputs": [
        {
          "output_type": "execute_result",
          "data": {
            "text/plain": [
              "55.0"
            ]
          },
          "metadata": {
            "tags": []
          },
          "execution_count": 72
        }
      ]
    },
    {
      "cell_type": "markdown",
      "metadata": {
        "id": "rWUdqin1trsM"
      },
      "source": [
        "**Variância**\n",
        "\n",
        "![alt text](https://wikimedia.org/api/rest_v1/media/math/render/svg/c2446a06b779245a22147449fc523f2b1b0013ef)"
      ]
    },
    {
      "cell_type": "code",
      "metadata": {
        "id": "Yns6qCRgtkUn",
        "colab": {
          "base_uri": "https://localhost:8080/"
        },
        "outputId": "0aeeea34-eab9-4381-de59-99fa719efb53"
      },
      "source": [
        "np.var(dados_dispersao)"
      ],
      "execution_count": null,
      "outputs": [
        {
          "output_type": "execute_result",
          "data": {
            "text/plain": [
              "825.0"
            ]
          },
          "metadata": {
            "tags": []
          },
          "execution_count": 73
        }
      ]
    },
    {
      "cell_type": "markdown",
      "metadata": {
        "id": "KGMJKDDMtwS2"
      },
      "source": [
        "**Desvio Padrão**\n",
        "\n",
        "![alt text](https://wikimedia.org/api/rest_v1/media/math/render/svg/cc45b72e1fd6a3de3ec4977f42367f104f57583f)"
      ]
    },
    {
      "cell_type": "code",
      "metadata": {
        "id": "yUCsvhGrtuYu",
        "colab": {
          "base_uri": "https://localhost:8080/"
        },
        "outputId": "425accd9-5307-40c7-9179-15d95303b181"
      },
      "source": [
        "np.std(dados_dispersao)"
      ],
      "execution_count": null,
      "outputs": [
        {
          "output_type": "execute_result",
          "data": {
            "text/plain": [
              "28.722813232690143"
            ]
          },
          "metadata": {
            "tags": []
          },
          "execution_count": 74
        }
      ]
    },
    {
      "cell_type": "markdown",
      "metadata": {
        "id": "6huVrrubtzmW"
      },
      "source": [
        "**Coeficiente de Variação**"
      ]
    },
    {
      "cell_type": "code",
      "metadata": {
        "id": "7ARF8reEtxrG",
        "colab": {
          "base_uri": "https://localhost:8080/"
        },
        "outputId": "5911f0aa-d8b4-41ea-9318-acfb6aab3fbc"
      },
      "source": [
        "stats.variation(dados_dispersao)"
      ],
      "execution_count": null,
      "outputs": [
        {
          "output_type": "execute_result",
          "data": {
            "text/plain": [
              "0.5222329678670935"
            ]
          },
          "metadata": {
            "tags": []
          },
          "execution_count": 75
        }
      ]
    },
    {
      "cell_type": "markdown",
      "metadata": {
        "id": "mLnrmrq5t3X3"
      },
      "source": [
        "Importante: Um coeficiente de variação **menor que 25%** é um bom indicativo de homogeneidade dos dados, ou seja, os dados não variam tanto a partir da média."
      ]
    },
    {
      "cell_type": "code",
      "metadata": {
        "id": "rmn2bu1Kt1e3"
      },
      "source": [
        "media=np.mean(dados_dispersao)\n",
        "desvio_padrao = np.std(dados_dispersao)"
      ],
      "execution_count": null,
      "outputs": []
    },
    {
      "cell_type": "code",
      "metadata": {
        "id": "Fyx2vFPct4rL",
        "colab": {
          "base_uri": "https://localhost:8080/"
        },
        "outputId": "46dd6da9-975e-41b4-a4c8-0e01c1669f22"
      },
      "source": [
        "desvio_padrao/media"
      ],
      "execution_count": null,
      "outputs": [
        {
          "output_type": "execute_result",
          "data": {
            "text/plain": [
              "0.5222329678670935"
            ]
          },
          "metadata": {
            "tags": []
          },
          "execution_count": 77
        }
      ]
    },
    {
      "cell_type": "markdown",
      "metadata": {
        "id": "tvZzMDNet7TJ"
      },
      "source": [
        "# 4. Exemplo usando uma Base de Dados Real"
      ]
    },
    {
      "cell_type": "code",
      "metadata": {
        "id": "XH6K8KG1t5zU"
      },
      "source": [
        "import pandas as pd               \n",
        "import numpy as np\n",
        "import seaborn as sns\n",
        "import matplotlib.pyplot as plt"
      ],
      "execution_count": null,
      "outputs": []
    },
    {
      "cell_type": "code",
      "metadata": {
        "id": "WBXKA5_Dt9OR"
      },
      "source": [
        "df = pd.read_csv(\"https://raw.githubusercontent.com/amadords/data/main/cars2.csv\")"
      ],
      "execution_count": null,
      "outputs": []
    },
    {
      "cell_type": "code",
      "metadata": {
        "id": "G0W1npyRuGMo",
        "colab": {
          "base_uri": "https://localhost:8080/",
          "height": 224
        },
        "outputId": "7aadcdb4-1d07-461c-92fd-cf8d133017c7"
      },
      "source": [
        "df.head(5)"
      ],
      "execution_count": null,
      "outputs": [
        {
          "output_type": "execute_result",
          "data": {
            "text/html": [
              "<div>\n",
              "<style scoped>\n",
              "    .dataframe tbody tr th:only-of-type {\n",
              "        vertical-align: middle;\n",
              "    }\n",
              "\n",
              "    .dataframe tbody tr th {\n",
              "        vertical-align: top;\n",
              "    }\n",
              "\n",
              "    .dataframe thead th {\n",
              "        text-align: right;\n",
              "    }\n",
              "</style>\n",
              "<table border=\"1\" class=\"dataframe\">\n",
              "  <thead>\n",
              "    <tr style=\"text-align: right;\">\n",
              "      <th></th>\n",
              "      <th>Make</th>\n",
              "      <th>Model</th>\n",
              "      <th>Type</th>\n",
              "      <th>Origin</th>\n",
              "      <th>DriveTrain</th>\n",
              "      <th>MSRP</th>\n",
              "      <th>Invoice</th>\n",
              "      <th>EngineSize</th>\n",
              "      <th>Cylinders</th>\n",
              "      <th>Horsepower</th>\n",
              "      <th>MPG_City</th>\n",
              "      <th>MPG_Highway</th>\n",
              "      <th>Weight</th>\n",
              "      <th>Wheelbase</th>\n",
              "      <th>Length</th>\n",
              "    </tr>\n",
              "  </thead>\n",
              "  <tbody>\n",
              "    <tr>\n",
              "      <th>0</th>\n",
              "      <td>Acura</td>\n",
              "      <td>MDX</td>\n",
              "      <td>SUV</td>\n",
              "      <td>Asia</td>\n",
              "      <td>All</td>\n",
              "      <td>$36,945</td>\n",
              "      <td>$33,337</td>\n",
              "      <td>3.5</td>\n",
              "      <td>6.0</td>\n",
              "      <td>265</td>\n",
              "      <td>17</td>\n",
              "      <td>23</td>\n",
              "      <td>4451</td>\n",
              "      <td>106</td>\n",
              "      <td>189</td>\n",
              "    </tr>\n",
              "    <tr>\n",
              "      <th>1</th>\n",
              "      <td>Acura</td>\n",
              "      <td>RSX Type S 2dr</td>\n",
              "      <td>Sedan</td>\n",
              "      <td>Asia</td>\n",
              "      <td>Front</td>\n",
              "      <td>$23,820</td>\n",
              "      <td>$21,761</td>\n",
              "      <td>2.0</td>\n",
              "      <td>4.0</td>\n",
              "      <td>200</td>\n",
              "      <td>24</td>\n",
              "      <td>31</td>\n",
              "      <td>2778</td>\n",
              "      <td>101</td>\n",
              "      <td>172</td>\n",
              "    </tr>\n",
              "    <tr>\n",
              "      <th>2</th>\n",
              "      <td>Acura</td>\n",
              "      <td>TSX 4dr</td>\n",
              "      <td>Sedan</td>\n",
              "      <td>Asia</td>\n",
              "      <td>Front</td>\n",
              "      <td>$26,990</td>\n",
              "      <td>$24,647</td>\n",
              "      <td>2.4</td>\n",
              "      <td>4.0</td>\n",
              "      <td>200</td>\n",
              "      <td>22</td>\n",
              "      <td>29</td>\n",
              "      <td>3230</td>\n",
              "      <td>105</td>\n",
              "      <td>183</td>\n",
              "    </tr>\n",
              "    <tr>\n",
              "      <th>3</th>\n",
              "      <td>Acura</td>\n",
              "      <td>TL 4dr</td>\n",
              "      <td>Sedan</td>\n",
              "      <td>Asia</td>\n",
              "      <td>Front</td>\n",
              "      <td>$33,195</td>\n",
              "      <td>$30,299</td>\n",
              "      <td>3.2</td>\n",
              "      <td>6.0</td>\n",
              "      <td>270</td>\n",
              "      <td>20</td>\n",
              "      <td>28</td>\n",
              "      <td>3575</td>\n",
              "      <td>108</td>\n",
              "      <td>186</td>\n",
              "    </tr>\n",
              "    <tr>\n",
              "      <th>4</th>\n",
              "      <td>Acura</td>\n",
              "      <td>3.5 RL 4dr</td>\n",
              "      <td>Sedan</td>\n",
              "      <td>Asia</td>\n",
              "      <td>Front</td>\n",
              "      <td>$43,755</td>\n",
              "      <td>$39,014</td>\n",
              "      <td>3.5</td>\n",
              "      <td>6.0</td>\n",
              "      <td>225</td>\n",
              "      <td>18</td>\n",
              "      <td>24</td>\n",
              "      <td>3880</td>\n",
              "      <td>115</td>\n",
              "      <td>197</td>\n",
              "    </tr>\n",
              "  </tbody>\n",
              "</table>\n",
              "</div>"
            ],
            "text/plain": [
              "    Make           Model   Type Origin  ... MPG_Highway Weight Wheelbase  Length\n",
              "0  Acura             MDX    SUV   Asia  ...          23   4451       106     189\n",
              "1  Acura  RSX Type S 2dr  Sedan   Asia  ...          31   2778       101     172\n",
              "2  Acura         TSX 4dr  Sedan   Asia  ...          29   3230       105     183\n",
              "3  Acura          TL 4dr  Sedan   Asia  ...          28   3575       108     186\n",
              "4  Acura      3.5 RL 4dr  Sedan   Asia  ...          24   3880       115     197\n",
              "\n",
              "[5 rows x 15 columns]"
            ]
          },
          "metadata": {
            "tags": []
          },
          "execution_count": 80
        }
      ]
    },
    {
      "cell_type": "code",
      "metadata": {
        "id": "vnnPdW4SuID-",
        "colab": {
          "base_uri": "https://localhost:8080/"
        },
        "outputId": "479df03a-aaad-4df8-f1ea-321101bdfb5b"
      },
      "source": [
        "df.info()"
      ],
      "execution_count": null,
      "outputs": [
        {
          "output_type": "stream",
          "text": [
            "<class 'pandas.core.frame.DataFrame'>\n",
            "RangeIndex: 428 entries, 0 to 427\n",
            "Data columns (total 15 columns):\n",
            " #   Column       Non-Null Count  Dtype  \n",
            "---  ------       --------------  -----  \n",
            " 0   Make         428 non-null    object \n",
            " 1   Model        428 non-null    object \n",
            " 2   Type         428 non-null    object \n",
            " 3   Origin       428 non-null    object \n",
            " 4   DriveTrain   428 non-null    object \n",
            " 5   MSRP         428 non-null    object \n",
            " 6   Invoice      428 non-null    object \n",
            " 7   EngineSize   428 non-null    float64\n",
            " 8   Cylinders    426 non-null    float64\n",
            " 9   Horsepower   428 non-null    int64  \n",
            " 10  MPG_City     428 non-null    int64  \n",
            " 11  MPG_Highway  428 non-null    int64  \n",
            " 12  Weight       428 non-null    int64  \n",
            " 13  Wheelbase    428 non-null    int64  \n",
            " 14  Length       428 non-null    int64  \n",
            "dtypes: float64(2), int64(6), object(7)\n",
            "memory usage: 50.3+ KB\n"
          ],
          "name": "stdout"
        }
      ]
    },
    {
      "cell_type": "markdown",
      "metadata": {
        "id": "JvYnthqEuLU9"
      },
      "source": [
        "**Limpando os dados do atributo MSRP.**"
      ]
    },
    {
      "cell_type": "code",
      "metadata": {
        "id": "p6gl40T5uJdd"
      },
      "source": [
        "df['MSRP'] = [x.replace('$', '') for x in df['MSRP']] \n",
        "df['MSRP'] = [x.replace(',', '') for x in df['MSRP']]"
      ],
      "execution_count": null,
      "outputs": []
    },
    {
      "cell_type": "code",
      "metadata": {
        "id": "ji4bI4siuNur",
        "colab": {
          "base_uri": "https://localhost:8080/"
        },
        "outputId": "95bd7093-b16b-47ce-9dac-e0141dd7fc88"
      },
      "source": [
        "df['MSRP'].head(5)"
      ],
      "execution_count": null,
      "outputs": [
        {
          "output_type": "execute_result",
          "data": {
            "text/plain": [
              "0    36945\n",
              "1    23820\n",
              "2    26990\n",
              "3    33195\n",
              "4    43755\n",
              "Name: MSRP, dtype: object"
            ]
          },
          "metadata": {
            "tags": []
          },
          "execution_count": 83
        }
      ]
    },
    {
      "cell_type": "code",
      "metadata": {
        "id": "RwqfriU6uPky",
        "colab": {
          "base_uri": "https://localhost:8080/"
        },
        "outputId": "d7371e48-405d-41b5-f2a2-0b051d93b287"
      },
      "source": [
        "df.info()"
      ],
      "execution_count": null,
      "outputs": [
        {
          "output_type": "stream",
          "text": [
            "<class 'pandas.core.frame.DataFrame'>\n",
            "RangeIndex: 428 entries, 0 to 427\n",
            "Data columns (total 15 columns):\n",
            " #   Column       Non-Null Count  Dtype  \n",
            "---  ------       --------------  -----  \n",
            " 0   Make         428 non-null    object \n",
            " 1   Model        428 non-null    object \n",
            " 2   Type         428 non-null    object \n",
            " 3   Origin       428 non-null    object \n",
            " 4   DriveTrain   428 non-null    object \n",
            " 5   MSRP         428 non-null    object \n",
            " 6   Invoice      428 non-null    object \n",
            " 7   EngineSize   428 non-null    float64\n",
            " 8   Cylinders    426 non-null    float64\n",
            " 9   Horsepower   428 non-null    int64  \n",
            " 10  MPG_City     428 non-null    int64  \n",
            " 11  MPG_Highway  428 non-null    int64  \n",
            " 12  Weight       428 non-null    int64  \n",
            " 13  Wheelbase    428 non-null    int64  \n",
            " 14  Length       428 non-null    int64  \n",
            "dtypes: float64(2), int64(6), object(7)\n",
            "memory usage: 50.3+ KB\n"
          ],
          "name": "stdout"
        }
      ]
    },
    {
      "cell_type": "markdown",
      "metadata": {
        "id": "gQEIH1z1uTsW"
      },
      "source": [
        "**Transformando os dados para o formato numérico.**"
      ]
    },
    {
      "cell_type": "code",
      "metadata": {
        "id": "yB6MSujeuRO_"
      },
      "source": [
        "df['MSRP']=pd.to_numeric(df['MSRP'],errors='coerce')"
      ],
      "execution_count": null,
      "outputs": []
    },
    {
      "cell_type": "code",
      "metadata": {
        "id": "6qXrLcxAuVRk",
        "colab": {
          "base_uri": "https://localhost:8080/"
        },
        "outputId": "f5134df1-8b89-4919-90ad-673146c887f8"
      },
      "source": [
        "df.info()"
      ],
      "execution_count": null,
      "outputs": [
        {
          "output_type": "stream",
          "text": [
            "<class 'pandas.core.frame.DataFrame'>\n",
            "RangeIndex: 428 entries, 0 to 427\n",
            "Data columns (total 15 columns):\n",
            " #   Column       Non-Null Count  Dtype  \n",
            "---  ------       --------------  -----  \n",
            " 0   Make         428 non-null    object \n",
            " 1   Model        428 non-null    object \n",
            " 2   Type         428 non-null    object \n",
            " 3   Origin       428 non-null    object \n",
            " 4   DriveTrain   428 non-null    object \n",
            " 5   MSRP         428 non-null    int64  \n",
            " 6   Invoice      428 non-null    object \n",
            " 7   EngineSize   428 non-null    float64\n",
            " 8   Cylinders    426 non-null    float64\n",
            " 9   Horsepower   428 non-null    int64  \n",
            " 10  MPG_City     428 non-null    int64  \n",
            " 11  MPG_Highway  428 non-null    int64  \n",
            " 12  Weight       428 non-null    int64  \n",
            " 13  Wheelbase    428 non-null    int64  \n",
            " 14  Length       428 non-null    int64  \n",
            "dtypes: float64(2), int64(7), object(6)\n",
            "memory usage: 50.3+ KB\n"
          ],
          "name": "stdout"
        }
      ]
    },
    {
      "cell_type": "code",
      "metadata": {
        "id": "MvsxVv6euWU1",
        "colab": {
          "base_uri": "https://localhost:8080/",
          "height": 300
        },
        "outputId": "93a51223-e06b-493f-926e-26eac7ea4a87"
      },
      "source": [
        "df.describe()"
      ],
      "execution_count": null,
      "outputs": [
        {
          "output_type": "execute_result",
          "data": {
            "text/html": [
              "<div>\n",
              "<style scoped>\n",
              "    .dataframe tbody tr th:only-of-type {\n",
              "        vertical-align: middle;\n",
              "    }\n",
              "\n",
              "    .dataframe tbody tr th {\n",
              "        vertical-align: top;\n",
              "    }\n",
              "\n",
              "    .dataframe thead th {\n",
              "        text-align: right;\n",
              "    }\n",
              "</style>\n",
              "<table border=\"1\" class=\"dataframe\">\n",
              "  <thead>\n",
              "    <tr style=\"text-align: right;\">\n",
              "      <th></th>\n",
              "      <th>MSRP</th>\n",
              "      <th>EngineSize</th>\n",
              "      <th>Cylinders</th>\n",
              "      <th>Horsepower</th>\n",
              "      <th>MPG_City</th>\n",
              "      <th>MPG_Highway</th>\n",
              "      <th>Weight</th>\n",
              "      <th>Wheelbase</th>\n",
              "      <th>Length</th>\n",
              "    </tr>\n",
              "  </thead>\n",
              "  <tbody>\n",
              "    <tr>\n",
              "      <th>count</th>\n",
              "      <td>428.000000</td>\n",
              "      <td>428.000000</td>\n",
              "      <td>426.000000</td>\n",
              "      <td>428.000000</td>\n",
              "      <td>428.000000</td>\n",
              "      <td>428.000000</td>\n",
              "      <td>428.000000</td>\n",
              "      <td>428.000000</td>\n",
              "      <td>428.000000</td>\n",
              "    </tr>\n",
              "    <tr>\n",
              "      <th>mean</th>\n",
              "      <td>32774.855140</td>\n",
              "      <td>3.196729</td>\n",
              "      <td>5.807512</td>\n",
              "      <td>215.885514</td>\n",
              "      <td>20.060748</td>\n",
              "      <td>26.843458</td>\n",
              "      <td>3577.953271</td>\n",
              "      <td>108.154206</td>\n",
              "      <td>186.362150</td>\n",
              "    </tr>\n",
              "    <tr>\n",
              "      <th>std</th>\n",
              "      <td>19431.716674</td>\n",
              "      <td>1.108595</td>\n",
              "      <td>1.558443</td>\n",
              "      <td>71.836032</td>\n",
              "      <td>5.238218</td>\n",
              "      <td>5.741201</td>\n",
              "      <td>758.983215</td>\n",
              "      <td>8.311813</td>\n",
              "      <td>14.357991</td>\n",
              "    </tr>\n",
              "    <tr>\n",
              "      <th>min</th>\n",
              "      <td>10280.000000</td>\n",
              "      <td>1.300000</td>\n",
              "      <td>3.000000</td>\n",
              "      <td>73.000000</td>\n",
              "      <td>10.000000</td>\n",
              "      <td>12.000000</td>\n",
              "      <td>1850.000000</td>\n",
              "      <td>89.000000</td>\n",
              "      <td>143.000000</td>\n",
              "    </tr>\n",
              "    <tr>\n",
              "      <th>25%</th>\n",
              "      <td>20334.250000</td>\n",
              "      <td>2.375000</td>\n",
              "      <td>4.000000</td>\n",
              "      <td>165.000000</td>\n",
              "      <td>17.000000</td>\n",
              "      <td>24.000000</td>\n",
              "      <td>3104.000000</td>\n",
              "      <td>103.000000</td>\n",
              "      <td>178.000000</td>\n",
              "    </tr>\n",
              "    <tr>\n",
              "      <th>50%</th>\n",
              "      <td>27635.000000</td>\n",
              "      <td>3.000000</td>\n",
              "      <td>6.000000</td>\n",
              "      <td>210.000000</td>\n",
              "      <td>19.000000</td>\n",
              "      <td>26.000000</td>\n",
              "      <td>3474.500000</td>\n",
              "      <td>107.000000</td>\n",
              "      <td>187.000000</td>\n",
              "    </tr>\n",
              "    <tr>\n",
              "      <th>75%</th>\n",
              "      <td>39205.000000</td>\n",
              "      <td>3.900000</td>\n",
              "      <td>6.000000</td>\n",
              "      <td>255.000000</td>\n",
              "      <td>21.250000</td>\n",
              "      <td>29.000000</td>\n",
              "      <td>3977.750000</td>\n",
              "      <td>112.000000</td>\n",
              "      <td>194.000000</td>\n",
              "    </tr>\n",
              "    <tr>\n",
              "      <th>max</th>\n",
              "      <td>192465.000000</td>\n",
              "      <td>8.300000</td>\n",
              "      <td>12.000000</td>\n",
              "      <td>500.000000</td>\n",
              "      <td>60.000000</td>\n",
              "      <td>66.000000</td>\n",
              "      <td>7190.000000</td>\n",
              "      <td>144.000000</td>\n",
              "      <td>238.000000</td>\n",
              "    </tr>\n",
              "  </tbody>\n",
              "</table>\n",
              "</div>"
            ],
            "text/plain": [
              "                MSRP  EngineSize  ...   Wheelbase      Length\n",
              "count     428.000000  428.000000  ...  428.000000  428.000000\n",
              "mean    32774.855140    3.196729  ...  108.154206  186.362150\n",
              "std     19431.716674    1.108595  ...    8.311813   14.357991\n",
              "min     10280.000000    1.300000  ...   89.000000  143.000000\n",
              "25%     20334.250000    2.375000  ...  103.000000  178.000000\n",
              "50%     27635.000000    3.000000  ...  107.000000  187.000000\n",
              "75%     39205.000000    3.900000  ...  112.000000  194.000000\n",
              "max    192465.000000    8.300000  ...  144.000000  238.000000\n",
              "\n",
              "[8 rows x 9 columns]"
            ]
          },
          "metadata": {
            "tags": []
          },
          "execution_count": 87
        }
      ]
    },
    {
      "cell_type": "markdown",
      "metadata": {
        "id": "nLjjJXoeuZa0"
      },
      "source": [
        "**Média aritmética**"
      ]
    },
    {
      "cell_type": "code",
      "metadata": {
        "id": "_ATO7D3huX2B",
        "colab": {
          "base_uri": "https://localhost:8080/"
        },
        "outputId": "7b83c870-dcfb-4e26-e69d-b5b6e4ee9cc2"
      },
      "source": [
        "df[\"MSRP\"].mean()"
      ],
      "execution_count": null,
      "outputs": [
        {
          "output_type": "execute_result",
          "data": {
            "text/plain": [
              "32774.85514018692"
            ]
          },
          "metadata": {
            "tags": []
          },
          "execution_count": 88
        }
      ]
    },
    {
      "cell_type": "code",
      "metadata": {
        "id": "HtA8_cSqua91"
      },
      "source": [
        "msrp = df[\"MSRP\"]"
      ],
      "execution_count": null,
      "outputs": []
    },
    {
      "cell_type": "code",
      "metadata": {
        "id": "z2m3T8Gaub2x",
        "colab": {
          "base_uri": "https://localhost:8080/"
        },
        "outputId": "ef0ffb57-119c-457b-a845-22d781e4e05f"
      },
      "source": [
        "msrp.mean()"
      ],
      "execution_count": null,
      "outputs": [
        {
          "output_type": "execute_result",
          "data": {
            "text/plain": [
              "32774.85514018692"
            ]
          },
          "metadata": {
            "tags": []
          },
          "execution_count": 90
        }
      ]
    },
    {
      "cell_type": "markdown",
      "metadata": {
        "id": "Q_js-WB0uecg"
      },
      "source": [
        "**Média geométrica**"
      ]
    },
    {
      "cell_type": "code",
      "metadata": {
        "id": "EPBvTuLJuc2H",
        "colab": {
          "base_uri": "https://localhost:8080/"
        },
        "outputId": "dc338825-1f02-4c1b-f9dc-3ee74b18cba6"
      },
      "source": [
        "gmean(msrp)"
      ],
      "execution_count": null,
      "outputs": [
        {
          "output_type": "execute_result",
          "data": {
            "text/plain": [
              "28841.635198804073"
            ]
          },
          "metadata": {
            "tags": []
          },
          "execution_count": 91
        }
      ]
    },
    {
      "cell_type": "markdown",
      "metadata": {
        "id": "IrnakN8WuiOX"
      },
      "source": [
        "**Média Harmônica**"
      ]
    },
    {
      "cell_type": "code",
      "metadata": {
        "id": "e6VjX_a0ug6A",
        "colab": {
          "base_uri": "https://localhost:8080/"
        },
        "outputId": "cdc35ab9-19a3-4f2e-ba3a-59ad69d5d3c5"
      },
      "source": [
        "hmean(msrp)"
      ],
      "execution_count": null,
      "outputs": [
        {
          "output_type": "execute_result",
          "data": {
            "text/plain": [
              "25837.78463669279"
            ]
          },
          "metadata": {
            "tags": []
          },
          "execution_count": 92
        }
      ]
    },
    {
      "cell_type": "markdown",
      "metadata": {
        "id": "-U0R9DXAulQ5"
      },
      "source": [
        "**Mediana**"
      ]
    },
    {
      "cell_type": "code",
      "metadata": {
        "id": "JJEq0o1pujvq",
        "colab": {
          "base_uri": "https://localhost:8080/"
        },
        "outputId": "31ac4425-3031-4b1f-d112-724dbc1eb11a"
      },
      "source": [
        "msrp.median()"
      ],
      "execution_count": null,
      "outputs": [
        {
          "output_type": "execute_result",
          "data": {
            "text/plain": [
              "27635.0"
            ]
          },
          "metadata": {
            "tags": []
          },
          "execution_count": 93
        }
      ]
    },
    {
      "cell_type": "markdown",
      "metadata": {
        "id": "YdofhPIPupBZ"
      },
      "source": [
        "**Moda**"
      ]
    },
    {
      "cell_type": "code",
      "metadata": {
        "id": "I2levrOWumwr",
        "colab": {
          "base_uri": "https://localhost:8080/"
        },
        "outputId": "79ba73c9-fbff-42fa-81e9-a10c84b5cddb"
      },
      "source": [
        "msrp.mode()"
      ],
      "execution_count": null,
      "outputs": [
        {
          "output_type": "execute_result",
          "data": {
            "text/plain": [
              "0     13270\n",
              "1     15389\n",
              "2     19635\n",
              "3     19860\n",
              "4     21055\n",
              "5     21595\n",
              "6     23495\n",
              "7     23895\n",
              "8     25700\n",
              "9     27490\n",
              "10    28495\n",
              "11    29995\n",
              "12    31545\n",
              "13    33995\n",
              "14    34495\n",
              "15    35940\n",
              "16    49995\n",
              "17    74995\n",
              "dtype: int64"
            ]
          },
          "metadata": {
            "tags": []
          },
          "execution_count": 94
        }
      ]
    },
    {
      "cell_type": "markdown",
      "metadata": {
        "id": "6uPNx4oMusdY"
      },
      "source": [
        "**Variação**"
      ]
    },
    {
      "cell_type": "code",
      "metadata": {
        "id": "860i_f74uq6W",
        "colab": {
          "base_uri": "https://localhost:8080/"
        },
        "outputId": "aa97b68f-859b-4f4b-cbba-0cf60d5ff5e8"
      },
      "source": [
        "msrp.var()"
      ],
      "execution_count": null,
      "outputs": [
        {
          "output_type": "execute_result",
          "data": {
            "text/plain": [
              "377591612.88763136"
            ]
          },
          "metadata": {
            "tags": []
          },
          "execution_count": 95
        }
      ]
    },
    {
      "cell_type": "markdown",
      "metadata": {
        "id": "1UaRAbYSuvG6"
      },
      "source": [
        "**Desvio padrão**"
      ]
    },
    {
      "cell_type": "code",
      "metadata": {
        "id": "xLWPxcgCut5r",
        "colab": {
          "base_uri": "https://localhost:8080/"
        },
        "outputId": "dfff19e9-3b12-45be-c2c6-2b87cf31fc23"
      },
      "source": [
        "msrp.std()"
      ],
      "execution_count": null,
      "outputs": [
        {
          "output_type": "execute_result",
          "data": {
            "text/plain": [
              "19431.716673717518"
            ]
          },
          "metadata": {
            "tags": []
          },
          "execution_count": 96
        }
      ]
    },
    {
      "cell_type": "markdown",
      "metadata": {
        "id": "2peS5N2Pu0LE"
      },
      "source": [
        "**Valor máximo**"
      ]
    },
    {
      "cell_type": "code",
      "metadata": {
        "id": "PH4dsqjAuwuE",
        "colab": {
          "base_uri": "https://localhost:8080/"
        },
        "outputId": "9e269af0-9a04-40d4-8e35-213e9f5668a2"
      },
      "source": [
        "msrp.max()"
      ],
      "execution_count": null,
      "outputs": [
        {
          "output_type": "execute_result",
          "data": {
            "text/plain": [
              "192465"
            ]
          },
          "metadata": {
            "tags": []
          },
          "execution_count": 97
        }
      ]
    },
    {
      "cell_type": "markdown",
      "metadata": {
        "id": "w8m7LbVeu3V3"
      },
      "source": [
        "**Valor mínimo**"
      ]
    },
    {
      "cell_type": "code",
      "metadata": {
        "id": "cg5NVs7su16P",
        "colab": {
          "base_uri": "https://localhost:8080/"
        },
        "outputId": "e6b5973b-3a63-4917-9a82-cf8e568d99cd"
      },
      "source": [
        "msrp.min()"
      ],
      "execution_count": null,
      "outputs": [
        {
          "output_type": "execute_result",
          "data": {
            "text/plain": [
              "10280"
            ]
          },
          "metadata": {
            "tags": []
          },
          "execution_count": 98
        }
      ]
    },
    {
      "cell_type": "markdown",
      "metadata": {
        "id": "UeC42I6Ku6Gh"
      },
      "source": [
        "# 4. Medidas de Assimetria\n",
        "Nos possibilitam analisar uma distribuição em relação a sua moda, mediana e média."
      ]
    },
    {
      "cell_type": "markdown",
      "metadata": {
        "id": "baNQee2GLUt6"
      },
      "source": [
        "## Coeficiente de Pearson\n",
        "\n",
        "*P de Pearson*, como também é chamado, mede o grau de correlação e a direção (positiva ou negativa).\n",
        "\n",
        "Os valores assumidos variam de -1 a 1:\n",
        "\n",
        "- *p = 1*: Significa uma correlação perfeita positiva entre as duas variáveis.\n",
        "- *p = -1*:  Significa uma correlação negativa perfeita entre as duas variáveis - Isto é, se uma aumenta, a outra sempre diminui.\n",
        "- *p = 0*:  Significa que as duas variáveis não dependem linearmente uma da outra. No entanto, pode existir uma dependência não linear. Assim, o resultado ρ = 0 deve ser investigado por outros meios."
      ]
    },
    {
      "cell_type": "markdown",
      "metadata": {
        "id": "GUCjtSn2LYJO"
      },
      "source": [
        "## Coeficiente de Curtose\n",
        "\n",
        "Mede o grau de achatamento da função de distribuição de probabilidade.\n",
        "\n",
        "-  **Mesocúrtica:** Se o valor da curtose for = 0 (ou 3, pela segunda definição), então tem o mesmo achatamento que a distribuição normal. \n",
        "\n",
        "-  **leptocúrtica:** Se o valor é > 0 (ou > 3), então a distribuição em questão é mais alta (afunilada) e concentrada que a distribuição normal. Diz-se que esta função probabilidade é leptocúrtica, ou que a distribuição tem caudas pesadas (o significado é que é relativamente fácil obter valores que não se aproximam da média a vários múltiplos do desvio padrão)\n",
        "\n",
        "- **platicúrtica:**  Se o valor é < 0 (ou < 3), então a função de distribuição é mais \"achatada\" que a distribuição normal."
      ]
    },
    {
      "cell_type": "code",
      "metadata": {
        "id": "ZCT5r6Kdu4tZ"
      },
      "source": [
        "import matplotlib.pyplot as plt\n",
        "import math\n",
        "import numpy as np\n",
        "import seaborn as sns\n",
        "import pandas as pd\n",
        "from scipy.stats import kurtosis, skew\n",
        "%matplotlib inline"
      ],
      "execution_count": null,
      "outputs": []
    },
    {
      "cell_type": "markdown",
      "metadata": {
        "id": "ioaRWHOzu9rs"
      },
      "source": [
        "**Função para calcular estatísticas.**"
      ]
    },
    {
      "cell_type": "code",
      "metadata": {
        "id": "ZvcaO7dmu70x"
      },
      "source": [
        "def calcula_estatisticas(data):\n",
        "  mean = round(np.mean(data),2)\n",
        "  mode = round(stats.mode(data,)[0][0],2)\n",
        "  median = round(np.median(data),2)\n",
        "  var = round(np.var(data),2)\n",
        "  std = round(np.std(data),2)\n",
        "  coef_pearson = round(stats.skew(data),2)\n",
        "  coef_curtose = round(kurtosis(data),2)\n",
        "  msg = print(\"Media: {}\\nModa: {}\\nMediana: {}\\nVariância: {}\\nDesvio Padrão: {}\\nCoeficiente Person: {}\\nCoeficiente de Curtose: {}\".format(mean,\n",
        "                                                                                                                                              median,\n",
        "                                                                                                                                              mode,\n",
        "                                                                                                                                              var,\n",
        "                                                                                                                                              std,\n",
        "                                                                                                                                              coef_pearson,\n",
        "                                                                                                                                              coef_curtose))\n",
        "  return msg"
      ],
      "execution_count": null,
      "outputs": []
    },
    {
      "cell_type": "markdown",
      "metadata": {
        "id": "DkH43YExvAlC"
      },
      "source": [
        "**Considere a seguinte amostra**"
      ]
    },
    {
      "cell_type": "code",
      "metadata": {
        "id": "6t0YJNvqu_BO"
      },
      "source": [
        "s0 = [4,5,6,5,5,6,6,5,4,5,5,5]"
      ],
      "execution_count": null,
      "outputs": []
    },
    {
      "cell_type": "code",
      "metadata": {
        "id": "yjGvk4UpvB6y",
        "colab": {
          "base_uri": "https://localhost:8080/"
        },
        "outputId": "1ec7525f-9229-40b7-e286-02927936a63a"
      },
      "source": [
        "calcula_estatisticas(s0)"
      ],
      "execution_count": null,
      "outputs": [
        {
          "output_type": "stream",
          "text": [
            "Media: 5.08\n",
            "Moda: 5.0\n",
            "Mediana: 5\n",
            "Variância: 0.41\n",
            "Desvio Padrão: 0.64\n",
            "Coeficiente Person: -0.08\n",
            "Coeficiente de Curtose: -0.58\n"
          ],
          "name": "stdout"
        }
      ]
    },
    {
      "cell_type": "markdown",
      "metadata": {
        "id": "1hbywzfDvFAO"
      },
      "source": [
        "**Distribuição Simétrica - Média = Moda = Mediana.**"
      ]
    },
    {
      "cell_type": "code",
      "metadata": {
        "id": "1KFdw9ejvDE5",
        "colab": {
          "base_uri": "https://localhost:8080/",
          "height": 479
        },
        "outputId": "74be1ab6-f35d-4b0a-d52f-bad6123d4ece"
      },
      "source": [
        "fig = plt.figure(figsize=(12, 4))\n",
        "ax = sns.distplot(s0,rug=True,kde=True,hist=False)\n",
        "\n",
        "ax.annotate('Mode', xy=(5, 0.4), xytext=(4.7, 0.7),arrowprops={'arrowstyle': '-'})         \n",
        "ax.annotate('Median', xy=(5, 0.4), xytext=(5.3, 0.7),arrowprops={'arrowstyle': '-'})\n",
        "ax.annotate('Média', xy=(5, 0.4), xytext=(5.0, 1), arrowprops={'arrowstyle': '-'})\n",
        "plt.show();"
      ],
      "execution_count": null,
      "outputs": [
        {
          "output_type": "stream",
          "text": [
            "/usr/local/lib/python3.6/dist-packages/seaborn/distributions.py:2557: FutureWarning: `distplot` is a deprecated function and will be removed in a future version. Please adapt your code to use either `displot` (a figure-level function with similar flexibility) or `kdeplot` (an axes-level function for kernel density plots).\n",
            "  warnings.warn(msg, FutureWarning)\n",
            "/usr/local/lib/python3.6/dist-packages/seaborn/distributions.py:2056: FutureWarning: The `axis` variable is no longer used and will be removed. Instead, assign variables directly to `x` or `y`.\n",
            "  warnings.warn(msg, FutureWarning)\n"
          ],
          "name": "stderr"
        },
        {
          "output_type": "display_data",
          "data": {
            "image/png": "[encoded data removed]",
            "text/plain": [
              "<Figure size 864x288 with 1 Axes>"
            ]
          },
          "metadata": {
            "tags": [],
            "needs_background": "light"
          }
        }
      ]
    },
    {
      "cell_type": "markdown",
      "metadata": {
        "id": "fbBXct8VvJ9L"
      },
      "source": [
        "Coeficiente de Pearson - O valor é próximo de zero a distribuição é simétrica.\n",
        "\n",
        "Coeficiente de Curtose - O valor é menor que 3 o grau de achatamento da distribuição normal é platicúrtica (mais achatada no platô)"
      ]
    },
    {
      "cell_type": "markdown",
      "metadata": {
        "id": "eHlP5D9bvMFK"
      },
      "source": [
        "**Considere a segunda amostra**"
      ]
    },
    {
      "cell_type": "code",
      "metadata": {
        "id": "jo1UbDgrvGrf"
      },
      "source": [
        "s1 = [12,8.0, 4, 3, 2,1,1]"
      ],
      "execution_count": null,
      "outputs": []
    },
    {
      "cell_type": "code",
      "metadata": {
        "id": "lUqadgXKvNuc",
        "colab": {
          "base_uri": "https://localhost:8080/"
        },
        "outputId": "49e2203b-ec4a-4704-d6c0-7970af023a93"
      },
      "source": [
        "calcula_estatisticas(s1)"
      ],
      "execution_count": null,
      "outputs": [
        {
          "output_type": "stream",
          "text": [
            "Media: 4.43\n",
            "Moda: 3.0\n",
            "Mediana: 1.0\n",
            "Variância: 14.53\n",
            "Desvio Padrão: 3.81\n",
            "Coeficiente Person: 0.98\n",
            "Coeficiente de Curtose: -0.45\n"
          ],
          "name": "stdout"
        }
      ]
    },
    {
      "cell_type": "markdown",
      "metadata": {
        "id": "gu88JrBFvRn0"
      },
      "source": [
        "Asimétrica Positiva / à direita - Média > Moda > Mediana"
      ]
    },
    {
      "cell_type": "code",
      "metadata": {
        "id": "eCWPHz_LvP22",
        "colab": {
          "base_uri": "https://localhost:8080/",
          "height": 354
        },
        "outputId": "2103b8e0-5131-4577-b306-d7fb4b503507"
      },
      "source": [
        "fig = plt.figure(figsize=(12, 4))\n",
        "ax = sns.distplot(s1,rug=True,kde=True,hist=False)\n",
        "\n",
        "ax.annotate('Moda', xy=(1,0.01), xytext=(1, 0.02),arrowprops={'arrowstyle': '-'})         \n",
        "ax.annotate('Mediana', xy=(3, 0.01), xytext=(3, 0.03),arrowprops={'arrowstyle': '-'})\n",
        "ax.annotate('Média', xy=(4.4, 0.01), xytext=(4.5, 0.02),arrowprops={'arrowstyle': '-'})\n",
        "plt.show();"
      ],
      "execution_count": null,
      "outputs": [
        {
          "output_type": "stream",
          "text": [
            "/usr/local/lib/python3.6/dist-packages/seaborn/distributions.py:2557: FutureWarning: `distplot` is a deprecated function and will be removed in a future version. Please adapt your code to use either `displot` (a figure-level function with similar flexibility) or `kdeplot` (an axes-level function for kernel density plots).\n",
            "  warnings.warn(msg, FutureWarning)\n",
            "/usr/local/lib/python3.6/dist-packages/seaborn/distributions.py:2056: FutureWarning: The `axis` variable is no longer used and will be removed. Instead, assign variables directly to `x` or `y`.\n",
            "  warnings.warn(msg, FutureWarning)\n"
          ],
          "name": "stderr"
        },
        {
          "output_type": "display_data",
          "data": {
            "image/png": "[encoded data removed]",
            "text/plain": [
              "<Figure size 864x288 with 1 Axes>"
            ]
          },
          "metadata": {
            "tags": [],
            "needs_background": "light"
          }
        }
      ]
    },
    {
      "cell_type": "markdown",
      "metadata": {
        "id": "c7X8dIWQvYLE"
      },
      "source": [
        "Coeficiente de Pearson - O valor é próximo de 1 a distribuição é assimétrica positiva"
      ]
    },
    {
      "cell_type": "markdown",
      "metadata": {
        "id": "AWBaX0mRvacx"
      },
      "source": [
        "**Considere a terceira amostra**"
      ]
    },
    {
      "cell_type": "code",
      "metadata": {
        "id": "cxwNZ9jAvVSR"
      },
      "source": [
        "s2 = [-3,-1,4,2.5,4,3]"
      ],
      "execution_count": null,
      "outputs": []
    },
    {
      "cell_type": "code",
      "metadata": {
        "id": "qdzyHz1Avbgb",
        "colab": {
          "base_uri": "https://localhost:8080/"
        },
        "outputId": "f5aba247-cb5d-4172-f051-2d0fd25c65c4"
      },
      "source": [
        "calcula_estatisticas(s2)"
      ],
      "execution_count": null,
      "outputs": [
        {
          "output_type": "stream",
          "text": [
            "Media: 1.58\n",
            "Moda: 2.75\n",
            "Mediana: 4.0\n",
            "Variância: 7.03\n",
            "Desvio Padrão: 2.65\n",
            "Coeficiente Person: -0.73\n",
            "Coeficiente de Curtose: -1.12\n"
          ],
          "name": "stdout"
        }
      ]
    },
    {
      "cell_type": "markdown",
      "metadata": {
        "id": "m8uVmAaCvggS"
      },
      "source": [
        "Asimétrica negativa / à esquerda - Média < Moda < Mediana"
      ]
    },
    {
      "cell_type": "code",
      "metadata": {
        "id": "WC85POxNve0V",
        "colab": {
          "base_uri": "https://localhost:8080/",
          "height": 357
        },
        "outputId": "0332f778-9fff-4708-ce0b-12a8a43da2f9"
      },
      "source": [
        "fig = plt.figure(figsize=(12, 4))\n",
        "ax = sns.distplot(s2,rug=True,kde=True,hist=False)\n",
        "\n",
        "ax.annotate('Moda', xy=(4,0.01), xytext=(5, 0.05),arrowprops={'arrowstyle': '-'})         \n",
        "ax.annotate('Mediana', xy=(2.75, 0.01), xytext=(3, 0.03),arrowprops={'arrowstyle': '-'})\n",
        "ax.annotate('Média', xy=(1.5, 0.01), xytext=(0.5, 0.05),arrowprops={'arrowstyle': '-'})\n",
        "plt.show()"
      ],
      "execution_count": null,
      "outputs": [
        {
          "output_type": "stream",
          "text": [
            "/usr/local/lib/python3.6/dist-packages/seaborn/distributions.py:2557: FutureWarning: `distplot` is a deprecated function and will be removed in a future version. Please adapt your code to use either `displot` (a figure-level function with similar flexibility) or `kdeplot` (an axes-level function for kernel density plots).\n",
            "  warnings.warn(msg, FutureWarning)\n",
            "/usr/local/lib/python3.6/dist-packages/seaborn/distributions.py:2056: FutureWarning: The `axis` variable is no longer used and will be removed. Instead, assign variables directly to `x` or `y`.\n",
            "  warnings.warn(msg, FutureWarning)\n"
          ],
          "name": "stderr"
        },
        {
          "output_type": "display_data",
          "data": {
            "image/png": "[encoded data removed]",
            "text/plain": [
              "<Figure size 864x288 with 1 Axes>"
            ]
          },
          "metadata": {
            "tags": [],
            "needs_background": "light"
          }
        }
      ]
    },
    {
      "cell_type": "markdown",
      "metadata": {
        "id": "sRC06HQBvjmP"
      },
      "source": [
        "Coeficiente de Pearson - O valor é próximo de -1 a distribuição é assimétrica negativa."
      ]
    },
    {
      "cell_type": "markdown",
      "metadata": {
        "id": "vimXCcpqvlx5"
      },
      "source": [
        "## Gerando dados aleatórios"
      ]
    },
    {
      "cell_type": "markdown",
      "metadata": {
        "id": "O4VnxgyJvnmS"
      },
      "source": [
        "## Amostra seguindo uma distribuição normal"
      ]
    },
    {
      "cell_type": "code",
      "metadata": {
        "id": "RjVyMVRPvhmg"
      },
      "source": [
        "sample_normal = np.random.normal(1,0.5,500)"
      ],
      "execution_count": null,
      "outputs": []
    },
    {
      "cell_type": "code",
      "metadata": {
        "id": "fMcYNueOvo0r",
        "colab": {
          "base_uri": "https://localhost:8080/"
        },
        "outputId": "aef2dfc5-da5d-422f-9019-d5509a633d7d"
      },
      "source": [
        "sample_normal[:10]"
      ],
      "execution_count": null,
      "outputs": [
        {
          "output_type": "execute_result",
          "data": {
            "text/plain": [
              "array([0.69878591, 0.01058173, 1.86902491, 2.10525421, 0.67154745,\n",
              "       1.57375593, 1.08271842, 1.49102749, 1.5170652 , 1.02483588])"
            ]
          },
          "metadata": {
            "tags": []
          },
          "execution_count": 111
        }
      ]
    },
    {
      "cell_type": "code",
      "metadata": {
        "id": "xvFyMTV9vp-t",
        "colab": {
          "base_uri": "https://localhost:8080/"
        },
        "outputId": "fe737c93-a733-4496-c729-1c68f77f091a"
      },
      "source": [
        "calcula_estatisticas(sample_normal)"
      ],
      "execution_count": null,
      "outputs": [
        {
          "output_type": "stream",
          "text": [
            "Media: 0.99\n",
            "Moda: 0.96\n",
            "Mediana: -0.67\n",
            "Variância: 0.26\n",
            "Desvio Padrão: 0.51\n",
            "Coeficiente Person: 0.14\n",
            "Coeficiente de Curtose: -0.11\n"
          ],
          "name": "stdout"
        }
      ]
    },
    {
      "cell_type": "markdown",
      "metadata": {
        "id": "XcrkED_AvsR9"
      },
      "source": [
        "**Visualizando a distribuição**"
      ]
    },
    {
      "cell_type": "code",
      "metadata": {
        "id": "tEsyJazgvrHF",
        "colab": {
          "base_uri": "https://localhost:8080/",
          "height": 337
        },
        "outputId": "2721b40e-79f0-4c31-ab24-129c1f253492"
      },
      "source": [
        "fig = plt.figure(figsize=(12, 4))\n",
        "sns.distplot(sample_normal)"
      ],
      "execution_count": null,
      "outputs": [
        {
          "output_type": "stream",
          "text": [
            "/usr/local/lib/python3.6/dist-packages/seaborn/distributions.py:2557: FutureWarning: `distplot` is a deprecated function and will be removed in a future version. Please adapt your code to use either `displot` (a figure-level function with similar flexibility) or `histplot` (an axes-level function for histograms).\n",
            "  warnings.warn(msg, FutureWarning)\n"
          ],
          "name": "stderr"
        },
        {
          "output_type": "execute_result",
          "data": {
            "text/plain": [
              "<matplotlib.axes._subplots.AxesSubplot at 0x7f40e9a3fe80>"
            ]
          },
          "metadata": {
            "tags": []
          },
          "execution_count": 113
        },
        {
          "output_type": "display_data",
          "data": {
            "image/png": "[encoded data removed]",
            "text/plain": [
              "<Figure size 864x288 with 1 Axes>"
            ]
          },
          "metadata": {
            "tags": [],
            "needs_background": "light"
          }
        }
      ]
    },
    {
      "cell_type": "markdown",
      "metadata": {
        "id": "OgOVY7Kcvvo8"
      },
      "source": [
        "Distribuição simétrica, com o coeficiente de pearson próximo a zero."
      ]
    },
    {
      "cell_type": "markdown",
      "metadata": {
        "id": "-p5b-8GDvx48"
      },
      "source": [
        "**Considere o seguinte exemplo**"
      ]
    },
    {
      "cell_type": "code",
      "metadata": {
        "id": "XS7_xFgpvt1T"
      },
      "source": [
        "exp = np.arange(2,len(sample_normal),2)"
      ],
      "execution_count": null,
      "outputs": []
    },
    {
      "cell_type": "markdown",
      "metadata": {
        "id": "ob17eoVrv0N4"
      },
      "source": [
        "**Verificando os expoentes**"
      ]
    },
    {
      "cell_type": "code",
      "metadata": {
        "id": "_x2PyLlVvzCo",
        "colab": {
          "base_uri": "https://localhost:8080/"
        },
        "outputId": "0e88739b-6e6e-408c-c043-b1183800cc98"
      },
      "source": [
        "exp[:10]"
      ],
      "execution_count": null,
      "outputs": [
        {
          "output_type": "execute_result",
          "data": {
            "text/plain": [
              "array([ 2,  4,  6,  8, 10, 12, 14, 16, 18, 20])"
            ]
          },
          "metadata": {
            "tags": []
          },
          "execution_count": 115
        }
      ]
    },
    {
      "cell_type": "markdown",
      "metadata": {
        "id": "z6Um58c2v4v8"
      },
      "source": [
        "## Gerando uma distribuição assimétrica positiva"
      ]
    },
    {
      "cell_type": "code",
      "metadata": {
        "id": "lz5bqKr2v3P8"
      },
      "source": [
        "sample_assimetrica_positiva = []\n",
        "for s,e in zip(sample_normal,exp):\n",
        "    sample_assimetrica_positiva.append(s*e)"
      ],
      "execution_count": null,
      "outputs": []
    },
    {
      "cell_type": "code",
      "metadata": {
        "id": "8t0FGXCtv7kN",
        "colab": {
          "base_uri": "https://localhost:8080/"
        },
        "outputId": "a495482c-878b-4798-e870-b8b46eda67e1"
      },
      "source": [
        "calcula_estatisticas(sample_assimetrica_positiva)"
      ],
      "execution_count": null,
      "outputs": [
        {
          "output_type": "stream",
          "text": [
            "Media: 238.37\n",
            "Moda: 204.08\n",
            "Mediana: -10.78\n",
            "Variância: 33305.75\n",
            "Desvio Padrão: 182.5\n",
            "Coeficiente Person: 0.82\n",
            "Coeficiente de Curtose: 0.15\n"
          ],
          "name": "stdout"
        }
      ]
    },
    {
      "cell_type": "markdown",
      "metadata": {
        "id": "1Amgg79av91x"
      },
      "source": [
        "**Visualizando a distribuição**"
      ]
    },
    {
      "cell_type": "code",
      "metadata": {
        "id": "foZ31i5Iv8p3",
        "colab": {
          "base_uri": "https://localhost:8080/",
          "height": 320
        },
        "outputId": "f47b77f3-f6ad-406c-e886-d2b912e111b0"
      },
      "source": [
        "sns.distplot(sample_assimetrica_positiva);"
      ],
      "execution_count": null,
      "outputs": [
        {
          "output_type": "stream",
          "text": [
            "/usr/local/lib/python3.6/dist-packages/seaborn/distributions.py:2557: FutureWarning: `distplot` is a deprecated function and will be removed in a future version. Please adapt your code to use either `displot` (a figure-level function with similar flexibility) or `histplot` (an axes-level function for histograms).\n",
            "  warnings.warn(msg, FutureWarning)\n"
          ],
          "name": "stderr"
        },
        {
          "output_type": "display_data",
          "data": {
            "image/png": "[encoded data removed]",
            "text/plain": [
              "<Figure size 432x288 with 1 Axes>"
            ]
          },
          "metadata": {
            "tags": [],
            "needs_background": "light"
          }
        }
      ]
    },
    {
      "cell_type": "markdown",
      "metadata": {
        "id": "IppOCvYdwBU3"
      },
      "source": [
        "## Gerando uma distribuição assimétrica negativa"
      ]
    },
    {
      "cell_type": "code",
      "metadata": {
        "id": "i3UMygARv_ga"
      },
      "source": [
        "exp = (np.arange(2,len(sample_normal),2))*-1"
      ],
      "execution_count": null,
      "outputs": []
    },
    {
      "cell_type": "markdown",
      "metadata": {
        "id": "3DiLzjUhwFqB"
      },
      "source": [
        "**Verificando os expoentes**"
      ]
    },
    {
      "cell_type": "code",
      "metadata": {
        "id": "57zDjOV1wDg5",
        "colab": {
          "base_uri": "https://localhost:8080/"
        },
        "outputId": "c95aa5ec-eac2-4f3e-8460-d1f0f2199702"
      },
      "source": [
        "exp[:10]"
      ],
      "execution_count": null,
      "outputs": [
        {
          "output_type": "execute_result",
          "data": {
            "text/plain": [
              "array([ -2,  -4,  -6,  -8, -10, -12, -14, -16, -18, -20])"
            ]
          },
          "metadata": {
            "tags": []
          },
          "execution_count": 120
        }
      ]
    },
    {
      "cell_type": "code",
      "metadata": {
        "id": "V9O9EQhIwIzN"
      },
      "source": [
        "sample_assimetrica_negativa = []\n",
        "for s,e in zip(sample_normal,exp):\n",
        "    sample_assimetrica_negativa.append(s*e)"
      ],
      "execution_count": null,
      "outputs": []
    },
    {
      "cell_type": "code",
      "metadata": {
        "id": "tJmWo70SwJ58",
        "colab": {
          "base_uri": "https://localhost:8080/"
        },
        "outputId": "b4ec088d-a3f5-4ec8-a7cd-e3382c697945"
      },
      "source": [
        "calcula_estatisticas(sample_assimetrica_negativa)"
      ],
      "execution_count": null,
      "outputs": [
        {
          "output_type": "stream",
          "text": [
            "Media: -238.37\n",
            "Moda: -204.08\n",
            "Mediana: -883.65\n",
            "Variância: 33305.75\n",
            "Desvio Padrão: 182.5\n",
            "Coeficiente Person: -0.82\n",
            "Coeficiente de Curtose: 0.15\n"
          ],
          "name": "stdout"
        }
      ]
    },
    {
      "cell_type": "markdown",
      "metadata": {
        "id": "V8_V6cwfwMYD"
      },
      "source": [
        "**Visualizando a distribuição**"
      ]
    },
    {
      "cell_type": "code",
      "metadata": {
        "id": "OcdpwOhqwLAw",
        "colab": {
          "base_uri": "https://localhost:8080/",
          "height": 320
        },
        "outputId": "9b45250b-5063-4d1f-c66d-0f3e67a8e855"
      },
      "source": [
        "sns.distplot(sample_assimetrica_negativa);"
      ],
      "execution_count": null,
      "outputs": [
        {
          "output_type": "stream",
          "text": [
            "/usr/local/lib/python3.6/dist-packages/seaborn/distributions.py:2557: FutureWarning: `distplot` is a deprecated function and will be removed in a future version. Please adapt your code to use either `displot` (a figure-level function with similar flexibility) or `histplot` (an axes-level function for histograms).\n",
            "  warnings.warn(msg, FutureWarning)\n"
          ],
          "name": "stderr"
        },
        {
          "output_type": "display_data",
          "data": {
            "image/png": "[encoded data removed]",
            "text/plain": [
              "<Figure size 432x288 with 1 Axes>"
            ]
          },
          "metadata": {
            "tags": [],
            "needs_background": "light"
          }
        }
      ]
    },
    {
      "cell_type": "markdown",
      "metadata": {
        "id": "HlXCAoeAwPk4"
      },
      "source": [
        "**Verificando graficamente as distribuições dos atributos do Dataframe**"
      ]
    },
    {
      "cell_type": "code",
      "metadata": {
        "id": "8BRF1PUewOM_",
        "colab": {
          "base_uri": "https://localhost:8080/",
          "height": 1000
        },
        "outputId": "10cc3d68-dcda-4e30-ecf7-d323d0de3ad2"
      },
      "source": [
        "import matplotlib.pyplot as plt\n",
        "\n",
        "fig, axes = plt.subplots(nrows=3, ncols=3,figsize=(16, 12))\n",
        "for i, column in enumerate(df.select_dtypes(include=np.number).columns.tolist()):\n",
        "    sns.distplot(df[column],ax=axes[i//3,i%3]);"
      ],
      "execution_count": null,
      "outputs": [
        {
          "output_type": "stream",
          "text": [
            "/usr/local/lib/python3.6/dist-packages/seaborn/distributions.py:2557: FutureWarning: `distplot` is a deprecated function and will be removed in a future version. Please adapt your code to use either `displot` (a figure-level function with similar flexibility) or `histplot` (an axes-level function for histograms).\n",
            "  warnings.warn(msg, FutureWarning)\n",
            "/usr/local/lib/python3.6/dist-packages/seaborn/distributions.py:2557: FutureWarning: `distplot` is a deprecated function and will be removed in a future version. Please adapt your code to use either `displot` (a figure-level function with similar flexibility) or `histplot` (an axes-level function for histograms).\n",
            "  warnings.warn(msg, FutureWarning)\n",
            "/usr/local/lib/python3.6/dist-packages/seaborn/distributions.py:2557: FutureWarning: `distplot` is a deprecated function and will be removed in a future version. Please adapt your code to use either `displot` (a figure-level function with similar flexibility) or `histplot` (an axes-level function for histograms).\n",
            "  warnings.warn(msg, FutureWarning)\n",
            "/usr/local/lib/python3.6/dist-packages/seaborn/distributions.py:2557: FutureWarning: `distplot` is a deprecated function and will be removed in a future version. Please adapt your code to use either `displot` (a figure-level function with similar flexibility) or `histplot` (an axes-level function for histograms).\n",
            "  warnings.warn(msg, FutureWarning)\n",
            "/usr/local/lib/python3.6/dist-packages/seaborn/distributions.py:2557: FutureWarning: `distplot` is a deprecated function and will be removed in a future version. Please adapt your code to use either `displot` (a figure-level function with similar flexibility) or `histplot` (an axes-level function for histograms).\n",
            "  warnings.warn(msg, FutureWarning)\n",
            "/usr/local/lib/python3.6/dist-packages/seaborn/distributions.py:2557: FutureWarning: `distplot` is a deprecated function and will be removed in a future version. Please adapt your code to use either `displot` (a figure-level function with similar flexibility) or `histplot` (an axes-level function for histograms).\n",
            "  warnings.warn(msg, FutureWarning)\n",
            "/usr/local/lib/python3.6/dist-packages/seaborn/distributions.py:2557: FutureWarning: `distplot` is a deprecated function and will be removed in a future version. Please adapt your code to use either `displot` (a figure-level function with similar flexibility) or `histplot` (an axes-level function for histograms).\n",
            "  warnings.warn(msg, FutureWarning)\n",
            "/usr/local/lib/python3.6/dist-packages/seaborn/distributions.py:2557: FutureWarning: `distplot` is a deprecated function and will be removed in a future version. Please adapt your code to use either `displot` (a figure-level function with similar flexibility) or `histplot` (an axes-level function for histograms).\n",
            "  warnings.warn(msg, FutureWarning)\n",
            "/usr/local/lib/python3.6/dist-packages/seaborn/distributions.py:2557: FutureWarning: `distplot` is a deprecated function and will be removed in a future version. Please adapt your code to use either `displot` (a figure-level function with similar flexibility) or `histplot` (an axes-level function for histograms).\n",
            "  warnings.warn(msg, FutureWarning)\n"
          ],
          "name": "stderr"
        },
        {
          "output_type": "display_data",
          "data": {
            "image/png": "[encoded data removed]",
            "text/plain": [
              "<Figure size 1152x864 with 9 Axes>"
            ]
          },
          "metadata": {
            "tags": [],
            "needs_background": "light"
          }
        }
      ]
    },
    {
      "cell_type": "markdown",
      "metadata": {
        "id": "V-oWHfJawTsU"
      },
      "source": [
        "**Verificando a distribuição de probabilidade e a diferença entre a média e a mediana**"
      ]
    },
    {
      "cell_type": "code",
      "metadata": {
        "id": "tjFqqmXTwRfc",
        "colab": {
          "base_uri": "https://localhost:8080/"
        },
        "outputId": "8e08f2b5-55a9-4b03-d43b-4f1f0939da1c"
      },
      "source": [
        "for i, column in enumerate(df.select_dtypes(include=np.number).columns.tolist()):\n",
        "    media = round(df[column].mean(),2)\n",
        "    std = df[column].std()\n",
        "    cvar = round(std/media*100,2)\n",
        "    median = df[column].median()\n",
        "    print(\"Atributo: {}, Coeficiente de Variação: {} %, Media: {}, Mediana: {}\".format(column,cvar,media,median))"
      ],
      "execution_count": null,
      "outputs": [
        {
          "output_type": "stream",
          "text": [
            "Atributo: MSRP, Coeficiente de Variação: 59.29 %, Media: 32774.86, Mediana: 27635.0\n",
            "Atributo: EngineSize, Coeficiente de Variação: 34.64 %, Media: 3.2, Mediana: 3.0\n",
            "Atributo: Cylinders, Coeficiente de Variação: 26.82 %, Media: 5.81, Mediana: 6.0\n",
            "Atributo: Horsepower, Coeficiente de Variação: 33.27 %, Media: 215.89, Mediana: 210.0\n",
            "Atributo: MPG_City, Coeficiente de Variação: 26.11 %, Media: 20.06, Mediana: 19.0\n",
            "Atributo: MPG_Highway, Coeficiente de Variação: 21.39 %, Media: 26.84, Mediana: 26.0\n",
            "Atributo: Weight, Coeficiente de Variação: 21.21 %, Media: 3577.95, Mediana: 3474.5\n",
            "Atributo: Wheelbase, Coeficiente de Variação: 7.69 %, Media: 108.15, Mediana: 107.0\n",
            "Atributo: Length, Coeficiente de Variação: 7.7 %, Media: 186.36, Mediana: 187.0\n"
          ],
          "name": "stdout"
        }
      ]
    },
    {
      "cell_type": "markdown",
      "metadata": {
        "id": "JLXIOdEVXSKO"
      },
      "source": [
        "# Obrigado!\n",
        "\n",
        "Obrigado por ter disponibilizado um pouco do seu tempo e atenção aqui. Espero que, de alguma forma, tenha sido útil para seu crescimento. Se houver qualquer dúvida ou sugestão, não hesite em entrar em contato no [LinkedIn](https://www.linkedin.com/in/daniel-sousa-amador) e verificar meus outros projetos no [GitHub](https://github.com/amadords).\n",
        "\n",
        "[![LinkedIn](https://img.shields.io/badge/LinkedIn-DanielSousaAmador-cyan.svg)](https://www.linkedin.com/in/daniel-sousa-amador)\n",
        "[![GitHub](https://img.shields.io/badge/GitHub-amadords-darkblue.svg)](https://github.com/amadords)\n",
        "[![Medium](https://img.shields.io/badge/Medium-DanielSousaAmador-white.svg)](https://daniel-s-amador.medium.com/)\n",
        "\n",
        "\n",
        "<center><img width=\"90%\" src=\"https://raw.githubusercontent.com/danielamador12/Portfolio/master/github.png\"></center>"
      ]
    },
    {
      "cell_type": "markdown",
      "metadata": {
        "id": "4TdS2aQuJ9rZ"
      },
      "source": [
        "Material baseado nas aulas do [Minerando Dados](https://minerandodados.com.br/) e [EstatiDados](http://estatidados.com.br/)"
      ]
    }
  ]
}