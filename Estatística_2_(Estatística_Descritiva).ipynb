{
  "nbformat": 4,
  "nbformat_minor": 0,
  "metadata": {
    "colab": {
      "name": "Estatística 2  (Estatística Descritiva)",
      "provenance": [],
      "collapsed_sections": [],
      "authorship_tag": "ABX9TyPfrT+Ff6jZLzW+5+WafTe2",
      "include_colab_link": true
    },
    "kernelspec": {
      "name": "python3",
      "display_name": "Python 3"
    }
  },
  "cells": [
    {
      "cell_type": "markdown",
      "metadata": {
        "id": "view-in-github",
        "colab_type": "text"
      },
      "source": [
        "<a href=\"https://colab.research.google.com/github/amadords/Projetos-Publicos/blob/master/Estat%C3%ADstica_2_(Estat%C3%ADstica_Descritiva).ipynb\" target=\"_parent\"><img src=\"https://colab.research.google.com/assets/colab-badge.svg\" alt=\"Open In Colab\"/></a>"
      ]
    },
    {
      "cell_type": "markdown",
      "metadata": {
        "id": "rZWs3xdUR8Uw"
      },
      "source": [
        "# Estatística Descritiva\n",
        "---\n",
        "\n",
        "\n",
        "[![LinkedIn](https://img.shields.io/badge/LinkedIn-DanielSousaAmador-purple.svg)](https://www.linkedin.com/in/daniel-sousa-amador)\n",
        "[![GitHub](https://img.shields.io/badge/GitHub-amadords-darkblue.svg)](https://github.com/amadords)\n",
        "[![Medium](https://img.shields.io/badge/Medium-DanielSousaAmador-darkorange.svg)](https://medium.com/@daniel.s.amador)\n",
        "\n",
        "![img](https://image.freepik.com/vetores-gratis/ilustracao-do-grafico-de-analise-de-dados_53876-18130.jpg)\n",
        "\n",
        "\n",
        "Como já mencionado no [Estatística 1 (Amostragem)](https://bit.ly/3dtw22J), a Estatística Descritiva é uma das grandes áreas da Estatística Clássica e é, sem dúvida, uma das mais importantes na Ciência de Dados.\n",
        "\n",
        "Seu objetivo é, intuitivamente. descrever os dados e trazer *insights* úteis em análises.\n",
        "\n",
        "Trataremos de temas gerais fundamentais como médias, medidas separatrizes e medidas de assimetria.\n",
        "\n",
        "## Checklist\n",
        "\n",
        "- 1. Médias\n",
        "- 2. Medidas Separatrizes\n",
        "- 3. Exemplo usando uma Base de Dados Real\n",
        "- 4. Medidas de Assimetria\n",
        "\n",
        "Fonte: [Minerando Dados](https://minerandodados.com.br/) e [EstatiDados](http://estatidados.com.br/)"
      ]
    },
    {
      "cell_type": "code",
      "metadata": {
        "id": "TLHKn99wSAom"
      },
      "source": [
        "# Importação das bibliotecas: scipy para gerar estatísticas mais detalhadas\n",
        "import numpy as np\n",
        "import matplotlib.pyplot as plt\n",
        "from scipy import stats\n",
        "from scipy.stats.mstats import gmean,hmean\n",
        "from scipy import stats\n",
        "from cycler import cycler"
      ],
      "execution_count": null,
      "outputs": []
    },
    {
      "cell_type": "markdown",
      "metadata": {
        "id": "IrXNUi9t93di"
      },
      "source": [
        "## Iniciando pelos conceitos gerais"
      ]
    },
    {
      "cell_type": "markdown",
      "metadata": {
        "id": "oeLip_TI98wO"
      },
      "source": [
        "**Criando alguns dados**"
      ]
    },
    {
      "cell_type": "code",
      "metadata": {
        "id": "KTbf9prjSCD1"
      },
      "source": [
        "# Criação da variável com os dados dos jogadores, visualização da mediana e média\n",
        "idades = [40, 50, 18, 25, 10, 12, 34, 25, 27, 3, 90]"
      ],
      "execution_count": null,
      "outputs": []
    },
    {
      "cell_type": "markdown",
      "metadata": {
        "id": "Z-kY6fXq-B6V"
      },
      "source": [
        "**Mediana**"
      ]
    },
    {
      "cell_type": "code",
      "metadata": {
        "id": "e87cpCeuSDaU",
        "outputId": "056d7cbf-4156-4c55-b7a2-2162ad92654d",
        "colab": {
          "base_uri": "https://localhost:8080/",
          "height": 36
        }
      },
      "source": [
        "np.median(idades)"
      ],
      "execution_count": null,
      "outputs": [
        {
          "output_type": "execute_result",
          "data": {
            "text/plain": [
              "25.0"
            ]
          },
          "metadata": {
            "tags": []
          },
          "execution_count": 3
        }
      ]
    },
    {
      "cell_type": "markdown",
      "metadata": {
        "id": "U67a59Xz-FGT"
      },
      "source": [
        "**Quartis**"
      ]
    },
    {
      "cell_type": "code",
      "metadata": {
        "id": "RSCGCG60SFAx",
        "outputId": "20e80da6-b390-4593-e520-6334f60fcfbb",
        "colab": {
          "base_uri": "https://localhost:8080/",
          "height": 36
        }
      },
      "source": [
        "quartis = np.quantile(idades, [0, 0.25, 0.5, 0.75, 1])\n",
        "quartis"
      ],
      "execution_count": null,
      "outputs": [
        {
          "output_type": "execute_result",
          "data": {
            "text/plain": [
              "array([ 3., 15., 25., 37., 90.])"
            ]
          },
          "metadata": {
            "tags": []
          },
          "execution_count": 4
        }
      ]
    },
    {
      "cell_type": "markdown",
      "metadata": {
        "id": "utqpisgM-Jpr"
      },
      "source": [
        "**Desvio Padrão**\n",
        "\n",
        "ddof = Graus Delta de Liberdade"
      ]
    },
    {
      "cell_type": "code",
      "metadata": {
        "id": "kaxrhMqDSGYn",
        "outputId": "0a20caff-685b-4fd0-e523-f4cb3ce3ce51",
        "colab": {
          "base_uri": "https://localhost:8080/",
          "height": 36
        }
      },
      "source": [
        "np.std(idades, ddof = 1)"
      ],
      "execution_count": null,
      "outputs": [
        {
          "output_type": "execute_result",
          "data": {
            "text/plain": [
              "24.021959650589405"
            ]
          },
          "metadata": {
            "tags": []
          },
          "execution_count": 5
        }
      ]
    },
    {
      "cell_type": "markdown",
      "metadata": {
        "id": "5R7Qo41_-TLg"
      },
      "source": [
        "**Estatísticas mais detalhadas usando a biblioteca scipy**"
      ]
    },
    {
      "cell_type": "code",
      "metadata": {
        "id": "VyO50XPfSHtO",
        "outputId": "ea54beb2-763f-4a09-e0fc-97c832cadd3c",
        "colab": {
          "base_uri": "https://localhost:8080/",
          "height": 36
        }
      },
      "source": [
        "stats.describe(idades)"
      ],
      "execution_count": null,
      "outputs": [
        {
          "output_type": "execute_result",
          "data": {
            "text/plain": [
              "DescribeResult(nobs=11, minmax=(3, 90), mean=30.363636363636363, variance=577.0545454545455, skewness=1.386471893337156, kurtosis=1.5182414824307422)"
            ]
          },
          "metadata": {
            "tags": []
          },
          "execution_count": 6
        }
      ]
    },
    {
      "cell_type": "markdown",
      "metadata": {
        "id": "ArHlZ76V-ZeB"
      },
      "source": [
        "# 1. Médias"
      ]
    },
    {
      "cell_type": "markdown",
      "metadata": {
        "id": "bb0IavnYjX2v"
      },
      "source": [
        "## Média Aritmética (MA)\n",
        "\n",
        "É a soma de todos os elementos do conjunto, divididos pelo número de elementos que compõe o conjunto.\n",
        "\n",
        "![alt text](https://wikimedia.org/api/rest_v1/media/math/render/svg/c938ca170f8c4a5d2dddecabc5ae1d5eb5f35a2b)"
      ]
    },
    {
      "cell_type": "code",
      "metadata": {
        "id": "Fr7xrEemgGDA",
        "outputId": "88099da0-6dcb-4141-ef99-fbba01a08233",
        "colab": {
          "base_uri": "https://localhost:8080/",
          "height": 36
        }
      },
      "source": [
        "np.mean(idades)"
      ],
      "execution_count": null,
      "outputs": [
        {
          "output_type": "execute_result",
          "data": {
            "text/plain": [
              "30.363636363636363"
            ]
          },
          "metadata": {
            "tags": []
          },
          "execution_count": 7
        }
      ]
    },
    {
      "cell_type": "markdown",
      "metadata": {
        "id": "LmK752qAELzO"
      },
      "source": [
        "## Média Geométrica (MP)\n",
        "\n",
        "Igual a média aritmética, porém utilizando pesos."
      ]
    },
    {
      "cell_type": "code",
      "metadata": {
        "id": "ZMkWYUSLD3C3",
        "outputId": "7cb1e9c8-0b38-48fe-aed7-95b9e8fd1a60",
        "colab": {
          "base_uri": "https://localhost:8080/",
          "height": 36
        }
      },
      "source": [
        "np.average(idades, weights=[.25,.75,.25,.75,.20,.70,.25,.75,.20,.70,.80])"
      ],
      "execution_count": null,
      "outputs": [
        {
          "output_type": "execute_result",
          "data": {
            "text/plain": [
              "33.55357142857143"
            ]
          },
          "metadata": {
            "tags": []
          },
          "execution_count": 8
        }
      ]
    },
    {
      "cell_type": "markdown",
      "metadata": {
        "id": "OLZrQ6-VjKAz"
      },
      "source": [
        "## Média Geométrica (MG)\n",
        "\n",
        "É a raíz n-ésima do produto de todos os elementos que compõe o conjunto.\n",
        "\n",
        "![alt text](https://wikimedia.org/api/rest_v1/media/math/render/svg/82fb3d898a5de7ae016b07855c335ce570350410)"
      ]
    },
    {
      "cell_type": "code",
      "metadata": {
        "id": "YITL-f5RjJwp",
        "outputId": "228ea228-be9b-4663-a8ea-ba2f8402089b",
        "colab": {
          "base_uri": "https://localhost:8080/",
          "height": 36
        }
      },
      "source": [
        "gmean(idades)"
      ],
      "execution_count": null,
      "outputs": [
        {
          "output_type": "execute_result",
          "data": {
            "text/plain": [
              "22.273020149608072"
            ]
          },
          "metadata": {
            "tags": []
          },
          "execution_count": 9
        }
      ]
    },
    {
      "cell_type": "markdown",
      "metadata": {
        "id": "Ynjr1ks-kBlA"
      },
      "source": [
        "## Média Harmônica (MH)\n",
        "\n",
        "É o número de elementos, divididos pela soma dos inversos dos elementos que compõem o conjunto.\n",
        "\n",
        "![alt text](https://wikimedia.org/api/rest_v1/media/math/render/svg/5335415727099e38ba27a1775613020dc4b584de)"
      ]
    },
    {
      "cell_type": "code",
      "metadata": {
        "id": "zz3HU0K3jzQw",
        "outputId": "8f2ad19d-ded9-4ab0-a5ee-a553b3b6dca3",
        "colab": {
          "base_uri": "https://localhost:8080/",
          "height": 36
        }
      },
      "source": [
        "hmean(idades)"
      ],
      "execution_count": null,
      "outputs": [
        {
          "output_type": "execute_result",
          "data": {
            "text/plain": [
              "14.197539543057998"
            ]
          },
          "metadata": {
            "tags": []
          },
          "execution_count": 10
        }
      ]
    },
    {
      "cell_type": "markdown",
      "metadata": {
        "id": "4VfBqrYzpgGS"
      },
      "source": [
        "**Quando usar cada uma das médias?**"
      ]
    },
    {
      "cell_type": "markdown",
      "metadata": {
        "id": "W6HP8JEHAFbn"
      },
      "source": [
        "**Criando funções para exibir resultados**"
      ]
    },
    {
      "cell_type": "code",
      "metadata": {
        "id": "enAZw_dDpHdO"
      },
      "source": [
        "# função para plotar linhas\n",
        "\n",
        "def plot_lines(dados, valor_central):\n",
        "  if valor_central in dados:\n",
        "    posicao_central = dados.index(valor_central)+1\n",
        "  else:\n",
        "    dados.append(valor_central)\n",
        "    dados.sort()\n",
        "    posicao_central = dados.index(valor_central)+1\n",
        "  \n",
        "  posicoes = np.arange(1,len(dados)+1,1)\n",
        "  plt.figure(figsize=(8,6))\n",
        "  plt.plot(posicoes,dados,'o-', color='red',ms=15)\n",
        "  plt.plot(posicao_central, valor_central, 'o-',color='blue',ms=15)\n",
        "  plt.show()"
      ],
      "execution_count": null,
      "outputs": []
    },
    {
      "cell_type": "code",
      "metadata": {
        "id": "b-KvyV21pjec"
      },
      "source": [
        "# função para plotar médias\n",
        "\n",
        "def plot_line_means(dados, mean, gmean,hmean):\n",
        "  posicoes_centrais=[]\n",
        "  y=[]\n",
        "  x = dados\n",
        "  \n",
        "  for m in [mean,gmean,hmean]:\n",
        "    x.append(m)\n",
        "  \n",
        "  x.sort()\n",
        "  for m in [mean,gmean,hmean]:\n",
        "    if m in x:\n",
        "      posicoes_centrais.append(x.index(m)+1)\n",
        "  \n",
        "  print(\"Dados: {}\".format(x))\n",
        "  print(\"Media aritmética: {}, Média Geométrica: {}, Média Harmonica: {}\".format(mean,gmean,hmean))\n",
        "  \n",
        "  y = np.arange(1,len(x)+1,1)\n",
        "  \n",
        "  plt.figure(figsize=(8,6))\n",
        "  plt.rc('axes', prop_cycle=(cycler('color', ['r', 'g', 'b'])))\n",
        "  plt.plot(y,x,'o-', color='black',ms=15)\n",
        "  medias = ['MA','MG','MH'] \n",
        "  i=0\n",
        "  for posicao_central,valor_central in zip(posicoes_centrais,[mean,gmean,hmean]):\n",
        "    plt.plot(posicao_central, valor_central, 'o-',ms=15)\n",
        "    plt.text(x=posicao_central+0.2, y=valor_central+0.2, s=medias[i], alpha=0.7, color='#334f8d')\n",
        "    i+=1\n",
        "\n",
        "  plt.show()"
      ],
      "execution_count": null,
      "outputs": []
    },
    {
      "cell_type": "code",
      "metadata": {
        "id": "sfwsGvaupkga"
      },
      "source": [
        "# função para plotar linhas horizontais\n",
        "\n",
        "def plot_lines_horizontal(dados,valor_central):\n",
        "  plt.figure(figsize=(10,6))\n",
        "  y = 0\n",
        "  plt.hlines(y, min(dados), max(dados))\n",
        "  for n in dados:\n",
        "    if n == valor_central:\n",
        "      plt.plot(n,y, 'o', ms = 15, color='blue')\n",
        "      continue  \n",
        "    plt.plot(n,y, 'o', ms = 15, color = 'red')"
      ],
      "execution_count": null,
      "outputs": []
    },
    {
      "cell_type": "markdown",
      "metadata": {
        "id": "ogFKTO4RppWR"
      },
      "source": [
        "## Considere os cenários\n",
        "\n",
        "Exemplo de dados gerados a partir de uma **operação de adição**, a soma do valor 3 em cada elemento do vetor (relacionamento linear)"
      ]
    },
    {
      "cell_type": "code",
      "metadata": {
        "id": "nrmD1HTtpl7A"
      },
      "source": [
        "dados_linear = [1, 4, 7, 10, 13, 16, 19]"
      ],
      "execution_count": null,
      "outputs": []
    },
    {
      "cell_type": "markdown",
      "metadata": {
        "id": "GMdoJt9Op0NF"
      },
      "source": [
        "Calculando a **média aritmética**"
      ]
    },
    {
      "cell_type": "code",
      "metadata": {
        "id": "8kdjAAPEpxxJ"
      },
      "source": [
        "media = int(np.mean(dados_linear))"
      ],
      "execution_count": null,
      "outputs": []
    },
    {
      "cell_type": "code",
      "metadata": {
        "id": "CobvV73Rp2K8",
        "outputId": "a759251e-eef1-4945-9675-3e9020d487b5",
        "colab": {
          "base_uri": "https://localhost:8080/",
          "height": 36
        }
      },
      "source": [
        "print(\"Valor da média aritmética dos dados: {}\".format(media))"
      ],
      "execution_count": null,
      "outputs": [
        {
          "output_type": "stream",
          "text": [
            "Valor da média aritmética dos dados: 10\n"
          ],
          "name": "stdout"
        }
      ]
    },
    {
      "cell_type": "markdown",
      "metadata": {
        "id": "rr1MrB9mp6Cy"
      },
      "source": [
        "**Plotando os dados e seu valor central**"
      ]
    },
    {
      "cell_type": "code",
      "metadata": {
        "id": "T9sN4E8Cp38R",
        "outputId": "38fff92c-2817-4672-f8de-34bbe648078c",
        "colab": {
          "base_uri": "https://localhost:8080/",
          "height": 374
        }
      },
      "source": [
        "plot_lines(dados_linear,media)"
      ],
      "execution_count": null,
      "outputs": [
        {
          "output_type": "display_data",
          "data": {
            "image/png": "[encoded data removed]",
            "text/plain": [
              "<Figure size 576x432 with 1 Axes>"
            ]
          },
          "metadata": {
            "tags": [],
            "needs_background": "light"
          }
        }
      ]
    },
    {
      "cell_type": "code",
      "metadata": {
        "id": "e7vTQDAcp8c7",
        "outputId": "f6120240-161b-46df-c79e-0162a9f8aef6",
        "colab": {
          "base_uri": "https://localhost:8080/",
          "height": 374
        }
      },
      "source": [
        "plot_lines_horizontal(dados_linear,media)"
      ],
      "execution_count": null,
      "outputs": [
        {
          "output_type": "display_data",
          "data": {
            "image/png": "[encoded data removed]",
            "text/plain": [
              "<Figure size 720x432 with 1 Axes>"
            ]
          },
          "metadata": {
            "tags": [],
            "needs_background": "light"
          }
        }
      ]
    },
    {
      "cell_type": "markdown",
      "metadata": {
        "id": "D7N1YIzZqItd"
      },
      "source": [
        "Exemplo de dados gerados a partir de uma **operação de multiplicação**, a multiplicação de cada elemento pelo valor de 3 (relacionamento exponencial)"
      ]
    },
    {
      "cell_type": "code",
      "metadata": {
        "id": "iv04AlTbqGRW"
      },
      "source": [
        "dados_exponencial = [1, 3, 9, 27, 81, 243, 729]"
      ],
      "execution_count": null,
      "outputs": []
    },
    {
      "cell_type": "markdown",
      "metadata": {
        "id": "daYKINO5qNdE"
      },
      "source": [
        "Calculando a **média aritmética**"
      ]
    },
    {
      "cell_type": "markdown",
      "metadata": {
        "id": "SjFU6uEYqQQ_"
      },
      "source": [
        "(1 + 3 + 9 + 27 + 81 + 243 + 729) ÷ 7 = **156.1**"
      ]
    },
    {
      "cell_type": "code",
      "metadata": {
        "id": "lR8Jja0-qL2C"
      },
      "source": [
        "media = int(np.mean(dados_exponencial))"
      ],
      "execution_count": null,
      "outputs": []
    },
    {
      "cell_type": "code",
      "metadata": {
        "id": "v2mZrOyEqSTF",
        "outputId": "2c408968-766c-4ffc-a2d1-6ccfb301eab0",
        "colab": {
          "base_uri": "https://localhost:8080/",
          "height": 36
        }
      },
      "source": [
        "print(\"Valor da média aritmética dos dados: {}\".format(media))"
      ],
      "execution_count": null,
      "outputs": [
        {
          "output_type": "stream",
          "text": [
            "Valor da média aritmética dos dados: 156\n"
          ],
          "name": "stdout"
        }
      ]
    },
    {
      "cell_type": "code",
      "metadata": {
        "id": "SQ-vj_M_qcyD",
        "outputId": "d0ef691f-d1a1-4d39-da6c-74522cb62e34",
        "colab": {
          "base_uri": "https://localhost:8080/",
          "height": 374
        }
      },
      "source": [
        "plot_lines(dados_exponencial,media)"
      ],
      "execution_count": null,
      "outputs": [
        {
          "output_type": "display_data",
          "data": {
            "image/png": "[encoded data removed]",
            "text/plain": [
              "<Figure size 576x432 with 1 Axes>"
            ]
          },
          "metadata": {
            "tags": [],
            "needs_background": "light"
          }
        }
      ]
    },
    {
      "cell_type": "code",
      "metadata": {
        "id": "F9G3Jb1Pqd0I",
        "outputId": "cac435d1-d5de-4ddb-eb8a-554e873cdca4",
        "colab": {
          "base_uri": "https://localhost:8080/",
          "height": 374
        }
      },
      "source": [
        "plot_lines_horizontal(dados_exponencial,media)"
      ],
      "execution_count": null,
      "outputs": [
        {
          "output_type": "display_data",
          "data": {
            "image/png": "[encoded data removed]",
            "text/plain": [
              "<Figure size 720x432 with 1 Axes>"
            ]
          },
          "metadata": {
            "tags": [],
            "needs_background": "light"
          }
        }
      ]
    },
    {
      "cell_type": "markdown",
      "metadata": {
        "id": "qmKkswtDqjZu"
      },
      "source": [
        "Considerando agora a aplicação da média geométrica."
      ]
    },
    {
      "cell_type": "markdown",
      "metadata": {
        "id": "SyNRIFUDqmfw"
      },
      "source": [
        "Especificando os mesmos dados com um **relacionamento exponencial**."
      ]
    },
    {
      "cell_type": "code",
      "metadata": {
        "id": "K8kgIioIqfJN"
      },
      "source": [
        "dados_exponencial = [1, 3, 9, 27, 81, 243, 729]"
      ],
      "execution_count": null,
      "outputs": []
    },
    {
      "cell_type": "markdown",
      "metadata": {
        "id": "x7g7Z6y0qpnd"
      },
      "source": [
        "Calculando a **média geométrica**\n",
        "\n",
        "(1 * 3 * 9 * 27 * 81 * 243 * 729) = 10,460,353,203\n",
        "\n",
        "Raiz sétima (7) de **10,460,353,203** = 27"
      ]
    },
    {
      "cell_type": "code",
      "metadata": {
        "id": "WIqQWlrhqoIe"
      },
      "source": [
        "media_geo = int(gmean(dados_exponencial))"
      ],
      "execution_count": null,
      "outputs": []
    },
    {
      "cell_type": "code",
      "metadata": {
        "id": "sevVwFyVqufk",
        "outputId": "d8ecfcf5-7c8a-4c49-f1c8-6188f94b5cce",
        "colab": {
          "base_uri": "https://localhost:8080/",
          "height": 36
        }
      },
      "source": [
        "print(\"Valor da média geométrica dos dados: {}\".format(media_geo))"
      ],
      "execution_count": null,
      "outputs": [
        {
          "output_type": "stream",
          "text": [
            "Valor da média geométrica dos dados: 27\n"
          ],
          "name": "stdout"
        }
      ]
    },
    {
      "cell_type": "markdown",
      "metadata": {
        "id": "Rv-Y0FBsqxUk"
      },
      "source": [
        "**Plotando os dados e seu valor central**"
      ]
    },
    {
      "cell_type": "code",
      "metadata": {
        "id": "365pW6YCqvvV",
        "outputId": "81377a41-99c6-44e2-d2ce-5f8978fa6ce9",
        "colab": {
          "base_uri": "https://localhost:8080/",
          "height": 374
        }
      },
      "source": [
        "plot_lines(dados_exponencial,media_geo)"
      ],
      "execution_count": null,
      "outputs": [
        {
          "output_type": "display_data",
          "data": {
            "image/png": "[encoded data removed]",
            "text/plain": [
              "<Figure size 576x432 with 1 Axes>"
            ]
          },
          "metadata": {
            "tags": [],
            "needs_background": "light"
          }
        }
      ]
    },
    {
      "cell_type": "code",
      "metadata": {
        "id": "qHKXG7RRqy0n",
        "outputId": "f127cef5-46d7-47c6-bba5-39afbef8d2d7",
        "colab": {
          "base_uri": "https://localhost:8080/",
          "height": 374
        }
      },
      "source": [
        "plot_lines_horizontal(dados_exponencial,media_geo)"
      ],
      "execution_count": null,
      "outputs": [
        {
          "output_type": "display_data",
          "data": {
            "image/png": "[encoded data removed]",
            "text/plain": [
              "<Figure size 720x432 with 1 Axes>"
            ]
          },
          "metadata": {
            "tags": [],
            "needs_background": "light"
          }
        }
      ]
    },
    {
      "cell_type": "markdown",
      "metadata": {
        "id": "KFBqVlJTq26L"
      },
      "source": [
        "### Considerações importantes\n",
        "\n",
        "*   A **média aritmética** produz um resultado interessante quando temos um **relacionamento aditivo** entre os números da amostra.\n",
        "*   Este relacionamento é chamado linear pois, ao exibir graficamente os valores tendem a seguir uma linha ascendente ou descendente.\n",
        "*   Já a **média geométrica** é mais apropriada quando temos uma amostra com um **relacionamento multiplicativo** ou exponencial.\n",
        "\n",
        "\n",
        "*   A diferença entre as médias é que enquanto a média aritmética faz a **soma** de todos os elementos e depois a **divisão**, a média geométrica atua com a **multiplicação** entre os elementos e depois reescala através da **raiz** os valores para a mesma unidade da amostra.\n",
        "\n",
        "\n",
        "\n",
        "\n",
        "\n",
        "\n"
      ]
    },
    {
      "cell_type": "markdown",
      "metadata": {
        "id": "SPx4bQkuq5ro"
      },
      "source": [
        "## Comparando as médidas em um cenário real.\n",
        "\n",
        "![img](https://upload.wikimedia.org/wikipedia/commons/thumb/2/2c/Hard_Rock_Cafe_Logo.svg/1200px-Hard_Rock_Cafe_Logo.svg.png)\n",
        "\n",
        "**Verificando os valores de avaliações de dois cafés:**\n",
        "\n",
        "* Hard Rock Café Gramado\n",
        "* Hard Rock Café Curitiba"
      ]
    },
    {
      "cell_type": "markdown",
      "metadata": {
        "id": "1FUCaQziq8bm"
      },
      "source": [
        "**Hard Rock Café Gramado**\n",
        "*   Avaliações no TripAdvisor: 3,5\n",
        "*   Índice de Satisfação dos Clientes: 89%\n",
        "\n",
        "**Hard Rock Café Curitiba**\n",
        "*   Avaliações no TripAdvisor: 4,5\n",
        "*   Índice de Satisfação dos Clientes: 75%\n"
      ]
    },
    {
      "cell_type": "markdown",
      "metadata": {
        "id": "io1gT05Tq-2I"
      },
      "source": [
        "Aplicação de verificar o estabelecimento com a melhor avaliação em diferentes escalas."
      ]
    },
    {
      "cell_type": "markdown",
      "metadata": {
        "id": "Tyij-jKmq_5y"
      },
      "source": [
        "Calculando a **média aritmética**"
      ]
    },
    {
      "cell_type": "code",
      "metadata": {
        "id": "GW1u5xA-rDZQ"
      },
      "source": [
        "aval_gramado,aval_curitiba = 3.5, 4.5\n",
        "indice_gramado,indice_curitiba = 89, 75"
      ],
      "execution_count": null,
      "outputs": []
    },
    {
      "cell_type": "code",
      "metadata": {
        "id": "MUm3PHaqq0dR",
        "outputId": "5b85fe91-6ff4-4f3f-d620-b13b11fe8edd",
        "colab": {
          "base_uri": "https://localhost:8080/",
          "height": 54
        }
      },
      "source": [
        "print(\"Média para Gramado: {}\".format(np.mean([aval_gramado,indice_gramado])))\n",
        "print(\"Média para Curitiba: {}\".format(np.mean([aval_curitiba,indice_curitiba])))"
      ],
      "execution_count": null,
      "outputs": [
        {
          "output_type": "stream",
          "text": [
            "Média para Gramado: 46.25\n",
            "Média para Curitiba: 39.75\n"
          ],
          "name": "stdout"
        }
      ]
    },
    {
      "cell_type": "markdown",
      "metadata": {
        "id": "oskU4E4dCWSv"
      },
      "source": [
        "**Reescalando** os dados"
      ]
    },
    {
      "cell_type": "markdown",
      "metadata": {
        "id": "wpKAuJWfrGXV"
      },
      "source": [
        "**Conclusão**\n",
        "\n",
        "Considerando a média aritmética o Hard Rock Café de Gramado é o estabelecimento melhor avaliado."
      ]
    },
    {
      "cell_type": "markdown",
      "metadata": {
        "id": "HmIspL2WrPWQ"
      },
      "source": [
        "Calculando a **média aritmética**\n",
        "\n",
        "Reescalando os dados"
      ]
    },
    {
      "cell_type": "code",
      "metadata": {
        "id": "4cO1lOdYC0BO",
        "outputId": "b78c0f32-f076-4311-a0ad-8abd9833a1d6",
        "colab": {
          "base_uri": "https://localhost:8080/",
          "height": 36
        }
      },
      "source": [
        "print(\"Valores reescalados: {},{}\".format(aval_gramado*20,aval_curitiba*20))"
      ],
      "execution_count": null,
      "outputs": [
        {
          "output_type": "stream",
          "text": [
            "Valores reescalados: 70.0,90.0\n"
          ],
          "name": "stdout"
        }
      ]
    },
    {
      "cell_type": "code",
      "metadata": {
        "id": "C4SYRnFzrNgn",
        "outputId": "7f0486f0-0090-4522-9f47-0b77b0edd828",
        "colab": {
          "base_uri": "https://localhost:8080/",
          "height": 54
        }
      },
      "source": [
        "print(\"Média para Gramado: {}\".format(np.mean([aval_gramado*20,indice_gramado])))\n",
        "print(\"Média para Curitiba: {}\".format(np.mean([aval_curitiba*20,indice_curitiba])))"
      ],
      "execution_count": null,
      "outputs": [
        {
          "output_type": "stream",
          "text": [
            "Média para Gramado: 79.5\n",
            "Média para Curitiba: 82.5\n"
          ],
          "name": "stdout"
        }
      ]
    },
    {
      "cell_type": "markdown",
      "metadata": {
        "id": "1aVG8mAirTKt"
      },
      "source": [
        "Considerando o mesmo cenário agora utilizando a **média geométrica**."
      ]
    },
    {
      "cell_type": "code",
      "metadata": {
        "id": "pk0vNChjrT3X",
        "outputId": "b88cb522-a4aa-407c-8b2c-0d086f3dd6e0",
        "colab": {
          "base_uri": "https://localhost:8080/",
          "height": 54
        }
      },
      "source": [
        "print(\"Média Geométrica para Gramado: {}\".format(gmean([aval_gramado,indice_gramado])))\n",
        "print(\"Média Geométrica para Curitiba: {}\".format(gmean([aval_curitiba,indice_curitiba])))"
      ],
      "execution_count": null,
      "outputs": [
        {
          "output_type": "stream",
          "text": [
            "Média Geométrica para Gramado: 17.64936259472279\n",
            "Média Geométrica para Curitiba: 18.371173070873837\n"
          ],
          "name": "stdout"
        }
      ]
    },
    {
      "cell_type": "markdown",
      "metadata": {
        "id": "WhlQGW1jrdYQ"
      },
      "source": [
        "## Considerações\n",
        "*   Os valores alterados para a mesma escala nos deram **resultados diferentes** mais próximos da realidade.\n",
        "*   Utilizando a média geométrica já nos entrega o resultado \"correto\" pois considera o **relacionamento multiplicativo** entre os dados da amostra.\n",
        "*   É importante notar que aplicando a média geométrica para os dados em **diferentes escalas** não irá retornar os valores na mesma unidade da amostra.\n",
        "\n",
        "\n"
      ]
    },
    {
      "cell_type": "markdown",
      "metadata": {
        "id": "iBQE17R-rg0J"
      },
      "source": [
        "### Média harmônica.\n",
        "\n",
        "![img](https://image.freepik.com/fotos-gratis/mao-do-homem-reabastecimento-de-carro-no-posto-de-gasolina_23-2147841949.jpg)\n",
        "\n",
        "\n",
        "Percurso Total da Viagem 10km\n",
        "*   CAMINHO DE IDA = 30km/h\n",
        "*   CAMINHO DE VOLTA = 10km/h\n",
        "\n",
        "**Qual a velocidade média da viagem?**\n",
        "\n",
        "\n",
        "Usando a **média aritmética**"
      ]
    },
    {
      "cell_type": "code",
      "metadata": {
        "id": "oUicFVcCrcFg",
        "outputId": "899c0079-698e-4639-f39e-a5d7dfc7ccb4",
        "colab": {
          "base_uri": "https://localhost:8080/",
          "height": 36
        }
      },
      "source": [
        "np.mean([30,10])"
      ],
      "execution_count": null,
      "outputs": [
        {
          "output_type": "execute_result",
          "data": {
            "text/plain": [
              "20.0"
            ]
          },
          "metadata": {
            "tags": []
          },
          "execution_count": 34
        }
      ]
    },
    {
      "cell_type": "markdown",
      "metadata": {
        "id": "CF8DPUY8rsUQ"
      },
      "source": [
        "**VIAGEM DE IDA - 5km à 30km/h**\n",
        "*   30 km por 60 minutos = 1 km a cada 2 minutos = 1/2 km por minuto.\n",
        "*   5km a 1/2 km por minuto = 10 minutos.\n"
      ]
    },
    {
      "cell_type": "markdown",
      "metadata": {
        "id": "xE5dOuGzruvS"
      },
      "source": [
        "**VIAGEM DE VOLTA - 5km à 10km/h**\n",
        "*   10 km por 60 minutos = 1 km a cada 6 minutos = 1/6 km por minuto.\n",
        "*   5 km a 1/6 km por minuto = 30 minutos."
      ]
    },
    {
      "cell_type": "markdown",
      "metadata": {
        "id": "bPPmTrl5rxUs"
      },
      "source": [
        "Tempo total da viagem = 40 minutos"
      ]
    },
    {
      "cell_type": "markdown",
      "metadata": {
        "id": "JTKJX9HzrzyV"
      },
      "source": [
        "Proporção da viagem de ida em relação ao tempo total da viagem."
      ]
    },
    {
      "cell_type": "code",
      "metadata": {
        "id": "I_RZPAnxrquu",
        "outputId": "aa042f93-edb8-4c45-8f18-2f2b1e84be32",
        "colab": {
          "base_uri": "https://localhost:8080/",
          "height": 36
        }
      },
      "source": [
        "print(\"Proporção de tempo da viagem de ida em relação ao tempo total da viagem: {}%\".format((10/40)*100))"
      ],
      "execution_count": null,
      "outputs": [
        {
          "output_type": "stream",
          "text": [
            "Proporção de tempo da viagem de ida em relação ao tempo total da viagem: 25.0%\n"
          ],
          "name": "stdout"
        }
      ]
    },
    {
      "cell_type": "code",
      "metadata": {
        "id": "m_JQ0JTlr1za",
        "outputId": "d234a331-9a62-4baf-8f16-1d7bc087fb1b",
        "colab": {
          "base_uri": "https://localhost:8080/",
          "height": 36
        }
      },
      "source": [
        "print(\"Proporção de tempo da viagem de volta em relação ao tempo total da viagem: {}%\".format((30/40)*100))"
      ],
      "execution_count": null,
      "outputs": [
        {
          "output_type": "stream",
          "text": [
            "Proporção de tempo da viagem de volta em relação ao tempo total da viagem: 75.0%\n"
          ],
          "name": "stdout"
        }
      ]
    },
    {
      "cell_type": "markdown",
      "metadata": {
        "id": "ESp2zLarr44a"
      },
      "source": [
        "Calculando a **Média Aritmética Ponderada**"
      ]
    },
    {
      "cell_type": "code",
      "metadata": {
        "id": "8__N1y1Tr7bA",
        "outputId": "d0c58a8e-5edc-43b0-8384-27a9fb911f5f",
        "colab": {
          "base_uri": "https://localhost:8080/",
          "height": 36
        }
      },
      "source": [
        "np.average([30,10], weights =[.25,.75])"
      ],
      "execution_count": null,
      "outputs": [
        {
          "output_type": "execute_result",
          "data": {
            "text/plain": [
              "15.0"
            ]
          },
          "metadata": {
            "tags": []
          },
          "execution_count": 37
        }
      ]
    },
    {
      "cell_type": "markdown",
      "metadata": {
        "id": "zD6ZlrGLEfKo"
      },
      "source": [
        "Calculando a **Média Harmônica**"
      ]
    },
    {
      "cell_type": "code",
      "metadata": {
        "id": "M7o6_6cTr27I",
        "outputId": "11499123-dc1e-497d-bfcd-2cbacb5bc9c2",
        "colab": {
          "base_uri": "https://localhost:8080/",
          "height": 36
        }
      },
      "source": [
        "hmean([30,10])"
      ],
      "execution_count": null,
      "outputs": [
        {
          "output_type": "execute_result",
          "data": {
            "text/plain": [
              "15.0"
            ]
          },
          "metadata": {
            "tags": []
          },
          "execution_count": 38
        }
      ]
    },
    {
      "cell_type": "markdown",
      "metadata": {
        "id": "aSYSETHbHQrI"
      },
      "source": [
        "É perceptível que a Média Harmônica nos retornará o valor correto para esse tipo de caso."
      ]
    },
    {
      "cell_type": "markdown",
      "metadata": {
        "id": "vPfBgmqcr-j-"
      },
      "source": [
        "### As médias seguem um relacionamento ordinal: \n",
        "\n",
        "**média harmônica < média geométrica < a média aritmética**."
      ]
    },
    {
      "cell_type": "markdown",
      "metadata": {
        "id": "fUUobktdFUkI"
      },
      "source": [
        "**Dados de Teste**"
      ]
    },
    {
      "cell_type": "code",
      "metadata": {
        "id": "sufoW84yr9AS"
      },
      "source": [
        "dados = [1, 4, 7, 10, 13, 16, 19]"
      ],
      "execution_count": null,
      "outputs": []
    },
    {
      "cell_type": "markdown",
      "metadata": {
        "id": "RdiN1Pv9FXl8"
      },
      "source": [
        "**Criando as variáveis**"
      ]
    },
    {
      "cell_type": "code",
      "metadata": {
        "id": "ezxbNdOYsDz3"
      },
      "source": [
        "media_aritmetica,media_geometrica,media_harmonica = round(np.mean(dados),2),round(gmean(dados),2),round(hmean(dados),2)"
      ],
      "execution_count": null,
      "outputs": []
    },
    {
      "cell_type": "markdown",
      "metadata": {
        "id": "s3zYgDgoFaQh"
      },
      "source": [
        "**Visualizando as médias**"
      ]
    },
    {
      "cell_type": "code",
      "metadata": {
        "id": "FTNtCAtgsEyZ",
        "outputId": "e4d87972-5d62-4e41-e164-af7fa988c93a",
        "colab": {
          "base_uri": "https://localhost:8080/",
          "height": 36
        }
      },
      "source": [
        "media_aritmetica,media_geometrica,media_harmonica"
      ],
      "execution_count": null,
      "outputs": [
        {
          "output_type": "execute_result",
          "data": {
            "text/plain": [
              "(10.0, 7.3, 4.15)"
            ]
          },
          "metadata": {
            "tags": []
          },
          "execution_count": 41
        }
      ]
    },
    {
      "cell_type": "markdown",
      "metadata": {
        "id": "Sn6K1QnnsHDx"
      },
      "source": [
        "**Visualizando graficamente**"
      ]
    },
    {
      "cell_type": "code",
      "metadata": {
        "id": "fTy774UXsFum",
        "outputId": "9fd9421b-9c3c-49cb-f0cd-5c83e213a721",
        "colab": {
          "base_uri": "https://localhost:8080/",
          "height": 411
        }
      },
      "source": [
        "plot_line_means(dados,media_aritmetica,media_geometrica,media_harmonica)"
      ],
      "execution_count": null,
      "outputs": [
        {
          "output_type": "stream",
          "text": [
            "Dados: [1, 4, 4.15, 7, 7.3, 10, 10.0, 13, 16, 19]\n",
            "Media aritmética: 10.0, Média Geométrica: 7.3, Média Harmonica: 4.15\n"
          ],
          "name": "stdout"
        },
        {
          "output_type": "display_data",
          "data": {
            "image/png": "[encoded data removed]",
            "text/plain": [
              "<Figure size 576x432 with 1 Axes>"
            ]
          },
          "metadata": {
            "tags": [],
            "needs_background": "light"
          }
        }
      ]
    },
    {
      "cell_type": "markdown",
      "metadata": {
        "id": "NgqOiUxEsK2u"
      },
      "source": [
        "## Considerando os dados com o relacionamento multiplicativo"
      ]
    },
    {
      "cell_type": "markdown",
      "metadata": {
        "id": "oQq6xUI7Fzzf"
      },
      "source": [
        "**Criando os dados**"
      ]
    },
    {
      "cell_type": "code",
      "metadata": {
        "id": "AQZLJqGEsIuG"
      },
      "source": [
        "dados = [1, 3, 9, 27, 81, 243, 729]"
      ],
      "execution_count": null,
      "outputs": []
    },
    {
      "cell_type": "markdown",
      "metadata": {
        "id": "GiMpOaDYF3tu"
      },
      "source": [
        "**Criando as variáveis**"
      ]
    },
    {
      "cell_type": "code",
      "metadata": {
        "id": "VpVtpx8hsM1L"
      },
      "source": [
        "media_aritmetica,media_geometrica,media_harmonica = round(np.mean(dados),2),round(gmean(dados),2),round(hmean(dados),2)"
      ],
      "execution_count": null,
      "outputs": []
    },
    {
      "cell_type": "markdown",
      "metadata": {
        "id": "OfMVj2OfF8q3"
      },
      "source": [
        "**Visualizando as médias**"
      ]
    },
    {
      "cell_type": "code",
      "metadata": {
        "id": "YnaiXDP9sN71",
        "outputId": "aab14a65-cf96-4157-9618-8e245bda196d",
        "colab": {
          "base_uri": "https://localhost:8080/",
          "height": 36
        }
      },
      "source": [
        "media_aritmetica,media_geometrica,media_harmonica"
      ],
      "execution_count": null,
      "outputs": [
        {
          "output_type": "execute_result",
          "data": {
            "text/plain": [
              "(156.14, 27.0, 4.67)"
            ]
          },
          "metadata": {
            "tags": []
          },
          "execution_count": 45
        }
      ]
    },
    {
      "cell_type": "markdown",
      "metadata": {
        "id": "IulvQZZ-sQhJ"
      },
      "source": [
        "**Visualizando graficamente**"
      ]
    },
    {
      "cell_type": "code",
      "metadata": {
        "id": "d0Fhgo9SsPH4",
        "outputId": "edc08f22-2df8-4710-d175-79d914d2fd49",
        "colab": {
          "base_uri": "https://localhost:8080/",
          "height": 411
        }
      },
      "source": [
        "plot_line_means(dados,media_aritmetica,media_geometrica,media_harmonica)"
      ],
      "execution_count": null,
      "outputs": [
        {
          "output_type": "stream",
          "text": [
            "Dados: [1, 3, 4.67, 9, 27, 27.0, 81, 156.14, 243, 729]\n",
            "Media aritmética: 156.14, Média Geométrica: 27.0, Média Harmonica: 4.67\n"
          ],
          "name": "stdout"
        },
        {
          "output_type": "display_data",
          "data": {
            "image/png": "[encoded data removed]",
            "text/plain": [
              "<Figure size 576x432 with 1 Axes>"
            ]
          },
          "metadata": {
            "tags": [],
            "needs_background": "light"
          }
        }
      ]
    },
    {
      "cell_type": "markdown",
      "metadata": {
        "id": "hUyKJbtfsWb3"
      },
      "source": [
        "## Moda\n",
        "\n",
        "Valores mais frequentes da distribuição."
      ]
    },
    {
      "cell_type": "markdown",
      "metadata": {
        "id": "yFBp7FAtHrmb"
      },
      "source": [
        "**Moda simples**"
      ]
    },
    {
      "cell_type": "code",
      "metadata": {
        "id": "kHXCjrOXsS7K"
      },
      "source": [
        "dados = [4,5,4,6,5,8,4]"
      ],
      "execution_count": null,
      "outputs": []
    },
    {
      "cell_type": "code",
      "metadata": {
        "id": "umO53MDDsVNj",
        "outputId": "e7b3b84b-3125-42dc-8657-4e09d1b61e67",
        "colab": {
          "base_uri": "https://localhost:8080/",
          "height": 36
        }
      },
      "source": [
        "stats.mode(dados)"
      ],
      "execution_count": null,
      "outputs": [
        {
          "output_type": "execute_result",
          "data": {
            "text/plain": [
              "ModeResult(mode=array([4]), count=array([3]))"
            ]
          },
          "metadata": {
            "tags": []
          },
          "execution_count": 48
        }
      ]
    },
    {
      "cell_type": "markdown",
      "metadata": {
        "id": "3m34Z3t-HhT9"
      },
      "source": [
        "**Dados Bimodais**"
      ]
    },
    {
      "cell_type": "code",
      "metadata": {
        "id": "imhtJNSCsax8"
      },
      "source": [
        "dados_bimodal = [4,5,4,6,5,8,4,4,5,5]"
      ],
      "execution_count": null,
      "outputs": []
    },
    {
      "cell_type": "code",
      "metadata": {
        "id": "ZdSW1rn1sc1o"
      },
      "source": [
        "from collections import Counter"
      ],
      "execution_count": null,
      "outputs": []
    },
    {
      "cell_type": "code",
      "metadata": {
        "id": "5R0lhRhKseE-"
      },
      "source": [
        "def calcula_moda(dados):\n",
        "  number_counts = Counter(dados)\n",
        "  print(number_counts)\n",
        "  modes = [val for val,count in number_counts.items() if count == max(number_counts.values())]\n",
        "  return modes"
      ],
      "execution_count": null,
      "outputs": []
    },
    {
      "cell_type": "code",
      "metadata": {
        "id": "zhDVaHqKsfFW",
        "outputId": "4f9e7661-55ce-4254-c9b6-16283984ab83",
        "colab": {
          "base_uri": "https://localhost:8080/",
          "height": 54
        }
      },
      "source": [
        "calcula_moda(dados_bimodal)"
      ],
      "execution_count": null,
      "outputs": [
        {
          "output_type": "stream",
          "text": [
            "Counter({4: 4, 5: 4, 6: 1, 8: 1})\n"
          ],
          "name": "stdout"
        },
        {
          "output_type": "execute_result",
          "data": {
            "text/plain": [
              "[4, 5]"
            ]
          },
          "metadata": {
            "tags": []
          },
          "execution_count": 52
        }
      ]
    },
    {
      "cell_type": "markdown",
      "metadata": {
        "id": "dzK_iLA6Hlzw"
      },
      "source": [
        "**Dados Amodais**"
      ]
    },
    {
      "cell_type": "code",
      "metadata": {
        "id": "hSsVMXu5sga0"
      },
      "source": [
        "dados_amodal = [1,2,3,4,5]"
      ],
      "execution_count": null,
      "outputs": []
    },
    {
      "cell_type": "code",
      "metadata": {
        "id": "E4ezXWLJsisV",
        "outputId": "9ccf741d-1f81-4a60-93ab-6d61a7baab95",
        "colab": {
          "base_uri": "https://localhost:8080/",
          "height": 54
        }
      },
      "source": [
        "calcula_moda(dados_amodal)"
      ],
      "execution_count": null,
      "outputs": [
        {
          "output_type": "stream",
          "text": [
            "Counter({1: 1, 2: 1, 3: 1, 4: 1, 5: 1})\n"
          ],
          "name": "stdout"
        },
        {
          "output_type": "execute_result",
          "data": {
            "text/plain": [
              "[1, 2, 3, 4, 5]"
            ]
          },
          "metadata": {
            "tags": []
          },
          "execution_count": 54
        }
      ]
    },
    {
      "cell_type": "markdown",
      "metadata": {
        "id": "zGyX2rVmH2TM"
      },
      "source": [
        "**Dados Multimodais**"
      ]
    },
    {
      "cell_type": "code",
      "metadata": {
        "id": "Ps9or1DIH6Bv"
      },
      "source": [
        "dados_multimodal = [10, 11, 10, 1, 10, 10, 1, 2, 4, 4, 5, 19, 5, 5, 26, 5, 12, 12 , 8, 12, 8, 12, 7, 7, 7, 25, 31, 25, 25, 25, 31]"
      ],
      "execution_count": null,
      "outputs": []
    },
    {
      "cell_type": "code",
      "metadata": {
        "id": "vGJBUTcCIXWA",
        "outputId": "504e70ab-4f9f-4c64-f791-031b971cd089",
        "colab": {
          "base_uri": "https://localhost:8080/",
          "height": 54
        }
      },
      "source": [
        "calcula_moda(dados_multimodal)"
      ],
      "execution_count": null,
      "outputs": [
        {
          "output_type": "stream",
          "text": [
            "Counter({10: 4, 5: 4, 12: 4, 25: 4, 7: 3, 1: 2, 4: 2, 8: 2, 31: 2, 11: 1, 2: 1, 19: 1, 26: 1})\n"
          ],
          "name": "stdout"
        },
        {
          "output_type": "execute_result",
          "data": {
            "text/plain": [
              "[10, 5, 12, 25]"
            ]
          },
          "metadata": {
            "tags": []
          },
          "execution_count": 56
        }
      ]
    },
    {
      "cell_type": "markdown",
      "metadata": {
        "id": "aHjZtS1tslen"
      },
      "source": [
        "## Mediana\n",
        "\n",
        "É o valor da variável que divide os dados ordenados em duas partes de igual frequência.**"
      ]
    },
    {
      "cell_type": "code",
      "metadata": {
        "id": "Z0JZ5pewsj8F"
      },
      "source": [
        "dados_mediana_impar = [7,1,5,2,3,1,6]"
      ],
      "execution_count": null,
      "outputs": []
    },
    {
      "cell_type": "code",
      "metadata": {
        "id": "QNWqBgI3snZu",
        "outputId": "75fbd27a-7c01-4859-9805-a1368c7168c3",
        "colab": {
          "base_uri": "https://localhost:8080/",
          "height": 36
        }
      },
      "source": [
        "np.sort(dados_mediana_impar)"
      ],
      "execution_count": null,
      "outputs": [
        {
          "output_type": "execute_result",
          "data": {
            "text/plain": [
              "array([1, 1, 2, 3, 5, 6, 7])"
            ]
          },
          "metadata": {
            "tags": []
          },
          "execution_count": 58
        }
      ]
    },
    {
      "cell_type": "code",
      "metadata": {
        "id": "GpmFZ6ursotK",
        "outputId": "5ca3ffce-34d4-4dc8-fc81-1a2b75177758",
        "colab": {
          "base_uri": "https://localhost:8080/",
          "height": 36
        }
      },
      "source": [
        "# a função automaticamente ordena, o np.sort foi somente para visualizar\n",
        "np.median(dados_mediana_impar)"
      ],
      "execution_count": null,
      "outputs": [
        {
          "output_type": "execute_result",
          "data": {
            "text/plain": [
              "3.0"
            ]
          },
          "metadata": {
            "tags": []
          },
          "execution_count": 59
        }
      ]
    },
    {
      "cell_type": "code",
      "metadata": {
        "id": "uVAhf_vbsqCz"
      },
      "source": [
        "dados_mediana_par = [1,2,1,1,4,5,3,6]"
      ],
      "execution_count": null,
      "outputs": []
    },
    {
      "cell_type": "code",
      "metadata": {
        "id": "72KFmr2TsraB",
        "outputId": "a1d9d5d6-6290-442f-a447-b3e1c6592734",
        "colab": {
          "base_uri": "https://localhost:8080/",
          "height": 36
        }
      },
      "source": [
        "np.sort(dados_mediana_par)"
      ],
      "execution_count": null,
      "outputs": [
        {
          "output_type": "execute_result",
          "data": {
            "text/plain": [
              "array([1, 1, 1, 2, 3, 4, 5, 6])"
            ]
          },
          "metadata": {
            "tags": []
          },
          "execution_count": 61
        }
      ]
    },
    {
      "cell_type": "code",
      "metadata": {
        "id": "-DBEhTu-stqk",
        "outputId": "49df636c-264b-43a2-c3d2-839a1ec49a42",
        "colab": {
          "base_uri": "https://localhost:8080/",
          "height": 36
        }
      },
      "source": [
        "np.median(dados_mediana_par)"
      ],
      "execution_count": null,
      "outputs": [
        {
          "output_type": "execute_result",
          "data": {
            "text/plain": [
              "2.5"
            ]
          },
          "metadata": {
            "tags": []
          },
          "execution_count": 62
        }
      ]
    },
    {
      "cell_type": "markdown",
      "metadata": {
        "id": "yRxRp9Ljsw43"
      },
      "source": [
        "# 2. Medidas Separatrizes"
      ]
    },
    {
      "cell_type": "code",
      "metadata": {
        "id": "6jLoClmpsvl_"
      },
      "source": [
        "notas = [13,25,69,72,33,41,28,17,65]"
      ],
      "execution_count": null,
      "outputs": []
    },
    {
      "cell_type": "code",
      "metadata": {
        "id": "nZShwEois3qQ",
        "outputId": "b4a6fb64-f67e-4304-82e0-6aeeade5fecf",
        "colab": {
          "base_uri": "https://localhost:8080/",
          "height": 36
        }
      },
      "source": [
        "np.sort(notas)"
      ],
      "execution_count": null,
      "outputs": [
        {
          "output_type": "execute_result",
          "data": {
            "text/plain": [
              "array([13, 17, 25, 28, 33, 41, 65, 69, 72])"
            ]
          },
          "metadata": {
            "tags": []
          },
          "execution_count": 64
        }
      ]
    },
    {
      "cell_type": "markdown",
      "metadata": {
        "id": "mGiCYi5es6KX"
      },
      "source": [
        "**Q1 - Primeiro Quartil**"
      ]
    },
    {
      "cell_type": "code",
      "metadata": {
        "id": "3FcZOOdWs4c2",
        "outputId": "afa369e1-ee80-4c63-98bb-3e1ad0a9b21f",
        "colab": {
          "base_uri": "https://localhost:8080/",
          "height": 36
        }
      },
      "source": [
        "np.quantile(notas,.25)"
      ],
      "execution_count": null,
      "outputs": [
        {
          "output_type": "execute_result",
          "data": {
            "text/plain": [
              "25.0"
            ]
          },
          "metadata": {
            "tags": []
          },
          "execution_count": 65
        }
      ]
    },
    {
      "cell_type": "markdown",
      "metadata": {
        "id": "KGgtj6Igs_wR"
      },
      "source": [
        "**Q2 - Segundo Quartil**\n",
        "\n",
        "Mesmo valor da mediana"
      ]
    },
    {
      "cell_type": "code",
      "metadata": {
        "id": "BtA_nQRBtHR_",
        "outputId": "4927e14c-c606-4f9f-b3de-7c96e4e4de36",
        "colab": {
          "base_uri": "https://localhost:8080/",
          "height": 36
        }
      },
      "source": [
        "np.quantile(notas,.50)"
      ],
      "execution_count": null,
      "outputs": [
        {
          "output_type": "execute_result",
          "data": {
            "text/plain": [
              "33.0"
            ]
          },
          "metadata": {
            "tags": []
          },
          "execution_count": 66
        }
      ]
    },
    {
      "cell_type": "markdown",
      "metadata": {
        "id": "ciOr7KYRs_lW"
      },
      "source": [
        "**Q3 - Terceiro Quartil**"
      ]
    },
    {
      "cell_type": "code",
      "metadata": {
        "id": "e_rQtbE5tIWC",
        "outputId": "eb7ace77-4edc-45bf-a91d-4dc5cf5b61bb",
        "colab": {
          "base_uri": "https://localhost:8080/",
          "height": 36
        }
      },
      "source": [
        "np.quantile(notas,.75)"
      ],
      "execution_count": null,
      "outputs": [
        {
          "output_type": "execute_result",
          "data": {
            "text/plain": [
              "65.0"
            ]
          },
          "metadata": {
            "tags": []
          },
          "execution_count": 67
        }
      ]
    },
    {
      "cell_type": "markdown",
      "metadata": {
        "id": "6Sh_BLa7s_TZ"
      },
      "source": [
        "**P25 - Percentil 25 = Q1**"
      ]
    },
    {
      "cell_type": "code",
      "metadata": {
        "id": "-xV3rq1bs8V8",
        "outputId": "334636fe-1325-4c5c-d54a-621721af97c9",
        "colab": {
          "base_uri": "https://localhost:8080/",
          "height": 36
        }
      },
      "source": [
        "np.percentile(notas,25)"
      ],
      "execution_count": null,
      "outputs": [
        {
          "output_type": "execute_result",
          "data": {
            "text/plain": [
              "25.0"
            ]
          },
          "metadata": {
            "tags": []
          },
          "execution_count": 68
        }
      ]
    },
    {
      "cell_type": "markdown",
      "metadata": {
        "id": "QAEODoGrtXkR"
      },
      "source": [
        "**P50 - Percentil 50 = Q2**\n"
      ]
    },
    {
      "cell_type": "code",
      "metadata": {
        "id": "r4K6aeQEtU0a",
        "outputId": "ca679f4d-ebe2-445b-f3a1-eb9b96a7187a",
        "colab": {
          "base_uri": "https://localhost:8080/",
          "height": 36
        }
      },
      "source": [
        "np.percentile(notas,50)"
      ],
      "execution_count": null,
      "outputs": [
        {
          "output_type": "execute_result",
          "data": {
            "text/plain": [
              "33.0"
            ]
          },
          "metadata": {
            "tags": []
          },
          "execution_count": 69
        }
      ]
    },
    {
      "cell_type": "markdown",
      "metadata": {
        "id": "WhhWO9WGtasm"
      },
      "source": [
        "**P75 - Percentil 75 = Q3**"
      ]
    },
    {
      "cell_type": "code",
      "metadata": {
        "id": "TtnSV0fQtZI5",
        "outputId": "b1210f7d-8ef4-4268-c73d-9a16b246918a",
        "colab": {
          "base_uri": "https://localhost:8080/",
          "height": 36
        }
      },
      "source": [
        "np.percentile(notas,75)"
      ],
      "execution_count": null,
      "outputs": [
        {
          "output_type": "execute_result",
          "data": {
            "text/plain": [
              "65.0"
            ]
          },
          "metadata": {
            "tags": []
          },
          "execution_count": 70
        }
      ]
    },
    {
      "cell_type": "markdown",
      "metadata": {
        "id": "GFjHrgQctfgt"
      },
      "source": [
        "## 3. Medidas de Variação e Dispersão"
      ]
    },
    {
      "cell_type": "markdown",
      "metadata": {
        "id": "kR5zYbEwtnU-"
      },
      "source": [
        "**Média**"
      ]
    },
    {
      "cell_type": "code",
      "metadata": {
        "id": "8cRUC-k-tcl-"
      },
      "source": [
        "dados_dispersao = [10,20,30,40,50,60,70,80,90,100]"
      ],
      "execution_count": null,
      "outputs": []
    },
    {
      "cell_type": "code",
      "metadata": {
        "id": "vVvdAfnGti5P",
        "outputId": "db3cfaff-4886-4355-e44d-d9ceb1f69e11",
        "colab": {
          "base_uri": "https://localhost:8080/",
          "height": 36
        }
      },
      "source": [
        "np.mean(dados_dispersao)"
      ],
      "execution_count": null,
      "outputs": [
        {
          "output_type": "execute_result",
          "data": {
            "text/plain": [
              "55.0"
            ]
          },
          "metadata": {
            "tags": []
          },
          "execution_count": 72
        }
      ]
    },
    {
      "cell_type": "markdown",
      "metadata": {
        "id": "rWUdqin1trsM"
      },
      "source": [
        "**Variância**\n",
        "\n",
        "![alt text](https://wikimedia.org/api/rest_v1/media/math/render/svg/c2446a06b779245a22147449fc523f2b1b0013ef)"
      ]
    },
    {
      "cell_type": "code",
      "metadata": {
        "id": "Yns6qCRgtkUn",
        "outputId": "fe59071d-39f1-4945-df46-6964b25cec91",
        "colab": {
          "base_uri": "https://localhost:8080/",
          "height": 36
        }
      },
      "source": [
        "np.var(dados_dispersao)"
      ],
      "execution_count": null,
      "outputs": [
        {
          "output_type": "execute_result",
          "data": {
            "text/plain": [
              "825.0"
            ]
          },
          "metadata": {
            "tags": []
          },
          "execution_count": 73
        }
      ]
    },
    {
      "cell_type": "markdown",
      "metadata": {
        "id": "KGMJKDDMtwS2"
      },
      "source": [
        "**Desvio Padrão**\n",
        "\n",
        "![alt text](https://wikimedia.org/api/rest_v1/media/math/render/svg/cc45b72e1fd6a3de3ec4977f42367f104f57583f)"
      ]
    },
    {
      "cell_type": "code",
      "metadata": {
        "id": "yUCsvhGrtuYu",
        "outputId": "4500f730-64d5-49e0-90ee-ea6926b11692",
        "colab": {
          "base_uri": "https://localhost:8080/",
          "height": 36
        }
      },
      "source": [
        "np.std(dados_dispersao)"
      ],
      "execution_count": null,
      "outputs": [
        {
          "output_type": "execute_result",
          "data": {
            "text/plain": [
              "28.722813232690143"
            ]
          },
          "metadata": {
            "tags": []
          },
          "execution_count": 74
        }
      ]
    },
    {
      "cell_type": "markdown",
      "metadata": {
        "id": "6huVrrubtzmW"
      },
      "source": [
        "**Coeficiente de Variação**"
      ]
    },
    {
      "cell_type": "code",
      "metadata": {
        "id": "7ARF8reEtxrG",
        "outputId": "ede0436c-8029-43b5-ed74-8a5e70b8a950",
        "colab": {
          "base_uri": "https://localhost:8080/",
          "height": 36
        }
      },
      "source": [
        "stats.variation(dados_dispersao)"
      ],
      "execution_count": null,
      "outputs": [
        {
          "output_type": "execute_result",
          "data": {
            "text/plain": [
              "0.5222329678670935"
            ]
          },
          "metadata": {
            "tags": []
          },
          "execution_count": 75
        }
      ]
    },
    {
      "cell_type": "markdown",
      "metadata": {
        "id": "mLnrmrq5t3X3"
      },
      "source": [
        "Importante: Um coeficiente de variação **menor que 25%** é um bom indicativo de homogeneidade dos dados, ou seja, os dados não variam tanto a partir da média."
      ]
    },
    {
      "cell_type": "code",
      "metadata": {
        "id": "rmn2bu1Kt1e3"
      },
      "source": [
        "media=np.mean(dados_dispersao)\n",
        "desvio_padrao = np.std(dados_dispersao)"
      ],
      "execution_count": null,
      "outputs": []
    },
    {
      "cell_type": "code",
      "metadata": {
        "id": "Fyx2vFPct4rL",
        "outputId": "133a80ee-71d8-4542-9e02-32b5b3546d8c",
        "colab": {
          "base_uri": "https://localhost:8080/",
          "height": 36
        }
      },
      "source": [
        "desvio_padrao/media"
      ],
      "execution_count": null,
      "outputs": [
        {
          "output_type": "execute_result",
          "data": {
            "text/plain": [
              "0.5222329678670935"
            ]
          },
          "metadata": {
            "tags": []
          },
          "execution_count": 77
        }
      ]
    },
    {
      "cell_type": "markdown",
      "metadata": {
        "id": "tvZzMDNet7TJ"
      },
      "source": [
        "# 4. Exemplo usando uma Base de Dados Real"
      ]
    },
    {
      "cell_type": "code",
      "metadata": {
        "id": "XH6K8KG1t5zU"
      },
      "source": [
        "import pandas as pd               \n",
        "import numpy as np\n",
        "import seaborn as sns\n",
        "import matplotlib.pyplot as plt"
      ],
      "execution_count": null,
      "outputs": []
    },
    {
      "cell_type": "code",
      "metadata": {
        "id": "WBXKA5_Dt9OR"
      },
      "source": [
        "df = pd.read_csv(\"cars2.csv\")"
      ],
      "execution_count": null,
      "outputs": []
    },
    {
      "cell_type": "code",
      "metadata": {
        "id": "G0W1npyRuGMo",
        "outputId": "85e9b6f9-f94f-4ad6-e3cb-d65c62bfbc98",
        "colab": {
          "base_uri": "https://localhost:8080/",
          "height": 206
        }
      },
      "source": [
        "df.head(5)"
      ],
      "execution_count": null,
      "outputs": [
        {
          "output_type": "execute_result",
          "data": {
            "text/html": [
              "<div>\n",
              "<style scoped>\n",
              "    .dataframe tbody tr th:only-of-type {\n",
              "        vertical-align: middle;\n",
              "    }\n",
              "\n",
              "    .dataframe tbody tr th {\n",
              "        vertical-align: top;\n",
              "    }\n",
              "\n",
              "    .dataframe thead th {\n",
              "        text-align: right;\n",
              "    }\n",
              "</style>\n",
              "<table border=\"1\" class=\"dataframe\">\n",
              "  <thead>\n",
              "    <tr style=\"text-align: right;\">\n",
              "      <th></th>\n",
              "      <th>Make</th>\n",
              "      <th>Model</th>\n",
              "      <th>Type</th>\n",
              "      <th>Origin</th>\n",
              "      <th>DriveTrain</th>\n",
              "      <th>MSRP</th>\n",
              "      <th>Invoice</th>\n",
              "      <th>EngineSize</th>\n",
              "      <th>Cylinders</th>\n",
              "      <th>Horsepower</th>\n",
              "      <th>MPG_City</th>\n",
              "      <th>MPG_Highway</th>\n",
              "      <th>Weight</th>\n",
              "      <th>Wheelbase</th>\n",
              "      <th>Length</th>\n",
              "    </tr>\n",
              "  </thead>\n",
              "  <tbody>\n",
              "    <tr>\n",
              "      <th>0</th>\n",
              "      <td>Acura</td>\n",
              "      <td>MDX</td>\n",
              "      <td>SUV</td>\n",
              "      <td>Asia</td>\n",
              "      <td>All</td>\n",
              "      <td>$36,945</td>\n",
              "      <td>$33,337</td>\n",
              "      <td>3.5</td>\n",
              "      <td>6.0</td>\n",
              "      <td>265</td>\n",
              "      <td>17</td>\n",
              "      <td>23</td>\n",
              "      <td>4451</td>\n",
              "      <td>106</td>\n",
              "      <td>189</td>\n",
              "    </tr>\n",
              "    <tr>\n",
              "      <th>1</th>\n",
              "      <td>Acura</td>\n",
              "      <td>RSX Type S 2dr</td>\n",
              "      <td>Sedan</td>\n",
              "      <td>Asia</td>\n",
              "      <td>Front</td>\n",
              "      <td>$23,820</td>\n",
              "      <td>$21,761</td>\n",
              "      <td>2.0</td>\n",
              "      <td>4.0</td>\n",
              "      <td>200</td>\n",
              "      <td>24</td>\n",
              "      <td>31</td>\n",
              "      <td>2778</td>\n",
              "      <td>101</td>\n",
              "      <td>172</td>\n",
              "    </tr>\n",
              "    <tr>\n",
              "      <th>2</th>\n",
              "      <td>Acura</td>\n",
              "      <td>TSX 4dr</td>\n",
              "      <td>Sedan</td>\n",
              "      <td>Asia</td>\n",
              "      <td>Front</td>\n",
              "      <td>$26,990</td>\n",
              "      <td>$24,647</td>\n",
              "      <td>2.4</td>\n",
              "      <td>4.0</td>\n",
              "      <td>200</td>\n",
              "      <td>22</td>\n",
              "      <td>29</td>\n",
              "      <td>3230</td>\n",
              "      <td>105</td>\n",
              "      <td>183</td>\n",
              "    </tr>\n",
              "    <tr>\n",
              "      <th>3</th>\n",
              "      <td>Acura</td>\n",
              "      <td>TL 4dr</td>\n",
              "      <td>Sedan</td>\n",
              "      <td>Asia</td>\n",
              "      <td>Front</td>\n",
              "      <td>$33,195</td>\n",
              "      <td>$30,299</td>\n",
              "      <td>3.2</td>\n",
              "      <td>6.0</td>\n",
              "      <td>270</td>\n",
              "      <td>20</td>\n",
              "      <td>28</td>\n",
              "      <td>3575</td>\n",
              "      <td>108</td>\n",
              "      <td>186</td>\n",
              "    </tr>\n",
              "    <tr>\n",
              "      <th>4</th>\n",
              "      <td>Acura</td>\n",
              "      <td>3.5 RL 4dr</td>\n",
              "      <td>Sedan</td>\n",
              "      <td>Asia</td>\n",
              "      <td>Front</td>\n",
              "      <td>$43,755</td>\n",
              "      <td>$39,014</td>\n",
              "      <td>3.5</td>\n",
              "      <td>6.0</td>\n",
              "      <td>225</td>\n",
              "      <td>18</td>\n",
              "      <td>24</td>\n",
              "      <td>3880</td>\n",
              "      <td>115</td>\n",
              "      <td>197</td>\n",
              "    </tr>\n",
              "  </tbody>\n",
              "</table>\n",
              "</div>"
            ],
            "text/plain": [
              "    Make           Model   Type Origin  ... MPG_Highway Weight Wheelbase  Length\n",
              "0  Acura             MDX    SUV   Asia  ...          23   4451       106     189\n",
              "1  Acura  RSX Type S 2dr  Sedan   Asia  ...          31   2778       101     172\n",
              "2  Acura         TSX 4dr  Sedan   Asia  ...          29   3230       105     183\n",
              "3  Acura          TL 4dr  Sedan   Asia  ...          28   3575       108     186\n",
              "4  Acura      3.5 RL 4dr  Sedan   Asia  ...          24   3880       115     197\n",
              "\n",
              "[5 rows x 15 columns]"
            ]
          },
          "metadata": {
            "tags": []
          },
          "execution_count": 80
        }
      ]
    },
    {
      "cell_type": "code",
      "metadata": {
        "id": "vnnPdW4SuID-",
        "outputId": "9a2c58c1-4437-4eb9-aadb-9f8e74a14f04",
        "colab": {
          "base_uri": "https://localhost:8080/",
          "height": 427
        }
      },
      "source": [
        "df.info()"
      ],
      "execution_count": null,
      "outputs": [
        {
          "output_type": "stream",
          "text": [
            "<class 'pandas.core.frame.DataFrame'>\n",
            "RangeIndex: 428 entries, 0 to 427\n",
            "Data columns (total 15 columns):\n",
            " #   Column       Non-Null Count  Dtype  \n",
            "---  ------       --------------  -----  \n",
            " 0   Make         428 non-null    object \n",
            " 1   Model        428 non-null    object \n",
            " 2   Type         428 non-null    object \n",
            " 3   Origin       428 non-null    object \n",
            " 4   DriveTrain   428 non-null    object \n",
            " 5   MSRP         428 non-null    object \n",
            " 6   Invoice      428 non-null    object \n",
            " 7   EngineSize   428 non-null    float64\n",
            " 8   Cylinders    426 non-null    float64\n",
            " 9   Horsepower   428 non-null    int64  \n",
            " 10  MPG_City     428 non-null    int64  \n",
            " 11  MPG_Highway  428 non-null    int64  \n",
            " 12  Weight       428 non-null    int64  \n",
            " 13  Wheelbase    428 non-null    int64  \n",
            " 14  Length       428 non-null    int64  \n",
            "dtypes: float64(2), int64(6), object(7)\n",
            "memory usage: 50.3+ KB\n"
          ],
          "name": "stdout"
        }
      ]
    },
    {
      "cell_type": "markdown",
      "metadata": {
        "id": "JvYnthqEuLU9"
      },
      "source": [
        "**Limpando os dados do atributo MSRP.**"
      ]
    },
    {
      "cell_type": "code",
      "metadata": {
        "id": "p6gl40T5uJdd"
      },
      "source": [
        "df['MSRP'] = [x.replace('$', '') for x in df['MSRP']] \n",
        "df['MSRP'] = [x.replace(',', '') for x in df['MSRP']]"
      ],
      "execution_count": null,
      "outputs": []
    },
    {
      "cell_type": "code",
      "metadata": {
        "id": "ji4bI4siuNur",
        "outputId": "3a051dfa-df99-425e-c4f6-77d45fa5efed",
        "colab": {
          "base_uri": "https://localhost:8080/",
          "height": 129
        }
      },
      "source": [
        "df['MSRP'].head(5)"
      ],
      "execution_count": null,
      "outputs": [
        {
          "output_type": "execute_result",
          "data": {
            "text/plain": [
              "0    36945\n",
              "1    23820\n",
              "2    26990\n",
              "3    33195\n",
              "4    43755\n",
              "Name: MSRP, dtype: object"
            ]
          },
          "metadata": {
            "tags": []
          },
          "execution_count": 83
        }
      ]
    },
    {
      "cell_type": "code",
      "metadata": {
        "id": "RwqfriU6uPky",
        "outputId": "9d08a309-848f-4493-e6fd-7e9e7fb671b8",
        "colab": {
          "base_uri": "https://localhost:8080/",
          "height": 427
        }
      },
      "source": [
        "df.info()"
      ],
      "execution_count": null,
      "outputs": [
        {
          "output_type": "stream",
          "text": [
            "<class 'pandas.core.frame.DataFrame'>\n",
            "RangeIndex: 428 entries, 0 to 427\n",
            "Data columns (total 15 columns):\n",
            " #   Column       Non-Null Count  Dtype  \n",
            "---  ------       --------------  -----  \n",
            " 0   Make         428 non-null    object \n",
            " 1   Model        428 non-null    object \n",
            " 2   Type         428 non-null    object \n",
            " 3   Origin       428 non-null    object \n",
            " 4   DriveTrain   428 non-null    object \n",
            " 5   MSRP         428 non-null    object \n",
            " 6   Invoice      428 non-null    object \n",
            " 7   EngineSize   428 non-null    float64\n",
            " 8   Cylinders    426 non-null    float64\n",
            " 9   Horsepower   428 non-null    int64  \n",
            " 10  MPG_City     428 non-null    int64  \n",
            " 11  MPG_Highway  428 non-null    int64  \n",
            " 12  Weight       428 non-null    int64  \n",
            " 13  Wheelbase    428 non-null    int64  \n",
            " 14  Length       428 non-null    int64  \n",
            "dtypes: float64(2), int64(6), object(7)\n",
            "memory usage: 50.3+ KB\n"
          ],
          "name": "stdout"
        }
      ]
    },
    {
      "cell_type": "markdown",
      "metadata": {
        "id": "gQEIH1z1uTsW"
      },
      "source": [
        "**Transformando os dados para o formato numérico.**"
      ]
    },
    {
      "cell_type": "code",
      "metadata": {
        "id": "yB6MSujeuRO_"
      },
      "source": [
        "df['MSRP']=pd.to_numeric(df['MSRP'],errors='coerce')"
      ],
      "execution_count": null,
      "outputs": []
    },
    {
      "cell_type": "code",
      "metadata": {
        "id": "6qXrLcxAuVRk",
        "outputId": "49ffc4ce-851d-428f-eea7-08dcdde7443a",
        "colab": {
          "base_uri": "https://localhost:8080/",
          "height": 427
        }
      },
      "source": [
        "df.info()"
      ],
      "execution_count": null,
      "outputs": [
        {
          "output_type": "stream",
          "text": [
            "<class 'pandas.core.frame.DataFrame'>\n",
            "RangeIndex: 428 entries, 0 to 427\n",
            "Data columns (total 15 columns):\n",
            " #   Column       Non-Null Count  Dtype  \n",
            "---  ------       --------------  -----  \n",
            " 0   Make         428 non-null    object \n",
            " 1   Model        428 non-null    object \n",
            " 2   Type         428 non-null    object \n",
            " 3   Origin       428 non-null    object \n",
            " 4   DriveTrain   428 non-null    object \n",
            " 5   MSRP         428 non-null    int64  \n",
            " 6   Invoice      428 non-null    object \n",
            " 7   EngineSize   428 non-null    float64\n",
            " 8   Cylinders    426 non-null    float64\n",
            " 9   Horsepower   428 non-null    int64  \n",
            " 10  MPG_City     428 non-null    int64  \n",
            " 11  MPG_Highway  428 non-null    int64  \n",
            " 12  Weight       428 non-null    int64  \n",
            " 13  Wheelbase    428 non-null    int64  \n",
            " 14  Length       428 non-null    int64  \n",
            "dtypes: float64(2), int64(7), object(6)\n",
            "memory usage: 50.3+ KB\n"
          ],
          "name": "stdout"
        }
      ]
    },
    {
      "cell_type": "code",
      "metadata": {
        "id": "MvsxVv6euWU1",
        "outputId": "3a702d5a-d5ee-4694-f3de-f97835826a2a",
        "colab": {
          "base_uri": "https://localhost:8080/",
          "height": 301
        }
      },
      "source": [
        "df.describe()"
      ],
      "execution_count": null,
      "outputs": [
        {
          "output_type": "execute_result",
          "data": {
            "text/html": [
              "<div>\n",
              "<style scoped>\n",
              "    .dataframe tbody tr th:only-of-type {\n",
              "        vertical-align: middle;\n",
              "    }\n",
              "\n",
              "    .dataframe tbody tr th {\n",
              "        vertical-align: top;\n",
              "    }\n",
              "\n",
              "    .dataframe thead th {\n",
              "        text-align: right;\n",
              "    }\n",
              "</style>\n",
              "<table border=\"1\" class=\"dataframe\">\n",
              "  <thead>\n",
              "    <tr style=\"text-align: right;\">\n",
              "      <th></th>\n",
              "      <th>MSRP</th>\n",
              "      <th>EngineSize</th>\n",
              "      <th>Cylinders</th>\n",
              "      <th>Horsepower</th>\n",
              "      <th>MPG_City</th>\n",
              "      <th>MPG_Highway</th>\n",
              "      <th>Weight</th>\n",
              "      <th>Wheelbase</th>\n",
              "      <th>Length</th>\n",
              "    </tr>\n",
              "  </thead>\n",
              "  <tbody>\n",
              "    <tr>\n",
              "      <th>count</th>\n",
              "      <td>428.000000</td>\n",
              "      <td>428.000000</td>\n",
              "      <td>426.000000</td>\n",
              "      <td>428.000000</td>\n",
              "      <td>428.000000</td>\n",
              "      <td>428.000000</td>\n",
              "      <td>428.000000</td>\n",
              "      <td>428.000000</td>\n",
              "      <td>428.000000</td>\n",
              "    </tr>\n",
              "    <tr>\n",
              "      <th>mean</th>\n",
              "      <td>32774.855140</td>\n",
              "      <td>3.196729</td>\n",
              "      <td>5.807512</td>\n",
              "      <td>215.885514</td>\n",
              "      <td>20.060748</td>\n",
              "      <td>26.843458</td>\n",
              "      <td>3577.953271</td>\n",
              "      <td>108.154206</td>\n",
              "      <td>186.362150</td>\n",
              "    </tr>\n",
              "    <tr>\n",
              "      <th>std</th>\n",
              "      <td>19431.716674</td>\n",
              "      <td>1.108595</td>\n",
              "      <td>1.558443</td>\n",
              "      <td>71.836032</td>\n",
              "      <td>5.238218</td>\n",
              "      <td>5.741201</td>\n",
              "      <td>758.983215</td>\n",
              "      <td>8.311813</td>\n",
              "      <td>14.357991</td>\n",
              "    </tr>\n",
              "    <tr>\n",
              "      <th>min</th>\n",
              "      <td>10280.000000</td>\n",
              "      <td>1.300000</td>\n",
              "      <td>3.000000</td>\n",
              "      <td>73.000000</td>\n",
              "      <td>10.000000</td>\n",
              "      <td>12.000000</td>\n",
              "      <td>1850.000000</td>\n",
              "      <td>89.000000</td>\n",
              "      <td>143.000000</td>\n",
              "    </tr>\n",
              "    <tr>\n",
              "      <th>25%</th>\n",
              "      <td>20334.250000</td>\n",
              "      <td>2.375000</td>\n",
              "      <td>4.000000</td>\n",
              "      <td>165.000000</td>\n",
              "      <td>17.000000</td>\n",
              "      <td>24.000000</td>\n",
              "      <td>3104.000000</td>\n",
              "      <td>103.000000</td>\n",
              "      <td>178.000000</td>\n",
              "    </tr>\n",
              "    <tr>\n",
              "      <th>50%</th>\n",
              "      <td>27635.000000</td>\n",
              "      <td>3.000000</td>\n",
              "      <td>6.000000</td>\n",
              "      <td>210.000000</td>\n",
              "      <td>19.000000</td>\n",
              "      <td>26.000000</td>\n",
              "      <td>3474.500000</td>\n",
              "      <td>107.000000</td>\n",
              "      <td>187.000000</td>\n",
              "    </tr>\n",
              "    <tr>\n",
              "      <th>75%</th>\n",
              "      <td>39205.000000</td>\n",
              "      <td>3.900000</td>\n",
              "      <td>6.000000</td>\n",
              "      <td>255.000000</td>\n",
              "      <td>21.250000</td>\n",
              "      <td>29.000000</td>\n",
              "      <td>3977.750000</td>\n",
              "      <td>112.000000</td>\n",
              "      <td>194.000000</td>\n",
              "    </tr>\n",
              "    <tr>\n",
              "      <th>max</th>\n",
              "      <td>192465.000000</td>\n",
              "      <td>8.300000</td>\n",
              "      <td>12.000000</td>\n",
              "      <td>500.000000</td>\n",
              "      <td>60.000000</td>\n",
              "      <td>66.000000</td>\n",
              "      <td>7190.000000</td>\n",
              "      <td>144.000000</td>\n",
              "      <td>238.000000</td>\n",
              "    </tr>\n",
              "  </tbody>\n",
              "</table>\n",
              "</div>"
            ],
            "text/plain": [
              "                MSRP  EngineSize  ...   Wheelbase      Length\n",
              "count     428.000000  428.000000  ...  428.000000  428.000000\n",
              "mean    32774.855140    3.196729  ...  108.154206  186.362150\n",
              "std     19431.716674    1.108595  ...    8.311813   14.357991\n",
              "min     10280.000000    1.300000  ...   89.000000  143.000000\n",
              "25%     20334.250000    2.375000  ...  103.000000  178.000000\n",
              "50%     27635.000000    3.000000  ...  107.000000  187.000000\n",
              "75%     39205.000000    3.900000  ...  112.000000  194.000000\n",
              "max    192465.000000    8.300000  ...  144.000000  238.000000\n",
              "\n",
              "[8 rows x 9 columns]"
            ]
          },
          "metadata": {
            "tags": []
          },
          "execution_count": 87
        }
      ]
    },
    {
      "cell_type": "markdown",
      "metadata": {
        "id": "nLjjJXoeuZa0"
      },
      "source": [
        "**Média aritmética**"
      ]
    },
    {
      "cell_type": "code",
      "metadata": {
        "id": "_ATO7D3huX2B",
        "outputId": "65d21233-3adc-4d48-aef7-e9f908e3c950",
        "colab": {
          "base_uri": "https://localhost:8080/",
          "height": 36
        }
      },
      "source": [
        "df[\"MSRP\"].mean()"
      ],
      "execution_count": null,
      "outputs": [
        {
          "output_type": "execute_result",
          "data": {
            "text/plain": [
              "32774.85514018692"
            ]
          },
          "metadata": {
            "tags": []
          },
          "execution_count": 88
        }
      ]
    },
    {
      "cell_type": "code",
      "metadata": {
        "id": "HtA8_cSqua91"
      },
      "source": [
        "msrp = df[\"MSRP\"]"
      ],
      "execution_count": null,
      "outputs": []
    },
    {
      "cell_type": "code",
      "metadata": {
        "id": "z2m3T8Gaub2x",
        "outputId": "c744c300-36fb-498d-ca63-e64a30740e2e",
        "colab": {
          "base_uri": "https://localhost:8080/",
          "height": 36
        }
      },
      "source": [
        "msrp.mean()"
      ],
      "execution_count": null,
      "outputs": [
        {
          "output_type": "execute_result",
          "data": {
            "text/plain": [
              "32774.85514018692"
            ]
          },
          "metadata": {
            "tags": []
          },
          "execution_count": 90
        }
      ]
    },
    {
      "cell_type": "markdown",
      "metadata": {
        "id": "Q_js-WB0uecg"
      },
      "source": [
        "**Média geométrica**"
      ]
    },
    {
      "cell_type": "code",
      "metadata": {
        "id": "EPBvTuLJuc2H",
        "outputId": "f94adf04-11ed-414f-d039-e6070f736054",
        "colab": {
          "base_uri": "https://localhost:8080/",
          "height": 36
        }
      },
      "source": [
        "gmean(msrp)"
      ],
      "execution_count": null,
      "outputs": [
        {
          "output_type": "execute_result",
          "data": {
            "text/plain": [
              "28841.635198804073"
            ]
          },
          "metadata": {
            "tags": []
          },
          "execution_count": 91
        }
      ]
    },
    {
      "cell_type": "markdown",
      "metadata": {
        "id": "IrnakN8WuiOX"
      },
      "source": [
        "**Média Harmônica**"
      ]
    },
    {
      "cell_type": "code",
      "metadata": {
        "id": "e6VjX_a0ug6A",
        "outputId": "e888b0b5-72b6-4ec7-ffc5-b244a6e97203",
        "colab": {
          "base_uri": "https://localhost:8080/",
          "height": 36
        }
      },
      "source": [
        "hmean(msrp)"
      ],
      "execution_count": null,
      "outputs": [
        {
          "output_type": "execute_result",
          "data": {
            "text/plain": [
              "25837.78463669279"
            ]
          },
          "metadata": {
            "tags": []
          },
          "execution_count": 92
        }
      ]
    },
    {
      "cell_type": "markdown",
      "metadata": {
        "id": "-U0R9DXAulQ5"
      },
      "source": [
        "**Mediana**"
      ]
    },
    {
      "cell_type": "code",
      "metadata": {
        "id": "JJEq0o1pujvq",
        "outputId": "7fcbc1a5-a31b-49a8-9aeb-b0ccb247cb73",
        "colab": {
          "base_uri": "https://localhost:8080/",
          "height": 36
        }
      },
      "source": [
        "msrp.median()"
      ],
      "execution_count": null,
      "outputs": [
        {
          "output_type": "execute_result",
          "data": {
            "text/plain": [
              "27635.0"
            ]
          },
          "metadata": {
            "tags": []
          },
          "execution_count": 93
        }
      ]
    },
    {
      "cell_type": "markdown",
      "metadata": {
        "id": "YdofhPIPupBZ"
      },
      "source": [
        "**Moda**"
      ]
    },
    {
      "cell_type": "code",
      "metadata": {
        "id": "I2levrOWumwr",
        "outputId": "8d3bddff-c2cd-49ea-fd5a-a99e7dca83d1",
        "colab": {
          "base_uri": "https://localhost:8080/",
          "height": 371
        }
      },
      "source": [
        "msrp.mode()"
      ],
      "execution_count": null,
      "outputs": [
        {
          "output_type": "execute_result",
          "data": {
            "text/plain": [
              "0     13270\n",
              "1     15389\n",
              "2     19635\n",
              "3     19860\n",
              "4     21055\n",
              "5     21595\n",
              "6     23495\n",
              "7     23895\n",
              "8     25700\n",
              "9     27490\n",
              "10    28495\n",
              "11    29995\n",
              "12    31545\n",
              "13    33995\n",
              "14    34495\n",
              "15    35940\n",
              "16    49995\n",
              "17    74995\n",
              "dtype: int64"
            ]
          },
          "metadata": {
            "tags": []
          },
          "execution_count": 94
        }
      ]
    },
    {
      "cell_type": "markdown",
      "metadata": {
        "id": "6uPNx4oMusdY"
      },
      "source": [
        "**Variação**"
      ]
    },
    {
      "cell_type": "code",
      "metadata": {
        "id": "860i_f74uq6W",
        "outputId": "e0d116de-1d5b-4804-8990-ed84dc7aa094",
        "colab": {
          "base_uri": "https://localhost:8080/",
          "height": 36
        }
      },
      "source": [
        "msrp.var()"
      ],
      "execution_count": null,
      "outputs": [
        {
          "output_type": "execute_result",
          "data": {
            "text/plain": [
              "377591612.88763136"
            ]
          },
          "metadata": {
            "tags": []
          },
          "execution_count": 95
        }
      ]
    },
    {
      "cell_type": "markdown",
      "metadata": {
        "id": "1UaRAbYSuvG6"
      },
      "source": [
        "**Desvio padrão**"
      ]
    },
    {
      "cell_type": "code",
      "metadata": {
        "id": "xLWPxcgCut5r",
        "outputId": "53dbc3a2-e95b-47a0-c9ca-92cac2cb8ba3",
        "colab": {
          "base_uri": "https://localhost:8080/",
          "height": 36
        }
      },
      "source": [
        "msrp.std()"
      ],
      "execution_count": null,
      "outputs": [
        {
          "output_type": "execute_result",
          "data": {
            "text/plain": [
              "19431.716673717518"
            ]
          },
          "metadata": {
            "tags": []
          },
          "execution_count": 96
        }
      ]
    },
    {
      "cell_type": "markdown",
      "metadata": {
        "id": "2peS5N2Pu0LE"
      },
      "source": [
        "**Valor máximo**"
      ]
    },
    {
      "cell_type": "code",
      "metadata": {
        "id": "PH4dsqjAuwuE",
        "outputId": "d28bdc69-c8b3-4285-a80c-976d8352b0be",
        "colab": {
          "base_uri": "https://localhost:8080/",
          "height": 36
        }
      },
      "source": [
        "msrp.max()"
      ],
      "execution_count": null,
      "outputs": [
        {
          "output_type": "execute_result",
          "data": {
            "text/plain": [
              "192465"
            ]
          },
          "metadata": {
            "tags": []
          },
          "execution_count": 97
        }
      ]
    },
    {
      "cell_type": "markdown",
      "metadata": {
        "id": "w8m7LbVeu3V3"
      },
      "source": [
        "**Valor mínimo**"
      ]
    },
    {
      "cell_type": "code",
      "metadata": {
        "id": "cg5NVs7su16P",
        "outputId": "8cb8e79a-5503-4df2-aa3d-3522df1ba7e7",
        "colab": {
          "base_uri": "https://localhost:8080/",
          "height": 36
        }
      },
      "source": [
        "msrp.min()"
      ],
      "execution_count": null,
      "outputs": [
        {
          "output_type": "execute_result",
          "data": {
            "text/plain": [
              "10280"
            ]
          },
          "metadata": {
            "tags": []
          },
          "execution_count": 98
        }
      ]
    },
    {
      "cell_type": "markdown",
      "metadata": {
        "id": "UeC42I6Ku6Gh"
      },
      "source": [
        "# 4. Medidas de Assimetria\n",
        "Nos possibilitam analisar uma distribuição em relação a sua moda, mediana e média."
      ]
    },
    {
      "cell_type": "markdown",
      "metadata": {
        "id": "baNQee2GLUt6"
      },
      "source": [
        "## Coeficiente de Pearson\n",
        "\n",
        "*P de Pearson*, como também é chamado, mede o grau de correlação e a direção (positiva ou negativa).\n",
        "\n",
        "Os valores assumidos variam de -1 a 1:\n",
        "\n",
        "- *p = 1*: Significa uma correlação perfeita positiva entre as duas variáveis.\n",
        "- *p = -1*:  Significa uma correlação negativa perfeita entre as duas variáveis - Isto é, se uma aumenta, a outra sempre diminui.\n",
        "- *p = 0*:  Significa que as duas variáveis não dependem linearmente uma da outra. No entanto, pode existir uma dependência não linear. Assim, o resultado ρ = 0 deve ser investigado por outros meios."
      ]
    },
    {
      "cell_type": "markdown",
      "metadata": {
        "id": "GUCjtSn2LYJO"
      },
      "source": [
        "## Coeficiente de Curtose\n",
        "\n",
        "Mede o grau de achatamento da função de distribuição de probabilidade.\n",
        "\n",
        "-  **Mesocúrtica:** Se o valor da curtose for = 0 (ou 3, pela segunda definição), então tem o mesmo achatamento que a distribuição normal. \n",
        "\n",
        "-  **leptocúrtica:** Se o valor é > 0 (ou > 3), então a distribuição em questão é mais alta (afunilada) e concentrada que a distribuição normal. Diz-se que esta função probabilidade é leptocúrtica, ou que a distribuição tem caudas pesadas (o significado é que é relativamente fácil obter valores que não se aproximam da média a vários múltiplos do desvio padrão)\n",
        "\n",
        "- **platicúrtica:**  Se o valor é < 0 (ou < 3), então a função de distribuição é mais \"achatada\" que a distribuição normal."
      ]
    },
    {
      "cell_type": "code",
      "metadata": {
        "id": "ZCT5r6Kdu4tZ"
      },
      "source": [
        "import matplotlib.pyplot as plt\n",
        "import math\n",
        "import numpy as np\n",
        "import seaborn as sns\n",
        "import pandas as pd\n",
        "from scipy.stats import kurtosis, skew\n",
        "%matplotlib inline"
      ],
      "execution_count": null,
      "outputs": []
    },
    {
      "cell_type": "markdown",
      "metadata": {
        "id": "ioaRWHOzu9rs"
      },
      "source": [
        "**Função para calcular estatísticas.**"
      ]
    },
    {
      "cell_type": "code",
      "metadata": {
        "id": "ZvcaO7dmu70x"
      },
      "source": [
        "def calcula_estatisticas(data):\n",
        "  mean = round(np.mean(data),2)\n",
        "  mode = round(stats.mode(data,)[0][0],2)\n",
        "  median = round(np.median(data),2)\n",
        "  var = round(np.var(data),2)\n",
        "  std = round(np.std(data),2)\n",
        "  coef_pearson = round(stats.skew(data),2)\n",
        "  coef_curtose = round(kurtosis(data),2)\n",
        "  msg = print(\"Media: {}\\nModa: {}\\nMediana: {}\\nVariância: {}\\nDesvio Padrão: {}\\nCoeficiente Person: {}\\nCoeficiente de Curtose: {}\".format(mean,\n",
        "                                                                                                                                              median,\n",
        "                                                                                                                                              mode,\n",
        "                                                                                                                                              var,\n",
        "                                                                                                                                              std,\n",
        "                                                                                                                                              coef_pearson,\n",
        "                                                                                                                                              coef_curtose))\n",
        "  return msg"
      ],
      "execution_count": null,
      "outputs": []
    },
    {
      "cell_type": "markdown",
      "metadata": {
        "id": "DkH43YExvAlC"
      },
      "source": [
        "**Considere a seguinte amostra**"
      ]
    },
    {
      "cell_type": "code",
      "metadata": {
        "id": "6t0YJNvqu_BO"
      },
      "source": [
        "s0 = [4,5,6,5,5,6,6,5,4,5,5,5]"
      ],
      "execution_count": null,
      "outputs": []
    },
    {
      "cell_type": "code",
      "metadata": {
        "id": "yjGvk4UpvB6y",
        "outputId": "5ab5b0f6-3a5b-49ad-c78f-ca83f0b7f4d1",
        "colab": {
          "base_uri": "https://localhost:8080/",
          "height": 147
        }
      },
      "source": [
        "calcula_estatisticas(s0)"
      ],
      "execution_count": null,
      "outputs": [
        {
          "output_type": "stream",
          "text": [
            "Media: 5.08\n",
            "Moda: 5.0\n",
            "Mediana: 5\n",
            "Variância: 0.41\n",
            "Desvio Padrão: 0.64\n",
            "Coeficiente Person: -0.08\n",
            "Coeficiente de Curtose: -0.58\n"
          ],
          "name": "stdout"
        }
      ]
    },
    {
      "cell_type": "markdown",
      "metadata": {
        "id": "1hbywzfDvFAO"
      },
      "source": [
        "**Distribuição Simétrica - Média = Moda = Mediana.**"
      ]
    },
    {
      "cell_type": "code",
      "metadata": {
        "id": "1KFdw9ejvDE5",
        "outputId": "bff72421-e09d-45f5-9a9f-ae4342aa911f",
        "colab": {
          "base_uri": "https://localhost:8080/",
          "height": 484
        }
      },
      "source": [
        "fig = plt.figure(figsize=(12, 4))\n",
        "ax = sns.distplot(s0,rug=True,kde=True,hist=False)\n",
        "\n",
        "ax.annotate('Mode', xy=(5, 0.4), xytext=(4.7, 0.7),arrowprops={'arrowstyle': '-'})         \n",
        "ax.annotate('Median', xy=(5, 0.4), xytext=(5.3, 0.7),arrowprops={'arrowstyle': '-'})\n",
        "ax.annotate('Média', xy=(5, 0.4), xytext=(5.0, 1), arrowprops={'arrowstyle': '-'})\n",
        "plt.show();"
      ],
      "execution_count": null,
      "outputs": [
        {
          "output_type": "stream",
          "text": [
            "/usr/local/lib/python3.6/dist-packages/seaborn/distributions.py:2551: FutureWarning: `distplot` is a deprecated function and will be removed in a future version. Please adapt your code to use either `displot` (a figure-level function with similar flexibility) or `kdeplot` (an axes-level function for kernel density plots).\n",
            "  warnings.warn(msg, FutureWarning)\n",
            "/usr/local/lib/python3.6/dist-packages/seaborn/distributions.py:2055: FutureWarning: The `axis` variable is no longer used and will be removed. Instead, assign variables directly to `x` or `y`.\n",
            "  warnings.warn(msg, FutureWarning)\n"
          ],
          "name": "stderr"
        },
        {
          "output_type": "display_data",
          "data": {
            "image/png": "[encoded data removed]",
            "text/plain": [
              "<Figure size 864x288 with 1 Axes>"
            ]
          },
          "metadata": {
            "tags": [],
            "needs_background": "light"
          }
        }
      ]
    },
    {
      "cell_type": "markdown",
      "metadata": {
        "id": "fbBXct8VvJ9L"
      },
      "source": [
        "Coeficiente de Pearson - O valor é próximo de zero a distribuição é simétrica.\n",
        "\n",
        "Coeficiente de Curtose - O valor é menor que 3 o grau de achatamento da distribuição normal é platicúrtica (mais achatada no platô)"
      ]
    },
    {
      "cell_type": "markdown",
      "metadata": {
        "id": "eHlP5D9bvMFK"
      },
      "source": [
        "**Considere a segunda amostra**"
      ]
    },
    {
      "cell_type": "code",
      "metadata": {
        "id": "jo1UbDgrvGrf"
      },
      "source": [
        "s1 = [12,8.0, 4, 3, 2,1,1]"
      ],
      "execution_count": null,
      "outputs": []
    },
    {
      "cell_type": "code",
      "metadata": {
        "id": "lUqadgXKvNuc",
        "outputId": "12dd7637-65be-439e-eb0d-f205ab4c61be",
        "colab": {
          "base_uri": "https://localhost:8080/",
          "height": 147
        }
      },
      "source": [
        "calcula_estatisticas(s1)"
      ],
      "execution_count": null,
      "outputs": [
        {
          "output_type": "stream",
          "text": [
            "Media: 4.43\n",
            "Moda: 3.0\n",
            "Mediana: 1.0\n",
            "Variância: 14.53\n",
            "Desvio Padrão: 3.81\n",
            "Coeficiente Person: 0.98\n",
            "Coeficiente de Curtose: -0.45\n"
          ],
          "name": "stdout"
        }
      ]
    },
    {
      "cell_type": "markdown",
      "metadata": {
        "id": "gu88JrBFvRn0"
      },
      "source": [
        "Asimétrica Positiva / à direita - Média > Moda > Mediana"
      ]
    },
    {
      "cell_type": "code",
      "metadata": {
        "id": "eCWPHz_LvP22",
        "outputId": "201857c7-72e9-4dce-ab0e-6db46077c555",
        "colab": {
          "base_uri": "https://localhost:8080/",
          "height": 359
        }
      },
      "source": [
        "fig = plt.figure(figsize=(12, 4))\n",
        "ax = sns.distplot(s1,rug=True,kde=True,hist=False)\n",
        "\n",
        "ax.annotate('Moda', xy=(1,0.01), xytext=(1, 0.02),arrowprops={'arrowstyle': '-'})         \n",
        "ax.annotate('Mediana', xy=(3, 0.01), xytext=(3, 0.03),arrowprops={'arrowstyle': '-'})\n",
        "ax.annotate('Média', xy=(4.4, 0.01), xytext=(4.5, 0.02),arrowprops={'arrowstyle': '-'})\n",
        "plt.show();"
      ],
      "execution_count": null,
      "outputs": [
        {
          "output_type": "stream",
          "text": [
            "/usr/local/lib/python3.6/dist-packages/seaborn/distributions.py:2551: FutureWarning: `distplot` is a deprecated function and will be removed in a future version. Please adapt your code to use either `displot` (a figure-level function with similar flexibility) or `kdeplot` (an axes-level function for kernel density plots).\n",
            "  warnings.warn(msg, FutureWarning)\n",
            "/usr/local/lib/python3.6/dist-packages/seaborn/distributions.py:2055: FutureWarning: The `axis` variable is no longer used and will be removed. Instead, assign variables directly to `x` or `y`.\n",
            "  warnings.warn(msg, FutureWarning)\n"
          ],
          "name": "stderr"
        },
        {
          "output_type": "display_data",
          "data": {
            "image/png": "[encoded data removed]",
            "text/plain": [
              "<Figure size 864x288 with 1 Axes>"
            ]
          },
          "metadata": {
            "tags": [],
            "needs_background": "light"
          }
        }
      ]
    },
    {
      "cell_type": "markdown",
      "metadata": {
        "id": "c7X8dIWQvYLE"
      },
      "source": [
        "Coeficiente de Pearson - O valor é próximo de 1 a distribuição é assimétrica positiva"
      ]
    },
    {
      "cell_type": "markdown",
      "metadata": {
        "id": "AWBaX0mRvacx"
      },
      "source": [
        "**Considere a terceira amostra**"
      ]
    },
    {
      "cell_type": "code",
      "metadata": {
        "id": "cxwNZ9jAvVSR"
      },
      "source": [
        "s2 = [-3,-1,4,2.5,4,3]"
      ],
      "execution_count": null,
      "outputs": []
    },
    {
      "cell_type": "code",
      "metadata": {
        "id": "qdzyHz1Avbgb",
        "outputId": "a2ed821f-3e04-46b7-c1c3-d7373ba40193",
        "colab": {
          "base_uri": "https://localhost:8080/",
          "height": 147
        }
      },
      "source": [
        "calcula_estatisticas(s2)"
      ],
      "execution_count": null,
      "outputs": [
        {
          "output_type": "stream",
          "text": [
            "Media: 1.58\n",
            "Moda: 2.75\n",
            "Mediana: 4.0\n",
            "Variância: 7.03\n",
            "Desvio Padrão: 2.65\n",
            "Coeficiente Person: -0.73\n",
            "Coeficiente de Curtose: -1.12\n"
          ],
          "name": "stdout"
        }
      ]
    },
    {
      "cell_type": "markdown",
      "metadata": {
        "id": "m8uVmAaCvggS"
      },
      "source": [
        "Asimétrica negativa / à esquerda - Média < Moda < Mediana"
      ]
    },
    {
      "cell_type": "code",
      "metadata": {
        "id": "WC85POxNve0V",
        "outputId": "6a47f560-9f1f-43cc-bd5a-6d25db9e541e",
        "colab": {
          "base_uri": "https://localhost:8080/",
          "height": 362
        }
      },
      "source": [
        "fig = plt.figure(figsize=(12, 4))\n",
        "ax = sns.distplot(s2,rug=True,kde=True,hist=False)\n",
        "\n",
        "ax.annotate('Moda', xy=(4,0.01), xytext=(5, 0.05),arrowprops={'arrowstyle': '-'})         \n",
        "ax.annotate('Mediana', xy=(2.75, 0.01), xytext=(3, 0.03),arrowprops={'arrowstyle': '-'})\n",
        "ax.annotate('Média', xy=(1.5, 0.01), xytext=(0.5, 0.05),arrowprops={'arrowstyle': '-'})\n",
        "plt.show()"
      ],
      "execution_count": null,
      "outputs": [
        {
          "output_type": "stream",
          "text": [
            "/usr/local/lib/python3.6/dist-packages/seaborn/distributions.py:2551: FutureWarning: `distplot` is a deprecated function and will be removed in a future version. Please adapt your code to use either `displot` (a figure-level function with similar flexibility) or `kdeplot` (an axes-level function for kernel density plots).\n",
            "  warnings.warn(msg, FutureWarning)\n",
            "/usr/local/lib/python3.6/dist-packages/seaborn/distributions.py:2055: FutureWarning: The `axis` variable is no longer used and will be removed. Instead, assign variables directly to `x` or `y`.\n",
            "  warnings.warn(msg, FutureWarning)\n"
          ],
          "name": "stderr"
        },
        {
          "output_type": "display_data",
          "data": {
            "image/png": "[encoded data removed]",
            "text/plain": [
              "<Figure size 864x288 with 1 Axes>"
            ]
          },
          "metadata": {
            "tags": [],
            "needs_background": "light"
          }
        }
      ]
    },
    {
      "cell_type": "markdown",
      "metadata": {
        "id": "sRC06HQBvjmP"
      },
      "source": [
        "Coeficiente de Pearson - O valor é próximo de -1 a distribuição é assimétrica negativa."
      ]
    },
    {
      "cell_type": "markdown",
      "metadata": {
        "id": "vimXCcpqvlx5"
      },
      "source": [
        "## Gerando dados aleatórios"
      ]
    },
    {
      "cell_type": "markdown",
      "metadata": {
        "id": "O4VnxgyJvnmS"
      },
      "source": [
        "## Amostra seguindo uma distribuição normal"
      ]
    },
    {
      "cell_type": "code",
      "metadata": {
        "id": "RjVyMVRPvhmg"
      },
      "source": [
        "sample_normal = np.random.normal(1,0.5,500)"
      ],
      "execution_count": null,
      "outputs": []
    },
    {
      "cell_type": "code",
      "metadata": {
        "id": "fMcYNueOvo0r",
        "outputId": "b08e94df-bce7-4060-d07b-76424f80f7d4",
        "colab": {
          "base_uri": "https://localhost:8080/",
          "height": 54
        }
      },
      "source": [
        "sample_normal[:10]"
      ],
      "execution_count": null,
      "outputs": [
        {
          "output_type": "execute_result",
          "data": {
            "text/plain": [
              "array([0.52217601, 0.45137819, 1.54633021, 1.02951888, 1.24928469,\n",
              "       1.17676654, 0.92212887, 1.35983021, 1.21138739, 0.66295113])"
            ]
          },
          "metadata": {
            "tags": []
          },
          "execution_count": 111
        }
      ]
    },
    {
      "cell_type": "code",
      "metadata": {
        "id": "xvFyMTV9vp-t",
        "outputId": "8d9d6382-700b-4300-a38b-9fcc2afe5bfc",
        "colab": {
          "base_uri": "https://localhost:8080/",
          "height": 147
        }
      },
      "source": [
        "calcula_estatisticas(sample_normal)"
      ],
      "execution_count": null,
      "outputs": [
        {
          "output_type": "stream",
          "text": [
            "Media: 1.02\n",
            "Moda: 1.03\n",
            "Mediana: -0.54\n",
            "Variância: 0.24\n",
            "Desvio Padrão: 0.49\n",
            "Coeficiente Person: -0.02\n",
            "Coeficiente de Curtose: -0.26\n"
          ],
          "name": "stdout"
        }
      ]
    },
    {
      "cell_type": "markdown",
      "metadata": {
        "id": "XcrkED_AvsR9"
      },
      "source": [
        "**Visualizando a distribuição**"
      ]
    },
    {
      "cell_type": "code",
      "metadata": {
        "id": "tEsyJazgvrHF",
        "outputId": "3a2e25e5-3149-40d5-c3fa-9afd463fdf08",
        "colab": {
          "base_uri": "https://localhost:8080/",
          "height": 341
        }
      },
      "source": [
        "fig = plt.figure(figsize=(12, 4))\n",
        "sns.distplot(sample_normal)"
      ],
      "execution_count": null,
      "outputs": [
        {
          "output_type": "stream",
          "text": [
            "/usr/local/lib/python3.6/dist-packages/seaborn/distributions.py:2551: FutureWarning: `distplot` is a deprecated function and will be removed in a future version. Please adapt your code to use either `displot` (a figure-level function with similar flexibility) or `histplot` (an axes-level function for histograms).\n",
            "  warnings.warn(msg, FutureWarning)\n"
          ],
          "name": "stderr"
        },
        {
          "output_type": "execute_result",
          "data": {
            "text/plain": [
              "<matplotlib.axes._subplots.AxesSubplot at 0x7f6021d985f8>"
            ]
          },
          "metadata": {
            "tags": []
          },
          "execution_count": 113
        },
        {
          "output_type": "display_data",
          "data": {
            "image/png": "[encoded data removed]",
            "text/plain": [
              "<Figure size 864x288 with 1 Axes>"
            ]
          },
          "metadata": {
            "tags": [],
            "needs_background": "light"
          }
        }
      ]
    },
    {
      "cell_type": "markdown",
      "metadata": {
        "id": "OgOVY7Kcvvo8"
      },
      "source": [
        "Distribuição simétrica, com o coeficiente de pearson próximo a zero."
      ]
    },
    {
      "cell_type": "markdown",
      "metadata": {
        "id": "-p5b-8GDvx48"
      },
      "source": [
        "**Considere o seguinte exemplo**"
      ]
    },
    {
      "cell_type": "code",
      "metadata": {
        "id": "XS7_xFgpvt1T"
      },
      "source": [
        "exp = np.arange(2,len(sample_normal),2)"
      ],
      "execution_count": null,
      "outputs": []
    },
    {
      "cell_type": "markdown",
      "metadata": {
        "id": "ob17eoVrv0N4"
      },
      "source": [
        "**Verificando os expoentes**"
      ]
    },
    {
      "cell_type": "code",
      "metadata": {
        "id": "_x2PyLlVvzCo",
        "outputId": "b02319d0-f86c-40ed-ec34-ac35d8111cec",
        "colab": {
          "base_uri": "https://localhost:8080/",
          "height": 36
        }
      },
      "source": [
        "exp[:10]"
      ],
      "execution_count": null,
      "outputs": [
        {
          "output_type": "execute_result",
          "data": {
            "text/plain": [
              "array([ 2,  4,  6,  8, 10, 12, 14, 16, 18, 20])"
            ]
          },
          "metadata": {
            "tags": []
          },
          "execution_count": 115
        }
      ]
    },
    {
      "cell_type": "markdown",
      "metadata": {
        "id": "z6Um58c2v4v8"
      },
      "source": [
        "## Gerando uma distribuição assimétrica positiva"
      ]
    },
    {
      "cell_type": "code",
      "metadata": {
        "id": "lz5bqKr2v3P8"
      },
      "source": [
        "sample_assimetrica_positiva = []\n",
        "for s,e in zip(sample_normal,exp):\n",
        "    sample_assimetrica_positiva.append(s*e)"
      ],
      "execution_count": null,
      "outputs": []
    },
    {
      "cell_type": "code",
      "metadata": {
        "id": "8t0FGXCtv7kN",
        "outputId": "64b6be53-5d4f-4e7e-da1c-9bd40623b718",
        "colab": {
          "base_uri": "https://localhost:8080/",
          "height": 147
        }
      },
      "source": [
        "calcula_estatisticas(sample_assimetrica_positiva)"
      ],
      "execution_count": null,
      "outputs": [
        {
          "output_type": "stream",
          "text": [
            "Media: 248.04\n",
            "Moda: 200.99\n",
            "Mediana: -188.53\n",
            "Variância: 40732.24\n",
            "Desvio Padrão: 201.82\n",
            "Coeficiente Person: 0.94\n",
            "Coeficiente de Curtose: 0.86\n"
          ],
          "name": "stdout"
        }
      ]
    },
    {
      "cell_type": "markdown",
      "metadata": {
        "id": "1Amgg79av91x"
      },
      "source": [
        "**Visualizando a distribuição**"
      ]
    },
    {
      "cell_type": "code",
      "metadata": {
        "id": "foZ31i5Iv8p3",
        "outputId": "55874241-6a6c-42dc-d80e-82cac6cfee1e",
        "colab": {
          "base_uri": "https://localhost:8080/",
          "height": 322
        }
      },
      "source": [
        "sns.distplot(sample_assimetrica_positiva);"
      ],
      "execution_count": null,
      "outputs": [
        {
          "output_type": "stream",
          "text": [
            "/usr/local/lib/python3.6/dist-packages/seaborn/distributions.py:2551: FutureWarning: `distplot` is a deprecated function and will be removed in a future version. Please adapt your code to use either `displot` (a figure-level function with similar flexibility) or `histplot` (an axes-level function for histograms).\n",
            "  warnings.warn(msg, FutureWarning)\n"
          ],
          "name": "stderr"
        },
        {
          "output_type": "display_data",
          "data": {
            "image/png": "[encoded data removed]",
            "text/plain": [
              "<Figure size 432x288 with 1 Axes>"
            ]
          },
          "metadata": {
            "tags": [],
            "needs_background": "light"
          }
        }
      ]
    },
    {
      "cell_type": "markdown",
      "metadata": {
        "id": "IppOCvYdwBU3"
      },
      "source": [
        "## Gerando uma distribuição assimétrica negativa"
      ]
    },
    {
      "cell_type": "code",
      "metadata": {
        "id": "i3UMygARv_ga"
      },
      "source": [
        "exp = (np.arange(2,len(sample_normal),2))*-1"
      ],
      "execution_count": null,
      "outputs": []
    },
    {
      "cell_type": "markdown",
      "metadata": {
        "id": "3DiLzjUhwFqB"
      },
      "source": [
        "**Verificando os expoentes**"
      ]
    },
    {
      "cell_type": "code",
      "metadata": {
        "id": "57zDjOV1wDg5",
        "outputId": "af6f6103-16b4-41ae-a268-7f4b428b2b62",
        "colab": {
          "base_uri": "https://localhost:8080/",
          "height": 36
        }
      },
      "source": [
        "exp[:10]"
      ],
      "execution_count": null,
      "outputs": [
        {
          "output_type": "execute_result",
          "data": {
            "text/plain": [
              "array([ -2,  -4,  -6,  -8, -10, -12, -14, -16, -18, -20])"
            ]
          },
          "metadata": {
            "tags": []
          },
          "execution_count": 120
        }
      ]
    },
    {
      "cell_type": "code",
      "metadata": {
        "id": "V9O9EQhIwIzN"
      },
      "source": [
        "sample_assimetrica_negativa = []\n",
        "for s,e in zip(sample_normal,exp):\n",
        "    sample_assimetrica_negativa.append(s*e)"
      ],
      "execution_count": null,
      "outputs": []
    },
    {
      "cell_type": "code",
      "metadata": {
        "id": "tJmWo70SwJ58",
        "outputId": "7638d670-a6ff-4b2d-f8d6-63fc1ff7a256",
        "colab": {
          "base_uri": "https://localhost:8080/",
          "height": 147
        }
      },
      "source": [
        "calcula_estatisticas(sample_assimetrica_negativa)"
      ],
      "execution_count": null,
      "outputs": [
        {
          "output_type": "stream",
          "text": [
            "Media: -248.04\n",
            "Moda: -200.99\n",
            "Mediana: -1018.55\n",
            "Variância: 40732.24\n",
            "Desvio Padrão: 201.82\n",
            "Coeficiente Person: -0.94\n",
            "Coeficiente de Curtose: 0.86\n"
          ],
          "name": "stdout"
        }
      ]
    },
    {
      "cell_type": "markdown",
      "metadata": {
        "id": "V8_V6cwfwMYD"
      },
      "source": [
        "**Visualizando a distribuição**"
      ]
    },
    {
      "cell_type": "code",
      "metadata": {
        "id": "OcdpwOhqwLAw",
        "outputId": "4ba0ece1-3023-42d5-d59e-d4861e4bfa69",
        "colab": {
          "base_uri": "https://localhost:8080/",
          "height": 322
        }
      },
      "source": [
        "sns.distplot(sample_assimetrica_negativa);"
      ],
      "execution_count": null,
      "outputs": [
        {
          "output_type": "stream",
          "text": [
            "/usr/local/lib/python3.6/dist-packages/seaborn/distributions.py:2551: FutureWarning: `distplot` is a deprecated function and will be removed in a future version. Please adapt your code to use either `displot` (a figure-level function with similar flexibility) or `histplot` (an axes-level function for histograms).\n",
            "  warnings.warn(msg, FutureWarning)\n"
          ],
          "name": "stderr"
        },
        {
          "output_type": "display_data",
          "data": {
            "image/png": "[encoded data removed]",
            "text/plain": [
              "<Figure size 432x288 with 1 Axes>"
            ]
          },
          "metadata": {
            "tags": [],
            "needs_background": "light"
          }
        }
      ]
    },
    {
      "cell_type": "markdown",
      "metadata": {
        "id": "HlXCAoeAwPk4"
      },
      "source": [
        "**Verificando graficamente as distribuições dos atributos do Dataframe**"
      ]
    },
    {
      "cell_type": "code",
      "metadata": {
        "id": "8BRF1PUewOM_",
        "outputId": "9955515d-a441-487d-9c4a-adb7bb221ca2",
        "colab": {
          "base_uri": "https://localhost:8080/",
          "height": 1000
        }
      },
      "source": [
        "import matplotlib.pyplot as plt\n",
        "\n",
        "fig, axes = plt.subplots(nrows=3, ncols=3,figsize=(16, 12))\n",
        "for i, column in enumerate(df.select_dtypes(include=np.number).columns.tolist()):\n",
        "    sns.distplot(df[column],ax=axes[i//3,i%3]);"
      ],
      "execution_count": null,
      "outputs": [
        {
          "output_type": "stream",
          "text": [
            "/usr/local/lib/python3.6/dist-packages/seaborn/distributions.py:2551: FutureWarning: `distplot` is a deprecated function and will be removed in a future version. Please adapt your code to use either `displot` (a figure-level function with similar flexibility) or `histplot` (an axes-level function for histograms).\n",
            "  warnings.warn(msg, FutureWarning)\n",
            "/usr/local/lib/python3.6/dist-packages/seaborn/distributions.py:2551: FutureWarning: `distplot` is a deprecated function and will be removed in a future version. Please adapt your code to use either `displot` (a figure-level function with similar flexibility) or `histplot` (an axes-level function for histograms).\n",
            "  warnings.warn(msg, FutureWarning)\n",
            "/usr/local/lib/python3.6/dist-packages/seaborn/distributions.py:2551: FutureWarning: `distplot` is a deprecated function and will be removed in a future version. Please adapt your code to use either `displot` (a figure-level function with similar flexibility) or `histplot` (an axes-level function for histograms).\n",
            "  warnings.warn(msg, FutureWarning)\n",
            "/usr/local/lib/python3.6/dist-packages/seaborn/distributions.py:2551: FutureWarning: `distplot` is a deprecated function and will be removed in a future version. Please adapt your code to use either `displot` (a figure-level function with similar flexibility) or `histplot` (an axes-level function for histograms).\n",
            "  warnings.warn(msg, FutureWarning)\n",
            "/usr/local/lib/python3.6/dist-packages/seaborn/distributions.py:2551: FutureWarning: `distplot` is a deprecated function and will be removed in a future version. Please adapt your code to use either `displot` (a figure-level function with similar flexibility) or `histplot` (an axes-level function for histograms).\n",
            "  warnings.warn(msg, FutureWarning)\n",
            "/usr/local/lib/python3.6/dist-packages/seaborn/distributions.py:2551: FutureWarning: `distplot` is a deprecated function and will be removed in a future version. Please adapt your code to use either `displot` (a figure-level function with similar flexibility) or `histplot` (an axes-level function for histograms).\n",
            "  warnings.warn(msg, FutureWarning)\n",
            "/usr/local/lib/python3.6/dist-packages/seaborn/distributions.py:2551: FutureWarning: `distplot` is a deprecated function and will be removed in a future version. Please adapt your code to use either `displot` (a figure-level function with similar flexibility) or `histplot` (an axes-level function for histograms).\n",
            "  warnings.warn(msg, FutureWarning)\n",
            "/usr/local/lib/python3.6/dist-packages/seaborn/distributions.py:2551: FutureWarning: `distplot` is a deprecated function and will be removed in a future version. Please adapt your code to use either `displot` (a figure-level function with similar flexibility) or `histplot` (an axes-level function for histograms).\n",
            "  warnings.warn(msg, FutureWarning)\n",
            "/usr/local/lib/python3.6/dist-packages/seaborn/distributions.py:2551: FutureWarning: `distplot` is a deprecated function and will be removed in a future version. Please adapt your code to use either `displot` (a figure-level function with similar flexibility) or `histplot` (an axes-level function for histograms).\n",
            "  warnings.warn(msg, FutureWarning)\n"
          ],
          "name": "stderr"
        },
        {
          "output_type": "display_data",
          "data": {
            "image/png": "[encoded data removed]",
            "text/plain": [
              "<Figure size 1152x864 with 9 Axes>"
            ]
          },
          "metadata": {
            "tags": [],
            "needs_background": "light"
          }
        }
      ]
    },
    {
      "cell_type": "markdown",
      "metadata": {
        "id": "V-oWHfJawTsU"
      },
      "source": [
        "**Verificando a distribuição de probabilidade e a diferença entre a média e a mediana**"
      ]
    },
    {
      "cell_type": "code",
      "metadata": {
        "id": "tjFqqmXTwRfc",
        "outputId": "12f76872-e9d2-4b17-f6be-abe74a7e52e6",
        "colab": {
          "base_uri": "https://localhost:8080/",
          "height": 185
        }
      },
      "source": [
        "for i, column in enumerate(df.select_dtypes(include=np.number).columns.tolist()):\n",
        "    media = round(df[column].mean(),2)\n",
        "    std = df[column].std()\n",
        "    cvar = round(std/media*100,2)\n",
        "    median = df[column].median()\n",
        "    print(\"Atributo: {}, Coeficiente de Variação: {} %, Media: {}, Mediana: {}\".format(column,cvar,media,median))"
      ],
      "execution_count": null,
      "outputs": [
        {
          "output_type": "stream",
          "text": [
            "Atributo: MSRP, Coeficiente de Variação: 59.29 %, Media: 32774.86, Mediana: 27635.0\n",
            "Atributo: EngineSize, Coeficiente de Variação: 34.64 %, Media: 3.2, Mediana: 3.0\n",
            "Atributo: Cylinders, Coeficiente de Variação: 26.82 %, Media: 5.81, Mediana: 6.0\n",
            "Atributo: Horsepower, Coeficiente de Variação: 33.27 %, Media: 215.89, Mediana: 210.0\n",
            "Atributo: MPG_City, Coeficiente de Variação: 26.11 %, Media: 20.06, Mediana: 19.0\n",
            "Atributo: MPG_Highway, Coeficiente de Variação: 21.39 %, Media: 26.84, Mediana: 26.0\n",
            "Atributo: Weight, Coeficiente de Variação: 21.21 %, Media: 3577.95, Mediana: 3474.5\n",
            "Atributo: Wheelbase, Coeficiente de Variação: 7.69 %, Media: 108.15, Mediana: 107.0\n",
            "Atributo: Length, Coeficiente de Variação: 7.7 %, Media: 186.36, Mediana: 187.0\n"
          ],
          "name": "stdout"
        }
      ]
    },
    {
      "cell_type": "markdown",
      "metadata": {
        "id": "JLXIOdEVXSKO"
      },
      "source": [
        "# Obrigado!\n",
        "\n",
        "Obrigado por ter disponibilizado um pouco do seu tempo e atenção aqui. Espero que, de alguma forma, tenha sido útil para seu crescimento. Se houver qualquer dúvida ou sugestão, não hesite em entrar em contato no [LinkedIn](https://www.linkedin.com/in/daniel-sousa-amador) e verificar meus outros projetos no [GitHub](https://github.com/amadords).\n",
        "\n",
        "[![LinkedIn](https://img.shields.io/badge/LinkedIn-DanielSousaAmador-purple.svg)](https://www.linkedin.com/in/daniel-sousa-amador)\n",
        "[![GitHub](https://img.shields.io/badge/GitHub-amadords-darkblue.svg)](https://github.com/amadords)\n",
        "[![Medium](https://img.shields.io/badge/Medium-DanielSousaAmador-darkorange.svg)](https://medium.com/@daniel.s.amador)\n",
        "\n",
        "\n",
        "\n",
        "<center><img width=\"90%\" src=\"https://raw.githubusercontent.com/danielamador12/Portfolio/master/github.png\"></center>"
      ]
    }
  ]
}