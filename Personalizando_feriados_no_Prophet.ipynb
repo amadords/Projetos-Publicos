{
  "nbformat": 4,
  "nbformat_minor": 0,
  "metadata": {
    "colab": {
      "name": "Personalizando feriados no Prophet",
      "provenance": [],
      "authorship_tag": "ABX9TyNZXLdMt48zkm9sBEV5D/0y",
      "include_colab_link": true
    },
    "kernelspec": {
      "name": "python3",
      "display_name": "Python 3"
    }
  },
  "cells": [
    {
      "cell_type": "markdown",
      "metadata": {
        "id": "view-in-github",
        "colab_type": "text"
      },
      "source": [
        "<a href=\"https://colab.research.google.com/github/amadords/Projetos-Publicos/blob/master/Personalizando_feriados_no_Prophet.ipynb\" target=\"_parent\"><img src=\"https://colab.research.google.com/assets/colab-badge.svg\" alt=\"Open In Colab\"/></a>"
      ]
    },
    {
      "cell_type": "markdown",
      "metadata": {
        "id": "BPAt7JL6ujnd"
      },
      "source": [
        "# **Personalizando feriados no Prophet**\n",
        "---\n",
        "\n",
        "[![LinkedIn](https://img.shields.io/badge/LinkedIn-DanielSousaAmador-cyan.svg)](https://www.linkedin.com/in/daniel-sousa-amador)\n",
        "[![GitHub](https://img.shields.io/badge/GitHub-amadords-darkblue.svg)](https://github.com/amadords)\n",
        "[![Medium](https://img.shields.io/badge/Medium-DanielSousaAmador-white.svg)](https://daniel-s-amador.medium.com/)\n",
        "\n",
        "\n",
        "![img](https://img.freepik.com/vetores-gratis/evento-de-calendario-festivo-festa-de-celebracao-do-feriado-planejamento-de-cronograma-de-trabalho-gerenciamento-de-projeto-ideia-de-prazo-gerentes-de-escritorio-colegas-entusiasmados_335657-3542.jpg?size=338&ext=jpg&ga=GA1.2.1858900957.1608818544)\n",
        "\n"
      ]
    },
    {
      "cell_type": "markdown",
      "metadata": {
        "id": "RsOknm2Vu-H3"
      },
      "source": [
        "**Importando as bibliotecas**"
      ]
    },
    {
      "cell_type": "code",
      "metadata": {
        "id": "qQ_YazR5rRoi"
      },
      "source": [
        "from fbprophet import Prophet\n",
        "import pandas as pd"
      ],
      "execution_count": 1,
      "outputs": []
    },
    {
      "cell_type": "markdown",
      "metadata": {
        "id": "lvdjexuqt_PQ"
      },
      "source": [
        "**Ajustando os dados**"
      ]
    },
    {
      "cell_type": "code",
      "metadata": {
        "colab": {
          "base_uri": "https://localhost:8080/"
        },
        "id": "OXf0x3yTrfBU",
        "outputId": "ac488a3b-9adf-4310-ccd8-b457540eeb53"
      },
      "source": [
        "PATH = 'https://raw.githubusercontent.com/amadords/data/main/abrigo-animais.csv'\n",
        "df = pd.read_csv(PATH)\n",
        "\n",
        "df.DateTime = pd.to_datetime(df.DateTime)\n",
        "\n",
        "adoptions_df = df[(df['Outcome Type'] == 'Adoption')]\n",
        "adoptions_df['outcomeCount'] = 1\n",
        "\n",
        "adoptions_df = adoptions_df[['DateTime', 'outcomeCount']]\n",
        "adoptions_df = adoptions_df.set_index('DateTime').sort_index()\n",
        "\n",
        "prophet_df = adoptions_df.resample('D').sum().reset_index().rename(columns={'DateTime':'ds', 'outcomeCount':'y'})"
      ],
      "execution_count": 2,
      "outputs": [
        {
          "output_type": "stream",
          "text": [
            "/usr/local/lib/python3.7/dist-packages/ipykernel_launcher.py:7: SettingWithCopyWarning:\n",
            "\n",
            "\n",
            "A value is trying to be set on a copy of a slice from a DataFrame.\n",
            "Try using .loc[row_indexer,col_indexer] = value instead\n",
            "\n",
            "See the caveats in the documentation: https://pandas.pydata.org/pandas-docs/stable/user_guide/indexing.html#returning-a-view-versus-a-copy\n",
            "\n"
          ],
          "name": "stderr"
        }
      ]
    },
    {
      "cell_type": "markdown",
      "metadata": {
        "id": "v4uqQnBSuGIk"
      },
      "source": [
        "**Personalizando os feriados**"
      ]
    },
    {
      "cell_type": "code",
      "metadata": {
        "id": "4qG7xE2yqL4e"
      },
      "source": [
        "personalizado = pd.DataFrame({\n",
        "    'holiday': 'Seu Feriado Aqui',\n",
        "    'ds': pd.to_datetime(['2018-02-07', '2019-02-07', '2020-02-07']),\n",
        "    'lower_window': 0,\n",
        "    'upper_window': 1,\n",
        "})"
      ],
      "execution_count": 3,
      "outputs": []
    },
    {
      "cell_type": "markdown",
      "metadata": {
        "id": "skxlKZ1OuPHi"
      },
      "source": [
        "**Criando modelo e acrescentado os feriados personalizados**"
      ]
    },
    {
      "cell_type": "code",
      "metadata": {
        "colab": {
          "base_uri": "https://localhost:8080/"
        },
        "id": "FeBafQLSrUek",
        "outputId": "61a5dce7-3c08-485a-fae2-519dbfed1826"
      },
      "source": [
        "model = Prophet(holidays=personalizado)\n",
        "model.add_country_holidays(country_name='BR')\n",
        "model.fit(prophet_df)\n",
        "model.train_holiday_names"
      ],
      "execution_count": 4,
      "outputs": [
        {
          "output_type": "stream",
          "text": [
            "INFO:numexpr.utils:NumExpr defaulting to 2 threads.\n",
            "INFO:fbprophet:Disabling daily seasonality. Run prophet with daily_seasonality=True to override this.\n"
          ],
          "name": "stderr"
        },
        {
          "output_type": "execute_result",
          "data": {
            "text/plain": [
              "0              Seu Feriado Aqui\n",
              "1                New Year's Day\n",
              "2                    Tiradentes\n",
              "3                  Worker's Day\n",
              "4              Independence Day\n",
              "5    Our Lady of the Apparition\n",
              "6                All Souls' Day\n",
              "7     Republic Proclamation Day\n",
              "8                     Christmas\n",
              "dtype: object"
            ]
          },
          "metadata": {
            "tags": []
          },
          "execution_count": 4
        }
      ]
    },
    {
      "cell_type": "markdown",
      "metadata": {
        "id": "5slGnZHSvHWo"
      },
      "source": [
        "# Obrigado!\n",
        "\n",
        "Obrigado por ter disponibilizado um pouco do seu tempo e atenção aqui. Espero que, de alguma forma, tenha sido útil para seu crescimento. Se houver qualquer dúvida ou sugestão, não hesite em entrar em contato no [LinkedIn](https://www.linkedin.com/in/daniel-sousa-amador) e verificar meus outros projetos no [GitHub](https://github.com/amadords).\n",
        "\n",
        "\n",
        "[![LinkedIn](https://img.shields.io/badge/LinkedIn-DanielSousaAmador-cyan.svg)](https://www.linkedin.com/in/daniel-sousa-amador)\n",
        "[![GitHub](https://img.shields.io/badge/GitHub-amadords-darkblue.svg)](https://github.com/amadords)\n",
        "[![Medium](https://img.shields.io/badge/Medium-DanielSousaAmador-white.svg)](https://daniel-s-amador.medium.com/)\n",
        "\n",
        "\n",
        "\n",
        "<center><img width=\"90%\" src=\"https://raw.githubusercontent.com/danielamador12/Portfolio/master/github.png\"></center>"
      ]
    }
  ]
}