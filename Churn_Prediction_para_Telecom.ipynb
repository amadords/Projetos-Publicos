{
  "nbformat": 4,
  "nbformat_minor": 0,
  "metadata": {
    "colab": {
      "name": "Churn Prediction para Telecom",
      "provenance": [],
      "collapsed_sections": [],
      "authorship_tag": "ABX9TyNxr7fyqywAgmexf72WtwIo",
      "include_colab_link": true
    },
    "kernelspec": {
      "name": "python3",
      "display_name": "Python 3"
    },
    "accelerator": "GPU"
  },
  "cells": [
    {
      "cell_type": "markdown",
      "metadata": {
        "id": "view-in-github",
        "colab_type": "text"
      },
      "source": [
        "<a href=\"https://colab.research.google.com/github/amadords/Projetos-Publicos/blob/master/Churn_Prediction_para_Telecom.ipynb\" target=\"_parent\"><img src=\"https://colab.research.google.com/assets/colab-badge.svg\" alt=\"Open In Colab\"/></a>"
      ]
    },
    {
      "cell_type": "markdown",
      "metadata": {
        "id": "SZ1ctvV_Tkcn"
      },
      "source": [
        "# **Churn Prediction para Telecom**\n",
        "---\n",
        "[![LinkedIn](https://img.shields.io/badge/LinkedIn-DanielSousaAmador-cyan.svg)](https://www.linkedin.com/in/daniel-sousa-amador)\n",
        "[![GitHub](https://img.shields.io/badge/GitHub-amadords-darkblue.svg)](https://github.com/amadords)\n",
        "[![Medium](https://img.shields.io/badge/Medium-DanielSousaAmador-white.svg)](https://daniel-s-amador.medium.com/)\n",
        "\n",
        "![img](https://t3.ftcdn.net/jpg/02/98/81/74/360_F_298817415_P2kedm3RPPFWL24RGttIjwuRAUaJDPwT.webp)\n",
        "\n",
        "**Churn**, **Crosselling** e **Upsell** são, sem dúvidas, métricas que podem demonstrar a saúde de uma empresa. \n",
        "\n",
        "- O **Churn** nos diz quanto uma empresa perdeu de clientes ou receita.\n",
        "\n",
        "- O **Crosselling** permite que o cliente realize uma compra de produtos relacionados a um produto antes comprado.\n",
        "\n",
        "- O **Upsell** basicamente, consiste em melhorar a compra inicial do cliente, dando oportunidade para a pessoa adquirir um item mais completo do que aquele que ela já tinha escolhido anteriormente.\n",
        "\n",
        "Na prática, essas duas últimas são essencialmente serviços, mas em uma **Análise de BI** podem ser utilizadas juntas para visualizar correlações.\n",
        "\n",
        "Aqui, nossos esforços serão voltados para o **Churn Rate**, ou seja, para a taxa de evasão de clientes. Utilizaremos os seguintes **atributos** para fazer a previsão:\n",
        "\n",
        "* `customerID` - ID do Cliente\n",
        "* `gender` - Gênero (Se Masculino ou Feminino)\n",
        "* `SeniorCitizen` - Se é idoso. 0 se não é e 1 para se é.\n",
        "* `Partner` - Se tem parceiro ou parceira\n",
        "* `Dependents` - Se possui  dependentes\n",
        "* `tenure` - Quantidade de tempo que um cliente permanece assinando determinado serviço\n",
        "* `PhoneService` - Serviço de Telefone\n",
        "* `MultipleLines` - Se possui  múltiplas linhas\n",
        "* `InternetService` -  Tipo de serviço de internet\n",
        "* `OnlineSecurity` - Se possui segurança online\n",
        "* `OnlineBackup` - Se possui \n",
        " backup online\n",
        "* `DeviceProtection` - Se possui proteção de dispositivo\n",
        "* `TechSupport` - Se possui suporte técnico\n",
        "* `StreamingTV` - Se possui Streaming de TV\n",
        "* `StreamingMovies` - Se possui Streaming de filmes\n",
        "* `Contract` - Tipo de Contrato\n",
        "* `PaperlessBilling` - Se possui cobrança via papel\n",
        "* `PaymentMethod` - Qual o método de pagamento\n",
        "* `MonthlyCharges` - Cobrança Mensal\n",
        "* `TotalCharges` - Custo Total\n",
        "* `Churn` - Se Churn\n",
        "\n",
        "A **predição de Churn** será feita para uma empresa de **Telecom** ou **Telecomunicação** que, segunda a [nativa](https://navita.com.br/blog/telecom-o-que-e-saiba-tudo-sobre-o-setor-de-telecomunicacoes/), é um segmento que permite a troca de informações por distâncias de forma significativa, por meio de transmissão de voz, dados e vídeo.\n",
        "\n",
        "Com a predição podemos  identificar potenciais cancelamentos, com um tempo de antecedência, e promover ações direcionadas para tentar reter tais clientes. Essa métrica deve receber atenção pelo fato de que o Custo de Aquisição de Cliente (CAC) é normalmente mais baixo que o custo para mantê-los. Ou seja, um alto valor para o churn rate é o que não desejamos."
      ]
    },
    {
      "cell_type": "markdown",
      "metadata": {
        "id": "PnUtZXj4fKwM"
      },
      "source": [
        "## **Aquisição dos Dados**\n",
        "\n",
        "Os dados utilizados são originais da [plataforma de ensino da IBM Developer](https://developer.ibm.com/technologies/data-science/patterns/predict-customer-churn-using-watson-studio-and-jupyter-notebooks/#).\n",
        "\n",
        "Infelizmente, até por questão de sigilo, a base de dados se limita à aspectos generalistas, contudo os nomes das colunas permitem um entendimento a respeito do problema do negócio."
      ]
    },
    {
      "cell_type": "markdown",
      "metadata": {
        "id": "FkQnYElThGWZ"
      },
      "source": [
        "**Importando bibliotecas necessárias**"
      ]
    },
    {
      "cell_type": "code",
      "metadata": {
        "id": "FjWR79vkTjg1"
      },
      "source": [
        "!pip install scikit-plot -q\n",
        "!pip install imbalanced-learn -q\n",
        "\n",
        "from warnings import simplefilter\n",
        "simplefilter(action='ignore', category=FutureWarning)\n",
        "\n",
        "import pandas as pd\n",
        "import numpy as np\n",
        "import matplotlib.pyplot as plt\n",
        "import seaborn as sns\n",
        "from pprint import pprint\n",
        "from imblearn.under_sampling import RandomUnderSampler\n",
        "from sklearn.metrics import roc_auc_score, accuracy_score, f1_score, confusion_matrix, classification_report\n",
        "from scikitplot.metrics import plot_confusion_matrix, plot_roc\n",
        "from sklearn.preprocessing import StandardScaler, LabelEncoder\n",
        "from sklearn.pipeline import make_pipeline\n",
        "from sklearn.model_selection import train_test_split\n",
        "from sklearn.model_selection import cross_val_score\n",
        "from sklearn.model_selection import StratifiedKFold\n",
        "from sklearn.model_selection import GridSearchCV\n",
        "from sklearn.svm import SVC\n",
        "from lightgbm import LGBMClassifier\n",
        "from sklearn.linear_model import SGDClassifier\n",
        "from sklearn.tree import DecisionTreeClassifier\n",
        "from sklearn.linear_model import LogisticRegression\n",
        "from xgboost import XGBClassifier\n",
        "from sklearn.ensemble import RandomForestClassifier"
      ],
      "execution_count": 1,
      "outputs": []
    },
    {
      "cell_type": "markdown",
      "metadata": {
        "id": "4HZhu572hVCF"
      },
      "source": [
        "**Importação dos dados**\n",
        "> Além da leitura dos primeiros dados."
      ]
    },
    {
      "cell_type": "code",
      "metadata": {
        "colab": {
          "base_uri": "https://localhost:8080/",
          "height": 313
        },
        "id": "OKJQWBQYhQ39",
        "outputId": "7214ee10-8f3c-44d1-c241-0904f083d442"
      },
      "source": [
        "# carregando os dados\n",
        "PATH = 'https://raw.githubusercontent.com/amadords/data/main/telecom-churn.csv'\n",
        "df = pd.read_csv(PATH)\n",
        "\n",
        "# leitura dos dados\n",
        "df.head()"
      ],
      "execution_count": 2,
      "outputs": [
        {
          "output_type": "execute_result",
          "data": {
            "text/html": [
              "<div>\n",
              "<style scoped>\n",
              "    .dataframe tbody tr th:only-of-type {\n",
              "        vertical-align: middle;\n",
              "    }\n",
              "\n",
              "    .dataframe tbody tr th {\n",
              "        vertical-align: top;\n",
              "    }\n",
              "\n",
              "    .dataframe thead th {\n",
              "        text-align: right;\n",
              "    }\n",
              "</style>\n",
              "<table border=\"1\" class=\"dataframe\">\n",
              "  <thead>\n",
              "    <tr style=\"text-align: right;\">\n",
              "      <th></th>\n",
              "      <th>customerID</th>\n",
              "      <th>gender</th>\n",
              "      <th>SeniorCitizen</th>\n",
              "      <th>Partner</th>\n",
              "      <th>Dependents</th>\n",
              "      <th>tenure</th>\n",
              "      <th>PhoneService</th>\n",
              "      <th>MultipleLines</th>\n",
              "      <th>InternetService</th>\n",
              "      <th>OnlineSecurity</th>\n",
              "      <th>OnlineBackup</th>\n",
              "      <th>DeviceProtection</th>\n",
              "      <th>TechSupport</th>\n",
              "      <th>StreamingTV</th>\n",
              "      <th>StreamingMovies</th>\n",
              "      <th>Contract</th>\n",
              "      <th>PaperlessBilling</th>\n",
              "      <th>PaymentMethod</th>\n",
              "      <th>MonthlyCharges</th>\n",
              "      <th>TotalCharges</th>\n",
              "      <th>Churn</th>\n",
              "    </tr>\n",
              "  </thead>\n",
              "  <tbody>\n",
              "    <tr>\n",
              "      <th>0</th>\n",
              "      <td>7590-VHVEG</td>\n",
              "      <td>Female</td>\n",
              "      <td>0</td>\n",
              "      <td>Yes</td>\n",
              "      <td>No</td>\n",
              "      <td>1</td>\n",
              "      <td>No</td>\n",
              "      <td>No phone service</td>\n",
              "      <td>DSL</td>\n",
              "      <td>No</td>\n",
              "      <td>Yes</td>\n",
              "      <td>No</td>\n",
              "      <td>No</td>\n",
              "      <td>No</td>\n",
              "      <td>No</td>\n",
              "      <td>Month-to-month</td>\n",
              "      <td>Yes</td>\n",
              "      <td>Electronic check</td>\n",
              "      <td>29.85</td>\n",
              "      <td>29.85</td>\n",
              "      <td>No</td>\n",
              "    </tr>\n",
              "    <tr>\n",
              "      <th>1</th>\n",
              "      <td>5575-GNVDE</td>\n",
              "      <td>Male</td>\n",
              "      <td>0</td>\n",
              "      <td>No</td>\n",
              "      <td>No</td>\n",
              "      <td>34</td>\n",
              "      <td>Yes</td>\n",
              "      <td>No</td>\n",
              "      <td>DSL</td>\n",
              "      <td>Yes</td>\n",
              "      <td>No</td>\n",
              "      <td>Yes</td>\n",
              "      <td>No</td>\n",
              "      <td>No</td>\n",
              "      <td>No</td>\n",
              "      <td>One year</td>\n",
              "      <td>No</td>\n",
              "      <td>Mailed check</td>\n",
              "      <td>56.95</td>\n",
              "      <td>1889.5</td>\n",
              "      <td>No</td>\n",
              "    </tr>\n",
              "    <tr>\n",
              "      <th>2</th>\n",
              "      <td>3668-QPYBK</td>\n",
              "      <td>Male</td>\n",
              "      <td>0</td>\n",
              "      <td>No</td>\n",
              "      <td>No</td>\n",
              "      <td>2</td>\n",
              "      <td>Yes</td>\n",
              "      <td>No</td>\n",
              "      <td>DSL</td>\n",
              "      <td>Yes</td>\n",
              "      <td>Yes</td>\n",
              "      <td>No</td>\n",
              "      <td>No</td>\n",
              "      <td>No</td>\n",
              "      <td>No</td>\n",
              "      <td>Month-to-month</td>\n",
              "      <td>Yes</td>\n",
              "      <td>Mailed check</td>\n",
              "      <td>53.85</td>\n",
              "      <td>108.15</td>\n",
              "      <td>Yes</td>\n",
              "    </tr>\n",
              "    <tr>\n",
              "      <th>3</th>\n",
              "      <td>7795-CFOCW</td>\n",
              "      <td>Male</td>\n",
              "      <td>0</td>\n",
              "      <td>No</td>\n",
              "      <td>No</td>\n",
              "      <td>45</td>\n",
              "      <td>No</td>\n",
              "      <td>No phone service</td>\n",
              "      <td>DSL</td>\n",
              "      <td>Yes</td>\n",
              "      <td>No</td>\n",
              "      <td>Yes</td>\n",
              "      <td>Yes</td>\n",
              "      <td>No</td>\n",
              "      <td>No</td>\n",
              "      <td>One year</td>\n",
              "      <td>No</td>\n",
              "      <td>Bank transfer (automatic)</td>\n",
              "      <td>42.30</td>\n",
              "      <td>1840.75</td>\n",
              "      <td>No</td>\n",
              "    </tr>\n",
              "    <tr>\n",
              "      <th>4</th>\n",
              "      <td>9237-HQITU</td>\n",
              "      <td>Female</td>\n",
              "      <td>0</td>\n",
              "      <td>No</td>\n",
              "      <td>No</td>\n",
              "      <td>2</td>\n",
              "      <td>Yes</td>\n",
              "      <td>No</td>\n",
              "      <td>Fiber optic</td>\n",
              "      <td>No</td>\n",
              "      <td>No</td>\n",
              "      <td>No</td>\n",
              "      <td>No</td>\n",
              "      <td>No</td>\n",
              "      <td>No</td>\n",
              "      <td>Month-to-month</td>\n",
              "      <td>Yes</td>\n",
              "      <td>Electronic check</td>\n",
              "      <td>70.70</td>\n",
              "      <td>151.65</td>\n",
              "      <td>Yes</td>\n",
              "    </tr>\n",
              "  </tbody>\n",
              "</table>\n",
              "</div>"
            ],
            "text/plain": [
              "   customerID  gender  SeniorCitizen  ... MonthlyCharges TotalCharges  Churn\n",
              "0  7590-VHVEG  Female              0  ...          29.85        29.85     No\n",
              "1  5575-GNVDE    Male              0  ...          56.95       1889.5     No\n",
              "2  3668-QPYBK    Male              0  ...          53.85       108.15    Yes\n",
              "3  7795-CFOCW    Male              0  ...          42.30      1840.75     No\n",
              "4  9237-HQITU  Female              0  ...          70.70       151.65    Yes\n",
              "\n",
              "[5 rows x 21 columns]"
            ]
          },
          "metadata": {
            "tags": []
          },
          "execution_count": 2
        }
      ]
    },
    {
      "cell_type": "markdown",
      "metadata": {
        "id": "q1Bx2yXOhl7b"
      },
      "source": [
        "**Tamanho do dataset**"
      ]
    },
    {
      "cell_type": "code",
      "metadata": {
        "colab": {
          "base_uri": "https://localhost:8080/"
        },
        "id": "5V9qJaTohr6i",
        "outputId": "f8bce1ac-dddb-4acc-f375-6e32116e4877"
      },
      "source": [
        "print(\"Linhas:\\t\\t{}\".format(df.shape[0]))\n",
        "print(\"Colunas:\\t{}\".format(df.shape[1]))"
      ],
      "execution_count": 3,
      "outputs": [
        {
          "output_type": "stream",
          "text": [
            "Linhas:\t\t7043\n",
            "Colunas:\t21\n"
          ],
          "name": "stdout"
        }
      ]
    },
    {
      "cell_type": "markdown",
      "metadata": {
        "id": "PgzkW-prh06t"
      },
      "source": [
        "## **Análise Exploratória**"
      ]
    },
    {
      "cell_type": "markdown",
      "metadata": {
        "id": "MYVv2Ukvh7Gj"
      },
      "source": [
        "> Visualizando algumas informações do dataset para visualizar se ele está apto à utilização e o quanto estão íntegros e usáveis."
      ]
    },
    {
      "cell_type": "markdown",
      "metadata": {
        "id": "nguYAnTmjDul"
      },
      "source": [
        "**Total de dados ausentes**"
      ]
    },
    {
      "cell_type": "code",
      "metadata": {
        "colab": {
          "base_uri": "https://localhost:8080/"
        },
        "id": "I1iFCZ4Nh7jf",
        "outputId": "6ff7e0a6-639c-4162-bd35-bea6b0aff3e9"
      },
      "source": [
        "print(\"Dados ausentes (total):\\t{}\\n\".format(df.isnull().sum().values.sum()))"
      ],
      "execution_count": 4,
      "outputs": [
        {
          "output_type": "stream",
          "text": [
            "Dados ausentes (total):\t0\n",
            "\n"
          ],
          "name": "stdout"
        }
      ]
    },
    {
      "cell_type": "markdown",
      "metadata": {
        "id": "xwhT7FdFjI-H"
      },
      "source": [
        "**Dados ausentes por coluna**\n",
        "\n",
        "> Embora estejam com as colunas zeradas, mais à frente veremos que, na verdade, há sim valores ausentes. O problema tem a ver com o tipo de dado presente nas colunas."
      ]
    },
    {
      "cell_type": "code",
      "metadata": {
        "colab": {
          "base_uri": "https://localhost:8080/"
        },
        "id": "Pw_w4wLviFG7",
        "outputId": "31fe6486-03cc-4480-ea93-1dc16a505b87"
      },
      "source": [
        "print(df.isnull().sum() / df.shape[0])"
      ],
      "execution_count": 5,
      "outputs": [
        {
          "output_type": "stream",
          "text": [
            "customerID          0.0\n",
            "gender              0.0\n",
            "SeniorCitizen       0.0\n",
            "Partner             0.0\n",
            "Dependents          0.0\n",
            "tenure              0.0\n",
            "PhoneService        0.0\n",
            "MultipleLines       0.0\n",
            "InternetService     0.0\n",
            "OnlineSecurity      0.0\n",
            "OnlineBackup        0.0\n",
            "DeviceProtection    0.0\n",
            "TechSupport         0.0\n",
            "StreamingTV         0.0\n",
            "StreamingMovies     0.0\n",
            "Contract            0.0\n",
            "PaperlessBilling    0.0\n",
            "PaymentMethod       0.0\n",
            "MonthlyCharges      0.0\n",
            "TotalCharges        0.0\n",
            "Churn               0.0\n",
            "dtype: float64\n"
          ],
          "name": "stdout"
        }
      ]
    },
    {
      "cell_type": "markdown",
      "metadata": {
        "id": "EQCigVSejL7I"
      },
      "source": [
        "**Visualizando o nome das Features**"
      ]
    },
    {
      "cell_type": "code",
      "metadata": {
        "colab": {
          "base_uri": "https://localhost:8080/"
        },
        "id": "CL9PSbC5iGTY",
        "outputId": "171c35b7-9157-4d57-9951-6370ac3fa6e6"
      },
      "source": [
        "print(\"\\nNomes das features:\\n{}\\n\".format(df.columns.values))"
      ],
      "execution_count": 6,
      "outputs": [
        {
          "output_type": "stream",
          "text": [
            "\n",
            "Nomes das features:\n",
            "['customerID' 'gender' 'SeniorCitizen' 'Partner' 'Dependents' 'tenure'\n",
            " 'PhoneService' 'MultipleLines' 'InternetService' 'OnlineSecurity'\n",
            " 'OnlineBackup' 'DeviceProtection' 'TechSupport' 'StreamingTV'\n",
            " 'StreamingMovies' 'Contract' 'PaperlessBilling' 'PaymentMethod'\n",
            " 'MonthlyCharges' 'TotalCharges' 'Churn']\n",
            "\n"
          ],
          "name": "stdout"
        }
      ]
    },
    {
      "cell_type": "markdown",
      "metadata": {
        "id": "aEPLqCx8jQyh"
      },
      "source": [
        "**Valores únicos por coluna**"
      ]
    },
    {
      "cell_type": "code",
      "metadata": {
        "colab": {
          "base_uri": "https://localhost:8080/"
        },
        "id": "CgcI0ndPiH-2",
        "outputId": "d915fc8b-a24b-4448-8e43-432bad299863"
      },
      "source": [
        "print(\"Valores únicos (por coluna):\\n{}\\n\".format(df.nunique()))"
      ],
      "execution_count": 7,
      "outputs": [
        {
          "output_type": "stream",
          "text": [
            "Valores únicos (por coluna):\n",
            "customerID          7043\n",
            "gender                 2\n",
            "SeniorCitizen          2\n",
            "Partner                2\n",
            "Dependents             2\n",
            "tenure                73\n",
            "PhoneService           2\n",
            "MultipleLines          3\n",
            "InternetService        3\n",
            "OnlineSecurity         3\n",
            "OnlineBackup           3\n",
            "DeviceProtection       3\n",
            "TechSupport            3\n",
            "StreamingTV            3\n",
            "StreamingMovies        3\n",
            "Contract               3\n",
            "PaperlessBilling       2\n",
            "PaymentMethod          4\n",
            "MonthlyCharges      1585\n",
            "TotalCharges        6531\n",
            "Churn                  2\n",
            "dtype: int64\n",
            "\n"
          ],
          "name": "stdout"
        }
      ]
    },
    {
      "cell_type": "markdown",
      "metadata": {
        "id": "jx_MCwuejbMg"
      },
      "source": [
        "**Tipo de dado por coluna**"
      ]
    },
    {
      "cell_type": "code",
      "metadata": {
        "colab": {
          "base_uri": "https://localhost:8080/"
        },
        "id": "iHWtUTBTiJQp",
        "outputId": "19fbeee4-4fb9-4b7b-a93a-df15be2a2bcc"
      },
      "source": [
        "print(\"Tipos de Variáveis (por coluna)\\n{}\".format(df.dtypes))"
      ],
      "execution_count": 8,
      "outputs": [
        {
          "output_type": "stream",
          "text": [
            "Tipos de Variáveis (por coluna)\n",
            "customerID           object\n",
            "gender               object\n",
            "SeniorCitizen         int64\n",
            "Partner              object\n",
            "Dependents           object\n",
            "tenure                int64\n",
            "PhoneService         object\n",
            "MultipleLines        object\n",
            "InternetService      object\n",
            "OnlineSecurity       object\n",
            "OnlineBackup         object\n",
            "DeviceProtection     object\n",
            "TechSupport          object\n",
            "StreamingTV          object\n",
            "StreamingMovies      object\n",
            "Contract             object\n",
            "PaperlessBilling     object\n",
            "PaymentMethod        object\n",
            "MonthlyCharges      float64\n",
            "TotalCharges         object\n",
            "Churn                object\n",
            "dtype: object\n"
          ],
          "name": "stdout"
        }
      ]
    },
    {
      "cell_type": "markdown",
      "metadata": {
        "id": "VNPtKA8jjjcT"
      },
      "source": [
        "**Observações iniciais**\n",
        "\n",
        "* `costumerID` somente possui identificadores únicos para cada cliente e deverá ser dropada.\n",
        "\n",
        "* `Churn` é nossa variável alvo.\n",
        "\n",
        "* `TotalCharges` deveria ser um *float*, mas está como *string*.\n",
        "\n",
        "    * Como já mencionado anteriormente, apesar termos detectado nenhum valor ausente, algumas strings que representam valores ausentes.\n",
        "* Várias features precisam ser codificadas para valores numéricos.\n"
      ]
    },
    {
      "cell_type": "markdown",
      "metadata": {
        "id": "4uAGGV3MlE1B"
      },
      "source": [
        "**Convertendo *string* em *float***\n",
        "\n",
        "> `df[\"TotalCharges\"].astype('float32')` não funciona neste caso, uma vez que os valores `NaN` foram lançados erroneamente, sendo colocada a string `\"\"` em seu lugar. Mesmo com `float(\"\")` retorna um erro.\n",
        "\n",
        "> Após a identificação dos dados faltantes, eles são substituidos pela mediana.\n",
        "\n",
        "> Aproveitando, vamos apagar a coluna `customerID`."
      ]
    },
    {
      "cell_type": "code",
      "metadata": {
        "colab": {
          "base_uri": "https://localhost:8080/"
        },
        "id": "qeVmqMedlnh8",
        "outputId": "7431cc4e-00e4-4112-b9c8-c774a392d6ec"
      },
      "source": [
        "def converter_str_float(entrada):\n",
        "    \"\"\"\n",
        "    Converte um objeto do tipo string em float.\n",
        "\n",
        "    # Arguments\n",
        "        entrada: string, string da coluna TotalCharges.\n",
        "\n",
        "    # Returns\n",
        "        Valor convertido em float, caso permita a conversão.\n",
        "        NaN, caso o valor não seja apropriado.\n",
        "    \"\"\"\n",
        "\n",
        "    try:\n",
        "        return float(entrada)\n",
        "    except ValueError:\n",
        "        return np.nan\n",
        "\n",
        "# criando cópia do dataframe\n",
        "df_clean = df.copy()\n",
        "\n",
        "# removendo coluna costumerID\n",
        "df_clean.drop(\"customerID\", axis=1, inplace=True)\n",
        "\n",
        "# convertendo as strings de TotalCharges para float\n",
        "df_clean[\"TotalCharges\"] = df_clean[\"TotalCharges\"].apply(converter_str_float)\n",
        "\n",
        "# verificando entradas ausentes\n",
        "print(\"Dados ausentes em 'TotalCharges' (antes):\\t{}\\n\".format(df_clean[\"TotalCharges\"].isnull().sum()))\n",
        "\n",
        "# substituindo os dados ausentes pelo valor da mediana\n",
        "TotalChargesMedian = df_clean.TotalCharges.median()\n",
        "df_clean[\"TotalCharges\"].fillna(TotalChargesMedian, inplace=True)"
      ],
      "execution_count": 9,
      "outputs": [
        {
          "output_type": "stream",
          "text": [
            "Dados ausentes em 'TotalCharges' (antes):\t11\n",
            "\n"
          ],
          "name": "stdout"
        }
      ]
    },
    {
      "cell_type": "markdown",
      "metadata": {
        "id": "xFVNCiiQnvAr"
      },
      "source": [
        "**Resumo estatístico para valores numéricos**\n",
        "> Aqui é visualizado que não há indícios de *outliers*."
      ]
    },
    {
      "cell_type": "code",
      "metadata": {
        "colab": {
          "base_uri": "https://localhost:8080/",
          "height": 300
        },
        "id": "P5UYLvYMnvTd",
        "outputId": "62f5ffc2-6728-46dd-847a-61eedb361945"
      },
      "source": [
        "df_clean.describe()"
      ],
      "execution_count": 10,
      "outputs": [
        {
          "output_type": "execute_result",
          "data": {
            "text/html": [
              "<div>\n",
              "<style scoped>\n",
              "    .dataframe tbody tr th:only-of-type {\n",
              "        vertical-align: middle;\n",
              "    }\n",
              "\n",
              "    .dataframe tbody tr th {\n",
              "        vertical-align: top;\n",
              "    }\n",
              "\n",
              "    .dataframe thead th {\n",
              "        text-align: right;\n",
              "    }\n",
              "</style>\n",
              "<table border=\"1\" class=\"dataframe\">\n",
              "  <thead>\n",
              "    <tr style=\"text-align: right;\">\n",
              "      <th></th>\n",
              "      <th>SeniorCitizen</th>\n",
              "      <th>tenure</th>\n",
              "      <th>MonthlyCharges</th>\n",
              "      <th>TotalCharges</th>\n",
              "    </tr>\n",
              "  </thead>\n",
              "  <tbody>\n",
              "    <tr>\n",
              "      <th>count</th>\n",
              "      <td>7043.000000</td>\n",
              "      <td>7043.000000</td>\n",
              "      <td>7043.000000</td>\n",
              "      <td>7043.000000</td>\n",
              "    </tr>\n",
              "    <tr>\n",
              "      <th>mean</th>\n",
              "      <td>0.162147</td>\n",
              "      <td>32.371149</td>\n",
              "      <td>64.761692</td>\n",
              "      <td>2281.916928</td>\n",
              "    </tr>\n",
              "    <tr>\n",
              "      <th>std</th>\n",
              "      <td>0.368612</td>\n",
              "      <td>24.559481</td>\n",
              "      <td>30.090047</td>\n",
              "      <td>2265.270398</td>\n",
              "    </tr>\n",
              "    <tr>\n",
              "      <th>min</th>\n",
              "      <td>0.000000</td>\n",
              "      <td>0.000000</td>\n",
              "      <td>18.250000</td>\n",
              "      <td>18.800000</td>\n",
              "    </tr>\n",
              "    <tr>\n",
              "      <th>25%</th>\n",
              "      <td>0.000000</td>\n",
              "      <td>9.000000</td>\n",
              "      <td>35.500000</td>\n",
              "      <td>402.225000</td>\n",
              "    </tr>\n",
              "    <tr>\n",
              "      <th>50%</th>\n",
              "      <td>0.000000</td>\n",
              "      <td>29.000000</td>\n",
              "      <td>70.350000</td>\n",
              "      <td>1397.475000</td>\n",
              "    </tr>\n",
              "    <tr>\n",
              "      <th>75%</th>\n",
              "      <td>0.000000</td>\n",
              "      <td>55.000000</td>\n",
              "      <td>89.850000</td>\n",
              "      <td>3786.600000</td>\n",
              "    </tr>\n",
              "    <tr>\n",
              "      <th>max</th>\n",
              "      <td>1.000000</td>\n",
              "      <td>72.000000</td>\n",
              "      <td>118.750000</td>\n",
              "      <td>8684.800000</td>\n",
              "    </tr>\n",
              "  </tbody>\n",
              "</table>\n",
              "</div>"
            ],
            "text/plain": [
              "       SeniorCitizen       tenure  MonthlyCharges  TotalCharges\n",
              "count    7043.000000  7043.000000     7043.000000   7043.000000\n",
              "mean        0.162147    32.371149       64.761692   2281.916928\n",
              "std         0.368612    24.559481       30.090047   2265.270398\n",
              "min         0.000000     0.000000       18.250000     18.800000\n",
              "25%         0.000000     9.000000       35.500000    402.225000\n",
              "50%         0.000000    29.000000       70.350000   1397.475000\n",
              "75%         0.000000    55.000000       89.850000   3786.600000\n",
              "max         1.000000    72.000000      118.750000   8684.800000"
            ]
          },
          "metadata": {
            "tags": []
          },
          "execution_count": 10
        }
      ]
    },
    {
      "cell_type": "markdown",
      "metadata": {
        "id": "H-6Ymga7oUDi"
      },
      "source": [
        "**Plotando boxplot**\n",
        "\n",
        "> Apenas das colunas `MonthlyCharges` e `TotalCharges` para que haja uma breve visualização.\n",
        "\n"
      ]
    },
    {
      "cell_type": "code",
      "metadata": {
        "colab": {
          "base_uri": "https://localhost:8080/",
          "height": 297
        },
        "id": "SQcjr9Foo632",
        "outputId": "dd159831-4366-48f6-dfe1-b42d936a69e1"
      },
      "source": [
        "fig, ax = plt.subplots(nrows=1, ncols=2, figsize=(12, 4))\n",
        "sns.boxplot(df_clean['MonthlyCharges'], ax=ax[0])\n",
        "sns.boxplot(df_clean['TotalCharges'], ax=ax[1])\n",
        "plt.tight_layout()"
      ],
      "execution_count": 11,
      "outputs": [
        {
          "output_type": "display_data",
          "data": {
            "image/png": "[encoded data removed]",
            "text/plain": [
              "<Figure size 864x288 with 2 Axes>"
            ]
          },
          "metadata": {
            "tags": [],
            "needs_background": "light"
          }
        }
      ]
    },
    {
      "cell_type": "markdown",
      "metadata": {
        "id": "AvJXjaeEpSpj"
      },
      "source": [
        ">"
      ]
    },
    {
      "cell_type": "markdown",
      "metadata": {
        "id": "RISdT91xnwBw"
      },
      "source": [
        "**Resumo estatístico para valores categóricos**\n",
        "\n",
        "> Veja que, por aqui não podemos ver muitas informações ainda. Podemos ver, por exemplo que a maior parte dos clientes na base de dados é do sexo masculino, contudo, não temos como saber ainda se a maioria das pessoas que entram nas estatísticas de *churn* são do sexo masculino."
      ]
    },
    {
      "cell_type": "code",
      "metadata": {
        "colab": {
          "base_uri": "https://localhost:8080/",
          "height": 212
        },
        "id": "va1ibEfznwTr",
        "outputId": "a74e2da7-3694-46b7-f7ac-38a296b444aa"
      },
      "source": [
        "df_clean.describe(include = 'O')"
      ],
      "execution_count": 12,
      "outputs": [
        {
          "output_type": "execute_result",
          "data": {
            "text/html": [
              "<div>\n",
              "<style scoped>\n",
              "    .dataframe tbody tr th:only-of-type {\n",
              "        vertical-align: middle;\n",
              "    }\n",
              "\n",
              "    .dataframe tbody tr th {\n",
              "        vertical-align: top;\n",
              "    }\n",
              "\n",
              "    .dataframe thead th {\n",
              "        text-align: right;\n",
              "    }\n",
              "</style>\n",
              "<table border=\"1\" class=\"dataframe\">\n",
              "  <thead>\n",
              "    <tr style=\"text-align: right;\">\n",
              "      <th></th>\n",
              "      <th>gender</th>\n",
              "      <th>Partner</th>\n",
              "      <th>Dependents</th>\n",
              "      <th>PhoneService</th>\n",
              "      <th>MultipleLines</th>\n",
              "      <th>InternetService</th>\n",
              "      <th>OnlineSecurity</th>\n",
              "      <th>OnlineBackup</th>\n",
              "      <th>DeviceProtection</th>\n",
              "      <th>TechSupport</th>\n",
              "      <th>StreamingTV</th>\n",
              "      <th>StreamingMovies</th>\n",
              "      <th>Contract</th>\n",
              "      <th>PaperlessBilling</th>\n",
              "      <th>PaymentMethod</th>\n",
              "      <th>Churn</th>\n",
              "    </tr>\n",
              "  </thead>\n",
              "  <tbody>\n",
              "    <tr>\n",
              "      <th>count</th>\n",
              "      <td>7043</td>\n",
              "      <td>7043</td>\n",
              "      <td>7043</td>\n",
              "      <td>7043</td>\n",
              "      <td>7043</td>\n",
              "      <td>7043</td>\n",
              "      <td>7043</td>\n",
              "      <td>7043</td>\n",
              "      <td>7043</td>\n",
              "      <td>7043</td>\n",
              "      <td>7043</td>\n",
              "      <td>7043</td>\n",
              "      <td>7043</td>\n",
              "      <td>7043</td>\n",
              "      <td>7043</td>\n",
              "      <td>7043</td>\n",
              "    </tr>\n",
              "    <tr>\n",
              "      <th>unique</th>\n",
              "      <td>2</td>\n",
              "      <td>2</td>\n",
              "      <td>2</td>\n",
              "      <td>2</td>\n",
              "      <td>3</td>\n",
              "      <td>3</td>\n",
              "      <td>3</td>\n",
              "      <td>3</td>\n",
              "      <td>3</td>\n",
              "      <td>3</td>\n",
              "      <td>3</td>\n",
              "      <td>3</td>\n",
              "      <td>3</td>\n",
              "      <td>2</td>\n",
              "      <td>4</td>\n",
              "      <td>2</td>\n",
              "    </tr>\n",
              "    <tr>\n",
              "      <th>top</th>\n",
              "      <td>Male</td>\n",
              "      <td>No</td>\n",
              "      <td>No</td>\n",
              "      <td>Yes</td>\n",
              "      <td>No</td>\n",
              "      <td>Fiber optic</td>\n",
              "      <td>No</td>\n",
              "      <td>No</td>\n",
              "      <td>No</td>\n",
              "      <td>No</td>\n",
              "      <td>No</td>\n",
              "      <td>No</td>\n",
              "      <td>Month-to-month</td>\n",
              "      <td>Yes</td>\n",
              "      <td>Electronic check</td>\n",
              "      <td>No</td>\n",
              "    </tr>\n",
              "    <tr>\n",
              "      <th>freq</th>\n",
              "      <td>3555</td>\n",
              "      <td>3641</td>\n",
              "      <td>4933</td>\n",
              "      <td>6361</td>\n",
              "      <td>3390</td>\n",
              "      <td>3096</td>\n",
              "      <td>3498</td>\n",
              "      <td>3088</td>\n",
              "      <td>3095</td>\n",
              "      <td>3473</td>\n",
              "      <td>2810</td>\n",
              "      <td>2785</td>\n",
              "      <td>3875</td>\n",
              "      <td>4171</td>\n",
              "      <td>2365</td>\n",
              "      <td>5174</td>\n",
              "    </tr>\n",
              "  </tbody>\n",
              "</table>\n",
              "</div>"
            ],
            "text/plain": [
              "       gender Partner Dependents  ... PaperlessBilling     PaymentMethod Churn\n",
              "count    7043    7043       7043  ...             7043              7043  7043\n",
              "unique      2       2          2  ...                2                 4     2\n",
              "top      Male      No         No  ...              Yes  Electronic check    No\n",
              "freq     3555    3641       4933  ...             4171              2365  5174\n",
              "\n",
              "[4 rows x 16 columns]"
            ]
          },
          "metadata": {
            "tags": []
          },
          "execution_count": 12
        }
      ]
    },
    {
      "cell_type": "markdown",
      "metadata": {
        "id": "KNEr-XRvqBIu"
      },
      "source": [
        "**Variável `tenure`**\n",
        "\n",
        "> Como já mencionado, está ligado ao tempo que um cliente é cliente da empresa.\n",
        "\n",
        "> Aparentemente os dados estão em meses, logo o intervalo vai de 0 meses até 72 meses, ou seja, até 6 anos."
      ]
    },
    {
      "cell_type": "code",
      "metadata": {
        "colab": {
          "base_uri": "https://localhost:8080/",
          "height": 297
        },
        "id": "mUZBNBqsqOLk",
        "outputId": "243d76df-7813-4ef9-86a6-69b70eb6539a"
      },
      "source": [
        "fig, ax = plt.subplots(figsize=(12, 4))\n",
        "sns.countplot(df['tenure'])\n",
        "plt.tight_layout()"
      ],
      "execution_count": 13,
      "outputs": [
        {
          "output_type": "display_data",
          "data": {
            "image/png": "[encoded data removed]",
            "text/plain": [
              "<Figure size 864x288 with 1 Axes>"
            ]
          },
          "metadata": {
            "tags": [],
            "needs_background": "light"
          }
        }
      ]
    },
    {
      "cell_type": "markdown",
      "metadata": {
        "id": "vxVPN0lJrMML"
      },
      "source": [
        "**Visualizando os valores únicos para todas as variáveis categóricas**"
      ]
    },
    {
      "cell_type": "code",
      "metadata": {
        "colab": {
          "base_uri": "https://localhost:8080/"
        },
        "id": "c4F8hBJZrMo_",
        "outputId": "644466ec-bdde-44ca-cf96-785ce2566664"
      },
      "source": [
        "np.unique(df_clean.select_dtypes('object').values)"
      ],
      "execution_count": 14,
      "outputs": [
        {
          "output_type": "execute_result",
          "data": {
            "text/plain": [
              "array(['Bank transfer (automatic)', 'Credit card (automatic)', 'DSL',\n",
              "       'Electronic check', 'Female', 'Fiber optic', 'Mailed check',\n",
              "       'Male', 'Month-to-month', 'No', 'No internet service',\n",
              "       'No phone service', 'One year', 'Two year', 'Yes'], dtype=object)"
            ]
          },
          "metadata": {
            "tags": []
          },
          "execution_count": 14
        }
      ]
    },
    {
      "cell_type": "markdown",
      "metadata": {
        "id": "e2Ooaw4QrbRt"
      },
      "source": [
        "**Verificando a contagem de clientes por sexo**\n",
        "\n",
        "> Veja que a base de dados está muito equilibrada."
      ]
    },
    {
      "cell_type": "code",
      "metadata": {
        "colab": {
          "base_uri": "https://localhost:8080/",
          "height": 331
        },
        "id": "Eg0jB6SYrayQ",
        "outputId": "8b4ad780-dc7b-42a7-f53e-dce70d251d08"
      },
      "source": [
        "print(df_clean.gender.value_counts())\n",
        "sns.countplot(df.gender);"
      ],
      "execution_count": 15,
      "outputs": [
        {
          "output_type": "stream",
          "text": [
            "Male      3555\n",
            "Female    3488\n",
            "Name: gender, dtype: int64\n"
          ],
          "name": "stdout"
        },
        {
          "output_type": "display_data",
          "data": {
            "image/png": "[encoded data removed]",
            "text/plain": [
              "<Figure size 432x288 with 1 Axes>"
            ]
          },
          "metadata": {
            "tags": [],
            "needs_background": "light"
          }
        }
      ]
    },
    {
      "cell_type": "markdown",
      "metadata": {
        "id": "IO7sy0LbsBz1"
      },
      "source": [
        "**Vamos visualizar a quantidade de *churn* por sexo**\n",
        "\n",
        "> Tal qual o equilíbrio na base de dados, está equilibrado também na contagem."
      ]
    },
    {
      "cell_type": "code",
      "metadata": {
        "colab": {
          "base_uri": "https://localhost:8080/"
        },
        "id": "z5nffdNGsJCF",
        "outputId": "2816fbe5-3e53-471b-e1de-0106820fb02a"
      },
      "source": [
        "df_clean.groupby('Churn')['gender'].value_counts()"
      ],
      "execution_count": 16,
      "outputs": [
        {
          "output_type": "execute_result",
          "data": {
            "text/plain": [
              "Churn  gender\n",
              "No     Male      2625\n",
              "       Female    2549\n",
              "Yes    Female     939\n",
              "       Male       930\n",
              "Name: gender, dtype: int64"
            ]
          },
          "metadata": {
            "tags": []
          },
          "execution_count": 16
        }
      ]
    },
    {
      "cell_type": "markdown",
      "metadata": {
        "id": "UrskJPU-uTB0"
      },
      "source": [
        "## **Preparação dos Dados**\n",
        "\n",
        "> As features que possuiam dois labels únicos serão processadas utilizando o `LabelEncoder`.\n",
        "\n",
        "> As variáveis numéricas serão separadas das categóricas. Estas serão transformadas em variáveis `dummy`."
      ]
    },
    {
      "cell_type": "code",
      "metadata": {
        "colab": {
          "base_uri": "https://localhost:8080/",
          "height": 261
        },
        "id": "naFJr5fiugrh",
        "outputId": "ed9611b0-973b-4f78-897b-86b72991bc86"
      },
      "source": [
        "# pré-processamento das variáveis\n",
        "binary_var = df_clean.nunique()[df_clean.nunique() == 2].keys().tolist()\n",
        "num_var = [col for col in df_clean.select_dtypes(['int', 'float']).columns.tolist() if col not in binary_var]\n",
        "cat_var = [col for col in df_clean.columns.tolist() if col not in binary_var + num_var]\n",
        "\n",
        "# criando cópia do dataframe\n",
        "df_proc = df_clean.copy()\n",
        "\n",
        "# Label Encoding para as variáveis Binárias\n",
        "le = LabelEncoder()\n",
        "for i in binary_var:\n",
        "    df_proc[i] = le.fit_transform(df_proc[i])\n",
        "\n",
        "# Encoding para colunas categóricas com múltiplas classes\n",
        "df_proc = pd.get_dummies(df_proc, columns=cat_var)\n",
        "\n",
        "# visualizando as 5 primeiras entradas do novo dataframe\n",
        "df_proc.head()"
      ],
      "execution_count": 17,
      "outputs": [
        {
          "output_type": "execute_result",
          "data": {
            "text/html": [
              "<div>\n",
              "<style scoped>\n",
              "    .dataframe tbody tr th:only-of-type {\n",
              "        vertical-align: middle;\n",
              "    }\n",
              "\n",
              "    .dataframe tbody tr th {\n",
              "        vertical-align: top;\n",
              "    }\n",
              "\n",
              "    .dataframe thead th {\n",
              "        text-align: right;\n",
              "    }\n",
              "</style>\n",
              "<table border=\"1\" class=\"dataframe\">\n",
              "  <thead>\n",
              "    <tr style=\"text-align: right;\">\n",
              "      <th></th>\n",
              "      <th>gender</th>\n",
              "      <th>SeniorCitizen</th>\n",
              "      <th>Partner</th>\n",
              "      <th>Dependents</th>\n",
              "      <th>tenure</th>\n",
              "      <th>PhoneService</th>\n",
              "      <th>PaperlessBilling</th>\n",
              "      <th>MonthlyCharges</th>\n",
              "      <th>TotalCharges</th>\n",
              "      <th>Churn</th>\n",
              "      <th>MultipleLines_No</th>\n",
              "      <th>MultipleLines_No phone service</th>\n",
              "      <th>MultipleLines_Yes</th>\n",
              "      <th>InternetService_DSL</th>\n",
              "      <th>InternetService_Fiber optic</th>\n",
              "      <th>InternetService_No</th>\n",
              "      <th>OnlineSecurity_No</th>\n",
              "      <th>OnlineSecurity_No internet service</th>\n",
              "      <th>OnlineSecurity_Yes</th>\n",
              "      <th>OnlineBackup_No</th>\n",
              "      <th>OnlineBackup_No internet service</th>\n",
              "      <th>OnlineBackup_Yes</th>\n",
              "      <th>DeviceProtection_No</th>\n",
              "      <th>DeviceProtection_No internet service</th>\n",
              "      <th>DeviceProtection_Yes</th>\n",
              "      <th>TechSupport_No</th>\n",
              "      <th>TechSupport_No internet service</th>\n",
              "      <th>TechSupport_Yes</th>\n",
              "      <th>StreamingTV_No</th>\n",
              "      <th>StreamingTV_No internet service</th>\n",
              "      <th>StreamingTV_Yes</th>\n",
              "      <th>StreamingMovies_No</th>\n",
              "      <th>StreamingMovies_No internet service</th>\n",
              "      <th>StreamingMovies_Yes</th>\n",
              "      <th>Contract_Month-to-month</th>\n",
              "      <th>Contract_One year</th>\n",
              "      <th>Contract_Two year</th>\n",
              "      <th>PaymentMethod_Bank transfer (automatic)</th>\n",
              "      <th>PaymentMethod_Credit card (automatic)</th>\n",
              "      <th>PaymentMethod_Electronic check</th>\n",
              "      <th>PaymentMethod_Mailed check</th>\n",
              "    </tr>\n",
              "  </thead>\n",
              "  <tbody>\n",
              "    <tr>\n",
              "      <th>0</th>\n",
              "      <td>0</td>\n",
              "      <td>0</td>\n",
              "      <td>1</td>\n",
              "      <td>0</td>\n",
              "      <td>1</td>\n",
              "      <td>0</td>\n",
              "      <td>1</td>\n",
              "      <td>29.85</td>\n",
              "      <td>29.85</td>\n",
              "      <td>0</td>\n",
              "      <td>0</td>\n",
              "      <td>1</td>\n",
              "      <td>0</td>\n",
              "      <td>1</td>\n",
              "      <td>0</td>\n",
              "      <td>0</td>\n",
              "      <td>1</td>\n",
              "      <td>0</td>\n",
              "      <td>0</td>\n",
              "      <td>0</td>\n",
              "      <td>0</td>\n",
              "      <td>1</td>\n",
              "      <td>1</td>\n",
              "      <td>0</td>\n",
              "      <td>0</td>\n",
              "      <td>1</td>\n",
              "      <td>0</td>\n",
              "      <td>0</td>\n",
              "      <td>1</td>\n",
              "      <td>0</td>\n",
              "      <td>0</td>\n",
              "      <td>1</td>\n",
              "      <td>0</td>\n",
              "      <td>0</td>\n",
              "      <td>1</td>\n",
              "      <td>0</td>\n",
              "      <td>0</td>\n",
              "      <td>0</td>\n",
              "      <td>0</td>\n",
              "      <td>1</td>\n",
              "      <td>0</td>\n",
              "    </tr>\n",
              "    <tr>\n",
              "      <th>1</th>\n",
              "      <td>1</td>\n",
              "      <td>0</td>\n",
              "      <td>0</td>\n",
              "      <td>0</td>\n",
              "      <td>34</td>\n",
              "      <td>1</td>\n",
              "      <td>0</td>\n",
              "      <td>56.95</td>\n",
              "      <td>1889.50</td>\n",
              "      <td>0</td>\n",
              "      <td>1</td>\n",
              "      <td>0</td>\n",
              "      <td>0</td>\n",
              "      <td>1</td>\n",
              "      <td>0</td>\n",
              "      <td>0</td>\n",
              "      <td>0</td>\n",
              "      <td>0</td>\n",
              "      <td>1</td>\n",
              "      <td>1</td>\n",
              "      <td>0</td>\n",
              "      <td>0</td>\n",
              "      <td>0</td>\n",
              "      <td>0</td>\n",
              "      <td>1</td>\n",
              "      <td>1</td>\n",
              "      <td>0</td>\n",
              "      <td>0</td>\n",
              "      <td>1</td>\n",
              "      <td>0</td>\n",
              "      <td>0</td>\n",
              "      <td>1</td>\n",
              "      <td>0</td>\n",
              "      <td>0</td>\n",
              "      <td>0</td>\n",
              "      <td>1</td>\n",
              "      <td>0</td>\n",
              "      <td>0</td>\n",
              "      <td>0</td>\n",
              "      <td>0</td>\n",
              "      <td>1</td>\n",
              "    </tr>\n",
              "    <tr>\n",
              "      <th>2</th>\n",
              "      <td>1</td>\n",
              "      <td>0</td>\n",
              "      <td>0</td>\n",
              "      <td>0</td>\n",
              "      <td>2</td>\n",
              "      <td>1</td>\n",
              "      <td>1</td>\n",
              "      <td>53.85</td>\n",
              "      <td>108.15</td>\n",
              "      <td>1</td>\n",
              "      <td>1</td>\n",
              "      <td>0</td>\n",
              "      <td>0</td>\n",
              "      <td>1</td>\n",
              "      <td>0</td>\n",
              "      <td>0</td>\n",
              "      <td>0</td>\n",
              "      <td>0</td>\n",
              "      <td>1</td>\n",
              "      <td>0</td>\n",
              "      <td>0</td>\n",
              "      <td>1</td>\n",
              "      <td>1</td>\n",
              "      <td>0</td>\n",
              "      <td>0</td>\n",
              "      <td>1</td>\n",
              "      <td>0</td>\n",
              "      <td>0</td>\n",
              "      <td>1</td>\n",
              "      <td>0</td>\n",
              "      <td>0</td>\n",
              "      <td>1</td>\n",
              "      <td>0</td>\n",
              "      <td>0</td>\n",
              "      <td>1</td>\n",
              "      <td>0</td>\n",
              "      <td>0</td>\n",
              "      <td>0</td>\n",
              "      <td>0</td>\n",
              "      <td>0</td>\n",
              "      <td>1</td>\n",
              "    </tr>\n",
              "    <tr>\n",
              "      <th>3</th>\n",
              "      <td>1</td>\n",
              "      <td>0</td>\n",
              "      <td>0</td>\n",
              "      <td>0</td>\n",
              "      <td>45</td>\n",
              "      <td>0</td>\n",
              "      <td>0</td>\n",
              "      <td>42.30</td>\n",
              "      <td>1840.75</td>\n",
              "      <td>0</td>\n",
              "      <td>0</td>\n",
              "      <td>1</td>\n",
              "      <td>0</td>\n",
              "      <td>1</td>\n",
              "      <td>0</td>\n",
              "      <td>0</td>\n",
              "      <td>0</td>\n",
              "      <td>0</td>\n",
              "      <td>1</td>\n",
              "      <td>1</td>\n",
              "      <td>0</td>\n",
              "      <td>0</td>\n",
              "      <td>0</td>\n",
              "      <td>0</td>\n",
              "      <td>1</td>\n",
              "      <td>0</td>\n",
              "      <td>0</td>\n",
              "      <td>1</td>\n",
              "      <td>1</td>\n",
              "      <td>0</td>\n",
              "      <td>0</td>\n",
              "      <td>1</td>\n",
              "      <td>0</td>\n",
              "      <td>0</td>\n",
              "      <td>0</td>\n",
              "      <td>1</td>\n",
              "      <td>0</td>\n",
              "      <td>1</td>\n",
              "      <td>0</td>\n",
              "      <td>0</td>\n",
              "      <td>0</td>\n",
              "    </tr>\n",
              "    <tr>\n",
              "      <th>4</th>\n",
              "      <td>0</td>\n",
              "      <td>0</td>\n",
              "      <td>0</td>\n",
              "      <td>0</td>\n",
              "      <td>2</td>\n",
              "      <td>1</td>\n",
              "      <td>1</td>\n",
              "      <td>70.70</td>\n",
              "      <td>151.65</td>\n",
              "      <td>1</td>\n",
              "      <td>1</td>\n",
              "      <td>0</td>\n",
              "      <td>0</td>\n",
              "      <td>0</td>\n",
              "      <td>1</td>\n",
              "      <td>0</td>\n",
              "      <td>1</td>\n",
              "      <td>0</td>\n",
              "      <td>0</td>\n",
              "      <td>1</td>\n",
              "      <td>0</td>\n",
              "      <td>0</td>\n",
              "      <td>1</td>\n",
              "      <td>0</td>\n",
              "      <td>0</td>\n",
              "      <td>1</td>\n",
              "      <td>0</td>\n",
              "      <td>0</td>\n",
              "      <td>1</td>\n",
              "      <td>0</td>\n",
              "      <td>0</td>\n",
              "      <td>1</td>\n",
              "      <td>0</td>\n",
              "      <td>0</td>\n",
              "      <td>1</td>\n",
              "      <td>0</td>\n",
              "      <td>0</td>\n",
              "      <td>0</td>\n",
              "      <td>0</td>\n",
              "      <td>1</td>\n",
              "      <td>0</td>\n",
              "    </tr>\n",
              "  </tbody>\n",
              "</table>\n",
              "</div>"
            ],
            "text/plain": [
              "   gender  ...  PaymentMethod_Mailed check\n",
              "0       0  ...                           0\n",
              "1       1  ...                           1\n",
              "2       1  ...                           1\n",
              "3       1  ...                           0\n",
              "4       0  ...                           0\n",
              "\n",
              "[5 rows x 41 columns]"
            ]
          },
          "metadata": {
            "tags": []
          },
          "execution_count": 17
        }
      ]
    },
    {
      "cell_type": "markdown",
      "metadata": {
        "id": "ok8RR598vORW"
      },
      "source": [
        "## **Modelo de Machine Learning**"
      ]
    },
    {
      "cell_type": "code",
      "metadata": {
        "id": "QX0zd88kvU18"
      },
      "source": [
        "# separação das features e variável alvo\n",
        "X = df_proc.drop('Churn', axis=1)\n",
        "y = df_proc['Churn']\n",
        "\n",
        "# dividisão dos dados entre treino e teste\n",
        "X_train, X_test, y_train, y_test = train_test_split(X, y)"
      ],
      "execution_count": 18,
      "outputs": []
    },
    {
      "cell_type": "markdown",
      "metadata": {
        "id": "kGbGwEXwvsGQ"
      },
      "source": [
        "**Criando função para avaliação**\n",
        "\n",
        "> Essa função utilizará a métrica `recall` para avaliar o modelo.\n",
        "\n",
        "> Também será utilizado um `pipeline` com o `StandarScaler()` e o `clf` (classificador)."
      ]
    },
    {
      "cell_type": "code",
      "metadata": {
        "id": "5cKX87G7vqP2"
      },
      "source": [
        "def val_model(X, y, clf, quite=False):\n",
        "    \"\"\"\n",
        "    Realiza cross-validation com os dados de treino para determinado modelo.\n",
        "\n",
        "    # Arguments\n",
        "        X: É um DataFrame que contém as variáveis independetes.\n",
        "        y: É uma Series que contém a variável alvo.\n",
        "        clf: modelo classificador do Scikit-learn.\n",
        "        quite: bool, indicando se a função deve imprimir os resultados ou não.\n",
        "\n",
        "    # Returns\n",
        "        float, média dos scores da cross-validation.\n",
        "    \"\"\"\n",
        "    \n",
        "    X = np.array(X)\n",
        "    y = np.array(y)\n",
        "\n",
        "    pipeline = make_pipeline(StandardScaler(), clf)\n",
        "    scores = cross_val_score(pipeline, X, y, scoring='recall')\n",
        "\n",
        "    if quite == False:\n",
        "        print(\"Recall: {:.2f} (+/- {:.2f})\".format(scores.mean(), scores.std()))\n",
        "    \n",
        "    return scores.mean()"
      ],
      "execution_count": 19,
      "outputs": []
    },
    {
      "cell_type": "markdown",
      "metadata": {
        "id": "85NlCiFpweXE"
      },
      "source": [
        "**Random Forest para o baseline**\n",
        "\n",
        "> Sem nenhum tuning em seus hiperparâmetros.\n",
        "\n",
        "> Vendo desempenho com a função `val_model` criada acima."
      ]
    },
    {
      "cell_type": "code",
      "metadata": {
        "colab": {
          "base_uri": "https://localhost:8080/"
        },
        "id": "xp--b0G4wm-J",
        "outputId": "19383f06-6c63-41c4-c0ed-3b026986a0cf"
      },
      "source": [
        "rf = RandomForestClassifier()\n",
        "score_baseline = val_model(X_train, y_train, rf)"
      ],
      "execution_count": 20,
      "outputs": [
        {
          "output_type": "stream",
          "text": [
            "Recall: 0.49 (+/- 0.02)\n"
          ],
          "name": "stdout"
        }
      ]
    },
    {
      "cell_type": "markdown",
      "metadata": {
        "id": "dO5SrpB1w0tk"
      },
      "source": [
        "**Padronizando e balanceandos os dados**\n",
        "\n",
        "> O balanceamento deve ser feito apenas com os dados de treino.\n",
        "\n",
        "> Utilizaremos o *Under Sampling* a fim de preservar a classe minoritária. Veja mais [aqui](https://github.com/amadords/Projetos-Publicos/blob/master/Classes_Desbalanceadas.ipynb)."
      ]
    },
    {
      "cell_type": "code",
      "metadata": {
        "id": "WO7XrQnrw0R5"
      },
      "source": [
        "#  padronizando os dados\n",
        "scaler = StandardScaler().fit(X_train)\n",
        "X_train = scaler.transform(X_train)\n",
        "\n",
        "# balanceando os dados\n",
        "rus = RandomUnderSampler()\n",
        "X_train_rus, y_train_rus = rus.fit_sample(X_train, y_train)"
      ],
      "execution_count": 21,
      "outputs": []
    },
    {
      "cell_type": "markdown",
      "metadata": {
        "id": "OkRwbu1dxERM"
      },
      "source": [
        "**Aplicando a validação cruzada em vários modelos e avaliando os melhores**"
      ]
    },
    {
      "cell_type": "code",
      "metadata": {
        "colab": {
          "base_uri": "https://localhost:8080/",
          "height": 269
        },
        "id": "uVIRkr9VysqE",
        "outputId": "aa0ea862-649e-4b28-b46d-b1e0aee51b18"
      },
      "source": [
        "# instanciando modelos\n",
        "rf = RandomForestClassifier()\n",
        "dt = DecisionTreeClassifier()\n",
        "sgdc = SGDClassifier()\n",
        "svc = SVC()\n",
        "lr = LogisticRegression()\n",
        "xgb = XGBClassifier()\n",
        "lgbm = LGBMClassifier()\n",
        "\n",
        "model = []\n",
        "recall = []\n",
        "# avaliando o desempenho (recall)\n",
        "for clf in (rf, dt, sgdc, svc, lr, xgb, lgbm):\n",
        "    model.append(clf.__class__.__name__)\n",
        "    recall.append(val_model(X_train_rus, y_train_rus, clf, quite=True))\n",
        "\n",
        "pd.DataFrame(data=recall, index=model, columns=['Recall']).sort_values(by='Recall', ascending=False)"
      ],
      "execution_count": 22,
      "outputs": [
        {
          "output_type": "execute_result",
          "data": {
            "text/html": [
              "<div>\n",
              "<style scoped>\n",
              "    .dataframe tbody tr th:only-of-type {\n",
              "        vertical-align: middle;\n",
              "    }\n",
              "\n",
              "    .dataframe tbody tr th {\n",
              "        vertical-align: top;\n",
              "    }\n",
              "\n",
              "    .dataframe thead th {\n",
              "        text-align: right;\n",
              "    }\n",
              "</style>\n",
              "<table border=\"1\" class=\"dataframe\">\n",
              "  <thead>\n",
              "    <tr style=\"text-align: right;\">\n",
              "      <th></th>\n",
              "      <th>Recall</th>\n",
              "    </tr>\n",
              "  </thead>\n",
              "  <tbody>\n",
              "    <tr>\n",
              "      <th>XGBClassifier</th>\n",
              "      <td>0.815927</td>\n",
              "    </tr>\n",
              "    <tr>\n",
              "      <th>LogisticRegression</th>\n",
              "      <td>0.804238</td>\n",
              "    </tr>\n",
              "    <tr>\n",
              "      <th>SVC</th>\n",
              "      <td>0.799861</td>\n",
              "    </tr>\n",
              "    <tr>\n",
              "      <th>RandomForestClassifier</th>\n",
              "      <td>0.787444</td>\n",
              "    </tr>\n",
              "    <tr>\n",
              "      <th>LGBMClassifier</th>\n",
              "      <td>0.774303</td>\n",
              "    </tr>\n",
              "    <tr>\n",
              "      <th>SGDClassifier</th>\n",
              "      <td>0.739149</td>\n",
              "    </tr>\n",
              "    <tr>\n",
              "      <th>DecisionTreeClassifier</th>\n",
              "      <td>0.699019</td>\n",
              "    </tr>\n",
              "  </tbody>\n",
              "</table>\n",
              "</div>"
            ],
            "text/plain": [
              "                          Recall\n",
              "XGBClassifier           0.815927\n",
              "LogisticRegression      0.804238\n",
              "SVC                     0.799861\n",
              "RandomForestClassifier  0.787444\n",
              "LGBMClassifier          0.774303\n",
              "SGDClassifier           0.739149\n",
              "DecisionTreeClassifier  0.699019"
            ]
          },
          "metadata": {
            "tags": []
          },
          "execution_count": 22
        }
      ]
    },
    {
      "cell_type": "markdown",
      "metadata": {
        "id": "Cvoa0j29zW_Z"
      },
      "source": [
        "> A regressão logística se saiu melhor, porém pela complexidade do problema vamos utilizar para a continuação um modelo baseado em `Árvore de Decisão`."
      ]
    },
    {
      "cell_type": "markdown",
      "metadata": {
        "id": "VFLHsogXz-kV"
      },
      "source": [
        "**Fazendo tuning**"
      ]
    },
    {
      "cell_type": "code",
      "metadata": {
        "colab": {
          "base_uri": "https://localhost:8080/"
        },
        "id": "ntIF830-0BPf",
        "outputId": "d1dc9ab7-fb5a-465e-8da9-24cb8c64ee1d"
      },
      "source": [
        "xgb = XGBClassifier(learning_rate=0.1)\n",
        "\n",
        "param_grid = {\n",
        " 'n_estimators':range(0,1000,50),\n",
        "}\n",
        "\n",
        "# identificando melhor parâmetro\n",
        "kfold = StratifiedKFold(n_splits=10, shuffle=True)\n",
        "grid_search = GridSearchCV(xgb, param_grid, scoring=\"recall\", n_jobs=-1, cv=kfold)\n",
        "grid_result = grid_search.fit(X_train_rus, y_train_rus)\n",
        "\n",
        "# visualizando os resultados\n",
        "print(\"O melhor score é: {}, correspondente ao {}\".format(grid_result.best_score_, grid_result.best_params_))"
      ],
      "execution_count": 23,
      "outputs": [
        {
          "output_type": "stream",
          "text": [
            "O melhor score é: 0.8225096607986261, correspondente ao {'n_estimators': 50}\n"
          ],
          "name": "stdout"
        }
      ]
    },
    {
      "cell_type": "code",
      "metadata": {
        "colab": {
          "base_uri": "https://localhost:8080/"
        },
        "id": "ozvavVXVNJLT",
        "outputId": "814329ee-6865-4fce-a819-806c010e56be"
      },
      "source": [
        "xgb = XGBClassifier(learning_rate=0.1, n_estimators=50)\n",
        "\n",
        "param_grid = {\n",
        " 'max_depth':range(1,8,1),\n",
        " 'min_child_weight':range(1,5,1)\n",
        "}\n",
        "\n",
        "# identificando melhor parâmetro\n",
        "kfold = StratifiedKFold(n_splits=10, shuffle=True)\n",
        "grid_search = GridSearchCV(xgb, param_grid, scoring=\"recall\", n_jobs=-1, cv=kfold)\n",
        "grid_result = grid_search.fit(X_train_rus, y_train_rus)\n",
        "\n",
        "# visualizando os resultados\n",
        "print(\"Melhor: {} para {}\".format(grid_result.best_score_, grid_result.best_params_))"
      ],
      "execution_count": 24,
      "outputs": [
        {
          "output_type": "stream",
          "text": [
            "Melhor: 0.820298411335337 para {'max_depth': 2, 'min_child_weight': 1}\n"
          ],
          "name": "stdout"
        }
      ]
    },
    {
      "cell_type": "code",
      "metadata": {
        "colab": {
          "base_uri": "https://localhost:8080/"
        },
        "id": "Q0YVdwuINrH0",
        "outputId": "86432dec-5d53-43c1-e7c5-8b012d3e9312"
      },
      "source": [
        "xgb = XGBClassifier(learning_rate=0.1, n_estimators=50, max_depth=1, min_child_weight=1)\n",
        "\n",
        "param_grid = {\n",
        " 'gamma':[i/10.0 for i in range(0,5)]\n",
        "}\n",
        "\n",
        "# identificando melhor parâmetro\n",
        "kfold = StratifiedKFold(n_splits=10, shuffle=True)\n",
        "grid_search = GridSearchCV(xgb, param_grid, scoring=\"recall\", n_jobs=-1, cv=kfold)\n",
        "grid_result = grid_search.fit(X_train_rus, y_train_rus)\n",
        "\n",
        "# visualizando os resultados\n",
        "print(\"Melhor: {} para {}\".format(grid_result.best_score_, grid_result.best_params_))"
      ],
      "execution_count": 25,
      "outputs": [
        {
          "output_type": "stream",
          "text": [
            "Melhor: 0.8122799484757406 para {'gamma': 0.0}\n"
          ],
          "name": "stdout"
        }
      ]
    },
    {
      "cell_type": "code",
      "metadata": {
        "colab": {
          "base_uri": "https://localhost:8080/"
        },
        "id": "r5df7Y-lNrDb",
        "outputId": "8e2b8560-4c69-4d3a-bdc3-2b9fe7a31858"
      },
      "source": [
        "xgb = XGBClassifier(n_estimators=50, max_depth=1, min_child_weight=1, gamma=0.0)\n",
        "\n",
        "param_grid = {\n",
        " 'learning_rate':[0.001, 0.01, 0.1, 1]\n",
        "}\n",
        "\n",
        "# identificando melhor parâmetro\n",
        "kfold = StratifiedKFold(n_splits=10, shuffle=True)\n",
        "grid_search = GridSearchCV(xgb, param_grid, scoring=\"recall\", n_jobs=-1, cv=kfold)\n",
        "grid_result = grid_search.fit(X_train_rus, y_train_rus)\n",
        "\n",
        "# visualizando os resultados\n",
        "print(\"Melhor: {} para {}\".format(grid_result.best_score_, grid_result.best_params_))"
      ],
      "execution_count": 26,
      "outputs": [
        {
          "output_type": "stream",
          "text": [
            "Melhor: 0.8809628595963932 para {'learning_rate': 0.001}\n"
          ],
          "name": "stdout"
        }
      ]
    },
    {
      "cell_type": "markdown",
      "metadata": {
        "id": "hWBR5PPH1Kq0"
      },
      "source": [
        "**Treinando o modelo final com os novos hiperparâmetros**"
      ]
    },
    {
      "cell_type": "code",
      "metadata": {
        "colab": {
          "base_uri": "https://localhost:8080/",
          "height": 486
        },
        "id": "FPX8tn4vNvZM",
        "outputId": "deeabd8d-1194-4cf2-81b0-9a57aafab32c"
      },
      "source": [
        "# modelo\n",
        "xgb = XGBClassifier(learning_rate=0.001 , n_estimators=50, max_depth=1, min_child_weight=1, gamma=0.0)\n",
        "xgb.fit(X_train_rus, y_train_rus)\n",
        "\n",
        "# previsão\n",
        "X_test = scaler.transform(X_test)\n",
        "y_pred = xgb.predict(X_test)\n",
        "\n",
        "# Classification Report\n",
        "print(classification_report(y_test, y_pred))\n",
        "\n",
        "# área sob a curva\n",
        "print(\"AUC: {:.4f}\\n\".format(roc_auc_score(y_test, y_pred)))\n",
        "\n",
        "# matriz de confusão\n",
        "plot_confusion_matrix(y_test, y_pred, normalize=True)\n",
        "plt.show()"
      ],
      "execution_count": 27,
      "outputs": [
        {
          "output_type": "stream",
          "text": [
            "              precision    recall  f1-score   support\n",
            "\n",
            "           0       0.93      0.57      0.71      1261\n",
            "           1       0.45      0.90      0.60       500\n",
            "\n",
            "    accuracy                           0.66      1761\n",
            "   macro avg       0.69      0.73      0.65      1761\n",
            "weighted avg       0.80      0.66      0.68      1761\n",
            "\n",
            "AUC: 0.7329\n",
            "\n"
          ],
          "name": "stdout"
        },
        {
          "output_type": "display_data",
          "data": {
            "image/png": "[encoded data removed]",
            "text/plain": [
              "<Figure size 432x288 with 2 Axes>"
            ]
          },
          "metadata": {
            "tags": [],
            "needs_background": "light"
          }
        }
      ]
    },
    {
      "cell_type": "code",
      "metadata": {
        "id": "SNnflCucYFWm"
      },
      "source": [
        "## **Feature Importance**"
      ],
      "execution_count": 28,
      "outputs": []
    },
    {
      "cell_type": "markdown",
      "metadata": {
        "id": "Se0Ica3sRXkM"
      },
      "source": [
        "> Infelizmente o `feature_importances_` não está funcionando, como pode ser visto abaixo. Vamos então utilizar um modelo de árvore mais tradicional para podermos visualizar as features mais importantes."
      ]
    },
    {
      "cell_type": "code",
      "metadata": {
        "colab": {
          "base_uri": "https://localhost:8080/"
        },
        "id": "oo4k85PKRX5h",
        "outputId": "75cabff1-1a88-4015-a9fb-439ce70d9d96"
      },
      "source": [
        "xgb.feature_importances_"
      ],
      "execution_count": 29,
      "outputs": [
        {
          "output_type": "execute_result",
          "data": {
            "text/plain": [
              "array([0., 0., 0., 0., 0., 0., 0., 0., 0., 0., 0., 0., 0., 0., 0., 0., 0.,\n",
              "       0., 0., 0., 0., 0., 0., 0., 0., 0., 0., 0., 0., 0., 0., 0., 0., 1.,\n",
              "       0., 0., 0., 0., 0., 0.], dtype=float32)"
            ]
          },
          "metadata": {
            "tags": []
          },
          "execution_count": 29
        }
      ]
    },
    {
      "cell_type": "code",
      "metadata": {
        "colab": {
          "base_uri": "https://localhost:8080/"
        },
        "id": "aDh06ounSg9f",
        "outputId": "345e19ca-b8f1-484b-8edb-a50ea1ae3ec0"
      },
      "source": [
        "# instanciando o classificador\n",
        "random_clf = RandomForestClassifier()\n",
        "\n",
        "# separação das features e variável alvo\n",
        "X = df_proc.drop('Churn', axis=1)\n",
        "y = df_proc['Churn']\n",
        "\n",
        "# dividisão dos dados entre treino e teste\n",
        "X_train, X_test, y_train, y_test = train_test_split(X, y)\n",
        "\n",
        "# treinando o modelo\n",
        "random_clf.fit(X_train, y_train)\n",
        "\n",
        "# predição\n",
        "resultado = random_clf.predict(X_test)\n",
        "\n",
        "# métrica\n",
        "from sklearn import metrics\n",
        "print(metrics.classification_report(y_test,resultado))"
      ],
      "execution_count": 30,
      "outputs": [
        {
          "output_type": "stream",
          "text": [
            "              precision    recall  f1-score   support\n",
            "\n",
            "           0       0.82      0.90      0.86      1280\n",
            "           1       0.64      0.48      0.55       481\n",
            "\n",
            "    accuracy                           0.78      1761\n",
            "   macro avg       0.73      0.69      0.70      1761\n",
            "weighted avg       0.77      0.78      0.77      1761\n",
            "\n"
          ],
          "name": "stdout"
        }
      ]
    },
    {
      "cell_type": "markdown",
      "metadata": {
        "id": "X8LUUggEWo92"
      },
      "source": [
        "**Plotando as features mais importantes**"
      ]
    },
    {
      "cell_type": "code",
      "metadata": {
        "colab": {
          "base_uri": "https://localhost:8080/"
        },
        "id": "UWRYM1kxU079",
        "outputId": "13333ad8-eb9d-429e-801e-b06ca10cbbe4"
      },
      "source": [
        "feature_imp = pd.Series(random_clf.feature_importances_,index=X_train.columns).sort_values(ascending=False)\n",
        "feature_imp"
      ],
      "execution_count": 31,
      "outputs": [
        {
          "output_type": "execute_result",
          "data": {
            "text/plain": [
              "TotalCharges                               0.166660\n",
              "tenure                                     0.150140\n",
              "MonthlyCharges                             0.148989\n",
              "Contract_Month-to-month                    0.053411\n",
              "OnlineSecurity_No                          0.031890\n",
              "PaymentMethod_Electronic check             0.030236\n",
              "TechSupport_No                             0.028446\n",
              "gender                                     0.028046\n",
              "PaperlessBilling                           0.025894\n",
              "Partner                                    0.023189\n",
              "InternetService_Fiber optic                0.021792\n",
              "SeniorCitizen                              0.019580\n",
              "Dependents                                 0.019256\n",
              "OnlineBackup_No                            0.018799\n",
              "DeviceProtection_No                        0.016396\n",
              "Contract_Two year                          0.015915\n",
              "MultipleLines_No                           0.013825\n",
              "PaymentMethod_Credit card (automatic)      0.012810\n",
              "MultipleLines_Yes                          0.012496\n",
              "InternetService_DSL                        0.012380\n",
              "PaymentMethod_Bank transfer (automatic)    0.012213\n",
              "StreamingTV_Yes                            0.011965\n",
              "TechSupport_Yes                            0.011916\n",
              "StreamingMovies_Yes                        0.011508\n",
              "StreamingMovies_No                         0.011444\n",
              "Contract_One year                          0.011425\n",
              "OnlineSecurity_Yes                         0.011418\n",
              "OnlineBackup_Yes                           0.011320\n",
              "PaymentMethod_Mailed check                 0.011203\n",
              "DeviceProtection_Yes                       0.011127\n",
              "StreamingTV_No                             0.010705\n",
              "MultipleLines_No phone service             0.004114\n",
              "PhoneService                               0.004015\n",
              "OnlineBackup_No internet service           0.003002\n",
              "DeviceProtection_No internet service       0.002728\n",
              "InternetService_No                         0.002679\n",
              "TechSupport_No internet service            0.002386\n",
              "StreamingTV_No internet service            0.001933\n",
              "StreamingMovies_No internet service        0.001579\n",
              "OnlineSecurity_No internet service         0.001169\n",
              "dtype: float64"
            ]
          },
          "metadata": {
            "tags": []
          },
          "execution_count": 31
        }
      ]
    },
    {
      "cell_type": "code",
      "metadata": {
        "colab": {
          "base_uri": "https://localhost:8080/",
          "height": 456
        },
        "id": "1sMwDlbRUcVN",
        "outputId": "c9cb31f6-3304-4eb1-ade4-94731a46dc01"
      },
      "source": [
        "%matplotlib inline\n",
        "\n",
        "def visualiza_features_importantes(features_lista):\n",
        "\n",
        "    plt.figure(figsize=(16,8))\n",
        "    sns.barplot(x=features_lista, y=features_lista.index)\n",
        "\n",
        "    plt.xlabel('Feature Importance Score')\n",
        "    plt.ylabel('Features')\n",
        "    plt.title(\"Visualizing Important Features\")\n",
        "    plt.show()\n",
        "    \n",
        "visualiza_features_importantes(feature_imp)"
      ],
      "execution_count": 32,
      "outputs": [
        {
          "output_type": "display_data",
          "data": {
            "image/png": "[encoded data removed]",
            "text/plain": [
              "<Figure size 1152x576 with 1 Axes>"
            ]
          },
          "metadata": {
            "tags": [],
            "needs_background": "light"
          }
        }
      ]
    },
    {
      "cell_type": "markdown",
      "metadata": {
        "id": "ZGZtuX9hWwJS"
      },
      "source": [
        "> Veja que, com exceção de `TotalCharges`, `tenure` e `MonthlyCharges`, além de `Contract_Month-to-month`, as features estão em um intervalo onde estão muito próximas. Nesse caso, talvez não seja interessante fazer uma seleção de features. \n",
        "\n",
        "> Para saber mais sobre esse tipo de abordagem clique [aqui](https://github.com/amadords/Projetos-Publicos/blob/master/Floresta_Aleat%C3%B3ria_(Algoritmo).ipynb)."
      ]
    },
    {
      "cell_type": "markdown",
      "metadata": {
        "id": "Bvyl0dGOX7rh"
      },
      "source": [
        "## **Conclusão**\n",
        "\n",
        "> Criamos um classificador com `AUC` = 0.7293. Ainda podem ser feitas outras melhorias, inclusive também ser feitas outras avaliações.\n",
        "\n",
        "> Esse trabalho nunca tem fim e sempre pode ser melhorado."
      ]
    },
    {
      "cell_type": "markdown",
      "metadata": {
        "id": "7_FFpK2kT7QB"
      },
      "source": [
        "# Obrigado!\n",
        "\n",
        "Obrigado por ter disponibilizado um pouco do seu tempo e atenção aqui. Espero que, de alguma forma, tenha sido útil para seu crescimento. Se houver qualquer dúvida ou sugestão, não hesite em entrar em contato no [LinkedIn](https://www.linkedin.com/in/daniel-sousa-amador) e verificar meus outros projetos no [GitHub](https://github.com/amadords).\n",
        "\n",
        "[![LinkedIn](https://img.shields.io/badge/LinkedIn-DanielSousaAmador-cyan.svg)](https://www.linkedin.com/in/daniel-sousa-amador)\n",
        "[![GitHub](https://img.shields.io/badge/GitHub-amadords-darkblue.svg)](https://github.com/amadords)\n",
        "[![Medium](https://img.shields.io/badge/Medium-DanielSousaAmador-white.svg)](https://daniel-s-amador.medium.com/)\n",
        "\n",
        "\n",
        "\n",
        "<center><img width=\"90%\" src=\"https://raw.githubusercontent.com/danielamador12/Portfolio/master/github.png\"></center>"
      ]
    }
  ]
}