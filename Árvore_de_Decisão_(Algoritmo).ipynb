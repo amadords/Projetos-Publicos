{
  "nbformat": 4,
  "nbformat_minor": 0,
  "metadata": {
    "kernelspec": {
      "display_name": "Python 3",
      "language": "python",
      "name": "python3"
    },
    "language_info": {
      "codemirror_mode": {
        "name": "ipython",
        "version": 3
      },
      "file_extension": ".py",
      "mimetype": "text/x-python",
      "name": "python",
      "nbconvert_exporter": "python",
      "pygments_lexer": "ipython3",
      "version": "3.7.6"
    },
    "colab": {
      "name": "Árvore de Decisão (Algoritmo)",
      "provenance": [],
      "collapsed_sections": [],
      "include_colab_link": true
    }
  },
  "cells": [
    {
      "cell_type": "markdown",
      "metadata": {
        "id": "view-in-github",
        "colab_type": "text"
      },
      "source": [
        "<a href=\"https://colab.research.google.com/github/danielamador12/Projetos-Publicos/blob/master/%C3%81rvore_de_Decis%C3%A3o_(Algoritmo).ipynb\" target=\"_parent\"><img src=\"https://colab.research.google.com/assets/colab-badge.svg\" alt=\"Open In Colab\"/></a>"
      ]
    },
    {
      "cell_type": "markdown",
      "metadata": {
        "id": "qUVp1FyDj9ac"
      },
      "source": [
        "# Árvore de Decisão\n",
        "---\n",
        "[![LinkedIn](https://img.shields.io/badge/LinkedIn-DanielSousaAmador-purple.svg)](https://www.linkedin.com/in/daniel-sousa-amador)\n",
        "[![GitHub](https://img.shields.io/badge/GitHub-danielamador12-darkblue.svg)](https://github.com/danielamador12)\n",
        "[![Medium](https://img.shields.io/badge/Medium-DanielSousaAmador-darkorange.svg)](https://medium.com/@daniel.s.amador)\n",
        "\n",
        "A **Árvore de Decisão** é um algoritmo de *Machine Learning* (Aprendizado de Máquina) *supervisionado*, ou seja, precisa de um acompanhamento humano, utilizado em tarefas de *classificação* e *regressão*.\n",
        "\n",
        "O nome *Árvore* tem relação à sua estrutura e ela é construída a partir da indução de regras e são essas regras que vão construindo a estrutura, por isso o nome *Árvore de Decisão.*\n",
        "\n",
        "Sua estrutura é:\n",
        "* **Raiz**: Ponto de checagem inicial, ou nó inicial, que é a feature que melhor divide genericamente a base de dados. É a raiz que liga os demais elementos da árvore, que são os nós filhos (ramos e folhas que também tem ou podem ter seus filhos).\n",
        "* **Ramos**: Caminho percorrido e tomada de decisão entre o inicial (raiz) e o resultado final (folhas).\n",
        "* **Folhas**: São os resultados finais, ou seja a decisão tomada por aquele ramo.\n",
        "\n",
        "> Cada um é chamado de nó, ou seja, *nó raiz, nós ramo e nó folha*.\n",
        "\n",
        "![árvore](https://t4.ftcdn.net/jpg/02/67/60/39/240_F_267603945_0FB0gS1G3H1bPfGD4uh9iHTIzORm1jfs.jpg)\n",
        "\n",
        "**Vantagens e Desvantagens:**\n",
        "\n",
        "* **Vantagens**:\n",
        "* *Fácil entendimento* e *Viabilização da exploração*: As regras seguidas pela árvore é de fácil acesso e podem ser utilizadas até mesmo para construir outros algoritmos utilizando apenas features mais importantes identificadas nesse processo.\n",
        "* *Suporte a tipos diferentes de dados*: Ao contrário de modelos baseados em distância, por exemplo, árvores de decisão conseguem trabalhar com formatos categóricos e numéricos.\n",
        "* *Mais robusta contra outliers*: Por trabalhar em cima do ganho de informação, valores *outlier não influenciam* ao ponto de atrapalhar o modelo.\n",
        "\n",
        "* **Desvantagens**:\n",
        "* *Maior propensão ao overfitting*: Pela facilidade em se ajustar aos dados, a árvore pode facilmente sofre sobreajuste, ou seja, aprender demais sobre os dados de treino e sofrer quando receber novos dados. Problema melhor resolvido pelas *Florestas Aleatórias* abordadas [aqui](https://bit.ly/2Sg9LM7).\n",
        "\n",
        "O comparativo entre **Árvore de Decisão** e **Florestas Aleatórias** é feito [aqui](https://bit.ly/30mKZ1q).\n",
        "\n",
        "Cada *Árvore de Decisão* é **construída** através das features que **melhor dividem** os dados para criar cada ramo. \n",
        "\n",
        "Os atributos são selecionados e escolhidos através do **cálculo de impureza**, ou seja, quanto mais homogênio os dados de determinado atributo, mais puro ele é e as **métricas** utilizadas nas árvores para divisão são:\n",
        "* **Indice Gini**: Se a população for pura, ao selecionar aleatoriamente dois itens dentro dela, ambas devem ser da mesma classe e a probabilidade de isso acontecer é 1 (um), ou seja, 100%.\n",
        "* **Ganho de Informação**: É o quanto é necessário de informação para explicar um nó. Um nó puro requer menos informações, porém quanto mais diferentes os dados, maior a impureza e, mais informação é necessária para explicar o nó.\n",
        "* **Redução de Variância**: Enquanto os demais trata de variáveis categóricas, a *Redução de Variância* tem foco nas variáveis *numéricas* ou *ordinais* e utiliza o cálculo da variância, onde a menor variância será utilizada por ser mais homogênia e dai em diante, dos que sobram, as mais homogêneas irão ser utilizadas.\n",
        "    * Cálculo da variância (populacional):.\n",
        "$$\n",
        "        Variância=\\frac{(Soma de Todos os Valores - Média Simples dos Valores)^{2}}{Tamanho da População}\n",
        "$$\n",
        "**Como evitar o overfitting?**\n",
        "* Limitando o *crescimento da árvore*, pois uma árvore pode se ajustar tão bem aos dados que pode ter um ramo para cada valor único do nível folha.\n",
        "* Limitando a *profundidade máxima* da árvore bem como valor máximo de features a considerar para cada divisão.\n",
        "* Limitando o *valor mínimo* de amostras para um atributo a considerar para a divisão.\n",
        "* Limitando o *valor máximo* de níveis de folha.\n",
        "* Fazendo a *poda* da árvore:\n",
        "    * Pré-poda: Verificação de *ganho de informação* de um atributo durante a etapa de construção da árvore.\n",
        "    * Pós-poda: Após a construção da árvore, ramos são selecionados e após sofrerem a poda, a acurácia para medir a eficácia do modelo.\n",
        "    \n",
        "    \n",
        "**Árvore de Decisão** ou **Modelo Lineares**?\n",
        "* Relacionamento forte entre variáveis dependentes e independente? Modelo Linear,\n",
        "* Relacionamento fraco ou alta complexidade? Modelo baseado em Árvore.\n",
        "* É necessária a compreensão e geração de informação? Modelo baseado em Árvore.\n",
        "* Modelo baseado em Árvore ao invés de Árvore de Decisão precisamente é porque também pode ser utilizado o algoritmo de *Floresta Aleatória*.\n",
        "\n",
        "\n",
        "**Parâmetros do Classificador:**\n",
        "* **criterion**: Medida de qualidade de divisão.\n",
        "* **splitter**: Estratégia utilizada para dividir o nó de decisão.\n",
        "* **max_depth**: Controla a profundidade máxima da árvore, ou seja, até onde ela pode crescer, controlando assim também a complexidade da árvore.\n",
        "* **min_samples_split**: Número de amostras mínimas para considerar um nó para divisão.\n",
        "* **min_samples_leaf**: Número de amostras mínimas no nível folha.\n",
        "\n",
        "\n",
        "A **base de dados** aqui utilizada é semelhante à utilizada em [classes desbalanceadas](https://bit.ly/3nj6EkW), contudo pré-processada (embora não necessário) para melhorar ainda mais a visualização e com apenas 11.162 linhas ao passo das 45.211 da outra base de dados, pois o intuito aqui é apenas mostrar o quão prático, rápido e intuitivo é utilizar o algoritmo. O foco neste notebook é visualizar o parâmetro **max_depth** em ação.\n",
        "\n",
        "## Checklist\n",
        "\n",
        "1. Importação e Leitura\n",
        "2. Machine Learning\n",
        "3. max_depth em Ação\n",
        "4. Treinando o modelo com o `max_depth=4`\n",
        "5. Features mais Importantes"
      ]
    },
    {
      "cell_type": "markdown",
      "metadata": {
        "id": "YD7KjR8Rj9af"
      },
      "source": [
        "# 1. Importação e Leitura"
      ]
    },
    {
      "cell_type": "markdown",
      "metadata": {
        "id": "uFdktdNuj9ah"
      },
      "source": [
        "**Importações**"
      ]
    },
    {
      "cell_type": "code",
      "metadata": {
        "id": "WMum8Dfoj9aj"
      },
      "source": [
        "import pandas as pd\n",
        "from sklearn.model_selection import train_test_split\n",
        "from sklearn import tree"
      ],
      "execution_count": null,
      "outputs": []
    },
    {
      "cell_type": "markdown",
      "metadata": {
        "id": "yp3_SHZ0j9az"
      },
      "source": [
        "**Leitura da base de dados**"
      ]
    },
    {
      "cell_type": "code",
      "metadata": {
        "scrolled": true,
        "id": "vlwhm84Bj9az",
        "outputId": "ffbc585e-317a-453e-88c1-70bb209cd283"
      },
      "source": [
        "bank = pd.read_csv('/home/amador/dados/bank-numeric.csv')\n",
        "bank.head()"
      ],
      "execution_count": null,
      "outputs": [
        {
          "output_type": "execute_result",
          "data": {
            "text/html": [
              "<div>\n",
              "<style scoped>\n",
              "    .dataframe tbody tr th:only-of-type {\n",
              "        vertical-align: middle;\n",
              "    }\n",
              "\n",
              "    .dataframe tbody tr th {\n",
              "        vertical-align: top;\n",
              "    }\n",
              "\n",
              "    .dataframe thead th {\n",
              "        text-align: right;\n",
              "    }\n",
              "</style>\n",
              "<table border=\"1\" class=\"dataframe\">\n",
              "  <thead>\n",
              "    <tr style=\"text-align: right;\">\n",
              "      <th></th>\n",
              "      <th>age</th>\n",
              "      <th>balance</th>\n",
              "      <th>duration</th>\n",
              "      <th>campaign</th>\n",
              "      <th>previous</th>\n",
              "      <th>default_cat</th>\n",
              "      <th>housing_cat</th>\n",
              "      <th>loan_cat</th>\n",
              "      <th>recent_pdays</th>\n",
              "      <th>deposit_cat</th>\n",
              "      <th>...</th>\n",
              "      <th>marital_divorced</th>\n",
              "      <th>marital_married</th>\n",
              "      <th>marital_single</th>\n",
              "      <th>education_primary</th>\n",
              "      <th>education_secondary</th>\n",
              "      <th>education_tertiary</th>\n",
              "      <th>education_unknown</th>\n",
              "      <th>poutcome_failure</th>\n",
              "      <th>poutcome_success</th>\n",
              "      <th>poutcome_unknown</th>\n",
              "    </tr>\n",
              "  </thead>\n",
              "  <tbody>\n",
              "    <tr>\n",
              "      <th>0</th>\n",
              "      <td>59</td>\n",
              "      <td>2343</td>\n",
              "      <td>1042</td>\n",
              "      <td>1</td>\n",
              "      <td>0</td>\n",
              "      <td>0</td>\n",
              "      <td>1</td>\n",
              "      <td>0</td>\n",
              "      <td>0.0001</td>\n",
              "      <td>1</td>\n",
              "      <td>...</td>\n",
              "      <td>0</td>\n",
              "      <td>1</td>\n",
              "      <td>0</td>\n",
              "      <td>0</td>\n",
              "      <td>1</td>\n",
              "      <td>0</td>\n",
              "      <td>0</td>\n",
              "      <td>0</td>\n",
              "      <td>0</td>\n",
              "      <td>1</td>\n",
              "    </tr>\n",
              "    <tr>\n",
              "      <th>1</th>\n",
              "      <td>56</td>\n",
              "      <td>45</td>\n",
              "      <td>1467</td>\n",
              "      <td>1</td>\n",
              "      <td>0</td>\n",
              "      <td>0</td>\n",
              "      <td>0</td>\n",
              "      <td>0</td>\n",
              "      <td>0.0001</td>\n",
              "      <td>1</td>\n",
              "      <td>...</td>\n",
              "      <td>0</td>\n",
              "      <td>1</td>\n",
              "      <td>0</td>\n",
              "      <td>0</td>\n",
              "      <td>1</td>\n",
              "      <td>0</td>\n",
              "      <td>0</td>\n",
              "      <td>0</td>\n",
              "      <td>0</td>\n",
              "      <td>1</td>\n",
              "    </tr>\n",
              "    <tr>\n",
              "      <th>2</th>\n",
              "      <td>41</td>\n",
              "      <td>1270</td>\n",
              "      <td>1389</td>\n",
              "      <td>1</td>\n",
              "      <td>0</td>\n",
              "      <td>0</td>\n",
              "      <td>1</td>\n",
              "      <td>0</td>\n",
              "      <td>0.0001</td>\n",
              "      <td>1</td>\n",
              "      <td>...</td>\n",
              "      <td>0</td>\n",
              "      <td>1</td>\n",
              "      <td>0</td>\n",
              "      <td>0</td>\n",
              "      <td>1</td>\n",
              "      <td>0</td>\n",
              "      <td>0</td>\n",
              "      <td>0</td>\n",
              "      <td>0</td>\n",
              "      <td>1</td>\n",
              "    </tr>\n",
              "    <tr>\n",
              "      <th>3</th>\n",
              "      <td>55</td>\n",
              "      <td>2476</td>\n",
              "      <td>579</td>\n",
              "      <td>1</td>\n",
              "      <td>0</td>\n",
              "      <td>0</td>\n",
              "      <td>1</td>\n",
              "      <td>0</td>\n",
              "      <td>0.0001</td>\n",
              "      <td>1</td>\n",
              "      <td>...</td>\n",
              "      <td>0</td>\n",
              "      <td>1</td>\n",
              "      <td>0</td>\n",
              "      <td>0</td>\n",
              "      <td>1</td>\n",
              "      <td>0</td>\n",
              "      <td>0</td>\n",
              "      <td>0</td>\n",
              "      <td>0</td>\n",
              "      <td>1</td>\n",
              "    </tr>\n",
              "    <tr>\n",
              "      <th>4</th>\n",
              "      <td>54</td>\n",
              "      <td>184</td>\n",
              "      <td>673</td>\n",
              "      <td>2</td>\n",
              "      <td>0</td>\n",
              "      <td>0</td>\n",
              "      <td>0</td>\n",
              "      <td>0</td>\n",
              "      <td>0.0001</td>\n",
              "      <td>1</td>\n",
              "      <td>...</td>\n",
              "      <td>0</td>\n",
              "      <td>1</td>\n",
              "      <td>0</td>\n",
              "      <td>0</td>\n",
              "      <td>0</td>\n",
              "      <td>1</td>\n",
              "      <td>0</td>\n",
              "      <td>0</td>\n",
              "      <td>0</td>\n",
              "      <td>1</td>\n",
              "    </tr>\n",
              "  </tbody>\n",
              "</table>\n",
              "<p>5 rows × 27 columns</p>\n",
              "</div>"
            ],
            "text/plain": [
              "   age  balance  duration  campaign  previous  default_cat  housing_cat  \\\n",
              "0   59     2343      1042         1         0            0            1   \n",
              "1   56       45      1467         1         0            0            0   \n",
              "2   41     1270      1389         1         0            0            1   \n",
              "3   55     2476       579         1         0            0            1   \n",
              "4   54      184       673         2         0            0            0   \n",
              "\n",
              "   loan_cat  recent_pdays  deposit_cat  ...  marital_divorced  \\\n",
              "0         0        0.0001            1  ...                 0   \n",
              "1         0        0.0001            1  ...                 0   \n",
              "2         0        0.0001            1  ...                 0   \n",
              "3         0        0.0001            1  ...                 0   \n",
              "4         0        0.0001            1  ...                 0   \n",
              "\n",
              "   marital_married  marital_single  education_primary  education_secondary  \\\n",
              "0                1               0                  0                    1   \n",
              "1                1               0                  0                    1   \n",
              "2                1               0                  0                    1   \n",
              "3                1               0                  0                    1   \n",
              "4                1               0                  0                    0   \n",
              "\n",
              "   education_tertiary  education_unknown  poutcome_failure  poutcome_success  \\\n",
              "0                   0                  0                 0                 0   \n",
              "1                   0                  0                 0                 0   \n",
              "2                   0                  0                 0                 0   \n",
              "3                   0                  0                 0                 0   \n",
              "4                   1                  0                 0                 0   \n",
              "\n",
              "   poutcome_unknown  \n",
              "0                 1  \n",
              "1                 1  \n",
              "2                 1  \n",
              "3                 1  \n",
              "4                 1  \n",
              "\n",
              "[5 rows x 27 columns]"
            ]
          },
          "metadata": {
            "tags": []
          },
          "execution_count": 2
        }
      ]
    },
    {
      "cell_type": "markdown",
      "metadata": {
        "id": "rX0v1X6qj9a8"
      },
      "source": [
        "# 2. Machine Learning"
      ]
    },
    {
      "cell_type": "markdown",
      "metadata": {
        "id": "8ZbRX4eGj9a9"
      },
      "source": [
        "**Separando os dados**"
      ]
    },
    {
      "cell_type": "code",
      "metadata": {
        "id": "hwxPtiunj9a9"
      },
      "source": [
        "bank_data = bank.drop('deposit_cat', 1) # ou axis=1\n",
        "bank_target = bank.deposit_cat"
      ],
      "execution_count": null,
      "outputs": []
    },
    {
      "cell_type": "markdown",
      "metadata": {
        "id": "r9cD2H-5j9bD"
      },
      "source": [
        "**Dividindo em treino e teste em 70/30**"
      ]
    },
    {
      "cell_type": "code",
      "metadata": {
        "id": "CamqnAasj9bE"
      },
      "source": [
        "X_train, X_test, y_train, y_test = train_test_split(bank_data,bank_target,test_size=0.3)"
      ],
      "execution_count": null,
      "outputs": []
    },
    {
      "cell_type": "markdown",
      "metadata": {
        "id": "ht8QRH9oj9bJ"
      },
      "source": [
        "# 3. max_depth em Ação"
      ]
    },
    {
      "cell_type": "markdown",
      "metadata": {
        "id": "Fa_HZ2k0j9bK"
      },
      "source": [
        "**Função para treinar o modelo com parâmetro max_depth**"
      ]
    },
    {
      "cell_type": "code",
      "metadata": {
        "id": "r-pDJFuHj9bL"
      },
      "source": [
        "# max_depth controla profundidade, logo a complexidade da árvore)\n",
        "def compara_modelos(maxdepth): # o parâmetro é o próprio valor de maxdepth\n",
        "    if maxdepth == 0: # se maxdepth for igual a zero\n",
        "        dt = tree.DecisionTreeClassifier(random_state=1)# a árvore vai crescer até todas as folha se tornem puras\n",
        "    else:   \n",
        "        dt = tree.DecisionTreeClassifier(random_state=1, max_depth=maxdepth) # se diferente de 0\n",
        "    dt.fit(X_train, y_train) # vai ser treinado\n",
        "    train_score = dt.score(X_train, y_train) # score do treino\n",
        "    test_score = dt.score(X_test, y_test) # score do teste\n",
        "    return train_score,test_score # retorno dos scores\n",
        "# quanto mais destoantes os valores, mais inviesado está"
      ],
      "execution_count": null,
      "outputs": []
    },
    {
      "cell_type": "code",
      "metadata": {
        "id": "ALhIAyNLj9bQ",
        "outputId": "92947c84-7f4a-49c5-b51f-344e94ef4317"
      },
      "source": [
        "compara_modelos(0) # totalmente enviesado"
      ],
      "execution_count": null,
      "outputs": [
        {
          "output_type": "execute_result",
          "data": {
            "text/plain": [
              "(1.0, 0.7294714840250821)"
            ]
          },
          "metadata": {
            "tags": []
          },
          "execution_count": 6
        }
      ]
    },
    {
      "cell_type": "code",
      "metadata": {
        "id": "0osgXsSRj9bU",
        "outputId": "96a6f54d-21df-4f10-f197-860df761800c"
      },
      "source": [
        "compara_modelos(2) # bom resultado, pois está parecido nos resultados"
      ],
      "execution_count": null,
      "outputs": [
        {
          "output_type": "execute_result",
          "data": {
            "text/plain": [
              "(0.7436324075259183, 0.7521648253209914)"
            ]
          },
          "metadata": {
            "tags": []
          },
          "execution_count": 7
        }
      ]
    },
    {
      "cell_type": "code",
      "metadata": {
        "id": "FCAMTMIYj9bZ",
        "outputId": "27b1c868-9adc-427a-aef9-2533dccf645f"
      },
      "source": [
        "compara_modelos(10) # começando a sofrer overfitting"
      ],
      "execution_count": null,
      "outputs": [
        {
          "output_type": "execute_result",
          "data": {
            "text/plain": [
              "(0.8633047484960963, 0.7817258883248731)"
            ]
          },
          "metadata": {
            "tags": []
          },
          "execution_count": 8
        }
      ]
    },
    {
      "cell_type": "code",
      "metadata": {
        "id": "iikY-Nr7j9be",
        "outputId": "fc260936-e8df-4549-b6fa-cee28b7f8d53"
      },
      "source": [
        "print('{:10} {:20} {:20}'.format('depth', 'Training score','Testing score'))\n",
        "print('{:10} {:20} {:20}'.format('-----', '--------------','-------------'))\n",
        "print('{:1}         {} '.format(2,str(compara_modelos(2))))\n",
        "print('{:1}         {} '.format(3,str(compara_modelos(3))))\n",
        "print('{:1}         {} '.format(4,str(compara_modelos(4))))\n",
        "print('{:1}         {} '.format(10,str(compara_modelos(10))))\n",
        "print('{:1}         {} '.format(15,str(compara_modelos(15))))\n",
        "print('{:1}         {} '.format('Full',str(compara_modelos(0))))"
      ],
      "execution_count": null,
      "outputs": [
        {
          "output_type": "stream",
          "text": [
            "depth      Training score       Testing score       \n",
            "-----      --------------       -------------       \n",
            "2         (0.7436324075259183, 0.7521648253209914) \n",
            "3         (0.7541277358249072, 0.7596297402209615) \n",
            "4         (0.7811340074235249, 0.7871006270528516) \n",
            "10         (0.8633047484960963, 0.7817258883248731) \n",
            "15         (0.9376679892486881, 0.7509704389369961) \n",
            "Full         (1.0, 0.7294714840250821) \n"
          ],
          "name": "stdout"
        }
      ]
    },
    {
      "cell_type": "markdown",
      "metadata": {
        "id": "rAAu5gbhj9bo"
      },
      "source": [
        "Veja o quanto somente um parâmetro já traz bastante influência sobre o modelo.\n",
        "* `max_depth=0` trouxe um modelo totalmente enviesado.\n",
        "* `max_depth=2` já trouxe um modelo onde o resultado mostra que não há mais overfitting.\n",
        "* `max_depth=10` já está iniciando o overfitting novamente.\n",
        "\n",
        "Logo algo entre o `max_depth=2` e o `max_depth=10` será o melhor para o modelo. Cabe ao **Cientista de Dados** *avaliar* isso. Em nossa avaliação o `max_depth=4` foi o melhor pois trouxe melhor valor com menor variação entre o *treino* e *teste*."
      ]
    },
    {
      "cell_type": "markdown",
      "metadata": {
        "id": "JU9z1Dt6j9bq"
      },
      "source": [
        "# 4. Treinando o modelo com o `max_depth=4`"
      ]
    },
    {
      "cell_type": "markdown",
      "metadata": {
        "id": "s0bvu2saj9bs"
      },
      "source": [
        "**Verificando as features mais importantes para o modelo de arvore de decisão treinado**"
      ]
    },
    {
      "cell_type": "code",
      "metadata": {
        "id": "O-DxpS27j9bt",
        "outputId": "4e974ec5-4cfd-4729-9ecd-c5840464ed27"
      },
      "source": [
        "# Treinando o modelo utilizando o valor de max_depth igual a 4\n",
        "dt = tree.DecisionTreeClassifier(max_depth=4)\n",
        "dt.fit(X_train, y_train)"
      ],
      "execution_count": null,
      "outputs": [
        {
          "output_type": "execute_result",
          "data": {
            "text/plain": [
              "DecisionTreeClassifier(max_depth=4)"
            ]
          },
          "metadata": {
            "tags": []
          },
          "execution_count": 10
        }
      ]
    },
    {
      "cell_type": "markdown",
      "metadata": {
        "id": "c1eow3k6j9b5"
      },
      "source": [
        "# 5. Features mais Importantes"
      ]
    },
    {
      "cell_type": "markdown",
      "metadata": {
        "id": "XkwWRC3vj9b9"
      },
      "source": [
        "**Array com nivel de importância**"
      ]
    },
    {
      "cell_type": "code",
      "metadata": {
        "id": "1vQ4P6_yj9b_",
        "outputId": "fcd77fd2-1ec0-453a-d80d-32f5ea85e337"
      },
      "source": [
        "dt.feature_importances_"
      ],
      "execution_count": null,
      "outputs": [
        {
          "output_type": "execute_result",
          "data": {
            "text/plain": [
              "array([0.00182625, 0.        , 0.65146397, 0.        , 0.00118913,\n",
              "       0.        , 0.10680385, 0.        , 0.        , 0.        ,\n",
              "       0.        , 0.        , 0.        , 0.        , 0.        ,\n",
              "       0.        , 0.        , 0.        , 0.        , 0.        ,\n",
              "       0.        , 0.        , 0.        , 0.        , 0.2387168 ,\n",
              "       0.        ])"
            ]
          },
          "metadata": {
            "tags": []
          },
          "execution_count": 11
        }
      ]
    },
    {
      "cell_type": "markdown",
      "metadata": {
        "id": "I1forUScj9cI"
      },
      "source": [
        "**Valor por Features**"
      ]
    },
    {
      "cell_type": "code",
      "metadata": {
        "id": "LeXAA7M9j9cJ",
        "outputId": "bcd7d3c7-9cc6-45a1-d1e2-815b77e2d7d1"
      },
      "source": [
        "# Listando as features e sua importância para o modelo\n",
        "fi = dt.feature_importances_\n",
        "l = len(bank.columns)\n",
        "for i in range(0,len(bank.columns)-1):\n",
        "    print('{:.<20} {:3}'.format(bank.columns[i], fi[i]))\n",
        "    \n",
        "# pode ser um inicio para avaliar a seleção de features e exclusão daquelas que não influenciam\n",
        "# mas utilizar outras abordagens também"
      ],
      "execution_count": null,
      "outputs": [
        {
          "output_type": "stream",
          "text": [
            "age................. 0.001826248606772142\n",
            "balance............. 0.0\n",
            "duration............ 0.6514639741246763\n",
            "campaign............ 0.0\n",
            "previous............ 0.0011891261061955417\n",
            "default_cat......... 0.0\n",
            "housing_cat......... 0.10680384670752929\n",
            "loan_cat............ 0.0\n",
            "recent_pdays........ 0.0\n",
            "deposit_cat......... 0.0\n",
            "job_blue-collar..... 0.0\n",
            "job_entrepreneur.... 0.0\n",
            "job_other........... 0.0\n",
            "job_pink-collar..... 0.0\n",
            "job_self-employed... 0.0\n",
            "job_technician...... 0.0\n",
            "job_white-collar.... 0.0\n",
            "marital_divorced.... 0.0\n",
            "marital_married..... 0.0\n",
            "marital_single...... 0.0\n",
            "education_primary... 0.0\n",
            "education_secondary. 0.0\n",
            "education_tertiary.. 0.0\n",
            "education_unknown... 0.0\n",
            "poutcome_failure.... 0.23871680445482674\n",
            "poutcome_success.... 0.0\n"
          ],
          "name": "stdout"
        }
      ]
    },
    {
      "cell_type": "markdown",
      "metadata": {
        "id": "ItKzjhfzkqU_"
      },
      "source": [
        "# Obrigado!\n",
        "\n",
        "Obrigado por ter disponibilizado um pouco do seu tempo e atenção aqui. Espero que, de alguma forma, tenha sido útil para seu crescimento. Se houver qualquer dúvida ou sugestão, não hesite em entrar em contato no [LinkedIn]((https://www.linkedin.com/in/daniel-sousa-amador)) e verificar meus outros projetos no [GitHub](https://github.com/danielamador12/Portfolio/blob/master/README.md).\n",
        "\n",
        "[![LinkedIn](https://img.shields.io/badge/LinkedIn-DanielSousaAmador-purple.svg)](https://www.linkedin.com/in/daniel-sousa-amador)\n",
        "[![GitHub](https://img.shields.io/badge/GitHub-danielamador12-darkblue.svg)](https://github.com/danielamador12)\n",
        "[![Medium](https://img.shields.io/badge/Medium-DanielSousaAmador-darkorange.svg)](https://medium.com/@daniel.s.amador)\n",
        "\n",
        "\n",
        "\n",
        "<center><img width=\"90%\" src=\"https://raw.githubusercontent.com/danielamador12/Portfolio/master/github.png\"></center>"
      ]
    }
  ]
}