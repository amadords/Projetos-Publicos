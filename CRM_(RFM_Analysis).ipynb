{
  "nbformat": 4,
  "nbformat_minor": 0,
  "metadata": {
    "colab": {
      "name": "CRM (RFM Analysis)",
      "provenance": [],
      "collapsed_sections": [],
      "authorship_tag": "ABX9TyOShtABhuGwttYcKscuG28n",
      "include_colab_link": true
    },
    "kernelspec": {
      "name": "python3",
      "display_name": "Python 3"
    }
  },
  "cells": [
    {
      "cell_type": "markdown",
      "metadata": {
        "id": "view-in-github",
        "colab_type": "text"
      },
      "source": [
        "<a href=\"https://colab.research.google.com/github/amadords/Projetos-Publicos/blob/master/CRM_(RFM_Analysis).ipynb\" target=\"_parent\"><img src=\"https://colab.research.google.com/assets/colab-badge.svg\" alt=\"Open In Colab\"/></a>"
      ]
    },
    {
      "cell_type": "markdown",
      "metadata": {
        "id": "hP_EZFhOSl2D"
      },
      "source": [
        "# **CRM (RFM Analysis)**\n",
        "---\n",
        "\n",
        "\n",
        "\n",
        "[![LinkedIn](https://img.shields.io/badge/LinkedIn-DanielSousaAmador-cyan.svg)](https://www.linkedin.com/in/daniel-sousa-amador)\n",
        "[![GitHub](https://img.shields.io/badge/GitHub-amadords-darkblue.svg)](https://github.com/amadords)\n",
        "[![Medium](https://img.shields.io/badge/Medium-DanielSousaAmador-white.svg)](https://daniel-s-amador.medium.com/)\n",
        "\n",
        "\n",
        "![img](https://image.freepik.com/vetores-gratis/conceito-de-ilustracao-isometrica-de-solucao-de-crm_108061-581.jpg)\n",
        "\n",
        "O presente material serve como material de apoio para o artigo do medium [CRM e Ciência de Dados]().\n",
        "\n",
        "É uma tradução livre do material, em inglês, que pode ser visualizado [aqui](https://www.kaggle.com/nihandincer/customer-relationship-management-crm)."
      ]
    },
    {
      "cell_type": "markdown",
      "metadata": {
        "id": "K-gzbp6cLhz9"
      },
      "source": [
        "### **O que é CRM?**\n",
        "\n",
        "\n",
        "O gerenciamento de relacionamento com o cliente (CRM) é a combinação de práticas, estratégias e tecnologias que as empresas usam para gerenciar e analisar as interações e dados do cliente ao longo do ciclo de vida do cliente. \n",
        "\n",
        "O CRM Tenta entender o perfil do cliente da empresa e se comunicar de acordo com esses perfis. Além disso, objetiva ganhar novos clientes além dos clientes existentes.\n",
        "\n",
        "Análise de clientes, localização de públicos pertencentes a determinados comportamentos e organização de campanhas adequadas a esse público com o software CRM são algumas das muitas práticas feitas dentro desse contexto e fazem o cliente se sentir especial,\n",
        "\n",
        "Neste estudo, criaremos o CRM com o RFM e depois CLTV."
      ]
    },
    {
      "cell_type": "markdown",
      "metadata": {
        "id": "4of2FjBhLkvQ"
      },
      "source": [
        "### **Conteúdo do conjunto de dados**\n",
        "\n",
        "Este conjunto de dados do Varejo Online II contém todas as transações ocorridas para um varejo on-line registrado e não registrado no Reino Unido entre 01/12/2009 e 09/12/2011. \n",
        "\n",
        "A empresa vende principalmente artigos de presente exclusivos para todas as ocasiões. Muitos clientes da empresa são atacadistas."
      ]
    },
    {
      "cell_type": "markdown",
      "metadata": {
        "id": "tyx66vJFLm7e"
      },
      "source": [
        "### **Dicionário de variáveis**\n",
        "\n",
        "* `Invoice` -  Número da fatura. Número único para cada fatura. Se este código começar com C, indica que a transação foi cancelada.\n",
        "\n",
        "* `StockCode` - Código do produto. Número único para cada produto.\n",
        "\n",
        "* `Description` - Nome do produto\n",
        "\n",
        "* `Quantity` - Número de itens. Indica quantos produtos nas faturas são vendidos.\n",
        "\n",
        "* `InvoiceDate` - Data e hora da fatura.\n",
        "\n",
        "* `Price` -  Preço do item\n",
        "\n",
        "* `CustomerID` - Número de cliente único\n",
        "\n",
        "* `Country` -  Nome do país. O país onde o cliente mora."
      ]
    },
    {
      "cell_type": "markdown",
      "metadata": {
        "id": "9Tq6DQCwnQeK"
      },
      "source": [
        "**Instalação de bibliotecas**"
      ]
    },
    {
      "cell_type": "code",
      "metadata": {
        "id": "YKx_6m51BJ-C",
        "colab": {
          "base_uri": "https://localhost:8080/"
        },
        "outputId": "deb3f128-6d1a-4898-c005-c8fade3e71d1"
      },
      "source": [
        "!pip install xlrd -q\n",
        "!pip install openpyxl -q\n",
        "!pip install lifetimes -q\n",
        "import pandas as pd\n",
        "import numpy as np\n",
        "import matplotlib.pyplot as plt\n",
        "import datetime as dt\n",
        "import seaborn as sns\n",
        "import missingno as msno\n",
        "from sklearn.preprocessing import MinMaxScaler\n",
        "from lifetimes import BetaGeoFitter\n",
        "from lifetimes import GammaGammaFitter\n",
        "from lifetimes.plotting import plot_period_transactions\n",
        "import warnings\n",
        "warnings.filterwarnings(\"ignore\")"
      ],
      "execution_count": null,
      "outputs": [
        {
          "output_type": "stream",
          "text": [
            "\u001b[?25l\r\u001b[K     |▋                               | 10kB 16.1MB/s eta 0:00:01\r\u001b[K     |█▏                              | 20kB 10.5MB/s eta 0:00:01\r\u001b[K     |█▊                              | 30kB 9.1MB/s eta 0:00:01\r\u001b[K     |██▎                             | 40kB 7.2MB/s eta 0:00:01\r\u001b[K     |██▉                             | 51kB 4.6MB/s eta 0:00:01\r\u001b[K     |███▍                            | 61kB 5.1MB/s eta 0:00:01\r\u001b[K     |████                            | 71kB 5.1MB/s eta 0:00:01\r\u001b[K     |████▌                           | 81kB 5.3MB/s eta 0:00:01\r\u001b[K     |█████                           | 92kB 5.7MB/s eta 0:00:01\r\u001b[K     |█████▋                          | 102kB 5.7MB/s eta 0:00:01\r\u001b[K     |██████▏                         | 112kB 5.7MB/s eta 0:00:01\r\u001b[K     |██████▊                         | 122kB 5.7MB/s eta 0:00:01\r\u001b[K     |███████▎                        | 133kB 5.7MB/s eta 0:00:01\r\u001b[K     |███████▉                        | 143kB 5.7MB/s eta 0:00:01\r\u001b[K     |████████▍                       | 153kB 5.7MB/s eta 0:00:01\r\u001b[K     |█████████                       | 163kB 5.7MB/s eta 0:00:01\r\u001b[K     |█████████▌                      | 174kB 5.7MB/s eta 0:00:01\r\u001b[K     |██████████                      | 184kB 5.7MB/s eta 0:00:01\r\u001b[K     |██████████▋                     | 194kB 5.7MB/s eta 0:00:01\r\u001b[K     |███████████▏                    | 204kB 5.7MB/s eta 0:00:01\r\u001b[K     |███████████▉                    | 215kB 5.7MB/s eta 0:00:01\r\u001b[K     |████████████▍                   | 225kB 5.7MB/s eta 0:00:01\r\u001b[K     |█████████████                   | 235kB 5.7MB/s eta 0:00:01\r\u001b[K     |█████████████▌                  | 245kB 5.7MB/s eta 0:00:01\r\u001b[K     |██████████████                  | 256kB 5.7MB/s eta 0:00:01\r\u001b[K     |██████████████▋                 | 266kB 5.7MB/s eta 0:00:01\r\u001b[K     |███████████████▏                | 276kB 5.7MB/s eta 0:00:01\r\u001b[K     |███████████████▊                | 286kB 5.7MB/s eta 0:00:01\r\u001b[K     |████████████████▎               | 296kB 5.7MB/s eta 0:00:01\r\u001b[K     |████████████████▉               | 307kB 5.7MB/s eta 0:00:01\r\u001b[K     |█████████████████▍              | 317kB 5.7MB/s eta 0:00:01\r\u001b[K     |██████████████████              | 327kB 5.7MB/s eta 0:00:01\r\u001b[K     |██████████████████▌             | 337kB 5.7MB/s eta 0:00:01\r\u001b[K     |███████████████████             | 348kB 5.7MB/s eta 0:00:01\r\u001b[K     |███████████████████▋            | 358kB 5.7MB/s eta 0:00:01\r\u001b[K     |████████████████████▏           | 368kB 5.7MB/s eta 0:00:01\r\u001b[K     |████████████████████▊           | 378kB 5.7MB/s eta 0:00:01\r\u001b[K     |█████████████████████▎          | 389kB 5.7MB/s eta 0:00:01\r\u001b[K     |█████████████████████▉          | 399kB 5.7MB/s eta 0:00:01\r\u001b[K     |██████████████████████▍         | 409kB 5.7MB/s eta 0:00:01\r\u001b[K     |███████████████████████         | 419kB 5.7MB/s eta 0:00:01\r\u001b[K     |███████████████████████▋        | 430kB 5.7MB/s eta 0:00:01\r\u001b[K     |████████████████████████▏       | 440kB 5.7MB/s eta 0:00:01\r\u001b[K     |████████████████████████▊       | 450kB 5.7MB/s eta 0:00:01\r\u001b[K     |█████████████████████████▎      | 460kB 5.7MB/s eta 0:00:01\r\u001b[K     |█████████████████████████▉      | 471kB 5.7MB/s eta 0:00:01\r\u001b[K     |██████████████████████████▍     | 481kB 5.7MB/s eta 0:00:01\r\u001b[K     |███████████████████████████     | 491kB 5.7MB/s eta 0:00:01\r\u001b[K     |███████████████████████████▌    | 501kB 5.7MB/s eta 0:00:01\r\u001b[K     |████████████████████████████    | 512kB 5.7MB/s eta 0:00:01\r\u001b[K     |████████████████████████████▋   | 522kB 5.7MB/s eta 0:00:01\r\u001b[K     |█████████████████████████████▏  | 532kB 5.7MB/s eta 0:00:01\r\u001b[K     |█████████████████████████████▊  | 542kB 5.7MB/s eta 0:00:01\r\u001b[K     |██████████████████████████████▎ | 552kB 5.7MB/s eta 0:00:01\r\u001b[K     |██████████████████████████████▉ | 563kB 5.7MB/s eta 0:00:01\r\u001b[K     |███████████████████████████████▍| 573kB 5.7MB/s eta 0:00:01\r\u001b[K     |████████████████████████████████| 583kB 5.7MB/s eta 0:00:01\r\u001b[K     |████████████████████████████████| 593kB 5.7MB/s \n",
            "\u001b[?25h"
          ],
          "name": "stdout"
        }
      ]
    },
    {
      "cell_type": "markdown",
      "metadata": {
        "id": "Ie2IKpvBngvx"
      },
      "source": [
        "**Carregando a base de dados**"
      ]
    },
    {
      "cell_type": "code",
      "metadata": {
        "id": "b_aeQ-UhBMBb"
      },
      "source": [
        "PATH = 'https://www.dropbox.com/s/3agu97zwezok8qf/CRM.xlsx?dl=1'\n",
        "\n",
        "df_original = pd.read_excel(PATH, sheet_name = \"Year 2009-2010\")"
      ],
      "execution_count": null,
      "outputs": []
    },
    {
      "cell_type": "markdown",
      "metadata": {
        "id": "trtJzXNXnkt_"
      },
      "source": [
        "**Fazendo cópia dos dados**"
      ]
    },
    {
      "cell_type": "code",
      "metadata": {
        "id": "ukIJ9iShKqwC"
      },
      "source": [
        "df = df_original.copy()"
      ],
      "execution_count": null,
      "outputs": []
    },
    {
      "cell_type": "markdown",
      "metadata": {
        "id": "k52BQYjOnnMn"
      },
      "source": [
        "**Lendo as primeiras entradas**"
      ]
    },
    {
      "cell_type": "code",
      "metadata": {
        "colab": {
          "base_uri": "https://localhost:8080/",
          "height": 206
        },
        "id": "MvjBJzVFDqfZ",
        "outputId": "99ce1e4a-68f5-4506-a7d3-8f7e4634ba41"
      },
      "source": [
        "df.head()"
      ],
      "execution_count": null,
      "outputs": [
        {
          "output_type": "execute_result",
          "data": {
            "text/html": [
              "<div>\n",
              "<style scoped>\n",
              "    .dataframe tbody tr th:only-of-type {\n",
              "        vertical-align: middle;\n",
              "    }\n",
              "\n",
              "    .dataframe tbody tr th {\n",
              "        vertical-align: top;\n",
              "    }\n",
              "\n",
              "    .dataframe thead th {\n",
              "        text-align: right;\n",
              "    }\n",
              "</style>\n",
              "<table border=\"1\" class=\"dataframe\">\n",
              "  <thead>\n",
              "    <tr style=\"text-align: right;\">\n",
              "      <th></th>\n",
              "      <th>Invoice</th>\n",
              "      <th>StockCode</th>\n",
              "      <th>Description</th>\n",
              "      <th>Quantity</th>\n",
              "      <th>InvoiceDate</th>\n",
              "      <th>Price</th>\n",
              "      <th>Customer ID</th>\n",
              "      <th>Country</th>\n",
              "    </tr>\n",
              "  </thead>\n",
              "  <tbody>\n",
              "    <tr>\n",
              "      <th>0</th>\n",
              "      <td>489434</td>\n",
              "      <td>85048</td>\n",
              "      <td>15CM CHRISTMAS GLASS BALL 20 LIGHTS</td>\n",
              "      <td>12</td>\n",
              "      <td>2009-12-01 07:45:00</td>\n",
              "      <td>6.95</td>\n",
              "      <td>13085.0</td>\n",
              "      <td>United Kingdom</td>\n",
              "    </tr>\n",
              "    <tr>\n",
              "      <th>1</th>\n",
              "      <td>489434</td>\n",
              "      <td>79323P</td>\n",
              "      <td>PINK CHERRY LIGHTS</td>\n",
              "      <td>12</td>\n",
              "      <td>2009-12-01 07:45:00</td>\n",
              "      <td>6.75</td>\n",
              "      <td>13085.0</td>\n",
              "      <td>United Kingdom</td>\n",
              "    </tr>\n",
              "    <tr>\n",
              "      <th>2</th>\n",
              "      <td>489434</td>\n",
              "      <td>79323W</td>\n",
              "      <td>WHITE CHERRY LIGHTS</td>\n",
              "      <td>12</td>\n",
              "      <td>2009-12-01 07:45:00</td>\n",
              "      <td>6.75</td>\n",
              "      <td>13085.0</td>\n",
              "      <td>United Kingdom</td>\n",
              "    </tr>\n",
              "    <tr>\n",
              "      <th>3</th>\n",
              "      <td>489434</td>\n",
              "      <td>22041</td>\n",
              "      <td>RECORD FRAME 7\" SINGLE SIZE</td>\n",
              "      <td>48</td>\n",
              "      <td>2009-12-01 07:45:00</td>\n",
              "      <td>2.10</td>\n",
              "      <td>13085.0</td>\n",
              "      <td>United Kingdom</td>\n",
              "    </tr>\n",
              "    <tr>\n",
              "      <th>4</th>\n",
              "      <td>489434</td>\n",
              "      <td>21232</td>\n",
              "      <td>STRAWBERRY CERAMIC TRINKET BOX</td>\n",
              "      <td>24</td>\n",
              "      <td>2009-12-01 07:45:00</td>\n",
              "      <td>1.25</td>\n",
              "      <td>13085.0</td>\n",
              "      <td>United Kingdom</td>\n",
              "    </tr>\n",
              "  </tbody>\n",
              "</table>\n",
              "</div>"
            ],
            "text/plain": [
              "  Invoice StockCode  ... Customer ID         Country\n",
              "0  489434     85048  ...     13085.0  United Kingdom\n",
              "1  489434    79323P  ...     13085.0  United Kingdom\n",
              "2  489434    79323W  ...     13085.0  United Kingdom\n",
              "3  489434     22041  ...     13085.0  United Kingdom\n",
              "4  489434     21232  ...     13085.0  United Kingdom\n",
              "\n",
              "[5 rows x 8 columns]"
            ]
          },
          "metadata": {
            "tags": []
          },
          "execution_count": 4
        }
      ]
    },
    {
      "cell_type": "markdown",
      "metadata": {
        "id": "htmWnumGnr_E"
      },
      "source": [
        "**Visualizando o tamanho da base de dados**"
      ]
    },
    {
      "cell_type": "code",
      "metadata": {
        "colab": {
          "base_uri": "https://localhost:8080/"
        },
        "id": "_-IqdjNKEgwW",
        "outputId": "b8b28a85-e5c6-40a6-f778-b94bd5c23d9d"
      },
      "source": [
        "df.shape"
      ],
      "execution_count": null,
      "outputs": [
        {
          "output_type": "execute_result",
          "data": {
            "text/plain": [
              "(525461, 8)"
            ]
          },
          "metadata": {
            "tags": []
          },
          "execution_count": 5
        }
      ]
    },
    {
      "cell_type": "markdown",
      "metadata": {
        "id": "lI0Q9KY8nwHz"
      },
      "source": [
        "**Atributos estatísticos (variáveis numéricas)**"
      ]
    },
    {
      "cell_type": "code",
      "metadata": {
        "colab": {
          "base_uri": "https://localhost:8080/",
          "height": 300
        },
        "id": "Dpl05JgkEn75",
        "outputId": "a1ce96a6-daf9-43f2-ea14-04894eeaaba8"
      },
      "source": [
        "df.describe()"
      ],
      "execution_count": null,
      "outputs": [
        {
          "output_type": "execute_result",
          "data": {
            "text/html": [
              "<div>\n",
              "<style scoped>\n",
              "    .dataframe tbody tr th:only-of-type {\n",
              "        vertical-align: middle;\n",
              "    }\n",
              "\n",
              "    .dataframe tbody tr th {\n",
              "        vertical-align: top;\n",
              "    }\n",
              "\n",
              "    .dataframe thead th {\n",
              "        text-align: right;\n",
              "    }\n",
              "</style>\n",
              "<table border=\"1\" class=\"dataframe\">\n",
              "  <thead>\n",
              "    <tr style=\"text-align: right;\">\n",
              "      <th></th>\n",
              "      <th>Quantity</th>\n",
              "      <th>Price</th>\n",
              "      <th>Customer ID</th>\n",
              "    </tr>\n",
              "  </thead>\n",
              "  <tbody>\n",
              "    <tr>\n",
              "      <th>count</th>\n",
              "      <td>525461.000000</td>\n",
              "      <td>525461.000000</td>\n",
              "      <td>417534.000000</td>\n",
              "    </tr>\n",
              "    <tr>\n",
              "      <th>mean</th>\n",
              "      <td>10.337667</td>\n",
              "      <td>4.688834</td>\n",
              "      <td>15360.645478</td>\n",
              "    </tr>\n",
              "    <tr>\n",
              "      <th>std</th>\n",
              "      <td>107.424110</td>\n",
              "      <td>146.126914</td>\n",
              "      <td>1680.811316</td>\n",
              "    </tr>\n",
              "    <tr>\n",
              "      <th>min</th>\n",
              "      <td>-9600.000000</td>\n",
              "      <td>-53594.360000</td>\n",
              "      <td>12346.000000</td>\n",
              "    </tr>\n",
              "    <tr>\n",
              "      <th>25%</th>\n",
              "      <td>1.000000</td>\n",
              "      <td>1.250000</td>\n",
              "      <td>13983.000000</td>\n",
              "    </tr>\n",
              "    <tr>\n",
              "      <th>50%</th>\n",
              "      <td>3.000000</td>\n",
              "      <td>2.100000</td>\n",
              "      <td>15311.000000</td>\n",
              "    </tr>\n",
              "    <tr>\n",
              "      <th>75%</th>\n",
              "      <td>10.000000</td>\n",
              "      <td>4.210000</td>\n",
              "      <td>16799.000000</td>\n",
              "    </tr>\n",
              "    <tr>\n",
              "      <th>max</th>\n",
              "      <td>19152.000000</td>\n",
              "      <td>25111.090000</td>\n",
              "      <td>18287.000000</td>\n",
              "    </tr>\n",
              "  </tbody>\n",
              "</table>\n",
              "</div>"
            ],
            "text/plain": [
              "            Quantity          Price    Customer ID\n",
              "count  525461.000000  525461.000000  417534.000000\n",
              "mean       10.337667       4.688834   15360.645478\n",
              "std       107.424110     146.126914    1680.811316\n",
              "min     -9600.000000  -53594.360000   12346.000000\n",
              "25%         1.000000       1.250000   13983.000000\n",
              "50%         3.000000       2.100000   15311.000000\n",
              "75%        10.000000       4.210000   16799.000000\n",
              "max     19152.000000   25111.090000   18287.000000"
            ]
          },
          "metadata": {
            "tags": []
          },
          "execution_count": 6
        }
      ]
    },
    {
      "cell_type": "markdown",
      "metadata": {
        "id": "0pN9BUPGn9D9"
      },
      "source": [
        "**Atributos estatísticos (variáveis categóricas)**"
      ]
    },
    {
      "cell_type": "code",
      "metadata": {
        "colab": {
          "base_uri": "https://localhost:8080/",
          "height": 175
        },
        "id": "-8GsM8UuKKML",
        "outputId": "c41686bf-ac40-4c3a-b79f-3c45b79a2fc2"
      },
      "source": [
        "df.describe(include = 'O')"
      ],
      "execution_count": null,
      "outputs": [
        {
          "output_type": "execute_result",
          "data": {
            "text/html": [
              "<div>\n",
              "<style scoped>\n",
              "    .dataframe tbody tr th:only-of-type {\n",
              "        vertical-align: middle;\n",
              "    }\n",
              "\n",
              "    .dataframe tbody tr th {\n",
              "        vertical-align: top;\n",
              "    }\n",
              "\n",
              "    .dataframe thead th {\n",
              "        text-align: right;\n",
              "    }\n",
              "</style>\n",
              "<table border=\"1\" class=\"dataframe\">\n",
              "  <thead>\n",
              "    <tr style=\"text-align: right;\">\n",
              "      <th></th>\n",
              "      <th>Invoice</th>\n",
              "      <th>StockCode</th>\n",
              "      <th>Description</th>\n",
              "      <th>Country</th>\n",
              "    </tr>\n",
              "  </thead>\n",
              "  <tbody>\n",
              "    <tr>\n",
              "      <th>count</th>\n",
              "      <td>525461</td>\n",
              "      <td>525461</td>\n",
              "      <td>522533</td>\n",
              "      <td>525461</td>\n",
              "    </tr>\n",
              "    <tr>\n",
              "      <th>unique</th>\n",
              "      <td>28816</td>\n",
              "      <td>4632</td>\n",
              "      <td>4681</td>\n",
              "      <td>40</td>\n",
              "    </tr>\n",
              "    <tr>\n",
              "      <th>top</th>\n",
              "      <td>537434</td>\n",
              "      <td>85123A</td>\n",
              "      <td>WHITE HANGING HEART T-LIGHT HOLDER</td>\n",
              "      <td>United Kingdom</td>\n",
              "    </tr>\n",
              "    <tr>\n",
              "      <th>freq</th>\n",
              "      <td>675</td>\n",
              "      <td>3516</td>\n",
              "      <td>3549</td>\n",
              "      <td>485852</td>\n",
              "    </tr>\n",
              "  </tbody>\n",
              "</table>\n",
              "</div>"
            ],
            "text/plain": [
              "        Invoice StockCode                         Description         Country\n",
              "count    525461    525461                              522533          525461\n",
              "unique    28816      4632                                4681              40\n",
              "top      537434    85123A  WHITE HANGING HEART T-LIGHT HOLDER  United Kingdom\n",
              "freq        675      3516                                3549          485852"
            ]
          },
          "metadata": {
            "tags": []
          },
          "execution_count": 7
        }
      ]
    },
    {
      "cell_type": "markdown",
      "metadata": {
        "id": "41P8-H3AoJAN"
      },
      "source": [
        "**Colunas da base de dados**"
      ]
    },
    {
      "cell_type": "code",
      "metadata": {
        "colab": {
          "base_uri": "https://localhost:8080/"
        },
        "id": "WpJZVbDEHs4L",
        "outputId": "f20da3d5-9dd3-430c-a764-238c5ab7dc56"
      },
      "source": [
        "df.columns"
      ],
      "execution_count": null,
      "outputs": [
        {
          "output_type": "execute_result",
          "data": {
            "text/plain": [
              "Index(['Invoice', 'StockCode', 'Description', 'Quantity', 'InvoiceDate',\n",
              "       'Price', 'Customer ID', 'Country'],\n",
              "      dtype='object')"
            ]
          },
          "metadata": {
            "tags": []
          },
          "execution_count": 8
        }
      ]
    },
    {
      "cell_type": "markdown",
      "metadata": {
        "id": "GVy-KxkOoL1q"
      },
      "source": [
        "**Criando a função `check_df`**\n",
        "\n",
        "> A função nos retornará informações como o tamanho da base, tipos das variáveis, primeiras e últimas 3 linhas da base de dados, somatório dos valores nulos e os quantis em 0, 0.05, 0.50, 0.95, 0.99 e 1."
      ]
    },
    {
      "cell_type": "code",
      "metadata": {
        "id": "NLlsUPgxIcII"
      },
      "source": [
        "def check_df(dataframe):\n",
        "    print(\"##################### Shape #####################\")\n",
        "    print(dataframe.shape)\n",
        "    print(\"##################### Types #####################\")\n",
        "    print(dataframe.dtypes)\n",
        "    print(\"##################### Head #####################\")\n",
        "    print(dataframe.head(3))\n",
        "    print(\"##################### Tail #####################\")\n",
        "    print(dataframe.tail(3))\n",
        "    print(\"##################### NA #####################\")\n",
        "    print(dataframe.isnull().sum())\n",
        "    print(\"##################### Quantiles #####################\")\n",
        "    print(dataframe.quantile([0, 0.05, 0.50, 0.95, 0.99, 1]).T)"
      ],
      "execution_count": null,
      "outputs": []
    },
    {
      "cell_type": "markdown",
      "metadata": {
        "id": "43C0iT5rrrHC"
      },
      "source": [
        "**Testando a função**"
      ]
    },
    {
      "cell_type": "code",
      "metadata": {
        "colab": {
          "base_uri": "https://localhost:8080/"
        },
        "id": "eGxLzb6hK9hG",
        "outputId": "205f4873-c3e8-4d9c-8f6f-da8ada729864"
      },
      "source": [
        "check_df(df)"
      ],
      "execution_count": null,
      "outputs": [
        {
          "output_type": "stream",
          "text": [
            "##################### Shape #####################\n",
            "(525461, 8)\n",
            "##################### Types #####################\n",
            "Invoice                object\n",
            "StockCode              object\n",
            "Description            object\n",
            "Quantity                int64\n",
            "InvoiceDate    datetime64[ns]\n",
            "Price                 float64\n",
            "Customer ID           float64\n",
            "Country                object\n",
            "dtype: object\n",
            "##################### Head #####################\n",
            "  Invoice StockCode  ... Customer ID         Country\n",
            "0  489434     85048  ...     13085.0  United Kingdom\n",
            "1  489434    79323P  ...     13085.0  United Kingdom\n",
            "2  489434    79323W  ...     13085.0  United Kingdom\n",
            "\n",
            "[3 rows x 8 columns]\n",
            "##################### Tail #####################\n",
            "       Invoice StockCode  ... Customer ID         Country\n",
            "525458  538171     22751  ...     17530.0  United Kingdom\n",
            "525459  538171     20970  ...     17530.0  United Kingdom\n",
            "525460  538171     21931  ...     17530.0  United Kingdom\n",
            "\n",
            "[3 rows x 8 columns]\n",
            "##################### NA #####################\n",
            "Invoice             0\n",
            "StockCode           0\n",
            "Description      2928\n",
            "Quantity            0\n",
            "InvoiceDate         0\n",
            "Price               0\n",
            "Customer ID    107927\n",
            "Country             0\n",
            "dtype: int64\n",
            "##################### Quantiles #####################\n",
            "                 0.00      0.05     0.50      0.95      0.99      1.00\n",
            "Quantity     -9600.00      1.00      3.0     30.00    120.00  19152.00\n",
            "Price       -53594.36      0.42      2.1     10.17     19.95  25111.09\n",
            "Customer ID  12346.00  12725.00  15311.0  17913.00  18196.00  18287.00\n"
          ],
          "name": "stdout"
        }
      ]
    },
    {
      "cell_type": "markdown",
      "metadata": {
        "id": "svE710cGsGrp"
      },
      "source": [
        "**Valores estatísticos para os valores 0, 0.05, 0.50, 0.95, 0.99 e 1**"
      ]
    },
    {
      "cell_type": "code",
      "metadata": {
        "colab": {
          "base_uri": "https://localhost:8080/",
          "height": 143
        },
        "id": "jevDEa3mK_Ek",
        "outputId": "63d25ce1-ac46-4727-c549-6ce16593fb5c"
      },
      "source": [
        "df.describe([0.01,0.25,0.50,0.75,0.99]).T"
      ],
      "execution_count": null,
      "outputs": [
        {
          "output_type": "execute_result",
          "data": {
            "text/html": [
              "<div>\n",
              "<style scoped>\n",
              "    .dataframe tbody tr th:only-of-type {\n",
              "        vertical-align: middle;\n",
              "    }\n",
              "\n",
              "    .dataframe tbody tr th {\n",
              "        vertical-align: top;\n",
              "    }\n",
              "\n",
              "    .dataframe thead th {\n",
              "        text-align: right;\n",
              "    }\n",
              "</style>\n",
              "<table border=\"1\" class=\"dataframe\">\n",
              "  <thead>\n",
              "    <tr style=\"text-align: right;\">\n",
              "      <th></th>\n",
              "      <th>count</th>\n",
              "      <th>mean</th>\n",
              "      <th>std</th>\n",
              "      <th>min</th>\n",
              "      <th>1%</th>\n",
              "      <th>25%</th>\n",
              "      <th>50%</th>\n",
              "      <th>75%</th>\n",
              "      <th>99%</th>\n",
              "      <th>max</th>\n",
              "    </tr>\n",
              "  </thead>\n",
              "  <tbody>\n",
              "    <tr>\n",
              "      <th>Quantity</th>\n",
              "      <td>525461.0</td>\n",
              "      <td>10.337667</td>\n",
              "      <td>107.424110</td>\n",
              "      <td>-9600.00</td>\n",
              "      <td>-3.00</td>\n",
              "      <td>1.00</td>\n",
              "      <td>3.0</td>\n",
              "      <td>10.00</td>\n",
              "      <td>120.00</td>\n",
              "      <td>19152.00</td>\n",
              "    </tr>\n",
              "    <tr>\n",
              "      <th>Price</th>\n",
              "      <td>525461.0</td>\n",
              "      <td>4.688834</td>\n",
              "      <td>146.126914</td>\n",
              "      <td>-53594.36</td>\n",
              "      <td>0.21</td>\n",
              "      <td>1.25</td>\n",
              "      <td>2.1</td>\n",
              "      <td>4.21</td>\n",
              "      <td>19.95</td>\n",
              "      <td>25111.09</td>\n",
              "    </tr>\n",
              "    <tr>\n",
              "      <th>Customer ID</th>\n",
              "      <td>417534.0</td>\n",
              "      <td>15360.645478</td>\n",
              "      <td>1680.811316</td>\n",
              "      <td>12346.00</td>\n",
              "      <td>12435.00</td>\n",
              "      <td>13983.00</td>\n",
              "      <td>15311.0</td>\n",
              "      <td>16799.00</td>\n",
              "      <td>18196.00</td>\n",
              "      <td>18287.00</td>\n",
              "    </tr>\n",
              "  </tbody>\n",
              "</table>\n",
              "</div>"
            ],
            "text/plain": [
              "                count          mean          std  ...       75%       99%       max\n",
              "Quantity     525461.0     10.337667   107.424110  ...     10.00    120.00  19152.00\n",
              "Price        525461.0      4.688834   146.126914  ...      4.21     19.95  25111.09\n",
              "Customer ID  417534.0  15360.645478  1680.811316  ...  16799.00  18196.00  18287.00\n",
              "\n",
              "[3 rows x 10 columns]"
            ]
          },
          "metadata": {
            "tags": []
          },
          "execution_count": 11
        }
      ]
    },
    {
      "cell_type": "markdown",
      "metadata": {
        "id": "mthIFdansXIA"
      },
      "source": [
        "**Visualizando se há correlação específica entre os valores ausentes**\n",
        "\n",
        "> Não há."
      ]
    },
    {
      "cell_type": "code",
      "metadata": {
        "colab": {
          "base_uri": "https://localhost:8080/",
          "height": 776
        },
        "id": "TqUqOtkLLDcw",
        "outputId": "1b143e60-3c1b-4625-a7d2-0719a350fc58"
      },
      "source": [
        "msno.heatmap(df);"
      ],
      "execution_count": null,
      "outputs": [
        {
          "output_type": "display_data",
          "data": {
            "image/png": "[encoded data removed]",
            "text/plain": [
              "<Figure size 1440x864 with 2 Axes>"
            ]
          },
          "metadata": {
            "tags": [],
            "needs_background": "light"
          }
        }
      ]
    },
    {
      "cell_type": "markdown",
      "metadata": {
        "id": "lbR1_ju3soxb"
      },
      "source": [
        "**Boxplot para `Quantity`**"
      ]
    },
    {
      "cell_type": "code",
      "metadata": {
        "colab": {
          "base_uri": "https://localhost:8080/",
          "height": 279
        },
        "id": "gW-BMyYMLIAW",
        "outputId": "41d5c70e-8181-426f-bbe1-40cd6a88e539"
      },
      "source": [
        "sns.boxplot(df[\"Quantity\"]);"
      ],
      "execution_count": null,
      "outputs": [
        {
          "output_type": "display_data",
          "data": {
            "image/png": "[encoded data removed]",
            "text/plain": [
              "<Figure size 432x288 with 1 Axes>"
            ]
          },
          "metadata": {
            "tags": [],
            "needs_background": "light"
          }
        }
      ]
    },
    {
      "cell_type": "markdown",
      "metadata": {
        "id": "gK_86nfusvAi"
      },
      "source": [
        "**Boxplot para `Price`**"
      ]
    },
    {
      "cell_type": "code",
      "metadata": {
        "colab": {
          "base_uri": "https://localhost:8080/",
          "height": 279
        },
        "id": "SEp6lqwGL6r5",
        "outputId": "4e105b28-83d0-4ba5-da3a-2aac2664d81b"
      },
      "source": [
        "sns.boxplot(df[\"Price\"]);"
      ],
      "execution_count": null,
      "outputs": [
        {
          "output_type": "display_data",
          "data": {
            "image/png": "[encoded data removed]",
            "text/plain": [
              "<Figure size 432x288 with 1 Axes>"
            ]
          },
          "metadata": {
            "tags": [],
            "needs_background": "light"
          }
        }
      ]
    },
    {
      "cell_type": "markdown",
      "metadata": {
        "id": "ZOQfXonzsxBK"
      },
      "source": [
        "**Função para retornar limites dos valores ausentes**"
      ]
    },
    {
      "cell_type": "code",
      "metadata": {
        "id": "RxdWldfpL8Q6"
      },
      "source": [
        "def outlier_thresholds(dataframe, variable):\n",
        "    quartile1 = dataframe[variable].quantile(0.01)\n",
        "    quartile3 = dataframe[variable].quantile(0.99)\n",
        "    interquantile_range = quartile3 - quartile1\n",
        "    up_limit = quartile3 + 1.5 * interquantile_range\n",
        "    low_limit = quartile1 - 1.5 * interquantile_range\n",
        "    return low_limit, up_limit"
      ],
      "execution_count": null,
      "outputs": []
    },
    {
      "cell_type": "markdown",
      "metadata": {
        "id": "a6l9cpmos-h4"
      },
      "source": [
        "**Função para fazer o replace já com exclusão dos limites**"
      ]
    },
    {
      "cell_type": "code",
      "metadata": {
        "id": "-iOnt7WrMEOJ"
      },
      "source": [
        "def replace_with_thresholds(dataframe, variable):\n",
        "    low_limit, up_limit = outlier_thresholds(dataframe, variable)\n",
        "    dataframe.loc[(dataframe[variable] > up_limit), variable] = up_limit"
      ],
      "execution_count": null,
      "outputs": []
    },
    {
      "cell_type": "markdown",
      "metadata": {
        "id": "ufxxLHsitZrS"
      },
      "source": [
        "**Fazendo o replace**"
      ]
    },
    {
      "cell_type": "code",
      "metadata": {
        "id": "PGQbvHXBMGMA"
      },
      "source": [
        "replace_with_thresholds(df,\"Quantity\")\n",
        "replace_with_thresholds(df,\"Price\")"
      ],
      "execution_count": null,
      "outputs": []
    },
    {
      "cell_type": "markdown",
      "metadata": {
        "id": "ocn7cAy6tdTb"
      },
      "source": [
        "**Visualizando as variáveis, agora sem outliers**"
      ]
    },
    {
      "cell_type": "code",
      "metadata": {
        "colab": {
          "base_uri": "https://localhost:8080/",
          "height": 143
        },
        "id": "XsAvFJOTMIqq",
        "outputId": "4c55c24a-9d06-409b-c844-7acf8adf312e"
      },
      "source": [
        "df.describe([0.01,0.25,0.50,0.75,0.99]).T"
      ],
      "execution_count": null,
      "outputs": [
        {
          "output_type": "execute_result",
          "data": {
            "text/html": [
              "<div>\n",
              "<style scoped>\n",
              "    .dataframe tbody tr th:only-of-type {\n",
              "        vertical-align: middle;\n",
              "    }\n",
              "\n",
              "    .dataframe tbody tr th {\n",
              "        vertical-align: top;\n",
              "    }\n",
              "\n",
              "    .dataframe thead th {\n",
              "        text-align: right;\n",
              "    }\n",
              "</style>\n",
              "<table border=\"1\" class=\"dataframe\">\n",
              "  <thead>\n",
              "    <tr style=\"text-align: right;\">\n",
              "      <th></th>\n",
              "      <th>count</th>\n",
              "      <th>mean</th>\n",
              "      <th>std</th>\n",
              "      <th>min</th>\n",
              "      <th>1%</th>\n",
              "      <th>25%</th>\n",
              "      <th>50%</th>\n",
              "      <th>75%</th>\n",
              "      <th>99%</th>\n",
              "      <th>max</th>\n",
              "    </tr>\n",
              "  </thead>\n",
              "  <tbody>\n",
              "    <tr>\n",
              "      <th>Quantity</th>\n",
              "      <td>525461.0</td>\n",
              "      <td>8.685688</td>\n",
              "      <td>60.954547</td>\n",
              "      <td>-9600.00</td>\n",
              "      <td>-3.00</td>\n",
              "      <td>1.00</td>\n",
              "      <td>3.0</td>\n",
              "      <td>10.00</td>\n",
              "      <td>120.00</td>\n",
              "      <td>304.50</td>\n",
              "    </tr>\n",
              "    <tr>\n",
              "      <th>Price</th>\n",
              "      <td>525461.0</td>\n",
              "      <td>3.264510</td>\n",
              "      <td>109.822785</td>\n",
              "      <td>-53594.36</td>\n",
              "      <td>0.21</td>\n",
              "      <td>1.25</td>\n",
              "      <td>2.1</td>\n",
              "      <td>4.21</td>\n",
              "      <td>19.95</td>\n",
              "      <td>49.56</td>\n",
              "    </tr>\n",
              "    <tr>\n",
              "      <th>Customer ID</th>\n",
              "      <td>417534.0</td>\n",
              "      <td>15360.645478</td>\n",
              "      <td>1680.811316</td>\n",
              "      <td>12346.00</td>\n",
              "      <td>12435.00</td>\n",
              "      <td>13983.00</td>\n",
              "      <td>15311.0</td>\n",
              "      <td>16799.00</td>\n",
              "      <td>18196.00</td>\n",
              "      <td>18287.00</td>\n",
              "    </tr>\n",
              "  </tbody>\n",
              "</table>\n",
              "</div>"
            ],
            "text/plain": [
              "                count          mean          std  ...       75%       99%       max\n",
              "Quantity     525461.0      8.685688    60.954547  ...     10.00    120.00    304.50\n",
              "Price        525461.0      3.264510   109.822785  ...      4.21     19.95     49.56\n",
              "Customer ID  417534.0  15360.645478  1680.811316  ...  16799.00  18196.00  18287.00\n",
              "\n",
              "[3 rows x 10 columns]"
            ]
          },
          "metadata": {
            "tags": []
          },
          "execution_count": 18
        }
      ]
    },
    {
      "cell_type": "markdown",
      "metadata": {
        "id": "g9IgFcpqMNHv"
      },
      "source": [
        "> Valores faltantes foram deletados. Faturas canceladas não são recebidas e uma nova variável foi criada."
      ]
    },
    {
      "cell_type": "markdown",
      "metadata": {
        "id": "8Ir5ZUGBtni9"
      },
      "source": [
        "**Função para preparar dados**"
      ]
    },
    {
      "cell_type": "code",
      "metadata": {
        "id": "P5k0xQUpMKn1"
      },
      "source": [
        "def crm_data_prep(dataframe):\n",
        "    dataframe.dropna(axis=0, inplace=True)\n",
        "    dataframe = dataframe[~dataframe[\"Invoice\"].str.contains(\"C\", na=False)]\n",
        "    dataframe = dataframe[dataframe[\"Quantity\"] > 0]\n",
        "    dataframe[\"TotalPrice\"] = dataframe[\"Quantity\"] * dataframe[\"Price\"]\n",
        "    return dataframe"
      ],
      "execution_count": null,
      "outputs": []
    },
    {
      "cell_type": "markdown",
      "metadata": {
        "id": "zKFrJJDNttIF"
      },
      "source": [
        "**Checando os dados**"
      ]
    },
    {
      "cell_type": "code",
      "metadata": {
        "colab": {
          "base_uri": "https://localhost:8080/"
        },
        "id": "MV_PNXJDMdnD",
        "outputId": "93fc979b-c248-485f-fbda-df778456eb57"
      },
      "source": [
        "df = crm_data_prep(df)\n",
        "check_df(df)"
      ],
      "execution_count": null,
      "outputs": [
        {
          "output_type": "stream",
          "text": [
            "##################### Shape #####################\n",
            "(407695, 9)\n",
            "##################### Types #####################\n",
            "Invoice                object\n",
            "StockCode              object\n",
            "Description            object\n",
            "Quantity              float64\n",
            "InvoiceDate    datetime64[ns]\n",
            "Price                 float64\n",
            "Customer ID           float64\n",
            "Country                object\n",
            "TotalPrice            float64\n",
            "dtype: object\n",
            "##################### Head #####################\n",
            "  Invoice StockCode  ...         Country  TotalPrice\n",
            "0  489434     85048  ...  United Kingdom        83.4\n",
            "1  489434    79323P  ...  United Kingdom        81.0\n",
            "2  489434    79323W  ...  United Kingdom        81.0\n",
            "\n",
            "[3 rows x 9 columns]\n",
            "##################### Tail #####################\n",
            "       Invoice StockCode  ...         Country  TotalPrice\n",
            "525458  538171     22751  ...  United Kingdom        3.75\n",
            "525459  538171     20970  ...  United Kingdom        7.50\n",
            "525460  538171     21931  ...  United Kingdom        3.90\n",
            "\n",
            "[3 rows x 9 columns]\n",
            "##################### NA #####################\n",
            "Invoice        0\n",
            "StockCode      0\n",
            "Description    0\n",
            "Quantity       0\n",
            "InvoiceDate    0\n",
            "Price          0\n",
            "Customer ID    0\n",
            "Country        0\n",
            "TotalPrice     0\n",
            "dtype: int64\n",
            "##################### Quantiles #####################\n",
            "                0.00      0.05      0.50     0.95      0.99      1.00\n",
            "Quantity         1.0      1.00      5.00     36.0    144.00    304.50\n",
            "Price            0.0      0.42      1.95      8.5     14.95     49.56\n",
            "Customer ID  12346.0  12731.00  15321.00  17913.0  18196.00  18287.00\n",
            "TotalPrice       0.0      1.25     11.90     65.7    180.00   3884.00\n"
          ],
          "name": "stdout"
        }
      ]
    },
    {
      "cell_type": "markdown",
      "metadata": {
        "id": "k-4_qoIYNc5O"
      },
      "source": [
        "**Variáveis após serem removidos os limites dos outliers**"
      ]
    },
    {
      "cell_type": "code",
      "metadata": {
        "colab": {
          "base_uri": "https://localhost:8080/",
          "height": 279
        },
        "id": "OZn-0w8KMfIb",
        "outputId": "376b5637-8640-45e2-90e1-e0c2e50913a0"
      },
      "source": [
        "sns.boxplot(df[\"Quantity\"]);"
      ],
      "execution_count": null,
      "outputs": [
        {
          "output_type": "display_data",
          "data": {
            "image/png": "[encoded data removed]",
            "text/plain": [
              "<Figure size 432x288 with 1 Axes>"
            ]
          },
          "metadata": {
            "tags": [],
            "needs_background": "light"
          }
        }
      ]
    },
    {
      "cell_type": "code",
      "metadata": {
        "colab": {
          "base_uri": "https://localhost:8080/",
          "height": 279
        },
        "id": "xWDIfRjkNfJr",
        "outputId": "19e4a661-795a-44bd-f9f5-25d4b650d79b"
      },
      "source": [
        "sns.boxplot(df[\"Price\"]);"
      ],
      "execution_count": null,
      "outputs": [
        {
          "output_type": "display_data",
          "data": {
            "image/png": "[encoded data removed]",
            "text/plain": [
              "<Figure size 432x288 with 1 Axes>"
            ]
          },
          "metadata": {
            "tags": [],
            "needs_background": "light"
          }
        }
      ]
    },
    {
      "cell_type": "markdown",
      "metadata": {
        "id": "T-rq2vdsNks7"
      },
      "source": [
        "### **RFM**\n",
        "\n",
        "Agora, vamos criar o RFM.\n",
        "\n",
        "![img](https://raw.githubusercontent.com/amadords/images/main/rfm0.png)\n",
        "\n",
        "**O que é RFM?**\n",
        "\n",
        "RFM representa um método usado para medir o valor do cliente. Uma análise RFM pode mostrar quem são os clientes mais valiosos para o seu negócio. Aqueles que compram com mais frequência, com mais frequência e gastam mais. Em primeiro lugar, as métricas que você viu são calculadas."
      ]
    },
    {
      "cell_type": "markdown",
      "metadata": {
        "id": "LeBqCKDQv5G9"
      },
      "source": [
        "**Data da última transação**"
      ]
    },
    {
      "cell_type": "code",
      "metadata": {
        "colab": {
          "base_uri": "https://localhost:8080/"
        },
        "id": "90W22dvXNhrp",
        "outputId": "40ba8430-18ea-4fd5-aba7-af9661d2c109"
      },
      "source": [
        "df[\"InvoiceDate\"].max()"
      ],
      "execution_count": null,
      "outputs": [
        {
          "output_type": "execute_result",
          "data": {
            "text/plain": [
              "Timestamp('2010-12-09 20:01:00')"
            ]
          },
          "metadata": {
            "tags": []
          },
          "execution_count": 23
        }
      ]
    },
    {
      "cell_type": "markdown",
      "metadata": {
        "id": "gOxAFOMYv7__"
      },
      "source": [
        "****"
      ]
    },
    {
      "cell_type": "markdown",
      "metadata": {
        "id": "dj_ZSAj_wqNS"
      },
      "source": [
        "**Criando a função `create_rfm`**\n",
        "\n",
        "> Criará toda a base necessária para transformar os dados com as métricas e scores necessários para se calcular o RFM."
      ]
    },
    {
      "cell_type": "code",
      "metadata": {
        "id": "Ao5W7XZFNzH-"
      },
      "source": [
        "def create_rfm(dataframe):\n",
        "    # Métricas do RFM\n",
        "    \n",
        "\n",
        "    today_date = dt.datetime(2010, 12, 11)\n",
        "\n",
        "    rfm = dataframe.groupby('Customer ID').agg({'InvoiceDate': lambda date: (today_date - date.max()).days,\n",
        "                                                'Invoice': lambda num: num.nunique(),\n",
        "                                                \"TotalPrice\": lambda price: price.sum()})\n",
        "\n",
        "    rfm.columns = ['recency', 'frequency', \"monetary\"]\n",
        "\n",
        "    rfm = rfm[(rfm['monetary'] > 0)]\n",
        "\n",
        "\n",
        "    # Score do RFM\n",
        "    rfm[\"recency_score\"] = pd.qcut(rfm['recency'], 5, labels=[5, 4, 3, 2, 1])\n",
        "    rfm[\"frequency_score\"] = pd.qcut(rfm[\"frequency\"].rank(method=\"first\"), 5, labels=[1, 2, 3, 4, 5])\n",
        "\n",
        "\n",
        "\n",
        "    # Nomeação de segmentos\n",
        "    rfm['rfm_segment'] = rfm['recency_score'].astype(str) + rfm['frequency_score'].astype(str)\n",
        "\n",
        "    seg_map = {\n",
        "        r'[1-2][1-2]': 'hibernating',\n",
        "        r'[1-2][3-4]': 'at_risk',\n",
        "        r'[1-2]5': 'cant_loose',\n",
        "        r'3[1-2]': 'about_to_sleep',\n",
        "        r'33': 'need_attention',\n",
        "        r'[3-4][4-5]': 'loyal_customers',\n",
        "        r'41': 'promising',\n",
        "        r'51': 'new_customers',\n",
        "        r'[4-5][2-3]': 'potential_loyalists',\n",
        "        r'5[4-5]': 'champions'\n",
        "    }\n",
        "\n",
        "    rfm['rfm_segment'] = rfm['rfm_segment'].replace(seg_map, regex=True)\n",
        "    rfm = rfm[[\"recency\", \"frequency\", \"monetary\", \"rfm_segment\"]]\n",
        "    return rfm"
      ],
      "execution_count": null,
      "outputs": []
    },
    {
      "cell_type": "markdown",
      "metadata": {
        "id": "C5cY7RKFwnIe"
      },
      "source": [
        "**Fazendo a transformação**"
      ]
    },
    {
      "cell_type": "code",
      "metadata": {
        "colab": {
          "base_uri": "https://localhost:8080/",
          "height": 238
        },
        "id": "o-ya8HfCN23e",
        "outputId": "1b948694-2e68-406d-caf2-659d2d3de366"
      },
      "source": [
        "rfm = create_rfm(df)\n",
        "rfm.head()"
      ],
      "execution_count": null,
      "outputs": [
        {
          "output_type": "execute_result",
          "data": {
            "text/html": [
              "<div>\n",
              "<style scoped>\n",
              "    .dataframe tbody tr th:only-of-type {\n",
              "        vertical-align: middle;\n",
              "    }\n",
              "\n",
              "    .dataframe tbody tr th {\n",
              "        vertical-align: top;\n",
              "    }\n",
              "\n",
              "    .dataframe thead th {\n",
              "        text-align: right;\n",
              "    }\n",
              "</style>\n",
              "<table border=\"1\" class=\"dataframe\">\n",
              "  <thead>\n",
              "    <tr style=\"text-align: right;\">\n",
              "      <th></th>\n",
              "      <th>recency</th>\n",
              "      <th>frequency</th>\n",
              "      <th>monetary</th>\n",
              "      <th>rfm_segment</th>\n",
              "    </tr>\n",
              "    <tr>\n",
              "      <th>Customer ID</th>\n",
              "      <th></th>\n",
              "      <th></th>\n",
              "      <th></th>\n",
              "      <th></th>\n",
              "    </tr>\n",
              "  </thead>\n",
              "  <tbody>\n",
              "    <tr>\n",
              "      <th>12346.0</th>\n",
              "      <td>165</td>\n",
              "      <td>11</td>\n",
              "      <td>372.86</td>\n",
              "      <td>cant_loose</td>\n",
              "    </tr>\n",
              "    <tr>\n",
              "      <th>12347.0</th>\n",
              "      <td>3</td>\n",
              "      <td>2</td>\n",
              "      <td>1323.32</td>\n",
              "      <td>potential_loyalists</td>\n",
              "    </tr>\n",
              "    <tr>\n",
              "      <th>12348.0</th>\n",
              "      <td>74</td>\n",
              "      <td>1</td>\n",
              "      <td>222.16</td>\n",
              "      <td>hibernating</td>\n",
              "    </tr>\n",
              "    <tr>\n",
              "      <th>12349.0</th>\n",
              "      <td>43</td>\n",
              "      <td>3</td>\n",
              "      <td>2320.26</td>\n",
              "      <td>need_attention</td>\n",
              "    </tr>\n",
              "    <tr>\n",
              "      <th>12351.0</th>\n",
              "      <td>11</td>\n",
              "      <td>1</td>\n",
              "      <td>300.93</td>\n",
              "      <td>new_customers</td>\n",
              "    </tr>\n",
              "  </tbody>\n",
              "</table>\n",
              "</div>"
            ],
            "text/plain": [
              "             recency  frequency  monetary          rfm_segment\n",
              "Customer ID                                                   \n",
              "12346.0          165         11    372.86           cant_loose\n",
              "12347.0            3          2   1323.32  potential_loyalists\n",
              "12348.0           74          1    222.16          hibernating\n",
              "12349.0           43          3   2320.26       need_attention\n",
              "12351.0           11          1    300.93        new_customers"
            ]
          },
          "metadata": {
            "tags": []
          },
          "execution_count": 25
        }
      ]
    },
    {
      "cell_type": "markdown",
      "metadata": {
        "id": "8NB3vSM0Ob7U"
      },
      "source": [
        "**Criação dos segmentos**\n",
        "\n",
        "> Assim encontraremos respostas para:\n",
        "\n",
        "- Quem é nosso cliente mais lucrativo? \n",
        "\n",
        "- O que eles valorizam em meus produtos ou serviços? \n",
        "\n",
        "- Quem são meus novos clientes?\n",
        "\n",
        "- Como faço para atrair novos clientes para a empresa?\n",
        "\n",
        "As respostas às perguntas estão ocultas na segmentação.\n",
        "\n",
        "> Com uma melhor segmentação RFM, seremos capazes de atender determinados segmentos de forma personalizada, com base em suas necessidades e preferências.\n",
        "\n",
        "**Mapa de visualização das segmentações dos clientes** \n",
        "\n",
        "![img](https://raw.githubusercontent.com/amadords/images/main/rfm1.png)\n",
        "\n",
        "- can't loose them = não pode perdê-los\n",
        "\n",
        "- at risk = em risco\n",
        "\n",
        "- hibernating = hibernando\n",
        "\n",
        "- loyal customers = clientes fiéis \n",
        "\n",
        "- need attention = precisa de atenção\n",
        "\n",
        "- about to sleep = prestes a dormir (sair)\n",
        "\n",
        "- champions = campeões \n",
        "\n",
        "- potential loyalists = potenciais leais\n",
        "\n",
        "- promising = promissor\n",
        "\n",
        "- new customers = novos clientes"
      ]
    },
    {
      "cell_type": "markdown",
      "metadata": {
        "id": "pKeAq1Rexykw"
      },
      "source": [
        "**Visualizando a frequência por segmento**\n",
        "\n",
        "> Visualize os `cant_loose`, `loyal_customers` e `champions` em detrimento dos demais."
      ]
    },
    {
      "cell_type": "code",
      "metadata": {
        "colab": {
          "base_uri": "https://localhost:8080/",
          "height": 444
        },
        "id": "toqbDkZ8OHRr",
        "outputId": "e4e1fd01-a7f1-4b9a-933a-1ea6fe067daf"
      },
      "source": [
        "plt.figure(figsize=(15,7))\n",
        "sns.barplot(x=\"rfm_segment\", y=\"frequency\", data=rfm);"
      ],
      "execution_count": null,
      "outputs": [
        {
          "output_type": "display_data",
          "data": {
            "image/png": "[encoded data removed]",
            "text/plain": [
              "<Figure size 1080x504 with 1 Axes>"
            ]
          },
          "metadata": {
            "tags": [],
            "needs_background": "light"
          }
        }
      ]
    },
    {
      "cell_type": "markdown",
      "metadata": {
        "id": "1vmkCh2ByLJ7"
      },
      "source": [
        "**Checando novamente os dados**"
      ]
    },
    {
      "cell_type": "code",
      "metadata": {
        "colab": {
          "base_uri": "https://localhost:8080/"
        },
        "id": "PxVSDLz9Ox-Y",
        "outputId": "59f11a68-e11d-4ff3-a384-8bf2f2ee6183"
      },
      "source": [
        "check_df(rfm)"
      ],
      "execution_count": null,
      "outputs": [
        {
          "output_type": "stream",
          "text": [
            "##################### Shape #####################\n",
            "(4312, 4)\n",
            "##################### Types #####################\n",
            "recency          int64\n",
            "frequency        int64\n",
            "monetary       float64\n",
            "rfm_segment     object\n",
            "dtype: object\n",
            "##################### Head #####################\n",
            "             recency  frequency  monetary          rfm_segment\n",
            "Customer ID                                                   \n",
            "12346.0          165         11    372.86           cant_loose\n",
            "12347.0            3          2   1323.32  potential_loyalists\n",
            "12348.0           74          1    222.16          hibernating\n",
            "##################### Tail #####################\n",
            "             recency  frequency  monetary      rfm_segment\n",
            "Customer ID                                               \n",
            "18285.0          296          1    426.56      hibernating\n",
            "18286.0          112          2   1295.99          at_risk\n",
            "18287.0           18          4   2345.27  loyal_customers\n",
            "##################### NA #####################\n",
            "recency        0\n",
            "frequency      0\n",
            "monetary       0\n",
            "rfm_segment    0\n",
            "dtype: int64\n",
            "##################### Quantiles #####################\n",
            "           0.00    0.05     0.50      0.95        0.99       1.00\n",
            "recency    1.00    3.00   53.000   304.000    368.0000     374.00\n",
            "frequency  1.00    1.00    2.000    13.000     31.0000     205.00\n",
            "monetary   2.95  106.59  691.215  6008.537  18577.7716  303064.29\n"
          ],
          "name": "stdout"
        }
      ]
    },
    {
      "cell_type": "markdown",
      "metadata": {
        "id": "7YaROJ8aO9Es"
      },
      "source": [
        "### **CLV ou CLTV**\n",
        "\n",
        "> O que é o valor da vida útil do cliente (CLV ou CLTV)?\n",
        "\n",
        "![img](https://raw.githubusercontent.com/amadords/images/main/customer%20life%20value.png)\n",
        "\n",
        "- CLTV é o valor vitalício do cliente. É quanto dinheiro um cliente trará para sua marca durante todo o seu tempo como cliente pagante. É o valor monetário que um cliente dará a uma empresa durante seu relacionamento-comunicação com a empresa.\n",
        "\n",
        "- É basicamente a capacidade de se extrair a situação futura da situação atual do cliente.\n",
        "\n",
        "- Como se faz isso?\n",
        "\n",
        "   - Faremos um cálculo simples e depois adicionaremos o fator de tempo.\n",
        "\n",
        "\n",
        "**CLTV Calculado**\n",
        "\n",
        " - Desta vez, dividimos as pessoas em segmentos A, B, C. (Não deve ser confundido com segmentação rfm.) Vamos lembrar que fazemos cálculos de valores para o tempo de vida.\n",
        "\n",
        "- Os cálculos da tabela foram feitos.\n",
        "\n",
        "- O processo de padronização foi feito para um melhor entendimento."
      ]
    },
    {
      "cell_type": "markdown",
      "metadata": {
        "id": "ILKx14ARy4tZ"
      },
      "source": [
        "**Criando a função `create_cltv_calculated`**\n",
        "\n",
        "> Dentro da função teremos o valor médio do pedido, a frequência de compra, a taxa de repetição e taxa de rotatividade, margem de lucro, valor do cliente e valor de vida do cliente. Além disso aplicaremos o MinMaxScaler para uma melhor visualização."
      ]
    },
    {
      "cell_type": "code",
      "metadata": {
        "id": "m_wGsjxpO3ET"
      },
      "source": [
        "def create_cltv_calculated(dataframe):\n",
        "    # avg_order_value\n",
        "    dataframe['avg_order_value'] = dataframe['monetary'] / dataframe['frequency']\n",
        "\n",
        "    # purchase_frequency\n",
        "    dataframe[\"purchase_frequency\"] = dataframe['frequency'] / dataframe.shape[0]\n",
        "\n",
        "    # repeat rate & churn rate\n",
        "    repeat_rate = dataframe[dataframe.frequency > 1].shape[0] / dataframe.shape[0]\n",
        "    churn_rate = 1 - repeat_rate\n",
        "\n",
        "    # profit_margin\n",
        "    dataframe['profit_margin'] = dataframe['monetary'] * 0.05\n",
        "\n",
        "    # Customer Value\n",
        "    dataframe['cv'] = (dataframe['avg_order_value'] * dataframe[\"purchase_frequency\"])\n",
        "\n",
        "    # Customer Lifetime Value\n",
        "    dataframe['cltv'] = (dataframe['cv'] / churn_rate) * dataframe['profit_margin']\n",
        "\n",
        "    # minmaxscaler\n",
        "    scaler = MinMaxScaler(feature_range=(1, 100))\n",
        "    scaler.fit(dataframe[[\"cltv\"]])\n",
        "    dataframe[\"cltv_calculated\"] = scaler.transform(dataframe[[\"cltv\"]])\n",
        "\n",
        "    dataframe[\"cltv_calculated_segment\"] = pd.qcut(dataframe[\"cltv_calculated\"], 3, labels=[\"C\", \"B\", \"A\"])\n",
        "\n",
        "    dataframe = dataframe[[\"recency\", \"frequency\", \"monetary\", \"rfm_segment\",\n",
        "                           \"cltv_calculated\", \"cltv_calculated_segment\"]]\n",
        "\n",
        "    return dataframe"
      ],
      "execution_count": null,
      "outputs": []
    },
    {
      "cell_type": "markdown",
      "metadata": {
        "id": "uID4CW510DAk"
      },
      "source": [
        "**Aplicação da função**"
      ]
    },
    {
      "cell_type": "code",
      "metadata": {
        "colab": {
          "base_uri": "https://localhost:8080/"
        },
        "id": "7C4aNQZ9PAHu",
        "outputId": "46f12f49-a010-4e32-ce4f-648a099c556f"
      },
      "source": [
        "rfm_cltv = create_cltv_calculated(rfm)\n",
        "check_df(rfm_cltv)"
      ],
      "execution_count": null,
      "outputs": [
        {
          "output_type": "stream",
          "text": [
            "##################### Shape #####################\n",
            "(4312, 6)\n",
            "##################### Types #####################\n",
            "recency                       int64\n",
            "frequency                     int64\n",
            "monetary                    float64\n",
            "rfm_segment                  object\n",
            "cltv_calculated             float64\n",
            "cltv_calculated_segment    category\n",
            "dtype: object\n",
            "##################### Head #####################\n",
            "             recency  frequency  ...  cltv_calculated cltv_calculated_segment\n",
            "Customer ID                      ...                                         \n",
            "12346.0          165         11  ...         1.000150                       C\n",
            "12347.0            3          2  ...         1.001888                       A\n",
            "12348.0           74          1  ...         1.000053                       C\n",
            "\n",
            "[3 rows x 6 columns]\n",
            "##################### Tail #####################\n",
            "             recency  frequency  ...  cltv_calculated cltv_calculated_segment\n",
            "Customer ID                      ...                                         \n",
            "18285.0          296          1  ...         1.000196                       B\n",
            "18286.0          112          2  ...         1.001810                       A\n",
            "18287.0           18          4  ...         1.005929                       A\n",
            "\n",
            "[3 rows x 6 columns]\n",
            "##################### NA #####################\n",
            "recency                    0\n",
            "frequency                  0\n",
            "monetary                   0\n",
            "rfm_segment                0\n",
            "cltv_calculated            0\n",
            "cltv_calculated_segment    0\n",
            "dtype: int64\n",
            "##################### Quantiles #####################\n",
            "                 0.00        0.05  ...          0.99       1.00\n",
            "recency          1.00    3.000000  ...    368.000000     374.00\n",
            "frequency        1.00    1.000000  ...     31.000000     205.00\n",
            "monetary         2.95  106.590000  ...  18577.771600  303064.29\n",
            "cltv_calculated  1.00    1.000012  ...      1.372017     100.00\n",
            "\n",
            "[4 rows x 6 columns]\n"
          ],
          "name": "stdout"
        }
      ]
    },
    {
      "cell_type": "markdown",
      "metadata": {
        "id": "Xbh-L-Ah0Ic0"
      },
      "source": [
        "**Visualizando o cltv por segmentação**\n",
        "\n",
        "> Mais uma vez veja o valor do segmento `champions`."
      ]
    },
    {
      "cell_type": "code",
      "metadata": {
        "colab": {
          "base_uri": "https://localhost:8080/",
          "height": 444
        },
        "id": "zbeYm3ESPC9b",
        "outputId": "f08bf8f6-6ee3-44af-a76b-6797b0cff24d"
      },
      "source": [
        "plt.figure(figsize=(15,7))\n",
        "sns.barplot(x=\"rfm_segment\", y=\"cltv_calculated\", data=rfm_cltv);"
      ],
      "execution_count": null,
      "outputs": [
        {
          "output_type": "display_data",
          "data": {
            "image/png": "[encoded data removed]",
            "text/plain": [
              "<Figure size 1080x504 with 1 Axes>"
            ]
          },
          "metadata": {
            "tags": [],
            "needs_background": "light"
          }
        }
      ]
    },
    {
      "cell_type": "markdown",
      "metadata": {
        "id": "qPs2ddsY0SCK"
      },
      "source": [
        "**Visualizando os primeiros dados de RFM**"
      ]
    },
    {
      "cell_type": "code",
      "metadata": {
        "colab": {
          "base_uri": "https://localhost:8080/",
          "height": 238
        },
        "id": "RE7qC_bxPJhA",
        "outputId": "ddb4cdc0-feff-43e4-ba21-9cb4897349eb"
      },
      "source": [
        "rfm_cltv.head()"
      ],
      "execution_count": null,
      "outputs": [
        {
          "output_type": "execute_result",
          "data": {
            "text/html": [
              "<div>\n",
              "<style scoped>\n",
              "    .dataframe tbody tr th:only-of-type {\n",
              "        vertical-align: middle;\n",
              "    }\n",
              "\n",
              "    .dataframe tbody tr th {\n",
              "        vertical-align: top;\n",
              "    }\n",
              "\n",
              "    .dataframe thead th {\n",
              "        text-align: right;\n",
              "    }\n",
              "</style>\n",
              "<table border=\"1\" class=\"dataframe\">\n",
              "  <thead>\n",
              "    <tr style=\"text-align: right;\">\n",
              "      <th></th>\n",
              "      <th>recency</th>\n",
              "      <th>frequency</th>\n",
              "      <th>monetary</th>\n",
              "      <th>rfm_segment</th>\n",
              "      <th>cltv_calculated</th>\n",
              "      <th>cltv_calculated_segment</th>\n",
              "    </tr>\n",
              "    <tr>\n",
              "      <th>Customer ID</th>\n",
              "      <th></th>\n",
              "      <th></th>\n",
              "      <th></th>\n",
              "      <th></th>\n",
              "      <th></th>\n",
              "      <th></th>\n",
              "    </tr>\n",
              "  </thead>\n",
              "  <tbody>\n",
              "    <tr>\n",
              "      <th>12346.0</th>\n",
              "      <td>165</td>\n",
              "      <td>11</td>\n",
              "      <td>372.86</td>\n",
              "      <td>cant_loose</td>\n",
              "      <td>1.000150</td>\n",
              "      <td>C</td>\n",
              "    </tr>\n",
              "    <tr>\n",
              "      <th>12347.0</th>\n",
              "      <td>3</td>\n",
              "      <td>2</td>\n",
              "      <td>1323.32</td>\n",
              "      <td>potential_loyalists</td>\n",
              "      <td>1.001888</td>\n",
              "      <td>A</td>\n",
              "    </tr>\n",
              "    <tr>\n",
              "      <th>12348.0</th>\n",
              "      <td>74</td>\n",
              "      <td>1</td>\n",
              "      <td>222.16</td>\n",
              "      <td>hibernating</td>\n",
              "      <td>1.000053</td>\n",
              "      <td>C</td>\n",
              "    </tr>\n",
              "    <tr>\n",
              "      <th>12349.0</th>\n",
              "      <td>43</td>\n",
              "      <td>3</td>\n",
              "      <td>2320.26</td>\n",
              "      <td>need_attention</td>\n",
              "      <td>1.005803</td>\n",
              "      <td>A</td>\n",
              "    </tr>\n",
              "    <tr>\n",
              "      <th>12351.0</th>\n",
              "      <td>11</td>\n",
              "      <td>1</td>\n",
              "      <td>300.93</td>\n",
              "      <td>new_customers</td>\n",
              "      <td>1.000098</td>\n",
              "      <td>C</td>\n",
              "    </tr>\n",
              "  </tbody>\n",
              "</table>\n",
              "</div>"
            ],
            "text/plain": [
              "             recency  frequency  ...  cltv_calculated cltv_calculated_segment\n",
              "Customer ID                      ...                                         \n",
              "12346.0          165         11  ...         1.000150                       C\n",
              "12347.0            3          2  ...         1.001888                       A\n",
              "12348.0           74          1  ...         1.000053                       C\n",
              "12349.0           43          3  ...         1.005803                       A\n",
              "12351.0           11          1  ...         1.000098                       C\n",
              "\n",
              "[5 rows x 6 columns]"
            ]
          },
          "metadata": {
            "tags": []
          },
          "execution_count": 31
        }
      ]
    },
    {
      "cell_type": "markdown",
      "metadata": {
        "id": "TyK4wgGu0Vx2"
      },
      "source": [
        "**Visualização do cltv pelo segmento**"
      ]
    },
    {
      "cell_type": "code",
      "metadata": {
        "colab": {
          "base_uri": "https://localhost:8080/",
          "height": 443
        },
        "id": "a1YrtXZ_PNXf",
        "outputId": "db63ba92-5840-4a11-cd51-bdda13051866"
      },
      "source": [
        "plt.figure(figsize=(15,7))\n",
        "sns.barplot(x=\"cltv_calculated\", y=\"cltv_calculated_segment\", data=rfm_cltv);"
      ],
      "execution_count": null,
      "outputs": [
        {
          "output_type": "display_data",
          "data": {
            "image/png": "[encoded data removed]",
            "text/plain": [
              "<Figure size 1080x504 with 1 Axes>"
            ]
          },
          "metadata": {
            "tags": [],
            "needs_background": "light"
          }
        }
      ]
    },
    {
      "cell_type": "markdown",
      "metadata": {
        "id": "BSxhCL09PUa9"
      },
      "source": [
        "### **Predição do CLTV**\n",
        "\n",
        "> O que é um modelo de coorte estatístico?\n",
        "\n",
        " - Em Estatística, coorte é um conjunto de pessoas que tem em comum um evento que se deu no mesmo período.\n",
        "\n",
        "- Em vez de simplesmente assumir que todos os clientes são um grupo, podemos tentar dividi-los em vários grupos e calcular o CLTV para cada grupo.\n",
        "\n",
        "- Nota: valor de recência personalizado. (Uma das principais diferenças entre RFM e CLTV)\n",
        "\n",
        "\n",
        "**Modelo BG-NBD**\n",
        "\n",
        "- Em suma, valor de venda esperado. Usado para estimar quantas compras os clientes podem fazer durante um período de tempo\n",
        "\n",
        "- Este método calcula a probabilidade de que um cliente com histórico (frequência, recência_weekly, T_weekly) esteja atualmente vivo. (Relação entre recência e frequência)\n",
        "\n",
        "\n",
        "**Modelo Gama-Gama**\n",
        "\n",
        "- número esperado condicional de compras até o momento.\n",
        "\n",
        "- Nota1: Não deve haver correlação entre a frequência das transações e seu valor monetário.\n",
        "\n",
        "- Nota2: Estamos considerando apenas clientes que fizeram compras repetidas com a empresa, ou seja, frequência> 0. Porque, se a frequência for 0, significa que eles são um cliente ocasional e não são, de fato, clientes ou possíveis clientes."
      ]
    },
    {
      "cell_type": "markdown",
      "metadata": {
        "id": "Q4adKBUi2WlX"
      },
      "source": [
        "**Visualizando a correlação entre valor monetário e frequência**\n",
        "\n",
        "> A correlação parece muito fraca."
      ]
    },
    {
      "cell_type": "code",
      "metadata": {
        "colab": {
          "base_uri": "https://localhost:8080/",
          "height": 297
        },
        "id": "BMa8jgtwPPFN",
        "outputId": "2375cd82-3b58-47ba-ee9b-bb71781ccdca"
      },
      "source": [
        "plt.scatter(rfm_cltv.monetary,rfm_cltv.frequency,s=75)\n",
        "\n",
        "\n",
        "plt.xlabel(\"monetary\")\n",
        "plt.ylabel(\"frequency\")\n",
        "plt.legend()\n",
        "plt.show();"
      ],
      "execution_count": null,
      "outputs": [
        {
          "output_type": "stream",
          "text": [
            "No handles with labels found to put in legend.\n"
          ],
          "name": "stderr"
        },
        {
          "output_type": "display_data",
          "data": {
            "image/png": "[encoded data removed]",
            "text/plain": [
              "<Figure size 432x288 with 1 Axes>"
            ]
          },
          "metadata": {
            "tags": [],
            "needs_background": "light"
          }
        }
      ]
    },
    {
      "cell_type": "markdown",
      "metadata": {
        "id": "l_ZTgDch2kun"
      },
      "source": [
        "**Criando a função `create_cltv_predicted`**\n",
        "\n",
        "> A função nos retornará o valor de predição do cltv."
      ]
    },
    {
      "cell_type": "code",
      "metadata": {
        "id": "6-X-Trd7PWoS"
      },
      "source": [
        "def create_cltv_predicted(dataframe):\n",
        "    today_date = dt.datetime(2010, 12, 11)\n",
        "\n",
        "    # valor de recência personalizado\n",
        "    rfm = dataframe.groupby('Customer ID').agg({'InvoiceDate': [lambda date: (date.max()-date.min()).days,\n",
        "                                                                lambda date: (today_date - date.min()).days],\n",
        "                                                'Invoice': lambda num: num.nunique(),\n",
        "                                                'TotalPrice': lambda TotalPrice: TotalPrice.sum()})\n",
        "\n",
        "    rfm.columns = rfm.columns.droplevel(0)\n",
        "\n",
        "    # recência cltv predito\n",
        "    rfm.columns = ['recency_cltv_predicted', 'T', 'frequency', 'monetary']\n",
        "\n",
        "    # média monetária básica\n",
        "    rfm[\"monetary\"] = rfm[\"monetary\"] / rfm[\"frequency\"]\n",
        "\n",
        "    rfm.rename(columns={\"monetary\": \"monetary_avg\"}, inplace=True)\n",
        "\n",
        "\n",
        "  \n",
        "    # recência semanal cltv prevista\n",
        "    rfm[\"recency_weekly_cltv_predicted\"] = rfm[\"recency_cltv_predicted\"] / 7\n",
        "    rfm[\"T_weekly\"] = rfm[\"T\"] / 7\n",
        "\n",
        "\n",
        "\n",
        "    # CONTROLE\n",
        "    rfm = rfm[rfm[\"monetary_avg\"] > 0]\n",
        "\n",
        "    # filtro de recência\n",
        "    rfm = rfm[(rfm['frequency'] > 1)]\n",
        "\n",
        "    rfm[\"frequency\"] = rfm[\"frequency\"].astype(int)\n",
        "\n",
        "    # Modelo BG-NBD\n",
        "    bgf = BetaGeoFitter(penalizer_coef=0.01)\n",
        "    bgf.fit(rfm['frequency'],\n",
        "            rfm['recency_weekly_cltv_predicted'],\n",
        "            rfm['T_weekly'])\n",
        "\n",
        "\n",
        "    # Modelo Gamma-Gamma\n",
        "    ggf = GammaGammaFitter(penalizer_coef=0.01)\n",
        "    ggf.fit(rfm['frequency'], rfm['monetary_avg'])\n",
        "    rfm[\"expected_average_profit\"] = ggf.conditional_expected_average_profit(rfm['frequency'],\n",
        "                                                                             rfm['monetary_avg'])\n",
        "    # cltv_p para 6 meses\n",
        "    cltv = ggf.customer_lifetime_value(bgf,\n",
        "                                       rfm['frequency'],\n",
        "                                       rfm['recency_weekly_cltv_predicted'],\n",
        "                                       rfm['T_weekly'],\n",
        "                                       rfm['monetary_avg'],\n",
        "                                       time=6,\n",
        "                                       freq=\"W\",\n",
        "                                       discount_rate=0.01)\n",
        "\n",
        "    rfm[\"cltv_predicted\"] = cltv\n",
        "\n",
        "    # minmaxscaler\n",
        "    scaler = MinMaxScaler(feature_range=(1, 100))\n",
        "    scaler.fit(rfm[[\"cltv_predicted\"]])\n",
        "    rfm[\"cltv_predicted\"] = scaler.transform(rfm[[\"cltv_predicted\"]])\n",
        "\n",
        "    # rfm.fillna(0, inplace=True)\n",
        "\n",
        "    # segmento predito de cltv\n",
        "    rfm[\"cltv_predicted_segment\"] = pd.qcut(rfm[\"cltv_predicted\"], 3, labels=[\"C\", \"B\", \"A\"])\n",
        "\n",
        "    # recência cltv previsto e recência semanal cltv previsto\n",
        "    rfm = rfm[[\"recency_cltv_predicted\", \"T\", \"monetary_avg\", \"recency_weekly_cltv_predicted\", \"T_weekly\",\n",
        "               \"expected_average_profit\",\"cltv_predicted\", \"cltv_predicted_segment\"]]\n",
        "\n",
        "\n",
        "    return rfm"
      ],
      "execution_count": null,
      "outputs": []
    },
    {
      "cell_type": "markdown",
      "metadata": {
        "id": "ng6Ce_bQ3tVn"
      },
      "source": [
        "**Aplicando a função e visualizando os novos dados**"
      ]
    },
    {
      "cell_type": "code",
      "metadata": {
        "colab": {
          "base_uri": "https://localhost:8080/"
        },
        "id": "hbVbxZlJPayg",
        "outputId": "5f8290c8-51f3-4b57-fb75-2fad78f7af07"
      },
      "source": [
        "rfm_cltv_predicted = create_cltv_predicted(df)\n",
        "check_df(rfm_cltv_predicted)"
      ],
      "execution_count": null,
      "outputs": [
        {
          "output_type": "stream",
          "text": [
            "##################### Shape #####################\n",
            "(2893, 8)\n",
            "##################### Types #####################\n",
            "recency_cltv_predicted              int64\n",
            "T                                   int64\n",
            "monetary_avg                      float64\n",
            "recency_weekly_cltv_predicted     float64\n",
            "T_weekly                          float64\n",
            "expected_average_profit           float64\n",
            "cltv_predicted                    float64\n",
            "cltv_predicted_segment           category\n",
            "dtype: object\n",
            "##################### Head #####################\n",
            "             recency_cltv_predicted    T  ...  cltv_predicted  cltv_predicted_segment\n",
            "Customer ID                               ...                                        \n",
            "12346.0                         196  361  ...        1.032671                       C\n",
            "12347.0                          37   40  ...        4.445715                       A\n",
            "12349.0                         181  225  ...        2.793966                       A\n",
            "\n",
            "[3 rows x 8 columns]\n",
            "##################### Tail #####################\n",
            "             recency_cltv_predicted    T  ...  cltv_predicted  cltv_predicted_segment\n",
            "Customer ID                               ...                                        \n",
            "18283.0                         275  294  ...        1.329470                       C\n",
            "18286.0                         247  359  ...        1.800114                       B\n",
            "18287.0                         188  207  ...        2.767421                       A\n",
            "\n",
            "[3 rows x 8 columns]\n",
            "##################### NA #####################\n",
            "recency_cltv_predicted           0\n",
            "T                                0\n",
            "monetary_avg                     0\n",
            "recency_weekly_cltv_predicted    0\n",
            "T_weekly                         0\n",
            "expected_average_profit          0\n",
            "cltv_predicted                   0\n",
            "cltv_predicted_segment           0\n",
            "dtype: int64\n",
            "##################### Quantiles #####################\n",
            "                                    0.00        0.05  ...         0.99         1.00\n",
            "recency_cltv_predicted          0.000000   11.000000  ...   370.080000   373.000000\n",
            "T                               7.000000   57.000000  ...   374.000000   374.000000\n",
            "monetary_avg                   10.822222  106.545000  ...  1468.574600  5639.775000\n",
            "recency_weekly_cltv_predicted   0.000000    1.571429  ...    52.868571    53.285714\n",
            "T_weekly                        1.000000    8.142857  ...    53.428571    53.428571\n",
            "expected_average_profit        11.457957  114.850774  ...  1524.017380  6178.891147\n",
            "cltv_predicted                  1.000000    1.101704  ...    10.840943   100.000000\n",
            "\n",
            "[7 rows x 6 columns]\n"
          ],
          "name": "stdout"
        }
      ]
    },
    {
      "cell_type": "markdown",
      "metadata": {
        "id": "1ZJNkGj-33ER"
      },
      "source": [
        "**Visualizando os primeiros dados**"
      ]
    },
    {
      "cell_type": "code",
      "metadata": {
        "colab": {
          "base_uri": "https://localhost:8080/",
          "height": 275
        },
        "id": "xfUQYWcCPeaV",
        "outputId": "b26f4204-a2ab-40f5-e3f2-61415c296806"
      },
      "source": [
        "rfm_cltv_predicted.head()"
      ],
      "execution_count": null,
      "outputs": [
        {
          "output_type": "execute_result",
          "data": {
            "text/html": [
              "<div>\n",
              "<style scoped>\n",
              "    .dataframe tbody tr th:only-of-type {\n",
              "        vertical-align: middle;\n",
              "    }\n",
              "\n",
              "    .dataframe tbody tr th {\n",
              "        vertical-align: top;\n",
              "    }\n",
              "\n",
              "    .dataframe thead th {\n",
              "        text-align: right;\n",
              "    }\n",
              "</style>\n",
              "<table border=\"1\" class=\"dataframe\">\n",
              "  <thead>\n",
              "    <tr style=\"text-align: right;\">\n",
              "      <th></th>\n",
              "      <th>recency_cltv_predicted</th>\n",
              "      <th>T</th>\n",
              "      <th>monetary_avg</th>\n",
              "      <th>recency_weekly_cltv_predicted</th>\n",
              "      <th>T_weekly</th>\n",
              "      <th>expected_average_profit</th>\n",
              "      <th>cltv_predicted</th>\n",
              "      <th>cltv_predicted_segment</th>\n",
              "    </tr>\n",
              "    <tr>\n",
              "      <th>Customer ID</th>\n",
              "      <th></th>\n",
              "      <th></th>\n",
              "      <th></th>\n",
              "      <th></th>\n",
              "      <th></th>\n",
              "      <th></th>\n",
              "      <th></th>\n",
              "      <th></th>\n",
              "    </tr>\n",
              "  </thead>\n",
              "  <tbody>\n",
              "    <tr>\n",
              "      <th>12346.0</th>\n",
              "      <td>196</td>\n",
              "      <td>361</td>\n",
              "      <td>33.896364</td>\n",
              "      <td>28.000000</td>\n",
              "      <td>51.571429</td>\n",
              "      <td>34.785293</td>\n",
              "      <td>1.032671</td>\n",
              "      <td>C</td>\n",
              "    </tr>\n",
              "    <tr>\n",
              "      <th>12347.0</th>\n",
              "      <td>37</td>\n",
              "      <td>40</td>\n",
              "      <td>661.660000</td>\n",
              "      <td>5.285714</td>\n",
              "      <td>5.714286</td>\n",
              "      <td>726.711783</td>\n",
              "      <td>4.445715</td>\n",
              "      <td>A</td>\n",
              "    </tr>\n",
              "    <tr>\n",
              "      <th>12349.0</th>\n",
              "      <td>181</td>\n",
              "      <td>225</td>\n",
              "      <td>773.420000</td>\n",
              "      <td>25.857143</td>\n",
              "      <td>32.142857</td>\n",
              "      <td>822.330524</td>\n",
              "      <td>2.793966</td>\n",
              "      <td>A</td>\n",
              "    </tr>\n",
              "    <tr>\n",
              "      <th>12352.0</th>\n",
              "      <td>16</td>\n",
              "      <td>28</td>\n",
              "      <td>171.900000</td>\n",
              "      <td>2.285714</td>\n",
              "      <td>4.000000</td>\n",
              "      <td>190.312089</td>\n",
              "      <td>1.998767</td>\n",
              "      <td>B</td>\n",
              "    </tr>\n",
              "    <tr>\n",
              "      <th>12356.0</th>\n",
              "      <td>44</td>\n",
              "      <td>60</td>\n",
              "      <td>1187.416667</td>\n",
              "      <td>6.285714</td>\n",
              "      <td>8.571429</td>\n",
              "      <td>1261.801731</td>\n",
              "      <td>7.350573</td>\n",
              "      <td>A</td>\n",
              "    </tr>\n",
              "  </tbody>\n",
              "</table>\n",
              "</div>"
            ],
            "text/plain": [
              "             recency_cltv_predicted    T  ...  cltv_predicted  cltv_predicted_segment\n",
              "Customer ID                               ...                                        \n",
              "12346.0                         196  361  ...        1.032671                       C\n",
              "12347.0                          37   40  ...        4.445715                       A\n",
              "12349.0                         181  225  ...        2.793966                       A\n",
              "12352.0                          16   28  ...        1.998767                       B\n",
              "12356.0                          44   60  ...        7.350573                       A\n",
              "\n",
              "[5 rows x 8 columns]"
            ]
          },
          "metadata": {
            "tags": []
          },
          "execution_count": 36
        }
      ]
    },
    {
      "cell_type": "markdown",
      "metadata": {
        "id": "xbyHPqe636Cz"
      },
      "source": [
        "**Agrupando as predições por segmento**"
      ]
    },
    {
      "cell_type": "code",
      "metadata": {
        "colab": {
          "base_uri": "https://localhost:8080/",
          "height": 277
        },
        "id": "RfxPHJSbPiX1",
        "outputId": "56899016-75b2-45f0-8388-37e2a25408ed"
      },
      "source": [
        "rfm_cltv_predicted.groupby('cltv_predicted_segment').agg('expected_average_profit').mean().plot(kind='bar', colormap='copper_r');\n",
        "\n",
        "plt.ylabel(\"profit\");"
      ],
      "execution_count": null,
      "outputs": [
        {
          "output_type": "display_data",
          "data": {
            "image/png": "[encoded data removed]",
            "text/plain": [
              "<Figure size 432x288 with 1 Axes>"
            ]
          },
          "metadata": {
            "tags": [],
            "needs_background": "light"
          }
        }
      ]
    },
    {
      "cell_type": "markdown",
      "metadata": {
        "id": "v2JTHOq6PpAM"
      },
      "source": [
        "### **CRM**"
      ]
    },
    {
      "cell_type": "markdown",
      "metadata": {
        "id": "JPqtsJPW4HJY"
      },
      "source": [
        "**Merge entre o cltv do rfm e o valor predito do cltv**"
      ]
    },
    {
      "cell_type": "code",
      "metadata": {
        "colab": {
          "base_uri": "https://localhost:8080/"
        },
        "id": "SofrWPi3Pkcg",
        "outputId": "4b4b2292-fb01-45e3-a687-dbe3871b2b49"
      },
      "source": [
        "crm_final = rfm_cltv.merge(rfm_cltv_predicted, on=\"Customer ID\", how=\"left\")\n",
        "check_df(crm_final)"
      ],
      "execution_count": null,
      "outputs": [
        {
          "output_type": "stream",
          "text": [
            "##################### Shape #####################\n",
            "(4312, 14)\n",
            "##################### Types #####################\n",
            "recency                             int64\n",
            "frequency                           int64\n",
            "monetary                          float64\n",
            "rfm_segment                        object\n",
            "cltv_calculated                   float64\n",
            "cltv_calculated_segment          category\n",
            "recency_cltv_predicted            float64\n",
            "T                                 float64\n",
            "monetary_avg                      float64\n",
            "recency_weekly_cltv_predicted     float64\n",
            "T_weekly                          float64\n",
            "expected_average_profit           float64\n",
            "cltv_predicted                    float64\n",
            "cltv_predicted_segment           category\n",
            "dtype: object\n",
            "##################### Head #####################\n",
            "             recency  frequency  ...  cltv_predicted cltv_predicted_segment\n",
            "Customer ID                      ...                                       \n",
            "12346.0          165         11  ...        1.032671                      C\n",
            "12347.0            3          2  ...        4.445715                      A\n",
            "12348.0           74          1  ...             NaN                    NaN\n",
            "\n",
            "[3 rows x 14 columns]\n",
            "##################### Tail #####################\n",
            "             recency  frequency  ...  cltv_predicted cltv_predicted_segment\n",
            "Customer ID                      ...                                       \n",
            "18285.0          296          1  ...             NaN                    NaN\n",
            "18286.0          112          2  ...        1.800114                      B\n",
            "18287.0           18          4  ...        2.767421                      A\n",
            "\n",
            "[3 rows x 14 columns]\n",
            "##################### NA #####################\n",
            "recency                             0\n",
            "frequency                           0\n",
            "monetary                            0\n",
            "rfm_segment                         0\n",
            "cltv_calculated                     0\n",
            "cltv_calculated_segment             0\n",
            "recency_cltv_predicted           1419\n",
            "T                                1419\n",
            "monetary_avg                     1419\n",
            "recency_weekly_cltv_predicted    1419\n",
            "T_weekly                         1419\n",
            "expected_average_profit          1419\n",
            "cltv_predicted                   1419\n",
            "cltv_predicted_segment           1419\n",
            "dtype: int64\n",
            "##################### Quantiles #####################\n",
            "                                     0.0  ...            1.0\n",
            "recency                         1.000000  ...     374.000000\n",
            "frequency                       1.000000  ...     205.000000\n",
            "monetary                        2.950000  ...  303064.290000\n",
            "cltv_calculated                 1.000000  ...     100.000000\n",
            "recency_cltv_predicted          0.000000  ...     373.000000\n",
            "T                               7.000000  ...     374.000000\n",
            "monetary_avg                   10.822222  ...    5639.775000\n",
            "recency_weekly_cltv_predicted   0.000000  ...      53.285714\n",
            "T_weekly                        1.000000  ...      53.428571\n",
            "expected_average_profit        11.457957  ...    6178.891147\n",
            "cltv_predicted                  1.000000  ...     100.000000\n",
            "\n",
            "[11 rows x 6 columns]\n"
          ],
          "name": "stdout"
        }
      ]
    },
    {
      "cell_type": "markdown",
      "metadata": {
        "id": "Vy3HggrQ4SgI"
      },
      "source": [
        "**Classificando os valores com base na média do valor monetário**\n",
        "\n",
        "> Isso será eficaz nas decisões da campanha."
      ]
    },
    {
      "cell_type": "code",
      "metadata": {
        "colab": {
          "base_uri": "https://localhost:8080/",
          "height": 275
        },
        "id": "JBhFpAIQPq5w",
        "outputId": "455f82a0-a130-41ed-e429-bae1c73a4a86"
      },
      "source": [
        "crm_final.sort_values(by=\"monetary_avg\", ascending=False).head()"
      ],
      "execution_count": null,
      "outputs": [
        {
          "output_type": "execute_result",
          "data": {
            "text/html": [
              "<div>\n",
              "<style scoped>\n",
              "    .dataframe tbody tr th:only-of-type {\n",
              "        vertical-align: middle;\n",
              "    }\n",
              "\n",
              "    .dataframe tbody tr th {\n",
              "        vertical-align: top;\n",
              "    }\n",
              "\n",
              "    .dataframe thead th {\n",
              "        text-align: right;\n",
              "    }\n",
              "</style>\n",
              "<table border=\"1\" class=\"dataframe\">\n",
              "  <thead>\n",
              "    <tr style=\"text-align: right;\">\n",
              "      <th></th>\n",
              "      <th>recency</th>\n",
              "      <th>frequency</th>\n",
              "      <th>monetary</th>\n",
              "      <th>rfm_segment</th>\n",
              "      <th>cltv_calculated</th>\n",
              "      <th>cltv_calculated_segment</th>\n",
              "      <th>recency_cltv_predicted</th>\n",
              "      <th>T</th>\n",
              "      <th>monetary_avg</th>\n",
              "      <th>recency_weekly_cltv_predicted</th>\n",
              "      <th>T_weekly</th>\n",
              "      <th>expected_average_profit</th>\n",
              "      <th>cltv_predicted</th>\n",
              "      <th>cltv_predicted_segment</th>\n",
              "    </tr>\n",
              "    <tr>\n",
              "      <th>Customer ID</th>\n",
              "      <th></th>\n",
              "      <th></th>\n",
              "      <th></th>\n",
              "      <th></th>\n",
              "      <th></th>\n",
              "      <th></th>\n",
              "      <th></th>\n",
              "      <th></th>\n",
              "      <th></th>\n",
              "      <th></th>\n",
              "      <th></th>\n",
              "      <th></th>\n",
              "      <th></th>\n",
              "      <th></th>\n",
              "    </tr>\n",
              "  </thead>\n",
              "  <tbody>\n",
              "    <tr>\n",
              "      <th>12357.0</th>\n",
              "      <td>24</td>\n",
              "      <td>2</td>\n",
              "      <td>11279.55</td>\n",
              "      <td>potential_loyalists</td>\n",
              "      <td>1.137135</td>\n",
              "      <td>A</td>\n",
              "      <td>0.0</td>\n",
              "      <td>24.0</td>\n",
              "      <td>5639.775000</td>\n",
              "      <td>0.000000</td>\n",
              "      <td>3.428571</td>\n",
              "      <td>6178.891147</td>\n",
              "      <td>33.204317</td>\n",
              "      <td>A</td>\n",
              "    </tr>\n",
              "    <tr>\n",
              "      <th>17450.0</th>\n",
              "      <td>3</td>\n",
              "      <td>7</td>\n",
              "      <td>33132.20</td>\n",
              "      <td>champions</td>\n",
              "      <td>2.183222</td>\n",
              "      <td>A</td>\n",
              "      <td>70.0</td>\n",
              "      <td>74.0</td>\n",
              "      <td>4733.171429</td>\n",
              "      <td>10.000000</td>\n",
              "      <td>10.571429</td>\n",
              "      <td>4854.298121</td>\n",
              "      <td>42.870766</td>\n",
              "      <td>A</td>\n",
              "    </tr>\n",
              "    <tr>\n",
              "      <th>14091.0</th>\n",
              "      <td>290</td>\n",
              "      <td>2</td>\n",
              "      <td>9110.85</td>\n",
              "      <td>hibernating</td>\n",
              "      <td>1.089471</td>\n",
              "      <td>A</td>\n",
              "      <td>44.0</td>\n",
              "      <td>334.0</td>\n",
              "      <td>4555.425000</td>\n",
              "      <td>6.285714</td>\n",
              "      <td>47.714286</td>\n",
              "      <td>4991.278829</td>\n",
              "      <td>2.187712</td>\n",
              "      <td>A</td>\n",
              "    </tr>\n",
              "    <tr>\n",
              "      <th>14088.0</th>\n",
              "      <td>42</td>\n",
              "      <td>3</td>\n",
              "      <td>13544.99</td>\n",
              "      <td>need_attention</td>\n",
              "      <td>1.197753</td>\n",
              "      <td>A</td>\n",
              "      <td>14.0</td>\n",
              "      <td>57.0</td>\n",
              "      <td>4514.996667</td>\n",
              "      <td>2.000000</td>\n",
              "      <td>8.142857</td>\n",
              "      <td>4794.138374</td>\n",
              "      <td>22.742626</td>\n",
              "      <td>A</td>\n",
              "    </tr>\n",
              "    <tr>\n",
              "      <th>18102.0</th>\n",
              "      <td>1</td>\n",
              "      <td>89</td>\n",
              "      <td>303064.29</td>\n",
              "      <td>champions</td>\n",
              "      <td>100.000000</td>\n",
              "      <td>A</td>\n",
              "      <td>373.0</td>\n",
              "      <td>374.0</td>\n",
              "      <td>3405.216742</td>\n",
              "      <td>53.285714</td>\n",
              "      <td>53.428571</td>\n",
              "      <td>3411.925276</td>\n",
              "      <td>100.000000</td>\n",
              "      <td>A</td>\n",
              "    </tr>\n",
              "  </tbody>\n",
              "</table>\n",
              "</div>"
            ],
            "text/plain": [
              "             recency  frequency  ...  cltv_predicted cltv_predicted_segment\n",
              "Customer ID                      ...                                       \n",
              "12357.0           24          2  ...       33.204317                      A\n",
              "17450.0            3          7  ...       42.870766                      A\n",
              "14091.0          290          2  ...        2.187712                      A\n",
              "14088.0           42          3  ...       22.742626                      A\n",
              "18102.0            1         89  ...      100.000000                      A\n",
              "\n",
              "[5 rows x 14 columns]"
            ]
          },
          "metadata": {
            "tags": []
          },
          "execution_count": 39
        }
      ]
    },
    {
      "cell_type": "markdown",
      "metadata": {
        "id": "BqN1Bl4rPxDk"
      },
      "source": [
        "### **FINAL**\n",
        "\n",
        "> Podemos analisar cada métrica comparativamente.\n",
        "\n",
        "> Podemos tomar decisões diferentes para clientes em diferentes segmentos.\n",
        "\n",
        "> Podemos fazer diferentes campanhas de acordo com as decisões tomadas.\n",
        "\n",
        "> A produtividade da campanha pode ser medida fazendo diferentes ofertas para as massas.\n",
        "\n",
        "> O teste A / B pode ser usado para isso."
      ]
    },
    {
      "cell_type": "markdown",
      "metadata": {
        "id": "E1WQpXNsUCK-"
      },
      "source": [
        "# Obrigado!\n",
        "\n",
        "Obrigado por ter disponibilizado um pouco do seu tempo e atenção aqui. Espero que, de alguma forma, tenha sido útil para seu crescimento. Se houver qualquer dúvida ou sugestão, não hesite em entrar em contato no [LinkedIn](https://www.linkedin.com/in/daniel-sousa-amador) e verificar meus outros projetos no [GitHub](https://github.com/amadords).\n",
        "\n",
        "\n",
        "[![LinkedIn](https://img.shields.io/badge/LinkedIn-DanielSousaAmador-cyan.svg)](https://www.linkedin.com/in/daniel-sousa-amador)\n",
        "[![GitHub](https://img.shields.io/badge/GitHub-amadords-darkblue.svg)](https://github.com/amadords)\n",
        "[![Medium](https://img.shields.io/badge/Medium-DanielSousaAmador-white.svg)](https://daniel-s-amador.medium.com/)\n",
        "\n",
        "\n",
        "\n",
        "<center><img width=\"90%\" src=\"https://raw.githubusercontent.com/danielamador12/Portfolio/master/github.png\"></center>"
      ]
    }
  ]
}