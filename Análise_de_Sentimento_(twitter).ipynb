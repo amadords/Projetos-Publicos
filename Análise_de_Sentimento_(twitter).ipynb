{
  "nbformat": 4,
  "nbformat_minor": 0,
  "metadata": {
    "colab": {
      "name": "Análise de Sentimento (twitter).ipynb",
      "provenance": [],
      "collapsed_sections": [],
      "authorship_tag": "ABX9TyN2xVW6NmCn7mExh3EtVpTt",
      "include_colab_link": true
    },
    "kernelspec": {
      "name": "python3",
      "display_name": "Python 3"
    }
  },
  "cells": [
    {
      "cell_type": "markdown",
      "metadata": {
        "id": "view-in-github",
        "colab_type": "text"
      },
      "source": [
        "<a href=\"https://colab.research.google.com/github/amadords/Projetos-Publicos/blob/master/An%C3%A1lise_de_Sentimento_(twitter).ipynb\" target=\"_parent\"><img src=\"https://colab.research.google.com/assets/colab-badge.svg\" alt=\"Open In Colab\"/></a>"
      ]
    },
    {
      "cell_type": "markdown",
      "metadata": {
        "id": "fX_G6zrRC5Bl"
      },
      "source": [
        "# Análise de Sentimento (twitter)\n",
        "---\n",
        "\n",
        "[![LinkedIn](https://img.shields.io/badge/LinkedIn-DanielSousaAmador-purple.svg)](https://www.linkedin.com/in/daniel-sousa-amador)\n",
        "[![GitHub](https://img.shields.io/badge/GitHub-amadords-yellow.svg)](https://github.com/amadords)\n",
        "[![Medium](https://img.shields.io/badge/Medium-DanielSousaAmador-darkblue.svg)](https://medium.com/@daniel.s.amador)\n",
        "\n",
        "![img](https://image.freepik.com/fotos-gratis/smartphone-com-o-logotipo-do-twitter-na-tela_89286-40.jpg)\n",
        "\n",
        "Muito provavelmente você lembra do **Orkut**. A rede social que permitia adicionar amigos, postar comentários, deixar depoimentos, participar de comunidades etc, não foi a primeira, mas sem dúvida foi a grande revolucionária desse mercado, mesmo tendo surgido em 2004 e acabado em 2014.\n",
        "\n",
        "Acontece, que o sucesso do **Orkut** acabou mostrando a força de uma rede social e, outros grandes nomes acabaram surgindo e tomaram conta do mercado, como **Facebook**, **Instagram** e **Twitter**, dentre outras.\n",
        "\n",
        "Cada uma tem um foco ou mais de um e, sem dúvida, o **twitter** acabou se tornando um mural das lamentações ou, no mínimo um mural de opiniões públicas. A própria ferramenta disponibiliza uma **Api** que permite a extração de dados para que possa ser feita a análise.\n",
        "\n",
        "Os dados abaixos são extraidos do **Twitter** e são refenciados ao governo de **Minas Gerais**.\n",
        "\n",
        "## Sobre o projeto\n",
        "\n",
        "A base de dados contém o twitter e um **sentimento atribuído** \n",
        "- Positivo\n",
        "- Negativo\n",
        "- Neutro\n",
        "\n",
        "A tarefa não é tão simples, uma vez que a linguagem é dotada de atributos não-objetivos como ironia.\n",
        "\n",
        "Ao processar um contexto, é muito difícil para os algoritmos compreenderem, por isso várias técnicas são utilizadas e cada uma tem suas vantagens.\n",
        "\n",
        "Iremos modelar o problema e depois testar seu desempenho com novas frases criadas.\n",
        "\n",
        "## Checklist\n",
        "\n",
        "1. Limpeza de Dados\n",
        "2. Criando o Modelo\n",
        "3. Avaliando o Modelo\n",
        "4. Tuning do Modelo\n",
        "\n",
        "\n",
        "\n",
        "\n"
      ]
    },
    {
      "cell_type": "markdown",
      "metadata": {
        "id": "2fqVGmMHJxq4"
      },
      "source": [
        "**Importando as bibliotecas necessárias**"
      ]
    },
    {
      "cell_type": "code",
      "metadata": {
        "id": "IoW9p-EeVF3f"
      },
      "source": [
        "import nltk\n",
        "import re\n",
        "import pandas as pd\n",
        "from sklearn.feature_extraction.text import CountVectorizer\n",
        "from sklearn.naive_bayes import MultinomialNB\n",
        "from sklearn import metrics\n",
        "from sklearn.model_selection import cross_val_predict"
      ],
      "execution_count": null,
      "outputs": []
    },
    {
      "cell_type": "markdown",
      "metadata": {
        "id": "iCZJAv6CJ4Vt"
      },
      "source": [
        "**Carregando a base de dados**\n",
        "\n",
        "O encoding='utf-8' oferece suporte para vários idiomas, logo, ao passá-lo conseguiremos diminuir a margem de erro de codificação."
      ]
    },
    {
      "cell_type": "code",
      "metadata": {
        "id": "1erqOuGv-wyt"
      },
      "source": [
        "dataset = pd.read_csv('Tweets_Mg.csv',encoding='utf-8')"
      ],
      "execution_count": null,
      "outputs": []
    },
    {
      "cell_type": "markdown",
      "metadata": {
        "id": "oDwwF3YKL4q-"
      },
      "source": [
        "# 1. Limpeza dos dados"
      ]
    },
    {
      "cell_type": "markdown",
      "metadata": {
        "id": "QoYkfXIDKsj4"
      },
      "source": [
        "A base  contém  8199 dados."
      ]
    },
    {
      "cell_type": "code",
      "metadata": {
        "id": "WwuCfkWY_AKd",
        "outputId": "8f6f6b58-fa91-4c0e-f19f-35c35d7f4d0f",
        "colab": {
          "base_uri": "https://localhost:8080/",
          "height": 623
        }
      },
      "source": [
        "dataset.info()"
      ],
      "execution_count": null,
      "outputs": [
        {
          "output_type": "stream",
          "text": [
            "<class 'pandas.core.frame.DataFrame'>\n",
            "RangeIndex: 8199 entries, 0 to 8198\n",
            "Data columns (total 26 columns):\n",
            " #   Column                     Non-Null Count  Dtype  \n",
            "---  ------                     --------------  -----  \n",
            " 0   Unnamed: 0                 8199 non-null   int64  \n",
            " 1   Created At                 8199 non-null   object \n",
            " 2   Text                       8199 non-null   object \n",
            " 3   Geo Coordinates.latitude   104 non-null    float64\n",
            " 4   Geo Coordinates.longitude  104 non-null    float64\n",
            " 5   User Location              5489 non-null   object \n",
            " 6   Username                   8199 non-null   object \n",
            " 7   User Screen Name           8199 non-null   object \n",
            " 8   Retweet Count              8199 non-null   int64  \n",
            " 9   Classificacao              8199 non-null   object \n",
            " 10  Observação                 1 non-null      object \n",
            " 11  Unnamed: 10                0 non-null      float64\n",
            " 12  Unnamed: 11                0 non-null      float64\n",
            " 13  Unnamed: 12                0 non-null      float64\n",
            " 14  Unnamed: 13                0 non-null      float64\n",
            " 15  Unnamed: 14                0 non-null      float64\n",
            " 16  Unnamed: 15                0 non-null      float64\n",
            " 17  Unnamed: 16                0 non-null      float64\n",
            " 18  Unnamed: 17                0 non-null      float64\n",
            " 19  Unnamed: 18                0 non-null      float64\n",
            " 20  Unnamed: 19                0 non-null      float64\n",
            " 21  Unnamed: 20                0 non-null      float64\n",
            " 22  Unnamed: 21                0 non-null      float64\n",
            " 23  Unnamed: 22                0 non-null      float64\n",
            " 24  Unnamed: 23                0 non-null      float64\n",
            " 25  Unnamed: 24                0 non-null      float64\n",
            "dtypes: float64(17), int64(2), object(7)\n",
            "memory usage: 1.6+ MB\n"
          ],
          "name": "stdout"
        }
      ]
    },
    {
      "cell_type": "markdown",
      "metadata": {
        "id": "nneZwfF5K4Ch"
      },
      "source": [
        "**Visualizando as 50 primeiras linhas**\n",
        "\n",
        "O 'display.max_colwidth' nos permite expandir a leitura dos dados sem truncar, como é o padrão da bibliotecas pandas."
      ]
    },
    {
      "cell_type": "code",
      "metadata": {
        "id": "SvxGhDBd_CtK",
        "outputId": "b453981a-9c55-4b1c-814c-f0d48b6a5323",
        "colab": {
          "base_uri": "https://localhost:8080/",
          "height": 1000
        }
      },
      "source": [
        "# Expante o tamanho de exibição de coluna de texto\n",
        "pd.set_option('display.max_colwidth', -1)\n",
        "dataset.Text.head(50)"
      ],
      "execution_count": null,
      "outputs": [
        {
          "output_type": "stream",
          "text": [
            "/usr/local/lib/python3.6/dist-packages/ipykernel_launcher.py:2: FutureWarning: Passing a negative integer is deprecated in version 1.0 and will not be supported in future version. Instead, use None to not limit the column width.\n",
            "  \n"
          ],
          "name": "stderr"
        },
        {
          "output_type": "execute_result",
          "data": {
            "text/plain": [
              "0     ���⛪ @ Catedral de Santo Antônio - Governador Valadares/MG https://t.co/JSbKamIqUJ                                                          \n",
              "1     � @ Governador Valadares, Minas Gerais https://t.co/B3ThIDJCSf                                                                              \n",
              "2     �� @ Governador Valadares, Minas Gerais https://t.co/dPkgzVR2Qw                                                                             \n",
              "3     ��� https://t.co/BnDsO34qK0                                                                                                                 \n",
              "4     ��� PSOL vai questionar aumento de vereadores e prefeito de BH na Justiça - Politica - Estado de Minas https://t.co/DMg7BGsek5              \n",
              "5     \" bom é bandido morto\"\\nDeputado Cabo Júlio é condenado e fica inelegível por 10 anos - Politica - Estado de Minas https://t.co/3GfAqvrFHS  \n",
              "6     \"..E 25% dos mineiros dizem não torcer para time nenhum,mesmo dentro de um estado com Atlético-MG e Cruzeiro. Pq?..\" https://t.co/fN5evlLQsR\n",
              "7     \"A gigantesca barba do mal\" em destaque no caderno Cultura do Estado de Minas. https://t.co/PxNurIkTlw                                      \n",
              "8     \"BB e governo de Minas travam disputa sobre depósitos judiciais\" https://t.co/CnMu2A2Qo5                                                    \n",
              "9     \"com vcs bh fica pequena!\" Belo Horizonte (pron. [bɛloɾiˈzõntʃi][10]) é a capital do estado de MG, com uma área de aproximadamente 331 km²  \n",
              "10    \"Daí a gente visita governador valadares\"\\n\"Que lugar eh esse mãe?\"\\n\"MG, a gente tem uns parente la\"\\n\\nMANO onde q eu NÃO tenho parente   \n",
              "11    \"É bonita e é bonita...\" \\n#latergram #ibituruna #home @ Governador Valadares, Minas Gerais https://t.co/y12TtNqpnH                         \n",
              "12    \"erro desconhecido\" é mato! Aliás, é da secretaria estadual de fazenda que tá assim... MG não precisa de dinheiro não, Governador?          \n",
              "13    \"La La Land: Cantando Estações\" arrasa no Globo de Ouro - Estado de Minas https://t.co/aQ0NG1bp5f https://t.co/aY3qlrVnTE                   \n",
              "14    \"La La Land: Cantando Estações\" arrasa no Globo de Ouro - Estado de Minas https://t.co/qRI9DCiicc                                           \n",
              "15    \"Los abusos, aun en el estado más sólido, son minas sordas que tarde o temprano estallan\" Joseph Sanial-Dubay                               \n",
              "16    \"Mesmo sem muito dinheiro no caixa o governo de Minas Gerais compra 2 (DOIS) helicópteros.\" Dois... Helicópteros... Minas Gerais... #2017 s1\n",
              "17    \"Modelo de segurança será o nosso legado\", diz Cláudio Beato - Politica - Estado de Minas https://t.co/1MqOJo7Nnf                           \n",
              "18    \"Modelo de segurança será o nosso legado\", diz Cláudio Beato - Politica - Estado de Minas https://t.co/kA09mEn4xN                           \n",
              "19    \"Modelo de segurança será o nosso legado\", diz Cláudio Beato - Politica - Estado de Minas https://t.co/S97Khxldiu                           \n",
              "20    \"O governo de Minas Gerais não comentou o assunto. \"\\n\\nhttps://t.co/SNYMRfQ737                                                             \n",
              "21    \"O governo federal publicou no dia 27 de dezembro de 2016, a Medida Provisória 764/16 que permite a diferenciação... https://t.co/0DlDpZ9WGz\n",
              "22    \"Polícia Federal acaba de divulgar que encontrou provas no apartamento do Lula, mas só até a 4ª série.\" Jornal Estado de Minas              \n",
              "23    \"Praia da Estação\" lota neste sábado de verão em BH - Gerais - Estado de Minas https://t.co/DpG3CNfZBb                                      \n",
              "24    \"Representando mais uma ferramenta de monitoramento da educação da rede estadual em Minas, a Secretaria de Estado... https://t.co/brsfBqHXlQ\n",
              "25    \"uso de aeronave pertencente ao  Estado de MG, em domingo, p/ fins pessoais,  em claro desvio de finalidade\" - https://t.co/WEfv5iLyju      \n",
              "26    \"vou postar umas curiosidades sobre o corpo humano\"\\n\\n*o Japão é menor que o estado de minas gerais* ????¿¿¿.?¿                            \n",
              "27    #ACORDAMINAS!!!\\n\\nO governador Fernando Pimentel, depois de ser flagrado usando um helicóptero do Estado de MG... https://t.co/bedW4w4jij  \n",
              "28    #ACORDAMINAS!!!!\\n\\nO povo mineiro tem que da um pé na bunda  desse  canalha... https://t.co/ZKZNVmyXbg                                     \n",
              "29    #Alerta - Nome da CEEE é utilizado em golpe no Estado. https://t.co/i5ndsWhXR4 https://t.co/yaEM6s3Z2f                                      \n",
              "30    #beta #betalab #mg Afiliada da Globo: Apresentador no AM é demitido após criticar governador… https://t.co/hlH8ITxXig                       \n",
              "31    #beta #betalab #mg Caos nos presídios: AM pede apoio à União seis dias após massacre https://t.co/GRv0HkrX3T… https://t.co/YJy2RcSfWZ       \n",
              "32    #beta #betalab #mg Caos nos presídios: Temer e Cármen Lúcia se reúnem para debater crise https://t.co/e34RNvtU7v… https://t.co/8xKwPTOv4C   \n",
              "33    #beta #betalab #mg Crise carcerária: Governo de Roraima pede Força Nacional a Temer https://t.co/wLslS1T6ZI… https://t.co/NK4c5IhNUg        \n",
              "34    #beta #betalab #mg Crise carcerária: Secretário de SP diz haver guerra de facções no país https://t.co/RSf2Tk1VmX… https://t.co/Sonel0f8Xq  \n",
              "35    #beta #betalab #mg Crise política no DF se agrava: Rollemberg exonera vice-governador de cargo… https://t.co/idJfAELeW4 #timbeta #rt #brasil\n",
              "36    #beta #betalab #mg Escalada de violência nos presídios: AM pede apoio da Força Nacional;… https://t.co/ysX8TXSm50… https://t.co/NAly4Uxb5h  \n",
              "37    #beta #betalab #mg Escalada de violência: Crime organizado no Brasil é disputado por 27… https://t.co/loRe3EfGaF… https://t.co/sSY5liKfMl   \n",
              "38    #beta #betalab #mg Estado afirma não ter sido notificado: Apesar de decisão judicial, reajuste…… https://t.co/IMG9Vxs4nK                    \n",
              "39    #beta #betalab #mg Estado de espírito do paulistano: \"Voz\" do trânsito, buzina reflete pressa,…… https://t.co/hvLy03lyt3                    \n",
              "40    #beta #betalab #mg Estados falidos: Parte do PMDB quer barrar vetos de Temer na negociação de…… https://t.co/h9KQvBYlYV                     \n",
              "41    #beta #betalab #mg Ex-ministro e outros: Servidores da era PT se mantêm em cargos estratégicos… https://t.co/Q2Nor97ngg #timbeta #rt #brasil\n",
              "42    #beta #betalab #mg Ex-presidente da Câmara: Justiça suíça vê 'indícios concretos' contra… https://t.co/fwuwi8S4oD… https://t.co/w1W2SaN172  \n",
              "43    #beta #betalab #mg Governo em calamidade financeira: BB avisa Justiça que Minas não tem… https://t.co/CdXt0cvcuY… https://t.co/s8un5iFnQS   \n",
              "44    #beta #betalab #mg Mais sobre o massacre: PF: Facção tinha 'cela de comando' dentro da prisão… https://t.co/W3Cr89L0dk                      \n",
              "45    #beta #betalab #mg Marketing e veto a medidas de Paes: De doação de sangue a capoeira: a 1ª…… https://t.co/xPnt6omym6                       \n",
              "46    #beta #betalab #mg Massacre em presídio de Manaus: Governo do AM rebate ministro da Justiça e… https://t.co/MaBb4airMU #timbeta #rt #brasil \n",
              "47    #beta #betalab #mg Mudanças propostas pelo governo: Reforma libera trabalhar 12 horas alguns…… https://t.co/eIDgx5Ak3n                      \n",
              "48    #beta #betalab #mg Muitas páginas de investigação: \"QG\" da Lava Jato reúne mais de 30 milhões…… https://t.co/pQF48BKPMr                     \n",
              "49    #beta #betalab #mg Nos últimos dois anos: Governo pagou R$ 2,4 bi a alvos da Lava Jato https://t.co/KN8C0LcReb… https://t.co/GDQVhjO1Hc     \n",
              "Name: Text, dtype: object"
            ]
          },
          "metadata": {
            "tags": []
          },
          "execution_count": 4
        }
      ]
    },
    {
      "cell_type": "markdown",
      "metadata": {
        "id": "HcqiMJqSLQ1B"
      },
      "source": [
        "Em um processo de coleta, via Api, Web Scraping ou outro método, é comum termos linhas duplicadas, por isso é importante apagá-las."
      ]
    },
    {
      "cell_type": "code",
      "metadata": {
        "id": "wLan9wsN_EyK"
      },
      "source": [
        "dataset.drop_duplicates(['Text'],inplace=True)"
      ],
      "execution_count": null,
      "outputs": []
    },
    {
      "cell_type": "markdown",
      "metadata": {
        "id": "ke_wwlSkLhmi"
      },
      "source": [
        "Veja quantas linhas, agora temos 5675 linhas ao invés das 8199 iniciais."
      ]
    },
    {
      "cell_type": "code",
      "metadata": {
        "id": "yv0ATg8x_H-H",
        "outputId": "a351b4a8-6c38-4385-fb4c-fd6ac6dde845",
        "colab": {
          "base_uri": "https://localhost:8080/",
          "height": 513
        }
      },
      "source": [
        "dataset.count()"
      ],
      "execution_count": null,
      "outputs": [
        {
          "output_type": "execute_result",
          "data": {
            "text/plain": [
              "Unnamed: 0                   5765\n",
              "Created At                   5765\n",
              "Text                         5765\n",
              "Geo Coordinates.latitude     104 \n",
              "Geo Coordinates.longitude    104 \n",
              "User Location                3851\n",
              "Username                     5765\n",
              "User Screen Name             5765\n",
              "Retweet Count                5765\n",
              "Classificacao                5765\n",
              "Observação                   1   \n",
              "Unnamed: 10                  0   \n",
              "Unnamed: 11                  0   \n",
              "Unnamed: 12                  0   \n",
              "Unnamed: 13                  0   \n",
              "Unnamed: 14                  0   \n",
              "Unnamed: 15                  0   \n",
              "Unnamed: 16                  0   \n",
              "Unnamed: 17                  0   \n",
              "Unnamed: 18                  0   \n",
              "Unnamed: 19                  0   \n",
              "Unnamed: 20                  0   \n",
              "Unnamed: 21                  0   \n",
              "Unnamed: 22                  0   \n",
              "Unnamed: 23                  0   \n",
              "Unnamed: 24                  0   \n",
              "dtype: int64"
            ]
          },
          "metadata": {
            "tags": []
          },
          "execution_count": 6
        }
      ]
    },
    {
      "cell_type": "markdown",
      "metadata": {
        "id": "9UQGtZsGLrIK"
      },
      "source": [
        "As colunas **Unnamed** não nos retornam nada, então vamos apagar todas elas."
      ]
    },
    {
      "cell_type": "code",
      "metadata": {
        "id": "e2IzfTc1_Jm7",
        "outputId": "3ae3c1a4-6824-41ae-f3b3-71eb125beaa0",
        "colab": {
          "base_uri": "https://localhost:8080/",
          "height": 311
        }
      },
      "source": [
        "for i in dataset.columns.values:\n",
        "    if i.startswith('Unnamed'): # tudo que iniciar com 'Unnamed' será deletada\n",
        "        dataset.drop(i, axis=1, inplace=True)\n",
        "        print ('Colunas Deletadas:', i)"
      ],
      "execution_count": null,
      "outputs": [
        {
          "output_type": "stream",
          "text": [
            "Colunas Deletadas: Unnamed: 0\n",
            "Colunas Deletadas: Unnamed: 10\n",
            "Colunas Deletadas: Unnamed: 11\n",
            "Colunas Deletadas: Unnamed: 12\n",
            "Colunas Deletadas: Unnamed: 13\n",
            "Colunas Deletadas: Unnamed: 14\n",
            "Colunas Deletadas: Unnamed: 15\n",
            "Colunas Deletadas: Unnamed: 16\n",
            "Colunas Deletadas: Unnamed: 17\n",
            "Colunas Deletadas: Unnamed: 18\n",
            "Colunas Deletadas: Unnamed: 19\n",
            "Colunas Deletadas: Unnamed: 20\n",
            "Colunas Deletadas: Unnamed: 21\n",
            "Colunas Deletadas: Unnamed: 22\n",
            "Colunas Deletadas: Unnamed: 23\n",
            "Colunas Deletadas: Unnamed: 24\n"
          ],
          "name": "stdout"
        }
      ]
    },
    {
      "cell_type": "markdown",
      "metadata": {
        "id": "6jVqpvQRMQPT"
      },
      "source": [
        "**Verificando se as colunas foram dropadas**"
      ]
    },
    {
      "cell_type": "code",
      "metadata": {
        "id": "_L9puDBx_NTu",
        "outputId": "757b1418-1b43-4986-865b-b11995356f9a",
        "colab": {
          "base_uri": "https://localhost:8080/",
          "height": 90
        }
      },
      "source": [
        "dataset.columns"
      ],
      "execution_count": null,
      "outputs": [
        {
          "output_type": "execute_result",
          "data": {
            "text/plain": [
              "Index(['Created At', 'Text', 'Geo Coordinates.latitude',\n",
              "       'Geo Coordinates.longitude', 'User Location', 'Username',\n",
              "       'User Screen Name', 'Retweet Count', 'Classificacao', 'Observação'],\n",
              "      dtype='object')"
            ]
          },
          "metadata": {
            "tags": []
          },
          "execution_count": 8
        }
      ]
    },
    {
      "cell_type": "markdown",
      "metadata": {
        "id": "ZrRQwBfBMUvZ"
      },
      "source": [
        "**Verificando a distribução das classes**\n",
        "\n",
        "Temos a classe positiva como majoritária e a negativa é cerca de 33% dela."
      ]
    },
    {
      "cell_type": "code",
      "metadata": {
        "id": "GPGy6AMPNf0k",
        "outputId": "f1ee77c2-39d6-4399-d22a-e2c9c7c8785a",
        "colab": {
          "base_uri": "https://localhost:8080/",
          "height": 90
        }
      },
      "source": [
        "dataset.Classificacao.value_counts()"
      ],
      "execution_count": null,
      "outputs": [
        {
          "output_type": "execute_result",
          "data": {
            "text/plain": [
              "Positivo    2840\n",
              "Neutro      1974\n",
              "Negativo    951 \n",
              "Name: Classificacao, dtype: int64"
            ]
          },
          "metadata": {
            "tags": []
          },
          "execution_count": 9
        }
      ]
    },
    {
      "cell_type": "code",
      "metadata": {
        "id": "9XC7PvtD_SK3",
        "outputId": "99915f46-4661-4ea1-d5db-6c7a51f13604",
        "colab": {
          "base_uri": "https://localhost:8080/",
          "height": 300
        }
      },
      "source": [
        "%matplotlib inline\n",
        "dataset.Classificacao.value_counts().plot(kind='bar');"
      ],
      "execution_count": null,
      "outputs": [
        {
          "output_type": "display_data",
          "data": {
            "image/png": "[encoded data removed]",
            "text/plain": [
              "<Figure size 432x288 with 1 Axes>"
            ]
          },
          "metadata": {
            "tags": [],
            "needs_background": "light"
          }
        }
      ]
    },
    {
      "cell_type": "markdown",
      "metadata": {
        "id": "qiNfVV8tNzv9"
      },
      "source": [
        "# 2. Criando o Modelo"
      ]
    },
    {
      "cell_type": "markdown",
      "metadata": {
        "id": "kKvxLKHeN2KV"
      },
      "source": [
        "**Separando os tweets das classes**"
      ]
    },
    {
      "cell_type": "code",
      "metadata": {
        "id": "NVD1n-Kq_WLw"
      },
      "source": [
        "tweets = dataset['Text']\n",
        "classes = dataset['Classificacao']"
      ],
      "execution_count": null,
      "outputs": []
    },
    {
      "cell_type": "markdown",
      "metadata": {
        "id": "VOJxP3-X_f8r"
      },
      "source": [
        "**Gerando o modelo**\n",
        "\n",
        "O CountVectorizer transforma o texto em uma matriz de contagem de tokens.\n",
        "\n"
      ]
    },
    {
      "cell_type": "code",
      "metadata": {
        "id": "gE00Iiem_cQd"
      },
      "source": [
        "vectorizer = CountVectorizer(analyzer=\"word\")\n",
        "freq_tweets = vectorizer.fit_transform(tweets)"
      ],
      "execution_count": null,
      "outputs": []
    },
    {
      "cell_type": "code",
      "metadata": {
        "id": "f_igqvYF_hah",
        "outputId": "cd375c17-f721-40d4-af50-2207a5c73c67",
        "colab": {
          "base_uri": "https://localhost:8080/",
          "height": 35
        }
      },
      "source": [
        "type(freq_tweets)"
      ],
      "execution_count": null,
      "outputs": [
        {
          "output_type": "execute_result",
          "data": {
            "text/plain": [
              "scipy.sparse.csr.csr_matrix"
            ]
          },
          "metadata": {
            "tags": []
          },
          "execution_count": 13
        }
      ]
    },
    {
      "cell_type": "markdown",
      "metadata": {
        "id": "izY8Yh7bQBr4"
      },
      "source": [
        "**Perceba**\n",
        "\n",
        "Aquela base de dados que continha apenas um colunas, agora é uma matriz com 13.029 colunas."
      ]
    },
    {
      "cell_type": "code",
      "metadata": {
        "id": "a8kotCWZ_i-w",
        "outputId": "5e159483-3c1d-4172-bff3-82fd221acbc5",
        "colab": {
          "base_uri": "https://localhost:8080/",
          "height": 35
        }
      },
      "source": [
        "freq_tweets.shape"
      ],
      "execution_count": null,
      "outputs": [
        {
          "output_type": "execute_result",
          "data": {
            "text/plain": [
              "(5765, 13029)"
            ]
          },
          "metadata": {
            "tags": []
          },
          "execution_count": 14
        }
      ]
    },
    {
      "cell_type": "code",
      "metadata": {
        "id": "rdjR4tHs_kEH",
        "outputId": "b196e34c-b1e4-47fd-e92d-ae305b994e68",
        "colab": {
          "base_uri": "https://localhost:8080/",
          "height": 146
        }
      },
      "source": [
        "freq_tweets.A"
      ],
      "execution_count": null,
      "outputs": [
        {
          "output_type": "execute_result",
          "data": {
            "text/plain": [
              "array([[0, 0, 0, ..., 0, 0, 0],\n",
              "       [0, 0, 0, ..., 0, 0, 0],\n",
              "       [0, 0, 0, ..., 0, 0, 0],\n",
              "       ...,\n",
              "       [0, 0, 0, ..., 0, 0, 0],\n",
              "       [0, 0, 0, ..., 0, 0, 0],\n",
              "       [0, 0, 0, ..., 0, 0, 0]])"
            ]
          },
          "metadata": {
            "tags": []
          },
          "execution_count": 15
        }
      ]
    },
    {
      "cell_type": "markdown",
      "metadata": {
        "id": "P-lux9lfQU0b"
      },
      "source": [
        "**Instanciando modelo com Naive Bayes Multinomial**\n",
        "\n",
        "Normalmente esse algoritmo se sai muito bem, uma vez que é um algoritmo probabilístico.\n",
        "\n"
      ]
    },
    {
      "cell_type": "code",
      "metadata": {
        "id": "9zA1joJf_lbM",
        "outputId": "75cec9e4-0e14-4390-8ae5-8152b53475a7",
        "colab": {
          "base_uri": "https://localhost:8080/",
          "height": 35
        }
      },
      "source": [
        "modelo = MultinomialNB()\n",
        "modelo.fit(freq_tweets,classes)"
      ],
      "execution_count": null,
      "outputs": [
        {
          "output_type": "execute_result",
          "data": {
            "text/plain": [
              "MultinomialNB(alpha=1.0, class_prior=None, fit_prior=True)"
            ]
          },
          "metadata": {
            "tags": []
          },
          "execution_count": 16
        }
      ]
    },
    {
      "cell_type": "markdown",
      "metadata": {
        "id": "MkqPTHhlQz-Q"
      },
      "source": [
        "**Testando o modelo com algumas instâncias simples**"
      ]
    },
    {
      "cell_type": "code",
      "metadata": {
        "id": "897iq5RDHu-X"
      },
      "source": [
        "testes = [\n",
        "          'Esse governo? Cara, sinceramente gosto dele kkkk',\n",
        "          'Tá, vou fingir que gostei desse governo atual',\n",
        "          'E quase impossivel gostar desse novo governo!!!',\n",
        "          'Não gosto do prefeito não',\n",
        "          'Uma, vez PT, sempre PT',\n",
        "          'Por enquanto não sei o que pennsar',\n",
        "          'Por enquanto não sei o que pennsar',\n",
        "          'Caraca, faz tempo que não sei o que é ficar feliz com um governo assim',\n",
        "          'Estou muito feliz!!!'\n",
        "          ]"
      ],
      "execution_count": null,
      "outputs": []
    },
    {
      "cell_type": "markdown",
      "metadata": {
        "id": "LimbsiLkQ5xU"
      },
      "source": [
        "**Transformando os dados de teste em vetores de palavras**\n"
      ]
    },
    {
      "cell_type": "code",
      "metadata": {
        "id": "s0f9lsWe_whP"
      },
      "source": [
        "freq_testes = vectorizer.transform(testes)"
      ],
      "execution_count": null,
      "outputs": []
    },
    {
      "cell_type": "markdown",
      "metadata": {
        "id": "tsRGLdqtRAoK"
      },
      "source": [
        "**Classificando as frases de teste**"
      ]
    },
    {
      "cell_type": "code",
      "metadata": {
        "id": "tmJ6-vPm_yu7",
        "outputId": "04ab779f-5b7c-4a09-d927-3b0be0b401d0",
        "colab": {
          "base_uri": "https://localhost:8080/",
          "height": 182
        }
      },
      "source": [
        "for t, c in zip (testes,modelo.predict(freq_testes)):\n",
        "    print (t +\", \"+ c)"
      ],
      "execution_count": null,
      "outputs": [
        {
          "output_type": "stream",
          "text": [
            "Esse governo? Cara, sinceramente gosto dele kkkk, Negativo\n",
            "Tá, vou fingir que gostei desse governo atual, Neutro\n",
            "E quase impossivel gostar desse novo governo!!!, Negativo\n",
            "Não gosto do prefeito não, Negativo\n",
            "Uma, vez PT, sempre PT, Negativo\n",
            "Por enquanto não sei o que pennsar, Negativo\n",
            "Por enquanto não sei o que pennsar, Negativo\n",
            "Caraca, faz tempo que não sei o que é ficar feliz com um governo assim, Neutro\n",
            "Estou muito feliz!!!, Neutro\n"
          ],
          "name": "stdout"
        }
      ]
    },
    {
      "cell_type": "markdown",
      "metadata": {
        "id": "Lcds_w6rRJSm"
      },
      "source": [
        "**Probabilidade de cada classe**"
      ]
    },
    {
      "cell_type": "code",
      "metadata": {
        "id": "S97FZu05_z7L",
        "outputId": "000eb017-ae50-40d2-940c-4043121f075d",
        "colab": {
          "base_uri": "https://localhost:8080/",
          "height": 201
        }
      },
      "source": [
        "print (modelo.classes_)\n",
        "modelo.predict_proba(freq_testes).round(2)"
      ],
      "execution_count": null,
      "outputs": [
        {
          "output_type": "stream",
          "text": [
            "['Negativo' 'Neutro' 'Positivo']\n"
          ],
          "name": "stdout"
        },
        {
          "output_type": "execute_result",
          "data": {
            "text/plain": [
              "array([[0.96, 0.04, 0.  ],\n",
              "       [0.49, 0.51, 0.  ],\n",
              "       [0.44, 0.3 , 0.26],\n",
              "       [0.98, 0.02, 0.  ],\n",
              "       [0.63, 0.37, 0.  ],\n",
              "       [0.54, 0.42, 0.04],\n",
              "       [0.54, 0.42, 0.04],\n",
              "       [0.41, 0.59, 0.  ],\n",
              "       [0.02, 0.97, 0.01]])"
            ]
          },
          "metadata": {
            "tags": []
          },
          "execution_count": 20
        }
      ]
    },
    {
      "cell_type": "markdown",
      "metadata": {
        "id": "BjFBvBjj_3ti"
      },
      "source": [
        "# 3. Avaliando o Modelo"
      ]
    },
    {
      "cell_type": "markdown",
      "metadata": {
        "id": "J-b2yYW7RXKj"
      },
      "source": [
        "**Fazendo a validação cruzada com 10 folds**"
      ]
    },
    {
      "cell_type": "code",
      "metadata": {
        "id": "AaA5q_p5_19Y"
      },
      "source": [
        "resultados = cross_val_predict(modelo, freq_tweets, classes, cv=10)"
      ],
      "execution_count": null,
      "outputs": []
    },
    {
      "cell_type": "markdown",
      "metadata": {
        "id": "p-K_E51uRniE"
      },
      "source": [
        "**Matriz de confusão**"
      ]
    },
    {
      "cell_type": "code",
      "metadata": {
        "id": "29O0pRjl_7-u",
        "outputId": "812c5925-013a-4170-9d66-9341cb1b63f7",
        "colab": {
          "base_uri": "https://localhost:8080/",
          "height": 127
        }
      },
      "source": [
        "print (pd.crosstab(classes, resultados, rownames=['Real'], colnames=['Predito'], margins=True))"
      ],
      "execution_count": null,
      "outputs": [
        {
          "output_type": "stream",
          "text": [
            "Predito   Negativo  Neutro  Positivo   All\n",
            "Real                                      \n",
            "Negativo  846       100     5         951 \n",
            "Neutro    206       1656    112       1974\n",
            "Positivo  53        294     2493      2840\n",
            "All       1105      2050    2610      5765\n"
          ],
          "name": "stdout"
        }
      ]
    },
    {
      "cell_type": "markdown",
      "metadata": {
        "id": "zYoIbG2IRrb1"
      },
      "source": [
        "**Matriz de validação**"
      ]
    },
    {
      "cell_type": "code",
      "metadata": {
        "id": "OR_l13ZH_9Mq",
        "outputId": "afab91a5-30ae-40cb-9b1a-46cf4b2f172f",
        "colab": {
          "base_uri": "https://localhost:8080/",
          "height": 201
        }
      },
      "source": [
        "sentimento=['Positivo','Negativo','Neutro']\n",
        "print (metrics.classification_report(classes,resultados,sentimento))"
      ],
      "execution_count": null,
      "outputs": [
        {
          "output_type": "stream",
          "text": [
            "              precision    recall  f1-score   support\n",
            "\n",
            "    Positivo       0.96      0.88      0.91      2840\n",
            "    Negativo       0.77      0.89      0.82       951\n",
            "      Neutro       0.81      0.84      0.82      1974\n",
            "\n",
            "    accuracy                           0.87      5765\n",
            "   macro avg       0.84      0.87      0.85      5765\n",
            "weighted avg       0.87      0.87      0.87      5765\n",
            "\n"
          ],
          "name": "stdout"
        }
      ]
    },
    {
      "cell_type": "markdown",
      "metadata": {
        "id": "OCFTuG7pAGfg"
      },
      "source": [
        "# 4. Tuning do Modelo\n",
        "\n",
        "Será que conseguimos melhorar?\n",
        "\n",
        "O **GridSearchCV** faz uma validação com os parâmetros passados em suas possíveis combinações e nos retorna o melhor *score* possível.\n",
        "\n",
        "No algoritmo **Naive Bayes** o parâmetro **Alpha** é o que mais altera seu resultado final, então vamos testar algumas configurações com ele sendo alterado."
      ]
    },
    {
      "cell_type": "markdown",
      "metadata": {
        "id": "Ya7aWQ7ITcj_"
      },
      "source": [
        "**Instanciando o modelo**"
      ]
    },
    {
      "cell_type": "code",
      "metadata": {
        "id": "bI8CGsV5AFhQ"
      },
      "source": [
        "from sklearn.model_selection import GridSearchCV"
      ],
      "execution_count": null,
      "outputs": []
    },
    {
      "cell_type": "markdown",
      "metadata": {
        "id": "5ltqmJ38TfTc"
      },
      "source": [
        "**Criando lista com os valores que queremos**"
      ]
    },
    {
      "cell_type": "code",
      "metadata": {
        "id": "UZbLaxa0AKkj",
        "outputId": "c2d263fd-f135-450e-96a9-e91bb2c9f536",
        "colab": {
          "base_uri": "https://localhost:8080/",
          "height": 35
        }
      },
      "source": [
        "lista_alpha = list(range(1,11))\n",
        "lista_alpha"
      ],
      "execution_count": null,
      "outputs": [
        {
          "output_type": "execute_result",
          "data": {
            "text/plain": [
              "[1, 2, 3, 4, 5, 6, 7, 8, 9, 10]"
            ]
          },
          "metadata": {
            "tags": []
          },
          "execution_count": 25
        }
      ]
    },
    {
      "cell_type": "markdown",
      "metadata": {
        "id": "zKaF0Rq9Ti41"
      },
      "source": [
        "**Criando o dicionários**\n",
        "\n",
        "Somente é possível após a criação do dicionário."
      ]
    },
    {
      "cell_type": "code",
      "metadata": {
        "id": "4tDTnYgxANMa"
      },
      "source": [
        "parametros_grid = dict(alpha=lista_alpha)"
      ],
      "execution_count": null,
      "outputs": []
    },
    {
      "cell_type": "markdown",
      "metadata": {
        "id": "JC8WMYhDTy9y"
      },
      "source": [
        "**Intanciando o novo modelo**"
      ]
    },
    {
      "cell_type": "code",
      "metadata": {
        "id": "dyFErHC8APfh"
      },
      "source": [
        "modelo2 = MultinomialNB()"
      ],
      "execution_count": null,
      "outputs": []
    },
    {
      "cell_type": "markdown",
      "metadata": {
        "id": "f30W3kdsT2Qm"
      },
      "source": [
        "**Criando o objeto Grid**"
      ]
    },
    {
      "cell_type": "code",
      "metadata": {
        "id": "QNzrlRneATDM"
      },
      "source": [
        "grid = GridSearchCV(modelo2, parametros_grid, cv=10, scoring='accuracy')"
      ],
      "execution_count": null,
      "outputs": []
    },
    {
      "cell_type": "markdown",
      "metadata": {
        "id": "tHXVZ94YT5yN"
      },
      "source": [
        "**Treinando os dados**"
      ]
    },
    {
      "cell_type": "code",
      "metadata": {
        "id": "DbqF8JTqAXFH",
        "outputId": "dc36299c-38d6-40db-fe34-c2b6b7174e52",
        "colab": {
          "base_uri": "https://localhost:8080/",
          "height": 146
        }
      },
      "source": [
        "freq_tweets = vectorizer.fit_transform(tweets)\n",
        "grid.fit(freq_tweets, classes)"
      ],
      "execution_count": null,
      "outputs": [
        {
          "output_type": "execute_result",
          "data": {
            "text/plain": [
              "GridSearchCV(cv=10, error_score=nan,\n",
              "             estimator=MultinomialNB(alpha=1.0, class_prior=None,\n",
              "                                     fit_prior=True),\n",
              "             iid='deprecated', n_jobs=None,\n",
              "             param_grid={'alpha': [1, 2, 3, 4, 5, 6, 7, 8, 9, 10]},\n",
              "             pre_dispatch='2*n_jobs', refit=True, return_train_score=False,\n",
              "             scoring='accuracy', verbose=0)"
            ]
          },
          "metadata": {
            "tags": []
          },
          "execution_count": 29
        }
      ]
    },
    {
      "cell_type": "markdown",
      "metadata": {
        "id": "waFp5x7kAZ6l"
      },
      "source": [
        "**Melhores scores**"
      ]
    },
    {
      "cell_type": "code",
      "metadata": {
        "id": "Y9_eVl-aAYR6",
        "outputId": "04769dae-5717-4149-e115-50b886e0c251",
        "colab": {
          "base_uri": "https://localhost:8080/",
          "height": 917
        }
      },
      "source": [
        "grid.cv_results_"
      ],
      "execution_count": null,
      "outputs": [
        {
          "output_type": "execute_result",
          "data": {
            "text/plain": [
              "{'mean_fit_time': array([0.01599731, 0.01767006, 0.01673553, 0.01697488, 0.0163343 ,\n",
              "        0.01607206, 0.01623995, 0.01851459, 0.01633751, 0.01661718]),\n",
              " 'mean_score_time': array([0.00112195, 0.00114274, 0.00111074, 0.00109344, 0.00108624,\n",
              "        0.00105548, 0.00107794, 0.0012351 , 0.00110395, 0.00112293]),\n",
              " 'mean_test_score': array([0.86648463, 0.86439889, 0.86196924, 0.85537593, 0.84965007,\n",
              "        0.85779114, 0.8539756 , 0.84027958, 0.83785083, 0.83177715]),\n",
              " 'param_alpha': masked_array(data=[1, 2, 3, 4, 5, 6, 7, 8, 9, 10],\n",
              "              mask=[False, False, False, False, False, False, False, False,\n",
              "                    False, False],\n",
              "        fill_value='?',\n",
              "             dtype=object),\n",
              " 'params': [{'alpha': 1},\n",
              "  {'alpha': 2},\n",
              "  {'alpha': 3},\n",
              "  {'alpha': 4},\n",
              "  {'alpha': 5},\n",
              "  {'alpha': 6},\n",
              "  {'alpha': 7},\n",
              "  {'alpha': 8},\n",
              "  {'alpha': 9},\n",
              "  {'alpha': 10}],\n",
              " 'rank_test_score': array([ 1,  2,  3,  5,  7,  4,  6,  8,  9, 10], dtype=int32),\n",
              " 'split0_test_score': array([0.50259965, 0.50433276, 0.52339688, 0.52166378, 0.51819757,\n",
              "        0.51993068, 0.51646447, 0.52686308, 0.53379549, 0.53206239]),\n",
              " 'split1_test_score': array([0.86655113, 0.89948007, 0.90641248, 0.89948007, 0.89774697,\n",
              "        0.89428076, 0.89254766, 0.89254766, 0.88908146, 0.88214905]),\n",
              " 'split2_test_score': array([0.82322357, 0.82149047, 0.80935875, 0.80762565, 0.79896014,\n",
              "        0.91334489, 0.90294627, 0.78856153, 0.78336222, 0.78336222]),\n",
              " 'split3_test_score': array([0.91854419, 0.90294627, 0.89601386, 0.88561525, 0.88388215,\n",
              "        0.87868284, 0.87694974, 0.87521664, 0.87001733, 0.87001733]),\n",
              " 'split4_test_score': array([0.93760832, 0.93414211, 0.9220104 , 0.9202773 , 0.91681109,\n",
              "        0.91681109, 0.91161179, 0.90641248, 0.90294627, 0.89601386]),\n",
              " 'split5_test_score': array([0.96875   , 0.94618056, 0.94097222, 0.93576389, 0.93576389,\n",
              "        0.93402778, 0.93229167, 0.92708333, 0.92708333, 0.92361111]),\n",
              " 'split6_test_score': array([0.91840278, 0.91493056, 0.92013889, 0.90277778, 0.87847222,\n",
              "        0.86458333, 0.86111111, 0.85590278, 0.85069444, 0.82465278]),\n",
              " 'split7_test_score': array([0.89756944, 0.91319444, 0.91145833, 0.90277778, 0.90277778,\n",
              "        0.89756944, 0.89236111, 0.890625  , 0.88888889, 0.88194444]),\n",
              " 'split8_test_score': array([0.91666667, 0.89756944, 0.88194444, 0.88020833, 0.875     ,\n",
              "        0.87326389, 0.86979167, 0.86458333, 0.86111111, 0.85590278]),\n",
              " 'split9_test_score': array([0.91493056, 0.90972222, 0.90798611, 0.89756944, 0.88888889,\n",
              "        0.88541667, 0.88368056, 0.875     , 0.87152778, 0.86805556]),\n",
              " 'std_fit_time': array([0.00052296, 0.00319095, 0.00085375, 0.00200409, 0.00032749,\n",
              "        0.00011555, 0.00021388, 0.00348871, 0.00026847, 0.00040152]),\n",
              " 'std_score_time': array([9.59700855e-05, 1.85733919e-04, 3.57293609e-05, 6.24144869e-05,\n",
              "        3.47131229e-05, 1.80364876e-05, 2.90997274e-05, 2.88966489e-04,\n",
              "        3.78925137e-05, 4.49946395e-05]),\n",
              " 'std_test_score': array([0.12690066, 0.12403493, 0.11778336, 0.11578804, 0.11561883,\n",
              "        0.11442477, 0.11421022, 0.1101547 , 0.10757453, 0.10639459])}"
            ]
          },
          "metadata": {
            "tags": []
          },
          "execution_count": 30
        }
      ]
    },
    {
      "cell_type": "markdown",
      "metadata": {
        "id": "3L-4hx8NAe6T"
      },
      "source": [
        "**Melhores parâmetros**"
      ]
    },
    {
      "cell_type": "code",
      "metadata": {
        "id": "SjU_glHOAcx1",
        "outputId": "47026e84-ac60-4bd1-ae20-7fecc7612f3f",
        "colab": {
          "base_uri": "https://localhost:8080/",
          "height": 35
        }
      },
      "source": [
        "grid.best_params_"
      ],
      "execution_count": null,
      "outputs": [
        {
          "output_type": "execute_result",
          "data": {
            "text/plain": [
              "{'alpha': 1}"
            ]
          },
          "metadata": {
            "tags": []
          },
          "execution_count": 31
        }
      ]
    },
    {
      "cell_type": "markdown",
      "metadata": {
        "id": "dW5mg3zCUGp3"
      },
      "source": [
        "**Melhor score**"
      ]
    },
    {
      "cell_type": "code",
      "metadata": {
        "id": "OavYWbOzAgeO",
        "outputId": "3f7d9198-3b15-47df-9983-88f6f4662b38",
        "colab": {
          "base_uri": "https://localhost:8080/",
          "height": 35
        }
      },
      "source": [
        "grid.best_score_"
      ],
      "execution_count": null,
      "outputs": [
        {
          "output_type": "execute_result",
          "data": {
            "text/plain": [
              "0.8664846307529368"
            ]
          },
          "metadata": {
            "tags": []
          },
          "execution_count": 32
        }
      ]
    },
    {
      "cell_type": "markdown",
      "metadata": {
        "id": "NT9q8UOsUJdZ"
      },
      "source": [
        "**Treinando com o novo valor**\n",
        "\n",
        "O parâmetro do algoritmo é 1, ou seja, o melhor valor encontrado pelo **GridSearchCV** foi o que já tinhamos passado, contudo com o valor 1 temos um desempenho muito grande nos valores positivos em detrimento dos demais.\n",
        "\n",
        "Desta feita, o algoritmo parece está sendo enviesado e, não teria como ser diferente pois a base de dados está muito desbalanceada.\n",
        "\n",
        "Desse modo, passaremos o `alpha=5` pois, embora o *score* diminua, ele fica na mesma proporção dos demais, sendo assim, consegue generalizar melhor."
      ]
    },
    {
      "cell_type": "code",
      "metadata": {
        "id": "wx8WZ2ZXAid6",
        "outputId": "5f043d6d-65b3-4838-ca9b-905497d23427",
        "colab": {
          "base_uri": "https://localhost:8080/",
          "height": 35
        }
      },
      "source": [
        "vectorizer = CountVectorizer(analyzer=\"word\")\n",
        "freq_tweets = vectorizer.fit_transform(tweets)\n",
        "modelo = MultinomialNB(alpha=5)\n",
        "modelo.fit(freq_tweets,classes)"
      ],
      "execution_count": null,
      "outputs": [
        {
          "output_type": "execute_result",
          "data": {
            "text/plain": [
              "MultinomialNB(alpha=5, class_prior=None, fit_prior=True)"
            ]
          },
          "metadata": {
            "tags": []
          },
          "execution_count": 33
        }
      ]
    },
    {
      "cell_type": "code",
      "metadata": {
        "id": "f1N0dEMZAo3F"
      },
      "source": [
        "freq_testes = vectorizer.transform(testes)"
      ],
      "execution_count": null,
      "outputs": []
    },
    {
      "cell_type": "code",
      "metadata": {
        "id": "y_DK-Y9WAqos",
        "outputId": "7d27b8da-4d83-43ad-ab4d-d01719678646",
        "colab": {
          "base_uri": "https://localhost:8080/",
          "height": 54
        }
      },
      "source": [
        "# Fazendo a classificação com o modelo treinado.\n",
        "modelo.predict(freq_testes)"
      ],
      "execution_count": null,
      "outputs": [
        {
          "output_type": "execute_result",
          "data": {
            "text/plain": [
              "array(['Negativo', 'Negativo', 'Positivo', 'Negativo', 'Negativo',\n",
              "       'Neutro', 'Neutro', 'Neutro', 'Neutro'], dtype='<U8')"
            ]
          },
          "metadata": {
            "tags": []
          },
          "execution_count": 35
        }
      ]
    },
    {
      "cell_type": "code",
      "metadata": {
        "id": "7nOwLscQA6Y0"
      },
      "source": [
        "resultados = cross_val_predict(modelo, freq_tweets, classes, cv=10)"
      ],
      "execution_count": null,
      "outputs": []
    },
    {
      "cell_type": "code",
      "metadata": {
        "id": "lc0Ko0SGB58q",
        "outputId": "7c27af37-7757-423a-d135-37d834da6b21",
        "colab": {
          "base_uri": "https://localhost:8080/",
          "height": 201
        }
      },
      "source": [
        "sentimento=['Positivo','Negativo','Neutro']\n",
        "print (metrics.classification_report(classes,resultados,sentimento))"
      ],
      "execution_count": null,
      "outputs": [
        {
          "output_type": "stream",
          "text": [
            "              precision    recall  f1-score   support\n",
            "\n",
            "    Positivo       0.89      0.92      0.90      2840\n",
            "    Negativo       0.84      0.78      0.81       951\n",
            "      Neutro       0.79      0.79      0.79      1974\n",
            "\n",
            "    accuracy                           0.85      5765\n",
            "   macro avg       0.84      0.83      0.83      5765\n",
            "weighted avg       0.85      0.85      0.85      5765\n",
            "\n"
          ],
          "name": "stdout"
        }
      ]
    },
    {
      "cell_type": "markdown",
      "metadata": {
        "id": "nKsrIo5UVZf2"
      },
      "source": [
        "Veja que, aqui o valor positivo caiu, mas como falado acima, é melhor que ele diminua e fique próximo aos demais do que ter uma acurácia próxima a 100%, mostrando claramente estar enviesado."
      ]
    },
    {
      "cell_type": "markdown",
      "metadata": {
        "id": "DltFhr6cC1lg"
      },
      "source": [
        "# Obrigado!\n",
        "\n",
        "Obrigado por ter disponibilizado um pouco do seu tempo e atenção aqui. Espero que, de alguma forma, tenha sido útil para seu crescimento. Se houver qualquer dúvida ou sugestão, não hesite em entrar em contato no [LinkedIn](https://www.linkedin.com/in/daniel-sousa-amador) e verificar meus outros projetos no [GitHub](https://github.com/amadords).\n",
        "\n",
        "[![LinkedIn](https://img.shields.io/badge/LinkedIn-DanielSousaAmador-purple.svg)](https://www.linkedin.com/in/daniel-sousa-amador)\n",
        "[![GitHub](https://img.shields.io/badge/GitHub-amadords-yellow.svg)](https://github.com/amadords)\n",
        "[![Medium](https://img.shields.io/badge/Medium-DanielSousaAmador-darkblue.svg)](https://medium.com/@daniel.s.amador)\n",
        "\n",
        "\n",
        "\n",
        "<center><img width=\"90%\" src=\"https://raw.githubusercontent.com/danielamador12/Portfolio/master/github.png\"></center>"
      ]
    }
  ]
}