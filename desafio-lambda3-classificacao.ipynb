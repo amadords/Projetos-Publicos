{
 "cells": [
  {
   "cell_type": "markdown",
   "metadata": {},
   "source": [
    "# Desafio - Vaga para Cientista de Dados"
   ]
  },
  {
   "cell_type": "markdown",
   "metadata": {},
   "source": [
    "**Empresa**: Lambda3 (https://www.lambda3.com.br/)\n",
    "\n",
    "**Complexidade**: Intermediário\n",
    "\n",
    "**Tarefa avaliada**: Machine Learning - Classificação\n",
    "\n",
    "**Requisitos**: \n",
    "- Ferramentas Essenciais.\n",
    "- Conceitos e Aplicações.\n",
    "- Dominando o Python\n",
    "- Python para Análise de Dados.\n",
    "- Machine Learning\n",
    "    - Algoritmos de Classificação\n",
    "    - Técnicas de Validação\n",
    "    - Tunning de Modelos\n",
    "\n",
    "**Objetivo**: Este desafio tem como objetivo avaliar as habilidades do candidato em relação a uma tarefa simples de classificação, conforme descrito pela empresa. \n",
    "Todas as etapas do desafio podem ser resolvidos com os conhecimentos adquiridos no capítulo de Machine Learning.\n",
    "\n",
    "**Recursos**: Para este desafio é proposto o dataset Iris e poder ser visualizado [aqui](https://archive.ics.uci.edu/ml/datasets/Iris)."
   ]
  },
  {
   "cell_type": "markdown",
   "metadata": {},
   "source": [
    "**Importando as bibliotecas necessárias**"
   ]
  },
  {
   "cell_type": "code",
   "execution_count": 1,
   "metadata": {},
   "outputs": [],
   "source": [
    "import pandas as pd\n",
    "from sklearn.preprocessing import LabelEncoder\n",
    "from sklearn.model_selection import cross_val_predict\n",
    "from sklearn.metrics import classification_report\n",
    "from sklearn.metrics import accuracy_score\n",
    "from sklearn.datasets import load_iris\n",
    "import matplotlib.pyplot as plt\n",
    "from sklearn.model_selection import GridSearchCV\n",
    "from sklearn.model_selection import train_test_split\n",
    "from sklearn.pipeline import Pipeline\n",
    "from sklearn.preprocessing import StandardScaler, MinMaxScaler\n",
    "from sklearn.neighbors import KNeighborsClassifier\n",
    "from sklearn import svm\n",
    "from sklearn.ensemble import RandomForestClassifier\n",
    "from sklearn.tree import DecisionTreeClassifier\n",
    "from sklearn.cluster import KMeans\n",
    "from sklearn.naive_bayes import MultinomialNB"
   ]
  },
  {
   "cell_type": "markdown",
   "metadata": {},
   "source": [
    "<p><span style=\"color:red\">O dataset deve ser o Iris.</span></p>"
   ]
  },
  {
   "cell_type": "markdown",
   "metadata": {},
   "source": [
    "**Importando o dataset Iris.**"
   ]
  },
  {
   "cell_type": "code",
   "execution_count": 2,
   "metadata": {},
   "outputs": [],
   "source": [
    "iris = load_iris()"
   ]
  },
  {
   "cell_type": "code",
   "execution_count": 3,
   "metadata": {},
   "outputs": [
    {
     "data": {
      "text/plain": [
       "array([[5.1, 3.5, 1.4, 0.2],\n",
       "       [4.9, 3. , 1.4, 0.2],\n",
       "       [4.7, 3.2, 1.3, 0.2],\n",
       "       [4.6, 3.1, 1.5, 0.2],\n",
       "       [5. , 3.6, 1.4, 0.2],\n",
       "       [5.4, 3.9, 1.7, 0.4],\n",
       "       [4.6, 3.4, 1.4, 0.3],\n",
       "       [5. , 3.4, 1.5, 0.2],\n",
       "       [4.4, 2.9, 1.4, 0.2],\n",
       "       [4.9, 3.1, 1.5, 0.1],\n",
       "       [5.4, 3.7, 1.5, 0.2],\n",
       "       [4.8, 3.4, 1.6, 0.2],\n",
       "       [4.8, 3. , 1.4, 0.1],\n",
       "       [4.3, 3. , 1.1, 0.1],\n",
       "       [5.8, 4. , 1.2, 0.2],\n",
       "       [5.7, 4.4, 1.5, 0.4],\n",
       "       [5.4, 3.9, 1.3, 0.4],\n",
       "       [5.1, 3.5, 1.4, 0.3],\n",
       "       [5.7, 3.8, 1.7, 0.3],\n",
       "       [5.1, 3.8, 1.5, 0.3],\n",
       "       [5.4, 3.4, 1.7, 0.2],\n",
       "       [5.1, 3.7, 1.5, 0.4],\n",
       "       [4.6, 3.6, 1. , 0.2],\n",
       "       [5.1, 3.3, 1.7, 0.5],\n",
       "       [4.8, 3.4, 1.9, 0.2],\n",
       "       [5. , 3. , 1.6, 0.2],\n",
       "       [5. , 3.4, 1.6, 0.4],\n",
       "       [5.2, 3.5, 1.5, 0.2],\n",
       "       [5.2, 3.4, 1.4, 0.2],\n",
       "       [4.7, 3.2, 1.6, 0.2],\n",
       "       [4.8, 3.1, 1.6, 0.2],\n",
       "       [5.4, 3.4, 1.5, 0.4],\n",
       "       [5.2, 4.1, 1.5, 0.1],\n",
       "       [5.5, 4.2, 1.4, 0.2],\n",
       "       [4.9, 3.1, 1.5, 0.2],\n",
       "       [5. , 3.2, 1.2, 0.2],\n",
       "       [5.5, 3.5, 1.3, 0.2],\n",
       "       [4.9, 3.6, 1.4, 0.1],\n",
       "       [4.4, 3. , 1.3, 0.2],\n",
       "       [5.1, 3.4, 1.5, 0.2],\n",
       "       [5. , 3.5, 1.3, 0.3],\n",
       "       [4.5, 2.3, 1.3, 0.3],\n",
       "       [4.4, 3.2, 1.3, 0.2],\n",
       "       [5. , 3.5, 1.6, 0.6],\n",
       "       [5.1, 3.8, 1.9, 0.4],\n",
       "       [4.8, 3. , 1.4, 0.3],\n",
       "       [5.1, 3.8, 1.6, 0.2],\n",
       "       [4.6, 3.2, 1.4, 0.2],\n",
       "       [5.3, 3.7, 1.5, 0.2],\n",
       "       [5. , 3.3, 1.4, 0.2],\n",
       "       [7. , 3.2, 4.7, 1.4],\n",
       "       [6.4, 3.2, 4.5, 1.5],\n",
       "       [6.9, 3.1, 4.9, 1.5],\n",
       "       [5.5, 2.3, 4. , 1.3],\n",
       "       [6.5, 2.8, 4.6, 1.5],\n",
       "       [5.7, 2.8, 4.5, 1.3],\n",
       "       [6.3, 3.3, 4.7, 1.6],\n",
       "       [4.9, 2.4, 3.3, 1. ],\n",
       "       [6.6, 2.9, 4.6, 1.3],\n",
       "       [5.2, 2.7, 3.9, 1.4],\n",
       "       [5. , 2. , 3.5, 1. ],\n",
       "       [5.9, 3. , 4.2, 1.5],\n",
       "       [6. , 2.2, 4. , 1. ],\n",
       "       [6.1, 2.9, 4.7, 1.4],\n",
       "       [5.6, 2.9, 3.6, 1.3],\n",
       "       [6.7, 3.1, 4.4, 1.4],\n",
       "       [5.6, 3. , 4.5, 1.5],\n",
       "       [5.8, 2.7, 4.1, 1. ],\n",
       "       [6.2, 2.2, 4.5, 1.5],\n",
       "       [5.6, 2.5, 3.9, 1.1],\n",
       "       [5.9, 3.2, 4.8, 1.8],\n",
       "       [6.1, 2.8, 4. , 1.3],\n",
       "       [6.3, 2.5, 4.9, 1.5],\n",
       "       [6.1, 2.8, 4.7, 1.2],\n",
       "       [6.4, 2.9, 4.3, 1.3],\n",
       "       [6.6, 3. , 4.4, 1.4],\n",
       "       [6.8, 2.8, 4.8, 1.4],\n",
       "       [6.7, 3. , 5. , 1.7],\n",
       "       [6. , 2.9, 4.5, 1.5],\n",
       "       [5.7, 2.6, 3.5, 1. ],\n",
       "       [5.5, 2.4, 3.8, 1.1],\n",
       "       [5.5, 2.4, 3.7, 1. ],\n",
       "       [5.8, 2.7, 3.9, 1.2],\n",
       "       [6. , 2.7, 5.1, 1.6],\n",
       "       [5.4, 3. , 4.5, 1.5],\n",
       "       [6. , 3.4, 4.5, 1.6],\n",
       "       [6.7, 3.1, 4.7, 1.5],\n",
       "       [6.3, 2.3, 4.4, 1.3],\n",
       "       [5.6, 3. , 4.1, 1.3],\n",
       "       [5.5, 2.5, 4. , 1.3],\n",
       "       [5.5, 2.6, 4.4, 1.2],\n",
       "       [6.1, 3. , 4.6, 1.4],\n",
       "       [5.8, 2.6, 4. , 1.2],\n",
       "       [5. , 2.3, 3.3, 1. ],\n",
       "       [5.6, 2.7, 4.2, 1.3],\n",
       "       [5.7, 3. , 4.2, 1.2],\n",
       "       [5.7, 2.9, 4.2, 1.3],\n",
       "       [6.2, 2.9, 4.3, 1.3],\n",
       "       [5.1, 2.5, 3. , 1.1],\n",
       "       [5.7, 2.8, 4.1, 1.3],\n",
       "       [6.3, 3.3, 6. , 2.5],\n",
       "       [5.8, 2.7, 5.1, 1.9],\n",
       "       [7.1, 3. , 5.9, 2.1],\n",
       "       [6.3, 2.9, 5.6, 1.8],\n",
       "       [6.5, 3. , 5.8, 2.2],\n",
       "       [7.6, 3. , 6.6, 2.1],\n",
       "       [4.9, 2.5, 4.5, 1.7],\n",
       "       [7.3, 2.9, 6.3, 1.8],\n",
       "       [6.7, 2.5, 5.8, 1.8],\n",
       "       [7.2, 3.6, 6.1, 2.5],\n",
       "       [6.5, 3.2, 5.1, 2. ],\n",
       "       [6.4, 2.7, 5.3, 1.9],\n",
       "       [6.8, 3. , 5.5, 2.1],\n",
       "       [5.7, 2.5, 5. , 2. ],\n",
       "       [5.8, 2.8, 5.1, 2.4],\n",
       "       [6.4, 3.2, 5.3, 2.3],\n",
       "       [6.5, 3. , 5.5, 1.8],\n",
       "       [7.7, 3.8, 6.7, 2.2],\n",
       "       [7.7, 2.6, 6.9, 2.3],\n",
       "       [6. , 2.2, 5. , 1.5],\n",
       "       [6.9, 3.2, 5.7, 2.3],\n",
       "       [5.6, 2.8, 4.9, 2. ],\n",
       "       [7.7, 2.8, 6.7, 2. ],\n",
       "       [6.3, 2.7, 4.9, 1.8],\n",
       "       [6.7, 3.3, 5.7, 2.1],\n",
       "       [7.2, 3.2, 6. , 1.8],\n",
       "       [6.2, 2.8, 4.8, 1.8],\n",
       "       [6.1, 3. , 4.9, 1.8],\n",
       "       [6.4, 2.8, 5.6, 2.1],\n",
       "       [7.2, 3. , 5.8, 1.6],\n",
       "       [7.4, 2.8, 6.1, 1.9],\n",
       "       [7.9, 3.8, 6.4, 2. ],\n",
       "       [6.4, 2.8, 5.6, 2.2],\n",
       "       [6.3, 2.8, 5.1, 1.5],\n",
       "       [6.1, 2.6, 5.6, 1.4],\n",
       "       [7.7, 3. , 6.1, 2.3],\n",
       "       [6.3, 3.4, 5.6, 2.4],\n",
       "       [6.4, 3.1, 5.5, 1.8],\n",
       "       [6. , 3. , 4.8, 1.8],\n",
       "       [6.9, 3.1, 5.4, 2.1],\n",
       "       [6.7, 3.1, 5.6, 2.4],\n",
       "       [6.9, 3.1, 5.1, 2.3],\n",
       "       [5.8, 2.7, 5.1, 1.9],\n",
       "       [6.8, 3.2, 5.9, 2.3],\n",
       "       [6.7, 3.3, 5.7, 2.5],\n",
       "       [6.7, 3. , 5.2, 2.3],\n",
       "       [6.3, 2.5, 5. , 1.9],\n",
       "       [6.5, 3. , 5.2, 2. ],\n",
       "       [6.2, 3.4, 5.4, 2.3],\n",
       "       [5.9, 3. , 5.1, 1.8]])"
      ]
     },
     "execution_count": 3,
     "metadata": {},
     "output_type": "execute_result"
    }
   ],
   "source": [
    "iris.data"
   ]
  },
  {
   "cell_type": "code",
   "execution_count": 4,
   "metadata": {},
   "outputs": [
    {
     "data": {
      "text/plain": [
       "array([0, 0, 0, 0, 0, 0, 0, 0, 0, 0, 0, 0, 0, 0, 0, 0, 0, 0, 0, 0, 0, 0,\n",
       "       0, 0, 0, 0, 0, 0, 0, 0, 0, 0, 0, 0, 0, 0, 0, 0, 0, 0, 0, 0, 0, 0,\n",
       "       0, 0, 0, 0, 0, 0, 1, 1, 1, 1, 1, 1, 1, 1, 1, 1, 1, 1, 1, 1, 1, 1,\n",
       "       1, 1, 1, 1, 1, 1, 1, 1, 1, 1, 1, 1, 1, 1, 1, 1, 1, 1, 1, 1, 1, 1,\n",
       "       1, 1, 1, 1, 1, 1, 1, 1, 1, 1, 1, 1, 2, 2, 2, 2, 2, 2, 2, 2, 2, 2,\n",
       "       2, 2, 2, 2, 2, 2, 2, 2, 2, 2, 2, 2, 2, 2, 2, 2, 2, 2, 2, 2, 2, 2,\n",
       "       2, 2, 2, 2, 2, 2, 2, 2, 2, 2, 2, 2, 2, 2, 2, 2, 2, 2])"
      ]
     },
     "execution_count": 4,
     "metadata": {},
     "output_type": "execute_result"
    }
   ],
   "source": [
    "iris.target"
   ]
  },
  {
   "cell_type": "markdown",
   "metadata": {},
   "source": [
    "**Verificando os dados e atributos da base de dados.**"
   ]
  },
  {
   "cell_type": "code",
   "execution_count": 5,
   "metadata": {},
   "outputs": [
    {
     "data": {
      "text/plain": [
       "array(['setosa', 'versicolor', 'virginica'], dtype='<U10')"
      ]
     },
     "execution_count": 5,
     "metadata": {},
     "output_type": "execute_result"
    }
   ],
   "source": [
    "iris.target_names # 0 setosa 1 versicolor 2 virginica"
   ]
  },
  {
   "cell_type": "code",
   "execution_count": 6,
   "metadata": {},
   "outputs": [
    {
     "data": {
      "text/plain": [
       "['sepal length (cm)',\n",
       " 'sepal width (cm)',\n",
       " 'petal length (cm)',\n",
       " 'petal width (cm)']"
      ]
     },
     "execution_count": 6,
     "metadata": {},
     "output_type": "execute_result"
    }
   ],
   "source": [
    "iris.feature_names"
   ]
  },
  {
   "cell_type": "code",
   "execution_count": 7,
   "metadata": {},
   "outputs": [],
   "source": [
    "iris.frame"
   ]
  },
  {
   "cell_type": "code",
   "execution_count": 8,
   "metadata": {
    "scrolled": true
   },
   "outputs": [
    {
     "data": {
      "text/html": [
       "<div>\n",
       "<style scoped>\n",
       "    .dataframe tbody tr th:only-of-type {\n",
       "        vertical-align: middle;\n",
       "    }\n",
       "\n",
       "    .dataframe tbody tr th {\n",
       "        vertical-align: top;\n",
       "    }\n",
       "\n",
       "    .dataframe thead th {\n",
       "        text-align: right;\n",
       "    }\n",
       "</style>\n",
       "<table border=\"1\" class=\"dataframe\">\n",
       "  <thead>\n",
       "    <tr style=\"text-align: right;\">\n",
       "      <th></th>\n",
       "      <th>sepal length (cm)</th>\n",
       "      <th>sepal width (cm)</th>\n",
       "      <th>petal length (cm)</th>\n",
       "      <th>petal width (cm)</th>\n",
       "      <th>class</th>\n",
       "    </tr>\n",
       "  </thead>\n",
       "  <tbody>\n",
       "    <tr>\n",
       "      <th>0</th>\n",
       "      <td>5.1</td>\n",
       "      <td>3.5</td>\n",
       "      <td>1.4</td>\n",
       "      <td>0.2</td>\n",
       "      <td>0</td>\n",
       "    </tr>\n",
       "    <tr>\n",
       "      <th>1</th>\n",
       "      <td>4.9</td>\n",
       "      <td>3.0</td>\n",
       "      <td>1.4</td>\n",
       "      <td>0.2</td>\n",
       "      <td>0</td>\n",
       "    </tr>\n",
       "    <tr>\n",
       "      <th>2</th>\n",
       "      <td>4.7</td>\n",
       "      <td>3.2</td>\n",
       "      <td>1.3</td>\n",
       "      <td>0.2</td>\n",
       "      <td>0</td>\n",
       "    </tr>\n",
       "    <tr>\n",
       "      <th>3</th>\n",
       "      <td>4.6</td>\n",
       "      <td>3.1</td>\n",
       "      <td>1.5</td>\n",
       "      <td>0.2</td>\n",
       "      <td>0</td>\n",
       "    </tr>\n",
       "    <tr>\n",
       "      <th>4</th>\n",
       "      <td>5.0</td>\n",
       "      <td>3.6</td>\n",
       "      <td>1.4</td>\n",
       "      <td>0.2</td>\n",
       "      <td>0</td>\n",
       "    </tr>\n",
       "  </tbody>\n",
       "</table>\n",
       "</div>"
      ],
      "text/plain": [
       "   sepal length (cm)  sepal width (cm)  petal length (cm)  petal width (cm)  \\\n",
       "0                5.1               3.5                1.4               0.2   \n",
       "1                4.9               3.0                1.4               0.2   \n",
       "2                4.7               3.2                1.3               0.2   \n",
       "3                4.6               3.1                1.5               0.2   \n",
       "4                5.0               3.6                1.4               0.2   \n",
       "\n",
       "   class  \n",
       "0      0  \n",
       "1      0  \n",
       "2      0  \n",
       "3      0  \n",
       "4      0  "
      ]
     },
     "execution_count": 8,
     "metadata": {},
     "output_type": "execute_result"
    }
   ],
   "source": [
    "iris_df=pd.DataFrame(iris.data,columns=iris.feature_names)\n",
    "iris_df['class']=iris.target\n",
    "iris_df\n",
    "iris=iris_df.copy()\n",
    "iris.head()"
   ]
  },
  {
   "cell_type": "code",
   "execution_count": 9,
   "metadata": {},
   "outputs": [
    {
     "name": "stdout",
     "output_type": "stream",
     "text": [
      "<class 'pandas.core.frame.DataFrame'>\n",
      "RangeIndex: 150 entries, 0 to 149\n",
      "Data columns (total 5 columns):\n",
      " #   Column             Non-Null Count  Dtype  \n",
      "---  ------             --------------  -----  \n",
      " 0   sepal length (cm)  150 non-null    float64\n",
      " 1   sepal width (cm)   150 non-null    float64\n",
      " 2   petal length (cm)  150 non-null    float64\n",
      " 3   petal width (cm)   150 non-null    float64\n",
      " 4   class              150 non-null    int64  \n",
      "dtypes: float64(4), int64(1)\n",
      "memory usage: 6.0 KB\n"
     ]
    }
   ],
   "source": [
    "iris.info()"
   ]
  },
  {
   "cell_type": "markdown",
   "metadata": {},
   "source": [
    "<p><span style=\"color:red\"> Receber as entradas específicas (escolher as variáveis pertinentes).</span></p>\n",
    "<p><span style=\"color:red\"> Justificar a escolha das variáveis.</span></p>\n"
   ]
  },
  {
   "cell_type": "markdown",
   "metadata": {},
   "source": [
    "**Separando separando os atributos que serão utilizados como features e a classe.**"
   ]
  },
  {
   "cell_type": "code",
   "execution_count": 10,
   "metadata": {},
   "outputs": [],
   "source": [
    "X = iris.drop(\"class\",axis=1)"
   ]
  },
  {
   "cell_type": "code",
   "execution_count": 11,
   "metadata": {},
   "outputs": [],
   "source": [
    "y = iris[\"class\"]"
   ]
  },
  {
   "cell_type": "markdown",
   "metadata": {},
   "source": [
    "**Verificando as formas das variáveis.**"
   ]
  },
  {
   "cell_type": "code",
   "execution_count": 12,
   "metadata": {},
   "outputs": [
    {
     "data": {
      "text/plain": [
       "(150, 4)"
      ]
     },
     "execution_count": 12,
     "metadata": {},
     "output_type": "execute_result"
    }
   ],
   "source": [
    "X.shape"
   ]
  },
  {
   "cell_type": "code",
   "execution_count": 13,
   "metadata": {},
   "outputs": [
    {
     "data": {
      "text/plain": [
       "(150,)"
      ]
     },
     "execution_count": 13,
     "metadata": {},
     "output_type": "execute_result"
    }
   ],
   "source": [
    "y.shape"
   ]
  },
  {
   "cell_type": "code",
   "execution_count": 14,
   "metadata": {
    "scrolled": true
   },
   "outputs": [
    {
     "data": {
      "application/javascript": [
       "/* Put everything inside the global mpl namespace */\n",
       "window.mpl = {};\n",
       "\n",
       "\n",
       "mpl.get_websocket_type = function() {\n",
       "    if (typeof(WebSocket) !== 'undefined') {\n",
       "        return WebSocket;\n",
       "    } else if (typeof(MozWebSocket) !== 'undefined') {\n",
       "        return MozWebSocket;\n",
       "    } else {\n",
       "        alert('Your browser does not have WebSocket support. ' +\n",
       "              'Please try Chrome, Safari or Firefox ≥ 6. ' +\n",
       "              'Firefox 4 and 5 are also supported but you ' +\n",
       "              'have to enable WebSockets in about:config.');\n",
       "    };\n",
       "}\n",
       "\n",
       "mpl.figure = function(figure_id, websocket, ondownload, parent_element) {\n",
       "    this.id = figure_id;\n",
       "\n",
       "    this.ws = websocket;\n",
       "\n",
       "    this.supports_binary = (this.ws.binaryType != undefined);\n",
       "\n",
       "    if (!this.supports_binary) {\n",
       "        var warnings = document.getElementById(\"mpl-warnings\");\n",
       "        if (warnings) {\n",
       "            warnings.style.display = 'block';\n",
       "            warnings.textContent = (\n",
       "                \"This browser does not support binary websocket messages. \" +\n",
       "                    \"Performance may be slow.\");\n",
       "        }\n",
       "    }\n",
       "\n",
       "    this.imageObj = new Image();\n",
       "\n",
       "    this.context = undefined;\n",
       "    this.message = undefined;\n",
       "    this.canvas = undefined;\n",
       "    this.rubberband_canvas = undefined;\n",
       "    this.rubberband_context = undefined;\n",
       "    this.format_dropdown = undefined;\n",
       "\n",
       "    this.image_mode = 'full';\n",
       "\n",
       "    this.root = $('<div/>');\n",
       "    this._root_extra_style(this.root)\n",
       "    this.root.attr('style', 'display: inline-block');\n",
       "\n",
       "    $(parent_element).append(this.root);\n",
       "\n",
       "    this._init_header(this);\n",
       "    this._init_canvas(this);\n",
       "    this._init_toolbar(this);\n",
       "\n",
       "    var fig = this;\n",
       "\n",
       "    this.waiting = false;\n",
       "\n",
       "    this.ws.onopen =  function () {\n",
       "            fig.send_message(\"supports_binary\", {value: fig.supports_binary});\n",
       "            fig.send_message(\"send_image_mode\", {});\n",
       "            if (mpl.ratio != 1) {\n",
       "                fig.send_message(\"set_dpi_ratio\", {'dpi_ratio': mpl.ratio});\n",
       "            }\n",
       "            fig.send_message(\"refresh\", {});\n",
       "        }\n",
       "\n",
       "    this.imageObj.onload = function() {\n",
       "            if (fig.image_mode == 'full') {\n",
       "                // Full images could contain transparency (where diff images\n",
       "                // almost always do), so we need to clear the canvas so that\n",
       "                // there is no ghosting.\n",
       "                fig.context.clearRect(0, 0, fig.canvas.width, fig.canvas.height);\n",
       "            }\n",
       "            fig.context.drawImage(fig.imageObj, 0, 0);\n",
       "        };\n",
       "\n",
       "    this.imageObj.onunload = function() {\n",
       "        fig.ws.close();\n",
       "    }\n",
       "\n",
       "    this.ws.onmessage = this._make_on_message_function(this);\n",
       "\n",
       "    this.ondownload = ondownload;\n",
       "}\n",
       "\n",
       "mpl.figure.prototype._init_header = function() {\n",
       "    var titlebar = $(\n",
       "        '<div class=\"ui-dialog-titlebar ui-widget-header ui-corner-all ' +\n",
       "        'ui-helper-clearfix\"/>');\n",
       "    var titletext = $(\n",
       "        '<div class=\"ui-dialog-title\" style=\"width: 100%; ' +\n",
       "        'text-align: center; padding: 3px;\"/>');\n",
       "    titlebar.append(titletext)\n",
       "    this.root.append(titlebar);\n",
       "    this.header = titletext[0];\n",
       "}\n",
       "\n",
       "\n",
       "\n",
       "mpl.figure.prototype._canvas_extra_style = function(canvas_div) {\n",
       "\n",
       "}\n",
       "\n",
       "\n",
       "mpl.figure.prototype._root_extra_style = function(canvas_div) {\n",
       "\n",
       "}\n",
       "\n",
       "mpl.figure.prototype._init_canvas = function() {\n",
       "    var fig = this;\n",
       "\n",
       "    var canvas_div = $('<div/>');\n",
       "\n",
       "    canvas_div.attr('style', 'position: relative; clear: both; outline: 0');\n",
       "\n",
       "    function canvas_keyboard_event(event) {\n",
       "        return fig.key_event(event, event['data']);\n",
       "    }\n",
       "\n",
       "    canvas_div.keydown('key_press', canvas_keyboard_event);\n",
       "    canvas_div.keyup('key_release', canvas_keyboard_event);\n",
       "    this.canvas_div = canvas_div\n",
       "    this._canvas_extra_style(canvas_div)\n",
       "    this.root.append(canvas_div);\n",
       "\n",
       "    var canvas = $('<canvas/>');\n",
       "    canvas.addClass('mpl-canvas');\n",
       "    canvas.attr('style', \"left: 0; top: 0; z-index: 0; outline: 0\")\n",
       "\n",
       "    this.canvas = canvas[0];\n",
       "    this.context = canvas[0].getContext(\"2d\");\n",
       "\n",
       "    var backingStore = this.context.backingStorePixelRatio ||\n",
       "\tthis.context.webkitBackingStorePixelRatio ||\n",
       "\tthis.context.mozBackingStorePixelRatio ||\n",
       "\tthis.context.msBackingStorePixelRatio ||\n",
       "\tthis.context.oBackingStorePixelRatio ||\n",
       "\tthis.context.backingStorePixelRatio || 1;\n",
       "\n",
       "    mpl.ratio = (window.devicePixelRatio || 1) / backingStore;\n",
       "\n",
       "    var rubberband = $('<canvas/>');\n",
       "    rubberband.attr('style', \"position: absolute; left: 0; top: 0; z-index: 1;\")\n",
       "\n",
       "    var pass_mouse_events = true;\n",
       "\n",
       "    canvas_div.resizable({\n",
       "        start: function(event, ui) {\n",
       "            pass_mouse_events = false;\n",
       "        },\n",
       "        resize: function(event, ui) {\n",
       "            fig.request_resize(ui.size.width, ui.size.height);\n",
       "        },\n",
       "        stop: function(event, ui) {\n",
       "            pass_mouse_events = true;\n",
       "            fig.request_resize(ui.size.width, ui.size.height);\n",
       "        },\n",
       "    });\n",
       "\n",
       "    function mouse_event_fn(event) {\n",
       "        if (pass_mouse_events)\n",
       "            return fig.mouse_event(event, event['data']);\n",
       "    }\n",
       "\n",
       "    rubberband.mousedown('button_press', mouse_event_fn);\n",
       "    rubberband.mouseup('button_release', mouse_event_fn);\n",
       "    // Throttle sequential mouse events to 1 every 20ms.\n",
       "    rubberband.mousemove('motion_notify', mouse_event_fn);\n",
       "\n",
       "    rubberband.mouseenter('figure_enter', mouse_event_fn);\n",
       "    rubberband.mouseleave('figure_leave', mouse_event_fn);\n",
       "\n",
       "    canvas_div.on(\"wheel\", function (event) {\n",
       "        event = event.originalEvent;\n",
       "        event['data'] = 'scroll'\n",
       "        if (event.deltaY < 0) {\n",
       "            event.step = 1;\n",
       "        } else {\n",
       "            event.step = -1;\n",
       "        }\n",
       "        mouse_event_fn(event);\n",
       "    });\n",
       "\n",
       "    canvas_div.append(canvas);\n",
       "    canvas_div.append(rubberband);\n",
       "\n",
       "    this.rubberband = rubberband;\n",
       "    this.rubberband_canvas = rubberband[0];\n",
       "    this.rubberband_context = rubberband[0].getContext(\"2d\");\n",
       "    this.rubberband_context.strokeStyle = \"#000000\";\n",
       "\n",
       "    this._resize_canvas = function(width, height) {\n",
       "        // Keep the size of the canvas, canvas container, and rubber band\n",
       "        // canvas in synch.\n",
       "        canvas_div.css('width', width)\n",
       "        canvas_div.css('height', height)\n",
       "\n",
       "        canvas.attr('width', width * mpl.ratio);\n",
       "        canvas.attr('height', height * mpl.ratio);\n",
       "        canvas.attr('style', 'width: ' + width + 'px; height: ' + height + 'px;');\n",
       "\n",
       "        rubberband.attr('width', width);\n",
       "        rubberband.attr('height', height);\n",
       "    }\n",
       "\n",
       "    // Set the figure to an initial 600x600px, this will subsequently be updated\n",
       "    // upon first draw.\n",
       "    this._resize_canvas(600, 600);\n",
       "\n",
       "    // Disable right mouse context menu.\n",
       "    $(this.rubberband_canvas).bind(\"contextmenu\",function(e){\n",
       "        return false;\n",
       "    });\n",
       "\n",
       "    function set_focus () {\n",
       "        canvas.focus();\n",
       "        canvas_div.focus();\n",
       "    }\n",
       "\n",
       "    window.setTimeout(set_focus, 100);\n",
       "}\n",
       "\n",
       "mpl.figure.prototype._init_toolbar = function() {\n",
       "    var fig = this;\n",
       "\n",
       "    var nav_element = $('<div/>');\n",
       "    nav_element.attr('style', 'width: 100%');\n",
       "    this.root.append(nav_element);\n",
       "\n",
       "    // Define a callback function for later on.\n",
       "    function toolbar_event(event) {\n",
       "        return fig.toolbar_button_onclick(event['data']);\n",
       "    }\n",
       "    function toolbar_mouse_event(event) {\n",
       "        return fig.toolbar_button_onmouseover(event['data']);\n",
       "    }\n",
       "\n",
       "    for(var toolbar_ind in mpl.toolbar_items) {\n",
       "        var name = mpl.toolbar_items[toolbar_ind][0];\n",
       "        var tooltip = mpl.toolbar_items[toolbar_ind][1];\n",
       "        var image = mpl.toolbar_items[toolbar_ind][2];\n",
       "        var method_name = mpl.toolbar_items[toolbar_ind][3];\n",
       "\n",
       "        if (!name) {\n",
       "            // put a spacer in here.\n",
       "            continue;\n",
       "        }\n",
       "        var button = $('<button/>');\n",
       "        button.addClass('ui-button ui-widget ui-state-default ui-corner-all ' +\n",
       "                        'ui-button-icon-only');\n",
       "        button.attr('role', 'button');\n",
       "        button.attr('aria-disabled', 'false');\n",
       "        button.click(method_name, toolbar_event);\n",
       "        button.mouseover(tooltip, toolbar_mouse_event);\n",
       "\n",
       "        var icon_img = $('<span/>');\n",
       "        icon_img.addClass('ui-button-icon-primary ui-icon');\n",
       "        icon_img.addClass(image);\n",
       "        icon_img.addClass('ui-corner-all');\n",
       "\n",
       "        var tooltip_span = $('<span/>');\n",
       "        tooltip_span.addClass('ui-button-text');\n",
       "        tooltip_span.html(tooltip);\n",
       "\n",
       "        button.append(icon_img);\n",
       "        button.append(tooltip_span);\n",
       "\n",
       "        nav_element.append(button);\n",
       "    }\n",
       "\n",
       "    var fmt_picker_span = $('<span/>');\n",
       "\n",
       "    var fmt_picker = $('<select/>');\n",
       "    fmt_picker.addClass('mpl-toolbar-option ui-widget ui-widget-content');\n",
       "    fmt_picker_span.append(fmt_picker);\n",
       "    nav_element.append(fmt_picker_span);\n",
       "    this.format_dropdown = fmt_picker[0];\n",
       "\n",
       "    for (var ind in mpl.extensions) {\n",
       "        var fmt = mpl.extensions[ind];\n",
       "        var option = $(\n",
       "            '<option/>', {selected: fmt === mpl.default_extension}).html(fmt);\n",
       "        fmt_picker.append(option);\n",
       "    }\n",
       "\n",
       "    // Add hover states to the ui-buttons\n",
       "    $( \".ui-button\" ).hover(\n",
       "        function() { $(this).addClass(\"ui-state-hover\");},\n",
       "        function() { $(this).removeClass(\"ui-state-hover\");}\n",
       "    );\n",
       "\n",
       "    var status_bar = $('<span class=\"mpl-message\"/>');\n",
       "    nav_element.append(status_bar);\n",
       "    this.message = status_bar[0];\n",
       "}\n",
       "\n",
       "mpl.figure.prototype.request_resize = function(x_pixels, y_pixels) {\n",
       "    // Request matplotlib to resize the figure. Matplotlib will then trigger a resize in the client,\n",
       "    // which will in turn request a refresh of the image.\n",
       "    this.send_message('resize', {'width': x_pixels, 'height': y_pixels});\n",
       "}\n",
       "\n",
       "mpl.figure.prototype.send_message = function(type, properties) {\n",
       "    properties['type'] = type;\n",
       "    properties['figure_id'] = this.id;\n",
       "    this.ws.send(JSON.stringify(properties));\n",
       "}\n",
       "\n",
       "mpl.figure.prototype.send_draw_message = function() {\n",
       "    if (!this.waiting) {\n",
       "        this.waiting = true;\n",
       "        this.ws.send(JSON.stringify({type: \"draw\", figure_id: this.id}));\n",
       "    }\n",
       "}\n",
       "\n",
       "\n",
       "mpl.figure.prototype.handle_save = function(fig, msg) {\n",
       "    var format_dropdown = fig.format_dropdown;\n",
       "    var format = format_dropdown.options[format_dropdown.selectedIndex].value;\n",
       "    fig.ondownload(fig, format);\n",
       "}\n",
       "\n",
       "\n",
       "mpl.figure.prototype.handle_resize = function(fig, msg) {\n",
       "    var size = msg['size'];\n",
       "    if (size[0] != fig.canvas.width || size[1] != fig.canvas.height) {\n",
       "        fig._resize_canvas(size[0], size[1]);\n",
       "        fig.send_message(\"refresh\", {});\n",
       "    };\n",
       "}\n",
       "\n",
       "mpl.figure.prototype.handle_rubberband = function(fig, msg) {\n",
       "    var x0 = msg['x0'] / mpl.ratio;\n",
       "    var y0 = (fig.canvas.height - msg['y0']) / mpl.ratio;\n",
       "    var x1 = msg['x1'] / mpl.ratio;\n",
       "    var y1 = (fig.canvas.height - msg['y1']) / mpl.ratio;\n",
       "    x0 = Math.floor(x0) + 0.5;\n",
       "    y0 = Math.floor(y0) + 0.5;\n",
       "    x1 = Math.floor(x1) + 0.5;\n",
       "    y1 = Math.floor(y1) + 0.5;\n",
       "    var min_x = Math.min(x0, x1);\n",
       "    var min_y = Math.min(y0, y1);\n",
       "    var width = Math.abs(x1 - x0);\n",
       "    var height = Math.abs(y1 - y0);\n",
       "\n",
       "    fig.rubberband_context.clearRect(\n",
       "        0, 0, fig.canvas.width / mpl.ratio, fig.canvas.height / mpl.ratio);\n",
       "\n",
       "    fig.rubberband_context.strokeRect(min_x, min_y, width, height);\n",
       "}\n",
       "\n",
       "mpl.figure.prototype.handle_figure_label = function(fig, msg) {\n",
       "    // Updates the figure title.\n",
       "    fig.header.textContent = msg['label'];\n",
       "}\n",
       "\n",
       "mpl.figure.prototype.handle_cursor = function(fig, msg) {\n",
       "    var cursor = msg['cursor'];\n",
       "    switch(cursor)\n",
       "    {\n",
       "    case 0:\n",
       "        cursor = 'pointer';\n",
       "        break;\n",
       "    case 1:\n",
       "        cursor = 'default';\n",
       "        break;\n",
       "    case 2:\n",
       "        cursor = 'crosshair';\n",
       "        break;\n",
       "    case 3:\n",
       "        cursor = 'move';\n",
       "        break;\n",
       "    }\n",
       "    fig.rubberband_canvas.style.cursor = cursor;\n",
       "}\n",
       "\n",
       "mpl.figure.prototype.handle_message = function(fig, msg) {\n",
       "    fig.message.textContent = msg['message'];\n",
       "}\n",
       "\n",
       "mpl.figure.prototype.handle_draw = function(fig, msg) {\n",
       "    // Request the server to send over a new figure.\n",
       "    fig.send_draw_message();\n",
       "}\n",
       "\n",
       "mpl.figure.prototype.handle_image_mode = function(fig, msg) {\n",
       "    fig.image_mode = msg['mode'];\n",
       "}\n",
       "\n",
       "mpl.figure.prototype.updated_canvas_event = function() {\n",
       "    // Called whenever the canvas gets updated.\n",
       "    this.send_message(\"ack\", {});\n",
       "}\n",
       "\n",
       "// A function to construct a web socket function for onmessage handling.\n",
       "// Called in the figure constructor.\n",
       "mpl.figure.prototype._make_on_message_function = function(fig) {\n",
       "    return function socket_on_message(evt) {\n",
       "        if (evt.data instanceof Blob) {\n",
       "            /* FIXME: We get \"Resource interpreted as Image but\n",
       "             * transferred with MIME type text/plain:\" errors on\n",
       "             * Chrome.  But how to set the MIME type?  It doesn't seem\n",
       "             * to be part of the websocket stream */\n",
       "            evt.data.type = \"image/png\";\n",
       "\n",
       "            /* Free the memory for the previous frames */\n",
       "            if (fig.imageObj.src) {\n",
       "                (window.URL || window.webkitURL).revokeObjectURL(\n",
       "                    fig.imageObj.src);\n",
       "            }\n",
       "\n",
       "            fig.imageObj.src = (window.URL || window.webkitURL).createObjectURL(\n",
       "                evt.data);\n",
       "            fig.updated_canvas_event();\n",
       "            fig.waiting = false;\n",
       "            return;\n",
       "        }\n",
       "        else if (typeof evt.data === 'string' && evt.data.slice(0, 21) == \"data:image/png;base64\") {\n",
       "            fig.imageObj.src = evt.data;\n",
       "            fig.updated_canvas_event();\n",
       "            fig.waiting = false;\n",
       "            return;\n",
       "        }\n",
       "\n",
       "        var msg = JSON.parse(evt.data);\n",
       "        var msg_type = msg['type'];\n",
       "\n",
       "        // Call the  \"handle_{type}\" callback, which takes\n",
       "        // the figure and JSON message as its only arguments.\n",
       "        try {\n",
       "            var callback = fig[\"handle_\" + msg_type];\n",
       "        } catch (e) {\n",
       "            console.log(\"No handler for the '\" + msg_type + \"' message type: \", msg);\n",
       "            return;\n",
       "        }\n",
       "\n",
       "        if (callback) {\n",
       "            try {\n",
       "                // console.log(\"Handling '\" + msg_type + \"' message: \", msg);\n",
       "                callback(fig, msg);\n",
       "            } catch (e) {\n",
       "                console.log(\"Exception inside the 'handler_\" + msg_type + \"' callback:\", e, e.stack, msg);\n",
       "            }\n",
       "        }\n",
       "    };\n",
       "}\n",
       "\n",
       "// from http://stackoverflow.com/questions/1114465/getting-mouse-location-in-canvas\n",
       "mpl.findpos = function(e) {\n",
       "    //this section is from http://www.quirksmode.org/js/events_properties.html\n",
       "    var targ;\n",
       "    if (!e)\n",
       "        e = window.event;\n",
       "    if (e.target)\n",
       "        targ = e.target;\n",
       "    else if (e.srcElement)\n",
       "        targ = e.srcElement;\n",
       "    if (targ.nodeType == 3) // defeat Safari bug\n",
       "        targ = targ.parentNode;\n",
       "\n",
       "    // jQuery normalizes the pageX and pageY\n",
       "    // pageX,Y are the mouse positions relative to the document\n",
       "    // offset() returns the position of the element relative to the document\n",
       "    var x = e.pageX - $(targ).offset().left;\n",
       "    var y = e.pageY - $(targ).offset().top;\n",
       "\n",
       "    return {\"x\": x, \"y\": y};\n",
       "};\n",
       "\n",
       "/*\n",
       " * return a copy of an object with only non-object keys\n",
       " * we need this to avoid circular references\n",
       " * http://stackoverflow.com/a/24161582/3208463\n",
       " */\n",
       "function simpleKeys (original) {\n",
       "  return Object.keys(original).reduce(function (obj, key) {\n",
       "    if (typeof original[key] !== 'object')\n",
       "        obj[key] = original[key]\n",
       "    return obj;\n",
       "  }, {});\n",
       "}\n",
       "\n",
       "mpl.figure.prototype.mouse_event = function(event, name) {\n",
       "    var canvas_pos = mpl.findpos(event)\n",
       "\n",
       "    if (name === 'button_press')\n",
       "    {\n",
       "        this.canvas.focus();\n",
       "        this.canvas_div.focus();\n",
       "    }\n",
       "\n",
       "    var x = canvas_pos.x * mpl.ratio;\n",
       "    var y = canvas_pos.y * mpl.ratio;\n",
       "\n",
       "    this.send_message(name, {x: x, y: y, button: event.button,\n",
       "                             step: event.step,\n",
       "                             guiEvent: simpleKeys(event)});\n",
       "\n",
       "    /* This prevents the web browser from automatically changing to\n",
       "     * the text insertion cursor when the button is pressed.  We want\n",
       "     * to control all of the cursor setting manually through the\n",
       "     * 'cursor' event from matplotlib */\n",
       "    event.preventDefault();\n",
       "    return false;\n",
       "}\n",
       "\n",
       "mpl.figure.prototype._key_event_extra = function(event, name) {\n",
       "    // Handle any extra behaviour associated with a key event\n",
       "}\n",
       "\n",
       "mpl.figure.prototype.key_event = function(event, name) {\n",
       "\n",
       "    // Prevent repeat events\n",
       "    if (name == 'key_press')\n",
       "    {\n",
       "        if (event.which === this._key)\n",
       "            return;\n",
       "        else\n",
       "            this._key = event.which;\n",
       "    }\n",
       "    if (name == 'key_release')\n",
       "        this._key = null;\n",
       "\n",
       "    var value = '';\n",
       "    if (event.ctrlKey && event.which != 17)\n",
       "        value += \"ctrl+\";\n",
       "    if (event.altKey && event.which != 18)\n",
       "        value += \"alt+\";\n",
       "    if (event.shiftKey && event.which != 16)\n",
       "        value += \"shift+\";\n",
       "\n",
       "    value += 'k';\n",
       "    value += event.which.toString();\n",
       "\n",
       "    this._key_event_extra(event, name);\n",
       "\n",
       "    this.send_message(name, {key: value,\n",
       "                             guiEvent: simpleKeys(event)});\n",
       "    return false;\n",
       "}\n",
       "\n",
       "mpl.figure.prototype.toolbar_button_onclick = function(name) {\n",
       "    if (name == 'download') {\n",
       "        this.handle_save(this, null);\n",
       "    } else {\n",
       "        this.send_message(\"toolbar_button\", {name: name});\n",
       "    }\n",
       "};\n",
       "\n",
       "mpl.figure.prototype.toolbar_button_onmouseover = function(tooltip) {\n",
       "    this.message.textContent = tooltip;\n",
       "};\n",
       "mpl.toolbar_items = [[\"Home\", \"Reset original view\", \"fa fa-home icon-home\", \"home\"], [\"Back\", \"Back to previous view\", \"fa fa-arrow-left icon-arrow-left\", \"back\"], [\"Forward\", \"Forward to next view\", \"fa fa-arrow-right icon-arrow-right\", \"forward\"], [\"\", \"\", \"\", \"\"], [\"Pan\", \"Pan axes with left mouse, zoom with right\", \"fa fa-arrows icon-move\", \"pan\"], [\"Zoom\", \"Zoom to rectangle\", \"fa fa-square-o icon-check-empty\", \"zoom\"], [\"\", \"\", \"\", \"\"], [\"Download\", \"Download plot\", \"fa fa-floppy-o icon-save\", \"download\"]];\n",
       "\n",
       "mpl.extensions = [\"eps\", \"jpeg\", \"pdf\", \"png\", \"ps\", \"raw\", \"svg\", \"tif\"];\n",
       "\n",
       "mpl.default_extension = \"png\";var comm_websocket_adapter = function(comm) {\n",
       "    // Create a \"websocket\"-like object which calls the given IPython comm\n",
       "    // object with the appropriate methods. Currently this is a non binary\n",
       "    // socket, so there is still some room for performance tuning.\n",
       "    var ws = {};\n",
       "\n",
       "    ws.close = function() {\n",
       "        comm.close()\n",
       "    };\n",
       "    ws.send = function(m) {\n",
       "        //console.log('sending', m);\n",
       "        comm.send(m);\n",
       "    };\n",
       "    // Register the callback with on_msg.\n",
       "    comm.on_msg(function(msg) {\n",
       "        //console.log('receiving', msg['content']['data'], msg);\n",
       "        // Pass the mpl event to the overridden (by mpl) onmessage function.\n",
       "        ws.onmessage(msg['content']['data'])\n",
       "    });\n",
       "    return ws;\n",
       "}\n",
       "\n",
       "mpl.mpl_figure_comm = function(comm, msg) {\n",
       "    // This is the function which gets called when the mpl process\n",
       "    // starts-up an IPython Comm through the \"matplotlib\" channel.\n",
       "\n",
       "    var id = msg.content.data.id;\n",
       "    // Get hold of the div created by the display call when the Comm\n",
       "    // socket was opened in Python.\n",
       "    var element = $(\"#\" + id);\n",
       "    var ws_proxy = comm_websocket_adapter(comm)\n",
       "\n",
       "    function ondownload(figure, format) {\n",
       "        window.open(figure.imageObj.src);\n",
       "    }\n",
       "\n",
       "    var fig = new mpl.figure(id, ws_proxy,\n",
       "                           ondownload,\n",
       "                           element.get(0));\n",
       "\n",
       "    // Call onopen now - mpl needs it, as it is assuming we've passed it a real\n",
       "    // web socket which is closed, not our websocket->open comm proxy.\n",
       "    ws_proxy.onopen();\n",
       "\n",
       "    fig.parent_element = element.get(0);\n",
       "    fig.cell_info = mpl.find_output_cell(\"<div id='\" + id + \"'></div>\");\n",
       "    if (!fig.cell_info) {\n",
       "        console.error(\"Failed to find cell for figure\", id, fig);\n",
       "        return;\n",
       "    }\n",
       "\n",
       "    var output_index = fig.cell_info[2]\n",
       "    var cell = fig.cell_info[0];\n",
       "\n",
       "};\n",
       "\n",
       "mpl.figure.prototype.handle_close = function(fig, msg) {\n",
       "    var width = fig.canvas.width/mpl.ratio\n",
       "    fig.root.unbind('remove')\n",
       "\n",
       "    // Update the output cell to use the data from the current canvas.\n",
       "    fig.push_to_output();\n",
       "    var dataURL = fig.canvas.toDataURL();\n",
       "    // Re-enable the keyboard manager in IPython - without this line, in FF,\n",
       "    // the notebook keyboard shortcuts fail.\n",
       "    IPython.keyboard_manager.enable()\n",
       "    $(fig.parent_element).html('<img src=\"' + dataURL + '\" width=\"' + width + '\">');\n",
       "    fig.close_ws(fig, msg);\n",
       "}\n",
       "\n",
       "mpl.figure.prototype.close_ws = function(fig, msg){\n",
       "    fig.send_message('closing', msg);\n",
       "    // fig.ws.close()\n",
       "}\n",
       "\n",
       "mpl.figure.prototype.push_to_output = function(remove_interactive) {\n",
       "    // Turn the data on the canvas into data in the output cell.\n",
       "    var width = this.canvas.width/mpl.ratio\n",
       "    var dataURL = this.canvas.toDataURL();\n",
       "    this.cell_info[1]['text/html'] = '<img src=\"' + dataURL + '\" width=\"' + width + '\">';\n",
       "}\n",
       "\n",
       "mpl.figure.prototype.updated_canvas_event = function() {\n",
       "    // Tell IPython that the notebook contents must change.\n",
       "    IPython.notebook.set_dirty(true);\n",
       "    this.send_message(\"ack\", {});\n",
       "    var fig = this;\n",
       "    // Wait a second, then push the new image to the DOM so\n",
       "    // that it is saved nicely (might be nice to debounce this).\n",
       "    setTimeout(function () { fig.push_to_output() }, 1000);\n",
       "}\n",
       "\n",
       "mpl.figure.prototype._init_toolbar = function() {\n",
       "    var fig = this;\n",
       "\n",
       "    var nav_element = $('<div/>');\n",
       "    nav_element.attr('style', 'width: 100%');\n",
       "    this.root.append(nav_element);\n",
       "\n",
       "    // Define a callback function for later on.\n",
       "    function toolbar_event(event) {\n",
       "        return fig.toolbar_button_onclick(event['data']);\n",
       "    }\n",
       "    function toolbar_mouse_event(event) {\n",
       "        return fig.toolbar_button_onmouseover(event['data']);\n",
       "    }\n",
       "\n",
       "    for(var toolbar_ind in mpl.toolbar_items){\n",
       "        var name = mpl.toolbar_items[toolbar_ind][0];\n",
       "        var tooltip = mpl.toolbar_items[toolbar_ind][1];\n",
       "        var image = mpl.toolbar_items[toolbar_ind][2];\n",
       "        var method_name = mpl.toolbar_items[toolbar_ind][3];\n",
       "\n",
       "        if (!name) { continue; };\n",
       "\n",
       "        var button = $('<button class=\"btn btn-default\" href=\"#\" title=\"' + name + '\"><i class=\"fa ' + image + ' fa-lg\"></i></button>');\n",
       "        button.click(method_name, toolbar_event);\n",
       "        button.mouseover(tooltip, toolbar_mouse_event);\n",
       "        nav_element.append(button);\n",
       "    }\n",
       "\n",
       "    // Add the status bar.\n",
       "    var status_bar = $('<span class=\"mpl-message\" style=\"text-align:right; float: right;\"/>');\n",
       "    nav_element.append(status_bar);\n",
       "    this.message = status_bar[0];\n",
       "\n",
       "    // Add the close button to the window.\n",
       "    var buttongrp = $('<div class=\"btn-group inline pull-right\"></div>');\n",
       "    var button = $('<button class=\"btn btn-mini btn-primary\" href=\"#\" title=\"Stop Interaction\"><i class=\"fa fa-power-off icon-remove icon-large\"></i></button>');\n",
       "    button.click(function (evt) { fig.handle_close(fig, {}); } );\n",
       "    button.mouseover('Stop Interaction', toolbar_mouse_event);\n",
       "    buttongrp.append(button);\n",
       "    var titlebar = this.root.find($('.ui-dialog-titlebar'));\n",
       "    titlebar.prepend(buttongrp);\n",
       "}\n",
       "\n",
       "mpl.figure.prototype._root_extra_style = function(el){\n",
       "    var fig = this\n",
       "    el.on(\"remove\", function(){\n",
       "\tfig.close_ws(fig, {});\n",
       "    });\n",
       "}\n",
       "\n",
       "mpl.figure.prototype._canvas_extra_style = function(el){\n",
       "    // this is important to make the div 'focusable\n",
       "    el.attr('tabindex', 0)\n",
       "    // reach out to IPython and tell the keyboard manager to turn it's self\n",
       "    // off when our div gets focus\n",
       "\n",
       "    // location in version 3\n",
       "    if (IPython.notebook.keyboard_manager) {\n",
       "        IPython.notebook.keyboard_manager.register_events(el);\n",
       "    }\n",
       "    else {\n",
       "        // location in version 2\n",
       "        IPython.keyboard_manager.register_events(el);\n",
       "    }\n",
       "\n",
       "}\n",
       "\n",
       "mpl.figure.prototype._key_event_extra = function(event, name) {\n",
       "    var manager = IPython.notebook.keyboard_manager;\n",
       "    if (!manager)\n",
       "        manager = IPython.keyboard_manager;\n",
       "\n",
       "    // Check for shift+enter\n",
       "    if (event.shiftKey && event.which == 13) {\n",
       "        this.canvas_div.blur();\n",
       "        // select the cell after this one\n",
       "        var index = IPython.notebook.find_cell_index(this.cell_info[0]);\n",
       "        IPython.notebook.select(index + 1);\n",
       "    }\n",
       "}\n",
       "\n",
       "mpl.figure.prototype.handle_save = function(fig, msg) {\n",
       "    fig.ondownload(fig, null);\n",
       "}\n",
       "\n",
       "\n",
       "mpl.find_output_cell = function(html_output) {\n",
       "    // Return the cell and output element which can be found *uniquely* in the notebook.\n",
       "    // Note - this is a bit hacky, but it is done because the \"notebook_saving.Notebook\"\n",
       "    // IPython event is triggered only after the cells have been serialised, which for\n",
       "    // our purposes (turning an active figure into a static one), is too late.\n",
       "    var cells = IPython.notebook.get_cells();\n",
       "    var ncells = cells.length;\n",
       "    for (var i=0; i<ncells; i++) {\n",
       "        var cell = cells[i];\n",
       "        if (cell.cell_type === 'code'){\n",
       "            for (var j=0; j<cell.output_area.outputs.length; j++) {\n",
       "                var data = cell.output_area.outputs[j];\n",
       "                if (data.data) {\n",
       "                    // IPython >= 3 moved mimebundle to data attribute of output\n",
       "                    data = data.data;\n",
       "                }\n",
       "                if (data['text/html'] == html_output) {\n",
       "                    return [cell, data, j];\n",
       "                }\n",
       "            }\n",
       "        }\n",
       "    }\n",
       "}\n",
       "\n",
       "// Register the function which deals with the matplotlib target/channel.\n",
       "// The kernel may be null if the page has been refreshed.\n",
       "if (IPython.notebook.kernel != null) {\n",
       "    IPython.notebook.kernel.comm_manager.register_target('matplotlib', mpl.mpl_figure_comm);\n",
       "}\n"
      ],
      "text/plain": [
       "<IPython.core.display.Javascript object>"
      ]
     },
     "metadata": {},
     "output_type": "display_data"
    },
    {
     "data": {
      "text/html": [
       "<img src=\"data:image/png;base64,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\" width=\"1000\">"
      ],
      "text/plain": [
       "<IPython.core.display.HTML object>"
      ]
     },
     "metadata": {},
     "output_type": "display_data"
    }
   ],
   "source": [
    "# visualizando\n",
    "%matplotlib notebook\n",
    "f,(ax1, ax2) = plt.subplots(1, 2, sharey=True, figsize=(10,6))\n",
    "# sharey controla o compartilhamento de propriedades entre os eixos x ( sharex) ou y ( sharey)\n",
    "# True ou 'all': o eixo x ou y será compartilhado entre todas as subparcelas\n",
    "ax1.set_title('Sepalas')\n",
    "ax1.scatter(X['sepal length (cm)'], X['petal width (cm)'],s=150,c=y)\n",
    "ax2.set_title('Petalas')\n",
    "ax2.scatter(X['sepal width (cm)'], X['sepal length (cm)'],s=150,c=y);"
   ]
  },
  {
   "cell_type": "code",
   "execution_count": 15,
   "metadata": {},
   "outputs": [],
   "source": [
    "X_train, X_test, y_train, y_test = train_test_split(X, y, test_size=0.2, random_state=12)"
   ]
  },
  {
   "cell_type": "code",
   "execution_count": 16,
   "metadata": {},
   "outputs": [],
   "source": [
    "# criando pipelines\n",
    "\n",
    "pip_ss_knn = Pipeline([('scaler', StandardScaler()),\n",
    "                    ('KNN', KNeighborsClassifier())\n",
    "                   ])\n",
    "\n",
    "pip_minmax_knn = Pipeline([('minmax', MinMaxScaler()),\n",
    "                       ('KNN', KNeighborsClassifier())\n",
    "                      ])\n",
    "pip_knn=Pipeline([('KNN', KNeighborsClassifier())\n",
    "                      ])\n",
    "\n",
    "\n",
    "\n",
    "pip_ss_svm = Pipeline([('scaler', StandardScaler()),\n",
    "                       ('SVM', svm.SVC())\n",
    "                      ])\n",
    "pip_minmax_svm = Pipeline([('minmax', MinMaxScaler()),\n",
    "                       ('SVM', svm.SVC())\n",
    "                      ])\n",
    "pip_svm=Pipeline([('SVM', KNeighborsClassifier())\n",
    "                      ])\n",
    "\n",
    "\n",
    "\n",
    "pip_ss_random = Pipeline([('scaler', StandardScaler()),\n",
    "                       ('Random', RandomForestClassifier())\n",
    "                      ])\n",
    "pip_minmax_random = Pipeline([('minmax', MinMaxScaler()),\n",
    "                       ('Random', RandomForestClassifier())\n",
    "                      ])\n",
    "pip_random=Pipeline([('Random', RandomForestClassifier())\n",
    "                      ])\n",
    "\n",
    "\n",
    "\n",
    "pip_ss_tree = Pipeline([('scaler', StandardScaler()),\n",
    "                       ('Tree', DecisionTreeClassifier())\n",
    "                      ])\n",
    "pip_minmax_tree= Pipeline([('minmax', MinMaxScaler()),\n",
    "                       ('Tree', DecisionTreeClassifier())\n",
    "                      ])\n",
    "pip_tree=Pipeline([('Tree', DecisionTreeClassifier())\n",
    "                      ])\n",
    "\n",
    "# não funciona bem com os piplines, mas está aqui para visualizarmos\n",
    "pip_ss_kmeans = Pipeline([('scaler', StandardScaler()),\n",
    "                       ('KMeans', KMeans())\n",
    "                      ])\n",
    "pip_minmax_kmeans= Pipeline([('minmax', MinMaxScaler()),\n",
    "                       ('KMeans', KMeans())\n",
    "                      ])\n",
    "pip_kmeans=Pipeline([('KMeans', KMeans())\n",
    "                      ])\n",
    "\n",
    "\n",
    "# 'pip_ss_nb' não é criado por o NB não aceitar valores negativos\n",
    "pip_minmax_nb= Pipeline([('minmax', MinMaxScaler()),\n",
    "                       ('Naive', MultinomialNB())\n",
    "                      ])\n",
    "pip_nb=Pipeline([('Naive', MultinomialNB())\n",
    "                      ])"
   ]
  },
  {
   "cell_type": "code",
   "execution_count": 17,
   "metadata": {},
   "outputs": [
    {
     "data": {
      "text/plain": [
       "Pipeline(steps=[('Naive', MultinomialNB())])"
      ]
     },
     "execution_count": 17,
     "metadata": {},
     "output_type": "execute_result"
    }
   ],
   "source": [
    "pip_ss_knn.fit(X_train, y_train)\n",
    "\n",
    "pip_minmax_knn.fit(X_train, y_train)\n",
    "\n",
    "pip_knn.fit(X_train, y_train)\n",
    "\n",
    "\n",
    "\n",
    "pip_ss_svm.fit(X_train, y_train)\n",
    "\n",
    "pip_minmax_svm.fit(X_train, y_train)\n",
    "\n",
    "pip_svm.fit(X_train, y_train)\n",
    "\n",
    "\n",
    "pip_ss_random.fit(X_train, y_train)\n",
    "\n",
    "pip_minmax_random.fit(X_train, y_train)\n",
    "\n",
    "pip_random.fit(X_train, y_train)\n",
    "\n",
    "\n",
    "\n",
    "pip_ss_tree.fit(X_train, y_train)\n",
    "\n",
    "pip_minmax_tree.fit(X_train, y_train)\n",
    "\n",
    "pip_tree.fit(X_train, y_train)\n",
    "\n",
    "\n",
    "\n",
    "pip_ss_kmeans.fit(X_train, y_train)\n",
    "\n",
    "pip_minmax_kmeans.fit(X_train, y_train)\n",
    "\n",
    "pip_kmeans.fit(X_train, y_train)\n",
    "\n",
    "\n",
    "\n",
    "pip_minmax_nb.fit(X_train, y_train)\n",
    "\n",
    "pip_nb.fit(X_train, y_train)"
   ]
  },
  {
   "cell_type": "code",
   "execution_count": 18,
   "metadata": {},
   "outputs": [
    {
     "data": {
      "text/plain": [
       "(0.9666666666666667, 0.9583333333333334)"
      ]
     },
     "execution_count": 18,
     "metadata": {},
     "output_type": "execute_result"
    }
   ],
   "source": [
    "pip_ss_knn.score(X_test, y_test),pip_ss_knn.score(X_train, y_train)"
   ]
  },
  {
   "cell_type": "code",
   "execution_count": 19,
   "metadata": {},
   "outputs": [
    {
     "data": {
      "text/plain": [
       "(1.0, 0.95)"
      ]
     },
     "execution_count": 19,
     "metadata": {},
     "output_type": "execute_result"
    }
   ],
   "source": [
    "pip_minmax_knn.score(X_test, y_test),pip_minmax_knn.score(X_train, y_train)"
   ]
  },
  {
   "cell_type": "code",
   "execution_count": 20,
   "metadata": {},
   "outputs": [
    {
     "data": {
      "text/plain": [
       "(0.9666666666666667, 0.975)"
      ]
     },
     "execution_count": 20,
     "metadata": {},
     "output_type": "execute_result"
    }
   ],
   "source": [
    "pip_knn.score(X_test, y_test),pip_knn.score(X_train, y_train)"
   ]
  },
  {
   "cell_type": "code",
   "execution_count": 21,
   "metadata": {},
   "outputs": [
    {
     "data": {
      "text/plain": [
       "(0.9666666666666667, 0.975)"
      ]
     },
     "execution_count": 21,
     "metadata": {},
     "output_type": "execute_result"
    }
   ],
   "source": [
    "pip_ss_svm.score(X_test, y_test),pip_ss_svm.score(X_train, y_train)"
   ]
  },
  {
   "cell_type": "code",
   "execution_count": 22,
   "metadata": {},
   "outputs": [
    {
     "data": {
      "text/plain": [
       "(0.9666666666666667, 0.975)"
      ]
     },
     "execution_count": 22,
     "metadata": {},
     "output_type": "execute_result"
    }
   ],
   "source": [
    "pip_minmax_svm.score(X_test, y_test),pip_minmax_svm.score(X_train, y_train)"
   ]
  },
  {
   "cell_type": "code",
   "execution_count": 23,
   "metadata": {},
   "outputs": [
    {
     "data": {
      "text/plain": [
       "(0.9666666666666667, 0.975)"
      ]
     },
     "execution_count": 23,
     "metadata": {},
     "output_type": "execute_result"
    }
   ],
   "source": [
    "pip_svm.score(X_test, y_test),pip_svm.score(X_train, y_train)"
   ]
  },
  {
   "cell_type": "code",
   "execution_count": 24,
   "metadata": {},
   "outputs": [
    {
     "data": {
      "text/plain": [
       "(0.9333333333333333, 1.0)"
      ]
     },
     "execution_count": 24,
     "metadata": {},
     "output_type": "execute_result"
    }
   ],
   "source": [
    "pip_ss_random.score(X_test, y_test),pip_ss_random.score(X_train, y_train)"
   ]
  },
  {
   "cell_type": "code",
   "execution_count": 25,
   "metadata": {},
   "outputs": [
    {
     "data": {
      "text/plain": [
       "(0.9666666666666667, 1.0)"
      ]
     },
     "execution_count": 25,
     "metadata": {},
     "output_type": "execute_result"
    }
   ],
   "source": [
    "pip_minmax_random.score(X_test, y_test),pip_minmax_random.score(X_train, y_train)"
   ]
  },
  {
   "cell_type": "code",
   "execution_count": 26,
   "metadata": {},
   "outputs": [
    {
     "data": {
      "text/plain": [
       "(0.9333333333333333, 1.0)"
      ]
     },
     "execution_count": 26,
     "metadata": {},
     "output_type": "execute_result"
    }
   ],
   "source": [
    "pip_random.score(X_test, y_test),pip_random.score(X_train, y_train)"
   ]
  },
  {
   "cell_type": "code",
   "execution_count": 27,
   "metadata": {},
   "outputs": [
    {
     "data": {
      "text/plain": [
       "(0.9666666666666667, 1.0)"
      ]
     },
     "execution_count": 27,
     "metadata": {},
     "output_type": "execute_result"
    }
   ],
   "source": [
    "pip_ss_tree.score(X_test, y_test),pip_ss_tree.score(X_train, y_train)"
   ]
  },
  {
   "cell_type": "code",
   "execution_count": 28,
   "metadata": {},
   "outputs": [
    {
     "data": {
      "text/plain": [
       "(0.9666666666666667, 1.0)"
      ]
     },
     "execution_count": 28,
     "metadata": {},
     "output_type": "execute_result"
    }
   ],
   "source": [
    "pip_minmax_tree.score(X_test, y_test),pip_minmax_tree.score(X_train, y_train)"
   ]
  },
  {
   "cell_type": "code",
   "execution_count": 29,
   "metadata": {},
   "outputs": [
    {
     "data": {
      "text/plain": [
       "(0.9333333333333333, 1.0)"
      ]
     },
     "execution_count": 29,
     "metadata": {},
     "output_type": "execute_result"
    }
   ],
   "source": [
    "pip_tree.score(X_test, y_test),pip_tree.score(X_train, y_train)"
   ]
  },
  {
   "cell_type": "code",
   "execution_count": 30,
   "metadata": {},
   "outputs": [
    {
     "data": {
      "text/plain": [
       "(-16.359120694307947, -47.21546672666728)"
      ]
     },
     "execution_count": 30,
     "metadata": {},
     "output_type": "execute_result"
    }
   ],
   "source": [
    "pip_ss_kmeans.score(X_test, y_test),pip_ss_kmeans.score(X_train, y_train)"
   ]
  },
  {
   "cell_type": "code",
   "execution_count": 31,
   "metadata": {},
   "outputs": [
    {
     "data": {
      "text/plain": [
       "(-0.7728655540372925, -2.47223525619393)"
      ]
     },
     "execution_count": 31,
     "metadata": {},
     "output_type": "execute_result"
    }
   ],
   "source": [
    "pip_minmax_kmeans.score(X_test, y_test),pip_minmax_kmeans.score(X_train, y_train)"
   ]
  },
  {
   "cell_type": "code",
   "execution_count": 32,
   "metadata": {},
   "outputs": [
    {
     "data": {
      "text/plain": [
       "(-7.2318891746449285, -23.404577989090367)"
      ]
     },
     "execution_count": 32,
     "metadata": {},
     "output_type": "execute_result"
    }
   ],
   "source": [
    "pip_kmeans.score(X_test, y_test),pip_kmeans.score(X_train, y_train)"
   ]
  },
  {
   "cell_type": "code",
   "execution_count": 33,
   "metadata": {},
   "outputs": [
    {
     "data": {
      "text/plain": [
       "(0.8333333333333334, 0.7833333333333333)"
      ]
     },
     "execution_count": 33,
     "metadata": {},
     "output_type": "execute_result"
    }
   ],
   "source": [
    "pip_minmax_nb.score(X_test, y_test),pip_minmax_nb.score(X_train, y_train)"
   ]
  },
  {
   "cell_type": "code",
   "execution_count": 34,
   "metadata": {},
   "outputs": [
    {
     "data": {
      "text/plain": [
       "(0.9666666666666667, 0.95)"
      ]
     },
     "execution_count": 34,
     "metadata": {},
     "output_type": "execute_result"
    }
   ],
   "source": [
    "pip_nb.score(X_test, y_test),pip_nb.score(X_train, y_train)"
   ]
  },
  {
   "cell_type": "markdown",
   "metadata": {},
   "source": [
    "<p><span style=\"color:red\"> Explicar o porque escolheu o algoritmo de classificação usado (e porque não usou outros).</span></p>"
   ]
  },
  {
   "cell_type": "markdown",
   "metadata": {},
   "source": [
    "O algoritmo **K Nearest Neighbors (KNN)** foi escolhido por sua simplicidade, rápida execução e por se tratar de uma base de dados pequena com poucos dados e atributos.\n",
    "<br>\n",
    "Pensando na estratégia de resolver o problema proposto da melhor maneira e da forma mais simples possível, o algoritmo escolhido neste cenário apresentou bons resultados, sem a necessidade de tunning e ajustes."
   ]
  },
  {
   "cell_type": "markdown",
   "metadata": {},
   "source": [
    "**Instanciando o algoritmo KNN.**"
   ]
  },
  {
   "cell_type": "code",
   "execution_count": 35,
   "metadata": {},
   "outputs": [],
   "source": [
    "clf_knn = KNeighborsClassifier()"
   ]
  },
  {
   "cell_type": "markdown",
   "metadata": {},
   "source": [
    "**Treinando o modelo utilizando a validação utilizando Cross Validation e armazenando os resultados.**"
   ]
  },
  {
   "cell_type": "code",
   "execution_count": 36,
   "metadata": {},
   "outputs": [],
   "source": [
    "resultados_knn = cross_val_predict(clf_knn, X, y, cv=5)"
   ]
  },
  {
   "cell_type": "markdown",
   "metadata": {},
   "source": [
    "**Verificando os resultados através de métricas.**\n",
    "\n",
    "Se tivesse sido alterado o nome poderia ser retornado com:\n",
    "\n",
    "`nomes_classes = label.inverse_transform([0,1,2])`"
   ]
  },
  {
   "cell_type": "code",
   "execution_count": 37,
   "metadata": {},
   "outputs": [],
   "source": [
    "nome_classes = iris['class'].map({0: 'Setosa', 1:'Versicolor',2: 'Virginica'})"
   ]
  },
  {
   "cell_type": "code",
   "execution_count": 38,
   "metadata": {},
   "outputs": [
    {
     "name": "stdout",
     "output_type": "stream",
     "text": [
      "              precision    recall  f1-score   support\n",
      "\n",
      "      Setosa       1.00      1.00      1.00        50\n",
      "  Versicolor       0.98      0.94      0.96        50\n",
      "   Virginica       0.94      0.98      0.96        50\n",
      "\n",
      "    accuracy                           0.97       150\n",
      "   macro avg       0.97      0.97      0.97       150\n",
      "weighted avg       0.97      0.97      0.97       150\n",
      "\n"
     ]
    }
   ],
   "source": [
    "print(classification_report(y,resultados_knn,target_names=nome_classes.unique()))"
   ]
  },
  {
   "cell_type": "markdown",
   "metadata": {},
   "source": [
    "**Tuning**"
   ]
  },
  {
   "cell_type": "code",
   "execution_count": 39,
   "metadata": {},
   "outputs": [],
   "source": [
    "# n_neighbors - número de vizinhos\n",
    "lista_k=[1,2,3,4,5,6,7,8,9,10]\n",
    "# p - parâmetro para minkowski (l1,l2,l_p)\n",
    "lista_p=[1,2,3]"
   ]
  },
  {
   "cell_type": "code",
   "execution_count": 40,
   "metadata": {},
   "outputs": [],
   "source": [
    "parametros_grid_knn = dict(n_neighbors=lista_k,p=lista_p)"
   ]
  },
  {
   "cell_type": "code",
   "execution_count": 41,
   "metadata": {},
   "outputs": [
    {
     "data": {
      "text/plain": [
       "{'n_neighbors': [1, 2, 3, 4, 5, 6, 7, 8, 9, 10], 'p': [1, 2, 3]}"
      ]
     },
     "execution_count": 41,
     "metadata": {},
     "output_type": "execute_result"
    }
   ],
   "source": [
    "parametros_grid_knn"
   ]
  },
  {
   "cell_type": "code",
   "execution_count": 42,
   "metadata": {},
   "outputs": [],
   "source": [
    "grid_knn=GridSearchCV(clf_knn , parametros_grid_knn, cv=10, scoring='accuracy')"
   ]
  },
  {
   "cell_type": "code",
   "execution_count": 43,
   "metadata": {
    "scrolled": true
   },
   "outputs": [
    {
     "data": {
      "text/plain": [
       "GridSearchCV(cv=10, estimator=KNeighborsClassifier(),\n",
       "             param_grid={'n_neighbors': [1, 2, 3, 4, 5, 6, 7, 8, 9, 10],\n",
       "                         'p': [1, 2, 3]},\n",
       "             scoring='accuracy')"
      ]
     },
     "execution_count": 43,
     "metadata": {},
     "output_type": "execute_result"
    }
   ],
   "source": [
    "grid_knn.fit(X,y)"
   ]
  },
  {
   "cell_type": "code",
   "execution_count": 44,
   "metadata": {},
   "outputs": [
    {
     "data": {
      "text/plain": [
       "{'mean_fit_time': array([0.00359397, 0.0029036 , 0.00290809, 0.00287044, 0.00295279,\n",
       "        0.00287745, 0.00288353, 0.00286891, 0.00288372, 0.00287178,\n",
       "        0.00289569, 0.00290914, 0.00286086, 0.00379205, 0.00293944,\n",
       "        0.0029707 , 0.00284994, 0.00289469, 0.00286322, 0.00287941,\n",
       "        0.00291021, 0.00289142, 0.00285916, 0.00286937, 0.00287623,\n",
       "        0.00290971, 0.00288484, 0.00286865, 0.00297558, 0.00307033]),\n",
       " 'std_fit_time': array([1.15707800e-03, 6.18750371e-05, 6.73334084e-05, 2.87883400e-05,\n",
       "        1.24210838e-04, 3.33120244e-05, 8.42895294e-05, 3.93304599e-05,\n",
       "        1.92156500e-05, 5.18426878e-05, 4.73828600e-05, 1.33229266e-04,\n",
       "        2.08121940e-05, 1.10015582e-03, 7.66817645e-05, 1.43262072e-04,\n",
       "        2.03786528e-05, 3.47306072e-05, 2.95257707e-05, 5.54809255e-05,\n",
       "        6.69728823e-05, 9.56795621e-05, 2.75886046e-05, 1.66377908e-05,\n",
       "        2.32984607e-05, 6.23087514e-05, 3.57167345e-05, 1.65703485e-05,\n",
       "        3.60065959e-04, 3.50496338e-04]),\n",
       " 'mean_score_time': array([0.00354493, 0.00296304, 0.00301082, 0.00294828, 0.0030061 ,\n",
       "        0.00303447, 0.00292716, 0.00293882, 0.00301979, 0.00294647,\n",
       "        0.00298765, 0.00308266, 0.0029367 , 0.00379279, 0.00307627,\n",
       "        0.00306356, 0.00293193, 0.00304854, 0.00295396, 0.00295863,\n",
       "        0.00306039, 0.00300598, 0.00295391, 0.00308783, 0.00296569,\n",
       "        0.00298727, 0.0030956 , 0.00294478, 0.00315807, 0.00315583]),\n",
       " 'std_score_time': array([1.13980251e-03, 9.64497572e-05, 7.77548785e-05, 6.69487691e-05,\n",
       "        1.34177191e-04, 5.49624122e-05, 2.21542567e-05, 4.76940919e-05,\n",
       "        3.02189224e-05, 5.94305548e-05, 6.30709257e-05, 1.02422368e-04,\n",
       "        3.00313163e-05, 9.72133122e-04, 3.44136056e-05, 1.48734990e-04,\n",
       "        2.60230794e-05, 2.53276962e-05, 5.98304097e-05, 6.03153016e-05,\n",
       "        3.09203804e-05, 1.25575453e-04, 5.40337931e-05, 1.28085422e-04,\n",
       "        3.81034364e-05, 4.19897357e-05, 5.84223262e-05, 1.86516029e-05,\n",
       "        4.97425126e-04, 1.30664312e-04]),\n",
       " 'param_n_neighbors': masked_array(data=[1, 1, 1, 2, 2, 2, 3, 3, 3, 4, 4, 4, 5, 5, 5, 6, 6, 6,\n",
       "                    7, 7, 7, 8, 8, 8, 9, 9, 9, 10, 10, 10],\n",
       "              mask=[False, False, False, False, False, False, False, False,\n",
       "                    False, False, False, False, False, False, False, False,\n",
       "                    False, False, False, False, False, False, False, False,\n",
       "                    False, False, False, False, False, False],\n",
       "        fill_value='?',\n",
       "             dtype=object),\n",
       " 'param_p': masked_array(data=[1, 2, 3, 1, 2, 3, 1, 2, 3, 1, 2, 3, 1, 2, 3, 1, 2, 3,\n",
       "                    1, 2, 3, 1, 2, 3, 1, 2, 3, 1, 2, 3],\n",
       "              mask=[False, False, False, False, False, False, False, False,\n",
       "                    False, False, False, False, False, False, False, False,\n",
       "                    False, False, False, False, False, False, False, False,\n",
       "                    False, False, False, False, False, False],\n",
       "        fill_value='?',\n",
       "             dtype=object),\n",
       " 'params': [{'n_neighbors': 1, 'p': 1},\n",
       "  {'n_neighbors': 1, 'p': 2},\n",
       "  {'n_neighbors': 1, 'p': 3},\n",
       "  {'n_neighbors': 2, 'p': 1},\n",
       "  {'n_neighbors': 2, 'p': 2},\n",
       "  {'n_neighbors': 2, 'p': 3},\n",
       "  {'n_neighbors': 3, 'p': 1},\n",
       "  {'n_neighbors': 3, 'p': 2},\n",
       "  {'n_neighbors': 3, 'p': 3},\n",
       "  {'n_neighbors': 4, 'p': 1},\n",
       "  {'n_neighbors': 4, 'p': 2},\n",
       "  {'n_neighbors': 4, 'p': 3},\n",
       "  {'n_neighbors': 5, 'p': 1},\n",
       "  {'n_neighbors': 5, 'p': 2},\n",
       "  {'n_neighbors': 5, 'p': 3},\n",
       "  {'n_neighbors': 6, 'p': 1},\n",
       "  {'n_neighbors': 6, 'p': 2},\n",
       "  {'n_neighbors': 6, 'p': 3},\n",
       "  {'n_neighbors': 7, 'p': 1},\n",
       "  {'n_neighbors': 7, 'p': 2},\n",
       "  {'n_neighbors': 7, 'p': 3},\n",
       "  {'n_neighbors': 8, 'p': 1},\n",
       "  {'n_neighbors': 8, 'p': 2},\n",
       "  {'n_neighbors': 8, 'p': 3},\n",
       "  {'n_neighbors': 9, 'p': 1},\n",
       "  {'n_neighbors': 9, 'p': 2},\n",
       "  {'n_neighbors': 9, 'p': 3},\n",
       "  {'n_neighbors': 10, 'p': 1},\n",
       "  {'n_neighbors': 10, 'p': 2},\n",
       "  {'n_neighbors': 10, 'p': 3}],\n",
       " 'split0_test_score': array([1., 1., 1., 1., 1., 1., 1., 1., 1., 1., 1., 1., 1., 1., 1., 1., 1.,\n",
       "        1., 1., 1., 1., 1., 1., 1., 1., 1., 1., 1., 1., 1.]),\n",
       " 'split1_test_score': array([0.93333333, 0.93333333, 0.93333333, 0.93333333, 0.93333333,\n",
       "        0.93333333, 0.93333333, 0.93333333, 0.93333333, 0.93333333,\n",
       "        0.93333333, 0.93333333, 0.93333333, 0.93333333, 0.93333333,\n",
       "        0.93333333, 0.93333333, 0.93333333, 0.93333333, 0.93333333,\n",
       "        0.93333333, 0.93333333, 0.93333333, 0.93333333, 0.93333333,\n",
       "        0.93333333, 0.93333333, 0.93333333, 0.93333333, 0.93333333]),\n",
       " 'split2_test_score': array([1., 1., 1., 1., 1., 1., 1., 1., 1., 1., 1., 1., 1., 1., 1., 1., 1.,\n",
       "        1., 1., 1., 1., 1., 1., 1., 1., 1., 1., 1., 1., 1.]),\n",
       " 'split3_test_score': array([0.93333333, 0.93333333, 0.93333333, 0.93333333, 0.93333333,\n",
       "        0.93333333, 0.93333333, 0.93333333, 0.93333333, 0.93333333,\n",
       "        0.93333333, 0.93333333, 1.        , 1.        , 1.        ,\n",
       "        0.93333333, 1.        , 1.        , 1.        , 1.        ,\n",
       "        1.        , 0.93333333, 1.        , 1.        , 1.        ,\n",
       "        1.        , 1.        , 0.93333333, 1.        , 1.        ]),\n",
       " 'split4_test_score': array([0.86666667, 0.86666667, 0.86666667, 0.86666667, 0.86666667,\n",
       "        0.93333333, 0.86666667, 0.86666667, 0.86666667, 0.86666667,\n",
       "        0.86666667, 0.86666667, 0.86666667, 0.86666667, 0.86666667,\n",
       "        0.86666667, 0.86666667, 0.93333333, 0.86666667, 0.86666667,\n",
       "        0.93333333, 1.        , 1.        , 1.        , 1.        ,\n",
       "        1.        , 1.        , 1.        , 1.        , 1.        ]),\n",
       " 'split5_test_score': array([1.        , 1.        , 1.        , 1.        , 1.        ,\n",
       "        1.        , 1.        , 1.        , 1.        , 1.        ,\n",
       "        1.        , 1.        , 0.93333333, 0.93333333, 0.93333333,\n",
       "        0.86666667, 0.93333333, 1.        , 0.86666667, 0.93333333,\n",
       "        0.93333333, 0.86666667, 0.86666667, 1.        , 0.93333333,\n",
       "        0.93333333, 0.93333333, 0.86666667, 0.86666667, 0.93333333]),\n",
       " 'split6_test_score': array([0.86666667, 0.86666667, 0.86666667, 0.8       , 0.86666667,\n",
       "        0.86666667, 0.86666667, 0.93333333, 0.93333333, 0.8       ,\n",
       "        0.93333333, 0.93333333, 0.93333333, 0.93333333, 0.93333333,\n",
       "        0.86666667, 0.93333333, 0.93333333, 0.93333333, 0.93333333,\n",
       "        0.93333333, 0.86666667, 0.93333333, 0.93333333, 0.93333333,\n",
       "        0.93333333, 0.93333333, 0.93333333, 0.93333333, 0.93333333]),\n",
       " 'split7_test_score': array([1.        , 1.        , 1.        , 0.93333333, 0.93333333,\n",
       "        0.93333333, 1.        , 1.        , 1.        , 1.        ,\n",
       "        1.        , 1.        , 1.        , 1.        , 1.        ,\n",
       "        0.93333333, 1.        , 1.        , 0.93333333, 1.        ,\n",
       "        1.        , 0.93333333, 0.93333333, 0.93333333, 0.93333333,\n",
       "        0.93333333, 1.        , 0.93333333, 0.93333333, 1.        ]),\n",
       " 'split8_test_score': array([1., 1., 1., 1., 1., 1., 1., 1., 1., 1., 1., 1., 1., 1., 1., 1., 1.,\n",
       "        1., 1., 1., 1., 1., 1., 1., 1., 1., 1., 1., 1., 1.]),\n",
       " 'split9_test_score': array([1.        , 1.        , 1.        , 0.93333333, 1.        ,\n",
       "        1.        , 1.        , 1.        , 1.        , 1.        ,\n",
       "        1.        , 1.        , 1.        , 1.        , 1.        ,\n",
       "        1.        , 1.        , 1.        , 1.        , 1.        ,\n",
       "        1.        , 1.        , 1.        , 1.        , 1.        ,\n",
       "        1.        , 1.        , 1.        , 1.        , 1.        ]),\n",
       " 'mean_test_score': array([0.96      , 0.96      , 0.96      , 0.94      , 0.95333333,\n",
       "        0.96      , 0.96      , 0.96666667, 0.96666667, 0.95333333,\n",
       "        0.96666667, 0.96666667, 0.96666667, 0.96666667, 0.96666667,\n",
       "        0.94      , 0.96666667, 0.98      , 0.95333333, 0.96666667,\n",
       "        0.97333333, 0.95333333, 0.96666667, 0.98      , 0.97333333,\n",
       "        0.97333333, 0.98      , 0.96      , 0.96666667, 0.98      ]),\n",
       " 'std_test_score': array([0.05333333, 0.05333333, 0.05333333, 0.06289321, 0.05206833,\n",
       "        0.04422166, 0.05333333, 0.04472136, 0.04472136, 0.06699917,\n",
       "        0.04472136, 0.04472136, 0.04472136, 0.04472136, 0.04472136,\n",
       "        0.05537749, 0.04472136, 0.0305505 , 0.05206833, 0.04472136,\n",
       "        0.03265986, 0.05206833, 0.04472136, 0.0305505 , 0.03265986,\n",
       "        0.03265986, 0.0305505 , 0.04422166, 0.04472136, 0.0305505 ]),\n",
       " 'rank_test_score': array([19, 19, 19, 29, 25, 19, 19, 15, 15, 25, 15, 15,  8,  8,  8, 29,  8,\n",
       "         1, 25,  8,  5, 25,  8,  1,  5,  5,  1, 19,  8,  1], dtype=int32)}"
      ]
     },
     "execution_count": 44,
     "metadata": {},
     "output_type": "execute_result"
    }
   ],
   "source": [
    "grid_knn.cv_results_"
   ]
  },
  {
   "cell_type": "code",
   "execution_count": 45,
   "metadata": {},
   "outputs": [
    {
     "data": {
      "text/plain": [
       "{'n_neighbors': 6, 'p': 3}"
      ]
     },
     "execution_count": 45,
     "metadata": {},
     "output_type": "execute_result"
    }
   ],
   "source": [
    "grid_knn.best_params_"
   ]
  },
  {
   "cell_type": "code",
   "execution_count": 46,
   "metadata": {},
   "outputs": [
    {
     "data": {
      "text/plain": [
       "0.9800000000000001"
      ]
     },
     "execution_count": 46,
     "metadata": {},
     "output_type": "execute_result"
    }
   ],
   "source": [
    "grid_knn.best_score_"
   ]
  },
  {
   "cell_type": "markdown",
   "metadata": {},
   "source": [
    "**Standard Scaler**"
   ]
  },
  {
   "cell_type": "code",
   "execution_count": 47,
   "metadata": {},
   "outputs": [],
   "source": [
    "scaler = StandardScaler()"
   ]
  },
  {
   "cell_type": "code",
   "execution_count": 48,
   "metadata": {},
   "outputs": [
    {
     "data": {
      "text/plain": [
       "StandardScaler()"
      ]
     },
     "execution_count": 48,
     "metadata": {},
     "output_type": "execute_result"
    }
   ],
   "source": [
    "scaler.fit(X)"
   ]
  },
  {
   "cell_type": "code",
   "execution_count": 49,
   "metadata": {},
   "outputs": [
    {
     "data": {
      "text/plain": [
       "array([[-9.00681170e-01,  1.01900435e+00, -1.34022653e+00,\n",
       "        -1.31544430e+00],\n",
       "       [-1.14301691e+00, -1.31979479e-01, -1.34022653e+00,\n",
       "        -1.31544430e+00],\n",
       "       [-1.38535265e+00,  3.28414053e-01, -1.39706395e+00,\n",
       "        -1.31544430e+00],\n",
       "       [-1.50652052e+00,  9.82172869e-02, -1.28338910e+00,\n",
       "        -1.31544430e+00],\n",
       "       [-1.02184904e+00,  1.24920112e+00, -1.34022653e+00,\n",
       "        -1.31544430e+00],\n",
       "       [-5.37177559e-01,  1.93979142e+00, -1.16971425e+00,\n",
       "        -1.05217993e+00],\n",
       "       [-1.50652052e+00,  7.88807586e-01, -1.34022653e+00,\n",
       "        -1.18381211e+00],\n",
       "       [-1.02184904e+00,  7.88807586e-01, -1.28338910e+00,\n",
       "        -1.31544430e+00],\n",
       "       [-1.74885626e+00, -3.62176246e-01, -1.34022653e+00,\n",
       "        -1.31544430e+00],\n",
       "       [-1.14301691e+00,  9.82172869e-02, -1.28338910e+00,\n",
       "        -1.44707648e+00],\n",
       "       [-5.37177559e-01,  1.47939788e+00, -1.28338910e+00,\n",
       "        -1.31544430e+00],\n",
       "       [-1.26418478e+00,  7.88807586e-01, -1.22655167e+00,\n",
       "        -1.31544430e+00],\n",
       "       [-1.26418478e+00, -1.31979479e-01, -1.34022653e+00,\n",
       "        -1.44707648e+00],\n",
       "       [-1.87002413e+00, -1.31979479e-01, -1.51073881e+00,\n",
       "        -1.44707648e+00],\n",
       "       [-5.25060772e-02,  2.16998818e+00, -1.45390138e+00,\n",
       "        -1.31544430e+00],\n",
       "       [-1.73673948e-01,  3.09077525e+00, -1.28338910e+00,\n",
       "        -1.05217993e+00],\n",
       "       [-5.37177559e-01,  1.93979142e+00, -1.39706395e+00,\n",
       "        -1.05217993e+00],\n",
       "       [-9.00681170e-01,  1.01900435e+00, -1.34022653e+00,\n",
       "        -1.18381211e+00],\n",
       "       [-1.73673948e-01,  1.70959465e+00, -1.16971425e+00,\n",
       "        -1.18381211e+00],\n",
       "       [-9.00681170e-01,  1.70959465e+00, -1.28338910e+00,\n",
       "        -1.18381211e+00],\n",
       "       [-5.37177559e-01,  7.88807586e-01, -1.16971425e+00,\n",
       "        -1.31544430e+00],\n",
       "       [-9.00681170e-01,  1.47939788e+00, -1.28338910e+00,\n",
       "        -1.05217993e+00],\n",
       "       [-1.50652052e+00,  1.24920112e+00, -1.56757623e+00,\n",
       "        -1.31544430e+00],\n",
       "       [-9.00681170e-01,  5.58610819e-01, -1.16971425e+00,\n",
       "        -9.20547742e-01],\n",
       "       [-1.26418478e+00,  7.88807586e-01, -1.05603939e+00,\n",
       "        -1.31544430e+00],\n",
       "       [-1.02184904e+00, -1.31979479e-01, -1.22655167e+00,\n",
       "        -1.31544430e+00],\n",
       "       [-1.02184904e+00,  7.88807586e-01, -1.22655167e+00,\n",
       "        -1.05217993e+00],\n",
       "       [-7.79513300e-01,  1.01900435e+00, -1.28338910e+00,\n",
       "        -1.31544430e+00],\n",
       "       [-7.79513300e-01,  7.88807586e-01, -1.34022653e+00,\n",
       "        -1.31544430e+00],\n",
       "       [-1.38535265e+00,  3.28414053e-01, -1.22655167e+00,\n",
       "        -1.31544430e+00],\n",
       "       [-1.26418478e+00,  9.82172869e-02, -1.22655167e+00,\n",
       "        -1.31544430e+00],\n",
       "       [-5.37177559e-01,  7.88807586e-01, -1.28338910e+00,\n",
       "        -1.05217993e+00],\n",
       "       [-7.79513300e-01,  2.40018495e+00, -1.28338910e+00,\n",
       "        -1.44707648e+00],\n",
       "       [-4.16009689e-01,  2.63038172e+00, -1.34022653e+00,\n",
       "        -1.31544430e+00],\n",
       "       [-1.14301691e+00,  9.82172869e-02, -1.28338910e+00,\n",
       "        -1.31544430e+00],\n",
       "       [-1.02184904e+00,  3.28414053e-01, -1.45390138e+00,\n",
       "        -1.31544430e+00],\n",
       "       [-4.16009689e-01,  1.01900435e+00, -1.39706395e+00,\n",
       "        -1.31544430e+00],\n",
       "       [-1.14301691e+00,  1.24920112e+00, -1.34022653e+00,\n",
       "        -1.44707648e+00],\n",
       "       [-1.74885626e+00, -1.31979479e-01, -1.39706395e+00,\n",
       "        -1.31544430e+00],\n",
       "       [-9.00681170e-01,  7.88807586e-01, -1.28338910e+00,\n",
       "        -1.31544430e+00],\n",
       "       [-1.02184904e+00,  1.01900435e+00, -1.39706395e+00,\n",
       "        -1.18381211e+00],\n",
       "       [-1.62768839e+00, -1.74335684e+00, -1.39706395e+00,\n",
       "        -1.18381211e+00],\n",
       "       [-1.74885626e+00,  3.28414053e-01, -1.39706395e+00,\n",
       "        -1.31544430e+00],\n",
       "       [-1.02184904e+00,  1.01900435e+00, -1.22655167e+00,\n",
       "        -7.88915558e-01],\n",
       "       [-9.00681170e-01,  1.70959465e+00, -1.05603939e+00,\n",
       "        -1.05217993e+00],\n",
       "       [-1.26418478e+00, -1.31979479e-01, -1.34022653e+00,\n",
       "        -1.18381211e+00],\n",
       "       [-9.00681170e-01,  1.70959465e+00, -1.22655167e+00,\n",
       "        -1.31544430e+00],\n",
       "       [-1.50652052e+00,  3.28414053e-01, -1.34022653e+00,\n",
       "        -1.31544430e+00],\n",
       "       [-6.58345429e-01,  1.47939788e+00, -1.28338910e+00,\n",
       "        -1.31544430e+00],\n",
       "       [-1.02184904e+00,  5.58610819e-01, -1.34022653e+00,\n",
       "        -1.31544430e+00],\n",
       "       [ 1.40150837e+00,  3.28414053e-01,  5.35408562e-01,\n",
       "         2.64141916e-01],\n",
       "       [ 6.74501145e-01,  3.28414053e-01,  4.21733708e-01,\n",
       "         3.95774101e-01],\n",
       "       [ 1.28034050e+00,  9.82172869e-02,  6.49083415e-01,\n",
       "         3.95774101e-01],\n",
       "       [-4.16009689e-01, -1.74335684e+00,  1.37546573e-01,\n",
       "         1.32509732e-01],\n",
       "       [ 7.95669016e-01, -5.92373012e-01,  4.78571135e-01,\n",
       "         3.95774101e-01],\n",
       "       [-1.73673948e-01, -5.92373012e-01,  4.21733708e-01,\n",
       "         1.32509732e-01],\n",
       "       [ 5.53333275e-01,  5.58610819e-01,  5.35408562e-01,\n",
       "         5.27406285e-01],\n",
       "       [-1.14301691e+00, -1.51316008e+00, -2.60315415e-01,\n",
       "        -2.62386821e-01],\n",
       "       [ 9.16836886e-01, -3.62176246e-01,  4.78571135e-01,\n",
       "         1.32509732e-01],\n",
       "       [-7.79513300e-01, -8.22569778e-01,  8.07091462e-02,\n",
       "         2.64141916e-01],\n",
       "       [-1.02184904e+00, -2.43394714e+00, -1.46640561e-01,\n",
       "        -2.62386821e-01],\n",
       "       [ 6.86617933e-02, -1.31979479e-01,  2.51221427e-01,\n",
       "         3.95774101e-01],\n",
       "       [ 1.89829664e-01, -1.97355361e+00,  1.37546573e-01,\n",
       "        -2.62386821e-01],\n",
       "       [ 3.10997534e-01, -3.62176246e-01,  5.35408562e-01,\n",
       "         2.64141916e-01],\n",
       "       [-2.94841818e-01, -3.62176246e-01, -8.98031345e-02,\n",
       "         1.32509732e-01],\n",
       "       [ 1.03800476e+00,  9.82172869e-02,  3.64896281e-01,\n",
       "         2.64141916e-01],\n",
       "       [-2.94841818e-01, -1.31979479e-01,  4.21733708e-01,\n",
       "         3.95774101e-01],\n",
       "       [-5.25060772e-02, -8.22569778e-01,  1.94384000e-01,\n",
       "        -2.62386821e-01],\n",
       "       [ 4.32165405e-01, -1.97355361e+00,  4.21733708e-01,\n",
       "         3.95774101e-01],\n",
       "       [-2.94841818e-01, -1.28296331e+00,  8.07091462e-02,\n",
       "        -1.30754636e-01],\n",
       "       [ 6.86617933e-02,  3.28414053e-01,  5.92245988e-01,\n",
       "         7.90670654e-01],\n",
       "       [ 3.10997534e-01, -5.92373012e-01,  1.37546573e-01,\n",
       "         1.32509732e-01],\n",
       "       [ 5.53333275e-01, -1.28296331e+00,  6.49083415e-01,\n",
       "         3.95774101e-01],\n",
       "       [ 3.10997534e-01, -5.92373012e-01,  5.35408562e-01,\n",
       "         8.77547895e-04],\n",
       "       [ 6.74501145e-01, -3.62176246e-01,  3.08058854e-01,\n",
       "         1.32509732e-01],\n",
       "       [ 9.16836886e-01, -1.31979479e-01,  3.64896281e-01,\n",
       "         2.64141916e-01],\n",
       "       [ 1.15917263e+00, -5.92373012e-01,  5.92245988e-01,\n",
       "         2.64141916e-01],\n",
       "       [ 1.03800476e+00, -1.31979479e-01,  7.05920842e-01,\n",
       "         6.59038469e-01],\n",
       "       [ 1.89829664e-01, -3.62176246e-01,  4.21733708e-01,\n",
       "         3.95774101e-01],\n",
       "       [-1.73673948e-01, -1.05276654e+00, -1.46640561e-01,\n",
       "        -2.62386821e-01],\n",
       "       [-4.16009689e-01, -1.51316008e+00,  2.38717193e-02,\n",
       "        -1.30754636e-01],\n",
       "       [-4.16009689e-01, -1.51316008e+00, -3.29657076e-02,\n",
       "        -2.62386821e-01],\n",
       "       [-5.25060772e-02, -8.22569778e-01,  8.07091462e-02,\n",
       "         8.77547895e-04],\n",
       "       [ 1.89829664e-01, -8.22569778e-01,  7.62758269e-01,\n",
       "         5.27406285e-01],\n",
       "       [-5.37177559e-01, -1.31979479e-01,  4.21733708e-01,\n",
       "         3.95774101e-01],\n",
       "       [ 1.89829664e-01,  7.88807586e-01,  4.21733708e-01,\n",
       "         5.27406285e-01],\n",
       "       [ 1.03800476e+00,  9.82172869e-02,  5.35408562e-01,\n",
       "         3.95774101e-01],\n",
       "       [ 5.53333275e-01, -1.74335684e+00,  3.64896281e-01,\n",
       "         1.32509732e-01],\n",
       "       [-2.94841818e-01, -1.31979479e-01,  1.94384000e-01,\n",
       "         1.32509732e-01],\n",
       "       [-4.16009689e-01, -1.28296331e+00,  1.37546573e-01,\n",
       "         1.32509732e-01],\n",
       "       [-4.16009689e-01, -1.05276654e+00,  3.64896281e-01,\n",
       "         8.77547895e-04],\n",
       "       [ 3.10997534e-01, -1.31979479e-01,  4.78571135e-01,\n",
       "         2.64141916e-01],\n",
       "       [-5.25060772e-02, -1.05276654e+00,  1.37546573e-01,\n",
       "         8.77547895e-04],\n",
       "       [-1.02184904e+00, -1.74335684e+00, -2.60315415e-01,\n",
       "        -2.62386821e-01],\n",
       "       [-2.94841818e-01, -8.22569778e-01,  2.51221427e-01,\n",
       "         1.32509732e-01],\n",
       "       [-1.73673948e-01, -1.31979479e-01,  2.51221427e-01,\n",
       "         8.77547895e-04],\n",
       "       [-1.73673948e-01, -3.62176246e-01,  2.51221427e-01,\n",
       "         1.32509732e-01],\n",
       "       [ 4.32165405e-01, -3.62176246e-01,  3.08058854e-01,\n",
       "         1.32509732e-01],\n",
       "       [-9.00681170e-01, -1.28296331e+00, -4.30827696e-01,\n",
       "        -1.30754636e-01],\n",
       "       [-1.73673948e-01, -5.92373012e-01,  1.94384000e-01,\n",
       "         1.32509732e-01],\n",
       "       [ 5.53333275e-01,  5.58610819e-01,  1.27429511e+00,\n",
       "         1.71209594e+00],\n",
       "       [-5.25060772e-02, -8.22569778e-01,  7.62758269e-01,\n",
       "         9.22302838e-01],\n",
       "       [ 1.52267624e+00, -1.31979479e-01,  1.21745768e+00,\n",
       "         1.18556721e+00],\n",
       "       [ 5.53333275e-01, -3.62176246e-01,  1.04694540e+00,\n",
       "         7.90670654e-01],\n",
       "       [ 7.95669016e-01, -1.31979479e-01,  1.16062026e+00,\n",
       "         1.31719939e+00],\n",
       "       [ 2.12851559e+00, -1.31979479e-01,  1.61531967e+00,\n",
       "         1.18556721e+00],\n",
       "       [-1.14301691e+00, -1.28296331e+00,  4.21733708e-01,\n",
       "         6.59038469e-01],\n",
       "       [ 1.76501198e+00, -3.62176246e-01,  1.44480739e+00,\n",
       "         7.90670654e-01],\n",
       "       [ 1.03800476e+00, -1.28296331e+00,  1.16062026e+00,\n",
       "         7.90670654e-01],\n",
       "       [ 1.64384411e+00,  1.24920112e+00,  1.33113254e+00,\n",
       "         1.71209594e+00],\n",
       "       [ 7.95669016e-01,  3.28414053e-01,  7.62758269e-01,\n",
       "         1.05393502e+00],\n",
       "       [ 6.74501145e-01, -8.22569778e-01,  8.76433123e-01,\n",
       "         9.22302838e-01],\n",
       "       [ 1.15917263e+00, -1.31979479e-01,  9.90107977e-01,\n",
       "         1.18556721e+00],\n",
       "       [-1.73673948e-01, -1.28296331e+00,  7.05920842e-01,\n",
       "         1.05393502e+00],\n",
       "       [-5.25060772e-02, -5.92373012e-01,  7.62758269e-01,\n",
       "         1.58046376e+00],\n",
       "       [ 6.74501145e-01,  3.28414053e-01,  8.76433123e-01,\n",
       "         1.44883158e+00],\n",
       "       [ 7.95669016e-01, -1.31979479e-01,  9.90107977e-01,\n",
       "         7.90670654e-01],\n",
       "       [ 2.24968346e+00,  1.70959465e+00,  1.67215710e+00,\n",
       "         1.31719939e+00],\n",
       "       [ 2.24968346e+00, -1.05276654e+00,  1.78583195e+00,\n",
       "         1.44883158e+00],\n",
       "       [ 1.89829664e-01, -1.97355361e+00,  7.05920842e-01,\n",
       "         3.95774101e-01],\n",
       "       [ 1.28034050e+00,  3.28414053e-01,  1.10378283e+00,\n",
       "         1.44883158e+00],\n",
       "       [-2.94841818e-01, -5.92373012e-01,  6.49083415e-01,\n",
       "         1.05393502e+00],\n",
       "       [ 2.24968346e+00, -5.92373012e-01,  1.67215710e+00,\n",
       "         1.05393502e+00],\n",
       "       [ 5.53333275e-01, -8.22569778e-01,  6.49083415e-01,\n",
       "         7.90670654e-01],\n",
       "       [ 1.03800476e+00,  5.58610819e-01,  1.10378283e+00,\n",
       "         1.18556721e+00],\n",
       "       [ 1.64384411e+00,  3.28414053e-01,  1.27429511e+00,\n",
       "         7.90670654e-01],\n",
       "       [ 4.32165405e-01, -5.92373012e-01,  5.92245988e-01,\n",
       "         7.90670654e-01],\n",
       "       [ 3.10997534e-01, -1.31979479e-01,  6.49083415e-01,\n",
       "         7.90670654e-01],\n",
       "       [ 6.74501145e-01, -5.92373012e-01,  1.04694540e+00,\n",
       "         1.18556721e+00],\n",
       "       [ 1.64384411e+00, -1.31979479e-01,  1.16062026e+00,\n",
       "         5.27406285e-01],\n",
       "       [ 1.88617985e+00, -5.92373012e-01,  1.33113254e+00,\n",
       "         9.22302838e-01],\n",
       "       [ 2.49201920e+00,  1.70959465e+00,  1.50164482e+00,\n",
       "         1.05393502e+00],\n",
       "       [ 6.74501145e-01, -5.92373012e-01,  1.04694540e+00,\n",
       "         1.31719939e+00],\n",
       "       [ 5.53333275e-01, -5.92373012e-01,  7.62758269e-01,\n",
       "         3.95774101e-01],\n",
       "       [ 3.10997534e-01, -1.05276654e+00,  1.04694540e+00,\n",
       "         2.64141916e-01],\n",
       "       [ 2.24968346e+00, -1.31979479e-01,  1.33113254e+00,\n",
       "         1.44883158e+00],\n",
       "       [ 5.53333275e-01,  7.88807586e-01,  1.04694540e+00,\n",
       "         1.58046376e+00],\n",
       "       [ 6.74501145e-01,  9.82172869e-02,  9.90107977e-01,\n",
       "         7.90670654e-01],\n",
       "       [ 1.89829664e-01, -1.31979479e-01,  5.92245988e-01,\n",
       "         7.90670654e-01],\n",
       "       [ 1.28034050e+00,  9.82172869e-02,  9.33270550e-01,\n",
       "         1.18556721e+00],\n",
       "       [ 1.03800476e+00,  9.82172869e-02,  1.04694540e+00,\n",
       "         1.58046376e+00],\n",
       "       [ 1.28034050e+00,  9.82172869e-02,  7.62758269e-01,\n",
       "         1.44883158e+00],\n",
       "       [-5.25060772e-02, -8.22569778e-01,  7.62758269e-01,\n",
       "         9.22302838e-01],\n",
       "       [ 1.15917263e+00,  3.28414053e-01,  1.21745768e+00,\n",
       "         1.44883158e+00],\n",
       "       [ 1.03800476e+00,  5.58610819e-01,  1.10378283e+00,\n",
       "         1.71209594e+00],\n",
       "       [ 1.03800476e+00, -1.31979479e-01,  8.19595696e-01,\n",
       "         1.44883158e+00],\n",
       "       [ 5.53333275e-01, -1.28296331e+00,  7.05920842e-01,\n",
       "         9.22302838e-01],\n",
       "       [ 7.95669016e-01, -1.31979479e-01,  8.19595696e-01,\n",
       "         1.05393502e+00],\n",
       "       [ 4.32165405e-01,  7.88807586e-01,  9.33270550e-01,\n",
       "         1.44883158e+00],\n",
       "       [ 6.86617933e-02, -1.31979479e-01,  7.62758269e-01,\n",
       "         7.90670654e-01]])"
      ]
     },
     "execution_count": 49,
     "metadata": {},
     "output_type": "execute_result"
    }
   ],
   "source": [
    "scaled=scaler.transform(X)\n",
    "scaled"
   ]
  },
  {
   "cell_type": "code",
   "execution_count": 50,
   "metadata": {},
   "outputs": [],
   "source": [
    "clf_knn2 = KNeighborsClassifier()"
   ]
  },
  {
   "cell_type": "code",
   "execution_count": 51,
   "metadata": {},
   "outputs": [],
   "source": [
    "resultados_knn = cross_val_predict(clf_knn2, scaled, y, cv=5)"
   ]
  },
  {
   "cell_type": "code",
   "execution_count": 52,
   "metadata": {},
   "outputs": [],
   "source": [
    "nome_classes = iris['class'].map({0: 'Setosa', 1:'Versicolor',2: 'Virginica'})"
   ]
  },
  {
   "cell_type": "code",
   "execution_count": 53,
   "metadata": {
    "scrolled": false
   },
   "outputs": [
    {
     "name": "stdout",
     "output_type": "stream",
     "text": [
      "              precision    recall  f1-score   support\n",
      "\n",
      "      Setosa       1.00      1.00      1.00        50\n",
      "  Versicolor       0.94      0.94      0.94        50\n",
      "   Virginica       0.94      0.94      0.94        50\n",
      "\n",
      "    accuracy                           0.96       150\n",
      "   macro avg       0.96      0.96      0.96       150\n",
      "weighted avg       0.96      0.96      0.96       150\n",
      "\n"
     ]
    }
   ],
   "source": [
    "print(classification_report(y,resultados_knn,target_names=nome_classes.unique()))"
   ]
  },
  {
   "cell_type": "markdown",
   "metadata": {},
   "source": [
    "**Tuning com dados escalados**"
   ]
  },
  {
   "cell_type": "code",
   "execution_count": 54,
   "metadata": {},
   "outputs": [
    {
     "data": {
      "text/plain": [
       "{'n_neighbors': [1, 2, 3, 4, 5, 6, 7, 8, 9, 10], 'p': [1, 2, 3]}"
      ]
     },
     "execution_count": 54,
     "metadata": {},
     "output_type": "execute_result"
    }
   ],
   "source": [
    "parametros_grid_knn"
   ]
  },
  {
   "cell_type": "code",
   "execution_count": 55,
   "metadata": {},
   "outputs": [],
   "source": [
    "grid_knn2=GridSearchCV(clf_knn2 , parametros_grid_knn, cv=10, scoring='accuracy')"
   ]
  },
  {
   "cell_type": "code",
   "execution_count": 56,
   "metadata": {},
   "outputs": [
    {
     "data": {
      "text/plain": [
       "GridSearchCV(cv=10, estimator=KNeighborsClassifier(),\n",
       "             param_grid={'n_neighbors': [1, 2, 3, 4, 5, 6, 7, 8, 9, 10],\n",
       "                         'p': [1, 2, 3]},\n",
       "             scoring='accuracy')"
      ]
     },
     "execution_count": 56,
     "metadata": {},
     "output_type": "execute_result"
    }
   ],
   "source": [
    "grid_knn2.fit(scaled,y)"
   ]
  },
  {
   "cell_type": "code",
   "execution_count": 57,
   "metadata": {},
   "outputs": [
    {
     "data": {
      "text/plain": [
       "{'mean_fit_time': array([0.0017344 , 0.00084829, 0.0008656 , 0.00085418, 0.00086563,\n",
       "        0.00086124, 0.0009208 , 0.00087049, 0.00086126, 0.00090539,\n",
       "        0.00084941, 0.00086825, 0.00084951, 0.00087273, 0.00086536,\n",
       "        0.00084763, 0.00084763, 0.00129478, 0.00090895, 0.00087438,\n",
       "        0.00087702, 0.000875  , 0.0008548 , 0.00087571, 0.00093715,\n",
       "        0.00094118, 0.00087159, 0.00086176, 0.00086324, 0.00086529]),\n",
       " 'std_fit_time': array([1.16998233e-03, 1.12289836e-05, 1.06779588e-05, 1.11655521e-05,\n",
       "        1.64159632e-05, 1.24536000e-05, 1.71899381e-04, 2.87328417e-05,\n",
       "        9.29844685e-06, 1.07238241e-04, 5.82058812e-06, 3.47568253e-05,\n",
       "        8.36944303e-06, 6.50259084e-05, 1.65099314e-05, 1.11577857e-05,\n",
       "        8.70981935e-06, 3.35459669e-04, 4.67198468e-05, 1.48637110e-05,\n",
       "        2.13304696e-05, 2.40259218e-05, 1.63322992e-05, 2.33002173e-05,\n",
       "        2.14047230e-04, 9.13086010e-05, 1.42190450e-05, 2.06229315e-05,\n",
       "        2.33292427e-05, 1.33863274e-05]),\n",
       " 'mean_score_time': array([0.00271864, 0.00140796, 0.00149632, 0.00148718, 0.00148704,\n",
       "        0.00153296, 0.00165141, 0.00144911, 0.00152979, 0.0015394 ,\n",
       "        0.00145302, 0.00153279, 0.00146174, 0.00145998, 0.00156431,\n",
       "        0.00146394, 0.00145404, 0.00225105, 0.00159717, 0.0014869 ,\n",
       "        0.00157051, 0.00149255, 0.00150425, 0.00156963, 0.00165231,\n",
       "        0.00160403, 0.00158241, 0.00149751, 0.00148687, 0.0016068 ]),\n",
       " 'std_score_time': array([1.79213205e-03, 1.06816845e-05, 2.21187689e-05, 1.03777780e-04,\n",
       "        1.10727679e-04, 4.99936018e-05, 3.84096893e-04, 1.39433088e-05,\n",
       "        1.45291429e-05, 9.41007083e-05, 1.08223128e-05, 2.00487202e-05,\n",
       "        6.49434879e-05, 3.04795938e-05, 3.53797105e-05, 5.94488779e-05,\n",
       "        8.21423804e-06, 4.68107959e-04, 1.44728090e-04, 3.41288930e-05,\n",
       "        1.96045612e-05, 6.48988160e-05, 1.01147157e-04, 1.31152975e-05,\n",
       "        4.45692374e-04, 2.74537866e-04, 2.05007955e-05, 6.85650548e-05,\n",
       "        1.86957871e-05, 3.11090477e-05]),\n",
       " 'param_n_neighbors': masked_array(data=[1, 1, 1, 2, 2, 2, 3, 3, 3, 4, 4, 4, 5, 5, 5, 6, 6, 6,\n",
       "                    7, 7, 7, 8, 8, 8, 9, 9, 9, 10, 10, 10],\n",
       "              mask=[False, False, False, False, False, False, False, False,\n",
       "                    False, False, False, False, False, False, False, False,\n",
       "                    False, False, False, False, False, False, False, False,\n",
       "                    False, False, False, False, False, False],\n",
       "        fill_value='?',\n",
       "             dtype=object),\n",
       " 'param_p': masked_array(data=[1, 2, 3, 1, 2, 3, 1, 2, 3, 1, 2, 3, 1, 2, 3, 1, 2, 3,\n",
       "                    1, 2, 3, 1, 2, 3, 1, 2, 3, 1, 2, 3],\n",
       "              mask=[False, False, False, False, False, False, False, False,\n",
       "                    False, False, False, False, False, False, False, False,\n",
       "                    False, False, False, False, False, False, False, False,\n",
       "                    False, False, False, False, False, False],\n",
       "        fill_value='?',\n",
       "             dtype=object),\n",
       " 'params': [{'n_neighbors': 1, 'p': 1},\n",
       "  {'n_neighbors': 1, 'p': 2},\n",
       "  {'n_neighbors': 1, 'p': 3},\n",
       "  {'n_neighbors': 2, 'p': 1},\n",
       "  {'n_neighbors': 2, 'p': 2},\n",
       "  {'n_neighbors': 2, 'p': 3},\n",
       "  {'n_neighbors': 3, 'p': 1},\n",
       "  {'n_neighbors': 3, 'p': 2},\n",
       "  {'n_neighbors': 3, 'p': 3},\n",
       "  {'n_neighbors': 4, 'p': 1},\n",
       "  {'n_neighbors': 4, 'p': 2},\n",
       "  {'n_neighbors': 4, 'p': 3},\n",
       "  {'n_neighbors': 5, 'p': 1},\n",
       "  {'n_neighbors': 5, 'p': 2},\n",
       "  {'n_neighbors': 5, 'p': 3},\n",
       "  {'n_neighbors': 6, 'p': 1},\n",
       "  {'n_neighbors': 6, 'p': 2},\n",
       "  {'n_neighbors': 6, 'p': 3},\n",
       "  {'n_neighbors': 7, 'p': 1},\n",
       "  {'n_neighbors': 7, 'p': 2},\n",
       "  {'n_neighbors': 7, 'p': 3},\n",
       "  {'n_neighbors': 8, 'p': 1},\n",
       "  {'n_neighbors': 8, 'p': 2},\n",
       "  {'n_neighbors': 8, 'p': 3},\n",
       "  {'n_neighbors': 9, 'p': 1},\n",
       "  {'n_neighbors': 9, 'p': 2},\n",
       "  {'n_neighbors': 9, 'p': 3},\n",
       "  {'n_neighbors': 10, 'p': 1},\n",
       "  {'n_neighbors': 10, 'p': 2},\n",
       "  {'n_neighbors': 10, 'p': 3}],\n",
       " 'split0_test_score': array([0.93333333, 1.        , 1.        , 0.93333333, 1.        ,\n",
       "        1.        , 1.        , 1.        , 1.        , 1.        ,\n",
       "        1.        , 1.        , 1.        , 1.        , 1.        ,\n",
       "        1.        , 1.        , 1.        , 1.        , 1.        ,\n",
       "        1.        , 1.        , 1.        , 1.        , 1.        ,\n",
       "        1.        , 1.        , 1.        , 1.        , 1.        ]),\n",
       " 'split1_test_score': array([0.93333333, 0.93333333, 0.93333333, 0.93333333, 0.93333333,\n",
       "        0.93333333, 0.93333333, 0.93333333, 0.93333333, 0.93333333,\n",
       "        0.93333333, 0.93333333, 0.93333333, 0.93333333, 0.93333333,\n",
       "        0.93333333, 0.93333333, 0.93333333, 0.93333333, 0.93333333,\n",
       "        0.93333333, 0.93333333, 0.93333333, 0.93333333, 0.93333333,\n",
       "        0.93333333, 0.93333333, 0.93333333, 0.93333333, 0.93333333]),\n",
       " 'split2_test_score': array([1., 1., 1., 1., 1., 1., 1., 1., 1., 1., 1., 1., 1., 1., 1., 1., 1.,\n",
       "        1., 1., 1., 1., 1., 1., 1., 1., 1., 1., 1., 1., 1.]),\n",
       " 'split3_test_score': array([0.93333333, 0.93333333, 0.93333333, 0.93333333, 0.93333333,\n",
       "        0.93333333, 0.93333333, 0.93333333, 0.93333333, 0.93333333,\n",
       "        0.93333333, 0.93333333, 0.93333333, 0.93333333, 0.93333333,\n",
       "        0.93333333, 0.93333333, 0.93333333, 0.93333333, 0.93333333,\n",
       "        0.93333333, 0.93333333, 0.93333333, 0.93333333, 0.93333333,\n",
       "        0.93333333, 0.93333333, 0.93333333, 0.93333333, 0.93333333]),\n",
       " 'split4_test_score': array([0.86666667, 0.86666667, 0.86666667, 0.86666667, 0.86666667,\n",
       "        0.93333333, 0.86666667, 0.86666667, 0.86666667, 0.86666667,\n",
       "        0.93333333, 0.93333333, 0.86666667, 0.86666667, 0.86666667,\n",
       "        0.93333333, 1.        , 0.93333333, 0.93333333, 0.93333333,\n",
       "        0.93333333, 1.        , 1.        , 0.93333333, 0.86666667,\n",
       "        0.93333333, 0.93333333, 0.86666667, 0.93333333, 0.93333333]),\n",
       " 'split5_test_score': array([0.93333333, 1.        , 1.        , 1.        , 1.        ,\n",
       "        0.93333333, 0.93333333, 1.        , 1.        , 0.93333333,\n",
       "        1.        , 1.        , 0.93333333, 0.93333333, 0.93333333,\n",
       "        0.93333333, 1.        , 1.        , 0.93333333, 0.93333333,\n",
       "        1.        , 0.93333333, 1.        , 1.        , 0.93333333,\n",
       "        1.        , 0.93333333, 0.93333333, 1.        , 1.        ]),\n",
       " 'split6_test_score': array([0.8       , 0.8       , 0.8       , 0.8       , 0.8       ,\n",
       "        0.8       , 0.86666667, 0.8       , 0.8       , 0.8       ,\n",
       "        0.8       , 0.8       , 0.8       , 0.86666667, 0.86666667,\n",
       "        0.8       , 0.86666667, 0.86666667, 0.86666667, 0.86666667,\n",
       "        0.86666667, 0.8       , 0.93333333, 0.93333333, 0.8       ,\n",
       "        0.86666667, 0.93333333, 0.8       , 0.93333333, 0.93333333]),\n",
       " 'split7_test_score': array([1.        , 1.        , 1.        , 1.        , 1.        ,\n",
       "        1.        , 1.        , 1.        , 1.        , 1.        ,\n",
       "        0.93333333, 0.93333333, 1.        , 1.        , 0.93333333,\n",
       "        0.93333333, 0.93333333, 0.93333333, 0.93333333, 0.93333333,\n",
       "        0.93333333, 0.93333333, 0.93333333, 0.93333333, 0.93333333,\n",
       "        0.93333333, 0.93333333, 0.93333333, 0.93333333, 0.93333333]),\n",
       " 'split8_test_score': array([1.        , 1.        , 0.93333333, 0.93333333, 1.        ,\n",
       "        0.93333333, 1.        , 1.        , 0.93333333, 1.        ,\n",
       "        1.        , 0.93333333, 1.        , 1.        , 0.93333333,\n",
       "        1.        , 1.        , 1.        , 1.        , 1.        ,\n",
       "        1.        , 1.        , 1.        , 1.        , 1.        ,\n",
       "        1.        , 1.        , 1.        , 1.        , 1.        ]),\n",
       " 'split9_test_score': array([0.93333333, 1.        , 1.        , 0.93333333, 1.        ,\n",
       "        1.        , 1.        , 1.        , 1.        , 0.93333333,\n",
       "        0.93333333, 0.86666667, 1.        , 1.        , 1.        ,\n",
       "        1.        , 1.        , 0.93333333, 1.        , 1.        ,\n",
       "        1.        , 1.        , 0.93333333, 1.        , 1.        ,\n",
       "        0.93333333, 1.        , 1.        , 0.93333333, 0.93333333]),\n",
       " 'mean_test_score': array([0.93333333, 0.95333333, 0.94666667, 0.93333333, 0.95333333,\n",
       "        0.94666667, 0.95333333, 0.95333333, 0.94666667, 0.94      ,\n",
       "        0.94666667, 0.93333333, 0.94666667, 0.95333333, 0.94      ,\n",
       "        0.94666667, 0.96666667, 0.95333333, 0.95333333, 0.95333333,\n",
       "        0.96      , 0.95333333, 0.96666667, 0.96666667, 0.94      ,\n",
       "        0.95333333, 0.96      , 0.94      , 0.96      , 0.96      ]),\n",
       " 'std_test_score': array([0.05962848, 0.06699917, 0.06531973, 0.05962848, 0.06699917,\n",
       "        0.05811865, 0.05206833, 0.06699917, 0.06531973, 0.06289321,\n",
       "        0.05811865, 0.05962848, 0.06531973, 0.05206833, 0.04666667,\n",
       "        0.05811865, 0.04472136, 0.04268749, 0.04268749, 0.04268749,\n",
       "        0.04422166, 0.06      , 0.03333333, 0.03333333, 0.06289321,\n",
       "        0.04268749, 0.03265986, 0.06289321, 0.03265986, 0.03265986]),\n",
       " 'rank_test_score': array([28,  8, 18, 28,  8, 18,  8,  8, 18, 24, 18, 28, 18,  8, 24, 18,  2,\n",
       "         8,  8,  8,  4,  8,  1,  2, 24,  8,  4, 24,  4,  4], dtype=int32)}"
      ]
     },
     "execution_count": 57,
     "metadata": {},
     "output_type": "execute_result"
    }
   ],
   "source": [
    "grid_knn2.cv_results_"
   ]
  },
  {
   "cell_type": "code",
   "execution_count": 58,
   "metadata": {},
   "outputs": [
    {
     "data": {
      "text/plain": [
       "{'n_neighbors': 8, 'p': 2}"
      ]
     },
     "execution_count": 58,
     "metadata": {},
     "output_type": "execute_result"
    }
   ],
   "source": [
    "grid_knn2.best_params_"
   ]
  },
  {
   "cell_type": "code",
   "execution_count": 59,
   "metadata": {},
   "outputs": [
    {
     "data": {
      "text/plain": [
       "0.9666666666666668"
      ]
     },
     "execution_count": 59,
     "metadata": {},
     "output_type": "execute_result"
    }
   ],
   "source": [
    "grid_knn2.best_score_"
   ]
  },
  {
   "cell_type": "markdown",
   "metadata": {},
   "source": [
    "**Naive Bayes**"
   ]
  },
  {
   "cell_type": "code",
   "execution_count": 60,
   "metadata": {},
   "outputs": [],
   "source": [
    "naive=MultinomialNB()"
   ]
  },
  {
   "cell_type": "code",
   "execution_count": 61,
   "metadata": {},
   "outputs": [],
   "source": [
    "resultados_naive = cross_val_predict(naive,X, y, cv=5)"
   ]
  },
  {
   "cell_type": "code",
   "execution_count": 62,
   "metadata": {},
   "outputs": [],
   "source": [
    "nome_classes = iris['class'].map({0: 'Setosa', 1:'Versicolor',2: 'Virginica'})"
   ]
  },
  {
   "cell_type": "code",
   "execution_count": 63,
   "metadata": {
    "scrolled": true
   },
   "outputs": [
    {
     "name": "stdout",
     "output_type": "stream",
     "text": [
      "              precision    recall  f1-score   support\n",
      "\n",
      "      Setosa       1.00      1.00      1.00        50\n",
      "  Versicolor       0.94      0.92      0.93        50\n",
      "   Virginica       0.92      0.94      0.93        50\n",
      "\n",
      "    accuracy                           0.95       150\n",
      "   macro avg       0.95      0.95      0.95       150\n",
      "weighted avg       0.95      0.95      0.95       150\n",
      "\n"
     ]
    }
   ],
   "source": [
    "print(classification_report(y,resultados_naive,target_names=nome_classes.unique()))"
   ]
  },
  {
   "cell_type": "code",
   "execution_count": 64,
   "metadata": {},
   "outputs": [],
   "source": [
    "# alpha\n",
    "lista_alpha=list(range(1,11))"
   ]
  },
  {
   "cell_type": "code",
   "execution_count": 65,
   "metadata": {},
   "outputs": [],
   "source": [
    "parametros_grid_naive = dict(alpha=lista_alpha)"
   ]
  },
  {
   "cell_type": "code",
   "execution_count": 66,
   "metadata": {},
   "outputs": [
    {
     "data": {
      "text/plain": [
       "{'alpha': [1, 2, 3, 4, 5, 6, 7, 8, 9, 10]}"
      ]
     },
     "execution_count": 66,
     "metadata": {},
     "output_type": "execute_result"
    }
   ],
   "source": [
    "parametros_grid_naive"
   ]
  },
  {
   "cell_type": "code",
   "execution_count": 67,
   "metadata": {},
   "outputs": [],
   "source": [
    "grid_naive=GridSearchCV(naive, parametros_grid_naive, cv=10, scoring='accuracy')"
   ]
  },
  {
   "cell_type": "code",
   "execution_count": 68,
   "metadata": {},
   "outputs": [
    {
     "data": {
      "text/plain": [
       "GridSearchCV(cv=10, estimator=MultinomialNB(),\n",
       "             param_grid={'alpha': [1, 2, 3, 4, 5, 6, 7, 8, 9, 10]},\n",
       "             scoring='accuracy')"
      ]
     },
     "execution_count": 68,
     "metadata": {},
     "output_type": "execute_result"
    }
   ],
   "source": [
    "grid_naive.fit(X,y)"
   ]
  },
  {
   "cell_type": "code",
   "execution_count": 69,
   "metadata": {},
   "outputs": [
    {
     "data": {
      "text/plain": [
       "{'mean_fit_time': array([0.00496757, 0.00311582, 0.00308833, 0.0031379 , 0.00319037,\n",
       "        0.00309956, 0.00307393, 0.00308442, 0.00310302, 0.00310102]),\n",
       " 'std_fit_time': array([3.61189350e-03, 5.20554687e-05, 3.32138902e-05, 1.54482952e-04,\n",
       "        2.41638640e-04, 5.23498199e-05, 1.18515859e-05, 1.26447289e-05,\n",
       "        3.09485316e-05, 1.53072155e-05]),\n",
       " 'mean_score_time': array([0.00272315, 0.00181527, 0.00180924, 0.00181131, 0.00194037,\n",
       "        0.00185528, 0.00182104, 0.00181022, 0.00189977, 0.00183225]),\n",
       " 'std_score_time': array([1.78823912e-03, 1.31046962e-05, 1.73096650e-05, 1.71123430e-05,\n",
       "        3.73254032e-04, 9.48013072e-05, 3.17014239e-05, 1.16093936e-05,\n",
       "        1.48580186e-04, 1.38816134e-05]),\n",
       " 'param_alpha': masked_array(data=[1, 2, 3, 4, 5, 6, 7, 8, 9, 10],\n",
       "              mask=[False, False, False, False, False, False, False, False,\n",
       "                    False, False],\n",
       "        fill_value='?',\n",
       "             dtype=object),\n",
       " 'params': [{'alpha': 1},\n",
       "  {'alpha': 2},\n",
       "  {'alpha': 3},\n",
       "  {'alpha': 4},\n",
       "  {'alpha': 5},\n",
       "  {'alpha': 6},\n",
       "  {'alpha': 7},\n",
       "  {'alpha': 8},\n",
       "  {'alpha': 9},\n",
       "  {'alpha': 10}],\n",
       " 'split0_test_score': array([1., 1., 1., 1., 1., 1., 1., 1., 1., 1.]),\n",
       " 'split1_test_score': array([1., 1., 1., 1., 1., 1., 1., 1., 1., 1.]),\n",
       " 'split2_test_score': array([1., 1., 1., 1., 1., 1., 1., 1., 1., 1.]),\n",
       " 'split3_test_score': array([0.93333333, 0.93333333, 0.93333333, 0.93333333, 0.93333333,\n",
       "        1.        , 1.        , 1.        , 1.        , 1.        ]),\n",
       " 'split4_test_score': array([0.86666667, 0.86666667, 0.86666667, 0.93333333, 0.93333333,\n",
       "        0.93333333, 0.93333333, 1.        , 1.        , 1.        ]),\n",
       " 'split5_test_score': array([0.93333333, 0.93333333, 0.93333333, 0.93333333, 0.93333333,\n",
       "        0.93333333, 0.86666667, 0.86666667, 0.86666667, 0.86666667]),\n",
       " 'split6_test_score': array([0.8, 0.8, 0.8, 0.8, 0.8, 0.8, 0.8, 0.8, 0.8, 0.8]),\n",
       " 'split7_test_score': array([1., 1., 1., 1., 1., 1., 1., 1., 1., 1.]),\n",
       " 'split8_test_score': array([1., 1., 1., 1., 1., 1., 1., 1., 1., 1.]),\n",
       " 'split9_test_score': array([1., 1., 1., 1., 1., 1., 1., 1., 1., 1.]),\n",
       " 'mean_test_score': array([0.95333333, 0.95333333, 0.95333333, 0.96      , 0.96      ,\n",
       "        0.96666667, 0.96      , 0.96666667, 0.96666667, 0.96666667]),\n",
       " 'std_test_score': array([0.06699917, 0.06699917, 0.06699917, 0.06110101, 0.06110101,\n",
       "        0.06146363, 0.06798693, 0.06831301, 0.06831301, 0.06831301]),\n",
       " 'rank_test_score': array([8, 8, 8, 5, 5, 1, 7, 1, 1, 1], dtype=int32)}"
      ]
     },
     "execution_count": 69,
     "metadata": {},
     "output_type": "execute_result"
    }
   ],
   "source": [
    "grid_naive.cv_results_"
   ]
  },
  {
   "cell_type": "code",
   "execution_count": 70,
   "metadata": {},
   "outputs": [
    {
     "data": {
      "text/plain": [
       "{'alpha': 6}"
      ]
     },
     "execution_count": 70,
     "metadata": {},
     "output_type": "execute_result"
    }
   ],
   "source": [
    "grid_naive.best_params_"
   ]
  },
  {
   "cell_type": "code",
   "execution_count": 71,
   "metadata": {},
   "outputs": [
    {
     "data": {
      "text/plain": [
       "0.9666666666666668"
      ]
     },
     "execution_count": 71,
     "metadata": {},
     "output_type": "execute_result"
    }
   ],
   "source": [
    "grid_naive.best_score_"
   ]
  },
  {
   "cell_type": "markdown",
   "metadata": {},
   "source": [
    "**KNN com {'n_neighbors': 6, 'p': 3}**"
   ]
  },
  {
   "cell_type": "code",
   "execution_count": 72,
   "metadata": {},
   "outputs": [
    {
     "data": {
      "text/html": [
       "<div>\n",
       "<style scoped>\n",
       "    .dataframe tbody tr th:only-of-type {\n",
       "        vertical-align: middle;\n",
       "    }\n",
       "\n",
       "    .dataframe tbody tr th {\n",
       "        vertical-align: top;\n",
       "    }\n",
       "\n",
       "    .dataframe thead th {\n",
       "        text-align: right;\n",
       "    }\n",
       "</style>\n",
       "<table border=\"1\" class=\"dataframe\">\n",
       "  <thead>\n",
       "    <tr style=\"text-align: right;\">\n",
       "      <th></th>\n",
       "      <th>sepal length (cm)</th>\n",
       "      <th>sepal width (cm)</th>\n",
       "      <th>petal length (cm)</th>\n",
       "      <th>petal width (cm)</th>\n",
       "    </tr>\n",
       "  </thead>\n",
       "  <tbody>\n",
       "    <tr>\n",
       "      <th>17</th>\n",
       "      <td>5.1</td>\n",
       "      <td>3.5</td>\n",
       "      <td>1.4</td>\n",
       "      <td>0.3</td>\n",
       "    </tr>\n",
       "    <tr>\n",
       "      <th>81</th>\n",
       "      <td>5.5</td>\n",
       "      <td>2.4</td>\n",
       "      <td>3.7</td>\n",
       "      <td>1.0</td>\n",
       "    </tr>\n",
       "    <tr>\n",
       "      <th>103</th>\n",
       "      <td>6.3</td>\n",
       "      <td>2.9</td>\n",
       "      <td>5.6</td>\n",
       "      <td>1.8</td>\n",
       "    </tr>\n",
       "  </tbody>\n",
       "</table>\n",
       "</div>"
      ],
      "text/plain": [
       "     sepal length (cm)  sepal width (cm)  petal length (cm)  petal width (cm)\n",
       "17                 5.1               3.5                1.4               0.3\n",
       "81                 5.5               2.4                3.7               1.0\n",
       "103                6.3               2.9                5.6               1.8"
      ]
     },
     "metadata": {},
     "output_type": "display_data"
    },
    {
     "data": {
      "text/html": [
       "<div>\n",
       "<style scoped>\n",
       "    .dataframe tbody tr th:only-of-type {\n",
       "        vertical-align: middle;\n",
       "    }\n",
       "\n",
       "    .dataframe tbody tr th {\n",
       "        vertical-align: top;\n",
       "    }\n",
       "\n",
       "    .dataframe thead th {\n",
       "        text-align: right;\n",
       "    }\n",
       "</style>\n",
       "<table border=\"1\" class=\"dataframe\">\n",
       "  <thead>\n",
       "    <tr style=\"text-align: right;\">\n",
       "      <th></th>\n",
       "      <th>sepal length (cm)</th>\n",
       "      <th>sepal width (cm)</th>\n",
       "      <th>petal length (cm)</th>\n",
       "      <th>petal width (cm)</th>\n",
       "    </tr>\n",
       "  </thead>\n",
       "  <tbody>\n",
       "    <tr>\n",
       "      <th>40</th>\n",
       "      <td>5.0</td>\n",
       "      <td>3.5</td>\n",
       "      <td>1.3</td>\n",
       "      <td>0.3</td>\n",
       "    </tr>\n",
       "    <tr>\n",
       "      <th>146</th>\n",
       "      <td>6.3</td>\n",
       "      <td>2.5</td>\n",
       "      <td>5.0</td>\n",
       "      <td>1.9</td>\n",
       "    </tr>\n",
       "    <tr>\n",
       "      <th>38</th>\n",
       "      <td>4.4</td>\n",
       "      <td>3.0</td>\n",
       "      <td>1.3</td>\n",
       "      <td>0.2</td>\n",
       "    </tr>\n",
       "  </tbody>\n",
       "</table>\n",
       "</div>"
      ],
      "text/plain": [
       "     sepal length (cm)  sepal width (cm)  petal length (cm)  petal width (cm)\n",
       "40                 5.0               3.5                1.3               0.3\n",
       "146                6.3               2.5                5.0               1.9\n",
       "38                 4.4               3.0                1.3               0.2"
      ]
     },
     "metadata": {},
     "output_type": "display_data"
    },
    {
     "data": {
      "text/plain": [
       "(None, None)"
      ]
     },
     "execution_count": 72,
     "metadata": {},
     "output_type": "execute_result"
    }
   ],
   "source": [
    "display(X_train.head(3)),display(X_test.head(3))"
   ]
  },
  {
   "cell_type": "code",
   "execution_count": 73,
   "metadata": {},
   "outputs": [
    {
     "data": {
      "text/plain": [
       "17     0\n",
       "81     1\n",
       "103    2\n",
       "Name: class, dtype: int64"
      ]
     },
     "metadata": {},
     "output_type": "display_data"
    },
    {
     "data": {
      "text/plain": [
       "40     0\n",
       "146    2\n",
       "38     0\n",
       "Name: class, dtype: int64"
      ]
     },
     "metadata": {},
     "output_type": "display_data"
    },
    {
     "data": {
      "text/plain": [
       "(None, None)"
      ]
     },
     "execution_count": 73,
     "metadata": {},
     "output_type": "execute_result"
    }
   ],
   "source": [
    "display(y_train.head(3)),display(y_test.head(3))"
   ]
  },
  {
   "cell_type": "code",
   "execution_count": 74,
   "metadata": {},
   "outputs": [],
   "source": [
    "knn_final=KNeighborsClassifier(n_neighbors=6, p=3)"
   ]
  },
  {
   "cell_type": "code",
   "execution_count": 75,
   "metadata": {},
   "outputs": [
    {
     "data": {
      "text/plain": [
       "KNeighborsClassifier(n_neighbors=6, p=3)"
      ]
     },
     "execution_count": 75,
     "metadata": {},
     "output_type": "execute_result"
    }
   ],
   "source": [
    "knn_final.fit(X_train,y_train)"
   ]
  },
  {
   "cell_type": "code",
   "execution_count": 76,
   "metadata": {},
   "outputs": [],
   "source": [
    "y_pred=knn_final.predict(X_test)"
   ]
  },
  {
   "cell_type": "code",
   "execution_count": 77,
   "metadata": {},
   "outputs": [
    {
     "data": {
      "text/plain": [
       "1.0"
      ]
     },
     "execution_count": 77,
     "metadata": {},
     "output_type": "execute_result"
    }
   ],
   "source": [
    "# acuracia\n",
    "accuracy_score(y_test,y_pred)"
   ]
  },
  {
   "cell_type": "code",
   "execution_count": 78,
   "metadata": {},
   "outputs": [
    {
     "name": "stdout",
     "output_type": "stream",
     "text": [
      "              precision    recall  f1-score   support\n",
      "\n",
      "           0       1.00      1.00      1.00        12\n",
      "           1       1.00      1.00      1.00         9\n",
      "           2       1.00      1.00      1.00         9\n",
      "\n",
      "    accuracy                           1.00        30\n",
      "   macro avg       1.00      1.00      1.00        30\n",
      "weighted avg       1.00      1.00      1.00        30\n",
      "\n"
     ]
    }
   ],
   "source": [
    "# relatorio\n",
    "print (classification_report(y_test, y_pred))"
   ]
  },
  {
   "cell_type": "code",
   "execution_count": 79,
   "metadata": {},
   "outputs": [],
   "source": [
    "y_pred2=knn_final.predict(X_train)"
   ]
  },
  {
   "cell_type": "code",
   "execution_count": 80,
   "metadata": {},
   "outputs": [
    {
     "data": {
      "text/plain": [
       "0.9833333333333333"
      ]
     },
     "execution_count": 80,
     "metadata": {},
     "output_type": "execute_result"
    }
   ],
   "source": [
    "# acuracia\n",
    "accuracy_score(y_train,y_pred2)"
   ]
  },
  {
   "cell_type": "code",
   "execution_count": 81,
   "metadata": {},
   "outputs": [
    {
     "name": "stdout",
     "output_type": "stream",
     "text": [
      "              precision    recall  f1-score   support\n",
      "\n",
      "           0       1.00      1.00      1.00        38\n",
      "           1       0.98      0.98      0.98        41\n",
      "           2       0.98      0.98      0.98        41\n",
      "\n",
      "    accuracy                           0.98       120\n",
      "   macro avg       0.98      0.98      0.98       120\n",
      "weighted avg       0.98      0.98      0.98       120\n",
      "\n"
     ]
    }
   ],
   "source": [
    "# relatorio\n",
    "print (classification_report(y_train, y_pred2))"
   ]
  },
  {
   "cell_type": "markdown",
   "metadata": {},
   "source": [
    "<p><span style=\"color:red\"> Apresentar a saída classificada</span></p>\n",
    "<p><span style=\"color:red\"> Justificar a performance do modelo de classificação, com base nos métodos de avaliação pertinentes.</span></p>\n"
   ]
  },
  {
   "cell_type": "markdown",
   "metadata": {},
   "source": [
    "O Modelo de Classificação apresentou bons resultados utilizando a técnica de Validação Cruzada com um total de 5 folds.\n",
    "<br><br>\n",
    "Foram escolhidas as métricas **precision**, **recall** e **f1-score** para avaliar o modelo por permitir uma análise por classe, já que estamos lidando com um problema que contém 3 classes.\n",
    "    \n",
    "Através do valor da métrica de precisão (precision) podemos ver que o modelo sofreu mais para classificar a classe **Iris-Virginica** obtendo um percentual de **94%** que corresponde ao número de vezes que o modelo classificou corretamente os dados da respectiva classe sobre a quantidade de vezes que a classe foi predita.\n",
    "\n",
    "Analisando a métrica de revocação (recall) o modelo teve mais dificuldade para classificar os dados da classe Iris-versicolor também com o percentual de **94%** que corresponde ao número de vezes que o modelo classificou corretamente diante do volume de dados da respectiva classe no dataset.\n",
    "\n",
    "Por fim, a medida **F1-Score** que corresponde a média harmonica entre as duas medidas anteriormente citadas apresentou um bom resultado com o valor de **97%**."
   ]
  },
  {
   "cell_type": "markdown",
   "metadata": {},
   "source": [
    "### Trabalho adicional"
   ]
  },
  {
   "cell_type": "markdown",
   "metadata": {},
   "source": [
    "### Dicas importantes "
   ]
  },
  {
   "cell_type": "markdown",
   "metadata": {},
   "source": [
    "- Tenha coragem.\n",
    "- Seja verdadeiro e honesto.\n",
    "- Priorize sempre a simplicidade.\n",
    "- Exponha o seu ponto de vista sem medo.\n",
    "- Dê o seu máximo!"
   ]
  }
 ],
 "metadata": {
  "kernelspec": {
   "display_name": "Python 3",
   "language": "python",
   "name": "python3"
  },
  "language_info": {
   "codemirror_mode": {
    "name": "ipython",
    "version": 3
   },
   "file_extension": ".py",
   "mimetype": "text/x-python",
   "name": "python",
   "nbconvert_exporter": "python",
   "pygments_lexer": "ipython3",
   "version": "3.7.6"
  }
 },
 "nbformat": 4,
 "nbformat_minor": 2
}
