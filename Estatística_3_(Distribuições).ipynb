{
  "nbformat": 4,
  "nbformat_minor": 0,
  "metadata": {
    "colab": {
      "name": "Estatística 3 (Distribuições)",
      "provenance": [],
      "collapsed_sections": [],
      "authorship_tag": "ABX9TyO7BAaYh3c25Qh5U7u19q9a",
      "include_colab_link": true
    },
    "kernelspec": {
      "name": "python3",
      "display_name": "Python 3"
    }
  },
  "cells": [
    {
      "cell_type": "markdown",
      "metadata": {
        "id": "view-in-github",
        "colab_type": "text"
      },
      "source": [
        "<a href=\"https://colab.research.google.com/github/amadords/Projetos-Publicos/blob/master/Estat%C3%ADstica_3_(Distribui%C3%A7%C3%B5es).ipynb\" target=\"_parent\"><img src=\"https://colab.research.google.com/assets/colab-badge.svg\" alt=\"Open In Colab\"/></a>"
      ]
    },
    {
      "cell_type": "markdown",
      "metadata": {
        "id": "V-vWsS-rri4O"
      },
      "source": [
        "# Distribuições\n",
        "---\n",
        "\n",
        "[![LinkedIn](https://img.shields.io/badge/LinkedIn-DanielSousaAmador-cyan.svg)](https://www.linkedin.com/in/daniel-sousa-amador)\n",
        "[![GitHub](https://img.shields.io/badge/GitHub-amadords-darkblue.svg)](https://github.com/amadords)\n",
        "[![Medium](https://img.shields.io/badge/Medium-DanielSousaAmador-white.svg)](https://daniel-s-amador.medium.com/)\n",
        "\n",
        "\n",
        "\n",
        "![img](https://i.stack.imgur.com/ETvbo.png)\n",
        "\n",
        "\n",
        "O conceito de distribuição é bem simples, uma vez que ela é a frequência com que os valores estão em um conjunto de dados.\n",
        "\n",
        "Cada distribuição trará seus desafios e suas métricas e padrões.\n",
        "\n",
        "A mais conhecida é a **Distribuição Normal**.\n"
      ]
    },
    {
      "cell_type": "markdown",
      "metadata": {
        "id": "2W_L0anunA7-"
      },
      "source": [
        "# Normal\n",
        "\n",
        "Sem dúvida, a mais emblemática da Estatística Tradicional. Deve muito disso ao fato de as distribuições de estatísticas amostrais serem geralmente moldadas de forma normal, o que a transformou em uma ferramenta poderosa no desenvolvimento de fórmulas matemáticas que aproximam essas distribuições. *(Peter Bruce & Andrew Bruce, 2019)*\n",
        "\n",
        "- Distribuição contínua (A busca é por intervalos, não por valores exatos)\n",
        "- Tem um formato campanular, ou de sino.\n",
        "- Também é conhecida por distribuição *gaussiana.*\n",
        "- A média dos dados está no centro (sendo assim, simétrica)\n",
        "- Se tem média ($\\mu$) 0 e desvio padrão ($\\sigma$) 1 é **Distribuição Normal Padrão**.\n",
        "- É uma distribuição contínua.\n",
        "  - Na discreta consegue-se calcular a probabilidade cumulativa (Exemplo é a cumulativa de 1 a 3, 1 a 4 etc), na contínua não.\n",
        "\n",
        "Nesse tipo de distribuição 68,26% dos dados ficam dentro de um desvio-padrão da média e 95,44% dentro de dois desvios padrão e 99.73% a três desvios padrão.\n",
        "\n",
        "\n",
        "**Como interpretar?**\n",
        "\n",
        "Se temos crianças com idades distribuidas normalmente com média = 8 desvio padrão = 2, significa que acima e abaixo da médias as crianças estão bem distribuidas, ou seja, entre 6 e a média e entre a média e 10 tem a mesma quantidade de crianças naquelas faixas.\n",
        "\n",
        "\n",
        "A **Distribuição Normal Padrão (Z)** mostra o número de desvios padrões que o valor está acima ou abaixo da média. Esse valor é chamado de score z ou valor z.\n",
        "\n",
        "- Se score z = -2, os dados estão a 2 desvios padrão abaixo da média.\n",
        "\n",
        "- Esse score é utilizado para calcular a probabilidade dos dados em relação à tabela Z.\n",
        "\n",
        "- Se quero saber a probabilidade de estar na média, sendo meu total = 1, a probabilidade é de 0.5 (50%)\n",
        "\n",
        "- Não tendo como encontrar a probabilidade para a calda da direita, os modos de calcular são:\n",
        "  - Calcular a acumulada até onde se quer e subtrair de 1 (total).\n",
        "\n",
        "  ou\n",
        "  - Por serem equivalentes, calcularem a mesma área na calda esquerda.\n",
        "\n",
        "\n",
        "\n",
        "  Na distribuição normal, por ser dificil calcular as probabilidades utilizando a distribuição padrão normal, usa-se a tabela Z, onde se olha a probabilidade.\n",
        "\n",
        "$\n",
        "Z = \\frac{X-\\mu}{\\sigma}\n",
        "$\n",
        "\n",
        "- X = Distribuição\n",
        "- ($\\mu$) = Média\n",
        "- ($\\sigma$) = Desvio Padrão\n",
        "\n",
        "**Exemplo 1:**\n",
        "\n",
        "Cesta com pesos, média = 8 e desvio padrão = 2.\n",
        "\n",
        "Chances de tirar **menos de** 6 kg?\n",
        "\n",
        "$\n",
        "Z = \\frac{X-\\mu}{\\sigma}\n",
        "$\n",
        "\n",
        "$\n",
        "Z = \\frac{6-8}{2}\n",
        "$\n",
        "\n",
        "$\n",
        "Z = -1\n",
        "$\n",
        "\n",
        "Procuro na [tabela Z](https://github.com/amadords/Tabelas/blob/main/Tabela%20Z%20(Acumulada%20Positiva).png) = -1.0 e .00 (pois não tem casas decimais. Logo tenho P = 0.1587\n",
        "\n",
        "**Exemplo 2:**\n",
        "\n",
        "Cesta com pesos, média = 8 e desvio padrão = 2.\n",
        "\n",
        "Chances de tirar **mais de** 10 kg?\n",
        "\n",
        "$\n",
        "Z = \\frac{X-\\mu}{\\sigma}\n",
        "$\n",
        "\n",
        "$\n",
        "Z = \\frac{10-8}{2}\n",
        "$\n",
        "\n",
        "$\n",
        "Z = 1\n",
        "$\n",
        "\n",
        "P = 1 - 0.8413\n",
        "\n",
        "P = 0.1587\n",
        "\n",
        "\n",
        "**Exemplo 3:**\n",
        "\n",
        "Cesta com pesos, média = 8 e desvio padrão = 2.\n",
        "\n",
        "Chances de tirar **mais de** 8 kg?\n",
        "\n",
        "Não precisa de cálculo, pois a distribuição é simétrica, logo ao querer um valor maior que a média é 50% e menor também é 50%.\n",
        "\n",
        "**Exemplo 4:**\n",
        "\n",
        "Cesta com pesos, média = 8 e desvio padrão = 2.\n",
        "\n",
        "Chances de tirar**menos de** 10 kg *e* **mais de** 8 kg?\n",
        "a) Menor que 10\n",
        "$\n",
        "Z = \\frac{X-\\mu}{\\sigma}\n",
        "$\n",
        "\n",
        "$\n",
        "Z = \\frac{10-8}{2}\n",
        "$\n",
        "\n",
        "$\n",
        "Z = 1\n",
        "$\n",
        "\n",
        "P =  0.8413\n",
        "\n",
        "b) Maior que 8\n",
        "$\n",
        "Z = \\frac{X-\\mu}{\\sigma}\n",
        "$\n",
        "\n",
        "$\n",
        "Z = \\frac{8-8}{2}\n",
        "$\n",
        "\n",
        "$\n",
        "Z = 0\n",
        "$\n",
        "\n",
        "P =  0.5\n",
        "\n",
        "c) p = 0.8413 - 0.5 \n",
        "\n",
        "  logo,  p = 0.34\n",
        "\n",
        "**Exemplo 5:**\n",
        "\n",
        "Cesta com pesos, média = 8 e desvio padrão = 2.\n",
        "\n",
        "Chances de tirar**menos de** 6 kg *ou* **mais de** 10 kg?\n",
        "a) Menor que 6\n",
        "$\n",
        "Z = \\frac{X-\\mu}{\\sigma}\n",
        "$\n",
        "\n",
        "$\n",
        "Z = \\frac{6-8}{2}\n",
        "$\n",
        "\n",
        "$\n",
        "Z = -1\n",
        "$\n",
        "\n",
        "P =  0.1587\n",
        "\n",
        "b) Maior que 10\n",
        "$\n",
        "Z = \\frac{X-\\mu}{\\sigma}\n",
        "$\n",
        "\n",
        "$\n",
        "Z = \\frac{10-8}{2}\n",
        "$\n",
        "\n",
        "$\n",
        "Z = 1\n",
        "$\n",
        "\n",
        "1 - p = 1 - 0.84135 = 0.1587\n",
        "\n",
        "c)  p = 0.1587 + 0.1587 = 0.3173\n",
        "\n",
        "**Exemplo 6:**\n",
        "\n",
        "Cesta com pesos, média = 8 e desvio padrão = 2.\n",
        "\n",
        "Chances de tirar**menos de** 4.3 kg?\n",
        "$\n",
        "Z = \\frac{X-\\mu}{\\sigma}\n",
        "$\n",
        "\n",
        "$\n",
        "Z = \\frac{4.3-8}{2}\n",
        "$\n",
        "\n",
        "$\n",
        "Z = -1.85\n",
        "$\n",
        "\n",
        "P =  0.1587"
      ]
    },
    {
      "cell_type": "markdown",
      "metadata": {
        "id": "s6ZT9JqfsBUv"
      },
      "source": [
        "**Importando a função *norm***"
      ]
    },
    {
      "cell_type": "code",
      "metadata": {
        "id": "ONBTFVvYmhvv"
      },
      "source": [
        "from scipy.stats import norm"
      ],
      "execution_count": null,
      "outputs": []
    },
    {
      "cell_type": "markdown",
      "metadata": {
        "id": "YLmhsTZK0Q9I"
      },
      "source": [
        "## Exemplo:\n",
        "\n",
        "**Conjunto de objetos em uma cesta, a média é 8 e o desvio padrão é 2.**\n",
        "\n",
        "* *cdf =  menor que* (calda esquerda da distribuição)\n",
        "\n",
        "* *sf = maior que* (calda direita da distribuição)\n",
        "\n"
      ]
    },
    {
      "cell_type": "markdown",
      "metadata": {
        "id": "s-Gr9WfU0lst"
      },
      "source": [
        "### Qual a probabilidade de tirar um objeto que peso é **menor que 6** quilos?\n"
      ]
    },
    {
      "cell_type": "markdown",
      "metadata": {
        "id": "P6ZbEDiQsTqV"
      },
      "source": [
        "**Pela esquerda**"
      ]
    },
    {
      "cell_type": "code",
      "metadata": {
        "id": "1ZCAKKDvnFZA",
        "outputId": "9c9e4961-9aee-4c4b-f6f5-e730062381be",
        "colab": {
          "base_uri": "https://localhost:8080/",
          "height": 35
        }
      },
      "source": [
        "norm.cdf(6, 8, 2)"
      ],
      "execution_count": null,
      "outputs": [
        {
          "output_type": "execute_result",
          "data": {
            "text/plain": [
              "0.15865525393145707"
            ]
          },
          "metadata": {
            "tags": []
          },
          "execution_count": 2
        }
      ]
    },
    {
      "cell_type": "markdown",
      "metadata": {
        "id": "_SrLOt2QsZxn"
      },
      "source": [
        "**Pela direita** \n",
        "\n",
        "(total - maior que a partir do ponto que quero)\n"
      ]
    },
    {
      "cell_type": "code",
      "metadata": {
        "id": "wjwqdJpnipcr",
        "outputId": "ad5a601a-1233-485e-89e0-bc0230e6e9b6",
        "colab": {
          "base_uri": "https://localhost:8080/",
          "height": 36
        }
      },
      "source": [
        "1 - norm.sf(6, 8, 2)"
      ],
      "execution_count": null,
      "outputs": [
        {
          "output_type": "execute_result",
          "data": {
            "text/plain": [
              "0.15865525393145707"
            ]
          },
          "metadata": {
            "tags": []
          },
          "execution_count": 41
        }
      ]
    },
    {
      "cell_type": "markdown",
      "metadata": {
        "id": "BPLPapOx0pVS"
      },
      "source": [
        "### Qual a probabilidade de tirar um objeto que o peso á **maior que 6** quilos?\n"
      ]
    },
    {
      "cell_type": "markdown",
      "metadata": {
        "id": "--HDO4o2st3n"
      },
      "source": [
        "**Pela esquerda** \n",
        "\n",
        "(total - menor que a partir do ponto que quero)"
      ]
    },
    {
      "cell_type": "code",
      "metadata": {
        "id": "7CLuf5mZnHXi",
        "outputId": "e1af3a23-71a2-4edc-d7a8-54da9afb2c9d",
        "colab": {
          "base_uri": "https://localhost:8080/",
          "height": 36
        }
      },
      "source": [
        "1 - norm.cdf(6, 8, 2)"
      ],
      "execution_count": null,
      "outputs": [
        {
          "output_type": "execute_result",
          "data": {
            "text/plain": [
              "0.8413447460685429"
            ]
          },
          "metadata": {
            "tags": []
          },
          "execution_count": 42
        }
      ]
    },
    {
      "cell_type": "markdown",
      "metadata": {
        "id": "0UIPCepBsx6v"
      },
      "source": [
        "**Pela direita**"
      ]
    },
    {
      "cell_type": "code",
      "metadata": {
        "id": "8ZsZ6lft01n_",
        "outputId": "0d6575ff-fa00-4c6f-9b56-d38607c1b7bd",
        "colab": {
          "base_uri": "https://localhost:8080/",
          "height": 36
        }
      },
      "source": [
        "norm.sf(6, 8, 2)"
      ],
      "execution_count": null,
      "outputs": [
        {
          "output_type": "execute_result",
          "data": {
            "text/plain": [
              "0.8413447460685429"
            ]
          },
          "metadata": {
            "tags": []
          },
          "execution_count": 12
        }
      ]
    },
    {
      "cell_type": "markdown",
      "metadata": {
        "id": "UDHnBZiX4FR2"
      },
      "source": [
        "### Qual a probabilidade de tirar um objeto que o peso é **menor que 6 *ou* maior que 10 quilos**?\n"
      ]
    },
    {
      "cell_type": "markdown",
      "metadata": {
        "id": "_rP-9D8mtBMr"
      },
      "source": [
        "**calda esquerda + calda direita**\n"
      ]
    },
    {
      "cell_type": "code",
      "metadata": {
        "id": "48wZLKgqnIib",
        "outputId": "dc0fb229-6c9c-4d19-ec8f-c715d2372e98",
        "colab": {
          "base_uri": "https://localhost:8080/",
          "height": 36
        }
      },
      "source": [
        "norm.cdf(6, 8, 2) + norm.sf(10, 8, 2)"
      ],
      "execution_count": null,
      "outputs": [
        {
          "output_type": "execute_result",
          "data": {
            "text/plain": [
              "0.31731050786291415"
            ]
          },
          "metadata": {
            "tags": []
          },
          "execution_count": 15
        }
      ]
    },
    {
      "cell_type": "markdown",
      "metadata": {
        "id": "2LCUTO_64MBu"
      },
      "source": [
        "### Qual a probabilidade de tirar um objeto que o peso é **menor que 10 *e* maior que 8 quilos**?"
      ]
    },
    {
      "cell_type": "markdown",
      "metadata": {
        "id": "BathRIiktHHu"
      },
      "source": [
        "**calda esquerda - calda direita**\n"
      ]
    },
    {
      "cell_type": "code",
      "metadata": {
        "id": "V18qD6yunKBi",
        "outputId": "8e5089e3-51d8-4ac2-cabe-29084217e607",
        "colab": {
          "base_uri": "https://localhost:8080/",
          "height": 36
        }
      },
      "source": [
        "norm.cdf(10, 8, 2) - norm.cdf(8, 8, 2)"
      ],
      "execution_count": null,
      "outputs": [
        {
          "output_type": "execute_result",
          "data": {
            "text/plain": [
              "0.3413447460685429"
            ]
          },
          "metadata": {
            "tags": []
          },
          "execution_count": 14
        }
      ]
    },
    {
      "cell_type": "markdown",
      "metadata": {
        "id": "5UlhTkolnMG2"
      },
      "source": [
        "# Testes de Normalidade\n",
        "\n",
        "Para saber se os dados se aproximam da normalidade"
      ]
    },
    {
      "cell_type": "markdown",
      "metadata": {
        "id": "57cBySbS6JIL"
      },
      "source": [
        "### Com dados normais"
      ]
    },
    {
      "cell_type": "markdown",
      "metadata": {
        "id": "dJThXTYhtXdz"
      },
      "source": [
        "**Importando as bibliotecas**\n",
        "\n",
        "- Função *norm* criará dados normalmente distribuídos.\n",
        "- Função *skewnorm* criará dados enviesados ou não distribuídos na normal."
      ]
    },
    {
      "cell_type": "code",
      "metadata": {
        "id": "M4An6KWknLfv"
      },
      "source": [
        "from scipy import stats\n",
        "from scipy.stats import norm, skewnorm \n",
        "import matplotlib.pyplot as plt"
      ],
      "execution_count": null,
      "outputs": []
    },
    {
      "cell_type": "markdown",
      "metadata": {
        "id": "hPafMGWMtobN"
      },
      "source": [
        "**Criação de uma variável com dados em uma distribuição normal**\n",
        "\n",
        "com a função rvs (100 elementos)\n"
      ]
    },
    {
      "cell_type": "code",
      "metadata": {
        "id": "ULyCInYFnPKI"
      },
      "source": [
        "dados = norm.rvs(size = 1000)\n",
        "dados"
      ],
      "execution_count": null,
      "outputs": []
    },
    {
      "cell_type": "markdown",
      "metadata": {
        "id": "kmsuawPv64kl"
      },
      "source": [
        "**Histograma**"
      ]
    },
    {
      "cell_type": "code",
      "metadata": {
        "id": "xXcHlSNynQLQ",
        "outputId": "86868bc3-156e-4922-d9c0-b08cf688754a",
        "colab": {
          "base_uri": "https://localhost:8080/",
          "height": 299
        }
      },
      "source": [
        "plt.hist(dados, bins = 20)\n",
        "plt.title('Dados')"
      ],
      "execution_count": null,
      "outputs": [
        {
          "output_type": "execute_result",
          "data": {
            "text/plain": [
              "Text(0.5, 1.0, 'Dados')"
            ]
          },
          "metadata": {
            "tags": []
          },
          "execution_count": 8
        },
        {
          "output_type": "display_data",
          "data": {
            "image/png": "[encoded data removed]",
            "text/plain": [
              "<Figure size 432x288 with 1 Axes>"
            ]
          },
          "metadata": {
            "tags": [],
            "needs_background": "light"
          }
        }
      ]
    },
    {
      "cell_type": "markdown",
      "metadata": {
        "id": "DRACusB667_Y"
      },
      "source": [
        "**QQ plot para verificar a normalidade**"
      ]
    },
    {
      "cell_type": "code",
      "metadata": {
        "id": "pa7nMfyfnS-_",
        "outputId": "45d5974a-f5ae-4e5e-f92e-8359cd600570",
        "colab": {
          "base_uri": "https://localhost:8080/",
          "height": 295
        }
      },
      "source": [
        "fig, ax = plt.subplots()\n",
        "stats.probplot(dados, fit=True,   plot=ax)\n",
        "plt.show()"
      ],
      "execution_count": null,
      "outputs": [
        {
          "output_type": "display_data",
          "data": {
            "image/png": "[encoded data removed]",
            "text/plain": [
              "<Figure size 432x288 with 1 Axes>"
            ]
          },
          "metadata": {
            "tags": [],
            "needs_background": "light"
          }
        }
      ]
    },
    {
      "cell_type": "markdown",
      "metadata": {
        "id": "86Ls3AsM7AsZ"
      },
      "source": [
        "**Teste de Shapiro** (Teste de Hipótese)\n",
        "\n",
        "- O segundo argumento é o *valor de p*.\n",
        "- Acima de 0.05, Não há como rejeitar a hipótese nula - Dados normalmente distribuidos.\n"
      ]
    },
    {
      "cell_type": "code",
      "metadata": {
        "id": "bxA_F32LnUmP",
        "outputId": "5eaa0aca-055a-476f-a5e2-153c2de651f5",
        "colab": {
          "base_uri": "https://localhost:8080/",
          "height": 35
        }
      },
      "source": [
        "stats.shapiro(dados)"
      ],
      "execution_count": null,
      "outputs": [
        {
          "output_type": "execute_result",
          "data": {
            "text/plain": [
              "(0.9982723593711853, 0.4158402383327484)"
            ]
          },
          "metadata": {
            "tags": []
          },
          "execution_count": 10
        }
      ]
    },
    {
      "cell_type": "markdown",
      "metadata": {
        "id": "hSVUjGr_nXmd"
      },
      "source": [
        "### Com dados não normais"
      ]
    },
    {
      "cell_type": "code",
      "metadata": {
        "id": "ndmQITZOnWNY"
      },
      "source": [
        "dados2 = skewnorm.rvs(4, size=1000)"
      ],
      "execution_count": null,
      "outputs": []
    },
    {
      "cell_type": "markdown",
      "metadata": {
        "id": "nyUlD_ka8DVK"
      },
      "source": [
        "**Histograma**"
      ]
    },
    {
      "cell_type": "code",
      "metadata": {
        "id": "rCsRoBvBnZnz",
        "outputId": "c09f9ce5-5c10-400f-ace6-552ff0350d4f",
        "colab": {
          "base_uri": "https://localhost:8080/",
          "height": 281
        }
      },
      "source": [
        "plt.hist(dados2, bins = 20)\n",
        "plt.title('Dados');"
      ],
      "execution_count": null,
      "outputs": [
        {
          "output_type": "display_data",
          "data": {
            "image/png": "[encoded data removed]",
            "text/plain": [
              "<Figure size 432x288 with 1 Axes>"
            ]
          },
          "metadata": {
            "tags": [],
            "needs_background": "light"
          }
        }
      ]
    },
    {
      "cell_type": "markdown",
      "metadata": {
        "id": "SjZVInWC8Lem"
      },
      "source": [
        "**QQ plot**"
      ]
    },
    {
      "cell_type": "code",
      "metadata": {
        "id": "fTkV8UbNnbET",
        "outputId": "97642852-85fc-4c01-d774-70d7f10f8907",
        "colab": {
          "base_uri": "https://localhost:8080/",
          "height": 295
        }
      },
      "source": [
        "fig, ax = plt.subplots()\n",
        "stats.probplot(dados2, fit=True,   plot=ax)\n",
        "plt.show()"
      ],
      "execution_count": null,
      "outputs": [
        {
          "output_type": "display_data",
          "data": {
            "image/png": "[encoded data removed]",
            "text/plain": [
              "<Figure size 432x288 with 1 Axes>"
            ]
          },
          "metadata": {
            "tags": [],
            "needs_background": "light"
          }
        }
      ]
    },
    {
      "cell_type": "markdown",
      "metadata": {
        "id": "B6Q8lV1J8OmZ"
      },
      "source": [
        "**Teste de Shapiro**\n",
        "\n",
        "- Rejeitamos a H0 - Dados normalmente distribuídos, pois o valor é muito abaixo de 0.05 (Veja que está em notação científica)\n",
        "- Assim, aceitamos a hipótese alternativa (H1) - Os dados não estão normalmente distribuídos."
      ]
    },
    {
      "cell_type": "code",
      "metadata": {
        "id": "OLRm8br1ncp0",
        "outputId": "bf24ab1d-778a-45b1-bb7e-e6a2dd16e738",
        "colab": {
          "base_uri": "https://localhost:8080/",
          "height": 36
        }
      },
      "source": [
        "stats.shapiro(dados2)"
      ],
      "execution_count": null,
      "outputs": [
        {
          "output_type": "execute_result",
          "data": {
            "text/plain": [
              "(0.9553673267364502, 6.978521810948929e-17)"
            ]
          },
          "metadata": {
            "tags": []
          },
          "execution_count": 22
        }
      ]
    },
    {
      "cell_type": "markdown",
      "metadata": {
        "id": "GZ0LbnTvKWbV"
      },
      "source": [
        "\n",
        "Observação: Segundo o **Teorema Central do Limite**, conforme o tamanho da amostra aumenta, a distribuição das médias amostrais se aproxima cada vez mais da normal, independentemente de como os dados estejam distribuídos. O teorema é utilizado quando a distribuição é contínua e não é normal.\n",
        "\n",
        "Graças a esse teorema é possível utilizar a distribuição normal para resolver problemas quando a distribuição dos dados é contínua.\n",
        "\n",
        "Como é feito?\n",
        "\n",
        "- Faço N experimentos\n",
        "- Para cada experimento tiro a média\n",
        "- Gero o histograma das médias\n",
        "- Utilizo o histograma para calcular as probabilidades\n",
        "\n"
      ]
    },
    {
      "cell_type": "markdown",
      "metadata": {
        "id": "A51F49ZXK_yC"
      },
      "source": [
        "**Estatística Paramétrica**\n",
        "\n",
        "- Requer que os dados estejam em conformidade com alguma distribuição, a exemplo a normal.\n",
        " - Exemplo: Intervalos de confiança pressupõem que os dados estejam normalmente distribuidos.\n",
        " - Oferece menos riscos, sendo assim mais precioso o seu resultado em um teste de hipótese.\n",
        "\n",
        " **Estatística Não-Paramétrica**\n",
        " - Utilizada quando os dados não estão em conformidade com alguma distribuição ou não se conhece a distribuição dos dados.\n",
        "  "
      ]
    },
    {
      "cell_type": "markdown",
      "metadata": {
        "id": "_6YJHygxM9X6"
      },
      "source": [
        "# Intervalos de Confiança\n",
        "\n",
        "A inferência pode inferir em uma amostra, características de toda a população.\n",
        "\n",
        "A consequência (ou troca) de inferir a partir de uma amostra é que se espera uma variação no resultado. Essa variação é o intervalo de confiança.\n",
        "\n",
        "É feito isso pelo custo alto de se fazer em toda a população, inviabilidade de se fazer etc.\n",
        "\n",
        "- O preço é erro padrão e o níve de confiança.\n",
        "\n",
        "- Os riscos são dados ruins e enviesamento natural das amostras e a própria variabilidade. Cada amostra pode variar em relação a seguinte, contudo deve ser possível medir o quanto se varia.\n",
        " - A variação não é contínua. \n",
        "\n",
        " ### Intervalo de confiança:\n",
        "\n",
        " - É o parâmetro mais ou menos a margem de erro.\n",
        "  - **Parâmetro:** Valor a ser estimado.\n",
        "  - **Margem de erro:** Variabilidade, para mais ou para menos.\n",
        "   - É afetada pelo nível de confiança, tamanho da amostra e desvio padrão da população.\n",
        "   - O objetivo é ter a menor margem d erro possível, ou seja, ter a menor variação possível.\n",
        "  - **Nível de confiança:** Mostra o quanto os resultados vão variar ao fazer o mesmo experimento várias vezes. Pode ser entre 80 a 99%\n",
        "  -  **Tamanho da amostra** (n)\n",
        "\n",
        "\n",
        "### Nível de Confiança (Z*)\n",
        "\n",
        "- A variação de um amostra é medida pelos erros padrão (variabilidade devido ao acaso)\n",
        "- Os erros padrão adicionados e subtraidos de um intervalo de confiança são baseados na distribuição normal padrão.\n",
        "- Quanto mais alto o nível de confiança, mais erros padrão.\n",
        "\n",
        "\n",
        "|Percentual de Confiança|Valor de Z*|\n",
        "|-|-|\n",
        "|80|1.28|\n",
        "|90|1.64|\n",
        "|95|1.96|\n",
        "|98|2.33|\n",
        "|99|2.58|\n",
        "\n",
        "**Exemplo**\n",
        "\n",
        "Entre 63 a 67% dos entrevistados pretendem votar em Fernanda, com nível de confiança de 95%.\n",
        "\n",
        "- Parâmetro: Intenção de voto.\n",
        "- Nível de Confiança: 95%\n",
        "- Intervalo de Confiança: Entre 63 e 67%\n",
        "- Erro Padrão: 1.96\n",
        "Entrevistados (n): 1.000\n",
        "- Margem de Erro:\\pm 2%\n",
        "\n",
        "\n",
        "**Correções:**\n",
        "- + Nível de Confiança + Erro Padrão\n",
        "- + Tamanho da Amostra - Erro Padrão\n",
        "\n",
        "### Tipos de Intervalo de Confiança\n",
        "1. Intervalo de Confiança para a Média\n",
        "2. Intervalo de Confiança para a Proporção\n",
        "\n",
        "#### 1. Para a Média\n",
        "\n",
        "$\n",
        "\\bar{X} \\pm Z*(\\frac{\\sigma}{\\sqrt{n}})\n",
        "$\n",
        "\n",
        "*Observação: A escolha do n e do intervalo de confiança é do Cientista de Dados. Intervalos comuns são os de 95 e 99%*\n",
        " - 95% tem menor variabilidade que 99%, contudo com mais chances de o resultado real está fora do intervalo de confiança.\n",
        " - Uma forma de compensar é aumentar n.\n",
        "\n",
        "**Exemplo 1:**\n",
        "\n",
        "Estimar o salário médio de um cientista de dados com:\n",
        "- n = 100 pesquisados\n",
        "- Intervalo de Confiança = 95%\n",
        "- Desvio Padrão = 1.100,00\n",
        "- Média = 5.800,00\n",
        "- Valor de Z* = 1.96\n",
        "\n",
        "$\n",
        "\\bar{X} \\pm 1.96*(\\frac{1.100}{100})\n",
        "$\n",
        "\n",
        "$\n",
        "\\bar{X} \\pm 1.96*110\n",
        "$\n",
        "\n",
        "$\n",
        "\\bar{X} \\pm 215,60\n",
        "$\n",
        "\n",
        "\n",
        "*Margem de erro = \\pm 215,60*\n",
        "* O salário varia entre 5.584,40 e 6.015,60 com um nível de confiança de 95%.\n",
        "\n",
        "**Exemplo 2:**\n",
        "\n",
        "(Aumentando o intervalo de confiança)\n",
        "\n",
        "Estimar o salário médio de um cientista de dados com:\n",
        "- n = 100 pesquisados\n",
        "- Intervalo de Confiança = 99%\n",
        "- Desvio Padrão = 1.100,00\n",
        "- Média = 5.800,00\n",
        "- Valor de Z* = 2.58\n",
        "\n",
        "$\n",
        "\\bar{X} \\pm 2.58*(\\frac{1.100}{100})\n",
        "$\n",
        "\n",
        "$\\bar{X} \\pm 2.58*110\n",
        "$\n",
        "\n",
        "$\n",
        "\\bar{X} \\pm 283.80\n",
        "$\n",
        "\n",
        "*Margem de erro = $\\pm$ 283.80*\n",
        "* O salário varia entre 5.516,20 e 6.083,80 com um nível de confiança de 99%.\n",
        "\n",
        "**Exemplo 3:**\n",
        "\n",
        "(Aumentando n para 1000)\n",
        "\n",
        "Estimar o salário médio de um cientista de dados com:\n",
        "- n = 1000 pesquisados\n",
        "- Intervalo de Confiança = 95%\n",
        "- Desvio Padrão = 1.100,00\n",
        "- Média = 5.800,00\n",
        "- Valor de Z* = 1.96\n",
        "\n",
        "$\n",
        "\\bar{X} \\pm 1.96*(\\frac{1.100}{1000})\n",
        "$\n",
        "\n",
        "$\n",
        "\\bar{X} \\pm 1.96*31.62\n",
        "$\n",
        "\n",
        "$\n",
        "\\bar{X} \\pm 68.18\n",
        "$\n",
        "\n",
        "*Margem de erro = $\\pm$ 68.18*\n",
        "* O salário varia entre 5.731,82 e 5.868,18 com um nível de confiança de 95%.\n",
        "\n",
        "\n",
        "#### 2. Para a Proporção\n",
        "\n",
        "Estimando a proporção de eleitores que pretendem votar em Fernanda para prefeita.\n",
        "- n = 1.000 pesquisados\n",
        "- Intervalo de Confiança = 95%\n",
        "- 650 respondem Fernanda. p = 650/1000 = 0.65\n",
        "- 330 respondem Daniel. p = 330/1.000 = 0.33\n",
        "- 20 Não sabe ou nenhum dos dois. p = 20/1.000 = 0.02\n",
        "Valor de Z* = 1.96\n",
        "\n",
        "$\n",
        "\\hat{p}\\pm z*\\sqrt{\\frac{\\hat{p}(1-\\hat{p})}{n}}\n",
        "$\n",
        "\n",
        "\n",
        "$\n",
        "\\hat{p}\\pm1.96*\\sqrt{\\frac{0.65(1-0.65)}{1.000}}\n",
        "$\n",
        "\n",
        "$\n",
        "\\hat{p}\\pm0.029\n",
        "$\n",
        "\n",
        "\n",
        "$\n",
        "\\hat{p}\\pm0.03\n",
        "$\n",
        "\n",
        "- Com 95% de Intervalo de Confiança:\n",
        "  - Entre 62 e 68% votam em Fernanda\n",
        "  - Entre 30 e 36% votam em Daniel\n",
        "  - Entre 17 e 23 Não sabem ou não votam em nenhum dos dois."
      ]
    },
    {
      "cell_type": "markdown",
      "metadata": {
        "id": "4qXnauOptBGu"
      },
      "source": [
        "# Teste Hipótese\n",
        "\n",
        "- Confirma ou nega uma premissa usando uma amostra.\n",
        "- A premissa usa um parâmetro. Exemplo: 56% votam em Fernanda.\n",
        "- Encontrar a diferença não é tudo, é preciso saber se essa diferença é estaticamente significante.\n",
        "- Hipótese Nula (H0) é a alegação que se quer testar.\n",
        "  - Presume-se que seja verdadeira, a não ser que existam evidências para provar o contrário.\n",
        "  - Exemplo: \n",
        "      - H0: $\\mu$ = 100\n",
        "      - Exemplos de H1 ou Ha:\n",
        "        - Ha $\\neq$ 100, Ha > 100, Ha < 100.\n",
        "\n",
        "### Níveis de Alfa ($\\alpha$) ou Significância.\n",
        "\n",
        "- Se p está muito acima ou muito abaixo, o valor de alfa não influenciará muito no resultado.\n",
        "\n",
        "- Valores mais comuns são 0.05 ou 0.01.\n",
        "- Utilizado para comparar com o *p-value*.\n",
        "- Interpretação:\n",
        "  - *p-value* $\\geq$ alfa: Não rejeita H0.\n",
        "  - *p-value* < alfa: Rejeita H0.\n",
        "  - *p-value* muito próximo: Alguns autores dizem que o resultado é inconclusivo.\n",
        "\n",
        "### Etapas de um Teste de Hipótese\n",
        "1. Definir o tamanho da amostra.\n",
        "2. Coletar dados.\n",
        "3. Calcular a média e o desvio padrão.\n",
        "4. Definir as duas hipóteses (Ho e Ha).\n",
        "5. Definir o valor de $\\alpha$.\n",
        "6. Padronizar seus dados gerando a estatística de teste.\n",
        "7. Encontrar o *p-value* na tabela Z.\n",
        "8. Comparar com $\\alpha$.\n",
        "9. Emitir o veredito.\n",
        "\n",
        "**Fórmulas para Estatística de Teste**\n",
        "\n",
        "**Média**\n",
        "\n",
        "$\n",
        "Z = \\frac{\\bar{X} - \\mu0}{\\frac{\\sigma}{\\sqrt{n}}}\n",
        "$\n",
        "\n",
        "**Proporção**\n",
        "\n",
        "$\n",
        "P = \\frac{\\hat{p} - p0}{\\sqrt{\\frac{P0(1-p0)}{n}}}\n",
        "$\n",
        "\n",
        "Após encontrar a estatística de teste, vamos à tabela Z e comparamos ao *p-value*.\n",
        "\n",
        "\n",
        "## Na prática\n",
        "\n",
        "### Exemplo com Média\n",
        "\n",
        "Um estudo afirma que, em média, crianças de 6 anos pesam 22kg.\n",
        "\n",
        "- Hipóteses:\n",
        "  - *H0*: $\\sigma$ = 22\n",
        "  - *Ha*: $\\sigma$ > 22 (maior que)\n",
        "- Dados do estudo:\n",
        "  - n = 100\n",
        "  - $\\bar x$ = 23\n",
        "  - $\\sigma$ = 4\n",
        "  - $\\alpha$ = 0.05\n",
        "\n",
        "\n",
        "$\n",
        "Z = \\frac{\\bar{X} - \\mu0}{\\frac{\\sigma}{\\sqrt{n}}}\n",
        "$\n",
        "\n",
        "$\n",
        "Z = \\frac{23 - 22} {\\frac{4}{\\sqrt{100}}}\n",
        "$\n",
        "\n",
        "$\n",
        "Z = \\frac{1}{0.4}\n",
        "$\n",
        "\n",
        "$\n",
        "Z = 2.5\n",
        "$\n",
        "\n",
        "- [Na tabela Z](https://github.com/amadords/Tabelas/blob/main/Tabela%20Z%20(Acumulada%20Positiva).png), 2.50 será Z =  0.9938.\n",
        "- *p-value* = 1 - 0.9938(Ha é maior que)\n",
        "- *p-value* = 0.0062.\n",
        "- *p-value*~Alfa = 0.0062 < 0.05.\n",
        "- H0 é rejeitado.\n",
        "  - Assim, de acordo com a amostra, a hipótese 22 é rejeitada. A média atual de peso de crianças com 6 anos é de mais de 22kg.\n",
        "\n",
        "Por mais que o valor encontrado na média seja próximo, é importante testar uma vez que, as amostras, são sujeitas ao acaso.\n",
        "\n",
        "### Exemplo com Proporção (percentual)\n",
        "\n",
        "Um estudo afirma que, em média, 75% votam em Fernanda.\n",
        "\n",
        "- Hipóteses:\n",
        "\n",
        "  - *H0* = p = 0.75\n",
        "  - *Ha* = p < 0.75 (menor que)\n",
        "\n",
        "- Dados do estudo:\n",
        "\n",
        "  - n = 100\n",
        "  - p =0.77\n",
        "  - $\\alpha$ = 0.05\n",
        "\n",
        "$\n",
        "P = \\frac{\\hat{p} - p0}{\\sqrt{\\frac{P0(1-p0)}{n}}}\n",
        "$\n",
        "\n",
        "$\n",
        "P = \\frac{0.77 - 0.75}{\\sqrt{\\frac{0.75 * 0.25}{100}}}\n",
        "$\n",
        "\n",
        "$\n",
        "P = \\frac{0.02}{0.0433}\n",
        "$\n",
        "\n",
        "$\n",
        "P = 0.461\n",
        "$\n",
        "\n",
        "- Buscar 0.46 na Tabela Z\n",
        "  - Z = 0.6772\n",
        "    - *p-value* = 0.6722\n",
        "\n",
        "\n",
        "\n",
        "- *p-value*~Alfa = 0.6772 > 0.05.\n",
        "- H0 não é rejeitado.\n",
        "  - Assim, de acordo com a amostra, não foi possível rejeitar que 75% dos eleitores têm a intenção de votar em Fernanda.\n",
        "\n",
        "### Erros\n",
        "\n",
        "1. Erro do tipo 1: Rejeitar H0 quando não devia.\n",
        "  - Chance de ocorrer igual a alfa, ou seja, se alfa = 0.05, a chance de rejetiar H0 quando não devia também é de 0.05.\n",
        "  - Exemplo: Dizer para alguém que não está grávida que está.\n",
        "2. Erro do tipo 2: Não rejeitar H0 quando deveria ter rejeitado.\n",
        "  - Depende do tamanho da amostra.\n",
        "  - Exemplo: Dizer para alguém que está grávida que não está.\n",
        "\n",
        "**Ambos ocorrem devido ao acaso, pelo fato de se estar trabalhando com amostras**\n",
        "\n",
        "### Consequências da escolha de $\\alpha$\n",
        "\n",
        "  - + $\\alpha$ + chances de Erro Tipo I - chance Erro Tipo II - Dificuldade de rejeição de H0.\n",
        "  - - $\\alpha$ - chances de Erro Tipo I + chance Erro Tipo II + Dificuldade de rejeição de H0.\n",
        "\n",
        "* **Ideal**\n",
        "  - Amostra grande\n",
        "  - Alfa pequeno\n"
      ]
    },
    {
      "cell_type": "markdown",
      "metadata": {
        "id": "vwsz07KknfzH"
      },
      "source": [
        "# T de Student\n",
        "\n",
        "\n",
        "- Utilizado quando a **amostra é menor que 30** e quando **não se sabe o desvio padrão**. Se n>=30, assemalha-se a uma normal.\n",
        "- Muito próxima à normal.\n",
        "- Custo: Maior variabilidade em um teste de hipótese, por exemplo.\n",
        "- Pode ser utilizada para:\n",
        "  - Calcular probabilidades\n",
        "  - Calcular Intervalos de Confiança\n",
        "  - Executar testes de Hipótese\n",
        "- Para se calcular, encontra-se o valor de T e consulta a tabela de distribuição T.\n",
        "\n",
        "$\n",
        "t = \\frac{\\bar{X} - (\\mu0)}{\\frac{S}{\\sqrt{n}}}\n",
        "$\n",
        "\n",
        "$\\mu$ = Média da população\n",
        "\n",
        "S = Desvio padrão da amostra\n",
        "\n",
        "n = Tamanho da amostra\n",
        "\n",
        "t0 = Graus de liberdade\n",
        "\n",
        "**Exemplo 1:**\n",
        "\n",
        "Média de salário dos cientistas de dados = R$ 75,00 por hora.\n",
        "\n",
        "Amostra com 9 funcionários e desvio padrão = 10\n",
        "\n",
        "- Probabilidade de ser **menor que** R$ 80,00 a hora:\n",
        "\n",
        "$\n",
        "t = \\frac{80 - 75}{\\frac{10}{\\sqrt{9}}}\n",
        "$\n",
        "\n",
        "Logo,\n",
        "\n",
        "$\n",
        "t = \\frac{5}{\\frac{10}{3}}\n",
        "$\n",
        "\n",
        "Então,\n",
        "\n",
        "t=1.5\n",
        "\n",
        "Procuro na [tabela](https://github.com/amadords/Tabelas/blob/main/Tabela%20T%20de%20Student.pdf) o grau = 8 e t = 1.5, que ficará entre .90 e .95.\n",
        "\n",
        "**Exemplo 2:**\n",
        "\n",
        "Média de salário dos cientistas de dados = R$ 75,00 por hora.\n",
        "\n",
        "Amostra com 9 funcionários e desvio padrão = 10\n",
        "\n",
        "- Probabilidade de ser **maior que** R$ 80,00 a hora:\n",
        "\n",
        "$\n",
        "t = \\frac{80 - 75}{\\frac{10}{\\sqrt{9}}}\n",
        "$\n",
        "\n",
        "Logo,\n",
        "\n",
        "$\n",
        "t = \\frac{5}{\\frac{10}{3}}\n",
        "$\n",
        "\n",
        "Então,\n",
        "\n",
        "t=1.5\n",
        "\n",
        "P = 1 - 0,91\n",
        "\n",
        "P = 0,086\n",
        "\n",
        "P = 8,6%\n",
        "\n"
      ]
    },
    {
      "cell_type": "markdown",
      "metadata": {
        "id": "Ch7coXSjR_yU"
      },
      "source": [
        "**Importando a biblioteca necessária**"
      ]
    },
    {
      "cell_type": "code",
      "metadata": {
        "id": "EXSZ9qbNneEZ"
      },
      "source": [
        "from scipy.stats import t"
      ],
      "execution_count": null,
      "outputs": []
    },
    {
      "cell_type": "markdown",
      "metadata": {
        "id": "p6jMP56--idt"
      },
      "source": [
        "- 1.5 = Valor na T de Student\n",
        "- 8 - Graus de liberdade (Como a amostra é 9, os graus são 8) \n",
        "  - Sempre será n-1 (Tamanho da amostra -1)"
      ]
    },
    {
      "cell_type": "markdown",
      "metadata": {
        "id": "X9VnMiM_T4tL"
      },
      "source": [
        "### Qual a probabilidade de selecionar um cientista de dados e o salário ser **menor que** R$ 80 por hora?\n"
      ]
    },
    {
      "cell_type": "code",
      "metadata": {
        "id": "jYWRaBVtnhXx",
        "outputId": "cffeb339-8dd5-4d35-af79-a32e5c73129b",
        "colab": {
          "base_uri": "https://localhost:8080/",
          "height": 36
        }
      },
      "source": [
        "t.cdf(1.5, 8)"
      ],
      "execution_count": null,
      "outputs": [
        {
          "output_type": "execute_result",
          "data": {
            "text/plain": [
              "0.9139983540240443"
            ]
          },
          "metadata": {
            "tags": []
          },
          "execution_count": 37
        }
      ]
    },
    {
      "cell_type": "markdown",
      "metadata": {
        "id": "Lg_2Ut5FUAEY"
      },
      "source": [
        "### Qual a probabilidade de selecionar um cientista de dados e o salário ser **maior que** R$ 80 por hora?\n"
      ]
    },
    {
      "cell_type": "code",
      "metadata": {
        "id": "1gvSBf1Cnkf3",
        "outputId": "45b2ee55-6d80-4ccc-fd9c-6f75eb986fe6",
        "colab": {
          "base_uri": "https://localhost:8080/",
          "height": 36
        }
      },
      "source": [
        "t.sf(1.5, 8)"
      ],
      "execution_count": null,
      "outputs": [
        {
          "output_type": "execute_result",
          "data": {
            "text/plain": [
              "0.08600164597595565"
            ]
          },
          "metadata": {
            "tags": []
          },
          "execution_count": 35
        }
      ]
    },
    {
      "cell_type": "markdown",
      "metadata": {
        "id": "gmQN59-xSciV"
      },
      "source": [
        "Somatório da execução dos dois códigos acima (lado esquerdo + lado direito da distribuição)\n"
      ]
    },
    {
      "cell_type": "code",
      "metadata": {
        "id": "MiQAzZOOnl03",
        "outputId": "c5c777f5-b96e-4fe1-b9cd-c8a9eceaccac",
        "colab": {
          "base_uri": "https://localhost:8080/",
          "height": 35
        }
      },
      "source": [
        "t.cdf(1.5, 8) + t.sf(1.5, 8)"
      ],
      "execution_count": null,
      "outputs": [
        {
          "output_type": "execute_result",
          "data": {
            "text/plain": [
              "0.9999999999999999"
            ]
          },
          "metadata": {
            "tags": []
          },
          "execution_count": 18
        }
      ]
    },
    {
      "cell_type": "markdown",
      "metadata": {
        "id": "jUrgZI09UgJ6"
      },
      "source": [
        "# Teste T de Student\n",
        "\n",
        "- Teste de Hipótese.\n",
        "- Dois remédios, A e B, custando respectivamente 100,00 e 120,00 reais. Ambos têm eficácia comprovada.\n",
        "- Pelos efeitos colaterais da doença, o tempo de cura é importante. Mais rápido, melhor.\n",
        "- Ao fazer testes em pacientes (8 grupos). temos:\n",
        "  - 1: 10h para A e 5h para B (B)\n",
        "  - 2: Empate de 5. (-)\n",
        "  - 3: Empate de 5. (-)\n",
        "  - 4: A com 9h e B com 8h. (B)\n",
        "  - 5: A com 10h e B com 7h. (B)\n",
        "  - 6: A com 5h e B com 8h. (A)\n",
        "  - 7: A com 9h e B com 10h. (A)\n",
        "  - 8: A com 9h e B com 7h. (B)\n",
        "\n",
        "Existe uma variação entre os remédios, mas remédios têm efeitos diferentes eficácias em pessoas diferentes. A variação é de acordo com as pessoas ou com o remédio?\n",
        "\n",
        "- Calculando a média:\n",
        "  - Tratamentos A e B são as variáveis independentes.\n",
        "  - Os pacientes tratados com o remédios são as variáveis dependentes.\n",
        "\n",
        "\n",
        "  ||Tratamento A|Tratamento B|\n",
        "  |-|-|-|\n",
        "  ||10|5|\n",
        "  ||5|5|\n",
        "  ||5|5|\n",
        "  ||9|8|\n",
        "  ||10|7|\n",
        "  ||5|8|\n",
        "  ||9|10|\n",
        "  ||9|7|\n",
        "|**Médias**|**7.75**|**6.875**|\n",
        "\n",
        "- A variação é entre os grupos (os tratamentos dos remédios - eficácia do remédio) ou entre as diferentes observações do mesmo grupo (as pessoas do mesmo grupo - efeito do remédio nas pessoas)?\n",
        "\n",
        "- Requisitos para o Teste T de Student:\n",
        " - Duas populações independentes.\n",
        " - Variável dependente normalmente distribuída.\n",
        " - Variância entre as duas variáveis ser aproximada.\n",
        " - *H0*: Não há diferença significativa.\n",
        "\n",
        "Exemplo: \n",
        "- p-value = 4.102 e-10\n",
        "- Rejeitamos a *H0*: Evidências que existe uma diferença.\n",
        "\n",
        "Se for preciso comparar três ou mais medicamentos?\n",
        "- ANOVA (Teste de Análise de Variância)\n",
        "\n",
        "\n"
      ]
    },
    {
      "cell_type": "code",
      "metadata": {
        "id": "XkrzatAyrTjK"
      },
      "source": [
        "from scipy.stats import ttest_ind"
      ],
      "execution_count": null,
      "outputs": []
    },
    {
      "cell_type": "markdown",
      "metadata": {
        "id": "8prImVl_uFJx"
      },
      "source": [
        "**Amostras**"
      ]
    },
    {
      "cell_type": "code",
      "metadata": {
        "id": "jTruMPCrrn96"
      },
      "source": [
        "a = [2,3,4,3,5,6]\n",
        "b= [5,7,8,8,5,6]"
      ],
      "execution_count": null,
      "outputs": []
    },
    {
      "cell_type": "markdown",
      "metadata": {
        "id": "gtgg_0YUuIvs"
      },
      "source": [
        "**Com a biblioteca scipy**"
      ]
    },
    {
      "cell_type": "code",
      "metadata": {
        "id": "T1ZH0jRJq7qA",
        "outputId": "e6126fe0-9dfc-4d65-c00f-8e9509f246d0",
        "colab": {
          "base_uri": "https://localhost:8080/",
          "height": 35
        }
      },
      "source": [
        "ttest_ind(a,b)"
      ],
      "execution_count": null,
      "outputs": [
        {
          "output_type": "execute_result",
          "data": {
            "text/plain": [
              "Ttest_indResult(statistic=-3.2391053207156637, pvalue=0.00888286699136881)"
            ]
          },
          "metadata": {
            "tags": []
          },
          "execution_count": 3
        }
      ]
    },
    {
      "cell_type": "markdown",
      "metadata": {
        "id": "qmZ1mnf1nok6"
      },
      "source": [
        "# Binomial\n",
        "\n",
        "- Distribuição de Probabilidade Discreta (Busca de valor exato), ou seja, números que podemos contar, não em intervalos.\n",
        "- Cada experimento pode ter apenas 2 resultados: Fracasso ou Sucesso.\n",
        "- A probabilidade de sucesso deve ser a mesma em todas as experimentações.\n",
        "Os experimentos são independentes.\n",
        "\n",
        "**Exemplo: Analisando os pré-requisitos (1)**\n",
        "\n",
        "Jogando uma moeda 5 vezes, qual a probabilidade de dar cara 3 vezes?\n",
        "\n",
        "- Número fixo de experimentos? Sim\n",
        "- Cada experimento pode ter 2 resultados apenas? Sucesso e Fracasso? Sim\n",
        "- A probabilidade de sucesso é a mesma em cada experimento? Sim\n",
        "- Os experimentos são independentes? Sim \n",
        "\n",
        "**Então posso usar a binomial**\n",
        "\n",
        "**Exemplo: Analisando os pré-requisitos (2)**\n",
        "\n",
        "Removendo duas carta de um baralho sem reposição, qual a chance da segunda carta ser Dama de Ouro?\n",
        "\n",
        "- Número fixo de experimentos? Sim\n",
        "- Cada experimento pode ter 2 resultados apenas? Sucesso e Fracasso? Sim (Ou é dama ou não é)\n",
        "- A probabilidade de sucesso é a mesma em cada experimento? Não, pois sem reposição aumenta a chance se a carta ainda está no baralho.\n",
        "- Os experimentos são independentes? Não, pois ao tirar sem reposição gera uma dependência para o próximo evento.\n",
        "\n",
        "## Convenções\n",
        "\n",
        "- X = Total de sucesso esperado do experimento\n",
        "- p = Probabilidade de sucesso\n",
        "- n = Número de experimentos\n",
        "- 1-p = Probabilidade de fracassos\n",
        "\n",
        "**Fórmula**\n",
        "\n",
        "$\n",
        "f(x) = {n \\choose x} p^x(1-p)^{(n-x)}\n",
        "$\n",
        "\n",
        "<br />\n",
        "\n",
        "\n",
        "${n \\choose x}$ é o fatorial de n dado x.\n",
        "\n",
        "**Exemplo 1**\n",
        "\n",
        "Jogando uma moeda 5 vezes, qual a probabilidade de dar cara 3 vezes?\n",
        "\n",
        "- X = 3\n",
        "- p = 0.5\n",
        "- n = 5\n",
        "\n",
        "\n",
        "$\n",
        "f(x) = {n \\choose x} p^x(1-p)^{(n-x)}\n",
        "$\n",
        "<br />\n",
        "<br />\n",
        "\n",
        "Resolvendo somente ${n \\choose x}$:\n",
        "<br />\n",
        "\n",
        "$\n",
        "f(x) = {n \\choose x} = \\frac{n!}{x!(n-x)!}\n",
        "$\n",
        "\n",
        "$\n",
        "{n \\choose x} =  {5 \\choose 3} = \\frac{5!}{3!(5-3)!} = \\frac{120}{6(2)!}=\\frac{120}{12}=10\n",
        "$\n",
        "\n",
        "Voltando à função:\n",
        "<br />\n",
        "\n",
        "$\n",
        "f(x) = 10*0.125*(1-0.5)^{(5-3)}\n",
        "$\n",
        "\n",
        "$\n",
        "f(x) = 1.25 * (0.5)^2\n",
        "$\n",
        "\n",
        "$\n",
        "f(x) = 1.25 * 0.25\n",
        "$\n",
        "\n",
        "$\n",
        "f(x) = 0.3125\n",
        "$\n",
        "\n",
        "**A probabilidade é de 31%**\n",
        "\n",
        "**Exemplo 2**\n",
        "\n",
        "Se eu passar 4 sinais de quatro tempos cada. Qual a probabilidade de eu pegar 0,1,2,3 e 4 sinais verdes?\n",
        "- X = 0,1,2,3,4\n",
        "- p = 0.25\n",
        " - Por ser 1 chance em 4. Se fosse 2 tempos seria 1 chance em 2, logo seria a mesma probabilidade da moeda.\n",
        "- n = 4\n",
        "\n",
        "**Possibilidades**\n",
        "- 0 = 0.3164\n",
        "- 1 = 0.4218\n",
        "- 2 = 0.2109 \n",
        "  - Mais baixa que 50% por o sinal ser de 4 tempos.\n",
        "- 3 = 0.0468\n",
        "- 4 = 0.0039 \n",
        "\n",
        "**Somando todas as probabilidades dará 1 (100%)**\n",
        "\n",
        "**Exemplo 3**\n",
        "\n",
        "Se, ao fazer uma prova de concurso com 12 questões, o candidato \"chutar\" todas as questões, qual a probabilidade de acertar 7 questões? (4 alternativas para cada questão)\n",
        "\n",
        "- X = 7 acertos\n",
        "- p = 0.25\n",
        "- n = 12\n",
        "\n",
        "Na [tabela](https://github.com/amadords/Tabelas/blob/main/Tabela%20de%20Distribui%C3%A7%C3%A3o%20Binomial.pdf) procuramos primeiro n, depois X, depois o p e temos a probabilidade.\n",
        "\n",
        "**A probabilidade é 0.01147 ou 1.14%**\n",
        "\n",
        "Pode-se resolver isso buscando pelos fracassos (p-1):\n",
        "\n",
        "- X = 5 erros\n",
        "- p = 0.75\n",
        "- n = 12\n",
        "\n",
        "**A probabilidade é 0.01147 ou 1.14%**\n"
      ]
    },
    {
      "cell_type": "markdown",
      "metadata": {
        "id": "C5xbgm8EuRG-"
      },
      "source": [
        "**Importação da função *binom***\n"
      ]
    },
    {
      "cell_type": "code",
      "metadata": {
        "id": "CmXoVnDmnnG3"
      },
      "source": [
        "from scipy.stats import binom"
      ],
      "execution_count": null,
      "outputs": []
    },
    {
      "cell_type": "markdown",
      "metadata": {
        "id": "8mIKkvAMuZ7u"
      },
      "source": [
        "### Jogar uma moeda 5 vezes, qual a probabilidade de dar cara 3 vezes?\n",
        "\n",
        "Ordem: eventos , experimentos, probabilidades."
      ]
    },
    {
      "cell_type": "code",
      "metadata": {
        "id": "ZP-I-u8inq5H",
        "outputId": "fb771434-cf82-4c5d-a10d-4eae464aca25",
        "colab": {
          "base_uri": "https://localhost:8080/",
          "height": 35
        }
      },
      "source": [
        "prob = binom.pmf(3, 5, 0.5)\n",
        "prob"
      ],
      "execution_count": null,
      "outputs": [
        {
          "output_type": "execute_result",
          "data": {
            "text/plain": [
              "0.3125"
            ]
          },
          "metadata": {
            "tags": []
          },
          "execution_count": 20
        }
      ]
    },
    {
      "cell_type": "markdown",
      "metadata": {
        "id": "CLjucWvEuiLW"
      },
      "source": [
        "### Passar por 4 sinais de 4 tempos, qual a probabilidade de pegar sinal verde\n",
        "\n",
        "nenhuma, 1, 2, 3 ou 4 vezes seguidas."
      ]
    },
    {
      "cell_type": "code",
      "metadata": {
        "id": "Hu53lTPwntX5",
        "outputId": "3c54a0aa-4701-4545-ace2-5b5504d91190",
        "colab": {
          "base_uri": "https://localhost:8080/",
          "height": 35
        }
      },
      "source": [
        "binom.pmf(0, 4, 0.25) + binom.pmf(1, 4, 0.25) + binom.pmf(2, 4, 0.25) + binom.pmf(3, 4, 0.25) + binom.pmf(4, 4, 0.25)"
      ],
      "execution_count": null,
      "outputs": [
        {
          "output_type": "execute_result",
          "data": {
            "text/plain": [
              "1.0000000000000002"
            ]
          },
          "metadata": {
            "tags": []
          },
          "execution_count": 21
        }
      ]
    },
    {
      "cell_type": "markdown",
      "metadata": {
        "id": "6pFkeBBaux9D"
      },
      "source": [
        "### E se forem sinais de dois tempos?\n"
      ]
    },
    {
      "cell_type": "code",
      "metadata": {
        "id": "Vzmqi_i5nvHC",
        "outputId": "ee3a46d7-d48c-41b5-f27c-5cdcdb39e8bb",
        "colab": {
          "base_uri": "https://localhost:8080/",
          "height": 35
        }
      },
      "source": [
        "binom.pmf(4, 4, 0.5)"
      ],
      "execution_count": null,
      "outputs": [
        {
          "output_type": "execute_result",
          "data": {
            "text/plain": [
              "0.0625"
            ]
          },
          "metadata": {
            "tags": []
          },
          "execution_count": 6
        }
      ]
    },
    {
      "cell_type": "markdown",
      "metadata": {
        "id": "e4jz-aAku1ht"
      },
      "source": [
        "### Probabilidade acumulativa\n"
      ]
    },
    {
      "cell_type": "code",
      "metadata": {
        "id": "IuJ_h6jZnwim",
        "outputId": "f7e922b5-d4b4-41b0-b914-eb3891b97d1b",
        "colab": {
          "base_uri": "https://localhost:8080/",
          "height": 35
        }
      },
      "source": [
        "binom.cdf(4, 4, 0.25)"
      ],
      "execution_count": null,
      "outputs": [
        {
          "output_type": "execute_result",
          "data": {
            "text/plain": [
              "1.0"
            ]
          },
          "metadata": {
            "tags": []
          },
          "execution_count": 23
        }
      ]
    },
    {
      "cell_type": "markdown",
      "metadata": {
        "id": "YrM0CL8Su4qS"
      },
      "source": [
        "### Concurso com 12 questões, qual a probabilidade de acertar 7 questões considerando\n",
        "\n",
        "Cada questão tem 4 alternativas."
      ]
    },
    {
      "cell_type": "code",
      "metadata": {
        "id": "6qzoYJEVnxui",
        "outputId": "77e5bcf0-2641-456b-de68-85bdd735a19d",
        "colab": {
          "base_uri": "https://localhost:8080/",
          "height": 35
        }
      },
      "source": [
        "binom.pmf(7, 12, 0.25) * 100"
      ],
      "execution_count": null,
      "outputs": [
        {
          "output_type": "execute_result",
          "data": {
            "text/plain": [
              "1.1471271514892574"
            ]
          },
          "metadata": {
            "tags": []
          },
          "execution_count": 4
        }
      ]
    },
    {
      "cell_type": "markdown",
      "metadata": {
        "id": "tNwrWbT9vIDP"
      },
      "source": [
        "### Probabilidade errar as 7 questões (p-1)\n"
      ]
    },
    {
      "cell_type": "code",
      "metadata": {
        "id": "Jj_Cw1vePNeU",
        "outputId": "2a6c86ea-79ef-4089-e70e-496e949da7fe",
        "colab": {
          "base_uri": "https://localhost:8080/",
          "height": 35
        }
      },
      "source": [
        "binom.pmf(5, 12, 0.75) * 100"
      ],
      "execution_count": null,
      "outputs": [
        {
          "output_type": "execute_result",
          "data": {
            "text/plain": [
              "1.1471271514892574"
            ]
          },
          "metadata": {
            "tags": []
          },
          "execution_count": 10
        }
      ]
    },
    {
      "cell_type": "markdown",
      "metadata": {
        "id": "47yOR2hCvK1N"
      },
      "source": [
        "### Probabilidade de acertar as 12 questões\n"
      ]
    },
    {
      "cell_type": "code",
      "metadata": {
        "id": "t5yJaZfsnywO",
        "outputId": "3727f8dd-18b1-40cd-9151-efe69b65873c",
        "colab": {
          "base_uri": "https://localhost:8080/",
          "height": 35
        }
      },
      "source": [
        "binom.pmf(12, 12, 0.25) * 100"
      ],
      "execution_count": null,
      "outputs": [
        {
          "output_type": "execute_result",
          "data": {
            "text/plain": [
              "5.960464477539072e-06"
            ]
          },
          "metadata": {
            "tags": []
          },
          "execution_count": 25
        }
      ]
    },
    {
      "cell_type": "markdown",
      "metadata": {
        "id": "2tnP21ytn14u"
      },
      "source": [
        "# Poisson\n",
        "- Mede a probabilidade da ocorrência de eventos em intervalo de tempo, em vez de um número N de experimentos.\n",
        "- Os eventos devem ser independentes a cada intervalo\n",
        "- Existem tabelas de probabibilidade.\n",
        "- Pode-se usar Poisson, após sabe sua média (x), se a ocorrência (X), ou eventos ocorrem:\n",
        "  - *P(X = x)*: Ocorrência = Média\n",
        "  - *P(X < x)*: Ocorrência < Média\n",
        "  - *P(X > x)*: Ocorrência > Média\n",
        "\n",
        "**Fórmula**\n",
        "$\n",
        "P(X = x) = e^{-\\lambda}\\frac{\\lambda^{x}}{x!}\n",
        "$\n",
        "\n",
        "Onde, \n",
        "- x = Número de eventos que estão sendo calculados.\n",
        "- $\\lambda$ = Número médio de eventos que ocorrem por intevalo.\n",
        "- *e* = Número de Euler = 2.71828 (Constante).\n",
        "\n",
        "**Exemplo 1**\n",
        "\n",
        "O número de acidentes de carros que ocorrem por dia é de 2 acidentes. Qual a probabilidade de ocorrer 3 em um determinado dia?\n",
        "\n",
        "$\n",
        "P(X = x) = e^{-\\lambda}\\frac{\\lambda^{x}}{x!}\n",
        "$\n",
        "\n",
        "$\n",
        "P(X = 3) = 2.71828^{-2}\\frac{2^{3}}{6}\n",
        "$\n",
        "\n",
        "$\n",
        "P(X = 3) =0.1353355 * 1.33333\n",
        "$\n",
        "\n",
        "$\n",
        "P(X = 3) = 0.1804\n",
        "$\n",
        "\n",
        "**A probabilidade de ocorrer é de 18.04%**\n",
        "\n",
        "**Exemplo 2**\n",
        "\n",
        "O número de acidentes de carros que ocorrem por dia é de 2 acidentes. \n",
        "\n",
        "a) Qual a probabilidade de ocorrer **3 ou menos** em um dia?\n",
        "\n",
        "b) Qual a probabilidade de ocorrer **menos de 3** em um dia?\n",
        "\n",
        "c) Qual a probabilidade de ocorrer **3** em um dia?\n",
        "\n",
        "**Respostas**\n",
        "\n",
        "a) Propriedade acumulativa:\n",
        "\n",
        " P(X $\\leq$ 3) = \n",
        "\n",
        "P(X = 0) + P(X = 1) + P(X = 2) + P(X = 3) = \n",
        "\n",
        "0.1353353 + 0.2706706 + 0.2706706 + 0.180447 = \n",
        "\n",
        "**0.8571235**\n",
        "\n",
        "*P(X $\\leq$ 3) = 0.8571235*\n",
        "<br />\n",
        "<br />\n",
        "\n",
        "b) P(X < 3) = \n",
        "\n",
        "P(X = 0) + P(X = 1) + P(X = 2) = \n",
        "\n",
        "0.1353353 + 0.2706706 + 0.2706706 \n",
        "\n",
        "**0.6766764**\n",
        "\n",
        "*P(X < 3) = 0.6766764*\n",
        "\n",
        "<br />\n",
        "<br />\n",
        "\n",
        "c) p(X = 3) = 0.180447\n",
        "\n",
        "\n",
        "**Exemplo 3**\n",
        "\n",
        "O número de acidentes de carros que ocorrem por dia é de 2 acidentes.\n",
        "Qual a probabilidade de ocorrer **mais de 3** em um dia? \n",
        "\n",
        "P (X > 3) =  **1 - P(X $\\leq$ 3)** = 0.1428765\n",
        "\n",
        "**A probabilidade é 0.1428**\n",
        "\n",
        "**Exemplo 4**\n",
        "\n",
        "Brincadeira do professor Amaral:\n",
        "\n",
        "Fala do Sr.: \"Se minha esposa me traiu 4 vezes ano passado, qual a probabilidade de ela não me trair este ano?**\n",
        "\n",
        "$\n",
        "P(X = x) = e^{-\\lambda}\\frac{\\lambda^{x}}{x!}\n",
        "$\n",
        "\n",
        "$\n",
        "P(X = 0) = 2.71828^{-4}\\frac{4^{0}}{1}\n",
        "$\n",
        "\n",
        "$\n",
        "P(X = 0) = 0.01832\n",
        "$\n",
        "\n",
        "**A probabilidade de ele não ser traido é de 1.832%**"
      ]
    },
    {
      "cell_type": "markdown",
      "metadata": {
        "id": "6eZrwC2ZvR67"
      },
      "source": [
        "**Importando a função**"
      ]
    },
    {
      "cell_type": "code",
      "metadata": {
        "id": "PkLmL31Sn0IR"
      },
      "source": [
        "from scipy.stats import poisson"
      ],
      "execution_count": null,
      "outputs": []
    },
    {
      "cell_type": "markdown",
      "metadata": {
        "id": "GmZunKhyn5Eh"
      },
      "source": [
        "Média de acidentes de carro é 2 por dia"
      ]
    },
    {
      "cell_type": "markdown",
      "metadata": {
        "id": "lRSVkwXVvYJP"
      },
      "source": [
        "### Qual a probabilidade de ocorrerem 3 acidentes no dia?\n"
      ]
    },
    {
      "cell_type": "code",
      "metadata": {
        "id": "KxyuxXcbn3xc",
        "outputId": "3e6f0f39-3a1b-4107-81da-0dd6f9eed97b",
        "colab": {
          "base_uri": "https://localhost:8080/",
          "height": 35
        }
      },
      "source": [
        "poisson.pmf(3, 2)"
      ],
      "execution_count": null,
      "outputs": [
        {
          "output_type": "execute_result",
          "data": {
            "text/plain": [
              "0.18044704431548356"
            ]
          },
          "metadata": {
            "tags": []
          },
          "execution_count": 27
        }
      ]
    },
    {
      "cell_type": "markdown",
      "metadata": {
        "id": "3invloCTvZ3R"
      },
      "source": [
        "### Qual a probabilidade de ocorrerem 3 ou menos acidentes no dia?\n"
      ]
    },
    {
      "cell_type": "code",
      "metadata": {
        "id": "Xi01xD8cn6zg",
        "outputId": "58f214a2-8e1a-405f-cdbc-cb0a40c6c952",
        "colab": {
          "base_uri": "https://localhost:8080/",
          "height": 35
        }
      },
      "source": [
        "poisson.cdf(3, 2)"
      ],
      "execution_count": null,
      "outputs": [
        {
          "output_type": "execute_result",
          "data": {
            "text/plain": [
              "0.857123460498547"
            ]
          },
          "metadata": {
            "tags": []
          },
          "execution_count": 28
        }
      ]
    },
    {
      "cell_type": "markdown",
      "metadata": {
        "id": "QSLCZ4gPvgof"
      },
      "source": [
        "### Qual a probabilidade de ocorrerem mais de 3 acidentes no dia?\n"
      ]
    },
    {
      "cell_type": "code",
      "metadata": {
        "id": "S-y6WHM1n8k0",
        "outputId": "a9af9adb-7211-4a8c-9bbc-a7c55577ee70",
        "colab": {
          "base_uri": "https://localhost:8080/",
          "height": 35
        }
      },
      "source": [
        "poisson.sf(3, 2)"
      ],
      "execution_count": null,
      "outputs": [
        {
          "output_type": "execute_result",
          "data": {
            "text/plain": [
              "0.14287653950145296"
            ]
          },
          "metadata": {
            "tags": []
          },
          "execution_count": 29
        }
      ]
    },
    {
      "cell_type": "code",
      "metadata": {
        "id": "inmQqoLZn-ec",
        "outputId": "908fd076-0e90-4a49-f38f-5ccc7e8b147a",
        "colab": {
          "base_uri": "https://localhost:8080/",
          "height": 35
        }
      },
      "source": [
        "poisson.cdf(3, 2) + poisson.sf(3, 2)"
      ],
      "execution_count": null,
      "outputs": [
        {
          "output_type": "execute_result",
          "data": {
            "text/plain": [
              "1.0"
            ]
          },
          "metadata": {
            "tags": []
          },
          "execution_count": 30
        }
      ]
    },
    {
      "cell_type": "markdown",
      "metadata": {
        "id": "KTLhq8gmoA1Q"
      },
      "source": [
        "# Qui-Quadrado\n",
        "\n",
        "Existe diferença significativa entre homens e mulher que assistem ou não assistem? \n",
        "\n",
        "||Assiste|Não Assiste|Proporção|\n",
        "|-||||\n",
        "|Masculino|19|6|25|\n",
        "|Feminino|43|32|75|\n",
        "||62|38|100|\n",
        "\n",
        "- A questão não é de proporção entre homens e mulheres, mas entre homens que assistem e não assistem e mulheres que assistem e não assistem.\n",
        "\n",
        "- **Qui-Quadrado:** *H0* = Não existe diferença significativa além do acaso.\n",
        "\n",
        "- O resultado esperado é baseado na proporção entre masculino e feminino\n",
        "\n",
        "||Assiste|Não Assiste|Proporção||\n",
        "|-|||||\n",
        "|Masculino|19|6|25|Encontrado|\n",
        "||**15.5**|**9.5**|**25**|Esperado|\n",
        "|Feminino|43|32|75|Encontrado|\n",
        "||**46.5**|**28.5**|**25**|Esperado|\n",
        "||62|38|100||\n",
        "\n",
        "Exemplo: Se a proporção de homens que assistem é de 25% e o total de pessoas que assistem é 62 pessoas, então o resultado esperado é 15% de 62, ou seja, 15.5.\n",
        "\n",
        "Quanto maior a diferença entre o resultado encontrado (observado) e esperado, maior a chance de haver diferença do ponto de visto estatístico que seja significativa e que haja independência entre as variáveis.\n",
        "\n",
        "A diferença pode sera o acaso, logo tem-se que encontrar p e comparar com alfa e concluir se a diferença é significativa, via teste de hipótese, nesse caso é o Qui-Quadrado.\n",
        "\n",
        "Como acontece? (Exemplos)\n",
        "\n",
        "1.\n",
        "- *p-value* = 0.1535\n",
        "- 0.1535 > 0.05\n",
        "- *H0*: Não existe diferença significativa além do acaso.\n",
        " - Não rejeita *H0*.\n",
        "\n",
        "2.\n",
        "- *p-value* = 0.0212\n",
        "- 0.0212 < 0.05\n",
        "- *H0*: Não existe diferença significativa além do acaso. \n",
        " - Rejeita *H0*.\n",
        "\n"
      ]
    },
    {
      "cell_type": "markdown",
      "metadata": {
        "id": "pkGZeGHovmQy"
      },
      "source": [
        "**Importando as funções**\n",
        "\n",
        "`chi2_contingency` porque temos 2 categorias.\n"
      ]
    },
    {
      "cell_type": "code",
      "metadata": {
        "id": "v4vpSYBDn_sI"
      },
      "source": [
        "import numpy as np\n",
        "from scipy.stats import chi2_contingency"
      ],
      "execution_count": null,
      "outputs": []
    },
    {
      "cell_type": "markdown",
      "metadata": {
        "id": "FKcvyTjGvyBE"
      },
      "source": [
        "### Criação da matriz com os dados e execução do teste\n"
      ]
    },
    {
      "cell_type": "code",
      "metadata": {
        "id": "oMSJBH1aoCPU",
        "outputId": "40ecc602-e4ce-466f-a6ca-b23cfd30b3fc",
        "colab": {
          "base_uri": "https://localhost:8080/",
          "height": 54
        }
      },
      "source": [
        "novela = np.array([[19, 6], [43, 32]])\n",
        "novela"
      ],
      "execution_count": null,
      "outputs": [
        {
          "output_type": "execute_result",
          "data": {
            "text/plain": [
              "array([[19,  6],\n",
              "       [43, 32]])"
            ]
          },
          "metadata": {
            "tags": []
          },
          "execution_count": 32
        }
      ]
    },
    {
      "cell_type": "markdown",
      "metadata": {
        "id": "7bBWC3GQv0qR"
      },
      "source": [
        "* O segundo valor é o pvalue\n",
        "* (hipótese nula): não há diferença significativa.\n",
        "* Valor de p é maior que 0.05, logo não há evidências de diferença significativa.\n"
      ]
    },
    {
      "cell_type": "code",
      "metadata": {
        "id": "2ErV0YsKoDpY",
        "outputId": "331a091e-1448-48c4-dc71-90925851aa03",
        "colab": {
          "base_uri": "https://localhost:8080/",
          "height": 54
        }
      },
      "source": [
        "chi2_contingency(novela)"
      ],
      "execution_count": null,
      "outputs": [
        {
          "output_type": "execute_result",
          "data": {
            "text/plain": [
              "(2.037351443123939, 0.15347667161786666, 1, array([[15.5,  9.5],\n",
              "        [46.5, 28.5]]))"
            ]
          },
          "metadata": {
            "tags": []
          },
          "execution_count": 33
        }
      ]
    },
    {
      "cell_type": "code",
      "metadata": {
        "id": "NyhSgRE0oF6J",
        "outputId": "3c818625-f1e4-41a7-a54d-2e9e2e1a7f38",
        "colab": {
          "base_uri": "https://localhost:8080/",
          "height": 54
        }
      },
      "source": [
        "novela2 = np.array([[22, 3], [43, 32]])\n",
        "novela2"
      ],
      "execution_count": null,
      "outputs": [
        {
          "output_type": "execute_result",
          "data": {
            "text/plain": [
              "array([[22,  3],\n",
              "       [43, 32]])"
            ]
          },
          "metadata": {
            "tags": []
          },
          "execution_count": 34
        }
      ]
    },
    {
      "cell_type": "markdown",
      "metadata": {
        "id": "JOA8yGTbwD9T"
      },
      "source": [
        "Agora o valor de p menor que 0.05, logo podemos rejeitar a hipótese nula em favor da hipótese alternativa: há diferença significativa.\n"
      ]
    },
    {
      "cell_type": "code",
      "metadata": {
        "id": "2g1k8hUzoHW9",
        "outputId": "e7a2ef44-d74d-4454-f293-e88b41c9d56e",
        "colab": {
          "base_uri": "https://localhost:8080/",
          "height": 54
        }
      },
      "source": [
        "chi2_contingency(novela2)"
      ],
      "execution_count": null,
      "outputs": [
        {
          "output_type": "execute_result",
          "data": {
            "text/plain": [
              "(6.461538461538461, 0.011023416388221425, 1, array([[16.25,  8.75],\n",
              "        [48.75, 26.25]]))"
            ]
          },
          "metadata": {
            "tags": []
          },
          "execution_count": 35
        }
      ]
    },
    {
      "cell_type": "markdown",
      "metadata": {
        "id": "vrPvwJh8oJPM"
      },
      "source": [
        "# ANOVA (Analysis of Variance)\n",
        "\n",
        "- Teste de Hipótese\n",
        "- Utilizado para comparar 3 ou mais grupos.\n",
        "- 1 variável quantitativa (Ex. horas) e 1 ou mais variáveis categóricas(Ex.Remédios).\n",
        "- Compara todo o conjunto, não em pares.\n",
        "- Busca a variação entre os grupos comparando a variação dentro de cada grupo.\n",
        "- Hipóteses:\n",
        "  - *H0*: Não há diferença significativa no tempo de cura entre os diferentes tratamentos.\n",
        "  - *Ha* Existe uma diferença significativa no tempo de cura entre os diferentes tratamentos.\n",
        "\n",
        "Exemplo: \n",
        "  ||Tratamento A|Tratamento B|Tratamento C|\n",
        "|-||||\n",
        "||5|10|5|\n",
        "||10|10|5|\n",
        "||7|6|5|\n",
        "||7|6|8|\n",
        "||7|10|7|\n",
        "||6|6|8|\n",
        "||9|10|10|\n",
        "||9|5|7|\n",
        "|**Médias**|**7.5**|**7.875**|**6.875**|\n",
        "\n",
        "**Por que não se compara aos pares?**\n",
        "\n",
        "- Porque seria uma grande número de comparações. \n",
        "- A exemplo, se fossem 20 remédios seriam 190 comparações.\n",
        "  - As chances de Erro Tipo I são grandes.\n",
        "\n",
        "Exemplo:\n",
        "- Tratamentos: Variáveis\n",
        "- Os pacientes tratados com o remédios são as variáveis dependentes.\n",
        "\n",
        "**Adicionando variável**\n",
        "\n",
        "### Adicionando uma variável\n",
        "- Ao adicionar sexo, por exemplo, permite-se fazer uma **Análise de Variância em Dois Fatores.**\n",
        "- Antes se analisava entre os grupos, agora tem que ser analisado esse novo grupo também.\n",
        "  - Por exemplo, pode ser que seja necessário comprar o remédio mais caro para os homens ou para as mulheres.\n",
        "\n",
        "||Tratamento A|Tratamento B|Tratamento C|\n",
        "|-||||\n",
        "|F|5|10|5|\n",
        "|F|10|10|5|\n",
        "|F|7|6|5|\n",
        "|F|7|6|8|\n",
        "|**Médias**|**7.25**|**5.75**|**8**|\n",
        "|M|7|10|7|\n",
        "|M|6|6|8|\n",
        "|M|9|10|10|\n",
        "|M|9|5|7|\n",
        "|**Médias**|**7.75**|**8**|**7.75**|\n",
        "\n",
        "O teste feito é **Teste F**, onde:\n",
        "- X = Graus de liberdade (Número de grupos -1)\n",
        "- Y = Graus de liberdade no denominador: número de observações - número de grupos.\n",
        "- *H0* = Não há variância entre os grupos.\n",
        "- *p-value* < alfa = Não há variância significativa entre os grupos.\n",
        "  - Exemplo:\n",
        "    - *p-value* é 0.592\n",
        "    - 0.592 > 0.05\n",
        "    - Não há diferença significativa no tempo de cura entre os diferentes tratamentos.\n",
        "\n",
        "**Problema:** O Teste Anova mostra se existe a variação significativa, mas não aonde!\n",
        "\n",
        "### Teste de Tukey\n",
        "\n",
        "Havendo variação significativa na Anova,há alguns testes para testar os pares e um deles é o de Tukey.\n",
        "\n",
        "Na prática, passamos o objeto Anova criado para o Teste e ele vai retornar:\n",
        "- *H0* = Não há variação significativa\n",
        "\n",
        "Exemplo:\n",
        "\n",
        "Com alfa = 0.05.\n",
        "\n",
        "|p|adj|\n",
        "|-||\n",
        "|B-A|0.7991405|\n",
        "|C-A|0.0289472|\n",
        "|C-B|0.9218996|\n",
        "\n",
        "Somente entre C e A variação significativa.\n",
        "\n",
        "\n",
        "\n"
      ]
    },
    {
      "cell_type": "markdown",
      "metadata": {
        "id": "si7KEldhwRPt"
      },
      "source": [
        "**Importando as bibliotecas**"
      ]
    },
    {
      "cell_type": "code",
      "metadata": {
        "id": "_7ig1hNuoIn4",
        "outputId": "26ca55d3-9220-4c98-ccf0-efa4d6cba283",
        "colab": {
          "base_uri": "https://localhost:8080/",
          "height": 74
        }
      },
      "source": [
        "import pandas as pd\n",
        "from scipy import stats\n",
        "import statsmodels.api as sm\n",
        "from statsmodels.formula.api import ols\n",
        "from statsmodels.stats.multicomp import MultiComparison"
      ],
      "execution_count": null,
      "outputs": [
        {
          "output_type": "stream",
          "text": [
            "/usr/local/lib/python3.6/dist-packages/statsmodels/tools/_testing.py:19: FutureWarning: pandas.util.testing is deprecated. Use the functions in the public API at pandas.testing instead.\n",
            "  import pandas.util.testing as tm\n"
          ],
          "name": "stderr"
        }
      ]
    },
    {
      "cell_type": "markdown",
      "metadata": {
        "id": "WkYOxPzWwXeT"
      },
      "source": [
        "**Carregando a base de dados**\n"
      ]
    },
    {
      "cell_type": "code",
      "metadata": {
        "id": "_ITHX0K9oLr-",
        "outputId": "6bb62ce3-3f4d-4d4a-adfc-ea22c3f9aaa9",
        "colab": {
          "base_uri": "https://localhost:8080/",
          "height": 206
        }
      },
      "source": [
        "tratamento = pd.read_csv('anova.csv', sep = ';')\n",
        "tratamento.head()"
      ],
      "execution_count": null,
      "outputs": [
        {
          "output_type": "execute_result",
          "data": {
            "text/html": [
              "<div>\n",
              "<style scoped>\n",
              "    .dataframe tbody tr th:only-of-type {\n",
              "        vertical-align: middle;\n",
              "    }\n",
              "\n",
              "    .dataframe tbody tr th {\n",
              "        vertical-align: top;\n",
              "    }\n",
              "\n",
              "    .dataframe thead th {\n",
              "        text-align: right;\n",
              "    }\n",
              "</style>\n",
              "<table border=\"1\" class=\"dataframe\">\n",
              "  <thead>\n",
              "    <tr style=\"text-align: right;\">\n",
              "      <th></th>\n",
              "      <th>Sexo</th>\n",
              "      <th>Remedio</th>\n",
              "      <th>Horas</th>\n",
              "    </tr>\n",
              "  </thead>\n",
              "  <tbody>\n",
              "    <tr>\n",
              "      <th>0</th>\n",
              "      <td>F</td>\n",
              "      <td>A</td>\n",
              "      <td>5</td>\n",
              "    </tr>\n",
              "    <tr>\n",
              "      <th>1</th>\n",
              "      <td>F</td>\n",
              "      <td>A</td>\n",
              "      <td>10</td>\n",
              "    </tr>\n",
              "    <tr>\n",
              "      <th>2</th>\n",
              "      <td>F</td>\n",
              "      <td>A</td>\n",
              "      <td>7</td>\n",
              "    </tr>\n",
              "    <tr>\n",
              "      <th>3</th>\n",
              "      <td>F</td>\n",
              "      <td>A</td>\n",
              "      <td>7</td>\n",
              "    </tr>\n",
              "    <tr>\n",
              "      <th>4</th>\n",
              "      <td>M</td>\n",
              "      <td>A</td>\n",
              "      <td>7</td>\n",
              "    </tr>\n",
              "  </tbody>\n",
              "</table>\n",
              "</div>"
            ],
            "text/plain": [
              "  Sexo Remedio  Horas\n",
              "0    F       A      5\n",
              "1    F       A     10\n",
              "2    F       A      7\n",
              "3    F       A      7\n",
              "4    M       A      7"
            ]
          },
          "metadata": {
            "tags": []
          },
          "execution_count": 37
        }
      ]
    },
    {
      "cell_type": "markdown",
      "metadata": {
        "id": "PaQ6-QAUwco9"
      },
      "source": [
        "**Boxplot** \n",
        "\n",
        "Agrupando os dados pelo remédio.\n"
      ]
    },
    {
      "cell_type": "code",
      "metadata": {
        "id": "wuAFeXwboOQD",
        "outputId": "ce855ae3-0691-4794-e7ae-19f8ee8c5546",
        "colab": {
          "base_uri": "https://localhost:8080/",
          "height": 301
        }
      },
      "source": [
        "tratamento.boxplot(by = 'Remedio', grid = False);"
      ],
      "execution_count": null,
      "outputs": [
        {
          "output_type": "display_data",
          "data": {
            "image/png": "[encoded data removed]",
            "text/plain": [
              "<Figure size 432x288 with 1 Axes>"
            ]
          },
          "metadata": {
            "tags": [],
            "needs_background": "light"
          }
        }
      ]
    },
    {
      "cell_type": "markdown",
      "metadata": {
        "id": "7bnweAD9wjcu"
      },
      "source": [
        "**Criação do modelo de regressão linear e execução do teste**\n",
        "\n",
        "- Observe o valor de p maior que 0,05 (Pr(>F)).\n",
        "\n",
        "- Hipótese nula de que não há diferença significativa.\n",
        "\n",
        "- Não foram encontradas evidências para rejeitar a hipótese nula.\n",
        "\n"
      ]
    },
    {
      "cell_type": "code",
      "metadata": {
        "id": "GFPCsCluoQJ3",
        "outputId": "9094aaf1-147c-46d9-8f1d-a04a0d9e88dd",
        "colab": {
          "base_uri": "https://localhost:8080/",
          "height": 112
        }
      },
      "source": [
        "modelo1 = ols('Horas ~ Remedio', data = tratamento).fit()\n",
        "resultados1 = sm.stats.anova_lm(modelo1)\n",
        "resultados1"
      ],
      "execution_count": null,
      "outputs": [
        {
          "output_type": "execute_result",
          "data": {
            "text/html": [
              "<div>\n",
              "<style scoped>\n",
              "    .dataframe tbody tr th:only-of-type {\n",
              "        vertical-align: middle;\n",
              "    }\n",
              "\n",
              "    .dataframe tbody tr th {\n",
              "        vertical-align: top;\n",
              "    }\n",
              "\n",
              "    .dataframe thead th {\n",
              "        text-align: right;\n",
              "    }\n",
              "</style>\n",
              "<table border=\"1\" class=\"dataframe\">\n",
              "  <thead>\n",
              "    <tr style=\"text-align: right;\">\n",
              "      <th></th>\n",
              "      <th>df</th>\n",
              "      <th>sum_sq</th>\n",
              "      <th>mean_sq</th>\n",
              "      <th>F</th>\n",
              "      <th>PR(&gt;F)</th>\n",
              "    </tr>\n",
              "  </thead>\n",
              "  <tbody>\n",
              "    <tr>\n",
              "      <th>Remedio</th>\n",
              "      <td>2.0</td>\n",
              "      <td>4.083333</td>\n",
              "      <td>2.041667</td>\n",
              "      <td>0.537618</td>\n",
              "      <td>0.591966</td>\n",
              "    </tr>\n",
              "    <tr>\n",
              "      <th>Residual</th>\n",
              "      <td>21.0</td>\n",
              "      <td>79.750000</td>\n",
              "      <td>3.797619</td>\n",
              "      <td>NaN</td>\n",
              "      <td>NaN</td>\n",
              "    </tr>\n",
              "  </tbody>\n",
              "</table>\n",
              "</div>"
            ],
            "text/plain": [
              "            df     sum_sq   mean_sq         F    PR(>F)\n",
              "Remedio    2.0   4.083333  2.041667  0.537618  0.591966\n",
              "Residual  21.0  79.750000  3.797619       NaN       NaN"
            ]
          },
          "metadata": {
            "tags": []
          },
          "execution_count": 39
        }
      ]
    },
    {
      "cell_type": "markdown",
      "metadata": {
        "id": "xTRUyLW8xK5U"
      },
      "source": [
        "**Criação do segundo modelo utilizando mais atributos e execução do teste**\n",
        "\n",
        "* Nenhum dos valores de P mostra diferença significativa.\n"
      ]
    },
    {
      "cell_type": "code",
      "metadata": {
        "id": "C589SvjaoaMY",
        "outputId": "4bd52d5d-112b-41b8-c8cc-7701f9d397e7",
        "colab": {
          "base_uri": "https://localhost:8080/",
          "height": 175
        }
      },
      "source": [
        "modelo2 = ols('Horas ~ Remedio * Sexo', data = tratamento).fit()\n",
        "resultados2 = sm.stats.anova_lm(modelo2)\n",
        "resultados2"
      ],
      "execution_count": null,
      "outputs": [
        {
          "output_type": "execute_result",
          "data": {
            "text/html": [
              "<div>\n",
              "<style scoped>\n",
              "    .dataframe tbody tr th:only-of-type {\n",
              "        vertical-align: middle;\n",
              "    }\n",
              "\n",
              "    .dataframe tbody tr th {\n",
              "        vertical-align: top;\n",
              "    }\n",
              "\n",
              "    .dataframe thead th {\n",
              "        text-align: right;\n",
              "    }\n",
              "</style>\n",
              "<table border=\"1\" class=\"dataframe\">\n",
              "  <thead>\n",
              "    <tr style=\"text-align: right;\">\n",
              "      <th></th>\n",
              "      <th>df</th>\n",
              "      <th>sum_sq</th>\n",
              "      <th>mean_sq</th>\n",
              "      <th>F</th>\n",
              "      <th>PR(&gt;F)</th>\n",
              "    </tr>\n",
              "  </thead>\n",
              "  <tbody>\n",
              "    <tr>\n",
              "      <th>Remedio</th>\n",
              "      <td>2.0</td>\n",
              "      <td>4.083333</td>\n",
              "      <td>2.041667</td>\n",
              "      <td>0.532609</td>\n",
              "      <td>0.596042</td>\n",
              "    </tr>\n",
              "    <tr>\n",
              "      <th>Sexo</th>\n",
              "      <td>1.0</td>\n",
              "      <td>4.166667</td>\n",
              "      <td>4.166667</td>\n",
              "      <td>1.086957</td>\n",
              "      <td>0.310948</td>\n",
              "    </tr>\n",
              "    <tr>\n",
              "      <th>Remedio:Sexo</th>\n",
              "      <td>2.0</td>\n",
              "      <td>6.583333</td>\n",
              "      <td>3.291667</td>\n",
              "      <td>0.858696</td>\n",
              "      <td>0.440360</td>\n",
              "    </tr>\n",
              "    <tr>\n",
              "      <th>Residual</th>\n",
              "      <td>18.0</td>\n",
              "      <td>69.000000</td>\n",
              "      <td>3.833333</td>\n",
              "      <td>NaN</td>\n",
              "      <td>NaN</td>\n",
              "    </tr>\n",
              "  </tbody>\n",
              "</table>\n",
              "</div>"
            ],
            "text/plain": [
              "                df     sum_sq   mean_sq         F    PR(>F)\n",
              "Remedio        2.0   4.083333  2.041667  0.532609  0.596042\n",
              "Sexo           1.0   4.166667  4.166667  1.086957  0.310948\n",
              "Remedio:Sexo   2.0   6.583333  3.291667  0.858696  0.440360\n",
              "Residual      18.0  69.000000  3.833333       NaN       NaN"
            ]
          },
          "metadata": {
            "tags": []
          },
          "execution_count": 40
        }
      ]
    },
    {
      "cell_type": "markdown",
      "metadata": {
        "id": "N_RDSw5YxYej"
      },
      "source": [
        "### Teste de Tukey\n",
        "\n",
        "- Executado quando há diferença.\n"
      ]
    },
    {
      "cell_type": "code",
      "metadata": {
        "id": "iR04eK6Wobde",
        "outputId": "d1aaf841-27f4-4a88-f9f9-2575bbc4da21",
        "colab": {
          "base_uri": "https://localhost:8080/",
          "height": 910
        }
      },
      "source": [
        "mc = MultiComparison(tratamento['Horas'], tratamento['Remedio'])\n",
        "resultado_teste = mc.tukeyhsd()\n",
        "print(resultado_teste)\n",
        "resultado_teste.plot_simultaneous()"
      ],
      "execution_count": null,
      "outputs": [
        {
          "output_type": "stream",
          "text": [
            "Multiple Comparison of Means - Tukey HSD, FWER=0.05\n",
            "===================================================\n",
            "group1 group2 meandiff p-adj   lower  upper  reject\n",
            "---------------------------------------------------\n",
            "     A      B   -0.625 0.7861 -3.0803 1.8303  False\n",
            "     A      C    0.375    0.9 -2.0803 2.8303  False\n",
            "     B      C      1.0 0.5668 -1.4553 3.4553  False\n",
            "---------------------------------------------------\n"
          ],
          "name": "stdout"
        },
        {
          "output_type": "execute_result",
          "data": {
            "image/png": "[encoded data removed]",
            "text/plain": [
              "<Figure size 720x432 with 1 Axes>"
            ]
          },
          "metadata": {
            "tags": []
          },
          "execution_count": 41
        },
        {
          "output_type": "display_data",
          "data": {
            "image/png": "[encoded data removed]",
            "text/plain": [
              "<Figure size 720x432 with 1 Axes>"
            ]
          },
          "metadata": {
            "tags": [],
            "needs_background": "light"
          }
        }
      ]
    },
    {
      "cell_type": "markdown",
      "metadata": {
        "id": "YtbF1I_rofCw"
      },
      "source": [
        "# Outliers\n",
        "\n",
        "Os outliers são pontos fora do padrão de uma distribuição que podem viesar negativamente todo o resultado de uma análise.\n",
        "\n",
        "Por exemplo, se as pessoas em uma empresa ganham entre **1000** e **2000**, a média dos salários ficará entre esses dois valores. Se acrescentamos o salário de **1 bi** de um executivo, por exemplo, o valor da médio irá disparar muito e não irá refletir a média salarial da empresa.\n",
        "\n",
        "Desse modo, ao fazer uma análise, é interessante remover os outliers.\n",
        "\n",
        "Às vezes, o outlier é o que se quer encontrar."
      ]
    },
    {
      "cell_type": "markdown",
      "metadata": {
        "id": "8MtHRH3B0mSK"
      },
      "source": [
        "**Importando bibliotecas**"
      ]
    },
    {
      "cell_type": "code",
      "metadata": {
        "id": "lXaf7oKAocmH"
      },
      "source": [
        "import matplotlib.pyplot as plt\n",
        "import pandas as pd\n",
        "from sklearn.neighbors import KNeighborsClassifier"
      ],
      "execution_count": null,
      "outputs": []
    },
    {
      "cell_type": "markdown",
      "metadata": {
        "id": "8ZvXJRmG0ph2"
      },
      "source": [
        "**Carregando a base de dados**"
      ]
    },
    {
      "cell_type": "code",
      "metadata": {
        "id": "zl_TNowqog8i"
      },
      "source": [
        "iris = pd.read_csv('iris.csv')"
      ],
      "execution_count": null,
      "outputs": []
    },
    {
      "cell_type": "markdown",
      "metadata": {
        "id": "iGBtIEQQ0rx_"
      },
      "source": [
        "**Visualizando as colunas**"
      ]
    },
    {
      "cell_type": "code",
      "metadata": {
        "id": "JguCOHdVonJD",
        "outputId": "68ba2c5f-4a67-4d7d-9dcc-df55675b05bc",
        "colab": {
          "base_uri": "https://localhost:8080/",
          "height": 35
        }
      },
      "source": [
        "iris.columns"
      ],
      "execution_count": null,
      "outputs": [
        {
          "output_type": "execute_result",
          "data": {
            "text/plain": [
              "Index(['sepallength', 'sepalwidth', 'petallength', 'petalwidth', 'class'], dtype='object')"
            ]
          },
          "metadata": {
            "tags": []
          },
          "execution_count": 44
        }
      ]
    },
    {
      "cell_type": "code",
      "metadata": {
        "id": "39bu11wYon1y",
        "outputId": "0d016359-0ebb-41bf-c54f-5cf37a714ea9",
        "colab": {
          "base_uri": "https://localhost:8080/",
          "height": 268
        }
      },
      "source": [
        "plt.boxplot(iris.iloc[:,1], showfliers = True)\n",
        "outliers = iris[(iris['sepalwidth'] > 4.0) | (iris['sepalwidth'] < 2.1)]"
      ],
      "execution_count": null,
      "outputs": [
        {
          "output_type": "display_data",
          "data": {
            "image/png": "[encoded data removed]",
            "text/plain": [
              "<Figure size 432x288 with 1 Axes>"
            ]
          },
          "metadata": {
            "tags": [],
            "needs_background": "light"
          }
        }
      ]
    },
    {
      "cell_type": "markdown",
      "metadata": {
        "id": "5qDkdhdH4oLv"
      },
      "source": [
        "### Criando dados com outlier e removendo-os"
      ]
    },
    {
      "cell_type": "markdown",
      "metadata": {
        "id": "M4j6i_0q4u9n"
      },
      "source": [
        "**Criando dados**"
      ]
    },
    {
      "cell_type": "code",
      "metadata": {
        "id": "NLcSG1rp4vXz"
      },
      "source": [
        "import numpy\n",
        "\n",
        "dados = [10, 386, 479, 627, 20, 523, 482, 483, 542, 699, 535, 617, 577, 471, 615, 583, 441, 562, 563, 527, \n",
        "       453, 530, 433, 541, 585, 704, 443, 569, 430, 637, 331, 511, 552, 496, 484, 566, 554, 472, 335, \n",
        "       440, 579, 341, 545, 615, 548, 604, 439, 556, 442, 461, 624, 611, 444, 578, 405, 487, 490, 496, 398, \n",
        "       512, 422, 455, 449, 432, 607, 679, 434, 597, 639, 565, 415, 486, 668, 414, 665, 763, 557, 304, 404, 454, \n",
        "       689, 610, 483, 441, 657, 590, 492, 476, 437, 483, 529, 363, 711, 543,30, 1300, 1350, 1400]\n",
        "\n",
        "dados = numpy.array(dados)"
      ],
      "execution_count": null,
      "outputs": []
    },
    {
      "cell_type": "markdown",
      "metadata": {
        "id": "8tg5Aprr4w81"
      },
      "source": [
        "**Visualizando os valores anômalos**"
      ]
    },
    {
      "cell_type": "code",
      "metadata": {
        "id": "MQ0q_M6T4xoU",
        "outputId": "ab1dd657-6073-43f8-e7cb-2e8bc76dbfcc",
        "colab": {
          "base_uri": "https://localhost:8080/",
          "height": 268
        }
      },
      "source": [
        "%matplotlib inline\n",
        "import seaborn as sns\n",
        "sns.set(style=\"whitegrid\", color_codes=True)\n",
        "sns.boxplot(data=dados);"
      ],
      "execution_count": null,
      "outputs": [
        {
          "output_type": "display_data",
          "data": {
            "image/png": "[encoded data removed]",
            "text/plain": [
              "<Figure size 432x288 with 1 Axes>"
            ]
          },
          "metadata": {
            "tags": []
          }
        }
      ]
    },
    {
      "cell_type": "markdown",
      "metadata": {
        "id": "XN_DB5g25FAQ"
      },
      "source": [
        "**Verificando o valor da média**"
      ]
    },
    {
      "cell_type": "code",
      "metadata": {
        "id": "L8hIlNpN5JtO",
        "outputId": "beb5b1d2-e9ee-4f6f-b9d8-837a53b1cca0",
        "colab": {
          "base_uri": "https://localhost:8080/",
          "height": 35
        }
      },
      "source": [
        "numpy.mean(dados, axis=0)"
      ],
      "execution_count": null,
      "outputs": [
        {
          "output_type": "execute_result",
          "data": {
            "text/plain": [
              "530.3673469387755"
            ]
          },
          "metadata": {
            "tags": []
          },
          "execution_count": 3
        }
      ]
    },
    {
      "cell_type": "markdown",
      "metadata": {
        "id": "_vmDAQ2F4yGO"
      },
      "source": [
        "**Verificando o valor de desvio padrão**"
      ]
    },
    {
      "cell_type": "code",
      "metadata": {
        "id": "TBT_OjAA4yjl",
        "outputId": "84f0f1f5-2374-4394-c60d-ef5e0fa23abe",
        "colab": {
          "base_uri": "https://localhost:8080/",
          "height": 35
        }
      },
      "source": [
        "numpy.std(dados, axis=0)"
      ],
      "execution_count": null,
      "outputs": [
        {
          "output_type": "execute_result",
          "data": {
            "text/plain": [
              "192.51166875607043"
            ]
          },
          "metadata": {
            "tags": []
          },
          "execution_count": 4
        }
      ]
    },
    {
      "cell_type": "markdown",
      "metadata": {
        "id": "iJ7DZepU5VUA"
      },
      "source": [
        "**Fronteira de valor abaixo da média em duas vezes o desvio padrão**"
      ]
    },
    {
      "cell_type": "code",
      "metadata": {
        "id": "Er1a6xvQ5V5-"
      },
      "source": [
        "mean = numpy.mean(dados, axis=0)\n",
        "sd = numpy.std(dados, axis=0)"
      ],
      "execution_count": null,
      "outputs": []
    },
    {
      "cell_type": "code",
      "metadata": {
        "id": "dcMOUEUa5is-",
        "outputId": "0ab1c902-2f55-4d3d-9a8c-9ffbdfd7bdb1",
        "colab": {
          "base_uri": "https://localhost:8080/",
          "height": 35
        }
      },
      "source": [
        "mean - 2 * sd"
      ],
      "execution_count": null,
      "outputs": [
        {
          "output_type": "execute_result",
          "data": {
            "text/plain": [
              "145.34400942663467"
            ]
          },
          "metadata": {
            "tags": []
          },
          "execution_count": 6
        }
      ]
    },
    {
      "cell_type": "markdown",
      "metadata": {
        "id": "3qSTmzaG5l9W"
      },
      "source": [
        "**Fronteira de valores acima da média em duas vezes o desvio padrão**"
      ]
    },
    {
      "cell_type": "code",
      "metadata": {
        "id": "gaFaike-5p3H",
        "outputId": "7a955aa0-8440-4914-a3cb-2736a473589a",
        "colab": {
          "base_uri": "https://localhost:8080/",
          "height": 35
        }
      },
      "source": [
        "mean + 2 * sd"
      ],
      "execution_count": null,
      "outputs": [
        {
          "output_type": "execute_result",
          "data": {
            "text/plain": [
              "915.3906844509164"
            ]
          },
          "metadata": {
            "tags": []
          },
          "execution_count": 7
        }
      ]
    },
    {
      "cell_type": "markdown",
      "metadata": {
        "id": "YhaACdGz5WTc"
      },
      "source": [
        "**Listando os valores abaixo da média em duas vezes o desvio padrão**"
      ]
    },
    {
      "cell_type": "code",
      "metadata": {
        "id": "8efPr88p5Ww3",
        "outputId": "176c712c-82f2-45ce-cd73-29e5702da95a",
        "colab": {
          "base_uri": "https://localhost:8080/",
          "height": 72
        }
      },
      "source": [
        "for x in dados:\n",
        "        if (x < mean - 2 * sd):\n",
        "            print(x)"
      ],
      "execution_count": null,
      "outputs": [
        {
          "output_type": "stream",
          "text": [
            "10\n",
            "20\n",
            "30\n"
          ],
          "name": "stdout"
        }
      ]
    },
    {
      "cell_type": "markdown",
      "metadata": {
        "id": "X_nd1gof50d4"
      },
      "source": [
        "**Listando os valores acima da média em duas vezes o desvio padrão**"
      ]
    },
    {
      "cell_type": "code",
      "metadata": {
        "id": "Vh8rV2Hu55fs",
        "outputId": "5bb3031f-b363-4b6c-9776-addd30f20566",
        "colab": {
          "base_uri": "https://localhost:8080/",
          "height": 72
        }
      },
      "source": [
        "for x in dados:\n",
        "        if (x > mean + 2 * sd):\n",
        "            print(x)"
      ],
      "execution_count": null,
      "outputs": [
        {
          "output_type": "stream",
          "text": [
            "1300\n",
            "1350\n",
            "1400\n"
          ],
          "name": "stdout"
        }
      ]
    },
    {
      "cell_type": "markdown",
      "metadata": {
        "id": "A4_gKcRW58zg"
      },
      "source": [
        "**Removendo os valores muito abaixo da média (10,20,30)**\n"
      ]
    },
    {
      "cell_type": "code",
      "metadata": {
        "id": "L6RmwYmj6DE5",
        "outputId": "b6da9a6c-e770-4b1b-97c5-3cb866d9720c",
        "colab": {
          "base_uri": "https://localhost:8080/",
          "height": 55
        }
      },
      "source": [
        "dados = [x for x in dados if (x > mean - 2 * sd)]\n",
        "print(dados)"
      ],
      "execution_count": null,
      "outputs": [
        {
          "output_type": "stream",
          "text": [
            "[386, 479, 627, 523, 482, 483, 542, 699, 535, 617, 577, 471, 615, 583, 441, 562, 563, 527, 453, 530, 433, 541, 585, 704, 443, 569, 430, 637, 331, 511, 552, 496, 484, 566, 554, 472, 335, 440, 579, 341, 545, 615, 548, 604, 439, 556, 442, 461, 624, 611, 444, 578, 405, 487, 490, 496, 398, 512, 422, 455, 449, 432, 607, 679, 434, 597, 639, 565, 415, 486, 668, 414, 665, 763, 557, 304, 404, 454, 689, 610, 483, 441, 657, 590, 492, 476, 437, 483, 529, 363, 711, 543, 1300, 1350, 1400]\n"
          ],
          "name": "stdout"
        }
      ]
    },
    {
      "cell_type": "markdown",
      "metadata": {
        "id": "N_AkI-sV6Daf"
      },
      "source": [
        "**Removendo os valores muito acima da média (1300,1350,1400)**"
      ]
    },
    {
      "cell_type": "code",
      "metadata": {
        "id": "e87qiJex6D9o",
        "outputId": "835737c1-fb8a-42cf-a04a-e0a05a99db0e",
        "colab": {
          "base_uri": "https://localhost:8080/",
          "height": 55
        }
      },
      "source": [
        "dados = [x for x in dados if (x < mean + 2 * sd)]\n",
        "print(dados)"
      ],
      "execution_count": null,
      "outputs": [
        {
          "output_type": "stream",
          "text": [
            "[386, 479, 627, 523, 482, 483, 542, 699, 535, 617, 577, 471, 615, 583, 441, 562, 563, 527, 453, 530, 433, 541, 585, 704, 443, 569, 430, 637, 331, 511, 552, 496, 484, 566, 554, 472, 335, 440, 579, 341, 545, 615, 548, 604, 439, 556, 442, 461, 624, 611, 444, 578, 405, 487, 490, 496, 398, 512, 422, 455, 449, 432, 607, 679, 434, 597, 639, 565, 415, 486, 668, 414, 665, 763, 557, 304, 404, 454, 689, 610, 483, 441, 657, 590, 492, 476, 437, 483, 529, 363, 711, 543]\n"
          ],
          "name": "stdout"
        }
      ]
    },
    {
      "cell_type": "markdown",
      "metadata": {
        "id": "-u7jVa_d6RC0"
      },
      "source": [
        "**Visualizando os valores novamente**"
      ]
    },
    {
      "cell_type": "code",
      "metadata": {
        "id": "Q90rlMKz6Rgf",
        "outputId": "56c26b89-8d7d-4e4a-959c-65d2d0a511ca",
        "colab": {
          "base_uri": "https://localhost:8080/",
          "height": 268
        }
      },
      "source": [
        "sns.boxplot(data=dados);"
      ],
      "execution_count": null,
      "outputs": [
        {
          "output_type": "display_data",
          "data": {
            "image/png": "[encoded data removed]",
            "text/plain": [
              "<Figure size 432x288 with 1 Axes>"
            ]
          },
          "metadata": {
            "tags": []
          }
        }
      ]
    },
    {
      "cell_type": "markdown",
      "metadata": {
        "id": "M7qK8ZKuLyn6"
      },
      "source": [
        "# Métricas de Erros\n",
        "\n",
        "- Previsão de valores numéricos (reais, inteiros).\n",
        "\n",
        "- Métricas diferentes da previsão de categorias\n",
        "\n",
        "- Não significa que o modelo está errado, significa que há uma diferença entre o previsto e o valor real.\n",
        "\n",
        "- Utilização:\n",
        "  - Regressão Linear\n",
        "  - Regressão de Machine Learning\n",
        "  - Series Temporais\n",
        "  - Outros\n",
        "\n",
        "- Quando uma previsão é feita:\n",
        "  - Existe uma diferença entre a previsão e o que ocorreu.\n",
        "  - A diferença tem que ser medida.\n",
        "    - Para saber a qualidade do modelo.\n",
        "    - Para melhorar o modelo.\n",
        "    - Para fazer benchmarks (comparações entre modelos).\n",
        "\n",
        "- Divisão\n",
        "  - Dados para treino\n",
        "  - Dados para previsão (teste)\n",
        "\n",
        "Exemplo de previsão e realizado\n",
        "\n",
        "|Previsto|Realizado|\n",
        "|-||\n",
        "|3.34|3.00|\n",
        "|4.18|4.00|\n",
        "|3.00|3.00|\n",
        "|2.99|3.00|\n",
        "|4.51|4.50|\n",
        "|5.18|4.00|\n",
        "|8.18|4.50|\n",
        "\n",
        "<br />\n",
        "\n",
        "## Mean Error (ME)\n",
        "\n",
        "- Dependente da escala.\n",
        "- É a média da diferença entre realizado e previsto.\n",
        "\n",
        "$\n",
        "ME = \\frac{\\sum_{i=1}^n yi - xi}{n}\n",
        "$\n",
        "\n",
        "<br />\n",
        "\n",
        "||Previsto|Realizado|Diferença|\n",
        "|-||||\n",
        "||3.34|3.00|-0.34|\n",
        "||4.18|4.00|-0.18|\n",
        "||3.00|3.00|0|\n",
        "||2.99|3.00|0.01|\n",
        "||4.51|4.50|-0.01|\n",
        "||5.18|4.00|-1.18|\n",
        "||8.18|4.50|-3.68|\n",
        "|**Total**|||**-5.38**|\n",
        "\n",
        "\n",
        "<br />\n",
        "\n",
        "$\n",
        "ME = \\frac{-5.38}{7} = -0.76\n",
        "$\n",
        "\n",
        "- Quanto menor o erro, melhor está o modelo. \n",
        "- A comparação deve ser feita com o próprio modelo com ajustes de parâmetros etc.\n",
        "\n",
        "<br />\n",
        "\n",
        "\n",
        "## Mean Absolute Error (MAE)\n",
        "\n",
        "- Dependente da escala.\n",
        "- É a média da diferença absoluta (sem sinal) entre o realizado e o previsto.\n",
        "\n",
        "$\n",
        "MAE = \\frac{\\sum_{i=1}^n |yi - xi|}{n}\n",
        "$\n",
        "\n",
        "<br />\n",
        "\n",
        "||Previsto|Realizado|Diferença (em módulo)|\n",
        "|-||||\n",
        "||3.34|3.00| \\|0.34\\||\n",
        "||4.18|4.00|\\|0.18\\||\n",
        "||3.00|3.00|\\|0\\||\n",
        "||2.99|3.00|\\|0.01\\||\n",
        "||4.51|4.50|\\|0.01\\||\n",
        "||5.18|4.00|\\|1.18\\||\n",
        "||8.18|4.50|\\|3.68\\||\n",
        "|**Total**|||**5.4**|\n",
        "\n",
        "\n",
        "\n",
        "<br />\n",
        "\n",
        "$\n",
        "MAE = \\frac{5.4}{7} = -0.77\n",
        "$\n",
        "\n",
        "\n",
        "<br />\n",
        "\n",
        "## Root Mean Squared Ereror (RMSE)\n",
        "\n",
        "\n",
        "- Independente da escala.\n",
        "- É o desvio padrão da amostra da diferença ente o previsto e o teste.\n",
        "\n",
        "$\n",
        "RMSE = \\sqrt \\frac{\\sum_{t=1}^T (\\hat{y}t - yt)^2}{T}\n",
        "$\n",
        "\n",
        "<br />\n",
        "\n",
        "||Previsto|Realizado|Diferença (ao quadrado)|\n",
        "|-||||\n",
        "||3.34|3.00| 0.1156|\n",
        "||4.18|4.00|0.0324|\n",
        "||3.00|3.00|0|\n",
        "||2.99|3.00|1E-04|\n",
        "||4.51|4.50|1E-04|\n",
        "||5.18|4.00|1.3924|\n",
        "||8.18|4.50|13.5424|\n",
        "|**Total**|||**15.083**|\n",
        "\n",
        "\n",
        "\n",
        "<br />\n",
        "\n",
        "$\n",
        "RMSE = \\sqrt \\frac {15.083}{7}\n",
        "$\n",
        "\n",
        "<br />\n",
        "\n",
        "$\n",
        "RMSE = 1.46\n",
        "$\n",
        "\n",
        "<br />\n",
        "\n",
        "\n",
        "## Mean Percentage Error (MPE)\n",
        "\n",
        "- Independente da escala (%).\n",
        "- É a diferença percentual do erro.\n",
        "\n",
        "$\n",
        "MPE = \\frac {100\\%}{n}{\\sum_{t=1}^n} \\frac {at - ft}{at}\n",
        "$\n",
        "\n",
        "<br />\n",
        "\n",
        "||Previsto|Realizado|Erro (%)|\n",
        "|-||||\n",
        "||3.34|3.00| -11.3333|\n",
        "||4.18|4.00|-4.5|\n",
        "||3.00|3.00|0|\n",
        "||2.99|3.00|0.333333|\n",
        "||4.51|4.50|-0.22222|\n",
        "||5.18|4.00|-29.5|\n",
        "||8.18|4.50|-81.7778|\n",
        "|**Total**|||**-127**|\n",
        "\n",
        "\n",
        "\n",
        "<br />\n",
        "\n",
        "$\n",
        "MPE = \\frac{-127}{7} = -18.14\n",
        "$\n",
        "\n",
        "\n",
        "<br />\n",
        "\n",
        "\n",
        "## Mean Absolute Percentage Error (MAPE)\n",
        "\n",
        "- Independente da escala (%).\n",
        "- É a diferença absoluta percentual do erro.\n",
        "\n",
        "$\n",
        "MAPE = \\frac {100\\%}{n}{\\sum_{t=1}^n} \\left| \\frac {At - Ft}{At} \\right|\n",
        "$\n",
        "\n",
        "<br />\n",
        "\n",
        "||Previsto|Realizado|Erro Absoluto (%)|\n",
        "|-||||\n",
        "||3.34|3.00| 0.113333|\n",
        "||4.18|4.00|0.045|\n",
        "||3.00|3.00|0|\n",
        "||2.99|3.00|0.00333333|\n",
        "||4.51|4.50|0.0022222|\n",
        "||5.18|4.00|0.295|\n",
        "||8.18|4.50|0.817778|\n",
        "|**Total**|||**1.2766667**|\n",
        "\n",
        "\n",
        "\n",
        "<br />\n",
        "\n",
        "$\n",
        "MAPE = \\frac {1.2766667}{7}\n",
        "$\n",
        "\n",
        "<br />\n",
        "\n",
        "$\n",
        "MAPE = 0.18\n",
        "$\n",
        "\n"
      ]
    },
    {
      "cell_type": "markdown",
      "metadata": {
        "id": "YPzZBS1irsiD"
      },
      "source": [
        "# Obrigado!\n",
        "\n",
        "Obrigado por ter disponibilizado um pouco do seu tempo e atenção aqui. Espero que, de alguma forma, tenha sido útil para seu crescimento. Se houver qualquer dúvida ou sugestão, não hesite em entrar em contato no [LinkedIn](https://www.linkedin.com/in/daniel-sousa-amador) e verificar meus outros projetos no [GitHub](https://github.com/amadords).\n",
        "\n",
        "\n",
        "[![LinkedIn](https://img.shields.io/badge/LinkedIn-DanielSousaAmador-cyan.svg)](https://www.linkedin.com/in/daniel-sousa-amador)\n",
        "[![GitHub](https://img.shields.io/badge/GitHub-amadords-darkblue.svg)](https://github.com/amadords)\n",
        "[![Medium](https://img.shields.io/badge/Medium-DanielSousaAmador-white.svg)](https://daniel-s-amador.medium.com/)\n",
        "\n",
        "<center><img width=\"90%\" src=\"https://raw.githubusercontent.com/danielamador12/Portfolio/master/github.png\"></center>"
      ]
    }
  ]
}