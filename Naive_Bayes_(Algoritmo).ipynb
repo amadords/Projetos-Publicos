{
  "nbformat": 4,
  "nbformat_minor": 0,
  "metadata": {
    "kernelspec": {
      "display_name": "Python 3",
      "language": "python",
      "name": "python3"
    },
    "language_info": {
      "codemirror_mode": {
        "name": "ipython",
        "version": 3
      },
      "file_extension": ".py",
      "mimetype": "text/x-python",
      "name": "python",
      "nbconvert_exporter": "python",
      "pygments_lexer": "ipython3",
      "version": "3.7.6"
    },
    "colab": {
      "name": "Naive Bayes (Algoritmo)",
      "provenance": [],
      "collapsed_sections": [
        "Ijl10br2wTrR",
        "rrVVGMVjwTrp",
        "V1Qqs9e9wTsK"
      ],
      "include_colab_link": true
    }
  },
  "cells": [
    {
      "cell_type": "markdown",
      "metadata": {
        "id": "view-in-github",
        "colab_type": "text"
      },
      "source": [
        "<a href=\"https://colab.research.google.com/github/amadords/Projetos-Publicos/blob/master/Naive_Bayes_(Algoritmo).ipynb\" target=\"_parent\"><img src=\"https://colab.research.google.com/assets/colab-badge.svg\" alt=\"Open In Colab\"/></a>"
      ]
    },
    {
      "cell_type": "markdown",
      "metadata": {
        "id": "0zcZhid3wTqE"
      },
      "source": [
        "# Análise de Sentimento com Naive Bayes\n",
        "---\n",
        "\n",
        "\n",
        "[![LinkedIn](https://img.shields.io/badge/LinkedIn-DanielSousaAmador-cyan.svg)](https://www.linkedin.com/in/daniel-sousa-amador)\n",
        "[![GitHub](https://img.shields.io/badge/GitHub-amadords-darkblue.svg)](https://github.com/amadords)\n",
        "[![Medium](https://img.shields.io/badge/Medium-DanielSousaAmador-white.svg)](https://daniel-s-amador.medium.com/)\n",
        "\n",
        "\n",
        "\n",
        "### Naive Bayes\n",
        "\n",
        "É um **classificador probabilístico** utilizando **aprendizado supervisionado** baseado no **Teorema de Bayes**.\n",
        "\n",
        "O *Naive Bayes* assume que há independência entre as features, por isso recebe o nome *naive*, ou seja, *ingênuo*, que possui **poucos parâmetros**, por isso sua **simplicidade** e **velocidade**.\n",
        "\n",
        "Só para deixar registrado o **Teorema de Bayes** é:\n",
        "\n",
        "$$\n",
        "P(A|B)=\\frac{P(B|A)*P(A)}{P(B)}\n",
        "$$\n",
        "\n",
        "Ou seja, a Probabilidade de A dado B é igual a Probabilidade de B dado A multiplicado por A. tudo isso sobre a Probabilidade de B.\n",
        "\n",
        "Exemplo de Naive Bayes para classificação de texto:\n",
        "* Sentença: *Eu **amo** meu cão, mas hoje ele está **terrível***!'\n",
        "* Por haver independência das features, essa sentença pode ser considerada positiva\n",
        "    * A **probabilidade de cada palavra é independente** das outras palavras\n",
        "    * Essa independência é **raramente encontrada em cenários reais**\n",
        "    * Se a palavra **amo** aparece mais vezes na base de dados em classificações positivas, pela *independência de features*, a probabilidade de ser positiva quando aparecer essa palavra é maior\n",
        "    \n",
        "* Veja os exemplos a seguir:\n",
        "1. Eu amo meu cachorro: Positivo\n",
        "2. O cachorro é mau em casa: Negativo\n",
        "3. O gato é amoroso: Positivo\n",
        "4. Eu odeio gatos e cachorros:Negativo\n",
        "\n",
        "Agora vejamos a tabela de frequência:\n",
        "\n",
        "$$Tabela$$\n",
        "\n",
        "|Palavra|Positivo|Negativo|\n",
        "|-|-|-|\n",
        "|Cachorro |2|1|\n",
        "|Amor|2 |-|\n",
        "|Mau|-|1|\n",
        "|Gato|1|1|\n",
        "|Casa|-|1|\n",
        "|**Total**|**5**|**4**|\n",
        "\n",
        "Quando aparecer a palavra **cachorro** na frase terá **66%** (2 em 3) de ser positivo se considerada somente ela.\n",
        "\n",
        "Quanto mais frequente a palavra em uma base de dados, mais importante é para o modelo.\n",
        "\n",
        "É possivel calcular a **probabilidade** de uma palavra pertencer a uma classe se temos sua distribuição.\n",
        "\n",
        "\n",
        "![sentimento](https://avante.biz/wp-content/uploads/Hugs-Wallpapers/Hugs-Wallpapers-048.jpg)\n",
        "\n",
        "\n",
        "### Naive Bayes Multinomial\n",
        "\n",
        "Como você pode ver [aqui](https://translate.google.com/translate?prev=_t&hl=en&ie=UTF-8&u=https://scikit-learn.org/stable/modules/naive_bayes.html&sl=auto&tl=en) há vários modelos que você pode utilizar. Aqui utilizaremos o **Multinomial**, mas vamos falar rapidamente sobre todos eles! O Naive Bayes é comumente utilizado em textos, mas não se restringe só a isso.\n",
        "\n",
        "a) **Multinomial**\n",
        "* Utiliza a frequência dos termos\n",
        "* Muito utilizado em tarefas de **classificação textual**\n",
        "b) **Bernoulli**\n",
        "* Variação do algoritmo para **valores binários**\n",
        "* Trabalha com a matriz de presença de valores.\n",
        "c) **Gaussian**\n",
        "* Variação do algoritmo para **valores continuos**\n",
        "* Calcula a média e o desvio padrão dos valores de entrada para cada classe\n",
        "* Assume que os valores estão em uma forma normal\n",
        "\n",
        "### Bag of Words\n",
        "\n",
        "**Bag of Words** é uma **modelagem** usada para pré-processar textos.\n",
        "\n",
        "Mapeia a quantidade de termos e suas frequências.\n",
        "\n",
        "É comum o *naive bayes* se sair bem junto a essa abordagem\n",
        "\n",
        "Principal desvantagem? **alta dimensionalidade**, pois para cada palavra tem-se uma feature.\n",
        "\n",
        "Exemplo:\n",
        "* Modelo: \"O cão está em casa?\"\n",
        "* Nova frase:    \"O gato e o cão passarão aqui em casa?\"\n",
        "* Representação   1   0  0 1  1     0       0   1   1\n",
        "    * Ou seja, fez a contagem da presença de cada palavra \n",
        "* A **frequência** é utilizada para treinar o **modelo**\n",
        "\n",
        "No *Bag of Word* **não** se utiliza a classificação positiva e negativa"
      ]
    },
    {
      "cell_type": "markdown",
      "metadata": {
        "id": "nyQgpvz2wTqH"
      },
      "source": [
        "## Checklist\n",
        "1. Definição do problema\n",
        "2. Carga de dados e visualização\n",
        "3. Pré-processamento e divisão dos dados\n",
        "4. Machine Learning\n",
        "5. Validação do modelo\n",
        "6. Fazendo Tuning"
      ]
    },
    {
      "cell_type": "markdown",
      "metadata": {
        "id": "SCurQT9iwTqI"
      },
      "source": [
        "# 1. Definição do problema\n",
        "\n",
        "Redes e Midias socias como Facebook, Instagram, Twitter etc. são fontes de dados imensas.\n",
        "\n",
        "É comum pessoas usarems esse locais para expor suas opiniões ou, muitas vezes, simplesmente desabafar algo felicidade ou até mesmo decepção. \n",
        "\n",
        "Neste caso em específico iremos utilizar uma base de dados do **twitter** com diversas opiniões sobre a ala **governamental de Minas Gerais**. Elas estão classificadas como **Positivo**, **Negativo** e **Neutro** e exatamente isso que faremos. Treinaremos nosso modelo para, ao fim, conseguir **classificar as frases** com essas classificações."
      ]
    },
    {
      "cell_type": "markdown",
      "metadata": {
        "id": "mNzJSqJ_wTqK"
      },
      "source": [
        "#  2. Carga de dados e visualização"
      ]
    },
    {
      "cell_type": "markdown",
      "metadata": {
        "id": "QSROBuxJwTqM"
      },
      "source": [
        "**Importações**"
      ]
    },
    {
      "cell_type": "code",
      "metadata": {
        "id": "Ns-8EdFdwTqN"
      },
      "source": [
        "import nltk\n",
        "import re\n",
        "import pandas as pd\n",
        "from sklearn.feature_extraction.text import CountVectorizer\n",
        "from sklearn.naive_bayes import MultinomialNB\n",
        "from sklearn import metrics\n",
        "from sklearn.model_selection import cross_val_predict"
      ],
      "execution_count": null,
      "outputs": []
    },
    {
      "cell_type": "markdown",
      "metadata": {
        "id": "l_f7fuAZwTqW"
      },
      "source": [
        "**Carga dos dados**"
      ]
    },
    {
      "cell_type": "code",
      "metadata": {
        "id": "cPoVS0_lwTqX"
      },
      "source": [
        "dataset=pd.read_csv('/home/amador/dados/Tweets_Mg.csv',encoding='utf-8')"
      ],
      "execution_count": null,
      "outputs": []
    },
    {
      "cell_type": "markdown",
      "metadata": {
        "id": "bLIgANfGwTqd"
      },
      "source": [
        "**Visualizando os primeiros dados**"
      ]
    },
    {
      "cell_type": "code",
      "metadata": {
        "id": "0_D54U6BwTqe",
        "outputId": "81f01406-260b-4658-d8f5-b59edf29984f"
      },
      "source": [
        "dataset.head()"
      ],
      "execution_count": null,
      "outputs": [
        {
          "output_type": "execute_result",
          "data": {
            "text/html": [
              "<div>\n",
              "<style scoped>\n",
              "    .dataframe tbody tr th:only-of-type {\n",
              "        vertical-align: middle;\n",
              "    }\n",
              "\n",
              "    .dataframe tbody tr th {\n",
              "        vertical-align: top;\n",
              "    }\n",
              "\n",
              "    .dataframe thead th {\n",
              "        text-align: right;\n",
              "    }\n",
              "</style>\n",
              "<table border=\"1\" class=\"dataframe\">\n",
              "  <thead>\n",
              "    <tr style=\"text-align: right;\">\n",
              "      <th></th>\n",
              "      <th>Unnamed: 0</th>\n",
              "      <th>Created At</th>\n",
              "      <th>Text</th>\n",
              "      <th>Geo Coordinates.latitude</th>\n",
              "      <th>Geo Coordinates.longitude</th>\n",
              "      <th>User Location</th>\n",
              "      <th>Username</th>\n",
              "      <th>User Screen Name</th>\n",
              "      <th>Retweet Count</th>\n",
              "      <th>Classificacao</th>\n",
              "      <th>...</th>\n",
              "      <th>Unnamed: 15</th>\n",
              "      <th>Unnamed: 16</th>\n",
              "      <th>Unnamed: 17</th>\n",
              "      <th>Unnamed: 18</th>\n",
              "      <th>Unnamed: 19</th>\n",
              "      <th>Unnamed: 20</th>\n",
              "      <th>Unnamed: 21</th>\n",
              "      <th>Unnamed: 22</th>\n",
              "      <th>Unnamed: 23</th>\n",
              "      <th>Unnamed: 24</th>\n",
              "    </tr>\n",
              "  </thead>\n",
              "  <tbody>\n",
              "    <tr>\n",
              "      <th>0</th>\n",
              "      <td>0</td>\n",
              "      <td>Sun Jan 08 01:22:05 +0000 2017</td>\n",
              "      <td>���⛪ @ Catedral de Santo Antônio - Governador ...</td>\n",
              "      <td>NaN</td>\n",
              "      <td>NaN</td>\n",
              "      <td>Brasil</td>\n",
              "      <td>Leonardo C Schneider</td>\n",
              "      <td>LeoCSchneider</td>\n",
              "      <td>0</td>\n",
              "      <td>Neutro</td>\n",
              "      <td>...</td>\n",
              "      <td>NaN</td>\n",
              "      <td>NaN</td>\n",
              "      <td>NaN</td>\n",
              "      <td>NaN</td>\n",
              "      <td>NaN</td>\n",
              "      <td>NaN</td>\n",
              "      <td>NaN</td>\n",
              "      <td>NaN</td>\n",
              "      <td>NaN</td>\n",
              "      <td>NaN</td>\n",
              "    </tr>\n",
              "    <tr>\n",
              "      <th>1</th>\n",
              "      <td>1</td>\n",
              "      <td>Sun Jan 08 01:49:01 +0000 2017</td>\n",
              "      <td>� @ Governador Valadares, Minas Gerais https:/...</td>\n",
              "      <td>-41.9333</td>\n",
              "      <td>-18.85</td>\n",
              "      <td>NaN</td>\n",
              "      <td>Wândell</td>\n",
              "      <td>klefnews</td>\n",
              "      <td>0</td>\n",
              "      <td>Neutro</td>\n",
              "      <td>...</td>\n",
              "      <td>NaN</td>\n",
              "      <td>NaN</td>\n",
              "      <td>NaN</td>\n",
              "      <td>NaN</td>\n",
              "      <td>NaN</td>\n",
              "      <td>NaN</td>\n",
              "      <td>NaN</td>\n",
              "      <td>NaN</td>\n",
              "      <td>NaN</td>\n",
              "      <td>NaN</td>\n",
              "    </tr>\n",
              "    <tr>\n",
              "      <th>2</th>\n",
              "      <td>2</td>\n",
              "      <td>Sun Jan 08 01:01:46 +0000 2017</td>\n",
              "      <td>�� @ Governador Valadares, Minas Gerais https:...</td>\n",
              "      <td>-41.9333</td>\n",
              "      <td>-18.85</td>\n",
              "      <td>NaN</td>\n",
              "      <td>Wândell</td>\n",
              "      <td>klefnews</td>\n",
              "      <td>0</td>\n",
              "      <td>Neutro</td>\n",
              "      <td>...</td>\n",
              "      <td>NaN</td>\n",
              "      <td>NaN</td>\n",
              "      <td>NaN</td>\n",
              "      <td>NaN</td>\n",
              "      <td>NaN</td>\n",
              "      <td>NaN</td>\n",
              "      <td>NaN</td>\n",
              "      <td>NaN</td>\n",
              "      <td>NaN</td>\n",
              "      <td>NaN</td>\n",
              "    </tr>\n",
              "    <tr>\n",
              "      <th>3</th>\n",
              "      <td>3</td>\n",
              "      <td>Wed Jan 04 21:43:51 +0000 2017</td>\n",
              "      <td>��� https://t.co/BnDsO34qK0</td>\n",
              "      <td>NaN</td>\n",
              "      <td>NaN</td>\n",
              "      <td>NaN</td>\n",
              "      <td>Ana estudando</td>\n",
              "      <td>estudandoconcur</td>\n",
              "      <td>0</td>\n",
              "      <td>Neutro</td>\n",
              "      <td>...</td>\n",
              "      <td>NaN</td>\n",
              "      <td>NaN</td>\n",
              "      <td>NaN</td>\n",
              "      <td>NaN</td>\n",
              "      <td>NaN</td>\n",
              "      <td>NaN</td>\n",
              "      <td>NaN</td>\n",
              "      <td>NaN</td>\n",
              "      <td>NaN</td>\n",
              "      <td>NaN</td>\n",
              "    </tr>\n",
              "    <tr>\n",
              "      <th>4</th>\n",
              "      <td>4</td>\n",
              "      <td>Mon Jan 09 15:08:21 +0000 2017</td>\n",
              "      <td>��� PSOL vai questionar aumento de vereadores ...</td>\n",
              "      <td>NaN</td>\n",
              "      <td>NaN</td>\n",
              "      <td>NaN</td>\n",
              "      <td>Emily</td>\n",
              "      <td>Milly777</td>\n",
              "      <td>0</td>\n",
              "      <td>Negativo</td>\n",
              "      <td>...</td>\n",
              "      <td>NaN</td>\n",
              "      <td>NaN</td>\n",
              "      <td>NaN</td>\n",
              "      <td>NaN</td>\n",
              "      <td>NaN</td>\n",
              "      <td>NaN</td>\n",
              "      <td>NaN</td>\n",
              "      <td>NaN</td>\n",
              "      <td>NaN</td>\n",
              "      <td>NaN</td>\n",
              "    </tr>\n",
              "  </tbody>\n",
              "</table>\n",
              "<p>5 rows × 26 columns</p>\n",
              "</div>"
            ],
            "text/plain": [
              "   Unnamed: 0                      Created At  \\\n",
              "0           0  Sun Jan 08 01:22:05 +0000 2017   \n",
              "1           1  Sun Jan 08 01:49:01 +0000 2017   \n",
              "2           2  Sun Jan 08 01:01:46 +0000 2017   \n",
              "3           3  Wed Jan 04 21:43:51 +0000 2017   \n",
              "4           4  Mon Jan 09 15:08:21 +0000 2017   \n",
              "\n",
              "                                                Text  \\\n",
              "0  ���⛪ @ Catedral de Santo Antônio - Governador ...   \n",
              "1  � @ Governador Valadares, Minas Gerais https:/...   \n",
              "2  �� @ Governador Valadares, Minas Gerais https:...   \n",
              "3                        ��� https://t.co/BnDsO34qK0   \n",
              "4  ��� PSOL vai questionar aumento de vereadores ...   \n",
              "\n",
              "   Geo Coordinates.latitude  Geo Coordinates.longitude User Location  \\\n",
              "0                       NaN                        NaN        Brasil   \n",
              "1                  -41.9333                     -18.85           NaN   \n",
              "2                  -41.9333                     -18.85           NaN   \n",
              "3                       NaN                        NaN           NaN   \n",
              "4                       NaN                        NaN           NaN   \n",
              "\n",
              "               Username User Screen Name  Retweet Count Classificacao  ...  \\\n",
              "0  Leonardo C Schneider    LeoCSchneider              0        Neutro  ...   \n",
              "1               Wândell         klefnews              0        Neutro  ...   \n",
              "2               Wândell         klefnews              0        Neutro  ...   \n",
              "3         Ana estudando  estudandoconcur              0        Neutro  ...   \n",
              "4                 Emily         Milly777              0      Negativo  ...   \n",
              "\n",
              "  Unnamed: 15  Unnamed: 16  Unnamed: 17  Unnamed: 18  Unnamed: 19  \\\n",
              "0         NaN          NaN          NaN          NaN          NaN   \n",
              "1         NaN          NaN          NaN          NaN          NaN   \n",
              "2         NaN          NaN          NaN          NaN          NaN   \n",
              "3         NaN          NaN          NaN          NaN          NaN   \n",
              "4         NaN          NaN          NaN          NaN          NaN   \n",
              "\n",
              "   Unnamed: 20  Unnamed: 21  Unnamed: 22  Unnamed: 23  Unnamed: 24  \n",
              "0          NaN          NaN          NaN          NaN          NaN  \n",
              "1          NaN          NaN          NaN          NaN          NaN  \n",
              "2          NaN          NaN          NaN          NaN          NaN  \n",
              "3          NaN          NaN          NaN          NaN          NaN  \n",
              "4          NaN          NaN          NaN          NaN          NaN  \n",
              "\n",
              "[5 rows x 26 columns]"
            ]
          },
          "metadata": {
            "tags": []
          },
          "execution_count": 3
        }
      ]
    },
    {
      "cell_type": "markdown",
      "metadata": {
        "id": "zb0moa-YwTqk"
      },
      "source": [
        "**Vamos visualizar os tipos dos dados**"
      ]
    },
    {
      "cell_type": "code",
      "metadata": {
        "id": "pFRlgUFlwTqm",
        "outputId": "3baca78f-2968-456a-af45-03cdca5767b4"
      },
      "source": [
        "dataset.info()"
      ],
      "execution_count": null,
      "outputs": [
        {
          "output_type": "stream",
          "text": [
            "<class 'pandas.core.frame.DataFrame'>\n",
            "RangeIndex: 8199 entries, 0 to 8198\n",
            "Data columns (total 26 columns):\n",
            " #   Column                     Non-Null Count  Dtype  \n",
            "---  ------                     --------------  -----  \n",
            " 0   Unnamed: 0                 8199 non-null   int64  \n",
            " 1   Created At                 8199 non-null   object \n",
            " 2   Text                       8199 non-null   object \n",
            " 3   Geo Coordinates.latitude   104 non-null    float64\n",
            " 4   Geo Coordinates.longitude  104 non-null    float64\n",
            " 5   User Location              5489 non-null   object \n",
            " 6   Username                   8199 non-null   object \n",
            " 7   User Screen Name           8199 non-null   object \n",
            " 8   Retweet Count              8199 non-null   int64  \n",
            " 9   Classificacao              8199 non-null   object \n",
            " 10  Observação                 1 non-null      object \n",
            " 11  Unnamed: 10                0 non-null      float64\n",
            " 12  Unnamed: 11                0 non-null      float64\n",
            " 13  Unnamed: 12                0 non-null      float64\n",
            " 14  Unnamed: 13                0 non-null      float64\n",
            " 15  Unnamed: 14                0 non-null      float64\n",
            " 16  Unnamed: 15                0 non-null      float64\n",
            " 17  Unnamed: 16                0 non-null      float64\n",
            " 18  Unnamed: 17                0 non-null      float64\n",
            " 19  Unnamed: 18                0 non-null      float64\n",
            " 20  Unnamed: 19                0 non-null      float64\n",
            " 21  Unnamed: 20                0 non-null      float64\n",
            " 22  Unnamed: 21                0 non-null      float64\n",
            " 23  Unnamed: 22                0 non-null      float64\n",
            " 24  Unnamed: 23                0 non-null      float64\n",
            " 25  Unnamed: 24                0 non-null      float64\n",
            "dtypes: float64(17), int64(2), object(7)\n",
            "memory usage: 1.6+ MB\n"
          ],
          "name": "stdout"
        }
      ]
    },
    {
      "cell_type": "markdown",
      "metadata": {
        "id": "odf30vQFwTqr"
      },
      "source": [
        "**Expandindo o tamanho da exibição de coluna de texto**\n",
        "\n",
        "Quando visualizamos inicialmente, vimos que o próprio pandas \"trunca\" a visualização dos dados, porém vamos expandir a visualização da coluna **Text** para *melhorar a visualização*."
      ]
    },
    {
      "cell_type": "code",
      "metadata": {
        "id": "QvAmuKINwTqs",
        "outputId": "f516192a-473c-400b-b5b5-fcdf57a30b6e"
      },
      "source": [
        "pd.set_option('display.max_colwidth', 1)\n",
        "dataset.Text.head(100)"
      ],
      "execution_count": null,
      "outputs": [
        {
          "output_type": "execute_result",
          "data": {
            "text/plain": [
              "0     ���⛪ @ Catedral de Santo Antônio - Governador Valadares/MG https://t.co/JSbKamIqUJ                                                         \n",
              "1     � @ Governador Valadares, Minas Gerais https://t.co/B3ThIDJCSf                                                                             \n",
              "2     �� @ Governador Valadares, Minas Gerais https://t.co/dPkgzVR2Qw                                                                            \n",
              "3     ��� https://t.co/BnDsO34qK0                                                                                                                \n",
              "4     ��� PSOL vai questionar aumento de vereadores e prefeito de BH na Justiça - Politica - Estado de Minas https://t.co/DMg7BGsek5             \n",
              "                                                                   ...                                                                           \n",
              "95    #noticiasdorenan Uso de depósitos judiciais pelo governo tem nova polêmica em MG: O Banco… https://t.co/kHuZpKQaj5                         \n",
              "96    #OperacaoBetaLab #TimBeta #Beta #BetaLab #BetaAjudaBeta #BetaSegueBeta UOL: Desastre ambiental em MG: Empresas ped… https://t.co/kwyeKjhtcI\n",
              "97    #OperacaoBetaLab #TimBeta #Beta #BetaLab #BetaAjudaBeta #BetaSegueBeta UOL: Governo em calamidade financeira: BB a… https://t.co/1rWaHUACqt\n",
              "98    #OperacaoBetaLab #TimBeta #Beta #BetaLab #BetaAjudaBeta #BetaSegueBeta UOL: Polêmica com filho de Pimentel: Govern… https://t.co/E1EhSA9Ti3\n",
              "99    #operacaobetalab BB avisa Justiça que governo de MG não tem recursos em conta judicial https://t.co/W6AoFMMsvA #rt #sdv                    \n",
              "Name: Text, Length: 100, dtype: object"
            ]
          },
          "metadata": {
            "tags": []
          },
          "execution_count": 5
        }
      ]
    },
    {
      "cell_type": "markdown",
      "metadata": {
        "id": "77J5zB-KwTqx"
      },
      "source": [
        "**Dropando linhas duplicadas com o parâmetro drop_duplicates**\n",
        "\n",
        "Por ser uma coleta de dados é comum alguns dados serem coletados mais de uma vez, então esse parâmetro irá apagar essas *duplicatas*."
      ]
    },
    {
      "cell_type": "code",
      "metadata": {
        "id": "LUTrTUn4wTqx"
      },
      "source": [
        "dataset.drop_duplicates(['Text'],inplace=True)"
      ],
      "execution_count": null,
      "outputs": []
    },
    {
      "cell_type": "markdown",
      "metadata": {
        "id": "xLfCBMCdwTq2"
      },
      "source": [
        "**Visualizando a contagem**\n",
        "\n",
        "Veja que a base desceu de **8199** para **5765**. Quantas duplicatas, hein?!"
      ]
    },
    {
      "cell_type": "code",
      "metadata": {
        "id": "aLwSyV0swTq2",
        "outputId": "4d688d04-9de9-41f8-d1ac-374e3927756c"
      },
      "source": [
        "dataset.count()"
      ],
      "execution_count": null,
      "outputs": [
        {
          "output_type": "execute_result",
          "data": {
            "text/plain": [
              "Unnamed: 0                   5765\n",
              "Created At                   5765\n",
              "Text                         5765\n",
              "Geo Coordinates.latitude     104 \n",
              "Geo Coordinates.longitude    104 \n",
              "User Location                3851\n",
              "Username                     5765\n",
              "User Screen Name             5765\n",
              "Retweet Count                5765\n",
              "Classificacao                5765\n",
              "Observação                   1   \n",
              "Unnamed: 10                  0   \n",
              "Unnamed: 11                  0   \n",
              "Unnamed: 12                  0   \n",
              "Unnamed: 13                  0   \n",
              "Unnamed: 14                  0   \n",
              "Unnamed: 15                  0   \n",
              "Unnamed: 16                  0   \n",
              "Unnamed: 17                  0   \n",
              "Unnamed: 18                  0   \n",
              "Unnamed: 19                  0   \n",
              "Unnamed: 20                  0   \n",
              "Unnamed: 21                  0   \n",
              "Unnamed: 22                  0   \n",
              "Unnamed: 23                  0   \n",
              "Unnamed: 24                  0   \n",
              "dtype: int64"
            ]
          },
          "metadata": {
            "tags": []
          },
          "execution_count": 7
        }
      ]
    },
    {
      "cell_type": "markdown",
      "metadata": {
        "id": "KVaSzlLVwTq8"
      },
      "source": [
        "**Criando função para remover colunas**\n",
        "\n",
        "Veja que temos várias colunas *Unnamed*, para dropar uma por uma daria muito trabalho, então vamos criar uma função que irá fazer isso."
      ]
    },
    {
      "cell_type": "code",
      "metadata": {
        "id": "liW2vtG0wTq9",
        "outputId": "24d6bc3e-6434-42e6-b191-53c11b283f26"
      },
      "source": [
        "for i in dataset.columns.values: # dataset.columns.values retorna o nome de cada coluna\n",
        "    if i.startswith('Unnamed'):# método startswith retornará True se a sequência começar com o valor especificado, caso contrário, False.\n",
        "        dataset.drop(i, axis=1, inplace=True)\n",
        "        print ('Coluna Deletada:', i)"
      ],
      "execution_count": null,
      "outputs": [
        {
          "output_type": "stream",
          "text": [
            "Coluna Deletada: Unnamed: 0\n",
            "Coluna Deletada: Unnamed: 10\n",
            "Coluna Deletada: Unnamed: 11\n",
            "Coluna Deletada: Unnamed: 12\n",
            "Coluna Deletada: Unnamed: 13\n",
            "Coluna Deletada: Unnamed: 14\n",
            "Coluna Deletada: Unnamed: 15\n",
            "Coluna Deletada: Unnamed: 16\n",
            "Coluna Deletada: Unnamed: 17\n",
            "Coluna Deletada: Unnamed: 18\n",
            "Coluna Deletada: Unnamed: 19\n",
            "Coluna Deletada: Unnamed: 20\n",
            "Coluna Deletada: Unnamed: 21\n",
            "Coluna Deletada: Unnamed: 22\n",
            "Coluna Deletada: Unnamed: 23\n",
            "Coluna Deletada: Unnamed: 24\n"
          ],
          "name": "stdout"
        }
      ]
    },
    {
      "cell_type": "markdown",
      "metadata": {
        "id": "Vns-Lt2HwTrB"
      },
      "source": [
        "**Colunas já limpas**"
      ]
    },
    {
      "cell_type": "code",
      "metadata": {
        "id": "udgDWTb8wTrC",
        "outputId": "a475ea2a-63dc-4993-85ff-2e1762c067e8"
      },
      "source": [
        "dataset.columns"
      ],
      "execution_count": null,
      "outputs": [
        {
          "output_type": "execute_result",
          "data": {
            "text/plain": [
              "Index(['Created At', 'Text', 'Geo Coordinates.latitude',\n",
              "       'Geo Coordinates.longitude', 'User Location', 'Username',\n",
              "       'User Screen Name', 'Retweet Count', 'Classificacao', 'Observação'],\n",
              "      dtype='object')"
            ]
          },
          "metadata": {
            "tags": []
          },
          "execution_count": 9
        }
      ]
    },
    {
      "cell_type": "markdown",
      "metadata": {
        "id": "MfEVwPe_wTrH"
      },
      "source": [
        "**Vamos visualizar a distribuição da tabela**\n",
        "\n",
        "Veja que Negativo está em torno da metade do Neutro e chega perto de ser um terço das classificações positivas."
      ]
    },
    {
      "cell_type": "code",
      "metadata": {
        "id": "TJ5GClUgwTrI",
        "outputId": "7dfe8c38-f34a-428f-b789-40b7e2e545c4"
      },
      "source": [
        "dataset.Classificacao.value_counts()"
      ],
      "execution_count": null,
      "outputs": [
        {
          "output_type": "execute_result",
          "data": {
            "text/plain": [
              "Positivo    2840\n",
              "Neutro      1974\n",
              "Negativo    951 \n",
              "Name: Classificacao, dtype: int64"
            ]
          },
          "metadata": {
            "tags": []
          },
          "execution_count": 10
        }
      ]
    },
    {
      "cell_type": "code",
      "metadata": {
        "id": "heq84bfHwTrO",
        "outputId": "4f3ed0f8-3f6b-40d9-c606-a74f3edca957"
      },
      "source": [
        "# distribuição das classes\n",
        "%matplotlib inline\n",
        "dataset.Classificacao.value_counts().plot(kind='bar');"
      ],
      "execution_count": null,
      "outputs": [
        {
          "output_type": "display_data",
          "data": {
            "image/png": "[encoded data removed]",
            "text/plain": [
              "<Figure size 432x288 with 1 Axes>"
            ]
          },
          "metadata": {
            "tags": [],
            "needs_background": "light"
          }
        }
      ]
    },
    {
      "cell_type": "markdown",
      "metadata": {
        "id": "Ijl10br2wTrR"
      },
      "source": [
        "# 3. Pré-processamento e divisão dos dados"
      ]
    },
    {
      "cell_type": "markdown",
      "metadata": {
        "id": "gTpNll9AwTrS"
      },
      "source": [
        "**Separando tweets de classes**"
      ]
    },
    {
      "cell_type": "code",
      "metadata": {
        "id": "TJ0VP9hpwTrT"
      },
      "source": [
        "tweets = dataset['Text']\n",
        "classes = dataset['Classificacao']"
      ],
      "execution_count": null,
      "outputs": []
    },
    {
      "cell_type": "markdown",
      "metadata": {
        "id": "IUU6xposwTrX"
      },
      "source": [
        "**Gerando o modelo**\n",
        "\n",
        "*CountVectorizer* converte uma coleção de documentos de texto em uma matriz de contagens de tokens.\n",
        "\n",
        "O *analyzer=\"word\"* é para analisar palavra por palavra."
      ]
    },
    {
      "cell_type": "code",
      "metadata": {
        "id": "G9v-oMtGwTrY"
      },
      "source": [
        "# gerando o modelo, vetorizando binariamente os dados\n",
        "vectorizer = CountVectorizer(analyzer=\"word\") # instanciando o método\n",
        "freq_tweets = vectorizer.fit_transform(tweets) # transformando os dados"
      ],
      "execution_count": null,
      "outputs": []
    },
    {
      "cell_type": "markdown",
      "metadata": {
        "id": "iBkipQn2wTrc"
      },
      "source": [
        "**Visualizando o tipo dos dados transformados**"
      ]
    },
    {
      "cell_type": "code",
      "metadata": {
        "id": "DpmSaNg7wTrc",
        "outputId": "db402878-9847-4f37-f50e-d7a245718260"
      },
      "source": [
        "type(freq_tweets)"
      ],
      "execution_count": null,
      "outputs": [
        {
          "output_type": "execute_result",
          "data": {
            "text/plain": [
              "scipy.sparse.csr.csr_matrix"
            ]
          },
          "metadata": {
            "tags": []
          },
          "execution_count": 14
        }
      ]
    },
    {
      "cell_type": "markdown",
      "metadata": {
        "id": "1mRAjFVrwTrh"
      },
      "source": [
        "**Forma ou tamanho da matriz (linhas x colunas)**\n",
        "\n",
        "Lembra que falei que a desvantagem é a *alta dimensionalidade*? pois é, temos agora *13029* features. "
      ]
    },
    {
      "cell_type": "code",
      "metadata": {
        "id": "2nTEsMjQwTrh",
        "outputId": "723fb1bf-0879-4cec-c70b-8118ec656c70"
      },
      "source": [
        "freq_tweets.shape"
      ],
      "execution_count": null,
      "outputs": [
        {
          "output_type": "execute_result",
          "data": {
            "text/plain": [
              "(5765, 13029)"
            ]
          },
          "metadata": {
            "tags": []
          },
          "execution_count": 15
        }
      ]
    },
    {
      "cell_type": "markdown",
      "metadata": {
        "id": "HQVhBdhQwTrm"
      },
      "source": [
        "**Imprimindo valores da matriz esparsa**\n",
        "\n",
        "Como disse ao falar sobre as *bag of words*, uma matriz presença é criada. Na matriz abaixo só conseguimos visualizar números 0, por as features representadas aqui não terem presença naquelas colunas."
      ]
    },
    {
      "cell_type": "code",
      "metadata": {
        "id": "iNV1TEd6wTrm",
        "outputId": "814278d2-019e-425a-988a-c13a4e6f2f40"
      },
      "source": [
        "freq_tweets.A"
      ],
      "execution_count": null,
      "outputs": [
        {
          "output_type": "execute_result",
          "data": {
            "text/plain": [
              "array([[0, 0, 0, ..., 0, 0, 0],\n",
              "       [0, 0, 0, ..., 0, 0, 0],\n",
              "       [0, 0, 0, ..., 0, 0, 0],\n",
              "       ...,\n",
              "       [0, 0, 0, ..., 0, 0, 0],\n",
              "       [0, 0, 0, ..., 0, 0, 0],\n",
              "       [0, 0, 0, ..., 0, 0, 0]])"
            ]
          },
          "metadata": {
            "tags": []
          },
          "execution_count": 16
        }
      ]
    },
    {
      "cell_type": "markdown",
      "metadata": {
        "id": "rrVVGMVjwTrp"
      },
      "source": [
        "# 4. Machine Learning"
      ]
    },
    {
      "cell_type": "markdown",
      "metadata": {
        "id": "qGoQpzLlwTrt"
      },
      "source": [
        "**Criando e treinando o modelo**"
      ]
    },
    {
      "cell_type": "code",
      "metadata": {
        "id": "i1x8mzsCwTru",
        "outputId": "a277a49b-3a9b-4e10-d0f2-8df5e5d96e44"
      },
      "source": [
        "# criando o modelo com naive bayes multinomial\n",
        "modelo=MultinomialNB()\n",
        "# treinando o modelo\n",
        "modelo.fit(freq_tweets,classes)"
      ],
      "execution_count": null,
      "outputs": [
        {
          "output_type": "execute_result",
          "data": {
            "text/plain": [
              "MultinomialNB()"
            ]
          },
          "metadata": {
            "tags": []
          },
          "execution_count": 17
        }
      ]
    },
    {
      "cell_type": "markdown",
      "metadata": {
        "id": "kr0z7pqtwTrx"
      },
      "source": [
        "**Criando novas instâncias**"
      ]
    },
    {
      "cell_type": "code",
      "metadata": {
        "id": "Kg6G77ROwTry"
      },
      "source": [
        "# testando com algumas instãncias\n",
        "testes = ['Esse governo está no início, vamos ver o que vai dar',\n",
        "          'Estou muito feliz com o governo de Minas esse ano',\n",
        "          'O estado de Minas Gerais decretou calamidade financeira!!!',\n",
        "          'A segurança desse país está deixando a desejar',\n",
        "          'O governador de Minas é mais uma vez do PT']"
      ],
      "execution_count": null,
      "outputs": []
    },
    {
      "cell_type": "markdown",
      "metadata": {
        "id": "O0l_oRjcwTr1"
      },
      "source": [
        "**Vetorizando as instâncias com o objeto vectorizer**\n",
        "\n",
        "Lembre que para testar novas palavras, elas têm que ter passado pelos mesmos *procedimentos* que a base de dados que serviu para treinar o algoritmo.\n",
        "\n",
        "Observe que aqui é *vectorizer.transform* e **não** *vectorizer.fit.transform*, pois o modelo já foi treinado e, agora está só fazendo a transformação."
      ]
    },
    {
      "cell_type": "code",
      "metadata": {
        "id": "1XU6LB2KwTr2"
      },
      "source": [
        "# transformando os dados de teste em vetores de palavras\n",
        "freq_testes=vectorizer.transform(testes)"
      ],
      "execution_count": null,
      "outputs": []
    },
    {
      "cell_type": "markdown",
      "metadata": {
        "id": "XqBAfKw6wTr6"
      },
      "source": [
        "**Fazendo a classificação com o modelo**\n",
        "\n",
        "Somente *modelo.predict(freq_testes)* retornaria uma lista com as classificações, então vamos concatenar as frases com as classificações para melhorar a visualização."
      ]
    },
    {
      "cell_type": "code",
      "metadata": {
        "id": "LDIkALLxwTr6",
        "outputId": "34cd31cf-4943-4e28-e2a6-b8f4e284e46c"
      },
      "source": [
        "for t, c in zip (testes,modelo.predict(freq_testes)):\n",
        "    print (t +\", \"+ c)"
      ],
      "execution_count": null,
      "outputs": [
        {
          "output_type": "stream",
          "text": [
            "Esse governo está no início, vamos ver o que vai dar, Neutro\n",
            "Estou muito feliz com o governo de Minas esse ano, Neutro\n",
            "O estado de Minas Gerais decretou calamidade financeira!!!, Negativo\n",
            "A segurança desse país está deixando a desejar, Neutro\n",
            "O governador de Minas é mais uma vez do PT, Neutro\n"
          ],
          "name": "stdout"
        }
      ]
    },
    {
      "cell_type": "markdown",
      "metadata": {
        "id": "3rSPQmxywTr9"
      },
      "source": [
        "**Quer saber as probabilidades de cada classe?**\n",
        "\n",
        "Veja que, enquanto o modelo deu 82% da *primeira frase* ser 'Neutro' e 18% de ser 'Positivo', na *terceira frase* ele já nos deu 99% de ser 'Positivo'! É importante frisar que, em nenhum foi dado 100%, parece que nosso algoritmo não quis ser soberbo. Que bom! "
      ]
    },
    {
      "cell_type": "code",
      "metadata": {
        "id": "XCkv15TrwTr-",
        "outputId": "89d8e2ac-809b-4db9-ed99-d528c9395bd3"
      },
      "source": [
        "print (modelo.classes_)\n",
        "modelo.predict_proba(freq_testes).round(2) # round(2) para arredondar para dois valores após a virgula"
      ],
      "execution_count": null,
      "outputs": [
        {
          "output_type": "stream",
          "text": [
            "['Negativo' 'Neutro' 'Positivo']\n"
          ],
          "name": "stdout"
        },
        {
          "output_type": "execute_result",
          "data": {
            "text/plain": [
              "array([[0.18, 0.82, 0.  ],\n",
              "       [0.02, 0.98, 0.  ],\n",
              "       [0.99, 0.01, 0.  ],\n",
              "       [0.1 , 0.89, 0.01],\n",
              "       [0.15, 0.85, 0.  ]])"
            ]
          },
          "metadata": {
            "tags": []
          },
          "execution_count": 21
        }
      ]
    },
    {
      "cell_type": "markdown",
      "metadata": {
        "id": "V1Qqs9e9wTsK"
      },
      "source": [
        "# 5. Validação do modelo\n",
        "\n",
        "Já falamos sobre as *métricas de validação* [aqui](https://bit.ly/2Siq0YU), então vamos somente visualizar agora!"
      ]
    },
    {
      "cell_type": "markdown",
      "metadata": {
        "id": "Cu_wS7TqwTsL"
      },
      "source": [
        "**Cross validation**\n",
        "\n",
        "Retorna o resultado médio entre as validações."
      ]
    },
    {
      "cell_type": "code",
      "metadata": {
        "id": "Z29HwQrdwTsM",
        "outputId": "62a15b97-6756-4144-8304-70abb2ba7433"
      },
      "source": [
        "# classificador, features, classes, nº de folds\n",
        "resultados=cross_val_predict(modelo,freq_tweets,classes,cv=10)\n",
        "resultados"
      ],
      "execution_count": null,
      "outputs": [
        {
          "output_type": "execute_result",
          "data": {
            "text/plain": [
              "array(['Neutro', 'Neutro', 'Neutro', ..., 'Positivo', 'Positivo',\n",
              "       'Positivo'], dtype='<U8')"
            ]
          },
          "metadata": {
            "tags": []
          },
          "execution_count": 22
        }
      ]
    },
    {
      "cell_type": "markdown",
      "metadata": {
        "id": "PEDVuNvawTsP"
      },
      "source": [
        "**Matriz de confusão**\n",
        "\n",
        "margins=True é para exibir o *All*."
      ]
    },
    {
      "cell_type": "code",
      "metadata": {
        "id": "VRbprqdowTsP",
        "outputId": "a727d5f1-6aab-4a4c-9555-2a5d0afbce96"
      },
      "source": [
        "print(pd.crosstab(classes,resultados,rownames=['Real'],colnames=['Predito'],margins=True))"
      ],
      "execution_count": null,
      "outputs": [
        {
          "output_type": "stream",
          "text": [
            "Predito   Negativo  Neutro  Positivo   All\n",
            "Real                                      \n",
            "Negativo  846       100     5         951 \n",
            "Neutro    206       1656    112       1974\n",
            "Positivo  53        294     2493      2840\n",
            "All       1105      2050    2610      5765\n"
          ],
          "name": "stdout"
        }
      ]
    },
    {
      "cell_type": "markdown",
      "metadata": {
        "id": "MKUyewBbwTsT"
      },
      "source": [
        "**Abaixo plotei o gráfico das distribuições novamente**\n",
        "\n",
        "Mais abaixo explico o porquê."
      ]
    },
    {
      "cell_type": "code",
      "metadata": {
        "id": "rtamgu_kwTsT",
        "outputId": "2aee4b29-d69e-4046-99b7-c2b93c58bd9c"
      },
      "source": [
        "# distribuição das classes\n",
        "%matplotlib inline\n",
        "dataset.Classificacao.value_counts().plot(kind='bar');"
      ],
      "execution_count": null,
      "outputs": [
        {
          "output_type": "display_data",
          "data": {
            "image/png": "[encoded data removed]",
            "text/plain": [
              "<Figure size 432x288 with 1 Axes>"
            ]
          },
          "metadata": {
            "tags": [],
            "needs_background": "light"
          }
        }
      ]
    },
    {
      "cell_type": "markdown",
      "metadata": {
        "id": "OUwnpXc9wTsW"
      },
      "source": [
        "**Métricas**\n",
        "\n",
        "Nosso modelo até que se saiu bem, contudo é importante que você veja que se saiu bem melhor com as classificações positivas e, se pegarmos por base a *precision* (precisão) se saiu pior quando *Neutro* e ainda pior como *Negativo*. \n",
        "\n",
        "Um grande problema que se enfrenta em alguns casos é a de classes desbalanceadas, [aqui](https://bit.ly/3nj6EkW) falo melhor sobre isso e mostro métodos de como proceder. \n",
        "\n",
        "Mas, por ora, classes desbalanceadas são um problema pois é comum que o algoritmo aprenda melhor sobre a classe com mais exemplos e piore nas demais. \n",
        "\n",
        "É o nosso caso, não?! Lembre que há em grande disparidade exemplos da classe 'Positivo', logo o algoritmo se sai melhor com ela."
      ]
    },
    {
      "cell_type": "code",
      "metadata": {
        "id": "eLrT_aELwTsW",
        "outputId": "a7c00459-dabe-448e-ad5c-1c130d0ae18a"
      },
      "source": [
        "sentimento=['Positivo','Negativo','Neutro']\n",
        "# classes, cross val, nome das colunas (nesse caso, linhas)\n",
        "print (metrics.classification_report(classes,resultados,sentimento))"
      ],
      "execution_count": null,
      "outputs": [
        {
          "output_type": "stream",
          "text": [
            "              precision    recall  f1-score   support\n",
            "\n",
            "    Positivo       0.96      0.88      0.91      2840\n",
            "    Negativo       0.77      0.89      0.82       951\n",
            "      Neutro       0.81      0.84      0.82      1974\n",
            "\n",
            "    accuracy                           0.87      5765\n",
            "   macro avg       0.84      0.87      0.85      5765\n",
            "weighted avg       0.87      0.87      0.87      5765\n",
            "\n"
          ],
          "name": "stdout"
        },
        {
          "output_type": "stream",
          "text": [
            "/home/amador/anaconda3/lib/python3.7/site-packages/sklearn/utils/validation.py:71: FutureWarning: Pass labels=['Positivo', 'Negativo', 'Neutro'] as keyword args. From version 0.25 passing these as positional arguments will result in an error\n",
            "  FutureWarning)\n"
          ],
          "name": "stderr"
        }
      ]
    },
    {
      "cell_type": "markdown",
      "metadata": {
        "id": "WRymSTTuwTsa"
      },
      "source": [
        "# 6. Fazendo Tuning\n",
        "\n",
        "Fazer *tuning* é vital importância em seu projeto de *Data Science*!\n",
        "\n",
        "[Aqui](https://bit.ly/30mKZ1q) falo melhor sobre ele e dou mais um exemplo. \n",
        "\n",
        "Você deve saber que nem sempre o *Tuning* irá melhorar seu modelo, mas irá, no minimo, fazer com que sua consciência fique tranquila em relação a esgotar os parâmetros do algoritmo. "
      ]
    },
    {
      "cell_type": "markdown",
      "metadata": {
        "id": "LBehdjGYwTsa"
      },
      "source": [
        "**Importação do GridSearchCV**\n",
        "\n",
        "*GridSearchCV* é o modelo que usaremos para fazer o Tuning do modelo!"
      ]
    },
    {
      "cell_type": "code",
      "metadata": {
        "id": "agVLfnLqwTsa"
      },
      "source": [
        "from sklearn.model_selection import GridSearchCV"
      ],
      "execution_count": null,
      "outputs": []
    },
    {
      "cell_type": "markdown",
      "metadata": {
        "id": "k9bsW3vuwTsd"
      },
      "source": [
        "**Criando lista para o parâmetero alpha**\n",
        "\n",
        "*alpha* força o aumento do peso que o algoritmo vai dar para dados em que não há classe que o defina."
      ]
    },
    {
      "cell_type": "code",
      "metadata": {
        "id": "e6X_Es2fwTsd",
        "outputId": "d42a8f4d-cd14-40ac-d18a-cb7482e0f370"
      },
      "source": [
        "lista_alpha = list(range(1,11))\n",
        "lista_alpha"
      ],
      "execution_count": null,
      "outputs": [
        {
          "output_type": "execute_result",
          "data": {
            "text/plain": [
              "[1, 2, 3, 4, 5, 6, 7, 8, 9, 10]"
            ]
          },
          "metadata": {
            "tags": []
          },
          "execution_count": 27
        }
      ]
    },
    {
      "cell_type": "markdown",
      "metadata": {
        "id": "37h0W_qYwTsf"
      },
      "source": [
        "**Criando dicionário com o parâmetro**"
      ]
    },
    {
      "cell_type": "code",
      "metadata": {
        "id": "Ne4ffZRZwTsf"
      },
      "source": [
        "parametros_grid=dict(alpha=lista_alpha)"
      ],
      "execution_count": null,
      "outputs": []
    },
    {
      "cell_type": "markdown",
      "metadata": {
        "id": "Z-HQMxC4wTsk"
      },
      "source": [
        "**Instanciando um modelo**"
      ]
    },
    {
      "cell_type": "code",
      "metadata": {
        "id": "dkjD2fmWwTsk"
      },
      "source": [
        "nvModelo=MultinomialNB()"
      ],
      "execution_count": null,
      "outputs": []
    },
    {
      "cell_type": "markdown",
      "metadata": {
        "id": "jlW_F2OTwTsm"
      },
      "source": [
        "**Criando o objeto grid**"
      ]
    },
    {
      "cell_type": "code",
      "metadata": {
        "id": "iUEZGoVvwTsm"
      },
      "source": [
        "# classificador, dicionário com parâmetro, nº de folds, métrica de avaliação\n",
        "grid=GridSearchCV(nvModelo,parametros_grid,cv=10,scoring='accuracy')"
      ],
      "execution_count": null,
      "outputs": []
    },
    {
      "cell_type": "markdown",
      "metadata": {
        "id": "H_HAe4flwTsp"
      },
      "source": [
        "**Visualizando os tweets**"
      ]
    },
    {
      "cell_type": "code",
      "metadata": {
        "scrolled": true,
        "id": "geVEYuKIwTsp",
        "outputId": "0bb9f184-9ae1-4566-c380-53911ccd0fbe"
      },
      "source": [
        "tweets.head()"
      ],
      "execution_count": null,
      "outputs": [
        {
          "output_type": "execute_result",
          "data": {
            "text/plain": [
              "0    ���⛪ @ Catedral de Santo Antônio - Governador Valadares/MG https://t.co/JSbKamIqUJ                                            \n",
              "1    � @ Governador Valadares, Minas Gerais https://t.co/B3ThIDJCSf                                                                \n",
              "2    �� @ Governador Valadares, Minas Gerais https://t.co/dPkgzVR2Qw                                                               \n",
              "3    ��� https://t.co/BnDsO34qK0                                                                                                   \n",
              "4    ��� PSOL vai questionar aumento de vereadores e prefeito de BH na Justiça - Politica - Estado de Minas https://t.co/DMg7BGsek5\n",
              "Name: Text, dtype: object"
            ]
          },
          "metadata": {
            "tags": []
          },
          "execution_count": 31
        }
      ]
    },
    {
      "cell_type": "markdown",
      "metadata": {
        "id": "Do-0sk5OwTss"
      },
      "source": [
        "**Rodando o grid**"
      ]
    },
    {
      "cell_type": "code",
      "metadata": {
        "id": "dHw46LLrwTss",
        "outputId": "f05dd1f4-fa60-41db-84e8-21ed59c18574"
      },
      "source": [
        "# vetorizando novamente os tweets\n",
        "freq_tweets=vectorizer.fit_transform(tweets)\n",
        "# treinando o grid com dados vetorizados e as classes\n",
        "grid.fit(freq_tweets,classes)"
      ],
      "execution_count": null,
      "outputs": [
        {
          "output_type": "execute_result",
          "data": {
            "text/plain": [
              "GridSearchCV(cv=10, estimator=MultinomialNB(),\n",
              "             param_grid={'alpha': [1, 2, 3, 4, 5, 6, 7, 8, 9, 10]},\n",
              "             scoring='accuracy')"
            ]
          },
          "metadata": {
            "tags": []
          },
          "execution_count": 32
        }
      ]
    },
    {
      "cell_type": "markdown",
      "metadata": {
        "id": "C--bzX3_wTsv"
      },
      "source": [
        "**Visualizando os melhores scores**"
      ]
    },
    {
      "cell_type": "code",
      "metadata": {
        "id": "g9VbAf_lwTsv",
        "outputId": "8ddaf934-1b04-4288-db91-4092c31db16e"
      },
      "source": [
        "grid.cv_results_"
      ],
      "execution_count": null,
      "outputs": [
        {
          "output_type": "execute_result",
          "data": {
            "text/plain": [
              "{'mean_fit_time': array([0.01505802, 0.01501462, 0.01586614, 0.01521742, 0.01519849,\n",
              "        0.01505675, 0.014606  , 0.01579881, 0.01440899, 0.0196496 ]),\n",
              " 'std_fit_time': array([0.00038478, 0.00033871, 0.00059125, 0.00044328, 0.00047907,\n",
              "        0.00110818, 0.0001634 , 0.00191811, 0.00012029, 0.00366618]),\n",
              " 'mean_score_time': array([0.00095401, 0.00094779, 0.00102782, 0.00098681, 0.00097404,\n",
              "        0.000946  , 0.0009285 , 0.00100348, 0.00092754, 0.00125499]),\n",
              " 'std_score_time': array([4.68323765e-05, 7.36508951e-05, 1.44606322e-04, 1.53169752e-04,\n",
              "        7.64660979e-05, 1.10524888e-04, 1.44455690e-05, 1.92749189e-04,\n",
              "        4.14562127e-05, 2.60301596e-04]),\n",
              " 'param_alpha': masked_array(data=[1, 2, 3, 4, 5, 6, 7, 8, 9, 10],\n",
              "              mask=[False, False, False, False, False, False, False, False,\n",
              "                    False, False],\n",
              "        fill_value='?',\n",
              "             dtype=object),\n",
              " 'params': [{'alpha': 1},\n",
              "  {'alpha': 2},\n",
              "  {'alpha': 3},\n",
              "  {'alpha': 4},\n",
              "  {'alpha': 5},\n",
              "  {'alpha': 6},\n",
              "  {'alpha': 7},\n",
              "  {'alpha': 8},\n",
              "  {'alpha': 9},\n",
              "  {'alpha': 10}],\n",
              " 'split0_test_score': array([0.50259965, 0.50433276, 0.52339688, 0.52166378, 0.51819757,\n",
              "        0.51993068, 0.51646447, 0.52686308, 0.53379549, 0.53206239]),\n",
              " 'split1_test_score': array([0.86655113, 0.89948007, 0.90641248, 0.89948007, 0.89774697,\n",
              "        0.89428076, 0.89254766, 0.89254766, 0.88908146, 0.88214905]),\n",
              " 'split2_test_score': array([0.82322357, 0.82149047, 0.80935875, 0.80762565, 0.79896014,\n",
              "        0.91334489, 0.90294627, 0.78856153, 0.78336222, 0.78336222]),\n",
              " 'split3_test_score': array([0.91854419, 0.90294627, 0.89601386, 0.88561525, 0.88388215,\n",
              "        0.87868284, 0.87694974, 0.87521664, 0.87001733, 0.87001733]),\n",
              " 'split4_test_score': array([0.93760832, 0.93414211, 0.9220104 , 0.9202773 , 0.91681109,\n",
              "        0.91681109, 0.91161179, 0.90641248, 0.90294627, 0.89601386]),\n",
              " 'split5_test_score': array([0.96875   , 0.94618056, 0.94097222, 0.93576389, 0.93576389,\n",
              "        0.93402778, 0.93229167, 0.92708333, 0.92708333, 0.92361111]),\n",
              " 'split6_test_score': array([0.91840278, 0.91493056, 0.92013889, 0.90277778, 0.87847222,\n",
              "        0.86458333, 0.86111111, 0.85590278, 0.85069444, 0.82465278]),\n",
              " 'split7_test_score': array([0.89756944, 0.91319444, 0.91145833, 0.90277778, 0.90277778,\n",
              "        0.89756944, 0.89236111, 0.890625  , 0.88888889, 0.88194444]),\n",
              " 'split8_test_score': array([0.91666667, 0.89756944, 0.88194444, 0.88020833, 0.875     ,\n",
              "        0.87326389, 0.86979167, 0.86458333, 0.86111111, 0.85590278]),\n",
              " 'split9_test_score': array([0.91493056, 0.90972222, 0.90798611, 0.89756944, 0.88888889,\n",
              "        0.88541667, 0.88368056, 0.875     , 0.87152778, 0.86805556]),\n",
              " 'mean_test_score': array([0.86648463, 0.86439889, 0.86196924, 0.85537593, 0.84965007,\n",
              "        0.85779114, 0.8539756 , 0.84027958, 0.83785083, 0.83177715]),\n",
              " 'std_test_score': array([0.12690066, 0.12403493, 0.11778336, 0.11578804, 0.11561883,\n",
              "        0.11442477, 0.11421022, 0.1101547 , 0.10757453, 0.10639459]),\n",
              " 'rank_test_score': array([ 1,  2,  3,  5,  7,  4,  6,  8,  9, 10], dtype=int32)}"
            ]
          },
          "metadata": {
            "tags": []
          },
          "execution_count": 33
        }
      ]
    },
    {
      "cell_type": "markdown",
      "metadata": {
        "id": "SQ2tiQ3ywTsx"
      },
      "source": [
        "**Melhor parâmetro**\n",
        "\n",
        "Veja que o melhor *alpha* é o padrão do *MultinomialNB*, ou seja, *1*, logo não há como melhorar o modelo."
      ]
    },
    {
      "cell_type": "code",
      "metadata": {
        "id": "pb-PKKRUwTsy",
        "outputId": "ca6c7596-7228-4e5a-c14a-3b28ddece967"
      },
      "source": [
        "grid.best_params_"
      ],
      "execution_count": null,
      "outputs": [
        {
          "output_type": "execute_result",
          "data": {
            "text/plain": [
              "{'alpha': 1}"
            ]
          },
          "metadata": {
            "tags": []
          },
          "execution_count": 34
        }
      ]
    },
    {
      "cell_type": "markdown",
      "metadata": {
        "id": "7jtqTmYlwTs1"
      },
      "source": [
        "**Melhor score**"
      ]
    },
    {
      "cell_type": "code",
      "metadata": {
        "scrolled": true,
        "id": "6JM5rCbuwTs1",
        "outputId": "4ec60835-1783-4930-cd8b-364d87e2e1e3"
      },
      "source": [
        "grid.best_score_"
      ],
      "execution_count": null,
      "outputs": [
        {
          "output_type": "execute_result",
          "data": {
            "text/plain": [
              "0.8664846307529368"
            ]
          },
          "metadata": {
            "tags": []
          },
          "execution_count": 35
        }
      ]
    },
    {
      "cell_type": "markdown",
      "metadata": {
        "id": "W-Dpji73wTs3"
      },
      "source": [
        "**Alterando o parâmetro alpha arbitrariamente**\n",
        "\n",
        "Vamos passar o *alpha=5*.\n",
        "\n",
        "Para mostrar a sensibilidade do algoritmo às mudanças de parâmetro.\n",
        "\n",
        "Veja que há uma queda nos valores."
      ]
    },
    {
      "cell_type": "code",
      "metadata": {
        "id": "_HuKuPr5wTs3",
        "outputId": "dbf589d9-9750-4a5f-fffe-3a654f460d94"
      },
      "source": [
        "# instanciando o vectorizer\n",
        "vectorizer = CountVectorizer(analyzer=\"word\")\n",
        "# transformando\n",
        "freq_tweets = vectorizer.fit_transform(tweets)\n",
        "# instanciando o classificador\n",
        "modelo = MultinomialNB(alpha=5)\n",
        "# treinando o classificador\n",
        "modelo.fit(freq_tweets,classes)"
      ],
      "execution_count": null,
      "outputs": [
        {
          "output_type": "execute_result",
          "data": {
            "text/plain": [
              "MultinomialNB(alpha=5)"
            ]
          },
          "metadata": {
            "tags": []
          },
          "execution_count": 36
        }
      ]
    },
    {
      "cell_type": "code",
      "metadata": {
        "id": "j0pSz7gCwTs6"
      },
      "source": [
        "# vetorizando os testes\n",
        "freq_testes = vectorizer.transform(testes)"
      ],
      "execution_count": null,
      "outputs": []
    },
    {
      "cell_type": "code",
      "metadata": {
        "id": "bvJ5tCpEwTs9",
        "outputId": "add087c6-26ed-4f34-ec79-1d52a47449bf"
      },
      "source": [
        "# predição\n",
        "modelo.predict(freq_testes)"
      ],
      "execution_count": null,
      "outputs": [
        {
          "output_type": "execute_result",
          "data": {
            "text/plain": [
              "array(['Neutro', 'Neutro', 'Negativo', 'Neutro', 'Neutro'], dtype='<U8')"
            ]
          },
          "metadata": {
            "tags": []
          },
          "execution_count": 38
        }
      ]
    },
    {
      "cell_type": "code",
      "metadata": {
        "id": "RdRORi-FwTs_",
        "outputId": "b0bbbee9-ecaf-43ee-c87e-51614ecc944a"
      },
      "source": [
        "# fazendo validação dos resultados\n",
        "# cross validation com classificador treinado, features,classes e nº de folds\n",
        "resultados = cross_val_predict(modelo, freq_tweets, classes, cv=10)\n",
        "#metricas\n",
        "sentimento=['Positivo','Negativo','Neutro']\n",
        "print(metrics.classification_report(classes,resultados,sentimento))"
      ],
      "execution_count": null,
      "outputs": [
        {
          "output_type": "stream",
          "text": [
            "              precision    recall  f1-score   support\n",
            "\n",
            "    Positivo       0.89      0.92      0.90      2840\n",
            "    Negativo       0.84      0.78      0.81       951\n",
            "      Neutro       0.79      0.79      0.79      1974\n",
            "\n",
            "    accuracy                           0.85      5765\n",
            "   macro avg       0.84      0.83      0.83      5765\n",
            "weighted avg       0.85      0.85      0.85      5765\n",
            "\n"
          ],
          "name": "stdout"
        },
        {
          "output_type": "stream",
          "text": [
            "/home/amador/anaconda3/lib/python3.7/site-packages/sklearn/utils/validation.py:71: FutureWarning: Pass labels=['Positivo', 'Negativo', 'Neutro'] as keyword args. From version 0.25 passing these as positional arguments will result in an error\n",
            "  FutureWarning)\n"
          ],
          "name": "stderr"
        }
      ]
    },
    {
      "cell_type": "markdown",
      "metadata": {
        "id": "PoGAVJtIwcNi"
      },
      "source": [
        "# Obrigado!\n",
        "\n",
        "Obrigado por ter disponibilizado um pouco do seu tempo e atenção aqui. Espero que, de alguma forma, tenha sido útil para seu crescimento. Se houver qualquer dúvida ou sugestão, não hesite em entrar em contato no [LinkedIn](https://www.linkedin.com/in/daniel-sousa-amador) e verificar meus outros projetos no [GitHub](https://github.com/amadords).\n",
        "\n",
        "\n",
        "\n",
        "[![LinkedIn](https://img.shields.io/badge/LinkedIn-DanielSousaAmador-cyan.svg)](https://www.linkedin.com/in/daniel-sousa-amador)\n",
        "[![GitHub](https://img.shields.io/badge/GitHub-amadords-darkblue.svg)](https://github.com/amadords)\n",
        "[![Medium](https://img.shields.io/badge/Medium-DanielSousaAmador-white.svg)](https://daniel-s-amador.medium.com/)\n",
        "\n",
        "\n",
        "<center><img width=\"90%\" src=\"https://raw.githubusercontent.com/danielamador12/Portfolio/master/github.png\"></center>"
      ]
    }
  ]
}