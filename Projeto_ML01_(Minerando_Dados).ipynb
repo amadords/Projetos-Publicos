{
  "nbformat": 4,
  "nbformat_minor": 0,
  "metadata": {
    "kernelspec": {
      "display_name": "Python 3",
      "language": "python",
      "name": "python3"
    },
    "language_info": {
      "codemirror_mode": {
        "name": "ipython",
        "version": 3
      },
      "file_extension": ".py",
      "mimetype": "text/x-python",
      "name": "python",
      "nbconvert_exporter": "python",
      "pygments_lexer": "ipython3",
      "version": "3.7.6"
    },
    "colab": {
      "name": "Projeto ML01 (Minerando Dados)",
      "provenance": [],
      "collapsed_sections": [],
      "include_colab_link": true
    }
  },
  "cells": [
    {
      "cell_type": "markdown",
      "metadata": {
        "id": "view-in-github",
        "colab_type": "text"
      },
      "source": [
        "<a href=\"https://colab.research.google.com/github/amadords/Projetos-Publicos/blob/master/Projeto_ML01_(Minerando_Dados).ipynb\" target=\"_parent\"><img src=\"https://colab.research.google.com/assets/colab-badge.svg\" alt=\"Open In Colab\"/></a>"
      ]
    },
    {
      "cell_type": "markdown",
      "metadata": {
        "id": "Y1DaypHXzlCm"
      },
      "source": [
        "\n",
        "# Classificador de Renda Anual\n",
        "---\n",
        "\n",
        "\n",
        "[![LinkedIn](https://img.shields.io/badge/LinkedIn-DanielSousaAmador-cyan.svg)](https://www.linkedin.com/in/daniel-sousa-amador)\n",
        "[![GitHub](https://img.shields.io/badge/GitHub-amadords-darkblue.svg)](https://github.com/amadords)\n",
        "[![Medium](https://img.shields.io/badge/Medium-DanielSousaAmador-white.svg)](https://daniel-s-amador.medium.com/)\n",
        "\n",
        "\n",
        "\n",
        "Ao contrário do que ocorre no Brasil, nos Estados Unidos a faixa salarial é definida anualmente. Isso significa que o importante não é o ganho mensal, mas sim anual. Isso pode até parecer um pouco estranho em relação à nossa cultura, porém é uma equivalência bem simples, alguém que ganharia, por exemplo, 50 (cinquenta) mil reais por ano nos padrões americanos, seria alguém que, segundo o padrão brasileiro, ganharia o valor de aproximadamente 4.166 (quatro mil cento e sessenta e seis) reais por mês.\n",
        "\n",
        "\n",
        "\n",
        "![img](https://image.freepik.com/vetores-gratis/ilustracao-do-conceito-de-poupanca_114360-1516.jpg)\n",
        "\n",
        "\n",
        "\n"
      ]
    },
    {
      "cell_type": "markdown",
      "metadata": {
        "id": "aylt3wljzlCp"
      },
      "source": [
        "## Objetivo\n",
        "Através dos Dados do Censo detectar se a renda da pessoa excede o valor de 50 (cinquenta) mil dólares por ano.\n",
        "\n",
        "## Habilidade Avaliadas\n",
        "* Técnicas de Transformação e Preparação de dados\n",
        "* Aplicação, Avaliação e Tunning de Modelos de Machine Learning para Classificação.\n",
        "\n",
        "## Sobre o Projeto\n",
        "O projeto foi proposto pelo [Minerando Dados](https://minerandodados.com.br/) através do curso [Data Science do Zero](https://minerandodados.com.br/curso-de-data-science/) como parte da composição do portfólio.\n",
        "\n",
        "Também devo ressaltar que foi inspirado pelo trabalho da monitora do curso [Karinne Cristina](https://github.com/karinnecristina), Cientista de Dados da Refinaria de Dados."
      ]
    },
    {
      "cell_type": "markdown",
      "metadata": {
        "id": "JtgurRKszlCr"
      },
      "source": [
        "**Dataset**: O conjunto de dados para este projeto é originário do Repositório de Aprendizado de Máquina da UCI e pode ser visualizado [aqui](https://archive.ics.uci.edu/ml/datasets/Adult)."
      ]
    },
    {
      "cell_type": "markdown",
      "metadata": {
        "id": "dBaveeyfLOwe"
      },
      "source": [
        "## Checklist\n",
        "\n",
        "1. Conhecendo a Base de Dados\n",
        "2. Visualizando Distribuições\n",
        "3. Substituindo os Valores Faltantes\n",
        "4. Selecionando Features Importantes\n",
        "5. Treinando Modelos de Machine Learning\n",
        "6. Fazendo Tuning do Modelo\n",
        "7. Preparando a Versão Final do Modelo\n",
        "8. Persistindo o Modelo em Disco"
      ]
    },
    {
      "cell_type": "markdown",
      "metadata": {
        "id": "X1gtsoOxNSYB"
      },
      "source": [
        "# 1. Conhecendo a Base de Dados"
      ]
    },
    {
      "cell_type": "markdown",
      "metadata": {
        "id": "C-WvXdXvzlC1"
      },
      "source": [
        "Antes de tudo, até mesmo de carregar a base de dados, vamos conhecer cada feature presente:\n",
        "\n",
        "``age``: Idade.\n",
        "\n",
        "``workclass``: Classe trabalhadora. Se a pessoa é funcionário público, autônomo, empresário etc.\n",
        "\n",
        "``fnlwgt``: Final weight é o peso final\n",
        "\n",
        "``education``: Níveis de Escolaridade.\n",
        "\n",
        "``education-num``: Código do Nível de Escolaridade.\n",
        "\n",
        "``marital-status``: Estado Civil.\n",
        "\n",
        "``occupation``: Ocupação (Suporte técnico, Conserto de arte, Outros serviços, Vendas, Exec-managerial, Prof-specialty, Manipuladores de limpeza, Machine-op-inspct, Adm-clerical, Pesca agropecuária, Transport-moving, Priv-house-serv, Serviço de Proteção, Forças Armadas)\n",
        "\n",
        "``relationship``: Relacionamento (Esposa, Filha Própria, Marido, Não-familiar, Outro-parente, Solteira.)\n",
        "\n",
        "``race``: Raça (Preto, branco, asiático-Pac-Islander, Amer-Indian-Eskimo, Outro.)\n",
        "\n",
        "``sex``: Sexo(Feminino, Masculino).\n",
        "\n",
        "``capital-gain``: Ganho de Capital.\n",
        "\n",
        "``capital-loss``: Perda de Capital.\n",
        "\n",
        "``hours-per-week``: Horas de trabalho por Semana.\n",
        "\n",
        "``native-country``: País Nativo (Estados Unidos, Camboja, Inglaterra, Porto Rico, Canadá, Alemanha, EUA (Guam-USVI-etc), Índia, México, Portugal etc).\n",
        "\n",
        "``income``: Renda em dólar, por ano."
      ]
    },
    {
      "cell_type": "markdown",
      "metadata": {
        "id": "X_Np96nsOeqO"
      },
      "source": [
        "**Importando as bibliotecas necessárias**"
      ]
    },
    {
      "cell_type": "code",
      "metadata": {
        "id": "jzcyKnUhzlCt",
        "outputId": "ee026617-1ecb-4f9a-d848-e6e545e34479",
        "colab": {
          "base_uri": "https://localhost:8080/",
          "height": 74
        }
      },
      "source": [
        "from sklearn.preprocessing import LabelEncoder\n",
        "from sklearn.model_selection import StratifiedKFold\n",
        "from sklearn.pipeline import Pipeline\n",
        "from sklearn.model_selection import RandomizedSearchCV\n",
        "from sklearn import model_selection\n",
        "from sklearn.linear_model import LogisticRegression\n",
        "from sklearn.tree import DecisionTreeClassifier\n",
        "from sklearn.neighbors import KNeighborsClassifier\n",
        "from sklearn.ensemble import RandomForestClassifier\n",
        "from sklearn.naive_bayes import GaussianNB\n",
        "from sklearn.preprocessing import StandardScaler\n",
        "from sklearn.metrics import accuracy_score\n",
        "from sklearn.model_selection import cross_val_predict\n",
        "from sklearn.metrics import confusion_matrix\n",
        "from sklearn.metrics import classification_report\n",
        "from warnings import simplefilter\n",
        "import pickle\n",
        "from joblib import dump\n",
        "import pandas as pd\n",
        "import seaborn as sns\n",
        "import matplotlib.pyplot as plt\n",
        "from matplotlib import style\n",
        "style.use('ggplot')"
      ],
      "execution_count": null,
      "outputs": [
        {
          "output_type": "stream",
          "text": [
            "/usr/local/lib/python3.6/dist-packages/statsmodels/tools/_testing.py:19: FutureWarning: pandas.util.testing is deprecated. Use the functions in the public API at pandas.testing instead.\n",
            "  import pandas.util.testing as tm\n"
          ],
          "name": "stderr"
        }
      ]
    },
    {
      "cell_type": "markdown",
      "metadata": {
        "id": "m1w83stWzlC2"
      },
      "source": [
        "**Carregando a base de dados**\n",
        "\n",
        "Na leitura da base de dados, o `na_values= '?'` é para o pandas entender que os ``?`` na base de dados são valores faltantes."
      ]
    },
    {
      "cell_type": "code",
      "metadata": {
        "id": "WX9sO7jPzlC4"
      },
      "source": [
        "df=pd.read_csv('/content/adult.data',na_values='?')"
      ],
      "execution_count": null,
      "outputs": []
    },
    {
      "cell_type": "markdown",
      "metadata": {
        "id": "RD9ptfZTzlC-"
      },
      "source": [
        "**Primeiras 5 linhas**"
      ]
    },
    {
      "cell_type": "code",
      "metadata": {
        "scrolled": true,
        "id": "uwX-vZodzlC_",
        "outputId": "825e4beb-ffac-4f1d-f832-52ee92bb890b",
        "colab": {
          "base_uri": "https://localhost:8080/",
          "height": 311
        }
      },
      "source": [
        "df.head()"
      ],
      "execution_count": null,
      "outputs": [
        {
          "output_type": "execute_result",
          "data": {
            "text/html": [
              "<div>\n",
              "<style scoped>\n",
              "    .dataframe tbody tr th:only-of-type {\n",
              "        vertical-align: middle;\n",
              "    }\n",
              "\n",
              "    .dataframe tbody tr th {\n",
              "        vertical-align: top;\n",
              "    }\n",
              "\n",
              "    .dataframe thead th {\n",
              "        text-align: right;\n",
              "    }\n",
              "</style>\n",
              "<table border=\"1\" class=\"dataframe\">\n",
              "  <thead>\n",
              "    <tr style=\"text-align: right;\">\n",
              "      <th></th>\n",
              "      <th>age</th>\n",
              "      <th>workclass</th>\n",
              "      <th>education</th>\n",
              "      <th>educational-num</th>\n",
              "      <th>marital-status</th>\n",
              "      <th>occupation</th>\n",
              "      <th>relationship</th>\n",
              "      <th>race</th>\n",
              "      <th>sex</th>\n",
              "      <th>capital-gain</th>\n",
              "      <th>capital-loss</th>\n",
              "      <th>hours-per-week</th>\n",
              "      <th>native-country</th>\n",
              "      <th>income</th>\n",
              "    </tr>\n",
              "  </thead>\n",
              "  <tbody>\n",
              "    <tr>\n",
              "      <th>0</th>\n",
              "      <td>25</td>\n",
              "      <td>Private</td>\n",
              "      <td>11th</td>\n",
              "      <td>7</td>\n",
              "      <td>Never-married</td>\n",
              "      <td>Machine-op-inspct</td>\n",
              "      <td>Own-child</td>\n",
              "      <td>Black</td>\n",
              "      <td>Male</td>\n",
              "      <td>0</td>\n",
              "      <td>0</td>\n",
              "      <td>40</td>\n",
              "      <td>United-States</td>\n",
              "      <td>&lt;=50K</td>\n",
              "    </tr>\n",
              "    <tr>\n",
              "      <th>1</th>\n",
              "      <td>38</td>\n",
              "      <td>Private</td>\n",
              "      <td>HS-grad</td>\n",
              "      <td>9</td>\n",
              "      <td>Married-civ-spouse</td>\n",
              "      <td>Farming-fishing</td>\n",
              "      <td>Husband</td>\n",
              "      <td>White</td>\n",
              "      <td>Male</td>\n",
              "      <td>0</td>\n",
              "      <td>0</td>\n",
              "      <td>50</td>\n",
              "      <td>United-States</td>\n",
              "      <td>&lt;=50K</td>\n",
              "    </tr>\n",
              "    <tr>\n",
              "      <th>2</th>\n",
              "      <td>28</td>\n",
              "      <td>Local-gov</td>\n",
              "      <td>Assoc-acdm</td>\n",
              "      <td>12</td>\n",
              "      <td>Married-civ-spouse</td>\n",
              "      <td>Protective-serv</td>\n",
              "      <td>Husband</td>\n",
              "      <td>White</td>\n",
              "      <td>Male</td>\n",
              "      <td>0</td>\n",
              "      <td>0</td>\n",
              "      <td>40</td>\n",
              "      <td>United-States</td>\n",
              "      <td>&gt;50K</td>\n",
              "    </tr>\n",
              "    <tr>\n",
              "      <th>3</th>\n",
              "      <td>44</td>\n",
              "      <td>Private</td>\n",
              "      <td>Some-college</td>\n",
              "      <td>10</td>\n",
              "      <td>Married-civ-spouse</td>\n",
              "      <td>Machine-op-inspct</td>\n",
              "      <td>Husband</td>\n",
              "      <td>Black</td>\n",
              "      <td>Male</td>\n",
              "      <td>7688</td>\n",
              "      <td>0</td>\n",
              "      <td>40</td>\n",
              "      <td>United-States</td>\n",
              "      <td>&gt;50K</td>\n",
              "    </tr>\n",
              "    <tr>\n",
              "      <th>4</th>\n",
              "      <td>18</td>\n",
              "      <td>NaN</td>\n",
              "      <td>Some-college</td>\n",
              "      <td>10</td>\n",
              "      <td>Never-married</td>\n",
              "      <td>NaN</td>\n",
              "      <td>Own-child</td>\n",
              "      <td>White</td>\n",
              "      <td>Female</td>\n",
              "      <td>0</td>\n",
              "      <td>0</td>\n",
              "      <td>30</td>\n",
              "      <td>United-States</td>\n",
              "      <td>&lt;=50K</td>\n",
              "    </tr>\n",
              "  </tbody>\n",
              "</table>\n",
              "</div>"
            ],
            "text/plain": [
              "   age  workclass     education  ...  hours-per-week native-country income\n",
              "0   25    Private          11th  ...              40  United-States  <=50K\n",
              "1   38    Private       HS-grad  ...              50  United-States  <=50K\n",
              "2   28  Local-gov    Assoc-acdm  ...              40  United-States   >50K\n",
              "3   44    Private  Some-college  ...              40  United-States   >50K\n",
              "4   18        NaN  Some-college  ...              30  United-States  <=50K\n",
              "\n",
              "[5 rows x 14 columns]"
            ]
          },
          "metadata": {
            "tags": []
          },
          "execution_count": 3
        }
      ]
    },
    {
      "cell_type": "markdown",
      "metadata": {
        "id": "eFsK_Q9cO7rS"
      },
      "source": [
        "**Últimas 5 linhas**"
      ]
    },
    {
      "cell_type": "code",
      "metadata": {
        "id": "Cd2AorZezlDG",
        "outputId": "a5607e46-67ec-4e66-9be6-b22eac34d59a",
        "colab": {
          "base_uri": "https://localhost:8080/",
          "height": 276
        }
      },
      "source": [
        "df.tail()"
      ],
      "execution_count": null,
      "outputs": [
        {
          "output_type": "execute_result",
          "data": {
            "text/html": [
              "<div>\n",
              "<style scoped>\n",
              "    .dataframe tbody tr th:only-of-type {\n",
              "        vertical-align: middle;\n",
              "    }\n",
              "\n",
              "    .dataframe tbody tr th {\n",
              "        vertical-align: top;\n",
              "    }\n",
              "\n",
              "    .dataframe thead th {\n",
              "        text-align: right;\n",
              "    }\n",
              "</style>\n",
              "<table border=\"1\" class=\"dataframe\">\n",
              "  <thead>\n",
              "    <tr style=\"text-align: right;\">\n",
              "      <th></th>\n",
              "      <th>age</th>\n",
              "      <th>workclass</th>\n",
              "      <th>education</th>\n",
              "      <th>educational-num</th>\n",
              "      <th>marital-status</th>\n",
              "      <th>occupation</th>\n",
              "      <th>relationship</th>\n",
              "      <th>race</th>\n",
              "      <th>sex</th>\n",
              "      <th>capital-gain</th>\n",
              "      <th>capital-loss</th>\n",
              "      <th>hours-per-week</th>\n",
              "      <th>native-country</th>\n",
              "      <th>income</th>\n",
              "    </tr>\n",
              "  </thead>\n",
              "  <tbody>\n",
              "    <tr>\n",
              "      <th>48837</th>\n",
              "      <td>27</td>\n",
              "      <td>Private</td>\n",
              "      <td>Assoc-acdm</td>\n",
              "      <td>12</td>\n",
              "      <td>Married-civ-spouse</td>\n",
              "      <td>Tech-support</td>\n",
              "      <td>Wife</td>\n",
              "      <td>White</td>\n",
              "      <td>Female</td>\n",
              "      <td>0</td>\n",
              "      <td>0</td>\n",
              "      <td>38</td>\n",
              "      <td>United-States</td>\n",
              "      <td>&lt;=50K</td>\n",
              "    </tr>\n",
              "    <tr>\n",
              "      <th>48838</th>\n",
              "      <td>40</td>\n",
              "      <td>Private</td>\n",
              "      <td>HS-grad</td>\n",
              "      <td>9</td>\n",
              "      <td>Married-civ-spouse</td>\n",
              "      <td>Machine-op-inspct</td>\n",
              "      <td>Husband</td>\n",
              "      <td>White</td>\n",
              "      <td>Male</td>\n",
              "      <td>0</td>\n",
              "      <td>0</td>\n",
              "      <td>40</td>\n",
              "      <td>United-States</td>\n",
              "      <td>&gt;50K</td>\n",
              "    </tr>\n",
              "    <tr>\n",
              "      <th>48839</th>\n",
              "      <td>58</td>\n",
              "      <td>Private</td>\n",
              "      <td>HS-grad</td>\n",
              "      <td>9</td>\n",
              "      <td>Widowed</td>\n",
              "      <td>Adm-clerical</td>\n",
              "      <td>Unmarried</td>\n",
              "      <td>White</td>\n",
              "      <td>Female</td>\n",
              "      <td>0</td>\n",
              "      <td>0</td>\n",
              "      <td>40</td>\n",
              "      <td>United-States</td>\n",
              "      <td>&lt;=50K</td>\n",
              "    </tr>\n",
              "    <tr>\n",
              "      <th>48840</th>\n",
              "      <td>22</td>\n",
              "      <td>Private</td>\n",
              "      <td>HS-grad</td>\n",
              "      <td>9</td>\n",
              "      <td>Never-married</td>\n",
              "      <td>Adm-clerical</td>\n",
              "      <td>Own-child</td>\n",
              "      <td>White</td>\n",
              "      <td>Male</td>\n",
              "      <td>0</td>\n",
              "      <td>0</td>\n",
              "      <td>20</td>\n",
              "      <td>United-States</td>\n",
              "      <td>&lt;=50K</td>\n",
              "    </tr>\n",
              "    <tr>\n",
              "      <th>48841</th>\n",
              "      <td>52</td>\n",
              "      <td>Self-emp-inc</td>\n",
              "      <td>HS-grad</td>\n",
              "      <td>9</td>\n",
              "      <td>Married-civ-spouse</td>\n",
              "      <td>Exec-managerial</td>\n",
              "      <td>Wife</td>\n",
              "      <td>White</td>\n",
              "      <td>Female</td>\n",
              "      <td>15024</td>\n",
              "      <td>0</td>\n",
              "      <td>40</td>\n",
              "      <td>United-States</td>\n",
              "      <td>&gt;50K</td>\n",
              "    </tr>\n",
              "  </tbody>\n",
              "</table>\n",
              "</div>"
            ],
            "text/plain": [
              "       age     workclass   education  ...  hours-per-week native-country income\n",
              "48837   27       Private  Assoc-acdm  ...              38  United-States  <=50K\n",
              "48838   40       Private     HS-grad  ...              40  United-States   >50K\n",
              "48839   58       Private     HS-grad  ...              40  United-States  <=50K\n",
              "48840   22       Private     HS-grad  ...              20  United-States  <=50K\n",
              "48841   52  Self-emp-inc     HS-grad  ...              40  United-States   >50K\n",
              "\n",
              "[5 rows x 14 columns]"
            ]
          },
          "metadata": {
            "tags": []
          },
          "execution_count": 4
        }
      ]
    },
    {
      "cell_type": "markdown",
      "metadata": {
        "id": "KqxbeXY9PDqO"
      },
      "source": [
        "**Verificando valores nulos**\n",
        "\n",
        "Aqui há algo muito importante a saber:\n",
        "Analisar sua base de dados é primordial para o sucesso do seu trabalho como cientista ou analista, contudo antes mesmo de carregá-la em um notebook ou colab, por exemplo, é interessante ver seu conteúdo raiz.\n",
        "\n",
        "Por que isso? Simples! Nesse caso em especifico, se na leitura dos dados não tivesse sido passado que os valores ``?`` deveriam ser tratados como valores nulos, não encontrariamos a quantidade significativa de valores nulos abaixo."
      ]
    },
    {
      "cell_type": "code",
      "metadata": {
        "id": "-8zcwI73zlDM",
        "outputId": "57a19e83-5ad3-434a-bb9d-1e7e35d099b7",
        "colab": {
          "base_uri": "https://localhost:8080/",
          "height": 294
        }
      },
      "source": [
        "df.isnull().sum()"
      ],
      "execution_count": null,
      "outputs": [
        {
          "output_type": "execute_result",
          "data": {
            "text/plain": [
              "age                   0\n",
              "workclass          2799\n",
              "education             0\n",
              "educational-num       0\n",
              "marital-status        0\n",
              "occupation         2809\n",
              "relationship          0\n",
              "race                  0\n",
              "sex                   0\n",
              "capital-gain          0\n",
              "capital-loss          0\n",
              "hours-per-week        0\n",
              "native-country      857\n",
              "income                0\n",
              "dtype: int64"
            ]
          },
          "metadata": {
            "tags": []
          },
          "execution_count": 5
        }
      ]
    },
    {
      "cell_type": "markdown",
      "metadata": {
        "id": "sCk8bsq6QoP6"
      },
      "source": [
        "**Quantas linhas não-nulas temos para cada coluna?**"
      ]
    },
    {
      "cell_type": "code",
      "metadata": {
        "id": "Okj9_SyqzlDT",
        "outputId": "be336b1b-bb0e-4177-b123-98062a9b183e",
        "colab": {
          "base_uri": "https://localhost:8080/",
          "height": 294
        }
      },
      "source": [
        "df.count()"
      ],
      "execution_count": null,
      "outputs": [
        {
          "output_type": "execute_result",
          "data": {
            "text/plain": [
              "age                48842\n",
              "workclass          46043\n",
              "education          48842\n",
              "educational-num    48842\n",
              "marital-status     48842\n",
              "occupation         46033\n",
              "relationship       48842\n",
              "race               48842\n",
              "sex                48842\n",
              "capital-gain       48842\n",
              "capital-loss       48842\n",
              "hours-per-week     48842\n",
              "native-country     47985\n",
              "income             48842\n",
              "dtype: int64"
            ]
          },
          "metadata": {
            "tags": []
          },
          "execution_count": 6
        }
      ]
    },
    {
      "cell_type": "markdown",
      "metadata": {
        "id": "KA3ehIg8QxWb"
      },
      "source": [
        "**Estatística Descritiva - Variáveis numéricas**"
      ]
    },
    {
      "cell_type": "code",
      "metadata": {
        "id": "NJK0ETUOzlDY",
        "outputId": "5559146d-a7f1-4f17-f232-e4f9eb29a333",
        "colab": {
          "base_uri": "https://localhost:8080/",
          "height": 300
        }
      },
      "source": [
        "df.describe()"
      ],
      "execution_count": null,
      "outputs": [
        {
          "output_type": "execute_result",
          "data": {
            "text/html": [
              "<div>\n",
              "<style scoped>\n",
              "    .dataframe tbody tr th:only-of-type {\n",
              "        vertical-align: middle;\n",
              "    }\n",
              "\n",
              "    .dataframe tbody tr th {\n",
              "        vertical-align: top;\n",
              "    }\n",
              "\n",
              "    .dataframe thead th {\n",
              "        text-align: right;\n",
              "    }\n",
              "</style>\n",
              "<table border=\"1\" class=\"dataframe\">\n",
              "  <thead>\n",
              "    <tr style=\"text-align: right;\">\n",
              "      <th></th>\n",
              "      <th>age</th>\n",
              "      <th>educational-num</th>\n",
              "      <th>capital-gain</th>\n",
              "      <th>capital-loss</th>\n",
              "      <th>hours-per-week</th>\n",
              "    </tr>\n",
              "  </thead>\n",
              "  <tbody>\n",
              "    <tr>\n",
              "      <th>count</th>\n",
              "      <td>48842.000000</td>\n",
              "      <td>48842.000000</td>\n",
              "      <td>48842.000000</td>\n",
              "      <td>48842.000000</td>\n",
              "      <td>48842.000000</td>\n",
              "    </tr>\n",
              "    <tr>\n",
              "      <th>mean</th>\n",
              "      <td>38.643585</td>\n",
              "      <td>10.078089</td>\n",
              "      <td>1079.067626</td>\n",
              "      <td>87.502314</td>\n",
              "      <td>40.422382</td>\n",
              "    </tr>\n",
              "    <tr>\n",
              "      <th>std</th>\n",
              "      <td>13.710510</td>\n",
              "      <td>2.570973</td>\n",
              "      <td>7452.019058</td>\n",
              "      <td>403.004552</td>\n",
              "      <td>12.391444</td>\n",
              "    </tr>\n",
              "    <tr>\n",
              "      <th>min</th>\n",
              "      <td>17.000000</td>\n",
              "      <td>1.000000</td>\n",
              "      <td>0.000000</td>\n",
              "      <td>0.000000</td>\n",
              "      <td>1.000000</td>\n",
              "    </tr>\n",
              "    <tr>\n",
              "      <th>25%</th>\n",
              "      <td>28.000000</td>\n",
              "      <td>9.000000</td>\n",
              "      <td>0.000000</td>\n",
              "      <td>0.000000</td>\n",
              "      <td>40.000000</td>\n",
              "    </tr>\n",
              "    <tr>\n",
              "      <th>50%</th>\n",
              "      <td>37.000000</td>\n",
              "      <td>10.000000</td>\n",
              "      <td>0.000000</td>\n",
              "      <td>0.000000</td>\n",
              "      <td>40.000000</td>\n",
              "    </tr>\n",
              "    <tr>\n",
              "      <th>75%</th>\n",
              "      <td>48.000000</td>\n",
              "      <td>12.000000</td>\n",
              "      <td>0.000000</td>\n",
              "      <td>0.000000</td>\n",
              "      <td>45.000000</td>\n",
              "    </tr>\n",
              "    <tr>\n",
              "      <th>max</th>\n",
              "      <td>90.000000</td>\n",
              "      <td>16.000000</td>\n",
              "      <td>99999.000000</td>\n",
              "      <td>4356.000000</td>\n",
              "      <td>99.000000</td>\n",
              "    </tr>\n",
              "  </tbody>\n",
              "</table>\n",
              "</div>"
            ],
            "text/plain": [
              "                age  educational-num  ...  capital-loss  hours-per-week\n",
              "count  48842.000000     48842.000000  ...  48842.000000    48842.000000\n",
              "mean      38.643585        10.078089  ...     87.502314       40.422382\n",
              "std       13.710510         2.570973  ...    403.004552       12.391444\n",
              "min       17.000000         1.000000  ...      0.000000        1.000000\n",
              "25%       28.000000         9.000000  ...      0.000000       40.000000\n",
              "50%       37.000000        10.000000  ...      0.000000       40.000000\n",
              "75%       48.000000        12.000000  ...      0.000000       45.000000\n",
              "max       90.000000        16.000000  ...   4356.000000       99.000000\n",
              "\n",
              "[8 rows x 5 columns]"
            ]
          },
          "metadata": {
            "tags": []
          },
          "execution_count": 7
        }
      ]
    },
    {
      "cell_type": "markdown",
      "metadata": {
        "id": "xoMZ2YN-Q3wL"
      },
      "source": [
        "**Estatística descritiva - Variáveis categóricas**\n",
        "\n",
        "Vale ressaltar que no ``include=['O']`` é a letra \"Ó\" maiúscula e não o número zero."
      ]
    },
    {
      "cell_type": "code",
      "metadata": {
        "id": "tMT2AZgCzlDc",
        "outputId": "48da1cda-a470-455a-eabc-d8672444b562",
        "colab": {
          "base_uri": "https://localhost:8080/",
          "height": 175
        }
      },
      "source": [
        "df.describe(include=['O'])"
      ],
      "execution_count": null,
      "outputs": [
        {
          "output_type": "execute_result",
          "data": {
            "text/html": [
              "<div>\n",
              "<style scoped>\n",
              "    .dataframe tbody tr th:only-of-type {\n",
              "        vertical-align: middle;\n",
              "    }\n",
              "\n",
              "    .dataframe tbody tr th {\n",
              "        vertical-align: top;\n",
              "    }\n",
              "\n",
              "    .dataframe thead th {\n",
              "        text-align: right;\n",
              "    }\n",
              "</style>\n",
              "<table border=\"1\" class=\"dataframe\">\n",
              "  <thead>\n",
              "    <tr style=\"text-align: right;\">\n",
              "      <th></th>\n",
              "      <th>workclass</th>\n",
              "      <th>education</th>\n",
              "      <th>marital-status</th>\n",
              "      <th>occupation</th>\n",
              "      <th>relationship</th>\n",
              "      <th>race</th>\n",
              "      <th>sex</th>\n",
              "      <th>native-country</th>\n",
              "      <th>income</th>\n",
              "    </tr>\n",
              "  </thead>\n",
              "  <tbody>\n",
              "    <tr>\n",
              "      <th>count</th>\n",
              "      <td>46043</td>\n",
              "      <td>48842</td>\n",
              "      <td>48842</td>\n",
              "      <td>46033</td>\n",
              "      <td>48842</td>\n",
              "      <td>48842</td>\n",
              "      <td>48842</td>\n",
              "      <td>47985</td>\n",
              "      <td>48842</td>\n",
              "    </tr>\n",
              "    <tr>\n",
              "      <th>unique</th>\n",
              "      <td>8</td>\n",
              "      <td>16</td>\n",
              "      <td>7</td>\n",
              "      <td>14</td>\n",
              "      <td>6</td>\n",
              "      <td>5</td>\n",
              "      <td>2</td>\n",
              "      <td>41</td>\n",
              "      <td>2</td>\n",
              "    </tr>\n",
              "    <tr>\n",
              "      <th>top</th>\n",
              "      <td>Private</td>\n",
              "      <td>HS-grad</td>\n",
              "      <td>Married-civ-spouse</td>\n",
              "      <td>Prof-specialty</td>\n",
              "      <td>Husband</td>\n",
              "      <td>White</td>\n",
              "      <td>Male</td>\n",
              "      <td>United-States</td>\n",
              "      <td>&lt;=50K</td>\n",
              "    </tr>\n",
              "    <tr>\n",
              "      <th>freq</th>\n",
              "      <td>33906</td>\n",
              "      <td>15784</td>\n",
              "      <td>22379</td>\n",
              "      <td>6172</td>\n",
              "      <td>19716</td>\n",
              "      <td>41762</td>\n",
              "      <td>32650</td>\n",
              "      <td>43832</td>\n",
              "      <td>37155</td>\n",
              "    </tr>\n",
              "  </tbody>\n",
              "</table>\n",
              "</div>"
            ],
            "text/plain": [
              "       workclass education      marital-status  ...    sex native-country income\n",
              "count      46043     48842               48842  ...  48842          47985  48842\n",
              "unique         8        16                   7  ...      2             41      2\n",
              "top      Private   HS-grad  Married-civ-spouse  ...   Male  United-States  <=50K\n",
              "freq       33906     15784               22379  ...  32650          43832  37155\n",
              "\n",
              "[4 rows x 9 columns]"
            ]
          },
          "metadata": {
            "tags": []
          },
          "execution_count": 8
        }
      ]
    },
    {
      "cell_type": "markdown",
      "metadata": {
        "id": "GRdpLZ0yRTdM"
      },
      "source": [
        "**Checando qual o tipo de cada coluna**"
      ]
    },
    {
      "cell_type": "code",
      "metadata": {
        "id": "nBp0-TgmzlDq",
        "outputId": "f1ec80e4-8e51-43d0-ae17-e727415f6fbf",
        "colab": {
          "base_uri": "https://localhost:8080/",
          "height": 405
        }
      },
      "source": [
        "df.info()"
      ],
      "execution_count": null,
      "outputs": [
        {
          "output_type": "stream",
          "text": [
            "<class 'pandas.core.frame.DataFrame'>\n",
            "RangeIndex: 48842 entries, 0 to 48841\n",
            "Data columns (total 14 columns):\n",
            " #   Column           Non-Null Count  Dtype \n",
            "---  ------           --------------  ----- \n",
            " 0   age              48842 non-null  int64 \n",
            " 1   workclass        46043 non-null  object\n",
            " 2   education        48842 non-null  object\n",
            " 3   educational-num  48842 non-null  int64 \n",
            " 4   marital-status   48842 non-null  object\n",
            " 5   occupation       46033 non-null  object\n",
            " 6   relationship     48842 non-null  object\n",
            " 7   race             48842 non-null  object\n",
            " 8   sex              48842 non-null  object\n",
            " 9   capital-gain     48842 non-null  int64 \n",
            " 10  capital-loss     48842 non-null  int64 \n",
            " 11  hours-per-week   48842 non-null  int64 \n",
            " 12  native-country   47985 non-null  object\n",
            " 13  income           48842 non-null  object\n",
            "dtypes: int64(5), object(9)\n",
            "memory usage: 5.2+ MB\n"
          ],
          "name": "stdout"
        }
      ]
    },
    {
      "cell_type": "markdown",
      "metadata": {
        "id": "GurhMsUqSmZR"
      },
      "source": [
        "#  2. Visualizando Distribuições"
      ]
    },
    {
      "cell_type": "markdown",
      "metadata": {
        "id": "clXgjeByRfIn"
      },
      "source": [
        "**Contagem de valores da colunas ``income``**\n",
        "\n",
        "Aqui há algo a ser ressaltado. Veja que o valor *>50K* é cerca de três vezes menor que o valor <=50, isso **pode** ser prejudicial ao modelo. Se quiser entender um pouco mais sobre isso, clique [aqui](https://bit.ly/3nj6EkW) e veja sobre **classes desbalanceadas** e como tratá-las.\n"
      ]
    },
    {
      "cell_type": "code",
      "metadata": {
        "id": "1vuHgz1SzlD8",
        "outputId": "a80179a8-9967-45ca-fd78-fdfd7a6cd14d",
        "colab": {
          "base_uri": "https://localhost:8080/",
          "height": 72
        }
      },
      "source": [
        "df['income'].value_counts()"
      ],
      "execution_count": null,
      "outputs": [
        {
          "output_type": "execute_result",
          "data": {
            "text/plain": [
              "<=50K    37155\n",
              ">50K     11687\n",
              "Name: income, dtype: int64"
            ]
          },
          "metadata": {
            "tags": []
          },
          "execution_count": 10
        }
      ]
    },
    {
      "cell_type": "markdown",
      "metadata": {
        "id": "FI7IoeGoSuOp"
      },
      "source": [
        "**Distribuição das classes (variável 'income')**"
      ]
    },
    {
      "cell_type": "code",
      "metadata": {
        "scrolled": true,
        "id": "epAvNWtGzlEC",
        "outputId": "a7acb80e-75d0-459b-8cf4-980768c1060d",
        "colab": {
          "base_uri": "https://localhost:8080/",
          "height": 369
        }
      },
      "source": [
        "sns.catplot(x='income',kind='count',data=df,orient=\"h\");"
      ],
      "execution_count": null,
      "outputs": [
        {
          "output_type": "display_data",
          "data": {
            "image/png": "[encoded data removed]",
            "text/plain": [
              "<Figure size 360x360 with 1 Axes>"
            ]
          },
          "metadata": {
            "tags": [],
            "needs_background": "light"
          }
        }
      ]
    },
    {
      "cell_type": "markdown",
      "metadata": {
        "id": "3nSBhE0eS7G0"
      },
      "source": [
        "**Distribuição das classes por Nível de Escolaridade**\n",
        "\n",
        "Destaque para *HS-grad*, *Some-college* e *Bachelors*."
      ]
    },
    {
      "cell_type": "code",
      "metadata": {
        "id": "tUZCBWpPzlEJ",
        "outputId": "f302e779-ff5f-4cc1-ef88-96228c630a1d",
        "colab": {
          "base_uri": "https://localhost:8080/",
          "height": 666
        }
      },
      "source": [
        "plt.figure(figsize=(20,10))\n",
        "sns.countplot(data=df, x = 'education',  hue = 'income')\n",
        "plt.xticks(rotation=90);"
      ],
      "execution_count": null,
      "outputs": [
        {
          "output_type": "display_data",
          "data": {
            "image/png": "[encoded data removed]",
            "text/plain": [
              "<Figure size 1440x720 with 1 Axes>"
            ]
          },
          "metadata": {
            "tags": [],
            "needs_background": "light"
          }
        }
      ]
    },
    {
      "cell_type": "markdown",
      "metadata": {
        "id": "AO7t1XdBZ7bT"
      },
      "source": [
        "**Distribuição das classes (variável 'education')**\n",
        "\n",
        "Como visto acima as três maiaores classes são:\n",
        "\n",
        "HS-grad, Some-college e Bachelors\n"
      ]
    },
    {
      "cell_type": "code",
      "metadata": {
        "id": "lnq9aCTQzlEN",
        "outputId": "60fca632-ac3d-4042-e477-1d8a68e556c0",
        "colab": {
          "base_uri": "https://localhost:8080/",
          "height": 331
        }
      },
      "source": [
        "df['education'].value_counts()"
      ],
      "execution_count": null,
      "outputs": [
        {
          "output_type": "execute_result",
          "data": {
            "text/plain": [
              "HS-grad         15784\n",
              "Some-college    10878\n",
              "Bachelors        8025\n",
              "Masters          2657\n",
              "Assoc-voc        2061\n",
              "11th             1812\n",
              "Assoc-acdm       1601\n",
              "10th             1389\n",
              "7th-8th           955\n",
              "Prof-school       834\n",
              "9th               756\n",
              "12th              657\n",
              "Doctorate         594\n",
              "5th-6th           509\n",
              "1st-4th           247\n",
              "Preschool          83\n",
              "Name: education, dtype: int64"
            ]
          },
          "metadata": {
            "tags": []
          },
          "execution_count": 13
        }
      ]
    },
    {
      "cell_type": "markdown",
      "metadata": {
        "id": "bNWXldnca3JC"
      },
      "source": [
        "**Verificando a menor e a maior jornada de trabalho**"
      ]
    },
    {
      "cell_type": "code",
      "metadata": {
        "id": "SiRi7J11zlEQ",
        "outputId": "0783d524-c177-4630-8cbc-9374633e2591",
        "colab": {
          "base_uri": "https://localhost:8080/",
          "height": 54
        }
      },
      "source": [
        "print(df['hours-per-week'].min())\n",
        "print(df['hours-per-week'].max())"
      ],
      "execution_count": null,
      "outputs": [
        {
          "output_type": "stream",
          "text": [
            "1\n",
            "99\n"
          ],
          "name": "stdout"
        }
      ]
    },
    {
      "cell_type": "markdown",
      "metadata": {
        "id": "jvDHnuW9a-XY"
      },
      "source": [
        "**Quantidade de valores únicos em 'hours-per-week'**"
      ]
    },
    {
      "cell_type": "code",
      "metadata": {
        "id": "VrhXVx7hzlEV",
        "outputId": "bfd56d39-243d-45e6-8604-7694d79b7a89",
        "colab": {
          "base_uri": "https://localhost:8080/",
          "height": 35
        }
      },
      "source": [
        "len(df['hours-per-week'].unique())"
      ],
      "execution_count": null,
      "outputs": [
        {
          "output_type": "execute_result",
          "data": {
            "text/plain": [
              "96"
            ]
          },
          "metadata": {
            "tags": []
          },
          "execution_count": 15
        }
      ]
    },
    {
      "cell_type": "markdown",
      "metadata": {
        "id": "8e7yMfjPbLFK"
      },
      "source": [
        "**Valores únicos em 'hours-per-week'**"
      ]
    },
    {
      "cell_type": "code",
      "metadata": {
        "id": "q40rqUKkzlEY",
        "outputId": "d111e20d-beef-4736-ef1f-b4100a16f74b",
        "colab": {
          "base_uri": "https://localhost:8080/",
          "height": 128
        }
      },
      "source": [
        "df['hours-per-week'].unique()"
      ],
      "execution_count": null,
      "outputs": [
        {
          "output_type": "execute_result",
          "data": {
            "text/plain": [
              "array([40, 50, 30, 32, 10, 39, 35, 48, 25, 20, 45, 47,  6, 43, 90, 54, 60,\n",
              "       38, 36, 18, 24, 44, 56, 28, 16, 41, 22, 55, 14, 33, 37,  8, 12, 70,\n",
              "       15, 75, 52, 84, 42, 80, 68, 99, 65,  5, 17, 72, 53, 29, 96, 21, 46,\n",
              "        3,  1, 23, 49, 67, 76,  7,  2, 58, 26, 34,  4, 51, 78, 63, 31, 92,\n",
              "       77, 27, 85, 13, 19, 98, 62, 66, 57, 11, 86, 59,  9, 64, 73, 61, 88,\n",
              "       79, 89, 74, 69, 87, 97, 94, 82, 91, 81, 95])"
            ]
          },
          "metadata": {
            "tags": []
          },
          "execution_count": 16
        }
      ]
    },
    {
      "cell_type": "markdown",
      "metadata": {
        "id": "8VB4AKytzlEP"
      },
      "source": [
        "Veja a dificuldade em visualizar a coluna 'hours-per-week'."
      ]
    },
    {
      "cell_type": "code",
      "metadata": {
        "id": "9YlOAMNyzlEd",
        "outputId": "4a49b1db-8f60-4df9-c081-35c92e663619",
        "colab": {
          "base_uri": "https://localhost:8080/",
          "height": 1000
        }
      },
      "source": [
        "hour=pd.DataFrame(df['hours-per-week'].value_counts())\n",
        "hour.reset_index(inplace=True)\n",
        "hour.columns=(['valores','horas'])\n",
        "list(hour.values)"
      ],
      "execution_count": null,
      "outputs": [
        {
          "output_type": "execute_result",
          "data": {
            "text/plain": [
              "[array([   40, 22803]),\n",
              " array([  50, 4246]),\n",
              " array([  45, 2717]),\n",
              " array([  60, 2177]),\n",
              " array([  35, 1937]),\n",
              " array([  20, 1862]),\n",
              " array([  30, 1700]),\n",
              " array([  55, 1051]),\n",
              " array([ 25, 958]),\n",
              " array([ 48, 770]),\n",
              " array([ 38, 714]),\n",
              " array([ 15, 623]),\n",
              " array([ 70, 437]),\n",
              " array([ 10, 425]),\n",
              " array([ 32, 423]),\n",
              " array([ 65, 355]),\n",
              " array([ 24, 354]),\n",
              " array([ 42, 338]),\n",
              " array([ 36, 336]),\n",
              " array([ 44, 310]),\n",
              " array([ 16, 303]),\n",
              " array([ 12, 247]),\n",
              " array([ 37, 242]),\n",
              " array([ 43, 227]),\n",
              " array([  8, 218]),\n",
              " array([ 80, 210]),\n",
              " array([ 52, 205]),\n",
              " array([ 56, 141]),\n",
              " array([ 28, 140]),\n",
              " array([ 99, 137]),\n",
              " array([ 18, 129]),\n",
              " array([ 46, 129]),\n",
              " array([ 72, 107]),\n",
              " array([ 75, 105]),\n",
              " array([ 5, 95]),\n",
              " array([ 6, 92]),\n",
              " array([ 4, 84]),\n",
              " array([47, 82]),\n",
              " array([84, 72]),\n",
              " array([39, 63]),\n",
              " array([22, 62]),\n",
              " array([54, 62]),\n",
              " array([33, 61]),\n",
              " array([41, 59]),\n",
              " array([ 3, 59]),\n",
              " array([14, 55]),\n",
              " array([ 2, 53]),\n",
              " array([34, 48]),\n",
              " array([21, 46]),\n",
              " array([ 7, 45]),\n",
              " array([27, 43]),\n",
              " array([17, 42]),\n",
              " array([90, 42]),\n",
              " array([26, 40]),\n",
              " array([23, 40]),\n",
              " array([53, 39]),\n",
              " array([49, 39]),\n",
              " array([58, 38]),\n",
              " array([13, 28]),\n",
              " array([ 1, 27]),\n",
              " array([ 9, 27]),\n",
              " array([62, 23]),\n",
              " array([66, 23]),\n",
              " array([64, 22]),\n",
              " array([11, 20]),\n",
              " array([51, 20]),\n",
              " array([19, 19]),\n",
              " array([57, 19]),\n",
              " array([85, 17]),\n",
              " array([68, 16]),\n",
              " array([63, 15]),\n",
              " array([29, 15]),\n",
              " array([98, 14]),\n",
              " array([78, 13]),\n",
              " array([31, 12]),\n",
              " array([96,  9]),\n",
              " array([77,  9]),\n",
              " array([59,  7]),\n",
              " array([67,  6]),\n",
              " array([76,  4]),\n",
              " array([61,  4]),\n",
              " array([73,  4]),\n",
              " array([86,  4]),\n",
              " array([88,  4]),\n",
              " array([74,  3]),\n",
              " array([92,  3]),\n",
              " array([81,  3]),\n",
              " array([91,  3]),\n",
              " array([89,  3]),\n",
              " array([97,  2]),\n",
              " array([95,  2]),\n",
              " array([69,  1]),\n",
              " array([94,  1]),\n",
              " array([79,  1]),\n",
              " array([82,  1]),\n",
              " array([87,  1])]"
            ]
          },
          "metadata": {
            "tags": []
          },
          "execution_count": 17
        }
      ]
    },
    {
      "cell_type": "code",
      "metadata": {
        "id": "7P2q8zuWzlEk",
        "outputId": "a5796a2a-8d9f-4be9-fb87-3b38a0fc2a26",
        "colab": {
          "base_uri": "https://localhost:8080/",
          "height": 282
        }
      },
      "source": [
        "sns.scatterplot(data=hour, x='valores',y='horas');"
      ],
      "execution_count": null,
      "outputs": [
        {
          "output_type": "display_data",
          "data": {
            "image/png": "[encoded data removed]",
            "text/plain": [
              "<Figure size 432x288 with 1 Axes>"
            ]
          },
          "metadata": {
            "tags": [],
            "needs_background": "light"
          }
        }
      ]
    },
    {
      "cell_type": "markdown",
      "metadata": {
        "id": "cSJvG99BzlEs"
      },
      "source": [
        "**Discretizando os dados**\n",
        "\n",
        "Veja que mesmo com a contagem de valores a visualização está bem ruim, por isso é interessante dividir por categorias.\n",
        "\n",
        "O único insight que podemos tirar desses gráficos é que há apenas um valor em horas de trabalho que realmente é expressivo. 40h semanais com 15217 contagens.\n",
        "\n",
        "Além de que, isso não nos mostra nada em relação ao valor final.\n",
        "\n",
        "Na verdade, se houvesse a intenção de entender algo em relação a essa distribuição, poderiamos utilizar apenas partes dos dados, mas na verdade o que queremos é entender como se relaciona com os valores trabalhados por horas. \n",
        "\n",
        "Pra isso será feita uma categorização (discretização ou binarização) dos dados e todos esses 94 dados serão divididos em 3 categorias, que serão:\n",
        "\n",
        "* 0-30 (jornada curta)\n",
        "* 30-40 (jornada normal)\n",
        "* 40-100 (jornada extra)\n",
        "\n",
        "Você pode saber mais sobre esse e outros processamentos [aqui](https://bit.ly/2Siq0YU)."
      ]
    },
    {
      "cell_type": "code",
      "metadata": {
        "id": "lWMUBRiczlEt"
      },
      "source": [
        "df['hours-per-week'] = pd.cut(df['hours-per-week'],[0,30,40,100], labels =['short','normal','extra'])"
      ],
      "execution_count": null,
      "outputs": []
    },
    {
      "cell_type": "markdown",
      "metadata": {
        "id": "pyxcgyS0cqA-"
      },
      "source": [
        "**Distribuição das classes por Horas trabalhadas**"
      ]
    },
    {
      "cell_type": "code",
      "metadata": {
        "id": "aDJZwlbQcqVx",
        "outputId": "f75ffe68-206a-4fc6-a25b-07f265aef5de",
        "colab": {
          "base_uri": "https://localhost:8080/",
          "height": 391
        }
      },
      "source": [
        "plt.figure(figsize=(8,6))\n",
        "sns.countplot(data=df, x = 'hours-per-week',  hue = 'income');"
      ],
      "execution_count": null,
      "outputs": [
        {
          "output_type": "display_data",
          "data": {
            "image/png": "[encoded data removed]",
            "text/plain": [
              "<Figure size 576x432 with 1 Axes>"
            ]
          },
          "metadata": {
            "tags": [],
            "needs_background": "light"
          }
        }
      ]
    },
    {
      "cell_type": "markdown",
      "metadata": {
        "id": "YN8jAb8Gc7-X"
      },
      "source": [
        "**Agora vamos verificar a nova distribuição com os dados já discretizados**"
      ]
    },
    {
      "cell_type": "code",
      "metadata": {
        "id": "k1OAbczuzlEy",
        "outputId": "ba0c4f80-7c56-4e56-8746-171dfcf59ac3",
        "colab": {
          "base_uri": "https://localhost:8080/",
          "height": 91
        }
      },
      "source": [
        "df['hours-per-week'].value_counts()"
      ],
      "execution_count": null,
      "outputs": [
        {
          "output_type": "execute_result",
          "data": {
            "text/plain": [
              "normal    26639\n",
              "extra     14352\n",
              "short      7851\n",
              "Name: hours-per-week, dtype: int64"
            ]
          },
          "metadata": {
            "tags": []
          },
          "execution_count": 21
        }
      ]
    },
    {
      "cell_type": "markdown",
      "metadata": {
        "id": "Dv_nJQOadQ9l"
      },
      "source": [
        "**Distribuição das classes de acordo com a ocupação**"
      ]
    },
    {
      "cell_type": "code",
      "metadata": {
        "id": "jYQyCC17zlE3",
        "outputId": "bf8c7002-c9b0-4d58-e75a-1b9c439bece7",
        "colab": {
          "base_uri": "https://localhost:8080/",
          "height": 609
        }
      },
      "source": [
        "plt.figure(figsize=(20,10))\n",
        "sns.countplot(data=df, y = 'occupation',  hue = 'income');"
      ],
      "execution_count": null,
      "outputs": [
        {
          "output_type": "display_data",
          "data": {
            "image/png": "[encoded data removed]",
            "text/plain": [
              "<Figure size 1440x720 with 1 Axes>"
            ]
          },
          "metadata": {
            "tags": [],
            "needs_background": "light"
          }
        }
      ]
    },
    {
      "cell_type": "markdown",
      "metadata": {
        "id": "H3NF5gykdXBw"
      },
      "source": [
        "**Distribuição da variável 'occupation'**"
      ]
    },
    {
      "cell_type": "code",
      "metadata": {
        "id": "heQRQ9aCzlE6",
        "outputId": "882841b2-6e4f-4b26-eacb-60b6fdbc0667",
        "colab": {
          "base_uri": "https://localhost:8080/",
          "height": 294
        }
      },
      "source": [
        "df['occupation'].value_counts()"
      ],
      "execution_count": null,
      "outputs": [
        {
          "output_type": "execute_result",
          "data": {
            "text/plain": [
              "Prof-specialty       6172\n",
              "Craft-repair         6112\n",
              "Exec-managerial      6086\n",
              "Adm-clerical         5611\n",
              "Sales                5504\n",
              "Other-service        4923\n",
              "Machine-op-inspct    3022\n",
              "Transport-moving     2355\n",
              "Handlers-cleaners    2072\n",
              "Farming-fishing      1490\n",
              "Tech-support         1446\n",
              "Protective-serv       983\n",
              "Priv-house-serv       242\n",
              "Armed-Forces           15\n",
              "Name: occupation, dtype: int64"
            ]
          },
          "metadata": {
            "tags": []
          },
          "execution_count": 23
        }
      ]
    },
    {
      "cell_type": "markdown",
      "metadata": {
        "id": "mNMibtX2decz"
      },
      "source": [
        "**Correlação entre variáveis 'sex' e 'income'**\n",
        "\n",
        "Veja que tanto homens quanto mulheres estão abaixo dos 50k, contudo quando vemos pessoas que ganham acima desse valor há uma discrepância enorme, pois se os homens que ganham esse valor são cerca de 40 a 50% dos que ganham abaixo, as mulheres são muito mais abaixo, tanto em relação às mulheres e pior em relação aos homens."
      ]
    },
    {
      "cell_type": "code",
      "metadata": {
        "id": "zxwY1XynzlE8",
        "outputId": "35a5c3f6-f569-47f2-ef73-cce5f4e5335d",
        "colab": {
          "base_uri": "https://localhost:8080/",
          "height": 391
        }
      },
      "source": [
        "plt.figure(figsize=(8,6))\n",
        "sns.countplot(x=\"sex\", hue='income', data=df);"
      ],
      "execution_count": null,
      "outputs": [
        {
          "output_type": "display_data",
          "data": {
            "image/png": "[encoded data removed]",
            "text/plain": [
              "<Figure size 576x432 with 1 Axes>"
            ]
          },
          "metadata": {
            "tags": [],
            "needs_background": "light"
          }
        }
      ]
    },
    {
      "cell_type": "markdown",
      "metadata": {
        "id": "3Z6ON6qjello"
      },
      "source": [
        "**Correlação entre variáveis 'race' e 'income'**\n",
        "\n",
        "Como, infelizmente não poderia ser diferente, a maioria empregada é da cor branca e também são eles, de longe, que ganham os maiores salários."
      ]
    },
    {
      "cell_type": "code",
      "metadata": {
        "id": "BW0vjvq0zlFA",
        "outputId": "26bc13e0-158c-4664-e521-bcb742d16def",
        "colab": {
          "base_uri": "https://localhost:8080/",
          "height": 391
        }
      },
      "source": [
        "plt.figure(figsize=(8,6))\n",
        "sns.countplot(y=\"race\", hue='income', data=df);"
      ],
      "execution_count": null,
      "outputs": [
        {
          "output_type": "display_data",
          "data": {
            "image/png": "[encoded data removed]",
            "text/plain": [
              "<Figure size 576x432 with 1 Axes>"
            ]
          },
          "metadata": {
            "tags": [],
            "needs_background": "light"
          }
        }
      ]
    },
    {
      "cell_type": "markdown",
      "metadata": {
        "id": "WDrpygule1jB"
      },
      "source": [
        "**Verificando a idade mínima e máxima do dataset**"
      ]
    },
    {
      "cell_type": "code",
      "metadata": {
        "id": "Zqpuhxu9zlFD",
        "outputId": "1dbec612-347d-4809-aa54-28148c3c8ebd",
        "colab": {
          "base_uri": "https://localhost:8080/",
          "height": 54
        }
      },
      "source": [
        "# Verificando a idade mínima e máxima do dataset.\n",
        "print(f'A idade mínima é: {df.age.min()} anos')\n",
        "print(f'A idade máxima é: {df.age.max()} anos')"
      ],
      "execution_count": null,
      "outputs": [
        {
          "output_type": "stream",
          "text": [
            "A idade mínima é: 17 anos\n",
            "A idade máxima é: 90 anos\n"
          ],
          "name": "stdout"
        }
      ]
    },
    {
      "cell_type": "markdown",
      "metadata": {
        "id": "BGoxjng0fDHv"
      },
      "source": [
        "**Para uma melhor visualização**\n",
        "\n",
        "Vamos agrupar as idades em 3 categorias:\n",
        "* 0-25 anos (jovens)\n",
        "* 25-50 anos (adultos)\n",
        "* 50-100 anos (idosos)\n",
        "\n",
        "Tal qual foi feito com a variável 'hours-per-week'"
      ]
    },
    {
      "cell_type": "code",
      "metadata": {
        "id": "Cm4skCDWzlFG"
      },
      "source": [
        "df['age'] = pd.cut(df['age'],[0,25,50,100], labels =['young','adult','old'])"
      ],
      "execution_count": null,
      "outputs": []
    },
    {
      "cell_type": "markdown",
      "metadata": {
        "id": "B1t-vt10fglU"
      },
      "source": [
        "**Verificando como ficou a distribuição**"
      ]
    },
    {
      "cell_type": "code",
      "metadata": {
        "id": "CA8tZjM0fg2T",
        "outputId": "b4e45947-e80a-42a1-cef0-9950d63e2e48",
        "colab": {
          "base_uri": "https://localhost:8080/",
          "height": 391
        }
      },
      "source": [
        "plt.figure(figsize=(8,6))\n",
        "sns.countplot(data=df, x = 'age',  hue = 'income');"
      ],
      "execution_count": null,
      "outputs": [
        {
          "output_type": "display_data",
          "data": {
            "image/png": "[encoded data removed]",
            "text/plain": [
              "<Figure size 576x432 with 1 Axes>"
            ]
          },
          "metadata": {
            "tags": [],
            "needs_background": "light"
          }
        }
      ]
    },
    {
      "cell_type": "markdown",
      "metadata": {
        "id": "DzG9IY7RzlFJ"
      },
      "source": [
        "# 3. Substituindo os Valores Faltantes"
      ]
    },
    {
      "cell_type": "markdown",
      "metadata": {
        "id": "cfJktflZf5VP"
      },
      "source": [
        "**Verificando a quantidade de valores nulos no dataset**"
      ]
    },
    {
      "cell_type": "code",
      "metadata": {
        "id": "6M0i50kpzlFL",
        "outputId": "97201914-2c9b-42e1-fc0f-5b80b32d2ed3",
        "colab": {
          "base_uri": "https://localhost:8080/",
          "height": 144
        }
      },
      "source": [
        "# criando a contagem dos valores faltantes por coluna\n",
        "total = df.isnull().sum().sort_values(ascending=False)\n",
        "# criando o percentual dos valores faltantes por coluna\n",
        "percent = df.isnull().sum()/df.isnull().count().sort_values(ascending=False)\n",
        "# criando dataframe\n",
        "missing_data = pd.concat([total, percent], axis=1, sort=False, keys=['total', 'percent'])\n",
        "# visualizando somente os com percentual diferente de zero\n",
        "missing_data[missing_data['percent']!=0]"
      ],
      "execution_count": null,
      "outputs": [
        {
          "output_type": "execute_result",
          "data": {
            "text/html": [
              "<div>\n",
              "<style scoped>\n",
              "    .dataframe tbody tr th:only-of-type {\n",
              "        vertical-align: middle;\n",
              "    }\n",
              "\n",
              "    .dataframe tbody tr th {\n",
              "        vertical-align: top;\n",
              "    }\n",
              "\n",
              "    .dataframe thead th {\n",
              "        text-align: right;\n",
              "    }\n",
              "</style>\n",
              "<table border=\"1\" class=\"dataframe\">\n",
              "  <thead>\n",
              "    <tr style=\"text-align: right;\">\n",
              "      <th></th>\n",
              "      <th>total</th>\n",
              "      <th>percent</th>\n",
              "    </tr>\n",
              "  </thead>\n",
              "  <tbody>\n",
              "    <tr>\n",
              "      <th>occupation</th>\n",
              "      <td>2809</td>\n",
              "      <td>0.057512</td>\n",
              "    </tr>\n",
              "    <tr>\n",
              "      <th>workclass</th>\n",
              "      <td>2799</td>\n",
              "      <td>0.057307</td>\n",
              "    </tr>\n",
              "    <tr>\n",
              "      <th>native-country</th>\n",
              "      <td>857</td>\n",
              "      <td>0.017546</td>\n",
              "    </tr>\n",
              "  </tbody>\n",
              "</table>\n",
              "</div>"
            ],
            "text/plain": [
              "                total   percent\n",
              "occupation       2809  0.057512\n",
              "workclass        2799  0.057307\n",
              "native-country    857  0.017546"
            ]
          },
          "metadata": {
            "tags": []
          },
          "execution_count": 29
        }
      ]
    },
    {
      "cell_type": "markdown",
      "metadata": {
        "id": "Vu8jVY72ghQU"
      },
      "source": [
        "**Preenchendo os valores nulos da coluna 'workclass'**"
      ]
    },
    {
      "cell_type": "code",
      "metadata": {
        "id": "aLSjDgjtzlFO"
      },
      "source": [
        "top = 'Private'\n",
        "df['workclass'] = df['workclass'].fillna(top)"
      ],
      "execution_count": null,
      "outputs": []
    },
    {
      "cell_type": "markdown",
      "metadata": {
        "id": "_PPSIH-4gqUw"
      },
      "source": [
        "**Preenchendo os valores nulos da coluna 'occupation'**"
      ]
    },
    {
      "cell_type": "code",
      "metadata": {
        "id": "HSu02nBlzlFQ"
      },
      "source": [
        "top = 'United-States'\n",
        "df['occupation'] = df['occupation'].fillna(top)"
      ],
      "execution_count": null,
      "outputs": []
    },
    {
      "cell_type": "markdown",
      "metadata": {
        "id": "C7gmsOrngwXn"
      },
      "source": [
        "**Preenchendo os valores nulos da coluna 'native-country'**"
      ]
    },
    {
      "cell_type": "code",
      "metadata": {
        "id": "U-Hqc_iQzlFi"
      },
      "source": [
        "top = 'Prof-specialty'\n",
        "df['native-country'] = df['native-country'].fillna(top)"
      ],
      "execution_count": null,
      "outputs": []
    },
    {
      "cell_type": "markdown",
      "metadata": {
        "id": "3tvgEzDbg2cu"
      },
      "source": [
        "**Verificando se ainda existem valores nulos no Dataset**"
      ]
    },
    {
      "cell_type": "code",
      "metadata": {
        "id": "Z5aIiK1hzlFk",
        "outputId": "53afc2f6-99be-42aa-cc6b-cfd651b63a39",
        "colab": {
          "base_uri": "https://localhost:8080/",
          "height": 35
        }
      },
      "source": [
        "if df.isnull().sum().sort_values(ascending=False).any() != 0:\n",
        "    print(f'Existem valores nulos no dataset? {True}')\n",
        "else:\n",
        "    print(f'Existem valores nulos no dataset? {False}')"
      ],
      "execution_count": null,
      "outputs": [
        {
          "output_type": "stream",
          "text": [
            "Existem valores nulos no dataset? False\n"
          ],
          "name": "stdout"
        }
      ]
    },
    {
      "cell_type": "markdown",
      "metadata": {
        "id": "cOd7ZFwnhC9l"
      },
      "source": [
        "**Criando uma nova coluna com a renda final**"
      ]
    },
    {
      "cell_type": "code",
      "metadata": {
        "id": "RS_WPcZZzlFp"
      },
      "source": [
        "df['capital_last'] = df['capital-gain'] - df['capital-loss']"
      ],
      "execution_count": null,
      "outputs": []
    },
    {
      "cell_type": "markdown",
      "metadata": {
        "id": "fJZ3qZYJhRHM"
      },
      "source": [
        "**Criando função para remover as features sempre que necessário**\n"
      ]
    },
    {
      "cell_type": "code",
      "metadata": {
        "id": "_ev6Kid5zlFs"
      },
      "source": [
        "def remove_features(lista_features):\n",
        "    for i in lista_features:\n",
        "        df.drop(i, axis=1, inplace=True)"
      ],
      "execution_count": null,
      "outputs": []
    },
    {
      "cell_type": "markdown",
      "metadata": {
        "id": "3qJDyehnhfgq"
      },
      "source": [
        "**Removendo as primeiras features**\n",
        "\n",
        "A coluna 'educational-num' está preenchida com o código referente a cada nível de escolaridade, dessa maneira podemos excluir a coluna 'education'.\n",
        "\n",
        "As colunas 'capital-gain' e 'capital-loss' estão representadas pela nova coluna que criamos anteriormente."
      ]
    },
    {
      "cell_type": "code",
      "metadata": {
        "id": "4dYAVKJYzlFv"
      },
      "source": [
        "remove_features(['capital-gain','capital-loss','education'])"
      ],
      "execution_count": null,
      "outputs": []
    },
    {
      "cell_type": "markdown",
      "metadata": {
        "id": "ZS3E6IwNhxDC"
      },
      "source": [
        "**Transformando as variáveis categóricas em numéricas**"
      ]
    },
    {
      "cell_type": "code",
      "metadata": {
        "id": "NgKmPR8VzlF0"
      },
      "source": [
        "# selecionando apenas as colunas categóricas\n",
        "cols = df[df.select_dtypes(['object']).columns]\n",
        "# iterando sobre as colunas para transformar em numéricas com label encoder\n",
        "for c in cols:\n",
        "    encoding = LabelEncoder()\n",
        "# transformando\n",
        "    encoding.fit(list(df[c].values))\n",
        "    df[c] = encoding.transform(list(df[c].values))\n",
        "# aplicando o get_dummies\n",
        "df = pd.get_dummies(df)"
      ],
      "execution_count": null,
      "outputs": []
    },
    {
      "cell_type": "markdown",
      "metadata": {
        "id": "uG5hZhKdj3PO"
      },
      "source": [
        "Se quiser saber mais sobre as técnicas utilizadas acima, clique [aqui](https://bit.ly/2Siq0YU)."
      ]
    },
    {
      "cell_type": "code",
      "metadata": {
        "id": "Lbafp9FuzlF4",
        "outputId": "3363a2af-1f07-4904-aa29-95647af33bed",
        "colab": {
          "base_uri": "https://localhost:8080/",
          "height": 714
        }
      },
      "source": [
        "df.head(20)"
      ],
      "execution_count": null,
      "outputs": [
        {
          "output_type": "execute_result",
          "data": {
            "text/html": [
              "<div>\n",
              "<style scoped>\n",
              "    .dataframe tbody tr th:only-of-type {\n",
              "        vertical-align: middle;\n",
              "    }\n",
              "\n",
              "    .dataframe tbody tr th {\n",
              "        vertical-align: top;\n",
              "    }\n",
              "\n",
              "    .dataframe thead th {\n",
              "        text-align: right;\n",
              "    }\n",
              "</style>\n",
              "<table border=\"1\" class=\"dataframe\">\n",
              "  <thead>\n",
              "    <tr style=\"text-align: right;\">\n",
              "      <th></th>\n",
              "      <th>workclass</th>\n",
              "      <th>educational-num</th>\n",
              "      <th>marital-status</th>\n",
              "      <th>occupation</th>\n",
              "      <th>relationship</th>\n",
              "      <th>race</th>\n",
              "      <th>sex</th>\n",
              "      <th>native-country</th>\n",
              "      <th>income</th>\n",
              "      <th>capital_last</th>\n",
              "      <th>age_young</th>\n",
              "      <th>age_adult</th>\n",
              "      <th>age_old</th>\n",
              "      <th>hours-per-week_short</th>\n",
              "      <th>hours-per-week_normal</th>\n",
              "      <th>hours-per-week_extra</th>\n",
              "    </tr>\n",
              "  </thead>\n",
              "  <tbody>\n",
              "    <tr>\n",
              "      <th>0</th>\n",
              "      <td>3</td>\n",
              "      <td>7</td>\n",
              "      <td>4</td>\n",
              "      <td>6</td>\n",
              "      <td>3</td>\n",
              "      <td>2</td>\n",
              "      <td>1</td>\n",
              "      <td>39</td>\n",
              "      <td>0</td>\n",
              "      <td>0</td>\n",
              "      <td>1</td>\n",
              "      <td>0</td>\n",
              "      <td>0</td>\n",
              "      <td>0</td>\n",
              "      <td>1</td>\n",
              "      <td>0</td>\n",
              "    </tr>\n",
              "    <tr>\n",
              "      <th>1</th>\n",
              "      <td>3</td>\n",
              "      <td>9</td>\n",
              "      <td>2</td>\n",
              "      <td>4</td>\n",
              "      <td>0</td>\n",
              "      <td>4</td>\n",
              "      <td>1</td>\n",
              "      <td>39</td>\n",
              "      <td>0</td>\n",
              "      <td>0</td>\n",
              "      <td>0</td>\n",
              "      <td>1</td>\n",
              "      <td>0</td>\n",
              "      <td>0</td>\n",
              "      <td>0</td>\n",
              "      <td>1</td>\n",
              "    </tr>\n",
              "    <tr>\n",
              "      <th>2</th>\n",
              "      <td>1</td>\n",
              "      <td>12</td>\n",
              "      <td>2</td>\n",
              "      <td>10</td>\n",
              "      <td>0</td>\n",
              "      <td>4</td>\n",
              "      <td>1</td>\n",
              "      <td>39</td>\n",
              "      <td>1</td>\n",
              "      <td>0</td>\n",
              "      <td>0</td>\n",
              "      <td>1</td>\n",
              "      <td>0</td>\n",
              "      <td>0</td>\n",
              "      <td>1</td>\n",
              "      <td>0</td>\n",
              "    </tr>\n",
              "    <tr>\n",
              "      <th>3</th>\n",
              "      <td>3</td>\n",
              "      <td>10</td>\n",
              "      <td>2</td>\n",
              "      <td>6</td>\n",
              "      <td>0</td>\n",
              "      <td>2</td>\n",
              "      <td>1</td>\n",
              "      <td>39</td>\n",
              "      <td>1</td>\n",
              "      <td>7688</td>\n",
              "      <td>0</td>\n",
              "      <td>1</td>\n",
              "      <td>0</td>\n",
              "      <td>0</td>\n",
              "      <td>1</td>\n",
              "      <td>0</td>\n",
              "    </tr>\n",
              "    <tr>\n",
              "      <th>4</th>\n",
              "      <td>3</td>\n",
              "      <td>10</td>\n",
              "      <td>4</td>\n",
              "      <td>14</td>\n",
              "      <td>3</td>\n",
              "      <td>4</td>\n",
              "      <td>0</td>\n",
              "      <td>39</td>\n",
              "      <td>0</td>\n",
              "      <td>0</td>\n",
              "      <td>1</td>\n",
              "      <td>0</td>\n",
              "      <td>0</td>\n",
              "      <td>1</td>\n",
              "      <td>0</td>\n",
              "      <td>0</td>\n",
              "    </tr>\n",
              "    <tr>\n",
              "      <th>5</th>\n",
              "      <td>3</td>\n",
              "      <td>6</td>\n",
              "      <td>4</td>\n",
              "      <td>7</td>\n",
              "      <td>1</td>\n",
              "      <td>4</td>\n",
              "      <td>1</td>\n",
              "      <td>39</td>\n",
              "      <td>0</td>\n",
              "      <td>0</td>\n",
              "      <td>0</td>\n",
              "      <td>1</td>\n",
              "      <td>0</td>\n",
              "      <td>1</td>\n",
              "      <td>0</td>\n",
              "      <td>0</td>\n",
              "    </tr>\n",
              "    <tr>\n",
              "      <th>6</th>\n",
              "      <td>3</td>\n",
              "      <td>9</td>\n",
              "      <td>4</td>\n",
              "      <td>14</td>\n",
              "      <td>4</td>\n",
              "      <td>2</td>\n",
              "      <td>1</td>\n",
              "      <td>39</td>\n",
              "      <td>0</td>\n",
              "      <td>0</td>\n",
              "      <td>0</td>\n",
              "      <td>1</td>\n",
              "      <td>0</td>\n",
              "      <td>0</td>\n",
              "      <td>1</td>\n",
              "      <td>0</td>\n",
              "    </tr>\n",
              "    <tr>\n",
              "      <th>7</th>\n",
              "      <td>5</td>\n",
              "      <td>15</td>\n",
              "      <td>2</td>\n",
              "      <td>9</td>\n",
              "      <td>0</td>\n",
              "      <td>4</td>\n",
              "      <td>1</td>\n",
              "      <td>39</td>\n",
              "      <td>1</td>\n",
              "      <td>3103</td>\n",
              "      <td>0</td>\n",
              "      <td>0</td>\n",
              "      <td>1</td>\n",
              "      <td>0</td>\n",
              "      <td>1</td>\n",
              "      <td>0</td>\n",
              "    </tr>\n",
              "    <tr>\n",
              "      <th>8</th>\n",
              "      <td>3</td>\n",
              "      <td>10</td>\n",
              "      <td>4</td>\n",
              "      <td>7</td>\n",
              "      <td>4</td>\n",
              "      <td>4</td>\n",
              "      <td>0</td>\n",
              "      <td>39</td>\n",
              "      <td>0</td>\n",
              "      <td>0</td>\n",
              "      <td>1</td>\n",
              "      <td>0</td>\n",
              "      <td>0</td>\n",
              "      <td>0</td>\n",
              "      <td>1</td>\n",
              "      <td>0</td>\n",
              "    </tr>\n",
              "    <tr>\n",
              "      <th>9</th>\n",
              "      <td>3</td>\n",
              "      <td>4</td>\n",
              "      <td>2</td>\n",
              "      <td>2</td>\n",
              "      <td>0</td>\n",
              "      <td>4</td>\n",
              "      <td>1</td>\n",
              "      <td>39</td>\n",
              "      <td>0</td>\n",
              "      <td>0</td>\n",
              "      <td>0</td>\n",
              "      <td>0</td>\n",
              "      <td>1</td>\n",
              "      <td>1</td>\n",
              "      <td>0</td>\n",
              "      <td>0</td>\n",
              "    </tr>\n",
              "    <tr>\n",
              "      <th>10</th>\n",
              "      <td>3</td>\n",
              "      <td>9</td>\n",
              "      <td>2</td>\n",
              "      <td>6</td>\n",
              "      <td>0</td>\n",
              "      <td>4</td>\n",
              "      <td>1</td>\n",
              "      <td>39</td>\n",
              "      <td>1</td>\n",
              "      <td>6418</td>\n",
              "      <td>0</td>\n",
              "      <td>0</td>\n",
              "      <td>1</td>\n",
              "      <td>0</td>\n",
              "      <td>1</td>\n",
              "      <td>0</td>\n",
              "    </tr>\n",
              "    <tr>\n",
              "      <th>11</th>\n",
              "      <td>0</td>\n",
              "      <td>13</td>\n",
              "      <td>2</td>\n",
              "      <td>0</td>\n",
              "      <td>0</td>\n",
              "      <td>4</td>\n",
              "      <td>1</td>\n",
              "      <td>39</td>\n",
              "      <td>0</td>\n",
              "      <td>0</td>\n",
              "      <td>0</td>\n",
              "      <td>1</td>\n",
              "      <td>0</td>\n",
              "      <td>0</td>\n",
              "      <td>1</td>\n",
              "      <td>0</td>\n",
              "    </tr>\n",
              "    <tr>\n",
              "      <th>12</th>\n",
              "      <td>3</td>\n",
              "      <td>9</td>\n",
              "      <td>4</td>\n",
              "      <td>0</td>\n",
              "      <td>1</td>\n",
              "      <td>4</td>\n",
              "      <td>0</td>\n",
              "      <td>39</td>\n",
              "      <td>0</td>\n",
              "      <td>0</td>\n",
              "      <td>0</td>\n",
              "      <td>1</td>\n",
              "      <td>0</td>\n",
              "      <td>0</td>\n",
              "      <td>1</td>\n",
              "      <td>0</td>\n",
              "    </tr>\n",
              "    <tr>\n",
              "      <th>13</th>\n",
              "      <td>3</td>\n",
              "      <td>9</td>\n",
              "      <td>2</td>\n",
              "      <td>14</td>\n",
              "      <td>0</td>\n",
              "      <td>4</td>\n",
              "      <td>1</td>\n",
              "      <td>39</td>\n",
              "      <td>0</td>\n",
              "      <td>0</td>\n",
              "      <td>0</td>\n",
              "      <td>0</td>\n",
              "      <td>1</td>\n",
              "      <td>0</td>\n",
              "      <td>1</td>\n",
              "      <td>0</td>\n",
              "    </tr>\n",
              "    <tr>\n",
              "      <th>14</th>\n",
              "      <td>3</td>\n",
              "      <td>9</td>\n",
              "      <td>2</td>\n",
              "      <td>6</td>\n",
              "      <td>0</td>\n",
              "      <td>4</td>\n",
              "      <td>1</td>\n",
              "      <td>39</td>\n",
              "      <td>1</td>\n",
              "      <td>3103</td>\n",
              "      <td>0</td>\n",
              "      <td>1</td>\n",
              "      <td>0</td>\n",
              "      <td>0</td>\n",
              "      <td>0</td>\n",
              "      <td>1</td>\n",
              "    </tr>\n",
              "    <tr>\n",
              "      <th>15</th>\n",
              "      <td>3</td>\n",
              "      <td>14</td>\n",
              "      <td>2</td>\n",
              "      <td>3</td>\n",
              "      <td>0</td>\n",
              "      <td>4</td>\n",
              "      <td>1</td>\n",
              "      <td>39</td>\n",
              "      <td>1</td>\n",
              "      <td>0</td>\n",
              "      <td>0</td>\n",
              "      <td>1</td>\n",
              "      <td>0</td>\n",
              "      <td>0</td>\n",
              "      <td>0</td>\n",
              "      <td>1</td>\n",
              "    </tr>\n",
              "    <tr>\n",
              "      <th>16</th>\n",
              "      <td>6</td>\n",
              "      <td>10</td>\n",
              "      <td>4</td>\n",
              "      <td>7</td>\n",
              "      <td>3</td>\n",
              "      <td>4</td>\n",
              "      <td>1</td>\n",
              "      <td>39</td>\n",
              "      <td>0</td>\n",
              "      <td>0</td>\n",
              "      <td>1</td>\n",
              "      <td>0</td>\n",
              "      <td>0</td>\n",
              "      <td>1</td>\n",
              "      <td>0</td>\n",
              "      <td>0</td>\n",
              "    </tr>\n",
              "    <tr>\n",
              "      <th>17</th>\n",
              "      <td>3</td>\n",
              "      <td>9</td>\n",
              "      <td>2</td>\n",
              "      <td>0</td>\n",
              "      <td>5</td>\n",
              "      <td>4</td>\n",
              "      <td>0</td>\n",
              "      <td>39</td>\n",
              "      <td>0</td>\n",
              "      <td>0</td>\n",
              "      <td>0</td>\n",
              "      <td>1</td>\n",
              "      <td>0</td>\n",
              "      <td>1</td>\n",
              "      <td>0</td>\n",
              "      <td>0</td>\n",
              "    </tr>\n",
              "    <tr>\n",
              "      <th>18</th>\n",
              "      <td>3</td>\n",
              "      <td>9</td>\n",
              "      <td>6</td>\n",
              "      <td>6</td>\n",
              "      <td>4</td>\n",
              "      <td>4</td>\n",
              "      <td>0</td>\n",
              "      <td>39</td>\n",
              "      <td>0</td>\n",
              "      <td>0</td>\n",
              "      <td>0</td>\n",
              "      <td>1</td>\n",
              "      <td>0</td>\n",
              "      <td>1</td>\n",
              "      <td>0</td>\n",
              "      <td>0</td>\n",
              "    </tr>\n",
              "    <tr>\n",
              "      <th>19</th>\n",
              "      <td>3</td>\n",
              "      <td>16</td>\n",
              "      <td>2</td>\n",
              "      <td>9</td>\n",
              "      <td>0</td>\n",
              "      <td>1</td>\n",
              "      <td>1</td>\n",
              "      <td>32</td>\n",
              "      <td>1</td>\n",
              "      <td>0</td>\n",
              "      <td>0</td>\n",
              "      <td>1</td>\n",
              "      <td>0</td>\n",
              "      <td>0</td>\n",
              "      <td>0</td>\n",
              "      <td>1</td>\n",
              "    </tr>\n",
              "  </tbody>\n",
              "</table>\n",
              "</div>"
            ],
            "text/plain": [
              "    workclass  educational-num  ...  hours-per-week_normal  hours-per-week_extra\n",
              "0           3                7  ...                      1                     0\n",
              "1           3                9  ...                      0                     1\n",
              "2           1               12  ...                      1                     0\n",
              "3           3               10  ...                      1                     0\n",
              "4           3               10  ...                      0                     0\n",
              "5           3                6  ...                      0                     0\n",
              "6           3                9  ...                      1                     0\n",
              "7           5               15  ...                      1                     0\n",
              "8           3               10  ...                      1                     0\n",
              "9           3                4  ...                      0                     0\n",
              "10          3                9  ...                      1                     0\n",
              "11          0               13  ...                      1                     0\n",
              "12          3                9  ...                      1                     0\n",
              "13          3                9  ...                      1                     0\n",
              "14          3                9  ...                      0                     1\n",
              "15          3               14  ...                      0                     1\n",
              "16          6               10  ...                      0                     0\n",
              "17          3                9  ...                      0                     0\n",
              "18          3                9  ...                      0                     0\n",
              "19          3               16  ...                      0                     1\n",
              "\n",
              "[20 rows x 16 columns]"
            ]
          },
          "metadata": {
            "tags": []
          },
          "execution_count": 38
        }
      ]
    },
    {
      "cell_type": "markdown",
      "metadata": {
        "id": "syDv9YsFkKeU"
      },
      "source": [
        "**Checando as correlações**\n",
        "\n",
        "Isso possibilita a análise simultânea da associação entre variáveis.\n",
        "\n",
        "Os números 1.00 são das variáveis com elas mesmas, logo 1.00 é a mais alta correlação positiva, ao passo que 0 não há correlação e -1 é a correlação negativa, ou seja, enquanto uma variável cresce a outra diminui na mesma proporção, enquanto uma desce, a outra sobe na mesma proporção.\n",
        "\n",
        "A partir de 0.7, 0.8 pode ser considerada como alta correlação."
      ]
    },
    {
      "cell_type": "code",
      "metadata": {
        "id": "7DwBBE5ZzlF9",
        "outputId": "6366acce-43ff-4e93-8408-34bfb76c632d",
        "colab": {
          "base_uri": "https://localhost:8080/",
          "height": 664
        }
      },
      "source": [
        "corr = df.corr()\n",
        "sns.set(rc={'axes.facecolor':'white', 'figure.facecolor':'white'})\n",
        "plt.subplots(figsize=(12, 9))\n",
        "sns.heatmap(corr, vmax=.8,annot_kws={'size': 10}, annot=True, fmt='.2f');"
      ],
      "execution_count": null,
      "outputs": [
        {
          "output_type": "display_data",
          "data": {
            "image/png": "[encoded data removed]",
            "text/plain": [
              "<Figure size 864x648 with 2 Axes>"
            ]
          },
          "metadata": {
            "tags": []
          }
        }
      ]
    },
    {
      "cell_type": "markdown",
      "metadata": {
        "id": "CZ1z2KIilYdB"
      },
      "source": [
        "**Vamos verificar as correlações entre a variável 'income' e as demais variáveis."
      ]
    },
    {
      "cell_type": "code",
      "metadata": {
        "id": "js5a_WbFzlGC",
        "outputId": "ded97cad-d3a8-48d2-fa59-2dd76a75e09e",
        "colab": {
          "base_uri": "https://localhost:8080/",
          "height": 313
        }
      },
      "source": [
        "corr_list = corr['income'].sort_values(axis=0,ascending=False).iloc[1:]\n",
        "corr_list"
      ],
      "execution_count": null,
      "outputs": [
        {
          "output_type": "execute_result",
          "data": {
            "text/plain": [
              "educational-num          0.332613\n",
              "hours-per-week_extra     0.243127\n",
              "sex                      0.214628\n",
              "capital_last             0.214356\n",
              "age_adult                0.133381\n",
              "age_old                  0.092733\n",
              "race                     0.070934\n",
              "native-country           0.020073\n",
              "occupation               0.007275\n",
              "workclass               -0.000511\n",
              "hours-per-week_normal   -0.092061\n",
              "hours-per-week_short    -0.176724\n",
              "marital-status          -0.199072\n",
              "relationship            -0.253214\n",
              "age_young               -0.257496\n",
              "Name: income, dtype: float64"
            ]
          },
          "metadata": {
            "tags": []
          },
          "execution_count": 40
        }
      ]
    },
    {
      "cell_type": "markdown",
      "metadata": {
        "id": "lv_e3Yf_lxdS"
      },
      "source": [
        "# 4. Selecionando Features Importantes"
      ]
    },
    {
      "cell_type": "markdown",
      "metadata": {
        "id": "5xZ8uDyflqAZ"
      },
      "source": [
        "**Separando a classe dos Dados**"
      ]
    },
    {
      "cell_type": "code",
      "metadata": {
        "id": "b_bk5MlTzlGG"
      },
      "source": [
        "previsores = df.drop('income',axis=1)\n",
        "classe = df['income']"
      ],
      "execution_count": null,
      "outputs": []
    },
    {
      "cell_type": "markdown",
      "metadata": {
        "id": "eM8q94rIl2T5"
      },
      "source": [
        "**Criando classificador para visualizar as features mais importantes para o modelo**\n",
        "\n",
        "Como falado [aqui](https://bit.ly/2Sg9LM7) os modelos de *Random Forest* e *Decision Tree* têm a vantagem de nos dá de uma forma clara quais features realmente importam para o modelo. \n",
        "\n",
        "Deste modo, podemos excluir do nosso modelo aquelas variáveis que não têm importância e que, no fim, acabam retirando um pouco da precisão do modelo.\n",
        "\n",
        "Ainda que o algoritmo final não seja nenhum deles, extrair essas regras nos darão vantagem para qualquer modelo de Machine Learning."
      ]
    },
    {
      "cell_type": "code",
      "metadata": {
        "id": "J025QF1RzlGK",
        "outputId": "8cb8c759-3597-4a7d-de45-037fbb16315c",
        "colab": {
          "base_uri": "https://localhost:8080/",
          "height": 165
        }
      },
      "source": [
        "clf=RandomForestClassifier(n_estimators=100, random_state=12)\n",
        "clf.fit(previsores, classe)"
      ],
      "execution_count": null,
      "outputs": [
        {
          "output_type": "execute_result",
          "data": {
            "text/plain": [
              "RandomForestClassifier(bootstrap=True, ccp_alpha=0.0, class_weight=None,\n",
              "                       criterion='gini', max_depth=None, max_features='auto',\n",
              "                       max_leaf_nodes=None, max_samples=None,\n",
              "                       min_impurity_decrease=0.0, min_impurity_split=None,\n",
              "                       min_samples_leaf=1, min_samples_split=2,\n",
              "                       min_weight_fraction_leaf=0.0, n_estimators=100,\n",
              "                       n_jobs=None, oob_score=False, random_state=12, verbose=0,\n",
              "                       warm_start=False)"
            ]
          },
          "metadata": {
            "tags": []
          },
          "execution_count": 42
        }
      ]
    },
    {
      "cell_type": "markdown",
      "metadata": {
        "id": "4J2BmRH1nAVL"
      },
      "source": [
        "**Visualizando as features mais importantes**"
      ]
    },
    {
      "cell_type": "code",
      "metadata": {
        "id": "lxE5Uf_ezlGO",
        "outputId": "f85b6aed-8405-411e-9cc0-541af54aebcc",
        "colab": {
          "base_uri": "https://localhost:8080/",
          "height": 313
        }
      },
      "source": [
        "feature_imp = pd.Series(clf.feature_importances_,index=previsores.columns).sort_values(ascending=False)\n",
        "feature_imp"
      ],
      "execution_count": null,
      "outputs": [
        {
          "output_type": "execute_result",
          "data": {
            "text/plain": [
              "capital_last             0.229993\n",
              "educational-num          0.181550\n",
              "relationship             0.143937\n",
              "marital-status           0.111794\n",
              "occupation               0.111505\n",
              "workclass                0.057890\n",
              "native-country           0.036843\n",
              "hours-per-week_extra     0.026942\n",
              "age_young                0.024092\n",
              "race                     0.023410\n",
              "sex                      0.014092\n",
              "hours-per-week_short     0.013292\n",
              "age_adult                0.008313\n",
              "hours-per-week_normal    0.008241\n",
              "age_old                  0.008108\n",
              "dtype: float64"
            ]
          },
          "metadata": {
            "tags": []
          },
          "execution_count": 43
        }
      ]
    },
    {
      "cell_type": "markdown",
      "metadata": {
        "id": "H7WswkhxnFgY"
      },
      "source": [
        "**Visualizando graficamente as features mais importantes**"
      ]
    },
    {
      "cell_type": "code",
      "metadata": {
        "id": "Ys4oCBy_zlGU",
        "outputId": "156e2b30-5908-4983-e9c8-57f32658638b",
        "colab": {
          "base_uri": "https://localhost:8080/",
          "height": 410
        }
      },
      "source": [
        "plt.figure(figsize=(8,6))\n",
        "sns.barplot(x=feature_imp, y=feature_imp.index)\n",
        "plt.xlabel('Feature Importance Score')\n",
        "plt.ylabel('Features')\n",
        "plt.title(\"Visualizing Important Features\")\n",
        "plt.show()"
      ],
      "execution_count": null,
      "outputs": [
        {
          "output_type": "display_data",
          "data": {
            "image/png": "[encoded data removed]",
            "text/plain": [
              "<Figure size 576x432 with 1 Axes>"
            ]
          },
          "metadata": {
            "tags": []
          }
        }
      ]
    },
    {
      "cell_type": "markdown",
      "metadata": {
        "id": "rhQ6u7YonNY1"
      },
      "source": [
        "**Selecionando as features de maior importância**\n",
        "\n",
        "Aquelas acima de 3% de importância"
      ]
    },
    {
      "cell_type": "code",
      "metadata": {
        "id": "b7tosWI5zlGY",
        "outputId": "b7843905-478e-444b-f397-e4f748868862",
        "colab": {
          "base_uri": "https://localhost:8080/",
          "height": 146
        }
      },
      "source": [
        "features_selected = []\n",
        "for feature,importance in feature_imp.iteritems():\n",
        "# iteritems retorna um iterador que nos permiter iterar sobre a chave ou valor\n",
        "    if importance > 0.03:\n",
        "        print(f'{feature}: {round(importance * 100)}%')\n",
        "        features_selected.append(feature)"
      ],
      "execution_count": null,
      "outputs": [
        {
          "output_type": "stream",
          "text": [
            "capital_last: 23%\n",
            "educational-num: 18%\n",
            "relationship: 14%\n",
            "marital-status: 11%\n",
            "occupation: 11%\n",
            "workclass: 6%\n",
            "native-country: 4%\n"
          ],
          "name": "stdout"
        }
      ]
    },
    {
      "cell_type": "markdown",
      "metadata": {
        "id": "2dl-n2xjoTv-"
      },
      "source": [
        "# 5. Treinando Modelos de Machine Learning"
      ]
    },
    {
      "cell_type": "markdown",
      "metadata": {
        "id": "e5Zk529in__C"
      },
      "source": [
        "**Treinando os modelos utilizando apenas as features selecionadas**"
      ]
    },
    {
      "cell_type": "code",
      "metadata": {
        "id": "IBrw0z6zzlGc"
      },
      "source": [
        "previsores = df[features_selected]\n",
        "classe = df['income']"
      ],
      "execution_count": null,
      "outputs": []
    },
    {
      "cell_type": "markdown",
      "metadata": {
        "id": "wIZP3douoO4E"
      },
      "source": [
        "**Criando modelo de Machine Learning a partir de cada algoritmo**\n",
        "\n",
        "Os dados estão em diferentes escalas e isso pode prejudicar a performance de alguns algoritmos, logo deve-se aplicar a Padronização ao conjunto de dados (colocando-os na mesma escala). Veja mais sobre isso [aqui](https://bit.ly/2Siq0YU).\n",
        "Nesta técnica, os dados serão transformados de modo que estejam com uma distribuição normal, com média igual a zero e\n",
        "desvio padrão igual a 1.\n",
        "\n",
        "<p><span style=\"color:red\">Observação:</span></p> O modelo SVM não foi utilizado por não funcionar bem grandes conjuntos de dados, uma vez que o tempo de treinamento necessário é maior. \n"
      ]
    },
    {
      "cell_type": "code",
      "metadata": {
        "id": "ZRI5LzqlzlGg",
        "outputId": "6a4dd039-19eb-48a0-ebfe-d06fee2175c0",
        "colab": {
          "base_uri": "https://localhost:8080/",
          "height": 109
        }
      },
      "source": [
        "pipelines = []\n",
        "pipelines.append(('Scaled-LR', Pipeline([('Scaler', StandardScaler()),('LR', LogisticRegression())]))),\n",
        "pipelines.append(('Scaled-KNN', Pipeline([('Scaler', StandardScaler()),('KNN', KNeighborsClassifier())]))),\n",
        "pipelines.append(('Scaled-NB', Pipeline([('Scaler', StandardScaler()),('NB', GaussianNB())]))),\n",
        "pipelines.append(('Scaled-DT', Pipeline([('Scaler', StandardScaler()),('DT', DecisionTreeClassifier())]))),\n",
        "pipelines.append(('Scaled-RF', Pipeline([('Scaler', StandardScaler()),('RF', RandomForestClassifier())])))\n",
        "resultados = []\n",
        "nomes = []\n",
        "\n",
        "# Percorrendo cada um dos modelos e fazedo o cross validation\n",
        "for nome, modelo in pipelines:\n",
        "    kfold = StratifiedKFold(n_splits=10, shuffle = True, random_state=12)\n",
        "    cross_val_result = model_selection.cross_val_score(modelo, \n",
        "                                                     previsores, \n",
        "                                                     classe, \n",
        "                                                     cv = kfold, \n",
        "                                                     scoring = 'accuracy')\n",
        "    resultados.append(cross_val_result)\n",
        "    nomes.append(nome)\n",
        "# retornando a média das validações, bem como seu desvio padrão\n",
        "    texto = \"%s: %f (%f)\" % (nome, cross_val_result.mean(), cross_val_result.std())\n",
        "    print(texto)"
      ],
      "execution_count": null,
      "outputs": [
        {
          "output_type": "stream",
          "text": [
            "Scaled-LR: 0.817616 (0.005746)\n",
            "Scaled-KNN: 0.838131 (0.004623)\n",
            "Scaled-NB: 0.802588 (0.003415)\n",
            "Scaled-DT: 0.853753 (0.004910)\n",
            "Scaled-RF: 0.856927 (0.003957)\n"
          ],
          "name": "stdout"
        }
      ]
    },
    {
      "cell_type": "markdown",
      "metadata": {
        "id": "JB5PYudRwZ08"
      },
      "source": [
        "**Visualizando o objeto pipelines**"
      ]
    },
    {
      "cell_type": "code",
      "metadata": {
        "id": "oE5YHpLI5JQ6",
        "outputId": "6bcdf041-20ca-4d72-fa6b-039cc491448d",
        "colab": {
          "base_uri": "https://localhost:8080/",
          "height": 978
        }
      },
      "source": [
        "pipelines"
      ],
      "execution_count": null,
      "outputs": [
        {
          "output_type": "execute_result",
          "data": {
            "text/plain": [
              "[('Scaled-LR', Pipeline(memory=None,\n",
              "           steps=[('Scaler',\n",
              "                   StandardScaler(copy=True, with_mean=True, with_std=True)),\n",
              "                  ('LR',\n",
              "                   LogisticRegression(C=1.0, class_weight=None, dual=False,\n",
              "                                      fit_intercept=True, intercept_scaling=1,\n",
              "                                      l1_ratio=None, max_iter=100,\n",
              "                                      multi_class='auto', n_jobs=None,\n",
              "                                      penalty='l2', random_state=None,\n",
              "                                      solver='lbfgs', tol=0.0001, verbose=0,\n",
              "                                      warm_start=False))],\n",
              "           verbose=False)), ('Scaled-KNN', Pipeline(memory=None,\n",
              "           steps=[('Scaler',\n",
              "                   StandardScaler(copy=True, with_mean=True, with_std=True)),\n",
              "                  ('KNN',\n",
              "                   KNeighborsClassifier(algorithm='auto', leaf_size=30,\n",
              "                                        metric='minkowski', metric_params=None,\n",
              "                                        n_jobs=None, n_neighbors=5, p=2,\n",
              "                                        weights='uniform'))],\n",
              "           verbose=False)), ('Scaled-NB', Pipeline(memory=None,\n",
              "           steps=[('Scaler',\n",
              "                   StandardScaler(copy=True, with_mean=True, with_std=True)),\n",
              "                  ('NB', GaussianNB(priors=None, var_smoothing=1e-09))],\n",
              "           verbose=False)), ('Scaled-DT', Pipeline(memory=None,\n",
              "           steps=[('Scaler',\n",
              "                   StandardScaler(copy=True, with_mean=True, with_std=True)),\n",
              "                  ('DT',\n",
              "                   DecisionTreeClassifier(ccp_alpha=0.0, class_weight=None,\n",
              "                                          criterion='gini', max_depth=None,\n",
              "                                          max_features=None, max_leaf_nodes=None,\n",
              "                                          min_impurity_decrease=0.0,\n",
              "                                          min_impurity_split=None,\n",
              "                                          min_samples_leaf=1, min_samples_split=2,\n",
              "                                          min_weight_fraction_leaf=0.0,\n",
              "                                          presort='deprecated', random_state=None,\n",
              "                                          splitter='best'))],\n",
              "           verbose=False)), ('Scaled-RF', Pipeline(memory=None,\n",
              "           steps=[('Scaler',\n",
              "                   StandardScaler(copy=True, with_mean=True, with_std=True)),\n",
              "                  ('RF',\n",
              "                   RandomForestClassifier(bootstrap=True, ccp_alpha=0.0,\n",
              "                                          class_weight=None, criterion='gini',\n",
              "                                          max_depth=None, max_features='auto',\n",
              "                                          max_leaf_nodes=None, max_samples=None,\n",
              "                                          min_impurity_decrease=0.0,\n",
              "                                          min_impurity_split=None,\n",
              "                                          min_samples_leaf=1, min_samples_split=2,\n",
              "                                          min_weight_fraction_leaf=0.0,\n",
              "                                          n_estimators=100, n_jobs=None,\n",
              "                                          oob_score=False, random_state=None,\n",
              "                                          verbose=0, warm_start=False))],\n",
              "           verbose=False))]"
            ]
          },
          "metadata": {
            "tags": []
          },
          "execution_count": 48
        }
      ]
    },
    {
      "cell_type": "markdown",
      "metadata": {
        "id": "xIjOddVvwigr"
      },
      "source": [
        "**Visualizando os melhores algoritmos via boxplot**\n",
        "\n",
        "De acordo com os resultados anteriores, os modelos criados com DecisionTree e Random Forest apresentaram os melhores valores de acurácia e conseguinte os melhores resultados.\n",
        "\n",
        "O gráfico de Caixas ou BoxPlot nos ajudará a visualizar isso melhor."
      ]
    },
    {
      "cell_type": "code",
      "metadata": {
        "id": "4cPdg5xHzlGi",
        "outputId": "e91c022a-55c9-4061-af2d-2ce5884d25a7",
        "colab": {
          "base_uri": "https://localhost:8080/",
          "height": 297
        }
      },
      "source": [
        "fig = plt.figure()\n",
        "fig.suptitle('Comparando os Algoritmos Padronizados')\n",
        "ax = fig.add_subplot(111)\n",
        "plt.boxplot(resultados)\n",
        "ax.set_xticklabels(nomes)\n",
        "plt.show()"
      ],
      "execution_count": null,
      "outputs": [
        {
          "output_type": "display_data",
          "data": {
            "image/png": "[encoded data removed]",
            "text/plain": [
              "<Figure size 432x288 with 1 Axes>"
            ]
          },
          "metadata": {
            "tags": []
          }
        }
      ]
    },
    {
      "cell_type": "markdown",
      "metadata": {
        "id": "rvuAC4zjw8Hg"
      },
      "source": [
        "# 6. Fazendo Tuning do Modelo\n",
        "\n",
        "Embora o Random Forest tenha apresentado o menor erro após a padronização dos dados, pode-se ainda otimizá-lo com o ajuste dos seus parâmetros.\n",
        "\n",
        "Faremos a mesma coisa como o algoritmo Decision Tree."
      ]
    },
    {
      "cell_type": "markdown",
      "metadata": {
        "id": "ur821lTwzRUM"
      },
      "source": [
        "**Random Forest**"
      ]
    },
    {
      "cell_type": "code",
      "metadata": {
        "id": "D04HudfQzlGp",
        "outputId": "cabcb67b-3823-4c61-be69-a03baa36b071",
        "colab": {
          "base_uri": "https://localhost:8080/",
          "height": 257
        }
      },
      "source": [
        "# # Definindo a escala\n",
        "scaler = StandardScaler()\n",
        "previsores = scaler.fit_transform(previsores)\n",
        "\n",
        "# Possíveis valores de estimators\n",
        "val_estimators = [20, 50, 100, 150, 200]\n",
        "\n",
        "# Possíveis valores para o critério de divisão\n",
        "val_criterion = ['gini', 'entropy']\n",
        "\n",
        "# Definindo um dicionário que recebe as listas de parâmetros e valores\n",
        "parametros_grid = dict(n_estimators = val_estimators,\n",
        "                       criterion = val_criterion)\n",
        "                      \n",
        "                       \n",
        "# Criando o modelo\n",
        "modelo_random = RandomForestClassifier()\n",
        "\n",
        "# Definindo K\n",
        "kfold = StratifiedKFold(n_splits=10, shuffle = True, random_state=12)\n",
        "\n",
        "# Testando diferentes combinações com os parâmetros\n",
        "grid = RandomizedSearchCV(estimator = modelo_random, param_distributions = parametros_grid, cv = kfold, scoring = 'accuracy')\n",
        "grid.fit(previsores, classe)\n",
        "\n",
        "# Print do resultado\n",
        "print(\"Grid scores on development set:\")\n",
        "means = grid.cv_results_['mean_test_score'].round(5)\n",
        "stds = grid.cv_results_['std_test_score'].round(5)\n",
        "\n",
        "for mean, std, params in zip(means, stds, grid.cv_results_['params']):\n",
        "    print(f'mean:{mean},std:{std},params:{params}')\n",
        "print()\n",
        "print(f'Melhor parâmetro:{grid.best_params_}, Score:{grid.best_score_}')"
      ],
      "execution_count": null,
      "outputs": [
        {
          "output_type": "stream",
          "text": [
            "Grid scores on development set:\n",
            "mean:0.85762,std:0.00317,params:{'n_estimators': 20, 'criterion': 'gini'}\n",
            "mean:0.85715,std:0.00444,params:{'n_estimators': 50, 'criterion': 'gini'}\n",
            "mean:0.85746,std:0.00365,params:{'n_estimators': 100, 'criterion': 'gini'}\n",
            "mean:0.85713,std:0.00353,params:{'n_estimators': 150, 'criterion': 'gini'}\n",
            "mean:0.85693,std:0.00379,params:{'n_estimators': 200, 'criterion': 'gini'}\n",
            "mean:0.85564,std:0.0035,params:{'n_estimators': 20, 'criterion': 'entropy'}\n",
            "mean:0.85742,std:0.0038,params:{'n_estimators': 50, 'criterion': 'entropy'}\n",
            "mean:0.85779,std:0.00346,params:{'n_estimators': 100, 'criterion': 'entropy'}\n",
            "mean:0.85709,std:0.00314,params:{'n_estimators': 150, 'criterion': 'entropy'}\n",
            "mean:0.85732,std:0.00302,params:{'n_estimators': 200, 'criterion': 'entropy'}\n",
            "\n",
            "Melhor parâmetro:{'n_estimators': 100, 'criterion': 'entropy'}, Score:0.8577864008979669\n"
          ],
          "name": "stdout"
        }
      ]
    },
    {
      "cell_type": "markdown",
      "metadata": {
        "id": "kRW25ZLcydNF"
      },
      "source": [
        "**Por que o Randomize?**\n",
        "\n",
        "O ``GridSearchCV`` é mais eficiente pois faz a combinação de todos os hiperparâmetros, contudo isso é muito custoso em termos de poder computacional e de tempo.\n",
        "\n",
        "O ``RandomizeSearchCV`` contrasta isso por configurar uma grade de valores de hiperparâmetros e seleciona combinações aleatórias para treinar o modelo e a retornar seus scores."
      ]
    },
    {
      "cell_type": "markdown",
      "metadata": {
        "id": "IGLkw36tzLd6"
      },
      "source": [
        "**DecisionTree**"
      ]
    },
    {
      "cell_type": "code",
      "metadata": {
        "id": "xVygtwJ9zlGt",
        "outputId": "35203f91-a31c-4123-d17b-5c56616e12c8",
        "colab": {
          "base_uri": "https://localhost:8080/",
          "height": 257
        }
      },
      "source": [
        "# Definindo a escala\n",
        "scaler = StandardScaler()\n",
        "previsores = scaler.fit_transform(previsores)\n",
        "\n",
        "# Definindo a profundidade máxima da árvore.\n",
        "max_depth = list(range(1, 31))\n",
        "\n",
        "# Possíveis valores para o critério de divisão\n",
        "val_criterion = ['gini', 'entropy']\n",
        "\n",
        "\n",
        "# Definindo um dicionário que recebe as listas de parâmetros e valores\n",
        "valores_grid = dict(criterion = val_criterion,\n",
        "                    max_depth = max_depth)\n",
        "\n",
        "# Criando o modelo\n",
        "tree = DecisionTreeClassifier()\n",
        "\n",
        "# Definindo K\n",
        "kfold = StratifiedKFold(n_splits=10, shuffle = True, random_state=12)\n",
        "\n",
        "# Testando diferenets combinações com os valores de K\n",
        "grid = RandomizedSearchCV(estimator = tree, param_distributions = valores_grid, cv = kfold, scoring = 'accuracy')\n",
        "grid.fit(previsores, classe)\n",
        "\n",
        "# Print do resultado  \n",
        "print(\"Grid scores on development set:\")\n",
        "means = grid.cv_results_['mean_test_score'].round(5)\n",
        "stds = grid.cv_results_['std_test_score'].round(5)\n",
        "\n",
        "for mean, std, params in zip(means, stds, grid.cv_results_['params']):\n",
        "    print(f'mean:{mean},std:{std},params:{params}')\n",
        "print()\n",
        "print(f'Melhor parâmetro:{grid.best_params_}, Score:{grid.best_score_}')"
      ],
      "execution_count": null,
      "outputs": [
        {
          "output_type": "stream",
          "text": [
            "Grid scores on development set:\n",
            "mean:0.85525,std:0.00481,params:{'max_depth': 19, 'criterion': 'gini'}\n",
            "mean:0.83918,std:0.00434,params:{'max_depth': 3, 'criterion': 'gini'}\n",
            "mean:0.85582,std:0.00499,params:{'max_depth': 18, 'criterion': 'gini'}\n",
            "mean:0.85422,std:0.00397,params:{'max_depth': 24, 'criterion': 'entropy'}\n",
            "mean:0.85828,std:0.00344,params:{'max_depth': 13, 'criterion': 'gini'}\n",
            "mean:0.85537,std:0.00449,params:{'max_depth': 21, 'criterion': 'gini'}\n",
            "mean:0.85406,std:0.00399,params:{'max_depth': 26, 'criterion': 'entropy'}\n",
            "mean:0.85791,std:0.00353,params:{'max_depth': 10, 'criterion': 'gini'}\n",
            "mean:0.85662,std:0.00346,params:{'max_depth': 20, 'criterion': 'entropy'}\n",
            "mean:0.85408,std:0.00507,params:{'max_depth': 30, 'criterion': 'gini'}\n",
            "\n",
            "Melhor parâmetro:{'max_depth': 13, 'criterion': 'gini'}, Score:0.8582778013893675\n"
          ],
          "name": "stdout"
        }
      ]
    },
    {
      "cell_type": "markdown",
      "metadata": {
        "id": "02MgoVVq0LqR"
      },
      "source": [
        "Veja que, por muito pouco, após a otimização dos parâmetros o **DecisionTree** se saiu melhor."
      ]
    },
    {
      "cell_type": "markdown",
      "metadata": {
        "id": "GSRTOt8k0YKp"
      },
      "source": [
        "# 7. Preparando a Versão Final do Modelo"
      ]
    },
    {
      "cell_type": "code",
      "metadata": {
        "id": "3ZphYVmEzlGw",
        "outputId": "c806a500-4e38-4c13-b3c1-36caf516e4f0",
        "colab": {
          "base_uri": "https://localhost:8080/",
          "height": 276
        }
      },
      "source": [
        "scaler = StandardScaler()\n",
        "previsores = scaler.fit_transform(previsores)\n",
        "modelo_tree = DecisionTreeClassifier(criterion='entropy', max_depth=14, random_state=12)\n",
        "modelo_tree.fit(previsores,classe)\n",
        "result_tree = cross_val_predict(modelo_tree,previsores, classe, cv=10)\n",
        "\n",
        "print(f'Acurácia: {accuracy_score(classe,result_tree)}')\n",
        "print('\\n',confusion_matrix(classe,result_tree))\n",
        "print('\\n',classification_report(classe,result_tree))"
      ],
      "execution_count": null,
      "outputs": [
        {
          "output_type": "stream",
          "text": [
            "Acurácia: 0.8584619794439212\n",
            "\n",
            " [[35043  2112]\n",
            " [ 4801  6886]]\n",
            "\n",
            "               precision    recall  f1-score   support\n",
            "\n",
            "           0       0.88      0.94      0.91     37155\n",
            "           1       0.77      0.59      0.67     11687\n",
            "\n",
            "    accuracy                           0.86     48842\n",
            "   macro avg       0.82      0.77      0.79     48842\n",
            "weighted avg       0.85      0.86      0.85     48842\n",
            "\n"
          ],
          "name": "stdout"
        }
      ]
    },
    {
      "cell_type": "markdown",
      "metadata": {
        "id": "SJ4xgu6J3exU"
      },
      "source": [
        "# 8. Persistindo o Modelo em Disco"
      ]
    },
    {
      "cell_type": "markdown",
      "metadata": {
        "id": "VLFKPQiU3eIH"
      },
      "source": [
        "**Persistindo com Pickle**"
      ]
    },
    {
      "cell_type": "code",
      "metadata": {
        "id": "hif3BSqJzlGz",
        "outputId": "9743a03b-8192-4426-a3c2-65ccb827dc5a",
        "colab": {
          "base_uri": "https://localhost:8080/",
          "height": 128
        }
      },
      "source": [
        "#filename = 'model_final.sav'\n",
        "pickle.dump(modelo_tree, open('modelo.sav', 'wb'))\n",
        "pickle.load(open('modelo.sav', 'rb'))"
      ],
      "execution_count": null,
      "outputs": [
        {
          "output_type": "execute_result",
          "data": {
            "text/plain": [
              "DecisionTreeClassifier(ccp_alpha=0.0, class_weight=None, criterion='entropy',\n",
              "                       max_depth=14, max_features=None, max_leaf_nodes=None,\n",
              "                       min_impurity_decrease=0.0, min_impurity_split=None,\n",
              "                       min_samples_leaf=1, min_samples_split=2,\n",
              "                       min_weight_fraction_leaf=0.0, presort='deprecated',\n",
              "                       random_state=12, splitter='best')"
            ]
          },
          "metadata": {
            "tags": []
          },
          "execution_count": 53
        }
      ]
    },
    {
      "cell_type": "markdown",
      "metadata": {
        "id": "neqxOXF84gvg"
      },
      "source": [
        "**Persistindo com Joblib**"
      ]
    },
    {
      "cell_type": "code",
      "metadata": {
        "id": "uv8PQFmf4il-",
        "outputId": "c1203387-866d-4538-8274-134ef8602e21",
        "colab": {
          "base_uri": "https://localhost:8080/",
          "height": 35
        }
      },
      "source": [
        "dump(modelo_tree,'modelo.pkl')"
      ],
      "execution_count": null,
      "outputs": [
        {
          "output_type": "execute_result",
          "data": {
            "text/plain": [
              "['modelo.pkl']"
            ]
          },
          "metadata": {
            "tags": []
          },
          "execution_count": 54
        }
      ]
    },
    {
      "cell_type": "markdown",
      "metadata": {
        "id": "JepPuiIT5vc9"
      },
      "source": [
        "**Carregando o modelo**"
      ]
    },
    {
      "cell_type": "code",
      "metadata": {
        "id": "7kJfK1JI7wDT"
      },
      "source": [
        "from joblib import load\n",
        "model=load('modelo.pkl')"
      ],
      "execution_count": null,
      "outputs": []
    },
    {
      "cell_type": "markdown",
      "metadata": {
        "id": "tZ2wzROauUES"
      },
      "source": [
        "# Obrigado!\n",
        "\n",
        "Obrigado por ter disponibilizado um pouco do seu tempo e atenção aqui. Espero que, de alguma forma, tenha sido útil para seu crescimento. Se houver qualquer dúvida ou sugestão, não hesite em entrar em contato no [LinkedIn](https://www.linkedin.com/in/daniel-sousa-amador) e verificar meus outros projetos no [GitHub](https://github.com/amadords).\n",
        "\n",
        "\n",
        "[![LinkedIn](https://img.shields.io/badge/LinkedIn-DanielSousaAmador-cyan.svg)](https://www.linkedin.com/in/daniel-sousa-amador)\n",
        "[![GitHub](https://img.shields.io/badge/GitHub-amadords-darkblue.svg)](https://github.com/amadords)\n",
        "[![Medium](https://img.shields.io/badge/Medium-DanielSousaAmador-white.svg)](https://daniel-s-amador.medium.com/)\n",
        "\n",
        "\n",
        "<center><img width=\"90%\" src=\"https://raw.githubusercontent.com/danielamador12/Portfolio/master/github.png\"></center>"
      ]
    }
  ]
}